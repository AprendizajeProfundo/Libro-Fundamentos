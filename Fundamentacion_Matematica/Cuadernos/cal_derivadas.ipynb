{
 "cells": [
  {
   "cell_type": "markdown",
   "metadata": {},
   "source": [
    "# <span style=\"color:#F72585\"><center>Introducción a la Derivación</center></span>"
   ]
  },
  {
   "cell_type": "markdown",
   "metadata": {},
   "source": [
    "<figure>\n",
    "<center>\n",
    "<img src=\"https://raw.githubusercontent.com/AprendizajeProfundo/Alejandria/main/Matematicas/Imagenes/Lockyer.png\" width=\"600\" height=\"400\" align=\"center\" /> \n",
    "</center>   \n",
    "</figure>\n",
    "<center>\n",
    "\n",
    "Fuente: <a href=\"https://commons.wikimedia.org/wiki/File:Lockyer_-_Astronomia,_1904_(page_54_crop).png\">Joseph Norman Lockyer</a>, Public domain, via Wikimedia Commons\n",
    "\n",
    "</center>\n"
   ]
  },
  {
   "cell_type": "markdown",
   "metadata": {},
   "source": [
    "## <span style=\"color:#4361EE\">Introducción</span>"
   ]
  },
  {
   "cell_type": "markdown",
   "metadata": {},
   "source": [
    "Las matemáticas han jugado un papel fundamental en la historia de la humanidad.\n",
    "\n",
    "Desde la **predicción** de [eventos astronómicos](https://es.wikipedia.org/wiki/Cometa_Halley), yendo por el establecimiento de un [modelo económico](https://es.wikipedia.org/wiki/Modelo_econ%C3%B3mico) más o menos estable, hasta el acortamiento de la segunda guerra mundial y la implementación tangible de la [inteligencia artificial](https://en.wikipedia.org/wiki/Gradient_descent).\n",
    "\n",
    "Recordemos que el conocimiento es **poder**. Por lo tanto, es natural que el ser humano haya concentrado gran parte de su tiempo en acumular conocimiento para poder controlar la sociedad y brindarle un orden.\n",
    "\n",
    "_El conocimiento enseña, moldea y permite crecer._\n",
    "\n",
    "Pero más que un conocimiento puro sobre las cosas, la matemática guía el camino del conocimiento hacia un sendero fortuito: la capacidad de **predecir el futuro**."
   ]
  },
  {
   "cell_type": "markdown",
   "metadata": {},
   "source": [
    "| | | |\n",
    "|-------------------------|-------------------------|-------------------------|\n",
    "|<img src=\"https://raw.githubusercontent.com/AprendizajeProfundo/Libro-Fundamentos/main/Fundamentacion_Matematica/Imagenes/cal_Dragon_SpaceX.jpg\" width=300 height=300 >|<img src=\"https://raw.githubusercontent.com/AprendizajeProfundo/Libro-Fundamentos/main/Fundamentacion_Matematica/Imagenes/cal_BalloonGirl.jpg\" width=200 height=300>|<img src=\"https://raw.githubusercontent.com/AprendizajeProfundo/Libro-Fundamentos/main/Fundamentacion_Matematica/Imagenes/cal_Ducati.png\" width=300 height=300>|\n"
   ]
  },
  {
   "cell_type": "markdown",
   "metadata": {},
   "source": [
    "## <span style=\"color:#4361EE\">Concepto de Derivada</span>"
   ]
  },
  {
   "cell_type": "markdown",
   "metadata": {},
   "source": [
    "A comparación de todo lo que se pudiese pensar, las matemáticas están en todas partes.\n",
    "\n",
    "En particular, el concepto de derivada lo experimentamos todos los días, en todo momento.\n",
    "\n",
    "Esto es debido al hecho de que la derivada es el mismísimo concepto de la percepción de **cambio** o **movimiento**.\n",
    "\n",
    "**Si podemos percibir el presente y el pasado, podemos notar que cambios hubo, comparando nuestro presente con nuestro pasado.**\n",
    "\n",
    "Son precisamente esos cambios, respecto a una escala de medición (por ejemplo, el tiempo), lo que consideramos una **razón de cambio**.\n",
    "\n",
    "**Ejemplos:**\n",
    "\n",
    "- Salir a correr y medir el tiempo que ha tardado cada 100 metros.\n",
    "- Subir o bajar el volumen de su equipo de sonido con una perilla, midiendo ángulos y tiempo.\n",
    "- Hacer un censo en su barrio cada año.\n",
    "- Contar el número de flores que encuentre cada metro cuadrado desde un punto de referencia y en forma rectangular.\n",
    "- Mida en intervalos de tiempo de 10 segundos la temperatura de su café hasta que esté frío por completo. \n",
    "\n",
    "Ahora, si se pudiesen medir todas estas cosas, pero de manera muy rápida (algo cuestionable, pero ideal), el resultado de ese **cambio instantáneo** es lo que se conoce como la **derivada** de una cantidad respecto a otra."
   ]
  },
  {
   "cell_type": "markdown",
   "metadata": {},
   "source": [
    "### <span style=\"color:#4CC9F0\">Intuición</span>"
   ]
  },
  {
   "cell_type": "markdown",
   "metadata": {},
   "source": [
    "Hay derivadas en todo lo que hacemos. \n",
    "\n",
    "Averigue sobre el concepto del Tao y conciencia del movimiento.\n",
    "\n",
    "- *Imagine que está caminando por la calle.*\n",
    "\n",
    "- *Sea consciente de su movimiento.*\n",
    "\n",
    "- *¿Va lento?, ¿Va tarde?, ¿Debe ir más rápido para tomar el bus?*\n",
    "\n",
    "- *Respire. Corra. Sea Consciente. Reflexione.*\n",
    "\n",
    "- *Ir más rápido acelera el pulso de su corazón.*\n",
    "\n",
    "- *Descanse en el bus. Hay quietud.*\n",
    "\n",
    "Las cosas que alteran los estado naturales de las cosas, esos **cambios**, son percibidos por nuestra mente de manera continua.\n",
    "\n",
    "Tómese el tiempo para reflexionar sobre  si ha sido consciente durante su vida en los cambios que están a su alrededor. \n",
    "\n",
    "**Si no lo ha hecho, ya viene siendo hora.**\n"
   ]
  },
  {
   "cell_type": "markdown",
   "metadata": {},
   "source": [
    "[Cómo entender las Matemáticas](http://entenderlasmates.blogspot.com/2017/11/aplicaciones-de-la-derivada-en-la-vida.html)"
   ]
  },
  {
   "cell_type": "markdown",
   "metadata": {},
   "source": [
    "<figure>\n",
    "<center>\n",
    "<img src=\"https://vignette.wikia.nocookie.net/tractors/images/5/59/Animated_Aston_Martin_Speedometer.gif/revision/latest?cb=20140410040904\" height='300' width='300' />\n",
    "</center>\n",
    "</figure>\n"
   ]
  },
  {
   "cell_type": "markdown",
   "metadata": {},
   "source": [
    "### <span style=\"color:#4CC9F0\">Concepto Geométrico</span>"
   ]
  },
  {
   "cell_type": "markdown",
   "metadata": {},
   "source": [
    "#### Dibujos ilustrativos del cambio"
   ]
  },
  {
   "cell_type": "markdown",
   "metadata": {},
   "source": [
    "||||\n",
    "|--|--|--|\n",
    "|<img src=../Images/Intro_Derivatives/derivative2.gif width=500 height=300>|<img src=../Images/Intro_Derivatives/derivative.gif width=500 height=300>|<img src=../Images/Intro_Derivatives/derivative3.gif width=500 height=300>|"
   ]
  },
  {
   "cell_type": "markdown",
   "metadata": {},
   "source": [
    "### <span style=\"color:#4CC9F0\">Lenguaje Matemático</span>"
   ]
  },
  {
   "cell_type": "markdown",
   "metadata": {},
   "source": [
    "#### Definición matemática"
   ]
  },
  {
   "cell_type": "markdown",
   "metadata": {},
   "source": [
    "$$\\frac{df}{dx}=f'(x)=\\lim_{\\Delta x \\to 0}\\frac{\\Delta f}{\\Delta x}= \\lim_{\\text{cambio en x va a cero}}\\frac{\\text{cambio en f}}{\\text{cambio en x}}$$\n",
    "\n",
    "Ese $\\lim_{\\Delta x \\to 0}$ no es nada más que la manera formal de decir:\n",
    "\n",
    "\n",
    "\"*Estoy tomando muchas mediciones, muy rápido. Tan rápido que no puedo percibir donde termina una y donde comienza otra*\".\n"
   ]
  },
  {
   "cell_type": "markdown",
   "metadata": {},
   "source": [
    "```{warning} \n",
    "No todas las funciones se pueden derivar bajo esta definición. Las más inocentes funciones pueden fallar en tener una derivada clásica consistente. Sin embargo, los matemáticos se han encargado de incursionar en estas profundidades de lo extraño y, desde el siglo XX, ya fue posible derivar casi todo, usando un concepto llamado [Derivada Distribucional](https://en.wikipedia.org/wiki/Distribution_(mathematics)#History). Este concepto se sale del alcance de este curso, pero es bastante interesante.\n",
    "```"
   ]
  },
  {
   "cell_type": "markdown",
   "metadata": {},
   "source": [
    "Sin entrar en los detalles, podemos plasmar algunas propiedades de esta derivada:\n",
    "\n",
    "- $(f\\pm g)'=f'\\pm g'$ (Divide y Conquista)\n",
    "- $(f\\cdot g)'=f'g+fg'$ (Cada cosa tiene su cambio)\n",
    "- $(\\frac{f}{g})'=\\frac{f'g-fg'}{g^2}$ (WTF property)\n",
    "- $(f \\circ g)'= f'(g)\\cdot g'=\\frac{df}{dg}\\frac{dg}{dx}$ (Chain's Rule, regla de la cadena)\n",
    "\n",
    "De todas las anteriores, la más importante es quizá la regla de la cadena.\n",
    "\n",
    "Esta nos asegura una verdad muy interesante: \n",
    "\n",
    "**No importa que tan complicada sea tu función derivable, podrás derivar, siempre y cuando lo hagas bien.**\n",
    "\n",
    "Por eso enseñamos cálculo diferencial, pues muchas funciones son posible derivarlas. No importa que tan largo, que tan alto, siempre podremos escrudiñar desde afuera hacia adentro y encontrar una respuesta final. \n",
    "\n",
    "Todo se convierte a la final, en multiplicaciones, sumas (o restas) y quizá divisiones.\n",
    "\n",
    "Este hecho es muy importante, pues es la base de lo que hoy se conoce como **Diferenciación Automática**."
   ]
  },
  {
   "cell_type": "markdown",
   "metadata": {},
   "source": [
    "## <span style=\"color:#4361EE\">Derivada como Aproximación Lineal</span> "
   ]
  },
  {
   "cell_type": "markdown",
   "metadata": {},
   "source": [
    "Una forma, quizá más ilustrativa de entender la derivada, es que resume comportamientos complejos en términos de líneas rectas.\n",
    "\n",
    "En dimensiones superiores, serán hiperplanos.\n",
    "\n",
    "O sea, en vez de analizar una función complicada, podemos usar las derivadas en cada uno de sus puntos para saber su comportamiento cercano.\n",
    "\n",
    "En términos matemáticos: **La derivada es la mejor aproximación lineal de una función en un punto dado.**"
   ]
  },
  {
   "cell_type": "markdown",
   "metadata": {},
   "source": [
    "<figure>\n",
    "<center>\n",
    "<img src=\"https://s3-us-west-2.amazonaws.com/courses-images-archive-read-only/wp-content/uploads/sites/923/2015/04/25173952/CNX_Precalc_Figure_12_04_0082.jpg\" height='300' width='300' />\n",
    "</center>\n",
    "</figure>\n",
    "\n",
    "Fuente: [AWS](https://s3-us-west-2.amazonaws.com/courses-images-archive-read-only/wp-content/uploads/sites/923/2015/04/25173952/CNX_Precalc_Figure_12_04_0082.jpg)"
   ]
  },
  {
   "cell_type": "markdown",
   "metadata": {},
   "source": [
    "## <span style=\"color:#4361EE\">Formas de Cálculo</span>  "
   ]
  },
  {
   "cell_type": "markdown",
   "metadata": {},
   "source": [
    "### <span style=\"color:#4CC9F0\">Derivada Simbólica </span>"
   ]
  },
  {
   "cell_type": "markdown",
   "metadata": {},
   "source": [
    "Si bien la definición de límite puede llegar a ser algo fastidiosa y tediosa, mediante ella se han logrado hallar varias derivadas:\n",
    "<br></br>\n",
    "\n",
    "$$\\frac{d(\\text{número})}{dx}=0$$ \n",
    "\n",
    "$$\\frac{d(x)}{dx}=1$$\n",
    "\n",
    "$$\\frac{d(w_1x+w_0)}{dx}=w_1$$\n",
    "\n",
    "$$\\frac{d(w_2x^2+w_1x+w_0)}{dx}=2w_2x+w_1$$\n",
    "\n",
    "$$\\dots$$\n",
    "\n",
    "$$\\frac{d(x^n)}{dx}=nx^{n-1}$$\n",
    "\n",
    "Y así, hay muchas más...\n",
    "\n",
    "**Sin embargo, este no es un curso de cálculo diferencial.**\n",
    "\n",
    "Para los interesados, pueden ver la tabla de las derivadas más comunes [aquí](https://lasmatematicas.eu/docs/bachillerato/2bach/mat-ccss2/ap/derivadas.pdf).\n",
    "\n",
    "De todas maneras, es posible obtener un paquete para realizar derivación simbólica. Por ejemplo, usando el paquete [sympy](https://www.sympy.org/es/) de Python."
   ]
  },
  {
   "cell_type": "markdown",
   "metadata": {},
   "source": [
    "### <span style=\"color:#4CC9F0\">Ejemplo</span>"
   ]
  },
  {
   "cell_type": "code",
   "execution_count": null,
   "metadata": {},
   "outputs": [],
   "source": [
    "# pip install sympy\n",
    "\n",
    "from sympy import *\n",
    "x, y, z = symbols('x y z')\n",
    "init_printing(use_unicode=True)\n",
    "\n",
    "print(\"\\ncos(x)' =\",diff(cos(x), x),\"\\n\")\n",
    "\n",
    "diff(exp(x**2), x)"
   ]
  },
  {
   "cell_type": "markdown",
   "metadata": {},
   "source": [
    "Calculemos, por ejemplo:\n",
    "\n",
    "$$\\frac{\\partial^7}{\\partial x\\partial y^2\\partial z^4} e^{x y z}$$"
   ]
  },
  {
   "cell_type": "code",
   "execution_count": null,
   "metadata": {},
   "outputs": [],
   "source": [
    "expr = exp(x*y*z)\n",
    "diff(expr, x, y, y, z, z, z, z)"
   ]
  },
  {
   "cell_type": "markdown",
   "metadata": {},
   "source": [
    "### <span style=\"color:#4CC9F0\">Derivada Numérica</span>"
   ]
  },
  {
   "cell_type": "markdown",
   "metadata": {},
   "source": [
    "Como pudimos observar en la definición matemática de la derivada, se hace necesario usar la maquinaria de un objeto abstracto llamado límite.\n",
    "\n",
    "Sin embargo, para calcular un límite en la vida real, tendríamos que recolectar información infinitamente cerca entre mediciones, lo cual no es manejable para un computador. \n",
    "\n",
    "Para estos propósitos, se puede hablar de un concepto numérico: No es necesario calcular un límite, pero sí\n",
    "\n",
    "$$f'(x_i)\\approx \\frac{\\Delta f }{\\Delta x}\\bigg|_{x_{i}}=\\frac{f(x_{i+1})-f(x_i)}{x_{i+1}-x_i}$$\n",
    "\n",
    "Donde dicho cociente representa el cambio entre mediciones sucesivas. No se pone $\\Delta x$, pues no necesariamente las mediciones fueron tomadas de manera uniforme.\n",
    "\n",
    "Este procedimiento es conocido como **diferencias finitas**, y es muy útil por ejemplo, para solucionar ecuaciones diferenciales (ordinarias o parciales).\n"
   ]
  },
  {
   "cell_type": "markdown",
   "metadata": {},
   "source": [
    "<figure>\n",
    "<center>\n",
    "<img src=\"https://upload.wikimedia.org/wikipedia/commons/thumb/9/90/Finite_difference_method.svg/1024px-Finite_difference_method.svg.png\" height='500' width='500' />\n",
    "</center>\n",
    "</figure>\n",
    "\n",
    "Fuente: [Wikipedia](https://en.wikipedia.org/wiki/File:Finite_difference_method_2.svg#/media/File:Finite_difference_method_2.svg)"
   ]
  },
  {
   "cell_type": "markdown",
   "metadata": {},
   "source": [
    "### <span style=\"color:#4CC9F0\">Ejemplo</span>"
   ]
  },
  {
   "cell_type": "code",
   "execution_count": null,
   "metadata": {},
   "outputs": [],
   "source": [
    "import numpy as np\n",
    "import matplotlib.pyplot as plt\n",
    "\n",
    "def Num_Der(x,y):\n",
    "    \n",
    "    x=np.array(x)\n",
    "    y=np.array(y)\n",
    "    n=len(x)-1\n",
    "    ΔyΔx=np.empty(n)\n",
    "    \n",
    "    for i in range(n):\n",
    "        \n",
    "        Δx=x[i+1]-x[i]\n",
    "        Δy=y[i+1]-y[i]\n",
    "        ΔyΔx[i]=Δy/Δx\n",
    "        \n",
    "    return ΔyΔx\n",
    "\n",
    "x=np.linspace(-10,10,100)\n",
    "f=x**2*np.sin(x)#+np.random.normal(0,0.01,len(x))\n",
    "\n",
    "df=Num_Der(x,f)\n",
    "\n",
    "plt.figure(figsize=(15,8))\n",
    "plt.title(\"Ejemplo de Diferenciación Numérica\",fontsize=15)\n",
    "plt.plot(x,f,'bo-',label=\"$f(x)=x^2\\sin(x)$\")\n",
    "plt.plot(x[:-1],df,'ro--',label=\"Derivada Numérica (No hay fólmula)\")\n",
    "plt.xlabel(\"x\",fontsize=15)\n",
    "plt.ylabel(\"y\",fontsize=15)\n",
    "plt.legend(fontsize=15)\n",
    "plt.grid()\n",
    "plt.show()"
   ]
  },
  {
   "cell_type": "code",
   "execution_count": null,
   "metadata": {},
   "outputs": [],
   "source": [
    "x = symbols('x')\n",
    "diff(x**2*sin(x), x)"
   ]
  },
  {
   "cell_type": "markdown",
   "metadata": {},
   "source": [
    "### <span style=\"color:#4CC9F0\">Diferenciación Automática</span>"
   ]
  },
  {
   "cell_type": "markdown",
   "metadata": {},
   "source": [
    "El problema con los tipos anteriores de calcular derivadas es que, si bien puede ser un trauma la matemática de colegio y es un gran filtro para carreras en ciencias, el no poder derivar simbólicamente de manera correcta en los primeros semestres de universidad, es que su **implementación computacional** no es el más eficiente debido al tiempo que este tarda en devolver una respuesta.\n",
    "\n",
    "Por otro lado, como vimos, la derivada numérica puede ser objeto de abusos computacionales como es la pérdida de precisión y hasta la cancelación catastrófica.\n",
    "\n",
    "También, si los datos que manejamos tienen ruido o incertidumbre, eso se replicará de forma amplificada en la derivada numérica.\n",
    "\n",
    "Recordemos que para nuestros propósitos de Aprendizaje Profundo, queremos calcular derivadas (Ya veremos porqué), pero no queremos perder precisión en el camino y menos aún sabiendo que estimaremos millones, quizá billones de parámetros.\n",
    "\n",
    "Hay algo más inteligente que podemos hacer al respecto, y eso es usar un paquete que permita derivar de manera automática (**Gracias Regla de la Cadena**).\n",
    "\n",
    "Más adelante se hará una introducción propia a este concepto, que es bastante interesante (y de hecho es la espina dorsal del Aprendizaje Profundo), por lo que tan sólo se ilustrará mediante gráfico y se hará un ejemplo.\n",
    "\n"
   ]
  },
  {
   "cell_type": "markdown",
   "metadata": {},
   "source": [
    "<figure>\n",
    "<center>\n",
    "<img src=\"https://upload.wikimedia.org/wikipedia/commons/thumb/3/3c/AutomaticDifferentiationNutshell.png/1920px-AutomaticDifferentiationNutshell.png\" height='500' width='500' />\n",
    "</center>\n",
    "</figure>\n",
    "\n",
    "Fuente: [Wikipedia](https://commons.wikimedia.org/wiki/File:AutomaticDifferentiationNutshell.png#/media/File:AutomaticDifferentiationNutshell.png)"
   ]
  },
  {
   "cell_type": "markdown",
   "metadata": {},
   "source": [
    "### <span style=\"color:#4CC9F0\">Ejemplo</span>"
   ]
  },
  {
   "cell_type": "code",
   "execution_count": null,
   "metadata": {},
   "outputs": [],
   "source": [
    "from jax import grad,jit,vmap\n",
    "import jax.numpy as jnp\n",
    "\n",
    "x=jnp.linspace(-5,5,100)\n",
    "grad_f=jit(vmap(grad(jnp.tanh)))\n",
    "g2=jit(vmap(grad(grad(jnp.tanh))))\n",
    "g3=jit(vmap(grad(grad(grad(jnp.tanh)))))\n",
    "\n",
    "plt.figure(figsize=(15,8))\n",
    "#plt.plot(x,y,'o')\n",
    "plt.plot(x,np.tanh(x))\n",
    "plt.plot(x,grad_f(x))\n",
    "plt.plot(x,g2(x))\n",
    "plt.plot(x,g3(x))\n",
    "\n",
    "plt.xlabel(\"Mediciones\",fontsize=15)\n",
    "plt.ylabel(\"Observaciones\",fontsize=15)\n",
    "plt.legend([\"Datos\"],fontsize=15)\n",
    "plt.grid()\n",
    "plt.show()"
   ]
  }
 ],
 "metadata": {
  "kernelspec": {
   "display_name": "Python 3.9.13 ('work')",
   "language": "python",
   "name": "python3"
  },
  "language_info": {
   "codemirror_mode": {
    "name": "ipython",
    "version": 3
   },
   "file_extension": ".py",
   "mimetype": "text/x-python",
   "name": "python",
   "nbconvert_exporter": "python",
   "pygments_lexer": "ipython3",
   "version": "3.9.13"
  },
  "vscode": {
   "interpreter": {
    "hash": "3620b340ed2ed479d71e72c732c6d6a6eac39d8adbece51414abdea5ed84aec5"
   }
  }
 },
 "nbformat": 4,
 "nbformat_minor": 4
}
