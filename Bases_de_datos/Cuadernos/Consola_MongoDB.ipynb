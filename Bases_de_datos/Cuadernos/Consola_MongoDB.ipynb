{
 "cells": [
  {
   "cell_type": "markdown",
   "id": "194c84f2-9bc7-4ee4-9cca-4f473fe04b11",
   "metadata": {},
   "source": [
    "# <span style=\"color:#F72585\"><center>MongoDB Shell</center></span></center></span>"
   ]
  },
  {
   "cell_type": "markdown",
   "id": "fc147fcc-2fa9-4f6e-8818-f0b9611fc97f",
   "metadata": {},
   "source": [
    "Desde consola podemos acceder a bases de datos locales y remotas."
   ]
  },
  {
   "cell_type": "markdown",
   "id": "cc1f3014-fb96-4656-8fe2-526dc158492f",
   "metadata": {},
   "source": [
    "Para el caso de la base de datos remota usaremos la proporcionada por **Atlas**."
   ]
  },
  {
   "cell_type": "markdown",
   "id": "80a2f665-eb28-4d13-bb07-e515989c0168",
   "metadata": {
    "tags": []
   },
   "source": [
    "## <span style=\"color:#4361EE\">Conexión con la base de datos</span> "
   ]
  },
  {
   "cell_type": "markdown",
   "id": "95967ff9-c6cf-49bd-a1ce-873ce94e820d",
   "metadata": {
    "tags": []
   },
   "source": [
    "### <span style=\"color:#4CC9F0\">Local</span>"
   ]
  },
  {
   "cell_type": "markdown",
   "id": "5f4c54a6-0bf5-480d-8a7b-26f68278e835",
   "metadata": {},
   "source": [
    "1. Escribimos en comando `mongod` para iniciar la base de datos.\n",
    "\n",
    "2. Luego utilizamos el comando `mongosh` para abrir la MongoDB Shell."
   ]
  },
  {
   "cell_type": "markdown",
   "id": "a5f0abd1-36b6-4b8a-b186-ce5b6cad51be",
   "metadata": {},
   "source": [
    "```powershell\n",
    "Input:\n",
    "\n",
    "> mongod\n",
    "\n",
    "> mongosh\n",
    "\n",
    "Output:\n",
    "\n",
    "test>\n",
    "```"
   ]
  },
  {
   "cell_type": "markdown",
   "id": "06172148-cdd9-495c-8d80-09064d13919b",
   "metadata": {
    "tags": []
   },
   "source": [
    "### <span style=\"color:#4CC9F0\">Remota</span>"
   ]
  },
  {
   "cell_type": "markdown",
   "id": "12b4c5f7-af41-4103-bb0d-a3a5399465bf",
   "metadata": {},
   "source": [
    "1. Ingresamos a [Atlas](https://cloud.mongodb.com) y vamos a nuestra base de datos.\n",
    "\n",
    "2. Hacemos clic en `Connect`."
   ]
  },
  {
   "cell_type": "markdown",
   "id": "d90ff3e8-30ce-42aa-a08c-7e4c91744da2",
   "metadata": {},
   "source": [
    "<figure>\n",
    "<center>\n",
    "<img src=\"https://raw.githubusercontent.com/AprendizajeProfundo/Libro-Fundamentos/main/Bases_de_datos/Imagenes/Consola_MongoDB/consola_mongodb1.png\" width=\"900\" height=\"800\" align=\"center\"/>\n",
    "</center>\n",
    "</figure>\n",
    "\n",
    "\n",
    "Fuente: [mongodb.com](https://www.mongodb.com/try/download/community)"
   ]
  },
  {
   "cell_type": "markdown",
   "id": "7269f398-c5bf-485a-bb1c-dde2147222a7",
   "metadata": {},
   "source": [
    "3. Seleccionamos `Connect with the MongoDB Shell`."
   ]
  },
  {
   "cell_type": "markdown",
   "id": "9d437481-4313-4b93-8aa2-aa5a69b6a1ce",
   "metadata": {},
   "source": [
    "<figure>\n",
    "<center>\n",
    "<img src=\"https://raw.githubusercontent.com/AprendizajeProfundo/Libro-Fundamentos/main/Bases_de_datos/Imagenes/Consola_MongoDB/consola_mongodb2.png\" width=\"900\" height=\"800\" align=\"center\"/>\n",
    "</center>\n",
    "</figure>\n",
    "\n",
    "\n",
    "Fuente: [mongodb.com](https://www.mongodb.com/try/download/community)"
   ]
  },
  {
   "cell_type": "markdown",
   "id": "48a6f5cc-ee48-4262-9d0b-f73aba6f2bb2",
   "metadata": {},
   "source": [
    "4. Damos clic en `I have the MongoDB Shell installed`.\n",
    "\n",
    "5. En *Select your mongo shell version* seleccionamos `mongosh`.\n",
    "\n",
    "6. En *Run your connection string in your command line* nos indica el comando que debemos utilizar para conectarnos, copiaremos este código."
   ]
  },
  {
   "cell_type": "markdown",
   "id": "0385081e-37f9-4eb4-954b-a41136d62c63",
   "metadata": {},
   "source": [
    "<figure>\n",
    "<center>\n",
    "<img src=\"https://raw.githubusercontent.com/AprendizajeProfundo/Libro-Fundamentos/main/Bases_de_datos/Imagenes/Consola_MongoDB/consola_mongodb3.png\" width=\"900\" height=\"800\" align=\"center\"/>\n",
    "</center>\n",
    "</figure>\n",
    "\n",
    "\n",
    "Fuente: [mongodb.com](https://www.mongodb.com/try/download/community)"
   ]
  },
  {
   "cell_type": "markdown",
   "id": "754678e6-cfe4-4d9d-ab1d-92234b764839",
   "metadata": {},
   "source": [
    "7. Pegaremos en la consola de comandos.\n",
    "\n",
    "8. Nos pedirá la contraseña de acceso, deberemos entonces digitarla y dar `enter`."
   ]
  },
  {
   "cell_type": "markdown",
   "id": "428850a0-83d4-447e-a949-fea72008108c",
   "metadata": {},
   "source": [
    "```powershell\n",
    "Input:\n",
    "\n",
    "> mongosh \"mongodb+srv://cluster0.fjwqcec.mongodb.net/myFirstDatabase\" --apiVersion 1 --username user_1\n",
    "\n",
    "> Enter password: ***********\n",
    "\n",
    "Output:\n",
    "\n",
    "Atlas atlas-efer98-shard-0 [primary] myFirstDatabase> \n",
    "\n",
    "```"
   ]
  },
  {
   "cell_type": "markdown",
   "id": "a019ac87-6588-4d42-9f8d-0ce539d2b3fa",
   "metadata": {},
   "source": [
    "`````{admonition} ¡Importante!\n",
    ":class: important\n",
    "Recuerda que la IP desde la cual vayas a ingresar debe estar añadida en Atlas, de lo contrario no podrás acceder.\n",
    "`````"
   ]
  },
  {
   "cell_type": "markdown",
   "id": "8ceec405-7c91-4ad9-a2e7-e56f9659a68e",
   "metadata": {
    "tags": []
   },
   "source": [
    "## <span style=\"color:#4361EE\">Importar</span> "
   ]
  },
  {
   "cell_type": "markdown",
   "id": "936a599d-7c44-4e76-ae4d-46935c5acf89",
   "metadata": {
    "tags": []
   },
   "source": [
    "### <span style=\"color:#4CC9F0\">Importar documentos</span>"
   ]
  },
  {
   "cell_type": "markdown",
   "id": "3a45587c-9aed-4b9e-abf3-281336599c4b",
   "metadata": {},
   "source": [
    "```powershell\n",
    "mongoimport --db <base de datos> --collection <colección> --legacy <ruta del archivo .json>\n",
    "```"
   ]
  },
  {
   "cell_type": "markdown",
   "id": "54cff9e7-3ad9-4081-892e-3c9ef7af302c",
   "metadata": {
    "tags": []
   },
   "source": [
    "## <span style=\"color:#4361EE\">Comandos básicos</span> "
   ]
  },
  {
   "cell_type": "markdown",
   "id": "63b48d19-ff61-458c-a5f9-fe5080a59b2f",
   "metadata": {},
   "source": [
    "En esta sección veremos los comandos para poder visualizar, crear y eliminar bases de datos, colecciones y documentos."
   ]
  },
  {
   "cell_type": "markdown",
   "id": "bf496738-f778-49ae-9d72-8c72037ac4fd",
   "metadata": {
    "tags": []
   },
   "source": [
    "### <span style=\"color:#4CC9F0\">Mostrar bases de datos existentes</span>"
   ]
  },
  {
   "cell_type": "markdown",
   "id": "4ebd17ec-9a6e-4517-bc95-67e09051666c",
   "metadata": {},
   "source": [
    "Podemos utilizar cualquiera de estos dos comandos `show databases;` o `show dbs;`."
   ]
  },
  {
   "cell_type": "markdown",
   "id": "dcc9f7e8-0344-48a3-8bf1-50f42fd13cd1",
   "metadata": {},
   "source": [
    "```powershell\n",
    "Input: \n",
    "\n",
    "> show databases;\n",
    "\n",
    "> show dbs;\n",
    "\n",
    "Output:\n",
    "\n",
    "admin   0.000GB\n",
    "config  0.000GB\n",
    "local   0.000GB\n",
    "```\n"
   ]
  },
  {
   "cell_type": "markdown",
   "id": "c347a1b7-c18c-466e-9ba8-7ae3bfc9c19e",
   "metadata": {
    "tags": []
   },
   "source": [
    "### <span style=\"color:#4CC9F0\">Mostrar base de datos en la que estamos</span>"
   ]
  },
  {
   "cell_type": "markdown",
   "id": "a0c941ad-3903-461f-81fe-c6fe24d78b17",
   "metadata": {},
   "source": [
    "Usamos el comando `db;`."
   ]
  },
  {
   "cell_type": "markdown",
   "id": "00884b50-3770-4c5b-9167-91f6f8c8b708",
   "metadata": {},
   "source": [
    "```powershell\n",
    "Input:\n",
    "\n",
    "> db;\n",
    "\n",
    "Output:\n",
    "\n",
    "test\n",
    "```"
   ]
  },
  {
   "cell_type": "markdown",
   "id": "4fbdb01f-2a3e-43f9-b530-acf0d3f1114b",
   "metadata": {
    "tags": []
   },
   "source": [
    "### <span style=\"color:#4CC9F0\">Crear nuestra primera base de datos</span>"
   ]
  },
  {
   "cell_type": "markdown",
   "id": "75a68269-f7c5-461d-87cc-83be1e6eaf78",
   "metadata": {},
   "source": [
    "Utilizamos el comando `use <nombre base de datos>;`."
   ]
  },
  {
   "cell_type": "markdown",
   "id": "5d99dca0-c5c7-4578-bc86-b98a31bebcd8",
   "metadata": {},
   "source": [
    "```powershell\n",
    "Input:\n",
    "\n",
    "> use banco;\n",
    "\n",
    "Output:\n",
    "\n",
    "switched to db banco\n",
    "```"
   ]
  },
  {
   "cell_type": "markdown",
   "id": "39a29efd-6e22-4162-9e58-1b8a66f49817",
   "metadata": {},
   "source": [
    "Este comando nos permite tanto crear una nueva base de datos, así como ingresar a una base de datos ya existente."
   ]
  },
  {
   "cell_type": "markdown",
   "id": "d3c16fbc-48b7-41be-b1c8-699b20da33ee",
   "metadata": {
    "tags": []
   },
   "source": [
    "### <span style=\"color:#4CC9F0\">Crear un documento</span>"
   ]
  },
  {
   "cell_type": "markdown",
   "id": "a96d7220-14ba-4e7d-94a1-051de1b26e42",
   "metadata": {},
   "source": [
    "Al crear un documento podemos asignarlo a una variable, en este caso a la variable `pregunta_1`."
   ]
  },
  {
   "cell_type": "markdown",
   "id": "6f051f08-7156-459f-8019-d8fe8844e67a",
   "metadata": {},
   "source": [
    "```powershell\n",
    "Input:\n",
    "\n",
    "> pregunta_1 = {\n",
    "    'autor': 'Camilo Chitivo',\n",
    "    'cuaderno': 'nlp_Introduccion',\n",
    "    'dificultad': 1,\n",
    "    'tipo de pregunta': 1,\n",
    "    'pregunta': '¿Qué es un corpus',\n",
    "    'opciones': ['Son los sujetos en los análisis textual superficial.',\n",
    "                 'Es una colección de documentos',\n",
    "                 'Palabras y sus significados',\n",
    "                 'Es una parte del cuerpo humano'],\n",
    "    'respuestas': ['Es una colección de documentos']  \n",
    "}\n",
    "\n",
    "Output:\n",
    "\n",
    "{\n",
    " 'autor': 'Camilo Chitivo',\n",
    " 'cuaderno': 'nlp_Introduccion',\n",
    " 'dificultad': 1,\n",
    " 'tipo de pregunta': 1,\n",
    " 'pregunta': '¿Qué es un corpus',\n",
    " 'opciones': ['Son los sujetos en los análisis textual superficial.',\n",
    "              'Es una colección de documentos',\n",
    "              'Palabras y sus significados',\n",
    "              'Es una parte del cuerpo humano'],\n",
    " 'respuestas': ['Es una colección de documentos']  \n",
    "}\n",
    "```"
   ]
  },
  {
   "cell_type": "markdown",
   "id": "b6b522d0-bba7-4c99-b259-91c2ae033966",
   "metadata": {
    "tags": []
   },
   "source": [
    "### <span style=\"color:#4CC9F0\">Crear una colección</span>"
   ]
  },
  {
   "cell_type": "markdown",
   "id": "eb128c2e-7ca7-400e-b8a5-97426ab6ee33",
   "metadata": {},
   "source": [
    "Para crear una nueva colección a una base de datos simplemente inserte un documento indicando el nombre de la nueva colección.\n",
    "\n",
    "Tener presente siempre encontrarse en la base de datos a la cual desea crear la nueva colección."
   ]
  },
  {
   "cell_type": "markdown",
   "id": "69ab04bc-e41e-4fe1-8944-9ddcb18e9a3a",
   "metadata": {
    "tags": []
   },
   "source": [
    "### <span style=\"color:#4CC9F0\">Añadir documentos a colecciones</span>"
   ]
  },
  {
   "cell_type": "markdown",
   "id": "20348699-171b-4724-ae0a-c1fb0f6c58de",
   "metadata": {},
   "source": [
    "Podemos ingresar a una colección un único documento así como múltiples documentos."
   ]
  },
  {
   "cell_type": "markdown",
   "id": "b72ddaef-e6b9-48d1-862b-40e01ad17cfe",
   "metadata": {},
   "source": [
    "#### **Añadir solo un documento**"
   ]
  },
  {
   "cell_type": "markdown",
   "id": "2bf761c1-da7f-4e4f-be67-cbc2b0b12794",
   "metadata": {},
   "source": [
    "Podemos poner como parámetro una variable la cual contenga el documento a insertar (como en este caso), así como escribir directamente el documento como parámetro.\n",
    "\n",
    "Utilizamos en método `insertOne()`. "
   ]
  },
  {
   "cell_type": "markdown",
   "id": "74f93681-4376-4791-b3e0-3e4abe11a7da",
   "metadata": {},
   "source": [
    "```powershell\n",
    "Input: \n",
    "\n",
    "> db.preguntas.insertOne(pregunta_1);\n",
    "\n",
    "Output:\n",
    "\n",
    "{\n",
    "  acknowledged: true,\n",
    "  insertedId: ObjectId(\"634f3147e03939fb4d5c7609\")\n",
    "}\n",
    "```"
   ]
  },
  {
   "cell_type": "markdown",
   "id": "84e9b2e3-8136-4cd7-8857-7d2f624a0768",
   "metadata": {},
   "source": [
    "En este caso tenemos que:\n",
    "- Creamos la colección `preguntas`.\n",
    "- Se añade a la base de datos `banco`, dentro de la colección `preguntas` al documento `pregunta_1`.\n",
    "- De manera automática nos genera un campo llamado `_id` de tipo `ObjectId` con un identificador único."
   ]
  },
  {
   "cell_type": "markdown",
   "id": "80a27304-38c4-4573-9aed-60c92d578c58",
   "metadata": {},
   "source": [
    "El `ObjectId` es el identificador único de cada objeto y este se constituye de la concatenación de cuatro items: \n",
    "\n",
    "1. Timestamp (Estampa de tiempo)\n",
    "2. Identificador para el servidor\n",
    "3. PID (Identificador de proceso)\n",
    "4. Autoincremento"
   ]
  },
  {
   "cell_type": "markdown",
   "id": "44e1e493-a0f5-4f2d-a2cd-fd995c476b01",
   "metadata": {},
   "source": [
    "```{warning}\n",
    "También podemos añadir el campo '_id' asignandole el valor que queramos para este, pero se recominenda ser bastante cuidadoso al hacerlo, dado que puede causar errores de duplicación.\n",
    "```"
   ]
  },
  {
   "cell_type": "markdown",
   "id": "1dd44fe6-db78-475a-a80c-6bcf9e593c55",
   "metadata": {},
   "source": [
    "#### **Añadir múltiples documentos**"
   ]
  },
  {
   "cell_type": "markdown",
   "id": "48de4406-6cfe-4251-8e2f-bb675a74f159",
   "metadata": {},
   "source": [
    "Utilizamos en método `insertMany()`."
   ]
  },
  {
   "cell_type": "markdown",
   "id": "6d49d447-8e9a-44fc-bb91-6fe582ed9b51",
   "metadata": {},
   "source": [
    "Para este método deberemos utilizar la sintaxis: `db.collection.insertMany( [ {<documento_1>}, {<documento_2>}, ... ] );`."
   ]
  },
  {
   "cell_type": "markdown",
   "id": "7838bd7f-1d27-43f3-87a2-fffd5b268f36",
   "metadata": {},
   "source": [
    "```powershell\n",
    "Input: \n",
    "\n",
    "> db.preguntas.insertMany([\n",
    "    {\n",
    "        'autor': 'Camilo Chitivo',\n",
    "        'cuaderno': 'nlp_Introduccion',\n",
    "        'dificultad': 1,\n",
    "        'tipo de pregunta': 2,\n",
    "        'pregunta': '¿Cuáles de los siguientes términos son palabras vacías?',\n",
    "        'opciones': [ 'a', 'avión', 'por', 'carro'],\n",
    "        'respuestas': ['a', 'por']\n",
    "    },\n",
    "    {\n",
    "        'autor': 'Camilo Chitivo',\n",
    "        'cuaderno': 'nlp_Introduccion',\n",
    "        'dificultad': 1,\n",
    "        'tipo de pregunta': 1,\n",
    "        'pregunta': '¿Qué significa \"dmt\"?',\n",
    "        'opciones': ['documentos menos tamaño',\n",
    "                     'dos menos tres',\n",
    "                     'matriz documento-término',\n",
    "                     'mayor ditancia total'],\n",
    "        'respuestas': ['matriz documento-término']\n",
    "    }\n",
    "]);\n",
    "\n",
    "Output:\n",
    "\n",
    "{\n",
    "  acknowledged: true,\n",
    "  insertedIds: {\n",
    "    '0': ObjectId(\"634f351ae03939fb4d5c760c\"),\n",
    "    '1': ObjectId(\"634f351ae03939fb4d5c760d\")\n",
    "  }\n",
    "}\n",
    "```"
   ]
  },
  {
   "cell_type": "markdown",
   "id": "fbbf64cb-7361-47f1-9485-d954f590697b",
   "metadata": {},
   "source": [
    "```note::\n",
    "También podemos utilizar el método `insert()` para añadir documentos, pero este está en desuso, por lo cual no se recomienda utilizarlo.\n",
    "```"
   ]
  },
  {
   "cell_type": "markdown",
   "id": "9edc17a0-111a-4aba-bd50-65c6dc4f483c",
   "metadata": {
    "tags": []
   },
   "source": [
    "### <span style=\"color:#4CC9F0\">Mostrar colecciones</span>"
   ]
  },
  {
   "cell_type": "markdown",
   "id": "7f32b084-65d7-431d-80f1-c595f837a5d4",
   "metadata": {},
   "source": [
    "Utilizamos en comando `show collections;` para ver las colecciones existentes en la base de datos en la cual nos encontramos."
   ]
  },
  {
   "cell_type": "markdown",
   "id": "14acca60-07b1-463f-b342-69496234002b",
   "metadata": {},
   "source": [
    "```json\n",
    "Input: \n",
    "\n",
    "> show collections;\n",
    "\n",
    "Output:\n",
    "\n",
    "preguntas\n",
    "```"
   ]
  },
  {
   "cell_type": "markdown",
   "id": "b2e12f00-c303-429a-8079-87f0eec9c634",
   "metadata": {
    "tags": []
   },
   "source": [
    "### <span style=\"color:#4CC9F0\">Mostrar documentos</span>"
   ]
  },
  {
   "cell_type": "markdown",
   "id": "43a280c7-75c2-462d-8dd8-2e21b07a753e",
   "metadata": {},
   "source": [
    "Podremos consultar de manera que MongoDB nos muestre un solo documento o todos documentos que contenga nuestra colección."
   ]
  },
  {
   "cell_type": "markdown",
   "id": "ba763bd4-086a-4172-b371-b19565a65792",
   "metadata": {},
   "source": [
    "#### **Mostrar un solo documento**"
   ]
  },
  {
   "cell_type": "markdown",
   "id": "1aa123dd-1f29-4b8e-93b0-1c837e7fbdf7",
   "metadata": {},
   "source": [
    "Utilizamos en método `findOne()`."
   ]
  },
  {
   "cell_type": "markdown",
   "id": "e6c309c0-dde8-4e0c-a9ab-3a49086221ff",
   "metadata": {},
   "source": [
    "```json\n",
    "Input: \n",
    "\n",
    "> db.preguntas.findOne();\n",
    "\n",
    "Output:\n",
    "\n",
    "{\n",
    "  _id: ObjectId(\"634f3147e03939fb4d5c7609\"),\n",
    "  autor: 'Camilo Chitivo',\n",
    "  cuaderno: 'nlp_Introduccion',\n",
    "  dificultad: 1,\n",
    "  'tipo de pregunta': 1,\n",
    "  pregunta: '¿Qué es un corpus',\n",
    "  opciones: [\n",
    "    'Son los sujetos en los análisis textual superficial.',\n",
    "    'Es una colección de documentos',\n",
    "    'Palabras y sus significados',\n",
    "    'Es una parte del cuerpo humano'\n",
    "  ],\n",
    "  respuestas: [ 'Es una colección de documentos' ]\n",
    "}\n",
    "```"
   ]
  },
  {
   "cell_type": "markdown",
   "id": "98716f6c-7dc4-47b8-a858-8b72704cbdee",
   "metadata": {},
   "source": [
    "::::{important}\n",
    "Este método es muy útil cuando deseamos ver que campos y que estructura tienen nuestros documentos.\n",
    "::::"
   ]
  },
  {
   "cell_type": "markdown",
   "id": "78ee8793-1350-4f0c-a967-e713ddeddb2f",
   "metadata": {},
   "source": [
    "#### **Mostrar todos los documentos**"
   ]
  },
  {
   "cell_type": "markdown",
   "id": "68166c75-60d6-4cb5-b732-af23e3fe6fcf",
   "metadata": {},
   "source": [
    "Al utilizar el método `find()` MongoDB nos devolverá como resultado todos los documentos existentes en nuestra colección.  "
   ]
  },
  {
   "cell_type": "markdown",
   "id": "2656ff3e-3f09-44e3-82ab-22556c987c70",
   "metadata": {},
   "source": [
    "```powershell\n",
    "Input: \n",
    "\n",
    "> db.preguntas.find();\n",
    "\n",
    "Output:\n",
    "\n",
    "[\n",
    "  {\n",
    "    _id: ObjectId(\"634f3147e03939fb4d5c7609\"),\n",
    "    autor: 'Camilo Chitivo',\n",
    "    cuaderno: 'nlp_Introduccion',\n",
    "    dificultad: 1,\n",
    "    'tipo de pregunta': 1,\n",
    "    pregunta: '¿Qué es un corpus',\n",
    "    opciones: [\n",
    "      'Son los sujetos en los análisis textual superficial.',\n",
    "      'Es una colección de documentos',\n",
    "      'Palabras y sus significados',\n",
    "      'Es una parte del cuerpo humano'\n",
    "    ],\n",
    "    respuestas: [ 'Es una colección de documentos' ]\n",
    "  },\n",
    "  {\n",
    "    _id: ObjectId(\"634f34ede03939fb4d5c760a\"),\n",
    "    autor: 'Camilo Chitivo',\n",
    "    cuaderno: 'nlp_Introduccion',\n",
    "    dificultad: 2,\n",
    "    'tipo de pregunta': 1,\n",
    "    pregunta: '¿Cuáles de los siguientes términos son palabras vacías?',\n",
    "    opciones: [ 'a', 'avión', 'por', 'carro' ],\n",
    "    respuestas: [ 'a', 'por' ]\n",
    "  },\n",
    "  {\n",
    "    _id: ObjectId(\"634f34ede03939fb4d5c760b\"),\n",
    "    autor: 'Camilo Chitivo',\n",
    "    cuaderno: 'nlp_Introduccion',\n",
    "    dificultad: 1,\n",
    "    'tipo de pregunta': 1,\n",
    "    pregunta: '¿Qué significa \"dmt\"?',\n",
    "    opciones: [\n",
    "      'documentos menos tamaño',\n",
    "      'dos menos tres',\n",
    "      'matriz documento-término',\n",
    "      'mayor ditancia total'\n",
    "    ],\n",
    "    respuestas: [ 'matriz documento-término' ]\n",
    "  }\n",
    "]\n",
    "```"
   ]
  },
  {
   "cell_type": "markdown",
   "id": "0a4c37e7-4736-44c8-851f-6b3116f2f446",
   "metadata": {},
   "source": [
    "```{note}\n",
    "Siempre se nos mostrará los primeros veinte (20) documentos, en el caso de haber más de esta cantidad debemos utilizar el comando `it` (Iterates through a cursor) para mostrar los siguientes 20 resultados, y así sucesivamente hasta que se muestren todos los documentos.\n",
    "```"
   ]
  },
  {
   "cell_type": "markdown",
   "id": "21a9d60d-c9f5-4736-b3e8-24138ee909e0",
   "metadata": {
    "tags": []
   },
   "source": [
    "## <span style=\"color:#4361EE\">Consultas</span> "
   ]
  },
  {
   "cell_type": "markdown",
   "id": "b34c9306-c692-4fb2-b3c8-44e38cd8932f",
   "metadata": {},
   "source": [
    "Normalmente no deseamos ver todos los documentos existentes en una colección, sino solamente los que cumplen cierto criterio."
   ]
  },
  {
   "cell_type": "markdown",
   "id": "e7a2815c-f16c-4a41-b5a5-04cb9829d976",
   "metadata": {},
   "source": [
    "Con el método `find()` e indicando un criterio de busueda, retornamos un ***cursor*** con los documentos que coincidan con la búsqueda (*query*) realizada."
   ]
  },
  {
   "cell_type": "markdown",
   "id": "6039714a-9e95-42dc-930c-e9e89970abed",
   "metadata": {},
   "source": [
    "Su sintaxis es: `db.collection.find( { <campo_1>: <valor_1>, <campo_2>: <valor_2>, ... } )`.\n"
   ]
  },
  {
   "cell_type": "markdown",
   "id": "e5061a2d-26f3-4dbb-8c62-b51c713ceba9",
   "metadata": {},
   "source": [
    "```json\n",
    "Input: \n",
    "\n",
    "> db.preguntas.find({'pregunta': '¿Qué significa \"dmt\"?'});\n",
    "\n",
    "Output:\n",
    "\n",
    "[\n",
    "  {\n",
    "    _id: ObjectId(\"634f34ede03939fb4d5c760b\"),\n",
    "    autor: 'Camilo Chitivo',\n",
    "    cuaderno: 'nlp_Introduccion',\n",
    "    dificultad: 1,\n",
    "    'tipo de pregunta': 1,\n",
    "    pregunta: '¿Qué significa \"dmt\"?',\n",
    "    opciones: [\n",
    "      'documentos menos tamaño',\n",
    "      'dos menos tres',\n",
    "      'matriz documento-término',\n",
    "      'mayor ditancia total'\n",
    "    ],\n",
    "    respuestas: [ 'matriz documento-término' ]\n",
    "  }\n",
    "]\n",
    "```"
   ]
  },
  {
   "cell_type": "markdown",
   "id": "ebdf8623-478a-4061-a56b-146c7d71988e",
   "metadata": {
    "tags": []
   },
   "source": [
    "### <span style=\"color:#4CC9F0\">Cursor</span>"
   ]
  },
  {
   "cell_type": "markdown",
   "id": "fcc2242d-98ce-475e-8f69-259bf6aaaab3",
   "metadata": {},
   "source": [
    "Es un objeto el cual nos permite conocer todos aquellos documentos obtenidos a través de una consulta. Es un puntero a un conjunto de resultados de una búsqueda. Un puntero es una dirección a una ubicación de memoria."
   ]
  },
  {
   "cell_type": "markdown",
   "id": "57e7f7c9-f8c1-45f7-add6-054a59f3eb0a",
   "metadata": {},
   "source": [
    "```powershell\n",
    "Input: \n",
    "\n",
    "> db.preguntas.find();\n",
    "\n",
    "Output:\n",
    "\n",
    "[\n",
    "  {\n",
    "    _id: ObjectId(\"634f3147e03939fb4d5c7609\"),\n",
    "    autor: 'Camilo Chitivo',\n",
    "    cuaderno: 'nlp_Introduccion',\n",
    "    dificultad: 1,\n",
    "    'tipo de pregunta': 1,\n",
    "    pregunta: '¿Qué es un corpus',\n",
    "    opciones: [\n",
    "      'Son los sujetos en los análisis textual superficial.',\n",
    "      'Es una colección de documentos',\n",
    "      'Palabras y sus significados',\n",
    "      'Es una parte del cuerpo humano'\n",
    "    ],\n",
    "    respuestas: [ 'Es una colección de documentos' ]\n",
    "  },\n",
    "  {\n",
    "    _id: ObjectId(\"634f34ede03939fb4d5c760a\"),\n",
    "    autor: 'Camilo Chitivo',\n",
    "    cuaderno: 'nlp_Introduccion',\n",
    "    dificultad: 1,\n",
    "    'tipo de pregunta': 2,\n",
    "    pregunta: '¿Cuáles de los siguientes términos son palabras vacías?',\n",
    "    opciones: [ 'a', 'avión', 'por', 'carro' ],\n",
    "    respuestas: [ 'a', 'por' ]\n",
    "  },\n",
    "  {\n",
    "    _id: ObjectId(\"634f34ede03939fb4d5c760b\"),\n",
    "    autor: 'Camilo Chitivo',\n",
    "    cuaderno: 'nlp_Introduccion',\n",
    "    dificultad: 1,\n",
    "    'tipo de pregunta': 1,\n",
    "    pregunta: '¿Qué significa \"dmt\"?',\n",
    "    opciones: [\n",
    "      'documentos menos tamaño',\n",
    "      'dos menos tres',\n",
    "      'matriz documento-término',\n",
    "      'mayor ditancia total'\n",
    "    ],\n",
    "    respuestas: [ 'matriz documento-término' ]\n",
    "  }\n",
    "]\n",
    "```"
   ]
  },
  {
   "cell_type": "markdown",
   "id": "f00316ff-7fd8-450d-bd63-ad0b3a340a05",
   "metadata": {},
   "source": [
    "El resultado de la búsqueda (*query*) es un **objeto cursor** y es con este objeto con el cual vamos a poder hacer manipulaciones que requerimos en la búsqueda."
   ]
  },
  {
   "cell_type": "markdown",
   "id": "2f0e87f4-aa66-4a3f-a35f-062ea153febb",
   "metadata": {
    "tags": []
   },
   "source": [
    "### <span style=\"color:#4CC9F0\">Métodos de cursores</span>"
   ]
  },
  {
   "cell_type": "markdown",
   "id": "706b4718-84b7-4e6c-93b9-e06b0e865890",
   "metadata": {},
   "source": [
    "Los cursores contienen múltiples métodos útiles."
   ]
  },
  {
   "cell_type": "markdown",
   "id": "4cc6db9f-7db0-4233-ab2e-28d7de894f44",
   "metadata": {},
   "source": [
    "```json\n",
    "Input: \n",
    "\n",
    "//cuenta el número de documentos en la búsqueda.\n",
    "> db.collection.find({<query>}).count();\n",
    "\n",
    "//limita el número de documentos en nuestra búsqueda.\n",
    "> db.collection.find({<query>}).limit(10); \n",
    "\n",
    "//saltamos documentos, en este caso aparecerán a partir del documento número 6.\n",
    "> db.collection.find({<query>}).skip(5); \n",
    "\n",
    "//ordena los documentos según el valor de un campo, 1: ascendente y -1: descendente.\n",
    "> db.collection.find({<query>}).sort( { age: 1 } ); \n",
    "\n",
    "//Nos muestra los documentos de manera más organizada en formato JSON.\n",
    "> db.collection.find({<query>}).pretty(); \n",
    "```"
   ]
  },
  {
   "cell_type": "markdown",
   "id": "4b297020-a011-46ab-b4df-5bf66a8e883b",
   "metadata": {},
   "source": [
    "Los métodos `limit()`, `skip()` y `sort()` retornan cursores, por lo cual podemos utilizar estos métodos juntos."
   ]
  },
  {
   "cell_type": "markdown",
   "id": "cea8ae1b-b71d-4c36-b719-0b2d7a228047",
   "metadata": {},
   "source": [
    "**Ejemplo**"
   ]
  },
  {
   "cell_type": "markdown",
   "id": "8eb9b5e5-5332-439a-9b3f-f31744f023fe",
   "metadata": {},
   "source": [
    "- Añadamos algunos nuevos documentos."
   ]
  },
  {
   "cell_type": "markdown",
   "id": "29ea7891-b087-4182-9912-030d8e7f6fcc",
   "metadata": {},
   "source": [
    "```json\n",
    "Input: \n",
    "\n",
    "> db.preguntas.insertMany([\n",
    "    {\n",
    "    'autor': 'Camilo Chitivo',\n",
    "    'cuaderno': 'nlp_Introduccion',\n",
    "    'dificultad': 2,\n",
    "    'tipo de pregunta': 2,\n",
    "    'pregunta': '¿Qué es tokenizar? Seleccione todas las respuestas correctas.',\n",
    "    'opciones': ['Dividir el texto en oraciones',\n",
    "                 'Dividir las oraciones en palabras',\n",
    "                 'Cambiar los verbos conjugados por verbos infinitivos',\n",
    "                 'Cambiar nombres propios por sus respectivos pronombres'],\n",
    "    'respuestas': ['Dividir el texto en oraciones',\n",
    "                   'Dividir las oraciones en palabras']\n",
    "    },\n",
    "    {\n",
    "    'autor': 'Camilo Chitivo',\n",
    "    'cuaderno': 'nlp_Introduccion',\n",
    "    'dificultad': 2,\n",
    "    'tipo de pregunta': 2,\n",
    "    'pregunta': '¿Qué es Lematizar? Seleccione todas las respuestas correctas.',\n",
    "    'opciones': ['Dividir el texto en caracteres',\n",
    "                 'Cambiar las palabras en tercera persona a primera persona',\n",
    "                 'Poner guiones entre cada palabra en vez de espacios',\n",
    "                 'Cambiar los verbos en tiempo pasado y futuro a presente'],\n",
    "    'respuestas': ['Cambiar las palabras en tercera persona a primera persona',\n",
    "                   'Cambiar los verbos en tiempo pasado y futuro a presente.']\n",
    "    }\n",
    "]);\n",
    "```"
   ]
  },
  {
   "cell_type": "markdown",
   "id": "d16d8d8e-b2b4-453e-9eeb-550af40d476e",
   "metadata": {},
   "source": [
    "- Ordenemos los documentos según `'tipo de pregunta'`, mostremos el segundo y el tercer resultado."
   ]
  },
  {
   "cell_type": "markdown",
   "id": "235ccf85-29b0-4eff-9cc5-552e19305b86",
   "metadata": {},
   "source": [
    "```json\n",
    "Input: \n",
    "\n",
    "> db.preguntas.find().sort({ 'tipo de pregunta' : 1}).skip(1).limit(2);\n",
    "\n",
    "Output:\n",
    "\n",
    "[\n",
    "  {\n",
    "    _id: ObjectId(\"634f3147e03939fb4d5c7609\"),\n",
    "    autor: 'Camilo Chitivo',\n",
    "    cuaderno: 'nlp_Introduccion',\n",
    "    dificultad: 1,\n",
    "    'tipo de pregunta': 1,\n",
    "    pregunta: '¿Qué es un corpus',\n",
    "    opciones: [\n",
    "      'Son los sujetos en los análisis textual superficial.',\n",
    "      'Es una colección de documentos',\n",
    "      'Palabras y sus significados',\n",
    "      'Es una parte del cuerpo humano'\n",
    "    ],\n",
    "    respuestas: [ 'Es una colección de documentos' ]\n",
    "  },\n",
    "  {\n",
    "    _id: ObjectId(\"634f34ede03939fb4d5c760a\"),\n",
    "    autor: 'Camilo Chitivo',\n",
    "    cuaderno: 'nlp_Introduccion',\n",
    "    dificultad: 1,\n",
    "    'tipo de pregunta': 2,\n",
    "    pregunta: '¿Cuáles de los siguientes términos son palabras vacías?',\n",
    "    opciones: [ 'a', 'avión', 'por', 'carro' ],\n",
    "    respuestas: [ 'a', 'por' ]\n",
    "  }\n",
    "]\n",
    "```"
   ]
  },
  {
   "cell_type": "markdown",
   "id": "de15acf4-7490-40f4-845d-f63878a1f90d",
   "metadata": {
    "tags": []
   },
   "source": [
    "## <span style=\"color:#4361EE\">Búsquedas condicionales</span> "
   ]
  },
  {
   "cell_type": "markdown",
   "id": "36a12c42-0467-4329-9b5e-91e7425b5b98",
   "metadata": {
    "tags": []
   },
   "source": [
    "### <span style=\"color:#4CC9F0\">Operadores de comparación</span>"
   ]
  },
  {
   "cell_type": "markdown",
   "id": "6dc9485d-5da9-43d9-bc56-0d7309708c65",
   "metadata": {},
   "source": [
    "Podemos realizar búsquedas no solo a través de campos y valores escritos tácitamente sino también a través de rangos."
   ]
  },
  {
   "cell_type": "markdown",
   "id": "6bf240b8-d7e1-450c-8d2e-967dd88a96cf",
   "metadata": {},
   "source": [
    "Tenemos la siguiente sintaxis `db.collection.find( { <campo>: {$operador : <valor>} } );` "
   ]
  },
  {
   "cell_type": "markdown",
   "id": "2438cb6c-9032-4357-9777-66bbb9ee6bb8",
   "metadata": {},
   "source": [
    "```json\n",
    "//Mayor que\n",
    "> $gt\n",
    "\n",
    "//Mayor o igual que\n",
    "> $gte\n",
    "\n",
    "//Menor que\n",
    "> $lt\n",
    "\n",
    "//Menor o igual que\n",
    "> $lte\n",
    "\n",
    "//Diferente a\n",
    "> $ne\n"
   ]
  },
  {
   "cell_type": "markdown",
   "id": "768a767f-6832-4282-97c2-a8d6f15d124b",
   "metadata": {},
   "source": [
    "**Ejemplo**"
   ]
  },
  {
   "cell_type": "markdown",
   "id": "36358935-08c2-4413-8bbf-00dfbb88cd37",
   "metadata": {},
   "source": [
    "- Añadamos algunos nuevos documentos."
   ]
  },
  {
   "cell_type": "markdown",
   "id": "8f2c27bc-28a5-491c-b756-02cfbc214709",
   "metadata": {},
   "source": [
    "```json\n",
    "Input: \n",
    "\n",
    "> db.preguntas.insertOne(\n",
    "    {\n",
    "    'autor': 'Camilo Chitivo',\n",
    "    'cuaderno': 'nlp_Introduccion',\n",
    "    'dificultad': 2,\n",
    "    'tipo de pregunta': 3,\n",
    "    'pregunta': 'tokenizar el siguiente por palabras la siguiente frase sin las comillas: \\\n",
    "\\\"El cielo está enladrillado, ¿Quién lo desenladrillará?, \\\n",
    "el desenladrillador que lo desenladrille, buen desenladrillador será\\\"',\n",
    "    'pasos': ['Llamamos de la librería: from nltk.tokenize import word_tokenize',\n",
    "              '\\nGuardamos la frase en una variable por ejemplo en la variable \"text\"',\n",
    "              '\\nEjecutamos el método: text = word_tokenize(text)',\n",
    "              '\\nFinalmente imprimimos el resultado: print(text)'],\n",
    "    'respuestas': [['El', 'cielo', 'está', 'enladrillado', ',', '¿Quién', 'lo',\n",
    "                    'desenladrillará', '?', ',', 'el', 'desenladrillador', 'que', 'lo',\n",
    "                    'desenladrille', ',', 'buen', 'desenladrillador', 'será']]\n",
    "    }\n",
    ");\n",
    "```"
   ]
  },
  {
   "cell_type": "markdown",
   "id": "da04fa4a-518f-455b-a9ad-8cc43cca1428",
   "metadata": {},
   "source": [
    "**Ejemplo**"
   ]
  },
  {
   "cell_type": "markdown",
   "id": "f31fde47-8934-4ce3-aeb2-17cc96b54014",
   "metadata": {},
   "source": [
    "- Buscar las preguntas que tengan `dificultad` mayor o igual a 2."
   ]
  },
  {
   "cell_type": "markdown",
   "id": "46684896-6ea7-43d5-862a-6d08fb2e0606",
   "metadata": {},
   "source": [
    "```json\n",
    "Input: \n",
    "\n",
    "> db.preguntas.find({'dificultad': {$gte: 2}});\n",
    "```"
   ]
  },
  {
   "cell_type": "markdown",
   "id": "b391c13c-d2ba-4e24-b7e5-51dc6c08bff5",
   "metadata": {},
   "source": [
    "- Buscar la cantidad de preguntas que tengan `dificultad` mayor o igual a 2."
   ]
  },
  {
   "cell_type": "markdown",
   "id": "be0a7e9c-24fb-4c31-8f7a-14396b05aef4",
   "metadata": {},
   "source": [
    "```json\n",
    "Input: \n",
    "\n",
    "> db.preguntas.find({'dificultad': {$gte: 2}}).count();\n",
    "\n",
    "Output:\n",
    "\n",
    "3\n",
    "```"
   ]
  },
  {
   "cell_type": "markdown",
   "id": "499f51b3-d304-4f4b-9a09-2843de4e03a0",
   "metadata": {
    "tags": []
   },
   "source": [
    "### <span style=\"color:#4CC9F0\">Operadores de lógicos</span>"
   ]
  },
  {
   "cell_type": "markdown",
   "id": "ca4c5dfd-21d9-4ebb-b03d-910de0d374f8",
   "metadata": {},
   "source": [
    "Los siguientes operadores lógicos devuelven datos basados en expresiones que se evaluan como verdaderas o falsas."
   ]
  },
  {
   "cell_type": "markdown",
   "id": "80ad6b65-5630-4ff7-bdfb-9931b7e63c99",
   "metadata": {},
   "source": [
    "- Su sintaxis es: `{ <campo>: { <operador>: [ { <condición_1> }, { <condición_2> }, ... ] }}`"
   ]
  },
  {
   "cell_type": "markdown",
   "id": "0df03a94-bb24-47a9-b12c-f45da8f3851e",
   "metadata": {},
   "source": [
    "- Para el operador `$not` su sintaxis es: `{ <campo>: { $not : { <condición> }}}`."
   ]
  },
  {
   "cell_type": "markdown",
   "id": "77ed6d6b-130a-4f53-af26-cd72fbb94daa",
   "metadata": {},
   "source": [
    "- Para el operador `$in` su sintaxis es:` { <campo>: { $in: [ <valor_1>, <valor_2>, ...  ] } }`."
   ]
  },
  {
   "cell_type": "markdown",
   "id": "5de4f599-5323-4930-92be-ba73727be34f",
   "metadata": {},
   "source": [
    "```json\n",
    "// Trae todos los documentos que cumplan todas las condiciones\n",
    "> $and\n",
    "\n",
    "// Trae todos los documentos que cumplan al menos una de las condiciones\n",
    "> $or\n",
    "\n",
    "// Trae todos los documentos que NO cumplan con ambas de las condiciones\n",
    "> $nor\n",
    "\n",
    "// Trae todos los documentos que cumplan NO cumplan la condición\n",
    "> $not\n",
    "\n",
    "// Selecciona los documentos donde el valor de un campo es igual al de la matriz especificada\n",
    "> $in\n",
    "```"
   ]
  },
  {
   "cell_type": "markdown",
   "id": "1bd9e9b6-ba67-4774-9a72-c08a8db7ade1",
   "metadata": {},
   "source": [
    "#### **Ejemplo**"
   ]
  },
  {
   "cell_type": "markdown",
   "id": "e0f76b0a-2086-4bba-9735-531897270f93",
   "metadata": {},
   "source": [
    "Buscamos las preguntas que tienen dificultad 1 o 3."
   ]
  },
  {
   "cell_type": "markdown",
   "id": "ca5722f8-4c10-451a-9e7f-4382deb30941",
   "metadata": {},
   "source": [
    "```powershell\n",
    "Input: \n",
    "\n",
    "> db.preguntas.find({\n",
    "    $or: [{'dificultad': 1}, {'dificultad': 3}]\n",
    "});\n"
   ]
  },
  {
   "cell_type": "markdown",
   "id": "11ae9001-f906-43d1-95f0-d0ff64709f31",
   "metadata": {},
   "source": [
    ":::{note}\n",
    "Puedes también combinar diferentes operadores para hacer búsquedas más precisas.\n",
    ":::"
   ]
  },
  {
   "cell_type": "markdown",
   "id": "073d5a2e-5d52-4157-af50-3bbda9aa1b87",
   "metadata": {
    "tags": []
   },
   "source": [
    "### <span style=\"color:#4CC9F0\">Operadores de consulta de elementos</span>"
   ]
  },
  {
   "cell_type": "markdown",
   "id": "ff80dbf3-63c0-480b-9c63-b75423823fe7",
   "metadata": {},
   "source": [
    "Para buscar los documentos que contengan un atributo específico utilizamos el operador `$exists`."
   ]
  },
  {
   "cell_type": "markdown",
   "id": "66381102-8446-4022-b279-a33a4f2c41ba",
   "metadata": {},
   "source": [
    "- Su sintaxis es: `{ <campo>: { $exists: <boolean>} }`."
   ]
  },
  {
   "cell_type": "markdown",
   "id": "d844b8f8-3f5b-4c65-8c85-01e6dd0338a7",
   "metadata": {},
   "source": [
    "#### **Ejemplo**"
   ]
  },
  {
   "cell_type": "markdown",
   "id": "f1534a4a-f02a-4b2e-90fa-456656346fd1",
   "metadata": {},
   "source": [
    "Buscar documentos que posean el atributo `pasos`."
   ]
  },
  {
   "cell_type": "markdown",
   "id": "eda315fc-e510-4e04-a114-eca4e1df44ae",
   "metadata": {},
   "source": [
    "```json\n",
    "Input: \n",
    "\n",
    "> db.preguntas.find({\n",
    "    'pasos': { $exists: true}\n",
    "});\n"
   ]
  },
  {
   "cell_type": "markdown",
   "id": "815b6f57-452b-4b01-a6a3-a63df51e896f",
   "metadata": {},
   "source": [
    "Para buscar los documentos que **no** posean el atributo usamos `{ $exists: false }`."
   ]
  },
  {
   "cell_type": "markdown",
   "id": "979f1230-9a0c-4073-b31a-2f00d073289b",
   "metadata": {
    "tags": []
   },
   "source": [
    "### <span style=\"color:#4CC9F0\">Operadores de consulta de evaluación</span>"
   ]
  },
  {
   "cell_type": "markdown",
   "id": "520ee112-2e77-431b-8a4c-f49d2049106e",
   "metadata": {},
   "source": [
    "#### **Expresiones Regulares**"
   ]
  },
  {
   "cell_type": "markdown",
   "id": "e3971ab8-7a57-458d-98b4-6d097e3d8fd9",
   "metadata": {},
   "source": [
    "Podemos realizar búsquedas de documentos que cumplan con criterios de *expresiones regulares*."
   ]
  },
  {
   "cell_type": "markdown",
   "id": "313b1848-04ca-42fd-8cc1-99d71309d3ff",
   "metadata": {},
   "source": [
    " Una **expresión regular** es una forma generalizada de hacer coincidir patrones con secuencias de caracteres."
   ]
  },
  {
   "cell_type": "markdown",
   "id": "abd373aa-9bc0-49a3-afb3-a6934abda7fb",
   "metadata": {},
   "source": [
    "Para las expresiones regulares tienen multiples maneras de escribirse. A continuación se muestran cuatro diferentes sintaxis."
   ]
  },
  {
   "cell_type": "markdown",
   "id": "5e0a7b3d-826f-4d9e-80f6-c36dd2fc5c79",
   "metadata": {},
   "source": [
    "```json\n",
    "> { <campo>: { $regex: /texto_a_buscar/, $options: '<options>' } }\n",
    "\n",
    "> { <campo>: { $regex: 'texto_a_buscar', $options: '<options>' } }\n",
    "\n",
    "> { <campo>: { $regex: /texto_a_buscar/<options> } }\n",
    "\n",
    "> { <campo>: /texto_a_buscar/<options> }\n",
    "```"
   ]
  },
  {
   "cell_type": "markdown",
   "id": "fe88d8b1-0819-4157-996e-054d598ddbf2",
   "metadata": {},
   "source": [
    "En el valor del operador `$regex` escribimos ya sea `/<texto_a_buscar>/` o `'<texto_a_buscar>'` para indicar el valor buscado."
   ]
  },
  {
   "cell_type": "markdown",
   "id": "f413c25d-8b48-4c55-b73e-0b4d1796b5b3",
   "metadata": {},
   "source": [
    "El operador `$options` nos permite el uso de ciertas opciones para la búsqueda."
   ]
  },
  {
   "cell_type": "markdown",
   "id": "e74cc061-7027-4442-a430-8683d1ecc114",
   "metadata": {},
   "source": [
    "- `i` : Insensibiliza la distinción entre mayúsculas y minúsculas. Al hacer la busqueda no distingue entre mayúsculas y minúsculas.\n",
    "- `m` : Para patrones que incluyen anclas (es decir `^`, para el inicio, `$` para el final) este permite que no solo se tome el inicio y el final del texto sino que también se tenga en cuenta los inicios y finales de los saltos de línea `\\n`.\n",
    "- `x` : Ignora los espacios en blanco dentro del patrón buscado con `$regex`.\n",
    "- `s` : Permite que el carácter de punto (es decir, `.`) coincida con todos los caracteres, incluidos los caracteres de salto línea `\\n`. Con `.` nos permite aceptar cualquier caracter en la posición que se encuentra este dentro del patrón buscado."
   ]
  },
  {
   "cell_type": "markdown",
   "id": "577b70bc-8449-42c5-aafa-5c47e139937e",
   "metadata": {},
   "source": [
    "#### **Ejemplos**"
   ]
  },
  {
   "cell_type": "markdown",
   "id": "daa2e236-2e59-47de-9561-3c03706466b0",
   "metadata": {},
   "source": [
    "- Buscamos los documentos que inicien con el caracter `¿` dentro del campo `pregunta`."
   ]
  },
  {
   "cell_type": "markdown",
   "id": "2ea80ed4-e520-439e-90a6-c98eddfa360d",
   "metadata": {},
   "source": [
    "```json\n",
    "Input: \n",
    "\n",
    "> db.preguntas.find({\n",
    "    pregunta: { \n",
    "        $regex: '^¿'\n",
    "        }\n",
    "});\n",
    "```"
   ]
  },
  {
   "cell_type": "markdown",
   "id": "ca259929-6389-4ee9-98a7-c5c848293241",
   "metadata": {},
   "source": [
    "- Buscamos los documentos que contengan el texto `token` dentro del campo `pregunta`."
   ]
  },
  {
   "cell_type": "markdown",
   "id": "099c047e-302d-43c5-a143-4f0a571ed373",
   "metadata": {},
   "source": [
    "```json\n",
    "Input: \n",
    "\n",
    "> db.preguntas.find({\n",
    "    pregunta: { \n",
    "        $regex: /token/\n",
    "        }\n",
    "});\n",
    "```"
   ]
  },
  {
   "cell_type": "markdown",
   "id": "2de3ba73-3fb8-4aef-9ed3-698b908049a6",
   "metadata": {},
   "source": [
    "- También puedes realizar búsquedas con el patrón de búsqueda únicamente dentro de barras inclinadas `/ /`."
   ]
  },
  {
   "cell_type": "markdown",
   "id": "af05dd69-e741-45a4-aa8e-7557af323592",
   "metadata": {},
   "source": [
    "```powershell\n",
    "Input: \n",
    "\n",
    "> db.users.find({\n",
    "    email: {$regex: '@'}}\n",
    "});\n"
   ]
  },
  {
   "cell_type": "markdown",
   "id": "2ff2b803-5f85-4c4e-ae20-12d4d4c54c72",
   "metadata": {},
   "source": [
    "```json\n",
    "Input: \n",
    "\n",
    "> db.preguntas.find({\n",
    "    pregunta: /token/\n",
    "});\n",
    "```"
   ]
  },
  {
   "cell_type": "markdown",
   "id": "9fb21ac7-4ca1-4f3d-a1e6-0dc83ce3cd91",
   "metadata": {},
   "source": [
    ":::{note}\n",
    "Puedes utilizar cualquiera de las sintaxis anteriores sin embargo se recomienda usar simpre el operador `$regex`.\n",
    ":::"
   ]
  },
  {
   "cell_type": "markdown",
   "id": "2bac10e9-1998-4e46-93f6-6d68c40b052b",
   "metadata": {},
   "source": [
    "#### **Expresiones de agregación**"
   ]
  },
  {
   "cell_type": "markdown",
   "id": "ba5b43ca-51e9-4e6c-bab9-25355709d703",
   "metadata": {},
   "source": [
    "Hasta el momento hemos ingresado como parámetros de busqueda los valores asignados a los campos, pero no hemos realizado operacioines entre diferentes campos."
   ]
  },
  {
   "cell_type": "markdown",
   "id": "f8992f34-84fd-4bcf-91ef-4f3574e03be2",
   "metadata": {},
   "source": [
    "El operador `$expr` permite comparar los valores de los campos, de manera que se pueda usar con operadores lógicos."
   ]
  },
  {
   "cell_type": "markdown",
   "id": "11cdb19c-95ba-4957-80a9-132c46198b01",
   "metadata": {},
   "source": [
    "- Vamos a buscar los documentos los cuales el valor del campo `tipo de pregunta` sea mayor al campo `dificultad`."
   ]
  },
  {
   "cell_type": "markdown",
   "id": "d0e71361-1f3f-4976-867c-b787cb2a028c",
   "metadata": {},
   "source": [
    "```powershell\n",
    "Input: \n",
    "\n",
    "> db.preguntas.find({\n",
    "    $expr: { $gt: [ '$dificultad', '$tipo de pregunta' ] } \n",
    "});\n",
    "```"
   ]
  },
  {
   "cell_type": "markdown",
   "id": "2f9c50be-d4e1-4a52-8602-67d87129d22d",
   "metadata": {},
   "source": [
    "- Deseamos saber la cantidad de documentos los cuales el valor del campo `dificultad` es igual al campo `tipo de pregunta`."
   ]
  },
  {
   "cell_type": "markdown",
   "id": "632f8bbd-3484-47c3-8362-84fc771a0e5b",
   "metadata": {},
   "source": [
    "```powershell\n",
    "Input: \n",
    "\n",
    "> db.preguntas.find({\n",
    "    $expr: { $eq: [ '$dificultad', '$tipo de pregunta' ] } \n",
    "}).count();\n",
    "```"
   ]
  },
  {
   "cell_type": "markdown",
   "id": "5a99efa2-5a32-4d7d-98e0-9f69a5006ab5",
   "metadata": {},
   "source": [
    "Vemos que podemos acceder al valor de un campo escribiendo el caracter `$` antes del nombre del campo."
   ]
  },
  {
   "cell_type": "markdown",
   "id": "636819ea-d3a0-4ef9-975a-2126d723506e",
   "metadata": {},
   "source": [
    "```{warning}\n",
    "No se pueden usar expresiones de agregación sin el operador `$expr`.\n",
    "```"
   ]
  },
  {
   "cell_type": "markdown",
   "id": "0b273b6a-a087-4259-bfd8-0c2ad7a2b1f9",
   "metadata": {
    "tags": []
   },
   "source": [
    "### <span style=\"color:#4CC9F0\">Operadores de consulta de arreglos</span>"
   ]
  },
  {
   "cell_type": "markdown",
   "id": "7a9adb61-4f1f-477d-95fb-f0a0f5b3d93f",
   "metadata": {},
   "source": [
    "Debemos recordar que los arreglos son ordenados por lo que `{lista : [1,2,3,4]}` es diferente de `{lista : [4,2,3,1]}` aunque tenga los mismos elementos."
   ]
  },
  {
   "cell_type": "markdown",
   "id": "3d72ceb6-3116-49f1-a4ef-82b33ade129c",
   "metadata": {
    "tags": []
   },
   "source": [
    "#### **Búsqueda de elementos de un arreglo con documentos**"
   ]
  },
  {
   "cell_type": "markdown",
   "id": "1eec7678-7f2e-48bc-9acf-df436e3dda06",
   "metadata": {},
   "source": [
    "Para los casos en que los arreglos tienen como elementos a documentos como el del siguiente ejemplo:"
   ]
  },
  {
   "cell_type": "markdown",
   "id": "d3b4af27-d435-4292-a1cc-0441caa0ae5a",
   "metadata": {},
   "source": [
    "```json\n",
    "{<campo_arreglo>:[\n",
    "    {<campo_11>: <valor_11>, <campo_12>: <valor_12>, ... },\n",
    "    {<campo_21>: <valor_21>, <campo_22>: <valor_22>, ... },\n",
    "    ... , \n",
    "    {<campo_n1>: <valor_n1>, <campo_n2>: <valor_n2>, ... },\n",
    "    ]\n",
    "}\n",
    "```"
   ]
  },
  {
   "cell_type": "markdown",
   "id": "5db919d4-7f34-4aa9-8469-ed364e415e3b",
   "metadata": {},
   "source": [
    "El operador `$elemMatch` trae los documentos que contienen un campo de arreglo, de manera que los documentos coinciden con todos los campos y valores del criterio de la búsqueda."
   ]
  },
  {
   "cell_type": "markdown",
   "id": "7228ac17-52d9-4477-a98e-1c4f8e4aeb57",
   "metadata": {},
   "source": [
    "```json\n",
    "db.collection.find(\n",
    "    { <campo_arreglo>: {$elemMatch: { <campo_1>: <valor_1>, <campo_2>: <valor_2>}, ... } },\n",
    "    { <projection>}\n",
    ")\n",
    "```"
   ]
  },
  {
   "cell_type": "markdown",
   "id": "08c1b7dc-9dca-4ff9-8037-8b664960528e",
   "metadata": {
    "tags": []
   },
   "source": [
    "#### **Búsqueda de elementos de un arreglo**"
   ]
  },
  {
   "cell_type": "markdown",
   "id": "8f7a6a4e-9594-4bc0-96c5-cd3b913b23c3",
   "metadata": {},
   "source": [
    "Para buscar los documentos que dentro de un campo de tipo arreglo tenga ciertos elementos utilizamos el operador `$all`."
   ]
  },
  {
   "cell_type": "markdown",
   "id": "24668297-c0b4-4f56-8aa1-ebbf79342e78",
   "metadata": {},
   "source": [
    "```json\n",
    "{ <campo>: { $all: [ 'item_1', 'item_2', ... ] } }\n",
    "```"
   ]
  },
  {
   "cell_type": "markdown",
   "id": "24ab8ef5-adcd-4161-ac38-cbaa07717467",
   "metadata": {
    "tags": []
   },
   "source": [
    "#### **Búsqueda de un arreglo por tamaño**"
   ]
  },
  {
   "cell_type": "markdown",
   "id": "ebdfe436-71d4-416c-ac47-79dfe8970e4e",
   "metadata": {},
   "source": [
    "El operador `$size` nos permite buscar según el tamaño del arreglo."
   ]
  },
  {
   "cell_type": "markdown",
   "id": "80fe37ea-62ae-4c67-97ea-30795dfc7eab",
   "metadata": {},
   "source": [
    "```json\n",
    "{ <campo>: { $size: 2 } }\n",
    "```"
   ]
  },
  {
   "cell_type": "markdown",
   "id": "c6f4d7ed-c69c-4165-91a1-f44a6a92b3f8",
   "metadata": {
    "tags": []
   },
   "source": [
    "## <span style=\"color:#4361EE\">Variables</span> "
   ]
  },
  {
   "cell_type": "markdown",
   "id": "26c9e1e3-1a2f-4929-966c-c1867bbc2a90",
   "metadata": {},
   "source": [
    "Podemos asignar un cursor a una variable."
   ]
  },
  {
   "cell_type": "markdown",
   "id": "2e9d3ac2-2f08-41a3-8a88-e1a4faf65fae",
   "metadata": {},
   "source": [
    "```powershell\n",
    "Input: \n",
    "\n",
    "> var preguntas = db.preguntas.find();\n",
    "\n",
    "> preguntas\n",
    "```"
   ]
  },
  {
   "cell_type": "markdown",
   "id": "df97048f-4b49-48dd-b449-09408d012df5",
   "metadata": {},
   "source": [
    "Se debe tener presente que la consulta únicamente se realizará cuando se llame a la variable y una vez hecho esto, se consumirá el cursor, por lo cual al llamarla nuevamente no nos retornará nada."
   ]
  },
  {
   "cell_type": "markdown",
   "id": "bf6f60c4-4bcd-4b97-98da-f54fc0760073",
   "metadata": {
    "tags": []
   },
   "source": [
    "## <span style=\"color:#4361EE\">Proyecciones</span> "
   ]
  },
  {
   "cell_type": "markdown",
   "id": "8ed8acf3-8529-4268-9fde-c4b52ec9b28e",
   "metadata": {},
   "source": [
    "Cuando tenemos documentos con demasiada información se hace muy complicado visualizar la información de manera clara."
   ]
  },
  {
   "cell_type": "markdown",
   "id": "73f99003-a9ef-4b14-8145-be81ca3a5b2a",
   "metadata": {},
   "source": [
    "Por lo cual podemos utilizar proyecciones para visualizar solo los atributos deseados."
   ]
  },
  {
   "cell_type": "markdown",
   "id": "68c06b54-7d62-4929-a2c4-24aaae18ff33",
   "metadata": {},
   "source": [
    "```json\n",
    "db.collection.find(\n",
    "    { <query> }, // búsqueda\n",
    "    { atributo_1: 1, atributo_2: 1, ... } //proyección\n",
    ")\n",
    "```"
   ]
  },
  {
   "cell_type": "markdown",
   "id": "8d15f17b-3530-4b8d-93a3-36c961979b4b",
   "metadata": {},
   "source": [
    "En este caso solo se mostrará los atributos indicados en la proyección."
   ]
  },
  {
   "cell_type": "markdown",
   "id": "9ae16191-7c88-4062-a089-55fbf3dce15e",
   "metadata": {},
   "source": [
    "Para seleccionar los visualizar los atributos se tienen tres casos:"
   ]
  },
  {
   "cell_type": "markdown",
   "id": "15ad2d55-5513-46ed-bd8c-3fc34f464841",
   "metadata": {
    "tags": []
   },
   "source": [
    "### <span style=\"color:#4CC9F0\">Caso 1</span>"
   ]
  },
  {
   "cell_type": "markdown",
   "id": "4ce98b08-49bd-4d77-bb9f-5b79c400ff32",
   "metadata": {},
   "source": [
    "Solo se visualizarán los atributos escritos con valor `true` o `1`."
   ]
  },
  {
   "cell_type": "markdown",
   "id": "136c4e72-5f6f-4e66-b115-5a5fa20f9321",
   "metadata": {},
   "source": [
    "```json\n",
    "db.collection.find(\n",
    "    { <query> },\n",
    "    { atributo_1: 1, atributo_2: 1, atributo_3: true}\n",
    ")\n",
    "```"
   ]
  },
  {
   "cell_type": "markdown",
   "id": "72c2b98d-e7cf-42c0-83e5-d9542f841b44",
   "metadata": {
    "tags": []
   },
   "source": [
    "### <span style=\"color:#4CC9F0\">Caso 2</span>"
   ]
  },
  {
   "cell_type": "markdown",
   "id": "371ee556-387e-4cbe-932d-20c20db18efe",
   "metadata": {},
   "source": [
    "Se visualizarán los atributos que **no** estén escritos en la proyección con valor `false` o `0`."
   ]
  },
  {
   "cell_type": "markdown",
   "id": "0366d952-2afd-47e9-a14b-52b3f286db8a",
   "metadata": {},
   "source": [
    "```json\n",
    "db.collection.find(\n",
    "    { <query> },\n",
    "    { atributo_1: 0, atributo_2: 0, atributo_3: false}\n",
    ")\n",
    "```"
   ]
  },
  {
   "cell_type": "markdown",
   "id": "c9081c12-4e4d-45a0-b98c-a373b295c452",
   "metadata": {
    "tags": []
   },
   "source": [
    "### <span style=\"color:#4CC9F0\">Caso 3</span>"
   ]
  },
  {
   "cell_type": "markdown",
   "id": "108426d5-5dc5-4101-ab23-29d964c6af8a",
   "metadata": {},
   "source": [
    "Solo se mezclarán `1` y `0` si se desea ocultar el atributo `_id` dado que este está dado por defecto."
   ]
  },
  {
   "cell_type": "markdown",
   "id": "2452c0af-8c8e-4ef2-aaea-c33eafec28ea",
   "metadata": {},
   "source": [
    "```json\n",
    "db.collection.find(\n",
    "    { <query> },\n",
    "    { atributo_1: 1, atributo_2: 1, _id: false}\n",
    ")\n",
    "```"
   ]
  },
  {
   "cell_type": "markdown",
   "id": "b77f0d43-e3bf-4ce2-839d-6210b49698c9",
   "metadata": {},
   "source": [
    "```{warning}\n",
    "A excepción del caso 3. no se debe combinar `true` y `false` en una misma proyección dado que esto produce error.\n",
    "```"
   ]
  },
  {
   "cell_type": "markdown",
   "id": "75bbf122-c0a1-4827-b9ef-18c9453e8598",
   "metadata": {
    "tags": []
   },
   "source": [
    "### <span style=\"color:#4CC9F0\">elemMatch</span>"
   ]
  },
  {
   "cell_type": "markdown",
   "id": "09506afb-29fc-4c09-a5ea-60f9f401d219",
   "metadata": {},
   "source": [
    "Muestra únicamente los documentos contenidos un campo de arreglo, que coincide con todos los elementos del criterio de la proyección."
   ]
  },
  {
   "cell_type": "markdown",
   "id": "74aba011-c4f5-4f84-8932-9ccb78fc9911",
   "metadata": {},
   "source": [
    "```json\n",
    "db.collection.find(\n",
    "    { <query>},\n",
    "    { <campo_arreglo>: {$elemMatch: { <campo_1>: <valor_1>, <campo_2>: <valor_2>, ... } } }    \n",
    ")\n"
   ]
  },
  {
   "cell_type": "markdown",
   "id": "b3ea520c-c7d8-4ec5-bced-f7fe9d056856",
   "metadata": {
    "tags": []
   },
   "source": [
    "## <span style=\"color:#4361EE\">Actualizar documentos</span> "
   ]
  },
  {
   "cell_type": "markdown",
   "id": "c9df275d-12a4-4536-9a3b-90cb04d1bed8",
   "metadata": {},
   "source": [
    "Para actualizar los documentos utilizamos los métodos `updateOne()` y `updateMany()`."
   ]
  },
  {
   "cell_type": "markdown",
   "id": "3f9a9d99-eee9-4691-9799-d87f15229a7c",
   "metadata": {},
   "source": [
    "**Actualizar un documento**"
   ]
  },
  {
   "cell_type": "markdown",
   "id": "384a530a-b0dd-4375-8db0-ddfc8ef6d226",
   "metadata": {},
   "source": [
    "La sintaxis para este es: `db.collection.updateOne( { <filtro> }, { <actualización> } );`. "
   ]
  },
  {
   "cell_type": "markdown",
   "id": "8387fd74-1727-4153-8031-1a196a82d214",
   "metadata": {},
   "source": [
    "**Actualizar varios documentos**"
   ]
  },
  {
   "cell_type": "markdown",
   "id": "b88314f7-eea9-4aa7-9ae7-7af9d65eb942",
   "metadata": {},
   "source": [
    "La sintaxis para este es: `db.collection.updateMany( { <filtro> }, { <actualización> } );`. "
   ]
  },
  {
   "cell_type": "markdown",
   "id": "6435c0d3-1e3a-4cf1-8946-6a8469202503",
   "metadata": {},
   "source": [
    "- Filtro: aquí se especifica el documento al cual se va a realizar la actualización.\n",
    "- Actualización: se indica los cambios a realizar. Este debe contener un **operador de actualización**"
   ]
  },
  {
   "cell_type": "markdown",
   "id": "3a09e076-0db9-4c4f-9be1-cb6a02bc771b",
   "metadata": {
    "tags": []
   },
   "source": [
    "### <span style=\"color:#4CC9F0\">Operadores de actualización</span>"
   ]
  },
  {
   "cell_type": "markdown",
   "id": "e028cc7c-f93e-47fb-a8dc-c4b1791de882",
   "metadata": {},
   "source": [
    "```json\n",
    "\n",
    "// Incrementa el valor de un campo en un monto en específico.\n",
    "\n",
    "> {$inc:{ <campo_1> : <valor_a_incrementar_1>, <campo_2> : <valor_a_incrementar_2>, ... } }\n",
    "\n",
    "\n",
    "// Reemplaza el valor de un campo a un nuevo valor.\n",
    "\n",
    "> {$set:{ <campo_1> : <nuevo_valor_1>, <campo_2> : <nuevo_valor_2>, ... } }\n",
    "\n",
    "\n",
    "// Elimina los campos indicados\n",
    "\n",
    "> {$unset:{ <campo_1> : \"\" , <campo_2> : \"\" , ... } }\n",
    "\n",
    "\n",
    "// Cambia el nombre de un campo\n",
    "\n",
    "> {$rename: { <campo> : <nuevo_nombre> } } \n",
    "```"
   ]
  },
  {
   "cell_type": "markdown",
   "id": "a64bd0e6-b8a1-4be8-81fb-2aa04e2cdbe4",
   "metadata": {},
   "source": [
    "#### **Ejemplos**"
   ]
  },
  {
   "cell_type": "markdown",
   "id": "6322cbd0-2da4-46fc-9f41-a43a6edf24b2",
   "metadata": {},
   "source": [
    "- Vamos a incrementar dos niveles la dificultad el documento que contiene el campo y el valor `'pregunta': '¿Qué es un corpus?'`."
   ]
  },
  {
   "cell_type": "markdown",
   "id": "975b415a-418d-4c2d-b400-cb57ba4a50e6",
   "metadata": {},
   "source": [
    "```json\n",
    "Input: \n",
    "\n",
    "> db.preguntas.updateOne(\n",
    "    {\n",
    "        'pregunta': '¿Qué es un corpus?'\n",
    "    },\n",
    "    {\n",
    "        $inc:{\n",
    "            'dificultad': 2\n",
    "        }\n",
    "    }\n",
    ");\n",
    "```"
   ]
  },
  {
   "cell_type": "markdown",
   "id": "c825341b-6875-4293-a86a-d7ad13adb6e7",
   "metadata": {},
   "source": [
    "En este caso actualizamos un atributo `'dificultad': 3`, pero **si este no existiera automáticamente lo añadiría al documento**."
   ]
  },
  {
   "cell_type": "markdown",
   "id": "4f6af41c-b081-4dec-bee2-a5480962a3a5",
   "metadata": {},
   "source": [
    "- Cambiemos el valor del campo a `'dificultad': 1`, del campo y el valor `'pregunta': '¿Qué es un corpus?'`."
   ]
  },
  {
   "cell_type": "markdown",
   "id": "f93361ec-65bd-4f3d-aecb-687e0e4de3a9",
   "metadata": {},
   "source": [
    "```json\n",
    "Input: \n",
    "\n",
    "> db.preguntas.updateOne(\n",
    "    {\n",
    "        'pregunta': '¿Qué es un corpus?'\n",
    "    },\n",
    "    {\n",
    "        $set:{\n",
    "            'dificultad': 1\n",
    "        }\n",
    "    }\n",
    ");\n",
    "```"
   ]
  },
  {
   "cell_type": "markdown",
   "id": "ded893a4-70c2-4b0d-997c-8da1963c600a",
   "metadata": {
    "tags": []
   },
   "source": [
    "### <span style=\"color:#4CC9F0\">Actualización de arreglos</span>"
   ]
  },
  {
   "cell_type": "markdown",
   "id": "4786f4d5-6a3d-4dfc-80a2-3e69b8fabdda",
   "metadata": {},
   "source": [
    "Para poder operar arreglos tenemos que hacerlo con operadores especiales."
   ]
  },
  {
   "cell_type": "markdown",
   "id": "0db2eaf9-808e-416b-905d-93245dbb7ad0",
   "metadata": {
    "tags": []
   },
   "source": [
    "#### **Añadir un nuevo elemento a un arreglo**"
   ]
  },
  {
   "cell_type": "markdown",
   "id": "e2418def-1344-4a1d-844a-f97c825dfaa7",
   "metadata": {},
   "source": [
    "```json\n",
    "{ $push: { <campo_1>: <valor_1>, <campo_2>: <valor_2>, ... } }\n",
    "```"
   ]
  },
  {
   "cell_type": "markdown",
   "id": "e5129516-0f27-49ce-b7ee-36627f6e1492",
   "metadata": {},
   "source": [
    "- Convierte un campo en un campo de arreglo si este era de un tipo diferente."
   ]
  },
  {
   "cell_type": "markdown",
   "id": "5232b8d9-3be2-42af-8a29-c75f3696caab",
   "metadata": {
    "tags": []
   },
   "source": [
    "#### **Eliminar un elemento de un arreglo**"
   ]
  },
  {
   "cell_type": "markdown",
   "id": "3612a2dd-2178-4a98-a1d4-2f4e268808c4",
   "metadata": {},
   "source": [
    "```json\n",
    "{ $pull: { <campo_1>: <valor|condición_1>, <campo_2>: <valor|condición_2>, ... } }\n",
    "```"
   ]
  },
  {
   "cell_type": "markdown",
   "id": "bafeb967-a0c3-4e17-8a89-3b62b3bf266a",
   "metadata": {
    "tags": []
   },
   "source": [
    "## <span style=\"color:#4361EE\">Eliminación</span> "
   ]
  },
  {
   "cell_type": "markdown",
   "id": "071c8670-c717-4810-9e8c-9fea51fc6ffb",
   "metadata": {
    "tags": []
   },
   "source": [
    "### <span style=\"color:#4CC9F0\">Eliminar documentos</span>"
   ]
  },
  {
   "cell_type": "markdown",
   "id": "fb1c3dff-cd67-4b63-b699-c02b5996ae38",
   "metadata": {},
   "source": [
    "Usaremos los métodos `deleteOne()` y `deleteMany()` para eliminar documentos"
   ]
  },
  {
   "cell_type": "markdown",
   "id": "10145d57-f80c-4a80-9af6-82dd81a699af",
   "metadata": {},
   "source": [
    "Su sintaxis es:\n",
    "- `deleteOne( { <campo>: <valor> } )`\n",
    "- `deleteMany( { <campo_1>: <valor_1>, <campo_2>: <valor_2>, ...} )`"
   ]
  },
  {
   "cell_type": "markdown",
   "id": "254ac62f-5dd3-415d-8477-8577ef43bd65",
   "metadata": {},
   "source": [
    "#### **Ejemplo**"
   ]
  },
  {
   "cell_type": "markdown",
   "id": "20c79116-c92e-4384-9bab-eb54ecbe185c",
   "metadata": {},
   "source": [
    "Eliminemos el documento con el campo y valor `pregunta: '¿Qué significa \"dmt\"?'`."
   ]
  },
  {
   "cell_type": "markdown",
   "id": "190afeae-b84f-427b-8f86-d5ead09f9075",
   "metadata": {},
   "source": [
    "```json\n",
    "Input:\n",
    "\n",
    "> db.preguntas.deleteOne({'pregunta': '¿Qué significa \"dmt\"?'});\n",
    "```"
   ]
  },
  {
   "cell_type": "markdown",
   "id": "0694d729-da1e-4a3a-a5c5-9e208ad7b27f",
   "metadata": {},
   "source": [
    "Este código elimina todos los documentos que tengas el campo y valor igual a `'pregunta': '¿Qué significa \"dmt\"?'`."
   ]
  },
  {
   "cell_type": "markdown",
   "id": "ea5aef3e-7b69-4269-8945-207485955428",
   "metadata": {
    "tags": []
   },
   "source": [
    "### <span style=\"color:#4CC9F0\">Eliminar coleciones</span>"
   ]
  },
  {
   "cell_type": "markdown",
   "id": "cf5f72e0-87d3-4bb6-995c-6723bacdc1b4",
   "metadata": {},
   "source": [
    "Eliminamos las colecciones el método `drop()`, que cuenta con la siguiente sintaxis: `db.collection.drop()`."
   ]
  },
  {
   "cell_type": "markdown",
   "id": "e9a4ff72-c1e8-4041-b0e7-ea9853a33a66",
   "metadata": {},
   "source": [
    "#### **Ejemplo**"
   ]
  },
  {
   "cell_type": "markdown",
   "id": "ddf488d8-ce6d-4b61-9fe6-ee40ad559d9d",
   "metadata": {},
   "source": [
    "Creamos una nueva colección con un documento"
   ]
  },
  {
   "cell_type": "markdown",
   "id": "0c489819-a91c-4b85-8f27-88d6c4cf07ab",
   "metadata": {},
   "source": [
    "```json\n",
    "Input:\n",
    "\n",
    "> db.ejemplo.insertOne({'campo_1': 'valor_1'});\n",
    "```"
   ]
  },
  {
   "cell_type": "markdown",
   "id": "df7776d0-31ef-43b5-9076-b36cd1a47620",
   "metadata": {},
   "source": [
    "Ahora eliminamos la colección 'prueba'."
   ]
  },
  {
   "cell_type": "markdown",
   "id": "fcd16aaf-e1b5-4536-95d2-d36a476dee6b",
   "metadata": {},
   "source": [
    "```json\n",
    "Input: \n",
    "\n",
    "> db.ejemplo.drop();\n",
    "```"
   ]
  },
  {
   "cell_type": "markdown",
   "id": "422dc736-1c39-4ccd-8891-014f7ea7b742",
   "metadata": {
    "tags": []
   },
   "source": [
    "### <span style=\"color:#4CC9F0\">Eliminar bases de datos</span>"
   ]
  },
  {
   "cell_type": "markdown",
   "id": "b61b5eb7-e673-4dbb-a719-469718a4eb2f",
   "metadata": {},
   "source": [
    "Eliminamos las base de datos en la cual estamos trabajando con el siguiente código: `db.collection.drop()`."
   ]
  },
  {
   "cell_type": "markdown",
   "id": "ac0ef0a0-8019-46e0-be5d-39b20e495c6b",
   "metadata": {},
   "source": [
    "```powershell\n",
    "Input: \n",
    "\n",
    "> db.dropDatabase();\n"
   ]
  },
  {
   "cell_type": "markdown",
   "id": "9e1e9967-08d5-430e-b7ed-c9a2c900dbee",
   "metadata": {},
   "source": [
    "Así eliminamos toda la base de datos."
   ]
  },
  {
   "cell_type": "markdown",
   "id": "b449bbb5-6f17-4e72-be98-eeea6a599c8d",
   "metadata": {
    "tags": []
   },
   "source": [
    "## <span style=\"color:#4361EE\">Búsqueda de arreglos y subdocumentos</span> "
   ]
  },
  {
   "cell_type": "markdown",
   "id": "dcd29767-f480-4bfe-8f58-cf3a6330256e",
   "metadata": {},
   "source": [
    "**Subdocumentos:** Son documentos que se encuentran dentro de otros documentos o dentro de campos de arreglo."
   ]
  },
  {
   "cell_type": "markdown",
   "id": "915b5702-5c35-498d-9a4b-0d631bd8dda1",
   "metadata": {},
   "source": [
    "Para poder acceder a subdocumetos podemos ver que MongoDB usamos \"*dot notation*\" (notación de punto) esto nos da la pauta para acceder a estos subdocumentos."
   ]
  },
  {
   "cell_type": "markdown",
   "id": "2cf81d32-0d2a-472e-80fc-6f658e75e9df",
   "metadata": {},
   "source": [
    "Vemos que el siguiente documento tiene subdocumentos dentro de un arreglo:"
   ]
  },
  {
   "cell_type": "markdown",
   "id": "d5fdfa96-5feb-4212-89b7-d6718c0b64b5",
   "metadata": {},
   "source": [
    "```json\n",
    "{\n",
    "  nombre : 'Jose',\n",
    "  edad: 19,\n",
    "  mascotas: [\n",
    "              { tipo: 'perro', nombre : 'Firulais', edad: 3},\n",
    "              { tipo: 'gato',  nombre: 'Michi', edad:1}\n",
    "            ],\n",
    "  profesion: 'Estudiante'\n",
    "}\n",
    "```"
   ]
  },
  {
   "cell_type": "markdown",
   "id": "efc37f0f-d5dd-4b7d-ac1b-8c41188c651d",
   "metadata": {},
   "source": [
    "Para realizar búsquedas dentro del subdocumento utilizamos la notación de punto.\n",
    "\n",
    "Vemos que los subdocumentos están dentro de un arreglo, por lo cual utilizaremos la ubicación dentro de este para realizar la búsqueda."
   ]
  },
  {
   "cell_type": "markdown",
   "id": "71330ecd-2436-47fe-8385-a529e6d1be84",
   "metadata": {},
   "source": [
    "En el siguiente ejemplo nos trae el nombre de de la persona."
   ]
  },
  {
   "cell_type": "markdown",
   "id": "9b006fe8-5de8-4b87-a15b-f9f628270cfc",
   "metadata": {},
   "source": [
    "```json\n",
    "input:\n",
    "\n",
    "db.collection.find({ 'mascotas.0.tipo': 'perro'}, {nombre: 1});\n",
    "\n",
    "output:\n",
    "\n",
    "[\n",
    "    { _id: ObjectId(\"63gv\"), nombre: 'Jose' }\n",
    "]\n",
    "```"
   ]
  },
  {
   "cell_type": "markdown",
   "id": "f25900b2-0123-4596-b465-855e5943f2bd",
   "metadata": {},
   "source": [
    "Para poder obtener el nombre de la mascota usamos la siguiente proyección."
   ]
  },
  {
   "cell_type": "markdown",
   "id": "75635822-aea1-4b2b-aa89-a11d38edc800",
   "metadata": {},
   "source": [
    "```json\n",
    "input:\n",
    "\n",
    "db.collection.find({ 'mascotas.0,tipo': 'perro'}, {'mascota.0.nombre':1}); \n",
    "\n",
    "\n",
    "output:\n",
    "\n",
    "[\n",
    "    {_id: ObjectId(\"63gv\"), mascota: { nombre: 'Firulais' } \n",
    "]\n",
    "```"
   ]
  },
  {
   "cell_type": "markdown",
   "id": "1b00c886-60b0-4db9-9638-e2fbc6360b3b",
   "metadata": {
    "tags": []
   },
   "source": [
    "## <span style=\"color:#4361EE\">Listar valores de un campo</span> "
   ]
  },
  {
   "cell_type": "markdown",
   "id": "b6feeb31-81f5-4eae-b6ae-186667125486",
   "metadata": {},
   "source": [
    "Para realizar una búsqueda donde nos indique cuales son los valores los cuales contienen un campo de una colección, es decir que traiga un listado de todos los valores que contiene un campo, usamos el método `distinct`."
   ]
  },
  {
   "cell_type": "markdown",
   "id": "28187fcd-2131-4f64-a9f2-5f449c360ab2",
   "metadata": {},
   "source": [
    "```powershell\n",
    "Input: \n",
    "\n",
    "> db.collection.distinct( 'campo' );\n",
    "```"
   ]
  },
  {
   "cell_type": "markdown",
   "id": "3d23ad54-b04c-4332-989d-8955b0c1795e",
   "metadata": {
    "tags": []
   },
   "source": [
    "## <span style=\"color:#4361EE\">Agregación</span> "
   ]
  },
  {
   "cell_type": "markdown",
   "id": "7cfe804b-67f4-45ce-ae9c-1093b03510ab",
   "metadata": {},
   "source": [
    "Es una función de busqueda en la cual podemos aplicar múltiples filtros para poder generar un resltado tan específico como queramos."
   ]
  },
  {
   "cell_type": "markdown",
   "id": "bab32f3e-4fe1-4722-bb0c-bfec6a7bf2e6",
   "metadata": {},
   "source": [
    "```json\n",
    "db.collection.aggregate([ { <etapa_1> }, {<etapa_2>}, ... ]);\n"
   ]
  },
  {
   "cell_type": "markdown",
   "id": "e67ad326-3a66-439d-aaa0-e68a02533473",
   "metadata": {
    "tags": []
   },
   "source": [
    "### <span style=\"color:#4CC9F0\">Entubamiento</span>"
   ]
  },
  {
   "cell_type": "markdown",
   "id": "601b0011-ff05-4693-ba1d-b6c455b99ad3",
   "metadata": {},
   "source": [
    "Un entubamiento (*pipeline*) de agregación consta de una o más etapas que procesan documentos:\n",
    "\n",
    "Cada etapa realiza una operación sobre los documentos de entrada. Por ejemplo, una etapa puede filtrar documentos, agrupar documentos y calcular valores.\n",
    "\n",
    "Los documentos que salen de una etapa pasan a la etapa siguiente.\n",
    "\n",
    "Una canalización de agregación puede devolver resultados para grupos de documentos. Por ejemplo, devuelva los valores total, promedio, máximo y mínimo."
   ]
  },
  {
   "cell_type": "markdown",
   "id": "9b82b16d-8423-4838-a6bf-4d8e8868bb40",
   "metadata": {
    "tags": []
   },
   "source": [
    "### <span style=\"color:#4CC9F0\">Operadores</span>"
   ]
  },
  {
   "cell_type": "markdown",
   "id": "a0b9a77b-4f3b-497d-95a2-1269db31d0be",
   "metadata": {},
   "source": [
    "```json\n",
    "// Trae los documentos que coinciden con los parámetros establecidos en la búsqueda (query).\n",
    "> { $match: { <campo_1>: <valor_1>, <campo_2>: <valor_2>, ... } }\n",
    "\n",
    "\n",
    "// Agrupa por el campo indicado y trae los valores o características que se soliciten como parámetro.\n",
    "> { $group: { _id: <campo_de_filtro>, <nombre_del_campo_1>: <valor_1>, <nombre_del_campo_2>: <valor_2>, ... } }\n",
    "\n",
    "\n",
    "// Crea una \"subcolección\" en la cual podemos agregar nuevos campos o renombrar campos existentes.\n",
    "> { $project : { <campo_1>: 1, <campo_2>: '$campo', <campo_nuevo>: <parámetro>, ... } }\n",
    "```"
   ]
  },
  {
   "cell_type": "markdown",
   "id": "5d303449-8b51-43f0-a35b-046397e2f91d",
   "metadata": {},
   "source": [
    "- `$match`: Este funciona en genereal de igual manera a una búsqueda que podamos realizar con `find()` con los parámetros que le indiquemos."
   ]
  },
  {
   "cell_type": "markdown",
   "id": "9e5adb6e-d754-4c34-b2cd-8b4053603f9f",
   "metadata": {},
   "source": [
    "- Operador `$group`:\n",
    "    - En el campo `_id` ponemos el campo por el cual deseamos filtrar, esto nos traera los valores de los campos como identificador de un documento nuevo dentro de la agregación.\n",
    "    - Los demás campos serán los atributos del campo `_id` dentro de la agregación, estos pueden ser atributos de la colección o nuevos atributos creados con parámetro de operadores o valores indicados arbitrariamente."
   ]
  },
  {
   "cell_type": "markdown",
   "id": "40922a0f-6c8e-40ef-837a-2c010af57edf",
   "metadata": {},
   "source": [
    "- Operador `$project`: \n",
    "    - Para mostrar únicamente ciertos campos los escribimos de la siguiente manera: `{$project: { <campo>: 1 } }`.\n",
    "    - Para renombrar campos lo hacemos de la siguiente manera: `{{$project: { <nuevo_nombre>: '$campo' } }`.\n",
    "    - Para crear nuevos campos traemos los escribimos de la siguiente manera: `{$project: { <campo_nuevo>: { <operador>: <parámetro> } } }`."
   ]
  },
  {
   "cell_type": "markdown",
   "id": "c4b0c65c-f832-4f6b-911f-725024cb2cf7",
   "metadata": {
    "tags": []
   },
   "source": [
    "## <span style=\"color:#4361EE\">Permisos de usuario</span> "
   ]
  },
  {
   "cell_type": "markdown",
   "id": "5c68e654-65a9-4f25-8967-8632b772afae",
   "metadata": {},
   "source": [
    "## <span style=\"color:#4361EE\">Referencias</span>"
   ]
  },
  {
   "cell_type": "markdown",
   "id": "c63e2ed5-4b06-41df-a3da-ddfbef65af1d",
   "metadata": {},
   "source": [
    "1. https://www.mongodb.com/docs/manual"
   ]
  }
 ],
 "metadata": {
  "kernelspec": {
   "display_name": "Python 3 (ipykernel)",
   "language": "python",
   "name": "python3"
  },
  "language_info": {
   "codemirror_mode": {
    "name": "ipython",
    "version": 3
   },
   "file_extension": ".py",
   "mimetype": "text/x-python",
   "name": "python",
   "nbconvert_exporter": "python",
   "pygments_lexer": "ipython3",
   "version": "3.10.4"
  }
 },
 "nbformat": 4,
 "nbformat_minor": 5
}
