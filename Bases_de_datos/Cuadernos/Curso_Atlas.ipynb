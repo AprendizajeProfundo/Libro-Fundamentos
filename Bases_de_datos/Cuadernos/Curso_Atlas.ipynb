{
 "cells": [
  {
   "cell_type": "markdown",
   "id": "862fb20d-65b0-4b34-9643-380c99fda6bb",
   "metadata": {},
   "source": [
    "# <span style=\"color:#F72585\"><center>Atlas</center></span></center></span>"
   ]
  },
  {
   "cell_type": "markdown",
   "id": "d6adb804-98e1-44bf-98f1-e62f1be938af",
   "metadata": {},
   "source": [
    "- Servicio de nube de MongoDB.\n",
    "- MongoDB es usado en el núcleo para el almacenamiento y recuperación de los datos."
   ]
  },
  {
   "cell_type": "markdown",
   "id": "0df369e3-3d8a-4859-82ec-66807673fce5",
   "metadata": {},
   "source": [
    "## <span style=\"color:#4361EE\">Servicios</span>"
   ]
  },
  {
   "cell_type": "markdown",
   "id": "57474c97-30f8-4a7c-b399-2eaf32bf5de9",
   "metadata": {},
   "source": [
    "- Gestionar la creación de clusters.\n",
    "- Correr y mantener despliegue (deployment) de las bases de datos.\n",
    "- Interfaz de búsqueda online.\n",
    "- Sincronización de datos entre la nube y dispositivos como móviles.\n",
    "- Atlas Charts: Visualización de datos integrado.\n",
    "- API: para solicitudes HTTPS estándar.\n",
    "- API GraphQL: Para aplicaciones basadas en sucesos."
   ]
  },
  {
   "cell_type": "markdown",
   "id": "1b524535-6130-4cac-b7e0-5157c8a5eb82",
   "metadata": {},
   "source": [
    "## <span style=\"color:#4361EE\">Definiciones</span>"
   ]
  },
  {
   "cell_type": "markdown",
   "id": "16f0ef49-3854-4502-b852-6a41423181b4",
   "metadata": {},
   "source": [
    "- Clusters: Es un grupo de servidores que almacenan los datos.\n",
    "- Replica set: Unas pocas instancias que almacenan los mismos datos.\n",
    "- Instance: Es una máquina local o en la nube, que corre algún software."
   ]
  },
  {
   "cell_type": "markdown",
   "id": "602a0b8e-0d42-4331-9164-9e989fe58056",
   "metadata": {},
   "source": [
    "## <span style=\"color:#4361EE\">Notas</span>"
   ]
  },
  {
   "cell_type": "markdown",
   "id": "fdfbd28a-fbf0-41ae-84a6-ed4e6e28a285",
   "metadata": {},
   "source": [
    "La información es guardada en formato BSON y visualizada en formato JSON."
   ]
  },
  {
   "cell_type": "markdown",
   "id": "67623280-3376-4d02-83ca-2c18c6e9a596",
   "metadata": {},
   "source": [
    "## <span style=\"color:#4361EE\">Introducción</span>"
   ]
  },
  {
   "cell_type": "markdown",
   "id": "9c584aa9-1af7-4320-b28d-015daaed36dc",
   "metadata": {},
   "source": []
  },
  {
   "cell_type": "markdown",
   "id": "abef931b-644a-4825-8152-38d4fc868c38",
   "metadata": {},
   "source": [
    "## <span style=\"color:#4361EE\">Crear cuenta</span>"
   ]
  },
  {
   "cell_type": "markdown",
   "id": "ee453bd5-5693-47f9-ac1f-bd0f512d11e7",
   "metadata": {},
   "source": []
  },
  {
   "cell_type": "markdown",
   "id": "6c90ba9a-85ca-4cd6-b96a-724214d38b28",
   "metadata": {},
   "source": [
    "## <span style=\"color:#4361EE\">Servicios</span>"
   ]
  },
  {
   "cell_type": "markdown",
   "id": "d5a3abc6-23f9-4b05-8389-2b07f50ed250",
   "metadata": {},
   "source": [
    "Existen tres tipos de servicios para almacenamiento en Atlas:\n",
    "\n",
    "* **Serveless (instancia sin servidor):** Escala en demanda y solo cobra el recurso que que utiliza. Es ideal para cargas de trabajo muy variables o escasas.\n",
    "*  **Cluster:** Son varios servidores que trabajan juntos.\n",
    "    1. *Compartido:* Son servidores pequeños y se usan principalmente para la prueba gratuita, aunque también tiene opciones de pago.\n",
    "    2. *Dedicado:* Son recuros con servidores dedicados más grandes y se pueden personalizar según necesidades específicas.\n",
    "        - Hay opciones para aplicaciones de tráfico bajo y alto.\n",
    "        - Escalado de cluster habilitado de forma predeterminada.\n",
    "        - Características de seguridad mejoradas.\n",
    "        - Ideal para carga de producción.    \n",
    "\n",
    "Se puede elegir el cluster en la nube incluídos AWS, Google Cloud y Microsoft Azure."
   ]
  },
  {
   "cell_type": "markdown",
   "id": "05729794-5e35-46b1-8b83-2287ab4444ed",
   "metadata": {},
   "source": [
    "## <span style=\"color:#4361EE\">Estructura</span>"
   ]
  },
  {
   "cell_type": "markdown",
   "id": "75fe9a48-9e8a-47e5-ba7c-511332ef2d15",
   "metadata": {},
   "source": [
    "La estructura se compone de:\n",
    "\n",
    "1. Organizaciones: Permite agrupar y definir usuarios y otorgarle acceso a proyectos.\n",
    "2. Proyectos: Permiten definir y organizar recursos como clusters de bases de datos.\n",
    "    - Lo común es crear proyectos separados para entornos de desarrollo (development), pruebas (testing) y producción (production)."
   ]
  },
  {
   "cell_type": "markdown",
   "id": "10bc0eab-b1e1-48a8-b1d1-daf538ce6e8c",
   "metadata": {},
   "source": [
    "## <span style=\"color:#4361EE\">Crear Organización</span>"
   ]
  },
  {
   "cell_type": "markdown",
   "id": "888f17f9-529d-4c49-8a0a-fb835a778650",
   "metadata": {},
   "source": [
    "Vamos a organización."
   ]
  },
  {
   "cell_type": "markdown",
   "id": "2dc1310c-16be-4ae0-86c3-a630a84aaf71",
   "metadata": {},
   "source": [
    "## <span style=\"color:#4361EE\">Crear Proyecto</span>"
   ]
  },
  {
   "cell_type": "markdown",
   "id": "d4355406-8608-4044-837b-e8fe102f0939",
   "metadata": {},
   "source": [
    "Vamos a ***Projects***."
   ]
  },
  {
   "cell_type": "markdown",
   "id": "d9d079b5-6a67-45be-9556-acd54ed1336a",
   "metadata": {},
   "source": [
    "<figure>\n",
    "<center>\n",
    "<img src=\"../Imagenes/Atlas/Atlas_01.png\" width=\"600\" height=\"800\" align=\"center\"/>\n",
    "</center>\n",
    "</figure>\n",
    "\n",
    "\n",
    "Fuente: [mongodb.com](https://www.mongodb.com/try/download/community)\n",
    "\n"
   ]
  },
  {
   "cell_type": "markdown",
   "id": "9c8e6482-bff9-49f0-be38-cac50e5ac3ea",
   "metadata": {},
   "source": [
    "Luego a ***New Project***."
   ]
  },
  {
   "cell_type": "markdown",
   "id": "23128e78-cfdf-49bd-a179-1c89f1c64627",
   "metadata": {},
   "source": [
    "<figure>\n",
    "<center>\n",
    "<img src=\"../Imagenes/Atlas/Atlas_02.png\" width=\"600\" height=\"800\" align=\"center\"/>\n",
    "</center>\n",
    "</figure>\n",
    "\n",
    "\n",
    "Fuente: [mongodb.com](https://www.mongodb.com/try/download/community)\n",
    "\n"
   ]
  },
  {
   "cell_type": "markdown",
   "id": "9c48d950-fc7b-4642-90a3-3d427e5fcbcd",
   "metadata": {},
   "source": [
    "Ponemos el nombre a nuestro proyecto."
   ]
  },
  {
   "cell_type": "markdown",
   "id": "e531d651-bca3-4b92-9b22-ae37484c4396",
   "metadata": {},
   "source": [
    "<figure>\n",
    "<center>\n",
    "<img src=\"../Imagenes/Atlas/Atlas_03.png\" width=\"600\" height=\"800\" align=\"center\"/>\n",
    "</center>\n",
    "</figure>\n",
    "\n",
    "\n",
    "Fuente: [mongodb.com](https://www.mongodb.com/try/download/community)\n",
    "\n"
   ]
  },
  {
   "cell_type": "markdown",
   "id": "a9d33e0d-1543-440b-851c-73af2edd6917",
   "metadata": {},
   "source": [
    "De manera predeterminada nos añadirá como dueño del proyecto, si deseamos añadir más usuarios podemos hacerlo o si no simplemente damos en ***Create Project***."
   ]
  },
  {
   "cell_type": "markdown",
   "id": "cf283996-cd8a-40a3-bbe6-9623d7809282",
   "metadata": {},
   "source": [
    "<figure>\n",
    "<center>\n",
    "<img src=\"../Imagenes/Atlas/Atlas_04.png\" width=\"600\" height=\"800\" align=\"center\"/>\n",
    "</center>\n",
    "</figure>\n",
    "\n",
    "\n",
    "Fuente: [mongodb.com](https://www.mongodb.com/try/download/community)\n",
    "\n"
   ]
  },
  {
   "cell_type": "markdown",
   "id": "e6976dcc-b206-4b5c-8178-7713eb08dc31",
   "metadata": {},
   "source": [
    "## Añadir dirección IP"
   ]
  },
  {
   "cell_type": "markdown",
   "id": "af18c6ea-bdc9-45ac-9e10-6ca18cf80cc5",
   "metadata": {},
   "source": [
    "Atlas bloquea el acceso de todas las direcciones IP, excepto el propio atlas, por lo cual deberemos añadir las direcciones IP desde las cuales nos vamos a conectar. Este paso es muy importante dado que si no se encuetra inscrita la IP no podremos acceder a la base de datos."
   ]
  },
  {
   "cell_type": "markdown",
   "id": "cfe5ed77-3d11-4728-9a67-ee04b0dc1502",
   "metadata": {},
   "source": [
    "<figure>\n",
    "<center>\n",
    "<img src=\"../Imagenes/Atlas/Atlas_05.png\" width=\"200\" height=\"200\" align=\"center\"/>\n",
    "</center>\n",
    "</figure>\n",
    "\n",
    "\n",
    "Fuente: [mongodb.com](https://www.mongodb.com/try/download/community)\n",
    "\n"
   ]
  },
  {
   "cell_type": "markdown",
   "id": "101977ea-1ed8-4eb9-95bf-d10a00118548",
   "metadata": {},
   "source": [
    "Vamos a ***Network Access*** y luego damos clic en ***Add IP Address***."
   ]
  },
  {
   "cell_type": "markdown",
   "id": "a90c42e8-e2a2-4e4f-92d7-90a4b6f82194",
   "metadata": {},
   "source": [
    "<figure>\n",
    "<center>\n",
    "<img src=\"../Imagenes/Atlas/Atlas_06.png\" width=\"600\" height=\"800\" align=\"center\"/>\n",
    "</center>\n",
    "</figure>\n",
    "\n",
    "\n",
    "Fuente: [mongodb.com](https://www.mongodb.com/try/download/community)\n",
    "\n"
   ]
  },
  {
   "cell_type": "markdown",
   "id": "83cff75b-8217-4169-9e61-b87e5822c699",
   "metadata": {},
   "source": [
    "Ponemos la dirección IP en *Access List Entry:* y en *Comment:* podemos escribir un comentario, por ejemplo el nombre del usuario que se conecta desde esa IP."
   ]
  },
  {
   "cell_type": "markdown",
   "id": "0c53ceac-76b3-458c-be56-6cdccd45e704",
   "metadata": {},
   "source": [
    "<figure>\n",
    "<center>\n",
    "<img src=\"../Imagenes/Atlas/Atlas_07.png\" width=\"600\" height=\"800\" align=\"center\"/>\n",
    "</center>\n",
    "</figure>\n",
    "\n",
    "\n",
    "Fuente: [mongodb.com](https://www.mongodb.com/try/download/community)\n",
    "\n"
   ]
  },
  {
   "cell_type": "markdown",
   "id": "6d3a88f0-a7de-4633-96e8-a45c087d9015",
   "metadata": {},
   "source": [
    "Podemos también programar que el acceso de la dirección IP sea solo por rango concreto de tiempo, en este caso activaremos la opción ***This entry is temporary and will be deleted in*** y selecciona el rango tiempo en el cual se le va a dar acceso. Y finalmente camos clic en *Confirm*."
   ]
  },
  {
   "cell_type": "markdown",
   "id": "73a44464-1f8b-4aa0-9a0e-bd42f05b5db5",
   "metadata": {},
   "source": [
    "<figure>\n",
    "<center>\n",
    "<img src=\"../Imagenes/Atlas/Atlas_08.png\" width=\"600\" height=\"800\" align=\"center\"/>\n",
    "</center>\n",
    "</figure>\n",
    "\n",
    "\n",
    "Fuente: [mongodb.com](https://www.mongodb.com/try/download/community)\n",
    "\n"
   ]
  },
  {
   "cell_type": "markdown",
   "id": "6ff9a31a-0a9e-4b5e-b470-b317d72da2a1",
   "metadata": {},
   "source": [
    "Ahora podremos visualizar el listado de las IP autorizadas para acceder."
   ]
  },
  {
   "cell_type": "markdown",
   "id": "da7924a1-5f05-41bb-9259-9162a9494b31",
   "metadata": {},
   "source": [
    "<figure>\n",
    "<center>\n",
    "<img src=\"../Imagenes/Atlas/Atlas_09.png\" width=\"600\" height=\"800\" align=\"center\"/>\n",
    "</center>\n",
    "</figure>\n",
    "\n",
    "\n",
    "Fuente: [mongodb.com](https://www.mongodb.com/try/download/community)\n",
    "\n"
   ]
  },
  {
   "cell_type": "markdown",
   "id": "4ecffd3d-1f69-4d89-8c0c-6a859999e00f",
   "metadata": {},
   "source": [
    "## Crear base de datos"
   ]
  },
  {
   "cell_type": "markdown",
   "id": "69927307-2f42-4ff0-b843-41a93c9f1f16",
   "metadata": {},
   "source": [
    "Damos clic en la opción ***Database*** y luego en ***Build a Database***."
   ]
  },
  {
   "cell_type": "markdown",
   "id": "3afcca63-dbaa-42b9-a34a-92bac49e0d0d",
   "metadata": {},
   "source": [
    "<figure>\n",
    "<center>\n",
    "<img src=\"../Imagenes/Atlas/Atlas_10.png\" width=\"600\" height=\"800\" align=\"center\"/>\n",
    "</center>\n",
    "</figure>\n",
    "\n",
    "\n",
    "Fuente: [cloud.mongodb.com](https://www.mongodb.com/try/download/community)\n",
    "\n"
   ]
  },
  {
   "cell_type": "markdown",
   "id": "7ecafe81-ae63-4298-a86f-2a1393bb2d81",
   "metadata": {},
   "source": [
    "Podremos seleccinar la base de datos, en este caso ***M0 Free*** que es la versión de prueba."
   ]
  },
  {
   "cell_type": "markdown",
   "id": "b778e475-1793-485d-a2f7-3dc722549a56",
   "metadata": {},
   "source": [
    "<figure>\n",
    "<center>\n",
    "<img src=\"../Imagenes/Atlas/Atlas_11.png\" width=\"600\" height=\"800\" align=\"center\"/>\n",
    "</center>\n",
    "</figure>\n",
    "\n",
    "\n",
    "Fuente: [cloud.mongodb.com](https://www.mongodb.com/try/download/community)\n",
    "\n"
   ]
  },
  {
   "cell_type": "markdown",
   "id": "82395d17-36e3-4023-9f52-c4a827bb00b1",
   "metadata": {},
   "source": [
    "Seleccionamos el proveedor, la región y el nombre de nuestro cluster."
   ]
  },
  {
   "cell_type": "markdown",
   "id": "4f443b3e-610c-435b-998e-ddd5ba532a76",
   "metadata": {},
   "source": [
    "<figure>\n",
    "<center>\n",
    "<img src=\"../Imagenes/Atlas/Atlas_12.png\" width=\"600\" height=\"800\" align=\"center\"/>\n",
    "</center>\n",
    "</figure>\n",
    "\n",
    "\n",
    "Fuente: [cloud.mongodb.com](https://www.mongodb.com/try/download/community)\n",
    "\n"
   ]
  },
  {
   "cell_type": "markdown",
   "id": "43392f6f-f9b5-44cd-b329-cb0ae1adc755",
   "metadata": {},
   "source": [
    "Seleccionamos el tipo de autenticación que deseamos utilizar, en este caso ***Username and Password***."
   ]
  },
  {
   "cell_type": "markdown",
   "id": "b323496e-0a9f-4813-9cff-bfa5dce03fd4",
   "metadata": {},
   "source": [
    "<figure>\n",
    "<center>\n",
    "<img src=\"../Imagenes/Atlas/Atlas_13.png\" width=\"600\" height=\"800\" align=\"center\"/>\n",
    "</center>\n",
    "</figure>\n",
    "\n",
    "\n",
    "Fuente: [cloud.mongodb.com](https://www.mongodb.com/try/download/community)\n",
    "\n"
   ]
  },
  {
   "cell_type": "markdown",
   "id": "439176db-80ac-4209-8dfb-1f7b4dd15247",
   "metadata": {},
   "source": [
    "Escribimos nuestro usuario y contraseña. Importante guardar estos datos de manera que no los perdamos."
   ]
  },
  {
   "cell_type": "markdown",
   "id": "acbd3e90-4c2c-44e9-a246-2119680bbf4d",
   "metadata": {},
   "source": [
    "<figure>\n",
    "<center>\n",
    "<img src=\"../Imagenes/Atlas/Atlas_14.png\" width=\"600\" height=\"800\" align=\"center\"/>\n",
    "</center>\n",
    "</figure>\n",
    "\n",
    "\n",
    "Fuente: [cloud.mongodb.com](https://www.mongodb.com/try/download/community)\n",
    "\n"
   ]
  },
  {
   "cell_type": "markdown",
   "id": "6297be85-0723-4aa0-b506-61ca6097e06e",
   "metadata": {},
   "source": [
    "Seleccionamos la forma de conexión en este caso dejamos la opción por defecto ***My Local Environment***."
   ]
  },
  {
   "cell_type": "markdown",
   "id": "24cb6d35-cf3c-4586-b811-54a7b183ff76",
   "metadata": {},
   "source": [
    "<figure>\n",
    "<center>\n",
    "<img src=\"../Imagenes/Atlas/Atlas_15.png\" width=\"600\" height=\"800\" align=\"center\"/>\n",
    "</center>\n",
    "</figure>\n",
    "\n",
    "\n",
    "Fuente: [cloud.mongodb.com](https://www.mongodb.com/try/download/community)\n",
    "\n"
   ]
  },
  {
   "cell_type": "markdown",
   "id": "4d452387-88c0-4850-9b29-84cae2345f9f",
   "metadata": {},
   "source": [
    "Añadimos una IP de ser requerido. Y finalmente damos clic ***Finish and Close***."
   ]
  },
  {
   "cell_type": "markdown",
   "id": "cdfc598e-ced2-426a-b6a6-0a540d22dc73",
   "metadata": {},
   "source": [
    "<figure>\n",
    "<center>\n",
    "<img src=\"../Imagenes/Atlas/Atlas_16.png\" width=\"600\" height=\"800\" align=\"center\"/>\n",
    "</center>\n",
    "</figure>\n",
    "\n",
    "\n",
    "Fuente: [cloud.mongodb.com](https://www.mongodb.com/try/download/community)\n",
    "\n"
   ]
  },
  {
   "cell_type": "markdown",
   "id": "50f37ee0-04bd-4d32-b4d7-73137cfaec05",
   "metadata": {},
   "source": [
    "Nos notificará que la base de datos se acaba de crear. Damos clic en ***Go to Databases***."
   ]
  },
  {
   "cell_type": "markdown",
   "id": "b4c3d1e8-17c5-4d0f-8b11-9d230b1ae228",
   "metadata": {},
   "source": [
    "<figure>\n",
    "<center>\n",
    "<img src=\"../Imagenes/Atlas/Atlas_17.png\" width=\"400\" height=\"300\" align=\"center\"/>\n",
    "</center>\n",
    "</figure>\n",
    "\n",
    "\n",
    "Fuente: [cloud.mongodb.com](https://www.mongodb.com/try/download/community)\n",
    "\n"
   ]
  },
  {
   "cell_type": "markdown",
   "id": "9434dbfe-2d8f-4fe6-988a-f1481acf8656",
   "metadata": {},
   "source": [
    "Vemos que ahora está creada nuestra base de datos.\n"
   ]
  },
  {
   "cell_type": "markdown",
   "id": "3af35c72-10e4-4e44-9ff4-8ec141406737",
   "metadata": {},
   "source": [
    "<figure>\n",
    "<center>\n",
    "<img src=\"../Imagenes/Atlas/Atlas_18.png\" width=\"800\" height=\"800\" align=\"center\"/>\n",
    "</center>\n",
    "</figure>\n",
    "\n",
    "\n",
    "Fuente: [cloud.mongodb.com](https://www.mongodb.com/try/download/community)\n",
    "\n"
   ]
  },
  {
   "cell_type": "markdown",
   "id": "41539f2b-c44f-4a53-9ba6-6f16037e4e30",
   "metadata": {},
   "source": [
    "## Base de datos de prueba"
   ]
  },
  {
   "cell_type": "markdown",
   "id": "74608cfd-5649-496a-91cb-97221a134791",
   "metadata": {},
   "source": [
    "Podemos ver que aunque creamos nuestra base de datos, esta no tiene datos, por lo cual podemos obtener una base de datos de prueba que Atlas nos provee. "
   ]
  },
  {
   "cell_type": "markdown",
   "id": "61cbccdf-3f00-4736-96f2-880a6732883f",
   "metadata": {},
   "source": [
    "Para esto damos clic en los tres puntos (...) y luego en Load Sample Dataset."
   ]
  },
  {
   "cell_type": "markdown",
   "id": "e9c92d4b-a5f0-472f-bf77-7e93efd83939",
   "metadata": {},
   "source": [
    "<figure>\n",
    "<center>\n",
    "<img src=\"../Imagenes/Atlas/Atlas_19.png\" width=\"600\" height=\"500\" align=\"center\"/>\n",
    "</center>\n",
    "</figure>\n",
    "\n",
    "\n",
    "Fuente: [cloud.mongodb.com](https://www.mongodb.com/try/download/community)\n",
    "\n"
   ]
  },
  {
   "cell_type": "markdown",
   "id": "1b1442f4-5b76-43bf-8d4a-81dda90644f0",
   "metadata": {},
   "source": [
    "Ahora damos clic en ***Load Sample Dataset***, para empezar la carga de la base de datos de prueba."
   ]
  },
  {
   "cell_type": "markdown",
   "id": "9974d030-9cea-4030-87e0-948434d66fbf",
   "metadata": {},
   "source": [
    "<figure>\n",
    "<center>\n",
    "<img src=\"../Imagenes/Atlas/Atlas_20.png\" width=\"400\" height=\"500\" align=\"center\"/>\n",
    "</center>\n",
    "</figure>\n",
    "\n",
    "\n",
    "Fuente: [cloud.mongodb.com](https://www.mongodb.com/try/download/community)\n",
    "\n"
   ]
  },
  {
   "cell_type": "markdown",
   "id": "bd4f7431-27f1-46a2-bae4-c974d4fdd581",
   "metadata": {},
   "source": [
    "Esperamos unos minutos mientras se carga la base de datos."
   ]
  },
  {
   "cell_type": "markdown",
   "id": "52315359-3005-40d5-97f8-52317f4aeb90",
   "metadata": {},
   "source": [
    "<figure>\n",
    "<center>\n",
    "<img src=\"../Imagenes/Atlas/Atlas_21.png\" width=\"600\" height=\"500\" align=\"center\"/>\n",
    "</center>\n",
    "</figure>\n",
    "\n",
    "\n",
    "Fuente: [cloud.mongodb.com](https://www.mongodb.com/try/download/community)\n",
    "\n"
   ]
  },
  {
   "cell_type": "markdown",
   "id": "663deb92-048e-4227-83a2-3b46209e11dd",
   "metadata": {},
   "source": [
    "Ya que haya terminado la carga de las bases de datos.\n"
   ]
  },
  {
   "cell_type": "markdown",
   "id": "97bf1d4a-88e6-4b3e-903e-3d49ee0d1490",
   "metadata": {},
   "source": [
    "<figure>\n",
    "<center>\n",
    "<img src=\"../Imagenes/Atlas/Atlas_22.png\" width=\"800\" height=\"700\" align=\"center\"/>\n",
    "</center>\n",
    "</figure>\n",
    "\n",
    "\n",
    "Fuente: [cloud.mongodb.com](https://www.mongodb.com/try/download/community)\n",
    "\n"
   ]
  },
  {
   "cell_type": "markdown",
   "id": "d79a2d28-e863-4353-b3ed-b270cbe72939",
   "metadata": {},
   "source": [
    "Para visualizar la base de datos damos clic en ***Browse Collections***."
   ]
  },
  {
   "cell_type": "markdown",
   "id": "cdeccbb8-d890-4a59-b77c-691ab623ef0e",
   "metadata": {},
   "source": [
    "<figure>\n",
    "<center>\n",
    "<img src=\"../Imagenes/Atlas/Atlas_23.png\" width=\"500\" height=\"400\" align=\"center\"/>\n",
    "</center>\n",
    "</figure>\n",
    "\n",
    "\n",
    "Fuente: [cloud.mongodb.com](https://www.mongodb.com/try/download/community)\n",
    "\n"
   ]
  },
  {
   "cell_type": "markdown",
   "id": "0d92d7e1-cb96-43f0-920d-05c201a7fa1d",
   "metadata": {},
   "source": [
    "Esto nos llevará al explorador de datos de Atlas. Allí podremos visualizar las bases de datos que tenemos."
   ]
  },
  {
   "cell_type": "markdown",
   "id": "4976244c-8a7f-44b6-8e75-ba6ce37bb394",
   "metadata": {},
   "source": [
    "<figure>\n",
    "<center>\n",
    "<img src=\"../Imagenes/Atlas/Atlas_24.png\" width=\"800\" height=\"800\" align=\"center\"/>\n",
    "</center>\n",
    "</figure>\n",
    "\n",
    "\n",
    "Fuente: [cloud.mongodb.com](https://www.mongodb.com/try/download/community)\n",
    "\n"
   ]
  },
  {
   "cell_type": "code",
   "execution_count": null,
   "id": "6e4c0c86-0e13-4a60-ad2e-6be139e9a8f3",
   "metadata": {},
   "outputs": [],
   "source": []
  }
 ],
 "metadata": {
  "kernelspec": {
   "display_name": "Python 3 (ipykernel)",
   "language": "python",
   "name": "python3"
  },
  "language_info": {
   "codemirror_mode": {
    "name": "ipython",
    "version": 3
   },
   "file_extension": ".py",
   "mimetype": "text/x-python",
   "name": "python",
   "nbconvert_exporter": "python",
   "pygments_lexer": "ipython3",
   "version": "3.10.4"
  }
 },
 "nbformat": 4,
 "nbformat_minor": 5
}
