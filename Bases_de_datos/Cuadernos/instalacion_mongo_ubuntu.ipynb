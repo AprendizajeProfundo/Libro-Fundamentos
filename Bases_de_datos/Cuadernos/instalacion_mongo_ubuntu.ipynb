{
 "cells": [
  {
   "cell_type": "markdown",
   "id": "20597c68-135e-4a8b-99d9-1553987cb4b0",
   "metadata": {},
   "source": [
    "Instalación: traducir de [mongodb.com](https://www.mongodb.com/docs/manual/tutorial/install-mongodb-on-ubuntu/)."
   ]
  },
  {
   "cell_type": "markdown",
   "id": "b2ebecea-1de0-4ac4-af15-ac53f80db294",
   "metadata": {
    "tags": []
   },
   "source": [
    "### Inicializar base de datos"
   ]
  },
  {
   "cell_type": "markdown",
   "id": "c5ab006e-ae34-441a-bd49-9565887f4f97",
   "metadata": {},
   "source": [
    "```bash\n",
    "sudo systemctl start mongod\n",
    "```"
   ]
  },
  {
   "cell_type": "markdown",
   "id": "61a76e57-bd34-4024-abbf-dbfc77d85761",
   "metadata": {},
   "source": [
    "Para detener poner la palabra `start`  por `stop`"
   ]
  }
 ],
 "metadata": {
  "kernelspec": {
   "display_name": "Python 3 (ipykernel)",
   "language": "python",
   "name": "python3"
  },
  "language_info": {
   "codemirror_mode": {
    "name": "ipython",
    "version": 3
   },
   "file_extension": ".py",
   "mimetype": "text/x-python",
   "name": "python",
   "nbconvert_exporter": "python",
   "pygments_lexer": "ipython3",
   "version": "3.10.8"
  }
 },
 "nbformat": 4,
 "nbformat_minor": 5
}
