{
 "cells": [
  {
   "cell_type": "markdown",
   "id": "4e57e0ae-99fb-4fee-8d42-d9042b901725",
   "metadata": {},
   "source": [
    "# <span style=\"color:#F72585\"><center>¿Qué es MongoDB?</center></span></center></span>"
   ]
  },
  {
   "cell_type": "markdown",
   "id": "650a8c93-05ce-43b1-8249-672dffec391c",
   "metadata": {},
   "source": [
    "A continuación veremos que es MongoDB y como como funciona."
   ]
  },
  {
   "cell_type": "markdown",
   "id": "a5876880-1745-4464-9834-e9e8042f26c7",
   "metadata": {},
   "source": [
    "## <span style=\"color:#4361EE\">Definiciones iniciales</span> "
   ]
  },
  {
   "cell_type": "markdown",
   "id": "9d827887-8e1d-4a78-8680-5c4701975dc0",
   "metadata": {},
   "source": [
    "Para entender que es MongoDB tendremos que conocer algunos conceptos importantes."
   ]
  },
  {
   "cell_type": "markdown",
   "id": "6480c6b8-e1e3-4e47-9d77-aa35c41ca4b9",
   "metadata": {},
   "source": [
    "### <span style=\"color:#4CC9F0\">Base de datos NoSQL</span>"
   ]
  },
  {
   "cell_type": "markdown",
   "id": "6162cbfa-5a4e-4758-838d-a7533b746b24",
   "metadata": {},
   "source": [
    "El término \"NoSQL\" se refiere a tipos de bases de datos no relacionales que almacenan datos en un formato distinto a las tablas relacionales.\n",
    "\n",
    "Esto quiere decir que no se utilizan tablas para guardar información, siendo las bases NoSQL más dinámicas y flexibles."
   ]
  },
  {
   "cell_type": "markdown",
   "id": "9f1b125f-cf95-4aa8-9c99-4486d56f476a",
   "metadata": {},
   "source": [
    "### <span style=\"color:#4CC9F0\">Estructura JSON</span>"
   ]
  },
  {
   "cell_type": "markdown",
   "id": "4f07abc1-567d-4804-987b-e62a47733194",
   "metadata": {},
   "source": [
    "JSON significa *JavaScript Standard Object Notation* (Notación de Objetos JavaScript), fue definida como parte del lenguaje JavaScript a principios de la década de 2000 por el creador de JavaScript, es el estándar más popular para el intercambio de datos en la web."
   ]
  },
  {
   "cell_type": "markdown",
   "id": "2a179b56-9cd7-4138-bcef-66e843bf4a28",
   "metadata": {},
   "source": [
    "Los objetos de JavaScript son contenedores asociativos simples, en los que una clave de texto o campo (*field*) se asigna a un valor (*value*) que puede ser un número, una cadena, una función o incluso otro objeto."
   ]
  },
  {
   "cell_type": "markdown",
   "id": "dcded3cb-bcac-45c5-bf56-0a75c383f7d9",
   "metadata": {},
   "source": [
    "Su sintaxis es la siguiente:"
   ]
  },
  {
   "cell_type": "markdown",
   "id": "4fb88ed8-8c3d-4666-9992-20c124613e16",
   "metadata": {},
   "source": [
    "```json\n",
    "{\n",
    "    <campo_1> : <valor1>,\n",
    "    <campo_2> : <valor2>,\n",
    "    <campo_3> : <valor3>,\n",
    "    ...\n",
    "}\n",
    "```"
   ]
  },
  {
   "cell_type": "markdown",
   "id": "012f577e-da75-4e64-acf2-b547aa48aac4",
   "metadata": {},
   "source": [
    "Utilizamos esta estructura para almacenar los datos."
   ]
  },
  {
   "cell_type": "markdown",
   "id": "82c07ce9-cd02-477a-8115-4d1818134458",
   "metadata": {},
   "source": [
    "## Estructura JSON y Diccionarios de Python"
   ]
  },
  {
   "cell_type": "markdown",
   "id": "6a3e6fa3-015f-49d2-8b69-b6c59d566836",
   "metadata": {},
   "source": [
    "- Ver la conversión"
   ]
  },
  {
   "cell_type": "markdown",
   "id": "173c1b8b-2c25-4512-9ac3-1e093c5c2da0",
   "metadata": {},
   "source": [
    "#### Ejemplo:"
   ]
  },
  {
   "cell_type": "markdown",
   "id": "f96c61fe-ef55-4b24-b127-2574ad3858a6",
   "metadata": {},
   "source": [
    "```json\n",
    "{\n",
    "  \"_id\": 1,\n",
    "  \"name\" : { \"first\" : \"John\", \"last\" : \"Backus\" },\n",
    "  \"contribs\" : [ \"Fortran\", \"ALGOL\", \"Backus-Naur Form\", \"FP\" ],\n",
    "  \"awards\" : [\n",
    "    {\n",
    "      \"award\" : \"W.W. McDowell Award\",\n",
    "      \"year\" : 1967,\n",
    "      \"by\" : \"IEEE Computer Society\"\n",
    "    }, {\n",
    "      \"award\" : \"Draper Prize\",\n",
    "      \"year\" : 1993,\n",
    "      \"by\" : \"National Academy of Engineering\"\n",
    "    }\n",
    "  ]\n",
    "}\n",
    "```"
   ]
  },
  {
   "cell_type": "markdown",
   "id": "c55820d9-3810-4734-aaac-89f1c92e9201",
   "metadata": {},
   "source": [
    "**BSON** sigifica simplemente \"JSON binario\". La estructura binaria de BSON codifica información de tipo y longitud, lo que permite analizarla mucho más rápidamente."
   ]
  },
  {
   "cell_type": "markdown",
   "id": "b8bb4c54-9358-42ba-9e07-056f8a5d354c",
   "metadata": {},
   "source": [
    "#### **Atributos anidados**"
   ]
  },
  {
   "cell_type": "markdown",
   "id": "fa391561-4dc6-4ee3-8705-547e8f369d81",
   "metadata": {},
   "source": [
    "Podemos tener un documento con atributos anidados."
   ]
  },
  {
   "cell_type": "markdown",
   "id": "f1b8701d-054d-4591-b426-0d5bdedbf448",
   "metadata": {},
   "source": [
    "```JSON\n",
    "Input:\n",
    "\n",
    "> user5 = {\n",
    "    'username': 'user5',\n",
    "    'age': 37,\n",
    "    'email': 'user5@example.com',\n",
    "    'courses': ['mongodb', 'python', 'mathlab'],\n",
    "    'address': { 'zip': 1013, 'country': 'Colombia'}\n",
    "};\n",
    "```"
   ]
  },
  {
   "cell_type": "markdown",
   "id": "b9934bd4-bcba-41dd-998f-db7a83005bd8",
   "metadata": {},
   "source": [
    "### <span style=\"color:#4CC9F0\">MongoDB</span>"
   ]
  },
  {
   "cell_type": "markdown",
   "id": "a68af323-cff2-4de0-b836-58042560214f",
   "metadata": {},
   "source": [
    "MongoDB (del inglés *humongous*, \"enorme\") es un sistema de base de datos NoSQL, orientado a documentos y de código abierto.\n",
    "\n",
    "En lugar de guardar los datos en tablas, tal y como se hace en las bases de datos relacionales, MongoDB guarda estructuras de datos BSON (una especificación similar a JSON) con un esquema dinámico, haciendo que la integración de los datos en ciertas aplicaciones sea más fácil y rápida."
   ]
  },
  {
   "cell_type": "markdown",
   "id": "742f18c6-b3c5-4d8e-adc9-8cc42696aba1",
   "metadata": {},
   "source": [
    "## <span style=\"color:#4361EE\">Estructura</span> "
   ]
  },
  {
   "cell_type": "markdown",
   "id": "f867bf71-7ccb-40a3-9c8c-f5911e014a0a",
   "metadata": {
    "tags": []
   },
   "source": [
    "MongoDB se estructura a partir de **documentos** que se encuentran dentro de **colecciones** que a su vez son las componenetes de las **bases de datos**."
   ]
  },
  {
   "cell_type": "markdown",
   "id": "e8974673-c6d0-4c72-9457-f6aff5ddce71",
   "metadata": {},
   "source": [
    "### <span style=\"color:#4CC9F0\">Documento</span>"
   ]
  },
  {
   "cell_type": "markdown",
   "id": "d85cbc1c-df3f-4d6d-9046-0ec97698a826",
   "metadata": {
    "tags": []
   },
   "source": [
    "Son la estructura básica de MongoDB, esta no es más que un objeto de tipo JSON."
   ]
  },
  {
   "cell_type": "markdown",
   "id": "86c7dd1d-5825-459f-9610-e034d493691d",
   "metadata": {
    "tags": []
   },
   "source": [
    "- **Documento (*document*):** es una forma de organizar y almacenar datos como un conjunto de pares de campo-valor.\n",
    "- **Campo (*fiel*):** es un identificador único para un dato.\n",
    "- **Valor (*value*):** son datos relacionados a un identificador dado."
   ]
  },
  {
   "cell_type": "markdown",
   "id": "1de890bc-9dc5-4481-9ba8-5e996736cbad",
   "metadata": {},
   "source": [
    "#### **Características**"
   ]
  },
  {
   "cell_type": "markdown",
   "id": "c50d9d51-63a0-4fb4-8c57-696056d9b04c",
   "metadata": {},
   "source": [
    "- Los campos pueden ser únicamente datos de tipo *String*.\n",
    "- Los valores pueden ser datos de tipo:\n",
    "    - Array\n",
    "    - Binay\n",
    "    - Boolean\n",
    "    - Code\n",
    "    - Date\n",
    "    - Decimal128\n",
    "    - Double\n",
    "    - Int32\n",
    "    - Int64\n",
    "    - MaxKey\n",
    "    - MinKey\n",
    "    - Null\n",
    "    - Object\n",
    "    - ObjectId\n",
    "    - BSONRegExp\n",
    "    - string\n",
    "    - BSONSymbol\n",
    "    - Timestamp"
   ]
  },
  {
   "cell_type": "markdown",
   "id": "d8a3cf1f-8eec-4787-a61a-a443e279b2b9",
   "metadata": {},
   "source": [
    "### <span style=\"color:#4CC9F0\">Colección</span>"
   ]
  },
  {
   "cell_type": "markdown",
   "id": "5baace1c-bbe8-4fa5-9086-91db2c53b933",
   "metadata": {
    "tags": []
   },
   "source": [
    "Una colección (*collection*) es un conjunto organizado de documentos en MongoDB, generalmente con campos comunes entre documentos. Puede haber muchas colecciones por base de datos y muchos documentos por colección."
   ]
  },
  {
   "cell_type": "markdown",
   "id": "73798b02-f0b4-4367-9c41-89c59dfc62ff",
   "metadata": {},
   "source": [
    "### <span style=\"color:#4CC9F0\">Base de datos</span>"
   ]
  },
  {
   "cell_type": "markdown",
   "id": "7dc5bfbc-277b-44ad-95b7-0b8232aa4b36",
   "metadata": {
    "tags": []
   },
   "source": [
    "Una base de datos (*database*) es un conjunto organizado de colecciones."
   ]
  },
  {
   "cell_type": "markdown",
   "id": "3890def9-6fe1-4598-a56f-491be476c0ce",
   "metadata": {},
   "source": [
    "## <span style=\"color:#4361EE\">Referencias</span> "
   ]
  },
  {
   "cell_type": "markdown",
   "id": "7a5456ed-ad2e-433d-9004-f6fbbde8515e",
   "metadata": {},
   "source": [
    "1. [Wikipedia](https://es.wikipedia.org/wiki/MongoDB)\n",
    "2. [Oracle](https://www.oracle.com/co/database/nosql/what-is-nosql/)\n",
    "3. [MongoDB](https://www.mongodb.com/json-and-bson-deleted)\n",
    "4. [MongoDB University](https://university.mongodb.com/mercury/M001/2022_October_11/chapter/Chapter_1_What_is_MongoDB_/lesson/5f32d54204e9ffbe482e938e/lecture)"
   ]
  }
 ],
 "metadata": {
  "kernelspec": {
   "display_name": "Python 3 (ipykernel)",
   "language": "python",
   "name": "python3"
  },
  "language_info": {
   "codemirror_mode": {
    "name": "ipython",
    "version": 3
   },
   "file_extension": ".py",
   "mimetype": "text/x-python",
   "name": "python",
   "nbconvert_exporter": "python",
   "pygments_lexer": "ipython3",
   "version": "3.10.4"
  }
 },
 "nbformat": 4,
 "nbformat_minor": 5
}
