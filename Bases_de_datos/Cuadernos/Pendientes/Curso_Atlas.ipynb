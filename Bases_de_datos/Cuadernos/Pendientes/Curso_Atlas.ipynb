{
 "cells": [
  {
   "cell_type": "markdown",
   "id": "862fb20d-65b0-4b34-9643-380c99fda6bb",
   "metadata": {},
   "source": [
    "# Atlas"
   ]
  },
  {
   "cell_type": "markdown",
   "id": "d6adb804-98e1-44bf-98f1-e62f1be938af",
   "metadata": {},
   "source": [
    "- Servicio de nube de MongoDB.\n",
    "- MongoDB es usado en el núcleo para el almacenamiento y recuperación de los datos."
   ]
  },
  {
   "cell_type": "markdown",
   "id": "0df369e3-3d8a-4859-82ec-66807673fce5",
   "metadata": {},
   "source": [
    "## Servicios"
   ]
  },
  {
   "cell_type": "markdown",
   "id": "57474c97-30f8-4a7c-b399-2eaf32bf5de9",
   "metadata": {},
   "source": [
    "- Gestionar la creación de clusters\n",
    "- Correr y mantener despliegue (deployment) de las bases de datos"
   ]
  },
  {
   "cell_type": "markdown",
   "id": "481d4bce-ce67-4cac-9f2c-41de28a07b89",
   "metadata": {},
   "source": [
    "## Definiciones"
   ]
  },
  {
   "cell_type": "markdown",
   "id": "16f0ef49-3854-4502-b852-6a41423181b4",
   "metadata": {},
   "source": [
    "- Clusters: Es un grupo de servidores que almacenan los datos.\n",
    "- Replica set: Unas pocas instancias que almacenan los mismos datos.\n",
    "- Instance: Es una máquina local o en la nube, que corre algún software."
   ]
  },
  {
   "cell_type": "markdown",
   "id": "0cd5a443-f6e4-46fd-9ff1-fd0fcd56bbff",
   "metadata": {},
   "source": [
    "## Notas"
   ]
  },
  {
   "cell_type": "markdown",
   "id": "fdfbd28a-fbf0-41ae-84a6-ed4e6e28a285",
   "metadata": {},
   "source": [
    "La información es guardada en formato BSON y visualizada en formato JSON."
   ]
  },
  {
   "cell_type": "markdown",
   "id": "2aeffd3d-a96a-4fbd-be5d-12c3512e4b43",
   "metadata": {},
   "source": [
    "## Iniciar"
   ]
  },
  {
   "cell_type": "markdown",
   "id": "1cef39c6-b704-4b05-b5b8-79a2196130ea",
   "metadata": {},
   "source": [
    "Pendiente tutorial inicio Atlas y como conectar base de datos"
   ]
  },
  {
   "cell_type": "markdown",
   "id": "1d03beff-1849-4cf5-9186-6b7d27e68609",
   "metadata": {},
   "source": [
    "## Importar y exportar"
   ]
  },
  {
   "cell_type": "markdown",
   "id": "733655e7-2573-482c-8129-2144ebcc296c",
   "metadata": {},
   "source": [
    "En \"Database/Command Line Tools\" se pueden encontrar los códigos para importar y exportar."
   ]
  },
  {
   "cell_type": "markdown",
   "id": "55f4e875-5f76-4b16-8fc8-3707b4feba4a",
   "metadata": {},
   "source": [
    "### Exportar"
   ]
  },
  {
   "cell_type": "markdown",
   "id": "d41dbde8-7c6c-4b11-8f69-259361dd2754",
   "metadata": {},
   "source": [
    "Exportar data en BSON"
   ]
  },
  {
   "cell_type": "markdown",
   "id": "13a83e31-3923-4c2c-ba7b-a3a18fc97c80",
   "metadata": {},
   "source": [
    "```json\n",
    "mongodump --uri \"mongodb+srv://<your_username>:<your_password>@<your_cluster>.mongodb.net/sample_supplies\"\n"
   ]
  },
  {
   "cell_type": "markdown",
   "id": "db5e929d-6449-4f80-9303-eb65ba00d902",
   "metadata": {},
   "source": [
    "Exportar data como JSON"
   ]
  },
  {
   "cell_type": "markdown",
   "id": "de7791eb-4871-4d1d-996a-29565dd5404f",
   "metadata": {},
   "source": [
    "```json\n",
    "mongoexport --uri=\"mongodb+srv://<your_username>:<your_password>@<your_cluster>.mongodb.net/sample_supplies\" --collection=sales --out=sales.json\n"
   ]
  },
  {
   "cell_type": "markdown",
   "id": "1b6539fc-51e2-44b4-ae1c-47a471fa8270",
   "metadata": {},
   "source": [
    "### Importar"
   ]
  },
  {
   "cell_type": "markdown",
   "id": "0c9341de-68ca-43f4-a6af-55153cf5445c",
   "metadata": {},
   "source": [
    "Importar en BSON"
   ]
  },
  {
   "cell_type": "markdown",
   "id": "ba6482d4-e614-4bfa-ba71-560cd3211171",
   "metadata": {},
   "source": [
    "```json\n",
    "mongorestore --uri \"mongodb+srv://<your_username>:<your_password>@<your_cluster>.mongodb.net/sample_supplies\"  --drop dump\n"
   ]
  },
  {
   "cell_type": "markdown",
   "id": "551656af-8492-4692-8e8c-402479d8e803",
   "metadata": {},
   "source": [
    "Importar en JSON"
   ]
  },
  {
   "cell_type": "markdown",
   "id": "5972ac99-39b3-45d2-8e18-e125b6363a2c",
   "metadata": {},
   "source": [
    "```json\n",
    "mongoimport --uri=\"mongodb+srv://<your_username>:<your_password>@<your_cluster>.mongodb.net/sample_supplies\" --drop sales.json\n"
   ]
  },
  {
   "cell_type": "markdown",
   "id": "ba09c248-35a7-4043-8e01-c4824d4ad132",
   "metadata": {},
   "source": []
  },
  {
   "cell_type": "markdown",
   "id": "d5a3abc6-23f9-4b05-8389-2b07f50ed250",
   "metadata": {},
   "source": []
  },
  {
   "cell_type": "markdown",
   "id": "7eed4b61-f736-46a2-ba6b-0764d1fe92b3",
   "metadata": {},
   "source": [
    "```json\n",
    "\n"
   ]
  },
  {
   "cell_type": "markdown",
   "id": "75fe9a48-9e8a-47e5-ba7c-511332ef2d15",
   "metadata": {},
   "source": []
  },
  {
   "cell_type": "markdown",
   "id": "90432339-31c8-4d9c-a3bb-ad4c74f64d90",
   "metadata": {},
   "source": []
  },
  {
   "cell_type": "markdown",
   "id": "23128e78-cfdf-49bd-a179-1c89f1c64627",
   "metadata": {},
   "source": [
    "```json\n",
    "\n"
   ]
  }
 ],
 "metadata": {
  "kernelspec": {
   "display_name": "Python 3 (ipykernel)",
   "language": "python",
   "name": "python3"
  },
  "language_info": {
   "codemirror_mode": {
    "name": "ipython",
    "version": 3
   },
   "file_extension": ".py",
   "mimetype": "text/x-python",
   "name": "python",
   "nbconvert_exporter": "python",
   "pygments_lexer": "ipython3",
   "version": "3.10.8"
  }
 },
 "nbformat": 4,
 "nbformat_minor": 5
}
