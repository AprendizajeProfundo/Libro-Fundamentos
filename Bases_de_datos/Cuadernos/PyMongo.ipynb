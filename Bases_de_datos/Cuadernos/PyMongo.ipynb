{
 "cells": [
  {
   "cell_type": "markdown",
   "id": "4693428f-41e9-412f-b7c9-31713ba46c35",
   "metadata": {},
   "source": [
    "# PyMongo"
   ]
  },
  {
   "cell_type": "markdown",
   "id": "7e767448-b9bd-4ee3-bf5d-b83749ebf6ba",
   "metadata": {},
   "source": [
    "## Instalar librería de PyMongo."
   ]
  },
  {
   "cell_type": "markdown",
   "id": "32b38e5f-170a-4b87-a275-c1b14f8012c8",
   "metadata": {},
   "source": [
    "```powershell\n",
    "conda install -c anaconda pymongo[srv]\n",
    "```"
   ]
  },
  {
   "cell_type": "markdown",
   "id": "db83cbfe-2fcf-4f83-86fc-a1fd63a45509",
   "metadata": {},
   "source": [
    "## Conexión a la base de datos"
   ]
  },
  {
   "cell_type": "markdown",
   "id": "2fb6e3e5-3ec0-4a23-ad8b-dc4f59195cd9",
   "metadata": {},
   "source": [
    "Llamamos la librería."
   ]
  },
  {
   "cell_type": "code",
   "execution_count": 1,
   "id": "4bb5157c-56f0-49d1-b656-668dd2a77000",
   "metadata": {},
   "outputs": [],
   "source": [
    "from pymongo import MongoClient"
   ]
  },
  {
   "cell_type": "markdown",
   "id": "de7540d6-9d68-4bf3-bde9-58e6a883edd9",
   "metadata": {},
   "source": [
    "Iniciamos la conexión a la base de datos"
   ]
  },
  {
   "cell_type": "markdown",
   "id": "48cf8f46-830c-476d-8197-36b33d84709e",
   "metadata": {},
   "source": [
    "Parámetros:\n",
    "* host (opcional): nombre de host o dirección IP o socket de dominio Unix ruta de una sola instancia de mongod o mongos para conectarse, o una mongodb URI, o una lista de nombres de host / mongodb URI. \n",
    "* port (opcional): número de puerto en el que conectarse.\n",
    "* username (opcional): usuario.\n",
    "* password: (opcional): Conttaseña."
   ]
  },
  {
   "cell_type": "markdown",
   "id": "040c3993-cdc4-4034-91c2-db7f05336d83",
   "metadata": {},
   "source": [
    "Para conexión a tarvés de MongoDB URI ingresamos tanto usuario como contraseña en el esta misma:\n",
    "\n",
    "```python\n",
    "uri = \"mongodb+srv://<user>:<password>@cluster0.k34sm2h.mongodb.net/?retryWrites=true&w=majority\"\n",
    "```"
   ]
  },
  {
   "cell_type": "markdown",
   "id": "245d8031-fa91-4b59-b461-2093eb5b4901",
   "metadata": {},
   "source": [
    "Para encontrar esta vamos a nuestro proyecto en Atlas:\n",
    "1. Seleccionamos al Cluster.\n",
    "2. Click en **Connect**.\n",
    "3. Click en **Connect your application**.\n",
    "4. Seleccionar en **Python** en **Driver**.\n",
    "5. Seleccionar la **versión de Python** en **Version**.\n",
    "6. Copiamos el código de **Add your connection string into your application code**."
   ]
  },
  {
   "cell_type": "code",
   "execution_count": 2,
   "id": "a2224598-2fff-4f30-95b3-4f7efc3c752d",
   "metadata": {},
   "outputs": [],
   "source": [
    "with open('key.txt') as file:\n",
    "    uri = file.read().splitlines()[0]"
   ]
  },
  {
   "cell_type": "code",
   "execution_count": 8,
   "id": "2987eaaa-5175-4ddc-8561-26962d7ac9fa",
   "metadata": {},
   "outputs": [
    {
     "name": "stdout",
     "output_type": "stream",
     "text": [
      "Conexión exitosa\n"
     ]
    }
   ],
   "source": [
    "# establecer un tiempo de espera de conexión de 5 segundos\n",
    "cliente = MongoClient(uri)\n",
    "\n",
    "try:\n",
    "    cliente.admin.command('ismaster')\n",
    "    print(\"Conexión exitosa\")\n",
    "except Exception:\n",
    "    print(\"No se pudo conectar el servidor\")"
   ]
  },
  {
   "cell_type": "markdown",
   "id": "bf34c8b5-26eb-4424-9491-0e2de385f67b",
   "metadata": {},
   "source": [
    "## Crear bases de datos"
   ]
  },
  {
   "cell_type": "code",
   "execution_count": 25,
   "id": "9b083696-4f5f-46c9-aa0b-f7b62bca3125",
   "metadata": {},
   "outputs": [],
   "source": [
    "db = cliente['db_1']"
   ]
  },
  {
   "cell_type": "markdown",
   "id": "67982e75-c004-41ac-a1e2-45c1ef9f6c82",
   "metadata": {},
   "source": [
    "Si ya existe la base de datos se trabajará sobre la ya existente."
   ]
  },
  {
   "cell_type": "markdown",
   "id": "f7153f44-7e8b-4fdc-9e60-47fe57bebcfb",
   "metadata": {},
   "source": [
    "## Ver bases de datos"
   ]
  },
  {
   "cell_type": "code",
   "execution_count": 36,
   "id": "7accdfd5-0fa4-4d78-a2d2-63c28bd54634",
   "metadata": {},
   "outputs": [
    {
     "data": {
      "text/plain": [
       "['db_1', 'admin', 'local']"
      ]
     },
     "execution_count": 36,
     "metadata": {},
     "output_type": "execute_result"
    }
   ],
   "source": [
    "dbs = cliente.list_database_names()\n",
    "\n",
    "dbs"
   ]
  },
  {
   "cell_type": "markdown",
   "id": "22e3d7c2-0a5d-496c-8a52-6b35607f21b3",
   "metadata": {},
   "source": [
    "Nuestra base de datos no aparecerá dado que no se han añadido colecciones a esta."
   ]
  },
  {
   "cell_type": "markdown",
   "id": "81c6e27e-94de-4a37-8b3f-817489dff7e0",
   "metadata": {},
   "source": [
    "## Crear colecciones"
   ]
  },
  {
   "cell_type": "code",
   "execution_count": 28,
   "id": "9b5e248d-61c0-457a-8330-974b056897fc",
   "metadata": {},
   "outputs": [],
   "source": [
    "col = db['coleccion_1']"
   ]
  },
  {
   "cell_type": "markdown",
   "id": "e2f5f934-1e0e-4587-ab22-89fe9db8b40a",
   "metadata": {},
   "source": [
    "Se creará un objeto de tipo colección. Si ya existe la colección se trabajará sobre la ya existente."
   ]
  },
  {
   "cell_type": "markdown",
   "id": "0c1255fa-29a7-440b-b9bc-2d0f6399a274",
   "metadata": {},
   "source": [
    "## Ver colecciones"
   ]
  },
  {
   "cell_type": "code",
   "execution_count": 37,
   "id": "2db8ea2b-c98b-49b4-8e06-8ff4a55e352b",
   "metadata": {},
   "outputs": [
    {
     "data": {
      "text/plain": [
       "['coleccion_1']"
      ]
     },
     "execution_count": 37,
     "metadata": {},
     "output_type": "execute_result"
    }
   ],
   "source": [
    "db.list_collection_names()"
   ]
  },
  {
   "cell_type": "markdown",
   "id": "ca08224f-f4d3-4402-9037-ff7b139fa037",
   "metadata": {},
   "source": [
    "## Insertar documetos"
   ]
  },
  {
   "cell_type": "code",
   "execution_count": 33,
   "id": "99dc13b1-9abf-4802-8635-11ccf7dfa4a0",
   "metadata": {},
   "outputs": [
    {
     "data": {
      "text/plain": [
       "<pymongo.results.InsertOneResult at 0x7f4bcae98700>"
      ]
     },
     "execution_count": 33,
     "metadata": {},
     "output_type": "execute_result"
    }
   ],
   "source": [
    "col.insert_one({\n",
    "    'nombre' : 'José Pérez',\n",
    "    'edad' : 20,\n",
    "})"
   ]
  },
  {
   "cell_type": "markdown",
   "id": "c19c71d2-380b-42aa-9f61-3e5cb5fd43a6",
   "metadata": {},
   "source": [
    "## Contar documentos"
   ]
  },
  {
   "cell_type": "code",
   "execution_count": 35,
   "id": "dc24d507-f69b-42b6-bca1-add78ff05c65",
   "metadata": {},
   "outputs": [
    {
     "data": {
      "text/plain": [
       "1"
      ]
     },
     "execution_count": 35,
     "metadata": {},
     "output_type": "execute_result"
    }
   ],
   "source": [
    "col.count_documents({})"
   ]
  },
  {
   "cell_type": "markdown",
   "id": "c517498b-94d8-424b-b0de-f8f165364095",
   "metadata": {},
   "source": [
    "## Busquedas"
   ]
  },
  {
   "cell_type": "code",
   "execution_count": 39,
   "id": "00c4928c-e8d7-4d37-b7ea-aff6832f457d",
   "metadata": {},
   "outputs": [
    {
     "data": {
      "text/plain": [
       "<pymongo.cursor.Cursor at 0x7f4beeb2a3e0>"
      ]
     },
     "execution_count": 39,
     "metadata": {},
     "output_type": "execute_result"
    }
   ],
   "source": [
    "col.find({})"
   ]
  },
  {
   "cell_type": "code",
   "execution_count": 3,
   "id": "962897a1-3395-4345-9d0e-dddffd698d28",
   "metadata": {},
   "outputs": [
    {
     "ename": "NameError",
     "evalue": "name 'col' is not defined",
     "output_type": "error",
     "traceback": [
      "\u001b[0;31m---------------------------------------------------------------------------\u001b[0m",
      "\u001b[0;31mNameError\u001b[0m                                 Traceback (most recent call last)",
      "Cell \u001b[0;32mIn [3], line 1\u001b[0m\n\u001b[0;32m----> 1\u001b[0m \u001b[38;5;28;01mfor\u001b[39;00m documento \u001b[38;5;129;01min\u001b[39;00m \u001b[43mcol\u001b[49m\u001b[38;5;241m.\u001b[39mfind({}):\n\u001b[1;32m      2\u001b[0m     \u001b[38;5;28mprint\u001b[39m(documento)\n",
      "\u001b[0;31mNameError\u001b[0m: name 'col' is not defined"
     ]
    }
   ],
   "source": [
    "for documento in col.find({}):\n",
    "    print(documento)"
   ]
  },
  {
   "cell_type": "code",
   "execution_count": 41,
   "id": "aa7d91cd-7050-4799-ac29-d0971bff991d",
   "metadata": {},
   "outputs": [
    {
     "data": {
      "text/plain": [
       "{'_id': ObjectId('635afae0698079291d2fb644'),\n",
       " 'nombre': 'José Pérez',\n",
       " 'edad': 20}"
      ]
     },
     "execution_count": 41,
     "metadata": {},
     "output_type": "execute_result"
    }
   ],
   "source": [
    "col.find_one({})"
   ]
  },
  {
   "cell_type": "code",
   "execution_count": null,
   "id": "0f2ca199-697c-420f-a821-58d3651e55ec",
   "metadata": {},
   "outputs": [],
   "source": []
  }
 ],
 "metadata": {
  "kernelspec": {
   "display_name": "Python 3 (ipykernel)",
   "language": "python",
   "name": "python3"
  },
  "language_info": {
   "codemirror_mode": {
    "name": "ipython",
    "version": 3
   },
   "file_extension": ".py",
   "mimetype": "text/x-python",
   "name": "python",
   "nbconvert_exporter": "python",
   "pygments_lexer": "ipython3",
   "version": "3.10.8"
  }
 },
 "nbformat": 4,
 "nbformat_minor": 5
}
