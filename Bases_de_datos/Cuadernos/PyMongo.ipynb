{
 "cells": [
  {
   "cell_type": "markdown",
   "id": "4693428f-41e9-412f-b7c9-31713ba46c35",
   "metadata": {},
   "source": [
    "# <span style=\"color:#F72585\"><center>PyMongo</center></span></center></span>"
   ]
  },
  {
   "cell_type": "markdown",
   "id": "7e767448-b9bd-4ee3-bf5d-b83749ebf6ba",
   "metadata": {},
   "source": [
    "## <span style=\"color:#4361EE\">Instalar librería de PyMongo</span> "
   ]
  },
  {
   "cell_type": "markdown",
   "id": "bfe5f358-cc7e-4aff-9209-f95afb4c806b",
   "metadata": {},
   "source": [
    "Para conexión local."
   ]
  },
  {
   "cell_type": "markdown",
   "id": "32b38e5f-170a-4b87-a275-c1b14f8012c8",
   "metadata": {},
   "source": [
    ">```powershell\n",
    " conda install -c anaconda pymongo \n",
    "```"
   ]
  },
  {
   "cell_type": "markdown",
   "id": "41f2c1a6-b194-44ab-9a0b-ebaa5181578d",
   "metadata": {},
   "source": [
    "Para conexión remota."
   ]
  },
  {
   "cell_type": "markdown",
   "id": "c303f76a-0c8c-4bfd-8caf-2056068dc2aa",
   "metadata": {},
   "source": [
    ">```powershell\n",
    "conda install -c anaconda pymongo[srv]\n",
    "```"
   ]
  },
  {
   "cell_type": "markdown",
   "id": "adabaf20-da5b-4ea5-816f-7b1baf2e851e",
   "metadata": {},
   "source": [
    "## <span style=\"color:#4361EE\">Conexión a la base de datos</span> "
   ]
  },
  {
   "cell_type": "markdown",
   "id": "2fb6e3e5-3ec0-4a23-ad8b-dc4f59195cd9",
   "metadata": {},
   "source": [
    "Llamamos la librería."
   ]
  },
  {
   "cell_type": "code",
   "execution_count": 1,
   "id": "4bb5157c-56f0-49d1-b656-668dd2a77000",
   "metadata": {},
   "outputs": [],
   "source": [
    "from pymongo import MongoClient"
   ]
  },
  {
   "cell_type": "markdown",
   "id": "de7540d6-9d68-4bf3-bde9-58e6a883edd9",
   "metadata": {},
   "source": [
    "Iniciamos la conexión a la base de datos"
   ]
  },
  {
   "cell_type": "markdown",
   "id": "2efe7d06-c0d9-4f27-a67a-ceb6ce5bf7b7",
   "metadata": {
    "tags": []
   },
   "source": [
    "### <span style=\"color:#4CC9F0\">Local</span>"
   ]
  },
  {
   "cell_type": "markdown",
   "id": "e1f991a4-7dfc-48be-9978-5d6cda946489",
   "metadata": {},
   "source": [
    "```python\n",
    "\n",
    "Cliente = MongoClient()\n",
    "```"
   ]
  },
  {
   "cell_type": "markdown",
   "id": "48cf8f46-830c-476d-8197-36b33d84709e",
   "metadata": {},
   "source": [
    "Parámetros:\n",
    "* host (opcional): nombre de host o dirección IP o socket de dominio Unix ruta de una sola instancia de mongod o mongos para conectarse, o una mongodb URI, o una lista de nombres de host / mongodb URI. \n",
    "* port (opcional): número de puerto en el que conectarse.\n",
    "* username (opcional): usuario.\n",
    "* password: (opcional): Conttaseña."
   ]
  },
  {
   "cell_type": "markdown",
   "id": "bb6b9f66-2cc6-4f9c-970f-49d5b001d8e5",
   "metadata": {
    "tags": []
   },
   "source": [
    "### <span style=\"color:#4CC9F0\">Remota</span>"
   ]
  },
  {
   "cell_type": "markdown",
   "id": "040c3993-cdc4-4034-91c2-db7f05336d83",
   "metadata": {},
   "source": [
    "Para conexión a tarvés de MongoDB URI ingresamos tanto usuario como contraseña en el esta misma:\n",
    "\n",
    "```python\n",
    "uri = \"mongodb+srv://<user>:<password>@cluster0.k34sm2h.mongodb.net/?retryWrites=true&w=majority\"\n",
    "```"
   ]
  },
  {
   "cell_type": "markdown",
   "id": "245d8031-fa91-4b59-b461-2093eb5b4901",
   "metadata": {},
   "source": [
    "Para encontrar esta vamos a nuestro proyecto en Atlas:\n",
    "1. Seleccionamos al Cluster.\n",
    "2. Click en **Connect**.\n",
    "3. Click en **Connect your application**.\n",
    "4. Seleccionar en **Python** en **Driver**.\n",
    "5. Seleccionar la **versión de Python** en **Version**.\n",
    "6. Copiamos el código de **Add your connection string into your application code**."
   ]
  },
  {
   "cell_type": "markdown",
   "id": "40086e77-0ea5-4e1e-abf1-b07f2f80c35f",
   "metadata": {},
   "source": [
    "```python\n",
    "# Traemos la clave\n",
    "with open('key.txt') as file:\n",
    "    uri = file.read().splitlines()[0]\n",
    "```"
   ]
  },
  {
   "cell_type": "markdown",
   "id": "954de877-e358-44f9-a1e5-84ce4bd3ea01",
   "metadata": {},
   "source": [
    "```python\n",
    "# Probamos que la conexión haya sido exitosa\n",
    "# Establecer un tiempo de espera de conexión de 5 segundos\n",
    "\n",
    "cliente = MongoClient(uri)\n",
    "\n",
    "try:\n",
    "    cliente.admin.command('ismaster')\n",
    "    print(\"Conexión exitosa\")\n",
    "except Exception:\n",
    "    print(\"No se pudo conectar el servidor\")\n",
    "```"
   ]
  },
  {
   "cell_type": "markdown",
   "id": "a8c64575-d7fc-4aad-a76a-17882f33d3fc",
   "metadata": {},
   "source": [
    "## <span style=\"color:#4361EE\">Crear bases de datos</span> "
   ]
  },
  {
   "cell_type": "code",
   "execution_count": 3,
   "id": "9b083696-4f5f-46c9-aa0b-f7b62bca3125",
   "metadata": {},
   "outputs": [],
   "source": [
    "db = cliente['db_2']"
   ]
  },
  {
   "cell_type": "markdown",
   "id": "67982e75-c004-41ac-a1e2-45c1ef9f6c82",
   "metadata": {},
   "source": [
    "Si ya existe la base de datos se trabajará sobre la ya existente."
   ]
  },
  {
   "cell_type": "markdown",
   "id": "ca3a9a17-65b7-40f8-a187-0c0b30dc368a",
   "metadata": {},
   "source": [
    "## <span style=\"color:#4361EE\">Ver bases de datos</span> "
   ]
  },
  {
   "cell_type": "code",
   "execution_count": 4,
   "id": "7accdfd5-0fa4-4d78-a2d2-63c28bd54634",
   "metadata": {},
   "outputs": [
    {
     "data": {
      "text/plain": [
       "['Base', 'admin', 'config', 'db_1', 'local']"
      ]
     },
     "execution_count": 4,
     "metadata": {},
     "output_type": "execute_result"
    }
   ],
   "source": [
    "dbs = cliente.list_database_names()\n",
    "\n",
    "dbs"
   ]
  },
  {
   "cell_type": "markdown",
   "id": "22e3d7c2-0a5d-496c-8a52-6b35607f21b3",
   "metadata": {},
   "source": [
    "Nuestra base de datos no aparecerá dado que no se han añadido colecciones a esta."
   ]
  },
  {
   "cell_type": "markdown",
   "id": "b2a7a73c-1f64-457a-81cb-70afcd8d1334",
   "metadata": {},
   "source": [
    "## <span style=\"color:#4361EE\">Crear colecciones</span> "
   ]
  },
  {
   "cell_type": "code",
   "execution_count": 5,
   "id": "9b5e248d-61c0-457a-8330-974b056897fc",
   "metadata": {},
   "outputs": [],
   "source": [
    "col = db['coleccion_1']"
   ]
  },
  {
   "cell_type": "markdown",
   "id": "e2f5f934-1e0e-4587-ab22-89fe9db8b40a",
   "metadata": {},
   "source": [
    "Se creará un objeto de tipo colección. Si ya existe la colección se trabajará sobre la ya existente."
   ]
  },
  {
   "cell_type": "markdown",
   "id": "37541801-4049-4eb9-936a-dcac9d75aa5e",
   "metadata": {},
   "source": [
    "## <span style=\"color:#4361EE\">Ver colecciones</span> "
   ]
  },
  {
   "cell_type": "code",
   "execution_count": 6,
   "id": "2db8ea2b-c98b-49b4-8e06-8ff4a55e352b",
   "metadata": {},
   "outputs": [
    {
     "data": {
      "text/plain": [
       "[]"
      ]
     },
     "execution_count": 6,
     "metadata": {},
     "output_type": "execute_result"
    }
   ],
   "source": [
    "db.list_collection_names()"
   ]
  },
  {
   "cell_type": "markdown",
   "id": "8718cf54-4cbf-454d-a68e-c9389250fc66",
   "metadata": {},
   "source": [
    "## <span style=\"color:#4361EE\">Insertar documetos</span> "
   ]
  },
  {
   "cell_type": "code",
   "execution_count": 7,
   "id": "99dc13b1-9abf-4802-8635-11ccf7dfa4a0",
   "metadata": {},
   "outputs": [
    {
     "data": {
      "text/plain": [
       "<pymongo.results.InsertOneResult at 0x7fc2307e9d00>"
      ]
     },
     "execution_count": 7,
     "metadata": {},
     "output_type": "execute_result"
    }
   ],
   "source": [
    "# Insertar un solo documento\n",
    "\n",
    "dato = {'nombre' : 'José Pérez',\n",
    "        'edad' : 20,\n",
    "        'profesion' : 'arquitecto'}\n",
    "\n",
    "col.insert_one(dato)"
   ]
  },
  {
   "cell_type": "code",
   "execution_count": 8,
   "id": "0724e758-ae2a-4bab-ab6d-7a01f24c9360",
   "metadata": {},
   "outputs": [
    {
     "data": {
      "text/plain": [
       "<pymongo.results.InsertManyResult at 0x7fc2428f37c0>"
      ]
     },
     "execution_count": 8,
     "metadata": {},
     "output_type": "execute_result"
    }
   ],
   "source": [
    "# Inserar multiples datos\n",
    "\n",
    "lista = [{\"nombre\": \"Andrea Sanchez\", \"edad\": 30, \"profesion\": \"deportista\"},\n",
    "         {\"nombre\": \"Luis Vargas\", \"edad\": 36, \"profesion\": \"enfermero\"},\n",
    "        {\"nombre\": \"Marcela Aranda\", \"edad\": 35, \"profesion\": \"estudiante\"}]\n",
    "\n",
    "col.insert_many(lista)\n"
   ]
  },
  {
   "cell_type": "markdown",
   "id": "6f137e3d-2848-4bc8-a8bc-fcc10d635fa6",
   "metadata": {},
   "source": [
    "## <span style=\"color:#4361EE\">Contar documentos</span> "
   ]
  },
  {
   "cell_type": "code",
   "execution_count": 9,
   "id": "dc24d507-f69b-42b6-bca1-add78ff05c65",
   "metadata": {},
   "outputs": [
    {
     "data": {
      "text/plain": [
       "4"
      ]
     },
     "execution_count": 9,
     "metadata": {},
     "output_type": "execute_result"
    }
   ],
   "source": [
    "col.count_documents({})"
   ]
  },
  {
   "cell_type": "markdown",
   "id": "c517498b-94d8-424b-b0de-f8f165364095",
   "metadata": {},
   "source": [
    "## <span style=\"color:#4361EE\">Búsquedas</span>"
   ]
  },
  {
   "cell_type": "markdown",
   "id": "9af37a19-107c-4e69-a62c-277b9ccc000d",
   "metadata": {},
   "source": [
    "Búsqueda de un solo documento."
   ]
  },
  {
   "cell_type": "code",
   "execution_count": 57,
   "id": "aa7d91cd-7050-4799-ac29-d0971bff991d",
   "metadata": {},
   "outputs": [
    {
     "data": {
      "text/plain": [
       "{'_id': ObjectId('63d195a33eb3ce7e74439616'),\n",
       " 'nombre': 'José Pérez',\n",
       " 'edad': 20}"
      ]
     },
     "execution_count": 57,
     "metadata": {},
     "output_type": "execute_result"
    }
   ],
   "source": [
    "col.find_one({})"
   ]
  },
  {
   "cell_type": "markdown",
   "id": "8c8da5e9-f4b4-43c9-a36f-26a3335a3c37",
   "metadata": {},
   "source": [
    "Búsqueda de múltiples documentos."
   ]
  },
  {
   "cell_type": "code",
   "execution_count": 33,
   "id": "fe704c24-3652-4522-b1fc-c0c6fc64a8eb",
   "metadata": {},
   "outputs": [
    {
     "data": {
      "text/plain": [
       "<pymongo.cursor.Cursor at 0x7f57c935f310>"
      ]
     },
     "execution_count": 33,
     "metadata": {},
     "output_type": "execute_result"
    }
   ],
   "source": [
    "col.find({})"
   ]
  },
  {
   "cell_type": "markdown",
   "id": "5a84674d-62e4-4aa5-bbc8-94ef9b369ea3",
   "metadata": {},
   "source": [
    "Este nos genererá un objeto tipo 'Cursor' por lo cual deberemos iterarlo para poder visualizarlo."
   ]
  },
  {
   "cell_type": "code",
   "execution_count": 13,
   "id": "00c4928c-e8d7-4d37-b7ea-aff6832f457d",
   "metadata": {},
   "outputs": [
    {
     "name": "stdout",
     "output_type": "stream",
     "text": [
      "{'_id': ObjectId('63d19ba2012a78e817cc71a5'), 'nombre': 'Luis Vargas', 'edad': 36, 'profesion': 'enfermero'}\n",
      "{'_id': ObjectId('63d19ba2012a78e817cc71a6'), 'nombre': 'Marcela Aranda', 'edad': 35, 'profesion': 'estudiante'}\n"
     ]
    }
   ],
   "source": [
    "query = {'edad':{'$gt': 30}}\n",
    "\n",
    "for documento in col.find(query):\n",
    "    print(documento)"
   ]
  },
  {
   "cell_type": "code",
   "execution_count": 34,
   "id": "962897a1-3395-4345-9d0e-dddffd698d28",
   "metadata": {},
   "outputs": [
    {
     "name": "stdout",
     "output_type": "stream",
     "text": [
      "{'_id': ObjectId('63d195a33eb3ce7e74439616'), 'nombre': 'José Pérez', 'edad': 20}\n",
      "{'_id': ObjectId('63d1969e3eb3ce7e74439617'), 'nombre': 'José Pérez', 'edad': 20}\n",
      "{'_id': ObjectId('63d196f13eb3ce7e74439618'), 'nombre': 'José Pérez', 'edad': 20}\n",
      "{'_id': ObjectId('63d197063eb3ce7e74439619'), 'nombre': 'José Pérez', 'edad': 20}\n",
      "{'_id': ObjectId('63d1973c3eb3ce7e7443961a'), 'nombre': 'José Pérez', 'edad': 20, 'profesion': 'arquitecto'}\n",
      "{'_id': ObjectId('63d197ca3eb3ce7e7443961b'), 'nombre': 'Andrea Sanchez', 'edad': 30, 'profesion': 'deportista'}\n",
      "{'_id': ObjectId('63d197ca3eb3ce7e7443961c'), 'nombre': 'Luis Vargas', 'edad': 36, 'profesion': 'enfermero'}\n",
      "{'_id': ObjectId('63d197ca3eb3ce7e7443961d'), 'nombre': 'Marcela Aranda', 'edad': 35, 'profesion': 'estudiante'}\n"
     ]
    }
   ],
   "source": [
    "for documento in col.find({}):\n",
    "    print(documento)"
   ]
  },
  {
   "cell_type": "code",
   "execution_count": null,
   "id": "0f2ca199-697c-420f-a821-58d3651e55ec",
   "metadata": {},
   "outputs": [],
   "source": []
  }
 ],
 "metadata": {
  "kernelspec": {
   "display_name": "Python 3 (ipykernel)",
   "language": "python",
   "name": "python3"
  },
  "language_info": {
   "codemirror_mode": {
    "name": "ipython",
    "version": 3
   },
   "file_extension": ".py",
   "mimetype": "text/x-python",
   "name": "python",
   "nbconvert_exporter": "python",
   "pygments_lexer": "ipython3",
   "version": "3.10.4"
  }
 },
 "nbformat": 4,
 "nbformat_minor": 5
}
