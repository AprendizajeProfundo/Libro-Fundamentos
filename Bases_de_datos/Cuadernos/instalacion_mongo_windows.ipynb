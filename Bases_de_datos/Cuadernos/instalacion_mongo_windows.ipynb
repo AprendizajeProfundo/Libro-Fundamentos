{
 "cells": [
  {
   "cell_type": "markdown",
   "id": "6587957b-de3c-4719-8d00-1561310397fa",
   "metadata": {},
   "source": [
    "# <span style=\"color:#F72585\"><center>Instalación MongoDB en Windows</center></span></center></span>"
   ]
  },
  {
   "cell_type": "markdown",
   "id": "098f66df-ddf1-4e82-b2cb-9d624187cda7",
   "metadata": {},
   "source": [
    "Para trabajar con MongoDB podemos hacerlo desde diferentes entornos y podemos tener tanto base de datos locales como remotas (en este caso a través de Atlas)."
   ]
  },
  {
   "cell_type": "markdown",
   "id": "035bd132-b561-4a55-9a41-14de2ceb88ae",
   "metadata": {},
   "source": [
    "MongoDB nos permite ingresar a las bases de datos a través de:\n",
    "\n",
    "- Consola de comandos\n",
    "- MongoDB Compass\n",
    "- Atlas\n",
    "\n",
    "Atlas nos permite acceder unicamente a nuestras bases de datos remotas dentro de esta plataforma."
   ]
  },
  {
   "cell_type": "markdown",
   "id": "d91fa17c-a240-4e5e-9edd-0b0f562019d3",
   "metadata": {},
   "source": [
    "## <span style=\"color:#4361EE\">Instalación local</span> "
   ]
  },
  {
   "cell_type": "markdown",
   "id": "6373196b-7c13-43d7-aec8-6b455756bec4",
   "metadata": {},
   "source": [
    "Inicialmente vamos a indicar como instalar MongoDB en nuestro computador."
   ]
  },
  {
   "cell_type": "markdown",
   "id": "aa3392ba-a7da-4035-b226-d313de58f9db",
   "metadata": {},
   "source": [
    "### <span style=\"color:#4CC9F0\">MongoDB</span>"
   ]
  },
  {
   "cell_type": "markdown",
   "id": "deee8f05-e5e0-4738-a655-7132ec7ce8cd",
   "metadata": {},
   "source": [
    "1. Debemos ingresar a [Download MongoDB Locally](https://www.mongodb.com/try/downloadhttps://www.mongodb.com/try/download).\n",
    "2. Desplegamos la sección *MongoDB Community Server*.\n",
    "3. Seleccionamos las siguientes opciones:\n",
    "    - Version: la última versión (en este caso la 6.0.2).\n",
    "    - Platform: *Windows*.\n",
    "    - Package: *msi*.\n",
    "4. Damos clic en *Download*."
   ]
  },
  {
   "cell_type": "markdown",
   "id": "45e36582-12ec-4e7d-8ab7-bcc7d9f26dcd",
   "metadata": {},
   "source": [
    "<figure>\n",
    "<center>\n",
    "<img src=\"../Imagenes/Instalacion_Windows/instalacion_mongodb0.png\" width=\"900\" height=\"800\" align=\"center\"/>\n",
    "</center>\n",
    "</figure>\n",
    "\n",
    "\n",
    "Fuente: [mongodb.com](https://www.mongodb.com/try/download/community)"
   ]
  },
  {
   "cell_type": "markdown",
   "id": "8e3d67e6-4f0c-477b-ad9f-915c52324562",
   "metadata": {},
   "source": [
    "5. Al terminar la descarga damos doble clic en el archivo y este empezará con la instalación.\n"
   ]
  },
  {
   "cell_type": "markdown",
   "id": "da34e5a5-bf82-4350-9ca5-f6b732b1093a",
   "metadata": {},
   "source": [
    "<figure>\n",
    "<center>\n",
    "<img src=\"../Imagenes/Instalacion_Windows/instalacion_mongodb1.jpg\" width=\"400\" height=\"400\" align=\"center\"/>\n",
    "</center>\n",
    "</figure>"
   ]
  },
  {
   "cell_type": "markdown",
   "id": "ff07138c-d937-4148-91b1-0b44904a19be",
   "metadata": {},
   "source": [
    "6. Hacemos clic en `next`."
   ]
  },
  {
   "cell_type": "markdown",
   "id": "87348ac2-754a-458e-ae0e-d4aa97779cba",
   "metadata": {},
   "source": [
    "<figure>\n",
    "<center>\n",
    "<img src=\"../Imagenes/Instalacion_Windows/instalacion_mongodb2.jpg\" width=\"400\" height=\"400\" align=\"center\"/>\n",
    "</center>\n",
    "</figure>"
   ]
  },
  {
   "cell_type": "markdown",
   "id": "3a74d1ea-5851-4deb-b64a-ffec37e152d2",
   "metadata": {},
   "source": [
    "7. Hacemos clic nuevamente en `next`."
   ]
  },
  {
   "cell_type": "markdown",
   "id": "6cb8780c-35db-4c92-9901-6ed6e9bd5f96",
   "metadata": {},
   "source": [
    "<figure>\n",
    "<center>\n",
    "<img src=\"../Imagenes/Instalacion_Windows/instalacion_mongodb3.jpg\" width=\"400\" height=\"400\" align=\"center\"/>\n",
    "</center>\n",
    "</figure>"
   ]
  },
  {
   "cell_type": "markdown",
   "id": "d3619f9a-a8fb-46f1-aeef-61e21d059113",
   "metadata": {},
   "source": [
    "8. Damos clic en `complete`."
   ]
  },
  {
   "cell_type": "markdown",
   "id": "51342e69-9d9d-46ff-bc8d-cc6b1c9f578e",
   "metadata": {},
   "source": [
    "<figure>\n",
    "<center>\n",
    "<img src=\"../Imagenes/Instalacion_Windows/instalacion_mongodb4.jpg\" width=\"400\" height=\"400\" align=\"center\"/>\n",
    "</center>\n",
    "</figure>"
   ]
  },
  {
   "cell_type": "markdown",
   "id": "22503469-206a-45e5-8a9e-8f181feb4f38",
   "metadata": {},
   "source": [
    "9. Hacemos clic en `Next >`."
   ]
  },
  {
   "cell_type": "markdown",
   "id": "f85555bd-4dc5-4e40-b3b6-8fa6ae697e83",
   "metadata": {},
   "source": [
    "<figure>\n",
    "<center>\n",
    "<img src=\"../Imagenes/Instalacion_Windows/instalacion_mongodb5.jpg\" width=\"400\" height=\"400\" align=\"center\"/>\n",
    "</center>\n",
    "</figure>"
   ]
  },
  {
   "cell_type": "markdown",
   "id": "8657c601-deff-4c34-8c19-7a4a49663098",
   "metadata": {},
   "source": [
    "19. Hacemos clic en `Next`."
   ]
  },
  {
   "cell_type": "markdown",
   "id": "e0963aad-abae-4a01-b9cc-20ff8589882f",
   "metadata": {},
   "source": [
    "<figure>\n",
    "<center>\n",
    "<img src=\"../Imagenes/Instalacion_Windows/instalacion_mongodb6.jpg\" width=\"400\" height=\"400\" align=\"center\"/>\n",
    "</center>\n",
    "</figure>"
   ]
  },
  {
   "cell_type": "markdown",
   "id": "e24a2ea2-8a1e-4d0b-acd7-90c70ba8bfcc",
   "metadata": {},
   "source": [
    "20. Damos clic en `Install`."
   ]
  },
  {
   "cell_type": "markdown",
   "id": "f960b562-ba08-4817-972c-35670525fb5f",
   "metadata": {},
   "source": [
    "<figure>\n",
    "<center>\n",
    "<img src=\"../Imagenes/Instalacion_Windows/instalacion_mongodb7.jpg\" width=\"400\" height=\"400\" align=\"center\"/>\n",
    "</center>\n",
    "</figure>"
   ]
  },
  {
   "cell_type": "markdown",
   "id": "084d99ec-ed08-4496-bafd-088f41176ca8",
   "metadata": {},
   "source": [
    "21. Esperamos a que la instalación termine."
   ]
  },
  {
   "cell_type": "markdown",
   "id": "e23bfc1c-3478-4b4c-8313-6ed1f49b780b",
   "metadata": {},
   "source": [
    "<figure>\n",
    "<center>\n",
    "<img src=\"../Imagenes/Instalacion_Windows/instalacion_mongodb8.jpg\" width=\"400\" height=\"400\" align=\"center\"/>\n",
    "</center>\n",
    "</figure>"
   ]
  },
  {
   "cell_type": "markdown",
   "id": "e51fd379-b270-42fb-8eff-bcbec3649ffa",
   "metadata": {},
   "source": [
    "22. Al terminar la instalación damos clic en `Finish`."
   ]
  },
  {
   "cell_type": "markdown",
   "id": "df87165a-f593-4a74-ad55-2adaf347cf78",
   "metadata": {},
   "source": [
    "`````{admonition}\n",
    ":class: tip\n",
    "Se instalará MongoDB así como MongoDB Compass que es su interfaz gráfica. \n",
    "`````"
   ]
  },
  {
   "cell_type": "markdown",
   "id": "3751b474-9480-457b-ab74-ea4a8411dd92",
   "metadata": {},
   "source": [
    "### <span style=\"color:#4CC9F0\">MongoDB Shell</span>"
   ]
  },
  {
   "cell_type": "markdown",
   "id": "5f734621-8124-4a44-b253-bda3eea1a937",
   "metadata": {},
   "source": [
    "Mongo cuenta con su propia interfaz para su manejo a través de consola de comandos."
   ]
  },
  {
   "cell_type": "markdown",
   "id": "fbfa772e-a3f3-4517-ac13-8e48a4db2835",
   "metadata": {},
   "source": [
    "En la instalación anterior aunque por defecto podremos usar la consola con MongoDB Compass, no podremos hacerlo desde la consola de nuestro computador."
   ]
  },
  {
   "cell_type": "markdown",
   "id": "2ebf5617-90fa-4ce3-bfed-c03bd3599c4b",
   "metadata": {},
   "source": [
    "1. Debemos ingresar a [Download MongoDB Tools Free](https://www.mongodb.com/try/download/tools)\n",
    "2. Desplegamos la sección *MongoDB Shell*.\n",
    "3. Seleccionamos las siguientes opciones:\n",
    "    - Version: la última versión (en este caso la 1.6.0).\n",
    "    - Platform: *Windows 64-bit (8.1+)(MSI)*.\n",
    "    - Package: *msi*.\n",
    "4. Damos clic en *Download*."
   ]
  },
  {
   "cell_type": "markdown",
   "id": "f5d9559e-7656-40a9-afd2-405cbcebee24",
   "metadata": {},
   "source": [
    "<figure>\n",
    "<center>\n",
    "<img src=\"../Imagenes/Instalacion_Windows/instalacion_mongodb9.png\" width=\"900\" height=\"800\" align=\"center\"/>\n",
    "</center>\n",
    "</figure>\n",
    "\n",
    "\n",
    "Fuente: [mongodb.com](https://www.mongodb.com/try/download/shell)"
   ]
  },
  {
   "cell_type": "markdown",
   "id": "17eed7e6-256f-4e9f-b929-d8c219760d06",
   "metadata": {},
   "source": [
    "5. Al terminar la descarga damos doble clic en el archivo y este empezará con la instalación.\n"
   ]
  },
  {
   "cell_type": "markdown",
   "id": "cadc3ee6-d3c2-4e56-81b8-4a056815352f",
   "metadata": {},
   "source": [
    "<figure>\n",
    "<center>\n",
    "<img src=\"../Imagenes/Instalacion_Windows/instalacion_mongodb10.jpg\" width=\"400\" height=\"400\" align=\"center\"/>\n",
    "</center>\n",
    "</figure>"
   ]
  },
  {
   "cell_type": "markdown",
   "id": "ee864eaf-1b0a-457c-b961-c8ebd5bd9db2",
   "metadata": {},
   "source": [
    "6. Hacemos clic en `Next`."
   ]
  },
  {
   "cell_type": "markdown",
   "id": "3fff8b2f-b7db-4994-90cd-fd5c3dd79f50",
   "metadata": {},
   "source": [
    "<figure>\n",
    "<center>\n",
    "<img src=\"../Imagenes/Instalacion_Windows/instalacion_mongodb11.jpg\" width=\"400\" height=\"400\" align=\"center\"/>\n",
    "</center>\n",
    "</figure>"
   ]
  },
  {
   "cell_type": "markdown",
   "id": "ba9c44cc-b661-4ce6-b5bd-850d85b09abc",
   "metadata": {},
   "source": [
    "7. Hacemos clic en `Install`."
   ]
  },
  {
   "cell_type": "markdown",
   "id": "3f0e2af3-2fd5-4a42-9543-2840598eedeb",
   "metadata": {},
   "source": [
    "<figure>\n",
    "<center>\n",
    "<img src=\"../Imagenes/Instalacion_Windows/instalacion_mongodb12.jpg\" width=\"400\" height=\"400\" align=\"center\"/>\n",
    "</center>\n",
    "</figure>"
   ]
  },
  {
   "cell_type": "markdown",
   "id": "fd4ccf9b-5dc9-4c5d-b718-359094985276",
   "metadata": {},
   "source": [
    "8. Esperamos que termine de instalar."
   ]
  },
  {
   "cell_type": "markdown",
   "id": "84717907-a1e2-4ba8-9f6c-f4587d8cb518",
   "metadata": {},
   "source": [
    "<figure>\n",
    "<center>\n",
    "<img src=\"../Imagenes/Instalacion_Windows/instalacion_mongodb13.jpg\" width=\"400\" height=\"400\" align=\"center\"/>\n",
    "</center>\n",
    "</figure>"
   ]
  },
  {
   "cell_type": "markdown",
   "id": "9767017d-46fc-4ac7-999a-2b78d76834b8",
   "metadata": {},
   "source": [
    "9. Damos clic en `Finish`."
   ]
  },
  {
   "cell_type": "markdown",
   "id": "a484c211-3eea-497f-bda1-7a9e4e5b7547",
   "metadata": {},
   "source": [
    "<figure>\n",
    "<center>\n",
    "<img src=\"../Imagenes/Instalacion_Windows/instalacion_mongodb14.jpg\" width=\"400\" height=\"400\" align=\"center\"/>\n",
    "</center>\n",
    "</figure>"
   ]
  },
  {
   "cell_type": "markdown",
   "id": "748f41d8-710c-41c6-93a0-57f633bda74f",
   "metadata": {},
   "source": [
    "## <span style=\"color:#4361EE\">Consola de comandos</span> "
   ]
  },
  {
   "cell_type": "markdown",
   "id": "8227e92c-cebf-4442-a571-72ff6418ff7d",
   "metadata": {},
   "source": [
    "### <span style=\"color:#4CC9F0\">Configuración</span>"
   ]
  },
  {
   "cell_type": "markdown",
   "id": "a2fe63e6-d779-44d3-949c-5b2fca80771c",
   "metadata": {},
   "source": [
    "Para poder usar MongoDB desde consola aún tenemos que realizar un paso adicional."
   ]
  },
  {
   "cell_type": "markdown",
   "id": "ac19cbc9-3917-4780-b040-1a8827a98d36",
   "metadata": {},
   "source": [
    "1. Debemos copiar la ruta de la carpeta en la cual está instalada MongoDB.\n",
    "\n",
    "    En este caso es: `C:/Program Files\\MongoDB\\Server\\6.0\\bin`."
   ]
  },
  {
   "cell_type": "markdown",
   "id": "a463a993-5709-4e7c-8eb7-935c19c3d232",
   "metadata": {},
   "source": [
    "<figure>\n",
    "<center>\n",
    "<img src=\"../Imagenes/Instalacion_Windows/instalacion_mongodb15.jpg\" width=\"900\" height=\"800\" align=\"center\"/>\n",
    "</center>\n",
    "</figure>"
   ]
  },
  {
   "cell_type": "markdown",
   "id": "a57d2a0e-e7dd-4f40-8c89-560c9e236529",
   "metadata": {},
   "source": [
    "2. Vamos a `Equipo`, damos clic derecho y luego seleccionamos la opción `Propiedades`. "
   ]
  },
  {
   "cell_type": "markdown",
   "id": "cd0f799f-0cf3-4a7d-ba2f-b112ca0fac32",
   "metadata": {},
   "source": [
    "<figure>\n",
    "<center>\n",
    "<img src=\"../Imagenes/Instalacion_Windows/instalacion_mongodb16.jpg\" width=\"900\" height=\"800\" align=\"center\"/>\n",
    "</center>\n",
    "</figure>"
   ]
  },
  {
   "cell_type": "markdown",
   "id": "dede1781-abd1-41b8-ac6f-5b245b459483",
   "metadata": {},
   "source": [
    "3. Damos clic en `Configuración avanzada del sistema`."
   ]
  },
  {
   "cell_type": "markdown",
   "id": "6f353f29-cb07-4893-9698-860be8814cb8",
   "metadata": {},
   "source": [
    "<figure>\n",
    "<center>\n",
    "<img src=\"../Imagenes/Instalacion_Windows/instalacion_mongodb17.jpg\" width=\"900\" height=\"800\" align=\"center\"/>\n",
    "</center>\n",
    "</figure>"
   ]
  },
  {
   "cell_type": "markdown",
   "id": "46dc8d00-8094-4c1f-8c4a-bf1b32f48f93",
   "metadata": {},
   "source": [
    "4. Damos clic en `Variable de entorno`."
   ]
  },
  {
   "cell_type": "markdown",
   "id": "c233669b-693c-42aa-9ed5-5bbed7975049",
   "metadata": {},
   "source": [
    "<figure>\n",
    "<center>\n",
    "<img src=\"../Imagenes/Instalacion_Windows/instalacion_mongodb18.jpg\" width=\"400\" height=\"400\" align=\"center\"/>\n",
    "</center>\n",
    "</figure>"
   ]
  },
  {
   "cell_type": "markdown",
   "id": "c0e5f6d8-02d3-4071-8bbb-4f6440992f0e",
   "metadata": {},
   "source": [
    "5. Seleccionamoes `Path` y damos clic en `Editar`."
   ]
  },
  {
   "cell_type": "markdown",
   "id": "f1e25d42-57ee-4a6f-afd5-b278bb1ea57d",
   "metadata": {},
   "source": [
    "<figure>\n",
    "<center>\n",
    "<img src=\"../Imagenes/Instalacion_Windows/instalacion_mongodb19.jpg\" width=\"500\" height=\"400\" align=\"center\"/>\n",
    "</center>\n",
    "</figure>"
   ]
  },
  {
   "cell_type": "markdown",
   "id": "769bfacd-70db-403e-93d2-05403f306dcd",
   "metadata": {},
   "source": [
    "6. Damos clic en `Nuevo`."
   ]
  },
  {
   "cell_type": "markdown",
   "id": "a0c7ba8f-45a1-45c3-a0be-e48a29ca86b9",
   "metadata": {},
   "source": [
    "<figure>\n",
    "<center>\n",
    "<img src=\"../Imagenes/Instalacion_Windows/instalacion_mongodb20.jpg\" width=\"500\" height=\"400\" align=\"center\"/>\n",
    "</center>\n",
    "</figure>"
   ]
  },
  {
   "cell_type": "markdown",
   "id": "174e719f-5f62-45ad-b942-e81439720bc3",
   "metadata": {},
   "source": [
    "7. Pegamos la dirección en la casilla y damos aceptar en cada una de las ventanas hasta que estas desaparezcan."
   ]
  },
  {
   "cell_type": "markdown",
   "id": "5d1e8a2e-a55d-42aa-ba2e-54fd5bb4471f",
   "metadata": {},
   "source": [
    "<figure>\n",
    "<center>\n",
    "<img src=\"../Imagenes/Instalacion_Windows/instalacion_mongodb21.jpg\" width=\"500\" height=\"400\" align=\"center\"/>\n",
    "</center>\n",
    "</figure>"
   ]
  },
  {
   "cell_type": "markdown",
   "id": "6b0e09fb-a634-4620-8770-a0891645fee3",
   "metadata": {
    "tags": []
   },
   "source": [
    "```{admonition} Nota\n",
    "Para MongoDB Shell verificamos que se encuentre en la variable de entorno, si esta no se encuentra realizamos el mismo proceso que acabamos de hacer con MongoDB.\n",
    "```"
   ]
  },
  {
   "cell_type": "markdown",
   "id": "1887d83f-24c1-4bf9-abac-fc4cc073cbe5",
   "metadata": {
    "tags": []
   },
   "source": [
    "Al terminar el proceso ya podremos utilizar MongoDB desde consola."
   ]
  },
  {
   "cell_type": "markdown",
   "id": "b4e4625b-5655-472e-8732-0dd93fc6b8e2",
   "metadata": {},
   "source": [
    "### <span style=\"color:#4CC9F0\">Ejecución</span>"
   ]
  },
  {
   "cell_type": "markdown",
   "id": "8dac7568-a71b-47f3-ba87-397f787ebff9",
   "metadata": {
    "tags": []
   },
   "source": [
    "En este podemos buscar `Windows PowerShell` en el menú de inicio y ejecutarlo. "
   ]
  },
  {
   "cell_type": "markdown",
   "id": "199a4c96-1be3-4884-9c59-fa3c6d78b88c",
   "metadata": {},
   "source": [
    "<figure>\n",
    "<center>\n",
    "<img src=\"../Imagenes/Instalacion_Windows/instalacion_mongodb22.jpg\" width=\"500\" height=\"400\" align=\"center\"/>\n",
    "</center>\n",
    "</figure>"
   ]
  },
  {
   "cell_type": "markdown",
   "id": "e8881384-9d51-4fb1-8639-94568d317c27",
   "metadata": {
    "tags": []
   },
   "source": [
    "1. Escribimos `mongod` y damos `enter` para inicializar MongoDB."
   ]
  },
  {
   "cell_type": "markdown",
   "id": "bf5b23ed-7e69-44fa-9ccc-a2be8a0b74dc",
   "metadata": {},
   "source": [
    "<figure>\n",
    "<center>\n",
    "<img src=\"../Imagenes/Instalacion_Windows/instalacion_mongodb23.jpg\" width=\"500\" height=\"400\" align=\"center\"/>\n",
    "</center>\n",
    "</figure>"
   ]
  },
  {
   "cell_type": "markdown",
   "id": "8db2eef9-714a-4035-b3d1-30759428b5d1",
   "metadata": {
    "tags": []
   },
   "source": [
    "2. Luego escribimos `mongosh` y damos `enter` para iniciar la consola."
   ]
  },
  {
   "cell_type": "markdown",
   "id": "ee98f64e-1882-4955-885b-49e3ae6ed4a3",
   "metadata": {},
   "source": [
    "<figure>\n",
    "<center>\n",
    "<img src=\"../Imagenes/Instalacion_Windows/instalacion_mongodb24.jpg\" width=\"500\" height=\"400\" align=\"center\"/>\n",
    "</center>\n",
    "</figure>"
   ]
  },
  {
   "cell_type": "markdown",
   "id": "08ad0079-93fb-44b8-ae38-70bdc1cb1e98",
   "metadata": {
    "tags": []
   },
   "source": [
    "3. ¡Y listo! ya podemos utilizar MongoDB desde la consola de nuestro computador."
   ]
  },
  {
   "cell_type": "markdown",
   "id": "79e907f5-c3b5-4c67-81a5-c115fa2e6d41",
   "metadata": {},
   "source": [
    "<figure>\n",
    "<center>\n",
    "<img src=\"../Imagenes/Instalacion_Windows/instalacion_mongodb25.jpg\" width=\"500\" height=\"400\" align=\"center\"/>\n",
    "</center>\n",
    "</figure>"
   ]
  }
 ],
 "metadata": {
  "kernelspec": {
   "display_name": "Python 3 (ipykernel)",
   "language": "python",
   "name": "python3"
  },
  "language_info": {
   "codemirror_mode": {
    "name": "ipython",
    "version": 3
   },
   "file_extension": ".py",
   "mimetype": "text/x-python",
   "name": "python",
   "nbconvert_exporter": "python",
   "pygments_lexer": "ipython3",
   "version": "3.10.4"
  }
 },
 "nbformat": 4,
 "nbformat_minor": 5
}
