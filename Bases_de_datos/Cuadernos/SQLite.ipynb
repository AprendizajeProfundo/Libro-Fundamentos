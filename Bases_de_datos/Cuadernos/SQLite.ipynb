{
 "cells": [
  {
   "cell_type": "markdown",
   "id": "b4b3dfbe-7f2b-4364-b2f0-57232786c624",
   "metadata": {},
   "source": [
    "# SQLite3"
   ]
  },
  {
   "cell_type": "code",
   "execution_count": 9,
   "id": "74d6da8b-93a6-425c-a304-9c3d914da349",
   "metadata": {},
   "outputs": [],
   "source": [
    "import sqlite3"
   ]
  },
  {
   "cell_type": "markdown",
   "id": "b102b3c7-ecd6-428b-aba7-a0520af7e480",
   "metadata": {},
   "source": [
    "## Conectamos la base de datos"
   ]
  },
  {
   "cell_type": "markdown",
   "id": "6799932f-db5c-42b8-9111-c6d6bb430c64",
   "metadata": {},
   "source": [
    "En este caso al no existir la base de datos se creará en la carpeta que indiquemos, por lo tanto lo hará en la carpeta actual donde tenemos nuestro cuaderno."
   ]
  },
  {
   "cell_type": "code",
   "execution_count": 10,
   "id": "e352f8df-2162-47c8-941b-3283156f6031",
   "metadata": {},
   "outputs": [
    {
     "name": "stdout",
     "output_type": "stream",
     "text": [
      "Base de datos iniciada\n"
     ]
    }
   ],
   "source": [
    "try:\n",
    "    con = sqlite3.connect(\"usuarios.db\")\n",
    "    print('Base de datos iniciada')\n",
    "\n",
    "except sqlite3.Error as error:\n",
    "    print('Ha ocurrido un error')\n",
    "    "
   ]
  },
  {
   "cell_type": "markdown",
   "id": "015420e8-28e6-44be-8111-a1a680e8884a",
   "metadata": {},
   "source": [
    "Creamos un cursor para obtener resultados de nuestra base"
   ]
  },
  {
   "cell_type": "code",
   "execution_count": 11,
   "id": "91308f58-ad5a-4053-8bf8-48f0fa180a4d",
   "metadata": {
    "tags": []
   },
   "outputs": [],
   "source": [
    "cur = con.cursor()"
   ]
  },
  {
   "cell_type": "markdown",
   "id": "ce4bcb41-8927-41e1-9330-b0a8a9a2c27a",
   "metadata": {},
   "source": [
    "## Tipos de datos"
   ]
  },
  {
   "cell_type": "markdown",
   "id": "a99ca548-62c6-4a5a-8aeb-d6d9436488d6",
   "metadata": {},
   "source": [
    "|Tipo|Sintaxis|\n",
    "|:---:|:---:|\n",
    "|NULL|NULL|\n",
    "|INTEGER|INT|\n",
    "|REAL|FLOAT|\n",
    "|TEXT|VARCHAR|"
   ]
  },
  {
   "cell_type": "markdown",
   "id": "f9c2de2d-8864-4ec0-a856-0c092f5f7fee",
   "metadata": {},
   "source": [
    "## Creación de tablas"
   ]
  },
  {
   "cell_type": "markdown",
   "id": "bfd72126-8b7d-4513-8944-5233cac07231",
   "metadata": {},
   "source": [
    "Creamos las tablas con los nombres de las columnas y sus especificaciones."
   ]
  },
  {
   "cell_type": "code",
   "execution_count": 12,
   "id": "b95d0924-0509-4293-83c1-a2523ba1edd7",
   "metadata": {},
   "outputs": [
    {
     "data": {
      "text/plain": [
       "<sqlite3.Cursor at 0x7fe9bcdc7dc0>"
      ]
     },
     "execution_count": 12,
     "metadata": {},
     "output_type": "execute_result"
    }
   ],
   "source": [
    "query = '''CREATE TABLE IF NOT EXISTS usuarios(\n",
    "    ID INTEGER PRIMARY KEY AUTOINCREMENT,\n",
    "    Nombres VARCHAR(255) NOT NULL,\n",
    "    Apellidos VARCHAR(255) NOT NULL,\n",
    "    Edad INT NOT NULL)'''\n",
    "\n",
    "cur.execute(query)"
   ]
  },
  {
   "cell_type": "code",
   "execution_count": 13,
   "id": "c4c412ff-cf4e-43f7-9543-7b7049d9de9a",
   "metadata": {},
   "outputs": [
    {
     "data": {
      "text/plain": [
       "<sqlite3.Cursor at 0x7fe9bcdc7dc0>"
      ]
     },
     "execution_count": 13,
     "metadata": {},
     "output_type": "execute_result"
    }
   ],
   "source": [
    "query = '''CREATE TABLE IF NOT EXISTS preguntas(\n",
    "    ID INT PRIMARY KEY,\n",
    "    Cuaderno TEXT NOT NULL,\n",
    "    Respuestas INT NOT NULL\n",
    "    )'''\n",
    "\n",
    "cur.execute(query)"
   ]
  },
  {
   "cell_type": "markdown",
   "id": "a468c86b-074c-4d7c-85d3-ea294c93788d",
   "metadata": {},
   "source": [
    "Para cambiar el nombre de la tabla."
   ]
  },
  {
   "cell_type": "code",
   "execution_count": 7,
   "id": "be46a3e0-6e48-4ae5-b899-2b1d63869057",
   "metadata": {},
   "outputs": [],
   "source": [
    "cur.execute('''ALTER TABLE pregunta\n",
    "            RENAME TO preguntas''')\n",
    "con.commit()"
   ]
  },
  {
   "cell_type": "markdown",
   "id": "342300bd-99d2-4c50-b20e-7e2fa3933f3b",
   "metadata": {},
   "source": [
    "## Insertar datos"
   ]
  },
  {
   "cell_type": "markdown",
   "id": "6e5f458c-f02b-4d59-8651-7ecca0c48a43",
   "metadata": {},
   "source": [
    "Añadir una columna a una tabla."
   ]
  },
  {
   "cell_type": "code",
   "execution_count": 29,
   "id": "b45b875a-a9c3-47bb-8e09-6823e71d863c",
   "metadata": {},
   "outputs": [],
   "source": [
    "cur.execute('''ALTER TABLE preguntas \n",
    "            ADD COLUMN respuesta_1  VARCHAR(256) NULL''')\n",
    "con.commit()"
   ]
  },
  {
   "cell_type": "markdown",
   "id": "c8e16f47-3b5c-4ace-a4ee-a19294d79e2d",
   "metadata": {},
   "source": [
    "Ingresamos un usuario."
   ]
  },
  {
   "cell_type": "code",
   "execution_count": 14,
   "id": "3a78045a-e9a9-4806-adee-1cfd2a36ddc4",
   "metadata": {},
   "outputs": [],
   "source": [
    "cur.execute(\"INSERT INTO usuarios(Nombres, Apellidos, Edad) VALUES('José', 'Peñuela', '29')\")\n",
    "con.commit()"
   ]
  },
  {
   "cell_type": "markdown",
   "id": "07908ef8-4ee2-4ec9-a387-0dbe26c00f4b",
   "metadata": {},
   "source": [
    "Ingresamos datos a preguntas."
   ]
  },
  {
   "cell_type": "code",
   "execution_count": 15,
   "id": "882eda67-58e7-45a2-9c87-1015ac7580a4",
   "metadata": {},
   "outputs": [],
   "source": [
    "cur.execute(\"INSERT INTO preguntas VALUES('1001', 'npl_introduccion.ipynb', '0')\")\n",
    "con.commit()"
   ]
  },
  {
   "cell_type": "markdown",
   "id": "2548b929-bc8d-4be8-9903-b9eb25b946fb",
   "metadata": {},
   "source": [
    "Ingresamos múltiples usuarios."
   ]
  },
  {
   "cell_type": "code",
   "execution_count": 16,
   "id": "8d1ca88a-f1e1-4036-87fe-79772eebb2f4",
   "metadata": {},
   "outputs": [],
   "source": [
    "usuarios_nuevos = [\n",
    "    ('Pedro', 'Suarez', 35),\n",
    "    ('Luis', 'Diaz', 25),\n",
    "    ('Sofia', 'Perez', 22)\n",
    "]    "
   ]
  },
  {
   "cell_type": "code",
   "execution_count": 17,
   "id": "d5728279-8b89-49ba-a2b3-d35b11c34cde",
   "metadata": {},
   "outputs": [],
   "source": [
    "cur.executemany(\"INSERT INTO usuarios(Nombres, Apellidos, Edad) VALUES (?, ?, ?)\", usuarios_nuevos)\n",
    "\n",
    "con.commit()"
   ]
  },
  {
   "cell_type": "markdown",
   "id": "e8057927-09de-4d91-9fca-71399963dead",
   "metadata": {},
   "source": [
    "Ingresamos múltiples preguntas."
   ]
  },
  {
   "cell_type": "code",
   "execution_count": 18,
   "id": "e799090d-ecd6-4f5f-9632-9b3bb529660f",
   "metadata": {},
   "outputs": [],
   "source": [
    "preguntas_nuevas = [\n",
    "    (1002, 'nlp_Introduccion', 2),\n",
    "    (1003, 'nlp_Introduccion', 0),\n",
    "    (1004, 'nlp_Introduccion', 0)]"
   ]
  },
  {
   "cell_type": "code",
   "execution_count": 19,
   "id": "0760031e-05ee-4fe6-b54d-5a0f875b186b",
   "metadata": {},
   "outputs": [],
   "source": [
    "cur.executemany(\"INSERT INTO preguntas VALUES (?, ?, ?)\", preguntas_nuevas)\n",
    "\n",
    "con.commit()"
   ]
  },
  {
   "cell_type": "markdown",
   "id": "beb9c45f-e226-4c1d-81e1-043b192d192e",
   "metadata": {},
   "source": [
    "## Búsquedas"
   ]
  },
  {
   "cell_type": "markdown",
   "id": "e6dbd7bc-b22f-4c26-b9e9-0fc499b4b786",
   "metadata": {},
   "source": [
    "Consultamos todos los datos de la base de datos."
   ]
  },
  {
   "cell_type": "markdown",
   "id": "2373f49a-0ed9-41ab-89b7-c3aa96f69f3d",
   "metadata": {},
   "source": [
    "Usamos la instrucción `SELECT` para consultarlos datos de la tabla y obtener todos los registros. Para obtener todos los registros utilizaremos el método `fetchall()`. Para obtener un solo registro utilizamos `fetchone()`."
   ]
  },
  {
   "cell_type": "code",
   "execution_count": 21,
   "id": "f582e802-64c7-4965-b8e4-f5e6bd8a264c",
   "metadata": {},
   "outputs": [
    {
     "name": "stdout",
     "output_type": "stream",
     "text": [
      "[(1, 'José', 'Peñuela', 29), (2, 'Pedro', 'Suarez', 35), (3, 'Luis', 'Diaz', 25), (4, 'Sofia', 'Perez', 22)]\n"
     ]
    }
   ],
   "source": [
    "cur.execute('SELECT * FROM usuarios')\n",
    "\n",
    "usuarios = cur.fetchall()\n",
    "\n",
    "print(usuarios)"
   ]
  },
  {
   "cell_type": "markdown",
   "id": "dea37d74-d091-4ab8-a0e2-de9d9fa03897",
   "metadata": {},
   "source": [
    "Consultamos todos los datos de las columnas específicas."
   ]
  },
  {
   "cell_type": "code",
   "execution_count": null,
   "id": "b879593b-689b-4b19-b6be-cd900f461613",
   "metadata": {},
   "outputs": [],
   "source": [
    "cur.execute('SELECT Apellidos, Edad FROM usuarios')\n",
    "\n",
    "usuarios = cur.fetchall()\n",
    "\n",
    "print(usuarios)"
   ]
  },
  {
   "cell_type": "markdown",
   "id": "efab80c6-059a-4fb9-832a-bdb6d890268d",
   "metadata": {},
   "source": [
    "Consultamos todos los datos de la base de datos ordenado por edad, ya sea de manera ascendente `ASC` o descendente `DESC`."
   ]
  },
  {
   "cell_type": "code",
   "execution_count": null,
   "id": "fa94d37d-9362-4347-9475-e571de26bd69",
   "metadata": {},
   "outputs": [],
   "source": [
    "cur.execute('SELECT Apellidos, Edad FROM usuarios ORDER BY Edad ASC')\n",
    "\n",
    "usuarios = cur.fetchall()\n",
    "\n",
    "print(usuarios)"
   ]
  },
  {
   "cell_type": "markdown",
   "id": "23deaae4-615d-42ec-8412-7d4bc710fb06",
   "metadata": {},
   "source": [
    "Consultamos un solo dato de la base de datos."
   ]
  },
  {
   "cell_type": "code",
   "execution_count": null,
   "id": "9ddd960f-9eea-41e5-bf75-f79383fadd53",
   "metadata": {},
   "outputs": [],
   "source": [
    "cur.execute('SELECT * FROM usuarios')\n",
    "\n",
    "usuario = cur.fetchone()\n",
    "\n",
    "print(usuario)"
   ]
  },
  {
   "cell_type": "markdown",
   "id": "6f9a7242-b01b-40ef-9311-8700914c47e7",
   "metadata": {},
   "source": [
    "Consultamos la cantidad de datos específico de la base de datos."
   ]
  },
  {
   "cell_type": "code",
   "execution_count": null,
   "id": "d0ab5397-20b5-4a4d-bd2a-97d946080db9",
   "metadata": {},
   "outputs": [],
   "source": [
    "cur.execute('SELECT * FROM usuarios')\n",
    "\n",
    "usuario = cur.fetchmany(3)\n",
    "\n",
    "print(usuario)"
   ]
  },
  {
   "cell_type": "markdown",
   "id": "3c4c640e-bfd5-4384-9823-8d8178bf6f1d",
   "metadata": {},
   "source": [
    "También podemos limitar el número de registros consultados."
   ]
  },
  {
   "cell_type": "code",
   "execution_count": null,
   "id": "567293a7-9898-4806-930f-83e35453ce3e",
   "metadata": {},
   "outputs": [],
   "source": [
    "cur.execute('SELECT * FROM usuarios LIMIT 2')\n",
    "\n",
    "usuario = cur.fetchall()\n",
    "\n",
    "print(usuario)"
   ]
  },
  {
   "cell_type": "markdown",
   "id": "ef10ce38-9841-466d-8929-2b1ce85d4185",
   "metadata": {},
   "source": [
    "Buscar el mayor `MAX` o el menor `MIN`."
   ]
  },
  {
   "cell_type": "code",
   "execution_count": null,
   "id": "22993ff8-9480-41ea-8f54-294a0e3ac85c",
   "metadata": {},
   "outputs": [],
   "source": [
    "cur.execute('SELECT MAX(Edad) as mayor FROM usuarios')\n",
    "\n",
    "usuario = cur.fetchall()\n",
    "\n",
    "print(usuario)"
   ]
  },
  {
   "cell_type": "markdown",
   "id": "53eb2bb0-283f-4707-bbce-216306356c3e",
   "metadata": {},
   "source": [
    "### Sentencia `WHERE`"
   ]
  },
  {
   "cell_type": "markdown",
   "id": "f267a6b4-7748-496f-ba56-05cda32497aa",
   "metadata": {},
   "source": [
    "Realizamos la búsqueda que contengan un atributo en específico."
   ]
  },
  {
   "cell_type": "code",
   "execution_count": null,
   "id": "ffe132ec-576a-4640-bf90-00c94aa5f25e",
   "metadata": {},
   "outputs": [],
   "source": [
    "cur.execute('SELECT * FROM usuarios WHERE ID=?', (222,))\n",
    "\n",
    "usuarios = cur.fetchall()\n",
    "\n",
    "print(usuarios)"
   ]
  },
  {
   "cell_type": "markdown",
   "id": "919ae3a1-4b56-4ac0-9de7-965397cc3b08",
   "metadata": {},
   "source": [
    "Podemos agregar operdores lógicos."
   ]
  },
  {
   "cell_type": "code",
   "execution_count": null,
   "id": "b2974b6f-a67e-4212-8255-f684f6477465",
   "metadata": {},
   "outputs": [],
   "source": [
    "cur.execute('SELECT * FROM usuarios WHERE ID=1 AND Nombres=\"José\" ')\n",
    "\n",
    "usuarios = cur.fetchall()\n",
    "\n",
    "print(usuarios)"
   ]
  },
  {
   "cell_type": "markdown",
   "id": "1cadd5ca-95d8-4e9d-9dfd-d48580a3d593",
   "metadata": {},
   "source": [
    "Podemos seleccionar los datos que cumplan cierta condición a través de operadores de comparación `<`, `>`, `>=`, `<=`, `!=`."
   ]
  },
  {
   "cell_type": "code",
   "execution_count": null,
   "id": "73fec225-56b9-4bfb-879d-5344426c5dc8",
   "metadata": {},
   "outputs": [],
   "source": [
    "cur.execute('SELECT * FROM usuarios WHERE edad > 25')\n",
    "\n",
    "usuario = cur.fetchall()\n",
    "\n",
    "print(usuario)"
   ]
  },
  {
   "cell_type": "markdown",
   "id": "3113bd48-025a-4c20-be99-ac53ac503c09",
   "metadata": {},
   "source": [
    "Podemos usar la instrucción `BETWEEN` podemos consultar registros dentro de un rango."
   ]
  },
  {
   "cell_type": "code",
   "execution_count": null,
   "id": "e06ff926-e316-4ac3-a633-919a3b8cc517",
   "metadata": {},
   "outputs": [],
   "source": [
    "cur.execute('SELECT * FROM usuarios WHERE edad BETWEEN 26 AND 29')\n",
    "\n",
    "usuario = cur.fetchall()\n",
    "\n",
    "print(usuario)"
   ]
  },
  {
   "cell_type": "markdown",
   "id": "1a57f63b-18d0-4c30-857f-aef1f538ab06",
   "metadata": {},
   "source": [
    "Consultamos con `LIKE` cadenas de caracteres contenidas en un registro."
   ]
  },
  {
   "cell_type": "markdown",
   "id": "69232fa5-8fd8-40e8-af5e-6a6bb10cd1a4",
   "metadata": {},
   "source": [
    "Sintaxis:\n",
    "\n",
    "- `%ere%` : Para buscar dentro del registro.\n",
    "- `ere%` : Debe empezar por \"ere\", pero no importa el contenido siguiente a este.\n",
    "- `%ere` : Debe terminar por \"ere\", pero no importa el contenido anterior a este."
   ]
  },
  {
   "cell_type": "code",
   "execution_count": null,
   "id": "a8e74ae3-6300-4d78-b9ae-838a66c99726",
   "metadata": {},
   "outputs": [],
   "source": [
    "cur.execute('SELECT * FROM usuarios WHERE Apellidos LIKE \"%ere%\" ')\n",
    "\n",
    "usuario = cur.fetchall()\n",
    "\n",
    "print(usuario)"
   ]
  },
  {
   "cell_type": "markdown",
   "id": "e500e99b-0015-4cde-b8b4-bcbc79ea0028",
   "metadata": {},
   "source": [
    "## Actualización de datos"
   ]
  },
  {
   "cell_type": "markdown",
   "id": "8d05d2aa-241b-450d-967e-54e20a3a0eaa",
   "metadata": {},
   "source": [
    "Aquí cambiamos la `edad` por el valor `30` del registro con el `ID=2`. "
   ]
  },
  {
   "cell_type": "code",
   "execution_count": null,
   "id": "2aeb4bc3-3921-4625-bd78-08ba15b15144",
   "metadata": {},
   "outputs": [],
   "source": [
    "cur.execute('UPDATE usuarios SET Edad=? WHERE ID=?', (30, 2))\n",
    "\n",
    "con.commit()"
   ]
  },
  {
   "cell_type": "markdown",
   "id": "79f872a5-943b-42ca-9bd9-4cd564706330",
   "metadata": {},
   "source": [
    "## Eliminar datos"
   ]
  },
  {
   "cell_type": "markdown",
   "id": "96871aca-ef60-4f88-8a06-5c123d6b5c9a",
   "metadata": {},
   "source": [
    "Eliminar registros."
   ]
  },
  {
   "cell_type": "code",
   "execution_count": null,
   "id": "beae0ee5-74e1-489a-a3e5-85f0aedaab3c",
   "metadata": {},
   "outputs": [],
   "source": [
    "cur.execute('DELETE from usuarios WHERE ID=?', (222,))\n",
    "\n",
    "con.commit()"
   ]
  },
  {
   "cell_type": "markdown",
   "id": "1c742bad-4fea-4322-9179-a5d94920a804",
   "metadata": {},
   "source": [
    "Eliminar columnas."
   ]
  },
  {
   "cell_type": "code",
   "execution_count": null,
   "id": "fa2ed902-c1ae-48ff-9da0-1981cf38de91",
   "metadata": {},
   "outputs": [],
   "source": [
    "cur.execute('DROP TABLE usuarios')\n",
    "\n",
    "con.commit()"
   ]
  },
  {
   "cell_type": "markdown",
   "id": "da1870a7-bcce-47e6-bf98-42be22980bf9",
   "metadata": {},
   "source": [
    "Eliminar tabla."
   ]
  },
  {
   "cell_type": "code",
   "execution_count": null,
   "id": "78a2677b-01ec-42eb-a4f8-24bd3bedab07",
   "metadata": {},
   "outputs": [],
   "source": [
    "cur.execute('DROP TABLE usuarios')\n",
    "\n",
    "con.commit()"
   ]
  },
  {
   "cell_type": "markdown",
   "id": "18ff22b1-5097-4468-a6b9-f898d4a56183",
   "metadata": {},
   "source": [
    "## Llave foranea"
   ]
  },
  {
   "cell_type": "code",
   "execution_count": 22,
   "id": "b4b5958a-165d-4b50-93a8-d79fc0beeac7",
   "metadata": {},
   "outputs": [
    {
     "data": {
      "text/plain": [
       "<sqlite3.Cursor at 0x7fe9bcdc7dc0>"
      ]
     },
     "execution_count": 22,
     "metadata": {},
     "output_type": "execute_result"
    }
   ],
   "source": [
    "cur.execute('PRAGMA foreign_keys = 1')"
   ]
  },
  {
   "cell_type": "code",
   "execution_count": 23,
   "id": "4c16c1f3-9044-495c-90a8-a7bed2598cf1",
   "metadata": {},
   "outputs": [
    {
     "data": {
      "text/plain": [
       "<sqlite3.Cursor at 0x7fe9bcdc7dc0>"
      ]
     },
     "execution_count": 23,
     "metadata": {},
     "output_type": "execute_result"
    }
   ],
   "source": [
    "cur.execute('''CREATE TABLE IF NOT EXISTS Calificaciones(\n",
    "    ID INTEGER PRIMARY KEY AUTOINCREMENT,\n",
    "    id_Usuario INTEGER NOT NULL,\n",
    "    id_Pregunta INTEGER NOT NULL,\n",
    "    Respuestas VARCHAR(256),\n",
    "    Calificacion INTEGER,\n",
    "    FOREIGN KEY(id_Usuario) REFERENCES Usuarios(ID),\n",
    "    FOREIGN KEY(id_Pregunta) REFERENCES Preguntas(ID))''')"
   ]
  },
  {
   "cell_type": "code",
   "execution_count": 24,
   "id": "94b3794b-ae13-4435-8713-9cd0035283f7",
   "metadata": {},
   "outputs": [],
   "source": [
    "cur.execute('''INSERT INTO calificaciones(Id_Usuario, Id_Pregunta, Respuestas, Calificacion) \n",
    "            VALUES('1', '1001', '0', '5') ''')\n",
    "con.commit()"
   ]
  },
  {
   "cell_type": "code",
   "execution_count": 25,
   "id": "583fae5a-53d0-4bdb-9a8f-c8bfebd8190a",
   "metadata": {},
   "outputs": [
    {
     "name": "stdout",
     "output_type": "stream",
     "text": [
      "[(1, 1, 1001, '0', 5)]\n"
     ]
    }
   ],
   "source": [
    "cur.execute('SELECT * FROM Calificaciones')\n",
    "\n",
    "calificacion = cur.fetchall()\n",
    "\n",
    "print(calificacion)"
   ]
  },
  {
   "cell_type": "markdown",
   "id": "805540de-55fe-4bcb-a694-169998fcd589",
   "metadata": {},
   "source": [
    "## Left Join"
   ]
  },
  {
   "cell_type": "markdown",
   "id": "8e2275e2-6ad6-400f-8e76-ef0da49feba4",
   "metadata": {},
   "source": [
    "{Usuarios} \\ {Calificaciones}"
   ]
  },
  {
   "cell_type": "code",
   "execution_count": 29,
   "id": "c0817b50-25ce-4e56-8bbb-59900283399a",
   "metadata": {},
   "outputs": [
    {
     "name": "stdout",
     "output_type": "stream",
     "text": [
      "[(1, 'Peñuela', '0'), (2, 'Suarez', None), (3, 'Diaz', None), (4, 'Perez', None)]\n"
     ]
    }
   ],
   "source": [
    "cur.execute(''' SELECT U.ID, U.Apellidos, C.Respuestas \n",
    "            FROM Usuarios U \n",
    "            LEFT JOIN Calificaciones C \n",
    "            ON U.ID = C.id_Usuario''')\n",
    "\n",
    "print(cur.fetchall())"
   ]
  },
  {
   "cell_type": "markdown",
   "id": "b4ee0748-2bb4-4428-b03b-47803c885823",
   "metadata": {
    "tags": []
   },
   "source": [
    "## Rigth Join"
   ]
  },
  {
   "cell_type": "markdown",
   "id": "413c9a4b-e554-49a6-abae-32b6e11b3a99",
   "metadata": {},
   "source": [
    "{Calificaciones} \\ {Usuarios}"
   ]
  },
  {
   "cell_type": "code",
   "execution_count": 30,
   "id": "3ac6548a-11b9-4818-b38d-db190ea77b43",
   "metadata": {},
   "outputs": [
    {
     "name": "stdout",
     "output_type": "stream",
     "text": [
      "[(1, 'Peñuela', '0')]\n"
     ]
    }
   ],
   "source": [
    "cur.execute(''' SELECT U.ID, U.Apellidos, C.Respuestas \n",
    "            FROM Usuarios U \n",
    "            RIGHT JOIN Calificaciones C \n",
    "            ON U.ID = C.id_Usuario''')\n",
    "\n",
    "print(cur.fetchall())"
   ]
  },
  {
   "cell_type": "markdown",
   "id": "051b182c-107c-4341-ab8e-5d0832aa2224",
   "metadata": {},
   "source": [
    "## Inner Join"
   ]
  },
  {
   "cell_type": "markdown",
   "id": "aebdc06d-666f-4f72-95de-cfb49e9dc078",
   "metadata": {},
   "source": [
    "{Usuarios} $\\cap$ {Calificaciones}"
   ]
  },
  {
   "cell_type": "code",
   "execution_count": 31,
   "id": "8c83506f-40ca-40a6-9976-a4ce79db5426",
   "metadata": {},
   "outputs": [
    {
     "name": "stdout",
     "output_type": "stream",
     "text": [
      "[(1, 'Peñuela', '0')]\n"
     ]
    }
   ],
   "source": [
    "cur.execute(''' SELECT U.ID, U.Apellidos, C.Respuestas \n",
    "            FROM Usuarios U \n",
    "            INNER JOIN Calificaciones C \n",
    "            ON U.ID = C.id_Usuario''')\n",
    "\n",
    "print(cur.fetchall())"
   ]
  },
  {
   "cell_type": "markdown",
   "id": "28694cf6-8e9e-485a-879c-baabf5766e83",
   "metadata": {
    "tags": []
   },
   "source": [
    "## Cross Join"
   ]
  },
  {
   "cell_type": "markdown",
   "id": "e2f207a4-78e9-46bf-bf95-8a9ce364e3a5",
   "metadata": {},
   "source": [
    "{Usuarios} $\\times$ {Calificaciones}"
   ]
  },
  {
   "cell_type": "code",
   "execution_count": 32,
   "id": "c3f241e5-2500-4589-a838-d27949171be3",
   "metadata": {},
   "outputs": [
    {
     "name": "stdout",
     "output_type": "stream",
     "text": [
      "[(1, 'Peñuela', '0'), (2, 'Suarez', '0'), (3, 'Diaz', '0'), (4, 'Perez', '0')]\n"
     ]
    }
   ],
   "source": [
    "cur.execute(''' SELECT U.ID, U.Apellidos, C.Respuestas \n",
    "            FROM Usuarios U \n",
    "            CROSS JOIN Calificaciones C''')\n",
    "\n",
    "print(cur.fetchall())"
   ]
  },
  {
   "cell_type": "markdown",
   "id": "f98166c5-4f47-4a41-b673-d6458b109345",
   "metadata": {},
   "source": [
    "## Group By"
   ]
  },
  {
   "cell_type": "markdown",
   "id": "826ad3f4-b050-4b6b-a354-96534280ac81",
   "metadata": {},
   "source": [
    "Para mostrar elementos según un criterio."
   ]
  },
  {
   "cell_type": "code",
   "execution_count": 35,
   "id": "01b9cff4-3387-4616-86d6-9f827225a590",
   "metadata": {},
   "outputs": [
    {
     "name": "stdout",
     "output_type": "stream",
     "text": [
      "[(1, 'José', 'Peñuela'), (1, 'Luis', 'Diaz'), (1, 'Pedro', 'Suarez'), (1, 'Sofia', 'Perez')]\n"
     ]
    }
   ],
   "source": [
    "cur.execute('''SELECT COUNT(Edad), Nombres, Apellidos \n",
    "            FROM Usuarios \n",
    "            GROUP BY Nombres''')\n",
    "\n",
    "print(cur.fetchall())"
   ]
  },
  {
   "cell_type": "markdown",
   "id": "20fefbd0-fcd0-4991-a3d7-a4f2ac8c63ce",
   "metadata": {},
   "source": [
    "Podemos también hacer búsquedas con tablas combinadas."
   ]
  },
  {
   "cell_type": "code",
   "execution_count": 40,
   "id": "c7ddb8e9-d077-4b3b-966e-ff155c5cf433",
   "metadata": {},
   "outputs": [
    {
     "name": "stdout",
     "output_type": "stream",
     "text": [
      "[(1, 'Sofia', 'Perez', 22, None), (1, 'Luis', 'Diaz', 25, None), (1, 'José', 'Peñuela', 29, 5), (1, 'Pedro', 'Suarez', 35, None)]\n"
     ]
    }
   ],
   "source": [
    "cur.execute('''SELECT COUNT(U.ID), U.Nombres, U.Apellidos, U.Edad, C.Calificacion\n",
    "            FROM Usuarios U\n",
    "            LEFT JOIN Calificaciones C\n",
    "            ON U.ID = C.id_Usuario\n",
    "            GROUP BY U.Edad''')\n",
    "\n",
    "print(cur.fetchall())"
   ]
  },
  {
   "cell_type": "markdown",
   "id": "9e33c60f-723a-4e36-a432-d44909d3f8a9",
   "metadata": {},
   "source": [
    "## Having"
   ]
  },
  {
   "cell_type": "markdown",
   "id": "f6066066-3aa6-48c8-be65-34d5e6327720",
   "metadata": {},
   "source": [
    "Podemos usar operadores de comparación con la sentencia `HAVING`."
   ]
  },
  {
   "cell_type": "code",
   "execution_count": 52,
   "id": "e9d2f3ae-8c5b-44f4-80b3-3f8d53e68cd0",
   "metadata": {},
   "outputs": [
    {
     "name": "stdout",
     "output_type": "stream",
     "text": [
      "[(1, 'Luis', 'Diaz', 25, None), (1, 'José', 'Peñuela', 29, 5), (1, 'Pedro', 'Suarez', 35, None)]\n"
     ]
    }
   ],
   "source": [
    "query = '''SELECT COUNT(U.ID), U.Nombres, U.Apellidos,  U.Edad, C.Calificacion\n",
    "            FROM Usuarios U\n",
    "            LEFT JOIN Calificaciones C\n",
    "            ON U.ID = C.id_Usuario\n",
    "            GROUP BY U.Edad\n",
    "            HAVING U.Edad >= 25'''\n",
    "\n",
    "cur.execute(query)\n",
    "\n",
    "print(cur.fetchall())"
   ]
  },
  {
   "cell_type": "markdown",
   "id": "436c811d-3ccc-4c16-9338-5b36c445fe33",
   "metadata": {},
   "source": [
    "## Cerramos la conexión"
   ]
  },
  {
   "cell_type": "code",
   "execution_count": null,
   "id": "e0a912df-d6b2-420a-840b-28d30f10734e",
   "metadata": {},
   "outputs": [],
   "source": [
    "con.close()"
   ]
  }
 ],
 "metadata": {
  "kernelspec": {
   "display_name": "Python 3 (ipykernel)",
   "language": "python",
   "name": "python3"
  },
  "language_info": {
   "codemirror_mode": {
    "name": "ipython",
    "version": 3
   },
   "file_extension": ".py",
   "mimetype": "text/x-python",
   "name": "python",
   "nbconvert_exporter": "python",
   "pygments_lexer": "ipython3",
   "version": "3.10.6"
  }
 },
 "nbformat": 4,
 "nbformat_minor": 5
}
