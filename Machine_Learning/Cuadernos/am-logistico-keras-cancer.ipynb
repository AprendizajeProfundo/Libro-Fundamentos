{
 "cells": [
  {
   "cell_type": "markdown",
   "metadata": {},
   "source": [
    "# <span style=\"color:#F72585\"><center>Modelo logístico de predicción en tf.keras</center></span>"
   ]
  },
  {
   "cell_type": "markdown",
   "metadata": {},
   "source": [
    "## <span style=\"color:#4361EE\">Introducción</span> "
   ]
  },
  {
   "cell_type": "markdown",
   "metadata": {},
   "source": [
    "En esta lección construimos un modelo predictivo de regresión logística usando los datos de cáncer de la Universidad de Wisconsin.\n",
    "\n",
    "Usaremos las funciones de activación *relu* y *sigmoid* y el regularizador *Dropout*. Adicionalmente introducimos el  modo 2 de escribir un modelo *Sequential*.\n",
    "\n",
    "Finalmente se construye una matriz de confusión para el problema."
   ]
  },
  {
   "cell_type": "markdown",
   "metadata": {},
   "source": [
    "## <span style=\"color:#4361EE\">Importar módulos</span>"
   ]
  },
  {
   "cell_type": "code",
   "execution_count": 1,
   "metadata": {},
   "outputs": [],
   "source": [
    "try:\n",
    "  %tensorflow_version 2.x\n",
    "except Exception:\n",
    "  pass"
   ]
  },
  {
   "cell_type": "code",
   "execution_count": 3,
   "metadata": {},
   "outputs": [
    {
     "name": "stdout",
     "output_type": "stream",
     "text": [
      "2.8.0\n"
     ]
    }
   ],
   "source": [
    "from __future__ import absolute_import, division, print_function, unicode_literals\n",
    "#\n",
    "import pandas as pd\n",
    "import matplotlib.pyplot as plt\n",
    "import seaborn as sns\n",
    "import tensorflow as tf\n",
    "#\n",
    "from tensorflow.keras.models import Sequential\n",
    "#\n",
    "from tensorflow.keras.layers import Dense, Dropout\n",
    "#\n",
    "from tensorflow.keras.utils import plot_model\n",
    "#\n",
    "from sklearn.preprocessing import LabelEncoder\n",
    "from sklearn.model_selection import train_test_split\n",
    "from sklearn.preprocessing import StandardScaler\n",
    "from sklearn.metrics import confusion_matrix\n",
    "#\n",
    "print(tf.__version__)"
   ]
  },
  {
   "cell_type": "markdown",
   "metadata": {},
   "source": [
    "## <span style=\"color:#4361EE\">Funciones de activación</span>"
   ]
  },
  {
   "cell_type": "markdown",
   "metadata": {},
   "source": [
    "### <span style=\"color:#4CC9F0\">Logística o sigmoide</span>"
   ]
  },
  {
   "cell_type": "markdown",
   "metadata": {},
   "source": [
    "Dada la salida del sumador, digamos $y=\\mathbf{w}'\\mathbf{x} +b$, la función de activación *sigmoid* está definida por:\n",
    "\n",
    "$$\n",
    "sigmoid(y) = \\frac{1}{1+\\exp(-y)}\n",
    "$$\n",
    "\n",
    "Entonces, esta función de activación transforma cualquier número real en un número en el intervalo $(0,1)$, de tal manera que puede ser interpretado como una probabilidad. "
   ]
  },
  {
   "cell_type": "markdown",
   "metadata": {},
   "source": [
    "### <span style=\"color:#4CC9F0\">Relu</span>"
   ]
  },
  {
   "cell_type": "markdown",
   "metadata": {},
   "source": [
    "Dada la salida del sumador, digamos $y=\\mathbf{w}'\\mathbf{x} +b$, la función de activación *relu* está definida por:\n",
    "\n",
    "$$\n",
    "relu(y) = \\begin{cases} &0, \\text{ si } y\\le 0,\\\\\n",
    " &y, \\text{ en otro caso } \\end{cases}\n",
    "$$\n",
    "\n"
   ]
  },
  {
   "cell_type": "markdown",
   "metadata": {},
   "source": [
    "## <span style=\"color:#4361EE\">Regularizadores</span>"
   ]
  },
  {
   "cell_type": "markdown",
   "metadata": {},
   "source": [
    "### <span style=\"color:#4CC9F0\">Dropout</span>"
   ]
  },
  {
   "cell_type": "markdown",
   "metadata": {},
   "source": [
    "Usaremos el regularizador *Dropout*. [Dropout paper](https://jmlr.org/papers/v15/srivastava14a.html). Este regularizador deja por fuera del entrenamiento en cada epoch un porcentaje de las neuronas de la capa, escogidas de forma aleatoria en cada epoch. Por ejemplo `Dropout(0.1)` deja el $10\\%$ de las neuronas por fuera del entrenamiento en cada epoch. En el artículo muestran que en muchos casos este regularizador funciona mejor que los clásicos L1 y L2."
   ]
  },
  {
   "cell_type": "markdown",
   "metadata": {},
   "source": [
    "## <span style=\"color:#4361EE\">El conjunto de datos cáncer de seno Wisconsin</span>"
   ]
  },
  {
   "cell_type": "markdown",
   "metadata": {},
   "source": [
    "Puede descargar los datos en [kaggle- cancer de seno-Wisconsin](https://www.kaggle.com/uciml/breast-cancer-wisconsin-data)."
   ]
  },
  {
   "cell_type": "markdown",
   "metadata": {},
   "source": [
    "### <span style=\"color:#4CC9F0\">Meta-información sobre los datos</span>"
   ]
  },
  {
   "cell_type": "markdown",
   "metadata": {},
   "source": [
    "\n",
    "\n",
    "1. ID number\n",
    "2. Diagnosis (M = maligno, B = benigno) \n",
    "\n",
    "Se calculan diez características de valor real para cada núcleo celular:\n",
    "\n",
    "  - radius (media de las distancias desde el centro a los puntos del perímetro) \n",
    "  - texture (desviación estándar de los valores de la escala de grises) \n",
    "  - perimeter\n",
    "  - area\n",
    "  - smoothness (variación local en las longitudes de los radios)\n",
    "  - compactness (perímetro ^ 2 / área - 1.0) \n",
    "  - concavity (severidad de las porciones cóncavas del contorno) \n",
    "  - concave points (número de porciones cóncavas del contorno) \n",
    "  - symmetry \n",
    "  - fractal dimension (\"aproximación de la línea de costa\" - 1)\n",
    " \n",
    "La media, el error estándar y el \"peor\" o el mayor (la media de los tres valores más grandes) de estas características se calcularon para cada imagen, lo que resultó en 30 características. Por ejemplo, el campo 3 es Radio medio, el campo 13 es Radio SE, el campo 23 es Peor radio.\n",
    "\n",
    "Todos los valores de las características se recodifican con cuatro dígitos significativos.\n",
    "\n",
    "Datos faltantes: ninguno.\n",
    "\n",
    "Distribución de clases: 357 benignos, 212 malignos."
   ]
  },
  {
   "cell_type": "markdown",
   "metadata": {},
   "source": [
    "## <span style=\"color:#4361EE\">Lectura de datos</span>"
   ]
  },
  {
   "cell_type": "markdown",
   "metadata": {},
   "source": [
    "### <span style=\"color:#4CC9F0\">Separa entrada (features) y salida</span>"
   ]
  },
  {
   "cell_type": "code",
   "execution_count": 4,
   "metadata": {},
   "outputs": [],
   "source": [
    "# Importando la data\n",
    "data = pd.read_csv('../Datos/breast_cancer/data.csv')\n",
    "del data['Unnamed: 32']"
   ]
  },
  {
   "cell_type": "markdown",
   "metadata": {},
   "source": [
    "## <span style=\"color:#4361EE\">Preprocesamiento</span>"
   ]
  },
  {
   "cell_type": "code",
   "execution_count": 5,
   "metadata": {},
   "outputs": [],
   "source": [
    "x = data.iloc[:,2:].values # extrae como tensores numpy\n",
    "y = data.iloc[:,1].values"
   ]
  },
  {
   "cell_type": "markdown",
   "metadata": {},
   "source": [
    "### <span style=\"color:#4CC9F0\">Recodifica la variable objetivo</span>"
   ]
  },
  {
   "cell_type": "code",
   "execution_count": 6,
   "metadata": {},
   "outputs": [],
   "source": [
    "labelencoder_y = LabelEncoder()\n",
    "y = labelencoder_y.fit_transform(y)"
   ]
  },
  {
   "cell_type": "markdown",
   "metadata": {},
   "source": [
    "### <span style=\"color:#4CC9F0\">Divide los datos. Entrenamiento y test</span>"
   ]
  },
  {
   "cell_type": "code",
   "execution_count": 7,
   "metadata": {},
   "outputs": [],
   "source": [
    "x_train, x_test, y_train, y_test = train_test_split(x, y, test_size = 0.1, random_state = 0)"
   ]
  },
  {
   "cell_type": "code",
   "execution_count": 8,
   "metadata": {},
   "outputs": [
    {
     "data": {
      "text/plain": [
       "(57, 30)"
      ]
     },
     "execution_count": 8,
     "metadata": {},
     "output_type": "execute_result"
    }
   ],
   "source": [
    "x_test.shape"
   ]
  },
  {
   "cell_type": "markdown",
   "metadata": {},
   "source": [
    "### <span style=\"color:#4CC9F0\">Normaliza los datos</span>"
   ]
  },
  {
   "cell_type": "code",
   "execution_count": 9,
   "metadata": {},
   "outputs": [],
   "source": [
    "sc = StandardScaler()\n",
    "x_train = sc.fit_transform(x_train)\n",
    "x_test = sc.transform(x_test)"
   ]
  },
  {
   "cell_type": "markdown",
   "metadata": {},
   "source": [
    "## <span style=\"color:#4361EE\">Crea el modelo Sequential modo 2</span>"
   ]
  },
  {
   "cell_type": "code",
   "execution_count": 11,
   "metadata": {},
   "outputs": [],
   "source": [
    "classifier = Sequential()\n",
    "## Adiciona capas una por una\n",
    "classifier.add(Dense(units=16, activation='relu', input_shape=(30,)))\n",
    "# Adiciona dropout para prevenir overfitting (regularización)\n",
    "classifier.add(Dropout(0.1)) # 10% en cada época\n",
    "classifier.add(Dense(units=16, activation='relu'))\n",
    "# Adiciona dropout para prevenir overfitting (regularización)\n",
    "classifier.add(Dropout(0.1))\n",
    "classifier.add(Dense(units=1, activation='sigmoid'))"
   ]
  },
  {
   "cell_type": "markdown",
   "metadata": {},
   "source": [
    "## <span style=\"color:#4361EE\">Compila</span>"
   ]
  },
  {
   "cell_type": "code",
   "execution_count": 12,
   "metadata": {},
   "outputs": [],
   "source": [
    "classifier.compile(optimizer='adam', loss='binary_crossentropy', metrics=['accuracy'])"
   ]
  },
  {
   "cell_type": "code",
   "execution_count": 13,
   "metadata": {},
   "outputs": [
    {
     "name": "stdout",
     "output_type": "stream",
     "text": [
      "Model: \"sequential_1\"\n",
      "_________________________________________________________________\n",
      " Layer (type)                Output Shape              Param #   \n",
      "=================================================================\n",
      " dense_3 (Dense)             (None, 16)                496       \n",
      "                                                                 \n",
      " dropout_2 (Dropout)         (None, 16)                0         \n",
      "                                                                 \n",
      " dense_4 (Dense)             (None, 16)                272       \n",
      "                                                                 \n",
      " dropout_3 (Dropout)         (None, 16)                0         \n",
      "                                                                 \n",
      " dense_5 (Dense)             (None, 1)                 17        \n",
      "                                                                 \n",
      "=================================================================\n",
      "Total params: 785\n",
      "Trainable params: 785\n",
      "Non-trainable params: 0\n",
      "_________________________________________________________________\n"
     ]
    },
    {
     "data": {
      "image/png": "[encoded data removed]",
      "text/plain": [
       "<IPython.core.display.Image object>"
      ]
     },
     "execution_count": 13,
     "metadata": {},
     "output_type": "execute_result"
    }
   ],
   "source": [
    "classifier.summary()\n",
    "plot_model(classifier, to_file='../Imagenes/cancer_seno.png', \n",
    "           show_shapes=True)"
   ]
  },
  {
   "cell_type": "markdown",
   "metadata": {},
   "source": [
    "## <span style=\"color:#4361EE\">Entrenamiento</span>"
   ]
  },
  {
   "cell_type": "code",
   "execution_count": 14,
   "metadata": {},
   "outputs": [
    {
     "name": "stdout",
     "output_type": "stream",
     "text": [
      "Epoch 1/150\n",
      "13/13 [==============================] - 1s 30ms/step - loss: 0.6567 - accuracy: 0.5941 - val_loss: 0.5389 - val_accuracy: 0.7864\n",
      "Epoch 2/150\n",
      "13/13 [==============================] - 0s 9ms/step - loss: 0.4837 - accuracy: 0.8289 - val_loss: 0.4229 - val_accuracy: 0.8932\n",
      "Epoch 3/150\n",
      "13/13 [==============================] - 0s 12ms/step - loss: 0.4014 - accuracy: 0.8802 - val_loss: 0.3350 - val_accuracy: 0.9417\n",
      "Epoch 4/150\n",
      "13/13 [==============================] - 0s 10ms/step - loss: 0.3347 - accuracy: 0.8973 - val_loss: 0.2699 - val_accuracy: 0.9515\n",
      "Epoch 5/150\n",
      "13/13 [==============================] - 0s 10ms/step - loss: 0.2669 - accuracy: 0.9315 - val_loss: 0.2194 - val_accuracy: 0.9709\n",
      "Epoch 6/150\n",
      "13/13 [==============================] - 0s 10ms/step - loss: 0.2184 - accuracy: 0.9511 - val_loss: 0.1840 - val_accuracy: 0.9806\n",
      "Epoch 7/150\n",
      "13/13 [==============================] - 0s 8ms/step - loss: 0.2045 - accuracy: 0.9389 - val_loss: 0.1577 - val_accuracy: 0.9806\n",
      "Epoch 8/150\n",
      "13/13 [==============================] - 0s 12ms/step - loss: 0.1796 - accuracy: 0.9389 - val_loss: 0.1374 - val_accuracy: 0.9806\n",
      "Epoch 9/150\n",
      "13/13 [==============================] - 0s 6ms/step - loss: 0.1661 - accuracy: 0.9535 - val_loss: 0.1213 - val_accuracy: 0.9806\n",
      "Epoch 10/150\n",
      "13/13 [==============================] - 0s 7ms/step - loss: 0.1494 - accuracy: 0.9584 - val_loss: 0.1102 - val_accuracy: 0.9806\n",
      "Epoch 11/150\n",
      "13/13 [==============================] - 0s 6ms/step - loss: 0.1444 - accuracy: 0.9487 - val_loss: 0.1009 - val_accuracy: 0.9903\n",
      "Epoch 12/150\n",
      "13/13 [==============================] - 0s 5ms/step - loss: 0.1249 - accuracy: 0.9584 - val_loss: 0.0924 - val_accuracy: 0.9903\n",
      "Epoch 13/150\n",
      "13/13 [==============================] - 0s 6ms/step - loss: 0.1166 - accuracy: 0.9633 - val_loss: 0.0854 - val_accuracy: 0.9903\n",
      "Epoch 14/150\n",
      "13/13 [==============================] - 0s 6ms/step - loss: 0.1179 - accuracy: 0.9584 - val_loss: 0.0795 - val_accuracy: 0.9903\n",
      "Epoch 15/150\n",
      "13/13 [==============================] - 0s 6ms/step - loss: 0.1101 - accuracy: 0.9633 - val_loss: 0.0747 - val_accuracy: 0.9903\n",
      "Epoch 16/150\n",
      "13/13 [==============================] - 0s 6ms/step - loss: 0.1038 - accuracy: 0.9682 - val_loss: 0.0709 - val_accuracy: 0.9903\n",
      "Epoch 17/150\n",
      "13/13 [==============================] - 0s 6ms/step - loss: 0.0977 - accuracy: 0.9682 - val_loss: 0.0671 - val_accuracy: 0.9903\n",
      "Epoch 18/150\n",
      "13/13 [==============================] - 0s 5ms/step - loss: 0.1095 - accuracy: 0.9487 - val_loss: 0.0628 - val_accuracy: 1.0000\n",
      "Epoch 19/150\n",
      "13/13 [==============================] - 0s 7ms/step - loss: 0.0920 - accuracy: 0.9707 - val_loss: 0.0601 - val_accuracy: 1.0000\n",
      "Epoch 20/150\n",
      "13/13 [==============================] - 0s 6ms/step - loss: 0.0877 - accuracy: 0.9731 - val_loss: 0.0574 - val_accuracy: 1.0000\n",
      "Epoch 21/150\n",
      "13/13 [==============================] - 0s 6ms/step - loss: 0.0904 - accuracy: 0.9658 - val_loss: 0.0545 - val_accuracy: 1.0000\n",
      "Epoch 22/150\n",
      "13/13 [==============================] - 0s 5ms/step - loss: 0.0900 - accuracy: 0.9731 - val_loss: 0.0525 - val_accuracy: 1.0000\n",
      "Epoch 23/150\n",
      "13/13 [==============================] - 0s 6ms/step - loss: 0.0937 - accuracy: 0.9707 - val_loss: 0.0515 - val_accuracy: 1.0000\n",
      "Epoch 24/150\n",
      "13/13 [==============================] - 0s 7ms/step - loss: 0.0944 - accuracy: 0.9658 - val_loss: 0.0503 - val_accuracy: 1.0000\n",
      "Epoch 25/150\n",
      "13/13 [==============================] - 0s 6ms/step - loss: 0.0873 - accuracy: 0.9756 - val_loss: 0.0486 - val_accuracy: 1.0000\n",
      "Epoch 26/150\n",
      "13/13 [==============================] - 0s 6ms/step - loss: 0.0881 - accuracy: 0.9658 - val_loss: 0.0473 - val_accuracy: 1.0000\n",
      "Epoch 27/150\n",
      "13/13 [==============================] - 0s 10ms/step - loss: 0.0800 - accuracy: 0.9756 - val_loss: 0.0459 - val_accuracy: 1.0000\n",
      "Epoch 28/150\n",
      "13/13 [==============================] - 0s 7ms/step - loss: 0.0738 - accuracy: 0.9780 - val_loss: 0.0453 - val_accuracy: 1.0000\n",
      "Epoch 29/150\n",
      "13/13 [==============================] - 0s 8ms/step - loss: 0.0713 - accuracy: 0.9804 - val_loss: 0.0440 - val_accuracy: 1.0000\n",
      "Epoch 30/150\n",
      "13/13 [==============================] - 0s 6ms/step - loss: 0.0663 - accuracy: 0.9707 - val_loss: 0.0435 - val_accuracy: 1.0000\n",
      "Epoch 31/150\n",
      "13/13 [==============================] - 0s 10ms/step - loss: 0.0793 - accuracy: 0.9707 - val_loss: 0.0416 - val_accuracy: 1.0000\n",
      "Epoch 32/150\n",
      "13/13 [==============================] - 0s 10ms/step - loss: 0.0726 - accuracy: 0.9780 - val_loss: 0.0409 - val_accuracy: 1.0000\n",
      "Epoch 33/150\n",
      "13/13 [==============================] - 0s 10ms/step - loss: 0.0597 - accuracy: 0.9829 - val_loss: 0.0411 - val_accuracy: 1.0000\n",
      "Epoch 34/150\n",
      "13/13 [==============================] - 0s 9ms/step - loss: 0.0725 - accuracy: 0.9780 - val_loss: 0.0406 - val_accuracy: 1.0000\n",
      "Epoch 35/150\n",
      "13/13 [==============================] - 0s 8ms/step - loss: 0.0665 - accuracy: 0.9780 - val_loss: 0.0397 - val_accuracy: 1.0000\n",
      "Epoch 36/150\n",
      "13/13 [==============================] - 0s 9ms/step - loss: 0.0752 - accuracy: 0.9756 - val_loss: 0.0384 - val_accuracy: 1.0000\n",
      "Epoch 37/150\n",
      "13/13 [==============================] - 0s 11ms/step - loss: 0.0636 - accuracy: 0.9780 - val_loss: 0.0374 - val_accuracy: 1.0000\n",
      "Epoch 38/150\n",
      "13/13 [==============================] - 0s 8ms/step - loss: 0.0607 - accuracy: 0.9780 - val_loss: 0.0363 - val_accuracy: 1.0000\n",
      "Epoch 39/150\n",
      "13/13 [==============================] - 0s 6ms/step - loss: 0.0531 - accuracy: 0.9829 - val_loss: 0.0358 - val_accuracy: 1.0000\n",
      "Epoch 40/150\n",
      "13/13 [==============================] - 0s 9ms/step - loss: 0.0572 - accuracy: 0.9829 - val_loss: 0.0352 - val_accuracy: 1.0000\n",
      "Epoch 41/150\n",
      "13/13 [==============================] - 0s 5ms/step - loss: 0.0530 - accuracy: 0.9853 - val_loss: 0.0349 - val_accuracy: 1.0000\n",
      "Epoch 42/150\n",
      "13/13 [==============================] - 0s 6ms/step - loss: 0.0576 - accuracy: 0.9804 - val_loss: 0.0352 - val_accuracy: 1.0000\n",
      "Epoch 43/150\n",
      "13/13 [==============================] - 0s 6ms/step - loss: 0.0634 - accuracy: 0.9756 - val_loss: 0.0351 - val_accuracy: 1.0000\n",
      "Epoch 44/150\n",
      "13/13 [==============================] - 0s 5ms/step - loss: 0.0487 - accuracy: 0.9853 - val_loss: 0.0344 - val_accuracy: 1.0000\n",
      "Epoch 45/150\n",
      "13/13 [==============================] - 0s 5ms/step - loss: 0.0530 - accuracy: 0.9853 - val_loss: 0.0343 - val_accuracy: 1.0000\n",
      "Epoch 46/150\n",
      "13/13 [==============================] - 0s 6ms/step - loss: 0.0590 - accuracy: 0.9804 - val_loss: 0.0348 - val_accuracy: 1.0000\n",
      "Epoch 47/150\n",
      "13/13 [==============================] - 0s 7ms/step - loss: 0.0451 - accuracy: 0.9853 - val_loss: 0.0343 - val_accuracy: 1.0000\n",
      "Epoch 48/150\n",
      "13/13 [==============================] - 0s 5ms/step - loss: 0.0520 - accuracy: 0.9853 - val_loss: 0.0342 - val_accuracy: 1.0000\n",
      "Epoch 49/150\n",
      "13/13 [==============================] - 0s 5ms/step - loss: 0.0490 - accuracy: 0.9829 - val_loss: 0.0339 - val_accuracy: 1.0000\n",
      "Epoch 50/150\n",
      "13/13 [==============================] - 0s 5ms/step - loss: 0.0540 - accuracy: 0.9829 - val_loss: 0.0334 - val_accuracy: 1.0000\n",
      "Epoch 51/150\n",
      "13/13 [==============================] - 0s 7ms/step - loss: 0.0568 - accuracy: 0.9731 - val_loss: 0.0346 - val_accuracy: 1.0000\n",
      "Epoch 52/150\n",
      "13/13 [==============================] - 0s 8ms/step - loss: 0.0426 - accuracy: 0.9829 - val_loss: 0.0334 - val_accuracy: 1.0000\n",
      "Epoch 53/150\n",
      "13/13 [==============================] - 0s 7ms/step - loss: 0.0496 - accuracy: 0.9853 - val_loss: 0.0327 - val_accuracy: 1.0000\n",
      "Epoch 54/150\n",
      "13/13 [==============================] - 0s 7ms/step - loss: 0.0587 - accuracy: 0.9804 - val_loss: 0.0331 - val_accuracy: 1.0000\n",
      "Epoch 55/150\n",
      "13/13 [==============================] - 0s 5ms/step - loss: 0.0552 - accuracy: 0.9804 - val_loss: 0.0327 - val_accuracy: 1.0000\n",
      "Epoch 56/150\n",
      "13/13 [==============================] - 0s 5ms/step - loss: 0.0499 - accuracy: 0.9853 - val_loss: 0.0319 - val_accuracy: 1.0000\n",
      "Epoch 57/150\n",
      "13/13 [==============================] - 0s 5ms/step - loss: 0.0479 - accuracy: 0.9829 - val_loss: 0.0317 - val_accuracy: 1.0000\n",
      "Epoch 58/150\n",
      "13/13 [==============================] - 0s 6ms/step - loss: 0.0421 - accuracy: 0.9878 - val_loss: 0.0314 - val_accuracy: 1.0000\n"
     ]
    },
    {
     "name": "stdout",
     "output_type": "stream",
     "text": [
      "Epoch 59/150\n",
      "13/13 [==============================] - 0s 6ms/step - loss: 0.0553 - accuracy: 0.9829 - val_loss: 0.0310 - val_accuracy: 1.0000\n",
      "Epoch 60/150\n",
      "13/13 [==============================] - 0s 6ms/step - loss: 0.0395 - accuracy: 0.9878 - val_loss: 0.0311 - val_accuracy: 1.0000\n",
      "Epoch 61/150\n",
      "13/13 [==============================] - 0s 6ms/step - loss: 0.0456 - accuracy: 0.9829 - val_loss: 0.0321 - val_accuracy: 1.0000\n",
      "Epoch 62/150\n",
      "13/13 [==============================] - 0s 6ms/step - loss: 0.0414 - accuracy: 0.9878 - val_loss: 0.0338 - val_accuracy: 1.0000\n",
      "Epoch 63/150\n",
      "13/13 [==============================] - 0s 6ms/step - loss: 0.0455 - accuracy: 0.9804 - val_loss: 0.0319 - val_accuracy: 1.0000\n",
      "Epoch 64/150\n",
      "13/13 [==============================] - 0s 9ms/step - loss: 0.0418 - accuracy: 0.9804 - val_loss: 0.0316 - val_accuracy: 1.0000\n",
      "Epoch 65/150\n",
      "13/13 [==============================] - 0s 8ms/step - loss: 0.0493 - accuracy: 0.9829 - val_loss: 0.0302 - val_accuracy: 1.0000\n",
      "Epoch 66/150\n",
      "13/13 [==============================] - 0s 9ms/step - loss: 0.0430 - accuracy: 0.9878 - val_loss: 0.0296 - val_accuracy: 1.0000\n",
      "Epoch 67/150\n",
      "13/13 [==============================] - 0s 13ms/step - loss: 0.0376 - accuracy: 0.9878 - val_loss: 0.0299 - val_accuracy: 1.0000\n",
      "Epoch 68/150\n",
      "13/13 [==============================] - 0s 9ms/step - loss: 0.0337 - accuracy: 0.9902 - val_loss: 0.0312 - val_accuracy: 1.0000\n",
      "Epoch 69/150\n",
      "13/13 [==============================] - 0s 9ms/step - loss: 0.0421 - accuracy: 0.9878 - val_loss: 0.0320 - val_accuracy: 1.0000\n",
      "Epoch 70/150\n",
      "13/13 [==============================] - 0s 8ms/step - loss: 0.0305 - accuracy: 0.9951 - val_loss: 0.0304 - val_accuracy: 1.0000\n",
      "Epoch 71/150\n",
      "13/13 [==============================] - 0s 9ms/step - loss: 0.0376 - accuracy: 0.9878 - val_loss: 0.0296 - val_accuracy: 1.0000\n",
      "Epoch 72/150\n",
      "13/13 [==============================] - 0s 9ms/step - loss: 0.0383 - accuracy: 0.9804 - val_loss: 0.0298 - val_accuracy: 1.0000\n",
      "Epoch 73/150\n",
      "13/13 [==============================] - 0s 5ms/step - loss: 0.0353 - accuracy: 0.9853 - val_loss: 0.0293 - val_accuracy: 1.0000\n",
      "Epoch 74/150\n",
      "13/13 [==============================] - 0s 5ms/step - loss: 0.0345 - accuracy: 0.9878 - val_loss: 0.0288 - val_accuracy: 1.0000\n",
      "Epoch 75/150\n",
      "13/13 [==============================] - 0s 6ms/step - loss: 0.0404 - accuracy: 0.9804 - val_loss: 0.0275 - val_accuracy: 1.0000\n",
      "Epoch 76/150\n",
      "13/13 [==============================] - 0s 6ms/step - loss: 0.0382 - accuracy: 0.9902 - val_loss: 0.0279 - val_accuracy: 1.0000\n",
      "Epoch 77/150\n",
      "13/13 [==============================] - 0s 5ms/step - loss: 0.0319 - accuracy: 0.9878 - val_loss: 0.0289 - val_accuracy: 1.0000\n",
      "Epoch 78/150\n",
      "13/13 [==============================] - 0s 6ms/step - loss: 0.0359 - accuracy: 0.9878 - val_loss: 0.0299 - val_accuracy: 1.0000\n",
      "Epoch 79/150\n",
      "13/13 [==============================] - 0s 6ms/step - loss: 0.0299 - accuracy: 0.9951 - val_loss: 0.0309 - val_accuracy: 1.0000\n",
      "Epoch 80/150\n",
      "13/13 [==============================] - 0s 6ms/step - loss: 0.0396 - accuracy: 0.9829 - val_loss: 0.0300 - val_accuracy: 1.0000\n",
      "Epoch 81/150\n",
      "13/13 [==============================] - 0s 5ms/step - loss: 0.0316 - accuracy: 0.9927 - val_loss: 0.0307 - val_accuracy: 1.0000\n",
      "Epoch 82/150\n",
      "13/13 [==============================] - 0s 7ms/step - loss: 0.0341 - accuracy: 0.9902 - val_loss: 0.0304 - val_accuracy: 1.0000\n",
      "Epoch 83/150\n",
      "13/13 [==============================] - 0s 6ms/step - loss: 0.0253 - accuracy: 0.9878 - val_loss: 0.0300 - val_accuracy: 1.0000\n",
      "Epoch 84/150\n",
      "13/13 [==============================] - 0s 6ms/step - loss: 0.0351 - accuracy: 0.9927 - val_loss: 0.0301 - val_accuracy: 1.0000\n",
      "Epoch 85/150\n",
      "13/13 [==============================] - 0s 6ms/step - loss: 0.0290 - accuracy: 0.9878 - val_loss: 0.0306 - val_accuracy: 1.0000\n",
      "Epoch 86/150\n",
      "13/13 [==============================] - 0s 5ms/step - loss: 0.0267 - accuracy: 0.9902 - val_loss: 0.0314 - val_accuracy: 1.0000\n",
      "Epoch 87/150\n",
      "13/13 [==============================] - 0s 6ms/step - loss: 0.0283 - accuracy: 0.9878 - val_loss: 0.0338 - val_accuracy: 1.0000\n",
      "Epoch 88/150\n",
      "13/13 [==============================] - 0s 5ms/step - loss: 0.0295 - accuracy: 0.9902 - val_loss: 0.0330 - val_accuracy: 1.0000\n",
      "Epoch 89/150\n",
      "13/13 [==============================] - 0s 5ms/step - loss: 0.0344 - accuracy: 0.9829 - val_loss: 0.0312 - val_accuracy: 1.0000\n",
      "Epoch 90/150\n",
      "13/13 [==============================] - 0s 5ms/step - loss: 0.0369 - accuracy: 0.9902 - val_loss: 0.0302 - val_accuracy: 1.0000\n",
      "Epoch 91/150\n",
      "13/13 [==============================] - 0s 6ms/step - loss: 0.0301 - accuracy: 0.9927 - val_loss: 0.0307 - val_accuracy: 1.0000\n",
      "Epoch 92/150\n",
      "13/13 [==============================] - 0s 6ms/step - loss: 0.0256 - accuracy: 0.9927 - val_loss: 0.0316 - val_accuracy: 1.0000\n",
      "Epoch 93/150\n",
      "13/13 [==============================] - 0s 6ms/step - loss: 0.0321 - accuracy: 0.9829 - val_loss: 0.0297 - val_accuracy: 1.0000\n",
      "Epoch 94/150\n",
      "13/13 [==============================] - 0s 5ms/step - loss: 0.0265 - accuracy: 0.9902 - val_loss: 0.0289 - val_accuracy: 1.0000\n",
      "Epoch 95/150\n",
      "13/13 [==============================] - 0s 7ms/step - loss: 0.0201 - accuracy: 0.9951 - val_loss: 0.0291 - val_accuracy: 1.0000\n",
      "Epoch 96/150\n",
      "13/13 [==============================] - 0s 6ms/step - loss: 0.0306 - accuracy: 0.9927 - val_loss: 0.0303 - val_accuracy: 1.0000\n",
      "Epoch 97/150\n",
      "13/13 [==============================] - 0s 6ms/step - loss: 0.0262 - accuracy: 0.9927 - val_loss: 0.0321 - val_accuracy: 0.9903\n",
      "Epoch 98/150\n",
      "13/13 [==============================] - 0s 8ms/step - loss: 0.0395 - accuracy: 0.9853 - val_loss: 0.0316 - val_accuracy: 1.0000\n",
      "Epoch 99/150\n",
      "13/13 [==============================] - 0s 13ms/step - loss: 0.0257 - accuracy: 0.9902 - val_loss: 0.0315 - val_accuracy: 1.0000\n",
      "Epoch 100/150\n",
      "13/13 [==============================] - 0s 13ms/step - loss: 0.0199 - accuracy: 0.9927 - val_loss: 0.0331 - val_accuracy: 1.0000\n",
      "Epoch 101/150\n",
      "13/13 [==============================] - 0s 7ms/step - loss: 0.0295 - accuracy: 0.9878 - val_loss: 0.0312 - val_accuracy: 1.0000\n",
      "Epoch 102/150\n",
      "13/13 [==============================] - 0s 9ms/step - loss: 0.0336 - accuracy: 0.9829 - val_loss: 0.0306 - val_accuracy: 1.0000\n",
      "Epoch 103/150\n",
      "13/13 [==============================] - 0s 11ms/step - loss: 0.0249 - accuracy: 0.9902 - val_loss: 0.0290 - val_accuracy: 1.0000\n",
      "Epoch 104/150\n",
      "13/13 [==============================] - 0s 10ms/step - loss: 0.0261 - accuracy: 0.9951 - val_loss: 0.0260 - val_accuracy: 1.0000\n",
      "Epoch 105/150\n",
      "13/13 [==============================] - 0s 6ms/step - loss: 0.0227 - accuracy: 0.9927 - val_loss: 0.0251 - val_accuracy: 1.0000\n",
      "Epoch 106/150\n",
      "13/13 [==============================] - 0s 5ms/step - loss: 0.0256 - accuracy: 0.9902 - val_loss: 0.0241 - val_accuracy: 1.0000\n",
      "Epoch 107/150\n",
      "13/13 [==============================] - 0s 6ms/step - loss: 0.0226 - accuracy: 0.9951 - val_loss: 0.0258 - val_accuracy: 1.0000\n",
      "Epoch 108/150\n",
      "13/13 [==============================] - 0s 7ms/step - loss: 0.0222 - accuracy: 0.9902 - val_loss: 0.0270 - val_accuracy: 1.0000\n",
      "Epoch 109/150\n",
      "13/13 [==============================] - 0s 6ms/step - loss: 0.0239 - accuracy: 0.9927 - val_loss: 0.0271 - val_accuracy: 1.0000\n",
      "Epoch 110/150\n",
      "13/13 [==============================] - 0s 5ms/step - loss: 0.0236 - accuracy: 0.9902 - val_loss: 0.0273 - val_accuracy: 1.0000\n",
      "Epoch 111/150\n",
      "13/13 [==============================] - 0s 6ms/step - loss: 0.0307 - accuracy: 0.9927 - val_loss: 0.0253 - val_accuracy: 1.0000\n",
      "Epoch 112/150\n",
      "13/13 [==============================] - 0s 8ms/step - loss: 0.0270 - accuracy: 0.9878 - val_loss: 0.0239 - val_accuracy: 1.0000\n",
      "Epoch 113/150\n",
      "13/13 [==============================] - 0s 7ms/step - loss: 0.0221 - accuracy: 0.9902 - val_loss: 0.0237 - val_accuracy: 1.0000\n",
      "Epoch 114/150\n",
      "13/13 [==============================] - 0s 6ms/step - loss: 0.0291 - accuracy: 0.9902 - val_loss: 0.0242 - val_accuracy: 1.0000\n",
      "Epoch 115/150\n",
      "13/13 [==============================] - 0s 5ms/step - loss: 0.0283 - accuracy: 0.9927 - val_loss: 0.0248 - val_accuracy: 1.0000\n",
      "Epoch 116/150\n"
     ]
    },
    {
     "name": "stdout",
     "output_type": "stream",
     "text": [
      "13/13 [==============================] - 0s 7ms/step - loss: 0.0312 - accuracy: 0.9853 - val_loss: 0.0257 - val_accuracy: 1.0000\n",
      "Epoch 117/150\n",
      "13/13 [==============================] - 0s 8ms/step - loss: 0.0151 - accuracy: 0.9951 - val_loss: 0.0273 - val_accuracy: 1.0000\n",
      "Epoch 118/150\n",
      "13/13 [==============================] - 0s 6ms/step - loss: 0.0138 - accuracy: 0.9976 - val_loss: 0.0284 - val_accuracy: 1.0000\n",
      "Epoch 119/150\n",
      "13/13 [==============================] - 0s 5ms/step - loss: 0.0131 - accuracy: 1.0000 - val_loss: 0.0273 - val_accuracy: 1.0000\n",
      "Epoch 120/150\n",
      "13/13 [==============================] - 0s 8ms/step - loss: 0.0150 - accuracy: 0.9976 - val_loss: 0.0262 - val_accuracy: 1.0000\n",
      "Epoch 121/150\n",
      "13/13 [==============================] - 0s 8ms/step - loss: 0.0280 - accuracy: 0.9951 - val_loss: 0.0256 - val_accuracy: 1.0000\n",
      "Epoch 122/150\n",
      "13/13 [==============================] - 0s 5ms/step - loss: 0.0229 - accuracy: 0.9878 - val_loss: 0.0273 - val_accuracy: 0.9903\n",
      "Epoch 123/150\n",
      "13/13 [==============================] - 0s 5ms/step - loss: 0.0142 - accuracy: 0.9976 - val_loss: 0.0277 - val_accuracy: 1.0000\n",
      "Epoch 124/150\n",
      "13/13 [==============================] - 0s 8ms/step - loss: 0.0212 - accuracy: 0.9902 - val_loss: 0.0271 - val_accuracy: 1.0000\n",
      "Epoch 125/150\n",
      "13/13 [==============================] - 0s 6ms/step - loss: 0.0162 - accuracy: 0.9927 - val_loss: 0.0265 - val_accuracy: 1.0000\n",
      "Epoch 126/150\n",
      "13/13 [==============================] - 0s 6ms/step - loss: 0.0227 - accuracy: 0.9902 - val_loss: 0.0269 - val_accuracy: 1.0000\n",
      "Epoch 127/150\n",
      "13/13 [==============================] - 0s 5ms/step - loss: 0.0159 - accuracy: 0.9976 - val_loss: 0.0276 - val_accuracy: 0.9903\n",
      "Epoch 128/150\n",
      "13/13 [==============================] - 0s 7ms/step - loss: 0.0205 - accuracy: 0.9878 - val_loss: 0.0285 - val_accuracy: 0.9903\n",
      "Epoch 129/150\n",
      "13/13 [==============================] - 0s 11ms/step - loss: 0.0278 - accuracy: 0.9902 - val_loss: 0.0289 - val_accuracy: 0.9903\n",
      "Epoch 130/150\n",
      "13/13 [==============================] - 0s 7ms/step - loss: 0.0185 - accuracy: 0.9951 - val_loss: 0.0260 - val_accuracy: 1.0000\n",
      "Epoch 131/150\n",
      "13/13 [==============================] - 0s 13ms/step - loss: 0.0163 - accuracy: 0.9951 - val_loss: 0.0244 - val_accuracy: 1.0000\n",
      "Epoch 132/150\n",
      "13/13 [==============================] - 0s 10ms/step - loss: 0.0237 - accuracy: 0.9927 - val_loss: 0.0262 - val_accuracy: 1.0000\n",
      "Epoch 133/150\n",
      "13/13 [==============================] - 0s 9ms/step - loss: 0.0249 - accuracy: 0.9902 - val_loss: 0.0250 - val_accuracy: 1.0000\n",
      "Epoch 134/150\n",
      "13/13 [==============================] - 0s 14ms/step - loss: 0.0195 - accuracy: 0.9927 - val_loss: 0.0247 - val_accuracy: 1.0000\n",
      "Epoch 135/150\n",
      "13/13 [==============================] - 0s 8ms/step - loss: 0.0183 - accuracy: 0.9927 - val_loss: 0.0258 - val_accuracy: 1.0000\n",
      "Epoch 136/150\n",
      "13/13 [==============================] - 0s 10ms/step - loss: 0.0185 - accuracy: 0.9951 - val_loss: 0.0270 - val_accuracy: 0.9903\n",
      "Epoch 137/150\n",
      "13/13 [==============================] - 0s 5ms/step - loss: 0.0182 - accuracy: 0.9976 - val_loss: 0.0257 - val_accuracy: 1.0000\n",
      "Epoch 138/150\n",
      "13/13 [==============================] - 0s 6ms/step - loss: 0.0181 - accuracy: 0.9902 - val_loss: 0.0263 - val_accuracy: 1.0000\n",
      "Epoch 139/150\n",
      "13/13 [==============================] - 0s 7ms/step - loss: 0.0217 - accuracy: 0.9951 - val_loss: 0.0264 - val_accuracy: 1.0000\n",
      "Epoch 140/150\n",
      "13/13 [==============================] - 0s 6ms/step - loss: 0.0188 - accuracy: 0.9927 - val_loss: 0.0273 - val_accuracy: 1.0000\n",
      "Epoch 141/150\n",
      "13/13 [==============================] - 0s 6ms/step - loss: 0.0140 - accuracy: 1.0000 - val_loss: 0.0255 - val_accuracy: 1.0000\n",
      "Epoch 142/150\n",
      "13/13 [==============================] - 0s 6ms/step - loss: 0.0132 - accuracy: 0.9976 - val_loss: 0.0248 - val_accuracy: 1.0000\n",
      "Epoch 143/150\n",
      "13/13 [==============================] - 0s 6ms/step - loss: 0.0243 - accuracy: 0.9927 - val_loss: 0.0244 - val_accuracy: 1.0000\n",
      "Epoch 144/150\n",
      "13/13 [==============================] - 0s 5ms/step - loss: 0.0134 - accuracy: 0.9927 - val_loss: 0.0251 - val_accuracy: 1.0000\n",
      "Epoch 145/150\n",
      "13/13 [==============================] - 0s 6ms/step - loss: 0.0100 - accuracy: 1.0000 - val_loss: 0.0251 - val_accuracy: 1.0000\n",
      "Epoch 146/150\n",
      "13/13 [==============================] - 0s 6ms/step - loss: 0.0217 - accuracy: 0.9902 - val_loss: 0.0228 - val_accuracy: 1.0000\n",
      "Epoch 147/150\n",
      "13/13 [==============================] - 0s 5ms/step - loss: 0.0218 - accuracy: 0.9951 - val_loss: 0.0211 - val_accuracy: 1.0000\n",
      "Epoch 148/150\n",
      "13/13 [==============================] - 0s 6ms/step - loss: 0.0188 - accuracy: 0.9927 - val_loss: 0.0221 - val_accuracy: 1.0000\n",
      "Epoch 149/150\n",
      "13/13 [==============================] - 0s 5ms/step - loss: 0.0137 - accuracy: 0.9976 - val_loss: 0.0220 - val_accuracy: 1.0000\n",
      "Epoch 150/150\n",
      "13/13 [==============================] - 0s 6ms/step - loss: 0.0160 - accuracy: 0.9951 - val_loss: 0.0237 - val_accuracy: 1.0000\n"
     ]
    }
   ],
   "source": [
    "history = classifier.fit(x_train, y_train, batch_size=32, epochs=150, validation_split = 0.2)"
   ]
  },
  {
   "cell_type": "markdown",
   "metadata": {},
   "source": [
    "## <span style=\"color:#4361EE\">Predicciones</span>"
   ]
  },
  {
   "cell_type": "code",
   "execution_count": 15,
   "metadata": {},
   "outputs": [],
   "source": [
    "# Predicción de los resultados del conjunto de pruebas\n",
    "y_pred = classifier.predict(x_test)\n",
    "# y_pred = (y_pred > 0.5)\n",
    "y_pred[y_pred > 0.5] = 1\n",
    "y_pred[y_pred <=0.5] = 0"
   ]
  },
  {
   "cell_type": "markdown",
   "metadata": {},
   "source": [
    "## <span style=\"color:#4361EE\">Matriz de confusión</span>"
   ]
  },
  {
   "cell_type": "code",
   "execution_count": 16,
   "metadata": {},
   "outputs": [],
   "source": [
    "cm = confusion_matrix(y_test, y_pred)"
   ]
  },
  {
   "cell_type": "code",
   "execution_count": 17,
   "metadata": {},
   "outputs": [
    {
     "name": "stdout",
     "output_type": "stream",
     "text": [
      "Our accuracy is 96.49122807017544%\n"
     ]
    }
   ],
   "source": [
    "print(\"Our accuracy is {}%\".format(((cm[0][0] + cm[1][1])/y_test.shape[0])*100))"
   ]
  },
  {
   "cell_type": "code",
   "execution_count": 18,
   "metadata": {},
   "outputs": [
    {
     "data": {
      "text/plain": [
       "<AxesSubplot:>"
      ]
     },
     "execution_count": 18,
     "metadata": {},
     "output_type": "execute_result"
    },
    {
     "data": {
      "image/png": "[encoded data removed]",
      "text/plain": [
       "<Figure size 432x288 with 2 Axes>"
      ]
     },
     "metadata": {
      "needs_background": "light"
     },
     "output_type": "display_data"
    }
   ],
   "source": [
    "sns.heatmap(cm, annot=True)"
   ]
  },
  {
   "cell_type": "markdown",
   "metadata": {},
   "source": [
    "## <span style=\"color:#4361EE\">Evaluación del modelo</span>"
   ]
  },
  {
   "cell_type": "code",
   "execution_count": 19,
   "metadata": {},
   "outputs": [],
   "source": [
    "def plot_metric(history, metric):\n",
    "    train_metrics = history.history[metric]\n",
    "    val_metrics = history.history['val_'+metric]\n",
    "    epochs = range(1, len(train_metrics) + 1)\n",
    "    plt.plot(epochs, train_metrics, 'bo--')\n",
    "    plt.plot(epochs, val_metrics, 'ro-')\n",
    "    plt.title('Entrenamiento y validación '+ metric)\n",
    "    plt.xlabel(\"Epochs\")\n",
    "    plt.ylabel(metric)\n",
    "    plt.legend([\"train_\"+metric, 'val_'+metric])\n",
    "    plt.show()"
   ]
  },
  {
   "cell_type": "code",
   "execution_count": 20,
   "metadata": {},
   "outputs": [
    {
     "data": {
      "image/png": "[encoded data removed]",
      "text/plain": [
       "<Figure size 432x288 with 1 Axes>"
      ]
     },
     "metadata": {
      "needs_background": "light"
     },
     "output_type": "display_data"
    }
   ],
   "source": [
    "plot_metric(history, 'loss')"
   ]
  },
  {
   "cell_type": "code",
   "execution_count": 21,
   "metadata": {},
   "outputs": [
    {
     "data": {
      "image/png": "[encoded data removed]",
      "text/plain": [
       "<Figure size 432x288 with 1 Axes>"
      ]
     },
     "metadata": {
      "needs_background": "light"
     },
     "output_type": "display_data"
    }
   ],
   "source": [
    "plot_metric(history, 'accuracy')"
   ]
  }
 ],
 "metadata": {
  "kernelspec": {
   "display_name": "Python 3 (ipykernel)",
   "language": "python",
   "name": "python3"
  },
  "language_info": {
   "codemirror_mode": {
    "name": "ipython",
    "version": 3
   },
   "file_extension": ".py",
   "mimetype": "text/x-python",
   "name": "python",
   "nbconvert_exporter": "python",
   "pygments_lexer": "ipython3",
   "version": "3.9.12"
  }
 },
 "nbformat": 4,
 "nbformat_minor": 4
}
