{
 "cells": [
  {
   "cell_type": "markdown",
   "metadata": {
    "id": "OOJ7NOMnelA2"
   },
   "source": [
    "# <span style=\"color:#F72585\"><center>Algunos métodos de clasificación no supervisada (agrupamiento)</center></span>\n"
   ]
  },
  {
   "cell_type": "markdown",
   "metadata": {},
   "source": [
    "<figure>\n",
    "<center>\n",
    "<img src=\"https://raw.githubusercontent.com/AprendizajeProfundo/Alejandria/main/Machine_Learning/Imagenes/groups.png\" width=\"600\" height=\"400\" align=\"center\" /> \n",
    "</center>   \n",
    "</figure>\n",
    "<center>\n",
    "\n",
    "Fuente: <a href=\"https://commons.wikimedia.org/wiki/File:Europe_(1896),_Germanic_ethnic_groups.png\">Europe_(1896),_ethnic_groups.jpg: The Times Atlasderivative work: Hayden120</a>, Public domain, via Wikimedia Commons\n",
    "\n",
    "</center>\n"
   ]
  },
  {
   "cell_type": "markdown",
   "metadata": {},
   "source": [
    "```{admonition} Cuidado\n",
    ":class: \n",
    "Los trozos de código de esta página son de R. Por favor, ejecútelos en Colab\n",
    "```\n"
   ]
  },
  {
   "cell_type": "markdown",
   "metadata": {
    "id": "Fi6OQ2SEfk6L"
   },
   "source": [
    "**Fuente:** Pardo CE (2020)  [Estadística descriptiva multivariada](http://ciencias.bogota.unal.edu.co/fileadmin/Facultad_de_Ciencias/Publicaciones/Imagenes/Portadas_Libros/Estadistica/Estadistica_descriptiva_multivariada/libroEstadisiticaDescriptivaMultivariadaDigital.pdf )   "
   ]
  },
  {
   "cell_type": "markdown",
   "metadata": {},
   "source": [
    "# <span style=\"color:#F72585\">Objetivos de los métodos de agrupamiento</span>\n"
   ]
  },
  {
   "cell_type": "markdown",
   "metadata": {
    "id": "liXrxkeGMutK"
   },
   "source": [
    "\n",
    "Objetivo: Descubrir patrones en los datos en forma de grupos  bien diferenciados, que tengan individuos homogéneos en su interior.\n",
    "\n",
    "- En inglés: *Cluster Analysis* (análisis de conglomerados)\n",
    "- *Métodos de clasificación no supervisada*: en las áreas de minería de datos, aprendizaje automático y reconocimiento de patrones.\n",
    "- En el sentido matemático un algoritmo de agrupamiento busca una partición de un conjunto de $n$ elementos en $K$ subconjuntos,\n",
    "- Equivale a definir una variable cualitativa que emerge de los datos."
   ]
  },
  {
   "cell_type": "markdown",
   "metadata": {},
   "source": [
    "## <span style=\"color:#4361EE\">Tipos de métodos</span>\n"
   ]
  },
  {
   "cell_type": "markdown",
   "metadata": {
    "id": "tn5sP7WofAu6"
   },
   "source": [
    "\n",
    "1. Los que permiten obtener una partición directa mediante un algoritmo, el más conocido y utilizado es el *K-means*.\n",
    "\n",
    "2. Los que construyen una sucesión de particiones anidadas, que se representan mediante un árbol o dendrograma, se conocen como métodos de clasificación jerárquica. \n",
    "    - Clasificación jerárquica aglomerativa: parten de todos los individuos, como n clases de un elemento  y los van uniendo en pasos sucesivos hasta llegar a un solo grupo o clase de n individuos. \n",
    "    - Clasificación jerárquica divisiva.\n",
    "\n",
    "- Los algoritmos de clasificación requieren de medidas de similitud, disimilitud o distancia entre individuos y  entre grupos. \n",
    "- Las similitudes, disimilitudes o distancias entre grupos constituyen los criterios de agregación de los métodos de clasificación  jerárquica aglomerativa.\n",
    "- Combinar los dos tipos de métodos de clasificación."
   ]
  },
  {
   "cell_type": "markdown",
   "metadata": {},
   "source": [
    "<center>\n",
    "<img src=\"https://quantdare.com/wp-content/uploads/2016/06/AggloDivHierarClustering-800x389.png\" alt=\"agrupations\" width=\"700\">\n",
    "<center>\n",
    "\n",
    "Fuente: [quatdare](https://quantdare.com/hierarchical-clustering)"
   ]
  },
  {
   "cell_type": "markdown",
   "metadata": {},
   "source": [
    "# <span style=\"color:#F72585\">Métodos para obtener una partición directa</span>\n"
   ]
  },
  {
   "cell_type": "markdown",
   "metadata": {},
   "source": [
    "## <span style=\"color:#4361EE\">K-means</span>\n"
   ]
  },
  {
   "cell_type": "markdown",
   "metadata": {
    "id": "oW4yUW6SuIvK"
   },
   "source": [
    "- Se da el número de clases, los puntos iniciales requeridos para empezar el algoritmo y un criterio de parada.\n",
    "- Está relacionado con la geometría utilizada en los métodos en ejes principales porque recurre a la distancia Euclidiana entre individuos.\n",
    "- La distancia entre grupos se calcula como la distancia Euclidiana entre sus  centros de gravedad. \n",
    "- Homogeneidad intra grupos: inercia intra. \n",
    "- Heterogeneidad entre grupos: inercia entre. \n",
    "- Inercia = inercia intra + inercia entre. \n",
    "\n"
   ]
  },
  {
   "cell_type": "markdown",
   "metadata": {},
   "source": [
    "<center>\n",
    "<img src=\"https://upload.wikimedia.org/wikipedia/commons/thumb/e/ea/K-means_convergence.gif/617px-K-means_convergence.gif\" alt=\"Clustering1\" width=\"400\" height=\"300\">\n",
    "<center>\n",
    "\n",
    "Fuente: [Wikipedia](https://upload.wikimedia.org/wikipedia/commons/thumb/e/ea/K-means_convergence.gif/617px-K-means_convergence.gif)"
   ]
  },
  {
   "cell_type": "markdown",
   "metadata": {},
   "source": [
    "## <span style=\"color:#4361EE\">Descomposición de la inercia asociada a una partición</span>\n"
   ]
  },
  {
   "cell_type": "markdown",
   "metadata": {
    "id": "ox324ZoCutjW",
    "outputId": "9eeb3b38-629b-4df1-e705-af5a0aa20a87"
   },
   "source": [
    "\n",
    "Sea una nube de $n$ puntos $N_n$ en $\\mathbf{p}$ con una partición en $K$ clases.\n",
    "$$\n",
    "Inercia(N_n)=\\sum_{i=1}^n p_i d^2(i,\\mathbf{g}) =\n",
    " \\sum_{k=1}^K p_k d^2(\\mathbf{g}_k,\\mathbf{g}) + \\sum_{k=1}^K \\sum_{i \\in I_k } p_id^2(i,\\mathbf{g}_k)\n",
    "$$\n",
    "\n",
    "- $p_i$: peso del individuo $i$, $\\sum\\limits_{i=1}^n p_i = 1$ \n",
    "- $\\mathbf{g}$: centro de gravedad de la nube de puntos, $\\mathbf{g}=\\sum\\limits_{i=1}^n p_i \\mathbf{x}_i$,  $\\mathbf{x'}_i$, es la fila $i$ de la matriz de coordenadas de los puntos $\\mathbf{X}$ con $n$ filas y $p$ columnas.\n",
    "- $p_k$ peso de la clase $k$, $p_k = \\sum\\limits_{i \\in I_k } p_i$\n",
    "- $\\mathbf{g}_k$: centro de gravedad de la clase $k$,  $\\mathbf{g}_k = \\dfrac{1}{p_k}\\sum\\limits_{i \\in I_k } p_i \\mathbf{x}_i$\n",
    "- $d^2(.,.)$] es la distancia Euclidiana canónica.\n",
    "\n",
    "- En el cálculo de la inercia ha intervenido la distancia Euclidiana canónica, entonces la medida de disimilitud entre individuos ya está seleccionada.\n",
    "- El método *K-means* busca una partición en $K$ clases que tenga inercia intra-clases mínima.\n"
   ]
  },
  {
   "cell_type": "markdown",
   "metadata": {},
   "source": [
    "## <span style=\"color:#4361EE\">El algoritmo $K-means$</span>\n"
   ]
  },
  {
   "cell_type": "markdown",
   "metadata": {
    "id": "JjZzHn6quySD"
   },
   "source": [
    "\n",
    "0. Paso 0\n",
    "\n",
    "- $K$ centros iniciales de las clases:  $\\{C^{0}_{1},\n",
    "C^{0}_{2},\\ldots,C^{0}_{k},\\ldots,C^{0}_{K}\\}$\n",
    "- Partición 0 $P^0=\\{ I^{0}_{1}, I^{0}_{2},\\ldots,\n",
    "I^{0}_{k},\\ldots,I^{0}_{K}\\}$. \n",
    "- El individuo $i$ pertenece\n",
    "a la clase $I^0_k$ si el punto $i$ está más próximo de $C^0_k$   que de\n",
    "todos los demás centros.\n",
    "\n",
    "1. Paso 1\n",
    "\n",
    "- De las clases  $\\{ I^{0}_{1}, I^{0}_{2},\\ldots, I^{0}_{k},\\ldots,I^{0}_{K}\\}$\n",
    "- $K$ centros de gravedad   $\\{C^{1}_{1},C^{1}_{2},\\ldots,C^{1}_{k},\\ldots,C^{1}_{K}\\}$ \n",
    "- Partición 1: $P^1=\\{ I^{1}_{1}, I^{1}_{2},\\ldots,\n",
    "I^{1}_{k},\\ldots,I^{1}_{K}\\}$\n",
    "\n",
    "\n",
    "- Paso $m$\n",
    "\n",
    "- De las clases $\\{ I^{m-1}_{1}, I^{m-1}_{2},\\ldots,I^{m-1}_{k},\\ldots,I^{m-1}_{K}\\}$\n",
    "-   $K$ nuevos centros  $\\{C^{m}_{1}, C^{m}_{2},\\ldots,C^{m}_{k},\\ldots,C^{m}_{K}\\}$\n",
    "- Partición $m$: $P^m=\\{ I^{m}_{1},\n",
    "I^{m}_{2},\\ldots,I^{m}_{k},\\ldots,I^{m}_{K}\\}$\n",
    ". El algoritmo se detiene si la nueva partición no es mejor que la\n",
    "anterior (la varianza intra-clases deja de disminuir)\n",
    "- Generalmente la partición\n",
    "obtenida depende de la selección inicial de los centros.\n",
    "\n"
   ]
  },
  {
   "cell_type": "markdown",
   "metadata": {},
   "source": [
    "<center>\n",
    "<img src=\"https://dashee87.github.io/images/kmeans.gif\" alt=\"Clustering2\" width=\"800\" height=\"500\">\n",
    "<center>\n",
    "\n",
    "Fuente: [David Sheehan](https://dashee87.github.io/images/kmeans.gif)"
   ]
  },
  {
   "cell_type": "markdown",
   "metadata": {},
   "source": [
    "### <span style=\"color:#4CC9F0\">El algoritmo *K-means*  disminuye la inercia intra-clases</span>\n"
   ]
  },
  {
   "cell_type": "markdown",
   "metadata": {
    "id": "hcTEWJbeuIvO"
   },
   "source": [
    "\n",
    "- Hay que demostrar que la inercia intra-clases de la partición $P^{m}=\\{ I^{m}_{1}, I^{m}_{2},\\ldots,I^{m}_{k},\\ldots,I^{m}_{K}\\}$ es menor o igual a la inercia intra-clases de la partición $P^{m-1}$ \n",
    "\n",
    "    - A cada individuo del conjunto a clasificar, se le asocia un peso\n",
    "$p_i>0$ tal que $\\sum\\limits_{i=1}^np_i=1$.   \n",
    "    - $d^2(i,C^m_k)$ es el cuadrado\n",
    "de la distancia entre el individuo $i$ y el centro móvil de la clase $k$\n",
    "en la etapa $m$ , que es el centro de gravedad de la clase $k$ en el paso $m{-}1$.  \n",
    "    - Entonces, la suma de las inercias de las clases  de la partición $P^m$ con respecto a los puntos que permitieron construirla  es  \n",
    "$$\n",
    "v(m)=\\sum\\limits_{k=1}^K\n",
    "\\sum_{i \\in  I_k^m } p_i d^2(i,C_k^m)\n",
    "$$\n",
    "\n",
    "- En la etapa $m$, $I_k^m$ es el conjunto de los  individuos que están más próximos a $C_k^m$ \n",
    " que de todos los otros centros\n",
    "- El centro de gravedad de esta clase se calcula en la etapa $m+1$: $C_k^{m+1}=\\mathbf{g}_k^m$.\n",
    "- La inercia intra-clases en la etapa $m$ es la cantidad\n",
    "$$\n",
    "V(m)= \\sum_{k=1}^K \\sum_{i \\in I_k^m } p_id^2(i,\\mathbf{g}_k^{m})\n",
    "=\\sum_{k=1}^K \\sum_{i \\in I_k^m } p_id^2(i,C_k^{m+1})\n",
    "$$\n",
    "- $C_k^{m+1}$ es el centro de gravedad de la clase $I_k^m$, que es el nuevo centro móvil en la etapa $m+1$. \n",
    "- $V(m)$ es menor o igual que $v(m)$  porque la inercia con respecto al centro de gravedad es siempre menor o igual a la inercia con respecto a cualquier otro punto.\n",
    "\n",
    "- La suma de las inercias con respecto a los puntos que originaron la partición $P^{m+1}$ es  \n",
    "$$\n",
    "\\textbf{v}(m+1)=\\sum_{k=1}^K \\sum_{i \\in I_k^{m+1} }\n",
    "p_id^2(i,C_k^{m+1})\n",
    "$$\n",
    "\n",
    "\n",
    "   - $v(m+1)$  es menor o igual a $V(m)$  porque si al menos un individuo cambia de clase  en la nueva partición es porque queda más cerca de otro nuevo centro. \n",
    "    - Entonces \n",
    "$v(m+1)\\leq V(m) \\leq v(m) \\leq V(m-1)$, es decir que la inercia intra-clases disminuye con cada paso del algoritmo. "
   ]
  },
  {
   "cell_type": "markdown",
   "metadata": {},
   "source": [
    "### <span style=\"color:#4CC9F0\">**Ejemplo** de \"juguete\": $K{-}means$ ejemplo Café</span>\n"
   ]
  },
  {
   "cell_type": "markdown",
   "metadata": {
    "id": "bzDwb1UbuIvQ"
   },
   "source": [
    "Tomando el ejemplo de Café, partiendo de las coordenadas sobre el primer plano factorial del ACP normado de las tres variables físicas, y tomando como centros iniciales los cafés ExCl y O40C. "
   ]
  },
  {
   "cell_type": "markdown",
   "metadata": {},
   "source": [
    "### <span style=\"color:#4CC9F0\">Primer plano factorial y coordenadas</span>\n"
   ]
  },
  {
   "cell_type": "code",
   "execution_count": 36,
   "metadata": {
    "id": "Ty9ODCiwt6if",
    "outputId": "60850bd2-c4fb-4249-f52f-2f207b2bad28",
    "vscode": {
     "languageId": "r"
    }
   },
   "outputs": [],
   "source": [
    "# Instalación de FactoClass:\n",
    "#install.packages(\"FactoClass\")"
   ]
  },
  {
   "cell_type": "code",
   "execution_count": 37,
   "metadata": {
    "id": "Ty9ODCiwt6if",
    "outputId": "60850bd2-c4fb-4249-f52f-2f207b2bad28",
    "vscode": {
     "languageId": "r"
    }
   },
   "outputs": [
    {
     "data": {
      "text/html": [
       "<table class=\"dataframe\">\n",
       "<caption>A matrix: 2 × 10 of type dbl</caption>\n",
       "<thead>\n",
       "\t<tr><th></th><th scope=col>ExCl</th><th scope=col>C40M</th><th scope=col>C40C</th><th scope=col>C20M</th><th scope=col>C20C</th><th scope=col>ExOs</th><th scope=col>O40M</th><th scope=col>O40C</th><th scope=col>O20M</th><th scope=col>O20C</th></tr>\n",
       "</thead>\n",
       "<tbody>\n",
       "\t<tr><th scope=row>Axis1</th><td>-0.89</td><td> 2.68</td><td>1.18</td><td> 1.14</td><td>-0.44</td><td>-2.47</td><td>0.98</td><td>0.15</td><td>-1.04</td><td>-1.29</td></tr>\n",
       "\t<tr><th scope=row>Axis2</th><td>-1.68</td><td>-0.22</td><td>0.15</td><td>-1.02</td><td>-0.82</td><td>-0.04</td><td>1.01</td><td>1.31</td><td> 0.65</td><td> 0.67</td></tr>\n",
       "</tbody>\n",
       "</table>\n"
      ],
      "text/latex": [
       "A matrix: 2 × 10 of type dbl\n",
       "\\begin{tabular}{r|llllllllll}\n",
       "  & ExCl & C40M & C40C & C20M & C20C & ExOs & O40M & O40C & O20M & O20C\\\\\n",
       "\\hline\n",
       "\tAxis1 & -0.89 &  2.68 & 1.18 &  1.14 & -0.44 & -2.47 & 0.98 & 0.15 & -1.04 & -1.29\\\\\n",
       "\tAxis2 & -1.68 & -0.22 & 0.15 & -1.02 & -0.82 & -0.04 & 1.01 & 1.31 &  0.65 &  0.67\\\\\n",
       "\\end{tabular}\n"
      ],
      "text/markdown": [
       "\n",
       "A matrix: 2 × 10 of type dbl\n",
       "\n",
       "| <!--/--> | ExCl | C40M | C40C | C20M | C20C | ExOs | O40M | O40C | O20M | O20C |\n",
       "|---|---|---|---|---|---|---|---|---|---|---|\n",
       "| Axis1 | -0.89 |  2.68 | 1.18 |  1.14 | -0.44 | -2.47 | 0.98 | 0.15 | -1.04 | -1.29 |\n",
       "| Axis2 | -1.68 | -0.22 | 0.15 | -1.02 | -0.82 | -0.04 | 1.01 | 1.31 |  0.65 |  0.67 |\n",
       "\n"
      ],
      "text/plain": [
       "      ExCl  C40M  C40C C20M  C20C  ExOs  O40M O40C O20M  O20C \n",
       "Axis1 -0.89  2.68 1.18  1.14 -0.44 -2.47 0.98 0.15 -1.04 -1.29\n",
       "Axis2 -1.68 -0.22 0.15 -1.02 -0.82 -0.04 1.01 1.31  0.65  0.67"
      ]
     },
     "metadata": {},
     "output_type": "display_data"
    },
    {
     "data": {
      "image/png": "[encoded data removed]",
      "text/plain": [
       "plot without title"
      ]
     },
     "metadata": {
      "image/png": {
       "height": 420,
       "width": 420
      }
     },
     "output_type": "display_data"
    }
   ],
   "source": [
    "library(FactoClass)\n",
    "data(cafe)\n",
    "acp<-dudi.pca(cafe[1:10,1:3],scannf=FALSE)\n",
    "plot(acp,Tcol=FALSE,gg=TRUE,main=\"ACP Factores 1-2\")\n",
    "F<-as.matrix(round(acp$li,2))\n",
    "t(F)"
   ]
  },
  {
   "cell_type": "markdown",
   "metadata": {},
   "source": [
    "#### <span style=\"color:#4CC9F0\">Paso 0</span>\n"
   ]
  },
  {
   "cell_type": "markdown",
   "metadata": {
    "id": "gyqGaZuP8SXZ",
    "outputId": "a0a5a87c-6653-46c8-d56f-035bd1b4009e"
   },
   "source": [
    "Puntos iniciales: ExCl y O40C"
   ]
  },
  {
   "cell_type": "code",
   "execution_count": 38,
   "metadata": {
    "id": "Ty9ODCiwt6if",
    "outputId": "60850bd2-c4fb-4249-f52f-2f207b2bad28",
    "vscode": {
     "languageId": "r"
    }
   },
   "outputs": [
    {
     "data": {
      "text/html": [
       "'Centros iniciales'"
      ],
      "text/latex": [
       "'Centros iniciales'"
      ],
      "text/markdown": [
       "'Centros iniciales'"
      ],
      "text/plain": [
       "[1] \"Centros iniciales\""
      ]
     },
     "metadata": {},
     "output_type": "display_data"
    },
    {
     "data": {
      "text/html": [
       "<table class=\"dataframe\">\n",
       "<caption>A matrix: 2 × 2 of type dbl</caption>\n",
       "<thead>\n",
       "\t<tr><th></th><th scope=col>Axis1</th><th scope=col>Axis2</th></tr>\n",
       "</thead>\n",
       "<tbody>\n",
       "\t<tr><th scope=row>C1</th><td>-0.89</td><td>-1.68</td></tr>\n",
       "\t<tr><th scope=row>C2</th><td> 0.15</td><td> 1.31</td></tr>\n",
       "</tbody>\n",
       "</table>\n"
      ],
      "text/latex": [
       "A matrix: 2 × 2 of type dbl\n",
       "\\begin{tabular}{r|ll}\n",
       "  & Axis1 & Axis2\\\\\n",
       "\\hline\n",
       "\tC1 & -0.89 & -1.68\\\\\n",
       "\tC2 &  0.15 &  1.31\\\\\n",
       "\\end{tabular}\n"
      ],
      "text/markdown": [
       "\n",
       "A matrix: 2 × 2 of type dbl\n",
       "\n",
       "| <!--/--> | Axis1 | Axis2 |\n",
       "|---|---|---|\n",
       "| C1 | -0.89 | -1.68 |\n",
       "| C2 |  0.15 |  1.31 |\n",
       "\n"
      ],
      "text/plain": [
       "   Axis1 Axis2\n",
       "C1 -0.89 -1.68\n",
       "C2  0.15  1.31"
      ]
     },
     "metadata": {},
     "output_type": "display_data"
    },
    {
     "data": {
      "text/html": [
       "'Distancias a los centros iniciales'"
      ],
      "text/latex": [
       "'Distancias a los centros iniciales'"
      ],
      "text/markdown": [
       "'Distancias a los centros iniciales'"
      ],
      "text/plain": [
       "[1] \"Distancias a los centros iniciales\""
      ]
     },
     "metadata": {},
     "output_type": "display_data"
    },
    {
     "data": {
      "text/html": [
       "<table class=\"dataframe\">\n",
       "<caption>A matrix: 2 × 10 of type dbl</caption>\n",
       "<thead>\n",
       "\t<tr><th></th><th scope=col>ExCl</th><th scope=col>C40M</th><th scope=col>C40C</th><th scope=col>C20M</th><th scope=col>C20C</th><th scope=col>ExOs</th><th scope=col>O40M</th><th scope=col>O40C</th><th scope=col>O20M</th><th scope=col>O20C</th></tr>\n",
       "</thead>\n",
       "<tbody>\n",
       "\t<tr><th scope=row>C1</th><td>0.00</td><td>3.86</td><td>2.76</td><td>2.13</td><td>0.97</td><td>2.28</td><td>3.28</td><td>3.17</td><td>2.33</td><td>2.38</td></tr>\n",
       "\t<tr><th scope=row>C2</th><td>3.17</td><td>2.96</td><td>1.55</td><td>2.53</td><td>2.21</td><td>2.95</td><td>0.88</td><td>0.00</td><td>1.36</td><td>1.58</td></tr>\n",
       "</tbody>\n",
       "</table>\n"
      ],
      "text/latex": [
       "A matrix: 2 × 10 of type dbl\n",
       "\\begin{tabular}{r|llllllllll}\n",
       "  & ExCl & C40M & C40C & C20M & C20C & ExOs & O40M & O40C & O20M & O20C\\\\\n",
       "\\hline\n",
       "\tC1 & 0.00 & 3.86 & 2.76 & 2.13 & 0.97 & 2.28 & 3.28 & 3.17 & 2.33 & 2.38\\\\\n",
       "\tC2 & 3.17 & 2.96 & 1.55 & 2.53 & 2.21 & 2.95 & 0.88 & 0.00 & 1.36 & 1.58\\\\\n",
       "\\end{tabular}\n"
      ],
      "text/markdown": [
       "\n",
       "A matrix: 2 × 10 of type dbl\n",
       "\n",
       "| <!--/--> | ExCl | C40M | C40C | C20M | C20C | ExOs | O40M | O40C | O20M | O20C |\n",
       "|---|---|---|---|---|---|---|---|---|---|---|\n",
       "| C1 | 0.00 | 3.86 | 2.76 | 2.13 | 0.97 | 2.28 | 3.28 | 3.17 | 2.33 | 2.38 |\n",
       "| C2 | 3.17 | 2.96 | 1.55 | 2.53 | 2.21 | 2.95 | 0.88 | 0.00 | 1.36 | 1.58 |\n",
       "\n"
      ],
      "text/plain": [
       "   ExCl C40M C40C C20M C20C ExOs O40M O40C O20M O20C\n",
       "C1 0.00 3.86 2.76 2.13 0.97 2.28 3.28 3.17 2.33 2.38\n",
       "C2 3.17 2.96 1.55 2.53 2.21 2.95 0.88 0.00 1.36 1.58"
      ]
     },
     "metadata": {},
     "output_type": "display_data"
    },
    {
     "data": {
      "text/html": [
       "'Partición'"
      ],
      "text/latex": [
       "'Partición'"
      ],
      "text/markdown": [
       "'Partición'"
      ],
      "text/plain": [
       "[1] \"Partición\""
      ]
     },
     "metadata": {},
     "output_type": "display_data"
    },
    {
     "data": {
      "text/html": [
       "<table class=\"dataframe\">\n",
       "<caption>A matrix: 1 × 10 of type chr</caption>\n",
       "<thead>\n",
       "\t<tr><th></th><th scope=col>ExCl</th><th scope=col>C40M</th><th scope=col>C40C</th><th scope=col>C20M</th><th scope=col>C20C</th><th scope=col>ExOs</th><th scope=col>O40M</th><th scope=col>O40C</th><th scope=col>O20M</th><th scope=col>O20C</th></tr>\n",
       "</thead>\n",
       "<tbody>\n",
       "\t<tr><th scope=row>P</th><td>I1</td><td>I2</td><td>I2</td><td>I1</td><td>I1</td><td>I1</td><td>I2</td><td>I2</td><td>I2</td><td>I2</td></tr>\n",
       "</tbody>\n",
       "</table>\n"
      ],
      "text/latex": [
       "A matrix: 1 × 10 of type chr\n",
       "\\begin{tabular}{r|llllllllll}\n",
       "  & ExCl & C40M & C40C & C20M & C20C & ExOs & O40M & O40C & O20M & O20C\\\\\n",
       "\\hline\n",
       "\tP & I1 & I2 & I2 & I1 & I1 & I1 & I2 & I2 & I2 & I2\\\\\n",
       "\\end{tabular}\n"
      ],
      "text/markdown": [
       "\n",
       "A matrix: 1 × 10 of type chr\n",
       "\n",
       "| <!--/--> | ExCl | C40M | C40C | C20M | C20C | ExOs | O40M | O40C | O20M | O20C |\n",
       "|---|---|---|---|---|---|---|---|---|---|---|\n",
       "| P | I1 | I2 | I2 | I1 | I1 | I1 | I2 | I2 | I2 | I2 |\n",
       "\n"
      ],
      "text/plain": [
       "  ExCl C40M C40C C20M C20C ExOs O40M O40C O20M O20C\n",
       "P I1   I2   I2   I1   I1   I1   I2   I2   I2   I2  "
      ]
     },
     "metadata": {},
     "output_type": "display_data"
    },
    {
     "data": {
      "text/html": [
       "<table class=\"dataframe\">\n",
       "<caption>A matrix: 3 × 10 of type dbl</caption>\n",
       "<thead>\n",
       "\t<tr><th></th><th scope=col>ExCl</th><th scope=col>C40M</th><th scope=col>C40C</th><th scope=col>C20M</th><th scope=col>C20C</th><th scope=col>ExOs</th><th scope=col>O40M</th><th scope=col>O40C</th><th scope=col>O20M</th><th scope=col>O20C</th></tr>\n",
       "</thead>\n",
       "<tbody>\n",
       "\t<tr><th scope=row>C1</th><td>0.00</td><td>3.86</td><td>2.76</td><td>2.13</td><td>0.97</td><td>2.28</td><td>3.28</td><td>3.17</td><td>2.33</td><td>2.38</td></tr>\n",
       "\t<tr><th scope=row>C2</th><td>3.17</td><td>2.96</td><td>1.55</td><td>2.53</td><td>2.21</td><td>2.95</td><td>0.88</td><td>0.00</td><td>1.36</td><td>1.58</td></tr>\n",
       "\t<tr><th scope=row>P</th><td>1.00</td><td>2.00</td><td>2.00</td><td>1.00</td><td>1.00</td><td>1.00</td><td>2.00</td><td>2.00</td><td>2.00</td><td>2.00</td></tr>\n",
       "</tbody>\n",
       "</table>\n"
      ],
      "text/latex": [
       "A matrix: 3 × 10 of type dbl\n",
       "\\begin{tabular}{r|llllllllll}\n",
       "  & ExCl & C40M & C40C & C20M & C20C & ExOs & O40M & O40C & O20M & O20C\\\\\n",
       "\\hline\n",
       "\tC1 & 0.00 & 3.86 & 2.76 & 2.13 & 0.97 & 2.28 & 3.28 & 3.17 & 2.33 & 2.38\\\\\n",
       "\tC2 & 3.17 & 2.96 & 1.55 & 2.53 & 2.21 & 2.95 & 0.88 & 0.00 & 1.36 & 1.58\\\\\n",
       "\tP & 1.00 & 2.00 & 2.00 & 1.00 & 1.00 & 1.00 & 2.00 & 2.00 & 2.00 & 2.00\\\\\n",
       "\\end{tabular}\n"
      ],
      "text/markdown": [
       "\n",
       "A matrix: 3 × 10 of type dbl\n",
       "\n",
       "| <!--/--> | ExCl | C40M | C40C | C20M | C20C | ExOs | O40M | O40C | O20M | O20C |\n",
       "|---|---|---|---|---|---|---|---|---|---|---|\n",
       "| C1 | 0.00 | 3.86 | 2.76 | 2.13 | 0.97 | 2.28 | 3.28 | 3.17 | 2.33 | 2.38 |\n",
       "| C2 | 3.17 | 2.96 | 1.55 | 2.53 | 2.21 | 2.95 | 0.88 | 0.00 | 1.36 | 1.58 |\n",
       "| P | 1.00 | 2.00 | 2.00 | 1.00 | 1.00 | 1.00 | 2.00 | 2.00 | 2.00 | 2.00 |\n",
       "\n"
      ],
      "text/plain": [
       "   ExCl C40M C40C C20M C20C ExOs O40M O40C O20M O20C\n",
       "C1 0.00 3.86 2.76 2.13 0.97 2.28 3.28 3.17 2.33 2.38\n",
       "C2 3.17 2.96 1.55 2.53 2.21 2.95 0.88 0.00 1.36 1.58\n",
       "P  1.00 2.00 2.00 1.00 1.00 1.00 2.00 2.00 2.00 2.00"
      ]
     },
     "metadata": {},
     "output_type": "display_data"
    }
   ],
   "source": [
    "tab<-NULL# para para registrar los pasos 3 filas DC1, DC2, Partición\n",
    "cen <- NULL# matriz para recoger los centros de cada paso, por columnas\n",
    "\"Centros iniciales\"\n",
    "C<-F[c(1,8),];rownames(C)<-c(\"C1\",\"C2\");C\n",
    "\"Distancias a los centros iniciales\"\n",
    "as.matrix(dist(rbind(F,C)))[11:12,1:10]->D;round(D,2)\n",
    "\"Partición\"\n",
    "factor(D[1,]>D[2,],labels=c(\"I1\",\"I2\"))->P; t(data.frame(P))\n",
    "cen<-C\n",
    "tab<-rbind(D,P);round(tab,2)"
   ]
  },
  {
   "cell_type": "markdown",
   "metadata": {},
   "source": [
    "#### <span style=\"color:#4CC9F0\">Pasos 1 a 3</span>\n"
   ]
  },
  {
   "cell_type": "code",
   "execution_count": 39,
   "metadata": {
    "id": "Ty9ODCiwt6if",
    "outputId": "60850bd2-c4fb-4249-f52f-2f207b2bad28",
    "vscode": {
     "languageId": "r"
    }
   },
   "outputs": [
    {
     "name": "stdout",
     "output_type": "stream",
     "text": [
      "[1] \"Cálculo de los centros del paso 1\"\n",
      "   Axis1 Axis2\n",
      "I1 -0.67 -0.89\n",
      "I2  0.44  0.60\n",
      "\n",
      "[1] \"Distancias al cuadrado y pertición 1\"\n",
      "   ExCl C40M C40C C20M C20C ExOs O40M O40C O20M O20C\n",
      "C1 0.82 3.41 2.12 1.81 0.24 2.00 2.51 2.35 1.58 1.68\n",
      "C2 2.64 2.38 0.86 1.76 1.67 2.98 0.68 0.77 1.48 1.73\n",
      "\n",
      "ExCl C40M C40C C20M C20C ExOs O40M O40C O20M O20C \n",
      "  I1   I2   I2   I2   I1   I1   I2   I2   I2   I1 \n",
      "Levels: I1 I2\n",
      "\n",
      "[1] \"Cálculo de los centros del paso 2\"\n",
      "   Axis1 Axis2\n",
      "I1 -1.27 -0.47\n",
      "I2  0.85  0.31\n",
      "\n",
      "[1] \"Distancias al cuadrado y pertición 2\"\n",
      "   ExCl C40M C40C C20M C20C ExOs O40M O40C O20M O20C\n",
      "C1 1.27 3.96 2.53 2.47 0.90 1.27 2.69 2.28 1.14 1.14\n",
      "C2 2.64 1.91 0.37 1.36 1.72 3.34 0.71 1.22 1.92 2.17\n",
      "\n",
      "ExCl C40M C40C C20M C20C ExOs O40M O40C O20M O20C \n",
      "  I1   I2   I2   I2   I1   I1   I2   I2   I1   I1 \n",
      "Levels: I1 I2\n",
      "\n",
      "[1] \"Cálculo de los centros del paso 3\"\n",
      "   Axis1 Axis2\n",
      "I1 -1.23 -0.24\n",
      "I2  1.23  0.25\n",
      "\n",
      "[1] \"Distancias al cuadrado y pertición 3\"\n",
      "   ExCl C40M C40C C20M C20C ExOs O40M O40C O20M O20C\n",
      "C1 1.47 3.91 2.44 2.49 0.97 1.26 2.54 2.08 0.91 0.92\n",
      "C2 2.86 1.53 0.11 1.27 1.98 3.71 0.80 1.51 2.30 2.55\n",
      "\n",
      "ExCl C40M C40C C20M C20C ExOs O40M O40C O20M O20C \n",
      "  I1   I2   I2   I2   I1   I1   I2   I2   I1   I1 \n",
      "Levels: I1 I2\n",
      "\n"
     ]
    }
   ],
   "source": [
    "for (paso in 1:3){\n",
    "    print(paste(\"Cálculo de los centros del paso\",paso))\n",
    "    centroids(F,P)$centroids->C \n",
    "    print(round(C,2))\n",
    "    # \"Distancias al cuadrado a los centros\"\n",
    "    as.matrix(dist(rbind(F,C)))[11:12,1:10]->D;rownames(D)<-c(\"C1\",\"C2\")\n",
    "    cat(\"\\n\")\n",
    "    print(paste(\"Distancias al cuadrado y pertición\",paso))\n",
    "    print(round(D,2))\n",
    "    cat(\"\\n\")\n",
    "    \"Partición\"\n",
    "    factor(D[1,]>D[2,],labels=c(\"I1\",\"I2\"))->P \n",
    "    print(P)\n",
    "    cat(\"\\n\")\n",
    "    cen<-cbind(cen,C)\n",
    "    #print(round(cen,2))\n",
    "    tab<-rbind(tab,rbind(D,P))\n",
    "    #print(round(tab,2))\n",
    "#    factor(D22>D21)->P\n",
    "#    tab<-rbind(tab,D21,D22,P)\n",
    "#    print(tab[paso+1:3,],digits=2)   \n",
    "}"
   ]
  },
  {
   "cell_type": "markdown",
   "metadata": {},
   "source": [
    "### <span style=\"color:#4CC9F0\">Resumen</span>\n"
   ]
  },
  {
   "cell_type": "code",
   "execution_count": 40,
   "metadata": {
    "id": "Ty9ODCiwt6if",
    "outputId": "60850bd2-c4fb-4249-f52f-2f207b2bad28",
    "vscode": {
     "languageId": "r"
    }
   },
   "outputs": [
    {
     "data": {
      "text/html": [
       "<table class=\"dataframe\">\n",
       "<caption>A matrix: 2 × 8 of type dbl</caption>\n",
       "<thead>\n",
       "\t<tr><th></th><th scope=col>Axis1</th><th scope=col>Axis2</th><th scope=col>Axis1</th><th scope=col>Axis2</th><th scope=col>Axis1</th><th scope=col>Axis2</th><th scope=col>Axis1</th><th scope=col>Axis2</th></tr>\n",
       "</thead>\n",
       "<tbody>\n",
       "\t<tr><th scope=row>C1</th><td>-0.89</td><td>-1.68</td><td>-0.67</td><td>-0.89</td><td>-1.27</td><td>-0.47</td><td>-1.23</td><td>-0.24</td></tr>\n",
       "\t<tr><th scope=row>C2</th><td> 0.15</td><td> 1.31</td><td> 0.44</td><td> 0.60</td><td> 0.85</td><td> 0.31</td><td> 1.23</td><td> 0.25</td></tr>\n",
       "</tbody>\n",
       "</table>\n"
      ],
      "text/latex": [
       "A matrix: 2 × 8 of type dbl\n",
       "\\begin{tabular}{r|llllllll}\n",
       "  & Axis1 & Axis2 & Axis1 & Axis2 & Axis1 & Axis2 & Axis1 & Axis2\\\\\n",
       "\\hline\n",
       "\tC1 & -0.89 & -1.68 & -0.67 & -0.89 & -1.27 & -0.47 & -1.23 & -0.24\\\\\n",
       "\tC2 &  0.15 &  1.31 &  0.44 &  0.60 &  0.85 &  0.31 &  1.23 &  0.25\\\\\n",
       "\\end{tabular}\n"
      ],
      "text/markdown": [
       "\n",
       "A matrix: 2 × 8 of type dbl\n",
       "\n",
       "| <!--/--> | Axis1 | Axis2 | Axis1 | Axis2 | Axis1 | Axis2 | Axis1 | Axis2 |\n",
       "|---|---|---|---|---|---|---|---|---|\n",
       "| C1 | -0.89 | -1.68 | -0.67 | -0.89 | -1.27 | -0.47 | -1.23 | -0.24 |\n",
       "| C2 |  0.15 |  1.31 |  0.44 |  0.60 |  0.85 |  0.31 |  1.23 |  0.25 |\n",
       "\n"
      ],
      "text/plain": [
       "   Axis1 Axis2 Axis1 Axis2 Axis1 Axis2 Axis1 Axis2\n",
       "C1 -0.89 -1.68 -0.67 -0.89 -1.27 -0.47 -1.23 -0.24\n",
       "C2  0.15  1.31  0.44  0.60  0.85  0.31  1.23  0.25"
      ]
     },
     "metadata": {},
     "output_type": "display_data"
    },
    {
     "data": {
      "text/html": [
       "<table class=\"dataframe\">\n",
       "<caption>A matrix: 12 × 10 of type dbl</caption>\n",
       "<thead>\n",
       "\t<tr><th></th><th scope=col>ExCl</th><th scope=col>C40M</th><th scope=col>C40C</th><th scope=col>C20M</th><th scope=col>C20C</th><th scope=col>ExOs</th><th scope=col>O40M</th><th scope=col>O40C</th><th scope=col>O20M</th><th scope=col>O20C</th></tr>\n",
       "</thead>\n",
       "<tbody>\n",
       "\t<tr><th scope=row>C1</th><td>0.00</td><td>3.86</td><td>2.76</td><td>2.13</td><td>0.97</td><td>2.28</td><td>3.28</td><td>3.17</td><td>2.33</td><td>2.38</td></tr>\n",
       "\t<tr><th scope=row>C2</th><td>3.17</td><td>2.96</td><td>1.55</td><td>2.53</td><td>2.21</td><td>2.95</td><td>0.88</td><td>0.00</td><td>1.36</td><td>1.58</td></tr>\n",
       "\t<tr><th scope=row>P</th><td>1.00</td><td>2.00</td><td>2.00</td><td>1.00</td><td>1.00</td><td>1.00</td><td>2.00</td><td>2.00</td><td>2.00</td><td>2.00</td></tr>\n",
       "\t<tr><th scope=row>C1</th><td>0.82</td><td>3.41</td><td>2.12</td><td>1.81</td><td>0.24</td><td>2.00</td><td>2.51</td><td>2.35</td><td>1.58</td><td>1.68</td></tr>\n",
       "\t<tr><th scope=row>C2</th><td>2.64</td><td>2.38</td><td>0.86</td><td>1.76</td><td>1.67</td><td>2.98</td><td>0.68</td><td>0.77</td><td>1.48</td><td>1.73</td></tr>\n",
       "\t<tr><th scope=row>P</th><td>1.00</td><td>2.00</td><td>2.00</td><td>2.00</td><td>1.00</td><td>1.00</td><td>2.00</td><td>2.00</td><td>2.00</td><td>1.00</td></tr>\n",
       "\t<tr><th scope=row>C1</th><td>1.27</td><td>3.96</td><td>2.53</td><td>2.47</td><td>0.90</td><td>1.27</td><td>2.69</td><td>2.28</td><td>1.14</td><td>1.14</td></tr>\n",
       "\t<tr><th scope=row>C2</th><td>2.64</td><td>1.91</td><td>0.37</td><td>1.36</td><td>1.72</td><td>3.34</td><td>0.71</td><td>1.22</td><td>1.92</td><td>2.17</td></tr>\n",
       "\t<tr><th scope=row>P</th><td>1.00</td><td>2.00</td><td>2.00</td><td>2.00</td><td>1.00</td><td>1.00</td><td>2.00</td><td>2.00</td><td>1.00</td><td>1.00</td></tr>\n",
       "\t<tr><th scope=row>C1</th><td>1.47</td><td>3.91</td><td>2.44</td><td>2.49</td><td>0.97</td><td>1.26</td><td>2.54</td><td>2.08</td><td>0.91</td><td>0.92</td></tr>\n",
       "\t<tr><th scope=row>C2</th><td>2.86</td><td>1.53</td><td>0.11</td><td>1.27</td><td>1.98</td><td>3.71</td><td>0.80</td><td>1.51</td><td>2.30</td><td>2.55</td></tr>\n",
       "\t<tr><th scope=row>P</th><td>1.00</td><td>2.00</td><td>2.00</td><td>2.00</td><td>1.00</td><td>1.00</td><td>2.00</td><td>2.00</td><td>1.00</td><td>1.00</td></tr>\n",
       "</tbody>\n",
       "</table>\n"
      ],
      "text/latex": [
       "A matrix: 12 × 10 of type dbl\n",
       "\\begin{tabular}{r|llllllllll}\n",
       "  & ExCl & C40M & C40C & C20M & C20C & ExOs & O40M & O40C & O20M & O20C\\\\\n",
       "\\hline\n",
       "\tC1 & 0.00 & 3.86 & 2.76 & 2.13 & 0.97 & 2.28 & 3.28 & 3.17 & 2.33 & 2.38\\\\\n",
       "\tC2 & 3.17 & 2.96 & 1.55 & 2.53 & 2.21 & 2.95 & 0.88 & 0.00 & 1.36 & 1.58\\\\\n",
       "\tP & 1.00 & 2.00 & 2.00 & 1.00 & 1.00 & 1.00 & 2.00 & 2.00 & 2.00 & 2.00\\\\\n",
       "\tC1 & 0.82 & 3.41 & 2.12 & 1.81 & 0.24 & 2.00 & 2.51 & 2.35 & 1.58 & 1.68\\\\\n",
       "\tC2 & 2.64 & 2.38 & 0.86 & 1.76 & 1.67 & 2.98 & 0.68 & 0.77 & 1.48 & 1.73\\\\\n",
       "\tP & 1.00 & 2.00 & 2.00 & 2.00 & 1.00 & 1.00 & 2.00 & 2.00 & 2.00 & 1.00\\\\\n",
       "\tC1 & 1.27 & 3.96 & 2.53 & 2.47 & 0.90 & 1.27 & 2.69 & 2.28 & 1.14 & 1.14\\\\\n",
       "\tC2 & 2.64 & 1.91 & 0.37 & 1.36 & 1.72 & 3.34 & 0.71 & 1.22 & 1.92 & 2.17\\\\\n",
       "\tP & 1.00 & 2.00 & 2.00 & 2.00 & 1.00 & 1.00 & 2.00 & 2.00 & 1.00 & 1.00\\\\\n",
       "\tC1 & 1.47 & 3.91 & 2.44 & 2.49 & 0.97 & 1.26 & 2.54 & 2.08 & 0.91 & 0.92\\\\\n",
       "\tC2 & 2.86 & 1.53 & 0.11 & 1.27 & 1.98 & 3.71 & 0.80 & 1.51 & 2.30 & 2.55\\\\\n",
       "\tP & 1.00 & 2.00 & 2.00 & 2.00 & 1.00 & 1.00 & 2.00 & 2.00 & 1.00 & 1.00\\\\\n",
       "\\end{tabular}\n"
      ],
      "text/markdown": [
       "\n",
       "A matrix: 12 × 10 of type dbl\n",
       "\n",
       "| <!--/--> | ExCl | C40M | C40C | C20M | C20C | ExOs | O40M | O40C | O20M | O20C |\n",
       "|---|---|---|---|---|---|---|---|---|---|---|\n",
       "| C1 | 0.00 | 3.86 | 2.76 | 2.13 | 0.97 | 2.28 | 3.28 | 3.17 | 2.33 | 2.38 |\n",
       "| C2 | 3.17 | 2.96 | 1.55 | 2.53 | 2.21 | 2.95 | 0.88 | 0.00 | 1.36 | 1.58 |\n",
       "| P | 1.00 | 2.00 | 2.00 | 1.00 | 1.00 | 1.00 | 2.00 | 2.00 | 2.00 | 2.00 |\n",
       "| C1 | 0.82 | 3.41 | 2.12 | 1.81 | 0.24 | 2.00 | 2.51 | 2.35 | 1.58 | 1.68 |\n",
       "| C2 | 2.64 | 2.38 | 0.86 | 1.76 | 1.67 | 2.98 | 0.68 | 0.77 | 1.48 | 1.73 |\n",
       "| P | 1.00 | 2.00 | 2.00 | 2.00 | 1.00 | 1.00 | 2.00 | 2.00 | 2.00 | 1.00 |\n",
       "| C1 | 1.27 | 3.96 | 2.53 | 2.47 | 0.90 | 1.27 | 2.69 | 2.28 | 1.14 | 1.14 |\n",
       "| C2 | 2.64 | 1.91 | 0.37 | 1.36 | 1.72 | 3.34 | 0.71 | 1.22 | 1.92 | 2.17 |\n",
       "| P | 1.00 | 2.00 | 2.00 | 2.00 | 1.00 | 1.00 | 2.00 | 2.00 | 1.00 | 1.00 |\n",
       "| C1 | 1.47 | 3.91 | 2.44 | 2.49 | 0.97 | 1.26 | 2.54 | 2.08 | 0.91 | 0.92 |\n",
       "| C2 | 2.86 | 1.53 | 0.11 | 1.27 | 1.98 | 3.71 | 0.80 | 1.51 | 2.30 | 2.55 |\n",
       "| P | 1.00 | 2.00 | 2.00 | 2.00 | 1.00 | 1.00 | 2.00 | 2.00 | 1.00 | 1.00 |\n",
       "\n"
      ],
      "text/plain": [
       "   ExCl C40M C40C C20M C20C ExOs O40M O40C O20M O20C\n",
       "C1 0.00 3.86 2.76 2.13 0.97 2.28 3.28 3.17 2.33 2.38\n",
       "C2 3.17 2.96 1.55 2.53 2.21 2.95 0.88 0.00 1.36 1.58\n",
       "P  1.00 2.00 2.00 1.00 1.00 1.00 2.00 2.00 2.00 2.00\n",
       "C1 0.82 3.41 2.12 1.81 0.24 2.00 2.51 2.35 1.58 1.68\n",
       "C2 2.64 2.38 0.86 1.76 1.67 2.98 0.68 0.77 1.48 1.73\n",
       "P  1.00 2.00 2.00 2.00 1.00 1.00 2.00 2.00 2.00 1.00\n",
       "C1 1.27 3.96 2.53 2.47 0.90 1.27 2.69 2.28 1.14 1.14\n",
       "C2 2.64 1.91 0.37 1.36 1.72 3.34 0.71 1.22 1.92 2.17\n",
       "P  1.00 2.00 2.00 2.00 1.00 1.00 2.00 2.00 1.00 1.00\n",
       "C1 1.47 3.91 2.44 2.49 0.97 1.26 2.54 2.08 0.91 0.92\n",
       "C2 2.86 1.53 0.11 1.27 1.98 3.71 0.80 1.51 2.30 2.55\n",
       "P  1.00 2.00 2.00 2.00 1.00 1.00 2.00 2.00 1.00 1.00"
      ]
     },
     "metadata": {},
     "output_type": "display_data"
    }
   ],
   "source": [
    "round(cen,2)\n",
    "round(tab,2)"
   ]
  },
  {
   "cell_type": "markdown",
   "metadata": {
    "id": "cF8hA9ATuIvZ"
   },
   "source": [
    "\n",
    "#### <span style=\"color:#4CC9F0\">Proceso gráfico</span>\n"
   ]
  },
  {
   "cell_type": "code",
   "execution_count": 41,
   "metadata": {
    "id": "Ty9ODCiwt6if",
    "outputId": "60850bd2-c4fb-4249-f52f-2f207b2bad28",
    "vscode": {
     "languageId": "r"
    }
   },
   "outputs": [
    {
     "data": {
      "image/png": "[encoded data removed]",
      "text/plain": [
       "plot without title"
      ]
     },
     "metadata": {
      "image/png": {
       "height": 420,
       "width": 420
      }
     },
     "output_type": "display_data"
    }
   ],
   "source": [
    "par(mfrow=c(2,2)) # 4 gráficas\n",
    "plotfp(F,infaxes=\"no\",main=\"Paso 0\",cex=1.5)\n",
    "text(x=cen[,1],y=cen[,2],labels=c(\"1\",\"2\"),col=c(\"blue\",\"green\"),pos=4)\n",
    "points(F[tab[3,]==1,],col=\"blue\")\n",
    "points(F[tab[3,]==2,],col=\"green\")\n",
    "plotfp(F,infaxes=\"no\",main=\"Paso 1\",cex=1.5)\n",
    "s.class(F,factor(tab[3,]),col=c(\"blue\",\"green\"),add.plot=TRUE)\n",
    "plotfp(F,infaxes=\"no\",main=\"Paso 2\",cex=1.5)\n",
    "s.class(F,factor(tab[6,]),col=c(\"blue\",\"green\"),add.plot=TRUE)\n",
    "plotfp(F,infaxes=\"no\",main=\"Paso 3\",cex=1.5)\n",
    "s.class(F,factor(tab[9,]),col=c(\"blue\",\"green\"),add.plot=TRUE)"
   ]
  },
  {
   "cell_type": "markdown",
   "metadata": {},
   "source": [
    "### <span style=\"color:#4CC9F0\">Ventajas del K-means</span>\n"
   ]
  },
  {
   "cell_type": "markdown",
   "metadata": {
    "id": "sMtT8GqfuIva"
   },
   "source": [
    "\n",
    "- Es muy rápido\n",
    "- Poco exigente en recursos de cómputo\n",
    "\n"
   ]
  },
  {
   "cell_type": "markdown",
   "metadata": {},
   "source": [
    "### <span style=\"color:#4CC9F0\">Desventajas del K-means</span>\n"
   ]
  },
  {
   "cell_type": "markdown",
   "metadata": {
    "id": "zvWsYb5JNPbS"
   },
   "source": [
    "- Con un método de agrupamiento se pretende descubrir una estructura de clases en los grupos y el algoritmo $K{-}means$ requiere que se le suministre el número de clases y los puntos iniciales.\n",
    "- En general, la inercia mínima que se obtiene depende de los puntos iniciales.\n"
   ]
  },
  {
   "cell_type": "markdown",
   "metadata": {},
   "source": [
    "# <span style=\"color:#F72585\">Métodos de clasificación jerárquica</span>\n"
   ]
  },
  {
   "cell_type": "markdown",
   "metadata": {},
   "source": [
    "- Aglomerativos: En  Ciencias Naturales se denominan métodos de clasificación ascendente jerárquica aglomerativa\n",
    "- Divisivos  \n"
   ]
  },
  {
   "cell_type": "markdown",
   "metadata": {},
   "source": [
    "```{admonition} Nota\n",
    ":class: note\n",
    "Estos métodos construyen una serie de particiones anidadas. \n",
    "```"
   ]
  },
  {
   "cell_type": "markdown",
   "metadata": {},
   "source": [
    "## <span style=\"color:#4361EE\">Clasificación jerárquica aglomerativa</span>\n"
   ]
  },
  {
   "cell_type": "markdown",
   "metadata": {},
   "source": [
    "### <span style=\"color:#4CC9F0\">Algoritmo</span>\n"
   ]
  },
  {
   "cell_type": "markdown",
   "metadata": {
    "id": "jWRKJh6ouIvb"
   },
   "source": [
    "\n",
    "1. Calcular la matriz de  distancias entre  los $n$ individuos, \n",
    "    - Unir los dos más cercanos para tener una partición de $n-1$ clases, \n",
    "2. Calcular la distancia entre el nuevo grupo y los demás individuos, \n",
    "3. Seleccionar  los dos más cercanos, para conseguir una partición en $n-2$ clases y \n",
    "4. Continuar aglomerando hasta llegar a una partición de una clase con los $n$ individuos. \n",
    "\n",
    "- El proceso de uniones se representa en un árbol de clasificación o dendrograma. % indexado por las distancias de las uniones.\n",
    "- Estos métodos requieren de un índice de similitud, disimilitud o distancia entre individuos. \n",
    "- En nuestro contexto se selecciona la distancia Euclidiana canónica.\n",
    "- Al conformar grupos se necesita definir una distancia entre ellos, que se denomina criterio de agregación y que le da nombre a un método específico. Por ejemplo:\n",
    "\n",
    "    - *enlace simple*: distancia entre los dos individuos más cercanos cada uno de diferente grupo\n",
    "    - *enlace completo*: distancia entre los dos individuos más lejanos.}\n"
   ]
  },
  {
   "cell_type": "markdown",
   "metadata": {},
   "source": [
    "## <span style=\"color:#4361EE\">Distancia entre individuos</span>\n"
   ]
  },
  {
   "cell_type": "markdown",
   "metadata": {},
   "source": [
    "### <span style=\"color:#4CC9F0\">Distancias para variables continuas</span>\n"
   ]
  },
  {
   "cell_type": "markdown",
   "metadata": {},
   "source": [
    "#### <span style=\"color:#4CC9F0\">Dos distancias para variables continuas</span>\n"
   ]
  },
  {
   "cell_type": "markdown",
   "metadata": {},
   "source": [
    "#### <span style=\"color:#4CC9F0\">Euclidiana</span>\n"
   ]
  },
  {
   "cell_type": "markdown",
   "metadata": {},
   "source": [
    "\n",
    "$$    \n",
    "d(i,l) = \\sqrt{\\sum_{j=1}^{p} \\left( x_{ij} - x_{lj} \\right)^2}\n",
    "$$       \n"
   ]
  },
  {
   "cell_type": "markdown",
   "metadata": {},
   "source": [
    "#### <span style=\"color:#4CC9F0\">Manhattan o Cityblock</span>\n"
   ]
  },
  {
   "cell_type": "markdown",
   "metadata": {
    "id": "7JcHywhruIvc"
   },
   "source": [
    "\n",
    "$$\n",
    "d(i,l) =\\sum\\limits_{j=1}^{p} \\left| x_{ij} - x_{lj} \\right|\n",
    "$$\n"
   ]
  },
  {
   "cell_type": "markdown",
   "metadata": {},
   "source": [
    "### <span style=\"color:#4CC9F0\">Distancias disponibles en la función *dist{stats}*</span>\n"
   ]
  },
  {
   "cell_type": "markdown",
   "metadata": {
    "id": "2N7w-6mCuIvc"
   },
   "source": [
    "Uso:\n",
    "\n",
    "`dist(x, method = \"euclidean\", diag = FALSE, upper = FALSE, p = 2)`\n",
    "\n",
    "Detalles:\n",
    "\n",
    "Las medidas de distancia (escritas para dos vectores x e y) son:\n",
    "‘euclidean’: Distancia usual entre dos vectores. \n",
    "$$\\sqrt(\\sum((x_i - y_i)^2)).$$\n",
    "\n",
    "‘maximum’: Distancia máxima entre dos componentes de x e y (norma suprema)\n",
    "‘manhattan’: Distancia absoluta entre dos vectores\n",
    "\n",
    "‘canberra’:\n",
    "\n",
    "$$\\sum\\frac{|x_i - y_i|}{(|x_i| + |y_i|)}. $$ \n",
    "Términos con cero, numerador y denominador son omitidos de la suma y tratados como valores faltantes"
   ]
  },
  {
   "cell_type": "markdown",
   "metadata": {
    "id": "MeLB3T_OuIvd"
   },
   "source": [
    "## <span style=\"color:#4361EE\">Distancias entre variables binarias disponibles en *dist.binary{ade4}*</span>\n"
   ]
  },
  {
   "cell_type": "markdown",
   "metadata": {
    "id": "MJT8KsgluIvd"
   },
   "source": [
    "Tabla de contingencia $2\\times2$ contando coincidencias y no coincidencias de variables binarias entre dos individuos (n es el número de atributos):\n",
    "\n",
    "\n",
    "                      Individuo l  \n",
    "               \n",
    "                     |   1  |  0   | suma\n",
    "                     --------------------  \n",
    "      Individuos  1  |   a  |  b   | n_j\n",
    "\n",
    "         i        0  |   c  |  d   | c+d\n",
    "                     -------------------- \n",
    "              suma   |  n_k | b+d  |  n\n",
    "              \n"
   ]
  },
  {
   "cell_type": "markdown",
   "metadata": {
    "id": "4chz36hpuIve"
   },
   "source": [
    "Detalles:\n",
    "\n",
    "Todas estas distancias son del tipo $d = \\sqrt{(1 - s)}$ con $s$ un coeficiente de similaridad:\n",
    "\n",
    "   1 = Índice de Jaccard  (1901) S3 coeficiente de Gower Legendre: \n",
    "   $s_1 = \\dfrac{a}{a+b+c}$\n",
    "\n",
    "   2 = Coeficiente simple de igualdad de Sokal & Michener (1958) S4\n",
    "          coeficiente de Gower & Legendre: $s_2 = \\dfrac{a+d}{a+b+c+d}$\n",
    "\n",
    "   3 = Sokal & Sneath(1963) S5 coeficiente de Gower & Legendre: \n",
    "   $s_3 = \\dfrac{a}{a + 2(b + c)}$\n",
    "\n",
    "   4 = Rogers & Tanimoto (1960) S6 coeficiente de Gower & Legendre: \n",
    "   $s_4 = \\dfrac{a + d}{a + 2(b + c) +d)}$\n",
    "\n",
    "   5 = Dice (1945) or Sorensen (1948) S7 coeficiente de Gower &\n",
    "          Legendre: $s_5 =\\dfrac{2a}{2a + b + c}$\n",
    "\n",
    "   6 = Hamann coeficiente S9 índice de Gower & Legendre (1986): \n",
    "   $s_6 = \\dfrac{- (b + c) + d}{a + b + c + d}$\n",
    "\n",
    "   7 = Ochiai (1957) S12 coeficiente de Gower & Legendre: \n",
    "   $s-7 = \\dfrac{a}{\\sqrt{(a + b)(a + c)}}$\n",
    "\n",
    "   8 = Sokal & Sneath (1963) S13 coeficiente de Gower & Legendre: \n",
    "   $s_8 =\\dfrac{ad}{\\sqrt{(a + b)(a + c)(d + b)(d + c)}}$\n",
    "\n",
    "   9 = Phi de Pearson S14 coeficiente de Gower & Legendre: \n",
    "   $s_9 = \\dfrac{ad -bc}{\\sqrt{(a + b)(a + c)(d + b)(d + c)}}$\n",
    "\n",
    "  10 = S2 coeficiente de Gower & Legendre: $s_{10} =\\dfrac{a}{a + b + c + d}$\n"
   ]
  },
  {
   "cell_type": "markdown",
   "metadata": {
    "id": "aJ0hCRp3uIve"
   },
   "source": [
    "## <span style=\"color:#4361EE\">Distancias entre grupos = métodos de agregación</span>"
   ]
  },
  {
   "cell_type": "markdown",
   "metadata": {},
   "source": [
    "### <span style=\"color:#4CC9F0\">Enlace simple</span>\n"
   ]
  },
  {
   "cell_type": "markdown",
   "metadata": {
    "id": "nQdJpFT8uIve"
   },
   "source": [
    "\n",
    "La distancia entre dos grupos $A$ y $B$ es igual a\n",
    "la distancia de los dos individuos de diferente grupo más cercanos:\n",
    "$$ d(A,B) = \\min \\{ d(i,l); i \\in A; l \\in B  \\} $$\n",
    "Este criterio tiende a producir grupos\n",
    "alargados (efecto de encadenamiento), que pueden incluir elementos\n",
    "muy distintos en los extremos. \n",
    "\n"
   ]
  },
  {
   "cell_type": "markdown",
   "metadata": {},
   "source": [
    "### <span style=\"color:#4CC9F0\">Enlace completo</span>\n"
   ]
  },
  {
   "cell_type": "markdown",
   "metadata": {
    "id": "8v7BB9QtuIvf"
   },
   "source": [
    "La distancia entre los dos\n",
    "grupos $A$ y $B$ es igual a la  distancia entre los dos individuos de diferente grupo más alejados:\n",
    "$$ d(A,B) = \\max \\{ d(i,l); i \\in A; l \\in B  \\} $$\n",
    "\n",
    "El enlace completo tiende a producir grupos esféricos.\n",
    "\n"
   ]
  },
  {
   "cell_type": "markdown",
   "metadata": {},
   "source": [
    "### <span style=\"color:#4CC9F0\">**Ejemplo** de \"juguete\" utilizando la distancia de Manhatan entre individuos y el enlace completo como distancia entre grupos.</span>\n"
   ]
  },
  {
   "cell_type": "markdown",
   "metadata": {
    "id": "l1KZGFU_uIvf"
   },
   "source": [
    "\n",
    "Sean los puntos a clasificar:"
   ]
  },
  {
   "cell_type": "code",
   "execution_count": 42,
   "metadata": {
    "id": "Ty9ODCiwt6if",
    "outputId": "60850bd2-c4fb-4249-f52f-2f207b2bad28",
    "vscode": {
     "languageId": "r"
    }
   },
   "outputs": [
    {
     "data": {
      "image/png": "[encoded data removed]",
      "text/plain": [
       "plot without title"
      ]
     },
     "metadata": {
      "image/png": {
       "height": 420,
       "width": 420
      }
     },
     "output_type": "display_data"
    }
   ],
   "source": [
    "a<-c(1,1);b<-c(2,2);c<-c(3,1);d<-c(3,3);e<-c(3,4);f<-c(5,4)\n",
    "X<-rbind(a,b,c,d,e,f)\n",
    "s.label(X,clabel=2)"
   ]
  },
  {
   "cell_type": "markdown",
   "metadata": {
    "id": "heUZW8zCuIvg"
   },
   "source": [
    "Las distancias de Manhattan son:"
   ]
  },
  {
   "cell_type": "code",
   "execution_count": 43,
   "metadata": {
    "id": "Ty9ODCiwt6if",
    "outputId": "60850bd2-c4fb-4249-f52f-2f207b2bad28",
    "vscode": {
     "languageId": "r"
    }
   },
   "outputs": [
    {
     "data": {
      "text/plain": [
       "  a b c d e\n",
       "b 2        \n",
       "c 2 2      \n",
       "d 4 2 2    \n",
       "e 5 3 3 1  \n",
       "f 7 5 5 3 2"
      ]
     },
     "metadata": {},
     "output_type": "display_data"
    }
   ],
   "source": [
    "D<-dist(X,\"manhattan\");D"
   ]
  },
  {
   "cell_type": "markdown",
   "metadata": {},
   "source": [
    "#### <span style=\"color:#4CC9F0\">Pasos</span>\n"
   ]
  },
  {
   "cell_type": "markdown",
   "metadata": {
    "id": "uQB8l6XQuIvh"
   },
   "source": [
    "1. Se unen d y e a una distancia de 1\n",
    "2. Se unen a y b a una distancia de 2\n",
    "3. Se unen ab y c a una distancia de 2\n",
    "4. Se unen de y f a una distancia de 3\n",
    "5. Se unen abc y def a una distancia de 7"
   ]
  },
  {
   "cell_type": "code",
   "execution_count": 44,
   "metadata": {
    "id": "Ty9ODCiwt6if",
    "outputId": "60850bd2-c4fb-4249-f52f-2f207b2bad28",
    "vscode": {
     "languageId": "r"
    }
   },
   "outputs": [
    {
     "data": {
      "text/html": [
       "<table class=\"dataframe\">\n",
       "<caption>A data.frame: 5 × 3</caption>\n",
       "<thead>\n",
       "\t<tr><th scope=col>X1</th><th scope=col>X2</th><th scope=col>hc.height</th></tr>\n",
       "\t<tr><th scope=col>&lt;int&gt;</th><th scope=col>&lt;int&gt;</th><th scope=col>&lt;dbl&gt;</th></tr>\n",
       "</thead>\n",
       "<tbody>\n",
       "\t<tr><td>-4</td><td>-5</td><td>1</td></tr>\n",
       "\t<tr><td>-1</td><td>-2</td><td>2</td></tr>\n",
       "\t<tr><td>-3</td><td> 2</td><td>2</td></tr>\n",
       "\t<tr><td>-6</td><td> 1</td><td>3</td></tr>\n",
       "\t<tr><td> 3</td><td> 4</td><td>7</td></tr>\n",
       "</tbody>\n",
       "</table>\n"
      ],
      "text/latex": [
       "A data.frame: 5 × 3\n",
       "\\begin{tabular}{lll}\n",
       " X1 & X2 & hc.height\\\\\n",
       " <int> & <int> & <dbl>\\\\\n",
       "\\hline\n",
       "\t -4 & -5 & 1\\\\\n",
       "\t -1 & -2 & 2\\\\\n",
       "\t -3 &  2 & 2\\\\\n",
       "\t -6 &  1 & 3\\\\\n",
       "\t  3 &  4 & 7\\\\\n",
       "\\end{tabular}\n"
      ],
      "text/markdown": [
       "\n",
       "A data.frame: 5 × 3\n",
       "\n",
       "| X1 &lt;int&gt; | X2 &lt;int&gt; | hc.height &lt;dbl&gt; |\n",
       "|---|---|---|\n",
       "| -4 | -5 | 1 |\n",
       "| -1 | -2 | 2 |\n",
       "| -3 |  2 | 2 |\n",
       "| -6 |  1 | 3 |\n",
       "|  3 |  4 | 7 |\n",
       "\n"
      ],
      "text/plain": [
       "  X1 X2 hc.height\n",
       "1 -4 -5 1        \n",
       "2 -1 -2 2        \n",
       "3 -3  2 2        \n",
       "4 -6  1 3        \n",
       "5  3  4 7        "
      ]
     },
     "metadata": {},
     "output_type": "display_data"
    }
   ],
   "source": [
    "hc<-hclust(D)\n",
    "data.frame(hc$merge,hc$height)"
   ]
  },
  {
   "cell_type": "markdown",
   "metadata": {
    "id": "-ZWoemBjuIvn"
   },
   "source": [
    "#####  Árbol o dendrograma"
   ]
  },
  {
   "cell_type": "code",
   "execution_count": 45,
   "metadata": {
    "id": "Ty9ODCiwt6if",
    "outputId": "60850bd2-c4fb-4249-f52f-2f207b2bad28",
    "vscode": {
     "languageId": "r"
    }
   },
   "outputs": [
    {
     "data": {
      "image/png": "[encoded data removed]",
      "text/plain": [
       "Plot with title \"Cluster Dendrogram\""
      ]
     },
     "metadata": {
      "image/png": {
       "height": 420,
       "width": 420
      }
     },
     "output_type": "display_data"
    }
   ],
   "source": [
    "plot(hc)"
   ]
  },
  {
   "cell_type": "markdown",
   "metadata": {
    "id": "mv8VLWeiuIvo"
   },
   "source": [
    "##### Ultramétrica asociada al árbol\n",
    "\n",
    "       | a | b | c | d | e\n",
    "       -------------------\n",
    "     b | 2 |       \n",
    "     c | 2 | 2      \n",
    "     d | 7 | 7 | 7    \n",
    "     e | 7 | 7 | 7 | 1  \n",
    "     f | 7 | 7 | 7 | 3 | 3"
   ]
  },
  {
   "cell_type": "markdown",
   "metadata": {},
   "source": [
    "### <span style=\"color:#4CC9F0\">Enlace promedio</span>\n"
   ]
  },
  {
   "cell_type": "markdown",
   "metadata": {
    "id": "ELwvrXZPbVpf"
   },
   "source": [
    "\n",
    "La distancia entre los dos\n",
    "grupos es el promedio de  distancias entre todas las parejas de individuos  de diferente grupo:\n",
    "\n",
    "$$ d(A,B) =  \\frac{1}{n_{_A} n_{_B}}\\sum_{i \\in A} \\sum_{l \\in B} d(i,l) \n",
    "$$"
   ]
  },
  {
   "cell_type": "markdown",
   "metadata": {},
   "source": [
    "## <span style=\"color:#4361EE\">Método Ward</span>\n"
   ]
  },
  {
   "cell_type": "markdown",
   "metadata": {
    "id": "UkWjuLDBuIvp"
   },
   "source": [
    "\n",
    "-  Sean $A$ y $B$  clases\n",
    "no vacías y disyuntas y \n",
    "- Pesos:  $p_{_A}$, $p_{_B}$ y \n",
    "- Centros de gravedad $\\mathbf{g}_{_A} $, $\\mathbf{g}_{_B}$, \n",
    "- Inercias intra grupo: $I_{_A} $, $I_{_B}$ \n",
    "- $AB = A \\bigcup  B$: $\\mathbf{g}_{_{AB}}$ , $I_{AB}$\n",
    "- Inercia entre $A$ y $B$ = $W(A,B)$"
   ]
  },
  {
   "cell_type": "markdown",
   "metadata": {},
   "source": [
    "<figure>\n",
    "<center>\n",
    "<img src=\"https://raw.githubusercontent.com/AprendizajeProfundo/Alejandria/main/Machine_Learning/Imagenes/WardColor.png\" width=\"600\" height=\"400\" align=\"center\" /> \n",
    "</center>   \n",
    "</figure>\n",
    "\n"
   ]
  },
  {
   "cell_type": "markdown",
   "metadata": {
    "id": "2vMCjSG0uIvp"
   },
   "source": [
    "$$\n",
    "Inercia-entre(A,B) = p_{_A} d^2(\\mathbf{g}_{_{A}},\\mathbf{g}_{_{AB}}) + p_{_B}  d^2(\\mathbf{g}_{_{B}},\\mathbf{g}_{_{AB}})\n",
    "$$\n",
    "\n",
    "- Distancia de Ward entre grupos\n",
    "$$\n",
    " W(A,B) = \\frac{p_{_A}  p_{_B}}{p_{_A} + p_{_B}}d^{2}(\\mathbf{g}_{_A} , \\mathbf{g}_{_B}) \n",
    "$$\n",
    "\n",
    "-  Incremento de la inercia intra-grupos al unir los\n",
    "grupos $A$ y $B$ en uno solo. \n",
    "\n",
    "-  Distancia de Ward entre dos individuos $i$ \n",
    "y $l$\n",
    "\n",
    "- Distancia de Ward entre individuos\n",
    "$$\n",
    " W(i,l) = \\frac{p_i  p_l}{p_i + p_l}d^{2}(i,l) \n",
    "$$\n",
    "\n",
    "-  pesos  iguales a $1/n$ para los dos individuos\n",
    "$$\n",
    " W(i,l) = \\frac{1}{2n}d^{2}(i,l) \n",
    "$$\n",
    "- $A$, $B$ y $C$ tres grupos presentes en el mismo\n",
    "paso de construcción del árbol.\n",
    "\n",
    "-  se unen $A$ y $B$ para formar el\n",
    "grupo $AB$\n",
    "\n",
    "-   Fórmula de recurrencia\n",
    "\n",
    "- Distancia de Ward\n",
    "$$\n",
    "d(AB,C) = \\frac{(p_{_A} + p_{_C})W(A,C)+(p_{_B} + p_{_C})W(B,C)-p_{_C} W(A,B)}{p_{_A} + p_{_B} + p_{_C}} \n",
    "$$\n"
   ]
  },
  {
   "cell_type": "markdown",
   "metadata": {},
   "source": [
    "### <span style=\"color:#4CC9F0\">Procedimiento para construir el árbol con el método de Ward</span>\n"
   ]
  },
  {
   "cell_type": "markdown",
   "metadata": {
    "id": "hfwqTXDwuIvq"
   },
   "source": [
    "- Calcular la matriz de distancias de Ward entre parejas de individuos\n",
    "\n",
    "- Seleccionar la pareja de grupos (individuos en el primer paso) que presente la menor distancia de Ward para conformar el nuevo grupo.\n",
    "         \n",
    "- Calcular las distancias entre todos los grupos y el grupo recién conformado utilizando la fórmula de distancia de Ward o la fórmula de recurrencia.\n",
    "\n",
    "- Eliminar las filas y columnas correspondientes a los individuos o grupos unidos y adicionar una fila y una columna para registrar las distancias entre el nuevo grupo y\n",
    "los demás.\n",
    "         \n",
    "- Repetir el proceso hasta llegar a una sola clase.\n",
    "     "
   ]
  },
  {
   "cell_type": "markdown",
   "metadata": {},
   "source": [
    "### <span style=\"color:#4CC9F0\">De inercia entre clases a inercia intra-clases y viceversa</span>\n"
   ]
  },
  {
   "cell_type": "markdown",
   "metadata": {},
   "source": [
    "#### <span style=\"color:#4CC9F0\">Al formar el árbol</span>\n"
   ]
  },
  {
   "cell_type": "markdown",
   "metadata": {},
   "source": [
    "- Antes de empezar las uniones toda la inercia corresponde a inercia\n",
    "entre-clases (cada individuo es una clase)\n",
    "- A medida que llevan a\n",
    "cabo las uniones, la inercia entre-clases va pasando a inercia intra-clases\n",
    "- Al terminar, toda la inercia es intra-clases (todos los elementos\n",
    "conforman una clase)\n",
    "- La suma de los índices de nivel es igual a la inercia total "
   ]
  },
  {
   "cell_type": "markdown",
   "metadata": {},
   "source": [
    "#### <span style=\"color:#4CC9F0\">Al cortar el árbol sucesivamente</span>\n"
   ]
  },
  {
   "cell_type": "markdown",
   "metadata": {
    "id": "6aMluxOWuIvr"
   },
   "source": [
    "\n",
    "- En dos clases: el último índice de nivel es la inercia entre las dos clases.\n",
    "- En  tres clases: la inercia entre clases es la suma de los dos últimos índices de nivel.\n",
    "- Hasta $n$ clases de un individuo: toda la inercia es entre clases. \n"
   ]
  },
  {
   "cell_type": "markdown",
   "metadata": {},
   "source": [
    "### <span style=\"color:#4CC9F0\">Ejemplo café</span>\n"
   ]
  },
  {
   "cell_type": "markdown",
   "metadata": {},
   "source": [
    "### <span style=\"color:#4CC9F0\">Distancias de Ward entre cafés</span>\n"
   ]
  },
  {
   "cell_type": "code",
   "execution_count": 46,
   "metadata": {
    "id": "Ty9ODCiwt6if",
    "outputId": "60850bd2-c4fb-4249-f52f-2f207b2bad28",
    "vscode": {
     "languageId": "r"
    }
   },
   "outputs": [
    {
     "data": {
      "text/plain": [
       "      ExCl  C40M  C40C  C20M  C20C  ExOs  O40M  O40C  O20M\n",
       "C40M 0.744                                                \n",
       "C40C 0.382 0.119                                          \n",
       "C20M 0.228 0.151 0.069                                    \n",
       "C20C 0.047 0.505 0.178 0.127                              \n",
       "ExOs 0.259 1.328 0.668 0.700 0.236                        \n",
       "O40M 0.537 0.220 0.039 0.207 0.268 0.650                  \n",
       "O40C 0.501 0.437 0.120 0.320 0.244 0.434 0.039            \n",
       "O20M 0.273 0.730 0.259 0.377 0.126 0.126 0.211 0.093      \n",
       "O20C 0.284 0.828 0.319 0.438 0.147 0.095 0.263 0.124 0.003"
      ]
     },
     "metadata": {},
     "output_type": "display_data"
    }
   ],
   "source": [
    "data(cafe)\n",
    "Wcafe<-1/20*dist(F)^2;round(Wcafe,3)"
   ]
  },
  {
   "cell_type": "markdown",
   "metadata": {
    "id": "W3V14zWOuIvs"
   },
   "source": [
    "### <span style=\"color:#4CC9F0\">Construcción del árbol</span>\n"
   ]
  },
  {
   "cell_type": "code",
   "execution_count": 47,
   "metadata": {
    "id": "Ty9ODCiwt6if",
    "outputId": "60850bd2-c4fb-4249-f52f-2f207b2bad28",
    "vscode": {
     "languageId": "r"
    }
   },
   "outputs": [
    {
     "data": {
      "image/png": "[encoded data removed]",
      "text/plain": [
       "Plot with title \"Cluster Dendrogram\""
      ]
     },
     "metadata": {
      "image/png": {
       "height": 420,
       "width": 420
      }
     },
     "output_type": "display_data"
    }
   ],
   "source": [
    "hclCafe<-ward.cluster(dista=dist(F),h.clust=1) # función de FactoClass\n",
    "plot(hclCafe)"
   ]
  },
  {
   "cell_type": "code",
   "execution_count": 48,
   "metadata": {
    "id": "Ty9ODCiwt6if",
    "outputId": "60850bd2-c4fb-4249-f52f-2f207b2bad28",
    "vscode": {
     "languageId": "r"
    }
   },
   "outputs": [
    {
     "data": {
      "text/plain": [
       "      ExCl  C40M  C40C  C20M  C20C  ExOs  O40M  O40C  O20M\n",
       "C40M 0.744                                                \n",
       "C40C 0.382 0.119                                          \n",
       "C20M 0.228 0.151 0.069                                    \n",
       "C20C 0.047 0.505 0.178 0.127                              \n",
       "ExOs 0.259 1.328 0.668 0.700 0.236                        \n",
       "O40M 0.537 0.220 0.039 0.207 0.268 0.650                  \n",
       "O40C 0.501 0.437 0.120 0.320 0.244 0.434 0.039            \n",
       "O20M 0.273 0.730 0.259 0.377 0.126 0.126 0.211 0.093      \n",
       "O20C 0.284 0.828 0.319 0.438 0.147 0.095 0.263 0.124 0.003"
      ]
     },
     "metadata": {},
     "output_type": "display_data"
    }
   ],
   "source": [
    " W<-1/20*dist(F)^2;round(W,3)"
   ]
  },
  {
   "cell_type": "markdown",
   "metadata": {
    "id": "zvnwGGIO41DI"
   },
   "source": [
    "<figure>\n",
    "<center>\n",
    "<img src=\"https://raw.githubusercontent.com/AprendizajeProfundo/Libro-Fundamentos/main/Machine_Learning/Imagenes/CafeToyWard.png\" width=\"500\" height=\"400\" align=\"center\" /> \n",
    "</center>   \n",
    "</figure>\n",
    "\n"
   ]
  },
  {
   "cell_type": "code",
   "execution_count": 49,
   "metadata": {
    "id": "Ty9ODCiwt6if",
    "outputId": "60850bd2-c4fb-4249-f52f-2f207b2bad28",
    "vscode": {
     "languageId": "r"
    }
   },
   "outputs": [
    {
     "data": {
      "text/html": [
       "<table class=\"dataframe\">\n",
       "<caption>A matrix: 3 × 9 of type chr</caption>\n",
       "<tbody>\n",
       "\t<tr><th scope=row>Nodo</th><td>11   </td><td>12   </td><td>13   </td><td>14   </td><td>15   </td><td>16   </td><td>17   </td><td>18   </td><td>19   </td></tr>\n",
       "\t<tr><th scope=row>Ward</th><td>0.003</td><td>0.039</td><td>0.047</td><td>0.069</td><td>0.146</td><td>0.157</td><td>0.424</td><td>0.442</td><td>1.563</td></tr>\n",
       "\t<tr><th scope=row>SumaWard</th><td>0.003</td><td>0.042</td><td>0.089</td><td>0.158</td><td>0.304</td><td>0.461</td><td>0.885</td><td>1.327</td><td>2.890</td></tr>\n",
       "</tbody>\n",
       "</table>\n"
      ],
      "text/latex": [
       "A matrix: 3 × 9 of type chr\n",
       "\\begin{tabular}{r|lllllllll}\n",
       "\tNodo & 11    & 12    & 13    & 14    & 15    & 16    & 17    & 18    & 19   \\\\\n",
       "\tWard & 0.003 & 0.039 & 0.047 & 0.069 & 0.146 & 0.157 & 0.424 & 0.442 & 1.563\\\\\n",
       "\tSumaWard & 0.003 & 0.042 & 0.089 & 0.158 & 0.304 & 0.461 & 0.885 & 1.327 & 2.890\\\\\n",
       "\\end{tabular}\n"
      ],
      "text/markdown": [
       "\n",
       "A matrix: 3 × 9 of type chr\n",
       "\n",
       "| Nodo | 11    | 12    | 13    | 14    | 15    | 16    | 17    | 18    | 19    |\n",
       "| Ward | 0.003 | 0.039 | 0.047 | 0.069 | 0.146 | 0.157 | 0.424 | 0.442 | 1.563 |\n",
       "| SumaWard | 0.003 | 0.042 | 0.089 | 0.158 | 0.304 | 0.461 | 0.885 | 1.327 | 2.890 |\n",
       "\n"
      ],
      "text/plain": [
       "         [,1]  [,2]  [,3]  [,4]  [,5]  [,6]  [,7]  [,8]  [,9] \n",
       "Nodo     11    12    13    14    15    16    17    18    19   \n",
       "Ward     0.003 0.039 0.047 0.069 0.146 0.157 0.424 0.442 1.563\n",
       "SumaWard 0.003 0.042 0.089 0.158 0.304 0.461 0.885 1.327 2.890"
      ]
     },
     "metadata": {},
     "output_type": "display_data"
    }
   ],
   "source": [
    "hclCafe<-ward.cluster(dista=dist(F),h.clust=2) \n",
    "Nodo=hclCafe$Nodo;Ward=round(hclCafe$Indice,3);SumaWard=round(cumsum(hclCafe$Indice),3)\n",
    "t(data.frame(Nodo,Ward,SumaWard))"
   ]
  },
  {
   "cell_type": "markdown",
   "metadata": {},
   "source": [
    "# <span style=\"color:#F72585\">Combinación de métodos</span>\n"
   ]
  },
  {
   "cell_type": "markdown",
   "metadata": {
    "id": "phkmjbF7uIvw"
   },
   "source": [
    "Desde el punto de vista del análisis de datos los métodos a utilizar son: el de Ward de aglomeración jerárquica y el *K-means*, porque buscan grupos que tengan inercia intragrupos lo más baja posible. Estos métodos se complementan para subsanar entre sí las desventajas y aprovechar sus ventajas.\n",
    "\n",
    "Los métodos de clasificación jerárquica tienen dos desventajas: utilizan mayor recurso de cómputo y las particiones obtenidas quedan anidadas. \n",
    "\n",
    "El *K-means* tiene también dos problemas: hay que darle el número de clases iniciales y los puntos iniciales. El número de clases es precisamente lo que se quiere descubrir en una tabla de datos y el óptimo es local, es decir, depende de los puntos iniciales.\n",
    "\n",
    "La estrategia programada en DtmVic y FactoClass, combina los dos métodos, ya que sus ventajas y desventajas son complementarias. Cuando el número de elementos a clasificar no es tan grande y  el equipo de cálculo lo permite, se realiza la clasificación jerárquica aglomerativa con el método de Ward. El \"histograma de índices de nivel\" permite visualizar las mejores alturas de corte del árbol, y por ende, el número de clases. Luego, se disminuye la inercia intraclases de la partición obtenida utilizando  *K-means*, con los centros de gravedad de la partición derivada de cortar el árbol como puntos iniciales.\n"
   ]
  },
  {
   "cell_type": "markdown",
   "metadata": {},
   "source": [
    "# <span style=\"color:#F72585\">Clasificación a partir de coordenadas</span>\n"
   ]
  },
  {
   "cell_type": "markdown",
   "metadata": {
    "id": "QN3-o6_luIvw"
   },
   "source": [
    "Los métodos factoriales se pueden utilizar para transformar los datos antes de realizar procedimientos de clasificación automática. Una de las salidas de un  análisis factorial es una tabla de individuos por coordenadas factoriales.  \n",
    "\n",
    "Entonces, las columnas de las tablas de entrada de los métodos de clasificación son de la misma naturaleza: coordenadas factoriales, que son de variables continuas.  \n",
    "\n",
    "En ese sentido, los métodos factoriales pueden cumplir  con dos funciones: la primera, en el caso de análisis de correspondencias, es la transformación de unas variables cualitativas en otras continuas; la segunda es una función de filtro, al considerar que los $S$ primeros ejes factoriales contienen la información y los otros son ruido. \n",
    "\n",
    "En otras palabras, *ACP* y los *AC*, son métodos de pretratamiento de datos para la clasificación que pueden cumplir con dos funciones: cuantificar las variables cualitativas y reducir la dimensionalidad de los datos."
   ]
  },
  {
   "cell_type": "markdown",
   "metadata": {
    "id": "mCHyRsjO51Fm"
   },
   "source": [
    "<figure>\n",
    "<center>\n",
    "<img src=\"https://raw.githubusercontent.com/AprendizajeProfundo/Libro-Fundamentos/main/Machine_Learning/Imagenes/clasVarNom.png\" width=\"600\" height=\"300\" align=\"center\" /> \n",
    "</center>   \n",
    "</figure>"
   ]
  },
  {
   "cell_type": "markdown",
   "metadata": {},
   "source": [
    "## <span style=\"color:#4361EE\">Función de transformación o cuantificación</span>\n"
   ]
  },
  {
   "cell_type": "markdown",
   "metadata": {
    "id": "R3jBzK-UuIvy"
   },
   "source": [
    "Un programa de *ACP* normado recibe los datos originales y los estandariza antes de obtener valores y vectores propios, y coordenadas factoriales de individuos y variables. \n",
    "\n",
    "En un análisis de correspondencias las coordenadas factoriales se constituyen en nuevas variables  continuas, con las que se puede utilizar la  combinación de métodos de clasificación para variables continuas."
   ]
  },
  {
   "cell_type": "markdown",
   "metadata": {},
   "source": [
    "## <span style=\"color:#4361EE\">Función de filtro</span>\n"
   ]
  },
  {
   "cell_type": "markdown",
   "metadata": {
    "id": "v6o_Y2keuIvy"
   },
   "source": [
    "Conectar un método factorial con la clasificación da la posibilidad de seleccionar el número de ejes a utilizar en esta clasificación. \n",
    "Se utiliza el histograma de valores propios y otros criterios para la selección del número de ejes,  pero haciendo énfasis en el sentido de filtro: aquí seleccionar más ejes puede significar mayor recurso de cómputo, pero no más trabajo para el analista. \n",
    "\n",
    "En problemas pequeños y medianos el recurso de cómputo no tiene importancia. En general, el número de ejes para la clasificación es mayor que el número de ejes seleccionados para analizar en un método factorial. \n",
    "\n",
    "Muchas veces se utilizan todos los ejes para la clasificación, lo que es equivalente  a realizar el análisis con las variables originales.\n"
   ]
  },
  {
   "cell_type": "markdown",
   "metadata": {},
   "source": [
    "# <span style=\"color:#F72585\">Caracterización automática de las clases</span>\n"
   ]
  },
  {
   "cell_type": "markdown",
   "metadata": {},
   "source": [
    "En términos generales, en un procedimiento de clasificación se obtiene una variable cualitativa indicadora de la clase o grupo al que pertenece cada elemento clasificado. Esta variable se puede cruzar con cualquiera de las variables presentes en la tabla de datos correspondiente. \n",
    "\n",
    "Los procedimientos para describir dos variables se pueden utilizar para ese propósito, en particular los ordenamientos por valores test. \n",
    "\n",
    "Las variables continuas o las categorías de las variables cualitativas con diferencias que generan un valor test superior a un umbral, generalmente 2, se dice que caracterizan a la clase. \n",
    "\n",
    "Las que generan valores test inferiores al umbral son de signo negativo (-2, por ejemplo) y se dice que caracterizan negativamente a la clase respectiva."
   ]
  },
  {
   "cell_type": "markdown",
   "metadata": {},
   "source": [
    "## <span style=\"color:#4361EE\">Descripción con variables continuas</span>\n"
   ]
  },
  {
   "cell_type": "markdown",
   "metadata": {},
   "source": [
    "La clase es la variable cualitativa que se desea describir con las variables continuas.\n",
    "\n",
    "Las variables continuas que caracterizan a una clase son aquellas que tienen la media de la clase suficientemente diferente de la media global. \n",
    "\n",
    "Para encontrarlas y ordenarlas se \n",
    "hace la comparación de la media dentro de la clase con la media global, siguiendo el procedimiento de ordenamiento mediante valores test. \n",
    "\n",
    "$$t_k = \\frac{\\bar{x}_k  - \\mu}{\\sigma_k} =   \\sqrt{\\frac{(n-1) n_k}{n-n_k}} \\  \\ \\frac{\\bar{x}_k  - \\mu}{\\sigma}\n",
    "%t_k = \\frac{(\\bar{X}_k  - \\bar{X})}{s_k(X)} \\ \\ \\ con \\ \\ \\  s_k^2(X) = \\frac{n-n_k}{n-1} \\frac{s^2(X)}{n_k}\n",
    "$$\n",
    "Donde  $\\mu$  y $\\sigma^2$ son la media y varianza globlales (de todos los datos); $n_k$ y  $\\bar{x} _k$ el número y la media del grupo de individuos que asumen la categoría $k$ . \n",
    "\n",
    "\n",
    "En la presentación de los resultados se pueden incluir los *boxplots* de las variables que caracterizan a una o más clases."
   ]
  },
  {
   "cell_type": "markdown",
   "metadata": {},
   "source": [
    "## <span style=\"color:#4361EE\">Descripción con variables cualitativas</span>\n"
   ]
  },
  {
   "cell_type": "markdown",
   "metadata": {
    "id": "4m3lYVouuIvy"
   },
   "source": [
    "Una categoría es característica de una clase si su frecuencia dentro de la clase es suficientemente diferente de su frecuencia global. \n",
    "\n",
    "Para encontrarlas y ordenarlas se utiliza el procedimiento de valores test (ver capítulo 7 del libro EDM)\n",
    "\n",
    "Para las variables que tengan categorías que caracterizan a las clases se pueden obtener las gráficas de perfiles de las clases \n",
    "\n",
    "\n"
   ]
  },
  {
   "cell_type": "markdown",
   "metadata": {},
   "source": [
    "## <span style=\"color:#4361EE\">Una estrategia de clasificación</span>\n"
   ]
  },
  {
   "cell_type": "markdown",
   "metadata": {
    "id": "-64lhqcBuIvy"
   },
   "source": [
    "La estrategia de clasificación que se ha propuesto, se resume en los siguientes pasos:\n",
    "\n",
    "1. Realizar el análisis en ejes principales correspondiente.\n",
    "2. Seleccionar el número de ejes para la clasificación.\n",
    "3. Si el número de \"individuos\" es muy grande, realizar un *K-means* de preagrupamiento en miles de clases.\n",
    "4. Realizar la clasificación jerárquica con el método de Ward sobre los \"individuos\" o los grupos del paso anterior.\n",
    "5. Decidir el número de clases y cortar el árbol.\n",
    "6. Realizar *K-means* de consolidación partiendo de los centros de gravedad de la partición obtenida al cortar el árbol.\n",
    "7. Caracterizar las clases.\n",
    "8. Proyección de las clases sobre los planos factoriales.\n"
   ]
  },
  {
   "cell_type": "markdown",
   "metadata": {
    "id": "fVHPFXQf6Zsc"
   },
   "source": [
    "<figure>\n",
    "<center>\n",
    "<img src=\"https://raw.githubusercontent.com/Alejandria/Libro-Fundamentos/main/Machine_Learning/Imagenes/estrategiaFactoClass.png\" width=\"800\" height=\"600\" align=\"center\" /> \n",
    "</center>   \n",
    "</figure>\n",
    "\n"
   ]
  },
  {
   "cell_type": "markdown",
   "metadata": {},
   "source": [
    "# <span style=\"color:#F72585\">Ejemplo de aplicación: Clasificación de los niños según el consumo cultural</span>\n"
   ]
  },
  {
   "cell_type": "markdown",
   "metadata": {},
   "source": [
    "```{admonition} Objetivo\n",
    ":class: tip\n",
    "\n",
    "Complementar la descripción del consumo cultural realizada con análisis de correspondencias múltiples.\n",
    "\n",
    "La función *FactoClass{FactoClass}*\n",
    "\n",
    "```\n"
   ]
  },
  {
   "cell_type": "code",
   "execution_count": 50,
   "metadata": {
    "id": "Ty9ODCiwt6if",
    "outputId": "60850bd2-c4fb-4249-f52f-2f207b2bad28",
    "vscode": {
     "languageId": "r"
    }
   },
   "outputs": [],
   "source": [
    "\n",
    "load(url(\"https://github.com/AprendizajeProfundo/Libro-Fundamentos/blob/main/Machine_Learning/Datos/ninios8a11.Rda?raw=true\"))\n",
    "#load(\"../Datos/ninios8a11.Rda\")\n",
    "ninios8a11$Edad<-factor(ninios8a11$Edad)\n",
    "# variables activas\n",
    "Y <- subset(ninios8a11,select=c(Teat,Libr,Cine,Vide,Radi,Musi))\n",
    "# variables suplementarias\n",
    "Ys<-ninios8a11[,c(2,29,30,32,35)]"
   ]
  },
  {
   "cell_type": "markdown",
   "metadata": {},
   "source": [
    "## <span style=\"color:#4361EE\">Variables activas</span>\n"
   ]
  },
  {
   "cell_type": "code",
   "execution_count": 51,
   "metadata": {
    "id": "Ty9ODCiwt6if",
    "outputId": "60850bd2-c4fb-4249-f52f-2f207b2bad28",
    "vscode": {
     "languageId": "r"
    }
   },
   "outputs": [
    {
     "data": {
      "image/png": "[encoded data removed]",
      "text/plain": [
       "plot without title"
      ]
     },
     "metadata": {
      "image/png": {
       "height": 420,
       "width": 420
      }
     },
     "output_type": "display_data"
    }
   ],
   "source": [
    "par(las=1,mfrow=c(2,3),mai=c(0.55,0.5,0.1,0.1))\n",
    "for(i in 1:6){\n",
    "  cat<-attributes(Y[,i])$levels;\n",
    "  per<-tabulate(Y[,i])/nrow(Y)*100;\n",
    "  pl<-plot(Y[,i],horiz=TRUE,col=gray(seq(1.0,0.9,\n",
    "           length=length(cat))),ylim=c(0,8),\n",
    "           xlim=c(0,1400),xlab=colnames(Y)[i]);\n",
    "  text(800,pl,round(per,1),cex=0.8,pos=4); \n",
    "}"
   ]
  },
  {
   "cell_type": "markdown",
   "metadata": {},
   "source": [
    "## <span style=\"color:#4361EE\">Variables ilustrativas</span>\n"
   ]
  },
  {
   "cell_type": "code",
   "execution_count": 52,
   "metadata": {
    "id": "Ty9ODCiwt6if",
    "outputId": "60850bd2-c4fb-4249-f52f-2f207b2bad28",
    "vscode": {
     "languageId": "r"
    }
   },
   "outputs": [
    {
     "data": {
      "image/png": "[encoded data removed]",
      "text/plain": [
       "plot without title"
      ]
     },
     "metadata": {
      "image/png": {
       "height": 420,
       "width": 420
      }
     },
     "output_type": "display_data"
    }
   ],
   "source": [
    "par(las=1,mfrow=c(2,3),mai=c(0.55,0.5,0,0.1))\n",
    "for(i in 1:5){\n",
    "  cat<-attributes(Y[,i])$levels;\n",
    "  per<-tabulate(Ys[,i])/nrow(Y)*100;\n",
    "  pl<-plot(Ys[,i],horiz=TRUE,col=gray(seq(1.0,0.9,\n",
    "           length=length(cat))),ylim=c(0,8),\n",
    "           xlim=c(0,1000),xlab=colnames(Ys)[i]);\n",
    "  text(100,pl,round(per,1),cex=0.8,pos=4); \n",
    "}"
   ]
  },
  {
   "cell_type": "code",
   "execution_count": 53,
   "metadata": {
    "id": "Ty9ODCiwt6if",
    "outputId": "60850bd2-c4fb-4249-f52f-2f207b2bad28",
    "vscode": {
     "languageId": "r"
    }
   },
   "outputs": [
    {
     "name": "stderr",
     "output_type": "stream",
     "text": [
      "Installing package into 'C:/Users/User/AppData/Local/R/win-library/4.2'\n",
      "(as 'lib' is unspecified)\n",
      "\n",
      "Warning message:\n",
      "\"package 'Factoclass' is not available for this version of R\n",
      "\n",
      "A version of this package for your version of R might be available elsewhere,\n",
      "see the ideas at\n",
      "https://cran.r-project.org/doc/manuals/r-patched/R-admin.html#Installing-packages\"\n",
      "Warning message:\n",
      "\"Perhaps you meant 'FactoClass' ?\"\n"
     ]
    }
   ],
   "source": [
    "install.packages('Factoclass')\n",
    "library(FactoClass)"
   ]
  },
  {
   "cell_type": "code",
   "execution_count": 54,
   "metadata": {
    "id": "Ty9ODCiwt6if",
    "outputId": "60850bd2-c4fb-4249-f52f-2f207b2bad28",
    "vscode": {
     "languageId": "r"
    }
   },
   "outputs": [
    {
     "name": "stdout",
     "output_type": "stream",
     "text": [
      "The number of retained axes for factorial analysis is  3 \n",
      "\n",
      "The number of axes for clustering is  5 \n",
      "\n",
      "Look the histogram of 25 indexes \n",
      "Partition in  4  clusters\n"
     ]
    }
   ],
   "source": [
    "fcConCul <- FactoClass(dfact=Y,metodo=dudi.acm,dfilu=Ys , nf = 3, nfcl = 5, k.clust = 4, \n",
    "                scanFC = FALSE)\n"
   ]
  },
  {
   "cell_type": "code",
   "execution_count": 55,
   "metadata": {
    "id": "Ty9ODCiwt6if",
    "outputId": "60850bd2-c4fb-4249-f52f-2f207b2bad28",
    "vscode": {
     "languageId": "r"
    }
   },
   "outputs": [
    {
     "data": {
      "text/html": [
       "<style>\n",
       ".list-inline {list-style: none; margin:0; padding: 0}\n",
       ".list-inline>li {display: inline-block}\n",
       ".list-inline>li:not(:last-child)::after {content: \"\\00b7\"; padding: 0 .5ex}\n",
       "</style>\n",
       "<ol class=list-inline><li>'dudi2'</li><li>'dudi'</li><li>'nfcl'</li><li>'k'</li><li>'indices'</li><li>'cluster'</li><li>'cor.clus'</li><li>'clus.summ'</li><li>'carac.cont'</li><li>'carac.cate'</li><li>'carac.frec'</li></ol>\n"
      ],
      "text/latex": [
       "\\begin{enumerate*}\n",
       "\\item 'dudi2'\n",
       "\\item 'dudi'\n",
       "\\item 'nfcl'\n",
       "\\item 'k'\n",
       "\\item 'indices'\n",
       "\\item 'cluster'\n",
       "\\item 'cor.clus'\n",
       "\\item 'clus.summ'\n",
       "\\item 'carac.cont'\n",
       "\\item 'carac.cate'\n",
       "\\item 'carac.frec'\n",
       "\\end{enumerate*}\n"
      ],
      "text/markdown": [
       "1. 'dudi2'\n",
       "2. 'dudi'\n",
       "3. 'nfcl'\n",
       "4. 'k'\n",
       "5. 'indices'\n",
       "6. 'cluster'\n",
       "7. 'cor.clus'\n",
       "8. 'clus.summ'\n",
       "9. 'carac.cont'\n",
       "10. 'carac.cate'\n",
       "11. 'carac.frec'\n",
       "\n",
       "\n"
      ],
      "text/plain": [
       " [1] \"dudi2\"      \"dudi\"       \"nfcl\"       \"k\"          \"indices\"   \n",
       " [6] \"cluster\"    \"cor.clus\"   \"clus.summ\"  \"carac.cont\" \"carac.cate\"\n",
       "[11] \"carac.frec\""
      ]
     },
     "metadata": {},
     "output_type": "display_data"
    }
   ],
   "source": [
    "names(fcConCul)"
   ]
  },
  {
   "cell_type": "code",
   "execution_count": 56,
   "metadata": {
    "id": "Ty9ODCiwt6if",
    "outputId": "60850bd2-c4fb-4249-f52f-2f207b2bad28",
    "vscode": {
     "languageId": "r"
    }
   },
   "outputs": [
    {
     "data": {
      "image/png": "[encoded data removed]",
      "text/plain": [
       "Plot with title \"Barplot eigen-values\""
      ]
     },
     "metadata": {
      "image/png": {
       "height": 420,
       "width": 420
      }
     },
     "output_type": "display_data"
    }
   ],
   "source": [
    "barplot(fcConCul$dudi$eig,main=\"Barplot eigen-values\")"
   ]
  },
  {
   "cell_type": "code",
   "execution_count": 57,
   "metadata": {
    "id": "Ty9ODCiwt6if",
    "outputId": "60850bd2-c4fb-4249-f52f-2f207b2bad28",
    "vscode": {
     "languageId": "r"
    }
   },
   "outputs": [
    {
     "data": {
      "text/html": [
       "<table class=\"dataframe\">\n",
       "<caption>A data.frame: 20 × 4</caption>\n",
       "<thead>\n",
       "\t<tr><th></th><th scope=col>Nodo</th><th scope=col>Prim</th><th scope=col>Benj</th><th scope=col>Indice</th></tr>\n",
       "\t<tr><th></th><th scope=col>&lt;fct&gt;</th><th scope=col>&lt;fct&gt;</th><th scope=col>&lt;fct&gt;</th><th scope=col>&lt;dbl&gt;</th></tr>\n",
       "</thead>\n",
       "<tbody>\n",
       "\t<tr><th scope=row>1951</th><td>3922</td><td>3872</td><td>3880</td><td>0.008481887</td></tr>\n",
       "\t<tr><th scope=row>1952</th><td>3923</td><td>3871</td><td>3916</td><td>0.009042694</td></tr>\n",
       "\t<tr><th scope=row>1953</th><td>3924</td><td>3886</td><td>3907</td><td>0.009735317</td></tr>\n",
       "\t<tr><th scope=row>1954</th><td>3925</td><td>3883</td><td>3891</td><td>0.009909993</td></tr>\n",
       "\t<tr><th scope=row>1955</th><td>3926</td><td>3896</td><td>3909</td><td>0.010150002</td></tr>\n",
       "\t<tr><th scope=row>1956</th><td>3927</td><td>3908</td><td>3924</td><td>0.010420663</td></tr>\n",
       "\t<tr><th scope=row>1957</th><td>3928</td><td>3912</td><td>3925</td><td>0.015028345</td></tr>\n",
       "\t<tr><th scope=row>1958</th><td>3929</td><td>3918</td><td>3922</td><td>0.015680180</td></tr>\n",
       "\t<tr><th scope=row>1959</th><td>3930</td><td>3913</td><td>3921</td><td>0.019286347</td></tr>\n",
       "\t<tr><th scope=row>1960</th><td>3931</td><td>3919</td><td>3927</td><td>0.019344170</td></tr>\n",
       "\t<tr><th scope=row>1961</th><td>3932</td><td>3905</td><td>3917</td><td>0.019969486</td></tr>\n",
       "\t<tr><th scope=row>1962</th><td>3933</td><td>3923</td><td>3932</td><td>0.021916391</td></tr>\n",
       "\t<tr><th scope=row>1963</th><td>3934</td><td>3911</td><td>3928</td><td>0.029784351</td></tr>\n",
       "\t<tr><th scope=row>1964</th><td>3935</td><td>3915</td><td>3929</td><td>0.032529945</td></tr>\n",
       "\t<tr><th scope=row>1965</th><td>3936</td><td>3930</td><td>3934</td><td>0.037830403</td></tr>\n",
       "\t<tr><th scope=row>1966</th><td>3937</td><td>3920</td><td>3931</td><td>0.049002642</td></tr>\n",
       "\t<tr><th scope=row>1967</th><td>3938</td><td>3926</td><td>3933</td><td>0.065875449</td></tr>\n",
       "\t<tr><th scope=row>1968</th><td>3939</td><td>3935</td><td>3938</td><td>0.114914438</td></tr>\n",
       "\t<tr><th scope=row>1969</th><td>3940</td><td>3937</td><td>3939</td><td>0.140346874</td></tr>\n",
       "\t<tr><th scope=row>1970</th><td>3941</td><td>3936</td><td>3940</td><td>0.146772084</td></tr>\n",
       "</tbody>\n",
       "</table>\n"
      ],
      "text/latex": [
       "A data.frame: 20 × 4\n",
       "\\begin{tabular}{r|llll}\n",
       "  & Nodo & Prim & Benj & Indice\\\\\n",
       "  & <fct> & <fct> & <fct> & <dbl>\\\\\n",
       "\\hline\n",
       "\t1951 & 3922 & 3872 & 3880 & 0.008481887\\\\\n",
       "\t1952 & 3923 & 3871 & 3916 & 0.009042694\\\\\n",
       "\t1953 & 3924 & 3886 & 3907 & 0.009735317\\\\\n",
       "\t1954 & 3925 & 3883 & 3891 & 0.009909993\\\\\n",
       "\t1955 & 3926 & 3896 & 3909 & 0.010150002\\\\\n",
       "\t1956 & 3927 & 3908 & 3924 & 0.010420663\\\\\n",
       "\t1957 & 3928 & 3912 & 3925 & 0.015028345\\\\\n",
       "\t1958 & 3929 & 3918 & 3922 & 0.015680180\\\\\n",
       "\t1959 & 3930 & 3913 & 3921 & 0.019286347\\\\\n",
       "\t1960 & 3931 & 3919 & 3927 & 0.019344170\\\\\n",
       "\t1961 & 3932 & 3905 & 3917 & 0.019969486\\\\\n",
       "\t1962 & 3933 & 3923 & 3932 & 0.021916391\\\\\n",
       "\t1963 & 3934 & 3911 & 3928 & 0.029784351\\\\\n",
       "\t1964 & 3935 & 3915 & 3929 & 0.032529945\\\\\n",
       "\t1965 & 3936 & 3930 & 3934 & 0.037830403\\\\\n",
       "\t1966 & 3937 & 3920 & 3931 & 0.049002642\\\\\n",
       "\t1967 & 3938 & 3926 & 3933 & 0.065875449\\\\\n",
       "\t1968 & 3939 & 3935 & 3938 & 0.114914438\\\\\n",
       "\t1969 & 3940 & 3937 & 3939 & 0.140346874\\\\\n",
       "\t1970 & 3941 & 3936 & 3940 & 0.146772084\\\\\n",
       "\\end{tabular}\n"
      ],
      "text/markdown": [
       "\n",
       "A data.frame: 20 × 4\n",
       "\n",
       "| <!--/--> | Nodo &lt;fct&gt; | Prim &lt;fct&gt; | Benj &lt;fct&gt; | Indice &lt;dbl&gt; |\n",
       "|---|---|---|---|---|\n",
       "| 1951 | 3922 | 3872 | 3880 | 0.008481887 |\n",
       "| 1952 | 3923 | 3871 | 3916 | 0.009042694 |\n",
       "| 1953 | 3924 | 3886 | 3907 | 0.009735317 |\n",
       "| 1954 | 3925 | 3883 | 3891 | 0.009909993 |\n",
       "| 1955 | 3926 | 3896 | 3909 | 0.010150002 |\n",
       "| 1956 | 3927 | 3908 | 3924 | 0.010420663 |\n",
       "| 1957 | 3928 | 3912 | 3925 | 0.015028345 |\n",
       "| 1958 | 3929 | 3918 | 3922 | 0.015680180 |\n",
       "| 1959 | 3930 | 3913 | 3921 | 0.019286347 |\n",
       "| 1960 | 3931 | 3919 | 3927 | 0.019344170 |\n",
       "| 1961 | 3932 | 3905 | 3917 | 0.019969486 |\n",
       "| 1962 | 3933 | 3923 | 3932 | 0.021916391 |\n",
       "| 1963 | 3934 | 3911 | 3928 | 0.029784351 |\n",
       "| 1964 | 3935 | 3915 | 3929 | 0.032529945 |\n",
       "| 1965 | 3936 | 3930 | 3934 | 0.037830403 |\n",
       "| 1966 | 3937 | 3920 | 3931 | 0.049002642 |\n",
       "| 1967 | 3938 | 3926 | 3933 | 0.065875449 |\n",
       "| 1968 | 3939 | 3935 | 3938 | 0.114914438 |\n",
       "| 1969 | 3940 | 3937 | 3939 | 0.140346874 |\n",
       "| 1970 | 3941 | 3936 | 3940 | 0.146772084 |\n",
       "\n"
      ],
      "text/plain": [
       "     Nodo Prim Benj Indice     \n",
       "1951 3922 3872 3880 0.008481887\n",
       "1952 3923 3871 3916 0.009042694\n",
       "1953 3924 3886 3907 0.009735317\n",
       "1954 3925 3883 3891 0.009909993\n",
       "1955 3926 3896 3909 0.010150002\n",
       "1956 3927 3908 3924 0.010420663\n",
       "1957 3928 3912 3925 0.015028345\n",
       "1958 3929 3918 3922 0.015680180\n",
       "1959 3930 3913 3921 0.019286347\n",
       "1960 3931 3919 3927 0.019344170\n",
       "1961 3932 3905 3917 0.019969486\n",
       "1962 3933 3923 3932 0.021916391\n",
       "1963 3934 3911 3928 0.029784351\n",
       "1964 3935 3915 3929 0.032529945\n",
       "1965 3936 3930 3934 0.037830403\n",
       "1966 3937 3920 3931 0.049002642\n",
       "1967 3938 3926 3933 0.065875449\n",
       "1968 3939 3935 3938 0.114914438\n",
       "1969 3940 3937 3939 0.140346874\n",
       "1970 3941 3936 3940 0.146772084"
      ]
     },
     "metadata": {},
     "output_type": "display_data"
    },
    {
     "data": {
      "image/png": "[encoded data removed]",
      "text/plain": [
       "plot without title"
      ]
     },
     "metadata": {
      "image/png": {
       "height": 420,
       "width": 420
      }
     },
     "output_type": "display_data"
    }
   ],
   "source": [
    "ultimosNodos<-tail(fcConCul$indices,20)\n",
    "ultimosNodos\n",
    "barplot(ultimosNodos$Indice[20:1],horiz=TRUE)"
   ]
  },
  {
   "cell_type": "code",
   "execution_count": 58,
   "metadata": {
    "id": "Ty9ODCiwt6if",
    "outputId": "60850bd2-c4fb-4249-f52f-2f207b2bad28",
    "vscode": {
     "languageId": "r"
    }
   },
   "outputs": [
    {
     "data": {
      "text/html": [
       "<style>\n",
       ".dl-inline {width: auto; margin:0; padding: 0}\n",
       ".dl-inline>dt, .dl-inline>dd {float: none; width: auto; display: inline-block}\n",
       ".dl-inline>dt::after {content: \":\\0020\"; padding-right: .5ex}\n",
       ".dl-inline>dt:not(:first-of-type) {padding-left: .5ex}\n",
       "</style><dl class=dl-inline><dt>1</dt><dd>275</dd><dt>2</dt><dd>637</dd><dt>3</dt><dd>680</dd><dt>4</dt><dd>379</dd></dl>\n"
      ],
      "text/latex": [
       "\\begin{description*}\n",
       "\\item[1] 275\n",
       "\\item[2] 637\n",
       "\\item[3] 680\n",
       "\\item[4] 379\n",
       "\\end{description*}\n"
      ],
      "text/markdown": [
       "1\n",
       ":   2752\n",
       ":   6373\n",
       ":   6804\n",
       ":   379\n",
       "\n"
      ],
      "text/plain": [
       "  1   2   3   4 \n",
       "275 637 680 379 "
      ]
     },
     "metadata": {},
     "output_type": "display_data"
    },
    {
     "data": {
      "image/png": "[encoded data removed]",
      "text/plain": [
       "Plot with title \"Objetos por grupo\""
      ]
     },
     "metadata": {
      "image/png": {
       "height": 420,
       "width": 420
      }
     },
     "output_type": "display_data"
    }
   ],
   "source": [
    "summary(fcConCul$cluster)\n",
    "barplot(summary(fcConCul$cluster),main=\"Objetos por grupo\")"
   ]
  },
  {
   "cell_type": "code",
   "execution_count": 59,
   "metadata": {
    "id": "Ty9ODCiwt6if",
    "outputId": "60850bd2-c4fb-4249-f52f-2f207b2bad28",
    "vscode": {
     "languageId": "r"
    }
   },
   "outputs": [
    {
     "data": {
      "text/html": [
       "<table class=\"dataframe\">\n",
       "<caption>A data.frame: 5 × 8</caption>\n",
       "<thead>\n",
       "\t<tr><th></th><th scope=col>Bef.Size</th><th scope=col>Aft.Size</th><th scope=col>Bef.Inertia</th><th scope=col>Aft.Inertia</th><th scope=col>Bef.Weight</th><th scope=col>Aft.Weight</th><th scope=col>Bef.Dist_2</th><th scope=col>Aft.Dist_2</th></tr>\n",
       "\t<tr><th></th><th scope=col>&lt;dbl&gt;</th><th scope=col>&lt;dbl&gt;</th><th scope=col>&lt;dbl&gt;</th><th scope=col>&lt;dbl&gt;</th><th scope=col>&lt;dbl&gt;</th><th scope=col>&lt;dbl&gt;</th><th scope=col>&lt;dbl&gt;</th><th scope=col>&lt;dbl&gt;</th></tr>\n",
       "</thead>\n",
       "<tbody>\n",
       "\t<tr><th scope=row>1</th><td> 310</td><td> 275</td><td>0.1812</td><td>0.1520</td><td>0.1573</td><td>0.1395</td><td>0.7341</td><td>0.8417</td></tr>\n",
       "\t<tr><th scope=row>2</th><td> 592</td><td> 637</td><td>0.2117</td><td>0.2064</td><td>0.3004</td><td>0.3232</td><td>0.2625</td><td>0.2976</td></tr>\n",
       "\t<tr><th scope=row>3</th><td> 530</td><td> 680</td><td>0.1105</td><td>0.1407</td><td>0.2689</td><td>0.3450</td><td>0.3780</td><td>0.3626</td></tr>\n",
       "\t<tr><th scope=row>4</th><td> 539</td><td> 379</td><td>0.2196</td><td>0.1544</td><td>0.2735</td><td>0.1923</td><td>0.4090</td><td>0.7021</td></tr>\n",
       "\t<tr><th scope=row>TOTAL</th><td>1971</td><td>1971</td><td>0.7230</td><td>0.6535</td><td>1.0001</td><td>1.0000</td><td>    NA</td><td>    NA</td></tr>\n",
       "</tbody>\n",
       "</table>\n"
      ],
      "text/latex": [
       "A data.frame: 5 × 8\n",
       "\\begin{tabular}{r|llllllll}\n",
       "  & Bef.Size & Aft.Size & Bef.Inertia & Aft.Inertia & Bef.Weight & Aft.Weight & Bef.Dist\\_2 & Aft.Dist\\_2\\\\\n",
       "  & <dbl> & <dbl> & <dbl> & <dbl> & <dbl> & <dbl> & <dbl> & <dbl>\\\\\n",
       "\\hline\n",
       "\t1 &  310 &  275 & 0.1812 & 0.1520 & 0.1573 & 0.1395 & 0.7341 & 0.8417\\\\\n",
       "\t2 &  592 &  637 & 0.2117 & 0.2064 & 0.3004 & 0.3232 & 0.2625 & 0.2976\\\\\n",
       "\t3 &  530 &  680 & 0.1105 & 0.1407 & 0.2689 & 0.3450 & 0.3780 & 0.3626\\\\\n",
       "\t4 &  539 &  379 & 0.2196 & 0.1544 & 0.2735 & 0.1923 & 0.4090 & 0.7021\\\\\n",
       "\tTOTAL & 1971 & 1971 & 0.7230 & 0.6535 & 1.0001 & 1.0000 &     NA &     NA\\\\\n",
       "\\end{tabular}\n"
      ],
      "text/markdown": [
       "\n",
       "A data.frame: 5 × 8\n",
       "\n",
       "| <!--/--> | Bef.Size &lt;dbl&gt; | Aft.Size &lt;dbl&gt; | Bef.Inertia &lt;dbl&gt; | Aft.Inertia &lt;dbl&gt; | Bef.Weight &lt;dbl&gt; | Aft.Weight &lt;dbl&gt; | Bef.Dist_2 &lt;dbl&gt; | Aft.Dist_2 &lt;dbl&gt; |\n",
       "|---|---|---|---|---|---|---|---|---|\n",
       "| 1 |  310 |  275 | 0.1812 | 0.1520 | 0.1573 | 0.1395 | 0.7341 | 0.8417 |\n",
       "| 2 |  592 |  637 | 0.2117 | 0.2064 | 0.3004 | 0.3232 | 0.2625 | 0.2976 |\n",
       "| 3 |  530 |  680 | 0.1105 | 0.1407 | 0.2689 | 0.3450 | 0.3780 | 0.3626 |\n",
       "| 4 |  539 |  379 | 0.2196 | 0.1544 | 0.2735 | 0.1923 | 0.4090 | 0.7021 |\n",
       "| TOTAL | 1971 | 1971 | 0.7230 | 0.6535 | 1.0001 | 1.0000 |     NA |     NA |\n",
       "\n"
      ],
      "text/plain": [
       "      Bef.Size Aft.Size Bef.Inertia Aft.Inertia Bef.Weight Aft.Weight\n",
       "1      310      275     0.1812      0.1520      0.1573     0.1395    \n",
       "2      592      637     0.2117      0.2064      0.3004     0.3232    \n",
       "3      530      680     0.1105      0.1407      0.2689     0.3450    \n",
       "4      539      379     0.2196      0.1544      0.2735     0.1923    \n",
       "TOTAL 1971     1971     0.7230      0.6535      1.0001     1.0000    \n",
       "      Bef.Dist_2 Aft.Dist_2\n",
       "1     0.7341     0.8417    \n",
       "2     0.2625     0.2976    \n",
       "3     0.3780     0.3626    \n",
       "4     0.4090     0.7021    \n",
       "TOTAL     NA         NA    "
      ]
     },
     "metadata": {},
     "output_type": "display_data"
    }
   ],
   "source": [
    "fcConCul$clus.summ"
   ]
  },
  {
   "cell_type": "code",
   "execution_count": 60,
   "metadata": {
    "id": "Ty9ODCiwt6if",
    "outputId": "60850bd2-c4fb-4249-f52f-2f207b2bad28",
    "vscode": {
     "languageId": "r"
    }
   },
   "outputs": [
    {
     "data": {
      "text/plain": [
       "class: 1\n",
       "          Test.Value p.Value Class.Cat Cat.Class Global Weight\n",
       "Musi.sema     23.962   0.000      92.9      52.7    7.9    156\n",
       "Vide.mens     15.698   0.000      81.6      29.1    5.0     98\n",
       "Radi.sema     15.600   0.000      80.8      29.1    5.0     99\n",
       "Teat.trim      4.752   0.000      29.2      13.8    6.6    130\n",
       "Vide.sema      4.503   0.000      21.0      30.9   20.5    404\n",
       "Libr.sema      4.283   0.000      22.0      24.4   15.4    304\n",
       "Teat.sema      2.858   0.004      27.6       5.8    2.9     58\n",
       "Cine.anua      2.444   0.015      20.1      12.0    8.3    164\n",
       "Regi.Cent      2.437   0.015      18.0      21.5   16.6    328\n",
       "Regi.Atla      2.330   0.020      18.3      17.8   13.6    268\n",
       "Teat.anua      2.312   0.021      19.8      11.6    8.2    162\n",
       "Cine.trim      2.264   0.024      18.8      14.2   10.5    207\n",
       "Libr.mens      2.193   0.028      20.2       9.5    6.5    129\n",
       "Libr.anua      2.112   0.035      23.6       4.7    2.8     55\n",
       "Regi.Bogo      2.097   0.036      17.4      19.6   15.7    310\n",
       "Cine.mens     -2.603   0.009       8.0       5.1    8.8    174\n",
       "Radi.vdse     -3.657   0.000       8.6      12.4   20.0    394\n",
       "Libr.no       -3.767   0.000       9.1      15.6   24.1    475\n",
       "Regi.Orie     -3.929   0.000       8.7      14.2   22.8    450\n",
       "Vide.diar     -4.199   0.000       5.7       4.7   11.5    227\n",
       "Vide.vdse     -4.338   0.000       9.7      25.1   36.3    715\n",
       "Musi.vdse     -5.105   0.000       8.8      22.5   35.7    703\n",
       "Teat.no       -5.485   0.000      11.3      58.5   72.6   1430\n",
       "Musi.diar     -5.568   0.000       5.0       5.8   16.2    319\n",
       "Radi.no       -6.560   0.000       9.4      37.1   55.3   1089\n",
       "Vide.no       -7.253   0.000       5.3      10.2   26.7    527\n",
       "Musi.no       -8.124   0.000       6.6      18.9   40.2    793\n",
       "------------------------------------------------------------ \n",
       "class: 2\n",
       "          Test.Value p.Value Class.Cat Cat.Class Global Weight\n",
       "Musi.vdse     27.667   0.000      71.1      78.5   35.7    703\n",
       "Vide.vdse     18.830   0.000      58.7      65.9   36.3    715\n",
       "Radi.vdse     13.752   0.000      62.2      38.5   20.0    394\n",
       "Libr.vdse      9.652   0.000      47.8      45.2   30.5    602\n",
       "Libr.anua      4.034   0.000      58.2       5.0    2.8     55\n",
       "Cine.seme      3.886   0.000      46.9      10.7    7.4    145\n",
       "Teat.seme      3.296   0.001      46.7       7.8    5.4    107\n",
       "Libr.sema      2.533   0.011      38.2      18.2   15.4    304\n",
       "Estr.3oM       2.375   0.018      37.0      22.0   19.2    378\n",
       "Libr.mens      2.347   0.019      41.1       8.3    6.5    129\n",
       "Cine.mens      2.331   0.020      39.7      10.8    8.8    174\n",
       "Regi.Cent     -2.178   0.029      27.7      14.3   16.6    328\n",
       "Teat.mens     -2.382   0.017      21.4       2.8    4.3     84\n",
       "Cine.no       -2.891   0.004      30.2      60.8   65.0   1281\n",
       "Estr.0o1      -2.998   0.003      28.8      37.5   42.1    829\n",
       "Radi.no       -3.429   0.001      29.2      49.9   55.3   1089\n",
       "Radi.sema     -6.762   0.000       5.1       0.8    5.0     99\n",
       "Radi.diar     -7.179   0.000      17.7      10.8   19.7    389\n",
       "Libr.diar     -7.807   0.000      14.8       7.5   16.4    324\n",
       "Vide.diar     -7.907   0.000      11.0       3.9   11.5    227\n",
       "Vide.mens     -8.610   0.000       0.0       0.0    5.0     98\n",
       "Libr.no       -8.769   0.000      16.6      12.4   24.1    475\n",
       "Musi.diar     -9.768   0.000      10.7       5.3   16.2    319\n",
       "Musi.sema    -10.675   0.000       0.6       0.2    7.9    156\n",
       "Vide.no      -14.079   0.000       9.5       7.8   26.7    527\n",
       "Musi.no      -15.757   0.000      12.9      16.0   40.2    793\n",
       "------------------------------------------------------------ \n",
       "class: 3\n",
       "          Test.Value p.Value Class.Cat Cat.Class Global Weight\n",
       "Musi.no       28.646   0.000      71.0      82.8   40.2    793\n",
       "Vide.no       25.055   0.000      79.1      61.3   26.7    527\n",
       "Radi.no       14.640   0.000      48.3      77.4   55.3   1089\n",
       "Libr.no       14.359   0.000      62.3      43.5   24.1    475\n",
       "Teat.no       13.949   0.000      43.1      90.7   72.6   1430\n",
       "Cine.no       12.218   0.000      43.8      82.5   65.0   1281\n",
       "Estr.0o1       8.366   0.000      45.0      54.9   42.1    829\n",
       "Regi.Orie      5.393   0.000      45.1      29.9   22.8    450\n",
       "Regi.OrAm      3.766   0.000      43.7      19.9   15.7    309\n",
       "Libr.trim      3.052   0.002      50.0       6.0    4.2     82\n",
       "Edad.a10      -2.085   0.037      31.2      23.4   25.9    510\n",
       "Teat.sema     -2.715   0.007      19.0       1.6    2.9     58\n",
       "Vide.sema     -2.934   0.003      28.7      17.1   20.5    404\n",
       "Cine.anua     -3.207   0.001      23.8       5.7    8.3    164\n",
       "Teat.mens     -3.498   0.000      17.9       2.2    4.3     84\n",
       "Estr.2        -3.611   0.000      29.8      33.5   38.8    764\n",
       "Libr.anua     -3.714   0.000      12.7       1.0    2.8     55\n",
       "Cine.seme     -4.035   0.000      20.0       4.3    7.4    145\n",
       "Regi.Atla     -4.690   0.000      22.4       8.8   13.6    268\n",
       "Libr.mens     -4.793   0.000      16.3       3.1    6.5    129\n",
       "Regi.Bogo     -5.146   0.000      22.3      10.1   15.7    310\n",
       "Libr.vdse     -5.151   0.000      26.4      23.4   30.5    602\n",
       "Vide.mens     -5.398   0.000      11.2       1.6    5.0     98\n",
       "Cine.trim     -5.952   0.000      16.9       5.1   10.5    207\n",
       "Estr.3oM      -6.429   0.000      20.9      11.6   19.2    378\n",
       "Libr.diar     -6.515   0.000      19.4       9.3   16.4    324\n",
       "Radi.sema     -6.563   0.000       7.1       1.0    5.0     99\n",
       "Teat.seme     -6.717   0.000       7.5       1.2    5.4    107\n",
       "Teat.trim     -6.884   0.000       9.2       1.8    6.6    130\n",
       "Teat.anua     -7.305   0.000      10.5       2.5    8.2    162\n",
       "Radi.diar     -7.472   0.000      19.0      10.9   19.7    389\n",
       "Radi.vdse     -7.780   0.000      18.5      10.7   20.0    394\n",
       "Cine.mens     -8.067   0.000       9.2       2.4    8.8    174\n",
       "Vide.diar     -9.123   0.000       9.7       3.2   11.5    227\n",
       "Musi.sema     -9.632   0.000       3.8       0.9    7.9    156\n",
       "Musi.diar    -11.212   0.000       9.4       4.4   16.2    319\n",
       "Vide.vdse    -13.541   0.000      15.9      16.8   36.3    715\n",
       "Musi.vdse    -16.819   0.000      11.5      11.9   35.7    703\n",
       "------------------------------------------------------------ \n",
       "class: 4\n",
       "          Test.Value p.Value Class.Cat Cat.Class Global Weight\n",
       "Musi.diar     24.691   0.000      74.9      63.1   16.2    319\n",
       "Vide.diar     19.378   0.000      73.6      44.1   11.5    227\n",
       "Libr.diar     14.956   0.000      52.2      44.6   16.4    324\n",
       "Radi.diar     14.870   0.000      48.1      49.3   19.7    389\n",
       "Cine.mens      7.637   0.000      43.1      19.8    8.8    174\n",
       "Teat.mens      6.972   0.000      52.4      11.6    4.3     84\n",
       "Cine.trim      5.984   0.000      35.7      19.5   10.5    207\n",
       "Teat.anua      5.779   0.000      37.7      16.1    8.2    162\n",
       "Estr.3oM       4.350   0.000      27.2      27.2   19.2    378\n",
       "Regi.Atla      2.827   0.005      25.4      17.9   13.6    268\n",
       "Regi.Bogo      2.546   0.011      24.2      19.8   15.7    310\n",
       "Teat.seme      2.015   0.044      26.2       7.4    5.4    107\n",
       "Estr.2         2.015   0.044      21.2      42.7   38.8    764\n",
       "Regi.Orie     -2.473   0.013      15.6      18.5   22.8    450\n",
       "Vide.sema     -2.582   0.010      15.1      16.1   20.5    404\n",
       "Libr.anua     -2.943   0.003       5.5       0.8    2.8     55\n",
       "Vide.vdse     -3.206   0.001      15.7      29.6   36.3    715\n",
       "Vide.mens     -3.456   0.001       7.1       1.8    5.0     98\n",
       "Radi.sema     -3.497   0.000       7.1       1.8    5.0     99\n",
       "Regi.OrAm     -4.108   0.000      11.3       9.2   15.7    309\n",
       "Libr.vdse     -4.378   0.000      13.6      21.6   30.5    602\n",
       "Libr.no       -4.837   0.000      12.0      15.0   24.1    475\n",
       "Radi.vdse     -5.136   0.000      10.7      11.1   20.0    394\n",
       "Libr.sema     -5.202   0.000       9.2       7.4   15.4    304\n",
       "Estr.0o1      -5.398   0.000      13.8      30.1   42.1    829\n",
       "Musi.sema     -6.483   0.000       2.6       1.1    7.9    156\n",
       "Radi.no       -7.657   0.000      13.1      37.7   55.3   1089\n",
       "Teat.no       -8.901   0.000      14.2      53.6   72.6   1430\n",
       "Musi.no       -9.257   0.000       9.6      20.1   40.2    793\n",
       "Musi.vdse     -9.444   0.000       8.5      15.8   35.7    703\n",
       "Cine.no       -9.445   0.000      13.0      43.8   65.0   1281\n",
       "Vide.no       -9.771   0.000       6.1       8.4   26.7    527"
      ]
     },
     "metadata": {},
     "output_type": "display_data"
    }
   ],
   "source": [
    "fcConCul$carac.cate"
   ]
  },
  {
   "cell_type": "code",
   "execution_count": 61,
   "metadata": {
    "id": "Ty9ODCiwt6if",
    "outputId": "60850bd2-c4fb-4249-f52f-2f207b2bad28",
    "vscode": {
     "languageId": "r"
    }
   },
   "outputs": [
    {
     "data": {
      "text/plain": [
       "class: 1\n",
       "          Test.Value p.Value Class.Cat Cat.Class Global Weight\n",
       "Musi.sema     23.962       0      92.9      52.7    7.9    156\n",
       "Vide.mens     15.698       0      81.6      29.1    5.0     98\n",
       "Radi.sema     15.600       0      80.8      29.1    5.0     99\n",
       "Musi.vdse     -5.105       0       8.8      22.5   35.7    703\n",
       "Teat.no       -5.485       0      11.3      58.5   72.6   1430\n",
       "Musi.diar     -5.568       0       5.0       5.8   16.2    319\n",
       "Radi.no       -6.560       0       9.4      37.1   55.3   1089\n",
       "Vide.no       -7.253       0       5.3      10.2   26.7    527\n",
       "Musi.no       -8.124       0       6.6      18.9   40.2    793\n",
       "------------------------------------------------------------ \n",
       "class: 2\n",
       "          Test.Value p.Value Class.Cat Cat.Class Global Weight\n",
       "Musi.vdse     27.667       0      71.1      78.5   35.7    703\n",
       "Vide.vdse     18.830       0      58.7      65.9   36.3    715\n",
       "Radi.vdse     13.752       0      62.2      38.5   20.0    394\n",
       "Libr.vdse      9.652       0      47.8      45.2   30.5    602\n",
       "Radi.sema     -6.762       0       5.1       0.8    5.0     99\n",
       "Radi.diar     -7.179       0      17.7      10.8   19.7    389\n",
       "Libr.diar     -7.807       0      14.8       7.5   16.4    324\n",
       "Vide.diar     -7.907       0      11.0       3.9   11.5    227\n",
       "Vide.mens     -8.610       0       0.0       0.0    5.0     98\n",
       "Libr.no       -8.769       0      16.6      12.4   24.1    475\n",
       "Musi.diar     -9.768       0      10.7       5.3   16.2    319\n",
       "Musi.sema    -10.675       0       0.6       0.2    7.9    156\n",
       "Vide.no      -14.079       0       9.5       7.8   26.7    527\n",
       "Musi.no      -15.757       0      12.9      16.0   40.2    793\n",
       "------------------------------------------------------------ \n",
       "class: 3\n",
       "          Test.Value p.Value Class.Cat Cat.Class Global Weight\n",
       "Musi.no       28.646       0      71.0      82.8   40.2    793\n",
       "Vide.no       25.055       0      79.1      61.3   26.7    527\n",
       "Radi.no       14.640       0      48.3      77.4   55.3   1089\n",
       "Libr.no       14.359       0      62.3      43.5   24.1    475\n",
       "Teat.no       13.949       0      43.1      90.7   72.6   1430\n",
       "Cine.no       12.218       0      43.8      82.5   65.0   1281\n",
       "Libr.vdse     -5.151       0      26.4      23.4   30.5    602\n",
       "Vide.mens     -5.398       0      11.2       1.6    5.0     98\n",
       "Cine.trim     -5.952       0      16.9       5.1   10.5    207\n",
       "Libr.diar     -6.515       0      19.4       9.3   16.4    324\n",
       "Radi.sema     -6.563       0       7.1       1.0    5.0     99\n",
       "Teat.seme     -6.717       0       7.5       1.2    5.4    107\n",
       "Teat.trim     -6.884       0       9.2       1.8    6.6    130\n",
       "Teat.anua     -7.305       0      10.5       2.5    8.2    162\n",
       "Radi.diar     -7.472       0      19.0      10.9   19.7    389\n",
       "Radi.vdse     -7.780       0      18.5      10.7   20.0    394\n",
       "Cine.mens     -8.067       0       9.2       2.4    8.8    174\n",
       "Vide.diar     -9.123       0       9.7       3.2   11.5    227\n",
       "Musi.sema     -9.632       0       3.8       0.9    7.9    156\n",
       "Musi.diar    -11.212       0       9.4       4.4   16.2    319\n",
       "Vide.vdse    -13.541       0      15.9      16.8   36.3    715\n",
       "Musi.vdse    -16.819       0      11.5      11.9   35.7    703\n",
       "------------------------------------------------------------ \n",
       "class: 4\n",
       "          Test.Value p.Value Class.Cat Cat.Class Global Weight\n",
       "Musi.diar     24.691       0      74.9      63.1   16.2    319\n",
       "Vide.diar     19.378       0      73.6      44.1   11.5    227\n",
       "Libr.diar     14.956       0      52.2      44.6   16.4    324\n",
       "Radi.diar     14.870       0      48.1      49.3   19.7    389\n",
       "Cine.mens      7.637       0      43.1      19.8    8.8    174\n",
       "Teat.mens      6.972       0      52.4      11.6    4.3     84\n",
       "Cine.trim      5.984       0      35.7      19.5   10.5    207\n",
       "Teat.anua      5.779       0      37.7      16.1    8.2    162\n",
       "Radi.vdse     -5.136       0      10.7      11.1   20.0    394\n",
       "Libr.sema     -5.202       0       9.2       7.4   15.4    304\n",
       "Musi.sema     -6.483       0       2.6       1.1    7.9    156\n",
       "Radi.no       -7.657       0      13.1      37.7   55.3   1089\n",
       "Teat.no       -8.901       0      14.2      53.6   72.6   1430\n",
       "Musi.no       -9.257       0       9.6      20.1   40.2    793\n",
       "Musi.vdse     -9.444       0       8.5      15.8   35.7    703\n",
       "Cine.no       -9.445       0      13.0      43.8   65.0   1281\n",
       "Vide.no       -9.771       0       6.1       8.4   26.7    527"
      ]
     },
     "metadata": {},
     "output_type": "display_data"
    }
   ],
   "source": [
    "cluster.carac(Y,fcConCul$cluster,tipo.v=\"no\",v.lim= 5,dn=3,dm=3,neg=TRUE)"
   ]
  },
  {
   "cell_type": "code",
   "execution_count": 62,
   "metadata": {
    "id": "Ty9ODCiwt6if",
    "outputId": "60850bd2-c4fb-4249-f52f-2f207b2bad28",
    "vscode": {
     "languageId": "r"
    }
   },
   "outputs": [
    {
     "data": {
      "image/png": "[encoded data removed]",
      "text/plain": [
       "plot without title"
      ]
     },
     "metadata": {
      "image/png": {
       "height": 420,
       "width": 420
      }
     },
     "output_type": "display_data"
    }
   ],
   "source": [
    "plotFactoClass(fcConCul,roweti=\"\",infaxes=\"no\",cstar=0)"
   ]
  },
  {
   "cell_type": "code",
   "execution_count": 63,
   "metadata": {
    "id": "Ty9ODCiwt6if",
    "outputId": "60850bd2-c4fb-4249-f52f-2f207b2bad28",
    "vscode": {
     "languageId": "r"
    }
   },
   "outputs": [
    {
     "data": {
      "image/png": "[encoded data removed]",
      "text/plain": [
       "plot without title"
      ]
     },
     "metadata": {
      "image/png": {
       "height": 420,
       "width": 420
      }
     },
     "output_type": "display_data"
    }
   ],
   "source": [
    "plotFactoClass(fcConCul,x=1,y=3,roweti=\"\",infaxes=\"no\",cstar=0)"
   ]
  },
  {
   "cell_type": "markdown",
   "metadata": {},
   "source": [
    "### <span style=\"color:#4CC9F0\">Caracterización de las clases con variables ilustrativas</span>\n"
   ]
  },
  {
   "cell_type": "code",
   "execution_count": 64,
   "metadata": {
    "id": "Ty9ODCiwt6if",
    "outputId": "60850bd2-c4fb-4249-f52f-2f207b2bad28",
    "vscode": {
     "languageId": "r"
    }
   },
   "outputs": [
    {
     "data": {
      "text/plain": [
       "class: 1\n",
       "          Test.Value p.Value Class.Cat Cat.Class Global Weight\n",
       "Regi.Cent      2.437   0.015      18.0      21.5   16.6    328\n",
       "Regi.Atla      2.330   0.020      18.3      17.8   13.6    268\n",
       "Regi.Bogo      2.097   0.036      17.4      19.6   15.7    310\n",
       "Regi.Orie     -3.929   0.000       8.7      14.2   22.8    450\n",
       "------------------------------------------------------------ \n",
       "class: 2\n",
       "          Test.Value p.Value Class.Cat Cat.Class Global Weight\n",
       "Estr.3oM       2.375   0.018      37.0      22.0   19.2    378\n",
       "Regi.Cent     -2.178   0.029      27.7      14.3   16.6    328\n",
       "Estr.0o1      -2.998   0.003      28.8      37.5   42.1    829\n",
       "------------------------------------------------------------ \n",
       "class: 3\n",
       "          Test.Value p.Value Class.Cat Cat.Class Global Weight\n",
       "Estr.0o1       8.366   0.000      45.0      54.9   42.1    829\n",
       "Regi.Orie      5.393   0.000      45.1      29.9   22.8    450\n",
       "Regi.OrAm      3.766   0.000      43.7      19.9   15.7    309\n",
       "Edad.a10      -2.085   0.037      31.2      23.4   25.9    510\n",
       "Estr.2        -3.611   0.000      29.8      33.5   38.8    764\n",
       "Regi.Atla     -4.690   0.000      22.4       8.8   13.6    268\n",
       "Regi.Bogo     -5.146   0.000      22.3      10.1   15.7    310\n",
       "Estr.3oM      -6.429   0.000      20.9      11.6   19.2    378\n",
       "------------------------------------------------------------ \n",
       "class: 4\n",
       "          Test.Value p.Value Class.Cat Cat.Class Global Weight\n",
       "Estr.3oM       4.350   0.000      27.2      27.2   19.2    378\n",
       "Regi.Atla      2.827   0.005      25.4      17.9   13.6    268\n",
       "Regi.Bogo      2.546   0.011      24.2      19.8   15.7    310\n",
       "Estr.2         2.015   0.044      21.2      42.7   38.8    764\n",
       "Regi.Orie     -2.473   0.013      15.6      18.5   22.8    450\n",
       "Regi.OrAm     -4.108   0.000      11.3       9.2   15.7    309\n",
       "Estr.0o1      -5.398   0.000      13.8      30.1   42.1    829"
      ]
     },
     "metadata": {},
     "output_type": "display_data"
    }
   ],
   "source": [
    "cluster.carac(Ys,fcConCul$cluster,tipo.v=\"no\",v.lim= 2,dn=3,dm=3,neg=TRUE)"
   ]
  }
 ],
 "metadata": {
  "colab": {
   "collapsed_sections": [],
   "name": "Agrupamiento.ipynb",
   "provenance": []
  },
  "kernelspec": {
   "display_name": "R",
   "language": "R",
   "name": "ir"
  },
  "language_info": {
   "codemirror_mode": "r",
   "file_extension": ".r",
   "mimetype": "text/x-r-source",
   "name": "R",
   "pygments_lexer": "r",
   "version": "4.2.1"
  },
  "vscode": {
   "interpreter": {
    "hash": "f08154012ddadd8e950e6e9e035c7a7b32c136e7647e9b7c77e02eb723a8bedb"
   }
  }
 },
 "nbformat": 4,
 "nbformat_minor": 4
}
