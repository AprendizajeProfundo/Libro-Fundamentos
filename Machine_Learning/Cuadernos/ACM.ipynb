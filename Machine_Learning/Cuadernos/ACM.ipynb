{
 "cells": [
  {
   "cell_type": "markdown",
   "metadata": {},
   "source": [
    "<table class=\"tfo-notebook-buttons\" align=\"left\">\n",
    "  <td>\n",
    "    <a target=\"_blank\" href=\"https://colab.research.google.com/github/AprendizajeProfundo/Diplomado/blob/master/Temas/M%C3%B3dulo%2014-%20Aprendizaje%20no%20Supervisado/Cuadernos/ACM.ipynb\"><img src=\"https://www.tensorflow.org/images/colab_logo_32px.png\" />Run in Google Colab</a>\n",
    "  </td>\n",
    "</table>"
   ]
  },
  {
   "cell_type": "markdown",
   "metadata": {
    "id": "OOJ7NOMnelA2"
   },
   "source": [
    "# <span style=\"color:#F72585\">Análisis de correspondencias múltiples (ACM)</span>\n"
   ]
  },
  {
   "cell_type": "markdown",
   "metadata": {},
   "source": [
    "```{admonition} Cuidado\n",
    ":class: \n",
    "Los trozos de código de esta página son de R. Por favor, ejecútelos en Colab\n",
    "```\n"
   ]
  },
  {
   "cell_type": "markdown",
   "metadata": {
    "id": "Fi6OQ2SEfk6L"
   },
   "source": [
    "\n",
    "<!--  -->\n",
    "**Fuente:** Pardo CE (2020)  [Estadística descriptiva multivariada](http://ciencias.bogota.unal.edu.co/fileadmin/Facultad_de_Ciencias/Publicaciones/Imagenes/Portadas_Libros/Estadistica/Estadistica_descriptiva_multivariada/libroEstadisiticaDescriptivaMultivariadaDigital.pdf)"
   ]
  },
  {
   "cell_type": "markdown",
   "metadata": {},
   "source": [
    "## <span style=\"color:#4361EE\">Objetivos del ACM</span>\n"
   ]
  },
  {
   "cell_type": "markdown",
   "metadata": {
    "id": "liXrxkeGMutK"
   },
   "source": [
    "- Describir las asociaciones entre las categorías de las variables activa. \n",
    "- Descubrir patrones de individuos, que pueden dar origen a grupos de ellos.\n",
    "- Sintetizar en imágenes geométricas (planos factoriales) las asociaciones entre categorías y los posibles grupos de individuos.\n",
    "- Explorar la explicación de la estructura inducida por las categorías activas, con variables que juegan el papel de ilustrativas.\n",
    "\n",
    "Adicionalmente:\n",
    "\n",
    "- Cuantificar las variables cualitativas.  \n",
    "- Reducir de dimensión.\n",
    "- Filtrar: conservar la información y eliminar el ruido.\n",
    "\n",
    "El ACM es una extensión del ACS con propiedades muy particulares. \n"
   ]
  },
  {
   "cell_type": "markdown",
   "metadata": {},
   "source": [
    "<center>\n",
    "<img src=\"https://martinhinz.github.io/smada_I_2019/images/12_session/multi_space.png\" alt=\"eigenvectores\" width=\"400\">\n",
    "<center>"
   ]
  },
  {
   "cell_type": "markdown",
   "metadata": {},
   "source": [
    "## <span style=\"color:#4361EE\">Ejemplo: descripción de admitidos según algunas variables sociodemográficas,  notación y transformaciones de datos</span>\n"
   ]
  },
  {
   "cell_type": "markdown",
   "metadata": {
    "id": "tn5sP7WofAu6"
   },
   "source": [
    "\n",
    "\n",
    "- Descripción de los 445 admitidos a la Facultad de Ciencias, para el semestre de 2013-I.\n",
    "- Datos disponibles en *admi{FactoClass}*\n",
    "- Se utilizan como variables activas las sociodemográficas disponibles: \n",
    "    - Género: Femenino, Masculino\n",
    "    - Edad: 16 o menos, 17, 18, 19 o más\n",
    "    - Estrato: bajo, medio, alto\n",
    "    - Procedencia: Bogotá, Cundinamarca, Otro\n",
    "\n"
   ]
  },
  {
   "cell_type": "markdown",
   "metadata": {},
   "source": [
    "### <span style=\"color:#4CC9F0\">Notación</span>\n"
   ]
  },
  {
   "cell_type": "markdown",
   "metadata": {},
   "source": [
    "- La tabla de datos se denomina *de código condensado* (denotada por **Y** y no tiene significado numérico). \n",
    "- Las $n$ filas representan a los individuos y \n",
    "- las $s$ columnas a las variables cualitativas. \n",
    "- En el lenguaje de diseño de experimentos las columnas son factores\n",
    "- Las categorías son los niveles de los factores. \n",
    "- En R estas variables son de tipo factor."
   ]
  },
  {
   "cell_type": "markdown",
   "metadata": {},
   "source": [
    "## <span style=\"color:#4361EE\">Tabla de datos del ejemplo Admitidos</span>\n"
   ]
  },
  {
   "cell_type": "code",
   "execution_count": 1,
   "metadata": {
    "colab": {
     "base_uri": "https://localhost:8080/",
     "height": 130
    },
    "id": "ox324ZoCutjW",
    "outputId": "9eeb3b38-629b-4df1-e705-af5a0aa20a87"
   },
   "outputs": [
    {
     "ename": "NameError",
     "evalue": "name 'library' is not defined",
     "output_type": "error",
     "traceback": [
      "\u001b[1;31m---------------------------------------------------------------------------\u001b[0m",
      "\u001b[1;31mNameError\u001b[0m                                 Traceback (most recent call last)",
      "\u001b[1;32m~\\AppData\\Local\\Temp/ipykernel_21404/4130510166.py\u001b[0m in \u001b[0;36m<module>\u001b[1;34m\u001b[0m\n\u001b[1;32m----> 1\u001b[1;33m \u001b[0mlibrary\u001b[0m\u001b[1;33m(\u001b[0m\u001b[0mFactoClass\u001b[0m\u001b[1;33m)\u001b[0m\u001b[1;33m\u001b[0m\u001b[1;33m\u001b[0m\u001b[0m\n\u001b[0m",
      "\u001b[1;31mNameError\u001b[0m: name 'library' is not defined"
     ]
    }
   ],
   "source": [
    "install.packages('FactoClass')\n",
    "library(FactoClass)"
   ]
  },
  {
   "cell_type": "markdown",
   "metadata": {},
   "source": [
    "### <span style=\"color:#4CC9F0\">Tabla de datos **Y**</span>\n"
   ]
  },
  {
   "cell_type": "code",
   "execution_count": null,
   "metadata": {
    "id": "eo6Efj56uE0Z",
    "outputId": "290fa5b9-2a77-4c44-98dc-0383fb32bc66"
   },
   "outputs": [
    {
     "name": "stdout",
     "output_type": "stream",
     "text": [
      "[1] \"Names\"\n"
     ]
    },
    {
     "data": {
      "text/html": [
       "<ol class=list-inline>\n",
       "\t<li>'carr'</li>\n",
       "\t<li>'mate'</li>\n",
       "\t<li>'cien'</li>\n",
       "\t<li>'soci'</li>\n",
       "\t<li>'text'</li>\n",
       "\t<li>'imag'</li>\n",
       "\t<li>'exam'</li>\n",
       "\t<li>'gene'</li>\n",
       "\t<li>'estr'</li>\n",
       "\t<li>'orig'</li>\n",
       "\t<li>'edad'</li>\n",
       "\t<li>'niLE'</li>\n",
       "\t<li>'niMa'</li>\n",
       "\t<li>'stra'</li>\n",
       "\t<li>'age'</li>\n",
       "</ol>\n"
      ],
      "text/latex": [
       "\\begin{enumerate*}\n",
       "\\item 'carr'\n",
       "\\item 'mate'\n",
       "\\item 'cien'\n",
       "\\item 'soci'\n",
       "\\item 'text'\n",
       "\\item 'imag'\n",
       "\\item 'exam'\n",
       "\\item 'gene'\n",
       "\\item 'estr'\n",
       "\\item 'orig'\n",
       "\\item 'edad'\n",
       "\\item 'niLE'\n",
       "\\item 'niMa'\n",
       "\\item 'stra'\n",
       "\\item 'age'\n",
       "\\end{enumerate*}\n"
      ],
      "text/markdown": [
       "1. 'carr'\n",
       "2. 'mate'\n",
       "3. 'cien'\n",
       "4. 'soci'\n",
       "5. 'text'\n",
       "6. 'imag'\n",
       "7. 'exam'\n",
       "8. 'gene'\n",
       "9. 'estr'\n",
       "10. 'orig'\n",
       "11. 'edad'\n",
       "12. 'niLE'\n",
       "13. 'niMa'\n",
       "14. 'stra'\n",
       "15. 'age'\n",
       "\n",
       "\n"
      ],
      "text/plain": [
       " [1] \"carr\" \"mate\" \"cien\" \"soci\" \"text\" \"imag\" \"exam\" \"gene\" \"estr\" \"orig\"\n",
       "[11] \"edad\" \"niLE\" \"niMa\" \"stra\" \"age\" "
      ]
     },
     "metadata": {},
     "output_type": "display_data"
    },
    {
     "data": {
      "text/html": [
       "'Dimensión de Y: 445 x 4'"
      ],
      "text/latex": [
       "'Dimensión de Y: 445 x 4'"
      ],
      "text/markdown": [
       "'Dimensión de Y: 445 x 4'"
      ],
      "text/plain": [
       "[1] \"Dimensión de Y: 445 x 4\""
      ]
     },
     "metadata": {},
     "output_type": "display_data"
    }
   ],
   "source": [
    "data(admi)\n",
    "print(\"Names\")\n",
    "names(admi)\n",
    "\n",
    "Y<-admi[,8:11] #tomamos las columnas genero, estrato, origen y edad\n",
    "paste(\"Dimensión de Y:\",dim(Y)[1],\"x\",dim(Y)[2])"
   ]
  },
  {
   "cell_type": "code",
   "execution_count": 17,
   "metadata": {},
   "outputs": [
    {
     "data": {
      "text/html": [
       "<ol class=list-inline>\n",
       "\t<li>25</li>\n",
       "\t<li>50</li>\n",
       "\t<li>75</li>\n",
       "\t<li>100</li>\n",
       "\t<li>125</li>\n",
       "\t<li>150</li>\n",
       "\t<li>175</li>\n",
       "\t<li>200</li>\n",
       "\t<li>225</li>\n",
       "\t<li>250</li>\n",
       "\t<li>275</li>\n",
       "\t<li>300</li>\n",
       "\t<li>325</li>\n",
       "\t<li>350</li>\n",
       "\t<li>375</li>\n",
       "\t<li>400</li>\n",
       "\t<li>425</li>\n",
       "</ol>\n"
      ],
      "text/latex": [
       "\\begin{enumerate*}\n",
       "\\item 25\n",
       "\\item 50\n",
       "\\item 75\n",
       "\\item 100\n",
       "\\item 125\n",
       "\\item 150\n",
       "\\item 175\n",
       "\\item 200\n",
       "\\item 225\n",
       "\\item 250\n",
       "\\item 275\n",
       "\\item 300\n",
       "\\item 325\n",
       "\\item 350\n",
       "\\item 375\n",
       "\\item 400\n",
       "\\item 425\n",
       "\\end{enumerate*}\n"
      ],
      "text/markdown": [
       "1. 25\n",
       "2. 50\n",
       "3. 75\n",
       "4. 100\n",
       "5. 125\n",
       "6. 150\n",
       "7. 175\n",
       "8. 200\n",
       "9. 225\n",
       "10. 250\n",
       "11. 275\n",
       "12. 300\n",
       "13. 325\n",
       "14. 350\n",
       "15. 375\n",
       "16. 400\n",
       "17. 425\n",
       "\n",
       "\n"
      ],
      "text/plain": [
       " [1]  25  50  75 100 125 150 175 200 225 250 275 300 325 350 375 400 425"
      ]
     },
     "metadata": {},
     "output_type": "display_data"
    },
    {
     "data": {
      "text/html": [
       "<table>\n",
       "<thead><tr><th></th><th scope=col>gene</th><th scope=col>estr</th><th scope=col>orig</th><th scope=col>edad</th></tr></thead>\n",
       "<tbody>\n",
       "\t<tr><th scope=row>25</th><td>F    </td><td>medio</td><td>Otro </td><td>a17  </td></tr>\n",
       "\t<tr><th scope=row>50</th><td>M    </td><td>bajo </td><td>Bogo </td><td>a18  </td></tr>\n",
       "\t<tr><th scope=row>75</th><td>M    </td><td>bajo </td><td>Bogo </td><td>a17  </td></tr>\n",
       "\t<tr><th scope=row>100</th><td>M    </td><td>medio</td><td>Bogo </td><td>a18  </td></tr>\n",
       "\t<tr><th scope=row>125</th><td>F    </td><td>medio</td><td>Otro </td><td>a17  </td></tr>\n",
       "\t<tr><th scope=row>150</th><td>F    </td><td>bajo </td><td>Bogo </td><td>a16m </td></tr>\n",
       "\t<tr><th scope=row>175</th><td>M    </td><td>alto </td><td>Bogo </td><td>a19M </td></tr>\n",
       "\t<tr><th scope=row>200</th><td>F    </td><td>bajo </td><td>Otro </td><td>a17  </td></tr>\n",
       "\t<tr><th scope=row>225</th><td>M    </td><td>alto </td><td>Otro </td><td>a16m </td></tr>\n",
       "\t<tr><th scope=row>250</th><td>M    </td><td>alto </td><td>Bogo </td><td>a17  </td></tr>\n",
       "\t<tr><th scope=row>275</th><td>M    </td><td>bajo </td><td>Bogo </td><td>a17  </td></tr>\n",
       "\t<tr><th scope=row>300</th><td>M    </td><td>bajo </td><td>Otro </td><td>a19M </td></tr>\n",
       "\t<tr><th scope=row>325</th><td>M    </td><td>alto </td><td>Bogo </td><td>a17  </td></tr>\n",
       "\t<tr><th scope=row>350</th><td>M    </td><td>medio</td><td>Bogo </td><td>a19M </td></tr>\n",
       "\t<tr><th scope=row>375</th><td>M    </td><td>medio</td><td>Bogo </td><td>a19M </td></tr>\n",
       "\t<tr><th scope=row>400</th><td>F    </td><td>bajo </td><td>Bogo </td><td>a18  </td></tr>\n",
       "\t<tr><th scope=row>425</th><td>M    </td><td>alto </td><td>Bogo </td><td>a16m </td></tr>\n",
       "</tbody>\n",
       "</table>\n"
      ],
      "text/latex": [
       "\\begin{tabular}{r|llll}\n",
       "  & gene & estr & orig & edad\\\\\n",
       "\\hline\n",
       "\t25 & F     & medio & Otro  & a17  \\\\\n",
       "\t50 & M     & bajo  & Bogo  & a18  \\\\\n",
       "\t75 & M     & bajo  & Bogo  & a17  \\\\\n",
       "\t100 & M     & medio & Bogo  & a18  \\\\\n",
       "\t125 & F     & medio & Otro  & a17  \\\\\n",
       "\t150 & F     & bajo  & Bogo  & a16m \\\\\n",
       "\t175 & M     & alto  & Bogo  & a19M \\\\\n",
       "\t200 & F     & bajo  & Otro  & a17  \\\\\n",
       "\t225 & M     & alto  & Otro  & a16m \\\\\n",
       "\t250 & M     & alto  & Bogo  & a17  \\\\\n",
       "\t275 & M     & bajo  & Bogo  & a17  \\\\\n",
       "\t300 & M     & bajo  & Otro  & a19M \\\\\n",
       "\t325 & M     & alto  & Bogo  & a17  \\\\\n",
       "\t350 & M     & medio & Bogo  & a19M \\\\\n",
       "\t375 & M     & medio & Bogo  & a19M \\\\\n",
       "\t400 & F     & bajo  & Bogo  & a18  \\\\\n",
       "\t425 & M     & alto  & Bogo  & a16m \\\\\n",
       "\\end{tabular}\n"
      ],
      "text/markdown": [
       "\n",
       "| <!--/--> | gene | estr | orig | edad |\n",
       "|---|---|---|---|---|\n",
       "| 25 | F     | medio | Otro  | a17   |\n",
       "| 50 | M     | bajo  | Bogo  | a18   |\n",
       "| 75 | M     | bajo  | Bogo  | a17   |\n",
       "| 100 | M     | medio | Bogo  | a18   |\n",
       "| 125 | F     | medio | Otro  | a17   |\n",
       "| 150 | F     | bajo  | Bogo  | a16m  |\n",
       "| 175 | M     | alto  | Bogo  | a19M  |\n",
       "| 200 | F     | bajo  | Otro  | a17   |\n",
       "| 225 | M     | alto  | Otro  | a16m  |\n",
       "| 250 | M     | alto  | Bogo  | a17   |\n",
       "| 275 | M     | bajo  | Bogo  | a17   |\n",
       "| 300 | M     | bajo  | Otro  | a19M  |\n",
       "| 325 | M     | alto  | Bogo  | a17   |\n",
       "| 350 | M     | medio | Bogo  | a19M  |\n",
       "| 375 | M     | medio | Bogo  | a19M  |\n",
       "| 400 | F     | bajo  | Bogo  | a18   |\n",
       "| 425 | M     | alto  | Bogo  | a16m  |\n",
       "\n"
      ],
      "text/plain": [
       "    gene estr  orig edad\n",
       "25  F    medio Otro a17 \n",
       "50  M    bajo  Bogo a18 \n",
       "75  M    bajo  Bogo a17 \n",
       "100 M    medio Bogo a18 \n",
       "125 F    medio Otro a17 \n",
       "150 F    bajo  Bogo a16m\n",
       "175 M    alto  Bogo a19M\n",
       "200 F    bajo  Otro a17 \n",
       "225 M    alto  Otro a16m\n",
       "250 M    alto  Bogo a17 \n",
       "275 M    bajo  Bogo a17 \n",
       "300 M    bajo  Otro a19M\n",
       "325 M    alto  Bogo a17 \n",
       "350 M    medio Bogo a19M\n",
       "375 M    medio Bogo a19M\n",
       "400 F    bajo  Bogo a18 \n",
       "425 M    alto  Bogo a16m"
      ]
     },
     "metadata": {},
     "output_type": "display_data"
    }
   ],
   "source": [
    "# estracto de la tabla: múltiplo de 25\n",
    "sel<-seq(25,425,25)\n",
    "sel\n",
    "Y[sel,]"
   ]
  },
  {
   "cell_type": "markdown",
   "metadata": {},
   "source": [
    "### <span style=\"color:#4CC9F0\">Tabla disyuntiva completa (TDC): **Z** </span>\n"
   ]
  },
  {
   "cell_type": "code",
   "execution_count": 18,
   "metadata": {
    "colab": {
     "base_uri": "https://localhost:8080/",
     "height": 189
    },
    "id": "gyqGaZuP8SXZ",
    "outputId": "a0a5a87c-6653-46c8-d56f-035bd1b4009e"
   },
   "outputs": [
    {
     "name": "stdout",
     "output_type": "stream",
     "text": [
      "[1] \"Dimensión de Z:\"\n"
     ]
    },
    {
     "data": {
      "text/html": [
       "<ol class=list-inline>\n",
       "\t<li>445</li>\n",
       "\t<li>12</li>\n",
       "</ol>\n"
      ],
      "text/latex": [
       "\\begin{enumerate*}\n",
       "\\item 445\n",
       "\\item 12\n",
       "\\end{enumerate*}\n"
      ],
      "text/markdown": [
       "1. 445\n",
       "2. 12\n",
       "\n",
       "\n"
      ],
      "text/plain": [
       "[1] 445  12"
      ]
     },
     "metadata": {},
     "output_type": "display_data"
    },
    {
     "data": {
      "text/html": [
       "<table>\n",
       "<thead><tr><th></th><th scope=col>F</th><th scope=col>M</th><th scope=col>baj</th><th scope=col>med</th><th scope=col>alt</th><th scope=col>Bog</th><th scope=col>Cun</th><th scope=col>Otr</th><th scope=col>a16</th><th scope=col>a17</th><th scope=col>a18</th><th scope=col>a19</th></tr></thead>\n",
       "<tbody>\n",
       "\t<tr><th scope=row>25</th><td>1</td><td>0</td><td>0</td><td>1</td><td>0</td><td>0</td><td>0</td><td>1</td><td>0</td><td>1</td><td>0</td><td>0</td></tr>\n",
       "\t<tr><th scope=row>50</th><td>0</td><td>1</td><td>1</td><td>0</td><td>0</td><td>1</td><td>0</td><td>0</td><td>0</td><td>0</td><td>1</td><td>0</td></tr>\n",
       "\t<tr><th scope=row>75</th><td>0</td><td>1</td><td>1</td><td>0</td><td>0</td><td>1</td><td>0</td><td>0</td><td>0</td><td>1</td><td>0</td><td>0</td></tr>\n",
       "\t<tr><th scope=row>100</th><td>0</td><td>1</td><td>0</td><td>1</td><td>0</td><td>1</td><td>0</td><td>0</td><td>0</td><td>0</td><td>1</td><td>0</td></tr>\n",
       "\t<tr><th scope=row>125</th><td>1</td><td>0</td><td>0</td><td>1</td><td>0</td><td>0</td><td>0</td><td>1</td><td>0</td><td>1</td><td>0</td><td>0</td></tr>\n",
       "\t<tr><th scope=row>150</th><td>1</td><td>0</td><td>1</td><td>0</td><td>0</td><td>1</td><td>0</td><td>0</td><td>1</td><td>0</td><td>0</td><td>0</td></tr>\n",
       "\t<tr><th scope=row>175</th><td>0</td><td>1</td><td>0</td><td>0</td><td>1</td><td>1</td><td>0</td><td>0</td><td>0</td><td>0</td><td>0</td><td>1</td></tr>\n",
       "\t<tr><th scope=row>200</th><td>1</td><td>0</td><td>1</td><td>0</td><td>0</td><td>0</td><td>0</td><td>1</td><td>0</td><td>1</td><td>0</td><td>0</td></tr>\n",
       "\t<tr><th scope=row>225</th><td>0</td><td>1</td><td>0</td><td>0</td><td>1</td><td>0</td><td>0</td><td>1</td><td>1</td><td>0</td><td>0</td><td>0</td></tr>\n",
       "\t<tr><th scope=row>250</th><td>0</td><td>1</td><td>0</td><td>0</td><td>1</td><td>1</td><td>0</td><td>0</td><td>0</td><td>1</td><td>0</td><td>0</td></tr>\n",
       "\t<tr><th scope=row>275</th><td>0</td><td>1</td><td>1</td><td>0</td><td>0</td><td>1</td><td>0</td><td>0</td><td>0</td><td>1</td><td>0</td><td>0</td></tr>\n",
       "\t<tr><th scope=row>300</th><td>0</td><td>1</td><td>1</td><td>0</td><td>0</td><td>0</td><td>0</td><td>1</td><td>0</td><td>0</td><td>0</td><td>1</td></tr>\n",
       "\t<tr><th scope=row>325</th><td>0</td><td>1</td><td>0</td><td>0</td><td>1</td><td>1</td><td>0</td><td>0</td><td>0</td><td>1</td><td>0</td><td>0</td></tr>\n",
       "\t<tr><th scope=row>350</th><td>0</td><td>1</td><td>0</td><td>1</td><td>0</td><td>1</td><td>0</td><td>0</td><td>0</td><td>0</td><td>0</td><td>1</td></tr>\n",
       "\t<tr><th scope=row>375</th><td>0</td><td>1</td><td>0</td><td>1</td><td>0</td><td>1</td><td>0</td><td>0</td><td>0</td><td>0</td><td>0</td><td>1</td></tr>\n",
       "\t<tr><th scope=row>400</th><td>1</td><td>0</td><td>1</td><td>0</td><td>0</td><td>1</td><td>0</td><td>0</td><td>0</td><td>0</td><td>1</td><td>0</td></tr>\n",
       "\t<tr><th scope=row>425</th><td>0</td><td>1</td><td>0</td><td>0</td><td>1</td><td>1</td><td>0</td><td>0</td><td>1</td><td>0</td><td>0</td><td>0</td></tr>\n",
       "</tbody>\n",
       "</table>\n"
      ],
      "text/latex": [
       "\\begin{tabular}{r|llllllllllll}\n",
       "  & F & M & baj & med & alt & Bog & Cun & Otr & a16 & a17 & a18 & a19\\\\\n",
       "\\hline\n",
       "\t25 & 1 & 0 & 0 & 1 & 0 & 0 & 0 & 1 & 0 & 1 & 0 & 0\\\\\n",
       "\t50 & 0 & 1 & 1 & 0 & 0 & 1 & 0 & 0 & 0 & 0 & 1 & 0\\\\\n",
       "\t75 & 0 & 1 & 1 & 0 & 0 & 1 & 0 & 0 & 0 & 1 & 0 & 0\\\\\n",
       "\t100 & 0 & 1 & 0 & 1 & 0 & 1 & 0 & 0 & 0 & 0 & 1 & 0\\\\\n",
       "\t125 & 1 & 0 & 0 & 1 & 0 & 0 & 0 & 1 & 0 & 1 & 0 & 0\\\\\n",
       "\t150 & 1 & 0 & 1 & 0 & 0 & 1 & 0 & 0 & 1 & 0 & 0 & 0\\\\\n",
       "\t175 & 0 & 1 & 0 & 0 & 1 & 1 & 0 & 0 & 0 & 0 & 0 & 1\\\\\n",
       "\t200 & 1 & 0 & 1 & 0 & 0 & 0 & 0 & 1 & 0 & 1 & 0 & 0\\\\\n",
       "\t225 & 0 & 1 & 0 & 0 & 1 & 0 & 0 & 1 & 1 & 0 & 0 & 0\\\\\n",
       "\t250 & 0 & 1 & 0 & 0 & 1 & 1 & 0 & 0 & 0 & 1 & 0 & 0\\\\\n",
       "\t275 & 0 & 1 & 1 & 0 & 0 & 1 & 0 & 0 & 0 & 1 & 0 & 0\\\\\n",
       "\t300 & 0 & 1 & 1 & 0 & 0 & 0 & 0 & 1 & 0 & 0 & 0 & 1\\\\\n",
       "\t325 & 0 & 1 & 0 & 0 & 1 & 1 & 0 & 0 & 0 & 1 & 0 & 0\\\\\n",
       "\t350 & 0 & 1 & 0 & 1 & 0 & 1 & 0 & 0 & 0 & 0 & 0 & 1\\\\\n",
       "\t375 & 0 & 1 & 0 & 1 & 0 & 1 & 0 & 0 & 0 & 0 & 0 & 1\\\\\n",
       "\t400 & 1 & 0 & 1 & 0 & 0 & 1 & 0 & 0 & 0 & 0 & 1 & 0\\\\\n",
       "\t425 & 0 & 1 & 0 & 0 & 1 & 1 & 0 & 0 & 1 & 0 & 0 & 0\\\\\n",
       "\\end{tabular}\n"
      ],
      "text/markdown": [
       "\n",
       "| <!--/--> | F | M | baj | med | alt | Bog | Cun | Otr | a16 | a17 | a18 | a19 |\n",
       "|---|---|---|---|---|---|---|---|---|---|---|---|---|\n",
       "| 25 | 1 | 0 | 0 | 1 | 0 | 0 | 0 | 1 | 0 | 1 | 0 | 0 |\n",
       "| 50 | 0 | 1 | 1 | 0 | 0 | 1 | 0 | 0 | 0 | 0 | 1 | 0 |\n",
       "| 75 | 0 | 1 | 1 | 0 | 0 | 1 | 0 | 0 | 0 | 1 | 0 | 0 |\n",
       "| 100 | 0 | 1 | 0 | 1 | 0 | 1 | 0 | 0 | 0 | 0 | 1 | 0 |\n",
       "| 125 | 1 | 0 | 0 | 1 | 0 | 0 | 0 | 1 | 0 | 1 | 0 | 0 |\n",
       "| 150 | 1 | 0 | 1 | 0 | 0 | 1 | 0 | 0 | 1 | 0 | 0 | 0 |\n",
       "| 175 | 0 | 1 | 0 | 0 | 1 | 1 | 0 | 0 | 0 | 0 | 0 | 1 |\n",
       "| 200 | 1 | 0 | 1 | 0 | 0 | 0 | 0 | 1 | 0 | 1 | 0 | 0 |\n",
       "| 225 | 0 | 1 | 0 | 0 | 1 | 0 | 0 | 1 | 1 | 0 | 0 | 0 |\n",
       "| 250 | 0 | 1 | 0 | 0 | 1 | 1 | 0 | 0 | 0 | 1 | 0 | 0 |\n",
       "| 275 | 0 | 1 | 1 | 0 | 0 | 1 | 0 | 0 | 0 | 1 | 0 | 0 |\n",
       "| 300 | 0 | 1 | 1 | 0 | 0 | 0 | 0 | 1 | 0 | 0 | 0 | 1 |\n",
       "| 325 | 0 | 1 | 0 | 0 | 1 | 1 | 0 | 0 | 0 | 1 | 0 | 0 |\n",
       "| 350 | 0 | 1 | 0 | 1 | 0 | 1 | 0 | 0 | 0 | 0 | 0 | 1 |\n",
       "| 375 | 0 | 1 | 0 | 1 | 0 | 1 | 0 | 0 | 0 | 0 | 0 | 1 |\n",
       "| 400 | 1 | 0 | 1 | 0 | 0 | 1 | 0 | 0 | 0 | 0 | 1 | 0 |\n",
       "| 425 | 0 | 1 | 0 | 0 | 1 | 1 | 0 | 0 | 1 | 0 | 0 | 0 |\n",
       "\n"
      ],
      "text/plain": [
       "    F M baj med alt Bog Cun Otr a16 a17 a18 a19\n",
       "25  1 0 0   1   0   0   0   1   0   1   0   0  \n",
       "50  0 1 1   0   0   1   0   0   0   0   1   0  \n",
       "75  0 1 1   0   0   1   0   0   0   1   0   0  \n",
       "100 0 1 0   1   0   1   0   0   0   0   1   0  \n",
       "125 1 0 0   1   0   0   0   1   0   1   0   0  \n",
       "150 1 0 1   0   0   1   0   0   1   0   0   0  \n",
       "175 0 1 0   0   1   1   0   0   0   0   0   1  \n",
       "200 1 0 1   0   0   0   0   1   0   1   0   0  \n",
       "225 0 1 0   0   1   0   0   1   1   0   0   0  \n",
       "250 0 1 0   0   1   1   0   0   0   1   0   0  \n",
       "275 0 1 1   0   0   1   0   0   0   1   0   0  \n",
       "300 0 1 1   0   0   0   0   1   0   0   0   1  \n",
       "325 0 1 0   0   1   1   0   0   0   1   0   0  \n",
       "350 0 1 0   1   0   1   0   0   0   0   0   1  \n",
       "375 0 1 0   1   0   1   0   0   0   0   0   1  \n",
       "400 1 0 1   0   0   1   0   0   0   0   1   0  \n",
       "425 0 1 0   0   1   1   0   0   1   0   0   0  "
      ]
     },
     "metadata": {},
     "output_type": "display_data"
    },
    {
     "data": {
      "text/html": [
       "<table>\n",
       "<thead><tr><th></th><th scope=col>gene</th><th scope=col>estr</th><th scope=col>orig</th><th scope=col>edad</th></tr></thead>\n",
       "<tbody>\n",
       "\t<tr><th scope=row>25</th><td>F    </td><td>medio</td><td>Otro </td><td>a17  </td></tr>\n",
       "\t<tr><th scope=row>50</th><td>M    </td><td>bajo </td><td>Bogo </td><td>a18  </td></tr>\n",
       "\t<tr><th scope=row>75</th><td>M    </td><td>bajo </td><td>Bogo </td><td>a17  </td></tr>\n",
       "\t<tr><th scope=row>100</th><td>M    </td><td>medio</td><td>Bogo </td><td>a18  </td></tr>\n",
       "</tbody>\n",
       "</table>\n"
      ],
      "text/latex": [
       "\\begin{tabular}{r|llll}\n",
       "  & gene & estr & orig & edad\\\\\n",
       "\\hline\n",
       "\t25 & F     & medio & Otro  & a17  \\\\\n",
       "\t50 & M     & bajo  & Bogo  & a18  \\\\\n",
       "\t75 & M     & bajo  & Bogo  & a17  \\\\\n",
       "\t100 & M     & medio & Bogo  & a18  \\\\\n",
       "\\end{tabular}\n"
      ],
      "text/markdown": [
       "\n",
       "| <!--/--> | gene | estr | orig | edad |\n",
       "|---|---|---|---|---|\n",
       "| 25 | F     | medio | Otro  | a17   |\n",
       "| 50 | M     | bajo  | Bogo  | a18   |\n",
       "| 75 | M     | bajo  | Bogo  | a17   |\n",
       "| 100 | M     | medio | Bogo  | a18   |\n",
       "\n"
      ],
      "text/plain": [
       "    gene estr  orig edad\n",
       "25  F    medio Otro a17 \n",
       "50  M    bajo  Bogo a18 \n",
       "75  M    bajo  Bogo a17 \n",
       "100 M    medio Bogo a18 "
      ]
     },
     "metadata": {},
     "output_type": "display_data"
    },
    {
     "data": {
      "text/html": [
       "<table>\n",
       "<thead><tr><th></th><th scope=col>F</th><th scope=col>M</th><th scope=col>baj</th><th scope=col>med</th><th scope=col>alt</th><th scope=col>Bog</th><th scope=col>Cun</th><th scope=col>Otr</th><th scope=col>a16</th><th scope=col>a17</th><th scope=col>a18</th><th scope=col>a19</th></tr></thead>\n",
       "<tbody>\n",
       "\t<tr><th scope=row>25</th><td>1</td><td>0</td><td>0</td><td>1</td><td>0</td><td>0</td><td>0</td><td>1</td><td>0</td><td>1</td><td>0</td><td>0</td></tr>\n",
       "\t<tr><th scope=row>50</th><td>0</td><td>1</td><td>1</td><td>0</td><td>0</td><td>1</td><td>0</td><td>0</td><td>0</td><td>0</td><td>1</td><td>0</td></tr>\n",
       "\t<tr><th scope=row>75</th><td>0</td><td>1</td><td>1</td><td>0</td><td>0</td><td>1</td><td>0</td><td>0</td><td>0</td><td>1</td><td>0</td><td>0</td></tr>\n",
       "\t<tr><th scope=row>100</th><td>0</td><td>1</td><td>0</td><td>1</td><td>0</td><td>1</td><td>0</td><td>0</td><td>0</td><td>0</td><td>1</td><td>0</td></tr>\n",
       "</tbody>\n",
       "</table>\n"
      ],
      "text/latex": [
       "\\begin{tabular}{r|llllllllllll}\n",
       "  & F & M & baj & med & alt & Bog & Cun & Otr & a16 & a17 & a18 & a19\\\\\n",
       "\\hline\n",
       "\t25 & 1 & 0 & 0 & 1 & 0 & 0 & 0 & 1 & 0 & 1 & 0 & 0\\\\\n",
       "\t50 & 0 & 1 & 1 & 0 & 0 & 1 & 0 & 0 & 0 & 0 & 1 & 0\\\\\n",
       "\t75 & 0 & 1 & 1 & 0 & 0 & 1 & 0 & 0 & 0 & 1 & 0 & 0\\\\\n",
       "\t100 & 0 & 1 & 0 & 1 & 0 & 1 & 0 & 0 & 0 & 0 & 1 & 0\\\\\n",
       "\\end{tabular}\n"
      ],
      "text/markdown": [
       "\n",
       "| <!--/--> | F | M | baj | med | alt | Bog | Cun | Otr | a16 | a17 | a18 | a19 |\n",
       "|---|---|---|---|---|---|---|---|---|---|---|---|---|\n",
       "| 25 | 1 | 0 | 0 | 1 | 0 | 0 | 0 | 1 | 0 | 1 | 0 | 0 |\n",
       "| 50 | 0 | 1 | 1 | 0 | 0 | 1 | 0 | 0 | 0 | 0 | 1 | 0 |\n",
       "| 75 | 0 | 1 | 1 | 0 | 0 | 1 | 0 | 0 | 0 | 1 | 0 | 0 |\n",
       "| 100 | 0 | 1 | 0 | 1 | 0 | 1 | 0 | 0 | 0 | 0 | 1 | 0 |\n",
       "\n"
      ],
      "text/plain": [
       "    F M baj med alt Bog Cun Otr a16 a17 a18 a19\n",
       "25  1 0 0   1   0   0   0   1   0   1   0   0  \n",
       "50  0 1 1   0   0   1   0   0   0   0   1   0  \n",
       "75  0 1 1   0   0   1   0   0   0   1   0   0  \n",
       "100 0 1 0   1   0   1   0   0   0   0   1   0  "
      ]
     },
     "metadata": {},
     "output_type": "display_data"
    }
   ],
   "source": [
    "Z<-acm.disjonctif(Y)\n",
    "print(\"Dimensión de Z:\")\n",
    "dim(Z)\n",
    "names(Z)<-substr(names(Z),6,8)\n",
    "\n",
    "Z[sel,] #sel<-seq(25,425,25)\n",
    "Y[sel[1:4],]\n",
    "Z[sel[1:4],]"
   ]
  },
  {
   "cell_type": "markdown",
   "metadata": {
    "id": "Ilcura-rqvT-"
   },
   "source": [
    "- La TDC **Z** es una yuxtaposición de *s* tablas, donde *s* es el número de variables:\n",
    "$$\\mathbf{Z}=[\\mathbf{Z}_1 \\ \\mathbf{Z}_2 \\ \\cdots \\mathbf{Z}_q \\ \\cdots \\ \\mathbf{Z}_s]$$\n",
    "    - Una variable cualitativa $q$  $\\rightarrow$ Genera partición  de los $n$ individuos en $p_q$ grupos,  $p_q$ = número de categorías de la variable $q$. \n",
    "    - En cada fila de $\\mathbf{Z}_q$ siempre hay un 1 y sólo un 1. \n",
    "    - La suma en cada fila de $\\mathbf{Z}_q$  es de 1. \n",
    "    - Como hay $s$ submatrices $\\mathbf{Z}_q$, la suma de cada fila de $\\mathbf{Z}$ es $s$, es decir que su marginal fila es un vector de $n$ veces $s$ \n",
    "    - El total de **Z** es $ns$. \n",
    "    - En el ejemplo $s=4$,  $n=445$ y el total de la tabla $4*445=1780$.\n",
    "    - La suma de cada columna de **Z** es el número de individuos que asumen la categoría $j$ que se denota $n_j$. \n",
    "    - La $\\sum\\limits_{j \\in Z_q} n_j = n$. $Z_q$ es el conjunto de categorías de la variable $q$. \n"
   ]
  },
  {
   "cell_type": "markdown",
   "metadata": {},
   "source": [
    "### <span style=\"color:#4CC9F0\">Tabla de Burt</span>\n"
   ]
  },
  {
   "cell_type": "code",
   "execution_count": 19,
   "metadata": {
    "id": "0B35IaJFUX8x",
    "outputId": "9a4cd993-ce0b-4933-cf2d-12458c264efa"
   },
   "outputs": [
    {
     "data": {
      "text/html": [
       "<table>\n",
       "<thead><tr><th></th><th scope=col>F</th><th scope=col>M</th><th scope=col>baj</th><th scope=col>med</th><th scope=col>alt</th><th scope=col>Bog</th><th scope=col>Cun</th><th scope=col>Otr</th><th scope=col>a16</th><th scope=col>a17</th><th scope=col>a18</th><th scope=col>a19</th></tr></thead>\n",
       "<tbody>\n",
       "\t<tr><th scope=row>F</th><td>128</td><td>  0</td><td> 46</td><td> 59</td><td>23 </td><td> 89</td><td> 9 </td><td>30 </td><td> 46</td><td> 45</td><td>18 </td><td> 19</td></tr>\n",
       "\t<tr><th scope=row>M</th><td>  0</td><td>317</td><td>133</td><td>126</td><td>58 </td><td>222</td><td>29 </td><td>66 </td><td> 72</td><td>126</td><td>38 </td><td> 81</td></tr>\n",
       "\t<tr><th scope=row>baj</th><td> 46</td><td>133</td><td>179</td><td>  0</td><td> 0 </td><td> 95</td><td>22 </td><td>62 </td><td> 44</td><td> 58</td><td>22 </td><td> 55</td></tr>\n",
       "\t<tr><th scope=row>med</th><td> 59</td><td>126</td><td>  0</td><td>185</td><td> 0 </td><td>151</td><td>11 </td><td>23 </td><td> 47</td><td> 74</td><td>26 </td><td> 38</td></tr>\n",
       "\t<tr><th scope=row>alt</th><td> 23</td><td> 58</td><td>  0</td><td>  0</td><td>81 </td><td> 65</td><td> 5 </td><td>11 </td><td> 27</td><td> 39</td><td> 8 </td><td>  7</td></tr>\n",
       "\t<tr><th scope=row>Bog</th><td> 89</td><td>222</td><td> 95</td><td>151</td><td>65 </td><td>311</td><td> 0 </td><td> 0 </td><td> 70</td><td>116</td><td>47 </td><td> 78</td></tr>\n",
       "\t<tr><th scope=row>Cun</th><td>  9</td><td> 29</td><td> 22</td><td> 11</td><td> 5 </td><td>  0</td><td>38 </td><td> 0 </td><td>  9</td><td> 19</td><td> 2 </td><td>  8</td></tr>\n",
       "\t<tr><th scope=row>Otr</th><td> 30</td><td> 66</td><td> 62</td><td> 23</td><td>11 </td><td>  0</td><td> 0 </td><td>96 </td><td> 39</td><td> 36</td><td> 7 </td><td> 14</td></tr>\n",
       "\t<tr><th scope=row>a16</th><td> 46</td><td> 72</td><td> 44</td><td> 47</td><td>27 </td><td> 70</td><td> 9 </td><td>39 </td><td>118</td><td>  0</td><td> 0 </td><td>  0</td></tr>\n",
       "\t<tr><th scope=row>a17</th><td> 45</td><td>126</td><td> 58</td><td> 74</td><td>39 </td><td>116</td><td>19 </td><td>36 </td><td>  0</td><td>171</td><td> 0 </td><td>  0</td></tr>\n",
       "\t<tr><th scope=row>a18</th><td> 18</td><td> 38</td><td> 22</td><td> 26</td><td> 8 </td><td> 47</td><td> 2 </td><td> 7 </td><td>  0</td><td>  0</td><td>56 </td><td>  0</td></tr>\n",
       "\t<tr><th scope=row>a19</th><td> 19</td><td> 81</td><td> 55</td><td> 38</td><td> 7 </td><td> 78</td><td> 8 </td><td>14 </td><td>  0</td><td>  0</td><td> 0 </td><td>100</td></tr>\n",
       "</tbody>\n",
       "</table>\n"
      ],
      "text/latex": [
       "\\begin{tabular}{r|llllllllllll}\n",
       "  & F & M & baj & med & alt & Bog & Cun & Otr & a16 & a17 & a18 & a19\\\\\n",
       "\\hline\n",
       "\tF & 128 &   0 &  46 &  59 & 23  &  89 &  9  & 30  &  46 &  45 & 18  &  19\\\\\n",
       "\tM &   0 & 317 & 133 & 126 & 58  & 222 & 29  & 66  &  72 & 126 & 38  &  81\\\\\n",
       "\tbaj &  46 & 133 & 179 &   0 &  0  &  95 & 22  & 62  &  44 &  58 & 22  &  55\\\\\n",
       "\tmed &  59 & 126 &   0 & 185 &  0  & 151 & 11  & 23  &  47 &  74 & 26  &  38\\\\\n",
       "\talt &  23 &  58 &   0 &   0 & 81  &  65 &  5  & 11  &  27 &  39 &  8  &   7\\\\\n",
       "\tBog &  89 & 222 &  95 & 151 & 65  & 311 &  0  &  0  &  70 & 116 & 47  &  78\\\\\n",
       "\tCun &   9 &  29 &  22 &  11 &  5  &   0 & 38  &  0  &   9 &  19 &  2  &   8\\\\\n",
       "\tOtr &  30 &  66 &  62 &  23 & 11  &   0 &  0  & 96  &  39 &  36 &  7  &  14\\\\\n",
       "\ta16 &  46 &  72 &  44 &  47 & 27  &  70 &  9  & 39  & 118 &   0 &  0  &   0\\\\\n",
       "\ta17 &  45 & 126 &  58 &  74 & 39  & 116 & 19  & 36  &   0 & 171 &  0  &   0\\\\\n",
       "\ta18 &  18 &  38 &  22 &  26 &  8  &  47 &  2  &  7  &   0 &   0 & 56  &   0\\\\\n",
       "\ta19 &  19 &  81 &  55 &  38 &  7  &  78 &  8  & 14  &   0 &   0 &  0  & 100\\\\\n",
       "\\end{tabular}\n"
      ],
      "text/markdown": [
       "\n",
       "| <!--/--> | F | M | baj | med | alt | Bog | Cun | Otr | a16 | a17 | a18 | a19 |\n",
       "|---|---|---|---|---|---|---|---|---|---|---|---|---|\n",
       "| F | 128 |   0 |  46 |  59 | 23  |  89 |  9  | 30  |  46 |  45 | 18  |  19 |\n",
       "| M |   0 | 317 | 133 | 126 | 58  | 222 | 29  | 66  |  72 | 126 | 38  |  81 |\n",
       "| baj |  46 | 133 | 179 |   0 |  0  |  95 | 22  | 62  |  44 |  58 | 22  |  55 |\n",
       "| med |  59 | 126 |   0 | 185 |  0  | 151 | 11  | 23  |  47 |  74 | 26  |  38 |\n",
       "| alt |  23 |  58 |   0 |   0 | 81  |  65 |  5  | 11  |  27 |  39 |  8  |   7 |\n",
       "| Bog |  89 | 222 |  95 | 151 | 65  | 311 |  0  |  0  |  70 | 116 | 47  |  78 |\n",
       "| Cun |   9 |  29 |  22 |  11 |  5  |   0 | 38  |  0  |   9 |  19 |  2  |   8 |\n",
       "| Otr |  30 |  66 |  62 |  23 | 11  |   0 |  0  | 96  |  39 |  36 |  7  |  14 |\n",
       "| a16 |  46 |  72 |  44 |  47 | 27  |  70 |  9  | 39  | 118 |   0 |  0  |   0 |\n",
       "| a17 |  45 | 126 |  58 |  74 | 39  | 116 | 19  | 36  |   0 | 171 |  0  |   0 |\n",
       "| a18 |  18 |  38 |  22 |  26 |  8  |  47 |  2  |  7  |   0 |   0 | 56  |   0 |\n",
       "| a19 |  19 |  81 |  55 |  38 |  7  |  78 |  8  | 14  |   0 |   0 |  0  | 100 |\n",
       "\n"
      ],
      "text/plain": [
       "    F   M   baj med alt Bog Cun Otr a16 a17 a18 a19\n",
       "F   128   0  46  59 23   89  9  30   46  45 18   19\n",
       "M     0 317 133 126 58  222 29  66   72 126 38   81\n",
       "baj  46 133 179   0  0   95 22  62   44  58 22   55\n",
       "med  59 126   0 185  0  151 11  23   47  74 26   38\n",
       "alt  23  58   0   0 81   65  5  11   27  39  8    7\n",
       "Bog  89 222  95 151 65  311  0   0   70 116 47   78\n",
       "Cun   9  29  22  11  5    0 38   0    9  19  2    8\n",
       "Otr  30  66  62  23 11    0  0  96   39  36  7   14\n",
       "a16  46  72  44  47 27   70  9  39  118   0  0    0\n",
       "a17  45 126  58  74 39  116 19  36    0 171  0    0\n",
       "a18  18  38  22  26  8   47  2   7    0   0 56    0\n",
       "a19  19  81  55  38  7   78  8  14    0   0  0  100"
      ]
     },
     "metadata": {},
     "output_type": "display_data"
    }
   ],
   "source": [
    "Z<-as.matrix(Z)\n",
    "B<-t(Z)%*%Z\n",
    "B"
   ]
  },
  {
   "cell_type": "markdown",
   "metadata": {
    "id": "Ku0-4Z7DUX8x"
   },
   "source": [
    "$$ \\mathbf{B}=\\mathbf{Z'}\\mathbf{Z}$$\n",
    "- **B** es de orden $p\\times p$\n",
    "- Se denota la yuxtaposición de tablas de contingencia cruzando todas las variables por parejas, como:\n",
    "$$\\mathbf{Z'}_q\\mathbf{Z}_{q'}$$\n",
    "- Bloque diagonal con matrices diagonales\n",
    " $$\\mathbf{Z'}_q\\mathbf{Z}_{q} = diag(n_j), \\ \\ \\ j \\in J_q$$ \n",
    "- La matriz diagonal con los elementos diagonales de  $\\mathbf{B}$ = suma de las columnas de **Z**:\n",
    "$$\\mathbf{D}_p = diag(n_j)$$\n",
    " \n"
   ]
  },
  {
   "cell_type": "code",
   "execution_count": 20,
   "metadata": {
    "id": "DjK95AXPUX8x",
    "outputId": "60780046-90df-472f-e76f-2cedbdc2aff8"
   },
   "outputs": [
    {
     "data": {
      "text/html": [
       "<table>\n",
       "<tbody>\n",
       "\t<tr><td>128</td><td>  0</td><td>  0</td><td>  0</td><td> 0 </td><td>  0</td><td> 0 </td><td> 0 </td><td>  0</td><td>  0</td><td> 0 </td><td>  0</td></tr>\n",
       "\t<tr><td>  0</td><td>317</td><td>  0</td><td>  0</td><td> 0 </td><td>  0</td><td> 0 </td><td> 0 </td><td>  0</td><td>  0</td><td> 0 </td><td>  0</td></tr>\n",
       "\t<tr><td>  0</td><td>  0</td><td>179</td><td>  0</td><td> 0 </td><td>  0</td><td> 0 </td><td> 0 </td><td>  0</td><td>  0</td><td> 0 </td><td>  0</td></tr>\n",
       "\t<tr><td>  0</td><td>  0</td><td>  0</td><td>185</td><td> 0 </td><td>  0</td><td> 0 </td><td> 0 </td><td>  0</td><td>  0</td><td> 0 </td><td>  0</td></tr>\n",
       "\t<tr><td>  0</td><td>  0</td><td>  0</td><td>  0</td><td>81 </td><td>  0</td><td> 0 </td><td> 0 </td><td>  0</td><td>  0</td><td> 0 </td><td>  0</td></tr>\n",
       "\t<tr><td>  0</td><td>  0</td><td>  0</td><td>  0</td><td> 0 </td><td>311</td><td> 0 </td><td> 0 </td><td>  0</td><td>  0</td><td> 0 </td><td>  0</td></tr>\n",
       "\t<tr><td>  0</td><td>  0</td><td>  0</td><td>  0</td><td> 0 </td><td>  0</td><td>38 </td><td> 0 </td><td>  0</td><td>  0</td><td> 0 </td><td>  0</td></tr>\n",
       "\t<tr><td>  0</td><td>  0</td><td>  0</td><td>  0</td><td> 0 </td><td>  0</td><td> 0 </td><td>96 </td><td>  0</td><td>  0</td><td> 0 </td><td>  0</td></tr>\n",
       "\t<tr><td>  0</td><td>  0</td><td>  0</td><td>  0</td><td> 0 </td><td>  0</td><td> 0 </td><td> 0 </td><td>118</td><td>  0</td><td> 0 </td><td>  0</td></tr>\n",
       "\t<tr><td>  0</td><td>  0</td><td>  0</td><td>  0</td><td> 0 </td><td>  0</td><td> 0 </td><td> 0 </td><td>  0</td><td>171</td><td> 0 </td><td>  0</td></tr>\n",
       "\t<tr><td>  0</td><td>  0</td><td>  0</td><td>  0</td><td> 0 </td><td>  0</td><td> 0 </td><td> 0 </td><td>  0</td><td>  0</td><td>56 </td><td>  0</td></tr>\n",
       "\t<tr><td>  0</td><td>  0</td><td>  0</td><td>  0</td><td> 0 </td><td>  0</td><td> 0 </td><td> 0 </td><td>  0</td><td>  0</td><td> 0 </td><td>100</td></tr>\n",
       "</tbody>\n",
       "</table>\n"
      ],
      "text/latex": [
       "\\begin{tabular}{llllllllllll}\n",
       "\t 128 &   0 &   0 &   0 &  0  &   0 &  0  &  0  &   0 &   0 &  0  &   0\\\\\n",
       "\t   0 & 317 &   0 &   0 &  0  &   0 &  0  &  0  &   0 &   0 &  0  &   0\\\\\n",
       "\t   0 &   0 & 179 &   0 &  0  &   0 &  0  &  0  &   0 &   0 &  0  &   0\\\\\n",
       "\t   0 &   0 &   0 & 185 &  0  &   0 &  0  &  0  &   0 &   0 &  0  &   0\\\\\n",
       "\t   0 &   0 &   0 &   0 & 81  &   0 &  0  &  0  &   0 &   0 &  0  &   0\\\\\n",
       "\t   0 &   0 &   0 &   0 &  0  & 311 &  0  &  0  &   0 &   0 &  0  &   0\\\\\n",
       "\t   0 &   0 &   0 &   0 &  0  &   0 & 38  &  0  &   0 &   0 &  0  &   0\\\\\n",
       "\t   0 &   0 &   0 &   0 &  0  &   0 &  0  & 96  &   0 &   0 &  0  &   0\\\\\n",
       "\t   0 &   0 &   0 &   0 &  0  &   0 &  0  &  0  & 118 &   0 &  0  &   0\\\\\n",
       "\t   0 &   0 &   0 &   0 &  0  &   0 &  0  &  0  &   0 & 171 &  0  &   0\\\\\n",
       "\t   0 &   0 &   0 &   0 &  0  &   0 &  0  &  0  &   0 &   0 & 56  &   0\\\\\n",
       "\t   0 &   0 &   0 &   0 &  0  &   0 &  0  &  0  &   0 &   0 &  0  & 100\\\\\n",
       "\\end{tabular}\n"
      ],
      "text/markdown": [
       "\n",
       "| 128 |   0 |   0 |   0 |  0  |   0 |  0  |  0  |   0 |   0 |  0  |   0 |\n",
       "|   0 | 317 |   0 |   0 |  0  |   0 |  0  |  0  |   0 |   0 |  0  |   0 |\n",
       "|   0 |   0 | 179 |   0 |  0  |   0 |  0  |  0  |   0 |   0 |  0  |   0 |\n",
       "|   0 |   0 |   0 | 185 |  0  |   0 |  0  |  0  |   0 |   0 |  0  |   0 |\n",
       "|   0 |   0 |   0 |   0 | 81  |   0 |  0  |  0  |   0 |   0 |  0  |   0 |\n",
       "|   0 |   0 |   0 |   0 |  0  | 311 |  0  |  0  |   0 |   0 |  0  |   0 |\n",
       "|   0 |   0 |   0 |   0 |  0  |   0 | 38  |  0  |   0 |   0 |  0  |   0 |\n",
       "|   0 |   0 |   0 |   0 |  0  |   0 |  0  | 96  |   0 |   0 |  0  |   0 |\n",
       "|   0 |   0 |   0 |   0 |  0  |   0 |  0  |  0  | 118 |   0 |  0  |   0 |\n",
       "|   0 |   0 |   0 |   0 |  0  |   0 |  0  |  0  |   0 | 171 |  0  |   0 |\n",
       "|   0 |   0 |   0 |   0 |  0  |   0 |  0  |  0  |   0 |   0 | 56  |   0 |\n",
       "|   0 |   0 |   0 |   0 |  0  |   0 |  0  |  0  |   0 |   0 |  0  | 100 |\n",
       "\n"
      ],
      "text/plain": [
       "      [,1] [,2] [,3] [,4] [,5] [,6] [,7] [,8] [,9] [,10] [,11] [,12]\n",
       " [1,] 128    0    0    0   0     0   0    0     0    0    0      0  \n",
       " [2,]   0  317    0    0   0     0   0    0     0    0    0      0  \n",
       " [3,]   0    0  179    0   0     0   0    0     0    0    0      0  \n",
       " [4,]   0    0    0  185   0     0   0    0     0    0    0      0  \n",
       " [5,]   0    0    0    0  81     0   0    0     0    0    0      0  \n",
       " [6,]   0    0    0    0   0   311   0    0     0    0    0      0  \n",
       " [7,]   0    0    0    0   0     0  38    0     0    0    0      0  \n",
       " [8,]   0    0    0    0   0     0   0   96     0    0    0      0  \n",
       " [9,]   0    0    0    0   0     0   0    0   118    0    0      0  \n",
       "[10,]   0    0    0    0   0     0   0    0     0  171    0      0  \n",
       "[11,]   0    0    0    0   0     0   0    0     0    0   56      0  \n",
       "[12,]   0    0    0    0   0     0   0    0     0    0    0    100  "
      ]
     },
     "metadata": {},
     "output_type": "display_data"
    }
   ],
   "source": [
    "# Matriz diagonal con elementos de la tabla de BURT (B)\n",
    "Dp<-diag(diag(B))\n",
    "Dp"
   ]
  },
  {
   "cell_type": "markdown",
   "metadata": {},
   "source": [
    "## <span style=\"color:#4361EE\">El ACM como un ACS de la TDC</span>\n"
   ]
  },
  {
   "cell_type": "markdown",
   "metadata": {
    "id": "4MFNYKHFUX8y"
   },
   "source": [
    "\n",
    "\n",
    "De ahora en adelante  el término análisis de correspondencias simples (ACS) es sinónimo de  análisis de correspondencias correspondencias (AC), entonces el ACM es el AC de la tabla disyuntiva completa (TDC) **Z** y escribimos $AC(\\mathbf{Z})$\n",
    "\n",
    "- Tabla de frecuencias relativas: $$\\mathbf{F}=\\dfrac{1}{ns}\\mathbf{Z}$$\n",
    "- Marginales fila:  $f_{i\\cdot}=\\dfrac{1}{n};  \\forall i$ \n",
    "- Marginales columna:  $f_{\\cdot j}=\\dfrac{n_j}{ns}; \\forall j$\n",
    "- En el ejemplo: $f_{i\\cdot}=\\dfrac{1}{445}=0.22\\%;  \\forall i=1,\\cdots,445$ \n",
    "- $f_{\\cdot j}~=~\\dfrac{n_j}{445*4}~=\\dfrac{n_j}{1780}; \\forall j = 1,\\cdots,12$, \n",
    "- Por ejemplo  $f_{\\cdot 1}~=~\\dfrac{128}{1780}=7.19\\%$.\n"
   ]
  },
  {
   "cell_type": "code",
   "execution_count": 23,
   "metadata": {
    "id": "u2CuWWLwUX8y",
    "outputId": "739273cc-f5fc-4135-b89a-828eb093e493"
   },
   "outputs": [
    {
     "data": {
      "text/html": [
       "<table>\n",
       "<thead><tr><th></th><th scope=col>F</th><th scope=col>M</th><th scope=col>baj</th><th scope=col>med</th><th scope=col>alt</th><th scope=col>Bog</th><th scope=col>Cun</th><th scope=col>Otr</th><th scope=col>a16</th><th scope=col>a17</th><th scope=col>a18</th><th scope=col>a19</th></tr></thead>\n",
       "<tbody>\n",
       "\t<tr><th scope=row>25</th><td>0.009</td><td>0.000</td><td>0.000</td><td>0.009</td><td>0    </td><td>0.000</td><td>0    </td><td>0.009</td><td>0.000</td><td>0.009</td><td>0.000</td><td>0    </td></tr>\n",
       "\t<tr><th scope=row>50</th><td>0.000</td><td>0.009</td><td>0.009</td><td>0.000</td><td>0    </td><td>0.009</td><td>0    </td><td>0.000</td><td>0.000</td><td>0.000</td><td>0.009</td><td>0    </td></tr>\n",
       "\t<tr><th scope=row>75</th><td>0.000</td><td>0.009</td><td>0.009</td><td>0.000</td><td>0    </td><td>0.009</td><td>0    </td><td>0.000</td><td>0.000</td><td>0.009</td><td>0.000</td><td>0    </td></tr>\n",
       "\t<tr><th scope=row>100</th><td>0.000</td><td>0.009</td><td>0.000</td><td>0.009</td><td>0    </td><td>0.009</td><td>0    </td><td>0.000</td><td>0.000</td><td>0.000</td><td>0.009</td><td>0    </td></tr>\n",
       "\t<tr><th scope=row>125</th><td>0.009</td><td>0.000</td><td>0.000</td><td>0.009</td><td>0    </td><td>0.000</td><td>0    </td><td>0.009</td><td>0.000</td><td>0.009</td><td>0.000</td><td>0    </td></tr>\n",
       "\t<tr><th scope=row>150</th><td>0.009</td><td>0.000</td><td>0.009</td><td>0.000</td><td>0    </td><td>0.009</td><td>0    </td><td>0.000</td><td>0.009</td><td>0.000</td><td>0.000</td><td>0    </td></tr>\n",
       "</tbody>\n",
       "</table>\n"
      ],
      "text/latex": [
       "\\begin{tabular}{r|llllllllllll}\n",
       "  & F & M & baj & med & alt & Bog & Cun & Otr & a16 & a17 & a18 & a19\\\\\n",
       "\\hline\n",
       "\t25 & 0.009 & 0.000 & 0.000 & 0.009 & 0     & 0.000 & 0     & 0.009 & 0.000 & 0.009 & 0.000 & 0    \\\\\n",
       "\t50 & 0.000 & 0.009 & 0.009 & 0.000 & 0     & 0.009 & 0     & 0.000 & 0.000 & 0.000 & 0.009 & 0    \\\\\n",
       "\t75 & 0.000 & 0.009 & 0.009 & 0.000 & 0     & 0.009 & 0     & 0.000 & 0.000 & 0.009 & 0.000 & 0    \\\\\n",
       "\t100 & 0.000 & 0.009 & 0.000 & 0.009 & 0     & 0.009 & 0     & 0.000 & 0.000 & 0.000 & 0.009 & 0    \\\\\n",
       "\t125 & 0.009 & 0.000 & 0.000 & 0.009 & 0     & 0.000 & 0     & 0.009 & 0.000 & 0.009 & 0.000 & 0    \\\\\n",
       "\t150 & 0.009 & 0.000 & 0.009 & 0.000 & 0     & 0.009 & 0     & 0.000 & 0.009 & 0.000 & 0.000 & 0    \\\\\n",
       "\\end{tabular}\n"
      ],
      "text/markdown": [
       "\n",
       "| <!--/--> | F | M | baj | med | alt | Bog | Cun | Otr | a16 | a17 | a18 | a19 |\n",
       "|---|---|---|---|---|---|---|---|---|---|---|---|---|\n",
       "| 25 | 0.009 | 0.000 | 0.000 | 0.009 | 0     | 0.000 | 0     | 0.009 | 0.000 | 0.009 | 0.000 | 0     |\n",
       "| 50 | 0.000 | 0.009 | 0.009 | 0.000 | 0     | 0.009 | 0     | 0.000 | 0.000 | 0.000 | 0.009 | 0     |\n",
       "| 75 | 0.000 | 0.009 | 0.009 | 0.000 | 0     | 0.009 | 0     | 0.000 | 0.000 | 0.009 | 0.000 | 0     |\n",
       "| 100 | 0.000 | 0.009 | 0.000 | 0.009 | 0     | 0.009 | 0     | 0.000 | 0.000 | 0.000 | 0.009 | 0     |\n",
       "| 125 | 0.009 | 0.000 | 0.000 | 0.009 | 0     | 0.000 | 0     | 0.009 | 0.000 | 0.009 | 0.000 | 0     |\n",
       "| 150 | 0.009 | 0.000 | 0.009 | 0.000 | 0     | 0.009 | 0     | 0.000 | 0.009 | 0.000 | 0.000 | 0     |\n",
       "\n"
      ],
      "text/plain": [
       "    F     M     baj   med   alt Bog   Cun Otr   a16   a17   a18   a19\n",
       "25  0.009 0.000 0.000 0.009 0   0.000 0   0.009 0.000 0.009 0.000 0  \n",
       "50  0.000 0.009 0.009 0.000 0   0.009 0   0.000 0.000 0.000 0.009 0  \n",
       "75  0.000 0.009 0.009 0.000 0   0.009 0   0.000 0.000 0.009 0.000 0  \n",
       "100 0.000 0.009 0.000 0.009 0   0.009 0   0.000 0.000 0.000 0.009 0  \n",
       "125 0.009 0.000 0.000 0.009 0   0.000 0   0.009 0.000 0.009 0.000 0  \n",
       "150 0.009 0.000 0.009 0.000 0   0.009 0   0.000 0.009 0.000 0.000 0  "
      ]
     },
     "metadata": {},
     "output_type": "display_data"
    }
   ],
   "source": [
    "n<-nrow(Y) #numero de filas\n",
    "s<-ncol(Y) #numero de columnas\n",
    "F<-1/n*s*Z\n",
    "round(head(F[sel,]),3)"
   ]
  },
  {
   "cell_type": "markdown",
   "metadata": {},
   "source": [
    "### <span style=\"color:#4CC9F0\">Nube de Individuos</span>\n"
   ]
  },
  {
   "cell_type": "markdown",
   "metadata": {
    "id": "AeX3QUKLUX8y"
   },
   "source": [
    "Los $n$ individuos conforman la nube $N_n$ en $\\mathbb{R}^p$\n",
    "\n",
    "- Coordenadas: filas de la tabla $\\dfrac{1}{s}\\mathbf{Z}$:\n",
    "barras de altura $1/s$ cuando el individuo asume la categoría $j$ y 0 cuando no la asume.\n",
    "- Peso: $\\dfrac{1}{n}$\n",
    "- Métrica:  $\\mathbf{M}=ns \\mathbf{D}_p^{-1}, \\ \\ \\ \\mathbf{D}_p = diag(n_j) $\n",
    "- En el ejemplo: un perfil fila es ${\\dfrac{1}{4} z_{ij}; j=1,\\cdots,12}$, \n",
    "- con peso 0.22\\%. \n",
    "- Extracto de algunos perfiles "
   ]
  },
  {
   "cell_type": "code",
   "execution_count": null,
   "metadata": {
    "id": "NpiKop7TUX8y",
    "outputId": "f4133d27-320a-40e4-fa96-051fd79c14ee"
   },
   "outputs": [
    {
     "data": {
      "text/html": [
       "<table class=\"dataframe\">\n",
       "<caption>A matrix: 4 × 12 of type dbl</caption>\n",
       "<thead>\n",
       "\t<tr><th></th><th scope=col>F</th><th scope=col>M</th><th scope=col>baj</th><th scope=col>med</th><th scope=col>alt</th><th scope=col>Bog</th><th scope=col>Cun</th><th scope=col>Otr</th><th scope=col>a16</th><th scope=col>a17</th><th scope=col>a18</th><th scope=col>a19</th></tr>\n",
       "</thead>\n",
       "<tbody>\n",
       "\t<tr><th scope=row>25</th><td>0.25</td><td>0.00</td><td>0.00</td><td>0.25</td><td>0</td><td>0.00</td><td>0</td><td>0.25</td><td>0</td><td>0.25</td><td>0.00</td><td>0</td></tr>\n",
       "\t<tr><th scope=row>50</th><td>0.00</td><td>0.25</td><td>0.25</td><td>0.00</td><td>0</td><td>0.25</td><td>0</td><td>0.00</td><td>0</td><td>0.00</td><td>0.25</td><td>0</td></tr>\n",
       "\t<tr><th scope=row>75</th><td>0.00</td><td>0.25</td><td>0.25</td><td>0.00</td><td>0</td><td>0.25</td><td>0</td><td>0.00</td><td>0</td><td>0.25</td><td>0.00</td><td>0</td></tr>\n",
       "\t<tr><th scope=row>100</th><td>0.00</td><td>0.25</td><td>0.00</td><td>0.25</td><td>0</td><td>0.25</td><td>0</td><td>0.00</td><td>0</td><td>0.00</td><td>0.25</td><td>0</td></tr>\n",
       "</tbody>\n",
       "</table>\n"
      ],
      "text/latex": [
       "A matrix: 4 × 12 of type dbl\n",
       "\\begin{tabular}{r|llllllllllll}\n",
       "  & F & M & baj & med & alt & Bog & Cun & Otr & a16 & a17 & a18 & a19\\\\\n",
       "\\hline\n",
       "\t25 & 0.25 & 0.00 & 0.00 & 0.25 & 0 & 0.00 & 0 & 0.25 & 0 & 0.25 & 0.00 & 0\\\\\n",
       "\t50 & 0.00 & 0.25 & 0.25 & 0.00 & 0 & 0.25 & 0 & 0.00 & 0 & 0.00 & 0.25 & 0\\\\\n",
       "\t75 & 0.00 & 0.25 & 0.25 & 0.00 & 0 & 0.25 & 0 & 0.00 & 0 & 0.25 & 0.00 & 0\\\\\n",
       "\t100 & 0.00 & 0.25 & 0.00 & 0.25 & 0 & 0.25 & 0 & 0.00 & 0 & 0.00 & 0.25 & 0\\\\\n",
       "\\end{tabular}\n"
      ],
      "text/markdown": [
       "\n",
       "A matrix: 4 × 12 of type dbl\n",
       "\n",
       "| <!--/--> | F | M | baj | med | alt | Bog | Cun | Otr | a16 | a17 | a18 | a19 |\n",
       "|---|---|---|---|---|---|---|---|---|---|---|---|---|\n",
       "| 25 | 0.25 | 0.00 | 0.00 | 0.25 | 0 | 0.00 | 0 | 0.25 | 0 | 0.25 | 0.00 | 0 |\n",
       "| 50 | 0.00 | 0.25 | 0.25 | 0.00 | 0 | 0.25 | 0 | 0.00 | 0 | 0.00 | 0.25 | 0 |\n",
       "| 75 | 0.00 | 0.25 | 0.25 | 0.00 | 0 | 0.25 | 0 | 0.00 | 0 | 0.25 | 0.00 | 0 |\n",
       "| 100 | 0.00 | 0.25 | 0.00 | 0.25 | 0 | 0.25 | 0 | 0.00 | 0 | 0.00 | 0.25 | 0 |\n",
       "\n"
      ],
      "text/plain": [
       "    F    M    baj  med  alt Bog  Cun Otr  a16 a17  a18  a19\n",
       "25  0.25 0.00 0.00 0.25 0   0.00 0   0.25 0   0.25 0.00 0  \n",
       "50  0.00 0.25 0.25 0.00 0   0.25 0   0.00 0   0.00 0.25 0  \n",
       "75  0.00 0.25 0.25 0.00 0   0.25 0   0.00 0   0.25 0.00 0  \n",
       "100 0.00 0.25 0.00 0.25 0   0.25 0   0.00 0   0.00 0.25 0  "
      ]
     },
     "metadata": {
      "tags": []
     },
     "output_type": "display_data"
    }
   ],
   "source": [
    "head(1/4*Z[sel,],4)"
   ]
  },
  {
   "cell_type": "markdown",
   "metadata": {
    "id": "vD7XNmgBUX8z"
   },
   "source": [
    "- La métrica en este espacio de los individuos tiene término general $m_j = \\dfrac{1780}{n_j}$.\n"
   ]
  },
  {
   "cell_type": "code",
   "execution_count": 27,
   "metadata": {
    "id": "IcR3jHBkUX8z",
    "outputId": "f0d8cc03-e1e9-42bb-956d-e57f75317923"
   },
   "outputs": [
    {
     "name": "stdout",
     "output_type": "stream",
     "text": [
      "[1] \"Names:\"\n"
     ]
    },
    {
     "data": {
      "text/html": [
       "<ol class=list-inline>\n",
       "\t<li>'F'</li>\n",
       "\t<li>'M'</li>\n",
       "\t<li>'baj'</li>\n",
       "\t<li>'med'</li>\n",
       "\t<li>'alt'</li>\n",
       "\t<li>'Bog'</li>\n",
       "\t<li>'Cun'</li>\n",
       "\t<li>'Otr'</li>\n",
       "\t<li>'a16'</li>\n",
       "\t<li>'a17'</li>\n",
       "\t<li>'a18'</li>\n",
       "\t<li>'a19'</li>\n",
       "</ol>\n"
      ],
      "text/latex": [
       "\\begin{enumerate*}\n",
       "\\item 'F'\n",
       "\\item 'M'\n",
       "\\item 'baj'\n",
       "\\item 'med'\n",
       "\\item 'alt'\n",
       "\\item 'Bog'\n",
       "\\item 'Cun'\n",
       "\\item 'Otr'\n",
       "\\item 'a16'\n",
       "\\item 'a17'\n",
       "\\item 'a18'\n",
       "\\item 'a19'\n",
       "\\end{enumerate*}\n"
      ],
      "text/markdown": [
       "1. 'F'\n",
       "2. 'M'\n",
       "3. 'baj'\n",
       "4. 'med'\n",
       "5. 'alt'\n",
       "6. 'Bog'\n",
       "7. 'Cun'\n",
       "8. 'Otr'\n",
       "9. 'a16'\n",
       "10. 'a17'\n",
       "11. 'a18'\n",
       "12. 'a19'\n",
       "\n",
       "\n"
      ],
      "text/plain": [
       " [1] \"F\"   \"M\"   \"baj\" \"med\" \"alt\" \"Bog\" \"Cun\" \"Otr\" \"a16\" \"a17\" \"a18\" \"a19\""
      ]
     },
     "metadata": {},
     "output_type": "display_data"
    },
    {
     "name": "stdout",
     "output_type": "stream",
     "text": [
      "[1] \"Diagonal de la matriz de métrica:\"\n"
     ]
    },
    {
     "data": {
      "text/html": [
       "<ol class=list-inline>\n",
       "\t<li>13.9</li>\n",
       "\t<li>5.6</li>\n",
       "\t<li>9.9</li>\n",
       "\t<li>9.6</li>\n",
       "\t<li>22</li>\n",
       "\t<li>5.7</li>\n",
       "\t<li>46.8</li>\n",
       "\t<li>18.5</li>\n",
       "\t<li>15.1</li>\n",
       "\t<li>10.4</li>\n",
       "\t<li>31.8</li>\n",
       "\t<li>17.8</li>\n",
       "</ol>\n"
      ],
      "text/latex": [
       "\\begin{enumerate*}\n",
       "\\item 13.9\n",
       "\\item 5.6\n",
       "\\item 9.9\n",
       "\\item 9.6\n",
       "\\item 22\n",
       "\\item 5.7\n",
       "\\item 46.8\n",
       "\\item 18.5\n",
       "\\item 15.1\n",
       "\\item 10.4\n",
       "\\item 31.8\n",
       "\\item 17.8\n",
       "\\end{enumerate*}\n"
      ],
      "text/markdown": [
       "1. 13.9\n",
       "2. 5.6\n",
       "3. 9.9\n",
       "4. 9.6\n",
       "5. 22\n",
       "6. 5.7\n",
       "7. 46.8\n",
       "8. 18.5\n",
       "9. 15.1\n",
       "10. 10.4\n",
       "11. 31.8\n",
       "12. 17.8\n",
       "\n",
       "\n"
      ],
      "text/plain": [
       " [1] 13.9  5.6  9.9  9.6 22.0  5.7 46.8 18.5 15.1 10.4 31.8 17.8"
      ]
     },
     "metadata": {},
     "output_type": "display_data"
    }
   ],
   "source": [
    "# Diagonal de la matriz de métrica\n",
    "print(\"Names:\")\n",
    "colnames(Z)\n",
    "print(\"Diagonal de la matriz de métrica:\")\n",
    "round(n*s*1/diag(Dp),1)"
   ]
  },
  {
   "cell_type": "markdown",
   "metadata": {},
   "source": [
    "### <span style=\"color:#4CC9F0\">Centro de gravedad</span>\n"
   ]
  },
  {
   "cell_type": "markdown",
   "metadata": {
    "id": "0wARg_PQUX8z"
   },
   "source": [
    "- La coordenada $j$ del centro de gravedad $g_p$ es $\\dfrac{1}{n}\\sum\\limits_{i=1} ^n \\dfrac{1}{s} z_{ij}=\\dfrac{n_j}{ns} $, que es la marginal columna de $\\mathbf{F}=\\dfrac{1}{ns}\\mathbf{Z}$.\n",
    "- Para obtener el  centro de gravedad, expresado en porcentaje, se puede de la siguiente manera:"
   ]
  },
  {
   "cell_type": "code",
   "execution_count": null,
   "metadata": {
    "colab": {
     "base_uri": "https://localhost:8080/",
     "height": 437
    },
    "id": "9C-Rs-1vHZZp",
    "outputId": "12384ed2-ce4b-484e-977f-f0c0bf78043c"
   },
   "outputs": [
    {
     "data": {
      "text/html": [
       "<style>\n",
       ".dl-inline {width: auto; margin:0; padding: 0}\n",
       ".dl-inline>dt, .dl-inline>dd {float: none; width: auto; display: inline-block}\n",
       ".dl-inline>dt::after {content: \":\\0020\"; padding-right: .5ex}\n",
       ".dl-inline>dt:not(:first-of-type) {padding-left: .5ex}\n",
       "</style><dl class=dl-inline><dt>F</dt><dd>7.2</dd><dt>M</dt><dd>17.8</dd><dt>baj</dt><dd>10.1</dd><dt>med</dt><dd>10.4</dd><dt>alt</dt><dd>4.6</dd><dt>Bog</dt><dd>17.5</dd><dt>Cun</dt><dd>2.1</dd><dt>Otr</dt><dd>5.4</dd><dt>a16</dt><dd>6.6</dd><dt>a17</dt><dd>9.6</dd><dt>a18</dt><dd>3.1</dd><dt>a19</dt><dd>5.6</dd></dl>\n"
      ],
      "text/latex": [
       "\\begin{description*}\n",
       "\\item[F] 7.2\n",
       "\\item[M] 17.8\n",
       "\\item[baj] 10.1\n",
       "\\item[med] 10.4\n",
       "\\item[alt] 4.6\n",
       "\\item[Bog] 17.5\n",
       "\\item[Cun] 2.1\n",
       "\\item[Otr] 5.4\n",
       "\\item[a16] 6.6\n",
       "\\item[a17] 9.6\n",
       "\\item[a18] 3.1\n",
       "\\item[a19] 5.6\n",
       "\\end{description*}\n"
      ],
      "text/markdown": [
       "F\n",
       ":   7.2M\n",
       ":   17.8baj\n",
       ":   10.1med\n",
       ":   10.4alt\n",
       ":   4.6Bog\n",
       ":   17.5Cun\n",
       ":   2.1Otr\n",
       ":   5.4a16\n",
       ":   6.6a17\n",
       ":   9.6a18\n",
       ":   3.1a19\n",
       ":   5.6\n",
       "\n"
      ],
      "text/plain": [
       "   F    M  baj  med  alt  Bog  Cun  Otr  a16  a17  a18  a19 \n",
       " 7.2 17.8 10.1 10.4  4.6 17.5  2.1  5.4  6.6  9.6  3.1  5.6 "
      ]
     },
     "metadata": {
      "tags": []
     },
     "output_type": "display_data"
    }
   ],
   "source": [
    "round(colSums(1/n/s*Z)*100,1)"
   ]
  },
  {
   "cell_type": "markdown",
   "metadata": {},
   "source": [
    "### <span style=\"color:#4CC9F0\">Distancia entre individuos</span>\n"
   ]
  },
  {
   "cell_type": "markdown",
   "metadata": {
    "id": "uUca4IvgUX8z"
   },
   "source": [
    "$$\n",
    "d^2(i,l)=ns\\sum_{j=1}^p \\frac{1}{n_j} \\left(\\dfrac{1}{s}\\left[ z_{ij}-z_{lj} \\right] \\right)^2=\n",
    "\\frac{n}{s} \\sum_{j=1}^p \\frac{1}{n_j} \\left(z_{ij}-z_{lj} \\right)^2 \n",
    "$$\n",
    "\n",
    "- Si dos individuos se parecen = asumen más o menos las mismas categorías. \n",
    "- La distancia se amplifica más cuando uno solo de los dos individuos asume una categoría de baja frecuencia.\n",
    "- Por ejemplo la distancia al cuadrado entre los  individuos 50 y 100  es $d^2(i50,i100)= \\dfrac{445}{4}\\left(\\dfrac{1}{179}+\\dfrac{1}{185}\\right)=1.22$ y la diferencia entre ellos en estrato bajo y medio:\n"
   ]
  },
  {
   "cell_type": "code",
   "execution_count": null,
   "metadata": {
    "id": "txF5ARsyUX80",
    "outputId": "b57bb122-7037-4602-ea21-52b5fb3922b3"
   },
   "outputs": [
    {
     "data": {
      "text/html": [
       "<table class=\"dataframe\">\n",
       "<caption>A data.frame: 2 × 4</caption>\n",
       "<thead>\n",
       "\t<tr><th></th><th scope=col>gene</th><th scope=col>estr</th><th scope=col>orig</th><th scope=col>edad</th></tr>\n",
       "\t<tr><th></th><th scope=col>&lt;fct&gt;</th><th scope=col>&lt;fct&gt;</th><th scope=col>&lt;fct&gt;</th><th scope=col>&lt;fct&gt;</th></tr>\n",
       "</thead>\n",
       "<tbody>\n",
       "\t<tr><th scope=row>50</th><td>M</td><td>bajo </td><td>Bogo</td><td>a18</td></tr>\n",
       "\t<tr><th scope=row>100</th><td>M</td><td>medio</td><td>Bogo</td><td>a18</td></tr>\n",
       "</tbody>\n",
       "</table>\n"
      ],
      "text/latex": [
       "A data.frame: 2 × 4\n",
       "\\begin{tabular}{r|llll}\n",
       "  & gene & estr & orig & edad\\\\\n",
       "  & <fct> & <fct> & <fct> & <fct>\\\\\n",
       "\\hline\n",
       "\t50 & M & bajo  & Bogo & a18\\\\\n",
       "\t100 & M & medio & Bogo & a18\\\\\n",
       "\\end{tabular}\n"
      ],
      "text/markdown": [
       "\n",
       "A data.frame: 2 × 4\n",
       "\n",
       "| <!--/--> | gene &lt;fct&gt; | estr &lt;fct&gt; | orig &lt;fct&gt; | edad &lt;fct&gt; |\n",
       "|---|---|---|---|---|\n",
       "| 50 | M | bajo  | Bogo | a18 |\n",
       "| 100 | M | medio | Bogo | a18 |\n",
       "\n"
      ],
      "text/plain": [
       "    gene estr  orig edad\n",
       "50  M    bajo  Bogo a18 \n",
       "100 M    medio Bogo a18 "
      ]
     },
     "metadata": {
      "tags": []
     },
     "output_type": "display_data"
    }
   ],
   "source": [
    "Y[c(50,100),]"
   ]
  },
  {
   "cell_type": "markdown",
   "metadata": {},
   "source": [
    "### <span style=\"color:#4CC9F0\">Inercia de la nube de perfiles fila</span>\n"
   ]
  },
  {
   "cell_type": "markdown",
   "metadata": {
    "id": "mUnkvhieUX80"
   },
   "source": [
    "$$\n",
    "\\dfrac{1}{n} \\sum\\limits_{i=1}^n d^2(i,\\mathbf{g}_p) = \n",
    "\\dfrac{1}{n} \\sum\\limits_{i=1}^n \\sum\\limits_{j=1}^p \\dfrac{ns}{n_j}(\\dfrac{z_{ij}}{s}-\\dfrac{n_j}{ns})^2= \n",
    "\\dfrac{1}{s} \\sum\\limits_{j=1}^p \\dfrac{1}{n_j} \\sum\\limits_{i=1}^n (z_{ij}^2 -2 z_{ij} \\dfrac{n_j}{n} + \\dfrac{n_j^2}{n^2}) =\n",
    "$$\n",
    "$$\n",
    "\\dfrac{1}{s} (p -  2 s  + s) = \\dfrac{p}{s} - 1\n",
    "$$\n",
    "\n",
    "- La inercia de la nube de puntos depende del cociente entre el número de categorías y el número de variables, no de los valores internos de la tabla, por lo tanto no tiene significado estadístico.\n",
    "- En el ejemplo es $12/4 -1 = 2$.\n"
   ]
  },
  {
   "cell_type": "markdown",
   "metadata": {},
   "source": [
    "### <span style=\"color:#4CC9F0\">Eje y subespacios vectoriales</span>\n"
   ]
  },
  {
   "cell_type": "markdown",
   "metadata": {
    "id": "VWPPMG2TUX80"
   },
   "source": [
    "$$ \n",
    "AC(Z) = ACP\\left(\\dfrac{1}{s}\\mathbf{Z},ns\\mathbf{D}_p^{-1},\\dfrac{1}{n}\\mathbf{I}_n\\right)\n",
    "$$\n",
    "\n",
    "- La matriz de inercia es: \n",
    "$$\n",
    "\\dfrac{1}{s}\\mathbf{Z'}\\dfrac{1}{n}\\mathbf{I}_n\\dfrac{1}{s}\\mathbf{Z}ns\\mathbf{D}_p^{-1}=\n",
    "\\dfrac{1}{s}\\mathbf{Z'Z}\\mathbf{D}_p^{-1}=\n",
    "\\dfrac{1}{s}\\mathbf{B}\\mathbf{D}_p^{-1}\n",
    "$$\n",
    "\n",
    "- El rango de esta matriz es igual al rango de **Z**, que es $p-s$, porque por cada variable hay una columna que es linealmente dependiente, \n",
    "- Una columna se puede obtener como la diferencia entre el vector de $n$ unos y la suma de las demás columnas asociadas a la variable.  \n",
    "- La nube de puntos está soportada en un subespacio de dimensión $p-s$, que es el número de valores propios mayores que cero. \n",
    "- En el ejemplo hay $12-4=8$ valores propios mayores que cero,"
   ]
  },
  {
   "cell_type": "markdown",
   "metadata": {
    "id": "treOhm8LIQMk",
    "outputId": "e4dcc81d-4051-47fd-d1c8-a80ffaac160f"
   },
   "source": [
    "### <span style=\"color:#4CC9F0\">Valores propios del ACM de admitidos</span>\n"
   ]
  },
  {
   "cell_type": "code",
   "execution_count": 30,
   "metadata": {
    "id": "FAtWgnurUX81",
    "outputId": "bf9a0b4d-29e5-4514-a5e6-e2cdbaa73d1a"
   },
   "outputs": [
    {
     "data": {
      "text/plain": [
       "Inertia information:\n",
       "Call: inertia.dudi(x = acm)\n",
       "\n",
       "Decomposition of total inertia:\n",
       "    inertia     cum  cum(%)\n",
       "Ax1  0.3366  0.3366   16.83\n",
       "Ax2  0.3128  0.6493   32.47\n",
       "Ax3  0.2827  0.9320   46.60\n",
       "Ax4  0.2471  1.1791   58.96\n",
       "Ax5  0.2408  1.4199   71.00\n",
       "Ax6  0.2293  1.6493   82.46\n",
       "Ax7  0.2075  1.8568   92.84\n",
       "Ax8  0.1432  2.0000  100.00"
      ]
     },
     "metadata": {},
     "output_type": "display_data"
    },
    {
     "data": {
      "image/png": "[encoded data removed]",
      "text/plain": [
       "Plot with title \"Barplot eigen-values\""
      ]
     },
     "metadata": {},
     "output_type": "display_data"
    }
   ],
   "source": [
    "acm<-dudi.acm(Y,scannf=FALSE,nf=3)\n",
    "inertia(acm)\n",
    "barplot(acm$eig,main=\"Barplot eigen-values\")\n",
    "abline(h=sum(acm$eig)/8,col=\"darkgreen\")"
   ]
  },
  {
   "cell_type": "markdown",
   "metadata": {},
   "source": [
    "### <span style=\"color:#4CC9F0\">Primer plano factorial del ACM de admitidos</span>\n"
   ]
  },
  {
   "cell_type": "code",
   "execution_count": 37,
   "metadata": {
    "id": "7Po9nJlXUX82",
    "outputId": "9fd8be6c-897d-41ee-8104-a08f8d84d42e"
   },
   "outputs": [
    {
     "data": {
      "image/png": "[encoded data removed]",
      "text/plain": [
       "plot without title"
      ]
     },
     "metadata": {},
     "output_type": "display_data"
    },
    {
     "data": {
      "image/png": "[encoded data removed]",
      "text/plain": [
       "Plot with title \"Factores 1-2 del ACM\""
      ]
     },
     "metadata": {},
     "output_type": "display_data"
    }
   ],
   "source": [
    "plot(acm,Tcol=FALSE,gg=TRUE,roweti=sel,main=\"Factores 1-2 del ACM\")\n",
    "plot(acm,Tcol=FALSE,ucal=1.0,asp=1,main=\"Factores 1-2 del ACM\")"
   ]
  },
  {
   "cell_type": "markdown",
   "metadata": {},
   "source": [
    "## <span style=\"color:#4361EE\">Nube de categorías</span>\n"
   ]
  },
  {
   "cell_type": "markdown",
   "metadata": {},
   "source": [
    "### <span style=\"color:#4CC9F0\">Coordenadas: Columnas de la tabla $\\mathbf{ZD}^{-1}_p$</span>\n"
   ]
  },
  {
   "cell_type": "markdown",
   "metadata": {},
   "source": [
    "\n",
    "- Cada perfil columna $j$ tiene solo dos alturas: cero o $1/n_j$. \n",
    "- Las alturas son en general, diferentes en cada perfil. \n",
    "- El peso de cada categoría es $\\dfrac{n_j}{ns}$"
   ]
  },
  {
   "cell_type": "markdown",
   "metadata": {},
   "source": [
    "### <span style=\"color:#4CC9F0\">Centro de gravedad: Es el vector de $n$ valores $\\dfrac{1}{n}$</span>\n"
   ]
  },
  {
   "cell_type": "markdown",
   "metadata": {
    "id": "musNzONJUX82"
   },
   "source": [
    "\n",
    "- Coordenada $i$ del centro de gravedad: \n",
    "$$ \\mathbf{g}(i)  = \\sum_{j=1}^p \\frac{n_j}{ns} \\frac{z_{ij}}{n_j} =\n",
    "     \\sum_{j=1}^p \\frac{1}{ns} z_{ij} = \\frac{1}{ns} s = \\frac{1}{n}\n",
    "     $$\n",
    "\n",
    "### Métrica: $n \\mathbf{I}_n$\n",
    "\n",
    "### Distancia entre dos categorías\n",
    "\n",
    "$$\n",
    "d^2(j,k) = \\sum_{i=1}^n n \\left(\\frac{z_{ij}}{n_j} - \\frac{z_{ik}}{n_k}\\right)^2\n",
    "$$"
   ]
  },
  {
   "cell_type": "markdown",
   "metadata": {},
   "source": [
    "### <span style=\"color:#4CC9F0\">Interpretación de la distancia entre categorías</span>\n"
   ]
  },
  {
   "cell_type": "markdown",
   "metadata": {},
   "source": [
    "\n",
    "                       Categoría k  \n",
    "               \n",
    "                     |   1  |  0   | suma\n",
    "                     --------------------  \n",
    "      Categoria   1  |   a  |  b   | n_j\n",
    "\n",
    "         j        0  |   c  |  d   | c+d\n",
    "                     -------------------- \n",
    "              suma   |  n_k | b+d  |  n\n",
    "              \n",
    "$$\n",
    "d^2(j,k) = n \\left(  \\frac{n_k + n_j - 2a}{n_j n_k} \\right) = \n",
    "n \\left( \\frac{a+c+a+b - 2a}{n_j n_k} \\right) = \\frac{n}{n_j n_k} (b+c)\n",
    "$$              \n",
    "\n",
    "- En la distancia de dos categorías, sólo se suman los individuos que asumen una y solo una de las dos categorías. \n",
    "- Las categorías de baja frecuencia se alejan más de las demás."
   ]
  },
  {
   "cell_type": "markdown",
   "metadata": {},
   "source": [
    "### <span style=\"color:#4CC9F0\">Contribución de categorías y variables a la inercia </span>\n"
   ]
  },
  {
   "cell_type": "markdown",
   "metadata": {
    "id": "Czv7vEx1UX82"
   },
   "source": [
    "\n",
    "\n",
    "- Distancia entre la categoría $j$ y el centro de gravedad $\\mathbf{g}_n=\\dfrac{1}{n}\\mathbf{1}_n$:\n",
    "\n",
    "$$\n",
    "d^2(j,\\mathbf{g}_n) = n \\sum_{i=1}^{n} \\left( \\frac{z_{ij}}{n_j} - \\frac{1}{n} \\right)^2 =\n",
    "n \\sum_{i=1}^n \\left(\\frac{z_{ij}^2}{n_j^2}-2 \\frac{z_{ij}}{n_j} \\frac{1}{n} + \\frac{1}{n^2}\\right)=\n",
    "  \\frac{n}{n_j} - 1\n",
    "$$\n",
    "\n",
    "-  Las categorías de menos frecuencia son las más alejadas del origen\n",
    "\n",
    "$$\n",
    "I(N_p) =\\sum_{q=1}^s \\sum_{j \\in J_q} \\frac{n_j}{ns} d^2(j,\\mathbf{g}_n) = \n",
    "\\sum_{q=1}^s \\sum_{j \\in J_q}  \\frac{n_j}{ns} \\left(\\frac{n}{n_j}-1\\right) =\n",
    "\\sum_{q=1}^s \\sum_{j \\in J_q}  \\frac{1}{s} \\left(1-\\frac{n_j}{n}\\right) \n",
    "$$\n",
    "\n",
    "- $J_q$ es el conjunto de categorías que pertenecen la variable $q$. \n",
    "\n",
    "\n",
    "\n"
   ]
  },
  {
   "cell_type": "markdown",
   "metadata": {},
   "source": [
    "### <span style=\"color:#4CC9F0\">Contribuciones a la inercia</span>\n"
   ]
  },
  {
   "cell_type": "markdown",
   "metadata": {},
   "source": [
    "- De una categoría $j$: $ \\dfrac{1}{s}\\left(1-\\dfrac{n_j}{n}\\right) $, contribuyen más las categorías de baja frecuencia.\n",
    "- De una variable $q$: $\\sum\\limits_{j \\in J_q}  \\dfrac{1}{s} \\left(1-\\dfrac{n_j}{n}\\right) = \n",
    "\\dfrac{1}{s}\\left(p_q-\\dfrac{n}{n}\\right) = \\dfrac{1}{s}\\left(p_q-1\\right)$,  contribuyen más las variables con más categorías\n",
    "- Inercia total: $\\sum\\limits_{q=1}^s  \\dfrac{1}{s}\\left(p_q-1\\right) = \\dfrac{1}{s}(p-s) =\\dfrac{p}{s}-1$. No tiene significado estadístico,  no depende de los valores de la tabla sino de la relación entre número de categorías y número de variables."
   ]
  },
  {
   "cell_type": "markdown",
   "metadata": {},
   "source": [
    "## <span style=\"color:#4361EE\">Subespacio de proyección de las categorías</span>\n"
   ]
  },
  {
   "cell_type": "markdown",
   "metadata": {},
   "source": [
    "### <span style=\"color:#4CC9F0\">Primer plano Factorial</span>\n"
   ]
  },
  {
   "cell_type": "code",
   "execution_count": 39,
   "metadata": {
    "id": "-Q9zBDkyUX83",
    "outputId": "52073ef9-408a-494f-be49-db8e4cdea3a7"
   },
   "outputs": [
    {
     "data": {
      "image/png": "[encoded data removed]",
      "text/plain": [
       "plot without title"
      ]
     },
     "metadata": {},
     "output_type": "display_data"
    }
   ],
   "source": [
    "plot(acm,Trow=FALSE,gg=TRUE,main=\"Factores 1-2\")"
   ]
  },
  {
   "cell_type": "markdown",
   "metadata": {},
   "source": [
    "### <span style=\"color:#4CC9F0\">Coordenadas y ayudas para la interpretación de las categorías para los tres primeros ejes</span>\n"
   ]
  },
  {
   "cell_type": "code",
   "execution_count": 40,
   "metadata": {
    "id": "BRzuRUrNUX83",
    "outputId": "dbe229de-d06b-4f4b-dded-816ea9b6dc3b"
   },
   "outputs": [
    {
     "data": {
      "text/html": [
       "<ol class=list-inline>\n",
       "\t<li>'tot.inertia'</li>\n",
       "\t<li>'col.contrib'</li>\n",
       "\t<li>'col.abs'</li>\n",
       "\t<li>'col.rel'</li>\n",
       "\t<li>'col.cum'</li>\n",
       "\t<li>'nf'</li>\n",
       "\t<li>'call'</li>\n",
       "</ol>\n"
      ],
      "text/latex": [
       "\\begin{enumerate*}\n",
       "\\item 'tot.inertia'\n",
       "\\item 'col.contrib'\n",
       "\\item 'col.abs'\n",
       "\\item 'col.rel'\n",
       "\\item 'col.cum'\n",
       "\\item 'nf'\n",
       "\\item 'call'\n",
       "\\end{enumerate*}\n"
      ],
      "text/markdown": [
       "1. 'tot.inertia'\n",
       "2. 'col.contrib'\n",
       "3. 'col.abs'\n",
       "4. 'col.rel'\n",
       "5. 'col.cum'\n",
       "6. 'nf'\n",
       "7. 'call'\n",
       "\n",
       "\n"
      ],
      "text/plain": [
       "[1] \"tot.inertia\" \"col.contrib\" \"col.abs\"     \"col.rel\"     \"col.cum\"    \n",
       "[6] \"nf\"          \"call\"       "
      ]
     },
     "metadata": {},
     "output_type": "display_data"
    },
    {
     "data": {
      "text/html": [
       "<table>\n",
       "<thead><tr><th></th><th scope=col>Comp1</th><th scope=col>Comp2</th><th scope=col>Comp3</th><th scope=col>Axis1</th><th scope=col>Axis2</th><th scope=col>Axis3</th><th scope=col>Axis1</th><th scope=col>Axis2</th><th scope=col>Axis3</th><th scope=col>ayuacm$col.contrib</th></tr></thead>\n",
       "<tbody>\n",
       "\t<tr><th scope=row>gene.F</th><td>-0.13 </td><td>-0.89 </td><td> 0.51 </td><td> 0.36 </td><td>18.21 </td><td> 6.66 </td><td> -0.67</td><td>-31.97</td><td> 10.58</td><td> 8.90 </td></tr>\n",
       "\t<tr><th scope=row>gene.M</th><td> 0.05 </td><td> 0.36 </td><td>-0.21 </td><td> 0.14 </td><td> 7.35 </td><td> 2.69 </td><td>  0.67</td><td> 31.97</td><td>-10.58</td><td> 3.60 </td></tr>\n",
       "\t<tr><th scope=row>estr.bajo</th><td> 0.93 </td><td> 0.31 </td><td> 0.18 </td><td>25.90 </td><td> 3.15 </td><td> 1.17 </td><td> 58.34</td><td>  6.58</td><td>  2.21</td><td> 7.47 </td></tr>\n",
       "\t<tr><th scope=row>estr.medio</th><td>-0.67 </td><td> 0.04 </td><td> 0.31 </td><td>13.71 </td><td> 0.05 </td><td> 3.61 </td><td>-31.59</td><td>  0.10</td><td>  6.99</td><td> 7.30 </td></tr>\n",
       "\t<tr><th scope=row>estr.alto</th><td>-0.54 </td><td>-0.78 </td><td>-1.12 </td><td> 3.88 </td><td> 8.75 </td><td>20.06 </td><td> -6.39</td><td>-13.38</td><td>-27.73</td><td>10.22 </td></tr>\n",
       "\t<tr><th scope=row>orig.Bogo</th><td>-0.51 </td><td> 0.13 </td><td> 0.11 </td><td>13.45 </td><td> 0.91 </td><td> 0.70 </td><td>-60.15</td><td>  3.76</td><td>  2.65</td><td> 3.76 </td></tr>\n",
       "\t<tr><th scope=row>orig.Cund</th><td> 0.88 </td><td> 0.61 </td><td>-1.44 </td><td> 4.87 </td><td> 2.51 </td><td>15.72 </td><td>  7.16</td><td>  3.44</td><td>-19.43</td><td>11.43 </td></tr>\n",
       "\t<tr><th scope=row>orig.Otro</th><td> 1.30 </td><td>-0.65 </td><td> 0.23 </td><td>27.18 </td><td> 7.34 </td><td> 0.97 </td><td> 46.66</td><td>-11.71</td><td>  1.39</td><td> 9.80 </td></tr>\n",
       "\t<tr><th scope=row>edad.a16m</th><td> 0.39 </td><td>-1.07 </td><td> 0.29 </td><td> 3.04 </td><td>24.09 </td><td> 1.99 </td><td>  5.56</td><td>-41.02</td><td>  3.07</td><td> 9.19 </td></tr>\n",
       "\t<tr><th scope=row>edad.a17</th><td>-0.19 </td><td>-0.03 </td><td>-0.88 </td><td> 0.98 </td><td> 0.03 </td><td>26.54 </td><td> -2.14</td><td> -0.06</td><td>-48.74</td><td> 7.70 </td></tr>\n",
       "\t<tr><th scope=row>edad.a18</th><td>-0.75 </td><td> 0.14 </td><td> 1.13 </td><td> 5.24 </td><td> 0.18 </td><td>14.21 </td><td> -8.08</td><td>  0.26</td><td> 18.38</td><td>10.93 </td></tr>\n",
       "\t<tr><th scope=row>edad.a19M</th><td> 0.27 </td><td> 1.24 </td><td> 0.53 </td><td> 1.24 </td><td>27.43 </td><td> 5.67 </td><td>  2.16</td><td> 44.26</td><td>  8.27</td><td> 9.69 </td></tr>\n",
       "</tbody>\n",
       "</table>\n"
      ],
      "text/latex": [
       "\\begin{tabular}{r|llllllllll}\n",
       "  & Comp1 & Comp2 & Comp3 & Axis1 & Axis2 & Axis3 & Axis1 & Axis2 & Axis3 & ayuacm\\$col.contrib\\\\\n",
       "\\hline\n",
       "\tgene.F & -0.13  & -0.89  &  0.51  &  0.36  & 18.21  &  6.66  &  -0.67 & -31.97 &  10.58 &  8.90 \\\\\n",
       "\tgene.M &  0.05  &  0.36  & -0.21  &  0.14  &  7.35  &  2.69  &   0.67 &  31.97 & -10.58 &  3.60 \\\\\n",
       "\testr.bajo &  0.93  &  0.31  &  0.18  & 25.90  &  3.15  &  1.17  &  58.34 &   6.58 &   2.21 &  7.47 \\\\\n",
       "\testr.medio & -0.67  &  0.04  &  0.31  & 13.71  &  0.05  &  3.61  & -31.59 &   0.10 &   6.99 &  7.30 \\\\\n",
       "\testr.alto & -0.54  & -0.78  & -1.12  &  3.88  &  8.75  & 20.06  &  -6.39 & -13.38 & -27.73 & 10.22 \\\\\n",
       "\torig.Bogo & -0.51  &  0.13  &  0.11  & 13.45  &  0.91  &  0.70  & -60.15 &   3.76 &   2.65 &  3.76 \\\\\n",
       "\torig.Cund &  0.88  &  0.61  & -1.44  &  4.87  &  2.51  & 15.72  &   7.16 &   3.44 & -19.43 & 11.43 \\\\\n",
       "\torig.Otro &  1.30  & -0.65  &  0.23  & 27.18  &  7.34  &  0.97  &  46.66 & -11.71 &   1.39 &  9.80 \\\\\n",
       "\tedad.a16m &  0.39  & -1.07  &  0.29  &  3.04  & 24.09  &  1.99  &   5.56 & -41.02 &   3.07 &  9.19 \\\\\n",
       "\tedad.a17 & -0.19  & -0.03  & -0.88  &  0.98  &  0.03  & 26.54  &  -2.14 &  -0.06 & -48.74 &  7.70 \\\\\n",
       "\tedad.a18 & -0.75  &  0.14  &  1.13  &  5.24  &  0.18  & 14.21  &  -8.08 &   0.26 &  18.38 & 10.93 \\\\\n",
       "\tedad.a19M &  0.27  &  1.24  &  0.53  &  1.24  & 27.43  &  5.67  &   2.16 &  44.26 &   8.27 &  9.69 \\\\\n",
       "\\end{tabular}\n"
      ],
      "text/markdown": [
       "\n",
       "| <!--/--> | Comp1 | Comp2 | Comp3 | Axis1 | Axis2 | Axis3 | Axis1 | Axis2 | Axis3 | ayuacm$col.contrib |\n",
       "|---|---|---|---|---|---|---|---|---|---|---|\n",
       "| gene.F | -0.13  | -0.89  |  0.51  |  0.36  | 18.21  |  6.66  |  -0.67 | -31.97 |  10.58 |  8.90  |\n",
       "| gene.M |  0.05  |  0.36  | -0.21  |  0.14  |  7.35  |  2.69  |   0.67 |  31.97 | -10.58 |  3.60  |\n",
       "| estr.bajo |  0.93  |  0.31  |  0.18  | 25.90  |  3.15  |  1.17  |  58.34 |   6.58 |   2.21 |  7.47  |\n",
       "| estr.medio | -0.67  |  0.04  |  0.31  | 13.71  |  0.05  |  3.61  | -31.59 |   0.10 |   6.99 |  7.30  |\n",
       "| estr.alto | -0.54  | -0.78  | -1.12  |  3.88  |  8.75  | 20.06  |  -6.39 | -13.38 | -27.73 | 10.22  |\n",
       "| orig.Bogo | -0.51  |  0.13  |  0.11  | 13.45  |  0.91  |  0.70  | -60.15 |   3.76 |   2.65 |  3.76  |\n",
       "| orig.Cund |  0.88  |  0.61  | -1.44  |  4.87  |  2.51  | 15.72  |   7.16 |   3.44 | -19.43 | 11.43  |\n",
       "| orig.Otro |  1.30  | -0.65  |  0.23  | 27.18  |  7.34  |  0.97  |  46.66 | -11.71 |   1.39 |  9.80  |\n",
       "| edad.a16m |  0.39  | -1.07  |  0.29  |  3.04  | 24.09  |  1.99  |   5.56 | -41.02 |   3.07 |  9.19  |\n",
       "| edad.a17 | -0.19  | -0.03  | -0.88  |  0.98  |  0.03  | 26.54  |  -2.14 |  -0.06 | -48.74 |  7.70  |\n",
       "| edad.a18 | -0.75  |  0.14  |  1.13  |  5.24  |  0.18  | 14.21  |  -8.08 |   0.26 |  18.38 | 10.93  |\n",
       "| edad.a19M |  0.27  |  1.24  |  0.53  |  1.24  | 27.43  |  5.67  |   2.16 |  44.26 |   8.27 |  9.69  |\n",
       "\n"
      ],
      "text/plain": [
       "           Comp1 Comp2 Comp3 Axis1 Axis2 Axis3 Axis1  Axis2  Axis3 \n",
       "gene.F     -0.13 -0.89  0.51  0.36 18.21  6.66  -0.67 -31.97  10.58\n",
       "gene.M      0.05  0.36 -0.21  0.14  7.35  2.69   0.67  31.97 -10.58\n",
       "estr.bajo   0.93  0.31  0.18 25.90  3.15  1.17  58.34   6.58   2.21\n",
       "estr.medio -0.67  0.04  0.31 13.71  0.05  3.61 -31.59   0.10   6.99\n",
       "estr.alto  -0.54 -0.78 -1.12  3.88  8.75 20.06  -6.39 -13.38 -27.73\n",
       "orig.Bogo  -0.51  0.13  0.11 13.45  0.91  0.70 -60.15   3.76   2.65\n",
       "orig.Cund   0.88  0.61 -1.44  4.87  2.51 15.72   7.16   3.44 -19.43\n",
       "orig.Otro   1.30 -0.65  0.23 27.18  7.34  0.97  46.66 -11.71   1.39\n",
       "edad.a16m   0.39 -1.07  0.29  3.04 24.09  1.99   5.56 -41.02   3.07\n",
       "edad.a17   -0.19 -0.03 -0.88  0.98  0.03 26.54  -2.14  -0.06 -48.74\n",
       "edad.a18   -0.75  0.14  1.13  5.24  0.18 14.21  -8.08   0.26  18.38\n",
       "edad.a19M   0.27  1.24  0.53  1.24 27.43  5.67   2.16  44.26   8.27\n",
       "           ayuacm$col.contrib\n",
       "gene.F      8.90             \n",
       "gene.M      3.60             \n",
       "estr.bajo   7.47             \n",
       "estr.medio  7.30             \n",
       "estr.alto  10.22             \n",
       "orig.Bogo   3.76             \n",
       "orig.Cund  11.43             \n",
       "orig.Otro   9.80             \n",
       "edad.a16m   9.19             \n",
       "edad.a17    7.70             \n",
       "edad.a18   10.93             \n",
       "edad.a19M   9.69             "
      ]
     },
     "metadata": {},
     "output_type": "display_data"
    },
    {
     "data": {
      "text/html": [
       "16.67"
      ],
      "text/latex": [
       "16.67"
      ],
      "text/markdown": [
       "16.67"
      ],
      "text/plain": [
       "[1] 16.67"
      ]
     },
     "metadata": {},
     "output_type": "display_data"
    }
   ],
   "source": [
    "ayuacm<-inertia(acm,,T)\n",
    "names(ayuacm)\n",
    "round(cbind(acm$co,ayuacm$col.abs,ayuacm$col.rel,ayuacm$col.contrib),2)\n",
    "round(sum(acm$eig)/12*100,2)"
   ]
  },
  {
   "cell_type": "markdown",
   "metadata": {},
   "source": [
    "## <span style=\"color:#4361EE\">El ACM como un ACP(X,M,N) de la TDC)</span>\n"
   ]
  },
  {
   "cell_type": "markdown",
   "metadata": {
    "id": "i6hhWVEQUX83"
   },
   "source": [
    " $$\n",
    " ACP(\\mathbf{X,M,N})\n",
    " $$\n",
    "\n",
    "- $\\mathbf{X}= n \\mathbf{I}_n\\dfrac{1}{ns}\\mathbf{Z} ns \\mathbf{D}=n\\mathbf{ZD}_p^{-1}$, \n",
    "    - término general: $x_{ij}=\\dfrac{n}{n_j} z_{ij}$.\n",
    "- $\\mathbf{M}=\\dfrac{1}{ns}\\mathbf{D}_p$, \n",
    "    - término general: $m_j = \\dfrac{n_j}{ns}$.\n",
    "- $\\mathbf{N}=\\dfrac{1}{n}\\mathbf{I}_n$, \n",
    "    - término general: $d_i=\\dfrac{1}{n}$.\n",
    "\n",
    "####  **M** - distancia al cuadrado entre dos individuos $i$ y $l$ \n",
    "$$\n",
    "d^2(i,l) =  \\sum_{j=1}^p \\dfrac{n_j}{ns} \\left(\\dfrac{n}{n_j} z_{ij}-\\dfrac{n}{n_j} z_{lj} \\right)^2 \n",
    "            =  \\dfrac{n}{s} \\sum_{j=1}^p \\dfrac{1}{n_j} (z_{ij} - z_{lj})^2\n",
    "$$\n",
    "####  **N** - distancia al cuadrado entre dos categorías\n",
    "$j$ y $k$ de **X**\n",
    "$$\n",
    "d^2(j,k)= \\sum_{i=1}^n \\frac{1}{n}\\left(\\dfrac{n}{n_j} z_{ij}-\\dfrac{n}{n_k} z_{ik} \\right)^2\n",
    "            = n \\sum_{i=1}^n \\left(\\dfrac{z_{ij}}{n_j} -\\dfrac{z_{ik}}{n_k}  \\right)^2\n",
    "$$\n",
    "\n"
   ]
  },
  {
   "cell_type": "markdown",
   "metadata": {},
   "source": [
    "\n",
    "### <span style=\"color:#4CC9F0\">Relaciones cuasibaricéntricas</span>\n"
   ]
  },
  {
   "cell_type": "markdown",
   "metadata": {},
   "source": [
    "#### <span style=\"color:#4CC9F0\">Coordenada de una individuo en función de las coordenadas de las categorías</span>\n"
   ]
  },
  {
   "cell_type": "markdown",
   "metadata": {
    "id": "7grG9ZYcUX84"
   },
   "source": [
    "\n",
    "$$\n",
    " F_s(i) = \\frac{1}{\\sqrt{\\lambda_s}} \\frac{1}{s} \\sum_{j=1}^p z_{ij}  G_s(j) \n",
    "           = \\frac{1}{\\sqrt{\\lambda_s}} \\frac{1}{s} \\sum_{j \\in J_i}  G_s(j)\n",
    "$$\n",
    "\n",
    "\n",
    "- $J_i$ es el conjunto de categorías que son asumidas por el individuo $i$.\n",
    "- La coordenada sobre un eje $s$ del individuo $i$ se sitúa en el promedio aritmético de las coordenadas de las categorías que asume, dilatadas por el inverso de la raíz cuadrada del valor propio. \n",
    "\n",
    "- Ejemplo: el primer individuo de la tabla asume las categorías:\n",
    "\n",
    "    - Ge.F (0.1) es la coordenada sobre el primer eje, Ed.17 (0.2), Es.medio (0.7) y - Or.Otro (-1.3). \n",
    "    - Promedio aritmético: (0.1+0.2+0.7-1.3)/4 = -0.08. \n",
    "    - La dilatación es $1/\\sqrt{0.337}=1.72$.\n",
    "    - La coordenada es 1.72*(~-0.08) = -0.14. \n"
   ]
  },
  {
   "cell_type": "markdown",
   "metadata": {},
   "source": [
    "#### <span style=\"color:#4CC9F0\">Coordenada de una categoría en función de  las coordenadas de los individuos </span>\n"
   ]
  },
  {
   "cell_type": "markdown",
   "metadata": {
    "id": "_-FB0qtqUX84"
   },
   "source": [
    "\n",
    "\n",
    "$$  \n",
    "G_s(j) = \\frac{1}{\\sqrt{\\lambda_s}} \\frac{1}{n_j} \\sum_{i=1}^n  z_{ij}   F_s(i)\n",
    "$$\n",
    "\n",
    "- $I_j$ es el conjunto de individuos que asumen la categoría  $j$, \n",
    "    - La categoría $j$ se sitúa en el promedio aritmético de las coordenadas de los individuos que la asumen, dilatada por el inverso de la raíz cuadrada del valor propio.\n"
   ]
  },
  {
   "cell_type": "markdown",
   "metadata": {},
   "source": [
    "### <span style=\"color:#4CC9F0\">Representación simultánea en el primer plano factorial</span>\n"
   ]
  },
  {
   "cell_type": "code",
   "execution_count": 42,
   "metadata": {
    "id": "wxGwmRTXUX84",
    "outputId": "5dd1320e-f481-4ddd-895a-7868e923f4f7"
   },
   "outputs": [
    {
     "data": {
      "image/png": "[encoded data removed]",
      "text/plain": [
       "Plot with title \"Representación simultanea 1er plano\""
      ]
     },
     "metadata": {},
     "output_type": "display_data"
    }
   ],
   "source": [
    "plot(acm,roweti=\"\",main=\"Representación simultanea 1er plano\")"
   ]
  },
  {
   "cell_type": "markdown",
   "metadata": {},
   "source": [
    "### <span style=\"color:#4CC9F0\">Plano factorial 2-3</span>\n"
   ]
  },
  {
   "cell_type": "code",
   "execution_count": 45,
   "metadata": {
    "id": "iMnIqUzbUX84",
    "outputId": "29ca5b31-7f35-49e9-e132-a87f0fa48dbd"
   },
   "outputs": [
    {
     "data": {
      "image/png": "[encoded data removed]",
      "text/plain": [
       "Plot with title \"Representación simultanea factores 2-3\""
      ]
     },
     "metadata": {},
     "output_type": "display_data"
    }
   ],
   "source": [
    "plot(acm,2,3,roweti=\"\",main=\"Representación simultanea factores 2-3\")"
   ]
  },
  {
   "cell_type": "markdown",
   "metadata": {},
   "source": [
    "### <span style=\"color:#4CC9F0\">Razones de correlación sobre un eje de las variables cualitativas</span>\n"
   ]
  },
  {
   "cell_type": "markdown",
   "metadata": {},
   "source": [
    "\n",
    "- Una variable cualitativa induce una partición de los $n$ individuos y  la inercia (varianza) de los individuos sobre el eje  se puede descomponer en $varianza \\ inter + varianza \\ intra$. \n"
   ]
  },
  {
   "cell_type": "markdown",
   "metadata": {},
   "source": [
    "<center>\n",
    "<img src=\"data:image/png;base64,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\" alt=\"Varianza inter e intra\" width=\"600\" height=\"500\">\n",
    "<center>"
   ]
  },
  {
   "cell_type": "markdown",
   "metadata": {
    "id": "59Z-jc8fUX85"
   },
   "source": [
    "- La razón de correlación se define como el cociente entre varianza inter y varianza total.  \n",
    "- La varianza total  de $F_s$ es $\\lambda_s$, \n",
    "- La varianza inter con respecto a una variable $q$ es:\n",
    "$$\n",
    " \\sum_{j \\in J_q} \\frac{n_j}{n} (\\overline{F}_{sj})^2\n",
    "$$\n",
    " puesto que las coordenadas sobre $s$ están centradas.\n",
    "donde $\\overline{F}_{sj} = \\sum\\limits_{i \\in I_{j \\in J_q}} \\frac{1}{n_j} F_{s}(i)$, es decir, el promedio aritmético de las coordenadas sobre el eje $s$ de los individuos que asumen la categoría $j$ de la variable $q$. \n",
    "- Por las relaciones de transición $\\overline{F}_{sj} = \\sqrt{\\lambda_s} G_s(j)$, entonces:\n",
    "$$\n",
    "Varianza \\ entre (q) = \\lambda_s  \\ \\sum_{i \\in J_q}  \\frac{n_j}{n} G_s^2(j)\n",
    "$$\n",
    "y la razón de correlación es:\n",
    "$$\n",
    "\\eta^2_s(q) = \\sum_{j \\in J_q} \\frac{n_j}{n} G_s^2(j) \n",
    "$$\n",
    "- Se puede expresar como función de la contribución absoluta de las categorías como:\n",
    "$$\n",
    "\\eta^2_s(q) =  \\lambda_s  s  \\sum_{j \\in q_j} Ca_s(j) \n",
    "$$\n",
    "donde $J_q$ es el conjunto de categorías de la variable $q$ y $Ca_s(j)$ es la contribución absoluta de la categoría $j$ sobre el eje $s$. \n",
    "- Estos valores se encuentran en el objeto de salida de la función *dudi.acm{ade4}*, en la tabla *cr*.\n",
    "- Con estas razones de correlación se pueden obtener los planos factoriales para las variables cualitativas. \n",
    "- Por ejemplo para la variable $Origen$, la suma de las contribuciones de las tres categorías sobre el primer eje es $13.45+4.87+27.18=45.5\\%$, el primer valor propio es $0.3366$ y el número de variables $4$, \n",
    "- La razón de correlación es $\\eta^2_1(Origen)=4*0.3366*0.455=0.613$, valor que se puede leer en la figura siguiente.\n"
   ]
  },
  {
   "cell_type": "code",
   "execution_count": 51,
   "metadata": {
    "id": "aX6bvWJxUX85",
    "outputId": "0ec2e20a-2463-445e-ebc4-8a2dafdce2b2"
   },
   "outputs": [
    {
     "data": {
      "image/png": "[encoded data removed]",
      "text/plain": [
       "Plot with title \"Factores 1-2, radios de correlación\""
      ]
     },
     "metadata": {},
     "output_type": "display_data"
    }
   ],
   "source": [
    "plotfp(acm$cr,main=\"Factores 1-2, radios de correlación\") # función de FactoClass"
   ]
  },
  {
   "cell_type": "code",
   "execution_count": 52,
   "metadata": {
    "id": "Sm4NrmboUX85",
    "outputId": "431b3fcf-2714-405a-d853-8b3993e5feba"
   },
   "outputs": [
    {
     "data": {
      "image/png": "[encoded data removed]",
      "text/plain": [
       "Plot with title \"Factores 2-3, radios de correlación\""
      ]
     },
     "metadata": {},
     "output_type": "display_data"
    }
   ],
   "source": [
    "plotfp(acm$cr,2,3,main=\"Factores 2-3, radios de correlación\")"
   ]
  },
  {
   "cell_type": "markdown",
   "metadata": {},
   "source": [
    "## <span style=\"color:#4361EE\">Elementos suplementarios</span>\n"
   ]
  },
  {
   "cell_type": "markdown",
   "metadata": {},
   "source": [
    "### <span style=\"color:#4CC9F0\">Individuos Suplementarios</span>\n"
   ]
  },
  {
   "cell_type": "markdown",
   "metadata": {
    "id": "hP_6uHlWUX85"
   },
   "source": [
    "\n",
    "- Los individuos ilustrativos se pueden proyectar utilizando la fórmula cuasibaricéntrica.\n",
    "- La coordenada de un individuo suplementario es el promedio de las coordenadas de las categorías que asume, dilatado por el inverso de la raíz cuadrada del valor propio.\n"
   ]
  },
  {
   "cell_type": "markdown",
   "metadata": {},
   "source": [
    "## <span style=\"color:#4361EE\">Variables cualitativas suplementarias</span>\n"
   ]
  },
  {
   "cell_type": "markdown",
   "metadata": {
    "id": "V8m6DpmgUX85"
   },
   "source": [
    "- Las categorías  de una variable ilustrativa se proyectan mediante la fórmula cuasibaricéntrica  \n",
    " - Como el promedio de las coordenadas de los individuos que la asumen, dilatado por el inverso de la raíz cuadrada del valor propio. \n",
    " - Se pueden calcular sus cosenos cuadrados sobre los ejes.\n",
    " - Valores test.\n"
   ]
  },
  {
   "cell_type": "markdown",
   "metadata": {},
   "source": [
    "### <span style=\"color:#4CC9F0\">Valores test para categorías suplementarias</span>\n"
   ]
  },
  {
   "cell_type": "markdown",
   "metadata": {
    "id": "GbfyaCIAUX86"
   },
   "source": [
    "\n",
    "- Una categoría $j$ es asumida por los $n_j$ individuos del conjunto $I_j$, \n",
    "- Su coordenada, sobre un eje $s$ es el promedio aritmético de las coordenadas de esos individuos  sobre el eje, multiplicada por el inverso de la raíz cuadrada del valor propio $\\lambda_s$. \n",
    "- Si se supone que los $n_j$ individuos se extraen al azar de los $n$ individuos:\n",
    "    - La media de las coordenadas es 0 y su varianza es $\\left( \\dfrac{n-n_j}{n-1} \\right) \\dfrac{\\lambda_s}{n_j}$. \n",
    "    - La varianza de la categoría $j$ se obtiene multiplicando la varianza anterior por  $\\dfrac{1}{\\lambda_s}$:  \n",
    "     $$\\dfrac{1}{\\lambda_s} \\left( \\dfrac{n-n_j}{n-1} \\right) \\dfrac{\\lambda_s}{n_j} =  \\dfrac{n-n_j}{n(n-1)} $$\n",
    "    - El valor calculado de la estadística $T$ para la verdadera coordenada es:\n",
    "    $$\n",
    "    t_s(j) = \\sqrt{\\dfrac{n_j(n-1)}{n-n_j}} G_s(j)\n",
    "    $$"
   ]
  },
  {
   "cell_type": "markdown",
   "metadata": {},
   "source": [
    "## <span style=\"color:#4361EE\">Ejemplo</span>\n"
   ]
  },
  {
   "cell_type": "markdown",
   "metadata": {
    "id": "B7QK9enhUX86"
   },
   "source": [
    "### <span style=\"color:#4CC9F0\">Valor test para *Química* sobre el primer eje:</span>"
   ]
  },
  {
   "cell_type": "code",
   "execution_count": null,
   "metadata": {
    "id": "t9QnY2HSUX86",
    "outputId": "e12e5573-7751-4228-df6d-5b3a09c33a90"
   },
   "outputs": [
    {
     "data": {
      "text/html": [
       "<style>\n",
       ".dl-inline {width: auto; margin:0; padding: 0}\n",
       ".dl-inline>dt, .dl-inline>dd {float: none; width: auto; display: inline-block}\n",
       ".dl-inline>dt::after {content: \":\\0020\"; padding-right: .5ex}\n",
       ".dl-inline>dt:not(:first-of-type) {padding-left: .5ex}\n",
       "</style><dl class=dl-inline><dt>Biol</dt><dd>63</dd><dt>Esta</dt><dd>66</dd><dt>Farm</dt><dd>73</dd><dt>Fisi</dt><dd>82</dd><dt>Geol</dt><dd>45</dd><dt>Mate</dt><dd>53</dd><dt>Quim</dt><dd>63</dd></dl>\n"
      ],
      "text/latex": [
       "\\begin{description*}\n",
       "\\item[Biol] 63\n",
       "\\item[Esta] 66\n",
       "\\item[Farm] 73\n",
       "\\item[Fisi] 82\n",
       "\\item[Geol] 45\n",
       "\\item[Mate] 53\n",
       "\\item[Quim] 63\n",
       "\\end{description*}\n"
      ],
      "text/markdown": [
       "Biol\n",
       ":   63Esta\n",
       ":   66Farm\n",
       ":   73Fisi\n",
       ":   82Geol\n",
       ":   45Mate\n",
       ":   53Quim\n",
       ":   63\n",
       "\n"
      ],
      "text/plain": [
       "Biol Esta Farm Fisi Geol Mate Quim \n",
       "  63   66   73   82   45   53   63 "
      ]
     },
     "metadata": {
      "tags": []
     },
     "output_type": "display_data"
    },
    {
     "data": {
      "text/html": [
       "-2.216"
      ],
      "text/latex": [
       "-2.216"
      ],
      "text/markdown": [
       "-2.216"
      ],
      "text/plain": [
       "[1] -2.216"
      ]
     },
     "metadata": {
      "tags": []
     },
     "output_type": "display_data"
    }
   ],
   "source": [
    "# Número de admitidos por carreras:\n",
    "summary(admi$carr)\n",
    "# Valor test:\n",
    "vtQui = sqrt(63*(445-1)/(445-63))*(-0.259)\n",
    "round(vtQui,3)\n"
   ]
  },
  {
   "cell_type": "markdown",
   "metadata": {
    "id": "xZwjBvQ6UX86"
   },
   "source": [
    "- La diferencia con el valor de la salida se debe al número de cifras significativas. \n",
    "- Este valor, menor que -2, indica que es válido leer la posición negativa  de Química sobre el primer eje, lo que significa que está asociada con estrato bajo y origen fuera de Bogotá.\n"
   ]
  },
  {
   "cell_type": "markdown",
   "metadata": {},
   "source": [
    "### <span style=\"color:#4CC9F0\">Carreras sobre el primer plano factorial del ACM de admitidos</span>\n"
   ]
  },
  {
   "cell_type": "code",
   "execution_count": null,
   "metadata": {
    "id": "XussnlZZUX86",
    "outputId": "68045f6e-4c0f-4887-dd94-1e8bbef9d0c1"
   },
   "outputs": [
    {
     "data": {
      "text/html": [
       "<style>\n",
       ".list-inline {list-style: none; margin:0; padding: 0}\n",
       ".list-inline>li {display: inline-block}\n",
       ".list-inline>li:not(:last-child)::after {content: \"\\00b7\"; padding: 0 .5ex}\n",
       "</style>\n",
       "<ol class=list-inline><li>'ncat'</li><li>'dis2'</li><li>'coor'</li><li>'tv'</li><li>'cos2'</li><li>'scr'</li></ol>\n"
      ],
      "text/latex": [
       "\\begin{enumerate*}\n",
       "\\item 'ncat'\n",
       "\\item 'dis2'\n",
       "\\item 'coor'\n",
       "\\item 'tv'\n",
       "\\item 'cos2'\n",
       "\\item 'scr'\n",
       "\\end{enumerate*}\n"
      ],
      "text/markdown": [
       "1. 'ncat'\n",
       "2. 'dis2'\n",
       "3. 'coor'\n",
       "4. 'tv'\n",
       "5. 'cos2'\n",
       "6. 'scr'\n",
       "\n",
       "\n"
      ],
      "text/plain": [
       "[1] \"ncat\" \"dis2\" \"coor\" \"tv\"   \"cos2\" \"scr\" "
      ]
     },
     "metadata": {
      "tags": []
     },
     "output_type": "display_data"
    }
   ],
   "source": [
    "supCarr<-supqual(acm,admi$carr)\n",
    "names(supCarr)"
   ]
  },
  {
   "cell_type": "code",
   "execution_count": null,
   "metadata": {
    "id": "0yRmy13oUX87",
    "outputId": "50fe8ff4-99a3-4927-8373-fb4906612484"
   },
   "outputs": [
    {
     "data": {
      "text/html": [
       "'Coordenadas y ayudas para la interpretación'"
      ],
      "text/latex": [
       "'Coordenadas y ayudas para la interpretación'"
      ],
      "text/markdown": [
       "'Coordenadas y ayudas para la interpretación'"
      ],
      "text/plain": [
       "[1] \"Coordenadas y ayudas para la interpretación\""
      ]
     },
     "metadata": {
      "tags": []
     },
     "output_type": "display_data"
    },
    {
     "data": {
      "text/html": [
       "<table class=\"dataframe\">\n",
       "<caption>A matrix: 7 × 11 of type dbl</caption>\n",
       "<thead>\n",
       "\t<tr><th></th><th scope=col>ncat</th><th scope=col>dis2</th><th scope=col>Axis1</th><th scope=col>Axis2</th><th scope=col>Axis3</th><th scope=col>Axis1</th><th scope=col>Axis2</th><th scope=col>Axis3</th><th scope=col>Axis1</th><th scope=col>Axis2</th><th scope=col>Axis3</th></tr>\n",
       "</thead>\n",
       "<tbody>\n",
       "\t<tr><th scope=row>qual.Biol</th><td>63</td><td>6.063</td><td>-0.018</td><td> 0.146</td><td>-0.068</td><td>-0.156</td><td> 1.245</td><td>-0.579</td><td>0.000</td><td>0.003</td><td>0.001</td></tr>\n",
       "\t<tr><th scope=row>qual.Esta</th><td>66</td><td>5.742</td><td> 0.029</td><td>-0.104</td><td>-0.018</td><td> 0.255</td><td>-0.912</td><td>-0.160</td><td>0.000</td><td>0.002</td><td>0.000</td></tr>\n",
       "\t<tr><th scope=row>qual.Farm</th><td>73</td><td>5.096</td><td> 0.168</td><td> 0.198</td><td> 0.392</td><td> 1.566</td><td> 1.845</td><td> 3.664</td><td>0.006</td><td>0.008</td><td>0.030</td></tr>\n",
       "\t<tr><th scope=row>qual.Fisi</th><td>82</td><td>4.427</td><td> 0.095</td><td>-0.029</td><td>-0.127</td><td> 0.948</td><td>-0.292</td><td>-1.267</td><td>0.002</td><td>0.000</td><td>0.004</td></tr>\n",
       "\t<tr><th scope=row>qual.Geol</th><td>45</td><td>8.889</td><td>-0.040</td><td> 0.076</td><td>-0.635</td><td>-0.284</td><td> 0.540</td><td>-4.490</td><td>0.000</td><td>0.001</td><td>0.045</td></tr>\n",
       "\t<tr><th scope=row>qual.Mate</th><td>53</td><td>7.396</td><td>-0.050</td><td>-0.462</td><td> 0.112</td><td>-0.387</td><td>-3.579</td><td> 0.869</td><td>0.000</td><td>0.029</td><td>0.002</td></tr>\n",
       "\t<tr><th scope=row>qual.Quim</th><td>63</td><td>6.063</td><td>-0.259</td><td> 0.106</td><td> 0.156</td><td>-2.217</td><td> 0.907</td><td> 1.335</td><td>0.011</td><td>0.002</td><td>0.004</td></tr>\n",
       "</tbody>\n",
       "</table>\n"
      ],
      "text/latex": [
       "A matrix: 7 × 11 of type dbl\n",
       "\\begin{tabular}{r|lllllllllll}\n",
       "  & ncat & dis2 & Axis1 & Axis2 & Axis3 & Axis1 & Axis2 & Axis3 & Axis1 & Axis2 & Axis3\\\\\n",
       "\\hline\n",
       "\tqual.Biol & 63 & 6.063 & -0.018 &  0.146 & -0.068 & -0.156 &  1.245 & -0.579 & 0.000 & 0.003 & 0.001\\\\\n",
       "\tqual.Esta & 66 & 5.742 &  0.029 & -0.104 & -0.018 &  0.255 & -0.912 & -0.160 & 0.000 & 0.002 & 0.000\\\\\n",
       "\tqual.Farm & 73 & 5.096 &  0.168 &  0.198 &  0.392 &  1.566 &  1.845 &  3.664 & 0.006 & 0.008 & 0.030\\\\\n",
       "\tqual.Fisi & 82 & 4.427 &  0.095 & -0.029 & -0.127 &  0.948 & -0.292 & -1.267 & 0.002 & 0.000 & 0.004\\\\\n",
       "\tqual.Geol & 45 & 8.889 & -0.040 &  0.076 & -0.635 & -0.284 &  0.540 & -4.490 & 0.000 & 0.001 & 0.045\\\\\n",
       "\tqual.Mate & 53 & 7.396 & -0.050 & -0.462 &  0.112 & -0.387 & -3.579 &  0.869 & 0.000 & 0.029 & 0.002\\\\\n",
       "\tqual.Quim & 63 & 6.063 & -0.259 &  0.106 &  0.156 & -2.217 &  0.907 &  1.335 & 0.011 & 0.002 & 0.004\\\\\n",
       "\\end{tabular}\n"
      ],
      "text/markdown": [
       "\n",
       "A matrix: 7 × 11 of type dbl\n",
       "\n",
       "| <!--/--> | ncat | dis2 | Axis1 | Axis2 | Axis3 | Axis1 | Axis2 | Axis3 | Axis1 | Axis2 | Axis3 |\n",
       "|---|---|---|---|---|---|---|---|---|---|---|---|\n",
       "| qual.Biol | 63 | 6.063 | -0.018 |  0.146 | -0.068 | -0.156 |  1.245 | -0.579 | 0.000 | 0.003 | 0.001 |\n",
       "| qual.Esta | 66 | 5.742 |  0.029 | -0.104 | -0.018 |  0.255 | -0.912 | -0.160 | 0.000 | 0.002 | 0.000 |\n",
       "| qual.Farm | 73 | 5.096 |  0.168 |  0.198 |  0.392 |  1.566 |  1.845 |  3.664 | 0.006 | 0.008 | 0.030 |\n",
       "| qual.Fisi | 82 | 4.427 |  0.095 | -0.029 | -0.127 |  0.948 | -0.292 | -1.267 | 0.002 | 0.000 | 0.004 |\n",
       "| qual.Geol | 45 | 8.889 | -0.040 |  0.076 | -0.635 | -0.284 |  0.540 | -4.490 | 0.000 | 0.001 | 0.045 |\n",
       "| qual.Mate | 53 | 7.396 | -0.050 | -0.462 |  0.112 | -0.387 | -3.579 |  0.869 | 0.000 | 0.029 | 0.002 |\n",
       "| qual.Quim | 63 | 6.063 | -0.259 |  0.106 |  0.156 | -2.217 |  0.907 |  1.335 | 0.011 | 0.002 | 0.004 |\n",
       "\n"
      ],
      "text/plain": [
       "          ncat dis2  Axis1  Axis2  Axis3  Axis1  Axis2  Axis3  Axis1 Axis2\n",
       "qual.Biol 63   6.063 -0.018  0.146 -0.068 -0.156  1.245 -0.579 0.000 0.003\n",
       "qual.Esta 66   5.742  0.029 -0.104 -0.018  0.255 -0.912 -0.160 0.000 0.002\n",
       "qual.Farm 73   5.096  0.168  0.198  0.392  1.566  1.845  3.664 0.006 0.008\n",
       "qual.Fisi 82   4.427  0.095 -0.029 -0.127  0.948 -0.292 -1.267 0.002 0.000\n",
       "qual.Geol 45   8.889 -0.040  0.076 -0.635 -0.284  0.540 -4.490 0.000 0.001\n",
       "qual.Mate 53   7.396 -0.050 -0.462  0.112 -0.387 -3.579  0.869 0.000 0.029\n",
       "qual.Quim 63   6.063 -0.259  0.106  0.156 -2.217  0.907  1.335 0.011 0.002\n",
       "          Axis3\n",
       "qual.Biol 0.001\n",
       "qual.Esta 0.000\n",
       "qual.Farm 0.030\n",
       "qual.Fisi 0.004\n",
       "qual.Geol 0.045\n",
       "qual.Mate 0.002\n",
       "qual.Quim 0.004"
      ]
     },
     "metadata": {
      "tags": []
     },
     "output_type": "display_data"
    },
    {
     "data": {
      "text/html": [
       "'Razones de correlación'"
      ],
      "text/latex": [
       "'Razones de correlación'"
      ],
      "text/markdown": [
       "'Razones de correlación'"
      ],
      "text/plain": [
       "[1] \"Razones de correlación\""
      ]
     },
     "metadata": {
      "tags": []
     },
     "output_type": "display_data"
    },
    {
     "data": {
      "text/html": [
       "<table class=\"dataframe\">\n",
       "<caption>A matrix: 1 × 3 of type dbl</caption>\n",
       "<thead>\n",
       "\t<tr><th></th><th scope=col>Axis1</th><th scope=col>Axis2</th><th scope=col>Axis3</th></tr>\n",
       "</thead>\n",
       "<tbody>\n",
       "\t<tr><th scope=row>qual</th><td>1.64</td><td>3.88</td><td>7.47</td></tr>\n",
       "</tbody>\n",
       "</table>\n"
      ],
      "text/latex": [
       "A matrix: 1 × 3 of type dbl\n",
       "\\begin{tabular}{r|lll}\n",
       "  & Axis1 & Axis2 & Axis3\\\\\n",
       "\\hline\n",
       "\tqual & 1.64 & 3.88 & 7.47\\\\\n",
       "\\end{tabular}\n"
      ],
      "text/markdown": [
       "\n",
       "A matrix: 1 × 3 of type dbl\n",
       "\n",
       "| <!--/--> | Axis1 | Axis2 | Axis3 |\n",
       "|---|---|---|---|\n",
       "| qual | 1.64 | 3.88 | 7.47 |\n",
       "\n"
      ],
      "text/plain": [
       "     Axis1 Axis2 Axis3\n",
       "qual 1.64  3.88  7.47 "
      ]
     },
     "metadata": {
      "tags": []
     },
     "output_type": "display_data"
    }
   ],
   "source": [
    "attach(supCarr)\n",
    "\"Coordenadas y ayudas para la interpretación\"\n",
    "cbind(ncat,round(cbind(dis2,coor,tv,cos2),3))\n",
    "\"Razones de correlación\"\n",
    "round(scr*100,2)\n",
    "detach(supCarr)"
   ]
  },
  {
   "cell_type": "markdown",
   "metadata": {
    "id": "O_eHGCjGUX87"
   },
   "source": [
    "- Sólo es legítimo interpretar como diferente de cero las coordenadas de: \n",
    "- Química (-) sobre el primer eje, Matemáticas (+) sobre el segundo eje; y Geología (-) opuesto a Farmacia (+) sobre el tercer eje.  \n",
    " - Química  tiene, en comparación al promedio, mayor proporción de admitidos de  estrato bajo y origen fuera de Bogotá,\n",
    " - Matemáticas  de 19 o más años, \n",
    " - Geología de 17 años y de estrato alto,  \n",
    " - Farmacia de 18 años y género femenino. \n"
   ]
  },
  {
   "cell_type": "markdown",
   "metadata": {},
   "source": [
    "### <span style=\"color:#4CC9F0\">Proyección de las carreras sobre el primer plano factorial</span>\n"
   ]
  },
  {
   "cell_type": "code",
   "execution_count": null,
   "metadata": {
    "id": "OmkaC80IUX87",
    "outputId": "25d9b729-73c9-4369-e815-ed005bbaf182"
   },
   "outputs": [
    {
     "data": {
      "image/png": "[encoded data removed]",
      "text/plain": [
       "plot without title"
      ]
     },
     "metadata": {
      "image/png": {
       "height": 420,
       "width": 420
      },
      "tags": []
     },
     "output_type": "display_data"
    }
   ],
   "source": [
    "plot(acm,Trow =FALSE,infaxes=\"no\",main=\"Plano 1-2\",\n",
    "ylim =c( -1.5 ,1.3) , col.col=\" black \")\n",
    "points( supCarr$coor ,col =\"darkgreen\")\n",
    "text(supCarr$coor , labels = attributes (admi[,1])$levels ,\n",
    "col =\"darkgreen\",pos =1, cex =0.8 , font =3)"
   ]
  },
  {
   "cell_type": "markdown",
   "metadata": {},
   "source": [
    "### <span style=\"color:#4CC9F0\">Proyección de las carreras sobre el plano factorial 2-3</span>\n"
   ]
  },
  {
   "cell_type": "code",
   "execution_count": null,
   "metadata": {
    "id": "cx8Pa7DxUX87",
    "outputId": "63413751-c6d4-4c18-ddd2-aae148f7e11f"
   },
   "outputs": [
    {
     "data": {
      "image/png": "[encoded data removed]",
      "text/plain": [
       "plot without title"
      ]
     },
     "metadata": {
      "image/png": {
       "height": 420,
       "width": 420
      },
      "tags": []
     },
     "output_type": "display_data"
    }
   ],
   "source": [
    "plot(acm,2,3,Trow =FALSE,infaxes=\"no\",main=\"Plano 2-3\",\n",
    "ylim =c( -1.5 ,1.3) , col.col=\" black \")\n",
    "points(supCarr$coor[,c(2,3)] ,col =\"darkgreen\")\n",
    "text(supCarr$coor[,c(2,3)] , labels = attributes (admi[,1])$levels ,\n",
    "col =\"darkgreen\",pos =1, cex =0.8 , font =3)"
   ]
  },
  {
   "cell_type": "markdown",
   "metadata": {},
   "source": [
    "### <span style=\"color:#4CC9F0\">Retorno a los datos</span>\n"
   ]
  },
  {
   "cell_type": "markdown",
   "metadata": {
    "id": "5iNub5zJUX88"
   },
   "source": [
    "\n",
    "Perfiles fila de las carreras según las variables activas, para corroborar lo que se ve en los planos factoriales"
   ]
  },
  {
   "cell_type": "code",
   "execution_count": 36,
   "metadata": {
    "id": "j6KH4xTbUX88",
    "outputId": "afe7cf67-0d8f-4fca-a2bf-6d6c0b61095a"
   },
   "outputs": [
    {
     "data": {
      "image/png": "[encoded data removed]",
      "text/plain": [
       "Plot with title \"edad\""
      ]
     },
     "metadata": {},
     "output_type": "display_data"
    }
   ],
   "source": [
    "par(mfrow=c(2,2))\n",
    "for (varac in 8:11){\n",
    "    K<-unclass(table(admi$carr,admi[,varac]))\n",
    "    plotct(K,\"row\",col=2:5,main=colnames(admi)[varac])\n",
    "}"
   ]
  },
  {
   "cell_type": "markdown",
   "metadata": {
    "id": "dBxPugA5UX88"
   },
   "source": [
    "- Química  tiene, en comparación al promedio, mayor proporción de admitidos de  estrato bajo y origen fuera de Bogotá,\n",
    "- Matemáticas tiene mayor proporción de admitidos de 19 o más años, \n",
    "- Geología tiene mayor proporción de admitidos de 17 años y de estrato alto,  \n",
    "- Farmacia tiene mayor proporción de admitidos de 18 años y género femenino. \n"
   ]
  },
  {
   "cell_type": "markdown",
   "metadata": {
    "id": "NVY7hfZyUX88"
   },
   "source": [
    "Para más detalles del ACM y un ejemplo de aplicación ver el capítulo 6 del libro [EDM.](https://www.google.com/url?sa=t&rct=j&q=&esrc=s&source=web&cd=&cad=rja&uact=8&ved=2ahUKEwi6qZDBjtDzAhVeRTABHYZPBWEQFnoECAYQAQ&url=http%3A%2F%2Fciencias.bogota.unal.edu.co%2Ffileadmin%2FFacultad_de_Ciencias%2FPublicaciones%2FImagenes%2FPortadas_Libros%2FEstadistica%2FEstadistica_descriptiva_multivariada%2FlibroEstadisiticaDescriptivaMultivariadaDigital.pdf&usg=AOvVaw2Q7b-e89FbWXFda5h4sCuf)"
   ]
  }
 ],
 "metadata": {
  "colab": {
   "collapsed_sections": [],
   "name": "ACM.ipynb",
   "provenance": []
  },
  "kernelspec": {
   "display_name": "Python 3.9.7 ('base')",
   "language": "python",
   "name": "python3"
  },
  "language_info": {
   "codemirror_mode": {
    "name": "ipython",
    "version": 3
   },
   "file_extension": ".py",
   "mimetype": "text/x-python",
   "name": "python",
   "nbconvert_exporter": "python",
   "pygments_lexer": "ipython3",
   "version": "3.9.7"
  },
  "vscode": {
   "interpreter": {
    "hash": "f08154012ddadd8e950e6e9e035c7a7b32c136e7647e9b7c77e02eb723a8bedb"
   }
  }
 },
 "nbformat": 4,
 "nbformat_minor": 4
}
