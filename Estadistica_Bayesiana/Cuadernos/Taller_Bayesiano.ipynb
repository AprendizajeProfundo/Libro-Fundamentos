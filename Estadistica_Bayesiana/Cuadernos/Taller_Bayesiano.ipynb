{
 "cells": [
  {
   "cell_type": "markdown",
   "metadata": {},
   "source": [
    "# <span style=\"color:#F72585\"><center>Taller de Computación Bayesiana</center></span>\n"
   ]
  },
  {
   "cell_type": "markdown",
   "metadata": {},
   "source": [
    "## <span style=\"color:#4361EE\">Modelo Binomial</span>\n"
   ]
  },
  {
   "cell_type": "markdown",
   "metadata": {},
   "source": [
    "### <span style=\"color:#4CC9F0\">El problema</span>\n"
   ]
  },
  {
   "cell_type": "markdown",
   "metadata": {},
   "source": [
    "Vamos a generar una observación Binomial. Para ello primero generamos un parámetro $\\mu$ a partir de una distribución Beta. Usaremos los hiperparámetros $\\alpha=5$ y $\\beta=2$. Capricho de los autores. Vamos"
   ]
  },
  {
   "cell_type": "code",
   "execution_count": 2,
   "metadata": {},
   "outputs": [],
   "source": [
    "# Import librerias\n",
    "import matplotlib.pyplot as plt\n",
    "import numpy as np\n",
    "from scipy import stats\n",
    "\n",
    "# genera una semilla de los números aleatorios para hacer rpetible el ejercicio\n",
    "np.random.seed(seed = 500) "
   ]
  },
  {
   "cell_type": "markdown",
   "metadata": {},
   "source": [
    "### <span style=\"color:#4CC9F0\">Simula el parámetro $\\mu$</span>\n"
   ]
  },
  {
   "cell_type": "code",
   "execution_count": 3,
   "metadata": {},
   "outputs": [],
   "source": [
    "alpha = 5\n",
    "beta = 2\n",
    "mu = stats.beta(alpha,beta).rvs(1)"
   ]
  },
  {
   "cell_type": "code",
   "execution_count": 4,
   "metadata": {
    "collapsed": true,
    "jupyter": {
     "outputs_hidden": true,
     "source_hidden": true
    }
   },
   "outputs": [
    {
     "name": "stdout",
     "output_type": "stream",
     "text": [
      "mu=  [0.67330565]\n"
     ]
    }
   ],
   "source": [
    "print(\"mu= \",mu)"
   ]
  },
  {
   "cell_type": "markdown",
   "metadata": {},
   "source": [
    "Este es el parámetro de interés que intentaremos recuperar más adelante.\n"
   ]
  },
  {
   "cell_type": "markdown",
   "metadata": {},
   "source": [
    "### <span style=\"color:#4CC9F0\">Simula la observación aleatoria binomial $w$</span>\n"
   ]
  },
  {
   "cell_type": "markdown",
   "metadata": {},
   "source": [
    "Vamos a suponer un experimento $\\text{Binomial} (N,\\mu)$, con $N= 100$."
   ]
  },
  {
   "cell_type": "code",
   "execution_count": 5,
   "metadata": {},
   "outputs": [],
   "source": [
    "N =100\n",
    "w = stats.binom(n=N, p=mu).rvs(1)"
   ]
  },
  {
   "cell_type": "code",
   "execution_count": 6,
   "metadata": {},
   "outputs": [
    {
     "name": "stdout",
     "output_type": "stream",
     "text": [
      "w=  [69]\n"
     ]
    }
   ],
   "source": [
    "print(\"w= \",w)"
   ]
  },
  {
   "cell_type": "markdown",
   "metadata": {},
   "source": [
    "### <span style=\"color:#4CC9F0\">Cálculo de la posterior</span>\n"
   ]
  },
  {
   "cell_type": "markdown",
   "metadata": {},
   "source": [
    "Vamos a suponer un apriori $\\beta(1.2,1.2)$. NOs olvidamos de la distribución usada para generar $\\mu$, puesto en la practica se desconoce.\n",
    "\n",
    "Veamos un gráfico"
   ]
  },
  {
   "cell_type": "code",
   "execution_count": 7,
   "metadata": {},
   "outputs": [
    {
     "data": {
      "image/png": "[encoded data removed]",
      "text/plain": [
       "<Figure size 432x288 with 1 Axes>"
      ]
     },
     "metadata": {
      "needs_background": "light"
     },
     "output_type": "display_data"
    }
   ],
   "source": [
    "x = np.linspace(0,1,100)\n",
    "y = stats.beta(1.2,1.2).pdf(x)\n",
    "\n",
    "fig, ax = plt.subplots(1, 1,sharex = True, sharey = True, figsize=(6,4))\n",
    "ax.set_ylim(0,1.2)\n",
    "ax.plot(x,y)\n",
    "ax.plot(0, 0, label=\"$\\\\alpha$ = {:3.2f}\\n$\\\\beta$ = {:3.2f}\".format(1.2, 1.2), alpha=0)\n",
    "ax.legend(fontsize=12)\n",
    "fig.suptitle('Gráficos de la apriori propuesta Beta(1.2,1.2)',fontsize=16)\n",
    "plt.show()"
   ]
  },
  {
   "cell_type": "markdown",
   "metadata": {},
   "source": [
    "Esta distribución es cercana a la uniforme $U(0,1)$. ¿Porque?"
   ]
  },
  {
   "cell_type": "markdown",
   "metadata": {},
   "source": [
    "La distribución posterior es $\\text{Beta}(1.2 +w, 1.2 + N-w)=\\text{Beta}(70.2, 32.2)$"
   ]
  },
  {
   "cell_type": "markdown",
   "metadata": {},
   "source": [
    "### <span style=\"color:#4CC9F0\">Estimaciones</span>\n"
   ]
  },
  {
   "cell_type": "markdown",
   "metadata": {},
   "source": [
    "#### <span style=\"color:#4CC9F0\">Moda posterior</span>\n"
   ]
  },
  {
   "cell_type": "code",
   "execution_count": 8,
   "metadata": {},
   "outputs": [],
   "source": [
    "from scipy.optimize import minimize_scalar as minimize\n",
    "\n",
    "def f(t,alpha,beta):\n",
    "    return  -stats.beta(alpha,beta).pdf(t)\n",
    "\n",
    "lower = 1e-3\n",
    "upper = 1  - 1e-3 \n",
    "mode_f = minimize(f, bounds =(lower,upper),args=( 70.2,32.2), method='bounded' )"
   ]
  },
  {
   "cell_type": "code",
   "execution_count": 9,
   "metadata": {},
   "outputs": [
    {
     "data": {
      "text/plain": [
       "     fun: -8.696851939248646\n",
       " message: 'Solution found.'\n",
       "    nfev: 11\n",
       "  status: 0\n",
       " success: True\n",
       "       x: 0.6892428669826581"
      ]
     },
     "execution_count": 9,
     "metadata": {},
     "output_type": "execute_result"
    }
   ],
   "source": [
    "mode_f"
   ]
  },
  {
   "cell_type": "code",
   "execution_count": 10,
   "metadata": {},
   "outputs": [],
   "source": [
    "MAP = mode_f.x"
   ]
  },
  {
   "cell_type": "markdown",
   "metadata": {},
   "source": [
    "#### <span style=\"color:#4CC9F0\">Mediana Posterior</span>\n"
   ]
  },
  {
   "cell_type": "code",
   "execution_count": 11,
   "metadata": {},
   "outputs": [
    {
     "data": {
      "text/plain": [
       "0.6867591043997296"
      ]
     },
     "execution_count": 11,
     "metadata": {},
     "output_type": "execute_result"
    }
   ],
   "source": [
    "MEAP = stats.beta(70.2,32.2).ppf(0.5)\n",
    "MEAP\n",
    "# o también\n",
    "stats.beta(70.2,32.2).median()"
   ]
  },
  {
   "cell_type": "markdown",
   "metadata": {},
   "source": [
    "#### <span style=\"color:#4CC9F0\">Media Posterior</span>\n"
   ]
  },
  {
   "cell_type": "code",
   "execution_count": 12,
   "metadata": {},
   "outputs": [
    {
     "data": {
      "text/plain": [
       "0.7142857142857143"
      ]
     },
     "execution_count": 12,
     "metadata": {},
     "output_type": "execute_result"
    }
   ],
   "source": [
    "EAP = stats.beta(alpha,beta).mean()\n",
    "EAP"
   ]
  },
  {
   "cell_type": "markdown",
   "metadata": {},
   "source": [
    "#### <span style=\"color:#4CC9F0\">Intervalo de credibilidad  del 95%</span>\n"
   ]
  },
  {
   "cell_type": "code",
   "execution_count": 13,
   "metadata": {},
   "outputs": [
    {
     "name": "stdout",
     "output_type": "stream",
     "text": [
      "I.C. 94\\% [0.59676842 0.76818772]\n"
     ]
    }
   ],
   "source": [
    "i_cred_94 = stats.beta(70.2,32.2).ppf((0.03,0.97))\n",
    "print(\"I.C. 94\\%\",i_cred_94)"
   ]
  },
  {
   "cell_type": "markdown",
   "metadata": {},
   "source": [
    "#### <span style=\"color:#4CC9F0\">Desviación estándar de la posterior</span>\n"
   ]
  },
  {
   "cell_type": "code",
   "execution_count": 14,
   "metadata": {},
   "outputs": [
    {
     "data": {
      "text/plain": [
       "0.15971914124998499"
      ]
     },
     "execution_count": 14,
     "metadata": {},
     "output_type": "execute_result"
    }
   ],
   "source": [
    "desv= stats.beta(alpha,beta).std()\n",
    "desv"
   ]
  },
  {
   "cell_type": "markdown",
   "metadata": {},
   "source": [
    "#### <span style=\"color:#4CC9F0\">Resumen Estadístico de la distribución Posterior</span>\n"
   ]
  },
  {
   "cell_type": "markdown",
   "metadata": {},
   "source": [
    "|Moda |Mediana | Media |Desv.|i_3%|i_97%|\n",
    "|---|---|---|---|---|---|\n",
    "|0.689|0.687|0.714|0.16|0.597|0.768|"
   ]
  },
  {
   "cell_type": "code",
   "execution_count": 15,
   "metadata": {},
   "outputs": [
    {
     "data": {
      "image/png": "[encoded data removed]",
      "text/plain": [
       "<Figure size 1440x432 with 2 Axes>"
      ]
     },
     "metadata": {
      "needs_background": "light"
     },
     "output_type": "display_data"
    }
   ],
   "source": [
    "x = np.linspace(0,1,100)\n",
    "y = stats.beta(1.2,1.2).pdf(x)\n",
    "\n",
    "fig, ax = plt.subplots(1, 2,sharex = True, figsize=(20,6))\n",
    "ax[0].set_ylim(0,9)\n",
    "ax[0].plot(x,y)\n",
    "ax[0].plot(0, 0, label=\"A priori: \\n$\\\\alpha$ = {:3.2f}\\n$\\\\beta$ = {:3.2f}\".format(1.2, 1.2), alpha=0)\n",
    "ax[0].legend(fontsize=12)\n",
    "\n",
    "y = stats.beta(70.2,32.2).pdf(x)\n",
    "\n",
    "ax[1].set_ylim(0,9)\n",
    "ax[1].plot(x,y)\n",
    "ax[1].plot(0, 0, label=\"Posterior: \\n$\\\\alpha$ = {:3.2f}\\n$\\\\beta$ = {:3.2f}\".format(70.2, 32.2), alpha=0)\n",
    "ax[1].legend(fontsize=12)\n",
    "fig.suptitle('Gráficos de la apriori y la posterior de $\\mu$',fontsize=16)\n",
    "plt.show()"
   ]
  },
  {
   "cell_type": "markdown",
   "metadata": {},
   "source": [
    "## <span style=\"color:#4361EE\">Programación Probabilística</span>\n"
   ]
  },
  {
   "cell_type": "code",
   "execution_count": 16,
   "metadata": {},
   "outputs": [],
   "source": [
    "# diccionario de datos\n",
    "\n",
    "w=69\n",
    "datos_binom = {'N': N,\n",
    "               'w': w,\n",
    "               'a': 1.2,\n",
    "               'b': 1.2}"
   ]
  },
  {
   "cell_type": "code",
   "execution_count": 17,
   "metadata": {},
   "outputs": [
    {
     "data": {
      "text/plain": [
       "{'N': 100, 'w': 69, 'a': 1.2, 'b': 1.2}"
      ]
     },
     "execution_count": 17,
     "metadata": {},
     "output_type": "execute_result"
    }
   ],
   "source": [
    "datos_binom"
   ]
  },
  {
   "cell_type": "markdown",
   "metadata": {},
   "source": [
    "````{tab} Pyro\n",
    "```python\n",
    "def binomial_code(N,w,a,b):\n",
    "    mu = pyro.sample('mu', dist.Beta(a, b))\n",
    "    with pyro.plate(\"plate\"):\n",
    "        pyro.sample(\"w\",dist.Binomial(N,mu),obs=w)   \n",
    "```\n",
    "````\n",
    "````{tab} TFP\n",
    "```python\n",
    "binomial_code = tfd.JointDistributionSequential([\n",
    "  tfd.Beta(a, b, name=\"mu\"),  # `mu` \n",
    "  lambda mu, N: (\n",
    "      tfd.Independent(tfd.Binomial(N[..., tf.newaxis] , mu[..., tf.newaxis]),\n",
    "                      name=\"w\", \n",
    "                      reinterpreted_batch_ndims=1))\n",
    "])\n",
    "\n",
    "def target_log_prob_fn(mu):\n",
    "  \"\"\"Densidad objetivo no normalizada como función de estados.\"\"\"\n",
    "  return binomial_code.log_prob((N,mu))\n",
    "\n",
    "```\n",
    "````\n",
    "````{tab} Stan\n",
    "``` r\n",
    "binomial_code = \"\"\"\n",
    "data {\n",
    "    int<lower=0> N; // Tamaño del experiemnto\n",
    "    int<lower=0,upper=N> w; // observacion binomial\n",
    "    real<lower=0.0> a; // parámetros de la apriori: Beta(a,b)\n",
    "    real<lower=0.0> b; \n",
    "}\n",
    "\n",
    "parameters {\n",
    "    real<lower=0.0001,upper=0.9999> mu;\n",
    "}\n",
    "\n",
    "model {\n",
    "   mu ~ beta(a, b);\n",
    "    w ~ binomial(N, mu);\n",
    "}\n",
    "\n",
    "generated quantities {\n",
    "    real log_lik;\n",
    "    int w_hat;\n",
    "    log_lik = binomial_lpmf(w | N,mu);\n",
    "    w_hat = binomial_rng(N, mu);\n",
    "}\n",
    "\"\"\"\n",
    "```\n",
    "````"
   ]
  },
  {
   "cell_type": "markdown",
   "metadata": {},
   "source": [
    "### <span style=\"color:#4CC9F0\">Compila el modelo</span>\n"
   ]
  },
  {
   "cell_type": "markdown",
   "metadata": {},
   "source": [
    "````{tab} Pyro\n",
    "```python\n",
    "nuts_kernel = NUTS(binomial_code, adapt_step_size=True)\n",
    "mcmc = MCMC(nuts_kernel, num_samples=500, warmup_steps=300)\n",
    "mcmc.run(J,y,sigma)\n",
    "posterior_samples = mcmc.get_samples()\n",
    "posterior_predictive = Predictive(binomial_code, posterior_samples)(\n",
    "    N,w,a,b\n",
    ")\n",
    "```\n",
    "````\n",
    "\n",
    "````{tab} TFP\n",
    "```python\n",
    "num_results = 5000\n",
    "num_burnin_steps = 3000\n",
    "\n",
    "# Mejorar el rendimiento rastreando el muestreador con `tf.function`\n",
    "# y compilarlo usando XLA.\n",
    "# autograph transforma un subconjunto de código de Python a TensorFlow\n",
    "#jit_compile compila la función usando XLA\n",
    "@tf.function(autograph=False, jit_compile=True)\n",
    "def do_sampling():\n",
    "    # Muestreador que usa cadenas de Markov\n",
    "  return tfp.mcmc.sample_chain(\n",
    "      num_results=num_results,\n",
    "      num_burnin_steps=num_burnin_steps,\n",
    "      # Representación de nuestra previa\n",
    "      current_state=[\n",
    "          tf.zeros([J], name='init_mu'),\n",
    "      ],\n",
    "      kernel=tfp.mcmc.HamiltonianMonteCarlo(\n",
    "          # Devuelve la log-densidad de nuestra previa\n",
    "          target_log_prob_fn=target_log_prob_fn,\n",
    "          step_size=0.4,\n",
    "          num_leapfrog_steps=3))\n",
    "\n",
    "states, kernel_results = do_sampling()\n",
    "\n",
    "mu = states\n",
    "sample_shape = [5000]\n",
    "\n",
    "_, _, _, y = w.sample(\n",
    "    value=(tf.broadcast_to(np.mean(mu, 0), sample_shape))\n",
    "```\n",
    "````\n",
    "\n",
    "````{tab} Stan\n",
    "``` r\n",
    "# compile the  model\n",
    "bm = pystan.StanModel(model_code=binomial_code)\n",
    "```\n",
    "````"
   ]
  },
  {
   "cell_type": "markdown",
   "metadata": {},
   "source": [
    "### <span style=\"color:#4CC9F0\">Extrae las muestras de la Posterior</span>\n"
   ]
  },
  {
   "cell_type": "markdown",
   "metadata": {},
   "source": [
    "````{tab} Pyro\n",
    "```python\n",
    "samples=mcmc.get_samples()\n",
    "```\n",
    "````\n",
    "\n",
    "````{tab} TFP\n",
    "```python\n",
    "samples = kernel_results\n",
    "```\n",
    "````\n",
    "\n",
    "````{tab} Stan\n",
    "``` r\n",
    "# extract the samples\n",
    "samples = bm.sampling(data=datos_binom, iter=6000, chains=4,warmup=1000,thin=5)\n",
    "```\n",
    "````"
   ]
  },
  {
   "cell_type": "markdown",
   "metadata": {},
   "source": [
    "### <span style=\"color:#4CC9F0\">Análisis Exploratorio Bayesiano</span>\n"
   ]
  },
  {
   "cell_type": "markdown",
   "metadata": {},
   "source": [
    "````{tab} Arviz\n",
    "```python\n",
    "import arviz as az\n",
    "import numpy as np\n",
    "import pandas as pd\n",
    "import xarray\n",
    "\n",
    "```\n",
    "````\n"
   ]
  },
  {
   "cell_type": "markdown",
   "metadata": {},
   "source": [
    "\n"
   ]
  },
  {
   "cell_type": "markdown",
   "metadata": {},
   "source": [
    "````{tab} Pyro\n",
    "```python\n",
    "az.style.use('arviz-darkgrid')\n",
    "\n",
    "xarray.set_options(display_style=\"html\");\n",
    "\n",
    "az_data = az.from_pyro(\n",
    "    mcmc,\n",
    "    posterior_predictive = posterior_predictive,\n",
    "    }\n",
    ")\n",
    "\n",
    "```\n",
    "````\n",
    "\n",
    "````{tab} TFP\n",
    "```python\n",
    "az.style.use('arviz-darkgrid')\n",
    "\n",
    "xarray.set_options(display_style=\"html\");\n",
    "\n",
    "az_data = az.from_tfp (\n",
    "    posterior = kernel_results,\n",
    "    posterior_predictive_samples=500,\n",
    "    }\n",
    ")\n",
    "```\n",
    "````\n",
    "\n",
    "````{tab} Stan\n",
    "``` r\n",
    "az.style.use('arviz-darkgrid')\n",
    "\n",
    "xarray.set_options(display_style=\"html\");\n",
    "\n",
    "    az_data = az.from_pystan(\n",
    "    posterior=samples,\n",
    "    posterior_predictive='w_hat',\n",
    "    observed_data=['w'],\n",
    "    log_likelihood={'w': 'log_lik'},\n",
    "    )\n",
    "```\n",
    "````"
   ]
  },
  {
   "cell_type": "markdown",
   "metadata": {},
   "source": [
    "\n"
   ]
  },
  {
   "cell_type": "markdown",
   "metadata": {},
   "source": [
    "````{tab} Arviz\n",
    "```python\n",
    "az.plot_density(az_data, var_names=['mu']);\n",
    "```\n",
    "````\n"
   ]
  },
  {
   "cell_type": "markdown",
   "metadata": {},
   "source": [
    "\n"
   ]
  },
  {
   "cell_type": "markdown",
   "metadata": {},
   "source": [
    "````{tab} Pyro\n",
    "```python\n",
    "az.plot_autocorr(az_data, var_names=(\"mu\"))\n",
    "```\n",
    "````\n"
   ]
  },
  {
   "cell_type": "markdown",
   "metadata": {},
   "source": [
    "\n"
   ]
  },
  {
   "cell_type": "markdown",
   "metadata": {},
   "source": [
    "````{tab} Arviz\n",
    "```python\n",
    "az.plot_trace(az_data, var_names=(\"mu\"))\n",
    "```\n",
    "````\n"
   ]
  },
  {
   "cell_type": "markdown",
   "metadata": {},
   "source": [
    "\n"
   ]
  },
  {
   "cell_type": "markdown",
   "metadata": {},
   "source": [
    "````{tab} Arviz\n",
    "```python\n",
    "az.plot_mcse(az_data)\n",
    "```\n",
    "````\n"
   ]
  },
  {
   "cell_type": "markdown",
   "metadata": {},
   "source": [
    "\n"
   ]
  },
  {
   "cell_type": "markdown",
   "metadata": {},
   "source": [
    "````{tab} Arviz\n",
    "```python\n",
    "az.summary(samples)\n",
    "```\n",
    "````\n"
   ]
  },
  {
   "cell_type": "markdown",
   "metadata": {},
   "source": [
    "\n"
   ]
  },
  {
   "cell_type": "markdown",
   "metadata": {},
   "source": [
    "````{tab} Arviz\n",
    "```python\n",
    "az.plot_posterior(samples)\n",
    "```\n",
    "````\n"
   ]
  }
 ],
 "metadata": {
  "interpreter": {
   "hash": "cf92aa13fedf815d5c8dd192b8d835913fde3e8bc926b2a0ad6cc74ef2ba3ca2"
  },
  "kernelspec": {
   "display_name": "Python 3.9.8 64-bit",
   "language": "python",
   "name": "python3"
  },
  "language_info": {
   "codemirror_mode": {
    "name": "ipython",
    "version": 3
   },
   "file_extension": ".py",
   "mimetype": "text/x-python",
   "name": "python",
   "nbconvert_exporter": "python",
   "pygments_lexer": "ipython3",
   "version": "3.9.8"
  }
 },
 "nbformat": 4,
 "nbformat_minor": 4
}
