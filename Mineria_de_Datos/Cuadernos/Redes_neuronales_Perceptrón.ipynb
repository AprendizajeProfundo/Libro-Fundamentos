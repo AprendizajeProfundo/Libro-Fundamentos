{
  "nbformat": 4,
  "nbformat_minor": 0,
  "metadata": {
    "colab": {
      "provenance": [],
      "collapsed_sections": [
        "QnQjTLL43AtY",
        "J34g3n2T4cKz",
        "li1L8ORsNte_",
        "6l8BSkTqeKl_",
        "b1Lo-gFKStpw",
        "7nVLpU_KURo7",
        "QFF5ccioHLwd",
        "J5DuniLqIixc",
        "8-OirOVaMeCL"
      ],
      "include_colab_link": true
    },
    "kernelspec": {
      "name": "python3",
      "display_name": "Python 3"
    },
    "language_info": {
      "name": "python"
    }
  },
  "cells": [
    {
      "cell_type": "markdown",
      "metadata": {
        "id": "view-in-github",
        "colab_type": "text"
      },
      "source": [
        "<a href=\"https://colab.research.google.com/github/SofiaMoreno02/Mineria-de-datos/blob/main/Redes_neuronales_Perceptr%C3%B3n.ipynb\" target=\"_parent\"><img src=\"https://colab.research.google.com/assets/colab-badge.svg\" alt=\"Open In Colab\"/></a>"
      ]
    },
    {
      "cell_type": "markdown",
      "source": [
        "# <center><font color= red> <b> Redes neuronales: Perceptrón </b> </i> </font> </center> "
      ],
      "metadata": {
        "id": "2odnHjB7yhhg"
      }
    },
    {
      "cell_type": "markdown",
      "source": [
        "<center> <img src=\"https://cdn.pixabay.com/photo/2022/04/06/04/47/ai-7114793_960_720.jpg\"width='1300' height='300'> </center>\n",
        "\n"
      ],
      "metadata": {
        "id": "idx7Srze0DCN"
      }
    },
    {
      "cell_type": "markdown",
      "source": [
        "Fuente: [imágenes libres en pixabay](https://pixabay.com/es/illustrations/ai-inteligencia-artificial-7114793/)"
      ],
      "metadata": {
        "id": "abTiviC20V0o"
      }
    },
    {
      "cell_type": "markdown",
      "source": [
        "## <font color= blue> Autores"
      ],
      "metadata": {
        "id": "_CsQA6V3iRWw"
      }
    },
    {
      "cell_type": "markdown",
      "source": [
        "\n",
        "*  Ariadna Sofia Contreras Abril, arcontrerasa@unal.edu.co\n",
        "* Julieth Sofía Moreno Ahumada, jmorenoah@unal.edu.co\n",
        "* Nicolás Súarez Gutiérrez, nisuarez@unal.edu.co"
      ],
      "metadata": {
        "id": "03UBROV90l_W"
      }
    },
    {
      "cell_type": "markdown",
      "source": [
        "## <font color=blue> Referencias"
      ],
      "metadata": {
        "id": "l-dvFDycYRHm"
      }
    },
    {
      "cell_type": "markdown",
      "source": [
        "\n",
        "* [Flexible statistical inference for mechanistic models of neural dynamics, J-M Lueckmann](https://proceedings.neurips.cc/paper/2017/file/addfa9b7e234254d26e9c7f2af1005cb-Paper.pdf)\n",
        "* [Neural Networks and Statistical, ModelsWarren S. Sarle](https://citeseerx.ist.psu.edu/viewdoc/download;jsessionid=0956C808E6C23BF0414809E3AA6B0757?doi=10.1.1.27.699&rep=rep1&type=pdf)\n",
        "* [IEE.EXPLORE](https://ieeexplore.ieee.org/stamp/stamp.jsp?tp=&arnumber=471372)\n",
        "* [Redes Neuronales,Jamie Areli-Toral Barrera](http://www.cucei.udg.mx/sites/default/files/pdf/toral_barrera_jamie_areli.pdf)\n",
        "\n",
        "* [Neural Network Toolbox™ 6 User’s Guide, H Demuth, M Beale,M Hagan](https://kashanu.ac.ir/Files/Content/neural_network_toolbox_6.pdf) \n",
        "\n",
        "* [sklearn.neural_network.MLPRegressor](https://scikit-learn.org/stable/modules/generated/sklearn.neural_network.MLPRegressor.html#sklearn.neural_network.MLPRegressor.set_params)\n",
        "\n",
        "* [¿qué es el perceptron simple y multicapa?](https://aprendeia.com/que-es-el-perceptron-simple-y-multicapa/)\n",
        "\n",
        "* [Perceptrón - Wikipedia](https://es.wikipedia.org/wiki/Perceptrón)\n",
        "\n",
        "* [Perceptrón simple y multicapa](http://avellano.fis.usal.es/~lalonso/RNA/introMLP.htm)\n",
        "\n",
        "* [Entrenamiento de redes neuronales](http://grupo.us.es/gtocoma/pid/pid10/RedesNeuronales.htm#entrenamiento)\n",
        "\n",
        "* [Perceptrón multicapa](http://catarina.udlap.mx/u_dl_a/tales/documentos/lep/mejia_s_ja/capitulo3.pdf)\n",
        "\n",
        "* [Perceptrón simple definición y propiedades](https://blog.damavis.com/perceptron-simple-definicion-matematica-y-propiedades/)\n",
        "\n",
        "* [Redes neuronales, Biblioteca Alejandría](https://nbviewer.org/github/AprendizajeProfundo/Diplomado-Avanzado/blob/main/Redes%20Neuronales/Cuadernos/RedesNeuronales_intro.ipynb)"
      ],
      "metadata": {
        "id": "TmJ9sY4A1MfM"
      }
    },
    {
      "cell_type": "markdown",
      "source": [
        "# <font color= blue>Introducción"
      ],
      "metadata": {
        "id": "nuxhD3KpLEM9"
      }
    },
    {
      "cell_type": "markdown",
      "source": [
        "\n",
        "Uno de los problemas más comunes en el mundo de la ciencia de datos es el de la predicción del valor de ciertas variables a partir de otras variables para resolver problemas de clasificación o regresión. Los problemas de clasificación y de regresión constituyen las dos principales clases de lo que se llama aprendizaje automático supervisado, perceptrón, un modelo matemático que es entrenado para aprender a predecir una o más variables.\n",
        "\n",
        "Las redes neuronales son una herramienta computacional, basadas en modelos matemáticos que intentan imitar el funcionamiento de las neuronas del cerebro humano. En la actualidad estas herramientas han ganado cada vez mayor reconocimiento debido a su gran aplicabilidad a la resolución de problemas de regresión, clasificación y clustering en los que la estadística tradicional no brinda suficientes herramientas.\n",
        "\n",
        "Debido al constante avance de la tecnología y la aparición de problemas nuevos en cuanto al tratamiento y procesamiento de la información es que las redes neuronales se han venido desarrollado constantemente, permitiendo así que existan diversos tipos de estructuras para una red neuronal, las cuáles dependen del propósito con el cual se desea construir dicha red. Estas estructuras al igual que las redes neuronales biológicas constan de múltiples neuronas interconectadas. Algunos ejemplos de estructuras son:\n",
        "\n",
        "* Perceptrón\n",
        "* Auto-encoder\n",
        "* Red recurrente\n",
        "* Red convolucional\n",
        "\n",
        "\n",
        "A partir de esto podemos entender un poco mejor que es un perceptrón."
      ],
      "metadata": {
        "id": "pmY5e_5rCfbq"
      }
    },
    {
      "cell_type": "markdown",
      "source": [
        "En el proceso de entrenamiento, el modelo debe entender cómo afectan las distintas características, variables, y así, posteriormente, conociendo solamente las demás variables, ser capaz de predecir o clasificar en una variable final.\n",
        "Existen varios modelos de aprendizaje distintos para resolver problemas como:\n",
        "\n",
        " K-Nearest Neighbors (usado sobre todo para clasificación).\n",
        "\n",
        "La regresión logística (usada para clasificación y regresión) .\n",
        "\n",
        "La regresión lineal (para regresión).\n",
        "\n",
        " Pues bien, las redes neuronales artificiales pretenden imitar el funcionamiento de las redes neuronales biológicas. De la misma manera que estas están formadas por neuronas, la principal unidad constituyente de las redes neuronales artificiales es el perceptrón simple, también llamado simplemente perceptrón. Este no es más que la representación matemática de una neurona, y de hecho imita su estructura y las funciones de cada una de sus partes."
      ],
      "metadata": {
        "id": "CD1kEufO8pOu"
      }
    },
    {
      "cell_type": "markdown",
      "source": [
        "# <font color=blue> Reseña Histórica"
      ],
      "metadata": {
        "id": "gqq91Ty02IeT"
      }
    },
    {
      "cell_type": "markdown",
      "source": [
        "<img src=\"https://upload.wikimedia.org/wikipedia/commons/thumb/8/8e/Rosenblatt_21.jpg/461px-Rosenblatt_21.jpg?20171223200132\" width='250' height='300'>"
      ],
      "metadata": {
        "id": "mjWfzOcE2KPi"
      }
    },
    {
      "cell_type": "markdown",
      "source": [
        "Fuente: [Wikimedia commons](https://commons.wikimedia.org/wiki/File:Rosenblatt_21.jpg)"
      ],
      "metadata": {
        "id": "9ok-xkGD2wMy"
      }
    },
    {
      "cell_type": "markdown",
      "source": [
        " \n",
        "<p align=\"justify\"> Frank Rosenblatt fue un psicólogo estadounidense, considerado en la actualidad como el padre del Deep learning. Nació el 11 de julio de 1928 en Nueva York, estudió psicología en el instituto Bronx de Ciencia, posteriormente obtuvo la licenciatura en letras y un doctorado en filosofía. Trabajó en el Laboratorio Cornell Aeronáutico donde se desempeñó como jefe de la sección de sistemas cognitivos. Durante su vida se dedicó a la enseñanza e investigación en psicología, sistemas cognitivos y transferencia del comportamiento. Falleció el 11 de julio de 1971,  tras su muerte las investigaciones en redes neuronales se detuvieron hasta la época de los 80 cuando nuevos investigadores retomaron el trabajo de Rosenblatt.\n",
        "</p>\n",
        "<p align=\"justify\">El trabajo de Frank Rosenblatt, fue el principal referente del “Mark I perceptrón” el primer computador diseñado para crear redes neuronales artificiales, podemos clasificarlo como deep learning pues no hacía falta ponerle parámetros preestablecidos, pues el mismo programa construye sus parámetros cada vez que realiza una repetición del experimento, la función del mark I es descifrar el sexo de rostros humanos.</p>"
      ],
      "metadata": {
        "id": "SYx_CyoCCsdh"
      }
    },
    {
      "cell_type": "markdown",
      "source": [
        "# <font color=blue> ¿Qué es un perceptrón?"
      ],
      "metadata": {
        "id": "dTexs1jYYWto"
      }
    },
    {
      "cell_type": "markdown",
      "source": [
        "\n",
        "Como lo mencionamos anteriormente un perceptrón es en principio una estructura de red neuronal. Como vemos en el gráfico anterior, un perceptrón funciona como una neurona, pues recibe unas señales de entrada, las cuales pondera por los pesos sinápticos y las suma, posteriormente la función de activación puede entenderse como un umbral que dicha suma de señales debe superar para lograr \"encender\" la neurona, asi como sucede con las neuronas biológicas, pues los impulsos que resiven deben ser suficientemente fuertes para activar la sinapsis y asi reenviar ese impulso a las siguientes neuronas conectadas.\n",
        "\n",
        "A partir de esto podemos resumir el perceptrón como una función matemática que devuelve como resultado 0's y 1's, entonces se puede entender como un algoritmo clasificador binario, el cual puede hacer una predicción binaria con base a unos valores de entrada y un aprendizaje previo."
      ],
      "metadata": {
        "id": "6PJimRVD3ncK"
      }
    },
    {
      "cell_type": "markdown",
      "source": [
        "## <font color=#4CC9F0> Componentes de un perceptrón\n"
      ],
      "metadata": {
        "id": "QnQjTLL43AtY"
      }
    },
    {
      "cell_type": "markdown",
      "source": [
        " El perceptrón es muy bueno resolviendo con funciones lineales $(0, 1)$ pero es muy débil para la construcción y predicción con modelos no lineales. Para su correcto funcionamiento hace falta, a parte programarlo, entrenarlo.\n",
        "\n",
        "Las partes de un perceptrón son las siguientes:\n",
        "\n",
        "**1.Conjunto de entradas $x_j(t)$:** \n",
        "\n",
        "Dependiendo del modelo las entradas pueden ser binarias o continuas, cada valor se guarda en un $x_j$ vector de entradas tamaño $n$.\n",
        "\n",
        "**2.Pesos sinápticos  asociados a las entradas $w_{ij}$:** \n",
        "\n",
        "Representan la intensidad de interacción $W_i$ entre cada neurona presináptica j y la neurona postsináptica i, el producto sera un $W_{ij}$ estos son guardados en una Matriz $W$.\n",
        "\n",
        "$z_{i}=x_{i}W+b_{i}$ donde b son interceptos del vector $x_{i}$ podemos construir una matrizde bloques para simplificar la función, pero el resultado es el mismo.\n",
        "\n",
        "**3.Regla de propagación $h_i(t)=\\sigma\\left(w_{i j}, x_j(t)\\right)$:** \n",
        "\n",
        "Proporciona el valor del potencial postsináptico, h(t), de la neurona i en función de sus pesos y entradas, las más común es $h_i(t)=\\sum w_{i j} x_j$.\n",
        "\n",
        "**4.Función de activación que representa simultáneamente la salida de la neurona y su estado de activación $y_i(t)=f_i\\left(h_i(t)\\right)$:** \n",
        "\n",
        "Proporciona el estado de activación actual, $a$, de la neurona $i$ en función de su estado anterior, $a$, y de su potencial postsináptico actual. En muchos modelos de ANS se considera que el estado actual de la neurona no depende de su estado anterior, sino únicamente del actual.\n",
        "\n"
      ],
      "metadata": {
        "id": "Vc8ax-TqDGD4"
      }
    },
    {
      "cell_type": "markdown",
      "source": [
        "# <font color=blue> Tipos de perceptrón"
      ],
      "metadata": {
        "id": "Tw6pI23N36h3"
      }
    },
    {
      "cell_type": "markdown",
      "source": [
        "## <font color=#4CC9F0> <strong> Perceptrón simple (Rosenblatt,1959)</strong>\n"
      ],
      "metadata": {
        "id": "J34g3n2T4cKz"
      }
    },
    {
      "cell_type": "markdown",
      "source": [
        "<img src=\"https://upload.wikimedia.org/wikipedia/commons/c/c5/Perceptrón.svg\" width='300' height='250'> "
      ],
      "metadata": {
        "id": "TVvNz3N54ufE"
      }
    },
    {
      "cell_type": "markdown",
      "source": [
        "Fuente: [Wikimedia commons](https://commons.wikimedia.org/wiki/File:Perceptr%C3%B3n_5_unidades.svg)"
      ],
      "metadata": {
        "id": "UI6xSQ785E0B"
      }
    },
    {
      "cell_type": "markdown",
      "source": [
        "El perceptrón simple consta de una red feedforward con una capa de entrada y una de salida. Debido a que analiza solamente objetos linealmente separables con resultados binarios, este será el tipo de señales que utilizan como salida.\n",
        "\n",
        "Al tener $n$ neuronas de entrada y $m$ de salida un perceptrón simple se puede expresar de la siguiente forma\n",
        "\n",
        "$$y_i(t)=H\\left(\\sum_{j=1}^n w_{i j} x_j\\right)\\hspace{0.5cm}, \\forall i \\hspace{0.5cm} 1 \\leq i \\leq m$$\n",
        "\n",
        "donde $H(\\cdot)$ es conocida como función de activación, la cual puede ser la función escalón de Heaviside, y $t$ el umbral de decisión, se puede concluir que el perceptrón simple estaría formado por dispositivos de umbral.\n",
        "\n",
        "**Nota: el perceptrón simple es útil para la representación de funciones booleanas**\n",
        "\n",
        "Como se puede observar la regla de propagación que se usa es la suma ponderada del producto escalar por el vector de entrada, el cual se debe superarse en cierto umbral."
      ],
      "metadata": {
        "id": "pooZGFf65Op3"
      }
    },
    {
      "cell_type": "code",
      "source": [
        "from google.colab import files\n",
        "from io import BytesIO\n",
        "from PIL import Image\n",
        "\n",
        "uploaded = files.upload()\n",
        "im = Image.open(BytesIO(uploaded['perceptron lineal.PNG']))\n"
      ],
      "metadata": {
        "colab": {
          "base_uri": "https://localhost:8080/",
          "height": 73
        },
        "id": "VvXsf_6Qb8pW",
        "outputId": "847d79f6-cc91-4f26-c8b1-0a8749b67bae"
      },
      "execution_count": null,
      "outputs": [
        {
          "output_type": "display_data",
          "data": {
            "text/plain": [
              "<IPython.core.display.HTML object>"
            ],
            "text/html": [
              "\n",
              "     <input type=\"file\" id=\"files-23551889-d548-4066-a31b-16ea98eac7f5\" name=\"files[]\" multiple disabled\n",
              "        style=\"border:none\" />\n",
              "     <output id=\"result-23551889-d548-4066-a31b-16ea98eac7f5\">\n",
              "      Upload widget is only available when the cell has been executed in the\n",
              "      current browser session. Please rerun this cell to enable.\n",
              "      </output>\n",
              "      <script>// Copyright 2017 Google LLC\n",
              "//\n",
              "// Licensed under the Apache License, Version 2.0 (the \"License\");\n",
              "// you may not use this file except in compliance with the License.\n",
              "// You may obtain a copy of the License at\n",
              "//\n",
              "//      http://www.apache.org/licenses/LICENSE-2.0\n",
              "//\n",
              "// Unless required by applicable law or agreed to in writing, software\n",
              "// distributed under the License is distributed on an \"AS IS\" BASIS,\n",
              "// WITHOUT WARRANTIES OR CONDITIONS OF ANY KIND, either express or implied.\n",
              "// See the License for the specific language governing permissions and\n",
              "// limitations under the License.\n",
              "\n",
              "/**\n",
              " * @fileoverview Helpers for google.colab Python module.\n",
              " */\n",
              "(function(scope) {\n",
              "function span(text, styleAttributes = {}) {\n",
              "  const element = document.createElement('span');\n",
              "  element.textContent = text;\n",
              "  for (const key of Object.keys(styleAttributes)) {\n",
              "    element.style[key] = styleAttributes[key];\n",
              "  }\n",
              "  return element;\n",
              "}\n",
              "\n",
              "// Max number of bytes which will be uploaded at a time.\n",
              "const MAX_PAYLOAD_SIZE = 100 * 1024;\n",
              "\n",
              "function _uploadFiles(inputId, outputId) {\n",
              "  const steps = uploadFilesStep(inputId, outputId);\n",
              "  const outputElement = document.getElementById(outputId);\n",
              "  // Cache steps on the outputElement to make it available for the next call\n",
              "  // to uploadFilesContinue from Python.\n",
              "  outputElement.steps = steps;\n",
              "\n",
              "  return _uploadFilesContinue(outputId);\n",
              "}\n",
              "\n",
              "// This is roughly an async generator (not supported in the browser yet),\n",
              "// where there are multiple asynchronous steps and the Python side is going\n",
              "// to poll for completion of each step.\n",
              "// This uses a Promise to block the python side on completion of each step,\n",
              "// then passes the result of the previous step as the input to the next step.\n",
              "function _uploadFilesContinue(outputId) {\n",
              "  const outputElement = document.getElementById(outputId);\n",
              "  const steps = outputElement.steps;\n",
              "\n",
              "  const next = steps.next(outputElement.lastPromiseValue);\n",
              "  return Promise.resolve(next.value.promise).then((value) => {\n",
              "    // Cache the last promise value to make it available to the next\n",
              "    // step of the generator.\n",
              "    outputElement.lastPromiseValue = value;\n",
              "    return next.value.response;\n",
              "  });\n",
              "}\n",
              "\n",
              "/**\n",
              " * Generator function which is called between each async step of the upload\n",
              " * process.\n",
              " * @param {string} inputId Element ID of the input file picker element.\n",
              " * @param {string} outputId Element ID of the output display.\n",
              " * @return {!Iterable<!Object>} Iterable of next steps.\n",
              " */\n",
              "function* uploadFilesStep(inputId, outputId) {\n",
              "  const inputElement = document.getElementById(inputId);\n",
              "  inputElement.disabled = false;\n",
              "\n",
              "  const outputElement = document.getElementById(outputId);\n",
              "  outputElement.innerHTML = '';\n",
              "\n",
              "  const pickedPromise = new Promise((resolve) => {\n",
              "    inputElement.addEventListener('change', (e) => {\n",
              "      resolve(e.target.files);\n",
              "    });\n",
              "  });\n",
              "\n",
              "  const cancel = document.createElement('button');\n",
              "  inputElement.parentElement.appendChild(cancel);\n",
              "  cancel.textContent = 'Cancel upload';\n",
              "  const cancelPromise = new Promise((resolve) => {\n",
              "    cancel.onclick = () => {\n",
              "      resolve(null);\n",
              "    };\n",
              "  });\n",
              "\n",
              "  // Wait for the user to pick the files.\n",
              "  const files = yield {\n",
              "    promise: Promise.race([pickedPromise, cancelPromise]),\n",
              "    response: {\n",
              "      action: 'starting',\n",
              "    }\n",
              "  };\n",
              "\n",
              "  cancel.remove();\n",
              "\n",
              "  // Disable the input element since further picks are not allowed.\n",
              "  inputElement.disabled = true;\n",
              "\n",
              "  if (!files) {\n",
              "    return {\n",
              "      response: {\n",
              "        action: 'complete',\n",
              "      }\n",
              "    };\n",
              "  }\n",
              "\n",
              "  for (const file of files) {\n",
              "    const li = document.createElement('li');\n",
              "    li.append(span(file.name, {fontWeight: 'bold'}));\n",
              "    li.append(span(\n",
              "        `(${file.type || 'n/a'}) - ${file.size} bytes, ` +\n",
              "        `last modified: ${\n",
              "            file.lastModifiedDate ? file.lastModifiedDate.toLocaleDateString() :\n",
              "                                    'n/a'} - `));\n",
              "    const percent = span('0% done');\n",
              "    li.appendChild(percent);\n",
              "\n",
              "    outputElement.appendChild(li);\n",
              "\n",
              "    const fileDataPromise = new Promise((resolve) => {\n",
              "      const reader = new FileReader();\n",
              "      reader.onload = (e) => {\n",
              "        resolve(e.target.result);\n",
              "      };\n",
              "      reader.readAsArrayBuffer(file);\n",
              "    });\n",
              "    // Wait for the data to be ready.\n",
              "    let fileData = yield {\n",
              "      promise: fileDataPromise,\n",
              "      response: {\n",
              "        action: 'continue',\n",
              "      }\n",
              "    };\n",
              "\n",
              "    // Use a chunked sending to avoid message size limits. See b/62115660.\n",
              "    let position = 0;\n",
              "    do {\n",
              "      const length = Math.min(fileData.byteLength - position, MAX_PAYLOAD_SIZE);\n",
              "      const chunk = new Uint8Array(fileData, position, length);\n",
              "      position += length;\n",
              "\n",
              "      const base64 = btoa(String.fromCharCode.apply(null, chunk));\n",
              "      yield {\n",
              "        response: {\n",
              "          action: 'append',\n",
              "          file: file.name,\n",
              "          data: base64,\n",
              "        },\n",
              "      };\n",
              "\n",
              "      let percentDone = fileData.byteLength === 0 ?\n",
              "          100 :\n",
              "          Math.round((position / fileData.byteLength) * 100);\n",
              "      percent.textContent = `${percentDone}% done`;\n",
              "\n",
              "    } while (position < fileData.byteLength);\n",
              "  }\n",
              "\n",
              "  // All done.\n",
              "  yield {\n",
              "    response: {\n",
              "      action: 'complete',\n",
              "    }\n",
              "  };\n",
              "}\n",
              "\n",
              "scope.google = scope.google || {};\n",
              "scope.google.colab = scope.google.colab || {};\n",
              "scope.google.colab._files = {\n",
              "  _uploadFiles,\n",
              "  _uploadFilesContinue,\n",
              "};\n",
              "})(self);\n",
              "</script> "
            ]
          },
          "metadata": {}
        },
        {
          "output_type": "stream",
          "name": "stdout",
          "text": [
            "Saving perceptron lineal.PNG to perceptron lineal (1).PNG\n"
          ]
        }
      ]
    },
    {
      "cell_type": "code",
      "source": [
        "import matplotlib.pyplot as plt\n",
        "\n",
        "plt.imshow(im)\n",
        "plt.show()"
      ],
      "metadata": {
        "colab": {
          "base_uri": "https://localhost:8080/",
          "height": 205
        },
        "id": "zeyBwenVc5kJ",
        "outputId": "6eeabf1f-7fe6-4f48-825e-0a511fe561a0"
      },
      "execution_count": null,
      "outputs": [
        {
          "output_type": "display_data",
          "data": {
            "text/plain": [
              "<Figure size 432x288 with 1 Axes>"
            ],
            "image/png": "[encoded data removed]"
          },
          "metadata": {
            "needs_background": "light"
          }
        }
      ]
    },
    {
      "cell_type": "markdown",
      "source": [
        "Como se puede observar de la imágen el perceptrón es un buen clasificador cuando los datos están separados linealmente, sin embargo en el caso de la imágen de la derecha se observa que el perceptrón lo caracteriza elementos no lineales"
      ],
      "metadata": {
        "id": "uIRpF-j5_nDd"
      }
    },
    {
      "cell_type": "markdown",
      "source": [
        "## <font color=#4CC9F0> <strong> Perceptrón multicapa </strong>"
      ],
      "metadata": {
        "id": "uol-2Xmu5aKX"
      }
    },
    {
      "cell_type": "markdown",
      "source": [
        "El perceptrón multicapa tiene una estructura similar a la de un modelo de perceptrón de una sola capa con más número de capas ocultas, por lo que se considera como una generalización del perceptrón simple. \n",
        "\n",
        "También es conocido como algoritmo de retropropagación ya que ejecuta dos etapas, la etapa hacia adelante en la cual se usan las funciones de activación para realizar las predicciones, y la etapa hacia atrás en la cual se utiliza el error para modificar los pesos.\n",
        "\n",
        "El uso de esta función permite aprender las variaciones no lineales que pueden presentar los datos.\n"
      ],
      "metadata": {
        "id": "zHa6q_3455_f"
      }
    },
    {
      "cell_type": "markdown",
      "source": [
        "<img src=\"https://upload.wikimedia.org/wikipedia/commons/6/64/RedNeuronalArtificial.png\" height='300'> "
      ],
      "metadata": {
        "id": "sUHhP5DE57jn"
      }
    },
    {
      "cell_type": "markdown",
      "source": [
        "Fuente: [Wikimedia Commons](https://upload.wikimedia.org/wikipedia/commons/6/64/RedNeuronalArtificial.png)"
      ],
      "metadata": {
        "id": "S5lI2JYI6Fys"
      }
    },
    {
      "cell_type": "markdown",
      "source": [
        "Las funciones de activación que deben ser utilizadas en este tipo de modelos requieren la particularidad de ser derivables, estas pueden ser:\n",
        "\n",
        "- **ReLu**\n",
        "$$\\begin{aligned}(x)^{+} & \\doteq \\begin{cases}0 & \\text { if } x \\leq 0 \\\\ x & \\text { if } x>0\\end{cases} \\\\ &=\\max (0, x)=x \\mathbf{1}_{x>0} \\end{aligned}$$\n",
        "\n",
        "<img src=\"https://upload.wikimedia.org/wikipedia/commons/f/fe/Activation_rectified_linear.svg\" width='400' height='300'> \n",
        "\n",
        "Fuente: [Función relu](https://commons.wikimedia.org/wiki/File:Activation_rectified_linear.svg)\n",
        "\n",
        "- **sigmoide**\n",
        "$$\\sigma(x) \\doteq \\frac{1}{1+e^{-x}}$$\n",
        "\n",
        "<img src=\"https://upload.wikimedia.org/wikipedia/commons/5/53/Sigmoid-function-2.svg\" width='400' height='300'> \n",
        "\n",
        "Fuente: [Función sigmoide](https://upload.wikimedia.org/wikipedia/commons/5/53/Sigmoid-function-2.svg)\n",
        "\n",
        "- **softmax**\n",
        "\n",
        "Se puede programar mediante el comando exp(x) / tf.reduce_sum(exp(x)), el cual usa el paquete tensorflow\n",
        "\n",
        "<img src=\"https://upload.wikimedia.org/wikipedia/commons/1/12/Max_x_5_vs_softmax.jpg\" width='400' height='300'>\n",
        "\n",
        "Fuente: [Función softmax](https://upload.wikimedia.org/wikipedia/commons/1/12/Max_x_5_vs_softmax.jpg)\n",
        "\n",
        "- **softplus**\n",
        "$$\\ln \\left(1+e^x\\right)$$\n",
        "\n",
        "<img src=\"https://upload.wikimedia.org/wikipedia/commons/7/72/Activation_softplus.svg\" width='400' height='300'> \n",
        "\n",
        "Fuente: [Función softplus](https://upload.wikimedia.org/wikipedia/commons/7/72/Activation_softplus.svg)\n",
        "\n",
        "- **softsign**\n",
        "$$f(x)=\\frac{x}{|x|+1}$$\n",
        "\n",
        "<img src=\"https://upload.wikimedia.org/wikipedia/commons/3/38/Activation_softsign.png\" width='400' height='300'> \n",
        "\n",
        "Fuente: [Función softsign](https://upload.wikimedia.org/wikipedia/commons/3/38/Activation_softsign.png)\n",
        "\n",
        "- **tanh**\n",
        "$$\\tanh (x) \\doteq \\frac{e^x-e^{-x}}{e^x+e^{-x}}$$\n",
        "\n",
        "<img src=\"https://upload.wikimedia.org/wikipedia/commons/c/cb/Activation_tanh.svg\" width='400' height='300'> \n",
        "\n",
        "Fuente: [Función tanh](https://upload.wikimedia.org/wikipedia/commons/c/cb/Activation_tanh.svg)\n",
        "\n",
        "- **SeLu**\n",
        "$$\n",
        "\\lambda \\begin{cases}\\alpha\\left(e^x-1\\right) & \\text { if } x<0 \\\\ x & \\text { if } x \\geq 0\\end{cases}\n",
        "$$\n",
        "with parameters\n",
        "$$\n",
        "\\begin{aligned}\n",
        "&\\lambda=1.0507 \\text { and } \\\\\n",
        "&\\alpha=1.67326\n",
        "\\end{aligned}\n",
        "$$\n",
        "\n",
        "<img src=\"https://upload.wikimedia.org/wikipedia/commons/4/43/Activation_selu.png\" width='400' height='300'> \n",
        "\n",
        "Fuente: [Función SeLu](https://upload.wikimedia.org/wikipedia/commons/4/43/Activation_selu.png)\n",
        "\n",
        "- **eLu**\n",
        "$$\n",
        "\\begin{cases}\\alpha\\left(e^x-1\\right) & \\text { if } x \\leq 0 \\\\ x & \\text { if } x>0\\end{cases}\n",
        "$$\n",
        "with parameter $\\alpha$\n",
        "\n",
        "<img src=\"https://upload.wikimedia.org/wikipedia/commons/b/bc/Activation_elu.svg\" width='400' height='300'> \n",
        "\n",
        "Fuente: [Función eLu](https://upload.wikimedia.org/wikipedia/commons/b/bc/Activation_elu.svg)\n",
        "\n",
        "- **exponencial**\n",
        "\n",
        "<img src=\"https://upload.wikimedia.org/wikipedia/commons/b/bc/Activation_elu.svg\" width='400' height='300'> \n",
        "\n",
        "Fuente: [Función exponencial](https://upload.wikimedia.org/wikipedia/commons/b/bc/Activation_elu.svg)\n",
        "\n",
        "- **Binary step**\n",
        "$$\\begin{cases}0 & \\text { if } x<0 \\\\ 1 & \\text { if } x \\geq 0\\end{cases}$$\n",
        "\n",
        "<img src=\"https://upload.wikimedia.org/wikipedia/commons/4/4b/Activation_binary_step.svg\" width='400' height='300'> \n",
        "\n",
        "Fuente: [Función binary step](https://upload.wikimedia.org/wikipedia/commons/4/4b/Activation_binary_step.svg)\n",
        "\n",
        "- **lineal**\n",
        "$$f(x)=x$$\n",
        "\n",
        "<img src=\"https://upload.wikimedia.org/wikipedia/commons/9/9e/Activation_identity.svg\" width='400' height='300'> \n",
        "\n",
        "Fuente: [Función lineal](https://upload.wikimedia.org/wikipedia/commons/9/9e/Activation_identity.svg)\n",
        "\n"
      ],
      "metadata": {
        "id": "ZDIwFxrZumDd"
      }
    },
    {
      "cell_type": "markdown",
      "source": [
        "### <font color=#4CC9F0> <strong> Aprendizaje </strong>"
      ],
      "metadata": {
        "id": "li1L8ORsNte_"
      }
    },
    {
      "cell_type": "markdown",
      "source": [
        "Para un perceptrón existen dos tipos de aprendizaje, uno utiliza una tasa de aprendizaje, de modo que amortigua el cambio de los valores de los pesos, y el otro no utiliza tasa de aprendizaje.\n",
        "\n",
        "Sea $\\delta$ la salida esperada y $\\alpha$ una constante tal que $0<\\alpha<1$, el primer tipo de aprendizaje actualiza los pesos de la siguiente manera\n",
        "\n",
        "$$w_j' = w_j + \\alpha(\\delta - y)x_j$$\n",
        "\n",
        "Mientras que el segundo tipo de aprendizaje utiliza la regla de actualización\n",
        "\n",
        "$$w_j' = w_j + (\\delta - y)x_j$$\n",
        "\n",
        "Los parámentros se van a actualizar después de cada iteración solamente si la salida $y$ difiere de la estimada $\\delta$"
      ],
      "metadata": {
        "id": "YBtbq5N2N1J6"
      }
    },
    {
      "cell_type": "markdown",
      "source": [
        "Si se consideran triplas con entrada binaria como las señales de entrada, siempre y cuando el primero de los valores se mantenga constante en 1, cuya salida está definida por la función NAND, y una tasa de aprendizaje $\\gamma=0.1$. Lactualización de los pesos para estas señales de entrada se muestra a continuación"
      ],
      "metadata": {
        "id": "EUttjo3wQIkW"
      }
    },
    {
      "cell_type": "code",
      "source": [
        "umbral = 0.5\n",
        "tasa_de_aprendizaje = 0.1\n",
        "pesos = [0, 0, 0]\n",
        "conjunto_de_entrenamiento = [((1, 0, 0), 1), ((1, 0, 1), 1), ((1, 1, 0), 1), ((1, 1, 1), 0)]\n",
        "\n",
        "def producto_punto(valores, pesos):\n",
        "    return sum(valor * peso for valor, peso in zip(valores, pesos))\n",
        "\n",
        "while True:\n",
        "    print('-' * 60)\n",
        "    contador_de_errores = 0\n",
        "    for vector_de_entrada, salida_deseada in conjunto_de_entrenamiento:\n",
        "        print(pesos)\n",
        "        resultado = producto_punto(vector_de_entrada, pesos) > umbral\n",
        "        error = salida_deseada - resultado\n",
        "        if error != 0:\n",
        "            contador_de_errores += 1\n",
        "            for indice, valor in enumerate(vector_de_entrada):\n",
        "                pesos[indice] += tasa_de_aprendizaje * error * valor\n",
        "    if contador_de_errores == 0:\n",
        "        break"
      ],
      "metadata": {
        "colab": {
          "base_uri": "https://localhost:8080/"
        },
        "id": "0WYdgKm1M-Xw",
        "outputId": "78894771-eeb5-4119-b8be-7d84bbf11d54"
      },
      "execution_count": null,
      "outputs": [
        {
          "output_type": "stream",
          "name": "stdout",
          "text": [
            "------------------------------------------------------------\n",
            "[0, 0, 0]\n",
            "[0.1, 0.0, 0.0]\n",
            "[0.2, 0.0, 0.1]\n",
            "[0.30000000000000004, 0.1, 0.1]\n",
            "------------------------------------------------------------\n",
            "[0.30000000000000004, 0.1, 0.1]\n",
            "[0.4, 0.1, 0.1]\n",
            "[0.5, 0.1, 0.2]\n",
            "[0.5, 0.1, 0.2]\n",
            "------------------------------------------------------------\n",
            "[0.4, 0.0, 0.1]\n",
            "[0.5, 0.0, 0.1]\n",
            "[0.5, 0.0, 0.1]\n",
            "[0.6, 0.1, 0.1]\n",
            "------------------------------------------------------------\n",
            "[0.5, 0.0, 0.0]\n",
            "[0.6, 0.0, 0.0]\n",
            "[0.6, 0.0, 0.0]\n",
            "[0.6, 0.0, 0.0]\n",
            "------------------------------------------------------------\n",
            "[0.5, -0.1, -0.1]\n",
            "[0.6, -0.1, -0.1]\n",
            "[0.7, -0.1, 0.0]\n",
            "[0.7, -0.1, 0.0]\n",
            "------------------------------------------------------------\n",
            "[0.6, -0.2, -0.1]\n",
            "[0.6, -0.2, -0.1]\n",
            "[0.7, -0.2, 0.0]\n",
            "[0.7999999999999999, -0.1, 0.0]\n",
            "------------------------------------------------------------\n",
            "[0.7, -0.2, -0.1]\n",
            "[0.7, -0.2, -0.1]\n",
            "[0.7, -0.2, -0.1]\n",
            "[0.7999999999999999, -0.1, -0.1]\n",
            "------------------------------------------------------------\n",
            "[0.7, -0.2, -0.2]\n",
            "[0.7, -0.2, -0.2]\n",
            "[0.7999999999999999, -0.2, -0.1]\n",
            "[0.7999999999999999, -0.2, -0.1]\n",
            "------------------------------------------------------------\n",
            "[0.7999999999999999, -0.2, -0.1]\n",
            "[0.7999999999999999, -0.2, -0.1]\n",
            "[0.7999999999999999, -0.2, -0.1]\n",
            "[0.7999999999999999, -0.2, -0.1]\n"
          ]
        }
      ]
    },
    {
      "cell_type": "markdown",
      "source": [
        "**Nota: El proceso de aprendizaje se realiza con el fin de disminuir el error entre la predicción y el valos original de los datos en el conjunto de enrenamieno, sin embargo disminuir tanto este error puede causar problemas de sobreajuste debido a que se habrá aprendido de memoria los patrones del conjunto de entrenamiento, pero al intentar predecir datos fuera de este conjunto los errores van a dar gigantes.**"
      ],
      "metadata": {
        "id": "QWM45zhvSI88"
      }
    },
    {
      "cell_type": "markdown",
      "source": [
        "Es de notar que para realizar el proceso de entrenamiento se debe definir una función de error, que indique la diferencia entre el valor estimado y el real. La más común es el error cuadrático medio (ECM)\n",
        "\n",
        "$$E(\\mathbf{w}) = \\frac{1}{2}\\sum_{d \\in D}(y_d - \\delta_d)^2$$\n",
        "\n",
        "donde:\n",
        "- D es el conjunto de datos de entrenamiento\n",
        "- $y_d$ es la salida correcta\n",
        "- $\\delta_d$ es la estimación de la salida mediante el perceptrón "
      ],
      "metadata": {
        "id": "45VEvtniTFJT"
      }
    },
    {
      "cell_type": "markdown",
      "source": [
        "### <font color=#4CC9F0> <strong>Gradiente descendiente</strong>"
      ],
      "metadata": {
        "id": "6l8BSkTqeKl_"
      }
    },
    {
      "cell_type": "markdown",
      "source": [
        "El método del gradiente descendiente se basa en buscar la dirección en la que la pequeña variación del vector de pesos hace que el error decrezca más rápidamente.\n",
        "\n",
        "Para encontrar esta dirección se usa el gradiente de la función de error con respecto al vector de pesos\n",
        "\n",
        "$$\\nabla E(\\mathbf{w}) =\\left[\\frac{\\partial E}{\\partial w_0}, …,\\frac{\\partial E}{\\partial w_n} \\right]$$\n",
        "\n",
        "Así luego la actualización de los pesos queda de la siguiente manera \n",
        "\n",
        "$$\\mathbf{w} \\leftarrow \\mathbf{w} + \\Delta \\mathbf{w} \\hspace{1.5cm} \\Delta \\mathbf{w}=-η∇E(\\mathbf{w})=η(y-δ)x_i $$\n",
        "donde $η$ es la tasa de aprendizaje\n",
        "\n",
        "**Nota: esta tasa de aprendizaje normalmente se fija en un valor entre 0.2 y 0.8**\n",
        "\n",
        "Otros métodos para optimizar la función de error, también llamada función de costo, son:\n",
        "- *Adam*\n",
        "- *Gradiente descendiente estocástico*\n",
        "- *L-BFGS y L-BFGS-B (optimización quasi-Newton)*\n",
        "- *Batch*"
      ],
      "metadata": {
        "id": "ofdNMZIrhU-q"
      }
    },
    {
      "cell_type": "markdown",
      "source": [
        "## <font color=#4CC9F0>Teorema de Kolmogorov"
      ],
      "metadata": {
        "id": "b1Lo-gFKStpw"
      }
    },
    {
      "cell_type": "markdown",
      "source": [
        "Dada cualquier función continua $f:(0,1)^n → R^m$, existe una RNA (Red neuronal artificial) de 3 capas, de propagación hacia adelante, con $n$ neuronas de proceso en la capa de entrada, $m$ en la de salida y $(2n+1)$ en la capa oculta; que implementa dicha función de forma exacta"
      ],
      "metadata": {
        "id": "dqlXM43sTNQ9"
      }
    },
    {
      "cell_type": "markdown",
      "source": [
        "## <font color=#4CC9F0> Desventajas de un perceptrón \n"
      ],
      "metadata": {
        "id": "7nVLpU_KURo7"
      }
    },
    {
      "cell_type": "markdown",
      "source": [
        "- El tiempo de cómputo necesario para el entrenamiento puede llegar a ser muy alto. Como hemos visto, es un problema asumible, pues una vez entrenada, la red puede congelar sus pesos y continuar funcionando.\n",
        "\n",
        "- *Parálisis de red*: Cuando los pesos alcanzan valores muy altos, la función sigmoide hace que la salida de la capa oculta sea muy cercana a 0 ó 1. De las ecuaciones del algoritmo de BP se deduce que el incremento de pesos en esos casos es prácticamente nulo, lo cual produce una parálisis en el entrenamiento. Una posible solución es añadir una pequeña cantidad de ruido a la salida de la neurona.\n",
        "\n",
        "- *Mínimos locales*: la función de error de una red compleja está llena de valles y picos, y la propia naturaleza del algoritmo puede producir la caída en uno de los valles, que no es necesariamente el mínimo. Una posible solución es incrementar el número de neuronas ocultas, pero como se ha visto, esto produce otros efectos secundarios indeseables."
      ],
      "metadata": {
        "id": "2GRzu55pVK87"
      }
    },
    {
      "cell_type": "markdown",
      "source": [
        "# <font color=blue> Implementación (Ejercicio para el lector)"
      ],
      "metadata": {
        "id": "ka1JBKqnEntW"
      }
    },
    {
      "cell_type": "code",
      "source": [
        "from google.colab import drive\n",
        "drive.mount('/content/drive')\n",
        "\n",
        "import numpy as np\n",
        "import pandas as pd\n",
        "import matplotlib.pyplot as plt\n",
        "import math\n",
        "from mpl_toolkits.mplot3d import axes3d\n",
        "from sklearn.model_selection import train_test_split"
      ],
      "metadata": {
        "colab": {
          "base_uri": "https://localhost:8080/"
        },
        "id": "cB85eWJFlIiP",
        "outputId": "638b43a6-acc9-410e-acb0-7d96cb1c228f"
      },
      "execution_count": null,
      "outputs": [
        {
          "output_type": "stream",
          "name": "stdout",
          "text": [
            "Mounted at /content/drive\n"
          ]
        }
      ]
    },
    {
      "cell_type": "markdown",
      "source": [
        "## <font color=#4CC9F0>Clasificación"
      ],
      "metadata": {
        "id": "QFF5ccioHLwd"
      }
    },
    {
      "cell_type": "markdown",
      "source": [
        "Se  va a considerar el conjunto de datos \"**Iris**\", un conjunto de datos multivariantes creado por Ronald Fisher el cual contiene 50 muestras de cada una de tres especies de Iris (Iris setosa, Iris virginica e Iris versicolor). Se midió cuatro rasgos de cada muestra: el largo y ancho del sépalo y pétalo, en centímetros."
      ],
      "metadata": {
        "id": "CVp_w85h8zN5"
      }
    },
    {
      "cell_type": "markdown",
      "source": [
        "<img src=\"https://upload.wikimedia.org/wikipedia/commons/b/b4/Iris_08_-_Arlington%2C_MA.jpg\" width='250' height='200'><img src=\"https://upload.wikimedia.org/wikipedia/commons/a/a5/Iris_05_-_Arlington%2C_MA.jpg\" width='250' height='200'>\n",
        "\n",
        "\n"
      ],
      "metadata": {
        "id": "-cd8uQfpOaFs"
      }
    },
    {
      "cell_type": "code",
      "source": [
        "#Datos\n",
        "datos=pd.read_csv('/content/drive/Shareddrives/Perceptron - Mineria /Iris.csv')\n",
        "datos"
      ],
      "metadata": {
        "colab": {
          "base_uri": "https://localhost:8080/",
          "height": 467
        },
        "id": "XBCCJ7u6YWe_",
        "outputId": "71791dec-da40-4b0e-a42e-257d6742799b"
      },
      "execution_count": null,
      "outputs": [
        {
          "output_type": "execute_result",
          "data": {
            "text/plain": [
              "      Id  SepalLengthCm  SepalWidthCm  PetalLengthCm  PetalWidthCm  \\\n",
              "0      1            5.1           3.5            1.4           0.2   \n",
              "1      2            4.9           3.0            1.4           0.2   \n",
              "2      3            4.7           3.2            1.3           0.2   \n",
              "3      4            4.6           3.1            1.5           0.2   \n",
              "4      5            5.0           3.6            1.4           0.2   \n",
              "..   ...            ...           ...            ...           ...   \n",
              "145  146            6.7           3.0            5.2           2.3   \n",
              "146  147            6.3           2.5            5.0           1.9   \n",
              "147  148            6.5           3.0            5.2           2.0   \n",
              "148  149            6.2           3.4            5.4           2.3   \n",
              "149  150            5.9           3.0            5.1           1.8   \n",
              "\n",
              "            Species  \n",
              "0       Iris-setosa  \n",
              "1       Iris-setosa  \n",
              "2       Iris-setosa  \n",
              "3       Iris-setosa  \n",
              "4       Iris-setosa  \n",
              "..              ...  \n",
              "145  Iris-virginica  \n",
              "146  Iris-virginica  \n",
              "147  Iris-virginica  \n",
              "148  Iris-virginica  \n",
              "149  Iris-virginica  \n",
              "\n",
              "[150 rows x 6 columns]"
            ],
            "text/html": [
              "\n",
              "  <div id=\"df-8e02c454-100a-477a-b3fd-129c8821d86c\">\n",
              "    <div class=\"colab-df-container\">\n",
              "      <div>\n",
              "<style scoped>\n",
              "    .dataframe tbody tr th:only-of-type {\n",
              "        vertical-align: middle;\n",
              "    }\n",
              "\n",
              "    .dataframe tbody tr th {\n",
              "        vertical-align: top;\n",
              "    }\n",
              "\n",
              "    .dataframe thead th {\n",
              "        text-align: right;\n",
              "    }\n",
              "</style>\n",
              "<table border=\"1\" class=\"dataframe\">\n",
              "  <thead>\n",
              "    <tr style=\"text-align: right;\">\n",
              "      <th></th>\n",
              "      <th>Id</th>\n",
              "      <th>SepalLengthCm</th>\n",
              "      <th>SepalWidthCm</th>\n",
              "      <th>PetalLengthCm</th>\n",
              "      <th>PetalWidthCm</th>\n",
              "      <th>Species</th>\n",
              "    </tr>\n",
              "  </thead>\n",
              "  <tbody>\n",
              "    <tr>\n",
              "      <th>0</th>\n",
              "      <td>1</td>\n",
              "      <td>5.1</td>\n",
              "      <td>3.5</td>\n",
              "      <td>1.4</td>\n",
              "      <td>0.2</td>\n",
              "      <td>Iris-setosa</td>\n",
              "    </tr>\n",
              "    <tr>\n",
              "      <th>1</th>\n",
              "      <td>2</td>\n",
              "      <td>4.9</td>\n",
              "      <td>3.0</td>\n",
              "      <td>1.4</td>\n",
              "      <td>0.2</td>\n",
              "      <td>Iris-setosa</td>\n",
              "    </tr>\n",
              "    <tr>\n",
              "      <th>2</th>\n",
              "      <td>3</td>\n",
              "      <td>4.7</td>\n",
              "      <td>3.2</td>\n",
              "      <td>1.3</td>\n",
              "      <td>0.2</td>\n",
              "      <td>Iris-setosa</td>\n",
              "    </tr>\n",
              "    <tr>\n",
              "      <th>3</th>\n",
              "      <td>4</td>\n",
              "      <td>4.6</td>\n",
              "      <td>3.1</td>\n",
              "      <td>1.5</td>\n",
              "      <td>0.2</td>\n",
              "      <td>Iris-setosa</td>\n",
              "    </tr>\n",
              "    <tr>\n",
              "      <th>4</th>\n",
              "      <td>5</td>\n",
              "      <td>5.0</td>\n",
              "      <td>3.6</td>\n",
              "      <td>1.4</td>\n",
              "      <td>0.2</td>\n",
              "      <td>Iris-setosa</td>\n",
              "    </tr>\n",
              "    <tr>\n",
              "      <th>...</th>\n",
              "      <td>...</td>\n",
              "      <td>...</td>\n",
              "      <td>...</td>\n",
              "      <td>...</td>\n",
              "      <td>...</td>\n",
              "      <td>...</td>\n",
              "    </tr>\n",
              "    <tr>\n",
              "      <th>145</th>\n",
              "      <td>146</td>\n",
              "      <td>6.7</td>\n",
              "      <td>3.0</td>\n",
              "      <td>5.2</td>\n",
              "      <td>2.3</td>\n",
              "      <td>Iris-virginica</td>\n",
              "    </tr>\n",
              "    <tr>\n",
              "      <th>146</th>\n",
              "      <td>147</td>\n",
              "      <td>6.3</td>\n",
              "      <td>2.5</td>\n",
              "      <td>5.0</td>\n",
              "      <td>1.9</td>\n",
              "      <td>Iris-virginica</td>\n",
              "    </tr>\n",
              "    <tr>\n",
              "      <th>147</th>\n",
              "      <td>148</td>\n",
              "      <td>6.5</td>\n",
              "      <td>3.0</td>\n",
              "      <td>5.2</td>\n",
              "      <td>2.0</td>\n",
              "      <td>Iris-virginica</td>\n",
              "    </tr>\n",
              "    <tr>\n",
              "      <th>148</th>\n",
              "      <td>149</td>\n",
              "      <td>6.2</td>\n",
              "      <td>3.4</td>\n",
              "      <td>5.4</td>\n",
              "      <td>2.3</td>\n",
              "      <td>Iris-virginica</td>\n",
              "    </tr>\n",
              "    <tr>\n",
              "      <th>149</th>\n",
              "      <td>150</td>\n",
              "      <td>5.9</td>\n",
              "      <td>3.0</td>\n",
              "      <td>5.1</td>\n",
              "      <td>1.8</td>\n",
              "      <td>Iris-virginica</td>\n",
              "    </tr>\n",
              "  </tbody>\n",
              "</table>\n",
              "<p>150 rows × 6 columns</p>\n",
              "</div>\n",
              "      <button class=\"colab-df-convert\" onclick=\"convertToInteractive('df-8e02c454-100a-477a-b3fd-129c8821d86c')\"\n",
              "              title=\"Convert this dataframe to an interactive table.\"\n",
              "              style=\"display:none;\">\n",
              "        \n",
              "  <svg xmlns=\"http://www.w3.org/2000/svg\" height=\"24px\"viewBox=\"0 0 24 24\"\n",
              "       width=\"24px\">\n",
              "    <path d=\"M0 0h24v24H0V0z\" fill=\"none\"/>\n",
              "    <path d=\"M18.56 5.44l.94 2.06.94-2.06 2.06-.94-2.06-.94-.94-2.06-.94 2.06-2.06.94zm-11 1L8.5 8.5l.94-2.06 2.06-.94-2.06-.94L8.5 2.5l-.94 2.06-2.06.94zm10 10l.94 2.06.94-2.06 2.06-.94-2.06-.94-.94-2.06-.94 2.06-2.06.94z\"/><path d=\"M17.41 7.96l-1.37-1.37c-.4-.4-.92-.59-1.43-.59-.52 0-1.04.2-1.43.59L10.3 9.45l-7.72 7.72c-.78.78-.78 2.05 0 2.83L4 21.41c.39.39.9.59 1.41.59.51 0 1.02-.2 1.41-.59l7.78-7.78 2.81-2.81c.8-.78.8-2.07 0-2.86zM5.41 20L4 18.59l7.72-7.72 1.47 1.35L5.41 20z\"/>\n",
              "  </svg>\n",
              "      </button>\n",
              "      \n",
              "  <style>\n",
              "    .colab-df-container {\n",
              "      display:flex;\n",
              "      flex-wrap:wrap;\n",
              "      gap: 12px;\n",
              "    }\n",
              "\n",
              "    .colab-df-convert {\n",
              "      background-color: #E8F0FE;\n",
              "      border: none;\n",
              "      border-radius: 50%;\n",
              "      cursor: pointer;\n",
              "      display: none;\n",
              "      fill: #1967D2;\n",
              "      height: 32px;\n",
              "      padding: 0 0 0 0;\n",
              "      width: 32px;\n",
              "    }\n",
              "\n",
              "    .colab-df-convert:hover {\n",
              "      background-color: #E2EBFA;\n",
              "      box-shadow: 0px 1px 2px rgba(60, 64, 67, 0.3), 0px 1px 3px 1px rgba(60, 64, 67, 0.15);\n",
              "      fill: #174EA6;\n",
              "    }\n",
              "\n",
              "    [theme=dark] .colab-df-convert {\n",
              "      background-color: #3B4455;\n",
              "      fill: #D2E3FC;\n",
              "    }\n",
              "\n",
              "    [theme=dark] .colab-df-convert:hover {\n",
              "      background-color: #434B5C;\n",
              "      box-shadow: 0px 1px 3px 1px rgba(0, 0, 0, 0.15);\n",
              "      filter: drop-shadow(0px 1px 2px rgba(0, 0, 0, 0.3));\n",
              "      fill: #FFFFFF;\n",
              "    }\n",
              "  </style>\n",
              "\n",
              "      <script>\n",
              "        const buttonEl =\n",
              "          document.querySelector('#df-8e02c454-100a-477a-b3fd-129c8821d86c button.colab-df-convert');\n",
              "        buttonEl.style.display =\n",
              "          google.colab.kernel.accessAllowed ? 'block' : 'none';\n",
              "\n",
              "        async function convertToInteractive(key) {\n",
              "          const element = document.querySelector('#df-8e02c454-100a-477a-b3fd-129c8821d86c');\n",
              "          const dataTable =\n",
              "            await google.colab.kernel.invokeFunction('convertToInteractive',\n",
              "                                                     [key], {});\n",
              "          if (!dataTable) return;\n",
              "\n",
              "          const docLinkHtml = 'Like what you see? Visit the ' +\n",
              "            '<a target=\"_blank\" href=https://colab.research.google.com/notebooks/data_table.ipynb>data table notebook</a>'\n",
              "            + ' to learn more about interactive tables.';\n",
              "          element.innerHTML = '';\n",
              "          dataTable['output_type'] = 'display_data';\n",
              "          await google.colab.output.renderOutput(dataTable, element);\n",
              "          const docLink = document.createElement('div');\n",
              "          docLink.innerHTML = docLinkHtml;\n",
              "          element.appendChild(docLink);\n",
              "        }\n",
              "      </script>\n",
              "    </div>\n",
              "  </div>\n",
              "  "
            ]
          },
          "metadata": {},
          "execution_count": 5
        }
      ]
    },
    {
      "cell_type": "markdown",
      "source": [
        "Se va a utilizar un modelo de redes neuronales (perceptrón multicapa), con una sola capa para poder predecir la especie de una planta (Iris-setosa u otra), esto según las características medidas de su pétalo y sépalo"
      ],
      "metadata": {
        "id": "zy5stdqk9_vT"
      }
    },
    {
      "cell_type": "code",
      "source": [
        "!pip install duckdb\n",
        "import duckdb\n",
        "con = duckdb.connect(database=':memory:')"
      ],
      "metadata": {
        "colab": {
          "base_uri": "https://localhost:8080/"
        },
        "id": "8X97uSpbYgUM",
        "outputId": "5b50a1cf-ad3b-4d15-e308-be9d5c07ced3"
      },
      "execution_count": null,
      "outputs": [
        {
          "output_type": "stream",
          "name": "stdout",
          "text": [
            "Looking in indexes: https://pypi.org/simple, https://us-python.pkg.dev/colab-wheels/public/simple/\n",
            "Collecting duckdb\n",
            "  Downloading duckdb-0.6.0-cp37-cp37m-manylinux_2_17_x86_64.manylinux2014_x86_64.whl (14.4 MB)\n",
            "\u001b[K     |████████████████████████████████| 14.4 MB 9.2 MB/s \n",
            "\u001b[?25hRequirement already satisfied: numpy>=1.14 in /usr/local/lib/python3.7/dist-packages (from duckdb) (1.21.6)\n",
            "Installing collected packages: duckdb\n",
            "Successfully installed duckdb-0.6.0\n"
          ]
        }
      ]
    },
    {
      "cell_type": "code",
      "source": [
        "datos1 = con.execute(\"\"\"select   SepalLengthCm, SepalWidthCm, PetalLengthCm, PetalWidthCm, Species,\n",
        "                             case when Species = 'Iris-setosa' then 1\n",
        "                                  else 0\n",
        "                                  end as Species_cat\n",
        "                    from     datos\"\"\").df()\n",
        "\n",
        "datos1"
      ],
      "metadata": {
        "colab": {
          "base_uri": "https://localhost:8080/",
          "height": 641
        },
        "id": "Q7eftSYWlv0y",
        "outputId": "129c10fb-56de-45c4-9959-831bee8dde0c"
      },
      "execution_count": null,
      "outputs": [
        {
          "output_type": "execute_result",
          "data": {
            "text/plain": [
              "     SepalLengthCm  SepalWidthCm  PetalLengthCm  PetalWidthCm         Species  \\\n",
              "0              5.1           3.5            1.4           0.2     Iris-setosa   \n",
              "1              4.9           3.0            1.4           0.2     Iris-setosa   \n",
              "2              4.7           3.2            1.3           0.2     Iris-setosa   \n",
              "3              4.6           3.1            1.5           0.2     Iris-setosa   \n",
              "4              5.0           3.6            1.4           0.2     Iris-setosa   \n",
              "..             ...           ...            ...           ...             ...   \n",
              "145            6.7           3.0            5.2           2.3  Iris-virginica   \n",
              "146            6.3           2.5            5.0           1.9  Iris-virginica   \n",
              "147            6.5           3.0            5.2           2.0  Iris-virginica   \n",
              "148            6.2           3.4            5.4           2.3  Iris-virginica   \n",
              "149            5.9           3.0            5.1           1.8  Iris-virginica   \n",
              "\n",
              "     Species_cat  \n",
              "0              1  \n",
              "1              1  \n",
              "2              1  \n",
              "3              1  \n",
              "4              1  \n",
              "..           ...  \n",
              "145            0  \n",
              "146            0  \n",
              "147            0  \n",
              "148            0  \n",
              "149            0  \n",
              "\n",
              "[150 rows x 6 columns]"
            ],
            "text/html": [
              "\n",
              "  <div id=\"df-7535a2c0-6183-47f3-b95b-eadd2c1762f3\">\n",
              "    <div class=\"colab-df-container\">\n",
              "      <div>\n",
              "<style scoped>\n",
              "    .dataframe tbody tr th:only-of-type {\n",
              "        vertical-align: middle;\n",
              "    }\n",
              "\n",
              "    .dataframe tbody tr th {\n",
              "        vertical-align: top;\n",
              "    }\n",
              "\n",
              "    .dataframe thead th {\n",
              "        text-align: right;\n",
              "    }\n",
              "</style>\n",
              "<table border=\"1\" class=\"dataframe\">\n",
              "  <thead>\n",
              "    <tr style=\"text-align: right;\">\n",
              "      <th></th>\n",
              "      <th>SepalLengthCm</th>\n",
              "      <th>SepalWidthCm</th>\n",
              "      <th>PetalLengthCm</th>\n",
              "      <th>PetalWidthCm</th>\n",
              "      <th>Species</th>\n",
              "      <th>Species_cat</th>\n",
              "    </tr>\n",
              "  </thead>\n",
              "  <tbody>\n",
              "    <tr>\n",
              "      <th>0</th>\n",
              "      <td>5.1</td>\n",
              "      <td>3.5</td>\n",
              "      <td>1.4</td>\n",
              "      <td>0.2</td>\n",
              "      <td>Iris-setosa</td>\n",
              "      <td>1</td>\n",
              "    </tr>\n",
              "    <tr>\n",
              "      <th>1</th>\n",
              "      <td>4.9</td>\n",
              "      <td>3.0</td>\n",
              "      <td>1.4</td>\n",
              "      <td>0.2</td>\n",
              "      <td>Iris-setosa</td>\n",
              "      <td>1</td>\n",
              "    </tr>\n",
              "    <tr>\n",
              "      <th>2</th>\n",
              "      <td>4.7</td>\n",
              "      <td>3.2</td>\n",
              "      <td>1.3</td>\n",
              "      <td>0.2</td>\n",
              "      <td>Iris-setosa</td>\n",
              "      <td>1</td>\n",
              "    </tr>\n",
              "    <tr>\n",
              "      <th>3</th>\n",
              "      <td>4.6</td>\n",
              "      <td>3.1</td>\n",
              "      <td>1.5</td>\n",
              "      <td>0.2</td>\n",
              "      <td>Iris-setosa</td>\n",
              "      <td>1</td>\n",
              "    </tr>\n",
              "    <tr>\n",
              "      <th>4</th>\n",
              "      <td>5.0</td>\n",
              "      <td>3.6</td>\n",
              "      <td>1.4</td>\n",
              "      <td>0.2</td>\n",
              "      <td>Iris-setosa</td>\n",
              "      <td>1</td>\n",
              "    </tr>\n",
              "    <tr>\n",
              "      <th>...</th>\n",
              "      <td>...</td>\n",
              "      <td>...</td>\n",
              "      <td>...</td>\n",
              "      <td>...</td>\n",
              "      <td>...</td>\n",
              "      <td>...</td>\n",
              "    </tr>\n",
              "    <tr>\n",
              "      <th>145</th>\n",
              "      <td>6.7</td>\n",
              "      <td>3.0</td>\n",
              "      <td>5.2</td>\n",
              "      <td>2.3</td>\n",
              "      <td>Iris-virginica</td>\n",
              "      <td>0</td>\n",
              "    </tr>\n",
              "    <tr>\n",
              "      <th>146</th>\n",
              "      <td>6.3</td>\n",
              "      <td>2.5</td>\n",
              "      <td>5.0</td>\n",
              "      <td>1.9</td>\n",
              "      <td>Iris-virginica</td>\n",
              "      <td>0</td>\n",
              "    </tr>\n",
              "    <tr>\n",
              "      <th>147</th>\n",
              "      <td>6.5</td>\n",
              "      <td>3.0</td>\n",
              "      <td>5.2</td>\n",
              "      <td>2.0</td>\n",
              "      <td>Iris-virginica</td>\n",
              "      <td>0</td>\n",
              "    </tr>\n",
              "    <tr>\n",
              "      <th>148</th>\n",
              "      <td>6.2</td>\n",
              "      <td>3.4</td>\n",
              "      <td>5.4</td>\n",
              "      <td>2.3</td>\n",
              "      <td>Iris-virginica</td>\n",
              "      <td>0</td>\n",
              "    </tr>\n",
              "    <tr>\n",
              "      <th>149</th>\n",
              "      <td>5.9</td>\n",
              "      <td>3.0</td>\n",
              "      <td>5.1</td>\n",
              "      <td>1.8</td>\n",
              "      <td>Iris-virginica</td>\n",
              "      <td>0</td>\n",
              "    </tr>\n",
              "  </tbody>\n",
              "</table>\n",
              "<p>150 rows × 6 columns</p>\n",
              "</div>\n",
              "      <button class=\"colab-df-convert\" onclick=\"convertToInteractive('df-7535a2c0-6183-47f3-b95b-eadd2c1762f3')\"\n",
              "              title=\"Convert this dataframe to an interactive table.\"\n",
              "              style=\"display:none;\">\n",
              "        \n",
              "  <svg xmlns=\"http://www.w3.org/2000/svg\" height=\"24px\"viewBox=\"0 0 24 24\"\n",
              "       width=\"24px\">\n",
              "    <path d=\"M0 0h24v24H0V0z\" fill=\"none\"/>\n",
              "    <path d=\"M18.56 5.44l.94 2.06.94-2.06 2.06-.94-2.06-.94-.94-2.06-.94 2.06-2.06.94zm-11 1L8.5 8.5l.94-2.06 2.06-.94-2.06-.94L8.5 2.5l-.94 2.06-2.06.94zm10 10l.94 2.06.94-2.06 2.06-.94-2.06-.94-.94-2.06-.94 2.06-2.06.94z\"/><path d=\"M17.41 7.96l-1.37-1.37c-.4-.4-.92-.59-1.43-.59-.52 0-1.04.2-1.43.59L10.3 9.45l-7.72 7.72c-.78.78-.78 2.05 0 2.83L4 21.41c.39.39.9.59 1.41.59.51 0 1.02-.2 1.41-.59l7.78-7.78 2.81-2.81c.8-.78.8-2.07 0-2.86zM5.41 20L4 18.59l7.72-7.72 1.47 1.35L5.41 20z\"/>\n",
              "  </svg>\n",
              "      </button>\n",
              "      \n",
              "  <style>\n",
              "    .colab-df-container {\n",
              "      display:flex;\n",
              "      flex-wrap:wrap;\n",
              "      gap: 12px;\n",
              "    }\n",
              "\n",
              "    .colab-df-convert {\n",
              "      background-color: #E8F0FE;\n",
              "      border: none;\n",
              "      border-radius: 50%;\n",
              "      cursor: pointer;\n",
              "      display: none;\n",
              "      fill: #1967D2;\n",
              "      height: 32px;\n",
              "      padding: 0 0 0 0;\n",
              "      width: 32px;\n",
              "    }\n",
              "\n",
              "    .colab-df-convert:hover {\n",
              "      background-color: #E2EBFA;\n",
              "      box-shadow: 0px 1px 2px rgba(60, 64, 67, 0.3), 0px 1px 3px 1px rgba(60, 64, 67, 0.15);\n",
              "      fill: #174EA6;\n",
              "    }\n",
              "\n",
              "    [theme=dark] .colab-df-convert {\n",
              "      background-color: #3B4455;\n",
              "      fill: #D2E3FC;\n",
              "    }\n",
              "\n",
              "    [theme=dark] .colab-df-convert:hover {\n",
              "      background-color: #434B5C;\n",
              "      box-shadow: 0px 1px 3px 1px rgba(0, 0, 0, 0.15);\n",
              "      filter: drop-shadow(0px 1px 2px rgba(0, 0, 0, 0.3));\n",
              "      fill: #FFFFFF;\n",
              "    }\n",
              "  </style>\n",
              "\n",
              "      <script>\n",
              "        const buttonEl =\n",
              "          document.querySelector('#df-7535a2c0-6183-47f3-b95b-eadd2c1762f3 button.colab-df-convert');\n",
              "        buttonEl.style.display =\n",
              "          google.colab.kernel.accessAllowed ? 'block' : 'none';\n",
              "\n",
              "        async function convertToInteractive(key) {\n",
              "          const element = document.querySelector('#df-7535a2c0-6183-47f3-b95b-eadd2c1762f3');\n",
              "          const dataTable =\n",
              "            await google.colab.kernel.invokeFunction('convertToInteractive',\n",
              "                                                     [key], {});\n",
              "          if (!dataTable) return;\n",
              "\n",
              "          const docLinkHtml = 'Like what you see? Visit the ' +\n",
              "            '<a target=\"_blank\" href=https://colab.research.google.com/notebooks/data_table.ipynb>data table notebook</a>'\n",
              "            + ' to learn more about interactive tables.';\n",
              "          element.innerHTML = '';\n",
              "          dataTable['output_type'] = 'display_data';\n",
              "          await google.colab.output.renderOutput(dataTable, element);\n",
              "          const docLink = document.createElement('div');\n",
              "          docLink.innerHTML = docLinkHtml;\n",
              "          element.appendChild(docLink);\n",
              "        }\n",
              "      </script>\n",
              "    </div>\n",
              "  </div>\n",
              "  "
            ]
          },
          "metadata": {},
          "execution_count": 7
        }
      ]
    },
    {
      "cell_type": "markdown",
      "source": [
        "Se va a construir paso a paso una clase que defina el perceptrón a utilizar con el fin de entender el paso a paso que se realiza dentro de este tipo de modelo, teniendo una taza de aprendizaje de $0.009$, una función de activación sigmoide, una tolerancia del $1e-10$ y una función de costo logarítmica"
      ],
      "metadata": {
        "id": "u3c4NsU7-2ny"
      }
    },
    {
      "cell_type": "code",
      "source": [
        "class Perceptron_clasificacion():\n",
        "    '''\n",
        "    Logistic regression class\n",
        "    '''\n",
        "    def __init__(self):\n",
        "        pass\n",
        "    \n",
        "    def sigmoid(self, Z):\n",
        "        return 1/(1 + np.exp(-Z))\n",
        "\n",
        "    def Z(self, X):\n",
        "        '''\n",
        "        Function to fit\n",
        "        '''\n",
        "        return self.b + np.dot(X,self.W)\n",
        "    \n",
        "    def predict(self, X):\n",
        "        return self.sigmoid(self.Z(X))\n",
        "    \n",
        "    def cost(self, X, y):\n",
        "        '''\n",
        "        Cost function\n",
        "        '''\n",
        "        Yp = self.predict(X)\n",
        "        return -(1/self.n)*np.sum(y*np.log(Yp) + (1-y)*np.log(1-Yp))\n",
        "    \n",
        "    def grad_cost(self, X,y):\n",
        "        '''\n",
        "        Gradient of the cost function\n",
        "        '''\n",
        "        Yp = self.predict(X)\n",
        "        grad_dW = (1/self.n)*np.dot(X.T, Yp-y)\n",
        "        grad_db = (1/self.n)*np.sum(Yp-y)\n",
        "        return grad_dW, grad_db\n",
        "    \n",
        "    def fit(self, X, y):\n",
        "        '''\n",
        "        Optimization function\n",
        "        '''\n",
        "        alpha= 0.009  # Learning rate\n",
        "        tol = 1e-10    # Tolerance\n",
        "        np.random.seed(413)\n",
        "        self.m = X.shape[1] # Number of features\n",
        "        self.n = X.shape[0] # Number od samples\n",
        "        \n",
        "        self.W = np.zeros([self.m,1])#np.random.rand(self.m)\n",
        "        self.b = 0#np.random.rand(1)\n",
        "        Y = self.sigmoid(self.Z(X))\n",
        "\n",
        "        self.history = []\n",
        "        self.history.append(self.cost(X, y))\n",
        "        print('Costo inicial = ', self.history[0])\n",
        "        \n",
        "        epoch = 0 # Epochs\n",
        "        epsilon = 1\n",
        "        while epsilon>tol and epoch<1000:\n",
        "            # Gradient\n",
        "            grad_dW, grad_db = self.grad_cost(X,y)\n",
        "\n",
        "            self.W = self.W - alpha*grad_dW\n",
        "            self.b = self.b - alpha*grad_db\n",
        "            \n",
        "            self.history.append(self.cost(X, y))\n",
        "            epsilon = abs(self.history[epoch] - self.history[epoch+1])\n",
        "            epoch +=1\n",
        "        \n",
        "        print('Costo final = ', self.history[-1])\n",
        "        print('Número de epochs = ',epoch)\n",
        "    \n",
        "    def accuracy(self, X, y):\n",
        "        Yp = self.predict(X)\n",
        "        Yp = Yp > 0.5\n",
        "        Yp = np.array(Yp, dtype = 'int64')\n",
        "        acc = (1 - np.sum(abs(Yp - y))/len(y))*100\n",
        "        print(\"Porcentaje de aciertos: \", round(acc, 2), \"%\")"
      ],
      "metadata": {
        "id": "g0rRzK2Tm5vf"
      },
      "execution_count": null,
      "outputs": []
    },
    {
      "cell_type": "markdown",
      "source": [
        "Para un mejor ajuste se va a dividir el conjunto de datos en entrenamiento y prueba, el primero con el fin de que el modelo aprenda y el segundo para comprobar la capacidad predictiva de este"
      ],
      "metadata": {
        "id": "KzR5kvSE_HFa"
      }
    },
    {
      "cell_type": "code",
      "source": [
        "X = np.asarray(datos1[['SepalLengthCm','SepalWidthCm','PetalLengthCm','PetalWidthCm']])\n",
        "Y = np.asarray(datos1[['Species_cat']])\n",
        "X_train, X_test, y_train, y_test = train_test_split(X, Y, random_state=413, test_size=0.2)\n",
        "\n",
        "print(\"Shape of X_train : \", X_train.shape)\n",
        "print(\"Shape of Y_train : \", y_train.shape)\n",
        "print(\"Shape of X_test : \", X_test.shape)\n",
        "print(\"Shape of Y_test : \", y_test.shape)"
      ],
      "metadata": {
        "colab": {
          "base_uri": "https://localhost:8080/"
        },
        "id": "yJcgCg3Ty2f9",
        "outputId": "75795205-3f98-42e0-a1c7-a59c66d6cb36"
      },
      "execution_count": null,
      "outputs": [
        {
          "output_type": "stream",
          "name": "stdout",
          "text": [
            "Shape of X_train :  (120, 4)\n",
            "Shape of Y_train :  (120, 1)\n",
            "Shape of X_test :  (30, 4)\n",
            "Shape of Y_test :  (30, 1)\n"
          ]
        }
      ]
    },
    {
      "cell_type": "code",
      "source": [
        "perc_clas = Perceptron_clasificacion()\n",
        "\n",
        "# aprendizaje de la red neuronal\n",
        "perc_clas.fit(X_train,y_train)\n",
        "\n",
        "# pesos y sesgos estimados \n",
        "Wp = perc_clas.W\n",
        "bp = perc_clas.b\n",
        "print(\"Pesos estimados para el modelo\",Wp)\n",
        "print(\"Sesgo estimado para el modelo\",bp)"
      ],
      "metadata": {
        "colab": {
          "base_uri": "https://localhost:8080/"
        },
        "id": "_A5Jq8wP6N5-",
        "outputId": "4ca31729-b653-45f5-a1a8-92da153c9059"
      },
      "execution_count": null,
      "outputs": [
        {
          "output_type": "stream",
          "name": "stdout",
          "text": [
            "Costo inicial =  0.6931471805599453\n",
            "Costo final =  0.06318518750775518\n",
            "Número de epochs =  1000\n",
            "Pesos estimados para el modelo [[ 0.23201916]\n",
            " [ 0.87625961]\n",
            " [-1.38301407]\n",
            " [-0.63738961]]\n",
            "Sesgo estimado para el modelo 0.16149407399667534\n"
          ]
        }
      ]
    },
    {
      "cell_type": "code",
      "source": [
        "perc_clas.accuracy(X_test, y_test)\n",
        "perc_clas.accuracy(X_train, y_train)"
      ],
      "metadata": {
        "colab": {
          "base_uri": "https://localhost:8080/"
        },
        "id": "RJi1fYm81WJw",
        "outputId": "e5a2eace-8658-4a86-a6aa-c39d3b673aa1"
      },
      "execution_count": null,
      "outputs": [
        {
          "output_type": "stream",
          "name": "stdout",
          "text": [
            "Porcentaje de aciertos:  100.0 %\n",
            "Porcentaje de aciertos:  100.0 %\n"
          ]
        }
      ]
    },
    {
      "cell_type": "markdown",
      "source": [
        "para visualizar mejor el ajuste de este modelo se muestra la matriz de confusión respectiva del conjunto de prueba"
      ],
      "metadata": {
        "id": "BeSfvbnb_040"
      }
    },
    {
      "cell_type": "code",
      "source": [
        "from sklearn.metrics import confusion_matrix, ConfusionMatrixDisplay\n",
        "\n",
        "prediction = perc_clas.predict(X_test)\n",
        "prediction = prediction >0.5\n",
        "prediction = np.array(prediction, dtype = 'int64')\n",
        "\n",
        "cm = confusion_matrix(y_test, prediction, normalize='all')\n",
        "disp = ConfusionMatrixDisplay(confusion_matrix=cm)\n",
        "disp.plot()\n",
        "plt.show()"
      ],
      "metadata": {
        "colab": {
          "base_uri": "https://localhost:8080/",
          "height": 279
        },
        "id": "aOSYycKt7hLa",
        "outputId": "296eda21-08d8-4973-cff5-2df4a09d6a3d"
      },
      "execution_count": null,
      "outputs": [
        {
          "output_type": "display_data",
          "data": {
            "text/plain": [
              "<Figure size 432x288 with 2 Axes>"
            ],
            "image/png": "[encoded data removed]"
          },
          "metadata": {
            "needs_background": "light"
          }
        }
      ]
    },
    {
      "cell_type": "markdown",
      "source": [
        "# <font color=blue> Ejemplos aplicados\n"
      ],
      "metadata": {
        "id": "rP26OFFcEv3d"
      }
    },
    {
      "cell_type": "markdown",
      "source": [
        "## <font color=#4CC9F0>Regresión lineal"
      ],
      "metadata": {
        "id": "J5DuniLqIixc"
      }
    },
    {
      "cell_type": "code",
      "source": [
        "#Datos\n",
        "data=pd.read_csv('/content/drive/Shareddrives/Perceptron - Mineria /data01.csv')\n",
        "data"
      ],
      "metadata": {
        "colab": {
          "base_uri": "https://localhost:8080/",
          "height": 423
        },
        "id": "PmM9qb1ZJa1Q",
        "outputId": "6276b774-8a1e-49f7-fedc-77934524629b"
      },
      "execution_count": null,
      "outputs": [
        {
          "output_type": "execute_result",
          "data": {
            "text/plain": [
              "     Unnamed: 0          x          y          phi\n",
              "0             0  73.517682  44.800793  1116.826387\n",
              "1             1  32.756284  28.724427  1066.212487\n",
              "2             2 -13.308013   2.458485   490.735354\n",
              "3             3  62.884936   5.696075 -1130.689639\n",
              "4             4  47.861635  29.955114   782.448037\n",
              "..          ...        ...        ...          ...\n",
              "166         166  84.174447   7.278451 -1540.365854\n",
              "167         167 -23.119203   9.013067  1145.697153\n",
              "168         168  -5.747350  18.067861  1308.279480\n",
              "169         169  16.419795  12.980806   450.696513\n",
              "170         170  46.245703  36.231065  1222.891304\n",
              "\n",
              "[171 rows x 4 columns]"
            ],
            "text/html": [
              "\n",
              "  <div id=\"df-d26a3b4f-a2f2-487d-b9ec-5be20e7746f1\">\n",
              "    <div class=\"colab-df-container\">\n",
              "      <div>\n",
              "<style scoped>\n",
              "    .dataframe tbody tr th:only-of-type {\n",
              "        vertical-align: middle;\n",
              "    }\n",
              "\n",
              "    .dataframe tbody tr th {\n",
              "        vertical-align: top;\n",
              "    }\n",
              "\n",
              "    .dataframe thead th {\n",
              "        text-align: right;\n",
              "    }\n",
              "</style>\n",
              "<table border=\"1\" class=\"dataframe\">\n",
              "  <thead>\n",
              "    <tr style=\"text-align: right;\">\n",
              "      <th></th>\n",
              "      <th>Unnamed: 0</th>\n",
              "      <th>x</th>\n",
              "      <th>y</th>\n",
              "      <th>phi</th>\n",
              "    </tr>\n",
              "  </thead>\n",
              "  <tbody>\n",
              "    <tr>\n",
              "      <th>0</th>\n",
              "      <td>0</td>\n",
              "      <td>73.517682</td>\n",
              "      <td>44.800793</td>\n",
              "      <td>1116.826387</td>\n",
              "    </tr>\n",
              "    <tr>\n",
              "      <th>1</th>\n",
              "      <td>1</td>\n",
              "      <td>32.756284</td>\n",
              "      <td>28.724427</td>\n",
              "      <td>1066.212487</td>\n",
              "    </tr>\n",
              "    <tr>\n",
              "      <th>2</th>\n",
              "      <td>2</td>\n",
              "      <td>-13.308013</td>\n",
              "      <td>2.458485</td>\n",
              "      <td>490.735354</td>\n",
              "    </tr>\n",
              "    <tr>\n",
              "      <th>3</th>\n",
              "      <td>3</td>\n",
              "      <td>62.884936</td>\n",
              "      <td>5.696075</td>\n",
              "      <td>-1130.689639</td>\n",
              "    </tr>\n",
              "    <tr>\n",
              "      <th>4</th>\n",
              "      <td>4</td>\n",
              "      <td>47.861635</td>\n",
              "      <td>29.955114</td>\n",
              "      <td>782.448037</td>\n",
              "    </tr>\n",
              "    <tr>\n",
              "      <th>...</th>\n",
              "      <td>...</td>\n",
              "      <td>...</td>\n",
              "      <td>...</td>\n",
              "      <td>...</td>\n",
              "    </tr>\n",
              "    <tr>\n",
              "      <th>166</th>\n",
              "      <td>166</td>\n",
              "      <td>84.174447</td>\n",
              "      <td>7.278451</td>\n",
              "      <td>-1540.365854</td>\n",
              "    </tr>\n",
              "    <tr>\n",
              "      <th>167</th>\n",
              "      <td>167</td>\n",
              "      <td>-23.119203</td>\n",
              "      <td>9.013067</td>\n",
              "      <td>1145.697153</td>\n",
              "    </tr>\n",
              "    <tr>\n",
              "      <th>168</th>\n",
              "      <td>168</td>\n",
              "      <td>-5.747350</td>\n",
              "      <td>18.067861</td>\n",
              "      <td>1308.279480</td>\n",
              "    </tr>\n",
              "    <tr>\n",
              "      <th>169</th>\n",
              "      <td>169</td>\n",
              "      <td>16.419795</td>\n",
              "      <td>12.980806</td>\n",
              "      <td>450.696513</td>\n",
              "    </tr>\n",
              "    <tr>\n",
              "      <th>170</th>\n",
              "      <td>170</td>\n",
              "      <td>46.245703</td>\n",
              "      <td>36.231065</td>\n",
              "      <td>1222.891304</td>\n",
              "    </tr>\n",
              "  </tbody>\n",
              "</table>\n",
              "<p>171 rows × 4 columns</p>\n",
              "</div>\n",
              "      <button class=\"colab-df-convert\" onclick=\"convertToInteractive('df-d26a3b4f-a2f2-487d-b9ec-5be20e7746f1')\"\n",
              "              title=\"Convert this dataframe to an interactive table.\"\n",
              "              style=\"display:none;\">\n",
              "        \n",
              "  <svg xmlns=\"http://www.w3.org/2000/svg\" height=\"24px\"viewBox=\"0 0 24 24\"\n",
              "       width=\"24px\">\n",
              "    <path d=\"M0 0h24v24H0V0z\" fill=\"none\"/>\n",
              "    <path d=\"M18.56 5.44l.94 2.06.94-2.06 2.06-.94-2.06-.94-.94-2.06-.94 2.06-2.06.94zm-11 1L8.5 8.5l.94-2.06 2.06-.94-2.06-.94L8.5 2.5l-.94 2.06-2.06.94zm10 10l.94 2.06.94-2.06 2.06-.94-2.06-.94-.94-2.06-.94 2.06-2.06.94z\"/><path d=\"M17.41 7.96l-1.37-1.37c-.4-.4-.92-.59-1.43-.59-.52 0-1.04.2-1.43.59L10.3 9.45l-7.72 7.72c-.78.78-.78 2.05 0 2.83L4 21.41c.39.39.9.59 1.41.59.51 0 1.02-.2 1.41-.59l7.78-7.78 2.81-2.81c.8-.78.8-2.07 0-2.86zM5.41 20L4 18.59l7.72-7.72 1.47 1.35L5.41 20z\"/>\n",
              "  </svg>\n",
              "      </button>\n",
              "      \n",
              "  <style>\n",
              "    .colab-df-container {\n",
              "      display:flex;\n",
              "      flex-wrap:wrap;\n",
              "      gap: 12px;\n",
              "    }\n",
              "\n",
              "    .colab-df-convert {\n",
              "      background-color: #E8F0FE;\n",
              "      border: none;\n",
              "      border-radius: 50%;\n",
              "      cursor: pointer;\n",
              "      display: none;\n",
              "      fill: #1967D2;\n",
              "      height: 32px;\n",
              "      padding: 0 0 0 0;\n",
              "      width: 32px;\n",
              "    }\n",
              "\n",
              "    .colab-df-convert:hover {\n",
              "      background-color: #E2EBFA;\n",
              "      box-shadow: 0px 1px 2px rgba(60, 64, 67, 0.3), 0px 1px 3px 1px rgba(60, 64, 67, 0.15);\n",
              "      fill: #174EA6;\n",
              "    }\n",
              "\n",
              "    [theme=dark] .colab-df-convert {\n",
              "      background-color: #3B4455;\n",
              "      fill: #D2E3FC;\n",
              "    }\n",
              "\n",
              "    [theme=dark] .colab-df-convert:hover {\n",
              "      background-color: #434B5C;\n",
              "      box-shadow: 0px 1px 3px 1px rgba(0, 0, 0, 0.15);\n",
              "      filter: drop-shadow(0px 1px 2px rgba(0, 0, 0, 0.3));\n",
              "      fill: #FFFFFF;\n",
              "    }\n",
              "  </style>\n",
              "\n",
              "      <script>\n",
              "        const buttonEl =\n",
              "          document.querySelector('#df-d26a3b4f-a2f2-487d-b9ec-5be20e7746f1 button.colab-df-convert');\n",
              "        buttonEl.style.display =\n",
              "          google.colab.kernel.accessAllowed ? 'block' : 'none';\n",
              "\n",
              "        async function convertToInteractive(key) {\n",
              "          const element = document.querySelector('#df-d26a3b4f-a2f2-487d-b9ec-5be20e7746f1');\n",
              "          const dataTable =\n",
              "            await google.colab.kernel.invokeFunction('convertToInteractive',\n",
              "                                                     [key], {});\n",
              "          if (!dataTable) return;\n",
              "\n",
              "          const docLinkHtml = 'Like what you see? Visit the ' +\n",
              "            '<a target=\"_blank\" href=https://colab.research.google.com/notebooks/data_table.ipynb>data table notebook</a>'\n",
              "            + ' to learn more about interactive tables.';\n",
              "          element.innerHTML = '';\n",
              "          dataTable['output_type'] = 'display_data';\n",
              "          await google.colab.output.renderOutput(dataTable, element);\n",
              "          const docLink = document.createElement('div');\n",
              "          docLink.innerHTML = docLinkHtml;\n",
              "          element.appendChild(docLink);\n",
              "        }\n",
              "      </script>\n",
              "    </div>\n",
              "  </div>\n",
              "  "
            ]
          },
          "metadata": {},
          "execution_count": 20
        }
      ]
    },
    {
      "cell_type": "code",
      "source": [
        "from sklearn.neural_network import  MLPRegressor\n",
        "x = np.array(data['x'])\n",
        "y = np.array(data['y'])\n",
        "X = np.asarray(data[['x','y']])\n",
        "phi = np.asarray(data['phi'])\n",
        "X_train, X_test, y_train, y_test = train_test_split(X, phi, random_state=413, test_size=0.2)"
      ],
      "metadata": {
        "id": "-Ye28vuQP3T7"
      },
      "execution_count": null,
      "outputs": []
    },
    {
      "cell_type": "code",
      "source": [
        "# Scatter\n",
        "\n",
        "# importamos las librerias necesarias\n",
        "from mpl_toolkits.mplot3d import axes3d\n",
        "import matplotlib.pyplot as plt\n",
        "\n",
        "# Creamos la figura\n",
        "fig = plt.figure()\n",
        "# Creamos el plano 3D\n",
        "ax1 = fig.add_subplot(111, projection='3d')\n",
        "\n",
        "# Agregamos los puntos en el plano 3D\n",
        "ax1.scatter(X_train[:,0], X_train[:,1], y_train, c='g', marker='o')\n",
        "ax1.scatter(X_test[:,0], X_test[:,1], y_test, c ='b', marker='o')\n",
        "\n",
        "# Mostramos el gráfico\n",
        "plt.show()"
      ],
      "metadata": {
        "colab": {
          "base_uri": "https://localhost:8080/",
          "height": 248
        },
        "id": "AC37Cu5nJlBa",
        "outputId": "b79de08d-60c8-4b77-ccde-74500ee61e47"
      },
      "execution_count": null,
      "outputs": [
        {
          "output_type": "display_data",
          "data": {
            "text/plain": [
              "<Figure size 432x288 with 1 Axes>"
            ],
            "image/png": "[encoded data removed]"
          },
          "metadata": {
            "needs_background": "light"
          }
        }
      ]
    },
    {
      "cell_type": "code",
      "source": [
        "# red neuronal de una capa\n",
        "percep_sk = MLPRegressor(activation='relu', solver='sgd', learning_rate_init=1e-7, max_iter=1000, tol=1e-4).fit(X_train,y_train)\n",
        "\n",
        "# R^2\n",
        "print(\"Score del conjunto de entrenamiento: \",percep_sk.score(X_train, y_train))\n",
        "print(\"Score del conjunto de prueba: \", percep_sk.score(X_test, y_test))\n",
        "\n",
        "# ECM\n",
        "test_pred = percep_sk.predict(X_test)\n",
        "print('el ECM del conjunto de prueba es', np.sqrt(sum((y_test - test_pred)**2)))"
      ],
      "metadata": {
        "colab": {
          "base_uri": "https://localhost:8080/"
        },
        "id": "G_vRWamXd2vo",
        "outputId": "4c5ff1e8-0d67-4075-ecdf-c70227a1e29b"
      },
      "execution_count": null,
      "outputs": [
        {
          "output_type": "stream",
          "name": "stdout",
          "text": [
            "Score del conjunto de entrenamiento:  0.9946045007351835\n",
            "Score del conjunto de prueba:  0.9931586091143421\n",
            "el ECM del conjunto de prueba es 660.8743818351024\n"
          ]
        },
        {
          "output_type": "stream",
          "name": "stderr",
          "text": [
            "/usr/local/lib/python3.7/dist-packages/sklearn/neural_network/_multilayer_perceptron.py:696: ConvergenceWarning: Stochastic Optimizer: Maximum iterations (1000) reached and the optimization hasn't converged yet.\n",
            "  ConvergenceWarning,\n"
          ]
        }
      ]
    },
    {
      "cell_type": "code",
      "source": [
        "# Creamos la figura\n",
        "fig = plt.figure()\n",
        "# Creamos el plano 3D\n",
        "ax1 = fig.add_subplot(111, projection='3d')\n",
        "\n",
        "# Agregamos los puntos en el plano 3D\n",
        "ax1.scatter(X_train[:,0], X_train[:,1], y_train, c='g', marker='o')\n",
        "ax1.scatter(X_train[:,0], X_train[:,1], percep_sk.predict(X_train), c ='r', marker='o')\n",
        "\n",
        "# Mostramos el gráfico\n",
        "plt.show()"
      ],
      "metadata": {
        "colab": {
          "base_uri": "https://localhost:8080/",
          "height": 248
        },
        "id": "zwSmUKDoNeu9",
        "outputId": "afc2cb27-d797-4227-d584-fccb6ef302eb"
      },
      "execution_count": null,
      "outputs": [
        {
          "output_type": "display_data",
          "data": {
            "text/plain": [
              "<Figure size 432x288 with 1 Axes>"
            ],
            "image/png": "[encoded data removed]"
          },
          "metadata": {
            "needs_background": "light"
          }
        }
      ]
    },
    {
      "cell_type": "code",
      "source": [],
      "metadata": {
        "id": "CIFDFaciXANE"
      },
      "execution_count": null,
      "outputs": []
    },
    {
      "cell_type": "code",
      "source": [
        "# Creamos la figura\n",
        "fig = plt.figure()\n",
        "# Creamos el plano 3D\n",
        "ax1 = fig.add_subplot(111, projection='3d')\n",
        "\n",
        "# Agregamos los puntos en el plano 3D\n",
        "ax1.scatter(X_test[:,0], X_test[:,1], y_test, c='b', marker='o')\n",
        "ax1.scatter(X_test[:,0], X_test[:,1], test_pred, c ='r', marker='o')\n",
        "\n",
        "# Mostramos el gráfico\n",
        "plt.show()"
      ],
      "metadata": {
        "colab": {
          "base_uri": "https://localhost:8080/",
          "height": 248
        },
        "id": "3YTDfHTELwTa",
        "outputId": "d2fbfe86-1899-46b6-c39c-d7a04195325d"
      },
      "execution_count": null,
      "outputs": [
        {
          "output_type": "display_data",
          "data": {
            "text/plain": [
              "<Figure size 432x288 with 1 Axes>"
            ],
            "image/png": "[encoded data removed]"
          },
          "metadata": {
            "needs_background": "light"
          }
        }
      ]
    },
    {
      "cell_type": "markdown",
      "source": [
        "## <font color=#4CC9F0> Clasificación"
      ],
      "metadata": {
        "id": "8-OirOVaMeCL"
      }
    },
    {
      "cell_type": "code",
      "source": [
        "from sklearn.neural_network import MLPClassifier\n",
        "\n",
        "X = np.asarray(datos1[['SepalLengthCm','SepalWidthCm','PetalLengthCm','PetalWidthCm']])\n",
        "Y = np.asarray(datos1[['Species_cat']])\n",
        "X_train, X_test, y_train, y_test = train_test_split(X, Y, random_state=413, test_size=0.2)"
      ],
      "metadata": {
        "id": "1JzFWuxGbo42"
      },
      "execution_count": null,
      "outputs": []
    },
    {
      "cell_type": "code",
      "source": [
        "percep_sk_clas = MLPClassifier(activation='logistic', solver='sgd', learning_rate_init=0.009, max_iter=1000, tol=1e-10).fit(X_train, y_train)\n",
        "\n",
        "print(\"Score del conjunto de entrenamiento: \",percep_sk_clas.score(X_train, y_train))\n",
        "print(\"Score del conjunto de prueba: \", percep_sk_clas.score(X_test, y_test))"
      ],
      "metadata": {
        "colab": {
          "base_uri": "https://localhost:8080/"
        },
        "id": "YnNhrggOdQHn",
        "outputId": "a434c1d3-203b-4ea4-c964-b8f948bc35a8"
      },
      "execution_count": null,
      "outputs": [
        {
          "output_type": "stream",
          "name": "stderr",
          "text": [
            "/usr/local/lib/python3.7/dist-packages/sklearn/neural_network/_multilayer_perceptron.py:1109: DataConversionWarning: A column-vector y was passed when a 1d array was expected. Please change the shape of y to (n_samples, ), for example using ravel().\n",
            "  y = column_or_1d(y, warn=True)\n"
          ]
        },
        {
          "output_type": "stream",
          "name": "stdout",
          "text": [
            "Score del conjunto de entrenamiento:  1.0\n",
            "Score del conjunto de prueba:  1.0\n"
          ]
        },
        {
          "output_type": "stream",
          "name": "stderr",
          "text": [
            "/usr/local/lib/python3.7/dist-packages/sklearn/neural_network/_multilayer_perceptron.py:696: ConvergenceWarning: Stochastic Optimizer: Maximum iterations (1000) reached and the optimization hasn't converged yet.\n",
            "  ConvergenceWarning,\n"
          ]
        }
      ]
    },
    {
      "cell_type": "code",
      "source": [
        "from sklearn.metrics import confusion_matrix, ConfusionMatrixDisplay\n",
        "\n",
        "prediction = percep_sk_clas.predict(X_test)\n",
        "prediction = prediction >0.5\n",
        "prediction = np.array(prediction, dtype = 'int64')\n",
        "\n",
        "cm = confusion_matrix(y_test, prediction, normalize='all')\n",
        "disp = ConfusionMatrixDisplay(confusion_matrix=cm)\n",
        "disp.plot()\n",
        "plt.show()"
      ],
      "metadata": {
        "colab": {
          "base_uri": "https://localhost:8080/",
          "height": 279
        },
        "id": "Rf78KB21e0D9",
        "outputId": "e5751c33-ed4c-47d0-b608-712302af2f78"
      },
      "execution_count": null,
      "outputs": [
        {
          "output_type": "display_data",
          "data": {
            "text/plain": [
              "<Figure size 432x288 with 2 Axes>"
            ],
            "image/png": "[encoded data removed]"
          },
          "metadata": {
            "needs_background": "light"
          }
        }
      ]
    }
  ]
}