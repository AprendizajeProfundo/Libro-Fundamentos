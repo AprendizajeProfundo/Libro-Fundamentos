{
 "cells": [
  {
   "cell_type": "markdown",
   "metadata": {
    "id": "-78oHnYB-YZh"
   },
   "source": [
    "# <span style=\"color:red\"><center>Mínimos cuadrados ordinarios<center></span>\n"
   ]
  },
  {
   "cell_type": "markdown",
   "metadata": {
    "id": "GQDMrJE9VT1_"
   },
   "source": [
    "<figure> \n",
    "<center>\n",
    "<img src=\"https://github.com/Jeslome/Proyecto/blob/main/Temas/Imagenes/hd-wallpaper-1867616_1920.jpg?raw=true\"  width=\"800\" height=\"800\" align=\"center\"/>\n",
    "<figcaption> </figcaption>\n",
    "</center>\n",
    "</figure>\n",
    "\n",
    "[Fuente:pixabay](https://pixabay.com/es/photos/astronom%c3%ada-brillante-constelaci%c3%b3n-1867616/)"
   ]
  },
  {
   "cell_type": "markdown",
   "metadata": {},
   "source": [
    "## <span style=\"color:blue\">Referencias</span>\n",
    "1. José Alfredo Moscoso, [Libro de Álgebra Matricial](https://www.cienciadedatos.net/documentos/py10-regresion-lineal-python.html )\n"
   ]
  },
  {
   "cell_type": "markdown",
   "metadata": {},
   "source": [
    "## <span style=\"color:blue\">Profesor</span>\n",
    "1. Alvaro  Montenegro, PhD, ammontenegrod@unal.edu.co"
   ]
  },
  {
   "cell_type": "markdown",
   "metadata": {},
   "source": [
    "## <span style=\"color:blue\">Autores</span>\n",
    "1. Natalia Buriticá, nburitica@unal.edu.co\n",
    "2. Nicolás Romero, niromeros@unal.edu.co\n",
    "2. Jessica López, jelopezme@unal.edu.co"
   ]
  },
  {
   "cell_type": "markdown",
   "metadata": {
    "id": "enJjIlAsA3PZ"
   },
   "source": [
    "## <span style=\"color:blue\">Introducción</span>\n",
    "\n",
    "El método de los Minimos Cuadrados Ordinarios (MCO ó OLS) es un procedimiento matematico que consiste en calcular la recta de regresión lineal que minimiza los residuos, esto quiere decir, minimizar la suma de los residuos al cuadrado, teniendo como residuo la diferencia entre los datos observados y los valores del modelo lineal. Dados un conjunto de pares ordenados ($x_i,y_i$) se busca determinar la ecuacion de la recta $y= ax+b$ que se aproxime lo mas posible a la nube de puntos definida por los pares de los valores muestrales obtenidos. Este modelo de regresion lineal permite efectuar predicciones de una variable aleatoria $Y$ sabiendo los valores de un conjunto de variables $X_1, X_2,… X_n$. A la variable $Y$ la llamamos dependiente, aunque también se la conoce como variable objetivo, endógena, criterio o explicada. Por su parte, las variables $X$ son las variables independientes, conocidas también como predictoras, explicativas, exógenas o regresoras. En otras palabras, Y depende de $X$, donde $Y$ es una variable aleatoria cualquiera pero $X$ no lo es. Lo dicho hasta aqui indica una regresion lineal simple donde se visualiza una unica variable independiente y la otra es depediente. Cuando se considere una regresión multiple se contemplaran tres o mas variables, una de las cuales es la variable dependiente que debe ser estimada con base en los valores de las otras variables que son las independientes.\n"
   ]
  },
  {
   "cell_type": "markdown",
   "metadata": {},
   "source": [
    "<figure> \n",
    "<center>\n",
    "<img src=\"https://github.com/Jeslome/Proyecto/blob/main/Temas/Imagenes/MCO.png?raw=true\"  width=\"400\" height=\"400\" align=\"center\"/>\n",
    "<figcaption> </figcaption>\n",
    "</center>\n",
    "</figure>\n",
    "\n",
    "[Fuente:miprofe](https://miprofe.com/minimos-cuadrados/)"
   ]
  },
  {
   "cell_type": "markdown",
   "metadata": {
    "id": "Pwx_scqNRD4z"
   },
   "source": [
    "## <span style=\"color:blue\">Nota Histórica</span>\n"
   ]
  },
  {
   "cell_type": "markdown",
   "metadata": {
    "id": "q7vqI5USMhu8"
   },
   "source": [
    "El método de mínimos cuadrados tiene una larga historia que se remonta a los principios del siglo XIX. En Junio de 1801, Zach, un astrónomo que Gauss había conocido dos años antes, publicaba las posiciones orbitales del cuerpo celeste Ceres, un nuevo “pequeño planeta” descubierto por el astrónomo italiano G. Piazzi en ese mismo año. Desafortunadamente, Piazzi sólo había podido observar 9 grados de su órbita antes de que este cuerpo desapareciese tras de el sol. Zach publicó varias predicciones de su posición incluyendo una de Gauss que difería notablemente de las demás. Cuando Ceres fue redescubierto por Zach en Diciembre de 1801 estaba casi exactamente en donde Gauss había predicho.\n",
    "Aunque todavía no había revelado su método, Gauss había descubierto el método de mínimos cuadrados. En un trabajo brillante logró calcular la órbita de Ceres a partir de un número reducido de observaciones, de hecho, el método de Gauss requiere sólo un mínimo de 3 observaciones y todavía es, en esencia, el utilizado en la actualidad para calcular las órbitas."
   ]
  },
  {
   "cell_type": "markdown",
   "metadata": {},
   "source": [
    "<figure> \n",
    "<center>\n",
    "<img src=\"https://github.com/Jeslome/Proyecto/blob/main/Temas/Imagenes/Orbit%20of%20Ceres.jpg?raw=true\"  width=\"400\" height=\"400\" align=\"center\"/>\n",
    "<figcaption> </figcaption>\n",
    "</center>\n",
    "</figure>\n",
    "\n",
    "[Fuente:astroPPM](https://astroppm.blogspot.com/2010/08/ceres-directions.html)"
   ]
  },
  {
   "cell_type": "markdown",
   "metadata": {
    "id": "fYpOZPXSVaZS"
   },
   "source": [
    "## <span style=\"color:blue\">Fundamento matemático</span>\n"
   ]
  },
  {
   "cell_type": "markdown",
   "metadata": {},
   "source": [
    "### <span style=\"color:#4CC9F0\">Modelo de regresión lineal simple</span>\n"
   ]
  },
  {
   "cell_type": "markdown",
   "metadata": {
    "id": "SU9bwuR8Yfc2"
   },
   "source": [
    "El problema de recolectar y analizar datos está presente en muchos aspectos de las actividades humanas. Con frecuencia medimos un valor de $y$ para un valor dado de $x$ y luego localizamos los puntos ($x$, $y$) en una gráfica. Aprovechamos la gráfica resultante para establecer una relación entre las variables x y y que luego sirva para predecir nuevos valores de $y$ para valores dados de $x$. A continuación vemos una grafica de lo dicho: "
   ]
  },
  {
   "cell_type": "code",
   "execution_count": 60,
   "metadata": {},
   "outputs": [],
   "source": [
    "%matplotlib inline\n",
    "import seaborn as sns\n",
    "import matplotlib.pyplot as plt\n",
    "import numpy as np\n",
    "import pandas as pd\n",
    "import numpy as np"
   ]
  },
  {
   "cell_type": "code",
   "execution_count": 54,
   "metadata": {},
   "outputs": [
    {
     "data": {
      "text/html": [
       "<div>\n",
       "<style scoped>\n",
       "    .dataframe tbody tr th:only-of-type {\n",
       "        vertical-align: middle;\n",
       "    }\n",
       "\n",
       "    .dataframe tbody tr th {\n",
       "        vertical-align: top;\n",
       "    }\n",
       "\n",
       "    .dataframe thead th {\n",
       "        text-align: right;\n",
       "    }\n",
       "</style>\n",
       "<table border=\"1\" class=\"dataframe\">\n",
       "  <thead>\n",
       "    <tr style=\"text-align: right;\">\n",
       "      <th></th>\n",
       "      <th>usada</th>\n",
       "      <th>presente</th>\n",
       "    </tr>\n",
       "  </thead>\n",
       "  <tbody>\n",
       "    <tr>\n",
       "      <th>0</th>\n",
       "      <td>3</td>\n",
       "      <td>4.5</td>\n",
       "    </tr>\n",
       "    <tr>\n",
       "      <th>1</th>\n",
       "      <td>4</td>\n",
       "      <td>5.5</td>\n",
       "    </tr>\n",
       "    <tr>\n",
       "      <th>2</th>\n",
       "      <td>5</td>\n",
       "      <td>5.7</td>\n",
       "    </tr>\n",
       "    <tr>\n",
       "      <th>3</th>\n",
       "      <td>6</td>\n",
       "      <td>6.6</td>\n",
       "    </tr>\n",
       "    <tr>\n",
       "      <th>4</th>\n",
       "      <td>7</td>\n",
       "      <td>7.0</td>\n",
       "    </tr>\n",
       "    <tr>\n",
       "      <th>5</th>\n",
       "      <td>8</td>\n",
       "      <td>7.7</td>\n",
       "    </tr>\n",
       "    <tr>\n",
       "      <th>6</th>\n",
       "      <td>9</td>\n",
       "      <td>8.5</td>\n",
       "    </tr>\n",
       "    <tr>\n",
       "      <th>7</th>\n",
       "      <td>10</td>\n",
       "      <td>8.7</td>\n",
       "    </tr>\n",
       "    <tr>\n",
       "      <th>8</th>\n",
       "      <td>11</td>\n",
       "      <td>9.5</td>\n",
       "    </tr>\n",
       "    <tr>\n",
       "      <th>9</th>\n",
       "      <td>12</td>\n",
       "      <td>9.7</td>\n",
       "    </tr>\n",
       "  </tbody>\n",
       "</table>\n",
       "</div>"
      ],
      "text/plain": [
       "   usada  presente\n",
       "0      3       4.5\n",
       "1      4       5.5\n",
       "2      5       5.7\n",
       "3      6       6.6\n",
       "4      7       7.0\n",
       "5      8       7.7\n",
       "6      9       8.5\n",
       "7     10       8.7\n",
       "8     11       9.5\n",
       "9     12       9.7"
      ]
     },
     "execution_count": 54,
     "metadata": {},
     "output_type": "execute_result"
    }
   ],
   "source": [
    "Producto = {'Beta usada (gramo/)': [3,4,5,6,7,8,9,10,11,12],\n",
    "               'presente': [4.5, 5.5, 5.7, 6.6,7.0,7.7,8.5,8.7,9.5,9.7]}\n",
    "df"
   ]
  },
  {
   "cell_type": "code",
   "execution_count": 67,
   "metadata": {},
   "outputs": [
    {
     "data": {
      "image/png": "[encoded data removed]",
      "text/plain": [
       "<Figure size 432x288 with 1 Axes>"
      ]
     },
     "metadata": {
      "needs_background": "light"
     },
     "output_type": "display_data"
    }
   ],
   "source": [
    "import matplotlib.pyplot as plt\n",
    "x=[3,4,5,6,7,8,9,10,11,12]\n",
    "y=[4.5, 5.5, 5.7, 6.6,7.0,7.7,8.5,8.7,9.5,9.7]\n",
    "plt.scatter(x,y)\n",
    "plt.show()"
   ]
  },
  {
   "cell_type": "markdown",
   "metadata": {},
   "source": [
    "Suponga que la relación entre la cantidad de alfa utilizada y la cantidad de beta presente está dada por una ecuación lineal, de modo que la gráfica sea una línea recta. En\n",
    "vista de lo anterior, no sería razonable unir los puntos trazando una curva que pase por\n",
    "todos ellos. Además, los datos tienen una naturaleza probabilística, es decir, no son deterministas, en el sentido de que si repitiéramos el experimento encontraríamos valores\n",
    "ligeramente distintos de beta para los mismos valores de alfa, pues todas las mediciones están sujetas a errores experimentales. De esta manera, los puntos graficados no están, necesariamente, sobre una línea recta. A continuación aplicamos el método de\n",
    "mínimos cuadrados para obtener la línea recta que “mejor se ajusta” a los datos proporcionados. Esta línea es la recta de mínimos cuadrados.\n",
    "Suponga que se nos han dado n puntos ($x_1$,$y_1$), ($x_2$,$y_2$), . . . , ($x_n$, $y_n$), donde por lo menos dos de las $x_i$ son distintas. "
   ]
  },
  {
   "cell_type": "markdown",
   "metadata": {},
   "source": [
    "Estamos interesados en determinar la recta que mejor se ajusta a los datos:\n",
    "\n",
    "$$\\widehat{y} = \\ \\widehat{\\alpha} + \\widehat{\\beta}x$$ \n",
    "\n",
    "que “mejor se ajusta a los datos”. Si los puntos ($x_1$,$y_1$), ($x_2$,$y_2$), . . . , ($x_n$, $y_n$)   estuvieran exactamente sobre la recta de mínimos cuadrados, tendríamos que:"
   ]
  },
  {
   "cell_type": "markdown",
   "metadata": {},
   "source": [
    "$$\\widehat{y_i} = \\ \\widehat{\\alpha} + \\widehat{\\beta}x_i$$\n",
    "\n",
    "Predecir el valor de la variable Y a partir del comportamiento de la variable X, a nivel exacto es imposible, puesto que influyen diversos factores desconocidos que alteran el valor de cada variable. Como algunos de estos puntos no están necesariamente sobre la recta, así pues la recta está dada por:"
   ]
  },
  {
   "cell_type": "markdown",
   "metadata": {},
   "source": [
    "   $$\\widehat{y_i} = \\ \\widehat{\\alpha} + \\widehat{\\beta}x_i+ e_i$$"
   ]
  },
  {
   "cell_type": "markdown",
   "metadata": {},
   "source": [
    "Donde: \n",
    "\n",
    "\n",
    "* $\\widehat{y_i}$ es el valor de la variable respuesta en el $i$-ésimo ensayo.\n",
    "\n",
    "\n",
    "* $\\widehat{\\alpha},\\widehat{\\beta}$ Son los coeficientes (o parámetros) de regresión que corresponden al intercepto y a la pendiente, respectivamente.\n",
    "\n",
    "\n",
    "* $x_i$ Es un valor conocido, el valor de la variable independiente en el $i$-ésimo ensayo.\n",
    "\n",
    "* $e_i$ es el error del modelo también conocido como perturbación. Se parte del supuesto de que siguiendo una distribución normal con media cero y varianza $\\sigma^2$ constante y desconocida."
   ]
  },
  {
   "cell_type": "markdown",
   "metadata": {},
   "source": [
    "### <span style=\"color:#4CC9F0\">Mínimos Cuadrados Ordinarios (MCO)</span>\n",
    "\n",
    "\n",
    "\n",
    "Sean $\\left( x_{i},y_{i} \\right)\\ldots\\left( x_{n},y_{n} \\right)$ variables cuantitativas, se propone un modelo de regresión lineal simple para tratar de entender como la variable X afecta a la variable Y.\n",
    "\n",
    "Se busca la recta $\\widehat{y} = \\ \\widehat{\\alpha} + \\widehat{\\beta}x$ que mejor se ajusta al conjunto de datos."
   ]
  },
  {
   "cell_type": "markdown",
   "metadata": {},
   "source": [
    "De lo que se dio cuenta Gauss era que si sumaba todos los errores que estaban por encima de la recta con los que estaban por debajo se iban a cancelar. Cada error está representado por:\n",
    "$$e_i=y_i-\\widehat{y_i}$$\n",
    "Donde $\\widehat{y_i}$ representa  la recta entonces: \n",
    "$$\\widehat{y_i}= \\widehat{\\alpha} + \\widehat{\\beta}$$\n",
    "\n",
    "Entonces si la suma de los $e_1$ son  iguales a 0 y nosotros promediamos esos errores tendriamos que:\n",
    "$$\\frac{1}{n}\\ \\sum_{i=1}^{n}{e_{i} = 0\\times\\frac{1}{n}= 0}$$\n",
    "\n",
    "Donde\n",
    "$$e_i \\~ N(0,\\sigma^2), \\forall{i}$$"
   ]
  },
  {
   "cell_type": "markdown",
   "metadata": {},
   "source": [
    "Hace falta encontrar una recta que minimice los residuos al cuadrado.\n",
    "\n",
    "$$\\Phi\\left( \\widehat{\\alpha},\\widehat{\\beta} \\right) = \\ \\sum_{i = 1}^{n}e_{i}^{2} = \\ \\sum_{i = 1}^{n}\\left( y_{i} - {\\widehat{y}}_{i} \\right)^{2} = \\sum_{i = 1}^{n}\\left( y_{i} - \\widehat{\\alpha} - \\widehat{\\beta}x_{i} \\right)^{2}$$\n",
    "\n",
    "Se tiene que enontrar $\\widehat{\\alpha}\\text{ y }\\widehat{\\beta}$, tal que\n",
    "$\\Phi\\left( \\widehat{\\alpha},\\widehat{\\beta} \\right)$ es mínima.\n",
    "\n",
    "$$\\frac{\\partial\\Phi}{\\partial\\widehat{\\alpha}} = 0\\ \\frac{\\partial\\Phi}{\\partial\\widehat{\\beta}} = 0$$\n"
   ]
  },
  {
   "cell_type": "markdown",
   "metadata": {},
   "source": [
    "$$\\frac{\\partial\\Phi}{\\partial\\widehat{\\alpha}} = \\sum_{i = 1}^{n}{2\\left( y_{i} - \\widehat{\\alpha} - \\widehat{\\beta}x_{i} \\right)\\left( - 1 \\right) = 0 \\Longleftrightarrow \\ \\sum_{i = 1}^{n}{\\left( y_{i} - \\widehat{\\alpha} - \\widehat{\\beta}x_{i} \\right) = 0 \\Longleftrightarrow \\ \\sum_{}^{}{y_{i} - n}}}\\widehat{\\alpha} - \\widehat{\\beta}\\sum_{}^{}{x_{i} = 0} \\Longleftrightarrow \\frac{1}{n}\\sum_{}^{}{y_{i} - \\widehat{\\alpha} - \\widehat{\\beta}}\\frac{1}{n}\\ \\sum_{}^{}{x_{i} = 0} \\Longleftrightarrow \\overline{Y} - \\widehat{\\alpha} - \\widehat{\\beta}\\overline{X} = 0 \\Longrightarrow \\widehat{\\mathbf{\\alpha}}\\mathbf{=}\\overline{\\mathbf{Y}}\\mathbf{-}\\widehat{\\mathbf{\\beta}}\\overline{\\mathbf{X}}$$"
   ]
  },
  {
   "cell_type": "markdown",
   "metadata": {},
   "source": [
    "$$\\frac{\\partial\\Phi}{\\partial\\widehat{\\beta}} = \\sum_{i = 1}^{n}{2\\left( y_{i} - \\widehat{\\alpha} - \\widehat{\\beta}x_{i} \\right)\\left( x_{i} \\right) =}0 \\Longleftrightarrow \\sum_{}^{}{\\left( y_{i} - \\widehat{\\alpha} - \\widehat{\\beta}x_{i} \\right)\\left( x_{i} \\right) = 0}\\  \\Longleftrightarrow \\sum_{}^{}y_{i}x_{i} - \\widehat{\\alpha}\\sum_{}^{}x_{i} - \\widehat{\\beta}\\sum_{}^{}{x_{i}^{2} = 0} \\Longleftrightarrow \\frac{1}{n}\\sum_{}^{}{y_{i}x_{i} -}\\widehat{\\alpha}\\overline{X} - \\widehat{\\beta}\\ \\frac{1}{n}\\sum_{}^{}{x_{i}^{2} = 0} \\Longleftrightarrow \\frac{1}{n}\\sum_{}^{}{x_{i}y_{i}} - \\left( \\overline{Y} - \\widehat{\\beta}\\overline{X} \\right)\\overline{X} - \\widehat{\\beta}\\frac{1}{n}\\sum_{}^{}{x_{i}^{2} = 0}\\  \\Longleftrightarrow \\frac{1}{n}\\sum_{}^{}{(x_{i}y_{i}} - \\vec{X}\\overline{Y}) - \\ \\widehat{\\beta}(\\frac{1}{n}\\sum_{}^{}x_{i}^{2} - {\\overline{X}}^{2}) = 0 \n",
    "\\Longleftrightarrow S_{\\text{xy}} - \\widehat{\\beta}S_{x}^{2}\\ \\  \\Longrightarrow \\widehat{\\beta} = \\frac{S_{\\text{xy}}}{S_{x}^{2}}$$  "
   ]
  },
  {
   "cell_type": "markdown",
   "metadata": {},
   "source": [
    "Dado que teniamos que\n",
    "   $$\\widehat{y} = \\ \\widehat{\\alpha} + \\widehat{\\beta}x \\Longrightarrow \\widehat{\\alpha}=\\widehat{y}-\\widehat{\\beta}x \\Longrightarrow \\widehat{\\alpha}=\\widehat{y}-\\frac{S_{\\text{xy}}}{S_{x}^{2}}x$$\n",
    "\n"
   ]
  },
  {
   "cell_type": "markdown",
   "metadata": {},
   "source": [
    "### <span style=\"color:#4CC9F0\">Modelo lineal general (múltiple)</span>\n"
   ]
  },
  {
   "cell_type": "markdown",
   "metadata": {},
   "source": [
    "El conjunto de n ecuaciones simultaneas de la recta del modelo lineal es de la forma:\n",
    "$${y_1} = \\beta_0 + \\beta_1x_1 + e_1$$     \n",
    "$${y_2} = \\beta_0 + \\beta_1x_2 + e_2$$\n",
    "$$\\vdots$$\n",
    "$$y_n = \\beta_0 + \\beta_1x_n + e_n$$     \n"
   ]
  },
  {
   "cell_type": "markdown",
   "metadata": {},
   "source": [
    "Que puede escribirse en forma matricial como sigue:\n",
    "\n",
    "$$\n",
    "\\left(\n",
    "\\begin{array}{ll}\n",
    "y_1 \\\\\n",
    "y_2 \\\\\n",
    "\\vdots \\\\\n",
    "y_n\n",
    "\\end{array}\n",
    "\\right)\n",
    "=\n",
    "\\left(\n",
    "\\begin{array}{ll}\n",
    "1 & x_1 \\\\\n",
    "1 & x_2\\\\\n",
    "\\vdots & \\vdots \\\\\n",
    "1 & x_n\n",
    "\\end{array}\n",
    "\\right)\n",
    "*\n",
    "\\left(\n",
    "\\begin{array}{ll}\n",
    "\\mbox{β0}\\\\\n",
    "\\mbox{β1}\n",
    "\\end{array}\n",
    "\\right)\n",
    "+\n",
    "\\left(\n",
    "\\begin{array}{ll}\n",
    "e_1\\\\\n",
    "e_2\\\\\n",
    "\\vdots \\\\\n",
    "e_n\n",
    "\\end{array}\n",
    "\\right)\n",
    "$$\n"
   ]
  },
  {
   "cell_type": "markdown",
   "metadata": {},
   "source": [
    "es decir:\n",
    "\n",
    "$$\\vec{Y}= X \\vec{β} + \\vec{e}$$\n",
    "\n",
    "\n",
    "Esta expresión nos permite formular el modelo lineal general.\n",
    "donde:\n",
    "\n",
    "* $\\vec{Y}$ : Es un vector columna de tamaño n × 1, de observaciones sobre la\n",
    "variable dependiente Y.\n",
    "* $X$ : Es una matriz de tamaño n × p, p ≤ n, de cantidades conocidas\n",
    "fijas, donde la primera columna es de unos y tiene rango igual a\n",
    "k ≤ p.\n",
    "* $\\vec{β}$ : Es un vector columna de tamaño p × 1, de parámetros desconocidos\n",
    "β0, β1,...,βp − 1.\n",
    "* $\\vec{e}$ : Es un vector aleatorio o perturbado de tamaño n × 1.\n",
    "\n",
    "Se dice que es un modelo lineal general. Este modelo es de rango completo\n",
    "si el rango de X es igual a p, el cual podemos escribir como:\n",
    "$$y_i= \\sum_{j=0}^{p-1} \\beta_jx_{ij} + e_i $$\n"
   ]
  },
  {
   "cell_type": "markdown",
   "metadata": {},
   "source": [
    "### <span style=\"color:violet\">Forma operativa</span>\n"
   ]
  },
  {
   "cell_type": "markdown",
   "metadata": {},
   "source": [
    "Como ya se ha mencionado anteriormente, este método consiste en determinar los valores de los parametros $\\beta_j$ de tal manera que la suma de cuadrados del error (SCE) sea mínima, es decir, se minimiza:\n",
    "\n",
    "$$SCE=\\sum_{i = 1}^{n}e_{i}^{2}= \\vec{e}^t\\vec{e}=(\\vec{y}-\\vec{\\beta}X)^t(\\vec{y}-\\vec{\\beta}X)\\Longleftrightarrow \\vec{y}^t\\vec{y}- \\vec{y}^tX\\vec{\\beta}-\\vec{\\beta}^tX^t\\vec{y}+(\\vec{\\beta}^t(X^tX)\\vec{\\beta})$$"
   ]
  },
  {
   "cell_type": "markdown",
   "metadata": {},
   "source": [
    "$$\\frac{\\partial(\\vec{e}^t\\vec{e})}{\\partial\\vec{\\beta}}=0\\Longleftrightarrow-(\\vec{y}^tX)^t-X^t\\vec{y}+X^tX\\vec{\\beta}+(\\vec{\\beta}^tX^tX)^t=0\\Longleftrightarrow-X^t\\vec{y}-X^t\\vec{y}+X^tX\\vec{\\beta}+(X^tX)^t\\vec{\\beta}=0\\Longleftrightarrow X^tX\\vec{\\beta}=X^t\\vec{y}$$"
   ]
  },
  {
   "cell_type": "markdown",
   "metadata": {},
   "source": [
    "Por lo tanto:\n",
    "$$\\vec{\\beta}=(X^tX)^{-1}X^t\\vec{y}=C\\vec{y}$$"
   ]
  },
  {
   "cell_type": "markdown",
   "metadata": {},
   "source": [
    "### <span style=\"color:#4CC9F0\">Implementación en Python del método de minimos cuadrados ordinarios</span>"
   ]
  },
  {
   "cell_type": "markdown",
   "metadata": {},
   "source": [
    "### <span style=\"color:violet\">Dataset</span>"
   ]
  },
  {
   "cell_type": "code",
   "execution_count": 2,
   "metadata": {},
   "outputs": [
    {
     "data": {
      "text/plain": [
       "[]"
      ]
     },
     "execution_count": 2,
     "metadata": {},
     "output_type": "execute_result"
    },
    {
     "data": {
      "image/png": "[encoded data removed]",
      "text/plain": [
       "<Figure size 504x504 with 1 Axes>"
      ]
     },
     "metadata": {
      "needs_background": "light"
     },
     "output_type": "display_data"
    }
   ],
   "source": [
    "import matplotlib.pyplot as plt\n",
    "from sklearn.datasets import make_regression\n",
    "\n",
    "X, y_true = make_regression(\n",
    "    n_samples=100,\n",
    "    n_features=1,\n",
    "    n_informative=1,\n",
    "    #\n",
    "    # Intecepto\n",
    "    bias=0.0,\n",
    "    #\n",
    "    # numero de vectores singulares para explicar\n",
    "    # los datos\n",
    "    effective_rank=None,\n",
    "    #\n",
    "    # importancia relativa de las colas\n",
    "    tail_strength=0.9,\n",
    "    noise=12.0,\n",
    "    shuffle=False,\n",
    "    coef=False,\n",
    "    random_state=0,\n",
    ")\n",
    "\n",
    "plt.figure(figsize=(7, 7))\n",
    "plt.scatter(X, y_true, color=\"tab:blue\", alpha=0.8, edgecolors=\"white\")\n",
    "plt.gca().spines[\"left\"].set_color(\"gray\")\n",
    "plt.gca().spines[\"bottom\"].set_color(\"gray\")\n",
    "plt.gca().spines[\"top\"].set_visible(False)\n",
    "plt.gca().spines[\"right\"].set_visible(False)\n",
    "plt.plot()"
   ]
  },
  {
   "cell_type": "code",
   "execution_count": 70,
   "metadata": {},
   "outputs": [
    {
     "data": {
      "text/plain": [
       "array([42.66621538])"
      ]
     },
     "metadata": {},
     "output_type": "display_data"
    },
    {
     "data": {
      "text/plain": [
       "-0.9770181924368713"
      ]
     },
     "metadata": {},
     "output_type": "display_data"
    },
    {
     "data": {
      "text/plain": [
       "0.9183527010047458"
      ]
     },
     "metadata": {},
     "output_type": "display_data"
    }
   ],
   "source": [
    "from sklearn.linear_model import LinearRegression\n",
    "\n",
    "linearRegression = LinearRegression(\n",
    "    #\n",
    "    # Ajusta el intercepto?\n",
    "    fit_intercept=True,\n",
    "    #\n",
    "    # Normaliza los datos?\n",
    "    # Se ignora si fit_intercept=True.\n",
    "    normalize=False,\n",
    ")\n",
    "\n",
    "linearRegression.fit(X, y_true)\n",
    "\n",
    "display(\n",
    "    linearRegression.coef_,\n",
    "    linearRegression.intercept_,\n",
    "    linearRegression.score(X, y_true),\n",
    ")"
   ]
  },
  {
   "cell_type": "code",
   "execution_count": 71,
   "metadata": {},
   "outputs": [
    {
     "data": {
      "text/plain": [
       "{'copy_X': True,\n",
       " 'fit_intercept': True,\n",
       " 'n_jobs': None,\n",
       " 'normalize': False,\n",
       " 'positive': False}"
      ]
     },
     "execution_count": 71,
     "metadata": {},
     "output_type": "execute_result"
    }
   ],
   "source": [
    "#\n",
    "# Recuperación de los parámetros con que fue\n",
    "# especificado el estimador\n",
    "#\n",
    "linearRegression.get_params()"
   ]
  },
  {
   "cell_type": "code",
   "execution_count": 72,
   "metadata": {},
   "outputs": [
    {
     "data": {
      "image/png": "[encoded data removed]",
      "text/plain": [
       "<Figure size 504x504 with 1 Axes>"
      ]
     },
     "metadata": {
      "needs_background": "light"
     },
     "output_type": "display_data"
    }
   ],
   "source": [
    "import numpy as np\n",
    "\n",
    "line_X = np.linspace(X.min(), X.max())[:, np.newaxis]\n",
    "y_pred = linearRegression.predict(line_X)\n",
    "\n",
    "plt.figure(figsize=(7, 7))\n",
    "\n",
    "plt.scatter(X, y_true, color=\"tab:blue\", alpha=0.8, edgecolors=\"white\")\n",
    "plt.plot(line_X, y_pred, \"k\", linewidth=2)\n",
    "\n",
    "plt.gca().spines[\"left\"].set_color(\"gray\")\n",
    "plt.gca().spines[\"bottom\"].set_color(\"gray\")\n",
    "plt.gca().spines[\"top\"].set_visible(False)\n",
    "plt.gca().spines[\"right\"].set_visible(False)\n",
    "\n",
    "plt.show()"
   ]
  }
 ],
 "metadata": {
  "colab": {
   "collapsed_sections": [],
   "provenance": []
  },
  "kernelspec": {
   "display_name": "Python 3 (ipykernel)",
   "language": "python",
   "name": "python3"
  },
  "language_info": {
   "codemirror_mode": {
    "name": "ipython",
    "version": 3
   },
   "file_extension": ".py",
   "mimetype": "text/x-python",
   "name": "python",
   "nbconvert_exporter": "python",
   "pygments_lexer": "ipython3",
   "version": "3.9.12"
  }
 },
 "nbformat": 4,
 "nbformat_minor": 4
}
