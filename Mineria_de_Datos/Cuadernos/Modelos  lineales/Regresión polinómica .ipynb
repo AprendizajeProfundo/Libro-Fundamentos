{
 "cells": [
  {
   "cell_type": "markdown",
   "id": "89f4c2ba-9622-4592-b951-b7787ca3ecfc",
   "metadata": {},
   "source": [
    "# <span style=\"color:red\"><center>Regresión polinomial<center></span>\n"
   ]
  },
  {
   "cell_type": "markdown",
   "id": "6a12c2bd-8dc2-45f8-a927-280a2ffa3f81",
   "metadata": {},
   "source": [
    "<figure> \n",
    "<center>\n",
    "<img src=\"https://github.com/Jeslome/Proyecto/blob/main/Temas/Imagenes/light-bulb-2632075_960_720.jpg?raw=true\"  width=\"800\" height=\"800\" align=\"center\"/>\n",
    "<figcaption> </figcaption>\n",
    "</center>\n",
    "</figure>\n",
    "\n",
    "[Fuente:pixabay](https://pixabay.com/es/photos/bombilla-hoja-clorofila-verde-2632075/)"
   ]
  },
  {
   "cell_type": "markdown",
   "id": "427f98b7-b002-4d28-bb59-009ca84c375e",
   "metadata": {},
   "source": [
    "## <span style=\"color:blue\">Referencias</span>\n",
    "\n",
    "1. Montgomery, Peck, Vining, via Introducción al análisis de regresión lineal. 3 edición, 2006.\n",
    "2. <a href=\"https://scikit-learn.org/stable/modules/linear_model.html#polynomial-regression-extending-linear-models-with-basis-functions\">Linear Models</a>\n",
    "3. Notas de congreso. Ramón Giraldo Henao.\n",
    "4. <a href=\"https://scikit-learn.org/stable/auto_examples/linear_model/plot_polynomial_interpolation.html#sphx-glr-auto-examples-linear-model-plot-polynomial-interpolation-py\">Polynomial and Spline interpolation</a>\n",
    "5. <a href=\"https://learnetutorials.com/machine-learning/regression-splines\">Regression-splines</a>\n",
    "6.  <a href=\"https://es.wikipedia.org/wiki/Regresi%C3%B3n_polinomial\">Wikipedia</a>\n"
   ]
  },
  {
   "cell_type": "markdown",
   "id": "ba005e81-3b28-4760-b11a-e4b0f28b4468",
   "metadata": {},
   "source": [
    "## <span style=\"color:blue\">Profesor</span>\n",
    "1. Alvaro  Montenegro, PhD, ammontenegrod@unal.edu.co"
   ]
  },
  {
   "cell_type": "markdown",
   "id": "e7602161-485b-42c0-b8cd-c9c9d79badb0",
   "metadata": {},
   "source": [
    "## <span style=\"color:blue\">Autores</span>\n",
    "1. Natalia Buriticá, nburitica@unal.edu.co\n",
    "2. Nicolás Felipe Romero, niromeros@unal.edu.co\n",
    "2. Jessica López, jelopezme@unal.edu.co"
   ]
  },
  {
   "cell_type": "markdown",
   "id": "08cd2e69-a8d7-486f-8990-39aa0e42a76b",
   "metadata": {},
   "source": [
    "## <span style=\"color:blue\">Introducción</span>\n",
    "\n",
    "La regresión se define como el método para encontrar la relación entre las variables independientes y dependientes para estimar el resultado.\n",
    "\n",
    "En complemento, el análisis de regresión es una técnica estadística para investigar y modelar la relación entre\n",
    "variables. \n",
    "\n",
    "Los polinomios se usan mucho en casos en los que la respuesta es curvilínea, y aun las\n",
    "relaciones no lineales complejas se pueden modelar en forma adecuada con polinomios dentro\n",
    "de límites razonablemente pequeños de las x.\n",
    "\n",
    "\n",
    "Fuente: Montgomery, Peck, Vining, via Introducción al análisis de regresión lineal. 3 edición, 2006.\n",
    "\n"
   ]
  },
  {
   "cell_type": "markdown",
   "id": "9880c6da-f643-4100-ad50-06dbee85930a",
   "metadata": {},
   "source": [
    "## <span style=\"color:blue\">Nota histórica</span>\n",
    "\n",
    "Joseph Diez Gergonne (19 de junio de 1771 en Nancy, Francia - 4 de mayo de 1859 en Montpellier, Francia) fue un matemático y lógico francés.\n",
    "En 1815, Gergonne escribió el primer artículo sobre el diseño óptimo de experimentos para la regresión polinomial.\n",
    "\n",
    "En el siglo XX, la regresión polinomial jugó un papel importante en el desarrollo del análisis de regresión, con un mayor énfasis en cuestiones de diseño e inferencia. Más recientemente, el uso de modelos polinomiales se ha complementado con otros métodos, y los modelos no polinomiales tienen ventajas para algunas clases de problemas.\n",
    "\n",
    "Fuente: <a href=\"https://es.wikipedia.org/wiki/Regresi%C3%B3n_polinomial\">Wikipedia</a>"
   ]
  },
  {
   "cell_type": "markdown",
   "id": "de4b7d0f-f5cf-4c33-845c-ee9630b3fa4d",
   "metadata": {},
   "source": [
    "<figure> \n",
    "<center>\n",
    "<img src=\"https://github.com/Jeslome/Proyecto/blob/main/Temas/Imagenes/Gergonne.jpeg?raw=true\"  width=\"200\" height=\"200\" align=\"center\"/>\n",
    "<figcaption> </figcaption>\n",
    "</center>\n",
    "</figure>\n",
    "\n",
    "\n",
    "\n",
    "Fuente: <a href=\" https://mathshistory.st-andrews.ac.uk/Biographies/Gergonne/pictdisplay/\">Gergonne</a>"
   ]
  },
  {
   "cell_type": "markdown",
   "id": "367e3c32-d859-47df-a040-8b23f257637d",
   "metadata": {},
   "source": [
    "## <span style=\"color:blue\">Fundamentación matemática</span>"
   ]
  },
  {
   "cell_type": "markdown",
   "id": "3a507b55-4b25-4714-acaf-236465e9816d",
   "metadata": {},
   "source": [
    "### <span style=\"color:#4CC9F0\">Regresión polinomial: extensión de modelos lineales con funciones de base</span>\n"
   ]
  },
  {
   "cell_type": "markdown",
   "id": "2ffd9099-f0f2-44dc-9723-f43798af9406",
   "metadata": {},
   "source": [
    "Un patrón común dentro del \"Machine Learning\" es usar modelos lineales entrenados en funciones no lineales de los datos. Este enfoque mantiene el rendimiento generalmente rápido de los métodos lineales, al tiempo que les permite adaptarse a una gama de datos mucho más amplia.\n",
    "\n",
    "Por ejemplo, una regresión lineal simple puede extenderse construyendo características polinómicas a partir de los coeficientes. En el caso de regresión lineal estándar, es posible que tenga un modelo similar a este para datos bidimensionales.\n",
    "\n",
    "$$\\hat{y}(w,x)=w_o+w_1x_1+w_2x_2$$\n",
    "\n",
    "Si queremos ajustar un paraboloide a los datos en lugar de un plano, podemos combinar las características en polinomios de segundo orden, de modo que el modelo se vea así:\n",
    "\n",
    "$$\\hat{y}(w, x) = w_0 + w_1 x_1 + w_2 x_2 + w_3 x_1 x_2 + w_4 x_1^2 + w_5 x_2^2$$\n",
    "\n",
    "La observación (a veces sorprendente) es que este sigue siendo un modelo lineal: para ver esto, imagina crear un nuevo conjunto de características.\n",
    "\n",
    "$$z = [x_1, x_2, x_1 x_2, x_1^2, x_2^2]$$\n",
    "\n",
    "Con este nuevo nombre de los datos, nuestro problema se puede escribir\n",
    "\n",
    "$$\\hat{y}(w, z) = w_0 + w_1 z_1 + w_2 z_2 + w_3 z_3 + w_4 z_4 + w_5 z_5$$\n",
    "\n",
    "Vemos que la regresión polinomial resultante pertenece a la misma clase de modelos lineales que consideramos anteriormente (es decir, el modelo es lineal en $w$) y se puede resolver con las mismas técnicas de los modelos lineales. \n",
    "\n",
    "En la práctica usamos PolynomialFeatures, que transforma una matriz de datos de entrada en una nueva matriz de datos de un grado determinado. Se puede utilizar de la siguiente manera:\n",
    "\n",
    "Fuente: <a href=\"https://scikit-learn.org/stable/modules/linear_model.html#polynomial-regression-extending-linear-models-with-basis-functions\">Linear Models</a>"
   ]
  },
  {
   "cell_type": "code",
   "execution_count": 5,
   "id": "1ab7ac9c-4558-4f4f-b355-b5355e212f70",
   "metadata": {},
   "outputs": [
    {
     "data": {
      "image/png": "[encoded data removed]",
      "text/plain": [
       "<Figure size 432x288 with 1 Axes>"
      ]
     },
     "metadata": {
      "needs_background": "light"
     },
     "output_type": "display_data"
    }
   ],
   "source": [
    "import numpy\n",
    "import matplotlib.pyplot as plt\n",
    "\n",
    "x = [1,2,3,5,6,7,8,9,10,12,13,14,15,16,18,19,21,22,23,24,25,26,27,28,29,30,31]\n",
    "y = [100,50,40,40,50,55,30,35,40,60,85,86,78,69,80,89,99,90,92,95,87,90,98,97,93,95,100]\n",
    "\n",
    "mymodel = numpy.poly1d(numpy.polyfit(x, y, 3))\n",
    "\n",
    "myline = numpy.linspace(1, 31, 100)\n",
    "\n",
    "plt.scatter(x, y)\n",
    "plt.plot(myline, mymodel(myline))\n",
    "plt.show()\n"
   ]
  },
  {
   "cell_type": "markdown",
   "id": "5c444ddc-26b1-4dd4-a3a1-6bcd542a3ddf",
   "metadata": {},
   "source": [
    "### <span style=\"color:violet\">Ejemplo </span>\n",
    "\n",
    "El siguiente ejemplo usa hace la transformación polinomial. Donde, en \"degree\" se pone el grado que se quiere usar, y con \"interaction_only\" se dice si quiere que muestre la interacción entre $x_1$ y $x_2$."
   ]
  },
  {
   "cell_type": "code",
   "execution_count": 4,
   "id": "cb8387b1-f102-425f-95a7-f941132ff96d",
   "metadata": {},
   "outputs": [
    {
     "name": "stdout",
     "output_type": "stream",
     "text": [
      "[[0 1]\n",
      " [2 3]\n",
      " [4 5]]\n",
      "[[ 1.  0.  1.  0.  0.  1.]\n",
      " [ 1.  2.  3.  4.  6.  9.]\n",
      " [ 1.  4.  5. 16. 20. 25.]]\n"
     ]
    }
   ],
   "source": [
    "from sklearn.preprocessing import PolynomialFeatures\n",
    "import numpy as np\n",
    "X = np.arange(6).reshape(3, 2)\n",
    "print(X)\n",
    "\n",
    "poly = PolynomialFeatures(degree=2, interaction_only=False)\n",
    "data = poly.fit_transform(X)\n",
    "print(data)"
   ]
  },
  {
   "cell_type": "markdown",
   "id": "57e21f95-8b66-4738-834c-3a9bd5d2dea6",
   "metadata": {},
   "source": [
    "### <span style=\"color:#4CC9F0\">Regresión Spline</span>\n",
    "\n",
    "A manera de introducción veamos la regresión splines los modelos bastón roto y látigo, para al final generalizar estos dos últimos al caso de regresión por splines lineales."
   ]
  },
  {
   "cell_type": "markdown",
   "id": "979069aa-27a5-4b2f-a047-db06f71113fc",
   "metadata": {},
   "source": [
    "### <span style=\"color:violet\">Modelo de regresión bastón roto</span>\n"
   ]
  },
  {
   "cell_type": "markdown",
   "id": "a415fb20-67d5-4a48-b416-e4a6a1c46e1e",
   "metadata": {},
   "source": [
    "<figure> \n",
    "<center>\n",
    "<img src=\"https://github.com/Jeslome/Proyecto/blob/main/Temas/Imagenes/Bast%C3%B3n%20roto.jpeg?raw=true\"  width=\"400\" height=\"400\" align=\"center\"/>\n",
    "<figcaption> </figcaption>\n",
    "</center>\n",
    "</figure>\n",
    "\n",
    "\n",
    "Fuente: Notas de congreso. Ramón Giraldo Henao."
   ]
  },
  {
   "cell_type": "markdown",
   "id": "7aa897f2-008e-4f50-a467-252b6282322a",
   "metadata": {},
   "source": [
    "\n",
    "**Base de funciones  del modelo de regresión bastón roto**\n",
    "\n",
    "$$y_{i}=\\beta_{0}+\\beta_{1} x_{i}+b_{1} (x_{i}-0.6)_{+} \\epsilon_{i}$$\n",
    "\n",
    "Donde:\n",
    "\n",
    "\\begin{equation*}\n",
    "(x_i-0.6)_+ = \n",
    "\\begin{cases}\n",
    "(x_i-0.6) & x > 0.6 \\\\\n",
    "0 & x < 0.6\n",
    "\\end{cases}\n",
    "\\end{equation*}\n",
    "\n",
    "Y así la base es $(1,x,(x_i-0.6)_+)$. Donde el modelo de bastón roto es una combinación lineal de estas funciones."
   ]
  },
  {
   "cell_type": "markdown",
   "id": "bf2e1da6-90b0-414b-a9e0-816f99e8f6ae",
   "metadata": {},
   "source": [
    "### <span style=\"color:violet\">Modelo de regresión bastón látigo</span>\n"
   ]
  },
  {
   "cell_type": "markdown",
   "id": "2905866c-8bd2-4635-be44-d02894b114e9",
   "metadata": {},
   "source": [
    "<figure> \n",
    "<center>\n",
    "<img src=\"https://github.com/Jeslome/Proyecto/blob/main/Temas/Imagenes/Modelo%20L%C3%A1tigo.jpeg?raw=true\"  width=\"400\" height=\"400\" align=\"center\"/>\n",
    "<figcaption> </figcaption>\n",
    "</center>\n",
    "</figure>\n",
    "\n",
    "\n",
    "Fuente: Notas de congreso. Ramón Giraldo Henao. "
   ]
  },
  {
   "cell_type": "markdown",
   "id": "be83799c-2dc5-4c67-ba13-eb5f8776a586",
   "metadata": {},
   "source": [
    "**Base de funciones  del modelo de regresión látigo**\n",
    "    \n",
    "$$y_i=\\beta_0+\\beta_1x_i+b_1(x_i-0.5)_++b_2(x_i-0.55)_++...+b_{10}(x_i-0.95)_++\\epsilon_i$$\n",
    "\n",
    "Y así la base es:\n",
    "\n",
    "$$(1,x,(x_i-0.5)_+,(x_i-0.95)_+)$$. \n",
    "\n",
    "Esta se llama una base de funciones splines lineal.\n"
   ]
  },
  {
   "cell_type": "markdown",
   "id": "5df48022-7b77-4e49-9a4c-8024523b6bba",
   "metadata": {},
   "source": [
    "### <span style=\"color:#4CC9F0\">Regresión Splines</span>\n",
    "\n"
   ]
  },
  {
   "cell_type": "markdown",
   "id": "366ffa3c-afae-455c-84b7-04b8672e0fdb",
   "metadata": {},
   "source": [
    "¿Por qué la regresion splines? Se usa porque al dividir cada sección en polinomios más pequeños, disminuimos el riesgo de sobreajuste. Donde el sobreajuste es \"la producción de un análisis que se corresponde demasiado cerca o exactamente con un conjunto particular de datos y, por lo tanto, puede fallar en ajustar datos adicionales o predecir observaciones futuras de manera confiable\". Fuente:<a href=\"https://es.abcdef.wiki/wiki/Overfitting\"> Overfitting</a>"
   ]
  },
  {
   "cell_type": "markdown",
   "id": "440bd0b5-99d9-401f-93ae-afd84f1aca47",
   "metadata": {},
   "source": [
    "<figure> \n",
    "<center>\n",
    "<img src=\"https://github.com/Jeslome/Proyecto/blob/main/Temas/Imagenes/Splines%201.jpeg?raw=true\"  width=\"400\" height=\"400\" align=\"center\"/>\n",
    "<figcaption> </figcaption>\n",
    "</center>\n",
    "</figure>\n",
    "\n",
    "\n",
    "Fuente: <a href=\"https://learnetutorials.com/machine-learning/regression-splines\">regression-splines</a>"
   ]
  },
  {
   "cell_type": "markdown",
   "id": "c1bc4236-c110-4155-ab15-a5bc2c082b22",
   "metadata": {},
   "source": [
    "Tenemos que dividir el conjunto de datos en muchas partes que llamamos bin. Y los puntos en los que dividimos los datos se llaman nudos (knots) y usamos diferentes métodos en diferentes bins. Estas funciones separadas que usamos en los diferentes bins se denominan funciones escalonadas por partes (piecewise step functions). \n",
    "\n",
    "Para la selección de nudos (knots):\n",
    "\n",
    "**Estrategias**\n",
    "\n",
    "- Colocación de nudos en regiones muy variables.\n",
    "- Especifique los grados de libertad y coloque los nudos uniformemente a lo largo de los datos.\n",
    "- Validación cruzada.\n",
    "\n",
    "Fuente: <a href=\"https://learnetutorials.com/machine-learning/regression-splines\">regression-splines</a>"
   ]
  },
  {
   "cell_type": "markdown",
   "id": "bc69b5f5-cbc9-458d-b51c-eec86d17bdaf",
   "metadata": {},
   "source": [
    "### <span style=\"color:violet\">Fundamento matemático:</span>\n",
    "\n",
    "Suponga que se desea establecer la relación entre dos variables cuantitativas $X$ y $Y$ , a partir de las\n",
    "observaciones $(y_1, x_1), . . . , (y_n, x_n)$. Sean $t_j$ , $j = 1, 2, . . . , k$ valores (usualmete equiespaciados) en el intervalo (xmin, xmax). (knots)\n",
    "\n",
    "<h5 style=\"color:black;\"><strong>Función base spline lineal</strong></h5>\n",
    "\n",
    "\\begin{equation}\n",
    "(x-t_j)_+ = \n",
    "\\begin{cases}\n",
    "(x-t_j) & x > t_j \\\\\n",
    "0 & x < t_j\n",
    "\\end{cases}\n",
    "\\end{equation}\n",
    "\n",
    "<h5 style=\"color:black;\"><strong>Función base spline cuadrática y cúbica</strong></h5>\n",
    "\n",
    "\\begin{equation}\n",
    "(x-t_j)^2_+ = \n",
    "\\begin{cases}\n",
    "(x-t_j)^2 & x > t_j \\\\\n",
    "0 & x < t_j\n",
    "\\end{cases}\n",
    "\\end{equation}\n",
    "\n",
    "\\begin{equation}\n",
    "(x-t_j)^3_+ = \n",
    "\\begin{cases}\n",
    "(x-t_j)^3 & x > t_j \\\\\n",
    "0 & x < t_j\n",
    "\\end{cases}\n",
    "\\end{equation}\n",
    "\n",
    "\n",
    "<h5 style=\"color:black;\"><strong>Función base spline en general</strong></h5>\n",
    "\n",
    "\\begin{equation}\n",
    "(x-t_j)^p_+ = \n",
    "\\begin{cases}\n",
    "(x-t_j)^p & x > t_j \\\\\n",
    "0 & x < t_j\n",
    "\\end{cases}\n",
    "\\end{equation}\n",
    "\n",
    "Se denota $[(x-t_j)_+]^p$ como $(x-t_j)^p_+$\n",
    "\n",
    "-Regresion splines lineal:\n",
    "$$y=\\beta_0+\\beta_1x+\\sum_{j=1}^kb_j(x-t_j)_+$$\n",
    "\n",
    "-Regresion splines cuadrática:\n",
    "$$y=\\beta_0+\\beta_1x+\\beta_2x^2+\\sum_{j=1}^kb_j(x-t_j)^2_+$$\n",
    "\n",
    "-Regresion splines cúbica:\n",
    "$$y=\\beta_0+\\beta_1x+\\beta_2x^2+\\beta_3x^3+\\sum_{j=1}^kb_j(x-t_j)^3_+$$\n",
    "\n",
    "Donde la regresion splines cúbica es la más usada en la práctica.\n",
    "\n",
    "La regresión splines la podemos ver en terminos matriciales. Donde $x^\\prime=(1,x,...,x^l,(x-t_1)^l_+,...,(x-t_k)^l_+)$ es una base con $p=k+l+1$ funciones y $\\beta=(\\beta_0,\\beta_1,...,\\beta_l,b_1,...,b_k)^\\prime$ el vector de parámetros. Y para el modelo de regresión splines $Y_i=x_i^\\prime\\beta+\\epsilon_i$. Así, \n",
    "\n",
    "$$X=\\begin{bmatrix}1&x_1&...&x_1^l&(x_1-t_1)^l_+&...&(x_1-t_k)^l_+\\\\\\vdots&\\vdots&\\ddots&\\vdots&\\vdots&\\ddots&\\vdots\\\\1&x_n&...&x_n^l&(x_n-t_1)^l_+&...&(x_n-t_k)^l_+\\end{bmatrix}$$\n",
    "\n",
    "$$\\hat{\\beta}=\\begin{bmatrix}\\hat{\\beta}_0\\\\\\hat{\\beta}_1\\\\\\vdots\\\\\\hat{\\beta}_l\\\\\\hat{b}_1\\\\\\vdots\\\\\\hat{b}_k\\\\\\end{bmatrix}=(X^\\prime X)^{-1}(X^\\prime Y)$$"
   ]
  },
  {
   "cell_type": "markdown",
   "id": "1b338414",
   "metadata": {},
   "source": [
    "**Consideraciones:**\n",
    "- Orden del Modelo.\n",
    "- Estrategia para la construcción del modelo.\n",
    "    - Selección en avance.\n",
    "    - Eliminación en reversa.\n",
    "- Extrapolación e interpolación.\n",
    "- Mal acondicionamiento I y II."
   ]
  },
  {
   "cell_type": "markdown",
   "id": "a0bfa755-6cd8-48e7-a253-dd015ec0caee",
   "metadata": {},
   "source": [
    "### <span style=\"color:violet\">Ejemplo 1</span>\n",
    "\n",
    "El siguiente ejemplo usa hace la transformación splines. Donde, en \"degree\" se pone el grado que se quiere usar, y con \"n_knots\" se dice el número de nudos que se quiere usar, o en su defecto lo busca por defecto de la libreria sklearn."
   ]
  },
  {
   "cell_type": "code",
   "execution_count": 39,
   "id": "0f42d65e-0940-4087-85e9-4f86d1eb8c55",
   "metadata": {},
   "outputs": [
    {
     "data": {
      "text/plain": [
       "array([[0.5  , 0.5  , 0.   , 0.   ],\n",
       "       [0.125, 0.75 , 0.125, 0.   ],\n",
       "       [0.   , 0.5  , 0.5  , 0.   ],\n",
       "       [0.   , 0.125, 0.75 , 0.125],\n",
       "       [0.   , 0.   , 0.5  , 0.5  ]])"
      ]
     },
     "execution_count": 39,
     "metadata": {},
     "output_type": "execute_result"
    }
   ],
   "source": [
    "import numpy as np\n",
    "from sklearn.preprocessing import SplineTransformer\n",
    "X = np.arange(5).reshape(5, 1)\n",
    "X\n",
    "\n",
    "\n",
    "spline = SplineTransformer(degree=2, n_knots=3)\n",
    "spline.fit_transform(X)"
   ]
  },
  {
   "cell_type": "markdown",
   "id": "b07c59e1-a76a-4508-a29e-7c52826ed3f6",
   "metadata": {},
   "source": [
    "### <span style=\"color:violet\">Ejemplo 2</span>\n"
   ]
  },
  {
   "cell_type": "code",
   "execution_count": 64,
   "id": "48dd99d9-eb35-44b9-b9c6-819816eb06d0",
   "metadata": {},
   "outputs": [
    {
     "data": {
      "image/png": "[encoded data removed]",
      "text/plain": [
       "<Figure size 432x288 with 1 Axes>"
      ]
     },
     "metadata": {
      "needs_background": "light"
     },
     "output_type": "display_data"
    }
   ],
   "source": [
    "import matplotlib.pyplot as plt\n",
    "from scipy.interpolate import UnivariateSpline\n",
    "rng = np.random.default_rng()\n",
    "x = np.linspace(-3, 3, 50)\n",
    "y = np.exp(-x**2) + 0.1 * rng.standard_normal(50)\n",
    "plt.plot(x, y, 'ro', ms=5)\n",
    "\n",
    "#Use the default value for the smoothing parameter:\n",
    "\n",
    "spl = UnivariateSpline(x, y)\n",
    "xs = np.linspace(-3, 3, 1000)\n",
    "plt.plot(xs, spl(xs), 'g', lw=3)\n",
    " \n",
    "\n",
    "#Manually change the amount of smoothing:\n",
    "\n",
    "spl.set_smoothing_factor(0.5)\n",
    "plt.plot(xs, spl(xs), 'b', lw=3)\n",
    "plt.show()"
   ]
  },
  {
   "cell_type": "markdown",
   "id": "291bfb97-13d0-46f8-b47a-5bbca8974718",
   "metadata": {},
   "source": [
    "Para ver un ejemplo entre regresión Polinomial y Spline ver <a href=\"https://scikit-learn.org/stable/auto_examples/linear_model/plot_polynomial_interpolation.html#sphx-glr-auto-examples-linear-model-plot-polynomial-interpolation-py\">Polynomial and Spline interpolation</a>\n"
   ]
  },
  {
   "cell_type": "markdown",
   "id": "9697eeb2-b238-4b57-b001-475e0cbd0215",
   "metadata": {},
   "source": [
    "## <span style=\"color:blue\">Ejercicio</span>"
   ]
  },
  {
   "cell_type": "markdown",
   "id": "604fd6be-997c-478e-ab33-c530afdccef5",
   "metadata": {},
   "source": [
    "Un combustible sólido para cohetes pierde peso después de haber sido producido. Se dispone los siguientes datos:"
   ]
  },
  {
   "cell_type": "code",
   "execution_count": 2,
   "id": "fbb038cf-20d7-42a6-a240-8e8abf24e302",
   "metadata": {},
   "outputs": [
    {
     "name": "stdout",
     "output_type": "stream",
     "text": [
      "+-------------------------------+-------------------------+\n",
      "| Meses después de producido, x | Perdida de peso, y (kg) |\n",
      "+-------------------------------+-------------------------+\n",
      "|              0.25             |           1.42          |\n",
      "|              0.50             |           1.39          |\n",
      "|              0.75             |           1.55          |\n",
      "|              1.00             |           1.89          |\n",
      "|              1.25             |           2.43          |\n",
      "|              1.50             |           3.15          |\n",
      "|              1.75             |           4.05          |\n",
      "|              2.00             |           5.15          |\n",
      "|              2.25             |           6.43          |\n",
      "|              2.50             |           7.89          |\n",
      "+-------------------------------+-------------------------+\n"
     ]
    }
   ],
   "source": [
    "from prettytable import PrettyTable\n",
    " \n",
    "# Specify the Column Names while initializing the Table\n",
    "myTable = PrettyTable([\"Meses después de producido, x\", \"Perdida de peso, y (kg)\"])\n",
    " \n",
    "# Add rows\n",
    "myTable.add_row([\"0.25\", \"1.42\"])\n",
    "myTable.add_row([\"0.50\", \"1.39\"])\n",
    "myTable.add_row([\"0.75\", \"1.55\"])\n",
    "myTable.add_row([\"1.00\", \"1.89\"])\n",
    "myTable.add_row([\"1.25\", \"2.43\"])\n",
    "myTable.add_row([\"1.50\", \"3.15\"])\n",
    "myTable.add_row([\"1.75\", \"4.05\"])\n",
    "myTable.add_row([\"2.00\", \"5.15\"])\n",
    "myTable.add_row([\"2.25\", \"6.43\"])\n",
    "myTable.add_row([\"2.50\", \"7.89\"])\n",
    "\n",
    "print(myTable)"
   ]
  },
  {
   "cell_type": "markdown",
   "id": "f0fb496b-cd2c-4a70-99ec-766e5a8d4203",
   "metadata": {},
   "source": [
    "Ajustar un polinomio de segundo orden que exprese la pérdida de peso en función de la cantidad de meses después de haber sido producido."
   ]
  },
  {
   "cell_type": "markdown",
   "id": "7ba1b6f0-c511-4d58-9f5e-e1045f09a708",
   "metadata": {},
   "source": [
    "### <span style=\"color:#4CC9F0\">Solución</span>\n",
    "\n",
    "Nota: Por favor, no desplegue la respuesta hasta que haya intentado hacerlo por su cuenta primero.Los datos los encuentra disponibles en esta [url](https://github.com/Jeslome/Proyecto/blob/main/Temas/Datos/Datos.xlsx)"
   ]
  },
  {
   "cell_type": "code",
   "execution_count": 2,
   "id": "4c545b89-9043-4fa7-b8d5-7cce22ed933b",
   "metadata": {
    "tags": [
     "hide-cell"
    ]
   },
   "outputs": [
    {
     "name": "stdout",
     "output_type": "stream",
     "text": [
      "      x     y\n",
      "0  0.25  1.42\n",
      "1  0.50  1.39\n",
      "2  0.75  1.55\n",
      "3  1.00  1.89\n",
      "4  1.25  2.43\n",
      "5  1.50  3.15\n",
      "6  1.75  4.05\n",
      "7  2.00  5.15\n",
      "8  2.25  6.43\n",
      "9  2.50  7.89\n",
      "[[1.     0.25   0.0625]\n",
      " [1.     0.5    0.25  ]\n",
      " [1.     0.75   0.5625]\n",
      " [1.     1.     1.    ]\n",
      " [1.     1.25   1.5625]\n",
      " [1.     1.5    2.25  ]\n",
      " [1.     1.75   3.0625]\n",
      " [1.     2.     4.    ]\n",
      " [1.     2.25   5.0625]\n",
      " [1.     2.5    6.25  ]]\n"
     ]
    },
    {
     "data": {
      "image/png": "[encoded data removed]",
      "text/plain": [
       "<Figure size 432x288 with 1 Axes>"
      ]
     },
     "metadata": {
      "needs_background": "light"
     },
     "output_type": "display_data"
    }
   ],
   "source": [
    "import pandas as pd\n",
    "import numpy as np\n",
    "import matplotlib.pyplot as plt\n",
    "from sklearn.preprocessing import PolynomialFeatures\n",
    "from sklearn.linear_model import LinearRegression\n",
    "\n",
    "url=r'https://github.com/Jeslome/Proyecto/blob/main/Temas/Datos/Datos.xlsx?raw=true'\n",
    "dt = pd.read_excel(url)\n",
    "print(dt)\n",
    "\n",
    "X=dt.iloc[:,0].values \n",
    "Y=dt.iloc[:,1].values \n",
    "XX= X.reshape(-1, 1)\n",
    "YY= Y.reshape(-1, 1)\n",
    "\n",
    "poly = PolynomialFeatures(degree=2)\n",
    "data = poly.fit_transform(XX)\n",
    "print(data)\n",
    "\n",
    "lin_reg2 = LinearRegression()\n",
    "lin_reg2.fit(data,YY)\n",
    " \n",
    "X_grid = np.arange(min(XX),max(XX),0.1)\n",
    "X_grid = X_grid.reshape(len(X_grid),1) \n",
    "plt.scatter(XX,YY, color='red') \n",
    " \n",
    "plt.plot(X_grid, lin_reg2.predict(poly.fit_transform(X_grid)),color='blue') \n",
    " \n",
    "plt.title(\"Pérdida de peso en función de la cantidad de meses después de haber sido producido\")\n",
    "plt.xlabel('Meses después de producido')\n",
    "plt.ylabel('Perdida de peso')\n",
    "plt.show()"
   ]
  },
  {
   "cell_type": "code",
   "execution_count": null,
   "id": "b2e34a42-34d5-4992-b8ec-03219e63f170",
   "metadata": {},
   "outputs": [],
   "source": []
  },
  {
   "cell_type": "code",
   "execution_count": null,
   "id": "0262e72a-7484-4d5a-b410-79a6bdb6e0d7",
   "metadata": {},
   "outputs": [],
   "source": []
  }
 ],
 "metadata": {
  "celltoolbar": "Tags",
  "kernelspec": {
   "display_name": "Python 3 (ipykernel)",
   "language": "python",
   "name": "python3"
  },
  "language_info": {
   "codemirror_mode": {
    "name": "ipython",
    "version": 3
   },
   "file_extension": ".py",
   "mimetype": "text/x-python",
   "name": "python",
   "nbconvert_exporter": "python",
   "pygments_lexer": "ipython3",
   "version": "3.9.12"
  }
 },
 "nbformat": 4,
 "nbformat_minor": 5
}
