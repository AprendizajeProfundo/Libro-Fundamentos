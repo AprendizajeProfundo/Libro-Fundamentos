{
 "cells": [
  {
   "cell_type": "markdown",
   "id": "0d543c47",
   "metadata": {},
   "source": [
    "# <span style=\"color:red\">Modelos Lineales Generalizados</span>"
   ]
  },
  {
   "cell_type": "markdown",
   "id": "8d3c96cb",
   "metadata": {},
   "source": [
    "## Referencias\n",
    "1. [Alvaro Montenegro y Daniel Montenegro, Inteligencia Artificial y Aprendizaje Profundo, 2022](https://github.com/AprendizajeProfundo/Diplomado)\n",
    "\n"
   ]
  },
  {
   "cell_type": "markdown",
   "id": "46e1ab99",
   "metadata": {},
   "source": [
    "2. [Agresti, A. (2015) Foundations of linear and generalized linear\n",
    "models. Wiley series in probability and statistics.](http://library.lol/main/EDE8D9717B9942ABC676AEAD386381E4)"
   ]
  },
  {
   "cell_type": "markdown",
   "id": "1b5d0f27",
   "metadata": {},
   "source": [
    "3. [Dobson, A. and Barnett A. (2008) An Introduction to Generalized Linear Models Third Edition. Chapman & Hall.](http://library.lol/main/472B57FA461867F6CFB4334BFED60010)"
   ]
  },
  {
   "cell_type": "markdown",
   "id": "f90087c1",
   "metadata": {},
   "source": [
    "\n",
    "4.  [Dunn, P. K., & Smyth, G. K. (2018). Generalized linear models with examples in R. New York: Springer.](http://library.lol/main/8BBC6F648C777B669662A4066F882AB0)"
   ]
  },
  {
   "cell_type": "markdown",
   "id": "aebc6967",
   "metadata": {},
   "source": [
    "\n",
    "5. [statsmodels](https://www.statsmodels.org/stable/index.html#)"
   ]
  },
  {
   "cell_type": "markdown",
   "id": "1c07506a",
   "metadata": {},
   "source": [
    "## <span style=\"color:blue\">Autor</span>\n",
    "\n",
    "Kevin Daniel Medina Cardona, kdmedinac@unal.edu.co"
   ]
  },
  {
   "cell_type": "markdown",
   "id": "598d3a83",
   "metadata": {},
   "source": [
    "## <span style=\"color:Blue\">Profesor</span>\n",
    "\n",
    "Alvaro Montenegro, PhD, ammontenegrod@unal.edu.co"
   ]
  },
  {
   "cell_type": "markdown",
   "id": "c053a6bb",
   "metadata": {},
   "source": [
    "![imagen](https://cdn.pixabay.com/photo/2018/08/14/13/23/ocean-3605547_960_720.jpg)\n",
    "\n"
   ]
  },
  {
   "cell_type": "markdown",
   "id": "7f95dbbf",
   "metadata": {},
   "source": [
    "[Fuente:pixabay](https://www.pixabay.com)"
   ]
  },
  {
   "cell_type": "markdown",
   "id": "734179be",
   "metadata": {},
   "source": [
    "## <span style=\"color:Blue\">Introducción </span>\n"
   ]
  },
  {
   "cell_type": "markdown",
   "id": "ac6c7382",
   "metadata": {},
   "source": [
    "En la regresión lineal ordinaria, basada en la teoría del modelo Normal lineal, se asumen los siguientes supuestos:\n",
    "\n",
    "- La variable respuesta es continua, simétrica, y su varianza no depende de la media (homocedasticidad).\n",
    "- Los efectos de las variables explicativas sobre la media de la respuesta son de tipo aditivo.\n",
    "\n",
    "Hay muchas situaciones donde estas suposiciones son inapropiadas. Por ejemplo, cuando la respuesta es un conteo, es binaria o una proporción, cuando los efectos de las variables respuesta sobre la media, no son aditivos si no multiplicativos.\n",
    "\n",
    "Los modelos lineales generalizados extienden el modelo lineal permitiendo distribuciones con respuesta diferente a la normal y funciones diferentes a la identidad que conectan o enlazan la media de la respuesta con el predictor lineal, permitiendo efectos distintos a los aditivos."
   ]
  },
  {
   "cell_type": "markdown",
   "id": "4cde9b59",
   "metadata": {},
   "source": [
    "## <span style=\"color:Blue\">Composición </span>"
   ]
  },
  {
   "cell_type": "markdown",
   "id": "73ab3335",
   "metadata": {},
   "source": [
    "### Componente aleatoria:  \n",
    "La distribución de probabilidad que describe la variable respuesta $Y$, puede ser cualquiera perteneciente a la familia exponencial lineal. Por ejemplo, Normal, Bernoulli, Binomial, poisson, Gamma."
   ]
  },
  {
   "cell_type": "markdown",
   "id": "ea0587a6",
   "metadata": {},
   "source": [
    "### Componente sistemática:\n",
    "Variables explicadoras ya sean continuas o categóricas en un predictor lineal,\n",
    "\n",
    "$$\\eta = \\beta_0 + \\beta_1x_1 + ... + \\beta_px_p$$"
   ]
  },
  {
   "cell_type": "markdown",
   "id": "3667fd29",
   "metadata": {},
   "source": [
    "### Función de enlace:\n",
    "Función continua, monótona y dos veces diferenciable, notada generalmente por $g(.)$, la cual enlaza la media de la variable respuesta, $\\mu$, a la componente sistemática, esto es,\n",
    "$$g(\\mu) = \\beta_0 + \\beta_1x_1 + ... + \\beta_px_p$$\n"
   ]
  },
  {
   "cell_type": "markdown",
   "id": "5cd63449",
   "metadata": {},
   "source": [
    "## <span style=\"color:Blue\">Familia Exponencial Lineal </span>"
   ]
  },
  {
   "cell_type": "markdown",
   "id": "9fb8ded4",
   "metadata": {},
   "source": [
    "La función de densidad o la función de masa de $Y\\sim FEL(\\mu,\\phi)$ donde $\\mu$ es la media y $\\phi>0$ es el parámetro de dispersión, puede ser escrita como\n",
    "$$f_y(y;\\mu,\\phi)=C(y,\\phi)exp(\\frac{1}{\\phi}[y\\theta(\\mu)-b[\\theta(\\mu)]])$$"
   ]
  },
  {
   "cell_type": "markdown",
   "id": "e26b349a",
   "metadata": {},
   "source": [
    "Para algunas funciones $\\theta(.), b(.)$ y $C(y,\\phi)$ la funcion generadora de momentos de Y se reduce a \n",
    "\n",
    "$$M_y(t)=E[exp(tY)]=exp(\\frac{1}{\\phi}[b(\\theta+t\\phi)-b(\\theta)])$$"
   ]
  },
  {
   "cell_type": "markdown",
   "id": "7d7f554b",
   "metadata": {},
   "source": [
    "por lo tanto, $\\mu=b'(\\theta)$ y $var(Y)=\\phi V(\\mu)$, donde,$V(.)=b''[\\theta(.)]$ es una función de varianza conocida."
   ]
  },
  {
   "cell_type": "markdown",
   "id": "78599019",
   "metadata": {},
   "source": [
    "### Ejemplo:\n",
    "\n",
    "Supongamos $Y\\sim Poisson(\\mu) \\hspace{0.5cm} \\mu>0$\n",
    "\n",
    "$$f_y(Y;\\mu)=\\frac{exp(-\\mu)\\mu^y}{y!}$$\n",
    "$$f_y(Y;\\mu)=exp(-\\mu)+ylog(\\mu)-log(y!)$$\n",
    "\n",
    "Con esta tranformación podemos notar lo siguiente:\n",
    "- $\\phi=1$\n",
    "- $\\theta(\\mu)=log(\\mu)$\n",
    "- $b(\\theta)=exp(\\theta)$\n",
    "- $b'(\\theta)=exp(\\theta)=\\mu$\n",
    "- $b''(\\theta)=exp(\\theta)=\\mu$"
   ]
  },
  {
   "cell_type": "markdown",
   "id": "f4a2d2ba",
   "metadata": {},
   "source": [
    "## <span style=\"color:Blue\">Formulación del modelo </span>\n"
   ]
  },
  {
   "cell_type": "markdown",
   "id": "c7330328",
   "metadata": {},
   "source": [
    "\n",
    "\n",
    "$$\\left\\{ \\begin{array}{lcc}\n",
    "               Y \\sim FEL(\\mu_k,\\omega^{−1}_k\\phi)\\\\\n",
    "             \\\\ g(\\mu_k) =\\beta_0+ \\beta_1x_{k1}+... +\\beta_px_{kp}=x^t_k\\beta\n",
    "             \\end{array}\n",
    "   \\right.\n",
    "$$"
   ]
  },
  {
   "cell_type": "markdown",
   "id": "c4c80eb8",
   "metadata": {},
   "source": [
    "Entonces, $E(Y_k) = \\mu_k$ and $Var(Y_k) =\\frac{\\phi }{\\omega}_kV(\\mu_k)$, donde,\n",
    "\n",
    "- $\\beta = (\\beta_0, \\beta_1, . . . , \\beta_p)^t$,  Es el vector de parámetros de interés.\n",
    "\n",
    "- $x_k= (1, x_{k1}, . . . , x_{kp})^t$, donde $x_{kp}$ es el valor de p-esima variable explicadora, medida sobre el k-esimo individuo.\n",
    "\n",
    "- $\\phi > 0$ Es el parametro de dispersión.\n",
    "-$\\omega_1, . . . , \\omega_n$ Son pesos conocidos y positivos.\n",
    "- $V(·)$ es la función de varianza.\n",
    "-$g(·)$ es la función de enlace, que se asume conocida, monótona y 2 veces diferenciable.\n",
    "\n",
    "\n"
   ]
  },
  {
   "cell_type": "markdown",
   "id": "390c4e21",
   "metadata": {},
   "source": [
    "<img src=\"imagen.png\">"
   ]
  },
  {
   "cell_type": "markdown",
   "id": "5b4bae7b",
   "metadata": {},
   "source": [
    "|Distribution|Canonical link|\n",
    "|--------|:-----|\n",
    "|Normal  |$g(\\mu) = \\mu$|\n",
    "|Binomial| $g(\\mu)$ = $log\\frac{\\mu}{(1 − \\mu)}$|\n",
    "|Poisson |$g(\\mu)$ = $log(\\mu)$|\n",
    "|Gamma   |$g(\\mu) = \\mu^{−1}$|\n",
    "|Inverse Gaussian| $g(\\mu) = \\mu^{−2}$|\n"
   ]
  },
  {
   "cell_type": "markdown",
   "id": "413da76f",
   "metadata": {},
   "source": [
    "## <span style=\"color:Blue\">Curiosidad Historica </span>"
   ]
  },
  {
   "cell_type": "markdown",
   "id": "a84c7d93",
   "metadata": {},
   "source": [
    "El término \"regresión\" fue acuñado por Francis Galton en el siglo xix para describir un fenómeno biológico. El fenómeno fue que las alturas de los descendientes de ancestros altos tienden a regresar hacia abajo, hacia un promedio normal (un fenómeno conocido como regresión hacia la media ). Para Galton, la regresión sólo tenía este significado biológico, pero su trabajo fue extendido más tarde por Udny Yule y Karl Pearson a un contexto estadístico más general. En la obra de Yule y Pearson, la distribución conjunta de la variable respuesta y las variables explicativas se supone que es Gaussiana. [Fuente:Wikipedia](https://es.wikipedia.org/wiki/Regresión_lineal#Historia)"
   ]
  },
  {
   "cell_type": "markdown",
   "id": "f225bd5b",
   "metadata": {},
   "source": [
    "![Galton](https://upload.wikimedia.org/wikipedia/commons/thumb/a/a8/Sir_Francis_Galton%2C_1890s.jpg/330px-Sir_Francis_Galton%2C_1890s.jpg)\n",
    "\n",
    "[fuente:Wikipedia](https://es.wikipedia.org/wiki/Francis_Galton)"
   ]
  },
  {
   "cell_type": "markdown",
   "id": "4e16d27a",
   "metadata": {},
   "source": [
    "## <span style=\"color:Blue\">Modelos lineales generalizados usando python </span>"
   ]
  },
  {
   "cell_type": "markdown",
   "id": "0d05e157",
   "metadata": {},
   "source": [
    "  ![Imagen](https://www.statsmodels.org/stable/_images/statsmodels-logo-v2-horizontal.svg)\n",
    "Fuente:[statsmodels](https://www.statsmodels.org/stable/index.html#)"
   ]
  },
  {
   "cell_type": "markdown",
   "id": "4838745e",
   "metadata": {},
   "source": [
    "statsmodels es un modulo de python que proporiona clases y funciones para la estimación de muchos modelos estadísticos diferentes, a su vez para realizar pruebas estadísticas, y exploración estadística de datos.Tomado y traducido de: [statsmodels](https://www.statsmodels.org/stable/index.html#)"
   ]
  },
  {
   "cell_type": "markdown",
   "id": "94b1dedc",
   "metadata": {},
   "source": [
    "Se usará principalmente el modulo GLM de statsmodels el cual permite ajustar los modelos lineales deseados, para verificar su sintaxis se puede remitir a la guia proporsinada por el autor. [guia](https://www.statsmodels.org/dev/glm.html#module-reference)"
   ]
  },
  {
   "cell_type": "markdown",
   "id": "811f56b3",
   "metadata": {},
   "source": [
    "## <span style=\"color:Blue\">Algunos casos especiales</span>"
   ]
  },
  {
   "cell_type": "markdown",
   "id": "3e4ce0c5",
   "metadata": {},
   "source": [
    "### Regresión Binomial"
   ]
  },
  {
   "cell_type": "markdown",
   "id": "cf79c419",
   "metadata": {},
   "source": [
    "\n",
    "\n",
    "$$\\left\\{ \\begin{array}{lcc}\n",
    "               m_kY_k \\sim Binomial(m_k,\\mu_k)\\\\\n",
    "             \\\\ g(\\mu_k) =\\beta_0+ \\beta_1x_{k1}+... +\\beta_px_{kp}\n",
    "             \\end{array}\n",
    "   \\right.\n",
    "$$\n",
    "\n",
    "- Enlace logit \n",
    "$$ g(\\mu_k)=log(\\frac{\\mu_k}{1-\\mu_k})$$\n",
    "- Enlace probit\n",
    "$$g(\\mu_k)=\\Phi^{-1}(\\mu_k)$$\n",
    "- Enlace complemento log-log \n",
    "$$g(\\mu_k)=log(-log(1-\\mu_k))$$\n",
    "- Enlace Cauchy\n",
    "$$g(\\mu_k)=tan(\\frac{\\pi}{2}(2\\mu_k-1))$$"
   ]
  },
  {
   "cell_type": "markdown",
   "id": "04da71e6",
   "metadata": {},
   "source": [
    " Se importan los modulos para ajustar el modelo."
   ]
  },
  {
   "cell_type": "code",
   "execution_count": 1,
   "id": "0a499f42",
   "metadata": {},
   "outputs": [],
   "source": [
    "import numpy as np \n",
    "import statsmodels.api as sm\n",
    "from statsmodels import graphics\n",
    "from scipy import stats\n",
    "from matplotlib import pyplot as plt\n",
    "from statsmodels.graphics.api import abline_plot"
   ]
  },
  {
   "cell_type": "markdown",
   "id": "ec9f32cd",
   "metadata": {},
   "source": [
    "Se carga los datos, y ademas se agrega un vector con unos a las variables predictoras."
   ]
  },
  {
   "cell_type": "code",
   "execution_count": 2,
   "id": "2082b825",
   "metadata": {},
   "outputs": [],
   "source": [
    "data = sm.datasets.star98.load()\n",
    "data.exog = sm.add_constant(data.exog, prepend=False)"
   ]
  },
  {
   "cell_type": "markdown",
   "id": "a1e6cc62",
   "metadata": {},
   "source": [
    "Ahora se ajusta el modelo y se muestra el resumen del mismo."
   ]
  },
  {
   "cell_type": "code",
   "execution_count": 3,
   "id": "f29dca9b",
   "metadata": {},
   "outputs": [
    {
     "name": "stdout",
     "output_type": "stream",
     "text": [
      "                  Generalized Linear Model Regression Results                   \n",
      "================================================================================\n",
      "Dep. Variable:     ['NABOVE', 'NBELOW']   No. Observations:                  303\n",
      "Model:                              GLM   Df Residuals:                      282\n",
      "Model Family:                  Binomial   Df Model:                           20\n",
      "Link Function:                    Logit   Scale:                          1.0000\n",
      "Method:                            IRLS   Log-Likelihood:                -2998.6\n",
      "Date:                  Wed, 23 Nov 2022   Deviance:                       4078.8\n",
      "Time:                          05:29:47   Pearson chi2:                 4.05e+03\n",
      "No. Iterations:                       5   Pseudo R-squ. (CS):              1.000\n",
      "Covariance Type:              nonrobust                                         \n",
      "===========================================================================================\n",
      "                              coef    std err          z      P>|z|      [0.025      0.975]\n",
      "-------------------------------------------------------------------------------------------\n",
      "LOWINC                     -0.0168      0.000    -38.749      0.000      -0.018      -0.016\n",
      "PERASIAN                    0.0099      0.001     16.505      0.000       0.009       0.011\n",
      "PERBLACK                   -0.0187      0.001    -25.182      0.000      -0.020      -0.017\n",
      "PERHISP                    -0.0142      0.000    -32.818      0.000      -0.015      -0.013\n",
      "PERMINTE                    0.2545      0.030      8.498      0.000       0.196       0.313\n",
      "AVYRSEXP                    0.2407      0.057      4.212      0.000       0.129       0.353\n",
      "AVSALK                      0.0804      0.014      5.775      0.000       0.053       0.108\n",
      "PERSPENK                   -1.9522      0.317     -6.162      0.000      -2.573      -1.331\n",
      "PTRATIO                    -0.3341      0.061     -5.453      0.000      -0.454      -0.214\n",
      "PCTAF                      -0.1690      0.033     -5.169      0.000      -0.233      -0.105\n",
      "PCTCHRT                     0.0049      0.001      3.921      0.000       0.002       0.007\n",
      "PCTYRRND                   -0.0036      0.000    -15.878      0.000      -0.004      -0.003\n",
      "PERMINTE_AVYRSEXP          -0.0141      0.002     -7.391      0.000      -0.018      -0.010\n",
      "PERMINTE_AVSAL             -0.0040      0.000     -8.450      0.000      -0.005      -0.003\n",
      "AVYRSEXP_AVSAL             -0.0039      0.001     -4.059      0.000      -0.006      -0.002\n",
      "PERSPEN_PTRATIO             0.0917      0.015      6.321      0.000       0.063       0.120\n",
      "PERSPEN_PCTAF               0.0490      0.007      6.574      0.000       0.034       0.064\n",
      "PTRATIO_PCTAF               0.0080      0.001      5.362      0.000       0.005       0.011\n",
      "PERMINTE_AVYRSEXP_AVSAL     0.0002   2.99e-05      7.428      0.000       0.000       0.000\n",
      "PERSPEN_PTRATIO_PCTAF      -0.0022      0.000     -6.445      0.000      -0.003      -0.002\n",
      "const                       2.9589      1.547      1.913      0.056      -0.073       5.990\n",
      "===========================================================================================\n"
     ]
    }
   ],
   "source": [
    "glm_binom = sm.GLM(data.endog, data.exog, family=sm.families.Binomial())\n",
    "res = glm_binom.fit()\n",
    "print(res.summary())"
   ]
  },
  {
   "cell_type": "markdown",
   "id": "0c8c377e",
   "metadata": {},
   "source": [
    "Extraemos información para la creación de graficos."
   ]
  },
  {
   "cell_type": "code",
   "execution_count": 4,
   "id": "d0ee1e2b",
   "metadata": {},
   "outputs": [],
   "source": [
    "nobs = res.nobs\n",
    "y = data.endog.iloc[:,0]/data.endog.sum(1)\n",
    "yhat = res.mu"
   ]
  },
  {
   "cell_type": "code",
   "execution_count": 5,
   "id": "c495d721",
   "metadata": {},
   "outputs": [
    {
     "data": {
      "image/png": "[encoded data removed]",
      "text/plain": [
       "<Figure size 640x480 with 1 Axes>"
      ]
     },
     "metadata": {},
     "output_type": "display_data"
    }
   ],
   "source": [
    "fig, ax = plt.subplots()\n",
    "ax.scatter(yhat, y)\n",
    "line_fit = sm.OLS(y, sm.add_constant(yhat, prepend=True)).fit()\n",
    "abline_plot(model_results=line_fit, ax=ax)\n",
    "\n",
    "\n",
    "ax.set_title('Model Fit Plot')\n",
    "ax.set_ylabel('Valores observados')\n",
    "ax.set_xlabel('Valores ajustados');"
   ]
  },
  {
   "cell_type": "code",
   "execution_count": 6,
   "id": "d718fded",
   "metadata": {},
   "outputs": [
    {
     "data": {
      "image/png": "[encoded data removed]",
      "text/plain": [
       "<Figure size 640x480 with 1 Axes>"
      ]
     },
     "execution_count": 6,
     "metadata": {},
     "output_type": "execute_result"
    },
    {
     "data": {
      "image/png": "[encoded data removed]",
      "text/plain": [
       "<Figure size 640x480 with 1 Axes>"
      ]
     },
     "metadata": {},
     "output_type": "display_data"
    }
   ],
   "source": [
    "\n",
    "resid = res.resid_deviance.copy()\n",
    "graphics.gofplots.qqplot(resid, line='r')"
   ]
  },
  {
   "cell_type": "markdown",
   "id": "0e4705bf",
   "metadata": {},
   "source": [
    "### Regresión Poisson"
   ]
  },
  {
   "cell_type": "markdown",
   "id": "3fe0332d",
   "metadata": {},
   "source": [
    "\n",
    "\n",
    "$$\\left\\{ \\begin{array}{lcc}\n",
    "               Y_k \\sim poisson(\\mu_k)\\\\\n",
    "             \\\\ g(\\mu_k) =\\beta_0+ \\beta_1x_{k1}+... +\\beta_px_{kp}\n",
    "             \\end{array}\n",
    "   \\right.\n",
    "$$\n",
    "\n",
    "- Enlace logaritmico \n",
    "$$ g(\\mu_k)=log(\\mu_k)$$\n",
    "- Enlace identidad\n",
    "$$g(\\mu_k)=\\mu_k$$\n",
    "- Enlace raiz cuadrada\n",
    "$$g(\\mu_k)=\\sqrt{(\\mu_k)}$$\n"
   ]
  },
  {
   "cell_type": "markdown",
   "id": "84d84c04",
   "metadata": {},
   "source": [
    " Se importan los modulos para ajustar el modelo."
   ]
  },
  {
   "cell_type": "code",
   "execution_count": 7,
   "id": "7aa443a4",
   "metadata": {},
   "outputs": [],
   "source": [
    "import numpy as np \n",
    "import statsmodels.api as sm\n",
    "from scipy import stats\n",
    "from matplotlib import pyplot as plt\n",
    "from statsmodels.graphics.api import abline_plot"
   ]
  },
  {
   "cell_type": "markdown",
   "id": "c5f73d64",
   "metadata": {},
   "source": [
    "Se carga los datos, y ademas se agrega un vector con unos a las variables predictoras."
   ]
  },
  {
   "cell_type": "code",
   "execution_count": 8,
   "id": "a5dbd018",
   "metadata": {},
   "outputs": [],
   "source": [
    "data2 = sm.datasets.scotland.load()\n",
    "data2.exog = sm.add_constant(data2.exog, prepend=False)"
   ]
  },
  {
   "cell_type": "markdown",
   "id": "3ebdff5f",
   "metadata": {},
   "source": [
    "Ahora se ajusta el modelo y se muestra el resumen del mismo."
   ]
  },
  {
   "cell_type": "code",
   "execution_count": 9,
   "id": "4c7dc06c",
   "metadata": {
    "scrolled": true
   },
   "outputs": [
    {
     "name": "stdout",
     "output_type": "stream",
     "text": [
      "                 Generalized Linear Model Regression Results                  \n",
      "==============================================================================\n",
      "Dep. Variable:                    YES   No. Observations:                   32\n",
      "Model:                            GLM   Df Residuals:                       24\n",
      "Model Family:                 Poisson   Df Model:                            7\n",
      "Link Function:                    Log   Scale:                          1.0000\n",
      "Method:                          IRLS   Log-Likelihood:                -97.798\n",
      "Date:                Wed, 23 Nov 2022   Deviance:                       5.1846\n",
      "Time:                        05:29:48   Pearson chi2:                     5.14\n",
      "No. Iterations:                     4   Pseudo R-squ. (CS):             0.5729\n",
      "Covariance Type:            nonrobust                                         \n",
      "======================================================================================\n",
      "                         coef    std err          z      P>|z|      [0.025      0.975]\n",
      "--------------------------------------------------------------------------------------\n",
      "COUTAX                -0.0025      0.002     -1.183      0.237      -0.007       0.002\n",
      "UNEMPF                -0.1046      0.068     -1.545      0.122      -0.237       0.028\n",
      "MOR                    0.0045      0.004      1.285      0.199      -0.002       0.011\n",
      "ACT                   -0.0069      0.005     -1.255      0.210      -0.018       0.004\n",
      "GDP                 8.237e-06   1.58e-05      0.521      0.602   -2.27e-05    3.92e-05\n",
      "AGE                    0.0310      0.032      0.980      0.327      -0.031       0.093\n",
      "COUTAX_FEMALEUNEMP     0.0001   9.52e-05      1.286      0.198   -6.41e-05       0.000\n",
      "const                  5.7793      1.477      3.913      0.000       2.885       8.674\n",
      "======================================================================================\n"
     ]
    }
   ],
   "source": [
    "glm_pois = sm.GLM(data2.endog, data2.exog, family=sm.families.Poisson())\n",
    "res = glm_pois.fit()\n",
    "print(res.summary())"
   ]
  },
  {
   "cell_type": "markdown",
   "id": "549a2e4c",
   "metadata": {},
   "source": [
    "### Regresión Normal"
   ]
  },
  {
   "cell_type": "markdown",
   "id": "b30017e7",
   "metadata": {},
   "source": [
    "\n",
    "\n",
    "$$\\left\\{ \\begin{array}{lcc}\n",
    "               Y_k \\sim Normal(\\mu_k,\\omega^{-1}_k\\sigma^2)\\\\\n",
    "             \\\\ g(\\mu_k) =\\beta_0+ \\beta_1x_{k1}+... +\\beta_px_{kp}\n",
    "             \\end{array}\n",
    "   \\right.\n",
    "$$\n",
    "\n",
    "- Enlace inverso \n",
    "$$ g(\\mu_k)=\\frac{1}{\\mu_k}$$\n",
    "- Enlace identidad\n",
    "$$g(\\mu_k)=\\mu_k$$\n",
    "- Enlace logaritmo\n",
    "$$g(\\mu_k)=log(\\mu_k)$$\n"
   ]
  },
  {
   "cell_type": "markdown",
   "id": "02333623",
   "metadata": {},
   "source": [
    " Se importan los modulos para ajustar el modelo."
   ]
  },
  {
   "cell_type": "code",
   "execution_count": 10,
   "id": "fd037d78",
   "metadata": {},
   "outputs": [],
   "source": [
    "import numpy as np \n",
    "import statsmodels.api as sm\n",
    "import pandas as pd\n",
    "import statsmodels.formula.api as smf\n",
    "from scipy import stats\n",
    "from matplotlib import pyplot as plt"
   ]
  },
  {
   "cell_type": "markdown",
   "id": "f5c46d26",
   "metadata": {},
   "source": [
    "Se carga los datos, y ademas se agrega un vector con unos a las variables predictoras."
   ]
  },
  {
   "cell_type": "markdown",
   "id": "4591ec83",
   "metadata": {},
   "source": [
    "Ahora se ajusta el modelo y se muestra el resumen del mismo."
   ]
  },
  {
   "cell_type": "code",
   "execution_count": 11,
   "id": "37ff24b1",
   "metadata": {},
   "outputs": [
    {
     "name": "stdout",
     "output_type": "stream",
     "text": [
      "                 Generalized Linear Model Regression Results                  \n",
      "==============================================================================\n",
      "Dep. Variable:                    age   No. Observations:                  318\n",
      "Model:                            GLM   Df Residuals:                      315\n",
      "Model Family:                Gaussian   Df Model:                            2\n",
      "Link Function:               identity   Scale:                          2.8058\n",
      "Method:                          IRLS   Log-Likelihood:                -613.75\n",
      "Date:                Wed, 23 Nov 2022   Deviance:                       883.83\n",
      "Time:                        05:29:48   Pearson chi2:                     884.\n",
      "No. Iterations:                     3   Pseudo R-squ. (CS):             0.5652\n",
      "Covariance Type:            nonrobust                                         \n",
      "==============================================================================\n",
      "                 coef    std err          z      P>|z|      [0.025      0.975]\n",
      "------------------------------------------------------------------------------\n",
      "Intercept     -3.7132      0.597     -6.221      0.000      -4.883      -2.543\n",
      "sex[T.M]       0.8819      0.206      4.280      0.000       0.478       1.286\n",
      "tl             0.0265      0.002     16.253      0.000       0.023       0.030\n",
      "==============================================================================\n"
     ]
    }
   ],
   "source": [
    "\n",
    "data3=pd.read_csv('Croaker.csv')\n",
    "fit1=smf.glm(\"age~tl+sex\",data=data3,family=sm.families.Gaussian()).fit()\n",
    "print(fit1.summary())"
   ]
  },
  {
   "cell_type": "markdown",
   "id": "4292f487",
   "metadata": {},
   "source": [
    "### Ejercicio para el lector\n",
    "\n",
    "Ajuste un modelo Lineal generalizado, usando los datos del archivo \"auto\", donde la variable respuesta es el consumo de gasolina, en millas por galón.Intente diferentes funciones de enlace."
   ]
  },
  {
   "cell_type": "code",
   "execution_count": 12,
   "id": "0548a64c",
   "metadata": {
    "tags": [
     "hide-cell"
    ]
   },
   "outputs": [
    {
     "name": "stdout",
     "output_type": "stream",
     "text": [
      "                 Generalized Linear Model Regression Results                  \n",
      "==============================================================================\n",
      "Dep. Variable:                    mpg   No. Observations:                  392\n",
      "Model:                            GLM   Df Residuals:                      385\n",
      "Model Family:                   Gamma   Df Model:                            6\n",
      "Link Function:          inverse_power   Scale:                        0.024120\n",
      "Method:                          IRLS   Log-Likelihood:                -1030.1\n",
      "Date:                Wed, 23 Nov 2022   Deviance:                       8.9053\n",
      "Time:                        05:29:48   Pearson chi2:                     9.29\n",
      "No. Iterations:                     7   Pseudo R-squ. (CS):             0.9761\n",
      "Covariance Type:            nonrobust                                         \n",
      "================================================================================\n",
      "                   coef    std err          z      P>|z|      [0.025      0.975]\n",
      "--------------------------------------------------------------------------------\n",
      "Intercept       -0.0044      0.004     -1.030      0.303      -0.013       0.004\n",
      "cylinders        0.0010      0.001      1.347      0.178      -0.000       0.003\n",
      "displacement  1.187e-05   1.85e-05      0.643      0.520   -2.43e-05     4.8e-05\n",
      "horsepower       0.0002   3.19e-05      6.385      0.000       0.000       0.000\n",
      "weight        5.765e-06    1.5e-06      3.851      0.000    2.83e-06     8.7e-06\n",
      "acceleration     0.0004      0.000      2.161      0.031    3.75e-05       0.001\n",
      "origin          -0.0009      0.000     -1.936      0.053      -0.002    1.12e-05\n",
      "================================================================================\n",
      "                 Generalized Linear Model Regression Results                  \n",
      "==============================================================================\n",
      "Dep. Variable:                    mpg   No. Observations:                  392\n",
      "Model:                            GLM   Df Residuals:                      385\n",
      "Model Family:                   Gamma   Df Model:                            6\n",
      "Link Function:                    log   Scale:                        0.024702\n",
      "Method:                          IRLS   Log-Likelihood:                -1037.4\n",
      "Date:                Wed, 23 Nov 2022   Deviance:                       9.2481\n",
      "Time:                        05:29:48   Pearson chi2:                     9.51\n",
      "No. Iterations:                    10   Pseudo R-squ. (CS):             0.9729\n",
      "Covariance Type:            nonrobust                                         \n",
      "================================================================================\n",
      "                   coef    std err          z      P>|z|      [0.025      0.975]\n",
      "--------------------------------------------------------------------------------\n",
      "Intercept        4.1330      0.102     40.395      0.000       3.932       4.334\n",
      "cylinders       -0.0323      0.015     -2.116      0.034      -0.062      -0.002\n",
      "displacement     0.0005      0.000      1.280      0.200      -0.000       0.001\n",
      "horsepower      -0.0033      0.001     -5.143      0.000      -0.005      -0.002\n",
      "weight          -0.0002   3.04e-05     -6.590      0.000      -0.000      -0.000\n",
      "acceleration    -0.0043      0.005     -0.931      0.352      -0.013       0.005\n",
      "origin           0.0443      0.013      3.374      0.001       0.019       0.070\n",
      "================================================================================\n"
     ]
    },
    {
     "name": "stderr",
     "output_type": "stream",
     "text": [
      "C:\\Users\\range\\anaconda3\\lib\\site-packages\\statsmodels\\genmod\\generalized_linear_model.py:298: DomainWarning: The inverse_power link function does not respect the domain of the Gamma family.\n",
      "  warnings.warn((f\"The {type(family.link).__name__} link function \"\n"
     ]
    }
   ],
   "source": [
    "import numpy as np \n",
    "import statsmodels.api as sm\n",
    "import pandas as pd\n",
    "import statsmodels.formula.api as smf\n",
    "from scipy import stats\n",
    "\n",
    "data4=pd.read_csv('Auto.csv')\n",
    "fit1=smf.glm(\"mpg~cylinders+displacement+horsepower+weight+acceleration+origin\",data=data4,family=sm.families.Gamma()).fit()\n",
    "print(fit1.summary())\n",
    "fit2=smf.glm(\"mpg~cylinders+displacement+horsepower+weight+acceleration+origin\",data=data4,family=sm.families.Gamma(sm.families.links.log())).fit()\n",
    "print(fit2.summary())"
   ]
  }
 ],
 "metadata": {
  "kernelspec": {
   "display_name": "Python 3 (ipykernel)",
   "language": "python",
   "name": "python3"
  },
  "language_info": {
   "codemirror_mode": {
    "name": "ipython",
    "version": 3
   },
   "file_extension": ".py",
   "mimetype": "text/x-python",
   "name": "python",
   "nbconvert_exporter": "python",
   "pygments_lexer": "ipython3",
   "version": "3.9.12"
  }
 },
 "nbformat": 4,
 "nbformat_minor": 5
}
