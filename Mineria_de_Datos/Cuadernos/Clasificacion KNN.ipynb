{
  "cells": [
    {
      "cell_type": "markdown",
      "metadata": {
        "id": "view-in-github",
        "colab_type": "text"
      },
      "source": [
        "<a href=\"https://colab.research.google.com/github/StefaniaRojas/Mineria-de-datos/blob/main/Trabajo_Miner%C3%ADa.ipynb\" target=\"_parent\"><img src=\"https://colab.research.google.com/assets/colab-badge.svg\" alt=\"Open In Colab\"/></a>"
      ]
    },
    {
      "cell_type": "markdown",
      "metadata": {
        "id": "r_fJLxmKYUvt"
      },
      "source": [
        "# <font color= red> <b> CLASIFICACIÓN DE VECINOS MÁS CERCANOS (KNN) </b> </i> </font> "
      ]
    },
    {
      "cell_type": "markdown",
      "source": [
        "<center> <img src=\"https://cdn.pixabay.com/photo/2018/07/14/11/33/earth-3537401_960_720.jpg\"width='1300' height='450'> </center>\n",
        "\n",
        "\n"
      ],
      "metadata": {
        "id": "HZ6dKVk7-X_b"
      }
    },
    {
      "cell_type": "markdown",
      "source": [
        "Fuente: [imágenes libres en pixabay](https://pixabay.com/es/illustrations/red-neuronal-artificial-ana-3501528/)"
      ],
      "metadata": {
        "id": "A3By4daAMR-k"
      }
    },
    {
      "cell_type": "markdown",
      "source": [
        "## <font color= blue> Autores\n",
        "*  [Juan David Bonilla Sotelo](https://www.linkedin.com/in/juan-bonilla-6867261b7/), jubonillas@unal.edu.co\n",
        "* [Kevin Andrés Leal Pérez](linkedin.com/in/kevin-andres-leal-perez-2a958a254), klealp@unal.edu.co\n",
        "* Stefanía Rojas García, strojasg@unal.edu.co"
      ],
      "metadata": {
        "id": "VAR7cRd4E7iP"
      }
    },
    {
      "cell_type": "markdown",
      "source": [
        "## <font color= blue> Referencias\n",
        "\n",
        "* [wiki](https://hmong.es/wiki/Cosine_similarity)\n",
        "* [OpenGenus](https://iq.opengenus.org/minkowski-distance/)\n",
        "* [Cunningham, P. (2020, 9 abril). k-Nearest Neighbour Classifiers: 2nd Edition (with Python examples)](https://arxiv.org/abs/2004.04523v2)\n",
        "* [skLearn](https://scikit-learn.org/stable/modules/neighbors.html#classification)\n",
        "* [Holy Python](https://holypython.com/knn/)\n",
        "* [Cuemath](https://www.cuemath.com/euclidean-distance-formula/)\n",
        "* [Statistics how to](https://www.statisticshowto.com/mahalanobis-distance/)\n",
        "* [Omni](https://www.omnicalculator.com/math/manhattan-distance)\n"
      ],
      "metadata": {
        "id": "X3ac0OQDEan_"
      }
    },
    {
      "cell_type": "markdown",
      "metadata": {
        "id": "218LNwaUZFuU"
      },
      "source": [
        "## <font color= blue>Introducción"
      ]
    },
    {
      "cell_type": "markdown",
      "metadata": {
        "id": "Oxty0BFecTUa"
      },
      "source": [
        "Algunos de los aspectos más importante a tener en cuenta del algoritmo es que al ser no parametrico no hace suposiciones sobre los datos, además opta por recopilar información sobre su estructura y así utilizarla como información apriorí para \n",
        "las predicciones.\n",
        "\n",
        "Por lo anterior a pesar de que KNN suele ser muy intuitivo, descubre patrones y es muy preciso, por otro lado tiene problemas cuando se trata del manejo de grandes bases de datos y más si son de gran dimensionalidad, además de ser sensible con respecto a datos atipicos o faltantes.\n"
      ]
    },
    {
      "cell_type": "markdown",
      "metadata": {
        "id": "IFMxRJo6IgLo"
      },
      "source": [
        "### <font color=  #AED6F1 > Funcionamiento \n",
        "\n",
        "\n",
        "\n"
      ]
    },
    {
      "cell_type": "markdown",
      "source": [
        "Parte de la idea del algoritmo es calcular distancias con respecto a una clasificación y por tanto encontrar sus vecinos más cercanos mediante el voto de etiquetas, para ello se podría hablar de cuatro tipos de distancia según el entorno.\n",
        "\n",
        "\n",
        "*   Distancia Euclidiana \n",
        "*   Distancia Manhattan\n",
        "*   Distancia Mahalanobis\n",
        "*   Distancia Minkowski\n",
        "\n",
        "En cuanto a la clasificación el hiperparámetro *k* sería aquella variable de control para el modelo de predicción. Teniendo en cuenta que dependiendo la naturaleza de los datos dependerá el número preciso de vecinos, lo cual sería directamente proporcional al sesgo pero inversamente proporcional a la varianza, como ultima recomendación si el numero de clases es impar eliga un numero par."
      ],
      "metadata": {
        "id": "UGOTCQpxg1gv"
      }
    },
    {
      "cell_type": "markdown",
      "source": [
        "### <font color= #AED6F1 >  Paso a paso"
      ],
      "metadata": {
        "id": "LcRDIZH6Dh3R"
      }
    },
    {
      "cell_type": "markdown",
      "metadata": {
        "id": "guCJ3MeWcYEI"
      },
      "source": [
        "Para mirar un poco más en detalle como sería la metodología de este algoritmo dataiku (2021) nos muestra un paso a paso a seguir.\n",
        "\n",
        "1.   Importe las bibliotecas de Python relevantes\n",
        "2.   Importar los datos\n",
        "3.   Leer/limpiar/ajustar los datos (si es necesario)\n",
        "4.   Crear una división de entrenamiento/prueba\n",
        "5.   Crear el objeto modelo kNN\n",
        "6.   Ajuste el modelo\n",
        "7.   Predecir\n",
        "8.   Evaluar la precisión\n",
        "\n",
        "\n"
      ]
    },
    {
      "cell_type": "markdown",
      "source": [
        "<center> <img src=\"https://cdn.pixabay.com/photo/2018/06/27/12/55/artificial-neural-network-3501528_960_720.png\"width='800' height='400'> </center>"
      ],
      "metadata": {
        "id": "-m4wd5PQKzF4"
      }
    },
    {
      "cell_type": "markdown",
      "source": [
        "### <font color= #AED6F1 > Computación"
      ],
      "metadata": {
        "id": "yQ26aV4DhBBq"
      }
    },
    {
      "cell_type": "markdown",
      "source": [
        "Fuente: [imágenes libres en pixabay](https://pixabay.com/es/illustrations/red-neuronal-artificial-ana-3501528/)"
      ],
      "metadata": {
        "id": "4Ey-pPljCXyl"
      }
    },
    {
      "cell_type": "markdown",
      "metadata": {
        "id": "dl-lL70pNASY"
      },
      "source": [
        "\n",
        "Como se mencionó anteriormente, este algoritmo se caracteriza por tener una metodología simple, no obstante es un metodo de clasificación bastante competitivo e importante en temas de  minería de datos y reconocimiento de patrones. A pesar de algunas restricciones en cuanto al rendimiento, es bastante común y popular para trabajar en un conjunto de datos. Es de notar que existen parámetros de optimización para el algoritmo, un ejemplo de ello sería en la función de python \"KNeighborsClassifier\", la cual tendría los siguiente parametros:\n",
        "\n",
        "*   n_neighbor: (predeterminado 5 ) Regula cuántos vecinos se deben revisar cuando se clasifica un artículo.\n",
        "*   weights:  (predeterminado: \" uniforme \") este valor hará que los pesos se distribuyan por igual entre todos los valores vecinos. \n",
        "*   algorithm:  (predeterminado: “auto”) utiliza el algoritmo más adecuado automáticamente en función del conjunto de datos.\n",
        "\n",
        "Es de notar, que además de esto existen otros parametrós de optimización kNN para un ajuste fino, es decir, tener una mayor optimización, además de evitar ineficiencias de rendimiento y tamaño.\n",
        "\n",
        "\n",
        "*  leaf_size (predeterminado: 30 ) Si se eligen los algoritmos BallTree o KDTree, esto permitirá el uso de parámetros adicionales como leaf_size, metrics, metric_size.\n",
        "*  p (predeterminado: 2 ) El parámetro p significa la potencia para Minkowski; manhattan_distance (l1) y euclidean_distance (l2)\n",
        "*  n_jobs (predeterminado: Ninguno ) Significa que los trabajos paralelos se permitirán al mismo tiempo para el algoritmo vecino Ninguno: asigna 1 como valor.\n",
        "\n",
        "\n",
        "\n",
        "\n",
        "\n",
        "\n"
      ]
    },
    {
      "cell_type": "markdown",
      "metadata": {
        "id": "mNUQ4AxzaAys"
      },
      "source": [
        "## <font color= blue>Nota histórica"
      ]
    },
    {
      "cell_type": "markdown",
      "metadata": {
        "id": "m2AkpA6BZX68"
      },
      "source": [
        "Todo empieza con el informe de análisis técnico en 1951 producido para la USAF, escrito por Evelyn Fix(1904–1965) y Hodges Jr. (1922–2000) estadísticos de Berkeley que introdujeron un método de clasificación no paramétrico (análisis discriminante). Probablemente nunca publicaron el documento oficialmente por temas de confidencialidad, teniendo en cuenta el contexto de la guerra fria.\n",
        "\n",
        "Así se daría la primera clasificación no paramétrica que posteriormente el mundo conocería como **algoritmo kNN** un quindemio después en el departamento de ingeníería Electrica de la universidad Stanford se publicaría el articulo \"Nearest neighbor pattern classification\" aquí Thomas Cover y Peter Hart demostrarían que la mitad de la información de clasificación en un conjunto de muestras infinitas está contenida en el vecino más cercano, argumentando que.\n",
        "\n",
        "> \"Estos límites son los más estrechos posibles, para todas las distribuciones subyacentes adecuadamente uniformes. Así, para cualquier número de categorías, la probabilidad de error de la regla del vecino más cercano está acotada arriba por el doble de la probabilidad de error de Bayes\"(1967,P.Hart,p1).\n",
        "\n",
        "En las descadas subsecuentes se han implementado muchas mejoras y que seguramente seguirán implementandose. \n",
        "\n",
        "Una idea más clara de lo que sería el algortimo de KNN sería.\"El algoritmo kNN clasifica un punto de datos según la clasificación de sus vecinos. Asume que existen cosas similares en la proximidad, y depende de que esta suposición sea lo suficientemente cierta como para que el algoritmo sea útil\",(dataiku,2021)\n",
        "pese a que su fundamento es simple, lograría ser uno de los mejores clasificadores dejando atrás a otros más potentes, por lo cual se utliza en diferentes areas, es decir, es un algoritmo multifuncional, además en algunas ocasiones se usa como base para la construccion de algortimos más robustos.\n",
        "\n",
        "\n"
      ]
    },
    {
      "cell_type": "markdown",
      "metadata": {
        "id": "WpaJKwV2aIF4"
      },
      "source": [
        "## <font color= blue>  Fundamento matemático"
      ]
    },
    {
      "cell_type": "markdown",
      "metadata": {
        "id": "EadzK000AlAO"
      },
      "source": [
        "Ahora veamos gráficamente de lo que se trata este método. Suponga que x es el punto que se quiere predecir. Para poder realizar esto, primero se encuentra el punto más cercano a este valor y así se clasifican los puntos para obtener el voto mayoritario de los vecinos. Luego los objetos votan por la clase y la que tenga más votos se toma como la predicción. Y finalmente, para encontrar los puntos similares más cercanos, se busca la distancia entre ellos usando algún método para encontrar distancias.\n",
        "\n",
        "\n"
      ]
    },
    {
      "cell_type": "markdown",
      "source": [
        "![KNN.jpeg](data:image/jpeg;base64,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)\n",
        "  "
      ],
      "metadata": {
        "id": "pWmDCR5LBsP9"
      }
    },
    {
      "cell_type": "markdown",
      "source": [
        "Autor: Juan David Bonilla Sotelo"
      ],
      "metadata": {
        "id": "k1OPAY5lNu45"
      }
    },
    {
      "cell_type": "markdown",
      "metadata": {
        "id": "-C8fD61J80oj"
      },
      "source": [
        "Para la realización de este algoritmo se puede hacer uso de diferentes métodos para calcular las distancias entre los valores deseados. Se hablará primeramente de las formas clásicas de calcular estas distancias y su implementación, para luego mencionar otros métodos comúnes."
      ]
    },
    {
      "cell_type": "markdown",
      "source": [
        "#### <font color= #4CC9F0 > **Distancia Euclidiana**"
      ],
      "metadata": {
        "id": "u8HqxzCihHyK"
      }
    },
    {
      "cell_type": "markdown",
      "metadata": {
        "id": "LxwhhOo2FPj1"
      },
      "source": [
        "\n",
        "La distancia que existe entre dos puntos en el plano, es considerada como la distancia euclidiana. Esto se puede deducir del teorema de pitagoras. \n",
        "\n",
        "Supongamos que se tiene que $(x_1,y_1)$ y $(x_2,y_2)$ son dos puntos en un plano bidimensional. Se tiene entonces que la distancia euclidiana esta definida, teniendo en cuenta el teorema de pitagoras como:\n",
        "$$d=\\sqrt{\\left(x_2-x_1\\right)^2+\\left(y_2-y_1\\right)^2}$$\n",
        "\n",
        "<center> <img src=\"https://upload.wikimedia.org/wikipedia/commons/thumb/6/67/Distance_Formula.svg/640px-Distance_Formula.svg.png\"width='' height='450'> </center>\n",
        "<a href=\"https://commons.wikimedia.org/wiki/File:Distance_Formula.svg\">Jim.belk</a>, Public domain, via Wikimedia Commons\n",
        "\n",
        "Teniendo que \n",
        "\n",
        "*   $(x_1,y_1)$ es la coordenada del primer punto\n",
        "*   $(x_2,y_2)$ es la coordenada del segundo punto\n",
        "*   $d$ la distancia entre los dos puntos\n",
        "\n",
        "\n",
        "Por lo que de manera general se tiene que la distancia euclidiana se puede calcular como,\n",
        "\n",
        "$$d=\\sqrt{\\sum_{i=1}^k\\left(x_i-y_i\\right)^2}$$\n",
        "\n"
      ]
    },
    {
      "cell_type": "markdown",
      "source": [
        "###### <font color= #4CC9F0 > **Aplicación en Python**"
      ],
      "metadata": {
        "id": "r-G9xBx3hL4p"
      }
    },
    {
      "cell_type": "markdown",
      "metadata": {
        "id": "2PoQ1y82Qh2i"
      },
      "source": [
        "\n",
        "Existen diversas manera de calcular esta distancia, pero una de las maneras más eficaces es con el uso de la función *euclidean()*, la cual se puede encontrar en la librería *scipy.spatial.distance*.\n",
        "\n",
        "Supongamos que se tienen dos puntos a y b, y se desea encontrar la distancia entre ellos. \n",
        "\n",
        "\n",
        "Lo primero que se debe hacer es crear los puntos."
      ]
    },
    {
      "cell_type": "code",
      "execution_count": null,
      "metadata": {
        "id": "xlyTDJ3YRYtD"
      },
      "outputs": [],
      "source": [
        "a = (1, 2)\n",
        "b = (3, 4)"
      ]
    },
    {
      "cell_type": "markdown",
      "metadata": {
        "id": "o5X_NCBdRbiw"
      },
      "source": [
        "Posteriormente, se carga la librería para poder hacer uso de la función."
      ]
    },
    {
      "cell_type": "code",
      "execution_count": null,
      "metadata": {
        "colab": {
          "base_uri": "https://localhost:8080/"
        },
        "id": "kn5F3xVkRJDB",
        "outputId": "2a34aaaa-01d2-4222-9c68-85eec9d68d29"
      },
      "outputs": [
        {
          "output_type": "stream",
          "name": "stdout",
          "text": [
            "La distancia entre el punto a y b es de:\n"
          ]
        },
        {
          "output_type": "execute_result",
          "data": {
            "text/plain": [
              "2.8284271247461903"
            ]
          },
          "metadata": {},
          "execution_count": 3
        }
      ],
      "source": [
        "from scipy.spatial.distance import euclidean\n",
        "\n",
        "print(\"La distancia entre el punto a y b es de:\")\n",
        "euclidean(a, b)"
      ]
    },
    {
      "cell_type": "markdown",
      "source": [
        "#### <font color= #AED6F1 >**Distancia Manhattan**"
      ],
      "metadata": {
        "id": "FrwYZ2YThOHC"
      }
    },
    {
      "cell_type": "markdown",
      "metadata": {
        "id": "msSKFOTAKRcN"
      },
      "source": [
        "\n",
        "La distancia que existe entre dos puntos o vectores, teniendo en cuenta la suma de las diferencias absolutas $|X-Y|$, es considerada la distancia de Manhattan o distancia de Taxicab o distancia de City Block, debido a que se ve como una cuadrícula, que muestra como ir en diferentes direcciones a través de las calles de la ciudad. \n",
        "\n",
        "Supongamos que se tienen $X$ y $Y$ puntos en un espacio euclidiano de dimension $n$, con $(x_1,x_2,\\dots,x_n)$ y $(y_1,y_2,\\dots,y_n)$ sus respectivas coordenadas. Se tiene entonces, que la distancia de Manhattan esta definida como:\n",
        "\n",
        "$$d=|x_1-y_1|+|x_2-y_2|+|x_3-y_3|+\\dots+|x_n-y_n|$$\n",
        "<center> <img src=\"https://upload.wikimedia.org/wikipedia/commons/0/08/Manhattan_distance.svg\"width='' height='350'> </center>\n",
        "\n",
        "<a href=\"https://commons.wikimedia.org/wiki/File:Manhattan_distance.svg\">User:Psychonaut</a>, Public domain, via Wikimedia Commons\n",
        "\n",
        "En la figura anterior se puede observar la diferencia entre la distancia de Manhattan (líneas amarilla, rojas y azules) y la distancia Euclidiana (línea verde).\n"
      ]
    },
    {
      "cell_type": "markdown",
      "source": [
        "###### <font color= #AED6F1 > **Aplicación en Python**"
      ],
      "metadata": {
        "id": "e8167vrzhPyh"
      }
    },
    {
      "cell_type": "markdown",
      "metadata": {
        "id": "hnA1afT-R_BG"
      },
      "source": [
        "\n",
        "Para el cálculo de esta distancia se puede crear la función teniendo en cuenta la fórmula de la misma, pero una de las maneras más útiles de encontrar esta distancia es con el uso de la función *cityblock()*, la cual se puede encontrar en la librería *scipy.spatial.distance*.\n",
        "\n",
        "Supongamos que se tienen dos vectores A y B, y se desea encontrar la distancia entre ellos. \n",
        "\n",
        "Lo primero que se debe hacer es crear los vectores."
      ]
    },
    {
      "cell_type": "code",
      "execution_count": null,
      "metadata": {
        "id": "jIZhzfvGS2qQ"
      },
      "outputs": [],
      "source": [
        "A = [1,2,3,4]\n",
        "B = [5,6,7,8]"
      ]
    },
    {
      "cell_type": "markdown",
      "metadata": {
        "id": "2D7BD8khTdeJ"
      },
      "source": [
        "Posteriormente, se carga la librería para poder hacer uso de la función."
      ]
    },
    {
      "cell_type": "code",
      "execution_count": null,
      "metadata": {
        "colab": {
          "base_uri": "https://localhost:8080/"
        },
        "id": "Y2uBhi1oTg3v",
        "outputId": "55c61631-b7c6-4d34-ed0b-d0ae5bc5d438"
      },
      "outputs": [
        {
          "output_type": "stream",
          "name": "stdout",
          "text": [
            "La distancia entre el vector A y B es de:\n"
          ]
        },
        {
          "output_type": "execute_result",
          "data": {
            "text/plain": [
              "16"
            ]
          },
          "metadata": {},
          "execution_count": 5
        }
      ],
      "source": [
        "from scipy.spatial.distance import cityblock\n",
        "print(\"La distancia entre el vector A y B es de:\")\n",
        "cityblock(A, B)"
      ]
    },
    {
      "cell_type": "markdown",
      "source": [
        "#### <font color= #4CC9F0 >**Distancia de Mahalanobis**"
      ],
      "metadata": {
        "id": "iLdrSX1ZhRwQ"
      }
    },
    {
      "cell_type": "markdown",
      "metadata": {
        "id": "wFd3zI3MO0WD"
      },
      "source": [
        "\n",
        "La distancia que existe entre dos puntos que se encuentran en un espacio multivariado, relativa al centroide (punto central \"media general\" donde todas las medias de las variables se interceptan).\n",
        "\n",
        "Supongamos que $X_A$ y $X_B$ son objetos  y $C$ es la matriz de covarianzas. Se tiene entonces que la distancia de Mahalanobis es:\n",
        "\n",
        "$$d=[(X_B-X_A)^t\\cdot C^{-1}\\cdot(X_B-X_A)]^{1/2}$$\n",
        "<center> <img src=\"https://upload.wikimedia.org/wikipedia/commons/thumb/3/3b/MahalanobisDist2.png/640px-MahalanobisDist2.png\"width='' height='350'> </center>\n",
        "\n",
        "<a href=\"https://commons.wikimedia.org/wiki/File:MahalanobisDist2.png\">Piotrg at pl.wikipedia</a>, <a href=\"http://creativecommons.org/licenses/by-sa/3.0/\">CC BY-SA 3.0</a>, via Wikimedia Commons\n",
        "\n",
        "Se tiene que entre más grande la distancia de Mahalanobis, más lejos se encuentra el dato del centroide. Uno de los usos más importantes de esta distancia es la identificación y obtención de los datos atípicos."
      ]
    },
    {
      "cell_type": "markdown",
      "source": [
        "###### <font color= #AED6F1 > **Aplicación en Python**"
      ],
      "metadata": {
        "id": "o_EN5blnhTjI"
      }
    },
    {
      "cell_type": "markdown",
      "metadata": {
        "id": "K0HMqCpIUdAC"
      },
      "source": [
        "\n",
        "Una de las maneras de encontrar esta distancia es con el uso de la función *cdist()*, la cual se puede encontrar en la librería *scipy.spatial.distance*. Esta función encuentra la distancia entre dos colecciones.\n",
        "\n",
        "Supongamos que se tienen dos colecciones X y Y, y se desea encontrar la distancia entre ellas. \n",
        "\n",
        "Lo primero que se debe hacer es crear las colecciones. Haciendo uso de la librería *numpy*\n",
        "\n"
      ]
    },
    {
      "cell_type": "code",
      "execution_count": null,
      "metadata": {
        "id": "5Jeplm8dVGgK"
      },
      "outputs": [],
      "source": [
        "import numpy as np\n",
        "X = np.array([[[1,2,3],\n",
        "               [3,4,5],\n",
        "               [5,6,7]],\n",
        "              [[5,6,7],\n",
        "               [7,8,9],\n",
        "               [9,1,2]]])\n",
        "i,j,k = X.shape\n",
        "XX = X.reshape(i,j*k).T\n",
        "\n",
        "Y = np.array([[[9,8,7],\n",
        "               [7,6,5],\n",
        "               [5,4,3]],\n",
        "              [[5,4,3],\n",
        "               [3,2,1],\n",
        "               [1,9,8]]])\n",
        "YY = Y.reshape(i,j*k).T"
      ]
    },
    {
      "cell_type": "markdown",
      "metadata": {
        "id": "T0QR69EOVG29"
      },
      "source": [
        "Posteriormente, se carga la librería para poder hacer uso de la función."
      ]
    },
    {
      "cell_type": "code",
      "execution_count": null,
      "metadata": {
        "colab": {
          "base_uri": "https://localhost:8080/"
        },
        "id": "jNzuLL_cVPMh",
        "outputId": "1f14fea3-87e7-4512-d805-d6215ed627f5"
      },
      "outputs": [
        {
          "output_type": "stream",
          "name": "stdout",
          "text": [
            "La distancia entre la colección X y Y es de:\n",
            "[4.16762441 2.8723369  1.95478912 1.95478912 2.02033089 3.0053167\n",
            " 3.0053167  2.70895587 2.29219343]\n"
          ]
        }
      ],
      "source": [
        "from scipy.spatial.distance import cdist\n",
        "results =  cdist(XX,YY,'mahalanobis')\n",
        "\n",
        "results = np.diag(results)\n",
        "print(\"La distancia entre la colección X y Y es de:\")\n",
        "print(results)"
      ]
    },
    {
      "cell_type": "markdown",
      "source": [
        "#### <font color= #4CC9F0 > **Distancia de Minkowski**"
      ],
      "metadata": {
        "id": "cC6Z060RhV1g"
      }
    },
    {
      "cell_type": "markdown",
      "metadata": {
        "id": "rijMhXI7ziqD"
      },
      "source": [
        "\n",
        "Esta distancia es una generalización de las distancias Manhattan y Euclidiana que se mencionaron anteriormente, en donde se agrega un parámetro $p$. Se tiene que si este parámetro $p$ es $1$, entonces esta distancia es igual a la de Manhattan, pero si se tiene que $p$ es $2$ es igual a la Euclidiana.\n",
        "\n",
        "Supongamos que se tiene $P$ y $Q$ puntos con $(p_1,p_2,\\dots,p_n)$ y $(q_1,q_2,\\dots,q_n)$ sus respectivas coordenadas. Se tiene entonces que la distancia Minkowski esta definida como:\n",
        "$$d=(|p_1-q_1|^p+|p_2-q_2|^p+|p_3-q_3|^p+\\dots+|p_n-q_n|^p)^{1/p}$$\n",
        "<center> <img src=\"https://upload.wikimedia.org/wikipedia/commons/thumb/0/00/2D_unit_balls.svg/640px-2D_unit_balls.svg.png\"width='1300' height=''> </center>\n",
        "\n",
        "<a href=\"https://commons.wikimedia.org/wiki/File:2D_unit_balls.svg\">Waldir Pimenta</a>, <a href=\"https://creativecommons.org/licenses/by-sa/3.0\">CC BY-SA 3.0</a>, via Wikimedia Commons\n"
      ]
    },
    {
      "cell_type": "markdown",
      "source": [
        "###### <font color= #AED6F1 > **Aplicación en Python**"
      ],
      "metadata": {
        "id": "w7mtrgyzhXhw"
      }
    },
    {
      "cell_type": "markdown",
      "metadata": {
        "id": "COFrFapKYhg5"
      },
      "source": [
        "\n",
        "Una de las maneras de encontrar esta distancia es con el uso de la función *minkowski()*, la cual se puede encontrar en la librería *scipy.spatial.distance*. Esta función encuentra la distancia entre dos puntos, dependiendo del parámetro $p$ que se le asigne.\n",
        "\n",
        "Supongamos que se tienen dos puntos c y d , y se desea encontrar la distancia entre ellos. "
      ]
    },
    {
      "cell_type": "code",
      "execution_count": null,
      "metadata": {
        "id": "VzMsepYVZseF"
      },
      "outputs": [],
      "source": [
        "c = (1, 2, 3, 4, 5)\n",
        "d = (7, 8, 9, 10, 11)"
      ]
    },
    {
      "cell_type": "markdown",
      "metadata": {
        "id": "b63edV_LaMe-"
      },
      "source": [
        "Posteriormente, se carga la librería para poder hacer uso de la función.\n",
        "\n",
        "Para este ejemplo se usará un parámetro $p=3$"
      ]
    },
    {
      "cell_type": "code",
      "execution_count": null,
      "metadata": {
        "colab": {
          "base_uri": "https://localhost:8080/"
        },
        "id": "4p-liLQVaL_8",
        "outputId": "3467092e-5b7e-4b08-d6e2-6e3b8dc738cd"
      },
      "outputs": [
        {
          "output_type": "stream",
          "name": "stdout",
          "text": [
            "La distancia entre los puntos c y d es de:\n"
          ]
        },
        {
          "output_type": "execute_result",
          "data": {
            "text/plain": [
              "6.3496042078727974"
            ]
          },
          "metadata": {},
          "execution_count": 9
        }
      ],
      "source": [
        "from scipy.spatial.distance import minkowski\n",
        "print(\"La distancia entre los puntos c y d es de:\")\n",
        "minkowski(A, B, p=3)"
      ]
    },
    {
      "cell_type": "markdown",
      "metadata": {
        "id": "bP8QlV9yat4s"
      },
      "source": [
        "Como se habia mencionado anteriormente, si se utiliza el parámetro $p=1$ se obtiene la distancia Manhattan, mientras que si se tiene un parámetro de $p=2$ se tiene la distancia Euclidiana. "
      ]
    },
    {
      "cell_type": "code",
      "execution_count": null,
      "metadata": {
        "colab": {
          "base_uri": "https://localhost:8080/"
        },
        "id": "KOjNqqgfbKS_",
        "outputId": "9719af9b-3262-4483-82f8-92dc1fccad1c"
      },
      "outputs": [
        {
          "output_type": "stream",
          "name": "stdout",
          "text": [
            "La distancia Manhattan entre los vectores A y B es de:\n",
            "16.0\n",
            "La distancia Euclideana entre los puntos a y b es de:\n",
            "2.8284271247461903\n"
          ]
        }
      ],
      "source": [
        "print(\"La distancia Manhattan entre los vectores A y B es de:\")\n",
        "print(minkowski(A,B, p=1))\n",
        "\n",
        "print(\"La distancia Euclideana entre los puntos a y b es de:\")\n",
        "print(minkowski(a, b, p=2))"
      ]
    },
    {
      "cell_type": "markdown",
      "metadata": {
        "id": "1TRTPOdZbe48"
      },
      "source": [
        "Como se puede observar se obtuvo lo mismo que lo que anteriormente se mostró al hacer uso de la función de cada distancia. Por lo que cualquiera de estas formas es válida para el cálculo de las distancias."
      ]
    },
    {
      "cell_type": "markdown",
      "metadata": {
        "id": "ojkvbexoc9ap"
      },
      "source": [
        "## <font color= blue >Otras similitudes comunes  "
      ]
    },
    {
      "cell_type": "markdown",
      "metadata": {
        "id": "KAyoGorNdSJx"
      },
      "source": [
        "Ahora, se presentarán otras dos pseudo-distancias que son muy comunes para la ejecución del algoritmo KNN, las cuales serán útiles para conjuntos de datos en los que se quiera realizar clasificación teniendo en cuenta otro tipo de similitudes entre las unidades de análisis. \n",
        "\n",
        "Reciben el nombre de \"pseudo-distancias\" puesto que suelen no cumplir alguna de las propiedades formales para definir una métrica de distancia. Además, es de importancia resaltar que también existen otras pseudo-distancias que permitien aplicar este método a otras clases de datos de mayor complejidad como series de tiempo o datos multimedia.\n"
      ]
    },
    {
      "cell_type": "markdown",
      "source": [
        "#### <font color= #4CC9F0 >**Similitud del Coseno**"
      ],
      "metadata": {
        "id": "caSuUh3thaMf"
      }
    },
    {
      "cell_type": "markdown",
      "metadata": {
        "id": "TKfbCCThNYGs"
      },
      "source": [
        "\n",
        "\n",
        "Esta es una medida que trabaja con vectores de variables definidas en un espacio vectorial con producto interno. Sin embargo, esta similitud se define con el coseno del ángulo formado entre dos vectores $P$ y $Q$, de tal forma la medida es independiente a la magnitud de los vectores. Dicha independencia permite que la similitud del coseno sea ampliamente usada en la minería de texto, para comparar documentos sin importar su longitud. Los vectores de características serán los conteos de las palabras dentro de cada uno de los textos.\n",
        "\n",
        "Particularmente, suele ser usada en el espacio positivo, por lo cual el resultado está claramente definido en el intervalo $[0,1]$. Por lo general, el término de la distancia del coseno se refiere al complemento de esta, puesto que se define con la fórmula:\n",
        "\n",
        "$$D_{cos}(P,Q)=1- S_{cos}(P,Q)$$\n",
        "\n",
        "donde $S_{cos}$ corresponde a la similitud del coseno, definida a partir del producto punto como\n",
        "$$S_{cos}(P,Q) = \\frac{\\boldsymbol{P}· \\boldsymbol{Q}}{||\\boldsymbol{P}||||\\boldsymbol{Q}||} =\\frac{\\sum^n_{i=1}p_iq_i}{\\sqrt{\\sum^n_{i=1}p_i^2} \\sqrt{\\sum^n_{i=1}q_i^2}}$$\n",
        "\n",
        "Sin embargo, esta distancia no cumple con la propiedad de la desigualdad triangular. En el gráfico a continuación se muestra como actuaría esta pseudo-distancia en un espacio de dimensión $\\mathbb{R}^2$, el punto que se desea clasificar es $Q$ y si se eligiera la distancia euclidiana entonces el vecino más cercano sería $C$, sin embargo al tomar la de coseno es claro que viendo los ángulos entre los vectores el vecino más cercano sería $D$."
      ]
    },
    {
      "cell_type": "code",
      "execution_count": null,
      "metadata": {
        "id": "iLmK1c0jqFaR"
      },
      "outputs": [],
      "source": [
        "import pandas as pd\n",
        "import numpy as np\n",
        "from sklearn.preprocessing import Normalizer"
      ]
    },
    {
      "cell_type": "code",
      "execution_count": null,
      "metadata": {
        "id": "2G-7r75VrQzv"
      },
      "outputs": [],
      "source": [
        "cosi = pd.DataFrame(\n",
        "    [['C',-1.5,2.5],\n",
        "     ['D',2.0,6.5],\n",
        "     ['Q',0.5,3.0]],\n",
        "    columns=['Ex','X1','X2'])\n",
        "\n",
        "cosi = cosi.set_index('Ex')\n",
        "cosi_n = cosi.copy()\n",
        "cosi_n.iloc[:,:] = Normalizer(norm='l2').fit_transform(cosi)"
      ]
    },
    {
      "cell_type": "code",
      "execution_count": null,
      "metadata": {
        "colab": {
          "base_uri": "https://localhost:8080/",
          "height": 463
        },
        "id": "OngSjaSyrU_e",
        "outputId": "6480821f-52a8-404c-9069-31ed7c79d5f3"
      },
      "outputs": [
        {
          "output_type": "execute_result",
          "data": {
            "text/plain": [
              "Text(0.3, 3.2, 'Q')"
            ]
          },
          "metadata": {},
          "execution_count": 30
        },
        {
          "output_type": "display_data",
          "data": {
            "text/plain": [
              "<Figure size 576x504 with 1 Axes>"
            ],
            "image/png": "[encoded data removed]"
          },
          "metadata": {
            "needs_background": "light"
          }
        }
      ],
      "source": [
        "%matplotlib inline\n",
        "pl = cosi_n.plot.scatter('X1','X2',figsize=(8,7))\n",
        "pl.set_xlim(-3,3)\n",
        "pl.set_ylim(0,7)\n",
        "c1, c2 = [0,-1.5], [0,2.5]\n",
        "d1, d2 = [0,2.0], [0,6.5]\n",
        "q1, q2 = [0,0.5], [0,3]\n",
        "pl.plot(c1,c2,d1,d2,q1,q2, marker = 'o', markersize = 10,linewidth = 2)\n",
        "pl.text(-1.8,2.8, 'C', fontsize=12)\n",
        "pl.text(1.8,6.7, 'D', fontsize=12)\n",
        "pl.text(0.3,3.2, 'Q', fontsize=12)"
      ]
    },
    {
      "cell_type": "markdown",
      "source": [
        "#### <font color= #4CC9F0 > **Similitud de la Correlación**"
      ],
      "metadata": {
        "id": "froUwI_Jhc_K"
      }
    },
    {
      "cell_type": "markdown",
      "metadata": {
        "id": "gV-r0pi85Cpl"
      },
      "source": [
        "\n",
        "\n",
        "La construcción de esta distancia es muy parecida a la hecha para definir la distancia del coseno. Puesto que, de forma similar, cuando se habla de la distancia de correlación se hace referencia al complemento de la similitud de correlación entre dos vectores $P$ y $Q$, los cuales corresponderán a las unidades de análisis en la clasificación. Es decir, la distancia de la correlación se define como:\n",
        "\n",
        "$$D_{corr}(P,Q)=1- S_{corr}(P,Q)$$\n",
        "\n",
        "donde $S_{corr}$, en realidad, corresponderá a un coeficiente de correlación. Comúnmente se utiliza o el coeficiente de Pearson, utilizado para variables normalmente distribuidas, o el coeficiente de Spearman, para variables que no tienen distribución normal y por lo tanto se basa en los rangos de los valores.\n",
        "Si usamos el coeficiente de correlación de Pearson $r(P,Q)$, donde $P$ y $Q$ son vistos como las \"variables\" en esta medida, entonces se tiene que: \n",
        "\n",
        "$$S_{corr}(P,Q) = r(P,Q) = \\frac{\\sum^n_{i=1}(p_i-\\bar{p})(q_i-\\bar{q})}{(n-1)s_ps_q}$$\n",
        "\n",
        "Con $\\bar{p}$ y $s_p$ como la media y desviación estándar de los valores en el vector $P$. Este ajuste por la media hace que la similitud sea invariante a cambios de escala entre las características del vector, por lo cual, su aplicación es muy común en contextos donde las características reflejan la asignación de recursos, por ejemplo, el gasto de hogares en distintos productos y servicios.\n",
        "\n",
        "En el siguiente gráfico se ilustra la utilidad de esta medida de similitud, ahora cada observación cuenta con un valor en 10 variables y nuevamente el punto $Q$ es el que se quiere clasificar. Se tiene que, al calcular la distancia euclidiana de cada una de las variables con las respectivas del punto $B$, en promedio la distancia sería más pequeña que al calcularla con los valores del punto $A$. Sin embargo, se tiene que los valores del punto $Q$ tienen un patrón en el cambio de las variables más similar al punto $A$ que al punto $B$, este comportamiento se vería reflejado en una medida de correlación más baja y por lo tanto sería el vecino más cercano. "
      ]
    },
    {
      "cell_type": "code",
      "execution_count": null,
      "metadata": {
        "colab": {
          "base_uri": "https://localhost:8080/",
          "height": 299
        },
        "id": "g3NJb5dxr7Wy",
        "outputId": "7c54ec83-1d49-4d98-856a-ba61494938c8"
      },
      "outputs": [
        {
          "output_type": "execute_result",
          "data": {
            "text/plain": [
              "Text(0, 7.1, 'B')"
            ]
          },
          "metadata": {},
          "execution_count": 42
        },
        {
          "output_type": "display_data",
          "data": {
            "text/plain": [
              "<Figure size 432x288 with 1 Axes>"
            ],
            "image/png": "[encoded data removed]"
          },
          "metadata": {
            "needs_background": "light"
          }
        }
      ],
      "source": [
        "cols = ['Ex','X0','X1','X2','X3','X4','X5','X6','X7','X8','X9']\n",
        "cd = [['A',2,1,3,3,3,4,0,0,-1,1],\n",
        "      ['B',8,9,8,7,7,8,10,10,11,10],\n",
        "      ['Q',9,8,9,10,10,11,9,9,8,9]]\n",
        "corr = pd.DataFrame(cd, columns = cols)\n",
        "corr = corr.set_index('Ex')\n",
        "corr\n",
        "%matplotlib inline\n",
        "pl = corr.T.plot(linewidth=2,legend = False)\n",
        "pl.set_xlabel('Feature',fontsize = 12)\n",
        "pl.set_ylabel('Value',fontsize = 12)\n",
        "pl.text(0,2.5, 'A', fontsize=12)\n",
        "pl.text(0,9.5, 'Q', fontsize=12)\n",
        "pl.text(0,7.1, 'B', fontsize=12)"
      ]
    },
    {
      "cell_type": "markdown",
      "metadata": {
        "id": "V9F0V0YNdUva"
      },
      "source": [
        "## <font color= blue>Ejemplos de aplicación "
      ]
    },
    {
      "cell_type": "markdown",
      "source": [
        "###  <font color= #4CC9F0 > **Clásica:**"
      ],
      "metadata": {
        "id": "ImF6KLMzhfmI"
      }
    },
    {
      "cell_type": "markdown",
      "metadata": {
        "id": "oXTlGfphdbSI"
      },
      "source": [
        "\n",
        "\n",
        "Para la aplicación de esta medida se utilizó la base de datos 'Cáncer de mama Wisconsin (Diagnóstico)', la cual fue tomada del repositorio [UCI](https://archive.ics.uci.edu/ml/datasets/Breast+Cancer+Wisconsin+%28Diagnostic%29). Este conjunto de datos contiene 699 registros explicados por características relacionadas a los tumores encontrados. Estas características se calcularon a partir de una imagen digitalizada de una aspiración con aguja fina (FNA) de una masa mamaria. Los datos fueron presentados en el año 1995 por  profesores de la Universidad de Wisconsin, para predecir si los tumores encontrados eran benignos o malignos. \n",
        "\n",
        "\n",
        "\n"
      ]
    },
    {
      "cell_type": "markdown",
      "metadata": {
        "id": "FTahrM8pP6R8"
      },
      "source": [
        "Librerías necesarias:"
      ]
    },
    {
      "cell_type": "code",
      "execution_count": null,
      "metadata": {
        "id": "8iU-FphJP5T4"
      },
      "outputs": [],
      "source": [
        "import pandas as pd\n",
        "import numpy as np\n",
        "from sklearn import preprocessing\n",
        "import sys\n",
        "\n",
        "from sklearn.neighbors import NearestNeighbors\n",
        "from sklearn.neighbors import KNeighborsClassifier\n",
        "from sklearn.model_selection import train_test_split\n",
        "from sklearn.metrics import accuracy_score\n",
        "from sklearn.model_selection import cross_val_score\n",
        "import matplotlib.lines as mlines"
      ]
    },
    {
      "cell_type": "code",
      "execution_count": null,
      "metadata": {
        "colab": {
          "base_uri": "https://localhost:8080/"
        },
        "id": "3sh3Ge_9qTGV",
        "outputId": "91a63237-d050-4164-903e-4defccffcde8"
      },
      "outputs": [
        {
          "output_type": "stream",
          "name": "stdout",
          "text": [
            "Mounted at /content/drive\n"
          ]
        }
      ],
      "source": [
        "from google.colab import drive\n",
        "drive.mount('/content/drive')"
      ]
    },
    {
      "cell_type": "markdown",
      "source": [
        "Para la realización de este método se tiene en cuenta lo que se denomina fuerza bruta. La fuerza bruta en la clasificación de vecinos más cercanos se basa en escanear linealmente la distancia entre la entrada y cada dato de entrenamiento para posteriormente escoger las k muestras vecinas más cercanas para la votación. "
      ],
      "metadata": {
        "id": "NqeRiQK3n-Uh"
      }
    },
    {
      "cell_type": "code",
      "execution_count": null,
      "metadata": {
        "colab": {
          "base_uri": "https://localhost:8080/"
        },
        "id": "9AzGDYPqChaH",
        "outputId": "ebe153a6-376f-4812-d9ec-492a39893af1"
      },
      "outputs": [
        {
          "output_type": "stream",
          "name": "stdout",
          "text": [
            "<class 'pandas.core.frame.DataFrame'>\n",
            "RangeIndex: 699 entries, 0 to 698\n",
            "Data columns (total 11 columns):\n",
            " #   Column  Non-Null Count  Dtype \n",
            "---  ------  --------------  ----- \n",
            " 0   0       699 non-null    int64 \n",
            " 1   1       699 non-null    int64 \n",
            " 2   2       699 non-null    int64 \n",
            " 3   3       699 non-null    int64 \n",
            " 4   4       699 non-null    int64 \n",
            " 5   5       699 non-null    int64 \n",
            " 6   6       699 non-null    object\n",
            " 7   7       699 non-null    int64 \n",
            " 8   8       699 non-null    int64 \n",
            " 9   9       699 non-null    int64 \n",
            " 10  10      699 non-null    int64 \n",
            "dtypes: int64(10), object(1)\n",
            "memory usage: 60.2+ KB\n"
          ]
        }
      ],
      "source": [
        "cancer = pd.read_csv('/content/drive/Shareddrives/Mineria/breast-cancer-wisconsin.data', header = None)\n",
        "cancer.info()"
      ]
    },
    {
      "cell_type": "code",
      "execution_count": null,
      "metadata": {
        "colab": {
          "base_uri": "https://localhost:8080/"
        },
        "id": "nJAWxVFzAEjP",
        "outputId": "0d55fd41-b3ab-427e-e68c-e6ba5e0512d3"
      },
      "outputs": [
        {
          "output_type": "stream",
          "name": "stdout",
          "text": [
            "                1           2           3           4           5           6  \\\n",
            "count  683.000000  683.000000  683.000000  683.000000  683.000000  683.000000   \n",
            "mean     4.442167    3.150805    3.215227    2.830161    3.234261    3.544656   \n",
            "std      2.820761    3.065145    2.988581    2.864562    2.223085    3.643857   \n",
            "min      1.000000    1.000000    1.000000    1.000000    1.000000    1.000000   \n",
            "25%      2.000000    1.000000    1.000000    1.000000    2.000000    1.000000   \n",
            "50%      4.000000    1.000000    1.000000    1.000000    2.000000    1.000000   \n",
            "75%      6.000000    5.000000    5.000000    4.000000    4.000000    6.000000   \n",
            "max     10.000000   10.000000   10.000000   10.000000   10.000000   10.000000   \n",
            "\n",
            "                7           8           9  \n",
            "count  683.000000  683.000000  683.000000  \n",
            "mean     3.445095    2.869693    1.603221  \n",
            "std      2.449697    3.052666    1.732674  \n",
            "min      1.000000    1.000000    1.000000  \n",
            "25%      2.000000    1.000000    1.000000  \n",
            "50%      3.000000    1.000000    1.000000  \n",
            "75%      5.000000    4.000000    1.000000  \n",
            "max     10.000000   10.000000   10.000000  \n"
          ]
        },
        {
          "output_type": "stream",
          "name": "stderr",
          "text": [
            "/usr/local/lib/python3.7/dist-packages/ipykernel_launcher.py:2: SettingWithCopyWarning: \n",
            "A value is trying to be set on a copy of a slice from a DataFrame.\n",
            "Try using .loc[row_indexer,col_indexer] = value instead\n",
            "\n",
            "See the caveats in the documentation: https://pandas.pydata.org/pandas-docs/stable/user_guide/indexing.html#returning-a-view-versus-a-copy\n",
            "  \n"
          ]
        }
      ],
      "source": [
        "X = cancer[cancer[6] != \"?\"]\n",
        "X[6]=X[6].astype(\"int\")\n",
        "y = X.pop(10).values\n",
        "X.pop(0)\n",
        "print(X.describe())"
      ]
    },
    {
      "cell_type": "markdown",
      "source": [
        "Como se puede ver, no se es tan necesaria una reescalación de los datos. Pero de igual manera se realizará para un mejor resultado."
      ],
      "metadata": {
        "id": "C5PpVKKrxcvY"
      }
    },
    {
      "cell_type": "code",
      "source": [
        "scaler = preprocessing.StandardScaler().fit(X)\n",
        "X_scaled = scaler.transform(X)"
      ],
      "metadata": {
        "id": "csW-03l6dpFs"
      },
      "execution_count": null,
      "outputs": []
    },
    {
      "cell_type": "code",
      "execution_count": null,
      "metadata": {
        "colab": {
          "base_uri": "https://localhost:8080/"
        },
        "id": "32uMc2AZ_LcG",
        "outputId": "7f4d5357-427e-4a0d-efaa-f1f87c5d7a5c"
      },
      "outputs": [
        {
          "output_type": "execute_result",
          "data": {
            "text/plain": [
              "((683, 9), (683,))"
            ]
          },
          "metadata": {},
          "execution_count": 7
        }
      ],
      "source": [
        "X.shape, y.shape"
      ]
    },
    {
      "cell_type": "code",
      "source": [
        "X_train, X_test, y_train, y_test = train_test_split(X, y, test_size=1/3)\n",
        "X_train.shape, X_test.shape"
      ],
      "metadata": {
        "colab": {
          "base_uri": "https://localhost:8080/"
        },
        "id": "GFCUe_0UdDVZ",
        "outputId": "ab3a7f00-4429-4a94-8983-97e82b8c723b"
      },
      "execution_count": null,
      "outputs": [
        {
          "output_type": "execute_result",
          "data": {
            "text/plain": [
              "((455, 9), (228, 9))"
            ]
          },
          "metadata": {},
          "execution_count": 8
        }
      ]
    },
    {
      "cell_type": "markdown",
      "source": [
        "Primero miraremos la precisión de este método para este conjunto de datos."
      ],
      "metadata": {
        "id": "W9mJkdfIxqf5"
      }
    },
    {
      "cell_type": "code",
      "source": [
        "kNN = KNeighborsClassifier(n_neighbors = 3)\n",
        "kNN = kNN.fit(X_train,y_train)\n",
        "y_dash = kNN.predict(X_test)\n",
        "print(\"Precisión:\")\n",
        "accuracy_score(y_test, y_dash)"
      ],
      "metadata": {
        "colab": {
          "base_uri": "https://localhost:8080/"
        },
        "id": "M3xYPiEzc7SU",
        "outputId": "6c6e5d40-88d0-4dcc-b6f9-41949902ce0f"
      },
      "execution_count": null,
      "outputs": [
        {
          "output_type": "stream",
          "name": "stdout",
          "text": [
            "Precisión:\n"
          ]
        },
        {
          "output_type": "execute_result",
          "data": {
            "text/plain": [
              "0.9780701754385965"
            ]
          },
          "metadata": {},
          "execution_count": 9
        }
      ]
    },
    {
      "cell_type": "markdown",
      "source": [
        "#### <font color= #4CC9F0 >Matriz de confusión"
      ],
      "metadata": {
        "id": "0SV970pScNHp"
      }
    },
    {
      "cell_type": "code",
      "source": [
        "from sklearn.metrics import confusion_matrix\n",
        "cm = confusion_matrix(y_test, y_dash)\n",
        "%matplotlib inline\n",
        "import matplotlib.pyplot as plt\n",
        "import seaborn as sn\n",
        "plt.figure(figsize=(7,5))\n",
        "sn.heatmap(cm, annot=True)\n",
        "plt.xlabel('Predicted')\n",
        "plt.ylabel('Truth')"
      ],
      "metadata": {
        "colab": {
          "base_uri": "https://localhost:8080/",
          "height": 352
        },
        "id": "2Bi53pj3wvi3",
        "outputId": "b91cfa24-5c0c-43c2-809f-14cbc52e420e"
      },
      "execution_count": null,
      "outputs": [
        {
          "output_type": "execute_result",
          "data": {
            "text/plain": [
              "Text(42.0, 0.5, 'Truth')"
            ]
          },
          "metadata": {},
          "execution_count": 10
        },
        {
          "output_type": "display_data",
          "data": {
            "text/plain": [
              "<Figure size 504x360 with 2 Axes>"
            ],
            "image/png": "[encoded data removed]"
          },
          "metadata": {
            "needs_background": "light"
          }
        }
      ]
    },
    {
      "cell_type": "code",
      "source": [
        "from sklearn.metrics import classification_report\n",
        "print(classification_report(y_test, y_dash))"
      ],
      "metadata": {
        "colab": {
          "base_uri": "https://localhost:8080/"
        },
        "id": "yvJnRNZQd9cS",
        "outputId": "3b65c34d-b77a-43a3-aa42-d24853f04751"
      },
      "execution_count": null,
      "outputs": [
        {
          "output_type": "stream",
          "name": "stdout",
          "text": [
            "              precision    recall  f1-score   support\n",
            "\n",
            "           2       0.97      1.00      0.98       156\n",
            "           4       1.00      0.93      0.96        72\n",
            "\n",
            "    accuracy                           0.98       228\n",
            "   macro avg       0.98      0.97      0.97       228\n",
            "weighted avg       0.98      0.98      0.98       228\n",
            "\n"
          ]
        }
      ]
    },
    {
      "cell_type": "code",
      "source": [
        "print(y_test[:35])\n",
        "print(y_dash[:35])"
      ],
      "metadata": {
        "colab": {
          "base_uri": "https://localhost:8080/"
        },
        "id": "Z0bsM237wOow",
        "outputId": "b5ff8c11-ed22-40af-c2f7-62e89d27a637"
      },
      "execution_count": null,
      "outputs": [
        {
          "output_type": "stream",
          "name": "stdout",
          "text": [
            "[4 2 2 4 4 4 2 2 4 2 2 2 2 2 2 2 4 2 2 2 2 2 2 4 2 2 4 4 4 2 4 2 2 2 2]\n",
            "[4 2 2 4 4 4 2 2 4 2 2 2 2 2 2 2 4 2 2 2 2 2 2 4 2 2 4 4 4 2 4 2 2 2 2]\n"
          ]
        }
      ]
    },
    {
      "cell_type": "markdown",
      "source": [
        "Como se puede observar, los datos coinciden casi en su totalidad con los valores reales. Esto se puede deber a la buena precisión que se encontró anteriormente."
      ],
      "metadata": {
        "id": "pT7jlgAgxxAM"
      }
    },
    {
      "cell_type": "markdown",
      "source": [
        "### <font color= #4CC9F0 >Ejemplo de dígitos escritos a mano del MNIST"
      ],
      "metadata": {
        "id": "MtJnYQx26diI"
      }
    },
    {
      "cell_type": "markdown",
      "source": [
        "Este conjunto de datos se encuentra disponible en [Kaggle](https://www.kaggle.com/competitions/digit-recognizer/data), tiene un conjunto de entrenamiento de 60000 ejemplos y un conjunto de prueba de 10000 ejemplos."
      ],
      "metadata": {
        "id": "bS2J7U2WrrUU"
      }
    },
    {
      "cell_type": "markdown",
      "source": [
        "#### <font color= #4CC9F0 > Importación de librerías"
      ],
      "metadata": {
        "id": "My5fnTA0CnOt"
      }
    },
    {
      "cell_type": "code",
      "source": [
        "from sklearn.model_selection import train_test_split\n",
        "from sklearn.neighbors import KNeighborsClassifier as knn\n",
        "from sklearn import metrics\n",
        "from sklearn import datasets\n",
        "import pandas as pd\n",
        "import numpy as np"
      ],
      "metadata": {
        "id": "0tEGGD3isaSh"
      },
      "execution_count": null,
      "outputs": []
    },
    {
      "cell_type": "code",
      "source": [
        "df = pd.read_csv('/content/drive/Shareddrives/Mineria/train.csv')"
      ],
      "metadata": {
        "id": "2kSO50Bwshlm"
      },
      "execution_count": null,
      "outputs": []
    },
    {
      "cell_type": "code",
      "source": [
        "X_T=df[df.columns[1:]]"
      ],
      "metadata": {
        "id": "GaIQiIu7tQ0D"
      },
      "execution_count": null,
      "outputs": []
    },
    {
      "cell_type": "code",
      "source": [
        "X_T.head()"
      ],
      "metadata": {
        "colab": {
          "base_uri": "https://localhost:8080/",
          "height": 300
        },
        "id": "YQQpjD5QtaU8",
        "outputId": "db96444e-b62e-4ae7-eabd-b04524c543be",
        "collapsed": true
      },
      "execution_count": null,
      "outputs": [
        {
          "output_type": "execute_result",
          "data": {
            "text/plain": [
              "   pixel0  pixel1  pixel2  pixel3  pixel4  pixel5  pixel6  pixel7  pixel8  \\\n",
              "0       0       0       0       0       0       0       0       0       0   \n",
              "1       0       0       0       0       0       0       0       0       0   \n",
              "2       0       0       0       0       0       0       0       0       0   \n",
              "3       0       0       0       0       0       0       0       0       0   \n",
              "4       0       0       0       0       0       0       0       0       0   \n",
              "\n",
              "   pixel9  ...  pixel774  pixel775  pixel776  pixel777  pixel778  pixel779  \\\n",
              "0       0  ...         0         0         0         0         0         0   \n",
              "1       0  ...         0         0         0         0         0         0   \n",
              "2       0  ...         0         0         0         0         0         0   \n",
              "3       0  ...         0         0         0         0         0         0   \n",
              "4       0  ...         0         0         0         0         0         0   \n",
              "\n",
              "   pixel780  pixel781  pixel782  pixel783  \n",
              "0         0         0         0         0  \n",
              "1         0         0         0         0  \n",
              "2         0         0         0         0  \n",
              "3         0         0         0         0  \n",
              "4         0         0         0         0  \n",
              "\n",
              "[5 rows x 784 columns]"
            ],
            "text/html": [
              "\n",
              "  <div id=\"df-1ce1d7fa-0b41-473e-98b9-7dbe2952c2db\">\n",
              "    <div class=\"colab-df-container\">\n",
              "      <div>\n",
              "<style scoped>\n",
              "    .dataframe tbody tr th:only-of-type {\n",
              "        vertical-align: middle;\n",
              "    }\n",
              "\n",
              "    .dataframe tbody tr th {\n",
              "        vertical-align: top;\n",
              "    }\n",
              "\n",
              "    .dataframe thead th {\n",
              "        text-align: right;\n",
              "    }\n",
              "</style>\n",
              "<table border=\"1\" class=\"dataframe\">\n",
              "  <thead>\n",
              "    <tr style=\"text-align: right;\">\n",
              "      <th></th>\n",
              "      <th>pixel0</th>\n",
              "      <th>pixel1</th>\n",
              "      <th>pixel2</th>\n",
              "      <th>pixel3</th>\n",
              "      <th>pixel4</th>\n",
              "      <th>pixel5</th>\n",
              "      <th>pixel6</th>\n",
              "      <th>pixel7</th>\n",
              "      <th>pixel8</th>\n",
              "      <th>pixel9</th>\n",
              "      <th>...</th>\n",
              "      <th>pixel774</th>\n",
              "      <th>pixel775</th>\n",
              "      <th>pixel776</th>\n",
              "      <th>pixel777</th>\n",
              "      <th>pixel778</th>\n",
              "      <th>pixel779</th>\n",
              "      <th>pixel780</th>\n",
              "      <th>pixel781</th>\n",
              "      <th>pixel782</th>\n",
              "      <th>pixel783</th>\n",
              "    </tr>\n",
              "  </thead>\n",
              "  <tbody>\n",
              "    <tr>\n",
              "      <th>0</th>\n",
              "      <td>0</td>\n",
              "      <td>0</td>\n",
              "      <td>0</td>\n",
              "      <td>0</td>\n",
              "      <td>0</td>\n",
              "      <td>0</td>\n",
              "      <td>0</td>\n",
              "      <td>0</td>\n",
              "      <td>0</td>\n",
              "      <td>0</td>\n",
              "      <td>...</td>\n",
              "      <td>0</td>\n",
              "      <td>0</td>\n",
              "      <td>0</td>\n",
              "      <td>0</td>\n",
              "      <td>0</td>\n",
              "      <td>0</td>\n",
              "      <td>0</td>\n",
              "      <td>0</td>\n",
              "      <td>0</td>\n",
              "      <td>0</td>\n",
              "    </tr>\n",
              "    <tr>\n",
              "      <th>1</th>\n",
              "      <td>0</td>\n",
              "      <td>0</td>\n",
              "      <td>0</td>\n",
              "      <td>0</td>\n",
              "      <td>0</td>\n",
              "      <td>0</td>\n",
              "      <td>0</td>\n",
              "      <td>0</td>\n",
              "      <td>0</td>\n",
              "      <td>0</td>\n",
              "      <td>...</td>\n",
              "      <td>0</td>\n",
              "      <td>0</td>\n",
              "      <td>0</td>\n",
              "      <td>0</td>\n",
              "      <td>0</td>\n",
              "      <td>0</td>\n",
              "      <td>0</td>\n",
              "      <td>0</td>\n",
              "      <td>0</td>\n",
              "      <td>0</td>\n",
              "    </tr>\n",
              "    <tr>\n",
              "      <th>2</th>\n",
              "      <td>0</td>\n",
              "      <td>0</td>\n",
              "      <td>0</td>\n",
              "      <td>0</td>\n",
              "      <td>0</td>\n",
              "      <td>0</td>\n",
              "      <td>0</td>\n",
              "      <td>0</td>\n",
              "      <td>0</td>\n",
              "      <td>0</td>\n",
              "      <td>...</td>\n",
              "      <td>0</td>\n",
              "      <td>0</td>\n",
              "      <td>0</td>\n",
              "      <td>0</td>\n",
              "      <td>0</td>\n",
              "      <td>0</td>\n",
              "      <td>0</td>\n",
              "      <td>0</td>\n",
              "      <td>0</td>\n",
              "      <td>0</td>\n",
              "    </tr>\n",
              "    <tr>\n",
              "      <th>3</th>\n",
              "      <td>0</td>\n",
              "      <td>0</td>\n",
              "      <td>0</td>\n",
              "      <td>0</td>\n",
              "      <td>0</td>\n",
              "      <td>0</td>\n",
              "      <td>0</td>\n",
              "      <td>0</td>\n",
              "      <td>0</td>\n",
              "      <td>0</td>\n",
              "      <td>...</td>\n",
              "      <td>0</td>\n",
              "      <td>0</td>\n",
              "      <td>0</td>\n",
              "      <td>0</td>\n",
              "      <td>0</td>\n",
              "      <td>0</td>\n",
              "      <td>0</td>\n",
              "      <td>0</td>\n",
              "      <td>0</td>\n",
              "      <td>0</td>\n",
              "    </tr>\n",
              "    <tr>\n",
              "      <th>4</th>\n",
              "      <td>0</td>\n",
              "      <td>0</td>\n",
              "      <td>0</td>\n",
              "      <td>0</td>\n",
              "      <td>0</td>\n",
              "      <td>0</td>\n",
              "      <td>0</td>\n",
              "      <td>0</td>\n",
              "      <td>0</td>\n",
              "      <td>0</td>\n",
              "      <td>...</td>\n",
              "      <td>0</td>\n",
              "      <td>0</td>\n",
              "      <td>0</td>\n",
              "      <td>0</td>\n",
              "      <td>0</td>\n",
              "      <td>0</td>\n",
              "      <td>0</td>\n",
              "      <td>0</td>\n",
              "      <td>0</td>\n",
              "      <td>0</td>\n",
              "    </tr>\n",
              "  </tbody>\n",
              "</table>\n",
              "<p>5 rows × 784 columns</p>\n",
              "</div>\n",
              "      <button class=\"colab-df-convert\" onclick=\"convertToInteractive('df-1ce1d7fa-0b41-473e-98b9-7dbe2952c2db')\"\n",
              "              title=\"Convert this dataframe to an interactive table.\"\n",
              "              style=\"display:none;\">\n",
              "        \n",
              "  <svg xmlns=\"http://www.w3.org/2000/svg\" height=\"24px\"viewBox=\"0 0 24 24\"\n",
              "       width=\"24px\">\n",
              "    <path d=\"M0 0h24v24H0V0z\" fill=\"none\"/>\n",
              "    <path d=\"M18.56 5.44l.94 2.06.94-2.06 2.06-.94-2.06-.94-.94-2.06-.94 2.06-2.06.94zm-11 1L8.5 8.5l.94-2.06 2.06-.94-2.06-.94L8.5 2.5l-.94 2.06-2.06.94zm10 10l.94 2.06.94-2.06 2.06-.94-2.06-.94-.94-2.06-.94 2.06-2.06.94z\"/><path d=\"M17.41 7.96l-1.37-1.37c-.4-.4-.92-.59-1.43-.59-.52 0-1.04.2-1.43.59L10.3 9.45l-7.72 7.72c-.78.78-.78 2.05 0 2.83L4 21.41c.39.39.9.59 1.41.59.51 0 1.02-.2 1.41-.59l7.78-7.78 2.81-2.81c.8-.78.8-2.07 0-2.86zM5.41 20L4 18.59l7.72-7.72 1.47 1.35L5.41 20z\"/>\n",
              "  </svg>\n",
              "      </button>\n",
              "      \n",
              "  <style>\n",
              "    .colab-df-container {\n",
              "      display:flex;\n",
              "      flex-wrap:wrap;\n",
              "      gap: 12px;\n",
              "    }\n",
              "\n",
              "    .colab-df-convert {\n",
              "      background-color: #E8F0FE;\n",
              "      border: none;\n",
              "      border-radius: 50%;\n",
              "      cursor: pointer;\n",
              "      display: none;\n",
              "      fill: #1967D2;\n",
              "      height: 32px;\n",
              "      padding: 0 0 0 0;\n",
              "      width: 32px;\n",
              "    }\n",
              "\n",
              "    .colab-df-convert:hover {\n",
              "      background-color: #E2EBFA;\n",
              "      box-shadow: 0px 1px 2px rgba(60, 64, 67, 0.3), 0px 1px 3px 1px rgba(60, 64, 67, 0.15);\n",
              "      fill: #174EA6;\n",
              "    }\n",
              "\n",
              "    [theme=dark] .colab-df-convert {\n",
              "      background-color: #3B4455;\n",
              "      fill: #D2E3FC;\n",
              "    }\n",
              "\n",
              "    [theme=dark] .colab-df-convert:hover {\n",
              "      background-color: #434B5C;\n",
              "      box-shadow: 0px 1px 3px 1px rgba(0, 0, 0, 0.15);\n",
              "      filter: drop-shadow(0px 1px 2px rgba(0, 0, 0, 0.3));\n",
              "      fill: #FFFFFF;\n",
              "    }\n",
              "  </style>\n",
              "\n",
              "      <script>\n",
              "        const buttonEl =\n",
              "          document.querySelector('#df-1ce1d7fa-0b41-473e-98b9-7dbe2952c2db button.colab-df-convert');\n",
              "        buttonEl.style.display =\n",
              "          google.colab.kernel.accessAllowed ? 'block' : 'none';\n",
              "\n",
              "        async function convertToInteractive(key) {\n",
              "          const element = document.querySelector('#df-1ce1d7fa-0b41-473e-98b9-7dbe2952c2db');\n",
              "          const dataTable =\n",
              "            await google.colab.kernel.invokeFunction('convertToInteractive',\n",
              "                                                     [key], {});\n",
              "          if (!dataTable) return;\n",
              "\n",
              "          const docLinkHtml = 'Like what you see? Visit the ' +\n",
              "            '<a target=\"_blank\" href=https://colab.research.google.com/notebooks/data_table.ipynb>data table notebook</a>'\n",
              "            + ' to learn more about interactive tables.';\n",
              "          element.innerHTML = '';\n",
              "          dataTable['output_type'] = 'display_data';\n",
              "          await google.colab.output.renderOutput(dataTable, element);\n",
              "          const docLink = document.createElement('div');\n",
              "          docLink.innerHTML = docLinkHtml;\n",
              "          element.appendChild(docLink);\n",
              "        }\n",
              "      </script>\n",
              "    </div>\n",
              "  </div>\n",
              "  "
            ]
          },
          "metadata": {},
          "execution_count": 120
        }
      ]
    },
    {
      "cell_type": "code",
      "source": [
        "Y_T = df.label"
      ],
      "metadata": {
        "id": "_1Lum4cvsoHO"
      },
      "execution_count": null,
      "outputs": []
    },
    {
      "cell_type": "code",
      "source": [
        "import matplotlib.pyplot as plt\n",
        "import seaborn as sns\n",
        "import tensorflow as tf\n",
        "from tensorflow.keras.models import Model\n",
        "from tensorflow.keras.layers import Dense, Input, Activation, Dropout\n",
        "from tensorflow.keras.utils import to_categorical\n",
        "from tensorflow.keras.utils import plot_model\n",
        "from sklearn.preprocessing import StandardScaler\n",
        "from sklearn.metrics import confusion_matrix"
      ],
      "metadata": {
        "id": "eyDfy7RIIpq8"
      },
      "execution_count": null,
      "outputs": []
    },
    {
      "cell_type": "markdown",
      "source": [
        "#### <font color= #4CC9F0 > Entrenamiento y prueba."
      ],
      "metadata": {
        "id": "gWG1_6Teaq9d"
      }
    },
    {
      "cell_type": "code",
      "source": [
        "X=X_T\n",
        "y=df[\"label\"]\n",
        "\n",
        "X_tr, X_ts, y_tr, y_ts = train_test_split(X,y,test_size=0.2)"
      ],
      "metadata": {
        "id": "3t2Zx0Hyz29O"
      },
      "execution_count": null,
      "outputs": []
    },
    {
      "cell_type": "markdown",
      "source": [
        "#### <font color= #4CC9F0 > TSNE"
      ],
      "metadata": {
        "id": "potQf2r4CVqd"
      }
    },
    {
      "cell_type": "markdown",
      "source": [
        "\n",
        "TSNE es un algoritmo para reduccir la dimensión de los datos de grandes dimensionalidades. Y así poder tenerlos en un hiperplano."
      ],
      "metadata": {
        "id": "kb0kEHXWa0xV"
      }
    },
    {
      "cell_type": "code",
      "source": [
        "inputs = Input(shape=(784,),name='capa_entrada')\n",
        "\n",
        "x = Activation('relu')(inputs)\n",
        "x = Dense(8, activation='relu',name='primera_capa_oculta')(x)\n",
        "x = Dropout(0.2)(x)\n",
        "x = Dense(16, activation='relu', name='segunda_capa_oculta')(x)\n",
        "x = Dropout(0.2)(x)\n",
        "outputs = Dense(3, activation='softmax', name='capa_salida')(x)\n",
        "\n",
        "# Creamos ahora el modelo\n",
        "Digitos = Model(inputs=inputs, outputs=outputs)\n",
        "\n",
        "Digitos.summary()"
      ],
      "metadata": {
        "colab": {
          "base_uri": "https://localhost:8080/"
        },
        "id": "gUCkYh6CJteR",
        "outputId": "95c24c8a-7521-4550-db43-3c332e5a931f",
        "collapsed": true
      },
      "execution_count": null,
      "outputs": [
        {
          "output_type": "stream",
          "name": "stdout",
          "text": [
            "Model: \"model_4\"\n",
            "_________________________________________________________________\n",
            " Layer (type)                Output Shape              Param #   \n",
            "=================================================================\n",
            " capa_entrada (InputLayer)   [(None, 784)]             0         \n",
            "                                                                 \n",
            " activation_4 (Activation)   (None, 784)               0         \n",
            "                                                                 \n",
            " primera_capa_oculta (Dense)  (None, 8)                6280      \n",
            "                                                                 \n",
            " dropout_8 (Dropout)         (None, 8)                 0         \n",
            "                                                                 \n",
            " segunda_capa_oculta (Dense)  (None, 16)               144       \n",
            "                                                                 \n",
            " dropout_9 (Dropout)         (None, 16)                0         \n",
            "                                                                 \n",
            " capa_salida (Dense)         (None, 3)                 51        \n",
            "                                                                 \n",
            "=================================================================\n",
            "Total params: 6,475\n",
            "Trainable params: 6,475\n",
            "Non-trainable params: 0\n",
            "_________________________________________________________________\n"
          ]
        }
      ]
    },
    {
      "cell_type": "markdown",
      "source": [
        "#### <font color= #4CC9F0 > Compila"
      ],
      "metadata": {
        "id": "do_N2xOOB_UD"
      }
    },
    {
      "cell_type": "code",
      "source": [
        "Digitos.compile(optimizer='adam',\n",
        "    loss='categorical_crossentropy',\n",
        "    metrics=['accuracy']\n",
        ")"
      ],
      "metadata": {
        "id": "m_LiPGN5KEVp"
      },
      "execution_count": null,
      "outputs": []
    },
    {
      "cell_type": "markdown",
      "source": [
        "#### <font color= #4CC9F0 > Entrena"
      ],
      "metadata": {
        "id": "QlSk3CdOCFh8"
      }
    },
    {
      "cell_type": "code",
      "source": [
        "class PrintDot(tf.keras.callbacks.Callback):\n",
        "    def on_epoch_end(self, epoch, logs):\n",
        "        print('.', end='')\n",
        "\n",
        "epochs = 200"
      ],
      "metadata": {
        "id": "s5TaVq8DKG64"
      },
      "execution_count": null,
      "outputs": []
    },
    {
      "cell_type": "code",
      "source": [
        "X_tr=pd.DataFrame(X_tr)\n",
        "y_tr=pd.DataFrame(y_tr)"
      ],
      "metadata": {
        "id": "oKi58gBnMWEb"
      },
      "execution_count": null,
      "outputs": []
    },
    {
      "cell_type": "markdown",
      "source": [
        "#### <font color= #4CC9F0 > Predicciones"
      ],
      "metadata": {
        "id": "FAS8zH4WC3iU"
      }
    },
    {
      "cell_type": "code",
      "source": [
        "# Predicting the Test set results\n",
        "y_pred = Digitos.predict(X_ts)\n",
        "y_pred_c = np.argmax(y_pred, axis=1)\n"
      ],
      "metadata": {
        "colab": {
          "base_uri": "https://localhost:8080/"
        },
        "id": "732aCljsKKKF",
        "outputId": "16eb603f-4737-4a9b-d6ce-02103139c9f9",
        "collapsed": true
      },
      "execution_count": null,
      "outputs": [
        {
          "output_type": "stream",
          "name": "stdout",
          "text": [
            "263/263 [==============================] - 1s 2ms/step\n"
          ]
        }
      ]
    },
    {
      "cell_type": "markdown",
      "source": [
        "#### <font color= #4CC9F0 > Exploración interna de la red"
      ],
      "metadata": {
        "id": "f_KRW13SDDHy"
      }
    },
    {
      "cell_type": "markdown",
      "source": [
        "Cálculo de la salida de los datos de entrenamiento"
      ],
      "metadata": {
        "id": "DgSgkbG6DF3q"
      }
    },
    {
      "cell_type": "code",
      "source": [
        "inputs = X_tr\n",
        "outputs = Digitos(inputs)\n",
        "outputs.numpy().round(2)[:10]"
      ],
      "metadata": {
        "colab": {
          "base_uri": "https://localhost:8080/"
        },
        "id": "CVFd152EN4iF",
        "outputId": "2e26bcbf-a365-4b4c-966d-7e2519282004",
        "collapsed": true
      },
      "execution_count": null,
      "outputs": [
        {
          "output_type": "execute_result",
          "data": {
            "text/plain": [
              "array([[1.  , 0.  , 0.  ],\n",
              "       [1.  , 0.  , 0.  ],\n",
              "       [0.01, 0.  , 0.99],\n",
              "       [0.1 , 0.9 , 0.  ],\n",
              "       [1.  , 0.  , 0.  ],\n",
              "       [1.  , 0.  , 0.  ],\n",
              "       [1.  , 0.  , 0.  ],\n",
              "       [0.  , 1.  , 0.  ],\n",
              "       [1.  , 0.  , 0.  ],\n",
              "       [0.5 , 0.  , 0.5 ]], dtype=float32)"
            ]
          },
          "metadata": {},
          "execution_count": 153
        }
      ]
    },
    {
      "cell_type": "markdown",
      "source": [
        "Extrae la segunda capa oculta para estos datos"
      ],
      "metadata": {
        "id": "SeT9TXebDIuG"
      }
    },
    {
      "cell_type": "code",
      "source": [
        "inputs = X_tr\n",
        "model = Model(Digitos.input, Digitos.get_layer(name='segunda_capa_oculta').output)\n",
        "model.compile()\n",
        "output = model.predict(inputs)"
      ],
      "metadata": {
        "colab": {
          "base_uri": "https://localhost:8080/"
        },
        "id": "y5dg7PVHN-GT",
        "outputId": "5a2a8a29-49d2-4f15-cc8f-6f5626816ba2",
        "collapsed": true
      },
      "execution_count": null,
      "outputs": [
        {
          "output_type": "stream",
          "name": "stdout",
          "text": [
            "1050/1050 [==============================] - 2s 1ms/step\n"
          ]
        }
      ]
    },
    {
      "cell_type": "markdown",
      "source": [
        "Crea tabla de datos para hacer un gráfico tsne"
      ],
      "metadata": {
        "id": "N4KCtuaZDTvM"
      }
    },
    {
      "cell_type": "code",
      "source": [
        "plot_data = np.hstack([output, np.array(y_tr).reshape(y_tr.shape[0],1)])\n",
        "plot_data = pd.DataFrame(plot_data)"
      ],
      "metadata": {
        "id": "P6wySEZuIFK7"
      },
      "execution_count": null,
      "outputs": []
    },
    {
      "cell_type": "code",
      "source": [
        "from sklearn.manifold import TSNE\n",
        "\n",
        "# reduce dimensionalidad con t-sne\n",
        "tsne = TSNE(n_components=2, verbose=1, perplexity=50, n_iter=1000, learning_rate=200)\n",
        "tsne_results = tsne.fit_transform(output)"
      ],
      "metadata": {
        "colab": {
          "base_uri": "https://localhost:8080/"
        },
        "id": "8TNJ4gAsOO_7",
        "outputId": "75082c27-39f3-4e1d-aef2-86fd1d89f10d",
        "collapsed": true
      },
      "execution_count": null,
      "outputs": [
        {
          "output_type": "stream",
          "name": "stderr",
          "text": [
            "/usr/local/lib/python3.7/dist-packages/sklearn/manifold/_t_sne.py:783: FutureWarning:\n",
            "\n",
            "The default initialization in TSNE will change from 'random' to 'pca' in 1.2.\n",
            "\n"
          ]
        },
        {
          "output_type": "stream",
          "name": "stdout",
          "text": [
            "[t-SNE] Computing 151 nearest neighbors...\n",
            "[t-SNE] Indexed 33600 samples in 0.001s...\n",
            "[t-SNE] Computed neighbors for 33600 samples in 37.381s...\n",
            "[t-SNE] Computed conditional probabilities for sample 1000 / 33600\n",
            "[t-SNE] Computed conditional probabilities for sample 2000 / 33600\n",
            "[t-SNE] Computed conditional probabilities for sample 3000 / 33600\n",
            "[t-SNE] Computed conditional probabilities for sample 4000 / 33600\n",
            "[t-SNE] Computed conditional probabilities for sample 5000 / 33600\n",
            "[t-SNE] Computed conditional probabilities for sample 6000 / 33600\n",
            "[t-SNE] Computed conditional probabilities for sample 7000 / 33600\n",
            "[t-SNE] Computed conditional probabilities for sample 8000 / 33600\n",
            "[t-SNE] Computed conditional probabilities for sample 9000 / 33600\n",
            "[t-SNE] Computed conditional probabilities for sample 10000 / 33600\n",
            "[t-SNE] Computed conditional probabilities for sample 11000 / 33600\n",
            "[t-SNE] Computed conditional probabilities for sample 12000 / 33600\n",
            "[t-SNE] Computed conditional probabilities for sample 13000 / 33600\n",
            "[t-SNE] Computed conditional probabilities for sample 14000 / 33600\n",
            "[t-SNE] Computed conditional probabilities for sample 15000 / 33600\n",
            "[t-SNE] Computed conditional probabilities for sample 16000 / 33600\n",
            "[t-SNE] Computed conditional probabilities for sample 17000 / 33600\n",
            "[t-SNE] Computed conditional probabilities for sample 18000 / 33600\n",
            "[t-SNE] Computed conditional probabilities for sample 19000 / 33600\n",
            "[t-SNE] Computed conditional probabilities for sample 20000 / 33600\n",
            "[t-SNE] Computed conditional probabilities for sample 21000 / 33600\n",
            "[t-SNE] Computed conditional probabilities for sample 22000 / 33600\n",
            "[t-SNE] Computed conditional probabilities for sample 23000 / 33600\n",
            "[t-SNE] Computed conditional probabilities for sample 24000 / 33600\n",
            "[t-SNE] Computed conditional probabilities for sample 25000 / 33600\n",
            "[t-SNE] Computed conditional probabilities for sample 26000 / 33600\n",
            "[t-SNE] Computed conditional probabilities for sample 27000 / 33600\n",
            "[t-SNE] Computed conditional probabilities for sample 28000 / 33600\n",
            "[t-SNE] Computed conditional probabilities for sample 29000 / 33600\n",
            "[t-SNE] Computed conditional probabilities for sample 30000 / 33600\n",
            "[t-SNE] Computed conditional probabilities for sample 31000 / 33600\n",
            "[t-SNE] Computed conditional probabilities for sample 32000 / 33600\n",
            "[t-SNE] Computed conditional probabilities for sample 33000 / 33600\n",
            "[t-SNE] Computed conditional probabilities for sample 33600 / 33600\n",
            "[t-SNE] Mean sigma: 0.000000\n",
            "[t-SNE] KL divergence after 250 iterations with early exaggeration: 86.758804\n",
            "[t-SNE] KL divergence after 1000 iterations: 1.675305\n"
          ]
        }
      ]
    },
    {
      "cell_type": "markdown",
      "source": [
        "##### Grafico"
      ],
      "metadata": {
        "id": "n8f7tjyzDhIM"
      }
    },
    {
      "cell_type": "code",
      "source": [
        "YT=['0','1','2','3','4','5','6','7','8','9']"
      ],
      "metadata": {
        "id": "wBXVrW52R43Q"
      },
      "execution_count": null,
      "outputs": []
    },
    {
      "cell_type": "code",
      "source": [
        "labels = [YT[i] for i in y_tr['label']]"
      ],
      "metadata": {
        "id": "AvXhM3y8Qaa2"
      },
      "execution_count": null,
      "outputs": []
    },
    {
      "cell_type": "code",
      "source": [
        "df_tsne = pd.DataFrame(tsne_results, columns=['x', 'y'])\n",
        "df_tsne['label'] = labels\n",
        "sns.lmplot(x='x', y='y', data=df_tsne, hue='label', fit_reg=False)"
      ],
      "metadata": {
        "colab": {
          "base_uri": "https://localhost:8080/",
          "height": 386
        },
        "id": "LGcYTcsDOTMU",
        "outputId": "4bea05d1-9db2-40f9-d3da-e9c7b7497eab"
      },
      "execution_count": null,
      "outputs": [
        {
          "output_type": "execute_result",
          "data": {
            "text/plain": [
              "<seaborn.axisgrid.FacetGrid at 0x7fa69d047250>"
            ]
          },
          "metadata": {},
          "execution_count": 186
        },
        {
          "output_type": "display_data",
          "data": {
            "text/plain": [
              "<Figure size 402.375x360 with 1 Axes>"
            ],
            "image/png": "[encoded data removed]"
          },
          "metadata": {
            "needs_background": "light"
          }
        }
      ]
    },
    {
      "cell_type": "markdown",
      "source": [
        "#### <font color= #4CC9F0 > Definir y entrenar el modelo"
      ],
      "metadata": {
        "id": "pqUUL72PFRD0"
      }
    },
    {
      "cell_type": "code",
      "source": [
        "from sklearn.metrics.pairwise import manhattan_distances\n",
        "## Definir numero de vecinos y distancia\n",
        "KNN = knn(n_neighbors=41, p=2)\n",
        "#Entrenar el modelo\n",
        "KNN.fit(X_tr, y_tr)"
      ],
      "metadata": {
        "colab": {
          "base_uri": "https://localhost:8080/"
        },
        "id": "WciEjLRwuGb0",
        "outputId": "ba187712-5eb0-4c51-c985-a320e61f4440",
        "collapsed": true
      },
      "execution_count": null,
      "outputs": [
        {
          "output_type": "execute_result",
          "data": {
            "text/plain": [
              "KNeighborsClassifier(n_neighbors=41)"
            ]
          },
          "metadata": {},
          "execution_count": 76
        }
      ]
    },
    {
      "cell_type": "markdown",
      "source": [
        "#### <font color= #4CC9F0 > Predicciones"
      ],
      "metadata": {
        "id": "yvWe-puyFfum"
      }
    },
    {
      "cell_type": "code",
      "source": [
        "y_pr = KNN.predict(X_ts)"
      ],
      "metadata": {
        "id": "tJw_sBJOuHDz"
      },
      "execution_count": null,
      "outputs": []
    },
    {
      "cell_type": "markdown",
      "source": [
        "#### <font color= #4CC9F0 > Matriz de confusión"
      ],
      "metadata": {
        "id": "q97VbqQzc306"
      }
    },
    {
      "cell_type": "code",
      "source": [
        "from sklearn.metrics import confusion_matrix\n",
        "cm = confusion_matrix(y_ts, y_pr)"
      ],
      "metadata": {
        "id": "7j96bTzRuIjC"
      },
      "execution_count": null,
      "outputs": []
    },
    {
      "cell_type": "code",
      "source": [
        "%matplotlib inline\n",
        "import matplotlib.pyplot as plt\n",
        "import seaborn as sn\n",
        "plt.figure(figsize=(12,8))\n",
        "sn.heatmap(cm, annot=True)\n",
        "plt.xlabel('Predicted')\n",
        "plt.ylabel('Truth')"
      ],
      "metadata": {
        "colab": {
          "base_uri": "https://localhost:8080/",
          "height": 518
        },
        "id": "mB1PyZgruJyJ",
        "outputId": "edbeca9f-0b74-433a-e0bd-76e09f1b8787"
      },
      "execution_count": null,
      "outputs": [
        {
          "output_type": "execute_result",
          "data": {
            "text/plain": [
              "Text(87.0, 0.5, 'Truth')"
            ]
          },
          "metadata": {},
          "execution_count": 83
        },
        {
          "output_type": "display_data",
          "data": {
            "text/plain": [
              "<Figure size 864x576 with 2 Axes>"
            ],
            "image/png": "[encoded data removed]"
          },
          "metadata": {
            "needs_background": "light"
          }
        }
      ]
    },
    {
      "cell_type": "markdown",
      "source": [
        "##### <font color= #4CC9F0 >Precisión del modelo"
      ],
      "metadata": {
        "id": "d7996w98Fuvm"
      }
    },
    {
      "cell_type": "code",
      "source": [
        "print(\"Accuracy:\",metrics.accuracy_score(y_ts, y_pr))"
      ],
      "metadata": {
        "colab": {
          "base_uri": "https://localhost:8080/"
        },
        "id": "-_JIUmTQuLS-",
        "outputId": "69927f95-3c10-4140-f42d-0647a1ae10ca"
      },
      "execution_count": null,
      "outputs": [
        {
          "output_type": "stream",
          "name": "stdout",
          "text": [
            "Accuracy: 0.9111111111111111\n"
          ]
        }
      ]
    },
    {
      "cell_type": "code",
      "source": [
        "from sklearn.metrics import classification_report\n",
        "print(classification_report(y_ts, y_pr))"
      ],
      "metadata": {
        "colab": {
          "base_uri": "https://localhost:8080/"
        },
        "id": "cV7JlCbNuOCb",
        "outputId": "eb9f6e1d-c95d-455b-c34f-2e3dc54eba56"
      },
      "execution_count": null,
      "outputs": [
        {
          "output_type": "stream",
          "name": "stdout",
          "text": [
            "              precision    recall  f1-score   support\n",
            "\n",
            "           0       0.92      0.98      0.95       899\n",
            "           1       0.86      0.99      0.92       913\n",
            "           2       0.96      0.85      0.90       900\n",
            "           3       0.89      0.91      0.90       899\n",
            "           4       0.93      0.89      0.91       866\n",
            "           5       0.90      0.89      0.90       809\n",
            "           6       0.94      0.95      0.94       892\n",
            "           7       0.91      0.90      0.90       900\n",
            "           8       0.96      0.86      0.90       855\n",
            "           9       0.87      0.90      0.88       887\n",
            "\n",
            "    accuracy                           0.91      8820\n",
            "   macro avg       0.91      0.91      0.91      8820\n",
            "weighted avg       0.91      0.91      0.91      8820\n",
            "\n"
          ]
        }
      ]
    },
    {
      "cell_type": "markdown",
      "source": [
        "### <font color= #4CC9F0 >**Coseno:**"
      ],
      "metadata": {
        "id": "gm7i1aw6hl-X"
      }
    },
    {
      "cell_type": "markdown",
      "metadata": {
        "id": "OET-rfNg_ktz"
      },
      "source": [
        "\n",
        "\n",
        "Para ilustrar la aplicación de este medida de similitud se seleccionó el conjunto de datos 'CNAE-9' tomado del respositorio de bases de datos para machine learning [UCI](https://archive.ics.uci.edu/ml/datasets/cnae-9). Este conjunto de datos contiene 1.080 documentos de descripciones de negocios en texto libre de empresas brasileñas con 9 categorías presentes en una tabla llamada Clasificación Nacional de Actividades Económicas (CNAE). Los textos originales fueron preprocesados para obtener el conjunto de datos actual: cada documento se representó como un vector, donde el peso de cada palabra es su frecuencia en el documento. Es necesario aclarar que este conjunto de datos es muy escaso (el 99,22% de la matriz está llena de ceros)."
      ]
    },
    {
      "cell_type": "code",
      "execution_count": null,
      "metadata": {
        "colab": {
          "base_uri": "https://localhost:8080/"
        },
        "id": "JxW7fLBaztd1",
        "outputId": "d4e1e77d-7d21-475d-ca84-6be39a62a186"
      },
      "outputs": [
        {
          "output_type": "execute_result",
          "data": {
            "text/plain": [
              "((1080, 856), (1080,))"
            ]
          },
          "metadata": {},
          "execution_count": 24
        }
      ],
      "source": [
        "# Importación de la base\n",
        "cosi = pd.read_csv('/content/drive/Shareddrives/Mineria/CNAE-9.data', header = None)\n",
        "# Clasificación real\n",
        "y = cosi.pop(0).values\n",
        "# Frecuencia de las palabras\n",
        "X = cosi.values\n",
        "X.shape, y.shape"
      ]
    },
    {
      "cell_type": "markdown",
      "metadata": {
        "id": "99xV8pg_IMQN"
      },
      "source": [
        "La escazes en la base de datos se puede apreciar a través de las siguientes estadísticas descriptivas aplicadas al conjunto de todas las frecuencias de palabras en todos los textos. "
      ]
    },
    {
      "cell_type": "code",
      "execution_count": null,
      "metadata": {
        "colab": {
          "base_uri": "https://localhost:8080/"
        },
        "id": "JKqRnmqKK2zG",
        "outputId": "dceec3ec-9796-439e-a726-cbd002e1d1c4"
      },
      "outputs": [
        {
          "output_type": "stream",
          "name": "stdout",
          "text": [
            "Media: 0.0082, Desv. Estándar: 0.0948, Mín: 0, Máx: 4\n"
          ]
        }
      ],
      "source": [
        "media = X.mean()\n",
        "std = X.std(ddof=0)\n",
        "min = X.min()\n",
        "max = X.max()\n",
        "print(f\"Media: {round(media,4)}, Desv. Estándar: {round(std,4)}, Mín: {min}, Máx: {max}\")"
      ]
    },
    {
      "cell_type": "markdown",
      "metadata": {
        "id": "GRNG-3OUOewj"
      },
      "source": [
        "Ahora procedemos a comparar el desempeño de las métricas euclidianas y de coseno para la clasificación de vecimos más cercanos, Instanciamos los dos métodos con sus respectivas medidas. "
      ]
    },
    {
      "cell_type": "code",
      "execution_count": null,
      "metadata": {
        "id": "keyCUq019Vvz"
      },
      "outputs": [],
      "source": [
        "NN_e = KNeighborsClassifier(metric = 'euclidean')\n",
        "NN_c = KNeighborsClassifier(metric = 'cosine')"
      ]
    },
    {
      "cell_type": "markdown",
      "metadata": {
        "id": "n4ImsyEl0QmG"
      },
      "source": [
        "Ahora se calcula una estimación de la precisión con ambos clasificadores usando validación cruzada con 10 folds. Se puede apreciar que usar la clasificación de KNN con la similaridad del coseno mejora significativamente la precisión en la clasificación de los textos."
      ]
    },
    {
      "cell_type": "code",
      "execution_count": null,
      "metadata": {
        "colab": {
          "base_uri": "https://localhost:8080/"
        },
        "id": "tRpktV3x9dZX",
        "outputId": "874164d0-4548-4f38-e071-898bd3ce6f2c"
      },
      "outputs": [
        {
          "output_type": "stream",
          "name": "stdout",
          "text": [
            "Precisión con C.V. (Distancia Euclidiana): 0.86\n",
            "Precisión con C.V. (Similaridad Coseno): 0.92\n"
          ]
        }
      ],
      "source": [
        "scores = cross_val_score(NN_e, X, y, cv=10)\n",
        "print(\"Precisión con C.V. (Distancia Euclidiana): {0:.2f}\".format(scores.mean())) \n",
        "scores = cross_val_score(NN_c, X, y, cv=10)\n",
        "print(\"Precisión con C.V. (Similaridad Coseno): {0:.2f}\".format(scores.mean())) "
      ]
    },
    {
      "cell_type": "markdown",
      "source": [
        "### <font color=#4CC9F0 >**Correlación:**"
      ],
      "metadata": {
        "id": "3pGadhXUhoIY"
      }
    },
    {
      "cell_type": "markdown",
      "metadata": {
        "id": "LDuuwgLrPsVc"
      },
      "source": [
        "\n",
        "Para la aplicación de esta medida se utilizó la base de datos 'glass', la cual también fue tomada del repositorio [UCI](https://archive.ics.uci.edu/ml/datasets/glass+identification). Estos datos se remontan a 1987 cuando Vina Spiehler, Ph.D., realizó una prueba de comparación de su sistema basado en reglas, BEAGLE, el algoritmo del vecino más cercano y el análisis discriminante sobre 214 muestras de vidirio roto. El estudio de la clasificación de los tipos de vidrio fue motivado por investigación criminológica, puesto que en una escena del crimen, el vidrio que queda podría utilizarse como prueba si se identifica correctamente."
      ]
    },
    {
      "cell_type": "code",
      "execution_count": null,
      "metadata": {
        "colab": {
          "base_uri": "https://localhost:8080/"
        },
        "id": "uSMi9F4lHQTp",
        "outputId": "af9a44c6-500e-442c-f537-f5fdf8fed617"
      },
      "outputs": [
        {
          "output_type": "stream",
          "name": "stdout",
          "text": [
            "<class 'pandas.core.frame.DataFrame'>\n",
            "RangeIndex: 214 entries, 0 to 213\n",
            "Data columns (total 11 columns):\n",
            " #   Column  Non-Null Count  Dtype  \n",
            "---  ------  --------------  -----  \n",
            " 0   0       214 non-null    int64  \n",
            " 1   1       214 non-null    float64\n",
            " 2   2       214 non-null    float64\n",
            " 3   3       214 non-null    float64\n",
            " 4   4       214 non-null    float64\n",
            " 5   5       214 non-null    float64\n",
            " 6   6       214 non-null    float64\n",
            " 7   7       214 non-null    float64\n",
            " 8   8       214 non-null    float64\n",
            " 9   9       214 non-null    float64\n",
            " 10  10      214 non-null    int64  \n",
            "dtypes: float64(9), int64(2)\n",
            "memory usage: 18.5 KB\n"
          ]
        },
        {
          "output_type": "execute_result",
          "data": {
            "text/plain": [
              "0        1\n",
              "1        2\n",
              "2        3\n",
              "3        4\n",
              "4        5\n",
              "      ... \n",
              "209    210\n",
              "210    211\n",
              "211    212\n",
              "212    213\n",
              "213    214\n",
              "Name: 0, Length: 214, dtype: int64"
            ]
          },
          "metadata": {},
          "execution_count": 28
        }
      ],
      "source": [
        "glass = pd.read_csv(\"/content/drive/Shareddrives/Mineria/glass.data\", header = None)\n",
        "glass.info()\n",
        "# Clasificación real\n",
        "y = glass.pop(10).values\n",
        "# Eliminar los índices\n",
        "glass.pop(0)"
      ]
    },
    {
      "cell_type": "markdown",
      "source": [
        "Al realizar un análisis descriptivo a las 9 variables presentes en la base de datos, se aprecia que las escalas de medida varían demasiado entre las mismas. Por lo tanto, se decide normalizar las variables para que se encuentren en la misma escala, aunque en realidad esto no es necesario."
      ],
      "metadata": {
        "id": "19k2vUZ8AYi8"
      }
    },
    {
      "cell_type": "code",
      "source": [
        "print(glass.describe())\n",
        "scaler = preprocessing.StandardScaler().fit(glass)\n",
        "X_scaled = scaler.transform(glass)"
      ],
      "metadata": {
        "colab": {
          "base_uri": "https://localhost:8080/"
        },
        "id": "9ctTLWEP3qO6",
        "outputId": "2ae81250-c434-4d33-a626-fdae945fe29f"
      },
      "execution_count": null,
      "outputs": [
        {
          "output_type": "stream",
          "name": "stdout",
          "text": [
            "                1           2           3           4           5           6  \\\n",
            "count  214.000000  214.000000  214.000000  214.000000  214.000000  214.000000   \n",
            "mean     1.518365   13.407850    2.684533    1.444907   72.650935    0.497056   \n",
            "std      0.003037    0.816604    1.442408    0.499270    0.774546    0.652192   \n",
            "min      1.511150   10.730000    0.000000    0.290000   69.810000    0.000000   \n",
            "25%      1.516522   12.907500    2.115000    1.190000   72.280000    0.122500   \n",
            "50%      1.517680   13.300000    3.480000    1.360000   72.790000    0.555000   \n",
            "75%      1.519157   13.825000    3.600000    1.630000   73.087500    0.610000   \n",
            "max      1.533930   17.380000    4.490000    3.500000   75.410000    6.210000   \n",
            "\n",
            "                7           8           9  \n",
            "count  214.000000  214.000000  214.000000  \n",
            "mean     8.956963    0.175047    0.057009  \n",
            "std      1.423153    0.497219    0.097439  \n",
            "min      5.430000    0.000000    0.000000  \n",
            "25%      8.240000    0.000000    0.000000  \n",
            "50%      8.600000    0.000000    0.000000  \n",
            "75%      9.172500    0.000000    0.100000  \n",
            "max     16.190000    3.150000    0.510000  \n"
          ]
        }
      ]
    },
    {
      "cell_type": "code",
      "source": [
        "X_scaled.shape, y.shape"
      ],
      "metadata": {
        "colab": {
          "base_uri": "https://localhost:8080/"
        },
        "id": "SOspHYpV5WHx",
        "outputId": "cff84f8d-5a58-49e5-8390-02c474ee637a"
      },
      "execution_count": null,
      "outputs": [
        {
          "output_type": "execute_result",
          "data": {
            "text/plain": [
              "((214, 9), (214,))"
            ]
          },
          "metadata": {},
          "execution_count": 47
        }
      ]
    },
    {
      "cell_type": "markdown",
      "source": [
        "Nuevamente, se calcula una estimación de la precisión con el clasificador común y el clasificador de correlación usando validación cruzada con 7 folds. En este caso, usar la clasificación de KNN con correlación del coseno mejora de forma mínima la precisión en la clasificación de los vidrios."
      ],
      "metadata": {
        "id": "hXKbXFg2DQG8"
      }
    },
    {
      "cell_type": "code",
      "source": [
        "scores = cross_val_score(NN_e, X_scaled, y, cv=7)\n",
        "print(\"Precisión con C.V. (Distancia Euclidiana): {0:.2f}\".format(scores.mean())) \n",
        "scores = cross_val_score(NN_corr, X_scaled, y, cv=7)\n",
        "print(\"Precisión con C.V. (Similaridad Correlación): {0:.2f}\".format(scores.mean())) "
      ],
      "metadata": {
        "colab": {
          "base_uri": "https://localhost:8080/"
        },
        "id": "tTIBz4FAstNe",
        "outputId": "a5a0e2ad-389c-4616-92ee-ff5cdc005fcb"
      },
      "execution_count": null,
      "outputs": [
        {
          "output_type": "stream",
          "name": "stdout",
          "text": [
            "Precisión con C.V. (Distancia Euclidiana): 0.65\n",
            "Precisión con C.V. (Similaridad Correlación): 0.67\n"
          ]
        }
      ]
    },
    {
      "cell_type": "markdown",
      "metadata": {
        "id": "ho2-a5_pdp_D"
      },
      "source": [
        "##  <font color= blue> Algoritmos de optimización del método "
      ]
    },
    {
      "cell_type": "markdown",
      "source": [
        "### <font color= #4CC9F0 >**K-D tree:**"
      ],
      "metadata": {
        "id": "t3I8dpMbhqWg"
      }
    },
    {
      "cell_type": "markdown",
      "metadata": {
        "id": "ykEUlm5AfIMb"
      },
      "source": [
        "\n",
        "\n",
        "En general, estas estructuras intentan reducir el número de cálculos de distancia necesarios codificando de forma eficiente la información de distancia agregada para la muestra. La idea básica es que si el punto $\\boldsymbol{A}$ es muy distante del punto $\\boldsymbol{B}$, y el punto $\\boldsymbol{B}$ está muy cerca del punto $\\boldsymbol{C}$, entonces sabemos que los puntos $\\boldsymbol{A}$ y $\\boldsymbol{C}$ son muy distantes, sin tener que calcular explícitamente su distancia. De este modo, el coste computacional de una búsqueda de vecinos más cercanos puede reducirse. Esto supone una mejora significativa respecto a la fuerza bruta para bases de datos grandes.\n",
        "\n",
        "El árbol KD es una estructura de árbol binario que particiona recursivamente el espacio de parámetros a lo largo de los ejes de datos, dividiéndolo en regiones ortotrópicas anidadas en las que se archivan los puntos de datos. La construcción de un árbol KD es muy rápida: dado que la partición se realiza sólo a lo largo de los ejes de datos, no es necesario calcular D-distancias adimensionales. Aunque el árbol KD es muy rápido en la búsqueda de los vecinos cercanos en dimensiones bajas (menores a 20), se vuelve ineficiente a medida que el número de variables incrementa "
      ]
    },
    {
      "cell_type": "markdown",
      "source": [
        "#### <font color= #4CC9F0 >Ejemplo de comparación:"
      ],
      "metadata": {
        "id": "1wm54pEzhr6P"
      }
    },
    {
      "cell_type": "markdown",
      "source": [
        "\n",
        "\n",
        "A continuación se simula una base de datos para el ejercicio de clasificación aplicando los métodos de Fuerza bruta y KD-tree. La base cuenta con 50000 muestras y se compone de 9 variables, de esas características solo 7 son informativas en cuanto a la clase a la que pertenecen cada una de las muestras."
      ],
      "metadata": {
        "id": "YMEk4GZ3e_WV"
      }
    },
    {
      "cell_type": "code",
      "execution_count": null,
      "metadata": {
        "id": "480PZtRUe_WW"
      },
      "outputs": [],
      "source": [
        "from sklearn.datasets import make_classification\n",
        "# crea los datos a ser muestreados\n",
        "n_samples = 50000\n",
        "X_big,y_big = make_classification(n_samples=n_samples, n_features=9,\n",
        "n_informative=7, n_redundant=0, random_state=150, shuffle=False)"
      ]
    },
    {
      "cell_type": "markdown",
      "source": [
        "Para evaluar el tiempo de ejecución en cada uno de los algoritmos sobre los datos, se realiza una validación cruzada con 10 folds en la que se buscan los 50 vecinos más cercanos y se resta al tiempo final el tiempo en el que inició la ejecución, además se almacenan las estimaciones de la precisión del clasificador para cada método. Los resultados demuestran como el método de árboles KD mejoró considerablemente el tiempo de ejecución del clasificador y con la misma precisión."
      ],
      "metadata": {
        "id": "LkdNe7o3e_WW"
      }
    },
    {
      "cell_type": "code",
      "execution_count": null,
      "metadata": {
        "colab": {
          "base_uri": "https://localhost:8080/"
        },
        "outputId": "1c77a1b0-9bb0-4a72-afd3-4b79651d5912",
        "id": "Hqtm1rlJe_WW"
      },
      "outputs": [
        {
          "output_type": "stream",
          "name": "stdout",
          "text": [
            "PRECISIÓN: Brute=  0.938   KD-tree=  0.938\n",
            "TIEMPO: Brute=  59.9   KD-tree=  22.4\n"
          ]
        }
      ],
      "source": [
        "import time\n",
        "\n",
        "# Definición de los algoritmos\n",
        "KNN1 = KNeighborsClassifier(n_neighbors=50, algorithm=\"brute\")\n",
        "KNN2 = KNeighborsClassifier(n_neighbors=50, algorithm=\"kd_tree\")\n",
        "\n",
        "# Validación cruzada y tiempo de ejecución\n",
        "t_start = time.time()\n",
        "scores1 = cross_val_score(KNN1, X_big, y_big, cv=10)\n",
        "t1 = time.time()-t_start\n",
        "\n",
        "t_start = time.time()\n",
        "scores2 = cross_val_score(KNN2, X_big, y_big, cv=10)\n",
        "t2 = time.time()-t_start\n",
        "\n",
        "print(\"PRECISIÓN: Brute= \",round(scores1.mean(),3),\"  KD-tree= \",round(scores2.mean(),3))\n",
        "print(\"TIEMPO: Brute= \",round(t1,1),\"  KD-tree= \",round(t2,1))\n"
      ]
    },
    {
      "cell_type": "markdown",
      "source": [
        "###  <font color= #4CC9F0 >**Ball tree:**"
      ],
      "metadata": {
        "id": "0v1TGA3Qht3v"
      }
    },
    {
      "cell_type": "markdown",
      "metadata": {
        "id": "OGWV6VyF0Z5t"
      },
      "source": [
        "\n",
        "\n",
        "Para hacer frente a las ineficiencias de los árboles KD en dimensiones superiores, se desarrolló la estructura de datos de \"árbol de esferas\". Mientras que los árboles KD dividen los datos a lo largo de ejes cartesianos, los árboles de bolas dividen los datos en una serie de hiperesferas anidadas. Esto hace que la construcción del árbol sea más costosa que la del árbol KD, pero da como resultado una estructura de datos que puede ser muy eficiente en datos altamente estructurados, incluso en dimensiones muy altas.\n",
        "\n",
        "Un árbol de bolas divide recursivamente los datos en nodos definidos por un centroide $\\boldsymbol{C}$ y un radio $r$, de manera que cada punto del nodo se encuentra dentro de la hiperesfera definida por $r$ y $\\boldsymbol{C}$. El número de puntos candidatos para una búsqueda de vecinos se reduce mediante el uso de la desigualdad del triángulo:\n",
        "\n",
        "$$\n",
        "|x+y| \\leq |x| + |y|\n",
        "$$\n",
        "\n",
        "Con esta configuración, un único cálculo de la distancia entre un punto de prueba y el centroide es suficiente para determinar un límite inferior y superior de la distancia a todos los puntos dentro del nodo. Debido a la geometría esférica de los nodos del ball-tree, puede superar a un árbol KD en dimensiones altas, aunque el rendimiento real depende en gran medida de la estructura de los datos de entrenamiento."
      ]
    },
    {
      "cell_type": "markdown",
      "source": [
        "#### <font color= #4CC9F0 >Ejemplo de comparación:"
      ],
      "metadata": {
        "id": "f6H8z_4ShvoH"
      }
    },
    {
      "cell_type": "markdown",
      "source": [
        "\n",
        "\n",
        "Nuevamente se simula una base de datos para el ejercicio de clasificación aplicando los 3 distintos métodos: Fuerza bruta, KD-tree y Ball-tree. Ahora, la base cuenta con 25000 muestras y se compone de 25 variables, de esas características solo 17 son informativas en cuanto a la clase a la que pertenecen cada una de las muestras."
      ],
      "metadata": {
        "id": "3QJO-b84ikbl"
      }
    },
    {
      "cell_type": "code",
      "execution_count": null,
      "metadata": {
        "id": "QWV0bvVV07j4"
      },
      "outputs": [],
      "source": [
        "n_samples = 25000\n",
        "X_big,y_big = make_classification(n_samples=n_samples, n_features=25,\n",
        "n_informative=17, n_redundant=0, random_state=150, shuffle=False)"
      ]
    },
    {
      "cell_type": "markdown",
      "source": [
        "Una vez más, para evaluar el tiempo de ejecución en cada uno de los algoritmos sobre los datos, se realiza una validación cruzada con 10 folds en la que se buscan los 50 vecinos más cercanos y se resta al tiempo final el tiempo en el que inició la ejecución, también se almacenan las estimaciones de la precisión del clasificador para cada método. Para este caso, como se esperaba el método de KD-tree, fue el que peor desempeño tuvo debido a la alta cantidad de dimensiones, mientras que Ball-tree disminuyó ese tiempo de ejecución, sin embargo el, algoritmo con el mayor rendimiento fue el de Fuerza Bruta. A pesar de todo, se resalta que sin importar las diferencias en los tiempos los 3 métodos tuvieron aproximadamente la misma precisión donde Ball-Tree presentó una mínima ventaja.   "
      ],
      "metadata": {
        "id": "oa4vXfdLj8gs"
      }
    },
    {
      "cell_type": "code",
      "execution_count": null,
      "metadata": {
        "colab": {
          "base_uri": "https://localhost:8080/"
        },
        "id": "1ThbUntH7hlV",
        "outputId": "83900cd6-c223-42f8-e483-4d1b61765606"
      },
      "outputs": [
        {
          "output_type": "stream",
          "name": "stdout",
          "text": [
            "PRECISIÓN: Brute=  0.973   KD-tree:  0.973   Ball-tree:  0.974\n",
            "TIEMPO: Brute=  16.4 KD-tree=  64.0 Ball-tree=  49.6\n"
          ]
        }
      ],
      "source": [
        "# Definición de los algoritmos\n",
        "KNN3 = KNeighborsClassifier(n_neighbors=40, algorithm=\"ball_tree\")\n",
        "\n",
        "# Validación cruzada y tiempo de ejecución\n",
        "t_start = time.time()\n",
        "scores1 = cross_val_score(KNN1, X_big, y_big, cv=10)\n",
        "t1 = time.time()-t_start\n",
        "\n",
        "t_start = time.time()\n",
        "scores2 = cross_val_score(KNN2, X_big, y_big, cv=10)\n",
        "t2 = time.time()-t_start\n",
        "\n",
        "t_start = time.time()\n",
        "scores3 = cross_val_score(KNN3, X_big, y_big, cv=10)\n",
        "t3 = time.time()-t_start\n",
        "\n",
        "print(\"PRECISIÓN: Brute= \",round(scores1.mean(),3),\"  KD-tree: \",round(scores2.mean(),3),\"  Ball-tree: \",round(scores3.mean(),3))\n",
        "print(\"TIEMPO: Brute= \",round(t1,1),\"KD-tree= \",round(t2,1),\"Ball-tree= \",round(t3,1))\n"
      ]
    },
    {
      "cell_type": "markdown",
      "source": [
        "## <font color= blue > Regresión de vecinos más cercanos\n",
        "\n"
      ],
      "metadata": {
        "id": "Q25WSEu2MTKD"
      }
    },
    {
      "cell_type": "markdown",
      "source": [
        "La metodología de los k-vecinos más cercanos puede ser implementada incluso para llevar a cabo una regresión en los casos en que la variable respuesta y la variable explicativa son continuas, es decir $x, y \\in \\mathbb{R}$, puesto que la estimación para un valor de consulta $x$ estará dada por el promedio de los valores de la respuesta de sus vecinos más cercanos. "
      ],
      "metadata": {
        "id": "v_34yOubeX-A"
      }
    },
    {
      "cell_type": "markdown",
      "source": [
        "En scikit-learn se encuentran implementados dos métodos para realizar esta regresión:\n",
        "\n",
        "* KNeighborsRegressor: Esta función realiza el cálculo del promedio de un número entero $k$ de vecinos más cercanos para cada punto de consulta, el cual, es dado por el usuario.\n",
        "* RadiusNeighborsRegressor: Como una forma alternativa, se calcula el promedio de los vecinos más cercanos que se encuentren dentro del círculo formado por un radio $r$ dado por el usuario, por lo tanto, el número de vecinos cambiará para cada punto a estimar. "
      ],
      "metadata": {
        "id": "HA0JGPGqSWYZ"
      }
    },
    {
      "cell_type": "markdown",
      "source": [
        "Además, el método por defecto asigna pesos uniformes a cada uno de las observaciones de la regresión, pero este aspecto puede ser cambiado a través del parámetro ***weights*** donde se puede implementar una función que calcule los pesos creada por el usuario, o alternativamente en ocasiones se desea que dentro del conjunto de los vecinos tengan más peso los cercanos y menos los lejanos, así que, estableciando ***weights='distance'*** el peso estará dado por el inverso de la distancia del punto de consulta al respectivo vecino. "
      ],
      "metadata": {
        "id": "qXEkjWoGVlZI"
      }
    },
    {
      "cell_type": "code",
      "source": [
        "from sklearn import neighbors\n",
        "import matplotlib.pyplot as plt\n",
        "plt.rcParams['figure.figsize'] = 13, 6\n",
        "\n",
        "np.random.seed(21)\n",
        "X = np.sort(10 * np.random.rand(40, 1), axis=0)\n",
        "T = np.linspace(0, 10, 1000)[:, np.newaxis]\n",
        "y = np.sin(X).ravel()\n",
        "\n",
        "# Se añade ruido\n",
        "y[::5] += 1 * (0.5 - np.random.rand(8))\n",
        "\n",
        "# Cambiando las distancias\n",
        "n_neighbors = 5\n",
        "\n",
        "for i, weights in enumerate([\"uniform\", \"distance\"]):\n",
        "    knn = neighbors.KNeighborsRegressor(n_neighbors, weights=weights)\n",
        "    y_ = knn.fit(X, y).predict(T)\n",
        "\n",
        "    plt.subplot(3, 1, i + 1)\n",
        "    plt.scatter(X, y, color=\"darkorange\", label=\"observación\")\n",
        "    plt.plot(T, y_, color=\"navy\", label=\"predicción\")\n",
        "    plt.axis(\"tight\")\n",
        "    plt.legend()\n",
        "    plt.title(\"KNeighborsRegressor (k = %i, weights = '%s')\" % (n_neighbors, weights))\n",
        "\n",
        "# Usando el radio\n",
        "radius = 0.8\n",
        "\n",
        "knn = neighbors.RadiusNeighborsRegressor(radius)\n",
        "y_ = knn.fit(X, y).predict(T)\n",
        "\n",
        "plt.subplot(3, 1, 3)\n",
        "plt.scatter(X, y, color=\"darkorange\", label=\"observación\")\n",
        "plt.plot(T, y_, color=\"navy\", label=\"predicción\")\n",
        "plt.axis(\"tight\")\n",
        "plt.legend()\n",
        "plt.title(f\"RadiusNeighborsRegressor (r = {radius} )\" )\n",
        "\n",
        "plt.tight_layout()\n",
        "plt.show()"
      ],
      "metadata": {
        "colab": {
          "base_uri": "https://localhost:8080/",
          "height": 441
        },
        "id": "Ogf95ZHjVH1S",
        "outputId": "7cbfa9b6-07d5-4b09-9702-1739dc057ba1"
      },
      "execution_count": null,
      "outputs": [
        {
          "output_type": "display_data",
          "data": {
            "text/plain": [
              "<Figure size 936x432 with 3 Axes>"
            ],
            "image/png": "[encoded data removed]"
          },
          "metadata": {
            "needs_background": "light"
          }
        }
      ]
    },
    {
      "cell_type": "markdown",
      "metadata": {
        "id": "mQwb3EBhhqh0"
      },
      "source": [
        "## <font color= blue >Ejercicio para el lector"
      ]
    },
    {
      "cell_type": "markdown",
      "source": [
        "### <font color=#4CC9F0 > Ejercicio uno"
      ],
      "metadata": {
        "id": "g5r1XgnSC3Dl"
      }
    },
    {
      "cell_type": "markdown",
      "source": [
        "Para este primer ejercicio se utilizó la base de datos \"Iris\" la cual fue tomada de **from sklearn import datasets**. contiene las mediciones en centímetros de las variables longitud (Length) y ancho (Width) de los pétalos (Petal) y sépalos (Sepal) de 50 flores de cada una de las 3 especies (Species) del género Iris: Iris setosa, Iris versicolor e Iris virginica.\n",
        "\n",
        "Para la realización de este ejercio se recomienda el siguiente paso a paso:\n",
        "\n",
        "Importación de las librerías.\n",
        "\n",
        "Importación de las bases de datos con una ilustración de estos.\n",
        "\n",
        "Definir las variables y dividir los datos en entrenamiento y prueba.\n",
        "\n",
        "Definir y entrenar el modelo.\n",
        "\n",
        "Hacer las predicciones.\n",
        "\n",
        "ilustrar la matriz de confusión.\n",
        "\n",
        "evaluar la precisión del modelo.\n",
        "\n",
        "\n"
      ],
      "metadata": {
        "id": "_0QHvFzDWR_S"
      }
    },
    {
      "cell_type": "markdown",
      "source": [
        "#### <font color= #4CC9F0 >Importación de las librerías"
      ],
      "metadata": {
        "id": "pLaiUa2bDeu6"
      }
    },
    {
      "cell_type": "code",
      "source": [
        "from sklearn.model_selection import train_test_split\n",
        "from sklearn.neighbors import KNeighborsClassifier as knn\n",
        "from sklearn import metrics\n",
        "from sklearn import datasets\n",
        "import pandas as pd"
      ],
      "metadata": {
        "id": "TdFITFX4DfPn"
      },
      "execution_count": null,
      "outputs": []
    },
    {
      "cell_type": "markdown",
      "source": [
        "#### <font color= #4CC9F0 > Importación de los datos"
      ],
      "metadata": {
        "id": "OUIKx7vwDCFU"
      }
    },
    {
      "cell_type": "code",
      "source": [
        "iris = datasets.load_iris()\n",
        "data = pd.DataFrame({\"sl\":iris.data[:,0], \"sw\":iris.data[:,1], \"pl\":iris.data[:,2], \"pw\":iris.data[:,3], 'species': iris.target})\n",
        "data.head()"
      ],
      "metadata": {
        "colab": {
          "base_uri": "https://localhost:8080/",
          "height": 206
        },
        "id": "ya2VDNOvDRIX",
        "outputId": "95ae4e17-7c2d-48c7-859d-abe98edcd643"
      },
      "execution_count": null,
      "outputs": [
        {
          "output_type": "execute_result",
          "data": {
            "text/plain": [
              "    sl   sw   pl   pw  species\n",
              "0  5.1  3.5  1.4  0.2        0\n",
              "1  4.9  3.0  1.4  0.2        0\n",
              "2  4.7  3.2  1.3  0.2        0\n",
              "3  4.6  3.1  1.5  0.2        0\n",
              "4  5.0  3.6  1.4  0.2        0"
            ],
            "text/html": [
              "\n",
              "  <div id=\"df-a4ec67bf-f5d9-465d-9b14-07026825a8a0\">\n",
              "    <div class=\"colab-df-container\">\n",
              "      <div>\n",
              "<style scoped>\n",
              "    .dataframe tbody tr th:only-of-type {\n",
              "        vertical-align: middle;\n",
              "    }\n",
              "\n",
              "    .dataframe tbody tr th {\n",
              "        vertical-align: top;\n",
              "    }\n",
              "\n",
              "    .dataframe thead th {\n",
              "        text-align: right;\n",
              "    }\n",
              "</style>\n",
              "<table border=\"1\" class=\"dataframe\">\n",
              "  <thead>\n",
              "    <tr style=\"text-align: right;\">\n",
              "      <th></th>\n",
              "      <th>sl</th>\n",
              "      <th>sw</th>\n",
              "      <th>pl</th>\n",
              "      <th>pw</th>\n",
              "      <th>species</th>\n",
              "    </tr>\n",
              "  </thead>\n",
              "  <tbody>\n",
              "    <tr>\n",
              "      <th>0</th>\n",
              "      <td>5.1</td>\n",
              "      <td>3.5</td>\n",
              "      <td>1.4</td>\n",
              "      <td>0.2</td>\n",
              "      <td>0</td>\n",
              "    </tr>\n",
              "    <tr>\n",
              "      <th>1</th>\n",
              "      <td>4.9</td>\n",
              "      <td>3.0</td>\n",
              "      <td>1.4</td>\n",
              "      <td>0.2</td>\n",
              "      <td>0</td>\n",
              "    </tr>\n",
              "    <tr>\n",
              "      <th>2</th>\n",
              "      <td>4.7</td>\n",
              "      <td>3.2</td>\n",
              "      <td>1.3</td>\n",
              "      <td>0.2</td>\n",
              "      <td>0</td>\n",
              "    </tr>\n",
              "    <tr>\n",
              "      <th>3</th>\n",
              "      <td>4.6</td>\n",
              "      <td>3.1</td>\n",
              "      <td>1.5</td>\n",
              "      <td>0.2</td>\n",
              "      <td>0</td>\n",
              "    </tr>\n",
              "    <tr>\n",
              "      <th>4</th>\n",
              "      <td>5.0</td>\n",
              "      <td>3.6</td>\n",
              "      <td>1.4</td>\n",
              "      <td>0.2</td>\n",
              "      <td>0</td>\n",
              "    </tr>\n",
              "  </tbody>\n",
              "</table>\n",
              "</div>\n",
              "      <button class=\"colab-df-convert\" onclick=\"convertToInteractive('df-a4ec67bf-f5d9-465d-9b14-07026825a8a0')\"\n",
              "              title=\"Convert this dataframe to an interactive table.\"\n",
              "              style=\"display:none;\">\n",
              "        \n",
              "  <svg xmlns=\"http://www.w3.org/2000/svg\" height=\"24px\"viewBox=\"0 0 24 24\"\n",
              "       width=\"24px\">\n",
              "    <path d=\"M0 0h24v24H0V0z\" fill=\"none\"/>\n",
              "    <path d=\"M18.56 5.44l.94 2.06.94-2.06 2.06-.94-2.06-.94-.94-2.06-.94 2.06-2.06.94zm-11 1L8.5 8.5l.94-2.06 2.06-.94-2.06-.94L8.5 2.5l-.94 2.06-2.06.94zm10 10l.94 2.06.94-2.06 2.06-.94-2.06-.94-.94-2.06-.94 2.06-2.06.94z\"/><path d=\"M17.41 7.96l-1.37-1.37c-.4-.4-.92-.59-1.43-.59-.52 0-1.04.2-1.43.59L10.3 9.45l-7.72 7.72c-.78.78-.78 2.05 0 2.83L4 21.41c.39.39.9.59 1.41.59.51 0 1.02-.2 1.41-.59l7.78-7.78 2.81-2.81c.8-.78.8-2.07 0-2.86zM5.41 20L4 18.59l7.72-7.72 1.47 1.35L5.41 20z\"/>\n",
              "  </svg>\n",
              "      </button>\n",
              "      \n",
              "  <style>\n",
              "    .colab-df-container {\n",
              "      display:flex;\n",
              "      flex-wrap:wrap;\n",
              "      gap: 12px;\n",
              "    }\n",
              "\n",
              "    .colab-df-convert {\n",
              "      background-color: #E8F0FE;\n",
              "      border: none;\n",
              "      border-radius: 50%;\n",
              "      cursor: pointer;\n",
              "      display: none;\n",
              "      fill: #1967D2;\n",
              "      height: 32px;\n",
              "      padding: 0 0 0 0;\n",
              "      width: 32px;\n",
              "    }\n",
              "\n",
              "    .colab-df-convert:hover {\n",
              "      background-color: #E2EBFA;\n",
              "      box-shadow: 0px 1px 2px rgba(60, 64, 67, 0.3), 0px 1px 3px 1px rgba(60, 64, 67, 0.15);\n",
              "      fill: #174EA6;\n",
              "    }\n",
              "\n",
              "    [theme=dark] .colab-df-convert {\n",
              "      background-color: #3B4455;\n",
              "      fill: #D2E3FC;\n",
              "    }\n",
              "\n",
              "    [theme=dark] .colab-df-convert:hover {\n",
              "      background-color: #434B5C;\n",
              "      box-shadow: 0px 1px 3px 1px rgba(0, 0, 0, 0.15);\n",
              "      filter: drop-shadow(0px 1px 2px rgba(0, 0, 0, 0.3));\n",
              "      fill: #FFFFFF;\n",
              "    }\n",
              "  </style>\n",
              "\n",
              "      <script>\n",
              "        const buttonEl =\n",
              "          document.querySelector('#df-a4ec67bf-f5d9-465d-9b14-07026825a8a0 button.colab-df-convert');\n",
              "        buttonEl.style.display =\n",
              "          google.colab.kernel.accessAllowed ? 'block' : 'none';\n",
              "\n",
              "        async function convertToInteractive(key) {\n",
              "          const element = document.querySelector('#df-a4ec67bf-f5d9-465d-9b14-07026825a8a0');\n",
              "          const dataTable =\n",
              "            await google.colab.kernel.invokeFunction('convertToInteractive',\n",
              "                                                     [key], {});\n",
              "          if (!dataTable) return;\n",
              "\n",
              "          const docLinkHtml = 'Like what you see? Visit the ' +\n",
              "            '<a target=\"_blank\" href=https://colab.research.google.com/notebooks/data_table.ipynb>data table notebook</a>'\n",
              "            + ' to learn more about interactive tables.';\n",
              "          element.innerHTML = '';\n",
              "          dataTable['output_type'] = 'display_data';\n",
              "          await google.colab.output.renderOutput(dataTable, element);\n",
              "          const docLink = document.createElement('div');\n",
              "          docLink.innerHTML = docLinkHtml;\n",
              "          element.appendChild(docLink);\n",
              "        }\n",
              "      </script>\n",
              "    </div>\n",
              "  </div>\n",
              "  "
            ]
          },
          "metadata": {},
          "execution_count": 7
        }
      ]
    },
    {
      "cell_type": "code",
      "source": [
        "import plotly.express as px  \n",
        "\n",
        "fig =  px.scatter_3d(data, x=  'sl', y = 'sw', z= 'pw',color = 'species')\n",
        "\n",
        "fig.show() "
      ],
      "metadata": {
        "colab": {
          "base_uri": "https://localhost:8080/"
        },
        "id": "LImDttQLDnFA",
        "outputId": "fbecd232-f589-46e5-f9dc-00e5ad8a1451"
      },
      "execution_count": null,
      "outputs": [
        {
          "output_type": "display_data",
          "data": {
            "text/html": [
              "<html>\n",
              "<head><meta charset=\"utf-8\" /></head>\n",
              "<body>\n",
              "    <div>            <script src=\"https://cdnjs.cloudflare.com/ajax/libs/mathjax/2.7.5/MathJax.js?config=TeX-AMS-MML_SVG\"></script><script type=\"text/javascript\">if (window.MathJax) {MathJax.Hub.Config({SVG: {font: \"STIX-Web\"}});}</script>                <script type=\"text/javascript\">window.PlotlyConfig = {MathJaxConfig: 'local'};</script>\n",
              "        <script src=\"https://cdn.plot.ly/plotly-2.8.3.min.js\"></script>                <div id=\"f1331864-4a5e-4be6-a04c-c60eacf27d5d\" class=\"plotly-graph-div\" style=\"height:525px; width:100%;\"></div>            <script type=\"text/javascript\">                                    window.PLOTLYENV=window.PLOTLYENV || {};                                    if (document.getElementById(\"f1331864-4a5e-4be6-a04c-c60eacf27d5d\")) {                    Plotly.newPlot(                        \"f1331864-4a5e-4be6-a04c-c60eacf27d5d\",                        [{\"hovertemplate\":\"sl=%{x}<br>sw=%{y}<br>pw=%{z}<br>species=%{marker.color}<extra></extra>\",\"legendgroup\":\"\",\"marker\":{\"color\":[0,0,0,0,0,0,0,0,0,0,0,0,0,0,0,0,0,0,0,0,0,0,0,0,0,0,0,0,0,0,0,0,0,0,0,0,0,0,0,0,0,0,0,0,0,0,0,0,0,0,1,1,1,1,1,1,1,1,1,1,1,1,1,1,1,1,1,1,1,1,1,1,1,1,1,1,1,1,1,1,1,1,1,1,1,1,1,1,1,1,1,1,1,1,1,1,1,1,1,1,2,2,2,2,2,2,2,2,2,2,2,2,2,2,2,2,2,2,2,2,2,2,2,2,2,2,2,2,2,2,2,2,2,2,2,2,2,2,2,2,2,2,2,2,2,2,2,2,2,2],\"coloraxis\":\"coloraxis\",\"symbol\":\"circle\"},\"mode\":\"markers\",\"name\":\"\",\"scene\":\"scene\",\"showlegend\":false,\"x\":[5.1,4.9,4.7,4.6,5.0,5.4,4.6,5.0,4.4,4.9,5.4,4.8,4.8,4.3,5.8,5.7,5.4,5.1,5.7,5.1,5.4,5.1,4.6,5.1,4.8,5.0,5.0,5.2,5.2,4.7,4.8,5.4,5.2,5.5,4.9,5.0,5.5,4.9,4.4,5.1,5.0,4.5,4.4,5.0,5.1,4.8,5.1,4.6,5.3,5.0,7.0,6.4,6.9,5.5,6.5,5.7,6.3,4.9,6.6,5.2,5.0,5.9,6.0,6.1,5.6,6.7,5.6,5.8,6.2,5.6,5.9,6.1,6.3,6.1,6.4,6.6,6.8,6.7,6.0,5.7,5.5,5.5,5.8,6.0,5.4,6.0,6.7,6.3,5.6,5.5,5.5,6.1,5.8,5.0,5.6,5.7,5.7,6.2,5.1,5.7,6.3,5.8,7.1,6.3,6.5,7.6,4.9,7.3,6.7,7.2,6.5,6.4,6.8,5.7,5.8,6.4,6.5,7.7,7.7,6.0,6.9,5.6,7.7,6.3,6.7,7.2,6.2,6.1,6.4,7.2,7.4,7.9,6.4,6.3,6.1,7.7,6.3,6.4,6.0,6.9,6.7,6.9,5.8,6.8,6.7,6.7,6.3,6.5,6.2,5.9],\"y\":[3.5,3.0,3.2,3.1,3.6,3.9,3.4,3.4,2.9,3.1,3.7,3.4,3.0,3.0,4.0,4.4,3.9,3.5,3.8,3.8,3.4,3.7,3.6,3.3,3.4,3.0,3.4,3.5,3.4,3.2,3.1,3.4,4.1,4.2,3.1,3.2,3.5,3.6,3.0,3.4,3.5,2.3,3.2,3.5,3.8,3.0,3.8,3.2,3.7,3.3,3.2,3.2,3.1,2.3,2.8,2.8,3.3,2.4,2.9,2.7,2.0,3.0,2.2,2.9,2.9,3.1,3.0,2.7,2.2,2.5,3.2,2.8,2.5,2.8,2.9,3.0,2.8,3.0,2.9,2.6,2.4,2.4,2.7,2.7,3.0,3.4,3.1,2.3,3.0,2.5,2.6,3.0,2.6,2.3,2.7,3.0,2.9,2.9,2.5,2.8,3.3,2.7,3.0,2.9,3.0,3.0,2.5,2.9,2.5,3.6,3.2,2.7,3.0,2.5,2.8,3.2,3.0,3.8,2.6,2.2,3.2,2.8,2.8,2.7,3.3,3.2,2.8,3.0,2.8,3.0,2.8,3.8,2.8,2.8,2.6,3.0,3.4,3.1,3.0,3.1,3.1,3.1,2.7,3.2,3.3,3.0,2.5,3.0,3.4,3.0],\"z\":[0.2,0.2,0.2,0.2,0.2,0.4,0.3,0.2,0.2,0.1,0.2,0.2,0.1,0.1,0.2,0.4,0.4,0.3,0.3,0.3,0.2,0.4,0.2,0.5,0.2,0.2,0.4,0.2,0.2,0.2,0.2,0.4,0.1,0.2,0.2,0.2,0.2,0.1,0.2,0.2,0.3,0.3,0.2,0.6,0.4,0.3,0.2,0.2,0.2,0.2,1.4,1.5,1.5,1.3,1.5,1.3,1.6,1.0,1.3,1.4,1.0,1.5,1.0,1.4,1.3,1.4,1.5,1.0,1.5,1.1,1.8,1.3,1.5,1.2,1.3,1.4,1.4,1.7,1.5,1.0,1.1,1.0,1.2,1.6,1.5,1.6,1.5,1.3,1.3,1.3,1.2,1.4,1.2,1.0,1.3,1.2,1.3,1.3,1.1,1.3,2.5,1.9,2.1,1.8,2.2,2.1,1.7,1.8,1.8,2.5,2.0,1.9,2.1,2.0,2.4,2.3,1.8,2.2,2.3,1.5,2.3,2.0,2.0,1.8,2.1,1.8,1.8,1.8,2.1,1.6,1.9,2.0,2.2,1.5,1.4,2.3,2.4,1.8,1.8,2.1,2.4,2.3,1.9,2.3,2.5,2.3,1.9,2.0,2.3,1.8],\"type\":\"scatter3d\"}],                        {\"template\":{\"data\":{\"bar\":[{\"error_x\":{\"color\":\"#2a3f5f\"},\"error_y\":{\"color\":\"#2a3f5f\"},\"marker\":{\"line\":{\"color\":\"#E5ECF6\",\"width\":0.5},\"pattern\":{\"fillmode\":\"overlay\",\"size\":10,\"solidity\":0.2}},\"type\":\"bar\"}],\"barpolar\":[{\"marker\":{\"line\":{\"color\":\"#E5ECF6\",\"width\":0.5},\"pattern\":{\"fillmode\":\"overlay\",\"size\":10,\"solidity\":0.2}},\"type\":\"barpolar\"}],\"carpet\":[{\"aaxis\":{\"endlinecolor\":\"#2a3f5f\",\"gridcolor\":\"white\",\"linecolor\":\"white\",\"minorgridcolor\":\"white\",\"startlinecolor\":\"#2a3f5f\"},\"baxis\":{\"endlinecolor\":\"#2a3f5f\",\"gridcolor\":\"white\",\"linecolor\":\"white\",\"minorgridcolor\":\"white\",\"startlinecolor\":\"#2a3f5f\"},\"type\":\"carpet\"}],\"choropleth\":[{\"colorbar\":{\"outlinewidth\":0,\"ticks\":\"\"},\"type\":\"choropleth\"}],\"contour\":[{\"colorbar\":{\"outlinewidth\":0,\"ticks\":\"\"},\"colorscale\":[[0.0,\"#0d0887\"],[0.1111111111111111,\"#46039f\"],[0.2222222222222222,\"#7201a8\"],[0.3333333333333333,\"#9c179e\"],[0.4444444444444444,\"#bd3786\"],[0.5555555555555556,\"#d8576b\"],[0.6666666666666666,\"#ed7953\"],[0.7777777777777778,\"#fb9f3a\"],[0.8888888888888888,\"#fdca26\"],[1.0,\"#f0f921\"]],\"type\":\"contour\"}],\"contourcarpet\":[{\"colorbar\":{\"outlinewidth\":0,\"ticks\":\"\"},\"type\":\"contourcarpet\"}],\"heatmap\":[{\"colorbar\":{\"outlinewidth\":0,\"ticks\":\"\"},\"colorscale\":[[0.0,\"#0d0887\"],[0.1111111111111111,\"#46039f\"],[0.2222222222222222,\"#7201a8\"],[0.3333333333333333,\"#9c179e\"],[0.4444444444444444,\"#bd3786\"],[0.5555555555555556,\"#d8576b\"],[0.6666666666666666,\"#ed7953\"],[0.7777777777777778,\"#fb9f3a\"],[0.8888888888888888,\"#fdca26\"],[1.0,\"#f0f921\"]],\"type\":\"heatmap\"}],\"heatmapgl\":[{\"colorbar\":{\"outlinewidth\":0,\"ticks\":\"\"},\"colorscale\":[[0.0,\"#0d0887\"],[0.1111111111111111,\"#46039f\"],[0.2222222222222222,\"#7201a8\"],[0.3333333333333333,\"#9c179e\"],[0.4444444444444444,\"#bd3786\"],[0.5555555555555556,\"#d8576b\"],[0.6666666666666666,\"#ed7953\"],[0.7777777777777778,\"#fb9f3a\"],[0.8888888888888888,\"#fdca26\"],[1.0,\"#f0f921\"]],\"type\":\"heatmapgl\"}],\"histogram\":[{\"marker\":{\"pattern\":{\"fillmode\":\"overlay\",\"size\":10,\"solidity\":0.2}},\"type\":\"histogram\"}],\"histogram2d\":[{\"colorbar\":{\"outlinewidth\":0,\"ticks\":\"\"},\"colorscale\":[[0.0,\"#0d0887\"],[0.1111111111111111,\"#46039f\"],[0.2222222222222222,\"#7201a8\"],[0.3333333333333333,\"#9c179e\"],[0.4444444444444444,\"#bd3786\"],[0.5555555555555556,\"#d8576b\"],[0.6666666666666666,\"#ed7953\"],[0.7777777777777778,\"#fb9f3a\"],[0.8888888888888888,\"#fdca26\"],[1.0,\"#f0f921\"]],\"type\":\"histogram2d\"}],\"histogram2dcontour\":[{\"colorbar\":{\"outlinewidth\":0,\"ticks\":\"\"},\"colorscale\":[[0.0,\"#0d0887\"],[0.1111111111111111,\"#46039f\"],[0.2222222222222222,\"#7201a8\"],[0.3333333333333333,\"#9c179e\"],[0.4444444444444444,\"#bd3786\"],[0.5555555555555556,\"#d8576b\"],[0.6666666666666666,\"#ed7953\"],[0.7777777777777778,\"#fb9f3a\"],[0.8888888888888888,\"#fdca26\"],[1.0,\"#f0f921\"]],\"type\":\"histogram2dcontour\"}],\"mesh3d\":[{\"colorbar\":{\"outlinewidth\":0,\"ticks\":\"\"},\"type\":\"mesh3d\"}],\"parcoords\":[{\"line\":{\"colorbar\":{\"outlinewidth\":0,\"ticks\":\"\"}},\"type\":\"parcoords\"}],\"pie\":[{\"automargin\":true,\"type\":\"pie\"}],\"scatter\":[{\"marker\":{\"colorbar\":{\"outlinewidth\":0,\"ticks\":\"\"}},\"type\":\"scatter\"}],\"scatter3d\":[{\"line\":{\"colorbar\":{\"outlinewidth\":0,\"ticks\":\"\"}},\"marker\":{\"colorbar\":{\"outlinewidth\":0,\"ticks\":\"\"}},\"type\":\"scatter3d\"}],\"scattercarpet\":[{\"marker\":{\"colorbar\":{\"outlinewidth\":0,\"ticks\":\"\"}},\"type\":\"scattercarpet\"}],\"scattergeo\":[{\"marker\":{\"colorbar\":{\"outlinewidth\":0,\"ticks\":\"\"}},\"type\":\"scattergeo\"}],\"scattergl\":[{\"marker\":{\"colorbar\":{\"outlinewidth\":0,\"ticks\":\"\"}},\"type\":\"scattergl\"}],\"scattermapbox\":[{\"marker\":{\"colorbar\":{\"outlinewidth\":0,\"ticks\":\"\"}},\"type\":\"scattermapbox\"}],\"scatterpolar\":[{\"marker\":{\"colorbar\":{\"outlinewidth\":0,\"ticks\":\"\"}},\"type\":\"scatterpolar\"}],\"scatterpolargl\":[{\"marker\":{\"colorbar\":{\"outlinewidth\":0,\"ticks\":\"\"}},\"type\":\"scatterpolargl\"}],\"scatterternary\":[{\"marker\":{\"colorbar\":{\"outlinewidth\":0,\"ticks\":\"\"}},\"type\":\"scatterternary\"}],\"surface\":[{\"colorbar\":{\"outlinewidth\":0,\"ticks\":\"\"},\"colorscale\":[[0.0,\"#0d0887\"],[0.1111111111111111,\"#46039f\"],[0.2222222222222222,\"#7201a8\"],[0.3333333333333333,\"#9c179e\"],[0.4444444444444444,\"#bd3786\"],[0.5555555555555556,\"#d8576b\"],[0.6666666666666666,\"#ed7953\"],[0.7777777777777778,\"#fb9f3a\"],[0.8888888888888888,\"#fdca26\"],[1.0,\"#f0f921\"]],\"type\":\"surface\"}],\"table\":[{\"cells\":{\"fill\":{\"color\":\"#EBF0F8\"},\"line\":{\"color\":\"white\"}},\"header\":{\"fill\":{\"color\":\"#C8D4E3\"},\"line\":{\"color\":\"white\"}},\"type\":\"table\"}]},\"layout\":{\"annotationdefaults\":{\"arrowcolor\":\"#2a3f5f\",\"arrowhead\":0,\"arrowwidth\":1},\"autotypenumbers\":\"strict\",\"coloraxis\":{\"colorbar\":{\"outlinewidth\":0,\"ticks\":\"\"}},\"colorscale\":{\"diverging\":[[0,\"#8e0152\"],[0.1,\"#c51b7d\"],[0.2,\"#de77ae\"],[0.3,\"#f1b6da\"],[0.4,\"#fde0ef\"],[0.5,\"#f7f7f7\"],[0.6,\"#e6f5d0\"],[0.7,\"#b8e186\"],[0.8,\"#7fbc41\"],[0.9,\"#4d9221\"],[1,\"#276419\"]],\"sequential\":[[0.0,\"#0d0887\"],[0.1111111111111111,\"#46039f\"],[0.2222222222222222,\"#7201a8\"],[0.3333333333333333,\"#9c179e\"],[0.4444444444444444,\"#bd3786\"],[0.5555555555555556,\"#d8576b\"],[0.6666666666666666,\"#ed7953\"],[0.7777777777777778,\"#fb9f3a\"],[0.8888888888888888,\"#fdca26\"],[1.0,\"#f0f921\"]],\"sequentialminus\":[[0.0,\"#0d0887\"],[0.1111111111111111,\"#46039f\"],[0.2222222222222222,\"#7201a8\"],[0.3333333333333333,\"#9c179e\"],[0.4444444444444444,\"#bd3786\"],[0.5555555555555556,\"#d8576b\"],[0.6666666666666666,\"#ed7953\"],[0.7777777777777778,\"#fb9f3a\"],[0.8888888888888888,\"#fdca26\"],[1.0,\"#f0f921\"]]},\"colorway\":[\"#636efa\",\"#EF553B\",\"#00cc96\",\"#ab63fa\",\"#FFA15A\",\"#19d3f3\",\"#FF6692\",\"#B6E880\",\"#FF97FF\",\"#FECB52\"],\"font\":{\"color\":\"#2a3f5f\"},\"geo\":{\"bgcolor\":\"white\",\"lakecolor\":\"white\",\"landcolor\":\"#E5ECF6\",\"showlakes\":true,\"showland\":true,\"subunitcolor\":\"white\"},\"hoverlabel\":{\"align\":\"left\"},\"hovermode\":\"closest\",\"mapbox\":{\"style\":\"light\"},\"paper_bgcolor\":\"white\",\"plot_bgcolor\":\"#E5ECF6\",\"polar\":{\"angularaxis\":{\"gridcolor\":\"white\",\"linecolor\":\"white\",\"ticks\":\"\"},\"bgcolor\":\"#E5ECF6\",\"radialaxis\":{\"gridcolor\":\"white\",\"linecolor\":\"white\",\"ticks\":\"\"}},\"scene\":{\"xaxis\":{\"backgroundcolor\":\"#E5ECF6\",\"gridcolor\":\"white\",\"gridwidth\":2,\"linecolor\":\"white\",\"showbackground\":true,\"ticks\":\"\",\"zerolinecolor\":\"white\"},\"yaxis\":{\"backgroundcolor\":\"#E5ECF6\",\"gridcolor\":\"white\",\"gridwidth\":2,\"linecolor\":\"white\",\"showbackground\":true,\"ticks\":\"\",\"zerolinecolor\":\"white\"},\"zaxis\":{\"backgroundcolor\":\"#E5ECF6\",\"gridcolor\":\"white\",\"gridwidth\":2,\"linecolor\":\"white\",\"showbackground\":true,\"ticks\":\"\",\"zerolinecolor\":\"white\"}},\"shapedefaults\":{\"line\":{\"color\":\"#2a3f5f\"}},\"ternary\":{\"aaxis\":{\"gridcolor\":\"white\",\"linecolor\":\"white\",\"ticks\":\"\"},\"baxis\":{\"gridcolor\":\"white\",\"linecolor\":\"white\",\"ticks\":\"\"},\"bgcolor\":\"#E5ECF6\",\"caxis\":{\"gridcolor\":\"white\",\"linecolor\":\"white\",\"ticks\":\"\"}},\"title\":{\"x\":0.05},\"xaxis\":{\"automargin\":true,\"gridcolor\":\"white\",\"linecolor\":\"white\",\"ticks\":\"\",\"title\":{\"standoff\":15},\"zerolinecolor\":\"white\",\"zerolinewidth\":2},\"yaxis\":{\"automargin\":true,\"gridcolor\":\"white\",\"linecolor\":\"white\",\"ticks\":\"\",\"title\":{\"standoff\":15},\"zerolinecolor\":\"white\",\"zerolinewidth\":2}}},\"scene\":{\"domain\":{\"x\":[0.0,1.0],\"y\":[0.0,1.0]},\"xaxis\":{\"title\":{\"text\":\"sl\"}},\"yaxis\":{\"title\":{\"text\":\"sw\"}},\"zaxis\":{\"title\":{\"text\":\"pw\"}}},\"coloraxis\":{\"colorbar\":{\"title\":{\"text\":\"species\"}},\"colorscale\":[[0.0,\"#0d0887\"],[0.1111111111111111,\"#46039f\"],[0.2222222222222222,\"#7201a8\"],[0.3333333333333333,\"#9c179e\"],[0.4444444444444444,\"#bd3786\"],[0.5555555555555556,\"#d8576b\"],[0.6666666666666666,\"#ed7953\"],[0.7777777777777778,\"#fb9f3a\"],[0.8888888888888888,\"#fdca26\"],[1.0,\"#f0f921\"]]},\"legend\":{\"tracegroupgap\":0},\"margin\":{\"t\":60}},                        {\"responsive\": true}                    ).then(function(){\n",
              "                            \n",
              "var gd = document.getElementById('f1331864-4a5e-4be6-a04c-c60eacf27d5d');\n",
              "var x = new MutationObserver(function (mutations, observer) {{\n",
              "        var display = window.getComputedStyle(gd).display;\n",
              "        if (!display || display === 'none') {{\n",
              "            console.log([gd, 'removed!']);\n",
              "            Plotly.purge(gd);\n",
              "            observer.disconnect();\n",
              "        }}\n",
              "}});\n",
              "\n",
              "// Listen for the removal of the full notebook cells\n",
              "var notebookContainer = gd.closest('#notebook-container');\n",
              "if (notebookContainer) {{\n",
              "    x.observe(notebookContainer, {childList: true});\n",
              "}}\n",
              "\n",
              "// Listen for the clearing of the current output cell\n",
              "var outputEl = gd.closest('.output');\n",
              "if (outputEl) {{\n",
              "    x.observe(outputEl, {childList: true});\n",
              "}}\n",
              "\n",
              "                        })                };                            </script>        </div>\n",
              "</body>\n",
              "</html>"
            ]
          },
          "metadata": {}
        }
      ]
    },
    {
      "cell_type": "markdown",
      "source": [
        "#### <font color= #4CC9F0 > Definir y dividir las variables"
      ],
      "metadata": {
        "id": "cJY_qWALECg1"
      }
    },
    {
      "cell_type": "code",
      "source": [
        "X=data[['sl','sw','pl','pw']]\n",
        "y=data[\"species\"]\n",
        "#Entrenamiento, validacion y prueba\n",
        "X_tr, X_ts, y_tr, y_ts = train_test_split(X,y,test_size=0.2)"
      ],
      "metadata": {
        "id": "4l1hpQMVEHZi"
      },
      "execution_count": null,
      "outputs": []
    },
    {
      "cell_type": "markdown",
      "source": [
        "#### <font color= #4CC9F0 > Definir y entrenar el modelo"
      ],
      "metadata": {
        "id": "1IvERELwEgvk"
      }
    },
    {
      "cell_type": "code",
      "source": [
        "from sklearn.metrics.pairwise import manhattan_distances\n",
        "## Definir numero de vecinos y distancia\n",
        "KNN = knn(n_neighbors=5, p=2)\n",
        "#Entrenar el modelo\n",
        "KNN.fit(X_tr, y_tr)"
      ],
      "metadata": {
        "colab": {
          "base_uri": "https://localhost:8080/"
        },
        "id": "Wrkntg0vEjA9",
        "outputId": "2bdbb402-f091-4090-8fe5-9f0247068104"
      },
      "execution_count": null,
      "outputs": [
        {
          "output_type": "execute_result",
          "data": {
            "text/plain": [
              "KNeighborsClassifier()"
            ]
          },
          "metadata": {},
          "execution_count": 10
        }
      ]
    },
    {
      "cell_type": "markdown",
      "source": [
        "#### <font color= #4CC9F0 > Predicciones"
      ],
      "metadata": {
        "id": "PQawuyB7E1Gk"
      }
    },
    {
      "cell_type": "code",
      "source": [
        "y_pr = KNN.predict(X_ts)"
      ],
      "metadata": {
        "id": "qlQlSXWmE0DS"
      },
      "execution_count": null,
      "outputs": []
    },
    {
      "cell_type": "markdown",
      "source": [
        "#### <font color= #4CC9F0 > Matriz de confusión"
      ],
      "metadata": {
        "id": "HPhpsDmiE8O5"
      }
    },
    {
      "cell_type": "code",
      "source": [
        "from sklearn.metrics import confusion_matrix\n",
        "cm = confusion_matrix(y_ts, y_pr)"
      ],
      "metadata": {
        "id": "SNCel7QKE81K"
      },
      "execution_count": null,
      "outputs": []
    },
    {
      "cell_type": "code",
      "source": [
        "%matplotlib inline\n",
        "import matplotlib.pyplot as plt\n",
        "import seaborn as sn\n",
        "plt.figure(figsize=(7,5))\n",
        "sn.heatmap(cm, annot=True)\n",
        "plt.xlabel('Predicted')\n",
        "plt.ylabel('Truth')"
      ],
      "metadata": {
        "colab": {
          "base_uri": "https://localhost:8080/",
          "height": 355
        },
        "id": "5X1GQZQtE_44",
        "outputId": "94f096a7-afa4-4f54-bca8-5ec18e36bab4"
      },
      "execution_count": null,
      "outputs": [
        {
          "output_type": "execute_result",
          "data": {
            "text/plain": [
              "Text(42.0, 0.5, 'Truth')"
            ]
          },
          "metadata": {},
          "execution_count": 13
        },
        {
          "output_type": "display_data",
          "data": {
            "text/plain": [
              "<Figure size 504x360 with 2 Axes>"
            ],
            "image/png": "[encoded data removed]"
          },
          "metadata": {
            "needs_background": "light"
          }
        }
      ]
    },
    {
      "cell_type": "markdown",
      "source": [
        "#### <font color= #4CC9F0 >Precisión del modelo"
      ],
      "metadata": {
        "id": "YeM4J-7tFH2d"
      }
    },
    {
      "cell_type": "code",
      "source": [
        "print(\"Accuracy:\",metrics.accuracy_score(y_ts, y_pr))"
      ],
      "metadata": {
        "colab": {
          "base_uri": "https://localhost:8080/"
        },
        "id": "wK0UxVn4FJy9",
        "outputId": "d1b3fe2a-f86a-4edc-e281-f6099cd39fae"
      },
      "execution_count": null,
      "outputs": [
        {
          "output_type": "stream",
          "name": "stdout",
          "text": [
            "Accuracy: 0.9666666666666667\n"
          ]
        }
      ]
    },
    {
      "cell_type": "code",
      "source": [
        "from sklearn.metrics import classification_report\n",
        "print(classification_report(y_ts, y_pr))"
      ],
      "metadata": {
        "id": "-7YZQyHdFQ6J",
        "outputId": "9e13984e-d530-4dac-a8e2-ab99db489d48",
        "colab": {
          "base_uri": "https://localhost:8080/"
        }
      },
      "execution_count": null,
      "outputs": [
        {
          "output_type": "stream",
          "name": "stdout",
          "text": [
            "              precision    recall  f1-score   support\n",
            "\n",
            "           0       1.00      1.00      1.00        16\n",
            "           1       0.83      1.00      0.91         5\n",
            "           2       1.00      0.89      0.94         9\n",
            "\n",
            "    accuracy                           0.97        30\n",
            "   macro avg       0.94      0.96      0.95        30\n",
            "weighted avg       0.97      0.97      0.97        30\n",
            "\n"
          ]
        }
      ]
    },
    {
      "cell_type": "markdown",
      "metadata": {
        "id": "e_6I3tpRlrQB"
      },
      "source": [
        "### <font color= #4CC9F0 > Ejercico dos"
      ]
    },
    {
      "cell_type": "markdown",
      "source": [
        "Para este primer ejercicio se utilizó la base de datos \"Predict Diabetes\" la cual fue tomada de Kaggle [Diabetes](https://www.kaggle.com/datasets/whenamancodes/predict-diabities). la idea de esta base de datos es predecir de manera diagnóstica si un paciente tiene diabetes (Outcome), en función de ciertas medidas de diagnóstico incluidas en el conjunto de datos, la muestra fue en particular para mujeres de al menos 21 años.\n",
        "\n",
        "Para el siguiente ejercicio se recomienda tomar tres variables de valores continuos (Glucose, BloodPressure, SkinThickness, Insulin, BMI, DiabetesPedigreeFunction) o bien se podría hacer un PCA (analisis de componentes pricipales) reduciendo las dimensiones de dos a tres componentes.\n",
        "\n",
        "Por ultimo se recomienda el siguiente paso a paso:\n",
        "\n",
        "Importación de las librerías.\n",
        "\n",
        "Importación de las bases de datos con una ilustración de estos.\n",
        "\n",
        "Definir las variables y dividir los datos en entrenamiento y prueba.\n",
        "\n",
        "Definir y entrenar el modelo.\n",
        "\n",
        "Hacer las predicciones.\n",
        "\n",
        "ilustrar la matriz de confusión.\n",
        "\n",
        "evaluar la precisión del modelo.\n",
        "\n",
        "\n"
      ],
      "metadata": {
        "id": "eWmYCPZORTNz"
      }
    },
    {
      "cell_type": "markdown",
      "metadata": {
        "id": "LeYXdzmzl1b5"
      },
      "source": [
        "#### <font color= #4CC9F0 > Importación de las librerías"
      ]
    },
    {
      "cell_type": "code",
      "execution_count": null,
      "metadata": {
        "id": "bVfuois-lsp9"
      },
      "outputs": [],
      "source": [
        "from sklearn.model_selection import train_test_split\n",
        "from sklearn.neighbors import KNeighborsClassifier as knn\n",
        "from sklearn import metrics\n",
        "from sklearn import datasets\n",
        "import pandas as pd"
      ]
    },
    {
      "cell_type": "markdown",
      "metadata": {
        "id": "vVMXnkKcmAX4"
      },
      "source": [
        "#### <font color= #4CC9F0 > Importación de los datos"
      ]
    },
    {
      "cell_type": "code",
      "execution_count": null,
      "metadata": {
        "colab": {
          "base_uri": "https://localhost:8080/",
          "height": 206
        },
        "id": "DcO9wxlAmAgh",
        "outputId": "5b4cae55-4f56-46cc-d9d2-ae5be804654f"
      },
      "outputs": [
        {
          "data": {
            "text/html": [
              "\n",
              "  <div id=\"df-4d100b22-0729-4684-a6ae-43bca6e3dd27\">\n",
              "    <div class=\"colab-df-container\">\n",
              "      <div>\n",
              "<style scoped>\n",
              "    .dataframe tbody tr th:only-of-type {\n",
              "        vertical-align: middle;\n",
              "    }\n",
              "\n",
              "    .dataframe tbody tr th {\n",
              "        vertical-align: top;\n",
              "    }\n",
              "\n",
              "    .dataframe thead th {\n",
              "        text-align: right;\n",
              "    }\n",
              "</style>\n",
              "<table border=\"1\" class=\"dataframe\">\n",
              "  <thead>\n",
              "    <tr style=\"text-align: right;\">\n",
              "      <th></th>\n",
              "      <th>Pregnancies</th>\n",
              "      <th>Glucose</th>\n",
              "      <th>BloodPressure</th>\n",
              "      <th>SkinThickness</th>\n",
              "      <th>Insulin</th>\n",
              "      <th>BMI</th>\n",
              "      <th>DiabetesPedigreeFunction</th>\n",
              "      <th>Age</th>\n",
              "      <th>Outcome</th>\n",
              "    </tr>\n",
              "  </thead>\n",
              "  <tbody>\n",
              "    <tr>\n",
              "      <th>0</th>\n",
              "      <td>6</td>\n",
              "      <td>148</td>\n",
              "      <td>72</td>\n",
              "      <td>35</td>\n",
              "      <td>0</td>\n",
              "      <td>33.6</td>\n",
              "      <td>0.627</td>\n",
              "      <td>50</td>\n",
              "      <td>1</td>\n",
              "    </tr>\n",
              "    <tr>\n",
              "      <th>1</th>\n",
              "      <td>1</td>\n",
              "      <td>85</td>\n",
              "      <td>66</td>\n",
              "      <td>29</td>\n",
              "      <td>0</td>\n",
              "      <td>26.6</td>\n",
              "      <td>0.351</td>\n",
              "      <td>31</td>\n",
              "      <td>0</td>\n",
              "    </tr>\n",
              "    <tr>\n",
              "      <th>2</th>\n",
              "      <td>8</td>\n",
              "      <td>183</td>\n",
              "      <td>64</td>\n",
              "      <td>0</td>\n",
              "      <td>0</td>\n",
              "      <td>23.3</td>\n",
              "      <td>0.672</td>\n",
              "      <td>32</td>\n",
              "      <td>1</td>\n",
              "    </tr>\n",
              "    <tr>\n",
              "      <th>3</th>\n",
              "      <td>1</td>\n",
              "      <td>89</td>\n",
              "      <td>66</td>\n",
              "      <td>23</td>\n",
              "      <td>94</td>\n",
              "      <td>28.1</td>\n",
              "      <td>0.167</td>\n",
              "      <td>21</td>\n",
              "      <td>0</td>\n",
              "    </tr>\n",
              "    <tr>\n",
              "      <th>4</th>\n",
              "      <td>0</td>\n",
              "      <td>137</td>\n",
              "      <td>40</td>\n",
              "      <td>35</td>\n",
              "      <td>168</td>\n",
              "      <td>43.1</td>\n",
              "      <td>2.288</td>\n",
              "      <td>33</td>\n",
              "      <td>1</td>\n",
              "    </tr>\n",
              "  </tbody>\n",
              "</table>\n",
              "</div>\n",
              "      <button class=\"colab-df-convert\" onclick=\"convertToInteractive('df-4d100b22-0729-4684-a6ae-43bca6e3dd27')\"\n",
              "              title=\"Convert this dataframe to an interactive table.\"\n",
              "              style=\"display:none;\">\n",
              "        \n",
              "  <svg xmlns=\"http://www.w3.org/2000/svg\" height=\"24px\"viewBox=\"0 0 24 24\"\n",
              "       width=\"24px\">\n",
              "    <path d=\"M0 0h24v24H0V0z\" fill=\"none\"/>\n",
              "    <path d=\"M18.56 5.44l.94 2.06.94-2.06 2.06-.94-2.06-.94-.94-2.06-.94 2.06-2.06.94zm-11 1L8.5 8.5l.94-2.06 2.06-.94-2.06-.94L8.5 2.5l-.94 2.06-2.06.94zm10 10l.94 2.06.94-2.06 2.06-.94-2.06-.94-.94-2.06-.94 2.06-2.06.94z\"/><path d=\"M17.41 7.96l-1.37-1.37c-.4-.4-.92-.59-1.43-.59-.52 0-1.04.2-1.43.59L10.3 9.45l-7.72 7.72c-.78.78-.78 2.05 0 2.83L4 21.41c.39.39.9.59 1.41.59.51 0 1.02-.2 1.41-.59l7.78-7.78 2.81-2.81c.8-.78.8-2.07 0-2.86zM5.41 20L4 18.59l7.72-7.72 1.47 1.35L5.41 20z\"/>\n",
              "  </svg>\n",
              "      </button>\n",
              "      \n",
              "  <style>\n",
              "    .colab-df-container {\n",
              "      display:flex;\n",
              "      flex-wrap:wrap;\n",
              "      gap: 12px;\n",
              "    }\n",
              "\n",
              "    .colab-df-convert {\n",
              "      background-color: #E8F0FE;\n",
              "      border: none;\n",
              "      border-radius: 50%;\n",
              "      cursor: pointer;\n",
              "      display: none;\n",
              "      fill: #1967D2;\n",
              "      height: 32px;\n",
              "      padding: 0 0 0 0;\n",
              "      width: 32px;\n",
              "    }\n",
              "\n",
              "    .colab-df-convert:hover {\n",
              "      background-color: #E2EBFA;\n",
              "      box-shadow: 0px 1px 2px rgba(60, 64, 67, 0.3), 0px 1px 3px 1px rgba(60, 64, 67, 0.15);\n",
              "      fill: #174EA6;\n",
              "    }\n",
              "\n",
              "    [theme=dark] .colab-df-convert {\n",
              "      background-color: #3B4455;\n",
              "      fill: #D2E3FC;\n",
              "    }\n",
              "\n",
              "    [theme=dark] .colab-df-convert:hover {\n",
              "      background-color: #434B5C;\n",
              "      box-shadow: 0px 1px 3px 1px rgba(0, 0, 0, 0.15);\n",
              "      filter: drop-shadow(0px 1px 2px rgba(0, 0, 0, 0.3));\n",
              "      fill: #FFFFFF;\n",
              "    }\n",
              "  </style>\n",
              "\n",
              "      <script>\n",
              "        const buttonEl =\n",
              "          document.querySelector('#df-4d100b22-0729-4684-a6ae-43bca6e3dd27 button.colab-df-convert');\n",
              "        buttonEl.style.display =\n",
              "          google.colab.kernel.accessAllowed ? 'block' : 'none';\n",
              "\n",
              "        async function convertToInteractive(key) {\n",
              "          const element = document.querySelector('#df-4d100b22-0729-4684-a6ae-43bca6e3dd27');\n",
              "          const dataTable =\n",
              "            await google.colab.kernel.invokeFunction('convertToInteractive',\n",
              "                                                     [key], {});\n",
              "          if (!dataTable) return;\n",
              "\n",
              "          const docLinkHtml = 'Like what you see? Visit the ' +\n",
              "            '<a target=\"_blank\" href=https://colab.research.google.com/notebooks/data_table.ipynb>data table notebook</a>'\n",
              "            + ' to learn more about interactive tables.';\n",
              "          element.innerHTML = '';\n",
              "          dataTable['output_type'] = 'display_data';\n",
              "          await google.colab.output.renderOutput(dataTable, element);\n",
              "          const docLink = document.createElement('div');\n",
              "          docLink.innerHTML = docLinkHtml;\n",
              "          element.appendChild(docLink);\n",
              "        }\n",
              "      </script>\n",
              "    </div>\n",
              "  </div>\n",
              "  "
            ],
            "text/plain": [
              "   Pregnancies  Glucose  BloodPressure  SkinThickness  Insulin   BMI  \\\n",
              "0            6      148             72             35        0  33.6   \n",
              "1            1       85             66             29        0  26.6   \n",
              "2            8      183             64              0        0  23.3   \n",
              "3            1       89             66             23       94  28.1   \n",
              "4            0      137             40             35      168  43.1   \n",
              "\n",
              "   DiabetesPedigreeFunction  Age  Outcome  \n",
              "0                     0.627   50        1  \n",
              "1                     0.351   31        0  \n",
              "2                     0.672   32        1  \n",
              "3                     0.167   21        0  \n",
              "4                     2.288   33        1  "
            ]
          },
          "execution_count": 5,
          "metadata": {},
          "output_type": "execute_result"
        }
      ],
      "source": [
        "data= pd.read_csv(\"/content/drive/Shareddrives/Mineria/diabetes.csv\", sep=\",\")\n",
        "data.head()"
      ]
    },
    {
      "cell_type": "code",
      "execution_count": null,
      "metadata": {
        "colab": {
          "base_uri": "https://localhost:8080/"
        },
        "id": "TjzyjkEIqxvr",
        "outputId": "3bb67612-a60a-4352-a93a-689a55172144"
      },
      "outputs": [
        {
          "data": {
            "text/html": [
              "<html>\n",
              "<head><meta charset=\"utf-8\" /></head>\n",
              "<body>\n",
              "    <div>            <script src=\"https://cdnjs.cloudflare.com/ajax/libs/mathjax/2.7.5/MathJax.js?config=TeX-AMS-MML_SVG\"></script><script type=\"text/javascript\">if (window.MathJax) {MathJax.Hub.Config({SVG: {font: \"STIX-Web\"}});}</script>                <script type=\"text/javascript\">window.PlotlyConfig = {MathJaxConfig: 'local'};</script>\n",
              "        <script src=\"https://cdn.plot.ly/plotly-2.8.3.min.js\"></script>                <div id=\"8b1643a5-bd18-4fde-b5c9-2ececbc02654\" class=\"plotly-graph-div\" style=\"height:525px; width:100%;\"></div>            <script type=\"text/javascript\">                                    window.PLOTLYENV=window.PLOTLYENV || {};                                    if (document.getElementById(\"8b1643a5-bd18-4fde-b5c9-2ececbc02654\")) {                    Plotly.newPlot(                        \"8b1643a5-bd18-4fde-b5c9-2ececbc02654\",                        [{\"hovertemplate\":\"Glucose=%{x}<br>BloodPressure=%{y}<br>BMI=%{z}<br>Outcome=%{marker.color}<extra></extra>\",\"legendgroup\":\"\",\"marker\":{\"color\":[1,0,1,0,1,0,1,0,1,1,0,1,0,1,1,1,1,1,0,1,0,0,1,1,1,1,1,0,0,0,0,1,0,0,0,0,0,1,1,1,0,0,0,1,0,1,0,0,1,0,0,0,0,1,0,0,1,0,0,0,0,1,0,0,1,0,1,0,0,0,1,0,1,0,0,0,0,0,1,0,0,0,0,0,1,0,0,0,1,0,0,0,0,1,0,0,0,0,0,1,1,0,0,0,0,0,0,0,0,1,1,1,0,0,1,1,1,0,0,0,1,0,0,0,1,1,0,0,1,1,1,1,1,0,0,0,0,0,0,0,0,0,0,1,0,0,0,0,0,0,0,0,1,0,1,1,0,0,0,1,0,0,0,0,1,1,0,0,0,0,1,1,0,0,0,1,0,1,0,1,0,0,0,0,0,1,1,1,1,1,0,0,1,1,0,1,0,1,1,1,0,0,0,0,0,0,1,1,0,1,0,0,0,1,1,1,1,0,1,1,1,1,0,0,0,0,0,1,0,0,1,1,0,0,0,1,1,1,1,0,0,0,1,1,0,1,0,0,0,0,0,0,0,0,1,1,0,0,0,1,0,1,0,0,1,0,1,0,0,1,1,0,0,0,0,0,1,0,0,0,1,0,0,1,1,0,0,1,0,0,0,1,1,1,0,0,1,0,1,0,1,1,0,1,0,0,1,0,1,1,0,0,1,0,1,0,0,1,0,1,0,1,1,1,0,0,1,0,1,0,0,0,1,0,0,0,0,1,1,1,0,0,0,0,0,0,0,0,0,1,0,0,0,0,0,1,1,1,0,1,1,0,0,1,0,0,1,0,0,1,1,0,0,0,0,1,0,0,1,0,0,0,0,0,0,0,1,1,1,0,0,1,0,0,1,0,0,1,0,1,1,0,1,0,1,0,1,0,1,1,0,0,0,0,1,1,0,1,0,1,0,0,0,0,1,1,0,1,0,1,0,0,0,0,0,1,0,0,0,0,1,0,0,1,1,1,0,0,1,0,0,1,0,0,0,1,0,0,1,0,0,0,0,0,0,0,0,0,1,0,0,0,0,0,0,0,1,0,0,0,1,0,0,0,1,1,0,0,0,0,0,0,0,1,0,0,0,0,1,0,0,0,1,0,0,0,1,0,0,0,1,0,0,0,0,1,1,0,0,0,0,0,0,1,0,0,0,0,0,0,0,0,0,0,0,1,0,0,0,1,1,1,1,0,0,1,1,0,0,0,0,0,0,0,0,0,0,0,0,0,1,1,0,0,0,0,0,0,0,1,0,0,0,0,0,0,0,1,0,1,1,0,0,0,1,0,1,0,1,0,1,0,1,0,0,1,0,0,1,0,0,0,0,1,1,0,1,0,0,0,0,1,1,0,1,0,0,0,1,1,0,0,0,0,0,0,0,0,0,0,1,0,0,0,0,1,0,0,1,0,0,0,1,0,0,0,1,1,1,0,0,0,0,0,0,1,0,0,0,1,0,1,1,1,1,0,1,1,0,0,0,0,0,0,0,1,1,0,1,0,0,1,0,1,0,0,0,0,0,1,0,1,0,1,0,1,1,0,0,0,0,1,1,0,0,0,1,0,1,1,0,0,1,0,0,1,1,0,0,1,0,0,1,0,0,0,0,0,0,0,1,1,1,0,0,0,0,0,0,1,1,0,0,1,0,0,1,0,1,1,1,0,0,1,1,1,0,1,0,1,0,1,0,0,0,0,1,0],\"coloraxis\":\"coloraxis\",\"symbol\":\"circle\"},\"mode\":\"markers\",\"name\":\"\",\"scene\":\"scene\",\"showlegend\":false,\"x\":[148,85,183,89,137,116,78,115,197,125,110,168,139,189,166,100,118,107,103,115,126,99,196,119,143,125,147,97,145,117,109,158,88,92,122,103,138,102,90,111,180,133,106,171,159,180,146,71,103,105,103,101,88,176,150,73,187,100,146,105,84,133,44,141,114,99,109,109,95,146,100,139,126,129,79,0,62,95,131,112,113,74,83,101,137,110,106,100,136,107,80,123,81,134,142,144,92,71,93,122,163,151,125,81,85,126,96,144,83,95,171,155,89,76,160,146,124,78,97,99,162,111,107,132,113,88,120,118,117,105,173,122,170,84,96,125,100,93,129,105,128,106,108,108,154,102,57,106,147,90,136,114,156,153,188,152,99,109,88,163,151,102,114,100,131,104,148,120,110,111,102,134,87,79,75,179,85,129,143,130,87,119,0,73,141,194,181,128,109,139,111,123,159,135,85,158,105,107,109,148,113,138,108,99,103,111,196,162,96,184,81,147,179,140,112,151,109,125,85,112,177,158,119,142,100,87,101,162,197,117,142,134,79,122,74,171,181,179,164,104,91,91,139,119,146,184,122,165,124,111,106,129,90,86,92,113,111,114,193,155,191,141,95,142,123,96,138,128,102,146,101,108,122,71,106,100,106,104,114,108,146,129,133,161,108,136,155,119,96,108,78,107,128,128,161,151,146,126,100,112,167,144,77,115,150,120,161,137,128,124,80,106,155,113,109,112,99,182,115,194,129,112,124,152,112,157,122,179,102,105,118,87,180,106,95,165,117,115,152,178,130,95,0,122,95,126,139,116,99,0,92,137,61,90,90,165,125,129,88,196,189,158,103,146,147,99,124,101,81,133,173,118,84,105,122,140,98,87,156,93,107,105,109,90,125,119,116,105,144,100,100,166,131,116,158,127,96,131,82,193,95,137,136,72,168,123,115,101,197,172,102,112,143,143,138,173,97,144,83,129,119,94,102,115,151,184,94,181,135,95,99,89,80,139,90,141,140,147,97,107,189,83,117,108,117,180,100,95,104,120,82,134,91,119,100,175,135,86,148,134,120,71,74,88,115,124,74,97,120,154,144,137,119,136,114,137,105,114,126,132,158,123,85,84,145,135,139,173,99,194,83,89,99,125,80,166,110,81,195,154,117,84,0,94,96,75,180,130,84,120,84,139,91,91,99,163,145,125,76,129,68,124,114,130,125,87,97,116,117,111,122,107,86,91,77,132,105,57,127,129,100,128,90,84,88,186,187,131,164,189,116,84,114,88,84,124,97,110,103,85,125,198,87,99,91,95,99,92,154,121,78,130,111,98,143,119,108,118,133,197,151,109,121,100,124,93,143,103,176,73,111,112,132,82,123,188,67,89,173,109,108,96,124,150,183,124,181,92,152,111,106,174,168,105,138,106,117,68,112,119,112,92,183,94,108,90,125,132,128,94,114,102,111,128,92,104,104,94,97,100,102,128,147,90,103,157,167,179,136,107,91,117,123,120,106,155,101,120,127,80,162,199,167,145,115,112,145,111,98,154,165,99,68,123,91,195,156,93,121,101,56,162,95,125,136,129,130,107,140,144,107,158,121,129,90,142,169,99,127,118,122,125,168,129,110,80,115,127,164,93,158,126,129,134,102,187,173,94,108,97,83,114,149,117,111,112,116,141,175,92,130,120,174,106,105,95,126,65,99,102,120,102,109,140,153,100,147,81,187,162,136,121,108,181,154,128,137,123,106,190,88,170,89,101,122,121,126,93],\"y\":[72,66,64,66,40,74,50,0,70,96,92,74,80,60,72,0,84,74,30,70,88,84,90,80,94,70,76,66,82,92,75,76,58,92,78,60,76,76,68,72,64,84,92,110,64,66,56,70,66,0,80,50,66,90,66,50,68,88,82,64,0,72,62,58,66,74,88,92,66,85,66,64,90,86,75,48,78,72,0,66,44,0,78,65,108,74,72,68,70,68,55,80,78,72,82,72,62,48,50,90,72,60,96,72,65,56,122,58,58,85,72,62,76,62,54,92,74,48,60,76,76,64,74,80,76,30,70,58,88,84,70,56,64,74,68,60,70,60,80,72,78,82,52,66,62,75,80,64,78,70,74,65,86,82,78,88,52,56,74,72,90,74,80,64,88,74,66,68,66,90,82,70,0,60,64,72,78,110,78,82,80,64,74,60,74,68,68,98,76,80,62,70,66,0,55,84,58,62,64,60,80,82,68,70,72,72,76,104,64,84,60,85,95,65,82,70,62,68,74,66,60,90,0,60,66,78,76,52,70,80,86,80,80,68,68,72,84,90,84,76,64,70,54,50,76,85,68,90,70,86,52,84,80,68,62,64,56,68,50,76,68,0,70,80,62,74,0,64,52,0,86,62,78,78,70,70,60,64,74,62,70,76,88,86,80,74,84,86,56,72,88,62,78,48,50,62,70,84,78,72,0,58,82,98,76,76,68,68,68,68,66,70,74,50,80,68,80,74,66,78,60,74,70,90,75,72,64,70,86,70,72,58,0,80,60,76,0,76,78,84,70,74,68,86,72,88,46,0,62,80,80,84,82,62,78,88,50,0,74,76,64,70,108,78,74,54,72,64,86,102,82,64,64,58,52,82,82,60,75,100,72,68,60,62,70,54,74,100,82,68,66,76,64,72,78,58,56,66,70,70,64,61,84,78,64,48,72,62,74,68,90,72,84,74,60,84,68,82,68,64,88,68,64,64,78,78,0,64,94,82,0,74,74,75,68,0,85,75,70,88,104,66,64,70,62,78,72,80,64,74,64,70,68,0,54,62,54,68,84,74,72,62,70,78,98,56,52,64,0,78,82,70,66,90,64,84,80,76,74,86,70,88,58,82,0,68,62,78,72,80,65,90,68,70,0,74,68,72,70,74,90,72,68,64,78,82,90,60,50,78,72,62,68,62,54,70,88,86,60,90,70,80,0,70,58,60,64,74,66,65,60,76,66,0,56,0,90,60,80,92,74,72,85,90,78,90,76,68,82,110,70,68,88,62,64,70,70,76,68,74,76,66,68,60,80,54,72,62,72,66,70,96,58,60,86,44,44,80,68,70,90,60,78,76,76,56,66,66,86,0,84,78,80,52,72,82,76,24,74,38,88,0,74,78,0,60,78,62,82,62,54,58,88,80,74,72,96,62,82,0,86,76,94,70,64,88,68,78,80,65,64,78,60,82,62,72,74,76,76,74,86,70,80,0,72,74,74,50,84,60,54,60,74,54,70,52,58,80,106,82,84,76,106,80,60,80,82,70,58,78,68,58,106,100,82,70,86,60,52,58,56,76,64,80,82,74,64,50,74,82,80,114,70,68,60,90,74,0,88,70,76,78,88,0,76,80,0,46,78,64,64,78,62,58,74,50,78,72,60,76,86,66,68,86,94,78,78,84,88,52,78,86,88,56,75,60,86,72,60,74,80,44,58,94,88,84,94,74,70,62,70,78,62,88,78,88,90,72,76,92,58,74,62,76,70,72,60,70],\"z\":[33.6,26.6,23.3,28.1,43.1,25.6,31.0,35.3,30.5,0.0,37.6,38.0,27.1,30.1,25.8,30.0,45.8,29.6,43.3,34.6,39.3,35.4,39.8,29.0,36.6,31.1,39.4,23.2,22.2,34.1,36.0,31.6,24.8,19.9,27.6,24.0,33.2,32.9,38.2,37.1,34.0,40.2,22.7,45.4,27.4,42.0,29.7,28.0,39.1,0.0,19.4,24.2,24.4,33.7,34.7,23.0,37.7,46.8,40.5,41.5,0.0,32.9,25.0,25.4,32.8,29.0,32.5,42.7,19.6,28.9,32.9,28.6,43.4,35.1,32.0,24.7,32.6,37.7,43.2,25.0,22.4,0.0,29.3,24.6,48.8,32.4,36.6,38.5,37.1,26.5,19.1,32.0,46.7,23.8,24.7,33.9,31.6,20.4,28.7,49.7,39.0,26.1,22.5,26.6,39.6,28.7,22.4,29.5,34.3,37.4,33.3,34.0,31.2,34.0,30.5,31.2,34.0,33.7,28.2,23.2,53.2,34.2,33.6,26.8,33.3,55.0,42.9,33.3,34.5,27.9,29.7,33.3,34.5,38.3,21.1,33.8,30.8,28.7,31.2,36.9,21.1,39.5,32.5,32.4,32.8,0.0,32.8,30.5,33.7,27.3,37.4,21.9,34.3,40.6,47.9,50.0,24.6,25.2,29.0,40.9,29.7,37.2,44.2,29.7,31.6,29.9,32.5,29.6,31.9,28.4,30.8,35.4,28.9,43.5,29.7,32.7,31.2,67.1,45.0,39.1,23.2,34.9,27.7,26.8,27.6,35.9,30.1,32.0,27.9,31.6,22.6,33.1,30.4,52.3,24.4,39.4,24.3,22.9,34.8,30.9,31.0,40.1,27.3,20.4,37.7,23.9,37.5,37.7,33.2,35.5,27.7,42.8,34.2,42.6,34.2,41.8,35.8,30.0,29.0,37.8,34.6,31.6,25.2,28.8,23.6,34.6,35.7,37.2,36.7,45.2,44.0,46.2,25.4,35.0,29.7,43.6,35.9,44.1,30.8,18.4,29.2,33.1,25.6,27.1,38.2,30.0,31.2,52.3,35.4,30.1,31.2,28.0,24.4,35.8,27.6,33.6,30.1,28.7,25.9,33.3,30.9,30.0,32.1,32.4,32.0,33.6,36.3,40.0,25.1,27.5,45.6,25.2,23.0,33.2,34.2,40.5,26.5,27.8,24.9,25.3,37.9,35.9,32.4,30.4,27.0,26.0,38.7,45.6,20.8,36.1,36.9,36.6,43.3,40.5,21.9,35.5,28.0,30.7,36.6,23.6,32.3,31.6,35.8,52.9,21.0,39.7,25.5,24.8,30.5,32.9,26.2,39.4,26.6,29.5,35.9,34.1,19.3,30.5,38.1,23.5,27.5,31.6,27.4,26.8,35.7,25.6,35.1,35.1,45.5,30.8,23.1,32.7,43.3,23.6,23.9,47.9,33.8,31.2,34.2,39.9,25.9,25.9,32.0,34.7,36.8,38.5,28.7,23.5,21.8,41.0,42.2,31.2,34.4,27.2,42.7,30.4,33.3,39.9,35.3,36.5,31.2,29.8,39.2,38.5,34.9,34.0,27.6,21.0,27.5,32.8,38.4,0.0,35.8,34.9,36.2,39.2,25.2,37.2,48.3,43.4,30.8,20.0,25.4,25.1,24.3,22.3,32.3,43.3,32.0,31.6,32.0,45.7,23.7,22.1,32.9,27.7,24.7,34.3,21.1,34.9,32.0,24.2,35.0,31.6,32.9,42.1,28.9,21.9,25.9,42.4,35.7,34.4,42.4,26.2,34.6,35.7,27.2,38.5,18.2,26.4,45.3,26.0,40.6,30.8,42.9,37.0,0.0,34.1,40.6,35.0,22.2,30.4,30.0,25.6,24.5,42.4,37.4,29.9,18.2,36.8,34.3,32.2,33.2,30.5,29.7,59.4,25.3,36.5,33.6,30.5,21.2,28.9,39.9,19.6,37.8,33.6,26.7,30.2,37.6,25.9,20.8,21.8,35.3,27.6,24.0,21.8,27.8,36.8,30.0,46.1,41.3,33.2,38.8,29.9,28.9,27.3,33.7,23.8,25.9,28.0,35.5,35.2,27.8,38.2,44.2,42.3,40.7,46.5,25.6,26.1,36.8,33.5,32.8,28.9,0.0,26.6,26.0,30.1,25.1,29.3,25.2,37.2,39.0,33.3,37.3,33.3,36.5,28.6,30.4,25.0,29.7,22.1,24.2,27.3,25.6,31.6,30.3,37.6,32.8,19.6,25.0,33.2,0.0,34.2,31.6,21.8,18.2,26.3,30.8,24.6,29.8,45.3,41.3,29.8,33.3,32.9,29.6,21.7,36.3,36.4,39.4,32.4,34.9,39.5,32.0,34.5,43.6,33.1,32.8,28.5,27.4,31.9,27.8,29.9,36.9,25.5,38.1,27.8,46.2,30.1,33.8,41.3,37.6,26.9,32.4,26.1,38.6,32.0,31.3,34.3,32.5,22.6,29.5,34.7,30.1,35.5,24.0,42.9,27.0,34.7,42.1,25.0,26.5,38.7,28.7,22.5,34.9,24.3,33.3,21.1,46.8,39.4,34.4,28.5,33.6,32.0,45.3,27.8,36.8,23.1,27.1,23.7,27.8,35.2,28.4,35.8,40.0,19.5,41.5,24.0,30.9,32.9,38.2,32.5,36.1,25.8,28.7,20.1,28.2,32.4,38.4,24.2,40.8,43.5,30.8,37.7,24.7,32.4,34.6,24.7,27.4,34.5,26.2,27.5,25.9,31.2,28.8,31.6,40.9,19.5,29.3,34.3,29.5,28.0,27.6,39.4,23.4,37.8,28.3,26.4,25.2,33.8,34.1,26.8,34.2,38.7,21.8,38.9,39.0,34.2,27.7,42.9,37.6,37.9,33.7,34.8,32.5,27.5,34.0,30.9,33.6,25.4,35.5,57.3,35.6,30.9,24.8,35.3,36.0,24.2,24.2,49.6,44.6,32.3,0.0,33.2,23.1,28.3,24.1,46.1,24.6,42.3,39.1,38.5,23.5,30.4,29.9,25.0,34.5,44.5,35.9,27.6,35.0,38.5,28.4,39.8,0.0,34.4,32.8,38.0,31.2,29.6,41.2,26.4,29.5,33.9,33.8,23.1,35.5,35.6,29.3,38.1,29.3,39.1,32.8,39.4,36.1,32.4,22.9,30.1,28.4,28.4,44.5,29.0,23.3,35.4,27.4,32.0,36.6,39.5,42.3,30.8,28.5,32.7,40.6,30.0,49.3,46.3,36.4,24.3,31.2,39.0,26.0,43.3,32.4,36.5,32.0,36.3,37.5,35.5,28.4,44.0,22.5,32.9,36.8,26.2,30.1,30.4],\"type\":\"scatter3d\"}],                        {\"template\":{\"data\":{\"bar\":[{\"error_x\":{\"color\":\"#2a3f5f\"},\"error_y\":{\"color\":\"#2a3f5f\"},\"marker\":{\"line\":{\"color\":\"#E5ECF6\",\"width\":0.5},\"pattern\":{\"fillmode\":\"overlay\",\"size\":10,\"solidity\":0.2}},\"type\":\"bar\"}],\"barpolar\":[{\"marker\":{\"line\":{\"color\":\"#E5ECF6\",\"width\":0.5},\"pattern\":{\"fillmode\":\"overlay\",\"size\":10,\"solidity\":0.2}},\"type\":\"barpolar\"}],\"carpet\":[{\"aaxis\":{\"endlinecolor\":\"#2a3f5f\",\"gridcolor\":\"white\",\"linecolor\":\"white\",\"minorgridcolor\":\"white\",\"startlinecolor\":\"#2a3f5f\"},\"baxis\":{\"endlinecolor\":\"#2a3f5f\",\"gridcolor\":\"white\",\"linecolor\":\"white\",\"minorgridcolor\":\"white\",\"startlinecolor\":\"#2a3f5f\"},\"type\":\"carpet\"}],\"choropleth\":[{\"colorbar\":{\"outlinewidth\":0,\"ticks\":\"\"},\"type\":\"choropleth\"}],\"contour\":[{\"colorbar\":{\"outlinewidth\":0,\"ticks\":\"\"},\"colorscale\":[[0.0,\"#0d0887\"],[0.1111111111111111,\"#46039f\"],[0.2222222222222222,\"#7201a8\"],[0.3333333333333333,\"#9c179e\"],[0.4444444444444444,\"#bd3786\"],[0.5555555555555556,\"#d8576b\"],[0.6666666666666666,\"#ed7953\"],[0.7777777777777778,\"#fb9f3a\"],[0.8888888888888888,\"#fdca26\"],[1.0,\"#f0f921\"]],\"type\":\"contour\"}],\"contourcarpet\":[{\"colorbar\":{\"outlinewidth\":0,\"ticks\":\"\"},\"type\":\"contourcarpet\"}],\"heatmap\":[{\"colorbar\":{\"outlinewidth\":0,\"ticks\":\"\"},\"colorscale\":[[0.0,\"#0d0887\"],[0.1111111111111111,\"#46039f\"],[0.2222222222222222,\"#7201a8\"],[0.3333333333333333,\"#9c179e\"],[0.4444444444444444,\"#bd3786\"],[0.5555555555555556,\"#d8576b\"],[0.6666666666666666,\"#ed7953\"],[0.7777777777777778,\"#fb9f3a\"],[0.8888888888888888,\"#fdca26\"],[1.0,\"#f0f921\"]],\"type\":\"heatmap\"}],\"heatmapgl\":[{\"colorbar\":{\"outlinewidth\":0,\"ticks\":\"\"},\"colorscale\":[[0.0,\"#0d0887\"],[0.1111111111111111,\"#46039f\"],[0.2222222222222222,\"#7201a8\"],[0.3333333333333333,\"#9c179e\"],[0.4444444444444444,\"#bd3786\"],[0.5555555555555556,\"#d8576b\"],[0.6666666666666666,\"#ed7953\"],[0.7777777777777778,\"#fb9f3a\"],[0.8888888888888888,\"#fdca26\"],[1.0,\"#f0f921\"]],\"type\":\"heatmapgl\"}],\"histogram\":[{\"marker\":{\"pattern\":{\"fillmode\":\"overlay\",\"size\":10,\"solidity\":0.2}},\"type\":\"histogram\"}],\"histogram2d\":[{\"colorbar\":{\"outlinewidth\":0,\"ticks\":\"\"},\"colorscale\":[[0.0,\"#0d0887\"],[0.1111111111111111,\"#46039f\"],[0.2222222222222222,\"#7201a8\"],[0.3333333333333333,\"#9c179e\"],[0.4444444444444444,\"#bd3786\"],[0.5555555555555556,\"#d8576b\"],[0.6666666666666666,\"#ed7953\"],[0.7777777777777778,\"#fb9f3a\"],[0.8888888888888888,\"#fdca26\"],[1.0,\"#f0f921\"]],\"type\":\"histogram2d\"}],\"histogram2dcontour\":[{\"colorbar\":{\"outlinewidth\":0,\"ticks\":\"\"},\"colorscale\":[[0.0,\"#0d0887\"],[0.1111111111111111,\"#46039f\"],[0.2222222222222222,\"#7201a8\"],[0.3333333333333333,\"#9c179e\"],[0.4444444444444444,\"#bd3786\"],[0.5555555555555556,\"#d8576b\"],[0.6666666666666666,\"#ed7953\"],[0.7777777777777778,\"#fb9f3a\"],[0.8888888888888888,\"#fdca26\"],[1.0,\"#f0f921\"]],\"type\":\"histogram2dcontour\"}],\"mesh3d\":[{\"colorbar\":{\"outlinewidth\":0,\"ticks\":\"\"},\"type\":\"mesh3d\"}],\"parcoords\":[{\"line\":{\"colorbar\":{\"outlinewidth\":0,\"ticks\":\"\"}},\"type\":\"parcoords\"}],\"pie\":[{\"automargin\":true,\"type\":\"pie\"}],\"scatter\":[{\"marker\":{\"colorbar\":{\"outlinewidth\":0,\"ticks\":\"\"}},\"type\":\"scatter\"}],\"scatter3d\":[{\"line\":{\"colorbar\":{\"outlinewidth\":0,\"ticks\":\"\"}},\"marker\":{\"colorbar\":{\"outlinewidth\":0,\"ticks\":\"\"}},\"type\":\"scatter3d\"}],\"scattercarpet\":[{\"marker\":{\"colorbar\":{\"outlinewidth\":0,\"ticks\":\"\"}},\"type\":\"scattercarpet\"}],\"scattergeo\":[{\"marker\":{\"colorbar\":{\"outlinewidth\":0,\"ticks\":\"\"}},\"type\":\"scattergeo\"}],\"scattergl\":[{\"marker\":{\"colorbar\":{\"outlinewidth\":0,\"ticks\":\"\"}},\"type\":\"scattergl\"}],\"scattermapbox\":[{\"marker\":{\"colorbar\":{\"outlinewidth\":0,\"ticks\":\"\"}},\"type\":\"scattermapbox\"}],\"scatterpolar\":[{\"marker\":{\"colorbar\":{\"outlinewidth\":0,\"ticks\":\"\"}},\"type\":\"scatterpolar\"}],\"scatterpolargl\":[{\"marker\":{\"colorbar\":{\"outlinewidth\":0,\"ticks\":\"\"}},\"type\":\"scatterpolargl\"}],\"scatterternary\":[{\"marker\":{\"colorbar\":{\"outlinewidth\":0,\"ticks\":\"\"}},\"type\":\"scatterternary\"}],\"surface\":[{\"colorbar\":{\"outlinewidth\":0,\"ticks\":\"\"},\"colorscale\":[[0.0,\"#0d0887\"],[0.1111111111111111,\"#46039f\"],[0.2222222222222222,\"#7201a8\"],[0.3333333333333333,\"#9c179e\"],[0.4444444444444444,\"#bd3786\"],[0.5555555555555556,\"#d8576b\"],[0.6666666666666666,\"#ed7953\"],[0.7777777777777778,\"#fb9f3a\"],[0.8888888888888888,\"#fdca26\"],[1.0,\"#f0f921\"]],\"type\":\"surface\"}],\"table\":[{\"cells\":{\"fill\":{\"color\":\"#EBF0F8\"},\"line\":{\"color\":\"white\"}},\"header\":{\"fill\":{\"color\":\"#C8D4E3\"},\"line\":{\"color\":\"white\"}},\"type\":\"table\"}]},\"layout\":{\"annotationdefaults\":{\"arrowcolor\":\"#2a3f5f\",\"arrowhead\":0,\"arrowwidth\":1},\"autotypenumbers\":\"strict\",\"coloraxis\":{\"colorbar\":{\"outlinewidth\":0,\"ticks\":\"\"}},\"colorscale\":{\"diverging\":[[0,\"#8e0152\"],[0.1,\"#c51b7d\"],[0.2,\"#de77ae\"],[0.3,\"#f1b6da\"],[0.4,\"#fde0ef\"],[0.5,\"#f7f7f7\"],[0.6,\"#e6f5d0\"],[0.7,\"#b8e186\"],[0.8,\"#7fbc41\"],[0.9,\"#4d9221\"],[1,\"#276419\"]],\"sequential\":[[0.0,\"#0d0887\"],[0.1111111111111111,\"#46039f\"],[0.2222222222222222,\"#7201a8\"],[0.3333333333333333,\"#9c179e\"],[0.4444444444444444,\"#bd3786\"],[0.5555555555555556,\"#d8576b\"],[0.6666666666666666,\"#ed7953\"],[0.7777777777777778,\"#fb9f3a\"],[0.8888888888888888,\"#fdca26\"],[1.0,\"#f0f921\"]],\"sequentialminus\":[[0.0,\"#0d0887\"],[0.1111111111111111,\"#46039f\"],[0.2222222222222222,\"#7201a8\"],[0.3333333333333333,\"#9c179e\"],[0.4444444444444444,\"#bd3786\"],[0.5555555555555556,\"#d8576b\"],[0.6666666666666666,\"#ed7953\"],[0.7777777777777778,\"#fb9f3a\"],[0.8888888888888888,\"#fdca26\"],[1.0,\"#f0f921\"]]},\"colorway\":[\"#636efa\",\"#EF553B\",\"#00cc96\",\"#ab63fa\",\"#FFA15A\",\"#19d3f3\",\"#FF6692\",\"#B6E880\",\"#FF97FF\",\"#FECB52\"],\"font\":{\"color\":\"#2a3f5f\"},\"geo\":{\"bgcolor\":\"white\",\"lakecolor\":\"white\",\"landcolor\":\"#E5ECF6\",\"showlakes\":true,\"showland\":true,\"subunitcolor\":\"white\"},\"hoverlabel\":{\"align\":\"left\"},\"hovermode\":\"closest\",\"mapbox\":{\"style\":\"light\"},\"paper_bgcolor\":\"white\",\"plot_bgcolor\":\"#E5ECF6\",\"polar\":{\"angularaxis\":{\"gridcolor\":\"white\",\"linecolor\":\"white\",\"ticks\":\"\"},\"bgcolor\":\"#E5ECF6\",\"radialaxis\":{\"gridcolor\":\"white\",\"linecolor\":\"white\",\"ticks\":\"\"}},\"scene\":{\"xaxis\":{\"backgroundcolor\":\"#E5ECF6\",\"gridcolor\":\"white\",\"gridwidth\":2,\"linecolor\":\"white\",\"showbackground\":true,\"ticks\":\"\",\"zerolinecolor\":\"white\"},\"yaxis\":{\"backgroundcolor\":\"#E5ECF6\",\"gridcolor\":\"white\",\"gridwidth\":2,\"linecolor\":\"white\",\"showbackground\":true,\"ticks\":\"\",\"zerolinecolor\":\"white\"},\"zaxis\":{\"backgroundcolor\":\"#E5ECF6\",\"gridcolor\":\"white\",\"gridwidth\":2,\"linecolor\":\"white\",\"showbackground\":true,\"ticks\":\"\",\"zerolinecolor\":\"white\"}},\"shapedefaults\":{\"line\":{\"color\":\"#2a3f5f\"}},\"ternary\":{\"aaxis\":{\"gridcolor\":\"white\",\"linecolor\":\"white\",\"ticks\":\"\"},\"baxis\":{\"gridcolor\":\"white\",\"linecolor\":\"white\",\"ticks\":\"\"},\"bgcolor\":\"#E5ECF6\",\"caxis\":{\"gridcolor\":\"white\",\"linecolor\":\"white\",\"ticks\":\"\"}},\"title\":{\"x\":0.05},\"xaxis\":{\"automargin\":true,\"gridcolor\":\"white\",\"linecolor\":\"white\",\"ticks\":\"\",\"title\":{\"standoff\":15},\"zerolinecolor\":\"white\",\"zerolinewidth\":2},\"yaxis\":{\"automargin\":true,\"gridcolor\":\"white\",\"linecolor\":\"white\",\"ticks\":\"\",\"title\":{\"standoff\":15},\"zerolinecolor\":\"white\",\"zerolinewidth\":2}}},\"scene\":{\"domain\":{\"x\":[0.0,1.0],\"y\":[0.0,1.0]},\"xaxis\":{\"title\":{\"text\":\"Glucose\"}},\"yaxis\":{\"title\":{\"text\":\"BloodPressure\"}},\"zaxis\":{\"title\":{\"text\":\"BMI\"}}},\"coloraxis\":{\"colorbar\":{\"title\":{\"text\":\"Outcome\"}},\"colorscale\":[[0.0,\"#0d0887\"],[0.1111111111111111,\"#46039f\"],[0.2222222222222222,\"#7201a8\"],[0.3333333333333333,\"#9c179e\"],[0.4444444444444444,\"#bd3786\"],[0.5555555555555556,\"#d8576b\"],[0.6666666666666666,\"#ed7953\"],[0.7777777777777778,\"#fb9f3a\"],[0.8888888888888888,\"#fdca26\"],[1.0,\"#f0f921\"]]},\"legend\":{\"tracegroupgap\":0},\"margin\":{\"t\":60}},                        {\"responsive\": true}                    ).then(function(){\n",
              "                            \n",
              "var gd = document.getElementById('8b1643a5-bd18-4fde-b5c9-2ececbc02654');\n",
              "var x = new MutationObserver(function (mutations, observer) {{\n",
              "        var display = window.getComputedStyle(gd).display;\n",
              "        if (!display || display === 'none') {{\n",
              "            console.log([gd, 'removed!']);\n",
              "            Plotly.purge(gd);\n",
              "            observer.disconnect();\n",
              "        }}\n",
              "}});\n",
              "\n",
              "// Listen for the removal of the full notebook cells\n",
              "var notebookContainer = gd.closest('#notebook-container');\n",
              "if (notebookContainer) {{\n",
              "    x.observe(notebookContainer, {childList: true});\n",
              "}}\n",
              "\n",
              "// Listen for the clearing of the current output cell\n",
              "var outputEl = gd.closest('.output');\n",
              "if (outputEl) {{\n",
              "    x.observe(outputEl, {childList: true});\n",
              "}}\n",
              "\n",
              "                        })                };                            </script>        </div>\n",
              "</body>\n",
              "</html>"
            ]
          },
          "metadata": {},
          "output_type": "display_data"
        }
      ],
      "source": [
        "import plotly.express as px  \n",
        "\n",
        "fig =  px.scatter_3d(data, x=  'Glucose', y = 'BloodPressure', z= 'BMI',color = 'Outcome')\n",
        "\n",
        "fig.show() "
      ]
    },
    {
      "cell_type": "markdown",
      "metadata": {
        "id": "uP29tyBsq2VA"
      },
      "source": [
        "#### <font color= #4CC9F0 > Definir y dividir las variables"
      ]
    },
    {
      "cell_type": "code",
      "execution_count": null,
      "metadata": {
        "id": "8nB-3kgyq4qk"
      },
      "outputs": [],
      "source": [
        "X=data[['Glucose','BloodPressure','BMI']]\n",
        "y=data[\"Outcome\"]\n",
        "#Entrenamiento y prueba\n",
        "X_tr, X_ts, y_tr, y_ts = train_test_split(X,y,test_size=0.3)"
      ]
    },
    {
      "cell_type": "markdown",
      "metadata": {
        "id": "IX3vs8ZQq7yf"
      },
      "source": [
        "#### <font color= #4CC9F0 > Definir y entrenar el modelo"
      ]
    },
    {
      "cell_type": "code",
      "execution_count": null,
      "metadata": {
        "colab": {
          "base_uri": "https://localhost:8080/"
        },
        "id": "iOQWzEx9q910",
        "outputId": "b22b3579-e99a-423e-d33b-2f562678d0d9"
      },
      "outputs": [
        {
          "data": {
            "text/plain": [
              "KNeighborsClassifier(n_neighbors=7, p=1)"
            ]
          },
          "execution_count": 8,
          "metadata": {},
          "output_type": "execute_result"
        }
      ],
      "source": [
        "from sklearn.metrics.pairwise import manhattan_distances\n",
        "## Definir numero de vecinos y distancia\n",
        "KNN = knn(n_neighbors=7, p=1)\n",
        "#Entrenar el modelo\n",
        "KNN.fit(X_tr, y_tr)"
      ]
    },
    {
      "cell_type": "markdown",
      "metadata": {
        "id": "CrIdywJ4q_dv"
      },
      "source": [
        "#### <font color= #4CC9F0 > Predicciones"
      ]
    },
    {
      "cell_type": "code",
      "execution_count": null,
      "metadata": {
        "id": "Nj6qyOPBrBSw"
      },
      "outputs": [],
      "source": [
        "y_pr = KNN.predict(X_ts)"
      ]
    },
    {
      "cell_type": "markdown",
      "metadata": {
        "id": "msP4V8a6rC_U"
      },
      "source": [
        "#### <font color= #4CC9F0 > Matriz de confusión"
      ]
    },
    {
      "cell_type": "code",
      "execution_count": null,
      "metadata": {
        "id": "V508yKoFrGp_"
      },
      "outputs": [],
      "source": [
        "from sklearn.metrics import confusion_matrix\n",
        "cm = confusion_matrix(y_ts, y_pr)"
      ]
    },
    {
      "cell_type": "code",
      "execution_count": null,
      "metadata": {
        "colab": {
          "base_uri": "https://localhost:8080/",
          "height": 351
        },
        "id": "6sAU16H1rH8h",
        "outputId": "ce66295c-b7fc-4939-c688-563681e449af"
      },
      "outputs": [
        {
          "data": {
            "text/plain": [
              "Text(42.0, 0.5, 'Truth')"
            ]
          },
          "execution_count": 11,
          "metadata": {},
          "output_type": "execute_result"
        },
        {
          "data": {
            "image/png": "[encoded data removed]",
            "text/plain": [
              "<Figure size 504x360 with 2 Axes>"
            ]
          },
          "metadata": {},
          "output_type": "display_data"
        }
      ],
      "source": [
        "%matplotlib inline\n",
        "import matplotlib.pyplot as plt\n",
        "import seaborn as sn\n",
        "plt.figure(figsize=(7,5))\n",
        "sn.heatmap(cm, annot=True)\n",
        "plt.xlabel('Predicted')\n",
        "plt.ylabel('Truth')"
      ]
    },
    {
      "cell_type": "markdown",
      "metadata": {
        "id": "SPKITfZXrKi9"
      },
      "source": [
        "#### <font color= #4CC9F0 >Precisión del modelo"
      ]
    },
    {
      "cell_type": "code",
      "execution_count": null,
      "metadata": {
        "colab": {
          "base_uri": "https://localhost:8080/"
        },
        "id": "94QT0qQVrLc2",
        "outputId": "f91e428b-0811-49e2-fcb2-47d552c896bf"
      },
      "outputs": [
        {
          "name": "stdout",
          "output_type": "stream",
          "text": [
            "Accuracy: 0.7705627705627706\n"
          ]
        }
      ],
      "source": [
        "print(\"Accuracy:\",metrics.accuracy_score(y_ts, y_pr))"
      ]
    },
    {
      "cell_type": "code",
      "execution_count": null,
      "metadata": {
        "colab": {
          "base_uri": "https://localhost:8080/"
        },
        "id": "4tFRTMuyrMyS",
        "outputId": "5e5f51f6-b17f-4bba-d479-d3c4f26263af"
      },
      "outputs": [
        {
          "name": "stdout",
          "output_type": "stream",
          "text": [
            "              precision    recall  f1-score   support\n",
            "\n",
            "           0       0.80      0.87      0.83       151\n",
            "           1       0.71      0.57      0.63        80\n",
            "\n",
            "    accuracy                           0.77       231\n",
            "   macro avg       0.75      0.72      0.73       231\n",
            "weighted avg       0.76      0.77      0.76       231\n",
            "\n"
          ]
        }
      ],
      "source": [
        "from sklearn.metrics import classification_report\n",
        "print(classification_report(y_ts, y_pr))"
      ]
    },
    {
      "cell_type": "markdown",
      "metadata": {
        "id": "hjuyVr0QhZKS"
      },
      "source": [
        "## <font color= blue>Ventajas y Desventajas"
      ]
    },
    {
      "cell_type": "markdown",
      "metadata": {
        "id": "cG8AQaoR54hy"
      },
      "source": [
        "Realizar este tipo de algoritmos trae consigo muchas ventajas pero a su vez desventajas. \n",
        "* Una de las ventajas más significativa que se tiene es que es no parámetrico, como se mencionó anteriormente, al obtener esto, no se hacen suposiciones explícitas sobre la forma funcional de los datos, por lo que se evitan inconvenientes con la distribución subyacente de estos. \n",
        "\n",
        "* El algoritmo es simple, puesto que es sencillo de explicar, comprender e interpretar. A pesar de esto, este algoritmo tiene una precisión alta, relativamente. Esto se debe a que no es sensible a los valores atípicos que se puedan encontrar, aún así el ruido o las características irrelevantes pueden llegar a afectar la precisión del mismo. "
      ]
    },
    {
      "cell_type": "markdown",
      "metadata": {
        "id": "XhdEPMeLCjZ6"
      },
      "source": [
        "* Por otra parte, una de las desventajas de este algoritmo es el coste computacional que se necesita en cuanto a memoria y tiempo para poder realizarlo, esto debido a que se almacenan siempre casi todos los datos de entrenamiento. \n",
        "\n",
        "* Maldición de la dimensionalidad, la cual implica que el algoritmo no funciona correctamente con entradas de datos de alta dimensionalidad. Esto se debe a que al tener tantas variables puede que algunas no aporten mucha información, lo que hace que la precisión del modelo disminuya.\n",
        "Igualmente, como se presentan muchas características no es tan sencillo hacer clusters y por lo que los algoritmos de distancias se pueden confundir, puesto que al tener tantas variables los puntos pueden parecer equidistantes.\n",
        "\n",
        "\n"
      ]
    }
  ],
  "metadata": {
    "colab": {
      "collapsed_sections": [
        "218LNwaUZFuU",
        "LcRDIZH6Dh3R",
        "mNUQ4AxzaAys",
        "WpaJKwV2aIF4",
        "LxwhhOo2FPj1",
        "2PoQ1y82Qh2i",
        "msSKFOTAKRcN",
        "wFd3zI3MO0WD",
        "K0HMqCpIUdAC",
        "rijMhXI7ziqD",
        "COFrFapKYhg5",
        "ojkvbexoc9ap",
        "TKfbCCThNYGs",
        "gV-r0pi85Cpl",
        "V9F0V0YNdUva",
        "oXTlGfphdbSI",
        "0SV970pScNHp",
        "MtJnYQx26diI",
        "My5fnTA0CnOt",
        "gWG1_6Teaq9d",
        "potQf2r4CVqd",
        "do_N2xOOB_UD",
        "QlSk3CdOCFh8",
        "FAS8zH4WC3iU",
        "f_KRW13SDDHy",
        "pqUUL72PFRD0",
        "yvWe-puyFfum",
        "q97VbqQzc306",
        "OET-rfNg_ktz",
        "LDuuwgLrPsVc",
        "ho2-a5_pdp_D",
        "ykEUlm5AfIMb",
        "YMEk4GZ3e_WV",
        "OGWV6VyF0Z5t",
        "3QJO-b84ikbl",
        "Q25WSEu2MTKD",
        "mQwb3EBhhqh0",
        "g5r1XgnSC3Dl",
        "pLaiUa2bDeu6",
        "OUIKx7vwDCFU",
        "cJY_qWALECg1",
        "1IvERELwEgvk",
        "PQawuyB7E1Gk",
        "HPhpsDmiE8O5",
        "YeM4J-7tFH2d",
        "e_6I3tpRlrQB",
        "LeYXdzmzl1b5",
        "vVMXnkKcmAX4",
        "uP29tyBsq2VA",
        "IX3vs8ZQq7yf",
        "CrIdywJ4q_dv",
        "msP4V8a6rC_U",
        "SPKITfZXrKi9",
        "hjuyVr0QhZKS"
      ],
      "provenance": [],
      "include_colab_link": true
    },
    "kernelspec": {
      "display_name": "Python 3",
      "name": "python3"
    },
    "language_info": {
      "name": "python"
    }
  },
  "nbformat": 4,
  "nbformat_minor": 0
}
