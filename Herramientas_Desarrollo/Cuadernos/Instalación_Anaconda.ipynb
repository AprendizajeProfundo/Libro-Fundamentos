{
 "cells": [
  {
   "cell_type": "markdown",
   "metadata": {},
   "source": [
    "# <span style=\"color:#F72585\"><center>Instalación de Anaconda</center></span>\n"
   ]
  },
  {
   "cell_type": "markdown",
   "metadata": {},
   "source": [
    "<figure>\n",
    "<center>\n",
    "<img src=\"https://raw.githubusercontent.com/AprendizajeProfundo/Alejandria/main/Herramientas_Desarrollo/Imagenes/Anaconda_Logo.png\" width=\"600\" height=\"300\" align=\"center\" /> \n",
    "</center>   \n",
    "</figure>\n",
    "<center>\n",
    "\n",
    "</center>"
   ]
  },
  {
   "cell_type": "markdown",
   "metadata": {},
   "source": [
    "Anaconda es una plataforma de distribución libre y abierta de Python y R. Busca ser intuitiva, amigable con el usuario y confiable. Contiene más de 8000 librerías usadas para ciencia de datos, inteligencia artificial y machine learning."
   ]
  },
  {
   "cell_type": "markdown",
   "metadata": {},
   "source": [
    "Iniciaremos esta parte del curso comprendiendo el uso de Jupyter, una aplicación web que permite crear cuadernos interacivos, documentos web editados con texto enriquecido y celdas de ejecución de código. \n",
    "\n",
    "La posibilidad de ejecutar código nos será muy útil para definir algoritmos, procesar datos y visualizar resultados en un mismo documento. De hecho, este cuaderno es un ejemplo de lo que podemos crear, a pesar de que no ejecutamos ningún código podemos generar un html enriquecido con la información necesaria para instalar Python."
   ]
  },
  {
   "cell_type": "markdown",
   "metadata": {},
   "source": [
    "## <span style=\"color:#4361EE\"> Instalación y primer cuaderno</span>\n"
   ]
  },
  {
   "cell_type": "markdown",
   "metadata": {},
   "source": [
    "Sigue los siguientes pasos para instalar jupyter en tu pc:\n",
    "\n",
    "1. [Descargar Anaconda](https://www.anaconda.com/distribution/), verifica que la descarga corresponda a las condiciones específicas de tu equipo (Windows x64, Windows x32, macOS o Linux)\n",
    "\n",
    "<img src=\"https://raw.githubusercontent.com/AprendizajeProfundo/Alejandria/main/Herramientas_Desarrollo/Imagenes/Install-conda.png\"  width=\"720\" >"
   ]
  },
  {
   "cell_type": "markdown",
   "metadata": {},
   "source": [
    "2. Despúes de instalar Anaconda ábrelo y lanza el aplicativo de Jupyter:\n",
    "\n",
    "<img src=\"https://raw.githubusercontent.com/AprendizajeProfundo/Alejandria/main/Herramientas_Desarrollo/Imagenes/Conda-Navigator.png\" width=\"720\" >"
   ]
  },
  {
   "cell_type": "markdown",
   "metadata": {},
   "source": [
    "3. Jupyter abrirá una pestaña de tu navegador predeterminado, verás algo así:\n",
    "<img src=\"https://raw.githubusercontent.com/AprendizajeProfundo/Alejandria/main/Herramientas_Desarrollo/Imagenes/Jupyter.png\"  width=\"720\" >"
   ]
  },
  {
   "cell_type": "markdown",
   "metadata": {},
   "source": [
    "4. En el boton NEW puedes crear un archivo nuevo en Python 3:\n",
    "\n",
    "<img src=\"https://raw.githubusercontent.com/AprendizajeProfundo/Alejandria/main/Herramientas_Desarrollo/Imagenes/JupyterNew.png\" width=\"320\" >"
   ]
  },
  {
   "cell_type": "markdown",
   "metadata": {},
   "source": [
    "5. Verás un panel como el siguiente, selecciona en la casilla tipo de celda selecciona Markdown, para titular el cuaderno que vas a crear, tambien puedes oprimir [Esc]+[M]:\n",
    "\n",
    "<img src=\"https://raw.githubusercontent.com/AprendizajeProfundo/Alejandria/main/Herramientas_Desarrollo/Imagenes/jupyterCode.png\" width=\"720\" >"
   ]
  },
  {
   "cell_type": "markdown",
   "metadata": {},
   "source": [
    "\n",
    "\n",
    "6. Después de cambiar el tipo de celda usa el formato Markdown para hacer encabezados del documento, escribes ___# Título___ para el encabezado principal y ___## Subtítulo___ para el encabezado secundario:\n",
    "\n",
    "<img src=\"https://raw.githubusercontent.com/AprendizajeProfundo/Alejandria/main/Herramientas_Desarrollo/Imagenes/jupyterFirstCell.png\" width=\"720\" >\n",
    "\n",
    "7. Después de escribir oprimes [Shift]+[Enter] para ejecutar la celda y visualizar el resultado final de tu escrito, obtienes:\n",
    "\n",
    "<img src=\"https://raw.githubusercontent.com/AprendizajeProfundo/Alejandria/main/Herramientas_Desarrollo/Imagenes/jupyterFirstCell2.png\"  width=\"720\" >\n",
    "\n",
    "8. Finalmente, para terminar este ejercicio haremos una operación muy simple para verificar el buen funcionamiento del programa, escribimos en la siguiente celda 5+8 y ejecutamos nuevamente con [Shift]+[Enter]:\n",
    "\n",
    "<img src=\"https://raw.githubusercontent.com/AprendizajeProfundo/Alejandria/main/Herramientas_Desarrollo/Imagenes/jupyterFirstRun.png\"  width=\"720\" >"
   ]
  },
  {
   "cell_type": "markdown",
   "metadata": {},
   "source": [
    "## <span style=\"color:#4361EE\">Markdown</span>"
   ]
  },
  {
   "cell_type": "markdown",
   "metadata": {},
   "source": [
    "Markdown es un lenguaje de marcado ligero escrito por [John Gruber](https://daringfireball.net/projects/markdown/) que permite convertir texto plano en HTML. Aunque suene muy complicado es un lenguaje muy senciullo de utilizar y está inspirado en la forma de escritura de los correos electrónicos.\n",
    "\n",
    "Veremos a continuación algunas convenciones sencillas de este lenguaje y las aplicaremos en nuestro cuaderno guía:\n"
   ]
  },
  {
   "cell_type": "markdown",
   "metadata": {},
   "source": [
    "### <span style=\"color:#4CC9F0\">Salidas de texto</span>\n",
    "En la siguiente tabla resumimos algunas convenciones importantes para la escritura de documentos en Markdown:\n",
    "\n",
    "| **Escrituta en Celda**| **Salida** |\n",
    "|:---:|:---:|\n",
    "|`Escritura normal` | Escritura normal|\n",
    "|`*énfasis*`| *énfasis*| \n",
    "|`** texto fuerte **` | ** texto fuerte ** |\n",
    "|``código`` |`código` |\n",
    "\n",
    "### <span style=\"color:#4CC9F0\">Creación de encabezados en el documento</span>\n",
    "\n",
    "Es muy útil seccionar el documento por capítulos, subcapítulos, secciones, subsecciones, entre otros. A continuación, visualizamos las formas de crear encabezados en cuadernos de jupyter:\n",
    "\n",
    "* # Encabezado 1\n",
    " Escribimos: `# Encabezado 1` \n",
    " \n",
    "* ## Encabezado 2\n",
    "Escribimos: `## Encabezado 2`\n",
    "\n",
    "* ### Encabezado 3\n",
    " Escribimos: `### Encabezado 3`\n",
    " \n",
    "* #### Encabezado 4\n",
    "Escribimos: `#### Encabezado 4`\n",
    " \n",
    "* ##### Encabezado 5\n",
    " Escribimos: `##### Encabezado 5`\n",
    " \n",
    "* ###### Encabezado 6\n",
    " Escribimos: `###### Encabezado 6`\n",
    " \n",
    "### <span style=\"color:#4CC9F0\">Creación de listas</span>\n",
    " \n",
    " Tambien podemos crear listas, tanto numeradas como no numeradas:\n",
    " \n",
    " \n",
    "  **Numeradas**:\n",
    "     \n",
    "         ``` \n",
    "         1. Primer elemento\n",
    "             1. Primero del primero\n",
    "         2. Segundo elemento\n",
    "         3. Tercer elemento\n",
    "         ```\n",
    " \n",
    "  1. Primer elemento\n",
    "        1. Primero del primero\n",
    "  2. Segundo elemento\n",
    "  3. Tercer elemento\n",
    " \n",
    " \n",
    " \n",
    " \n",
    " \n",
    "  **NO Numeradas**:\n",
    "\n",
    "          ``` \n",
    "        * Primer elemento\n",
    "            *otro elemento\n",
    "        * Segundo elemento\n",
    "        * Tercer elemento\n",
    "         ```\n",
    " \n",
    "  \n",
    "   * Primer elemento\n",
    "       * otro elemento\n",
    "   * Segundo elemento\n",
    "   * Tercer elemento\n",
    "\n",
    "\n",
    "### <span style=\"color:#4CC9F0\">Links e imágenes</span>\n",
    "  \n",
    "Finalmente, usando este lenguaje también podemos conectar links y visualizar imágenes:\n",
    "  \n",
    "  **Links**\n",
    "  \n",
    "  `[Aprendizaje Profundo] (https://www.youtube.com/@aprendizajeprofundo2720)`\n",
    "  \n",
    "  [Aprendizaje Profundo](https://www.youtube.com/@aprendizajeprofundo2720)\n",
    "  \n",
    "  **Imágenes**\n",
    "  \n",
    "  `![Jupyter logo](https://jupyter.org/assets/homepage/main-logo.svg)`\n",
    "  ![Jupyter logo](https://jupyter.org/assets/homepage/main-logo.svg)\n",
    "  "
   ]
  },
  {
   "cell_type": "markdown",
   "metadata": {},
   "source": [
    "## <span style=\"color:#4361EE\">Instalación y configuración de extensiones para Jupyter</span>"
   ]
  },
  {
   "cell_type": "markdown",
   "metadata": {},
   "source": [
    "\n",
    "\n",
    "Las extensiones de Jupyter nos harán la vida más fácil, algunas extensiones completaran código y nos recordaran algunas funciones que pueden llegar a ser esquivas para nuestra memoria. Así mismo tendremos vistas previas de nuestras celdas de texto, entre otras utilidades."
   ]
  },
  {
   "cell_type": "markdown",
   "metadata": {},
   "source": [
    "### <span style=\"color:#4CC9F0\">Instalación</span>\n",
    "\n",
    "Posterior a la instalación de Anaconda vale la pena instalar algunas extensiones útiles del notebook de Jupyter. Para esto cerramos todos los cuadernos activos y reiniciamos Anaconda y Jupyter.\n",
    "\n",
    "Nuevamente, en la página de inicio de Jupyter:\n",
    "\n",
    "<img src=\"https://raw.githubusercontent.com/AprendizajeProfundo/Alejandria/main/Herramientas_Desarrollo/Imagenes/jupyterOpen.png\" width=\"720\" >\n",
    "\n",
    "Seleccionamos `New` y luego `Terminal`:\n",
    "\n",
    "<img src=\"https://raw.githubusercontent.com/AprendizajeProfundo/Alejandria/main/Herramientas_Desarrollo/Imagenes/Terminal.png\">\n",
    "\n",
    "Aparecerá la siguiente ventana:\n",
    "\n",
    "<img src=\"https://raw.githubusercontent.com/AprendizajeProfundo/Alejandria/main/Herramientas_Desarrollo/Imagenes/Terminal2.png\">\n",
    "\n",
    "Escribimos en la consola lo siguiente:\n",
    "\n",
    "`pip install jupyter_contrib_nbextensions`\n",
    "\n",
    "Se instalará el módulo de extensiones de Jupyter. Cuando termine la instalación escribimos:\n",
    "\n",
    "`jupyter contrib nbextension install`\n",
    "\n",
    "Reiniciamos Jupyter y Anaconda.\n",
    "\n"
   ]
  },
  {
   "cell_type": "markdown",
   "metadata": {},
   "source": [
    "Al abrir nuevamente Jupyter encontraremos algunas cosas nuevas, en principio una pestaña llamada `NbExtensions`:\n",
    "\n",
    "<img src=\"https://raw.githubusercontent.com/AprendizajeProfundo/Alejandria/main/Herramientas_Desarrollo/Imagenes/extensiones.png\">\n",
    "\n",
    "Al ingresar llegamos a la siguiente página, quitamos el chulo del marcador indicado:\n",
    "\n",
    "<img src=\"https://raw.githubusercontent.com/AprendizajeProfundo/Alejandria/main/Herramientas_Desarrollo/Imagenes/extensiones2.png\">\n",
    "\n",
    "Finalmente seleccionamos las extensiones útiles para nuestros trabajos. En amarillo las sugeridas:\n",
    "\n",
    "<img src=\"https://raw.githubusercontent.com/AprendizajeProfundo/Alejandria/main/Herramientas_Desarrollo/Imagenes/extensiones3.png\">"
   ]
  },
  {
   "cell_type": "markdown",
   "metadata": {},
   "source": [
    "Las anteriores extensiones permiten una mejor dinámica entre creador y usuario. Se sugiere que exploren algunas otras extensiones y verifiquen los cambios en el cuaderno."
   ]
  }
 ],
 "metadata": {
  "kernelspec": {
   "display_name": "Python 3",
   "language": "python",
   "name": "python3"
  },
  "language_info": {
   "codemirror_mode": {
    "name": "ipython",
    "version": 3
   },
   "file_extension": ".py",
   "mimetype": "text/x-python",
   "name": "python",
   "nbconvert_exporter": "python",
   "pygments_lexer": "ipython3",
   "version": "3.7.4"
  }
 },
 "nbformat": 4,
 "nbformat_minor": 4
}
