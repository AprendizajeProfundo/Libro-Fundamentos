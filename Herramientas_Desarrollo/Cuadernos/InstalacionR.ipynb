{
 "cells": [
  {
   "cell_type": "markdown",
   "metadata": {},
   "source": [
    "# Instalación de R y R Studio\n",
    "**Universidad Central**\n",
    "\n",
    "*Carlos Isaac Zainea, Daniel Montenegro y Luis Campos*"
   ]
  },
  {
   "cell_type": "markdown",
   "metadata": {},
   "source": [
    "R es un entorno y lenguaje de programación con un enfoque estadístico. En este momento es uno de los lenguajes de programación más utilizados en investigación científica y en campos emergentes relacionados con el análisis matemático y estadistico. Hace parte del sistema GNU y se distribuye bajo la licencia GNU GPL. Está disponible para los sistemas operativos Windows, Macintosh, Unix y GNU/Linux."
   ]
  },
  {
   "cell_type": "markdown",
   "metadata": {},
   "source": [
    "## Instalación de R\n",
    "\n",
    "Iniciamos con la descarga de R que podemos hacer desde la página (https://cran.r-project.org/mirrors.html) en la cual encontraremos distintos servidores espejo que alojan el producto. Escogemos algún servido y descargamos la versión apropiada para el sistema operativo de nuestro uso.\n",
    "\n",
    "Para inicio de 2020 la versión de R usada es 3.6.2. Verifica que tu descarga corresponde a una versión posterior a esta. \n",
    "\n",
    "En Windows se recomienda instalar base y Rtools:\n",
    "\n",
    "<img src=\"https://github.com/ucmadcursoPythonyR/2020/blob/master/images/InstalaciónR.png?raw=true\"  width=\"720\" >\n",
    "\n",
    "Después de instalar R tenemos a nuestra disposición una interfaz gráfica de consola que permitirá ejecutar comandos del programa. Sin embargo, este IDE es propio de expertos programadores y aficionados del orden. Para tener una interfaz más amigable instalamos Rstudio, este programa lo encontramos para descargar en (https://rstudio.com/products/rstudio/download/#download). De nuevo, buscamos la versión apropiada para nuestro sistema operativo.\n",
    "\n",
    "<img src=\"https://github.com/ucmadcursoPythonyR/2020/blob/master/images/Rstudio.png?raw=true\"  width=\"720\" >\n",
    "\n",
    "Al abrir el programa nos encontraremos con la siguiente pantalla:\n",
    "\n",
    "<img src=\"https://github.com/ucmadcursoPythonyR/2020/blob/master/images/IDERstudio.png?raw=true\"  width=\"720\" >\n",
    "\n",
    "La mayor parte de ejercicios los realizamos desde la consola. Iniciamos con una simple operación matemática en R, escribimos:\n",
    "\n",
    "`> a <- 2`\n",
    "\n",
    "y luego [Enter] para ejecutar la instrucción, después\n",
    "\n",
    "`> b <- 3`\n",
    "\n",
    "y ejecutamos, finalmente\n",
    "\n",
    "`> c <- 5`,\n",
    "\n",
    "la expresión `<-` se obtiene al oprime la tecla [<] y luego guión [-]. \n",
    "\n",
    "En la pestaña `Environment` debe aparecer la asignación de valores a cada una de las variables que escogimos:\n",
    "\n",
    "\n",
    "<img src=\"https://github.com/ucmadcursoPythonyR/2020/blob/master/images/environmentRstudio.png?raw=true\"  width=\"320\" >\n",
    "\n",
    "\n",
    "Ahora ejecutamos:\n",
    "\n",
    "`> a + b`\n",
    "\n",
    "obtenemos:\n",
    "\n",
    "`[1] 5`\n",
    "\n",
    "Después \n",
    "`> a^c`\n",
    " y tenemos:\n",
    " \n",
    "`[1] 32`\n",
    "\n",
    "con eso terminamos la instalación de R y Rstudio.\n"
   ]
  }
 ],
 "metadata": {
  "kernelspec": {
   "display_name": "R",
   "language": "R",
   "name": "ir"
  },
  "language_info": {
   "codemirror_mode": "r",
   "file_extension": ".r",
   "mimetype": "text/x-r-source",
   "name": "R",
   "pygments_lexer": "r",
   "version": "3.6.2"
  }
 },
 "nbformat": 4,
 "nbformat_minor": 4
}
