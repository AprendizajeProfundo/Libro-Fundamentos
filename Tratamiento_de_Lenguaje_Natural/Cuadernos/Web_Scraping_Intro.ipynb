{
 "cells": [
  {
   "cell_type": "markdown",
   "id": "6ed82eab-5e11-4aae-aa67-2c9743da4a3b",
   "metadata": {},
   "source": [
    "# <span style=\"color:#F72585\"><center>Web Scraping</center></span>"
   ]
  },
  {
   "cell_type": "markdown",
   "id": "c3e3c99b-d525-4a2b-ba5b-49d16cd8156a",
   "metadata": {},
   "source": [
    "<center>Introducción</center>"
   ]
  },
  {
   "cell_type": "markdown",
   "id": "dd24783b-8f3e-4905-94c7-2e21c5462ca0",
   "metadata": {
    "slideshow": {
     "slide_type": "slide"
    },
    "tags": []
   },
   "source": [
    "<figure>\n",
    "<center>\n",
    "<img src=\"../Imagenes/web_scraping.jpeg\" width=\"500\" height=\"500\" align=\"center\" /> \n",
    "</center>\n",
    "</figure>\n",
    "\n",
    "Fuente: [Ilya Pavlov](https://unsplash.com/photos/OqtafYT5kTw)"
   ]
  },
  {
   "cell_type": "markdown",
   "id": "07071bad-76a6-44c9-9ff2-be3a1762643c",
   "metadata": {
    "slideshow": {
     "slide_type": "slide"
    },
    "tags": []
   },
   "source": [
    "## <span style=\"color:#4361EE\">¿Qué es Web Scraping?</span> "
   ]
  },
  {
   "cell_type": "markdown",
   "id": "c93224aa-df15-402f-98a7-57f9810f0366",
   "metadata": {},
   "source": [
    "**Web scraping** o raspado web, es una técnica utilizada mediante programas de software para extraer información de sitios web.\n",
    "\n",
    "La razón de utilizar esta técnica puede deberse a la incapacidad de obtención de información de manera directa en forma estructurada.\n",
    "\n",
    "Usualmente, estos programas simulan la navegación de un humano en la *World Wide Web*, ya sea utilizando el protocolo HTTP manualmente, o incrustando un navegador en una aplicación.\n",
    "\n",
    "Web scraping es el proceso de recopilar información de forma automática de la Web.\n",
    "\n",
    "Es un campo con desarrollos activos, compartiendo un propósito en común con la visión de la Web semántica.\n",
    "\n",
    "Utiliza soluciones prácticas basadas en tecnologías existentes que son comúnmente ad hoc."
   ]
  },
  {
   "cell_type": "markdown",
   "id": "b12ec725-ba25-4e95-99bb-080f4c1d5b6a",
   "metadata": {
    "slideshow": {
     "slide_type": "slide"
    },
    "tags": []
   },
   "source": [
    "## <span style=\"color:#4361EE\">Brevísima Introducción a HTML</span>"
   ]
  },
  {
   "cell_type": "markdown",
   "id": "1b9241da-fd62-48be-b516-51b7ac16a77c",
   "metadata": {},
   "source": [
    "```HTML\n",
    "<!DOCTYPE html>\n",
    "<html>\n",
    "<head>\n",
    "<title>Esto es para divertirnos</title>\n",
    "</head>\n",
    "<body>\n",
    "\n",
    "<h1>Mi primera página web</h1>\n",
    "<p>Escribiré un párrafo... Algún día.</p>\n",
    "\n",
    "</body>\n",
    "</html>\n",
    "```"
   ]
  },
  {
   "cell_type": "markdown",
   "id": "2c66964d-0e61-48d4-b0b3-f6e95c2e71b6",
   "metadata": {},
   "source": [
    "- **Observemos la renderización de dicho código HTML anterior en este Notebook**"
   ]
  },
  {
   "cell_type": "markdown",
   "id": "ac16558f-8e73-463a-ab24-1978bb7ef144",
   "metadata": {},
   "source": [
    "---\n",
    "<!DOCTYPE html>\n",
    "<html>\n",
    "<head>\n",
    "<title>Esto es para divertirnos</title>\n",
    "</head>\n",
    "<body>\n",
    "\n",
    "<h1>Mi primera página web</h1>\n",
    "<p>Escribiré un párrafo... Algún día.</p>\n",
    "\n",
    "</body>\n",
    "</html>\n",
    "\n",
    "---"
   ]
  },
  {
   "cell_type": "markdown",
   "id": "83c74249-af4e-4b16-8a42-974cbfc92d69",
   "metadata": {},
   "source": [
    "### <span style=\"color:#4CC9F0\">Partes Fundamentales:</span>"
   ]
  },
  {
   "cell_type": "markdown",
   "id": "5cea9a36-ef24-4939-99e6-61b98b76718e",
   "metadata": {},
   "source": [
    "- Declaración que define que este documento es un documento HTML5.\n",
    "\n",
    "```html\n",
    "<!DOCTYPE html>\n",
    "```\n",
    "\n",
    "- Inicia la estrutura html. Es la raíz de la página web.\n",
    "\n",
    "```html\n",
    "<html>\n",
    "```\n",
    "\n",
    "- Inicia la cabecera (metadata) de la página web.\n",
    "\n",
    "```html\n",
    "<head>\n",
    "```\n",
    "\n",
    "- Coloca un título en la cabecera de la página web.\n",
    "\n",
    "```html\n",
    "<title>\n",
    "``` \n",
    "\n",
    "- Inicia el cuerpo de la página web que contiene todos los elementos visibles de la página web. \n",
    "\n",
    "```html\n",
    "<body>\n",
    "```\n",
    "\n",
    "- Coloca una cabecera dentro del cuerpo de la página web.\n",
    "\n",
    "```html\n",
    "<h1>\n",
    "```\n",
    "\n",
    "- Coloca un párrafo dentro de la página web.\n",
    "\n",
    "```html\n",
    "<p>\n",
    "```"
   ]
  },
  {
   "cell_type": "markdown",
   "id": "0ccae567-d679-4a42-9d1e-4bdb9523b07d",
   "metadata": {},
   "source": [
    "### <span style=\"color:#4CC9F0\">Ejercicio</span>"
   ]
  },
  {
   "cell_type": "markdown",
   "id": "84fa3999-b2dc-4565-bd34-0327ebbe5871",
   "metadata": {},
   "source": [
    "Utilize el código anterior en un bloc de notas y visualízelo desde un Browser."
   ]
  },
  {
   "cell_type": "markdown",
   "id": "e79dc016-fe25-4ffc-ac0f-8be90b260ade",
   "metadata": {},
   "source": [
    "### <span style=\"color:#4CC9F0\">Objetos CSS</span>"
   ]
  },
  {
   "cell_type": "markdown",
   "id": "26f85e98-6b4e-46d9-ac9a-789be82b9927",
   "metadata": {},
   "source": [
    "Es posible enriquecer aún más el contenido HTML con objetos CSS (Cascading Style Sheets)"
   ]
  },
  {
   "cell_type": "markdown",
   "id": "bc468492-8844-4fd3-a5b6-9b9a07a82634",
   "metadata": {},
   "source": [
    "```html\n",
    "<!DOCTYPE html>\n",
    "<html>\n",
    "<head>\n",
    "<style>\n",
    "h1 {\n",
    "  color: blue;\n",
    "  font-family: verdana;\n",
    "  font-size: 300%;\n",
    "}\n",
    "p {\n",
    "  color: red;\n",
    "  font-family: courier;\n",
    "  font-size: 160%;\n",
    "}\n",
    "</style>\n",
    "</head>\n",
    "<body>\n",
    "\n",
    "<h1>This is a heading</h1>\n",
    "<p>This is a paragraph.</p>\n",
    "\n",
    "</body>\n",
    "</html>\n",
    "```"
   ]
  },
  {
   "cell_type": "markdown",
   "id": "96a6a9a1-f9e8-4a24-95a6-cc8df2f69345",
   "metadata": {},
   "source": [
    "### <span style=\"color:#4CC9F0\">JavaScript</span>"
   ]
  },
  {
   "cell_type": "markdown",
   "id": "f2269411-1735-44fe-bd46-f53198923772",
   "metadata": {},
   "source": [
    "También es posible utilizar herramientas de programación para afectar los comportamientos que puede tener las páginas web.\n",
    "\n",
    "Este lenguaje de programación se conoce como JavaScript y es utilizado ampliamente dentro del gremio de desarrolladores web."
   ]
  },
  {
   "cell_type": "markdown",
   "id": "2db93541-2429-423c-8235-d05a3e95cf91",
   "metadata": {},
   "source": [
    "```html\n",
    "<!DOCTYPE html>\n",
    "<html>\n",
    "<body>\n",
    "\n",
    "<h2>JavaScript in Body</h2>\n",
    "\n",
    "<p id=\"demo\"></p>\n",
    "\n",
    "<script>\n",
    "document.getElementById(\"demo\").innerHTML = \"My First JavaScript\";\n",
    "</script>\n",
    "\n",
    "</body>\n",
    "</html>\n",
    "```"
   ]
  },
  {
   "cell_type": "markdown",
   "id": "7fd2fcf4-0716-427c-83dd-cfb7378dcb5d",
   "metadata": {},
   "source": [
    "Lo más interesante de JavaScript, es que puede interactuar sobre el DOM (Document Object Model) de las páginas web, generando interactividad con los usuarios de manera dinámica:"
   ]
  },
  {
   "cell_type": "markdown",
   "id": "563eba7b-9ea0-43ee-aab4-bb876483c6f9",
   "metadata": {},
   "source": [
    "```html\n",
    "<!DOCTYPE html>\n",
    "<html>\n",
    "<body>\n",
    "\n",
    "<p><a id=\"Ancla\" hreflang=\"¡Soy un elemento nuevo!\" href=\"https://www.w3schools.com/\">W3Schools</a></p>\n",
    "\n",
    "<p>Hacer click en el botón para obtener más info</p>\n",
    "\n",
    "<button onclick=\"myFunction()\">Pruébame</button>\n",
    "\n",
    "<p id=\"Demo\"></p>\n",
    "\n",
    "<script>\n",
    "function myFunction() {\n",
    "  var x = document.getElementById(\"Ancla\").hreflang;\n",
    "  document.getElementById(\"Demo\").innerHTML = x;\n",
    "}\n",
    "</script>\n",
    "\n",
    "</body>\n",
    "</html>\n",
    "```"
   ]
  },
  {
   "cell_type": "markdown",
   "id": "5aea47e9-f62f-4a8b-8747-8b0acf63c9d3",
   "metadata": {},
   "source": [
    "Existen distintos niveles de automatización que las existentes tecnologías de Web Scraping pueden brindar:\n",
    "\n",
    "- **«Copiar y pegar» humano:** algunas veces incluso las mejores técnicas de web scraping no pueden reemplazar el examen manual de un humano, y a veces esta puede ser la única vía de solución cuando el sitio que tenemos en mente pone ciertas barreras para prevenir que se creen softwares para realizar tareas automáticas en este.\n",
    "\n",
    "- **Uso de expresiones regulares:** una posible vía para extraer información de páginas webs pueden ser las expresiones regulares, aunque comúnmente no se recomienda utilizarlas para parsear (análisis de sintaxis) el formato HTML.\n",
    "\n",
    "- **Protocolo HTTP:** páginas webs estáticas y dinámicas pueden ser obtenidas haciendo peticiones HTTP al servidor remoto utilizando sockets, etc.\n",
    "\n",
    "- **Algoritmos de minería de datos:** muchos sitios webs tienen grandes colecciones de páginas generadas dinámicamente a partir de una base de datos. Datos de la misma categoría aparecen usualmente en páginas similares mediante un script o una plantilla. En la minería de datos, un programa detecta estas plantillas en un contexto específico y extrae su contenido.\n",
    "\n",
    "- **Parsers de HTML:** Algunos lenguajes, como XQuery y HTQL pueden ser utilizados para parsear documentos, recuperar y transformar el contenido de documentos HTML.\n",
    "\n",
    "- **Aplicaciones para web scraping:** existen muchas aplicaciones disponibles que pueden ser utilizadas para personalizar soluciones de Web Scraping. Estas aplicaciones podrían reconocer automáticamente la estructura de cierta página o brindar una interfaz al usuario donde este pudiera seleccionar los campos que son de interés dentro del documento. De esta forma no es necesario escribir manualmente código para realizar estas tareas.\n",
    "\n",
    "- **Reconocimiento de información semántica:** las páginas que son analizadas podrían incluir metadatos o cierta información semántica como anotaciones o comentarios, los cuales pueden ser usados comúnmente. Si estas anotaciones están en las mismas páginas, como sucede con los microformatos, estas podrían ser de utilidad cuando parseamos el DOM del documento. En otro caso, las anotaciones, organizadas en una capa semántica, son almacenadas y manejadas de forma separada desde otras páginas, por lo que los scrapers pueden recuperar estos esquemas y las instrucciones desde esta capa antes de analizar los documentos."
   ]
  },
  {
   "cell_type": "markdown",
   "id": "60afe5c2-2c12-49fd-8a8e-0f3d6a88cdbf",
   "metadata": {
    "tags": []
   },
   "source": [
    "## <span style=\"color:#4361EE\">Scraper de Noticias de Google News</span>"
   ]
  },
  {
   "cell_type": "markdown",
   "id": "e7582c89-b06f-4830-8c3f-0235f7a0a6b5",
   "metadata": {},
   "source": [
    "Para comenzar nuestra discusión sobre como puede ser el resultado de un Scraping Web existente, usaremos un famoso paquete existente que hace el trabajo para las noticias en la web, conocido como Google News."
   ]
  },
  {
   "cell_type": "markdown",
   "id": "9c5e4657-a978-40d6-9b5f-670cea55418c",
   "metadata": {},
   "source": [
    "### <span style=\"color:#4CC9F0\">Librerías Necesarias</span>"
   ]
  },
  {
   "cell_type": "code",
   "execution_count": 1,
   "id": "4f41cc07-e518-452f-909b-463022f89b36",
   "metadata": {},
   "outputs": [],
   "source": [
    "# Conexión con Google News\n",
    "from gnewsclient import gnewsclient"
   ]
  },
  {
   "cell_type": "markdown",
   "id": "e8982b2e-9def-42e9-9729-ca611dbf991c",
   "metadata": {},
   "source": [
    "### <span style=\"color:#4CC9F0\">Extraer Noticias de Google News</span>"
   ]
  },
  {
   "cell_type": "markdown",
   "id": "7f497c8e-0b81-4853-b1a0-46114005e439",
   "metadata": {},
   "source": [
    "Es posible extraer noticias asociadas a [Google News](https://news.google.com/), usando la herramienta [`gnewsclient`](https://pypi.org/project/gnewsclient/), desarrollada por Nikhil Kumar Singh.\n",
    "\n",
    "Es una herramienta bastante intuitiva de usar.\n",
    "\n",
    "Considere que haremos un **Web Scraping** de una página que hace Web Scraping de noticias, utilizando los motores de Google."
   ]
  },
  {
   "cell_type": "code",
   "execution_count": 2,
   "id": "88ee4492-7008-413b-a780-294107c4a1f0",
   "metadata": {},
   "outputs": [],
   "source": [
    "# Inicializar el objeto gnewsclient\n",
    "client = gnewsclient.NewsClient()"
   ]
  },
  {
   "cell_type": "markdown",
   "id": "f6223602-a3ff-46fe-80a3-dec537821073",
   "metadata": {},
   "source": [
    "Como observamos a continuación, el cliente tiene algunas propiedades y métodos útiles:"
   ]
  },
  {
   "cell_type": "code",
   "execution_count": 3,
   "id": "adaedee9-7db4-45ce-b02f-2b0a12d06ed6",
   "metadata": {},
   "outputs": [
    {
     "name": "stdout",
     "output_type": "stream",
     "text": [
      "['__class__', '__delattr__', '__dict__', '__dir__', '__doc__', '__eq__', '__format__', '__ge__', '__getattribute__', '__gt__', '__hash__', '__init__', '__init_subclass__', '__le__', '__lt__', '__module__', '__ne__', '__new__', '__reduce__', '__reduce_ex__', '__repr__', '__setattr__', '__sizeof__', '__str__', '__subclasshook__', '__weakref__', 'get_config', 'get_news', 'language', 'languages', 'location', 'locations', 'max_results', 'params_dict', 'parse_feed', 'topic', 'topics', 'use_opengraph']\n"
     ]
    }
   ],
   "source": [
    "print(dir(client))"
   ]
  },
  {
   "cell_type": "markdown",
   "id": "c467cb47-580d-42d2-9a0c-b13aa3d09e30",
   "metadata": {},
   "source": [
    "### <span style=\"color:#4CC9F0\">Propiedades del Cliente de Noticias</span>"
   ]
  },
  {
   "cell_type": "markdown",
   "id": "09732dbb-a3fc-4d4b-8c9f-2de1832f96e0",
   "metadata": {},
   "source": [
    "- Podemos observar que tenemos varios países a disposición:"
   ]
  },
  {
   "cell_type": "code",
   "execution_count": 4,
   "id": "45db9421-9d7c-4a19-a75b-65c871ee1eb8",
   "metadata": {},
   "outputs": [
    {
     "name": "stdout",
     "output_type": "stream",
     "text": [
      "['Australia', 'Botswana', 'Canada ', 'Ethiopia', 'Ghana', 'India ', 'Indonesia', 'Ireland', 'Israel ', 'Kenya', 'Latvia', 'Malaysia', 'Namibia', 'New Zealand', 'Nigeria', 'Pakistan', 'Philippines', 'Singapore', 'South Africa', 'Tanzania', 'Uganda', 'United Kingdom', 'United States', 'Zimbabwe', 'Czech Republic', 'Germany', 'Austria', 'Switzerland', 'Argentina', 'Chile', 'Colombia', 'Cuba', 'Mexico', 'Peru', 'Venezuela', 'Belgium ', 'France', 'Morocco', 'Senegal', 'Italy', 'Lithuania', 'Hungary', 'Netherlands', 'Norway', 'Poland', 'Brazil', 'Portugal', 'Romania', 'Slovakia', 'Slovenia', 'Sweden', 'Vietnam', 'Turkey', 'Greece', 'Bulgaria', 'Russia', 'Ukraine ', 'Serbia', 'United Arab Emirates', 'Saudi Arabia', 'Lebanon', 'Egypt', 'Bangladesh', 'Thailand', 'China', 'Taiwan', 'Hong Kong', 'Japan', 'Republic of Korea']\n"
     ]
    }
   ],
   "source": [
    "print(client.locations)"
   ]
  },
  {
   "cell_type": "code",
   "execution_count": 5,
   "id": "c81883e5-6468-4a13-bbb4-60dbce50b8b2",
   "metadata": {},
   "outputs": [
    {
     "name": "stdout",
     "output_type": "stream",
     "text": [
      "Países Disponibles: 69\n"
     ]
    }
   ],
   "source": [
    "print(f'Países Disponibles: {len(client.locations)}')"
   ]
  },
  {
   "cell_type": "markdown",
   "id": "f0cc4e25-743e-475d-a283-a9e6f1cba083",
   "metadata": {},
   "source": [
    "- Además, podemos minar en diferentes idiomas también:"
   ]
  },
  {
   "cell_type": "code",
   "execution_count": 6,
   "id": "36ec68dc-32d9-401b-8ad7-0b1f9ef9573d",
   "metadata": {},
   "outputs": [
    {
     "name": "stdout",
     "output_type": "stream",
     "text": [
      "['english', 'indonesian', 'czech', 'german', 'spanish', 'french', 'italian', 'latvian', 'lithuanian', 'hungarian', 'dutch', 'norwegian', 'polish', 'portuguese brasil', 'portuguese portugal', 'romanian', 'slovak', 'slovenian', 'swedish', 'vietnamese', 'turkish', 'greek', 'bulgarian', 'russian', 'serbian', 'ukrainian', 'hebrew', 'arabic', 'marathi', 'hindi', 'bengali', 'tamil', 'telugu', 'malyalam', 'thai', 'chinese simplified', 'chinese traditional', 'japanese', 'korean']\n"
     ]
    }
   ],
   "source": [
    "print(client.languages)"
   ]
  },
  {
   "cell_type": "code",
   "execution_count": 7,
   "id": "c5e12822-ff3c-4f48-bf3e-8f80175e8418",
   "metadata": {},
   "outputs": [
    {
     "name": "stdout",
     "output_type": "stream",
     "text": [
      "Idiomas Disponibles: 39\n"
     ]
    }
   ],
   "source": [
    "print(f'Idiomas Disponibles: {len(client.languages)}')"
   ]
  },
  {
   "cell_type": "markdown",
   "id": "f37125ad-8eda-40d1-bf60-a74ab634c5e2",
   "metadata": {},
   "source": [
    "- Podemos también elegir entre diferentes temas disponibles:"
   ]
  },
  {
   "cell_type": "code",
   "execution_count": 8,
   "id": "56a6ddaf-73b4-4755-9e70-8e7020bbfd14",
   "metadata": {},
   "outputs": [
    {
     "name": "stdout",
     "output_type": "stream",
     "text": [
      "['Top Stories', 'World', 'Nation', 'Business', 'Technology', 'Entertainment', 'Sports', 'Science', 'Health']\n"
     ]
    }
   ],
   "source": [
    "# Mostrar Tópicos disponibles\n",
    "topicos = client.topics\n",
    "print(topicos)"
   ]
  },
  {
   "cell_type": "markdown",
   "id": "3c712171-36f9-48a4-a3b0-d3fe26ce51aa",
   "metadata": {},
   "source": [
    "- Tal vez, el método más importante de este paquete es **`get_news()`**, que busca por las noticias solicitadas en la web a través de Google."
   ]
  },
  {
   "cell_type": "code",
   "execution_count": 9,
   "id": "7b019f53-53aa-41a8-b432-76da0026d34c",
   "metadata": {},
   "outputs": [
    {
     "data": {
      "text/plain": [
       "[{'title': 'Live updates: Monterey Park mass shooting today: 10 dead, 10 injured at dance studio following Lunar New Year celebration - KABC-TV',\n",
       "  'link': 'https://news.google.com/__i/rss/rd/articles/CBMiW2h0dHBzOi8vYWJjNy5jb20vbW9udGVyZXktcGFyay1tYXNzLXNob290aW5nLWNhbGlmb3JuaWEtbHVuYXItbmV3LXllYXItZXZlbnQtZGVhZC8xMjcyNTM3Mi_SAV9odHRwczovL2FiYzcuY29tL2FtcC9tb250ZXJleS1wYXJrLW1hc3Mtc2hvb3RpbmctY2FsaWZvcm5pYS1sdW5hci1uZXcteWVhci1ldmVudC1kZWFkLzEyNzI1MzcyLw?oc=5',\n",
       "  'media': None},\n",
       " {'title': 'Biden to Tap Jeff Zients as His Next White House Chief of Staff - The New York Times',\n",
       "  'link': 'https://news.google.com/__i/rss/rd/articles/CBMiTmh0dHBzOi8vd3d3Lm55dGltZXMuY29tLzIwMjMvMDEvMjIvdXMvcG9saXRpY3MvamVmZi16aWVudHMtY2hpZWYtb2Ytc3RhZmYuaHRtbNIBUmh0dHBzOi8vd3d3Lm55dGltZXMuY29tLzIwMjMvMDEvMjIvdXMvcG9saXRpY3MvamVmZi16aWVudHMtY2hpZWYtb2Ytc3RhZmYuYW1wLmh0bWw?oc=5',\n",
       "  'media': None},\n",
       " {'title': 'Republicans hold firm in demanding debt ceiling deal with Biden - The Washington Post',\n",
       "  'link': 'https://news.google.com/__i/rss/rd/articles/CBMiSWh0dHBzOi8vd3d3Lndhc2hpbmd0b25wb3N0LmNvbS91cy1wb2xpY3kvMjAyMy8wMS8yMi9kZWJ0LWxpbWl0LWJpZGVuLWdvcC_SAQA?oc=5',\n",
       "  'media': None},\n",
       " {'title': \"Charges announced for those arrested in protests over controversial 'Cop City' and fatal police shooting of activist - CNN\",\n",
       "  'link': 'https://news.google.com/__i/rss/rd/articles/CBMiTmh0dHBzOi8vd3d3LmNubi5jb20vMjAyMy8wMS8yMS91cy9hdGxhbnRhLWNvcC1jaXR5LWRvd250b3duLXByb3Rlc3QvaW5kZXguaHRtbNIBUmh0dHBzOi8vYW1wLmNubi5jb20vY25uLzIwMjMvMDEvMjEvdXMvYXRsYW50YS1jb3AtY2l0eS1kb3dudG93bi1wcm90ZXN0L2luZGV4Lmh0bWw?oc=5',\n",
       "  'media': None},\n",
       " {'title': \"Dems: Biden should be 'embarrassed' by classified docs case - The Associated Press - en Español\",\n",
       "  'link': 'https://news.google.com/__i/rss/rd/articles/CBMic2h0dHBzOi8vYXBuZXdzLmNvbS9hcnRpY2xlL2JpZGVuLXBvbGl0aWNzLXVuaXRlZC1zdGF0ZXMtZ292ZXJubWVudC1tZXJyaWNrLWdhcmxhbmQtOWM4NzVlOTEzNjE4YTY4YWM3M2Q5ZTQxNTA1YWI3NjnSAQA?oc=5',\n",
       "  'media': None},\n",
       " {'title': 'Women’s March Holds Nationwide Rallies on 50th Anniversary of Roe - The New York Times',\n",
       "  'link': 'https://news.google.com/__i/rss/rd/articles/CBMiSWh0dHBzOi8vd3d3Lm55dGltZXMuY29tLzIwMjMvMDEvMjIvdXMvcG9saXRpY3Mvd29tZW5zLW1hcmNoLXJvZS13YWRlLmh0bWzSAU1odHRwczovL3d3dy5ueXRpbWVzLmNvbS8yMDIzLzAxLzIyL3VzL3BvbGl0aWNzL3dvbWVucy1tYXJjaC1yb2Utd2FkZS5hbXAuaHRtbA?oc=5',\n",
       "  'media': None},\n",
       " {'title': 'Harris rallies against GOP push to roll back abortion rights - The Associated Press - en Español',\n",
       "  'link': 'https://news.google.com/__i/rss/rd/articles/CBMic2h0dHBzOi8vYXBuZXdzLmNvbS9hcnRpY2xlL2Fib3J0aW9uLWJpZGVuLXBvbGl0aWNzLWhlYWx0aC1mbG9yaWRhLXN0YXRlLWdvdmVybm1lbnQtMzA1MGNhOTZlNWQxZmU5MTRjMWUyYzFhZDE4YTViOGbSAQA?oc=5',\n",
       "  'media': None},\n",
       " {'title': 'Alec Baldwin news – live: Actor to continue filming Rust after involuntary manslaughter charges - The Independent',\n",
       "  'link': 'https://news.google.com/__i/rss/rd/articles/CBMicmh0dHBzOi8vd3d3LmluZGVwZW5kZW50LmNvLnVrL2FydHMtZW50ZXJ0YWlubWVudC9maWxtcy9uZXdzL2FsZWMtYmFsZHdpbi1zaG9vdGluZy1ydXN0LWNoYXJnZS1sYXRlc3QtYjIyNjY4ODIuaHRtbNIBdmh0dHBzOi8vd3d3LmluZGVwZW5kZW50LmNvLnVrL2FydHMtZW50ZXJ0YWlubWVudC9maWxtcy9uZXdzL2FsZWMtYmFsZHdpbi1zaG9vdGluZy1ydXN0LWNoYXJnZS1sYXRlc3QtYjIyNjY4ODIuaHRtbD9hbXA?oc=5',\n",
       "  'media': None},\n",
       " {'title': '12 people shot at Baton Rouge night club Sunday morning, police say - The Advocate',\n",
       "  'link': 'https://news.google.com/__i/rss/rd/articles/CBMijQFodHRwczovL3d3dy50aGVhZHZvY2F0ZS5jb20vYmF0b25fcm91Z2UvMTItcGVvcGxlLXNob3QtYXQtYmF0b24tcm91Z2UtbmlnaHQtY2x1Yi1wb2xpY2Utc2F5L2FydGljbGVfZTQ0YTQzNDgtOWE3MC0xMWVkLTg0YTgtMjMwNWE3MzJlMzlmLmh0bWzSAZYBaHR0cHM6Ly93d3cudGhlYWR2b2NhdGUuY29tL2JhdG9uX3JvdWdlL25ld3MvMTItcGVvcGxlLXNob3QtYXQtYmF0b24tcm91Z2UtbmlnaHQtY2x1Yi1wb2xpY2Utc2F5L2FydGljbGVfZTQ0YTQzNDgtOWE3MC0xMWVkLTg0YTgtMjMwNWE3MzJlMzlmLmFtcC5odG1s?oc=5',\n",
       "  'media': None},\n",
       " {'title': \"Santos on drag-queen pics: 'I was young and I had fun at a festival' - Business Insider\",\n",
       "  'link': 'https://news.google.com/__i/rss/rd/articles/CBMiV2h0dHBzOi8vd3d3LmJ1c2luZXNzaW5zaWRlci5jb20vZ2VvcmdlLXNhbnRvcy1kcmFnLXF1ZWVuLXBpY3MteW91bmctZnVuLWZlc3RpdmFsLTIwMjMtMdIBW2h0dHBzOi8vd3d3LmJ1c2luZXNzaW5zaWRlci5jb20vZ2VvcmdlLXNhbnRvcy1kcmFnLXF1ZWVuLXBpY3MteW91bmctZnVuLWZlc3RpdmFsLTIwMjMtMT9hbXA?oc=5',\n",
       "  'media': None}]"
      ]
     },
     "execution_count": 9,
     "metadata": {},
     "output_type": "execute_result"
    }
   ],
   "source": [
    "# Obtener las noticias del cliente\n",
    "noticias = client.get_news()\n",
    "noticias"
   ]
  },
  {
   "cell_type": "markdown",
   "id": "3a11ea86-3789-4705-beae-b1d80d7a5b9c",
   "metadata": {},
   "source": [
    "### <span style=\"color:#4CC9F0\">Fijar parámetros del Cliente</span>"
   ]
  },
  {
   "cell_type": "markdown",
   "id": "7da2c77e-21a7-4d13-9198-078796199680",
   "metadata": {},
   "source": [
    "- Podemos elegir entre tópicos de la lista y pasarlos al cliente:"
   ]
  },
  {
   "cell_type": "code",
   "execution_count": 10,
   "id": "02e41a8a-e688-46a8-b510-9807a8c523c1",
   "metadata": {},
   "outputs": [
    {
     "name": "stdout",
     "output_type": "stream",
     "text": [
      "['Top Stories', 'World', 'Nation', 'Business', 'Technology', 'Entertainment', 'Sports', 'Science', 'Health']\n"
     ]
    }
   ],
   "source": [
    "print(topicos)"
   ]
  },
  {
   "cell_type": "code",
   "execution_count": 11,
   "id": "a6fd3f8a-8d82-45fd-8dd9-1d38b93c04b1",
   "metadata": {},
   "outputs": [],
   "source": [
    "# Elegir de tópicos discponibles\n",
    "client.topic = topicos[-1]"
   ]
  },
  {
   "cell_type": "code",
   "execution_count": 12,
   "id": "df40e372-04d1-46e2-b629-1c6589801fe5",
   "metadata": {},
   "outputs": [
    {
     "name": "stdout",
     "output_type": "stream",
     "text": [
      "['english', 'indonesian', 'czech', 'german', 'spanish', 'french', 'italian', 'latvian', 'lithuanian', 'hungarian', 'dutch', 'norwegian', 'polish', 'portuguese brasil', 'portuguese portugal', 'romanian', 'slovak', 'slovenian', 'swedish', 'vietnamese', 'turkish', 'greek', 'bulgarian', 'russian', 'serbian', 'ukrainian', 'hebrew', 'arabic', 'marathi', 'hindi', 'bengali', 'tamil', 'telugu', 'malyalam', 'thai', 'chinese simplified', 'chinese traditional', 'japanese', 'korean']\n"
     ]
    }
   ],
   "source": [
    "print(client.languages)"
   ]
  },
  {
   "cell_type": "markdown",
   "id": "3b38b42d-6a1d-48af-8d70-84a9b24383ec",
   "metadata": {},
   "source": [
    "- Podemos también elegir el idioma de nuestro interés:"
   ]
  },
  {
   "cell_type": "code",
   "execution_count": 14,
   "id": "a3ef99a8-4038-42c5-87c4-d2691bb50a7b",
   "metadata": {},
   "outputs": [],
   "source": [
    "client.language = 'greek'"
   ]
  },
  {
   "cell_type": "code",
   "execution_count": 15,
   "id": "629267e6-32fd-4f25-853b-eb52f840b866",
   "metadata": {},
   "outputs": [
    {
     "data": {
      "text/plain": [
       "[{'title': 'Οι ιώσεις σχετίζονται με την εμφάνιση Αλτσχάιμερ και Πάρκινσον – Τι δείχνει νέα έρευνα - NewsIT',\n",
       "  'link': 'https://news.google.com/__i/rss/rd/articles/CBMieWh0dHBzOi8vd3d3Lm5ld3NpdC5nci95Z2VpYS9vaS1pb3NlaXMtc3hldGl6b250YWktbWUtdGluLWVtZmFuaXNpLWFsdHN4YWltZXIta2FpLXBhcmtpbnNvbi10aS1kZWl4bmVpLW5lYS1lcmV5bmEvMzY4ODEyMy_SAX1odHRwczovL3d3dy5uZXdzaXQuZ3IveWdlaWEvb2ktaW9zZWlzLXN4ZXRpem9udGFpLW1lLXRpbi1lbWZhbmlzaS1hbHRzeGFpbWVyLWthaS1wYXJraW5zb24tdGktZGVpeG5laS1uZWEtZXJleW5hLzM2ODgxMjMvYW1wLw?oc=5',\n",
       "  'media': None},\n",
       " {'title': 'Η πλήρως εμβολιασμένη Ιαπωνία γονάτισε από τον Covid – Ρεκόρ μολύνσεων, νοσηλειών και θανάτων ενώ το ...«πείραμα» συνεχίζεται - Bankingnews',\n",
       "  'link': 'https://news.google.com/__i/rss/rd/articles/CBMijgFodHRwczovL3d3dy5iYW5raW5nbmV3cy5nci9kaWV0aG5pL2FydGljbGVzLzY2MTc3NS9pLXBsaXJvcy1lbXZvbGlhc21lbmktaWFwb25pYS1nb25hdGlzZS1hcG8tdG9uLWNvdmlkLXJla29yLW1vbHluc2Vvbi1ub3NpbGVpb24ta2FpLXRoYW5hdG9u0gEA?oc=5',\n",
       "  'media': None},\n",
       " {'title': 'Ιώσεις: Εκτιμήσεις για πτώση των κρουσμάτων γρίπης τον Φεβρουάριο - Δεν ανησυχούν οι νέες μεταλλάξεις κορωνοϊού - Πρώτο Θέμα',\n",
       "  'link': 'https://news.google.com/__i/rss/rd/articles/CBMingFodHRwczovL3d3dy5wcm90b3RoZW1hLmdyL2dyZWVjZS9hcnRpY2xlLzEzMzEyNTMvaW9zZWlzLWVrdGltaXNlaXMtZ2lhLXB0b3NpLXRvbi1rcm91c21hdG9uLWdyaXBpcy10b24tZmV2cm91YXJpby1kZW4tYW5pc3Vob3VuLW9pLW5lZXMtbWV0YWxsYXhlaXMta29yb25vaW91L9IBAA?oc=5',\n",
       "  'media': None},\n",
       " {'title': 'Εντοπίστηκε το πρώτο άστρο που ξεφεύγει από τη μηχανή του σπαγγέτι μιας μαύρης τρύπας - naftemporiki.gr',\n",
       "  'link': 'https://news.google.com/__i/rss/rd/articles/CBMihwFodHRwczovL3d3dy5uYWZ0ZW1wb3Jpa2kuZ3IvdGVjaHNjaWVuY2UvMTQzMDEyNy9lbnRvcGlzdGlrZS10by1wcm90by1hc3Ryby1wb3kteGVmZXlnZWktYXBvLXRpLW1pY2hhbmktdG95LXNwYWdnZXRpLW1pYXMtbWF5cmlzLXRyeXBhcy_SAQA?oc=5',\n",
       "  'media': None},\n",
       " {'title': 'Παγκόσμια ανησυχία για το επικαιροποιημένο εμβόλιο της Pfizer! - newsbreak',\n",
       "  'link': 'https://news.google.com/__i/rss/rd/articles/CBMiW2h0dHBzOi8vd3d3Lm5ld3NicmVhay5nci9rb3Ntb3MvNDMzMzM1L3BhZ2tvc21pYS1hbmlzeWNoaWEtZXBpa2Fpcm9wb2lpbWVuby1lbXZvbGlvLXBmaXplci_SAQA?oc=5',\n",
       "  'media': None},\n",
       " {'title': 'Διατροφή: Τι επιτρέπεται και τι όχι για το ουρικό οξύ - NewsIT',\n",
       "  'link': 'https://news.google.com/__i/rss/rd/articles/CBMiWmh0dHBzOi8vd3d3Lm5ld3NpdC5nci95Z2VpYS9kaWF0cm9maS10aS1lcGl0cmVwZXRhaS1rYWktdGktb3hpLWdpYS10by1vdXJpa28tb2tzeS8zNjQzNTYyL9IBkgFodHRwczovL3d3dy5uZXdzaXQuZ3IveWdlaWEvZGlhdHJvZmktdGktZXBpdHJlcGV0YWkta2FpLXRpLW94aS1naWEtdG8tb3VyaWtvLW9rc3kvMzY0MzU2Mi8_dXRtX3NvdXJjZT1wcm9qZWN0YWdvcmEmdXRtX21lZGl1bT1jb250ZW50ZGlzY292ZXJ5JmFtcA?oc=5',\n",
       "  'media': None},\n",
       " {'title': '10.000 βήματα, βραδινό φαΐ και άλλα κλισέ για την υγεία - News247.gr',\n",
       "  'link': 'https://news.google.com/__i/rss/rd/articles/CBMiaWh0dHBzOi8vd3d3Lm5ld3MyNDcuZ3Ivc3VuZGF5LWVkaXRpb24vMTAtMDAwLXZpbWF0YS12cmFkaW5vLWZhaS1rYWktYWxsYS1rbGlzZS1naWEtdGluLXlnZWlhLjk4OTM3OTIuaHRtbNIBbWh0dHBzOi8vd3d3Lm5ld3MyNDcuZ3Ivc3VuZGF5LWVkaXRpb24vMTAtMDAwLXZpbWF0YS12cmFkaW5vLWZhaS1rYWktYWxsYS1rbGlzZS1naWEtdGluLXlnZWlhLjk4OTM3OTIuYW1wLmh0bWw?oc=5',\n",
       "  'media': None},\n",
       " {'title': 'Καθιστική ζωή: Τα σημάδια που δείχνουν ότι το’ χετε παρακάνει - vita.gr',\n",
       "  'link': 'https://news.google.com/__i/rss/rd/articles/CBMicmh0dHBzOi8vd3d3LnZpdGEuZ3IvMjAyMy8wMS8yMi95Z2VpYS9rYXRoaXN0aWtpLXpvaS10YS1zaW1hZGlhLXBvdS1tYXJ0eXJvdW4tcG9zLWVpbmFpLWthaXJvcy1uYS1lbmVyZ29wb2lpdGhlaXRlL9IBdmh0dHBzOi8vd3d3LnZpdGEuZ3IvMjAyMy8wMS8yMi95Z2VpYS9rYXRoaXN0aWtpLXpvaS10YS1zaW1hZGlhLXBvdS1tYXJ0eXJvdW4tcG9zLWVpbmFpLWthaXJvcy1uYS1lbmVyZ29wb2lpdGhlaXRlL2FtcC8?oc=5',\n",
       "  'media': None},\n",
       " {'title': 'Έχεις χρόνιο πόνο, αλλά οι εξετάσεις σου βγαίνουν «καθαρές»; Μπορεί να έχεις ινομυαλγία - OW',\n",
       "  'link': 'https://news.google.com/__i/rss/rd/articles/CBMibGh0dHBzOi8vd3d3Lm93LmdyL3lnZWlhL2V4ZWlzLXhyb25pby1wb25vLWFsbGEtb2ktZXhldGFzZWlzLXNvdS12Z2Fpbm91bi1rYXRoYXJlcy1ib3JlaS1uYS1leGVpcy1pbm9taWFsZ2lhL9IBcGh0dHBzOi8vd3d3Lm93LmdyL3lnZWlhL2V4ZWlzLXhyb25pby1wb25vLWFsbGEtb2ktZXhldGFzZWlzLXNvdS12Z2Fpbm91bi1rYXRoYXJlcy1ib3JlaS1uYS1leGVpcy1pbm9taWFsZ2lhLz9hbXA?oc=5',\n",
       "  'media': None},\n",
       " {'title': 'Γίνεται να πεθάνεις κυριολεκτικά από τα γέλια; - News247.gr',\n",
       "  'link': 'https://news.google.com/__i/rss/rd/articles/CBMiYWh0dHBzOi8vd3d3Lm5ld3MyNDcuZ3Ivc3VuZGF5LWVkaXRpb24vZ2luZXRhaS1uYS1wZXRoYW5laXMta3lyaW9sZWt0aWthLWFwby10YS1nZWxpYS45OTA3OTMzLmh0bWzSAWVodHRwczovL3d3dy5uZXdzMjQ3LmdyL3N1bmRheS1lZGl0aW9uL2dpbmV0YWktbmEtcGV0aGFuZWlzLWt5cmlvbGVrdGlrYS1hcG8tdGEtZ2VsaWEuOTkwNzkzMy5hbXAuaHRtbA?oc=5',\n",
       "  'media': None}]"
      ]
     },
     "execution_count": 15,
     "metadata": {},
     "output_type": "execute_result"
    }
   ],
   "source": [
    "client.get_news()"
   ]
  },
  {
   "cell_type": "markdown",
   "id": "ea3ef5ad-2785-4a13-87f7-b42515aee328",
   "metadata": {},
   "source": [
    "- También es posible iniciar el cliente con parámetros fijos desde el principio:"
   ]
  },
  {
   "cell_type": "code",
   "execution_count": 16,
   "id": "b9e283b2-c775-401a-94d0-6703ab51c8f2",
   "metadata": {},
   "outputs": [],
   "source": [
    "# Con opengraph se puede filtrar el medio de comunicación\n",
    "client = gnewsclient.NewsClient(location='Colombia', language='spanish', topic='Nation', use_opengraph=True, max_results=10)\n",
    "# Obtener noticias\n",
    "noticias = client.get_news()"
   ]
  },
  {
   "cell_type": "code",
   "execution_count": 17,
   "id": "158d1a5e-9b23-4527-ad69-f51b96fbf11d",
   "metadata": {},
   "outputs": [
    {
     "name": "stdout",
     "output_type": "stream",
     "text": [
      "{'url': 'https://www.elheraldo.co/barranquilla/carnaval-de-barranquilla-2023-cierre-de-vias-y-desvios-por-la-lectura-del-bando-en', 'site_name': 'EL HERALDO', 'title': 'Cierre de vías y desvíos por la Lectura del Bando en Barranquilla - EL HERALDO', 'description': 'El evento se cumplirá este sábado en la Plaza de la Paz a partir de las 8:00 p. m. Las puertas se abrirán desde las 5:00 p. m. Policía dispone plan especial por seguridad.', 'image': 'https://www.elheraldo.co/sites/default/files/articulo/2023/01/20/2a_lectura_del_bando.jpg', 'type': 'article', 'locale:alternate': 'es_CO', 'locale': 'es_LA', 'country_name': 'Colombia', 'region': 'Barranquilla', 'image_width': 150, 'image_height': 150, 'link': 'https://news.google.com/__i/rss/rd/articles/CBMieGh0dHBzOi8vd3d3LmVsaGVyYWxkby5jby9iYXJyYW5xdWlsbGEvY2FybmF2YWwtZGUtYmFycmFucXVpbGxhLTIwMjMtY2llcnJlLWRlLXZpYXMteS1kZXN2aW9zLXBvci1sYS1sZWN0dXJhLWRlbC1iYW5kby1lbtIBAA?oc=5', 'media': None}\n"
     ]
    }
   ],
   "source": [
    "import numpy as np\n",
    "print(np.random.choice(noticias))"
   ]
  },
  {
   "cell_type": "markdown",
   "id": "9ec9dda0-abf0-449f-a10f-378c5cae2e00",
   "metadata": {},
   "source": [
    "- Note que el uso de **openGraph** nos permite obtener más características de las noticias, tales como imágenes asociadas, descripciones y tipo de noticia."
   ]
  },
  {
   "cell_type": "code",
   "execution_count": 18,
   "id": "465dd5db-0237-4627-9f01-39edc3f5b655",
   "metadata": {},
   "outputs": [
    {
     "name": "stdout",
     "output_type": "stream",
     "text": [
      "dict_keys(['url', 'site_name', 'title', 'description', 'image', 'locale', 'locale:alternate', 'type', 'image:url', 'image:type', 'video', 'video:type', 'video:width', 'video:height', 'image_width', 'image_height', 'link', 'media'])\n"
     ]
    }
   ],
   "source": [
    "print(noticias[0].keys())"
   ]
  },
  {
   "cell_type": "code",
   "execution_count": 19,
   "id": "a6ef75f8-514c-47c2-894e-da68cad090ee",
   "metadata": {},
   "outputs": [
    {
     "name": "stdout",
     "output_type": "stream",
     "text": [
      "El Tiempo\n",
      "Petro: estas son las medidas que anunció para atender crisis en Nariño - El Tiempo\n",
      "https://www.eltiempo.com/politica/gobierno/petro-anuncia-conclusiones-tras-consejo-de-ministros-en-ipiales-narino-735851\n",
      "https://news.google.com/__i/rss/rd/articles/CBMieGh0dHBzOi8vd3d3LmVsdGllbXBvLmNvbS9wb2xpdGljYS9nb2JpZXJuby9wZXRyby1hbnVuY2lhLWNvbmNsdXNpb25lcy10cmFzLWNvbnNlam8tZGUtbWluaXN0cm9zLWVuLWlwaWFsZXMtbmFyaW5vLTczNTg1MdIBfGh0dHBzOi8vd3d3LmVsdGllbXBvLmNvbS9hbXAvcG9saXRpY2EvZ29iaWVybm8vcGV0cm8tYW51bmNpYS1jb25jbHVzaW9uZXMtdHJhcy1jb25zZWpvLWRlLW1pbmlzdHJvcy1lbi1pcGlhbGVzLW5hcmluby03MzU4NTE?oc=5\n",
      "\n",
      "EL HERALDO\n",
      "Cierre de vías y desvíos por la Lectura del Bando en Barranquilla - EL HERALDO\n",
      "https://www.elheraldo.co/barranquilla/carnaval-de-barranquilla-2023-cierre-de-vias-y-desvios-por-la-lectura-del-bando-en\n",
      "https://news.google.com/__i/rss/rd/articles/CBMieGh0dHBzOi8vd3d3LmVsaGVyYWxkby5jby9iYXJyYW5xdWlsbGEvY2FybmF2YWwtZGUtYmFycmFucXVpbGxhLTIwMjMtY2llcnJlLWRlLXZpYXMteS1kZXN2aW9zLXBvci1sYS1sZWN0dXJhLWRlbC1iYW5kby1lbtIBAA?oc=5\n",
      "\n",
      "ELESPECTADOR.COM\n",
      "Taxistas anuncian nueva jornada de protestas en Bogotá para el 23 de enero - El Espectador\n",
      "https://www.elespectador.com/bogota/taxistas-anuncian-nueva-jornada-de-protestas-en-bogota-para-el-23-de-enero-noticias-hoy/\n",
      "https://news.google.com/__i/rss/rd/articles/CBMifGh0dHBzOi8vd3d3LmVsZXNwZWN0YWRvci5jb20vYm9nb3RhL3RheGlzdGFzLWFudW5jaWFuLW51ZXZhLWpvcm5hZGEtZGUtcHJvdGVzdGFzLWVuLWJvZ290YS1wYXJhLWVsLTIzLWRlLWVuZXJvLW5vdGljaWFzLWhveS_SAYsBaHR0cHM6Ly93d3cuZWxlc3BlY3RhZG9yLmNvbS9ib2dvdGEvdGF4aXN0YXMtYW51bmNpYW4tbnVldmEtam9ybmFkYS1kZS1wcm90ZXN0YXMtZW4tYm9nb3RhLXBhcmEtZWwtMjMtZGUtZW5lcm8tbm90aWNpYXMtaG95Lz9vdXRwdXRUeXBlPWFtcA?oc=5\n",
      "\n",
      "www.elcolombiano.com\n",
      "Niña de 8 años alertó sobre el asesinato de su mamá en Medellín - El Colombiano\n",
      "https://www.elcolombiano.com/antioquia/nina-alerto-del-homicidio-de-su-mama-en-enciso-medellin-FG20159682\n",
      "https://news.google.com/__i/rss/rd/articles/CBMiaWh0dHBzOi8vd3d3LmVsY29sb21iaWFuby5jb20vYW50aW9xdWlhL25pbmEtYWxlcnRvLWRlbC1ob21pY2lkaW8tZGUtc3UtbWFtYS1lbi1lbmNpc28tbWVkZWxsaW4tRkcyMDE1OTY4MtIBbWh0dHBzOi8vd3d3LmVsY29sb21iaWFuby5jb20vYW1wL2FudGlvcXVpYS9uaW5hLWFsZXJ0by1kZWwtaG9taWNpZGlvLWRlLXN1LW1hbWEtZW4tZW5jaXNvLW1lZGVsbGluLUZHMjAxNTk2ODI?oc=5\n",
      "\n",
      "EL HERALDO\n",
      "Cárcel a hombre que habría obligado a su pareja a tatuarse su nombre | El sujeto es acusado de abuso sexual - EL HERALDO\n",
      "https://www.elheraldo.co/colombia/carcel-hombre-que-habria-obligado-su-pareja-tatuarse-su-nombre-el-sujeto-es-acusado-de\n",
      "https://news.google.com/__i/rss/rd/articles/CBMieGh0dHBzOi8vd3d3LmVsaGVyYWxkby5jby9jb2xvbWJpYS9jYXJjZWwtaG9tYnJlLXF1ZS1oYWJyaWEtb2JsaWdhZG8tc3UtcGFyZWphLXRhdHVhcnNlLXN1LW5vbWJyZS1lbC1zdWpldG8tZXMtYWN1c2Fkby1kZdIBfGh0dHBzOi8vd3d3LmVsaGVyYWxkby5jby9jb2xvbWJpYS9jYXJjZWwtaG9tYnJlLXF1ZS1oYWJyaWEtb2JsaWdhZG8tc3UtcGFyZWphLXRhdHVhcnNlLXN1LW5vbWJyZS1lbC1zdWpldG8tZXMtYWN1c2Fkby1kZT9hbXA?oc=5\n",
      "\n",
      "Semana.com   Últimas Noticias de Colombia y el Mundo\n",
      "Presidente Petro volvió a hablar de la exploración petrolera en Colombia: ¿qué dijo ahora? - Revista Semana\n",
      "https://www.semana.com/economia/macroeconomia/articulo/presidente-petro-volvio-a-hablar-de-la-exploracion-petrolera-en-colombia-que-dijo-ahora/202335/\n",
      "https://news.google.com/__i/rss/rd/articles/CBMilgFodHRwczovL3d3dy5zZW1hbmEuY29tL2Vjb25vbWlhL21hY3JvZWNvbm9taWEvYXJ0aWN1bG8vcHJlc2lkZW50ZS1wZXRyby12b2x2aW8tYS1oYWJsYXItZGUtbGEtZXhwbG9yYWNpb24tcGV0cm9sZXJhLWVuLWNvbG9tYmlhLXF1ZS1kaWpvLWFob3JhLzIwMjMzNS_SAZoBaHR0cHM6Ly93d3cuc2VtYW5hLmNvbS9hbXAvZWNvbm9taWEvbWFjcm9lY29ub21pYS9hcnRpY3Vsby9wcmVzaWRlbnRlLXBldHJvLXZvbHZpby1hLWhhYmxhci1kZS1sYS1leHBsb3JhY2lvbi1wZXRyb2xlcmEtZW4tY29sb21iaWEtcXVlLWRpam8tYWhvcmEvMjAyMzM1Lw?oc=5\n",
      "\n",
      "El Tiempo\n",
      "Comienza paso de camiones que estaban represados en Ipiales, Nariño - El Tiempo\n",
      "https://www.eltiempo.com/economia/sectores/narino-comienza-paso-de-camiones-que-estaban-represados-en-ipiales-735841\n",
      "https://news.google.com/__i/rss/rd/articles/CBMidGh0dHBzOi8vd3d3LmVsdGllbXBvLmNvbS9lY29ub21pYS9zZWN0b3Jlcy9uYXJpbm8tY29taWVuemEtcGFzby1kZS1jYW1pb25lcy1xdWUtZXN0YWJhbi1yZXByZXNhZG9zLWVuLWlwaWFsZXMtNzM1ODQx0gF4aHR0cHM6Ly93d3cuZWx0aWVtcG8uY29tL2FtcC9lY29ub21pYS9zZWN0b3Jlcy9uYXJpbm8tY29taWVuemEtcGFzby1kZS1jYW1pb25lcy1xdWUtZXN0YWJhbi1yZXByZXNhZG9zLWVuLWlwaWFsZXMtNzM1ODQx?oc=5\n",
      "\n",
      "Bogota.gov.co\n",
      "Pico y placa vehículos particulares del 23 al 27 de enero de 2023 | Bogota.gov.co - Alcaldía de Bogotá\n",
      "https://bogota.gov.co/mi-ciudad/movilidad/pico-y-placa-vehiculos-particulares-del-23-al-27-de-enero-de-2023\n",
      "https://news.google.com/__i/rss/rd/articles/CBMia2h0dHBzOi8vYm9nb3RhLmdvdi5jby9taS1jaXVkYWQvbW92aWxpZGFkL3BpY28teS1wbGFjYS12ZWhpY3Vsb3MtcGFydGljdWxhcmVzLWRlbC0yMy1hbC0yNy1kZS1lbmVyby1kZS0yMDIz0gEA?oc=5\n",
      "\n",
      "pulzo.com\n",
      "Millonada que ha recaudado Bogotá con el nuevo pico y placa; van más de mil partes - Pulzo.com\n",
      "https://www.pulzo.com/nacion/pico-placa-bogota-mas-25-mil-millones-pico-placa-solidario-partes-PP2598179A\n",
      "https://news.google.com/__i/rss/rd/articles/CBMiaWh0dHBzOi8vd3d3LnB1bHpvLmNvbS9uYWNpb24vcGljby1wbGFjYS1ib2dvdGEtbWFzLTI1LW1pbC1taWxsb25lcy1waWNvLXBsYWNhLXNvbGlkYXJpby1wYXJ0ZXMtUFAyNTk4MTc5QdIBbWh0dHBzOi8vd3d3LnB1bHpvLmNvbS9hbXAvbmFjaW9uL3BpY28tcGxhY2EtYm9nb3RhLW1hcy0yNS1taWwtbWlsbG9uZXMtcGljby1wbGFjYS1zb2xpZGFyaW8tcGFydGVzLVBQMjU5ODE3OUE?oc=5\n",
      "\n",
      "www.eluniversal.com.co\n",
      "Video: ¡A plena luz del día! Atracan a mano armada en Getsemaní - El Universal\n",
      "https://www.eluniversal.com.co/sucesos/video-a-plena-luz-del-dia-atracan-a-mano-armada-en-getsemani-EH7797879\n",
      "https://news.google.com/__i/rss/rd/articles/CBMibWh0dHBzOi8vd3d3LmVsdW5pdmVyc2FsLmNvbS5jby9zdWNlc29zL3ZpZGVvLWEtcGxlbmEtbHV6LWRlbC1kaWEtYXRyYWNhbi1hLW1hbm8tYXJtYWRhLWVuLWdldHNlbWFuaS1FSDc3OTc4NznSAQA?oc=5\n",
      "\n"
     ]
    }
   ],
   "source": [
    "# Mostrar noticias\n",
    "for noticia in noticias:\n",
    "    print(noticia['site_name'],noticia['title'],noticia['url'],noticia['link'],sep='\\n',end='\\n\\n')"
   ]
  },
  {
   "cell_type": "markdown",
   "id": "f71b01a7-9d21-47ae-b5fd-9d9533bb0f54",
   "metadata": {
    "tags": []
   },
   "source": [
    "## <span style=\"color:#4361EE\">Accediendo al contenido de Noticias</span>"
   ]
  },
  {
   "cell_type": "markdown",
   "id": "60f232c0-da67-49e3-a344-dbca915c8e66",
   "metadata": {},
   "source": [
    "### <span style=\"color:#4CC9F0\">Estado de Conexión</span>"
   ]
  },
  {
   "cell_type": "markdown",
   "id": "8bf4b0a6-a478-4573-be00-5dfe6c7e3caa",
   "metadata": {},
   "source": [
    "Podemos usar la librería `requests` para generar una conexión hacia la página web de la cual queremos extraer la información:"
   ]
  },
  {
   "cell_type": "code",
   "execution_count": 20,
   "id": "18464ede-1631-44f3-9901-fd1ef5ab4a21",
   "metadata": {},
   "outputs": [],
   "source": [
    "# Abrir conexiones de una página web\n",
    "import requests\n",
    "# Bella sopa de muchas cosas de HTML\n",
    "from bs4 import BeautifulSoup\n",
    "# Expresiones regulares para filtrar dentro de la sopa\n",
    "import re\n",
    "# Transformar html a texto\n",
    "import html2text"
   ]
  },
  {
   "cell_type": "code",
   "execution_count": 23,
   "id": "93a1eb5f-9365-4679-b5ae-4f3ead306caa",
   "metadata": {},
   "outputs": [
    {
     "name": "stdout",
     "output_type": "stream",
     "text": [
      "www.elcolombiano.com\n",
      "\n",
      "Niña de 8 años alertó sobre el asesinato de su mamá en Medellín - El Colombiano\n",
      "\n",
      "https://www.elcolombiano.com/antioquia/nina-alerto-del-homicidio-de-su-mama-en-enciso-medellin-FG20159682\n",
      "\n",
      "Estado de conexión: 200 OK (200 = OK, 403 = NOT OK)\n"
     ]
    }
   ],
   "source": [
    "# Elegir noticia al azar\n",
    "noticia_elegida = np.random.choice(noticias)\n",
    "# Obtener información importante del diccionario de gnews\n",
    "medio = noticia_elegida['site_name']\n",
    "# Nombre del sitio de la noticia\n",
    "titular = noticia_elegida['title']\n",
    "# URL de la noticia elegida\n",
    "url = noticia_elegida['url']\n",
    "# Elegir link adecuado, a veces url=None\n",
    "if url==None or re.search('http',url)==None:\n",
    "    # Si no hay información, ir desde Google\n",
    "    url = noticia_elegida['link']\n",
    "# Imprimir información importante\n",
    "print(medio,titular,url,sep='\\n\\n',end='\\n\\n')\n",
    "# Rompe defensa dummy anti-robot: https://stackoverflow.com/questions/38489386/python-requests-403-forbidden\n",
    "headers = {'User-Agent': 'Mozilla/5.0 (Macintosh; Intel Mac OS X 10_11_5) AppleWebKit/537.36 (KHTML, like Gecko) Chrome/50.0.2661.102 Safari/537.36'}\n",
    "# Obtener info de la página web\n",
    "res = requests.get(url,headers=headers)\n",
    "# Mostrar estado de la conexión\n",
    "print(\"Estado de conexión:\", res.status_code,res.reason, \"(200 = OK, 403 = NOT OK)\")"
   ]
  },
  {
   "cell_type": "markdown",
   "id": "87054a68-6561-46b0-825f-9c99d23d9a61",
   "metadata": {
    "tags": []
   },
   "source": [
    "## <span style=\"color:#4361EE\">Beautiful Soup</span>"
   ]
  },
  {
   "cell_type": "markdown",
   "id": "d8de2cd8-5067-4a9c-bb5a-0e86ebbc8da1",
   "metadata": {},
   "source": [
    "En caso de tener conexión, `requests.content` copiará **todo** el contenido encontrado en la página fuente:"
   ]
  },
  {
   "cell_type": "code",
   "execution_count": 24,
   "id": "2a546225-4591-45a2-9982-5c2ba826579a",
   "metadata": {},
   "outputs": [
    {
     "name": "stdout",
     "output_type": "stream",
     "text": [
      "b'   <!doctype html>  <html class=\"ltr\" dir=\"ltr\" lang=\"es-ES\"> <head> <meta content=\"text/html; charset=UTF-8\" http-equiv=\"content-type\"> <title>Ni\\xc3\\xb1a de 8 a\\xc3\\xb1os alert\\xc3\\xb3 sobre el asesinato de su mam\\xc3\\xa1 en Medell\\xc3\\xadn</title> <link rel=\"shortcut icon\" href=\"https://www.elcolombiano.com/base-portlet/webrsrc/ctxvar/7bacdb4bae8c4a41855e25ae67d07716.jpeg\"> <style amp-custom> .mln_uppercase_mln\\r\\n\\t\\t{\\r\\n\\t\\t\\ttext-transform:uppercase\\r\\n\\t\\t}\\r\\n\\t\\t\\r\\n\\t\\t.mln_small-caps_mln\\r\\n\\t\\t{\\r\\n\\t\\t\\tfont-variant:small-caps\\r\\n\\t\\t}\\r\\n\\t\\t</style> <meta name=\"keywords\" content=\"actividades ilegales\" data-id=\"25980\" data-voc-name=\"temas\" data-voc-id=\"25977\"> <meta name=\"keywords\" content=\"orden p\\xc3\\xbablico\" data-id=\"27161\" data-voc-name=\"temas\" data-voc-id=\"25977\"> <meta name=\"keywords\" content=\"seguridad ciudadana\" data-id=\"27173\" data-voc-name=\"temas\" data-voc-id=\"25977\"> <meta name=\"keywords\" content=\"medell\\xc3\\xadn\" data-id=\"27707\" data-voc-name=\"geogr\\xc3\\xa1fico\" data-voc-id=\"27611\"> <meta name=\"keywords\" content=\"comuna 8\" data-id=\"7442627\" data-voc-name=\"geogr\\xc3\\xa1fico\" data-voc-id=\"27611\"> <meta name=\"keywords\" content=\"violencia\" data-id=\"16060848\" data-voc-name=\"temas\" data-voc-id=\"25977\"> <meta name=\"keywords\" content=\"homicidio\" data-id=\"19088750\" data-voc-name=\"temas\" data-voc-id=\"25977\"> <meta name=\"keywords\" content=\"violencia contra la mujer\" data-id=\"1318756825\" data-voc-name=\"temas\" data-voc-id=\"25977\"> <meta name=\"keywords\" content=\"santiago olivares tob\\xc3\\xb3n\" data-id=\"2091767170\" data-voc-name=\"autores\" data-voc-id=\"19089\"> <meta name=\"keywords\" content=\"seguridad\" data-id=\"2206945989\" data-voc-name=\"temas\" data-voc-id=\"25977\"> <meta name=\"description\" content=\"Una llamada de una ni\\xc3\\xb1a de ocho a\\xc3\\xb1os a su abuela fue la que permiti\\xc3\\xb3 conocer que Melissa Toro \\xc3\\x81lvarez, de 28 a\\xc3\\xb1os, hab\\xc3\\xada sido atacada con arma de fueg...\"> <meta content=\"2023-1-22 15:41:7\" property=\"article:published_time\"> <meta content=\"Santiago Olivares Tob\\xc3\\xb3n\" name=\"author\"> <meta content=\"article\" name=\"cXenseParse:pageclass\"> <meta content=\"201'\n"
     ]
    }
   ],
   "source": [
    "# Obtener contenido Web\n",
    "html_page = res.content\n",
    "# Mostrar algo de código fuente\n",
    "print(html_page[:2000])"
   ]
  },
  {
   "cell_type": "markdown",
   "id": "0fddefae-6090-4acd-8003-0cdf463e5dda",
   "metadata": {},
   "source": [
    "Para poder decodificar los símbolos especiales y organizar en forma coherente para python, usaremos la librería `BeautifulSoup`:"
   ]
  },
  {
   "cell_type": "code",
   "execution_count": 25,
   "id": "bbbb4d4d-fae6-47bc-baf5-5419aa023f94",
   "metadata": {},
   "outputs": [
    {
     "name": "stdout",
     "output_type": "stream",
     "text": [
      "<!DOCTYPE html>\n",
      "<html class=\"ltr\" dir=\"ltr\" lang=\"es-ES\">\n",
      " <head>\n",
      "  <meta content=\"text/html; charset=utf-8\" http-equiv=\"content-type\"/>\n",
      "  <title>\n",
      "   Niña de 8 años alertó sobre el asesinato de su mamá en Medellín\n",
      "  </title>\n",
      "  <link href=\"https://www.elcolombiano.com/base-portlet/webrsrc/ctxvar/7bacdb4bae8c4a41855e25ae67d07716.jpeg\" rel=\"shortcut icon\"/>\n",
      "  <style amp-custom=\"\">\n",
      "   .mln_uppercase_mln\n",
      "\t\t{\n",
      "\t\t\ttext-transform:uppercase\n",
      "\t\t}\n",
      "\t\t\n",
      "\t\t.mln_small-caps_mln\n",
      "\t\t{\n",
      "\t\t\tfont-variant:small-caps\n",
      "\t\t}\n",
      "  </style>\n",
      "  <meta content=\"actividades ilegales\" data-id=\"25980\" data-voc-id=\"25977\" data-voc-name=\"temas\" name=\"keywords\"/>\n",
      "  <meta content=\"orden público\" data-id=\"27161\" data-voc-id=\"25977\" data-voc-name=\"temas\" name=\"keywords\"/>\n",
      "  <meta content=\"seguridad ciudadana\" data-id=\"27173\" data-voc-id=\"25977\" data-voc-name=\"temas\" name=\"keywords\"/>\n",
      "  <meta content=\"medellín\" data-id=\"27707\" data-voc-id=\"27611\" data-voc-name=\"geográfico\" name=\"keywords\"/>\n",
      "  <meta content=\"comuna 8\" data-id=\"7442627\" data-voc-id=\"27611\" data-voc-name=\"geográfico\" name=\"keywords\"/>\n",
      "  <meta content=\"violencia\" data-id=\"16060848\" data-voc-id=\"25977\" data-voc-name=\"temas\" name=\"keywords\"/>\n",
      "  <meta content=\"homicidio\" data-id=\"19088750\" data-voc-id=\"25977\" data-voc-name=\"temas\" name=\"keywords\"/>\n",
      "  <meta content=\"violencia contra la mujer\" data-id=\"1318756825\" data-voc-id=\"25977\" data-voc-name=\"temas\" name=\"keywords\"/>\n",
      "  <meta content=\"santiago olivares tobón\" data-id=\"2091767170\" data-voc-id=\"19089\" data-voc-name=\"autores\" name=\"keywords\"/>\n",
      "  <meta content=\"seguridad\" data-id=\"2206945989\" data-voc-id=\"25977\" data-voc-name=\"temas\" name=\"keywords\"/>\n",
      "  <meta content=\"Una llamada de una niña de ocho años a su abuela fue la que permitió conocer que Melissa Toro Álvarez, de 28 años, había sido atacada con arma de fueg...\" name=\"description\"/>\n",
      "  <meta content=\"2023-1-22 15:41:7\" property=\"article:published_time\"/>\n",
      "  <meta content=\"Santiago Olivares Tobón\" name=\"author\"/>\n",
      "  <meta content=\"article\" name=\n"
     ]
    }
   ],
   "source": [
    "# Obtener la sopa del HTML (construye la estructura de datos para poder minar por tags)\n",
    "soup = BeautifulSoup(html_page, 'html.parser')\n",
    "# parser permite decodificar algunos símbolos\n",
    "print(soup.prettify()[:2000])"
   ]
  },
  {
   "cell_type": "markdown",
   "id": "ba9f3960-2268-44bf-8bea-9b44e741b90d",
   "metadata": {},
   "source": [
    "- Notemos que BeautifulSoup tiene bastantes herramientas para trabajar: "
   ]
  },
  {
   "cell_type": "code",
   "execution_count": 26,
   "id": "ba3c031d-ee37-43d6-8063-707debc5ab6d",
   "metadata": {},
   "outputs": [
    {
     "name": "stdout",
     "output_type": "stream",
     "text": [
      "['ASCII_SPACES', 'DEFAULT_BUILDER_FEATURES', 'DEFAULT_INTERESTING_STRING_TYPES', 'NO_PARSER_SPECIFIED_WARNING', 'ROOT_TAG_NAME', '__bool__', '__call__', '__class__', '__contains__', '__copy__', '__delattr__', '__delitem__', '__dict__', '__dir__', '__doc__', '__eq__', '__format__', '__ge__', '__getattr__', '__getattribute__', '__getitem__', '__getstate__', '__gt__', '__hash__', '__init__', '__init_subclass__', '__iter__', '__le__', '__len__', '__lt__', '__module__', '__ne__', '__new__', '__reduce__', '__reduce_ex__', '__repr__', '__setattr__', '__setitem__', '__sizeof__', '__str__', '__subclasshook__', '__unicode__', '__weakref__', '_all_strings', '_decode_markup', '_feed', '_find_all', '_find_one', '_is_xml', '_lastRecursiveChild', '_last_descendant', '_linkage_fixer', '_markup_is_url', '_markup_resembles_filename', '_most_recent_element', '_namespaces', '_popToTag', '_should_pretty_print', 'append', 'attrs', 'builder', 'can_be_empty_element', 'cdata_list_attributes', 'childGenerator', 'children', 'clear', 'contains_replacement_characters', 'contents', 'currentTag', 'current_data', 'declared_html_encoding', 'decode', 'decode_contents', 'decompose', 'decomposed', 'default', 'descendants', 'element_classes', 'encode', 'encode_contents', 'endData', 'extend', 'extract', 'fetchNextSiblings', 'fetchParents', 'fetchPrevious', 'fetchPreviousSiblings', 'find', 'findAll', 'findAllNext', 'findAllPrevious', 'findChild', 'findChildren', 'findNext', 'findNextSibling', 'findNextSiblings', 'findParent', 'findParents', 'findPrevious', 'findPreviousSibling', 'findPreviousSiblings', 'find_all', 'find_all_next', 'find_all_previous', 'find_next', 'find_next_sibling', 'find_next_siblings', 'find_parent', 'find_parents', 'find_previous', 'find_previous_sibling', 'find_previous_siblings', 'format_string', 'formatter_for_name', 'get', 'getText', 'get_attribute_list', 'get_text', 'handle_data', 'handle_endtag', 'handle_starttag', 'has_attr', 'has_key', 'hidden', 'index', 'insert', 'insert_after', 'insert_before', 'interesting_string_types', 'isSelfClosing', 'is_empty_element', 'is_xml', 'known_xml', 'markup', 'name', 'namespace', 'new_string', 'new_tag', 'next', 'nextGenerator', 'nextSibling', 'nextSiblingGenerator', 'next_element', 'next_elements', 'next_sibling', 'next_siblings', 'object_was_parsed', 'open_tag_counter', 'original_encoding', 'parent', 'parentGenerator', 'parents', 'parse_only', 'parserClass', 'parser_class', 'popTag', 'prefix', 'preserve_whitespace_tag_stack', 'preserve_whitespace_tags', 'prettify', 'previous', 'previousGenerator', 'previousSibling', 'previousSiblingGenerator', 'previous_element', 'previous_elements', 'previous_sibling', 'previous_siblings', 'pushTag', 'recursiveChildGenerator', 'renderContents', 'replaceWith', 'replaceWithChildren', 'replace_with', 'replace_with_children', 'reset', 'select', 'select_one', 'setup', 'smooth', 'string', 'string_container', 'string_container_stack', 'strings', 'stripped_strings', 'tagStack', 'text', 'unwrap', 'wrap']\n"
     ]
    }
   ],
   "source": [
    "print(dir(soup))"
   ]
  },
  {
   "cell_type": "markdown",
   "id": "fd50a306-7b96-4fba-8f51-fe990d01630b",
   "metadata": {},
   "source": [
    "### <span style=\"color:#4CC9F0\">Obtención del texto de la noticia</span>"
   ]
  },
  {
   "cell_type": "code",
   "execution_count": 27,
   "id": "f6d2501e-127a-489c-b45b-eb1cdb2e0954",
   "metadata": {},
   "outputs": [
    {
     "name": "stdout",
     "output_type": "stream",
     "text": [
      "www.elcolombiano.com\n",
      "\n",
      "Niña de 8 años alertó sobre el asesinato de su mamá en Medellín - El Colombiano\n",
      "\n",
      "https://www.elcolombiano.com/antioquia/nina-alerto-del-homicidio-de-su-mama-en-enciso-medellin-FG20159682\n",
      "\n"
     ]
    }
   ],
   "source": [
    "# Información Básica\n",
    "print(medio,titular,url,sep='\\n\\n',end='\\n\\n')"
   ]
  },
  {
   "cell_type": "code",
   "execution_count": 28,
   "id": "f42719e0-6a55-4fc6-853e-a89f5125998b",
   "metadata": {},
   "outputs": [
    {
     "data": {
      "text/plain": [
       "[<div class=\"paragraph\" mlnid=\"idcon=41457266;order=4.0\"> <p>Una llamada de una niña de ocho años a su abuela fue la que permitió conocer que <b>Melissa Toro Álvarez, de 28 años</b>, había sido atacada con arma de fuego en un callejón del barrio Enciso, oriente de Medellín. Aún con vida, fue trasladada a la Unidad Intermedia de Belén, pese a la cercanía de otros centros asistenciales, y allí llegó sin vida.</p> <p>El ataque en contra de esta mujer se presentó a las 6:15 de la mañana de este domingo en un callejón de este barrio de la comuna 8 (Villa Hermosa), ubicado en la carrera 29 con la calle 59, detrás de la iglesia Divino Jesús de Praga.</p> <p>La mamá de la víctima y abuela de la menor que alertó de lo sucedido, acudió al lugar y <b>la trasladó por sus propios medios</b> al centro asistencial, ubicado a 8,5 kilómetros de distancia, con un disparo en el mentón.</p> </div>,\n",
       " <div class=\"paragraph\" mlnid=\"idcon=41457270;order=6.0\"> <p>Sobre las causas del ataque todo es un misterio. Algunos vecinos del sector <b>solo se aventuraron a señalar tímidamente</b> la zona donde fue baleada esta mujer, mientras que otros respondían tajantemente, “no vamos a dar ninguna información”.</p> <p>Alejandro Guevara, oficial de supervisión de la Policía Metropolitana, señaló que “en este momento nos encontramos con las unidades de policía judicial haciendo todo el proceso investigativo para lograr el esclarecimiento de este hecho”.</p> <p>Uniformados que fueron consultados por este medio en el sector, señalaron que <b>tampoco tenían detalles</b> de lo ocurrido con esta mujer, quien se desempeñaba como manicurista.</p> </div>,\n",
       " <div class=\"paragraph\" mlnid=\"idcon=41457269;order=8.0\"> <p>La progenitora de la víctima le relató a las autoridades que hizo el traslado hasta el centro asistencial distante, <b>argumentando que allá era donde siempre la atendían</b>. Aseguró que no sabe por qué la asesinaron ni tampoco qué hacía en esta zona, ya que vivía en un barrio de la comuna 13 (San Javier).</p> <p>Con este hecho ya son <b>cuatro las mujeres asesinadas este año en Medellín</b>, dos de ellas este fin de semana, según el reporte del Sistema de Información para la Seguridad y la Convivencia (Sisc). El año pasado, a la fecha, no se había presentado el primer asesinato de una mujer en la ciudad.</p> </div>]"
      ]
     },
     "execution_count": 28,
     "metadata": {},
     "output_type": "execute_result"
    }
   ],
   "source": [
    "texto = soup.find_all('div',{'class': 'paragraph'})\n",
    "texto"
   ]
  },
  {
   "cell_type": "markdown",
   "id": "21cedbf8-fee5-490a-9c28-9c8a0abf4d6e",
   "metadata": {},
   "source": [
    "Librería `html2text`"
   ]
  },
  {
   "cell_type": "code",
   "execution_count": 29,
   "id": "c69f3539-88a6-41d5-98a2-f5bb8f52eca1",
   "metadata": {},
   "outputs": [
    {
     "data": {
      "text/plain": [
       "'[\\n\\nUna llamada de una niña de ocho años a su abuela fue la que permitió conocer\\nque **Melissa Toro Álvarez, de 28 años** , había sido atacada con arma de\\nfuego en un callejón del barrio Enciso, oriente de Medellín. Aún con vida, fue\\ntrasladada a la Unidad Intermedia de Belén, pese a la cercanía de otros\\ncentros asistenciales, y allí llegó sin vida.\\n\\nEl ataque en contra de esta mujer se presentó a las 6:15 de la mañana de este\\ndomingo en un callejón de este barrio de la comuna 8 (Villa Hermosa), ubicado\\nen la carrera 29 con la calle 59, detrás de la iglesia Divino Jesús de Praga.\\n\\nLa mamá de la víctima y abuela de la menor que alertó de lo sucedido, acudió\\nal lugar y **la trasladó por sus propios medios** al centro asistencial,\\nubicado a 8,5 kilómetros de distancia, con un disparo en el mentón.\\n\\n,\\n\\nSobre las causas del ataque todo es un misterio. Algunos vecinos del sector\\n**solo se aventuraron a señalar tímidamente** la zona donde fue baleada esta\\nmujer, mientras que otros respondían tajantemente, “no vamos a dar ninguna\\ninformación”.\\n\\nAlejandro Guevara, oficial de supervisión de la Policía Metropolitana, señaló\\nque “en este momento nos encontramos con las unidades de policía judicial\\nhaciendo todo el proceso investigativo para lograr el esclarecimiento de este\\nhecho”.\\n\\nUniformados que fueron consultados por este medio en el sector, señalaron que\\n**tampoco tenían detalles** de lo ocurrido con esta mujer, quien se\\ndesempeñaba como manicurista.\\n\\n,\\n\\nLa progenitora de la víctima le relató a las autoridades que hizo el traslado\\nhasta el centro asistencial distante, **argumentando que allá era donde\\nsiempre la atendían**. Aseguró que no sabe por qué la asesinaron ni tampoco\\nqué hacía en esta zona, ya que vivía en un barrio de la comuna 13 (San\\nJavier).\\n\\nCon este hecho ya son **cuatro las mujeres asesinadas este año en Medellín** ,\\ndos de ellas este fin de semana, según el reporte del Sistema de Información\\npara la Seguridad y la Convivencia (Sisc). El año pasado, a la fecha, no se\\nhabía presentado el primer asesinato de una mujer en la ciudad.\\n\\n]\\n\\n'"
      ]
     },
     "execution_count": 29,
     "metadata": {},
     "output_type": "execute_result"
    }
   ],
   "source": [
    "# Convertir HTML a Texto    \n",
    "texto_limpio = html2text.html2text(''.join(str(texto)))\n",
    "texto_limpio"
   ]
  },
  {
   "cell_type": "markdown",
   "id": "a33be511-155a-4be9-b140-f697c41e4cd4",
   "metadata": {
    "tags": []
   },
   "source": [
    "## <span style=\"color:#4361EE\">Limpieza básica usando expresiones regulares</span>"
   ]
  },
  {
   "cell_type": "markdown",
   "id": "0284ae11-f400-42fa-8537-2badece8caf7",
   "metadata": {},
   "source": [
    "Para mayor información, recomendamos visitar [Regular Expressions Cheat Sheet](https://cheatography.com/davechild/cheat-sheets/regular-expressions/), para un resumen de las posibilidades de las expresiones regulares. \n",
    "\n",
    "También podemos acceder a un tester para probar todo tipo de patrones en [RegExr: Learn, Build, & Test RegEx](https://regexr.com/)"
   ]
  },
  {
   "cell_type": "code",
   "execution_count": 30,
   "id": "28bc8e23-68bc-4fc5-a458-c991e2648351",
   "metadata": {},
   "outputs": [
    {
     "data": {
      "text/plain": [
       "'Una llamada de una niña de ocho años a su abuela fue la que permitió conocer que Melissa Toro Álvarez, de 28 años , había sido atacada con arma de fuego en un callejón del barrio Enciso, oriente de Medellín. Aún con vida, fue trasladada a la Unidad Intermedia de Belén, pese a la cercanía de otros centros asistenciales, y allí llegó sin vida. El ataque en contra de esta mujer se presentó a las 6:15 de la mañana de este domingo en un callejón de este barrio de la comuna 8 , ubicado en la carrera 29 con la calle 59, detrás de la iglesia Divino Jesús de Praga. La mamá de la víctima y abuela de la menor que alertó de lo sucedido, acudió al lugar y la trasladó por sus propios medios al centro asistencial, ubicado a 8,5 kilómetros de distancia, con un disparo en el mentón. Sobre las causas del ataque todo es un misterio. Algunos vecinos del sector solo se aventuraron a señalar tímidamente la zona donde fue baleada esta mujer, mientras que otros respondían tajantemente, “no vamos a dar ninguna información”. Alejandro Guevara, oficial de supervisión de la Policía Metropolitana, señaló que “en este momento nos encontramos con las unidades de policía judicial haciendo todo el proceso investigativo para lograr el esclarecimiento de este hecho”. Uniformados que fueron consultados por este medio en el sector, señalaron que tampoco tenían detalles de lo ocurrido con esta mujer, quien se desempeñaba como manicurista. La progenitora de la víctima le relató a las autoridades que hizo el traslado hasta el centro asistencial distante, argumentando que allá era donde siempre la atendían . Aseguró que no sabe por qué la asesinaron ni tampoco qué hacía en esta zona, ya que vivía en un barrio de la comuna 13 . Con este hecho ya son cuatro las mujeres asesinadas este año en Medellín , dos de ellas este fin de semana, según el reporte del Sistema de Información para la Seguridad y la Convivencia . El año pasado, a la fecha, no se había presentado el primer asesinato de una mujer en la ciudad.'"
      ]
     },
     "execution_count": 30,
     "metadata": {},
     "output_type": "execute_result"
    }
   ],
   "source": [
    "#Quitar links\n",
    "texto_limpio = re.sub(r'\\([^)]*\\)',' ',texto_limpio)\n",
    "# Quitar paréntesis redondos y cuadrados después de quitar links\n",
    "texto_limpio = re.sub(r'[\\[\\]\\(\\)]','',texto_limpio)\n",
    "# Quitar saltos de línea\n",
    "texto_limpio = re.sub(r'\\n',' ',texto_limpio)\n",
    "# Quitar asteriscos\n",
    "texto_limpio = re.sub(r'\\*',' ',texto_limpio)\n",
    "# Quitar comillas sencillas y reemplazar por dobles\n",
    "texto_limpio = re.sub(r\"[\\\\']\",'\\'',texto_limpio)\n",
    "# Quitar todo lo que no tenga punto al final, después del punto final.\n",
    "texto_limpio = re.sub(r'([^.]*$)','',texto_limpio)\n",
    "# Quitar Espacios extra (dos o más)\n",
    "texto_limpio = re.sub('\\s\\s+', ' ',texto_limpio)\n",
    "# Quitar el patrón . , [texto]\n",
    "texto_limpio = re.sub('\\.\\s,\\s', '. ',texto_limpio)\n",
    "# Algunos países tienen prob\n",
    "texto_limpio = re.sub(u'\\\\\\'xa0','',texto_limpio)\n",
    "# Quitar espacios iniciales y finales\n",
    "texto_limpio = texto_limpio.strip()\n",
    "texto_limpio"
   ]
  },
  {
   "cell_type": "markdown",
   "id": "8baee49d-4b1e-47f5-8288-1caefd438c8e",
   "metadata": {},
   "source": [
    "### <span style=\"color:#4CC9F0\">Uniendo Piezas</span>"
   ]
  },
  {
   "cell_type": "code",
   "execution_count": 31,
   "id": "fa558397-64df-49a9-9185-20cb8029bee5",
   "metadata": {},
   "outputs": [
    {
     "name": "stdout",
     "output_type": "stream",
     "text": [
      "El Tiempo\n",
      "\n",
      "Comienza paso de camiones que estaban represados en Ipiales, Nariño - El Tiempo\n",
      "\n",
      "https://www.eltiempo.com/economia/sectores/narino-comienza-paso-de-camiones-que-estaban-represados-en-ipiales-735841\n",
      "\n",
      "Desde horas de la mañana del domingo 22 de enero, se dio inicio al paso de 50 tractomulas sin carga que se encontraban represadas en Ipiales , Nariño , según dio a conocer la Asociación Colombiana de Camioneros, ACC. La idea es llegar a pasar a Ecuador 800 tractocamiones en los próximos días y este domingo, al medio día , continuar con otros 50 vehículos de carga. El recorrido estará acompañado por la policía ecuatoriana y los camiones volverán a ingresar a Colombia desde otro punto para poder conectarse con el centro del país. \"Van a pasar 50 vehículos de Colombia hacia Ecuador y serán custodiados por la policía ecuatoriana hasta el sector de San Miguel en el país vecino\", dijo una de las autoridades ecuatorianas. Esto fue posible tras un acuerdo con el gremio camionero. \"V amos a hacer la primera avanzada de 100 tractomulas después de haber llegado a un acuerdo con el gremio camionero de Ecuador\" , afirmó uno de los líderes de la ACC. En el proceso hizo presencia el ministro de Transporte, Guillermo Reyes, quien agradeció la gestión desde ambos países. También dijo: \"El Gobierno está con ustedes y viene a darle soluciones. Viene a decirle al Cauca y a Nariño que vamos a superar esta crisis con todos los sectores, todos los ministros y todo el país\". Este domingo 22 de enero se revisarán más medidas para dar atención a la emergencia que se vive en Nariño desde hace dos semanas tras un deslizamiento que dejó cerrada la vía Panamericana y desconectó al departamento con el centro del país.\n"
     ]
    }
   ],
   "source": [
    "# Elegir noticia al azar\n",
    "noticia_elegida = np.random.randint(len(noticias))\n",
    "\n",
    "# url de la noticia elegida\n",
    "url = noticias[noticia_elegida]['url']\n",
    "# Elegir link adecuado, a veces url=None\n",
    "if url==None or re.search('http',url)==None:\n",
    "    # Si no hay info, ir desde Google\n",
    "    url = noticias[noticia_elegida]['link']\n",
    "    \n",
    "# nombre del sitio de la noticia\n",
    "medio = noticias[noticia_elegida]['site_name']\n",
    "# Titular de la noticia\n",
    "titular = noticias[noticia_elegida]['title']\n",
    "\n",
    "# Rompe defensa dummy anti-robot: https://stackoverflow.com/questions/38489386/python-requests-403-forbidden\n",
    "headers = {'User-Agent': 'Mozilla/5.0 (Macintosh; Intel Mac OS X 10_11_5) AppleWebKit/537.36 (KHTML, like Gecko) Chrome/50.0.2661.102 Safari/537.36'}\n",
    "# Obtener info de la página web\n",
    "res = requests.get(url,headers=headers)\n",
    "\n",
    "# Extraer contenido\n",
    "html_page = res.content\n",
    "# Parsing del contenido en forma de árbol\n",
    "soup = BeautifulSoup(html_page, 'html.parser')\n",
    "# En caso de que tengamos que ir más profundo en la fuente\n",
    "#print(soup.prettify())\n",
    "\n",
    "# Info Básica\n",
    "print(medio,titular,url,sep='\\n\\n',end='\\n\\n')\n",
    "\n",
    "# Cuando se tiene error 403\n",
    "if re.search('403',str(res)):\n",
    "    print('\\nNo se puede mirar ésta Noticia... Estado de la petición:', res)\n",
    "    print(f'\\nLe recomendamos chequear el link para ver qué ocurrió.')\n",
    "    texto = []\n",
    "# Sirve para El Tiempo\n",
    "elif re.search(re.compile('Tiempo|ElTiempo'),titular):\n",
    "    texto = soup.find_all('p',{'class': 'contenido'})\n",
    "elif re.search(re.compile('Caracol'),titular):\n",
    "    texto = soup.find_all('p')\n",
    "    # Todas las noticias de CR comienzan con negrita (Hasta ahora)\n",
    "    p = re.compile('^[^\\*]*\\*')\n",
    "    # Quitar Las propagandas del inicio\n",
    "    texto = re.sub(p,'',''.join(str(texto)))\n",
    "else:\n",
    "    print(\"Medio de comunicación no reconocido. Los resultados pueden salirse de lo esperado.\\n\")\n",
    "    texto = []\n",
    "    \n",
    "#print(texto)\n",
    "if texto:\n",
    "    # Convertit HTML a Texto    \n",
    "    texto_limpio = html2text.html2text(''.join(str(texto)))\n",
    "    #Quitar links\n",
    "    texto_limpio = re.sub(r'\\([^)]*\\)',' ',texto_limpio)\n",
    "    # Quitar paréntesis redondos y cuadrados después de quitar links\n",
    "    texto_limpio = re.sub(r'[\\[\\]\\(\\)]','',texto_limpio)\n",
    "    # Quitar saltos de línea\n",
    "    texto_limpio = re.sub(r'\\n',' ',texto_limpio)\n",
    "    # Quitar asteriscos\n",
    "    texto_limpio = re.sub(r'\\*',' ',texto_limpio)\n",
    "    # Quitar comillas sencillas y reemplazar por dobles\n",
    "    texto_limpio = re.sub(r\"[\\\\']\",'\\'',texto_limpio)\n",
    "    # Especial para el Colombiano, se mezclan noticias después de >\n",
    "    #texto_limpio = re.sub(r'(>[^>]*$)','',texto_limpio)\n",
    "    #Quitar todo lo que no tenga punto al final, después del punto final.\n",
    "    texto_limpio = re.sub(r'([^.]*$)','',texto_limpio)\n",
    "    # Quitar Espacios extra (dos o más)\n",
    "    texto_limpio = re.sub('\\s\\s+', ' ',texto_limpio)\n",
    "    # Quitar el patrón . , texto\n",
    "    texto_limpio = re.sub('\\.\\s,\\s', '. ',texto_limpio)\n",
    "    # Quitar espacios iniciales y finales\n",
    "    texto_limpio = texto_limpio.strip()\n",
    "else: texto_limpio=[]\n",
    "\n",
    "if texto_limpio:\n",
    "    print(texto_limpio)\n",
    "elif not re.search('403',str(res)):\n",
    "    print('\\nNo se puede minar ésta Noticia...')\n",
    "    print(f'\\nLe recomendamos chequear el link para ver qué ocurrió.')"
   ]
  },
  {
   "cell_type": "markdown",
   "id": "ca9aad79-75f1-4354-a96a-818b728b3397",
   "metadata": {
    "tags": []
   },
   "source": [
    "## <span style=\"color:#4361EE\">Ir más allá</span>"
   ]
  },
  {
   "cell_type": "code",
   "execution_count": 31,
   "id": "55c25d4d-ab31-4e08-a6bd-97bba2d5cdd4",
   "metadata": {},
   "outputs": [],
   "source": [
    "with open('texto_limpio.txt') as f:\n",
    "    texto_limpio = f.readlines()\n",
    "\n",
    "texto_limpio = texto_limpio[0]"
   ]
  },
  {
   "cell_type": "code",
   "execution_count": 32,
   "id": "a9a8f5cd-ea08-435c-ace7-517a460e0cbf",
   "metadata": {},
   "outputs": [],
   "source": [
    "# Separar texto en frases (Para el transformer)\n",
    "from sentence_utils import split_into_sentences\n",
    "# Utilidad de resumen y traducción\n",
    "from transformers import pipeline"
   ]
  },
  {
   "cell_type": "code",
   "execution_count": 33,
   "id": "1e651288-ad69-489e-9471-738b4c323a21",
   "metadata": {},
   "outputs": [],
   "source": [
    "traductor = pipeline(\"translation\", model=\"Helsinki-NLP/opus-mt-es-en\")"
   ]
  },
  {
   "cell_type": "code",
   "execution_count": 34,
   "id": "df3e0388-bb78-44fd-bf25-b77bdaccb161",
   "metadata": {},
   "outputs": [
    {
     "name": "stdout",
     "output_type": "stream",
     "text": [
      "10 Frases encontradas.\n"
     ]
    }
   ],
   "source": [
    "frases = split_into_sentences(texto_limpio)\n",
    "print(f\"{len(frases)} Frases encontradas.\")"
   ]
  },
  {
   "cell_type": "code",
   "execution_count": 35,
   "id": "de537235-e733-4dbc-8395-601111f77c27",
   "metadata": {},
   "outputs": [],
   "source": [
    "traducciones_frases = traductor(frases)"
   ]
  },
  {
   "cell_type": "code",
   "execution_count": 36,
   "id": "0b79f3e7-136e-41bf-976b-39863ad14cbe",
   "metadata": {},
   "outputs": [
    {
     "data": {
      "text/plain": [
       "'From hours of the morning of Sunday, January 22, the passage of 50 unladen tractors that were being dammed in Ipiales , Nariño , was started, according to the Colombian Association of Truckers, ACC. The idea is to get to move to Ecuador 800 tractor trucks in the next days and this Sunday, at noon, continue with another 50 cargo vehicles. The tour will be accompanied by the Ecuadorian police and the trucks will return to Colombia from another point to connect with the center of the country. \"Fifty vehicles from Colombia will pass through Ecuador and will be guarded by the Ecuadorian police to the San Miguel sector in the neighboring country,\" said one of the Ecuadorian authorities. This was possible after an agreement with the trucker guild. \"We are going to make the first advance of 100 tractors after having reached an agreement with the trucker union of Ecuador,\" said one of the ACC leaders. In the process the minister of Transport, Guillermo Reyes, was present, who thanked the management from both countries. He also said: \"The government is with you and comes to give you solutions. He comes to tell Cauca and Nariño that we are going to overcome this crisis with all sectors, all ministers and the whole country.\" This Sunday, January 22, more measures will be reviewed to give attention to the emergency that has been living in Nariño for two weeks after a slide that closed the Pan American road and disconnected the department with the center of the country.'"
      ]
     },
     "execution_count": 36,
     "metadata": {},
     "output_type": "execute_result"
    }
   ],
   "source": [
    "traduccion = [traduccion['translation_text'] for traduccion in traducciones_frases]\n",
    "traduccion = ' '.join(traduccion)\n",
    "traduccion"
   ]
  },
  {
   "cell_type": "code",
   "execution_count": 37,
   "id": "996ec9c7-1e97-4938-981d-a163867c2b90",
   "metadata": {},
   "outputs": [
    {
     "name": "stderr",
     "output_type": "stream",
     "text": [
      "No model was supplied, defaulted to sshleifer/distilbart-cnn-12-6 and revision a4f8f3e (https://huggingface.co/sshleifer/distilbart-cnn-12-6).\n",
      "Using a pipeline without specifying a model name and revision in production is not recommended.\n"
     ]
    }
   ],
   "source": [
    "sumarizer = pipeline('summarization',min_length=100)"
   ]
  },
  {
   "cell_type": "code",
   "execution_count": 38,
   "id": "9789af9c-52e6-4ae6-bfb2-ecded97d72bd",
   "metadata": {},
   "outputs": [],
   "source": [
    "resumen = sumarizer(traduccion)"
   ]
  },
  {
   "cell_type": "code",
   "execution_count": 39,
   "id": "afbda0a7-5db1-4af3-a6ec-32bc5a790b22",
   "metadata": {},
   "outputs": [
    {
     "data": {
      "text/plain": [
       "' 50 unladen tractors that were being dammed in Ipiales, Nariño started . The trucks will return to Colombia from another point to connect with the center of the country . The idea is to get to move to Ecuador 800 tractor trucks in the next days and this Sunday, at noon, continue with another 50 cargo vehicles . The minister of Transport, Guillermo Reyes, was present, who thanked the management from both countries. He also said: \"The government is with you and comes to give you solutions\"'"
      ]
     },
     "execution_count": 39,
     "metadata": {},
     "output_type": "execute_result"
    }
   ],
   "source": [
    "resumen_en = resumen[0]['summary_text']\n",
    "resumen_en"
   ]
  },
  {
   "cell_type": "code",
   "execution_count": 40,
   "id": "dcda0768-eceb-4cd7-bfd2-9e0176280cc2",
   "metadata": {},
   "outputs": [],
   "source": [
    "traductor_en_es = pipeline(\"translation\", model=\"Helsinki-NLP/opus-mt-en-es\")"
   ]
  },
  {
   "cell_type": "code",
   "execution_count": 41,
   "id": "92870235-e41b-4d45-b19c-87c995763f88",
   "metadata": {},
   "outputs": [],
   "source": [
    "resumen_es = traductor_en_es(resumen_en)"
   ]
  },
  {
   "cell_type": "code",
   "execution_count": 42,
   "id": "0a40f511-01d1-46cf-b610-2d334a608529",
   "metadata": {},
   "outputs": [
    {
     "data": {
      "text/plain": [
       "'50 tractores sin carga que estaban siendo represados en Ipiales, Nariño comenzó . Los camiones regresarán a Colombia desde otro punto para conectar con el centro del país . La idea es llegar a Ecuador 800 camiones tractores en los próximos días y este domingo, a mediodía, continuar con otros 50 vehículos de carga . El ministro de Transporte, Guillermo Reyes, estuvo presente, quien agradeció a la dirección de ambos países. También dijo: \"El gobierno está con ustedes y viene a darles soluciones\"'"
      ]
     },
     "execution_count": 42,
     "metadata": {},
     "output_type": "execute_result"
    }
   ],
   "source": [
    "resumen_final = resumen_es[0]['translation_text']\n",
    "resumen_final"
   ]
  },
  {
   "cell_type": "markdown",
   "id": "fb5e33c2-f210-43d3-864e-f92a2e189be1",
   "metadata": {},
   "source": [
    "### <span style=\"color:#4CC9F0\">Ejercicio</span>"
   ]
  },
  {
   "cell_type": "markdown",
   "id": "bfe3c04d-ce30-4a0d-9da2-d2e1be6d45f2",
   "metadata": {},
   "source": [
    "Encontrar la mayoría de patrones para todas las noticias que puede extraer Google News."
   ]
  },
  {
   "cell_type": "markdown",
   "id": "9f24a989-832a-447e-a3ec-2e3a4b705f8e",
   "metadata": {},
   "source": [
    "#### **Pista:**"
   ]
  },
  {
   "cell_type": "markdown",
   "id": "d0a062a4-c63d-4276-a975-9ce7eb497d98",
   "metadata": {},
   "source": [
    "```python\n",
    "# Sirve para Revista Semana (IOY)\n",
    "elif re.search(re.compile('Semana'),titular):\n",
    "    texto = soup.find_all('script',{'id':'fusion-metadata'})\n",
    "    # Encontrar dentro del script la parte de , \"content\":\"...\n",
    "    p=re.compile('([^,\\\"*]*\\w+\\s[^\\\"]*\\.)')\n",
    "    # Encontrar texto escondido\n",
    "    texto= p.findall(''.join(str(texto)))\n",
    "    # Chambonada chévere, quitar partes finales (No creo que siempre funcione)\n",
    "    texto = [re.sub(re.compile(r'\\b(Últimas)\\b.*|\\b(últimas)\\b.*|\\b(Noticias)\\b.*|\\b(Nación)\\b.*|\\b(Revista Semana)\\b.*'),'',token) for token in texto]\n",
    "    texto = ''.join(texto)\n",
    "```"
   ]
  },
  {
   "cell_type": "markdown",
   "id": "feed6481-845c-4957-a20f-7e58705a9f8d",
   "metadata": {
    "slideshow": {
     "slide_type": "subslide"
    },
    "tags": []
   },
   "source": [
    "## <span style=\"color:#4361EE\">Referencias</span>"
   ]
  },
  {
   "cell_type": "markdown",
   "id": "3cb7953f-0f0b-409f-b29e-1258be3b252e",
   "metadata": {},
   "source": [
    "1. [Alvaro Montenegro y Daniel Montenegro, Inteligencia Artificial y Aprendizaje Profundo, 2021](https://github.com/AprendizajeProfundo/Diplomado)\n",
    "1. [Unesco: educación e inteligencia artificial](https://es.unesco.org/themes/tic-educacion/inteligencia-artificial)"
   ]
  }
 ],
 "metadata": {
  "kernelspec": {
   "display_name": "Python 3 (ipykernel)",
   "language": "python",
   "name": "python3"
  },
  "language_info": {
   "codemirror_mode": {
    "name": "ipython",
    "version": 3
   },
   "file_extension": ".py",
   "mimetype": "text/x-python",
   "name": "python",
   "nbconvert_exporter": "python",
   "pygments_lexer": "ipython3",
   "version": "3.10.4"
  }
 },
 "nbformat": 4,
 "nbformat_minor": 5
}
