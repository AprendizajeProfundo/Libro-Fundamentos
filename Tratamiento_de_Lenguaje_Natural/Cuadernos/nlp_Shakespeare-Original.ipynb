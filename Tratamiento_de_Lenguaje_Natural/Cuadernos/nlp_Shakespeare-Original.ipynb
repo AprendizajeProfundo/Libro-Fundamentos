{
 "cells": [
  {
   "cell_type": "markdown",
   "metadata": {},
   "source": [
    "# <span style=\"color:#F72585\"><center>Construcción automática de texto </center></span>"
   ]
  },
  {
   "cell_type": "markdown",
   "metadata": {},
   "source": [
    "<center>Introducción</center>"
   ]
  },
  {
   "cell_type": "markdown",
   "metadata": {},
   "source": [
    "<figure>\n",
    "<center>\n",
    "<img src=\"../Imagenes/text_generation_sampling.png\" width=\"600\" height=\"600\" align=\"center\"/>\n",
    "</center>\n",
    "<figcaption>\n",
    "<p style=\"text-align:center\">Muestreo  de palabras</p>\n",
    "</figcaption>\n",
    "</figure>\n",
    "\n",
    "Fuente: [TensorFlow](https://www.tensorflow.org/tutorials/text/text_generation)"
   ]
  },
  {
   "cell_type": "markdown",
   "metadata": {},
   "source": [
    "##   <span style=\"color:#4361EE\">Introducción</span>"
   ]
  },
  {
   "cell_type": "markdown",
   "metadata": {},
   "source": [
    "Gran conjunto de datos basado en sonetos de Shakespeare.\n"
   ]
  },
  {
   "cell_type": "markdown",
   "metadata": {},
   "source": [
    "##   <span style=\"color:blue\">Librerías</span>\n"
   ]
  },
  {
   "cell_type": "code",
   "execution_count": 1,
   "metadata": {
    "id": "P-AhVYeBWgQ3"
   },
   "outputs": [
    {
     "name": "stderr",
     "output_type": "stream",
     "text": [
      "2022-07-27 23:14:06.193460: W tensorflow/stream_executor/platform/default/dso_loader.cc:64] Could not load dynamic library 'libcudart.so.11.0'; dlerror: libcudart.so.11.0: cannot open shared object file: No such file or directory\n",
      "2022-07-27 23:14:06.193913: I tensorflow/stream_executor/cuda/cudart_stub.cc:29] Ignore above cudart dlerror if you do not have a GPU set up on your machine.\n"
     ]
    },
    {
     "name": "stdout",
     "output_type": "stream",
     "text": [
      "2.8.0\n"
     ]
    }
   ],
   "source": [
    "import tensorflow as tf\n",
    "print(tf.__version__)\n",
    "\n",
    "# !pip install -q tensorflow-datasets"
   ]
  },
  {
   "cell_type": "code",
   "execution_count": 2,
   "metadata": {
    "id": "BOwsuGQQY9OL"
   },
   "outputs": [],
   "source": [
    "from tensorflow.keras.preprocessing.sequence import pad_sequences\n",
    "from tensorflow.keras.layers import Embedding, LSTM, Dense, Dropout, Bidirectional\n",
    "from tensorflow.keras.preprocessing.text import Tokenizer\n",
    "from tensorflow.keras.models import Sequential\n",
    "from tensorflow.keras.optimizers import Adam\n",
    "from tensorflow.keras import regularizers\n",
    "from tensorflow.keras.utils import to_categorical\n",
    "import numpy as np \n",
    "\n",
    "from tensorflow.keras.utils import plot_model"
   ]
  },
  {
   "cell_type": "markdown",
   "metadata": {},
   "source": [
    "## <span style=\"color:#4361EE\">Lee los datos</span>"
   ]
  },
  {
   "cell_type": "code",
   "execution_count": 3,
   "metadata": {},
   "outputs": [
    {
     "name": "stdout",
     "output_type": "stream",
     "text": [
      "--2022-07-27 23:14:15--  https://storage.googleapis.com/laurencemoroney-blog.appspot.com/sonnets.txt\n",
      "Resolviendo storage.googleapis.com (storage.googleapis.com)... 142.250.78.112, 142.250.78.144, 142.250.78.176, ...\n",
      "Conectando con storage.googleapis.com (storage.googleapis.com)[142.250.78.112]:443... conectado.\n",
      "Petición HTTP enviada, esperando respuesta... 200 OK\n",
      "Longitud: 93578 (91K) [text/plain]\n",
      "Guardando como: “/tmp/sonnets.txt”\n",
      "\n",
      "/tmp/sonnets.txt    100%[===================>]  91,38K  --.-KB/s    en 0,06s   \n",
      "\n",
      "2022-07-27 23:14:15 (1,49 MB/s) - “/tmp/sonnets.txt” guardado [93578/93578]\n",
      "\n"
     ]
    }
   ],
   "source": [
    "!wget --no-check-certificate \\\n",
    "    https://storage.googleapis.com/laurencemoroney-blog.appspot.com/sonnets.txt \\\n",
    "    -O /tmp/sonnets.txt\n",
    "data = open('/tmp/sonnets.txt').read()\n",
    "\n",
    "corpus = data.lower().split(\"\\n\")"
   ]
  },
  {
   "cell_type": "markdown",
   "metadata": {},
   "source": [
    "## <span style=\"color:#4361EE\">Tokeniza el texto</span>\n"
   ]
  },
  {
   "cell_type": "code",
   "execution_count": 4,
   "metadata": {
    "id": "PRnDnCW-Z7qv"
   },
   "outputs": [
    {
     "name": "stdout",
     "output_type": "stream",
     "text": [
      "índice de \"rage\" =  443\n",
      "\n",
      "Número total de palabras en el Tokenizador (+OOV) = 3211 \n",
      "\n",
      "Primeras líneas del corpus: \n",
      "\n"
     ]
    },
    {
     "data": {
      "text/plain": [
       "['from fairest creatures we desire increase,',\n",
       " \"that thereby beauty's rose might never die,\",\n",
       " 'but as the riper should by time decease,',\n",
       " 'his tender heir might bear his memory:',\n",
       " 'but thou, contracted to thine own bright eyes,',\n",
       " \"feed'st thy light'st flame with self-substantial fuel,\",\n",
       " 'making a famine where abundance lies,',\n",
       " 'thyself thy foe, to thy sweet self too cruel.',\n",
       " \"thou that art now the world's fresh ornament\",\n",
       " 'and only herald to the gaudy spring,']"
      ]
     },
     "execution_count": 4,
     "metadata": {},
     "output_type": "execute_result"
    }
   ],
   "source": [
    "tokenizer = Tokenizer()\n",
    "\n",
    "corpus = data.lower().split(\"\\n\")\n",
    "tokenizer.fit_on_texts(corpus)\n",
    "total_words = len(tokenizer.word_index) + 1\n",
    "\n",
    "#print('Dictionary: ',tokenizer.word_index,'\\n')\n",
    "print('índice de \"rage\" = ',tokenizer.word_index['rage'])\n",
    "print('\\nNúmero total de palabras en el Tokenizador (+OOV) =',total_words,'\\n')\n",
    "\n",
    "# Muestra parte del corpus\n",
    "print('Primeras líneas del corpus: \\n')\n",
    "corpus[0:10]"
   ]
  },
  {
   "cell_type": "markdown",
   "metadata": {},
   "source": [
    "## <span style=\"color:#4361EE\">Crea n-Grams para datos de entrenamiento y etiquetas</span>"
   ]
  },
  {
   "cell_type": "code",
   "execution_count": 5,
   "metadata": {
    "id": "PRnDnCW-Z7qv"
   },
   "outputs": [
    {
     "name": "stdout",
     "output_type": "stream",
     "text": [
      "input_sequences[0:10] =  [[34, 417], [34, 417, 877], [34, 417, 877, 166], [34, 417, 877, 166, 213], [34, 417, 877, 166, 213, 517], [8, 878], [8, 878, 134], [8, 878, 134, 351], [8, 878, 134, 351, 102], [8, 878, 134, 351, 102, 156]] \n",
      "\n",
      "\n",
      "longitud del  n-grama más largo: 11\n"
     ]
    }
   ],
   "source": [
    "# crear secuencias de entrada usando una lista de tokens\n",
    "input_sequences = []\n",
    "for line in corpus:\n",
    "    token_list = tokenizer.texts_to_sequences([line])[0]\n",
    "    for i in range(1, len(token_list)):\n",
    "        n_gram_sequence = token_list[:i+1]\n",
    "        input_sequences.append(n_gram_sequence)\n",
    "        \n",
    "print('input_sequences[0:10] = ',input_sequences[:10],'\\n')\n",
    "\n",
    "# Determine el n-gram más largo\n",
    "max_seq_test_len = max([len(x) for x in input_sequences])\n",
    "print('\\nlongitud del  n-grama más largo:',max_seq_test_len)\n"
   ]
  },
  {
   "cell_type": "markdown",
   "metadata": {},
   "source": [
    "### <span style=\"color:#4CC9F0\">¿Qué hizo tokenizer?</span>"
   ]
  },
  {
   "cell_type": "code",
   "execution_count": 6,
   "metadata": {},
   "outputs": [
    {
     "name": "stdout",
     "output_type": "stream",
     "text": [
      "from fairest creatures we desire increase,\n",
      "[[34, 417, 877, 166, 213, 517]]\n",
      "[34, 417, 877, 166, 213, 517]\n"
     ]
    }
   ],
   "source": [
    "line = corpus[0]\n",
    "token_list = tokenizer.texts_to_sequences([line])\n",
    "print(line)\n",
    "print(token_list)\n",
    "print(token_list[0])"
   ]
  },
  {
   "cell_type": "markdown",
   "metadata": {},
   "source": [
    "### <span style=\"color:#4CC9F0\">Agrega PAD para tener secuencias de la misma longitud</span>"
   ]
  },
  {
   "cell_type": "code",
   "execution_count": 7,
   "metadata": {
    "id": "PRnDnCW-Z7qv"
   },
   "outputs": [],
   "source": [
    "# secuencias de pad\n",
    "max_sequence_len = max([len(x) for x in input_sequences])\n",
    "input_sequences = np.array(pad_sequences(input_sequences, maxlen=max_sequence_len, padding='pre'))\n",
    "\n",
    "# crea predictores y etiqueta\n",
    "predictors, label = input_sequences[:,:-1],input_sequences[:,-1]"
   ]
  },
  {
   "cell_type": "code",
   "execution_count": 8,
   "metadata": {},
   "outputs": [
    {
     "name": "stdout",
     "output_type": "stream",
     "text": [
      "(15462, 11)\n",
      "(15462, 10)\n",
      "(15462,)\n"
     ]
    }
   ],
   "source": [
    "print(input_sequences.shape)\n",
    "print(predictors.shape)\n",
    "print(label.shape)"
   ]
  },
  {
   "cell_type": "code",
   "execution_count": 9,
   "metadata": {},
   "outputs": [
    {
     "name": "stdout",
     "output_type": "stream",
     "text": [
      "15462\n",
      "15462\n"
     ]
    }
   ],
   "source": [
    "print(len(predictors))\n",
    "print(len(label))"
   ]
  },
  {
   "cell_type": "code",
   "execution_count": 10,
   "metadata": {},
   "outputs": [
    {
     "name": "stdout",
     "output_type": "stream",
     "text": [
      "[[  0   0   0   0   0   0   0   0   0  34 417]\n",
      " [  0   0   0   0   0   0   0   0  34 417 877]\n",
      " [  0   0   0   0   0   0   0  34 417 877 166]]\n",
      "\n",
      "\n",
      "[[  0   0   0   0   0   0   0   0   0  34]\n",
      " [  0   0   0   0   0   0   0   0  34 417]\n",
      " [  0   0   0   0   0   0   0  34 417 877]]\n",
      "\n",
      "\n",
      "[417 877 166]\n"
     ]
    }
   ],
   "source": [
    "print(input_sequences[0:3]) # secuencia completa\n",
    "print('\\n')\n",
    "print(predictors[0:3]) # secuencia hasta el anterior al último\n",
    "print('\\n')\n",
    "print(label[0:3]) # el último de la secuencia"
   ]
  },
  {
   "cell_type": "markdown",
   "metadata": {},
   "source": [
    "### <span style=\"color:#4CC9F0\">Convierte etiquetas a one-hot</span>"
   ]
  },
  {
   "cell_type": "code",
   "execution_count": 11,
   "metadata": {},
   "outputs": [
    {
     "name": "stdout",
     "output_type": "stream",
     "text": [
      "(15462, 3211)\n"
     ]
    }
   ],
   "source": [
    "label = to_categorical(label, num_classes=total_words)\n",
    "print(label.shape)"
   ]
  },
  {
   "cell_type": "markdown",
   "metadata": {},
   "source": [
    "## <span style=\"color:#4361EE\">Crea el modelo</span>"
   ]
  },
  {
   "cell_type": "code",
   "execution_count": 12,
   "metadata": {
    "id": "w9vH8Y59ajYL"
   },
   "outputs": [
    {
     "name": "stderr",
     "output_type": "stream",
     "text": [
      "2022-07-27 23:14:26.481017: W tensorflow/stream_executor/platform/default/dso_loader.cc:64] Could not load dynamic library 'libcuda.so.1'; dlerror: libcuda.so.1: cannot open shared object file: No such file or directory\n",
      "2022-07-27 23:14:26.481074: W tensorflow/stream_executor/cuda/cuda_driver.cc:269] failed call to cuInit: UNKNOWN ERROR (303)\n",
      "2022-07-27 23:14:26.481107: I tensorflow/stream_executor/cuda/cuda_diagnostics.cc:156] kernel driver does not appear to be running on this host (kamilo44): /proc/driver/nvidia/version does not exist\n",
      "2022-07-27 23:14:26.481780: I tensorflow/core/platform/cpu_feature_guard.cc:151] This TensorFlow binary is optimized with oneAPI Deep Neural Network Library (oneDNN) to use the following CPU instructions in performance-critical operations:  AVX2 FMA\n",
      "To enable them in other operations, rebuild TensorFlow with the appropriate compiler flags.\n"
     ]
    }
   ],
   "source": [
    "model = Sequential()\n",
    "model.add(Embedding(total_words, 100, input_length=max_sequence_len-1))\n",
    "model.add(Bidirectional(LSTM(150, return_sequences = True)))\n",
    "model.add(Dropout(0.2))\n",
    "model.add(LSTM(100))\n",
    "model.add(Dense(total_words/2, activation='relu', kernel_regularizer=regularizers.l2(0.01)))\n",
    "model.add(Dense(total_words, activation='softmax'))\n",
    "model.compile(loss='categorical_crossentropy', optimizer='adam', metrics=['accuracy'])"
   ]
  },
  {
   "cell_type": "code",
   "execution_count": 13,
   "metadata": {
    "id": "w9vH8Y59ajYL"
   },
   "outputs": [
    {
     "name": "stdout",
     "output_type": "stream",
     "text": [
      "Model: \"sequential\"\n",
      "_________________________________________________________________\n",
      " Layer (type)                Output Shape              Param #   \n",
      "=================================================================\n",
      " embedding (Embedding)       (None, 10, 100)           321100    \n",
      "                                                                 \n",
      " bidirectional (Bidirectiona  (None, 10, 300)          301200    \n",
      " l)                                                              \n",
      "                                                                 \n",
      " dropout (Dropout)           (None, 10, 300)           0         \n",
      "                                                                 \n",
      " lstm_1 (LSTM)               (None, 100)               160400    \n",
      "                                                                 \n",
      " dense (Dense)               (None, 1605)              162105    \n",
      "                                                                 \n",
      " dense_1 (Dense)             (None, 3211)              5156866   \n",
      "                                                                 \n",
      "=================================================================\n",
      "Total params: 6,101,671\n",
      "Trainable params: 6,101,671\n",
      "Non-trainable params: 0\n",
      "_________________________________________________________________\n",
      "None\n"
     ]
    },
    {
     "data": {
      "image/png": "[encoded data removed]",
      "text/plain": [
       "<IPython.core.display.Image object>"
      ]
     },
     "execution_count": 13,
     "metadata": {},
     "output_type": "execute_result"
    }
   ],
   "source": [
    "print(model.summary())\n",
    "plot_model(model, to_file='../Imagenes/sonetos.png', \n",
    "           show_shapes=True)"
   ]
  },
  {
   "cell_type": "markdown",
   "metadata": {},
   "source": [
    "## <span style=\"color:#4361EE\">Entrena</span>"
   ]
  },
  {
   "cell_type": "code",
   "execution_count": 14,
   "metadata": {
    "id": "AIg2f1HBxqof"
   },
   "outputs": [
    {
     "name": "stdout",
     "output_type": "stream",
     "text": [
      "Epoch 1/100\n",
      "484/484 [==============================] - 93s 164ms/step - loss: 6.9090 - accuracy: 0.0203\n",
      "Epoch 2/100\n",
      "484/484 [==============================] - 74s 153ms/step - loss: 6.4993 - accuracy: 0.0204\n",
      "Epoch 3/100\n",
      "484/484 [==============================] - 73s 151ms/step - loss: 6.4086 - accuracy: 0.0237\n",
      "Epoch 4/100\n",
      "484/484 [==============================] - 73s 150ms/step - loss: 6.2919 - accuracy: 0.0296\n",
      "Epoch 5/100\n",
      "484/484 [==============================] - 75s 154ms/step - loss: 6.1910 - accuracy: 0.0357\n",
      "Epoch 6/100\n",
      "484/484 [==============================] - 74s 154ms/step - loss: 6.1015 - accuracy: 0.0384\n",
      "Epoch 7/100\n",
      "484/484 [==============================] - 74s 153ms/step - loss: 6.0185 - accuracy: 0.0426\n",
      "Epoch 8/100\n",
      "484/484 [==============================] - 74s 152ms/step - loss: 5.9363 - accuracy: 0.0458\n",
      "Epoch 9/100\n",
      "484/484 [==============================] - 74s 152ms/step - loss: 5.8381 - accuracy: 0.0514\n",
      "Epoch 10/100\n",
      "484/484 [==============================] - 73s 152ms/step - loss: 5.7346 - accuracy: 0.0572\n",
      "Epoch 11/100\n",
      "484/484 [==============================] - 74s 152ms/step - loss: 5.6262 - accuracy: 0.0648\n",
      "Epoch 12/100\n",
      "484/484 [==============================] - 73s 151ms/step - loss: 5.5159 - accuracy: 0.0706\n",
      "Epoch 13/100\n",
      "484/484 [==============================] - 75s 156ms/step - loss: 5.4130 - accuracy: 0.0744\n",
      "Epoch 14/100\n",
      "484/484 [==============================] - 74s 154ms/step - loss: 5.3035 - accuracy: 0.0800\n",
      "Epoch 15/100\n",
      "484/484 [==============================] - 73s 151ms/step - loss: 5.2043 - accuracy: 0.0852\n",
      "Epoch 16/100\n",
      "484/484 [==============================] - 73s 150ms/step - loss: 5.1003 - accuracy: 0.0933\n",
      "Epoch 17/100\n",
      "484/484 [==============================] - 73s 150ms/step - loss: 5.0035 - accuracy: 0.1013\n",
      "Epoch 18/100\n",
      "484/484 [==============================] - 73s 150ms/step - loss: 4.9017 - accuracy: 0.1091\n",
      "Epoch 19/100\n",
      "484/484 [==============================] - 73s 151ms/step - loss: 4.8083 - accuracy: 0.1182\n",
      "Epoch 20/100\n",
      "484/484 [==============================] - 73s 150ms/step - loss: 4.7150 - accuracy: 0.1247\n",
      "Epoch 21/100\n",
      "484/484 [==============================] - 74s 152ms/step - loss: 4.6179 - accuracy: 0.1333\n",
      "Epoch 22/100\n",
      "484/484 [==============================] - 74s 152ms/step - loss: 4.5208 - accuracy: 0.1436\n",
      "Epoch 23/100\n",
      "484/484 [==============================] - 73s 150ms/step - loss: 4.4272 - accuracy: 0.1552\n",
      "Epoch 24/100\n",
      "484/484 [==============================] - 73s 152ms/step - loss: 4.3343 - accuracy: 0.1676\n",
      "Epoch 25/100\n",
      "484/484 [==============================] - 73s 152ms/step - loss: 4.2327 - accuracy: 0.1797\n",
      "Epoch 26/100\n",
      "484/484 [==============================] - 73s 150ms/step - loss: 4.1438 - accuracy: 0.1899\n",
      "Epoch 27/100\n",
      "484/484 [==============================] - 73s 151ms/step - loss: 4.0415 - accuracy: 0.2053\n",
      "Epoch 28/100\n",
      "484/484 [==============================] - 73s 150ms/step - loss: 3.9433 - accuracy: 0.2185\n",
      "Epoch 29/100\n",
      "484/484 [==============================] - 74s 153ms/step - loss: 3.8527 - accuracy: 0.2340\n",
      "Epoch 30/100\n",
      "484/484 [==============================] - 73s 150ms/step - loss: 3.7545 - accuracy: 0.2508\n",
      "Epoch 31/100\n",
      "484/484 [==============================] - 72s 149ms/step - loss: 3.6766 - accuracy: 0.2698\n",
      "Epoch 32/100\n",
      "484/484 [==============================] - 73s 151ms/step - loss: 3.5835 - accuracy: 0.2832\n",
      "Epoch 33/100\n",
      "484/484 [==============================] - 73s 150ms/step - loss: 3.5011 - accuracy: 0.2992\n",
      "Epoch 34/100\n",
      "484/484 [==============================] - 73s 150ms/step - loss: 3.4074 - accuracy: 0.3184\n",
      "Epoch 35/100\n",
      "484/484 [==============================] - 73s 152ms/step - loss: 3.3253 - accuracy: 0.3395\n",
      "Epoch 36/100\n",
      "484/484 [==============================] - 73s 150ms/step - loss: 3.2394 - accuracy: 0.3562\n",
      "Epoch 37/100\n",
      "484/484 [==============================] - 74s 153ms/step - loss: 3.1799 - accuracy: 0.3707\n",
      "Epoch 38/100\n",
      "484/484 [==============================] - 73s 152ms/step - loss: 3.0965 - accuracy: 0.3895\n",
      "Epoch 39/100\n",
      "484/484 [==============================] - 74s 153ms/step - loss: 3.0147 - accuracy: 0.4091\n",
      "Epoch 40/100\n",
      "484/484 [==============================] - 73s 151ms/step - loss: 2.9495 - accuracy: 0.4244\n",
      "Epoch 41/100\n",
      "484/484 [==============================] - 72s 149ms/step - loss: 2.8866 - accuracy: 0.4351\n",
      "Epoch 42/100\n",
      "484/484 [==============================] - 73s 150ms/step - loss: 2.8189 - accuracy: 0.4508\n",
      "Epoch 43/100\n",
      "484/484 [==============================] - 73s 150ms/step - loss: 2.7568 - accuracy: 0.4676\n",
      "Epoch 44/100\n",
      "484/484 [==============================] - 73s 150ms/step - loss: 2.6843 - accuracy: 0.4840\n",
      "Epoch 45/100\n",
      "484/484 [==============================] - 73s 150ms/step - loss: 2.6273 - accuracy: 0.4966\n",
      "Epoch 46/100\n",
      "484/484 [==============================] - 74s 152ms/step - loss: 2.5666 - accuracy: 0.5125\n",
      "Epoch 47/100\n",
      "484/484 [==============================] - 73s 151ms/step - loss: 2.5097 - accuracy: 0.5230\n",
      "Epoch 48/100\n",
      "484/484 [==============================] - 73s 150ms/step - loss: 2.4611 - accuracy: 0.5326\n",
      "Epoch 49/100\n",
      "484/484 [==============================] - 72s 149ms/step - loss: 2.4031 - accuracy: 0.5462\n",
      "Epoch 50/100\n",
      "484/484 [==============================] - 73s 150ms/step - loss: 2.3562 - accuracy: 0.5557\n",
      "Epoch 51/100\n",
      "484/484 [==============================] - 73s 150ms/step - loss: 2.3225 - accuracy: 0.5643\n",
      "Epoch 52/100\n",
      "484/484 [==============================] - 73s 151ms/step - loss: 2.2496 - accuracy: 0.5797\n",
      "Epoch 53/100\n",
      "484/484 [==============================] - 72s 150ms/step - loss: 2.2150 - accuracy: 0.5904\n",
      "Epoch 54/100\n",
      "484/484 [==============================] - 74s 153ms/step - loss: 2.1621 - accuracy: 0.5975\n",
      "Epoch 55/100\n",
      "484/484 [==============================] - 73s 152ms/step - loss: 2.1304 - accuracy: 0.6086\n",
      "Epoch 56/100\n",
      "484/484 [==============================] - 73s 150ms/step - loss: 2.0889 - accuracy: 0.6170\n",
      "Epoch 57/100\n",
      "484/484 [==============================] - 73s 150ms/step - loss: 2.0540 - accuracy: 0.6234\n",
      "Epoch 58/100\n",
      "484/484 [==============================] - 73s 150ms/step - loss: 2.0122 - accuracy: 0.6337\n",
      "Epoch 59/100\n",
      "484/484 [==============================] - 73s 150ms/step - loss: 1.9722 - accuracy: 0.6442\n",
      "Epoch 60/100\n",
      "484/484 [==============================] - 73s 150ms/step - loss: 1.9360 - accuracy: 0.6510\n",
      "Epoch 61/100\n",
      "484/484 [==============================] - 73s 150ms/step - loss: 1.8921 - accuracy: 0.6622\n",
      "Epoch 62/100\n",
      "484/484 [==============================] - 75s 155ms/step - loss: 1.8715 - accuracy: 0.6691\n",
      "Epoch 63/100\n",
      "484/484 [==============================] - 74s 154ms/step - loss: 1.8289 - accuracy: 0.6742\n",
      "Epoch 64/100\n",
      "484/484 [==============================] - 73s 150ms/step - loss: 1.8030 - accuracy: 0.6819\n",
      "Epoch 65/100\n",
      "484/484 [==============================] - 73s 152ms/step - loss: 1.7745 - accuracy: 0.6852\n",
      "Epoch 66/100\n",
      "484/484 [==============================] - 73s 151ms/step - loss: 1.7453 - accuracy: 0.6898\n",
      "Epoch 67/100\n",
      "484/484 [==============================] - 74s 152ms/step - loss: 1.7207 - accuracy: 0.6969\n",
      "Epoch 68/100\n",
      "484/484 [==============================] - 73s 152ms/step - loss: 1.6970 - accuracy: 0.6993\n",
      "Epoch 69/100\n",
      "484/484 [==============================] - 74s 152ms/step - loss: 1.6624 - accuracy: 0.7102\n",
      "Epoch 70/100\n",
      "484/484 [==============================] - 75s 155ms/step - loss: 1.6317 - accuracy: 0.7161\n",
      "Epoch 71/100\n",
      "484/484 [==============================] - 74s 152ms/step - loss: 1.6135 - accuracy: 0.7200\n",
      "Epoch 72/100\n",
      "484/484 [==============================] - 74s 153ms/step - loss: 1.5932 - accuracy: 0.7258\n",
      "Epoch 73/100\n",
      "484/484 [==============================] - 74s 154ms/step - loss: 1.5725 - accuracy: 0.7279\n",
      "Epoch 74/100\n",
      "484/484 [==============================] - 74s 153ms/step - loss: 1.5450 - accuracy: 0.7319\n",
      "Epoch 75/100\n",
      "484/484 [==============================] - 49s 102ms/step - loss: 1.5172 - accuracy: 0.7385\n",
      "Epoch 76/100\n",
      "484/484 [==============================] - 48s 100ms/step - loss: 1.4994 - accuracy: 0.7423\n",
      "Epoch 77/100\n",
      "484/484 [==============================] - 53s 110ms/step - loss: 1.4782 - accuracy: 0.7451\n",
      "Epoch 78/100\n",
      "484/484 [==============================] - 53s 110ms/step - loss: 1.4613 - accuracy: 0.7514\n",
      "Epoch 79/100\n",
      "484/484 [==============================] - 47s 97ms/step - loss: 1.4459 - accuracy: 0.7516\n",
      "Epoch 80/100\n",
      "484/484 [==============================] - 42s 86ms/step - loss: 1.4397 - accuracy: 0.7511\n",
      "Epoch 81/100\n",
      "484/484 [==============================] - 40s 83ms/step - loss: 1.4060 - accuracy: 0.7610\n",
      "Epoch 82/100\n",
      "484/484 [==============================] - 40s 83ms/step - loss: 1.3876 - accuracy: 0.7624\n",
      "Epoch 83/100\n",
      "484/484 [==============================] - 41s 84ms/step - loss: 1.3739 - accuracy: 0.7681\n",
      "Epoch 84/100\n",
      "484/484 [==============================] - 40s 83ms/step - loss: 1.3584 - accuracy: 0.7666\n",
      "Epoch 85/100\n",
      "484/484 [==============================] - 40s 83ms/step - loss: 1.3387 - accuracy: 0.7718\n",
      "Epoch 86/100\n",
      "484/484 [==============================] - 40s 83ms/step - loss: 1.3332 - accuracy: 0.7716\n",
      "Epoch 87/100\n",
      "484/484 [==============================] - 40s 82ms/step - loss: 1.3122 - accuracy: 0.7767\n",
      "Epoch 88/100\n",
      "484/484 [==============================] - 40s 83ms/step - loss: 1.3067 - accuracy: 0.7783\n",
      "Epoch 89/100\n",
      "484/484 [==============================] - 40s 83ms/step - loss: 1.2861 - accuracy: 0.7794\n",
      "Epoch 90/100\n",
      "484/484 [==============================] - 40s 83ms/step - loss: 1.2769 - accuracy: 0.7813\n",
      "Epoch 91/100\n",
      "484/484 [==============================] - 40s 83ms/step - loss: 1.2643 - accuracy: 0.7820\n",
      "Epoch 92/100\n",
      "484/484 [==============================] - 40s 83ms/step - loss: 1.2629 - accuracy: 0.7863\n",
      "Epoch 93/100\n",
      "484/484 [==============================] - 40s 83ms/step - loss: 1.2413 - accuracy: 0.7872\n",
      "Epoch 94/100\n",
      "484/484 [==============================] - 40s 83ms/step - loss: 1.2276 - accuracy: 0.7882\n",
      "Epoch 95/100\n",
      "484/484 [==============================] - 42s 87ms/step - loss: 1.2084 - accuracy: 0.7906\n",
      "Epoch 96/100\n",
      "484/484 [==============================] - 40s 83ms/step - loss: 1.2014 - accuracy: 0.7935\n",
      "Epoch 97/100\n",
      "484/484 [==============================] - 41s 86ms/step - loss: 1.1902 - accuracy: 0.7969\n",
      "Epoch 98/100\n",
      "484/484 [==============================] - 41s 84ms/step - loss: 1.1779 - accuracy: 0.7971\n",
      "Epoch 99/100\n",
      "484/484 [==============================] - 40s 83ms/step - loss: 1.1701 - accuracy: 0.7969\n",
      "Epoch 100/100\n",
      "484/484 [==============================] - 40s 83ms/step - loss: 1.1716 - accuracy: 0.7934\n"
     ]
    }
   ],
   "source": [
    " history = model.fit(predictors, label, epochs=100, verbose=1)"
   ]
  },
  {
   "cell_type": "code",
   "execution_count": 15,
   "metadata": {
    "id": "1fXTEO3GJ282"
   },
   "outputs": [
    {
     "data": {
      "image/png": "[encoded data removed]",
      "text/plain": [
       "<Figure size 432x288 with 1 Axes>"
      ]
     },
     "metadata": {
      "needs_background": "light"
     },
     "output_type": "display_data"
    },
    {
     "data": {
      "image/png": "[encoded data removed]",
      "text/plain": [
       "<Figure size 432x288 with 1 Axes>"
      ]
     },
     "metadata": {
      "needs_background": "light"
     },
     "output_type": "display_data"
    }
   ],
   "source": [
    "import matplotlib.pyplot as plt\n",
    "acc = history.history['accuracy']\n",
    "loss = history.history['loss']\n",
    "\n",
    "epochs = range(len(acc))\n",
    "\n",
    "plt.plot(epochs, acc, 'b', label='Exactitud de entrenamiento')\n",
    "plt.title('Exactitud de entrenamiento')\n",
    "\n",
    "plt.figure()\n",
    "\n",
    "plt.plot(epochs, loss, 'b', label='Pérdida en entrenamiento')\n",
    "plt.title('Pérdida en entrenamiento')\n",
    "plt.legend()\n",
    "\n",
    "plt.show()"
   ]
  },
  {
   "cell_type": "markdown",
   "metadata": {},
   "source": [
    "## <span style=\"color:#4361EE\">Genera texto automáticamente</span>"
   ]
  },
  {
   "cell_type": "code",
   "execution_count": 19,
   "metadata": {
    "id": "6Vc6PHgxa6Hm"
   },
   "outputs": [
    {
     "name": "stdout",
     "output_type": "stream",
     "text": [
      "[[6.5008687e-20 1.0673048e-02 7.4008440e-08 ... 1.6198371e-20\n",
      "  2.9688252e-31 2.1124412e-34]]\n"
     ]
    },
    {
     "ename": "ValueError",
     "evalue": "The truth value of an array with more than one element is ambiguous. Use a.any() or a.all()",
     "output_type": "error",
     "traceback": [
      "\u001b[0;31m---------------------------------------------------------------------------\u001b[0m",
      "\u001b[0;31mValueError\u001b[0m                                Traceback (most recent call last)",
      "Input \u001b[0;32mIn [19]\u001b[0m, in \u001b[0;36m<cell line: 4>\u001b[0;34m()\u001b[0m\n\u001b[1;32m     10\u001b[0m \u001b[38;5;28mprint\u001b[39m(predicted)\n\u001b[1;32m     12\u001b[0m \u001b[38;5;28;01mfor\u001b[39;00m word, index \u001b[38;5;129;01min\u001b[39;00m tokenizer\u001b[38;5;241m.\u001b[39mword_index\u001b[38;5;241m.\u001b[39mitems():\n\u001b[0;32m---> 13\u001b[0m     \u001b[38;5;28;01mif\u001b[39;00m index \u001b[38;5;241m==\u001b[39m predicted:\n\u001b[1;32m     14\u001b[0m         output_word \u001b[38;5;241m=\u001b[39m word\n\u001b[1;32m     15\u001b[0m         \u001b[38;5;28;01mbreak\u001b[39;00m\n",
      "\u001b[0;31mValueError\u001b[0m: The truth value of an array with more than one element is ambiguous. Use a.any() or a.all()"
     ]
    }
   ],
   "source": [
    "seed_text = \"Who are you, so too cruel?\"\n",
    "next_words = 100\n",
    "  \n",
    "for _ in range(next_words):\n",
    "    token_list = tokenizer.texts_to_sequences([seed_text])[0]\n",
    "    token_list = pad_sequences([token_list], maxlen=max_sequence_len-1, padding='pre')\n",
    "    predicted = model.predict(token_list, verbose=0)\n",
    "    output_word = \"\"\n",
    "    \n",
    "    print(predicted)\n",
    "    \n",
    "    for word, index in tokenizer.word_index.items():\n",
    "        if index == predicted:\n",
    "            output_word = word\n",
    "            break\n",
    "    seed_text += \" \" + output_word\n",
    "print(seed_text)"
   ]
  },
  {
   "cell_type": "code",
   "execution_count": 1,
   "metadata": {},
   "outputs": [],
   "source": [
    "#help(model)"
   ]
  },
  {
   "cell_type": "markdown",
   "metadata": {},
   "source": [
    "¿Quién eres, tan cruel? en ti tienes libre, ten cuidado, muéstrame el cielo muerto, consideró que yacía en ella mucho tiempo solo, no debes esforzarte por escribir el tono más amplio, todavía verdadero, palabras de orgullo, he aquí, viejo odio, parte vieja, mi punto de vista, eres orgullo, demuéstrame 'no hay nada nuevo. vale la pena y tu ternura te hizo escribirte brillante 'ninguna parte nueva yo joven yo viejo escribe para mí amo no pensé que tu vista debe ser nueva debe encontrar rasgados claros teñidos nuevos pechos falta dónde cómo estás ahora jurando escribe viejo amor demuéstrame escribe antiguo para ti en ti"
   ]
  },
  {
   "cell_type": "markdown",
   "metadata": {},
   "source": [
    "##   <span style=\"color:#4361EE\">Referencias</span>"
   ]
  },
  {
   "cell_type": "markdown",
   "metadata": {},
   "source": [
    "1. Basado en el blog de laurencemoroney: (https://storage.googleapis.com/laurencemoroney-blog.appspot.com/sonnets.txt)"
   ]
  }
 ],
 "metadata": {
  "accelerator": "GPU",
  "colab": {
   "name": "NLP_Week4_Exercise_Shakespeare_Answer.ipynb",
   "provenance": [],
   "toc_visible": true
  },
  "kernelspec": {
   "display_name": "Python 3 (ipykernel)",
   "language": "python",
   "name": "python3"
  },
  "language_info": {
   "codemirror_mode": {
    "name": "ipython",
    "version": 3
   },
   "file_extension": ".py",
   "mimetype": "text/x-python",
   "name": "python",
   "nbconvert_exporter": "python",
   "pygments_lexer": "ipython3",
   "version": "3.10.8"
  }
 },
 "nbformat": 4,
 "nbformat_minor": 4
}
