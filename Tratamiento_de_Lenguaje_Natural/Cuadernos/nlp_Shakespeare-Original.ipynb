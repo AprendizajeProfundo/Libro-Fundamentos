{
 "cells": [
  {
   "cell_type": "markdown",
   "metadata": {},
   "source": [
    "# <span style=\"color:#F72585\"><center>Construcción automática de texto </center></span>"
   ]
  },
  {
   "cell_type": "markdown",
   "metadata": {},
   "source": [
    "<center>Introducción</center>"
   ]
  },
  {
   "cell_type": "markdown",
   "metadata": {},
   "source": [
    "<figure>\n",
    "<center>\n",
    "<img src=\"https://raw.githubusercontent.com/AprendizajeProfundo/Libro-Fundamentos/main/Tratamiento_de_Lenguaje_Natural/Imagenes/Shakespeare.jpg\" width=\"600\" height=\"600\" align=\"center\"/>\n",
    "</center>\n",
    "</figure>\n",
    "\n",
    "Fuente: [Pexels](https://www.pexels.com/es-es/foto/foto-de-la-estatua-de-ceramica-negra-de-perfil-masculino-bajo-un-cielo-gris-durante-el-dia-189532/)"
   ]
  },
  {
   "cell_type": "markdown",
   "metadata": {},
   "source": [
    "## <span style=\"color:#4361EE\">Introducción</span>"
   ]
  },
  {
   "cell_type": "markdown",
   "metadata": {},
   "source": [
    "Gran conjunto de datos basado en sonetos de Shakespeare.\n"
   ]
  },
  {
   "cell_type": "markdown",
   "metadata": {},
   "source": [
    "## <span style=\"color:#4361EE\">Librerías</span>\n"
   ]
  },
  {
   "cell_type": "code",
   "execution_count": 2,
   "metadata": {
    "id": "P-AhVYeBWgQ3"
   },
   "outputs": [
    {
     "name": "stdout",
     "output_type": "stream",
     "text": [
      "2.11.0\n"
     ]
    }
   ],
   "source": [
    "import tensorflow as tf\n",
    "print(tf.__version__)\n",
    "\n",
    "# !pip install -q tensorflow-datasets"
   ]
  },
  {
   "cell_type": "code",
   "execution_count": 3,
   "metadata": {
    "id": "BOwsuGQQY9OL"
   },
   "outputs": [],
   "source": [
    "from tensorflow.keras.preprocessing.sequence import pad_sequences\n",
    "from tensorflow.keras.layers import Embedding, LSTM, Dense, Dropout, Bidirectional\n",
    "from tensorflow.keras.preprocessing.text import Tokenizer\n",
    "from tensorflow.keras.models import Sequential\n",
    "from tensorflow.keras.optimizers import Adam\n",
    "from tensorflow.keras import regularizers\n",
    "from tensorflow.keras.utils import to_categorical\n",
    "import numpy as np \n",
    "\n",
    "from tensorflow.keras.utils import plot_model"
   ]
  },
  {
   "cell_type": "markdown",
   "metadata": {},
   "source": [
    "## <span style=\"color:#4361EE\">Lee los datos</span>"
   ]
  },
  {
   "cell_type": "code",
   "execution_count": 4,
   "metadata": {},
   "outputs": [
    {
     "name": "stdout",
     "output_type": "stream",
     "text": [
      "--2022-11-25 18:47:16--  https://storage.googleapis.com/laurencemoroney-blog.appspot.com/sonnets.txt\n",
      "Resolviendo storage.googleapis.com (storage.googleapis.com)... 142.250.78.112, 142.250.78.144, 142.250.78.176, ...\n",
      "Conectando con storage.googleapis.com (storage.googleapis.com)[142.250.78.112]:443... conectado.\n",
      "Petición HTTP enviada, esperando respuesta... 200 OK\n",
      "Longitud: 93578 (91K) [text/plain]\n",
      "Guardando como: ‘/tmp/sonnets.txt’\n",
      "\n",
      "/tmp/sonnets.txt    100%[===================>]  91,38K  --.-KB/s    en 0,06s   \n",
      "\n",
      "2022-11-25 18:47:16 (1,38 MB/s) - ‘/tmp/sonnets.txt’ guardado [93578/93578]\n",
      "\n"
     ]
    }
   ],
   "source": [
    "!wget --no-check-certificate \\\n",
    "    https://storage.googleapis.com/laurencemoroney-blog.appspot.com/sonnets.txt \\\n",
    "    -O /tmp/sonnets.txt\n",
    "data = open('/tmp/sonnets.txt').read()\n",
    "\n",
    "corpus = data.lower().split(\"\\n\")"
   ]
  },
  {
   "cell_type": "markdown",
   "metadata": {},
   "source": [
    "## <span style=\"color:#4361EE\">Tokeniza el texto</span>\n"
   ]
  },
  {
   "cell_type": "code",
   "execution_count": 5,
   "metadata": {
    "id": "PRnDnCW-Z7qv"
   },
   "outputs": [
    {
     "name": "stdout",
     "output_type": "stream",
     "text": [
      "índice de \"rage\" =  443\n",
      "\n",
      "Número total de palabras en el Tokenizador (+OOV) = 3211 \n",
      "\n",
      "Primeras líneas del corpus: \n",
      "\n"
     ]
    },
    {
     "data": {
      "text/plain": [
       "['from fairest creatures we desire increase,',\n",
       " \"that thereby beauty's rose might never die,\",\n",
       " 'but as the riper should by time decease,',\n",
       " 'his tender heir might bear his memory:',\n",
       " 'but thou, contracted to thine own bright eyes,',\n",
       " \"feed'st thy light'st flame with self-substantial fuel,\",\n",
       " 'making a famine where abundance lies,',\n",
       " 'thyself thy foe, to thy sweet self too cruel.',\n",
       " \"thou that art now the world's fresh ornament\",\n",
       " 'and only herald to the gaudy spring,']"
      ]
     },
     "execution_count": 5,
     "metadata": {},
     "output_type": "execute_result"
    }
   ],
   "source": [
    "tokenizer = Tokenizer()\n",
    "\n",
    "corpus = data.lower().split(\"\\n\")\n",
    "tokenizer.fit_on_texts(corpus)\n",
    "total_words = len(tokenizer.word_index) + 1\n",
    "\n",
    "#print('Dictionary: ',tokenizer.word_index,'\\n')\n",
    "print('índice de \"rage\" = ',tokenizer.word_index['rage'])\n",
    "print('\\nNúmero total de palabras en el Tokenizador (+OOV) =',total_words,'\\n')\n",
    "\n",
    "# Muestra parte del corpus\n",
    "print('Primeras líneas del corpus: \\n')\n",
    "corpus[0:10]"
   ]
  },
  {
   "cell_type": "markdown",
   "metadata": {},
   "source": [
    "## <span style=\"color:#4361EE\">Crea n-Grams para datos de entrenamiento y etiquetas</span>"
   ]
  },
  {
   "cell_type": "code",
   "execution_count": 6,
   "metadata": {
    "id": "PRnDnCW-Z7qv"
   },
   "outputs": [
    {
     "name": "stdout",
     "output_type": "stream",
     "text": [
      "input_sequences[0:10] =  [[34, 417], [34, 417, 877], [34, 417, 877, 166], [34, 417, 877, 166, 213], [34, 417, 877, 166, 213, 517], [8, 878], [8, 878, 134], [8, 878, 134, 351], [8, 878, 134, 351, 102], [8, 878, 134, 351, 102, 156]] \n",
      "\n",
      "\n",
      "longitud del  n-grama más largo: 11\n"
     ]
    }
   ],
   "source": [
    "# crear secuencias de entrada usando una lista de tokens\n",
    "input_sequences = []\n",
    "for line in corpus:\n",
    "    token_list = tokenizer.texts_to_sequences([line])[0]\n",
    "    for i in range(1, len(token_list)):\n",
    "        n_gram_sequence = token_list[:i+1]\n",
    "        input_sequences.append(n_gram_sequence)\n",
    "        \n",
    "print('input_sequences[0:10] = ',input_sequences[:10],'\\n')\n",
    "\n",
    "# Determine el n-gram más largo\n",
    "max_seq_test_len = max([len(x) for x in input_sequences])\n",
    "print('\\nlongitud del  n-grama más largo:',max_seq_test_len)\n"
   ]
  },
  {
   "cell_type": "markdown",
   "metadata": {},
   "source": [
    "### <span style=\"color:#4CC9F0\">¿Qué hizo tokenizer?</span>"
   ]
  },
  {
   "cell_type": "code",
   "execution_count": 7,
   "metadata": {},
   "outputs": [
    {
     "name": "stdout",
     "output_type": "stream",
     "text": [
      "from fairest creatures we desire increase,\n",
      "[[34, 417, 877, 166, 213, 517]]\n",
      "[34, 417, 877, 166, 213, 517]\n"
     ]
    }
   ],
   "source": [
    "line = corpus[0]\n",
    "token_list = tokenizer.texts_to_sequences([line])\n",
    "print(line)\n",
    "print(token_list)\n",
    "print(token_list[0])"
   ]
  },
  {
   "cell_type": "markdown",
   "metadata": {},
   "source": [
    "### <span style=\"color:#4CC9F0\">Agrega PAD para tener secuencias de la misma longitud</span>"
   ]
  },
  {
   "cell_type": "code",
   "execution_count": 8,
   "metadata": {
    "id": "PRnDnCW-Z7qv"
   },
   "outputs": [],
   "source": [
    "# secuencias de pad\n",
    "max_sequence_len = max([len(x) for x in input_sequences])\n",
    "input_sequences = np.array(pad_sequences(input_sequences, maxlen=max_sequence_len, padding='pre'))\n",
    "\n",
    "# crea predictores y etiqueta\n",
    "predictors, label = input_sequences[:,:-1],input_sequences[:,-1]"
   ]
  },
  {
   "cell_type": "code",
   "execution_count": 9,
   "metadata": {},
   "outputs": [
    {
     "name": "stdout",
     "output_type": "stream",
     "text": [
      "(15462, 11)\n",
      "(15462, 10)\n",
      "(15462,)\n"
     ]
    }
   ],
   "source": [
    "print(input_sequences.shape)\n",
    "print(predictors.shape)\n",
    "print(label.shape)"
   ]
  },
  {
   "cell_type": "code",
   "execution_count": 10,
   "metadata": {},
   "outputs": [
    {
     "name": "stdout",
     "output_type": "stream",
     "text": [
      "15462\n",
      "15462\n"
     ]
    }
   ],
   "source": [
    "print(len(predictors))\n",
    "print(len(label))"
   ]
  },
  {
   "cell_type": "code",
   "execution_count": 11,
   "metadata": {},
   "outputs": [
    {
     "name": "stdout",
     "output_type": "stream",
     "text": [
      "[[  0   0   0   0   0   0   0   0   0  34 417]\n",
      " [  0   0   0   0   0   0   0   0  34 417 877]\n",
      " [  0   0   0   0   0   0   0  34 417 877 166]]\n",
      "\n",
      "\n",
      "[[  0   0   0   0   0   0   0   0   0  34]\n",
      " [  0   0   0   0   0   0   0   0  34 417]\n",
      " [  0   0   0   0   0   0   0  34 417 877]]\n",
      "\n",
      "\n",
      "[417 877 166]\n"
     ]
    }
   ],
   "source": [
    "print(input_sequences[0:3]) # secuencia completa\n",
    "print('\\n')\n",
    "print(predictors[0:3]) # secuencia hasta el anterior al último\n",
    "print('\\n')\n",
    "print(label[0:3]) # el último de la secuencia"
   ]
  },
  {
   "cell_type": "markdown",
   "metadata": {},
   "source": [
    "### <span style=\"color:#4CC9F0\">Convierte etiquetas a one-hot</span>"
   ]
  },
  {
   "cell_type": "code",
   "execution_count": 12,
   "metadata": {},
   "outputs": [
    {
     "name": "stdout",
     "output_type": "stream",
     "text": [
      "(15462, 3211)\n"
     ]
    }
   ],
   "source": [
    "label = to_categorical(label, num_classes=total_words)\n",
    "print(label.shape)"
   ]
  },
  {
   "cell_type": "markdown",
   "metadata": {},
   "source": [
    "## <span style=\"color:#4361EE\">Crea el modelo</span>"
   ]
  },
  {
   "cell_type": "code",
   "execution_count": 14,
   "metadata": {
    "id": "w9vH8Y59ajYL"
   },
   "outputs": [],
   "source": [
    "model = Sequential()\n",
    "model.add(Embedding(total_words, 100, input_length=max_sequence_len-1))\n",
    "model.add(Bidirectional(LSTM(150, return_sequences = True)))\n",
    "model.add(Dropout(0.2))\n",
    "model.add(LSTM(100))\n",
    "model.add(Dense(total_words/2, activation='relu', kernel_regularizer=regularizers.l2(0.01)))\n",
    "model.add(Dense(total_words, activation='softmax'))\n",
    "model.compile(loss='categorical_crossentropy', optimizer='adam', metrics=['accuracy'])"
   ]
  },
  {
   "cell_type": "code",
   "execution_count": 15,
   "metadata": {
    "id": "w9vH8Y59ajYL"
   },
   "outputs": [
    {
     "name": "stdout",
     "output_type": "stream",
     "text": [
      "Model: \"sequential_1\"\n",
      "_________________________________________________________________\n",
      " Layer (type)                Output Shape              Param #   \n",
      "=================================================================\n",
      " embedding_1 (Embedding)     (None, 10, 100)           321100    \n",
      "                                                                 \n",
      " bidirectional_1 (Bidirectio  (None, 10, 300)          301200    \n",
      " nal)                                                            \n",
      "                                                                 \n",
      " dropout_1 (Dropout)         (None, 10, 300)           0         \n",
      "                                                                 \n",
      " lstm_3 (LSTM)               (None, 100)               160400    \n",
      "                                                                 \n",
      " dense_2 (Dense)             (None, 1605)              162105    \n",
      "                                                                 \n",
      " dense_3 (Dense)             (None, 3211)              5156866   \n",
      "                                                                 \n",
      "=================================================================\n",
      "Total params: 6,101,671\n",
      "Trainable params: 6,101,671\n",
      "Non-trainable params: 0\n",
      "_________________________________________________________________\n",
      "None\n",
      "You must install pydot (`pip install pydot`) and install graphviz (see instructions at https://graphviz.gitlab.io/download/) for plot_model to work.\n"
     ]
    }
   ],
   "source": [
    "print(model.summary())\n",
    "plot_model(model, to_file='../Imagenes/sonetos.png', \n",
    "           show_shapes=True)"
   ]
  },
  {
   "cell_type": "markdown",
   "metadata": {},
   "source": [
    "## <span style=\"color:#4361EE\">Entrena</span>"
   ]
  },
  {
   "cell_type": "code",
   "execution_count": 16,
   "metadata": {
    "id": "AIg2f1HBxqof"
   },
   "outputs": [
    {
     "name": "stdout",
     "output_type": "stream",
     "text": [
      "Epoch 1/100\n",
      "484/484 [==============================] - 62s 116ms/step - loss: 6.8993 - accuracy: 0.0200\n",
      "Epoch 2/100\n",
      "484/484 [==============================] - 55s 114ms/step - loss: 6.5026 - accuracy: 0.0232\n",
      "Epoch 3/100\n",
      "484/484 [==============================] - 56s 115ms/step - loss: 6.4065 - accuracy: 0.0244\n",
      "Epoch 4/100\n",
      "484/484 [==============================] - 57s 117ms/step - loss: 6.2918 - accuracy: 0.0283\n",
      "Epoch 5/100\n",
      "484/484 [==============================] - 57s 118ms/step - loss: 6.1998 - accuracy: 0.0349\n",
      "Epoch 6/100\n",
      "484/484 [==============================] - 56s 116ms/step - loss: 6.1202 - accuracy: 0.0376\n",
      "Epoch 7/100\n",
      "484/484 [==============================] - 55s 114ms/step - loss: 6.0456 - accuracy: 0.0420\n",
      "Epoch 8/100\n",
      "484/484 [==============================] - 56s 117ms/step - loss: 5.9686 - accuracy: 0.0469\n",
      "Epoch 9/100\n",
      "484/484 [==============================] - 56s 116ms/step - loss: 5.8782 - accuracy: 0.0519\n",
      "Epoch 10/100\n",
      "484/484 [==============================] - 56s 116ms/step - loss: 5.7692 - accuracy: 0.0575\n",
      "Epoch 11/100\n",
      "484/484 [==============================] - 56s 115ms/step - loss: 5.6499 - accuracy: 0.0616\n",
      "Epoch 12/100\n",
      "484/484 [==============================] - 56s 116ms/step - loss: 5.5360 - accuracy: 0.0676\n",
      "Epoch 13/100\n",
      "484/484 [==============================] - 56s 115ms/step - loss: 5.4234 - accuracy: 0.0755\n",
      "Epoch 14/100\n",
      "484/484 [==============================] - 55s 114ms/step - loss: 5.3183 - accuracy: 0.0808\n",
      "Epoch 15/100\n",
      "484/484 [==============================] - 56s 115ms/step - loss: 5.2084 - accuracy: 0.0896\n",
      "Epoch 16/100\n",
      "484/484 [==============================] - 58s 121ms/step - loss: 5.1039 - accuracy: 0.0975\n",
      "Epoch 17/100\n",
      "484/484 [==============================] - 57s 117ms/step - loss: 5.0038 - accuracy: 0.1028\n",
      "Epoch 18/100\n",
      "484/484 [==============================] - 56s 116ms/step - loss: 4.9090 - accuracy: 0.1108\n",
      "Epoch 19/100\n",
      "484/484 [==============================] - 56s 116ms/step - loss: 4.8158 - accuracy: 0.1170\n",
      "Epoch 20/100\n",
      "484/484 [==============================] - 55s 115ms/step - loss: 4.7167 - accuracy: 0.1262\n",
      "Epoch 21/100\n",
      "484/484 [==============================] - 55s 115ms/step - loss: 4.6233 - accuracy: 0.1343\n",
      "Epoch 22/100\n",
      "484/484 [==============================] - 56s 115ms/step - loss: 4.5262 - accuracy: 0.1434\n",
      "Epoch 23/100\n",
      "484/484 [==============================] - 56s 116ms/step - loss: 4.4317 - accuracy: 0.1549\n",
      "Epoch 24/100\n",
      "484/484 [==============================] - 56s 116ms/step - loss: 4.3343 - accuracy: 0.1667\n",
      "Epoch 25/100\n",
      "484/484 [==============================] - 55s 114ms/step - loss: 4.2376 - accuracy: 0.1760\n",
      "Epoch 26/100\n",
      "484/484 [==============================] - 55s 114ms/step - loss: 4.1467 - accuracy: 0.1889\n",
      "Epoch 27/100\n",
      "484/484 [==============================] - 56s 116ms/step - loss: 4.0521 - accuracy: 0.2040\n",
      "Epoch 28/100\n",
      "484/484 [==============================] - 56s 115ms/step - loss: 3.9578 - accuracy: 0.2178\n",
      "Epoch 29/100\n",
      "484/484 [==============================] - 55s 114ms/step - loss: 3.8651 - accuracy: 0.2315\n",
      "Epoch 30/100\n",
      "484/484 [==============================] - 56s 116ms/step - loss: 3.7836 - accuracy: 0.2484\n",
      "Epoch 31/100\n",
      "484/484 [==============================] - 55s 114ms/step - loss: 3.6832 - accuracy: 0.2670\n",
      "Epoch 32/100\n",
      "484/484 [==============================] - 57s 117ms/step - loss: 3.6032 - accuracy: 0.2784\n",
      "Epoch 33/100\n",
      "484/484 [==============================] - 56s 116ms/step - loss: 3.5177 - accuracy: 0.2997\n",
      "Epoch 34/100\n",
      "484/484 [==============================] - 57s 118ms/step - loss: 3.4469 - accuracy: 0.3117\n",
      "Epoch 35/100\n",
      "484/484 [==============================] - 56s 116ms/step - loss: 3.3524 - accuracy: 0.3353\n",
      "Epoch 36/100\n",
      "484/484 [==============================] - 57s 117ms/step - loss: 3.2944 - accuracy: 0.3440\n",
      "Epoch 37/100\n",
      "484/484 [==============================] - 57s 119ms/step - loss: 3.1999 - accuracy: 0.3672\n",
      "Epoch 38/100\n",
      "484/484 [==============================] - 57s 117ms/step - loss: 3.1377 - accuracy: 0.3859\n",
      "Epoch 39/100\n",
      "484/484 [==============================] - 57s 117ms/step - loss: 3.0706 - accuracy: 0.3976\n",
      "Epoch 40/100\n",
      "484/484 [==============================] - 56s 116ms/step - loss: 2.9996 - accuracy: 0.4096\n",
      "Epoch 41/100\n",
      "484/484 [==============================] - 56s 116ms/step - loss: 2.9199 - accuracy: 0.4290\n",
      "Epoch 42/100\n",
      "484/484 [==============================] - 57s 117ms/step - loss: 2.8578 - accuracy: 0.4477\n",
      "Epoch 43/100\n",
      "484/484 [==============================] - 57s 118ms/step - loss: 2.8050 - accuracy: 0.4490\n",
      "Epoch 44/100\n",
      "484/484 [==============================] - 57s 117ms/step - loss: 2.7505 - accuracy: 0.4651\n",
      "Epoch 45/100\n",
      "484/484 [==============================] - 57s 118ms/step - loss: 2.6793 - accuracy: 0.4798\n",
      "Epoch 46/100\n",
      "484/484 [==============================] - 58s 119ms/step - loss: 2.6277 - accuracy: 0.4956\n",
      "Epoch 47/100\n",
      "484/484 [==============================] - 57s 118ms/step - loss: 2.5733 - accuracy: 0.5036\n",
      "Epoch 48/100\n",
      "484/484 [==============================] - 59s 123ms/step - loss: 2.5306 - accuracy: 0.5165\n",
      "Epoch 49/100\n",
      "484/484 [==============================] - 57s 118ms/step - loss: 2.4727 - accuracy: 0.5305\n",
      "Epoch 50/100\n",
      "484/484 [==============================] - 57s 117ms/step - loss: 2.4185 - accuracy: 0.5423\n",
      "Epoch 51/100\n",
      "484/484 [==============================] - 58s 119ms/step - loss: 2.3745 - accuracy: 0.5537\n",
      "Epoch 52/100\n",
      "484/484 [==============================] - 58s 119ms/step - loss: 2.3210 - accuracy: 0.5664\n",
      "Epoch 53/100\n",
      "484/484 [==============================] - 57s 118ms/step - loss: 2.2702 - accuracy: 0.5744\n",
      "Epoch 54/100\n",
      "484/484 [==============================] - 57s 117ms/step - loss: 2.2377 - accuracy: 0.5836\n",
      "Epoch 55/100\n",
      "484/484 [==============================] - 57s 118ms/step - loss: 2.2020 - accuracy: 0.5913\n",
      "Epoch 56/100\n",
      "484/484 [==============================] - 57s 117ms/step - loss: 2.1626 - accuracy: 0.5976\n",
      "Epoch 57/100\n",
      "484/484 [==============================] - 58s 120ms/step - loss: 2.1195 - accuracy: 0.6113\n",
      "Epoch 58/100\n",
      "484/484 [==============================] - 59s 122ms/step - loss: 2.0729 - accuracy: 0.6221\n",
      "Epoch 59/100\n",
      "484/484 [==============================] - 57s 118ms/step - loss: 2.0383 - accuracy: 0.6253\n",
      "Epoch 60/100\n",
      "484/484 [==============================] - 57s 117ms/step - loss: 2.0165 - accuracy: 0.6312\n",
      "Epoch 61/100\n",
      "484/484 [==============================] - 59s 122ms/step - loss: 1.9811 - accuracy: 0.6381\n",
      "Epoch 62/100\n",
      "484/484 [==============================] - 59s 122ms/step - loss: 1.9312 - accuracy: 0.6511\n",
      "Epoch 63/100\n",
      "484/484 [==============================] - 58s 120ms/step - loss: 1.9029 - accuracy: 0.6541\n",
      "Epoch 64/100\n",
      "484/484 [==============================] - 57s 119ms/step - loss: 1.8795 - accuracy: 0.6615\n",
      "Epoch 65/100\n",
      "484/484 [==============================] - 58s 119ms/step - loss: 1.8390 - accuracy: 0.6712\n",
      "Epoch 66/100\n",
      "484/484 [==============================] - 57s 118ms/step - loss: 1.8154 - accuracy: 0.6729\n",
      "Epoch 67/100\n",
      "484/484 [==============================] - 58s 119ms/step - loss: 1.7940 - accuracy: 0.6771\n",
      "Epoch 68/100\n",
      "484/484 [==============================] - 58s 120ms/step - loss: 1.7675 - accuracy: 0.6835\n",
      "Epoch 69/100\n",
      "484/484 [==============================] - 59s 121ms/step - loss: 1.7338 - accuracy: 0.6920\n",
      "Epoch 70/100\n",
      "484/484 [==============================] - 57s 119ms/step - loss: 1.7075 - accuracy: 0.6963\n",
      "Epoch 71/100\n",
      "484/484 [==============================] - 58s 120ms/step - loss: 1.6852 - accuracy: 0.7002\n",
      "Epoch 72/100\n",
      "484/484 [==============================] - 58s 119ms/step - loss: 1.6638 - accuracy: 0.7050\n",
      "Epoch 73/100\n",
      "484/484 [==============================] - 58s 119ms/step - loss: 1.6347 - accuracy: 0.7109\n",
      "Epoch 74/100\n",
      "484/484 [==============================] - 58s 120ms/step - loss: 1.6127 - accuracy: 0.7186\n",
      "Epoch 75/100\n",
      "484/484 [==============================] - 58s 119ms/step - loss: 1.5899 - accuracy: 0.7195\n",
      "Epoch 76/100\n",
      "484/484 [==============================] - 57s 119ms/step - loss: 1.5768 - accuracy: 0.7209\n",
      "Epoch 77/100\n",
      "484/484 [==============================] - 58s 119ms/step - loss: 1.5465 - accuracy: 0.7262\n",
      "Epoch 78/100\n",
      "484/484 [==============================] - 58s 119ms/step - loss: 1.5263 - accuracy: 0.7330\n",
      "Epoch 79/100\n",
      "484/484 [==============================] - 60s 124ms/step - loss: 1.5052 - accuracy: 0.7346\n",
      "Epoch 80/100\n",
      "484/484 [==============================] - 59s 123ms/step - loss: 1.4920 - accuracy: 0.7412\n",
      "Epoch 81/100\n",
      "484/484 [==============================] - 58s 120ms/step - loss: 1.4711 - accuracy: 0.7425\n",
      "Epoch 82/100\n",
      "484/484 [==============================] - 59s 122ms/step - loss: 1.4551 - accuracy: 0.7443\n",
      "Epoch 83/100\n",
      "484/484 [==============================] - 58s 120ms/step - loss: 1.4371 - accuracy: 0.7482\n",
      "Epoch 84/100\n",
      "484/484 [==============================] - 58s 120ms/step - loss: 1.4202 - accuracy: 0.7511\n",
      "Epoch 85/100\n",
      "484/484 [==============================] - 58s 119ms/step - loss: 1.3949 - accuracy: 0.7581\n",
      "Epoch 86/100\n",
      "484/484 [==============================] - 58s 120ms/step - loss: 1.3872 - accuracy: 0.7591\n",
      "Epoch 87/100\n",
      "484/484 [==============================] - 59s 121ms/step - loss: 1.3779 - accuracy: 0.7588\n",
      "Epoch 88/100\n",
      "484/484 [==============================] - 59s 122ms/step - loss: 1.3601 - accuracy: 0.7634\n",
      "Epoch 89/100\n",
      "484/484 [==============================] - 59s 123ms/step - loss: 1.3454 - accuracy: 0.7657\n",
      "Epoch 90/100\n",
      "484/484 [==============================] - 59s 121ms/step - loss: 1.3225 - accuracy: 0.7701\n",
      "Epoch 91/100\n",
      "484/484 [==============================] - 59s 121ms/step - loss: 1.3040 - accuracy: 0.7756\n",
      "Epoch 92/100\n",
      "484/484 [==============================] - 58s 121ms/step - loss: 1.3005 - accuracy: 0.7716\n",
      "Epoch 93/100\n",
      "484/484 [==============================] - 58s 121ms/step - loss: 1.2889 - accuracy: 0.7756\n",
      "Epoch 94/100\n",
      "484/484 [==============================] - 58s 121ms/step - loss: 1.2919 - accuracy: 0.7738\n",
      "Epoch 95/100\n",
      "484/484 [==============================] - 59s 122ms/step - loss: 1.2722 - accuracy: 0.7751\n",
      "Epoch 96/100\n",
      "484/484 [==============================] - 61s 125ms/step - loss: 1.2554 - accuracy: 0.7809\n",
      "Epoch 97/100\n",
      "484/484 [==============================] - 59s 122ms/step - loss: 1.2346 - accuracy: 0.7845\n",
      "Epoch 98/100\n",
      "484/484 [==============================] - 59s 121ms/step - loss: 1.2332 - accuracy: 0.7833\n",
      "Epoch 99/100\n",
      "484/484 [==============================] - 59s 122ms/step - loss: 1.2152 - accuracy: 0.7910\n",
      "Epoch 100/100\n",
      "484/484 [==============================] - 60s 124ms/step - loss: 1.2146 - accuracy: 0.7864\n"
     ]
    }
   ],
   "source": [
    " history = model.fit(predictors, label, epochs=100, verbose=1)"
   ]
  },
  {
   "cell_type": "code",
   "execution_count": 22,
   "metadata": {},
   "outputs": [],
   "source": [
    "# Guardar history\n",
    "#np.save('history.npy',history.history)"
   ]
  },
  {
   "cell_type": "code",
   "execution_count": null,
   "metadata": {},
   "outputs": [],
   "source": [
    "# Cargar history\n",
    "#history = np.load('history.npy',allow_pickle='TRUE').item()"
   ]
  },
  {
   "cell_type": "code",
   "execution_count": 19,
   "metadata": {
    "id": "1fXTEO3GJ282"
   },
   "outputs": [
    {
     "data": {
      "image/png": "[encoded data removed]",
      "text/plain": [
       "<Figure size 640x480 with 1 Axes>"
      ]
     },
     "metadata": {},
     "output_type": "display_data"
    },
    {
     "data": {
      "image/png": "[encoded data removed]",
      "text/plain": [
       "<Figure size 640x480 with 1 Axes>"
      ]
     },
     "metadata": {},
     "output_type": "display_data"
    }
   ],
   "source": [
    "import matplotlib.pyplot as plt\n",
    "acc = history.history['accuracy']\n",
    "loss = history.history['loss']\n",
    "\n",
    "epochs = range(len(acc))\n",
    "\n",
    "plt.plot(epochs, acc, 'b', label='Exactitud de entrenamiento')\n",
    "plt.title('Exactitud de entrenamiento')\n",
    "\n",
    "plt.figure()\n",
    "\n",
    "plt.plot(epochs, loss, 'b', label='Pérdida en entrenamiento')\n",
    "plt.title('Pérdida en entrenamiento')\n",
    "plt.legend()\n",
    "\n",
    "plt.show()"
   ]
  },
  {
   "cell_type": "markdown",
   "metadata": {},
   "source": [
    "## <span style=\"color:#4361EE\">Genera texto automáticamente</span>"
   ]
  },
  {
   "cell_type": "code",
   "execution_count": 32,
   "metadata": {
    "id": "6Vc6PHgxa6Hm"
   },
   "outputs": [
    {
     "name": "stdout",
     "output_type": "stream",
     "text": [
      "1/1 [==============================] - 0s 43ms/step\n",
      "[[  0   0   0   0  88  41  24  20 135 279]]\n",
      "1/1 [==============================] - 0s 47ms/step\n",
      "[[  0   0   0  88  41  24  20 135 279   8]]\n",
      "1/1 [==============================] - 0s 35ms/step\n",
      "[[  0   0  88  41  24  20 135 279   8   6]]\n",
      "1/1 [==============================] - 0s 26ms/step\n",
      "[[  0  88  41  24  20 135 279   8   6 191]]\n",
      "1/1 [==============================] - 0s 25ms/step\n",
      "[[ 88  41  24  20 135 279   8   6 191  24]]\n",
      "1/1 [==============================] - 0s 28ms/step\n",
      "[[ 41  24  20 135 279   8   6 191  24 216]]\n",
      "1/1 [==============================] - 0s 32ms/step\n",
      "[[ 24  20 135 279   8   6 191  24 216  95]]\n",
      "1/1 [==============================] - 0s 32ms/step\n",
      "[[ 20 135 279   8   6 191  24 216  95  95]]\n",
      "1/1 [==============================] - 0s 30ms/step\n",
      "[[135 279   8   6 191  24 216  95  95  95]]\n",
      "1/1 [==============================] - 0s 27ms/step\n",
      "[[279   8   6 191  24 216  95  95  95  95]]\n",
      "1/1 [==============================] - 0s 36ms/step\n",
      "[[  8   6 191  24 216  95  95  95  95  24]]\n",
      "1/1 [==============================] - 0s 36ms/step\n",
      "[[   6  191   24  216   95   95   95   95   24 1071]]\n",
      "1/1 [==============================] - 0s 30ms/step\n",
      "[[ 191   24  216   95   95   95   95   24 1071  394]]\n",
      "1/1 [==============================] - 0s 30ms/step\n",
      "[[  24  216   95   95   95   95   24 1071  394  147]]\n",
      "1/1 [==============================] - 0s 31ms/step\n",
      "[[ 216   95   95   95   95   24 1071  394  147  231]]\n",
      "1/1 [==============================] - 0s 26ms/step\n",
      "[[  95   95   95   95   24 1071  394  147  231    7]]\n",
      "1/1 [==============================] - 0s 26ms/step\n",
      "[[  95   95   95   24 1071  394  147  231    7   19]]\n",
      "1/1 [==============================] - 0s 27ms/step\n",
      "[[  95   95   24 1071  394  147  231    7   19    7]]\n",
      "1/1 [==============================] - 0s 28ms/step\n",
      "[[  95   24 1071  394  147  231    7   19    7   45]]\n",
      "1/1 [==============================] - 0s 32ms/step\n",
      "[[  24 1071  394  147  231    7   19    7   45 2821]]\n",
      "1/1 [==============================] - 0s 27ms/step\n",
      "[[1071  394  147  231    7   19    7   45 2821 1607]]\n",
      "1/1 [==============================] - 0s 37ms/step\n",
      "[[ 394  147  231    7   19    7   45 2821 1607 1608]]\n",
      "1/1 [==============================] - 0s 45ms/step\n",
      "[[ 147  231    7   19    7   45 2821 1607 1608 2939]]\n",
      "1/1 [==============================] - 0s 33ms/step\n",
      "[[ 231    7   19    7   45 2821 1607 1608 2939  343]]\n",
      "1/1 [==============================] - 0s 50ms/step\n",
      "[[   7   19    7   45 2821 1607 1608 2939  343  232]]\n",
      "1/1 [==============================] - 0s 28ms/step\n",
      "[[  19    7   45 2821 1607 1608 2939  343  232  172]]\n",
      "1/1 [==============================] - 0s 27ms/step\n",
      "[[   7   45 2821 1607 1608 2939  343  232  172 1188]]\n",
      "1/1 [==============================] - 0s 25ms/step\n",
      "[[  45 2821 1607 1608 2939  343  232  172 1188 2708]]\n",
      "1/1 [==============================] - 0s 25ms/step\n",
      "[[2821 1607 1608 2939  343  232  172 1188 2708 2121]]\n",
      "1/1 [==============================] - 0s 26ms/step\n",
      "[[1607 1608 2939  343  232  172 1188 2708 2121   16]]\n",
      "1/1 [==============================] - 0s 29ms/step\n",
      "[[1608 2939  343  232  172 1188 2708 2121   16   82]]\n",
      "1/1 [==============================] - 0s 26ms/step\n",
      "[[2939  343  232  172 1188 2708 2121   16   82 1022]]\n",
      "1/1 [==============================] - 0s 28ms/step\n",
      "[[ 343  232  172 1188 2708 2121   16   82 1022    7]]\n",
      "1/1 [==============================] - 0s 31ms/step\n",
      "[[ 232  172 1188 2708 2121   16   82 1022    7  483]]\n",
      "1/1 [==============================] - 0s 28ms/step\n",
      "[[ 172 1188 2708 2121   16   82 1022    7  483 2113]]\n",
      "1/1 [==============================] - 0s 25ms/step\n",
      "[[1188 2708 2121   16   82 1022    7  483 2113 2911]]\n",
      "1/1 [==============================] - 0s 30ms/step\n",
      "[[2708 2121   16   82 1022    7  483 2113 2911  561]]\n",
      "1/1 [==============================] - 0s 30ms/step\n",
      "[[2121   16   82 1022    7  483 2113 2911  561  235]]\n",
      "1/1 [==============================] - 0s 31ms/step\n",
      "[[  16   82 1022    7  483 2113 2911  561  235  678]]\n",
      "1/1 [==============================] - 0s 31ms/step\n",
      "[[  82 1022    7  483 2113 2911  561  235  678 1282]]\n",
      "1/1 [==============================] - 0s 30ms/step\n",
      "[[1022    7  483 2113 2911  561  235  678 1282  477]]\n",
      "1/1 [==============================] - 0s 25ms/step\n",
      "[[   7  483 2113 2911  561  235  678 1282  477   20]]\n",
      "1/1 [==============================] - 0s 25ms/step\n",
      "[[ 483 2113 2911  561  235  678 1282  477   20  210]]\n",
      "1/1 [==============================] - 0s 29ms/step\n",
      "[[2113 2911  561  235  678 1282  477   20  210  140]]\n",
      "1/1 [==============================] - 0s 34ms/step\n",
      "[[2911  561  235  678 1282  477   20  210  140   16]]\n",
      "1/1 [==============================] - 0s 26ms/step\n",
      "[[ 561  235  678 1282  477   20  210  140   16  249]]\n",
      "1/1 [==============================] - 0s 26ms/step\n",
      "[[ 235  678 1282  477   20  210  140   16  249  231]]\n",
      "1/1 [==============================] - 0s 28ms/step\n",
      "[[ 678 1282  477   20  210  140   16  249  231  171]]\n",
      "1/1 [==============================] - 0s 26ms/step\n",
      "[[1282  477   20  210  140   16  249  231  171  590]]\n",
      "1/1 [==============================] - 0s 26ms/step\n",
      "[[477  20 210 140  16 249 231 171 590 109]]\n",
      "1/1 [==============================] - 0s 28ms/step\n",
      "[[ 20 210 140  16 249 231 171 590 109  20]]\n",
      "1/1 [==============================] - 0s 29ms/step\n",
      "[[210 140  16 249 231 171 590 109  20 171]]\n",
      "1/1 [==============================] - 0s 36ms/step\n",
      "[[140  16 249 231 171 590 109  20 171 851]]\n",
      "1/1 [==============================] - 0s 33ms/step\n",
      "[[ 16 249 231 171 590 109  20 171 851   5]]\n",
      "1/1 [==============================] - 0s 36ms/step\n",
      "[[249 231 171 590 109  20 171 851   5 557]]\n",
      "1/1 [==============================] - 0s 30ms/step\n",
      "[[231 171 590 109  20 171 851   5 557 504]]\n",
      "1/1 [==============================] - 0s 26ms/step\n",
      "[[ 171  590  109   20  171  851    5  557  504 2772]]\n",
      "1/1 [==============================] - 0s 29ms/step\n",
      "[[ 590  109   20  171  851    5  557  504 2772 1915]]\n",
      "1/1 [==============================] - 0s 26ms/step\n",
      "[[ 109   20  171  851    5  557  504 2772 1915  952]]\n",
      "1/1 [==============================] - 0s 26ms/step\n",
      "[[  20  171  851    5  557  504 2772 1915  952   98]]\n",
      "1/1 [==============================] - 0s 34ms/step\n",
      "[[ 171  851    5  557  504 2772 1915  952   98   98]]\n",
      "1/1 [==============================] - 0s 30ms/step\n",
      "[[ 851    5  557  504 2772 1915  952   98   98 1255]]\n",
      "1/1 [==============================] - 0s 25ms/step\n",
      "[[   5  557  504 2772 1915  952   98   98 1255  165]]\n",
      "1/1 [==============================] - 0s 31ms/step\n",
      "[[ 557  504 2772 1915  952   98   98 1255  165  407]]\n",
      "1/1 [==============================] - 0s 29ms/step\n",
      "[[ 504 2772 1915  952   98   98 1255  165  407  235]]\n",
      "1/1 [==============================] - 0s 27ms/step\n",
      "[[2772 1915  952   98   98 1255  165  407  235  634]]\n",
      "1/1 [==============================] - 0s 30ms/step\n",
      "[[1915  952   98   98 1255  165  407  235  634 1374]]\n",
      "1/1 [==============================] - 0s 26ms/step\n",
      "[[ 952   98   98 1255  165  407  235  634 1374  415]]\n",
      "1/1 [==============================] - 0s 26ms/step\n",
      "[[  98   98 1255  165  407  235  634 1374  415  287]]\n",
      "1/1 [==============================] - 0s 27ms/step\n",
      "[[  98 1255  165  407  235  634 1374  415  287 1286]]\n",
      "1/1 [==============================] - 0s 26ms/step\n",
      "[[1255  165  407  235  634 1374  415  287 1286 1286]]\n",
      "1/1 [==============================] - 0s 26ms/step\n",
      "[[ 165  407  235  634 1374  415  287 1286 1286 1286]]\n",
      "1/1 [==============================] - 0s 28ms/step\n",
      "[[ 407  235  634 1374  415  287 1286 1286 1286  525]]\n",
      "1/1 [==============================] - 0s 26ms/step\n",
      "[[ 235  634 1374  415  287 1286 1286 1286  525  235]]\n",
      "1/1 [==============================] - 0s 26ms/step\n",
      "[[ 634 1374  415  287 1286 1286 1286  525  235  291]]\n",
      "1/1 [==============================] - 0s 52ms/step\n",
      "[[1374  415  287 1286 1286 1286  525  235  291  172]]\n",
      "1/1 [==============================] - 0s 37ms/step\n",
      "[[ 415  287 1286 1286 1286  525  235  291  172 2586]]\n",
      "1/1 [==============================] - 0s 29ms/step\n",
      "[[ 287 1286 1286 1286  525  235  291  172 2586 2164]]\n",
      "1/1 [==============================] - 0s 28ms/step\n",
      "[[1286 1286 1286  525  235  291  172 2586 2164  511]]\n",
      "1/1 [==============================] - 0s 28ms/step\n",
      "[[1286 1286  525  235  291  172 2586 2164  511  101]]\n",
      "1/1 [==============================] - 0s 35ms/step\n",
      "[[1286  525  235  291  172 2586 2164  511  101  729]]\n",
      "1/1 [==============================] - 0s 29ms/step\n",
      "[[ 525  235  291  172 2586 2164  511  101  729   28]]\n",
      "1/1 [==============================] - 0s 29ms/step\n",
      "[[ 235  291  172 2586 2164  511  101  729   28   70]]\n",
      "1/1 [==============================] - 0s 28ms/step\n",
      "[[ 291  172 2586 2164  511  101  729   28   70  106]]\n",
      "1/1 [==============================] - 0s 25ms/step\n",
      "[[ 172 2586 2164  511  101  729   28   70  106  142]]\n",
      "1/1 [==============================] - 0s 25ms/step\n",
      "[[2586 2164  511  101  729   28   70  106  142   22]]\n",
      "1/1 [==============================] - 0s 29ms/step\n",
      "[[2164  511  101  729   28   70  106  142   22   55]]\n",
      "1/1 [==============================] - 0s 30ms/step\n",
      "[[511 101 729  28  70 106 142  22  55 123]]\n",
      "1/1 [==============================] - 0s 29ms/step\n",
      "[[101 729  28  70 106 142  22  55 123 119]]\n",
      "1/1 [==============================] - 0s 32ms/step\n",
      "[[729  28  70 106 142  22  55 123 119 244]]\n",
      "1/1 [==============================] - 0s 31ms/step\n",
      "[[ 28  70 106 142  22  55 123 119 244  18]]\n",
      "1/1 [==============================] - 0s 30ms/step\n",
      "[[ 70 106 142  22  55 123 119 244  18  39]]\n",
      "1/1 [==============================] - 0s 27ms/step\n",
      "[[106 142  22  55 123 119 244  18  39  15]]\n",
      "1/1 [==============================] - 0s 27ms/step\n",
      "[[142  22  55 123 119 244  18  39  15 754]]\n",
      "1/1 [==============================] - 0s 29ms/step\n",
      "[[ 22  55 123 119 244  18  39  15 754  82]]\n",
      "1/1 [==============================] - 0s 36ms/step\n",
      "[[ 55 123 119 244  18  39  15 754  82 349]]\n",
      "1/1 [==============================] - 0s 30ms/step\n",
      "[[123 119 244  18  39  15 754  82 349 145]]\n",
      "1/1 [==============================] - 0s 27ms/step\n",
      "[[119 244  18  39  15 754  82 349 145 221]]\n",
      "1/1 [==============================] - 0s 27ms/step\n",
      "[[ 244   18   39   15  754   82  349  145  221 1282]]\n",
      "1/1 [==============================] - 0s 28ms/step\n",
      "[[  18   39   15  754   82  349  145  221 1282 1936]]\n",
      "Who are you, so too cruel? that i hold you form say say say say you dearer blind ' seem in thee in their badness tiger's jaws reeks set 'tis men subjects indigest defaced but some bars in sweetest worn sway'st rehearse seen nought sweetness hide so long away but words seem good thief even so good despair my shade near purge bar borne new new mute dead been seen decease substantial mad leaves esteem'd esteem'd esteem'd free seen grow men junes disabled grew love's blot it still at them as her ill must call me have not twain some foul days end sweetness share 'tis\n"
     ]
    }
   ],
   "source": [
    "seed_text = \"Who are you, so too cruel?\"\n",
    "next_words = 100\n",
    "  \n",
    "for _ in range(next_words):\n",
    "    token_list = tokenizer.texts_to_sequences([seed_text])[0]\n",
    "    token_list = pad_sequences([token_list], maxlen=max_sequence_len-1, padding='pre')\n",
    "    #predicted = model.predict_class(token_list, verbose=0)\n",
    "    predicted = np.argmax(model.predict(token_list),axis=1)\n",
    "    output_word = \"\"\n",
    "    \n",
    "    print(token_list)\n",
    "    \n",
    "    for word, index in tokenizer.word_index.items():\n",
    "        if index == predicted:\n",
    "            output_word = word\n",
    "            break\n",
    "    seed_text += \" \" + output_word\n",
    "print(seed_text)"
   ]
  },
  {
   "cell_type": "markdown",
   "metadata": {},
   "source": [
    "¿Quién eres tú, tan cruel? que te sostengo de forma di di di di di que eres más querido ciego 'parece en ti en su maldad mandíbulas de tigre apesta conjunto 'tis hombres sujetos indigestos desfigurados pero algunas barras en el más dulce desgastado sway'st ensayo visto nada dulzura esconderse tanto tiempo lejos pero las palabras parecen buenas ladrón incluso tan bueno desesperación mi sombra cerca de la barra de purga nacido nuevo nuevo mudo muerto sido visto fallecimiento sustancial loco hojas estimado estimado estimado libre visto crecer hombres junio discapacitado creció la mancha del amor todavía en ellos como su enfermedad debe llamarme tener no dos, algunos días sucios terminan la dulzura, comparten 'tis"
   ]
  },
  {
   "cell_type": "markdown",
   "metadata": {},
   "source": [
    "##   <span style=\"color:#4361EE\">Referencias</span>"
   ]
  },
  {
   "cell_type": "markdown",
   "metadata": {},
   "source": [
    "1. Basado en el blog de laurencemoroney: (https://storage.googleapis.com/laurencemoroney-blog.appspot.com/sonnets.txt)"
   ]
  }
 ],
 "metadata": {
  "accelerator": "GPU",
  "colab": {
   "name": "NLP_Week4_Exercise_Shakespeare_Answer.ipynb",
   "provenance": [],
   "toc_visible": true
  },
  "kernelspec": {
   "display_name": "Python 3 (ipykernel)",
   "language": "python",
   "name": "python3"
  },
  "language_info": {
   "codemirror_mode": {
    "name": "ipython",
    "version": 3
   },
   "file_extension": ".py",
   "mimetype": "text/x-python",
   "name": "python",
   "nbconvert_exporter": "python",
   "pygments_lexer": "ipython3",
   "version": "3.10.4"
  }
 },
 "nbformat": 4,
 "nbformat_minor": 4
}
