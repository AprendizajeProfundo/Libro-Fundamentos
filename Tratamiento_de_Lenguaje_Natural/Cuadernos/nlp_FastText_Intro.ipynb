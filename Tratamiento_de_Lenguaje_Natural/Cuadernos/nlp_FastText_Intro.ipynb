{
 "cells": [
  {
   "cell_type": "markdown",
   "id": "067f9282-4c82-4d4b-98f9-93b2028b6535",
   "metadata": {
    "tags": []
   },
   "source": [
    "# <span style=\"color:#F72585\"><center>Introducción a FastText</center></span>"
   ]
  },
  {
   "cell_type": "markdown",
   "id": "8995cbdb-7711-4846-b7e7-ef6feb846a0c",
   "metadata": {},
   "source": [
    "<center>Biblioteca para clasificación de texto eficiente y aprendizaje de representación</center>"
   ]
  },
  {
   "cell_type": "markdown",
   "id": "6764d3ff-dc65-4d1e-96c1-939ec855ca72",
   "metadata": {},
   "source": [
    "<figure>\n",
    "<center>\n",
    "<img src=\"https://raw.githubusercontent.com/AprendizajeProfundo/Libro-Fundamentos/main/Tratamiento_de_Lenguaje_Natural/Imagenes/fast_highway.jpg\" width=\"600\" height=\"600\" align=\"center\"/>\n",
    "</center>\n",
    "</figure>\n",
    "\n",
    "Fuente: [Pexels](https://www.pexels.com/es-es/foto/fotografia-de-lapso-de-tiempo-de-carretera-de-asfalto-durante-la-noche-2955704/)"
   ]
  },
  {
   "cell_type": "markdown",
   "id": "b1dcae15-217e-4bbf-903a-12abb9c032c9",
   "metadata": {},
   "source": [
    "## <span style=\"color:#4361EE\">Introducción</span>"
   ]
  },
  {
   "cell_type": "markdown",
   "id": "7aed1d13-ba1b-4290-b47f-7ccd527a182f",
   "metadata": {},
   "source": [
    "El modelo [FastText](https://fasttext.cc/) fue introducido por primera vez por Facebook en 2016 como una extensión y supuestamente una mejora del modelo vainilla de Word2Vec. \n",
    "\n",
    "Está basado en el artículo original titulado [Enriching Word Vectors with Subword Information](https://arxiv.org/pdf/1607.04606.pdf) de Mikolov et al. que es una lectura excelente para obtener una comprensión profunda de como funciona este modelo. En general, FastText es un marco para el aprendizaje de representaciones de palabras y también para realizar una clasificación de texto sólida, rápida y precisa. \n",
    "\n",
    "El marco es de código abierto de Facebook en GitHub y afirma tener lo siguiente:\n",
    "\n",
    "1. Vectores de palabras en inglés de última generación.\n",
    "2. Vectores de palabras para 157 idiomas entrenados en Wikipedia y rastreo.\n",
    "3. Modelos para identificación de idiomas y diversas tareas supervisadas.\n",
    "\n",
    "De acuedo con los autores,  en general, los modelos predictivos como el modelo *Word2Vec* suelen considerar cada palabra como una entidad distinta (por ejemplo, \"dónde\") y generan una incrustación densa para la palabra. \n",
    "\n",
    "Sin embargo, esto representa una seria limitación con los idiomas que tienen un vocabulario masivo y muchas palabras raras que pueden no aparecer mucho en diferentes corpus. El modelo Word2Vec normalmente ignora la estructura morfológica de cada palabra y considera una palabra como una sola entidad. \n",
    "\n",
    "El modelo **FastText** considera cada palabra como una bolsa de n-gramas de caracteres. Esto también se denomina modelo de subpalabras en el documento.\n",
    "\n",
    "\n",
    "Se agregan símbolos de límites especiales **\\<y>** al principio y al final de las palabras. Esto  permite distinguir prefijos y sufijos de otras secuencias de caracteres. También incluyen la propia palabra *w* en el conjunto de sus n-gramas, para aprender una representación de cada palabra (además de su carácter n-gramas). \n",
    "    \n",
    "    \n",
    "Tomando la palabra *where* y n = 3 (tri-gramas) como ejemplo, estará representada por el carácter n-gramas: **<wh, whe, her, ere, re>** y la secuencia especial **\\<where>** que representa la palabra completa . \n",
    "    \n",
    "Tenga en cuenta que la secuencia, correspondiente a la palabra **\\<her>** es diferente del trigrama ella de la palabra where.\n",
    "    \n",
    "En la práctica, el artículo recomienda extraer todos los n-gramas para $3\\le n \\le 6$. Este es un enfoque muy simple, y se podrían considerar diferentes conjuntos de n-gramas, por ejemplo, tomando todos los prefijos y sufijos. \n",
    "    \n",
    "Normalmente asociamos una representación vectorial (incrustación) a cada n-grama de una palabra. Por tanto, podemos representar una palabra mediante la suma de las representaciones vectoriales de sus n-gramas o el promedio de la incrustación de estos n-gramas. \n",
    "    \n",
    "Según los autores, debido a este efecto de aprovechar los n-gramas de palabras individuales basadas en sus caracteres, existe una mayor probabilidad de que las palabras raras obtengan una buena representación, ya que sus n-gramas basados en caracteres deben aparecer en otras palabras del corpus.\n",
    "    \n",
    "Vamos a la práctica."
   ]
  },
  {
   "cell_type": "markdown",
   "id": "debc2c13-e6f0-4eeb-be52-fa1ffd82aeba",
   "metadata": {},
   "source": [
    "## <span style=\"color:#4361EE\">Instalación</span>"
   ]
  },
  {
   "cell_type": "markdown",
   "id": "63f5a09b-d099-4062-803f-067482bf79cf",
   "metadata": {},
   "source": [
    "Para instalar con pip."
   ]
  },
  {
   "cell_type": "markdown",
   "id": "799b181b-4dac-4c0e-ab23-f94d30d49425",
   "metadata": {},
   "source": [
    "`$ git clone https://github.com/facebookresearch/fastText.git`\n",
    "\n",
    "`$ cd fastText`\n",
    "\n",
    "`$ sudo pip install .`\n",
    "\n",
    "`$ # or :`\n",
    "\n",
    "`$ sudo python setup.py install`"
   ]
  },
  {
   "cell_type": "markdown",
   "id": "8d2e0b14-4df6-4db8-9a4b-7b990ce09d8e",
   "metadata": {},
   "source": [
    "`$ sudo python setup.py install`"
   ]
  },
  {
   "cell_type": "markdown",
   "id": "1e028c1e-e1bc-487f-861e-5df7a0733d3b",
   "metadata": {},
   "source": [
    "Para instalar con conda."
   ]
  },
  {
   "cell_type": "markdown",
   "id": "f3e5362f-1672-4355-b580-d9fb98046773",
   "metadata": {},
   "source": [
    "`$ conda install -c conda-forge fasttext`"
   ]
  },
  {
   "cell_type": "markdown",
   "id": "ace4727b-3cbe-4032-ba2e-54c3c28c09eb",
   "metadata": {},
   "source": [
    "Si todo va bien, el siguiente comando debería funcionar:"
   ]
  },
  {
   "cell_type": "code",
   "execution_count": 1,
   "id": "6c6ae491-f39c-4961-b113-da6e7f762f3f",
   "metadata": {},
   "outputs": [],
   "source": [
    "import fasttext as ft"
   ]
  },
  {
   "cell_type": "code",
   "execution_count": 2,
   "id": "8af209fc-d056-4592-b42d-c048fe45f544",
   "metadata": {},
   "outputs": [
    {
     "name": "stdout",
     "output_type": "stream",
     "text": [
      "Help on module fasttext.FastText in fasttext:\n",
      "\n",
      "NAME\n",
      "    fasttext.FastText\n",
      "\n",
      "DESCRIPTION\n",
      "    # Copyright (c) 2017-present, Facebook, Inc.\n",
      "    # All rights reserved.\n",
      "    #\n",
      "    # This source code is licensed under the MIT license found in the\n",
      "    # LICENSE file in the root directory of this source tree.\n",
      "\n",
      "FUNCTIONS\n",
      "    cbow(*kargs, **kwargs)\n",
      "    \n",
      "    eprint(*args, **kwargs)\n",
      "    \n",
      "    load_model(path)\n",
      "        Load a model given a filepath and return a model object.\n",
      "    \n",
      "    read_args(arg_list, arg_dict, arg_names, default_values)\n",
      "    \n",
      "    skipgram(*kargs, **kwargs)\n",
      "    \n",
      "    supervised(*kargs, **kwargs)\n",
      "    \n",
      "    tokenize(text)\n",
      "        Given a string of text, tokenize it and return a list of tokens\n",
      "    \n",
      "    train_supervised(*kargs, **kwargs)\n",
      "        Train a supervised model and return a model object.\n",
      "        \n",
      "        input must be a filepath. The input text does not need to be tokenized\n",
      "        as per the tokenize function, but it must be preprocessed and encoded\n",
      "        as UTF-8. You might want to consult standard preprocessing scripts such\n",
      "        as tokenizer.perl mentioned here: http://www.statmt.org/wmt07/baseline.html\n",
      "        \n",
      "        The input file must must contain at least one label per line. For an\n",
      "        example consult the example datasets which are part of the fastText\n",
      "        repository such as the dataset pulled by classification-example.sh.\n",
      "    \n",
      "    train_unsupervised(*kargs, **kwargs)\n",
      "        Train an unsupervised model and return a model object.\n",
      "        \n",
      "        input must be a filepath. The input text does not need to be tokenized\n",
      "        as per the tokenize function, but it must be preprocessed and encoded\n",
      "        as UTF-8. You might want to consult standard preprocessing scripts such\n",
      "        as tokenizer.perl mentioned here: http://www.statmt.org/wmt07/baseline.html\n",
      "        \n",
      "        The input field must not contain any labels or use the specified label prefix\n",
      "        unless it is ok for those words to be ignored. For an example consult the\n",
      "        dataset pulled by the example script word-vector-example.sh, which is\n",
      "        part of the fastText repository.\n",
      "\n",
      "DATA\n",
      "    BOW = '<'\n",
      "    EOS = '</s>'\n",
      "    EOW = '>'\n",
      "    absolute_import = _Feature((2, 5, 0, 'alpha', 1), (3, 0, 0, 'alpha', 0...\n",
      "    displayed_errors = {}\n",
      "    division = _Feature((2, 2, 0, 'alpha', 2), (3, 0, 0, 'alpha', 0), 1310...\n",
      "    print_function = _Feature((2, 6, 0, 'alpha', 2), (3, 0, 0, 'alpha', 0)...\n",
      "    unicode_literals = _Feature((2, 6, 0, 'alpha', 2), (3, 0, 0, 'alpha', ...\n",
      "    unsupervised_default = {'autotuneDuration': 300, 'autotuneMetric': 'f1...\n",
      "\n",
      "FILE\n",
      "    /home/kamilo44/anaconda3/envs/word2vec/lib/python3.10/site-packages/fasttext/FastText.py\n",
      "\n",
      "\n"
     ]
    }
   ],
   "source": [
    "help(ft.FastText)"
   ]
  },
  {
   "cell_type": "code",
   "execution_count": 3,
   "id": "24a512bd-4a33-4d46-ab5f-d0614584be60",
   "metadata": {},
   "outputs": [
    {
     "data": {
      "text/plain": [
       "['BOW',\n",
       " 'EOS',\n",
       " 'EOW',\n",
       " 'FastText',\n",
       " '__builtins__',\n",
       " '__cached__',\n",
       " '__doc__',\n",
       " '__file__',\n",
       " '__loader__',\n",
       " '__name__',\n",
       " '__package__',\n",
       " '__path__',\n",
       " '__spec__',\n",
       " 'absolute_import',\n",
       " 'cbow',\n",
       " 'division',\n",
       " 'load_model',\n",
       " 'print_function',\n",
       " 'skipgram',\n",
       " 'supervised',\n",
       " 'tokenize',\n",
       " 'train_supervised',\n",
       " 'train_unsupervised',\n",
       " 'unicode_literals']"
      ]
     },
     "execution_count": 3,
     "metadata": {},
     "output_type": "execute_result"
    }
   ],
   "source": [
    "dir(ft)"
   ]
  },
  {
   "cell_type": "markdown",
   "id": "ea770254-4538-4833-b3d5-aacc32289670",
   "metadata": {},
   "source": [
    "Como podemos observar, contamos con dos modelos: **no supervisado** y **supervisado**."
   ]
  },
  {
   "cell_type": "markdown",
   "id": "43191687-e2e1-4312-a1c7-6329dbf1ce5a",
   "metadata": {},
   "source": [
    "Veamos como funcionan."
   ]
  },
  {
   "cell_type": "markdown",
   "id": "7a0a7033-485e-4466-b954-e0f8303aed4c",
   "metadata": {},
   "source": [
    "## <span style=\"color:#4361EE\">Modelo No Supervisado</span>"
   ]
  },
  {
   "cell_type": "markdown",
   "id": "5977c7fb-b8a6-4a41-817a-5b7c22b5067d",
   "metadata": {},
   "source": [
    "Para este ejemplo de juguete, usemos los poemas de Daniel."
   ]
  },
  {
   "cell_type": "markdown",
   "id": "35a9f3f4-9374-45bb-8658-d09174a549ac",
   "metadata": {},
   "source": [
    "## <span style=\"color:#4361EE\">Uso del Modelo (Ejemplo de juguete)</span>"
   ]
  },
  {
   "cell_type": "code",
   "execution_count": 4,
   "id": "28ea8200-868e-4886-af1a-33f230aee5d0",
   "metadata": {},
   "outputs": [
    {
     "name": "stderr",
     "output_type": "stream",
     "text": [
      "Read 0M words\n",
      "Number of words:  184\n",
      "Number of labels: 0\n",
      "Progress: 100.0% words/sec/thread:  160087 lr:  0.000000 avg.loss:  4.119813 ETA:   0h 0m 0s\n"
     ]
    }
   ],
   "source": [
    "model = ft.train_unsupervised('../Datos/FastText/Poemas_Todo.txt')"
   ]
  },
  {
   "cell_type": "markdown",
   "id": "593a0f9d-71f7-4c0f-9b7e-cc9c4fe2b378",
   "metadata": {},
   "source": [
    "Veamos que tiene el modelo por dentro:"
   ]
  },
  {
   "cell_type": "code",
   "execution_count": 5,
   "id": "dad67c80-bdbe-43fb-b3a0-da1b9d0b5007",
   "metadata": {},
   "outputs": [
    {
     "data": {
      "text/plain": [
       "['__class__',\n",
       " '__contains__',\n",
       " '__delattr__',\n",
       " '__dict__',\n",
       " '__dir__',\n",
       " '__doc__',\n",
       " '__eq__',\n",
       " '__format__',\n",
       " '__ge__',\n",
       " '__getattribute__',\n",
       " '__getitem__',\n",
       " '__gt__',\n",
       " '__hash__',\n",
       " '__init__',\n",
       " '__init_subclass__',\n",
       " '__le__',\n",
       " '__lt__',\n",
       " '__module__',\n",
       " '__ne__',\n",
       " '__new__',\n",
       " '__reduce__',\n",
       " '__reduce_ex__',\n",
       " '__repr__',\n",
       " '__setattr__',\n",
       " '__sizeof__',\n",
       " '__str__',\n",
       " '__subclasshook__',\n",
       " '__weakref__',\n",
       " '_labels',\n",
       " '_words',\n",
       " 'bucket',\n",
       " 'dim',\n",
       " 'epoch',\n",
       " 'f',\n",
       " 'get_analogies',\n",
       " 'get_dimension',\n",
       " 'get_input_matrix',\n",
       " 'get_input_vector',\n",
       " 'get_label_id',\n",
       " 'get_labels',\n",
       " 'get_line',\n",
       " 'get_meter',\n",
       " 'get_nearest_neighbors',\n",
       " 'get_output_matrix',\n",
       " 'get_sentence_vector',\n",
       " 'get_subword_id',\n",
       " 'get_subwords',\n",
       " 'get_word_id',\n",
       " 'get_word_vector',\n",
       " 'get_words',\n",
       " 'is_quantized',\n",
       " 'label',\n",
       " 'labels',\n",
       " 'loss',\n",
       " 'lr',\n",
       " 'lrUpdateRate',\n",
       " 'maxn',\n",
       " 'minCount',\n",
       " 'minCountLabel',\n",
       " 'minn',\n",
       " 'neg',\n",
       " 'predict',\n",
       " 'pretrainedVectors',\n",
       " 'quantize',\n",
       " 'save_model',\n",
       " 'set_args',\n",
       " 'set_matrices',\n",
       " 't',\n",
       " 'test',\n",
       " 'test_label',\n",
       " 'thread',\n",
       " 'verbose',\n",
       " 'wordNgrams',\n",
       " 'words',\n",
       " 'ws']"
      ]
     },
     "execution_count": 5,
     "metadata": {},
     "output_type": "execute_result"
    }
   ],
   "source": [
    "dir(model)"
   ]
  },
  {
   "cell_type": "code",
   "execution_count": 6,
   "id": "1c5dea40-2f7d-46f9-a6f4-8b5e2cafc71d",
   "metadata": {},
   "outputs": [
    {
     "name": "stdout",
     "output_type": "stream",
     "text": [
      "['</s>', 'y', 'de', 'que', 'la', 'el', 'en', 'las', 'con', 'los', 'por', 'un', 'se', 'tu', 'del', 'a', 'una', 'no', 'mi', 'te', 'es', 'me', 'como', 'su', 'mis', 'para', 'sin', 'tus', 'entre', 'porque', 'más', 'lo', 'sus', 'nos', 'noche', 'ese', 'cada', 'hasta', 'pero', 'al', 'todo', 'manos', 'Y', 'cielo', 'cuerpo', 'día', 'ojos', 'ni', 'sueño', 'cuando', 'son', 'ser', 'qué', 'le', 'o', 'Me', 'Te', 'labios', 'ya', 'palabras', 'cuerpos', 'luna', 'cosas', 'si', 'mundo', 'vida', 'eres', 'mujer', 'sobre', 'esa', 'sólo', 'donde', 'este', 'toda', 'sueños', 'jamás', 'En', 'piel,', 'amor', 'e', 'Es', 'siempre', 'Ese', 'va', 'hay', 'visto', 'tan', 'he', 'gusta', 'sueños,', 'lleno', 'imagen', 'contra', 'mar', 'dos', 'Yo', 'He', 'rostro', 'La', 'noche,', 'pasión', 'nuestra', 'quien', 'deseo', 'ha', 'nubes', 'puedo', 'frío', 'abismo', 'alma', 'aire', 'lejos', 'profundo', 'éste', 'volando', 'ésta', 'aún', 'dulce', 'colores', 'cara', 'mismo', 'música', 'El', 'vez', 'letras', 'formas', 'apenas', 'ojos,', 'piel', 'dónde', 'desde', 'ante', 'mirando', 'tiempo', 'veces', 'somos', 'así', 'hacia', 'besos', 'brisa', 'entonces', 'nuestro', 'misma', 'esperar', 'A', 'tí', 'algún', 'busco', 'frase', 'suaves', 'No', 'Déjame', 'tí,', 'agua', 'luces', 'yo', 'mí', 'emociones', 'sonido', 'dame', 'casi', 'Un', 'soy', 'ideas', 'veo', 'mano', 'permanente', 'caricias', 'mientras', 'hace', 'Vivo', 'luz', 'polvo', 'esperando', 'lugar', 'quiero', 'fue', 'seres', 'sol', 'sirve', 'bajo', 'ver', 'colores,', 'brazos,']\n"
     ]
    }
   ],
   "source": [
    "print(model.words)"
   ]
  },
  {
   "cell_type": "code",
   "execution_count": 7,
   "id": "da5a5320-6c21-4f56-9cbe-a5376958174c",
   "metadata": {},
   "outputs": [
    {
     "data": {
      "text/plain": [
       "184"
      ]
     },
     "execution_count": 7,
     "metadata": {},
     "output_type": "execute_result"
    }
   ],
   "source": [
    "len(model.words)"
   ]
  },
  {
   "cell_type": "code",
   "execution_count": 8,
   "id": "0bd75fcc-d16a-44bb-8113-04e3ae579552",
   "metadata": {},
   "outputs": [
    {
     "data": {
      "text/plain": [
       "array([-2.9915192e-03,  6.1537456e-03, -1.4034220e-03, -3.1447851e-03,\n",
       "        6.5046158e-03,  6.3317292e-03, -4.7094910e-03, -2.2418629e-03,\n",
       "        8.9668510e-03,  3.7645306e-03,  1.1709495e-03, -4.1423173e-04,\n",
       "        1.1809296e-03,  7.6887463e-03, -5.0663548e-03, -2.6360496e-03,\n",
       "       -2.4895363e-03,  6.5870688e-04, -6.3768635e-04, -4.5736264e-03,\n",
       "        7.8637415e-04,  2.5391274e-03,  1.4487669e-03, -3.1825944e-03,\n",
       "        4.1096332e-03, -2.6797096e-03,  3.3247815e-03, -2.0180657e-03,\n",
       "       -2.3057070e-03,  6.2383553e-03, -3.3086950e-03,  9.1557787e-04,\n",
       "       -2.5833468e-03, -4.4707041e-03, -7.4041933e-03, -1.6959464e-04,\n",
       "        2.6579399e-04, -3.3056703e-03, -2.7136332e-03, -5.1288940e-03,\n",
       "        2.5471854e-03,  6.5117264e-03,  1.0773963e-03,  3.2331774e-03,\n",
       "       -1.1536902e-03, -1.2664184e-03,  1.4104240e-03,  1.7512472e-03,\n",
       "       -2.9278880e-03,  2.1206345e-03, -5.8301939e-03,  8.1454283e-03,\n",
       "       -2.8221782e-03,  9.3944912e-04, -5.5266015e-04, -1.3883370e-03,\n",
       "       -2.5896325e-03, -1.8255336e-03,  4.7894926e-03,  4.0634926e-03,\n",
       "       -8.9492340e-04,  1.2722204e-03,  8.2706660e-03,  3.5643117e-03,\n",
       "        1.3190003e-03, -7.8531599e-04, -4.7107846e-03, -2.4487945e-04,\n",
       "        1.1668667e-03,  2.2225548e-03, -5.0277500e-03,  5.6342948e-03,\n",
       "        3.9650025e-03, -1.9630000e-03, -3.3481636e-03, -5.0008314e-04,\n",
       "        8.0325464e-03,  3.2758093e-03,  2.5901776e-03, -1.7692804e-03,\n",
       "        2.3431431e-04,  2.4051766e-03,  7.8140227e-03, -2.1617804e-03,\n",
       "       -1.0061418e-03, -6.3644876e-03,  9.8578166e-06,  3.9936425e-03,\n",
       "       -2.1687883e-03, -1.7485102e-03,  9.3181934e-03,  4.0333248e-03,\n",
       "        5.8220313e-03, -6.3418946e-03,  3.4331819e-03, -5.0268858e-03,\n",
       "        5.8542588e-03,  1.3561558e-03, -9.1600913e-04, -1.1510290e-03],\n",
       "      dtype=float32)"
      ]
     },
     "execution_count": 8,
     "metadata": {},
     "output_type": "execute_result"
    }
   ],
   "source": [
    "soy_vector = model.get_word_vector(\"soy\")\n",
    "soy_vector"
   ]
  },
  {
   "cell_type": "code",
   "execution_count": 9,
   "id": "c07ed896-c93e-4e36-ad25-1f1a82c608ac",
   "metadata": {},
   "outputs": [
    {
     "data": {
      "text/plain": [
       "(100,)"
      ]
     },
     "execution_count": 9,
     "metadata": {},
     "output_type": "execute_result"
    }
   ],
   "source": [
    "soy_vector.shape"
   ]
  },
  {
   "cell_type": "code",
   "execution_count": 10,
   "id": "23e7dd18-88e8-4270-9fd5-a5156560688b",
   "metadata": {},
   "outputs": [],
   "source": [
    "model.save_model(\"../Datos/FastText/Poemas.bin\")"
   ]
  },
  {
   "cell_type": "code",
   "execution_count": 11,
   "id": "89f7fb4e-0834-4e1f-b024-0f8e9ac9c17c",
   "metadata": {},
   "outputs": [
    {
     "name": "stderr",
     "output_type": "stream",
     "text": [
      "Warning : `load_model` does not return WordVectorModel or SupervisedModel any more, but a `FastText` object which is very similar.\n"
     ]
    }
   ],
   "source": [
    "model = ft.load_model(\"../Datos/FastText/Poemas.bin\")"
   ]
  },
  {
   "cell_type": "markdown",
   "id": "3fed4f54-3e74-489a-bc29-88a934b310ea",
   "metadata": {},
   "source": [
    "Por defecto, el modelo entrenado es *Skipgram*, pero también tenemos disponible la arquitectura *CBOW*."
   ]
  },
  {
   "cell_type": "markdown",
   "id": "007e969f-e4d4-47fa-b5c6-4fdb0e62a0b4",
   "metadata": {},
   "source": [
    "<figure>\n",
    "<center>\n",
    "<img src=\"https://raw.githubusercontent.com/AprendizajeProfundo/Libro-Fundamentos/main/Tratamiento_de_Lenguaje_Natural/Imagenes/cbo_vs_skipgram.png\" width=\"600\" height=\"600\" align=\"center\"/>\n",
    "</center>\n",
    "</figure>\n",
    "\n",
    "Fuente: [FastText, Word Representations](https://fasttext.cc/docs/en/unsupervised-tutorial.html)"
   ]
  },
  {
   "cell_type": "code",
   "execution_count": 12,
   "id": "9b18a727-05e4-489d-94a9-ad10191dbf05",
   "metadata": {},
   "outputs": [],
   "source": [
    "# model_cbow = fasttext.train_unsupervised('../Datos/FastText/Poemas_Todo.txt', \"cbow\")"
   ]
  },
  {
   "cell_type": "markdown",
   "id": "8567ad9d-265c-4547-b8ab-daa9d5fffad2",
   "metadata": {},
   "source": [
    "En palabras de Facebook,\n",
    "\n",
    "***In practice, we observe that skipgram models works better with subword information than cbow.***"
   ]
  },
  {
   "cell_type": "markdown",
   "id": "c5f2fddb-a296-487e-b4f2-979387ca43ed",
   "metadata": {},
   "source": [
    "### <span style=\"color:#4CC9F0\">Jugando con los Parámetros</span>"
   ]
  },
  {
   "cell_type": "markdown",
   "id": "8f09f0c5-f2cc-4de4-9052-f88541bfa0f0",
   "metadata": {},
   "source": [
    "Dependiendo del problema, puede ser que los parámetros por defecto no sean los más adecuados.\n",
    "\n",
    "Para conocer todos los parámetros de FastText, podemos ingresar [aquí](https://fasttext.cc/docs/en/python-module.html#train_unsupervised-parameters).\n",
    "\n",
    "Por ejemplo, modifiquemos los parámetros **mínimos** y **máximos** de lo n-gramas permitidos, la **dimensión** del vector, las **epochs** y la **frecuencia** mínima de palabras:"
   ]
  },
  {
   "cell_type": "code",
   "execution_count": 13,
   "id": "ddba46b5-f09c-4a9e-871c-d007359879df",
   "metadata": {},
   "outputs": [],
   "source": [
    "import fasttext as ft"
   ]
  },
  {
   "cell_type": "code",
   "execution_count": 14,
   "id": "172df83d-30c9-4212-98f1-f9ce4d9e7cc2",
   "metadata": {},
   "outputs": [
    {
     "name": "stderr",
     "output_type": "stream",
     "text": [
      "Read 0M words\n",
      "Number of words:  846\n",
      "Number of labels: 0\n",
      "Progress: 100.0% words/sec/thread:   80280 lr:  0.000000 avg.loss:  3.529274 ETA:   0h 0m 0s\n"
     ]
    }
   ],
   "source": [
    "model = ft.train_unsupervised('../Datos/FastText/Poemas_Todo.txt', minCount=2, minn=2, maxn=5, dim=300)"
   ]
  },
  {
   "cell_type": "markdown",
   "id": "dd52a9ea-2b7a-4ddc-a007-57e8338c8a47",
   "metadata": {},
   "source": [
    "Verifiquemos la longitud de las palabras:"
   ]
  },
  {
   "cell_type": "code",
   "execution_count": 15,
   "id": "dd4f71e5-5220-4283-aae0-176f056a3647",
   "metadata": {},
   "outputs": [
    {
     "data": {
      "text/plain": [
       "(300,)"
      ]
     },
     "execution_count": 15,
     "metadata": {},
     "output_type": "execute_result"
    }
   ],
   "source": [
    "model.get_word_vector(\"soy\").shape"
   ]
  },
  {
   "cell_type": "markdown",
   "id": "77a92f92-2b66-4adb-87fd-d424558379bf",
   "metadata": {},
   "source": [
    "### <span style=\"color:#4CC9F0\">Palabras vecinas más cercanas</span>"
   ]
  },
  {
   "cell_type": "markdown",
   "id": "ba27aa9c-16e0-48c6-9cf4-767c0a191323",
   "metadata": {},
   "source": [
    "Como cada palabra en el corpus tiene un vector asociado, podemos obtener palabras cercanas usando la similaridad de coseno:"
   ]
  },
  {
   "cell_type": "code",
   "execution_count": 16,
   "id": "2b11bc88-da13-4066-9d20-6e629c022b46",
   "metadata": {},
   "outputs": [
    {
     "data": {
      "text/plain": [
       "[(0.9999990463256836, 'sueños'),\n",
       " (0.9999988675117493, 'sueño,'),\n",
       " (0.9999987483024597, 'sueños,'),\n",
       " (0.9999985098838806, 'cielo'),\n",
       " (0.9999985098838806, 'pequeño'),\n",
       " (0.9999983906745911, 'suerte'),\n",
       " (0.9999983906745911, 'pensamientos'),\n",
       " (0.9999983310699463, 'pequeña'),\n",
       " (0.9999983310699463, 'pensamiento,'),\n",
       " (0.9999982118606567, 'canto,'),\n",
       " (0.9999982118606567, 'cielo,'),\n",
       " (0.999998152256012, 'mano'),\n",
       " (0.999998152256012, 'manera'),\n",
       " (0.999998152256012, 'lienzo'),\n",
       " (0.999998152256012, 'suelo,'),\n",
       " (0.999998152256012, 'estar,'),\n",
       " (0.9999980330467224, 'miradas'),\n",
       " (0.9999980330467224, 'viento,'),\n",
       " (0.9999980330467224, 'controlado'),\n",
       " (0.9999980330467224, 'venido')]"
      ]
     },
     "execution_count": 16,
     "metadata": {},
     "output_type": "execute_result"
    }
   ],
   "source": [
    " model.get_nearest_neighbors('sueño',k=20)"
   ]
  },
  {
   "cell_type": "markdown",
   "id": "91401eda-3484-4ba6-8c3e-8f382a349943",
   "metadata": {},
   "source": [
    "### <span style=\"color:#4CC9F0\">Visualización de Embeddings de Palabras</span>"
   ]
  },
  {
   "cell_type": "code",
   "execution_count": 17,
   "id": "b5b603df-f16d-4994-8d32-f90408dae67d",
   "metadata": {},
   "outputs": [
    {
     "data": {
      "image/png": "[encoded data removed]",
      "text/plain": [
       "<Figure size 1800x700 with 1 Axes>"
      ]
     },
     "metadata": {},
     "output_type": "display_data"
    }
   ],
   "source": [
    "from sklearn.decomposition import PCA\n",
    "import numpy as np\n",
    "import matplotlib.pyplot as plt\n",
    "\n",
    "p = model.get_nearest_neighbors('sueño',k=15)\n",
    "similar_words = [x[1] for x in p]\n",
    "wvs = np.array([model.get_word_vector(sw) for sw in similar_words])\n",
    "\n",
    "pca = PCA(n_components=2)\n",
    "P = pca.fit_transform(wvs)\n",
    "labels = similar_words\n",
    "\n",
    "plt.figure(figsize=(18, 7))\n",
    "plt.scatter(P[:, 0], P[:, 1], c='lightgreen', edgecolors='b')\n",
    "plt.title('Visualización con PCA')\n",
    "\n",
    "eps = 0.5e12*np.finfo(float).eps\n",
    "for label, x, y in zip(labels, P[:, 0], P[:, 1]):\n",
    "    plt.annotate(label, xy=(x+eps, y+eps), xytext=(0, 0), textcoords='offset points')"
   ]
  },
  {
   "cell_type": "code",
   "execution_count": 18,
   "id": "466fcaea-5b9f-4d7e-bbca-4b99dc73776d",
   "metadata": {},
   "outputs": [
    {
     "data": {
      "image/png": "[encoded data removed]",
      "text/plain": [
       "<Figure size 1800x700 with 1 Axes>"
      ]
     },
     "metadata": {},
     "output_type": "display_data"
    }
   ],
   "source": [
    "%matplotlib tk\n",
    "%matplotlib inline\n",
    "# visualize embeddings\n",
    "from sklearn.manifold import TSNE\n",
    "\n",
    "p = model.get_nearest_neighbors('sueño',k=15)\n",
    "similar_words = [x[1] for x in p]\n",
    "wvs = np.array([model.get_word_vector(sw) for sw in similar_words])\n",
    "\n",
    "tsne = TSNE(n_components=2, random_state=200, n_iter=5000, perplexity=2,learning_rate='auto',init='pca')\n",
    "P = tsne.fit_transform(wvs)\n",
    "labels = similar_words\n",
    "\n",
    "plt.figure(figsize=(18, 7))\n",
    "plt.scatter(P[:, 0], P[:, 1], c='lightgreen', edgecolors='b')\n",
    "plt.title('Visualización con TSNE')\n",
    "\n",
    "eps = 1e16*np.finfo(float).eps\n",
    "for label, x, y in zip(labels, P[:, 0], P[:, 1]):\n",
    "    plt.annotate(label, xy=(x+eps, y+eps), xytext=(0, 0), textcoords='offset points')"
   ]
  },
  {
   "cell_type": "markdown",
   "id": "a86ae769-7e23-44fd-9265-47c946670a16",
   "metadata": {},
   "source": [
    "### <span style=\"color:#4CC9F0\">Visualización de Embeddings de Textos</span>"
   ]
  },
  {
   "cell_type": "code",
   "execution_count": 19,
   "id": "e25cf6dc-38e4-421a-b11e-c9cb4f3ab69f",
   "metadata": {},
   "outputs": [
    {
     "data": {
      "image/png": "[encoded data removed]",
      "text/plain": [
       "<Figure size 1800x700 with 1 Axes>"
      ]
     },
     "metadata": {},
     "output_type": "display_data"
    }
   ],
   "source": [
    "textos = ['Esta mañana está muy soleada',\n",
    "         'Petro jamás ganará',\n",
    "         'Fico jamás ganará la presidencia',\n",
    "         'No quiero ir a votar',\n",
    "         'Quiero ir a votar',\n",
    "         'Me gusta el sol',\n",
    "         'Aprendizaje Profundo dominará el mundo']\n",
    "\n",
    "wvs = np.array([model.get_sentence_vector(t) for t in textos])\n",
    "\n",
    "pca = PCA(n_components=2)\n",
    "P = pca.fit_transform(wvs)\n",
    "labels = textos\n",
    "\n",
    "plt.figure(figsize=(18, 7))\n",
    "plt.scatter(P[:, 0], P[:, 1], c='red', edgecolors='k')\n",
    "plt.title('Visualización con PCA')\n",
    "\n",
    "eps = 1e11*np.finfo(float).eps\n",
    "for label, x, y in zip(labels, P[:, 0], P[:, 1]):\n",
    "    plt.annotate(label, xy=(x+eps, y+eps), xytext=(0, 0), textcoords='offset points')\n",
    "    "
   ]
  },
  {
   "cell_type": "code",
   "execution_count": 20,
   "id": "6abf8876-0b6a-4b82-aeec-c0dfef13863c",
   "metadata": {},
   "outputs": [
    {
     "data": {
      "image/png": "[encoded data removed]",
      "text/plain": [
       "<Figure size 1800x700 with 1 Axes>"
      ]
     },
     "metadata": {},
     "output_type": "display_data"
    }
   ],
   "source": [
    "textos = ['Esta mañana está muy soleada',\n",
    "         'Petro jamás ganará',\n",
    "         'Fico jamás ganará la presidencia',\n",
    "         'No quiero ir a votar',\n",
    "         'Quiero ir a votar',\n",
    "         'Me gusta el sol',\n",
    "         'Aprendizaje Profundo dominará el mundo']\n",
    "\n",
    "wvs = np.array([model.get_sentence_vector(t) for t in textos])\n",
    "\n",
    "tsne = TSNE(n_components=2, random_state=200, n_iter=5000, perplexity=2,learning_rate='auto',init='pca')\n",
    "P = tsne.fit_transform(wvs)\n",
    "labels = textos\n",
    "\n",
    "plt.figure(figsize=(18, 7))\n",
    "plt.scatter(P[:, 0], P[:, 1], c='r', edgecolors='k')\n",
    "plt.title('Visualización con TSNE')\n",
    "\n",
    "eps = 1e16*np.finfo(float).eps\n",
    "for label, x, y in zip(labels, P[:, 0], P[:, 1]):\n",
    "    plt.annotate(label, xy=(x+eps, y+eps), xytext=(0, 0), textcoords='offset points')"
   ]
  },
  {
   "cell_type": "markdown",
   "id": "a4395285-fa7d-4b82-867a-502d79aeee27",
   "metadata": {},
   "source": [
    "### <span style=\"color:#4CC9F0\">Usando Modelos Pre-entrados en Español</span>"
   ]
  },
  {
   "cell_type": "code",
   "execution_count": 21,
   "id": "58412399-a9a9-4b57-bc2d-8edd8c9ea402",
   "metadata": {},
   "outputs": [],
   "source": [
    "# Descargar modelo\n",
    "#import fasttext.util as ftu\n",
    "#ftu.download_model('es', if_exists='ignore')"
   ]
  },
  {
   "cell_type": "code",
   "execution_count": 22,
   "id": "e348d864-1f03-42c7-a9d4-85951d7a0efd",
   "metadata": {},
   "outputs": [
    {
     "name": "stderr",
     "output_type": "stream",
     "text": [
      "Warning : `load_model` does not return WordVectorModel or SupervisedModel any more, but a `FastText` object which is very similar.\n"
     ]
    }
   ],
   "source": [
    "import fasttext as ft\n",
    "\n",
    "model_es = ft.load_model('../Datos/FastText/cc.es.300.bin')"
   ]
  },
  {
   "cell_type": "code",
   "execution_count": 23,
   "id": "d1da4237-3d07-4163-8401-e61f4b9d4e7f",
   "metadata": {},
   "outputs": [
    {
     "data": {
      "text/plain": [
       "[(0.7171677947044373, 'sueños'),\n",
       " (0.7092401385307312, 'sueno'),\n",
       " (0.6959096789360046, 'sueño.El'),\n",
       " (0.6859577298164368, 'sueño.Y'),\n",
       " (0.6825155019760132, 'Sueño'),\n",
       " (0.6815561652183533, 'sueño.La'),\n",
       " (0.6758346557617188, 'sueño.Pero'),\n",
       " (0.6724787950515747, 'sueño.A'),\n",
       " (0.6669973134994507, 'sueño.Es'),\n",
       " (0.6650846600532532, 'sueñoUn'),\n",
       " (0.6573185920715332, 'elsueño'),\n",
       " (0.6529608964920044, 'sueño.Un'),\n",
       " (0.6516568064689636, 'sueñ'),\n",
       " (0.6469879746437073, 'sueño.En'),\n",
       " (0.6467815637588501, 'sueñoEn')]"
      ]
     },
     "execution_count": 23,
     "metadata": {},
     "output_type": "execute_result"
    }
   ],
   "source": [
    "#¡Requiere demasiado tiempo! No ejecutar en clase\n",
    "model_es.get_nearest_neighbors('sueño',k=15)"
   ]
  },
  {
   "cell_type": "code",
   "execution_count": 24,
   "id": "c3592835-98c1-40b1-904e-6eb178d87743",
   "metadata": {},
   "outputs": [
    {
     "data": {
      "image/png": "[encoded data removed]",
      "text/plain": [
       "<Figure size 1800x700 with 1 Axes>"
      ]
     },
     "metadata": {},
     "output_type": "display_data"
    }
   ],
   "source": [
    "textos = ['Esta mañana está muy soleada',\n",
    "         'Petro jamás ganará',\n",
    "         'Fico jamás ganará la presidencia',\n",
    "         'No quiero ir a votar',\n",
    "         'Quiero ir a votar',\n",
    "         'Me gusta el sol',\n",
    "         'Aprendizaje Profundo dominará el mundo']\n",
    "\n",
    "wvs = np.array([model_es.get_sentence_vector(t) for t in textos])\n",
    "\n",
    "pca = PCA(n_components=2)\n",
    "P = pca.fit_transform(wvs)\n",
    "labels = textos\n",
    "\n",
    "plt.figure(figsize=(18, 7))\n",
    "plt.scatter(P[:, 0], P[:, 1], c='red', edgecolors='k')\n",
    "plt.title('Visualización con PCA')\n",
    "\n",
    "eps = 1e13*np.finfo(float).eps\n",
    "for label, x, y in zip(labels, P[:, 0], P[:, 1]):\n",
    "    plt.annotate(label, xy=(x+eps, y+eps), xytext=(0, 0), textcoords='offset points')"
   ]
  },
  {
   "cell_type": "markdown",
   "id": "b7b98e4c-812c-4d21-b162-339fbd3db9c3",
   "metadata": {},
   "source": [
    "### <span style=\"color:#4CC9F0\">Re-entrenando Embedding</span>"
   ]
  },
  {
   "cell_type": "markdown",
   "id": "d0fc70cb-08f4-4177-96d3-655681f86ffc",
   "metadata": {},
   "source": [
    "### <span style=\"color:red\">¡NO CORRER DE MANERA LOCAL A MENOS QUE TENGA SUFICIENTE MEMORIA RAM!</span>"
   ]
  },
  {
   "cell_type": "code",
   "execution_count": 25,
   "id": "30f77aeb-0c4e-48c6-bf43-f978e372a847",
   "metadata": {},
   "outputs": [],
   "source": [
    "#model_transfer_learning_es = ft.train_unsupervised('Poemas_Todo.txt', minCount=2, minn=2, maxn=5, dim=300,pretrainedVectors='cc.es.300.vec')"
   ]
  },
  {
   "cell_type": "markdown",
   "id": "927c6505-0303-4251-9cf7-cb2b6a4c304f",
   "metadata": {},
   "source": [
    "### <span style=\"color:#4CC9F0\">Bonus: Transformers</span>"
   ]
  },
  {
   "cell_type": "code",
   "execution_count": 26,
   "id": "87a2d5d2-981d-4489-8800-a787e45de5eb",
   "metadata": {},
   "outputs": [
    {
     "name": "stderr",
     "output_type": "stream",
     "text": [
      "2022-12-06 14:00:22.407929: I tensorflow/core/platform/cpu_feature_guard.cc:193] This TensorFlow binary is optimized with oneAPI Deep Neural Network Library (oneDNN) to use the following CPU instructions in performance-critical operations:  SSE4.1 SSE4.2 AVX AVX2 FMA\n",
      "To enable them in other operations, rebuild TensorFlow with the appropriate compiler flags.\n"
     ]
    }
   ],
   "source": [
    "from sentence_transformers import SentenceTransformer\n",
    "\n",
    "model_tr_es = SentenceTransformer('hiiamsid/sentence_similarity_spanish_es')"
   ]
  },
  {
   "cell_type": "code",
   "execution_count": 27,
   "id": "7dc1092c-97c8-4176-90b7-ee87b40ca136",
   "metadata": {},
   "outputs": [
    {
     "data": {
      "image/png": "[encoded data removed]",
      "text/plain": [
       "<Figure size 1800x700 with 1 Axes>"
      ]
     },
     "metadata": {},
     "output_type": "display_data"
    }
   ],
   "source": [
    "textos = ['Esta mañana está muy soleada',\n",
    "         'Petro jamás ganará',\n",
    "         'Fico jamás ganará la presidencia',\n",
    "         'No quiero ir a votar',\n",
    "         'Quiero ir a votar',\n",
    "         'Me gusta el sol',\n",
    "         'Aprendizaje Profundo dominará el mundo']\n",
    "\n",
    "sent_vec = model_tr_es.encode(textos)\n",
    "\n",
    "pca = PCA(n_components=2)\n",
    "P = pca.fit_transform(sent_vec)\n",
    "labels = textos\n",
    "\n",
    "plt.figure(figsize=(18, 7))\n",
    "plt.scatter(P[:, 0], P[:, 1], c='red', edgecolors='k')\n",
    "plt.title('Visualización con PCA')\n",
    "eps = 1e11*np.finfo(float).eps\n",
    "for label, x, y in zip(labels, P[:, 0], P[:, 1]):\n",
    "    plt.annotate(label, xy=(x+eps, y+eps), xytext=(0, 0), textcoords='offset points')"
   ]
  },
  {
   "cell_type": "markdown",
   "id": "8bbb5a66-732a-4a31-aed0-4d6ac6f05395",
   "metadata": {},
   "source": [
    "## <span style=\"color:#4361EE\">Uso del Modelo (Wikipedia)</span>"
   ]
  },
  {
   "cell_type": "markdown",
   "id": "c6299f83-7766-4506-a020-523d36690e5d",
   "metadata": {},
   "source": [
    "Primero que todo, obtengamos los datos que necesitamos:"
   ]
  },
  {
   "cell_type": "code",
   "execution_count": null,
   "id": "e2b1fb31-ef67-4b10-83b6-e117e5c24bee",
   "metadata": {},
   "outputs": [],
   "source": [
    "# Corpus Completo\n",
    "#!wget https://dumps.wikimedia.org/enwiki/latest/enwiki-latest-pages-articles.xml.bz2 -o ../Datos/FastText/enwiki-latest-pages-articles.xml.bz2"
   ]
  },
  {
   "cell_type": "markdown",
   "id": "32c85b97-d4e2-439d-8ca8-cbe0acb83473",
   "metadata": {},
   "source": [
    "Para descargar."
   ]
  },
  {
   "cell_type": "code",
   "execution_count": 1,
   "id": "876f9562-5149-4a21-80d1-e91bd6b5cb04",
   "metadata": {},
   "outputs": [
    {
     "name": "stdout",
     "output_type": "stream",
     "text": [
      "--2022-12-06 14:35:31--  http://mattmahoney.net/dc/enwik9.zip\n",
      "Resolviendo mattmahoney.net (mattmahoney.net)... 67.195.197.24\n",
      "Conectando con mattmahoney.net (mattmahoney.net)[67.195.197.24]:80... conectado.\n",
      "Petición HTTP enviada, esperando respuesta... 200 OK\n",
      "Longitud: 322592222 (308M) [application/zip]\n",
      "Guardando como: ‘../Datos/FastText/enwik9.zip’\n",
      "\n",
      "enwik9.zip          100%[===================>] 307,65M   596KB/s    en 8m 48s  \n",
      "\n",
      "2022-12-06 14:44:18 (597 KB/s) - ‘../Datos/FastText/enwik9.zip’ guardado [322592222/322592222]\n",
      "\n"
     ]
    }
   ],
   "source": [
    "# Corpus 1 billón de bytes (1 Giga)\n",
    "!wget -c http://mattmahoney.net/dc/enwik9.zip -P ../Datos/FastText"
   ]
  },
  {
   "cell_type": "markdown",
   "id": "da452367-1674-41ee-a651-40da805a7f20",
   "metadata": {},
   "source": [
    "Como el formato viene en `.zip`, descomprimamos el contenido."
   ]
  },
  {
   "cell_type": "code",
   "execution_count": 2,
   "id": "be23243f-98e1-47de-9823-83588e400273",
   "metadata": {},
   "outputs": [
    {
     "name": "stdout",
     "output_type": "stream",
     "text": [
      "Archive:  ../Datos/FastText/enwik9.zip\n",
      "  inflating: ../Datos/FastText/enwik9  \n"
     ]
    }
   ],
   "source": [
    "!unzip ../Datos/FastText/enwik9.zip -d ../Datos/FastText"
   ]
  },
  {
   "cell_type": "markdown",
   "id": "3bf87ff6-60fa-4f3e-840c-6cd600aa9ef7",
   "metadata": {},
   "source": [
    "Miremos algo de información:"
   ]
  },
  {
   "cell_type": "code",
   "execution_count": 4,
   "id": "4c0162c6-11ea-4583-9bbc-391d4f31cde3",
   "metadata": {},
   "outputs": [
    {
     "name": "stdout",
     "output_type": "stream",
     "text": [
      "<mediawiki xmlns=\"http://www.mediawiki.org/xml/export-0.3/\" xmlns:xsi=\"http://www.w3.org/2001/XMLSchema-instance\" xsi:schemaLocation=\"http://www.mediawiki.org/xml/export-0.3/ http://www.mediawiki.org/xml/export-0.3.xsd\" version=\"0.3\" xml:lang=\"en\">\n",
      "  <siteinfo>\n",
      "    <sitename>Wikipedia</sitename>\n",
      "    <base>http://en.wikipedia.org/wiki/Main_Page</base>\n",
      "    <generator>MediaWiki 1.6alpha</generator>\n",
      "    <case>first-letter</case>\n",
      "      <namespaces>\n",
      "      <namespace key=\"-2\">Media</namespace>\n",
      "      <namespace key=\"-1\">Special</namespace>\n",
      "      <namespace key=\"0\" />\n",
      "      <namespace key=\"1\">Talk</namespace>\n",
      "      <namespace key=\"2\">User</namespace>\n",
      "      <namespace key=\"3\">User talk</namespace>\n",
      "      <namespace key=\"4\">Wikipedia</namespace>\n",
      "      <namespace key=\"5\">Wikipedia talk</namespace>\n",
      "      <namespace key=\"6\">Image</namespace>\n",
      "      <namespace key=\"7\">Image talk</namespace>\n",
      "      <namespace key=\"8\">MediaWiki</namespace>\n",
      "      <namespace key=\"9\">MediaWiki talk</namespace>\n",
      "      <namespace key=\"10\">Template</namespace>\n",
      "      <namespace key=\"11\">Template talk</namespace>\n",
      "      <namespace key=\"12\">Help</namespace>\n",
      "      <namespace key=\"13\">Help talk</namespace>\n",
      "      <namespace key=\"14\">Category</namespace>\n",
      "      <namespace key=\"15\">Category talk</namespace>\n",
      "      <namespace key=\"100\">Portal</namespace>\n",
      "      <namespace key=\"101\">Portal talk</namespace>\n",
      "    </namespaces>\n",
      "  </siteinfo>\n",
      "  <page>\n",
      "    <title>AaA</title>\n",
      "    <id>1</id>\n",
      "    <revision>\n",
      "      <id>32899315</id>\n",
      "      <timestamp>2005-12-27T18:46:47Z</timestamp>\n",
      "      <contributor>\n",
      "        <username>Jsmethers</username>\n",
      "        <id>614213</id>\n",
      "      </contributor>\n",
      "      <text xml:space=\"preserve\">#REDIRECT [[AAA]]</text>\n",
      "    </revision>\n",
      "  </page>\n",
      "  <page>\n",
      "    <title>AlgeriA</title>\n",
      "    <id>5</id>\n",
      "    <revision>\n",
      "      <id>18063769</id>\n",
      "      <timestamp>2005-07-03T11:13:13Z</timestamp>\n",
      "      <contributor>\n",
      "        <username>Docu</username>\n",
      "        <id>8029</id>\n",
      "      </contributor>\n",
      "      <minor />\n",
      "      <comment>addi"
     ]
    }
   ],
   "source": [
    "!head -c 2000 ../Datos/FastText/enwik9"
   ]
  },
  {
   "cell_type": "markdown",
   "id": "5094edac-085a-47c2-b367-52b9e9eaf898",
   "metadata": {},
   "source": [
    "Como un archivo `raw` de Wikipedia contiene toneladas de datos `HTML/XML`, preprocesaremos la información con el archivo `wikifil.pl`, escrito por Matt Mahoney y puede ser encontrado el script original en su paǵina personal [aquí](http://mattmahoney.net/).\n",
    "\n",
    "El script asociado funciona usando el lenguaje de programación `PERL`, y se ejecuta a continuación:"
   ]
  },
  {
   "cell_type": "markdown",
   "id": "f6f65a4c-ea83-46f3-9217-ec0e29654e0e",
   "metadata": {
    "tags": []
   },
   "source": [
    "### <span style=\"color:#4CC9F0\">Preprocesamiento</span>"
   ]
  },
  {
   "cell_type": "code",
   "execution_count": 5,
   "id": "0a1fdc73-71f1-4991-a543-83847c789ef3",
   "metadata": {},
   "outputs": [],
   "source": [
    "!perl ../Datos/FastText/wikifil.pl ../Datos/FastText/enwik9 > ../Datos/FastText/fil9"
   ]
  },
  {
   "cell_type": "markdown",
   "id": "f3b65f69-5e33-4439-8f9c-cf03f525218b",
   "metadata": {},
   "source": [
    "Veamos algo del resultado obtenido:"
   ]
  },
  {
   "cell_type": "code",
   "execution_count": 6,
   "id": "1e7627df-cb50-4e5e-9baf-03866ab32973",
   "metadata": {},
   "outputs": [
    {
     "name": "stdout",
     "output_type": "stream",
     "text": [
      "\n",
      "\n",
      "\n",
      "\n",
      "\n",
      "\n",
      "\n",
      " anarchism originated as a term of abuse first used against early working class radicals including the diggers of the english revolution and the sans culottes of the french revolution whilst the term is still used in a pejorative way to describe any act that used violent means to destroy the organization of society it has also been taken up as a positive label by self defined anarchists the word anarchism is derived from the greek without archons ruler chief king anarchism as a political philosophy is the belief that rulers are unnecessary and should be abolished although there are differing interpretations of what this means anarchism also refers to related social movements that advocate the elimination of authoritarian institutions particularly the state the word anarchy as most anarchists use it does not imply chaos nihilism or anomie but rather a harmonious anti authoritarian society in place of what are regarded as authoritarian political structures and coercive economic institutions anarchists advocate social relations based upon voluntary association of autonomous individuals mutual aid and self governance while anarchism is most easily defined by what it is against anarchists also offer positive visions of what they believe to be a truly free society however ideas about how an anarchist society might work vary considerably especially with respect to economics there is also disagreement about how a free society might be brought about origins and predecessors kropotkin and others argue that before recorded history human society was organized on anarchist principles most anthropologists follow kropotkin and engels in believing that hunter gatherer bands were egalitarian and lacked division of labour accumulated wealth or decreed law and had equal access to resources william godwin anarchists including the the anarchy organisation and rothbard find anarchist attitudes in taoism from ancient china kropotkin found similar ideas in stoic zeno of citium accor"
     ]
    }
   ],
   "source": [
    "!head -c 2000 ../Datos/FastText/fil9"
   ]
  },
  {
   "cell_type": "markdown",
   "id": "ac4d4f46-a27e-443a-8c81-aed718cab638",
   "metadata": {
    "tags": []
   },
   "source": [
    "### <span style=\"color:#4CC9F0\">Entrenando el modelo</span>"
   ]
  },
  {
   "cell_type": "code",
   "execution_count": 8,
   "id": "a0a7544f-8ea2-4868-b923-be908ee40f18",
   "metadata": {},
   "outputs": [
    {
     "name": "stderr",
     "output_type": "stream",
     "text": [
      "Read 124M words\n",
      "Number of words:  218317\n",
      "Number of labels: 0\n",
      "Progress: 100.0% words/sec/thread:   56197 lr:  0.000000 avg.loss:  0.216781 ETA:   0h 0m 0s  1.4% words/sec/thread:   49641 lr:  0.049316 avg.loss:  1.543388 ETA:   1h 8m49s  5.8% words/sec/thread:   50062 lr:  0.047084 avg.loss:  1.359655 ETA:   1h 5m 9s lr:  0.045896 avg.loss:  1.248041 ETA:   1h 2m57s 35.0% words/sec/thread:   57834 lr:  0.032524 avg.loss:  0.572978 ETA:   0h38m57s 49.1% words/sec/thread:   56928 lr:  0.025463 avg.loss:  0.424662 ETA:   0h30m59s 64.2% words/sec/thread:   57580 lr:  0.017904 avg.loss:  0.330968 ETA:   0h21m32s 70.2% words/sec/thread:   57243 lr:  0.014924 avg.loss:  0.306645 ETA:   0h18m 3s 73.5% words/sec/thread:   57568 lr:  0.013256 avg.loss:  0.295522 ETA:   0h15m57s words/sec/thread:   57590 lr:  0.012930 avg.loss:  0.292986 ETA:   0h15m33s 81.6% words/sec/thread:   56466 lr:  0.009189 avg.loss:  0.264740 ETA:   0h11m16s  55666 lr:  0.005210 avg.loss:  0.240521 ETA:   0h 6m29s  55883 lr:  0.004284 avg.loss:  0.236480 ETA:   0h 5m18s  0h 3m38s avg.loss:  0.216781 ETA:   0h 0m 0s\n"
     ]
    }
   ],
   "source": [
    "import fasttext as ft\n",
    "\n",
    "model = ft.train_unsupervised('../Datos/FastText/fil9')"
   ]
  },
  {
   "cell_type": "markdown",
   "id": "09a576c6-6d0c-45b9-a4e9-bd078fad6c1a",
   "metadata": {
    "tags": []
   },
   "source": [
    "### <span style=\"color:#4CC9F0\">Palabras más cercanas</span>"
   ]
  },
  {
   "cell_type": "code",
   "execution_count": 9,
   "id": "cbd8ebef-994f-47ee-a57d-3bb9b9442dbd",
   "metadata": {},
   "outputs": [
    {
     "data": {
      "text/plain": [
       "[(0.7883360981941223, 'spinach'),\n",
       " (0.7866020202636719, 'horseradish'),\n",
       " (0.7847450971603394, 'asparagales'),\n",
       " (0.777057409286499, 'cabbage'),\n",
       " (0.7723480463027954, 'paragus'),\n",
       " (0.7681422829627991, 'fennel'),\n",
       " (0.7676375508308411, 'cauliflower'),\n",
       " (0.7669931054115295, 'beetroot'),\n",
       " (0.7657454013824463, 'tomato'),\n",
       " (0.7642886638641357, 'sweetcorn')]"
      ]
     },
     "execution_count": 9,
     "metadata": {},
     "output_type": "execute_result"
    }
   ],
   "source": [
    "model.get_nearest_neighbors('asparagus')"
   ]
  },
  {
   "cell_type": "markdown",
   "id": "5f98a7aa-fe59-4f49-b7a3-e94e9707c695",
   "metadata": {},
   "source": [
    "### <span style=\"color:#4CC9F0\">Curiosidades</span>"
   ]
  },
  {
   "cell_type": "code",
   "execution_count": 10,
   "id": "ec0dbdc1-ad47-4fe1-8a19-ba775c45b550",
   "metadata": {},
   "outputs": [
    {
     "data": {
      "text/plain": [
       "[(0.8897929787635803, 'pidgeot'),\n",
       " (0.8873761296272278, 'pidge'),\n",
       " (0.8851649165153503, 'pidgeotto'),\n",
       " (0.7813879251480103, 'pidgeon'),\n",
       " (0.7753041982650757, 'pikachu'),\n",
       " (0.7404161691665649, 'pok'),\n",
       " (0.738344132900238, 'squirtle'),\n",
       " (0.736090898513794, 'charizard'),\n",
       " (0.7259549498558044, 'bulbasaur'),\n",
       " (0.7223019003868103, 'beedrill')]"
      ]
     },
     "execution_count": 10,
     "metadata": {},
     "output_type": "execute_result"
    }
   ],
   "source": [
    "model.get_nearest_neighbors('pidgey')"
   ]
  },
  {
   "cell_type": "markdown",
   "id": "1e6099ba-392c-49de-bdd7-76b0864a809c",
   "metadata": {},
   "source": [
    "### <span style=\"color:#4CC9F0\">Analogía de Palabras</span>"
   ]
  },
  {
   "cell_type": "code",
   "execution_count": 11,
   "id": "7d12bcb4-fa84-4c07-a309-58eedf7d616c",
   "metadata": {},
   "outputs": [
    {
     "data": {
      "text/plain": [
       "[(0.9012787342071533, 'paris'),\n",
       " (0.7519928216934204, 'louveciennes'),\n",
       " (0.7341665625572205, 'valenciennes'),\n",
       " (0.7329397201538086, 'maubourg'),\n",
       " (0.731248676776886, 'majorelle'),\n",
       " (0.7252530455589294, 'dubourg'),\n",
       " (0.7117913365364075, 'beaubourg'),\n",
       " (0.7111901640892029, 'bourges'),\n",
       " (0.7098060250282288, 'charlesbourg'),\n",
       " (0.7097921371459961, 'roissy')]"
      ]
     },
     "execution_count": 11,
     "metadata": {},
     "output_type": "execute_result"
    }
   ],
   "source": [
    "model.get_analogies(\"berlin\", \"germany\", \"france\")"
   ]
  },
  {
   "cell_type": "markdown",
   "id": "c5ac4298-2e20-4dbc-a143-bafaf1dd9577",
   "metadata": {
    "tags": []
   },
   "source": [
    "## <span style=\"color:#4361EE\">Modelo Supervisado</span>"
   ]
  },
  {
   "cell_type": "markdown",
   "id": "71474a8b-701d-495e-82ec-5422c48ad7ec",
   "metadata": {},
   "source": [
    "Para este ejemplo, usaremos el conjunto de datos de preguntas de [the cooking section of Stackexchange](https://cooking.stackexchange.com/):"
   ]
  },
  {
   "cell_type": "code",
   "execution_count": 14,
   "id": "dc311d87-61a1-4642-ba31-51066cf146c5",
   "metadata": {},
   "outputs": [
    {
     "name": "stdout",
     "output_type": "stream",
     "text": [
      "--2022-12-06 16:28:28--  https://dl.fbaipublicfiles.com/fasttext/data/cooking.stackexchange.tar.gz\n",
      "Resolviendo dl.fbaipublicfiles.com (dl.fbaipublicfiles.com)... 172.67.9.4, 104.22.75.142, 104.22.74.142, ...\n",
      "Conectando con dl.fbaipublicfiles.com (dl.fbaipublicfiles.com)[172.67.9.4]:443... conectado.\n",
      "Petición HTTP enviada, esperando respuesta... 200 OK\n",
      "Longitud: 457609 (447K) [application/x-tar]\n",
      "Guardando como: ‘../Datos/FastText/cooking.stackexchange.tar.gz’\n",
      "\n",
      "cooking.stackexchan 100%[===================>] 446,88K  1,05MB/s    en 0,4s    \n",
      "\n",
      "2022-12-06 16:28:29 (1,05 MB/s) - ‘../Datos/FastText/cooking.stackexchange.tar.gz’ guardado [457609/457609]\n",
      "\n",
      "cooking.stackexchange.id\n",
      "cooking.stackexchange.txt\n",
      "readme.txt\n"
     ]
    }
   ],
   "source": [
    "!wget https://dl.fbaipublicfiles.com/fasttext/data/cooking.stackexchange.tar.gz -P ../Datos/FastText/ && tar xvzf ../Datos/FastText/cooking.stackexchange.tar.gz"
   ]
  },
  {
   "cell_type": "code",
   "execution_count": 16,
   "id": "e2fec219-b87e-4442-82e0-cd0f1a198b28",
   "metadata": {},
   "outputs": [
    {
     "name": "stdout",
     "output_type": "stream",
     "text": [
      "__label__sauce __label__cheese How much does potato starch affect a cheese sauce recipe?\n",
      "__label__food-safety __label__acidity Dangerous pathogens capable of growing in acidic environments\n",
      "__label__cast-iron __label__stove How do I cover up the white spots on my cast iron stove?\n",
      "__label__restaurant Michelin Three Star Restaurant; but if the chef is not there\n",
      "__label__knife-skills __label__dicing Without knife skills, how can I quickly and accurately dice vegetables?\n",
      "__label__storage-method __label__equipment __label__bread What's the purpose of a bread box?\n",
      "__label__baking __label__food-safety __label__substitutions __label__peanuts how to seperate peanut oil from roasted peanuts at home?\n",
      "__label__chocolate American equivalent for British chocolate terms\n",
      "__label__baking __label__oven __label__convection Fan bake vs bake\n",
      "__label__sauce __label__storage-lifetime __label__acidity __label__mayonnaise Regulation and balancing of readymade packed mayonnaise and other sauces\n"
     ]
    }
   ],
   "source": [
    "!head ../Datos/FastText/cooking.stackexchange/cooking.stackexchange.txt"
   ]
  },
  {
   "cell_type": "code",
   "execution_count": 17,
   "id": "9a934f5a-4f85-4447-b5d7-4c3246fa0d34",
   "metadata": {},
   "outputs": [
    {
     "name": "stdout",
     "output_type": "stream",
     "text": [
      "  15404  169582 1401900 ../Datos/FastText/cooking.stackexchange/cooking.stackexchange.txt\n"
     ]
    }
   ],
   "source": [
    "!wc ../Datos/FastText/cooking.stackexchange/cooking.stackexchange.txt"
   ]
  },
  {
   "cell_type": "code",
   "execution_count": 18,
   "id": "8c5c4763-fd44-4ee9-a0d2-50ee151c89c2",
   "metadata": {},
   "outputs": [],
   "source": [
    "!head -n 12404 ../Datos/FastText/cooking.stackexchange/cooking.stackexchange.txt > ../Datos/FastText/cooking.stackexchange/cooking.train"
   ]
  },
  {
   "cell_type": "code",
   "execution_count": 19,
   "id": "dcf4affa-9e81-49a5-a3ae-dfaeaa82ccdf",
   "metadata": {},
   "outputs": [],
   "source": [
    "!tail -n 3000 ../Datos/FastText/cooking.stackexchange/cooking.stackexchange.txt > ../Datos/FastText/cooking.stackexchange/cooking.valid"
   ]
  },
  {
   "cell_type": "markdown",
   "id": "d65f1891-0752-4934-a12b-539a25fbfe6e",
   "metadata": {},
   "source": [
    "### <span style=\"color:#4CC9F0\">Uso del modelo</span>"
   ]
  },
  {
   "cell_type": "code",
   "execution_count": 20,
   "id": "504df596-824c-46ff-892f-3ab07f8c035e",
   "metadata": {},
   "outputs": [],
   "source": [
    "import fasttext as ft"
   ]
  },
  {
   "cell_type": "code",
   "execution_count": 22,
   "id": "d440246d-00a7-4a10-96e8-f2b0b0d353de",
   "metadata": {},
   "outputs": [
    {
     "name": "stderr",
     "output_type": "stream",
     "text": [
      "Read 0M words\n",
      "Number of words:  14543\n",
      "Number of labels: 735\n",
      "Progress: 100.0% words/sec/thread:   63247 lr:  0.000000 avg.loss: 10.038512 ETA:   0h 0m 0s-0.000001 avg.loss: 10.038512 ETA:   0h 0m 0s\n"
     ]
    }
   ],
   "source": [
    "model = ft.train_supervised(input=\"../Datos/FastText/cooking.stackexchange/cooking.train\")"
   ]
  },
  {
   "cell_type": "code",
   "execution_count": 23,
   "id": "e8271089-b258-4efb-9f56-83f50f6c99fd",
   "metadata": {},
   "outputs": [
    {
     "data": {
      "text/plain": [
       "(('__label__baking',), array([0.05860863]))"
      ]
     },
     "execution_count": 23,
     "metadata": {},
     "output_type": "execute_result"
    }
   ],
   "source": [
    "model.predict(\"Which baking dish is best to bake a banana bread ?\")"
   ]
  },
  {
   "cell_type": "code",
   "execution_count": 25,
   "id": "84dfcc5e-755a-4e27-8bed-f3ae16fc0eeb",
   "metadata": {},
   "outputs": [
    {
     "data": {
      "text/plain": [
       "(3000, 0.13033333333333333, 0.05636442266109269)"
      ]
     },
     "execution_count": 25,
     "metadata": {},
     "output_type": "execute_result"
    }
   ],
   "source": [
    "model.test(\"../Datos/FastText/cooking.stackexchange/cooking.valid\")"
   ]
  },
  {
   "cell_type": "markdown",
   "id": "789784af-a957-48fa-aa1d-ad810ab7a18a",
   "metadata": {
    "tags": []
   },
   "source": [
    "### <span style=\"color:#4CC9F0\">Mejorando el modelo</span>"
   ]
  },
  {
   "cell_type": "code",
   "execution_count": 26,
   "id": "75066d8b-9000-407b-b67d-4084702f4696",
   "metadata": {},
   "outputs": [],
   "source": [
    "!cat ../Datos/FastText/cooking.stackexchange/cooking.stackexchange.txt | sed -e \"s/\\([.\\!?,'/()]\\)/ \\1 /g\" | tr \"[:upper:]\" \"[:lower:]\" > ../Datos/FastText/cooking.stackexchange/cooking.preprocessed.txt\n",
    "!head -n 12404 ../Datos/FastText/cooking.stackexchange/cooking.preprocessed.txt > ../Datos/FastText/cooking.stackexchange/cooking.train\n",
    "!tail -n 3000 ../Datos/FastText/cooking.stackexchange/cooking.preprocessed.txt > ../Datos/FastText/cooking.stackexchange/cooking.valid"
   ]
  },
  {
   "cell_type": "code",
   "execution_count": 28,
   "id": "5a06841b-ea77-49c0-adf8-1d84d6e1a966",
   "metadata": {},
   "outputs": [
    {
     "name": "stderr",
     "output_type": "stream",
     "text": [
      "Read 0M words\n",
      "Number of words:  8952\n",
      "Number of labels: 735\n",
      "Progress: 100.0% words/sec/thread:   64063 lr:  0.000000 avg.loss:  9.948877 ETA:   0h 0m 0s\n"
     ]
    }
   ],
   "source": [
    "model = ft.train_supervised(input=\"../Datos/FastText/cooking.stackexchange/cooking.train\")"
   ]
  },
  {
   "cell_type": "code",
   "execution_count": 29,
   "id": "1fc38ec2-478f-4fac-8bb3-032ae0f13310",
   "metadata": {},
   "outputs": [
    {
     "data": {
      "text/plain": [
       "(3000, 0.16266666666666665, 0.0703474124261208)"
      ]
     },
     "execution_count": 29,
     "metadata": {},
     "output_type": "execute_result"
    }
   ],
   "source": [
    "model.test(\"../Datos/FastText/cooking.stackexchange/cooking.valid\")"
   ]
  },
  {
   "cell_type": "markdown",
   "id": "a85cf55c-1748-44f3-8a42-c1215b73bda8",
   "metadata": {},
   "source": [
    "### <span style=\"color:#4CC9F0\">Autotuning de parámetros</span>"
   ]
  },
  {
   "cell_type": "code",
   "execution_count": 30,
   "id": "34286ee7-65ab-42fc-b984-967d2187de86",
   "metadata": {},
   "outputs": [
    {
     "name": "stderr",
     "output_type": "stream",
     "text": [
      "Progress: 100.0% Trials:    9 Best score:  0.336520 ETA:   0h 0m 0s\n",
      "Training again with best arguments\n",
      "Read 0M words\n",
      "Number of words:  8952\n",
      "Number of labels: 735\n",
      "Progress: 100.0% words/sec/thread:   78519 lr:  0.000000 avg.loss:  4.578009 ETA:   0h 0m 0s\n"
     ]
    }
   ],
   "source": [
    "model = ft.train_supervised(input='../Datos/FastText/cooking.stackexchange/cooking.train', autotuneValidationFile='../Datos/FastText/cooking.stackexchange/cooking.valid')"
   ]
  },
  {
   "cell_type": "code",
   "execution_count": 31,
   "id": "88d56132-e967-4858-b769-a26d87b1cdef",
   "metadata": {},
   "outputs": [
    {
     "data": {
      "text/plain": [
       "(3000, 0.5583333333333333, 0.24145884388064004)"
      ]
     },
     "execution_count": 31,
     "metadata": {},
     "output_type": "execute_result"
    }
   ],
   "source": [
    "model.test(\"../Datos/FastText/cooking.stackexchange/cooking.valid\")"
   ]
  },
  {
   "cell_type": "markdown",
   "id": "43bc1e36-864e-461f-82c4-a2069da7adf9",
   "metadata": {},
   "source": [
    "## <span style=\"color:#4361EE\">Referencias</span> "
   ]
  },
  {
   "cell_type": "markdown",
   "id": "47e01e5e-00ae-4b98-b6d1-a828f9eca2fe",
   "metadata": {},
   "source": [
    "1. P. Bojanowski*, E. Grave*, A. Joulin, T. Mikolov, [Enriching Word Vectors with Subword Information](https://arxiv.org/pdf/1607.04606.pdf)\n",
    "2. A. Joulin, E. Grave, P. Bojanowski, T. Mikolov, [Bag of Tricks for Efficient Text Classification](https://arxiv.org/pdf/1607.01759.pdf)\n",
    "3. A. Joulin, E. Grave, P. Bojanowski, M. Douze, H. Jégou, T. Mikolov, [FastText.zip: Compressing text classification models](https://arxiv.org/pdf/1612.03651.pdf)"
   ]
  }
 ],
 "metadata": {
  "kernelspec": {
   "display_name": "Python 3 (ipykernel)",
   "language": "python",
   "name": "python3"
  },
  "language_info": {
   "codemirror_mode": {
    "name": "ipython",
    "version": 3
   },
   "file_extension": ".py",
   "mimetype": "text/x-python",
   "name": "python",
   "nbconvert_exporter": "python",
   "pygments_lexer": "ipython3",
   "version": "3.10.8"
  }
 },
 "nbformat": 4,
 "nbformat_minor": 5
}
