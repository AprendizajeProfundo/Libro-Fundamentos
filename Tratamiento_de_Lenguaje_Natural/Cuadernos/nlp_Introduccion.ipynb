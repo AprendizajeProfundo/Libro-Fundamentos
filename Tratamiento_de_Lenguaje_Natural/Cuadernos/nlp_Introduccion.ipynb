{
 "cells": [
  {
   "cell_type": "markdown",
   "metadata": {
    "tags": []
   },
   "source": [
    "# <span style=\"color:#F72585\"><center>Introducción al Procesamiento Superficial de Textos</center></span>"
   ]
  },
  {
   "cell_type": "markdown",
   "metadata": {},
   "source": [
    "<center>Latent Dirichlet Allocation - LDA</center>"
   ]
  },
  {
   "cell_type": "markdown",
   "metadata": {},
   "source": [
    "<figure>\n",
    "<center>\n",
    "<img src=\"https://raw.githubusercontent.com/AprendizajeProfundo/Libro-Fundamentos/main/Tratamiento_de_Lenguaje_Natural/Imagenes/library.jpg\" width=\"600\" height=\"600\" align=\"center\"/>\n",
    "</center>\n",
    "</figure>\n",
    "\n",
    "Fuente: [Pixabay](https://pixabay.com/es/photos/biblioteca-libros-educación-869061/)"
   ]
  },
  {
   "cell_type": "markdown",
   "metadata": {},
   "source": [
    "## <span style=\"color:#4361EE\">Introducción</span> "
   ]
  },
  {
   "cell_type": "markdown",
   "metadata": {},
   "source": [
    "Los humanos nos  comunicamos utilizando lenguajes naturales. Los lenguajes naturales difieren de los lenguajes de programación en que estos últimos siguen reglas sintácticas y semánticas extrictas, mientras que los primeros por su complejidad dependen del contexto.\n",
    "\n",
    "\n",
    "En general el análisis de textos tiene dos grandes subáreas: el análisis superficial de textos y el procesamiento del lenguaje natural.\n",
    "\n",
    "En esta lección nos ocupamos del análisis superficial de textos."
   ]
  },
  {
   "cell_type": "markdown",
   "metadata": {},
   "source": [
    "## <span style=\"color:#4361EE\">Análisis superficial de textos</span>"
   ]
  },
  {
   "cell_type": "markdown",
   "metadata": {},
   "source": [
    "Esta subárea se desarrolló primero, debido a que los problemas asociados al lenguaje natural en este caso son más simples. Se trata de técnicas en las cuales se busca encontrar los tópicos subyacentes en el texto. En este sentido, son modelos de tipo no supervisado y en consecuencia basados en técnicas de clasificación automática. \n",
    "\n",
    "Estas técnicas están orientadas a detectar clusters de palabras y documentos en grandes corpus de datos.\n",
    "\n",
    "Un documento es en este caso una unidad distinguible de otras en el corpus. Por ejemplo una respuesta abierta en una encuesta, un comentario en una revisión, un abstract de un documento, etc. \n",
    "\n",
    "Luego de omitir términos que se consideran que no aportan a la detección de tópicos (temáticas), usualmente conocidos como **palabras vacías** (*stop words*) y de otros procesos de preprocesamiento como lematización, recorte (*stemming*),  es común construir una matriz denominada documento-término (***dtm***).\n",
    "\n",
    "Esta matriz ***dtm*** presenta en las filas a cada uno de los documentos individuales del corpus y en las columnas a cada uno de los términos conservados en el análisis. Cada posición de la matriz contiene el número de veces que un término aparece en el documento. En algunos casos esta es una matriz binaria, en cuyo caso la *dtm* indica cuando un término aparece en un documento.\n",
    "\n",
    "La  ***dtm*** es la base de las técnicas conocidas genéricamente como **bolsa de palabras** (*word-bag*). El nombre deriva del hecho de que al organizar la *dtm*, el contexto de las palabras en cada documento se pierde."
   ]
  },
  {
   "cell_type": "markdown",
   "metadata": {},
   "source": [
    "## <span style=\"color:#4361EE\">Terminología general</span>"
   ]
  },
  {
   "cell_type": "markdown",
   "metadata": {},
   "source": [
    "### <span style=\"color:#4CC9F0\">Palabras o términos</span>"
   ]
  },
  {
   "cell_type": "markdown",
   "metadata": {},
   "source": [
    "La palabra es la unidad mínima de información  en el trabajo con lenguaje natural. \n",
    "\n",
    "Desde una perspectiva muy moderna las palabras son objetos que puede pensarse como puntos que están en un espacio de alta dimensión, de tal manera, que puntos cercanos en algún sentido de distancia corresponde a palabras que tienen una cercanía dentro de un universo de palabras considerado.\n",
    "\n",
    "La siguiente imagen corresponde a un conjunto de palabras de astrofísica, consideradas en un estudio de resumenes de artículos científicos. Este es un gráfico obtenido luego de un procesamiento, como lo que mostramos hoy, desarrollado por Montenegro y Montenegro usando una técnica de análisis basada en la teoría de respuesta al ítem multidimensional (*TRIM*).\n",
    "\n",
    "En este documento las palabaras se denotarán como $w_i,\\text{ para } i =1,2,\\ldots,k$."
   ]
  },
  {
   "cell_type": "markdown",
   "metadata": {},
   "source": [
    "<figure>\n",
    "<center>\n",
    "<img src=\"https://raw.githubusercontent.com/AprendizajeProfundo/Libro-Fundamentos/main/Tratamiento_de_Lenguaje_Natural/Imagenes/cluster_kmeans_10.png\" width=\"600\" height=\"600\" align=\"center\"/>\n",
    "</center>\n",
    "<figcaption>\n",
    "<p style=\"text-align:center\">Áreas del conocimiento en Astrofísica, a partir de artículos científicos.</p>\n",
    "</figcaption>\n",
    "</figure>\n",
    "Fuente: Alvaro Montenegro"
   ]
  },
  {
   "cell_type": "markdown",
   "metadata": {},
   "source": [
    "### <span style=\"color:#4CC9F0\">Documentos</span>"
   ]
  },
  {
   "cell_type": "markdown",
   "metadata": {},
   "source": [
    "Los documentos son los sujetos en los análisis textual superficial. Suponemos que se tiene un conjunto de documentos individuales, cada uno de los cuales se denotará por $\\mathbf{w}$. Se considera que un documento es una sucesión  de $N$ palabras. Así se tiene que un documento se denota como $\\mathbf{w} = \\{w_1,\\ldots,w_N \\}$."
   ]
  },
  {
   "cell_type": "markdown",
   "metadata": {},
   "source": [
    "### <span style=\"color:#4CC9F0\">Corpus</span>"
   ]
  },
  {
   "cell_type": "markdown",
   "metadata": {},
   "source": [
    "Un corpus es una colección de documentos en un problema particular."
   ]
  },
  {
   "cell_type": "markdown",
   "metadata": {},
   "source": [
    "### <span style=\"color:#4CC9F0\">Tópicos</span>"
   ]
  },
  {
   "cell_type": "markdown",
   "metadata": {},
   "source": [
    "Los tópicos son áreas latentes a las cuales están asociadas tanto las palabras como los documentos. Uno de los propósitos principales del análisis de textos es descubrir o poner en evidencia tales tópicos.\n",
    "\n",
    "La figura anterior muestra por ejemplo la presencia de 10 tópicos en el conjunto de documentos de astrofísica analizados."
   ]
  },
  {
   "cell_type": "markdown",
   "metadata": {},
   "source": [
    "## <span style=\"color:#4361EE\">Preprocesamiento de datos textuales</span> "
   ]
  },
  {
   "cell_type": "markdown",
   "metadata": {},
   "source": [
    "En lo que sigue, vamos a utilizar los términos *token* y *tokenizar*, que aún no son adoptados por la Real Academia de la Lengua, pero creemos que pronto lo serán, como tantos otros provenientes del inglés debido a su enorme utilización actual, por razón de los desarrollos científicos y tecnológicos. \n",
    "\n",
    "Realizaremos los siguientes pasos:\n",
    "    \n",
    "- **Tokenización**: divide el texto en oraciones y las oraciones en palabras. Ponga las palabras en minúsculas y elimine la puntuación.\n",
    "- Se **eliminan las palabras que tienen menos de 3 caracteres**.\n",
    "- Se eliminan todas las **palabras vacías**.\n",
    "- Las palabras se **lematizan**: las palabras en tercera persona se cambian a primera persona y los verbos en tiempo pasado y futuro se cambian a presente.\n",
    "- Las palabras se recortan (**stemming**): las palabras se reducen a su forma raíz.\n",
    "\n",
    "Usaremos las librerías `gensim` y `nltk` para hacer este trabajo."
   ]
  },
  {
   "cell_type": "markdown",
   "metadata": {},
   "source": [
    "### <span style=\"color:#4CC9F0\">Tokenización</span>"
   ]
  },
  {
   "cell_type": "markdown",
   "metadata": {},
   "source": [
    "Algunos términos que se utilizarán con frecuencia son:\n",
    "\n",
    "- **Corpus**: cuerpo del texto, singular. Corpora es el plural de corpus.\n",
    "- **Léxico**: palabras y sus significados.\n",
    "- **Token**: cada *entidad* que es parte de lo que sea que se dividió según las reglas que establecemos para el análisis. Por ejemplo, cada palabra es un token cuando una oración se tokeniza en palabras. Cada oración también puede ser un token, si ha convertido un párrafo en oraciones.\n",
    "\n",
    "Básicamente, tokenizar implica dividir oraciones y palabras del cuerpo del texto.\n",
    "\n",
    "Vea el siguiente ejemplo tomado de [Geek for Geeks](https://www.geeksforgeeks.org/tokenize-text-using-nltk-python/?ref=rp). Usamos la librería `nltk`."
   ]
  },
  {
   "cell_type": "markdown",
   "metadata": {},
   "source": [
    "### <span style=\"color:#4CC9F0\">Importa recursos de *nltk*</span>"
   ]
  },
  {
   "cell_type": "code",
   "execution_count": 1,
   "metadata": {},
   "outputs": [
    {
     "name": "stderr",
     "output_type": "stream",
     "text": [
      "[nltk_data] Downloading package punkt to /home/kamilo44/nltk_data...\n",
      "[nltk_data]   Package punkt is already up-to-date!\n",
      "[nltk_data] Downloading package stopwords to\n",
      "[nltk_data]     /home/kamilo44/nltk_data...\n",
      "[nltk_data]   Package stopwords is already up-to-date!\n",
      "[nltk_data] Downloading package wordnet to /home/kamilo44/nltk_data...\n",
      "[nltk_data]   Package wordnet is already up-to-date!\n"
     ]
    }
   ],
   "source": [
    "# importar la tokenización de palabras y oraciones existentes.\n",
    "# librerías\n",
    "\n",
    "import nltk\n",
    "\n",
    "# tokenizadores\n",
    "from nltk.tokenize import sent_tokenize, word_tokenize \n",
    "from nltk.tokenize import TweetTokenizer\n",
    "\n",
    "# diccionarios especiales para puntuación y palabras vacias\n",
    "nltk.download('punkt') # Manejo de puntuación\n",
    "nltk.download('stopwords') # Manejo de palabras vacías\n",
    "\n",
    "# wordnet es una gran base de datos léxica del inglés. \n",
    "# los sustantivos, verbos, adjetivos y adverbios se agrupan en conjuntos de sinónimos cognitivos(synsets).\n",
    "nltk.download('wordnet')\n",
    "\n",
    "from nltk.corpus import stopwords\n",
    "\n",
    "# lematizador basado en WordNet de nltk\n",
    "from nltk.stem import WordNetLemmatizer \n",
    "\n",
    "# stemmer de nltk. Raiz de las palabras\n",
    "# from nltk.stem import SnowballStemmer\n",
    "from nltk.stem import PorterStemmer "
   ]
  },
  {
   "cell_type": "markdown",
   "metadata": {},
   "source": [
    "### <span style=\"color:#4CC9F0\">Importa recursos de *gensim*</span>"
   ]
  },
  {
   "cell_type": "code",
   "execution_count": 2,
   "metadata": {},
   "outputs": [],
   "source": [
    "import gensim\n",
    "from gensim.parsing.preprocessing import STOPWORDS"
   ]
  },
  {
   "cell_type": "markdown",
   "metadata": {},
   "source": [
    "### <span style=\"color:#4CC9F0\">Ejemplo de tokenización</span>"
   ]
  },
  {
   "cell_type": "code",
   "execution_count": 3,
   "metadata": {
    "scrolled": true
   },
   "outputs": [
    {
     "name": "stdout",
     "output_type": "stream",
     "text": [
      "Tokenización por sentencias:\n",
      "\n",
      "Natural language processing (NLP) is a field of computer science, artificial intelligence and computational linguistics concerned with the interactions between computers and human (natural) languages, and, in particular, concerned with programming computers to fruitfully process large natural language corpora. \n",
      "\n",
      "Challenges in natural language processing frequently involve natural language understanding, natural language generation frequently from formal, machine-readable logical forms), connecting language and machine perception, managing human-computer dialog systems, or some combination thereof. \n",
      "\n",
      "There are 365 days usually. \n",
      "\n",
      "This year is 2020. \n",
      "\n",
      "Tokenización por sentencias:\n",
      "\n",
      "['Natural language processing (NLP) is a field of computer science, artificial intelligence and computational linguistics concerned with the interactions between computers and human (natural) languages, and, in particular, concerned with programming computers to fruitfully process large natural language corpora.', 'Challenges in natural language processing frequently involve natural language understanding, natural language generation frequently from formal, machine-readable logical forms), connecting language and machine perception, managing human-computer dialog systems, or some combination thereof.', 'There are 365 days usually.', 'This year is 2020.']\n",
      "\n",
      " Tokenización por palabras:\n",
      "Natural language processing ( NLP ) is a field of computer science , artificial intelligence and computational linguistics concerned with the interactions between computers and human ( natural ) languages , and , in particular , concerned with programming computers to fruitfully process large natural language corpora . Challenges in natural language processing frequently involve natural language understanding , natural language generation frequently from formal , machine-readable logical forms ) , connecting language and machine perception , managing human-computer dialog systems , or some combination thereof . There are 365 days usually . This year is 2020 . \n",
      "\n",
      " Tokenización por palabras:\n",
      "['Natural', 'language', 'processing', '(', 'NLP', ')', 'is', 'a', 'field', 'of', 'computer', 'science', ',', 'artificial', 'intelligence', 'and', 'computational', 'linguistics', 'concerned', 'with', 'the', 'interactions', 'between', 'computers', 'and', 'human', '(', 'natural', ')', 'languages', ',', 'and', ',', 'in', 'particular', ',', 'concerned', 'with', 'programming', 'computers', 'to', 'fruitfully', 'process', 'large', 'natural', 'language', 'corpora', '.', 'Challenges', 'in', 'natural', 'language', 'processing', 'frequently', 'involve', 'natural', 'language', 'understanding', ',', 'natural', 'language', 'generation', 'frequently', 'from', 'formal', ',', 'machine-readable', 'logical', 'forms', ')', ',', 'connecting', 'language', 'and', 'machine', 'perception', ',', 'managing', 'human-computer', 'dialog', 'systems', ',', 'or', 'some', 'combination', 'thereof', '.', 'There', 'are', '365', 'days', 'usually', '.', 'This', 'year', 'is', '2020', '.']\n",
      "\n",
      " Tokenización por caracteres:\n",
      "N a t u r a l   l a n g u a g e   p r o c e s s i n g   ( N L P )   i s   a   f i e l d   o f   c o m p u t e r   s c i e n c e ,   a r t i f i c i a l   i n t e l l i g e n c e   a n d   c o m p u t a t i o n a l   l i n g u i s t i c s   c o n c e r n e d   w i t h   t h e   i n t e r a c t i o n s   b e t w e e n   c o m p u t e r s   a n d   h u m a n   ( n a t u r a l )   l a n g u a g e s ,   a n d ,   i n   p a r t i c u l a r ,   c o n c e r n e d   w i t h   p r o g r a m m i n g   c o m p u t e r s   t o   f r u i t f u l l y   p r o c e s s   l a r g e   n a t u r a l   l a n g u a g e   c o r p o r a .   C h a l l e n g e s   i n   n a t u r a l   l a n g u a g e   p r o c e s s i n g   f r e q u e n t l y   i n v o l v e   n a t u r a l   l a n g u a g e   u n d e r s t a n d i n g ,   n a t u r a l   l a n g u a g e   g e n e r a t i o n   f r e q u e n t l y   f r o m   f o r m a l ,   m a c h i n e - r e a d a b l e   l o g i c a l   f o r m s ) ,   c o n n e c t i n g   l a n g u a g e   a n d   m a c h i n e   p e r c e p t i o n ,   m a n a g i n g   h u m a n - c o m p u t e r   d i a l o g   s y s t e m s ,   o r   s o m e   c o m b i n a t i o n   t h e r e o f .   T h e r e   a r e   3 6 5   d a y s   u s u a l l y .   T h i s   y e a r   i s   2 0 2 0 . \n",
      "\n",
      " Tokenización por caracteres:\n",
      "['N', 'a', 't', 'u', 'r', 'a', 'l', ' ', 'l', 'a', 'n', 'g', 'u', 'a', 'g', 'e', ' ', 'p', 'r', 'o', 'c', 'e', 's', 's', 'i', 'n', 'g', ' ', '(', 'N', 'L', 'P', ')', ' ', 'i', 's', ' ', 'a', ' ', 'f', 'i', 'e', 'l', 'd', ' ', 'o', 'f', ' ', 'c', 'o', 'm', 'p', 'u', 't', 'e', 'r', ' ', 's', 'c', 'i', 'e', 'n', 'c', 'e', ',', ' ', 'a', 'r', 't', 'i', 'f', 'i', 'c', 'i', 'a', 'l', ' ', 'i', 'n', 't', 'e', 'l', 'l', 'i', 'g', 'e', 'n', 'c', 'e', ' ', 'a', 'n', 'd', ' ', 'c', 'o', 'm', 'p', 'u', 't', 'a', 't', 'i', 'o', 'n', 'a', 'l', ' ', 'l', 'i', 'n', 'g', 'u', 'i', 's', 't', 'i', 'c', 's', ' ', 'c', 'o', 'n', 'c', 'e', 'r', 'n', 'e', 'd', ' ', 'w', 'i', 't', 'h', ' ', 't', 'h', 'e', ' ', 'i', 'n', 't', 'e', 'r', 'a', 'c', 't', 'i', 'o', 'n', 's', ' ', 'b', 'e', 't', 'w', 'e', 'e', 'n', ' ', 'c', 'o', 'm', 'p', 'u', 't', 'e', 'r', 's', ' ', 'a', 'n', 'd', ' ', 'h', 'u', 'm', 'a', 'n', ' ', '(', 'n', 'a', 't', 'u', 'r', 'a', 'l', ')', ' ', 'l', 'a', 'n', 'g', 'u', 'a', 'g', 'e', 's', ',', ' ', 'a', 'n', 'd', ',', ' ', 'i', 'n', ' ', 'p', 'a', 'r', 't', 'i', 'c', 'u', 'l', 'a', 'r', ',', ' ', 'c', 'o', 'n', 'c', 'e', 'r', 'n', 'e', 'd', ' ', 'w', 'i', 't', 'h', ' ', 'p', 'r', 'o', 'g', 'r', 'a', 'm', 'm', 'i', 'n', 'g', ' ', 'c', 'o', 'm', 'p', 'u', 't', 'e', 'r', 's', ' ', 't', 'o', ' ', 'f', 'r', 'u', 'i', 't', 'f', 'u', 'l', 'l', 'y', ' ', 'p', 'r', 'o', 'c', 'e', 's', 's', ' ', 'l', 'a', 'r', 'g', 'e', ' ', 'n', 'a', 't', 'u', 'r', 'a', 'l', ' ', 'l', 'a', 'n', 'g', 'u', 'a', 'g', 'e', ' ', 'c', 'o', 'r', 'p', 'o', 'r', 'a', '.', ' ', 'C', 'h', 'a', 'l', 'l', 'e', 'n', 'g', 'e', 's', ' ', 'i', 'n', ' ', 'n', 'a', 't', 'u', 'r', 'a', 'l', ' ', 'l', 'a', 'n', 'g', 'u', 'a', 'g', 'e', ' ', 'p', 'r', 'o', 'c', 'e', 's', 's', 'i', 'n', 'g', ' ', 'f', 'r', 'e', 'q', 'u', 'e', 'n', 't', 'l', 'y', ' ', 'i', 'n', 'v', 'o', 'l', 'v', 'e', ' ', 'n', 'a', 't', 'u', 'r', 'a', 'l', ' ', 'l', 'a', 'n', 'g', 'u', 'a', 'g', 'e', ' ', 'u', 'n', 'd', 'e', 'r', 's', 't', 'a', 'n', 'd', 'i', 'n', 'g', ',', ' ', 'n', 'a', 't', 'u', 'r', 'a', 'l', ' ', 'l', 'a', 'n', 'g', 'u', 'a', 'g', 'e', ' ', 'g', 'e', 'n', 'e', 'r', 'a', 't', 'i', 'o', 'n', ' ', 'f', 'r', 'e', 'q', 'u', 'e', 'n', 't', 'l', 'y', ' ', 'f', 'r', 'o', 'm', ' ', 'f', 'o', 'r', 'm', 'a', 'l', ',', ' ', 'm', 'a', 'c', 'h', 'i', 'n', 'e', '-', 'r', 'e', 'a', 'd', 'a', 'b', 'l', 'e', ' ', 'l', 'o', 'g', 'i', 'c', 'a', 'l', ' ', 'f', 'o', 'r', 'm', 's', ')', ',', ' ', 'c', 'o', 'n', 'n', 'e', 'c', 't', 'i', 'n', 'g', ' ', 'l', 'a', 'n', 'g', 'u', 'a', 'g', 'e', ' ', 'a', 'n', 'd', ' ', 'm', 'a', 'c', 'h', 'i', 'n', 'e', ' ', 'p', 'e', 'r', 'c', 'e', 'p', 't', 'i', 'o', 'n', ',', ' ', 'm', 'a', 'n', 'a', 'g', 'i', 'n', 'g', ' ', 'h', 'u', 'm', 'a', 'n', '-', 'c', 'o', 'm', 'p', 'u', 't', 'e', 'r', ' ', 'd', 'i', 'a', 'l', 'o', 'g', ' ', 's', 'y', 's', 't', 'e', 'm', 's', ',', ' ', 'o', 'r', ' ', 's', 'o', 'm', 'e', ' ', 'c', 'o', 'm', 'b', 'i', 'n', 'a', 't', 'i', 'o', 'n', ' ', 't', 'h', 'e', 'r', 'e', 'o', 'f', '.', ' ', 'T', 'h', 'e', 'r', 'e', ' ', 'a', 'r', 'e', ' ', '3', '6', '5', ' ', 'd', 'a', 'y', 's', ' ', 'u', 's', 'u', 'a', 'l', 'l', 'y', '.', ' ', 'T', 'h', 'i', 's', ' ', 'y', 'e', 'a', 'r', ' ', 'i', 's', ' ', '2', '0', '2', '0', '.']\n"
     ]
    }
   ],
   "source": [
    "text = \"Natural language processing (NLP) is a field \" \\\n",
    "       + \"of computer science, artificial intelligence \" \\\n",
    "       + \"and computational linguistics concerned with \" \\\n",
    "       + \"the interactions between computers and human \" \\\n",
    "       + \"(natural) languages, and, in particular, \" \\\n",
    "       + \"concerned with programming computers to \" \\\n",
    "       + \"fruitfully process large natural language \" \\\n",
    "       + \"corpora. Challenges in natural language \" \\\n",
    "       + \"processing frequently involve natural \" \\\n",
    "       + \"language understanding, natural language \" \\\n",
    "       + \"generation frequently from formal, machine\" \\\n",
    "       + \"-readable logical forms), connecting language \" \\\n",
    "       + \"and machine perception, managing human-\" \\\n",
    "       + \"computer dialog systems, or some combination \" \\\n",
    "       + \"thereof. There are 365 days usually. \" \\\n",
    "       + \"This year is 2020.\"\n",
    "\n",
    "# sentencias\n",
    "print('Tokenización por sentencias:\\n')\n",
    "sentences = sent_tokenize(text)\n",
    "for sentence in sentences:\n",
    "    print(sentence,'\\n')\n",
    "print('Tokenización por sentencias:\\n')\n",
    "print(sent_tokenize(text)) \n",
    "\n",
    "# palabras\n",
    "tokens = word_tokenize(text)\n",
    "print('\\n Tokenización por palabras:')\n",
    "for token in tokens:\n",
    "    print(token, end =' ')\n",
    "print('')\n",
    "print('\\n Tokenización por palabras:')\n",
    "print(word_tokenize(text))\n",
    "\n",
    "# caracteres\n",
    "chars = [char for char in text]\n",
    "print('\\n Tokenización por caracteres:')\n",
    "for char in chars:\n",
    "    print(char, end =' ')\n",
    "print('')\n",
    "print('\\n Tokenización por caracteres:')\n",
    "print(chars)\n"
   ]
  },
  {
   "cell_type": "markdown",
   "metadata": {},
   "source": [
    "### <span style=\"color:#4CC9F0\">Tokenización de tweets</span>"
   ]
  },
  {
   "cell_type": "code",
   "execution_count": 4,
   "metadata": {},
   "outputs": [
    {
     "data": {
      "text/plain": [
       "['This',\n",
       " 'is',\n",
       " 'a',\n",
       " 'cooool',\n",
       " '#dummysmiley',\n",
       " ':',\n",
       " ':-)',\n",
       " ':-P',\n",
       " '<3',\n",
       " 'and',\n",
       " 'some',\n",
       " 'arrows',\n",
       " '<',\n",
       " '>',\n",
       " '->',\n",
       " '<--']"
      ]
     },
     "execution_count": 4,
     "metadata": {},
     "output_type": "execute_result"
    }
   ],
   "source": [
    "tknzr = TweetTokenizer()\n",
    "s0 = \"This is a cooool #dummysmiley: :-) :-P <3 and some arrows < > -> <--\"\n",
    "tknzr.tokenize(s0)"
   ]
  },
  {
   "cell_type": "markdown",
   "metadata": {},
   "source": [
    "### <span style=\"color:#4CC9F0\">Tokenizar tweets usando  los parámetros *strip_handles* y *reduce_len*</span>"
   ]
  },
  {
   "cell_type": "code",
   "execution_count": 5,
   "metadata": {},
   "outputs": [
    {
     "name": "stdout",
     "output_type": "stream",
     "text": [
      "[':', 'This', 'is', 'waaayyy', 'too', 'much', 'for', 'you', '!', '!', '!']\n"
     ]
    }
   ],
   "source": [
    "tknzr = TweetTokenizer(strip_handles=True, reduce_len=True)\n",
    "s1 = '@remy: This is waaaaayyyy too much for you!!!!!!'\n",
    "tw = tknzr.tokenize(s1)\n",
    "print(tw)"
   ]
  },
  {
   "cell_type": "markdown",
   "metadata": {},
   "source": [
    "### <span style=\"color:#4CC9F0\">Cambiar texto a minúsculas</span>"
   ]
  },
  {
   "cell_type": "code",
   "execution_count": 6,
   "metadata": {},
   "outputs": [
    {
     "name": "stdout",
     "output_type": "stream",
     "text": [
      "['natural', 'language', 'processing', '(', 'nlp', ')', 'is', 'a', 'field', 'of', 'computer', 'science', ',', 'artificial', 'intelligence', 'and', 'computational', 'linguistics', 'concerned', 'with', 'the', 'interactions', 'between', 'computers', 'and', 'human', '(', 'natural', ')', 'languages', ',', 'and', ',', 'in', 'particular', ',', 'concerned', 'with', 'programming', 'computers', 'to', 'fruitfully', 'process', 'large', 'natural', 'language', 'corpora', '.', 'challenges', 'in', 'natural', 'language', 'processing', 'frequently', 'involve', 'natural', 'language', 'understanding', ',', 'natural', 'language', 'generation', 'frequently', 'from', 'formal', ',', 'machine-readable', 'logical', 'forms', ')', ',', 'connecting', 'language', 'and', 'machine', 'perception', ',', 'managing', 'human-computer', 'dialog', 'systems', ',', 'or', 'some', 'combination', 'thereof', '.', 'there', 'are', '365', 'days', 'usually', '.', 'this', 'year', 'is', '2020', '.']\n"
     ]
    }
   ],
   "source": [
    "tokens[:] = [token.lower() for token in tokens]\n",
    "print(tokens)"
   ]
  },
  {
   "cell_type": "markdown",
   "metadata": {},
   "source": [
    "### <span style=\"color:#4CC9F0\">Remueve carateres especiales - expresiones regulares</span>"
   ]
  },
  {
   "cell_type": "markdown",
   "metadata": {},
   "source": [
    "Las expresiones regulares son objetos matemáticos que permiten interpretar trozos de texto. Son claves en la construcción de los lenguajes de programación. Aquí vamos a usar la [librería re](https://docs.python.org/3/library/re.html) de Python creada para el manejo de expresiones regulares. Les sugerimos este [tutorial sobre re](https://www.w3schools.com/python/python_regex.asp) en Python para aprender a manejar la librería.\n",
    "\n",
    "La usaremos aquí para eliminar algunos símbolos: los números y los paréntesis por ejemplo. No siempre es el caso."
   ]
  },
  {
   "cell_type": "code",
   "execution_count": 7,
   "metadata": {},
   "outputs": [
    {
     "name": "stdout",
     "output_type": "stream",
     "text": [
      "['natural', 'language', 'processing', '', 'nlp', '', 'is', 'a', 'field', 'of', 'computer', 'science', ',', 'artificial', 'intelligence', 'and', 'computational', 'linguistics', 'concerned', 'with', 'the', 'interactions', 'between', 'computers', 'and', 'human', '', 'natural', '', 'languages', ',', 'and', ',', 'in', 'particular', ',', 'concerned', 'with', 'programming', 'computers', 'to', 'fruitfully', 'process', 'large', 'natural', 'language', 'corpora', '.', 'challenges', 'in', 'natural', 'language', 'processing', 'frequently', 'involve', 'natural', 'language', 'understanding', ',', 'natural', 'language', 'generation', 'frequently', 'from', 'formal', ',', 'machine-readable', 'logical', 'forms', '', ',', 'connecting', 'language', 'and', 'machine', 'perception', ',', 'managing', 'human-computer', 'dialog', 'systems', ',', 'or', 'some', 'combination', 'thereof', '.', 'there', 'are', '', 'days', 'usually', '.', 'this', 'year', 'is', '', '.']\n"
     ]
    }
   ],
   "source": [
    "import re\n",
    "# digitos\n",
    "tokens = [re.sub(r'\\d+', '',token) for token in tokens]\n",
    "# paréntesis\n",
    "tokens = [re.sub(r'[()]', '',token) for token in tokens]\n",
    "print(tokens)\n"
   ]
  },
  {
   "cell_type": "markdown",
   "metadata": {},
   "source": [
    "### <span style=\"color:#4CC9F0\">Remueve palabras de longitud menor o igual a tres</span>"
   ]
  },
  {
   "cell_type": "code",
   "execution_count": 8,
   "metadata": {},
   "outputs": [
    {
     "name": "stdout",
     "output_type": "stream",
     "text": [
      "['natural', 'language', 'processing', 'field', 'computer', 'science', 'artificial', 'intelligence', 'computational', 'linguistics', 'concerned', 'with', 'interactions', 'between', 'computers', 'human', 'natural', 'languages', 'particular', 'concerned', 'with', 'programming', 'computers', 'fruitfully', 'process', 'large', 'natural', 'language', 'corpora', 'challenges', 'natural', 'language', 'processing', 'frequently', 'involve', 'natural', 'language', 'understanding', 'natural', 'language', 'generation', 'frequently', 'from', 'formal', 'machine-readable', 'logical', 'forms', 'connecting', 'language', 'machine', 'perception', 'managing', 'human-computer', 'dialog', 'systems', 'some', 'combination', 'thereof', 'there', 'days', 'usually', 'this', 'year']\n"
     ]
    }
   ],
   "source": [
    "tokens_4 = []\n",
    "for token in tokens:\n",
    "    if len(token) > 3:\n",
    "        tokens_4.append(token)\n",
    "tokens = tokens_4\n",
    "\n",
    "print(tokens)"
   ]
  },
  {
   "cell_type": "markdown",
   "metadata": {},
   "source": [
    "### <span style=\"color:#4CC9F0\">Palabras vacías (*stop words*)</span>"
   ]
  },
  {
   "cell_type": "markdown",
   "metadata": {},
   "source": [
    "Las palabras vacías o *stop words* son palabras que en el lenguaje común se consideran que no aportan al contenido semántico de los textos. En la técnica de bolsa de palabras son omitidos, debido a que causan clasificaciones confusas. En realidad el concepto de palabras vacías depende del contexto de utlización de las técnicas. \n",
    "\n",
    "El siguiente ejemplo muestra el diccionario de palabras vacías del inglés contenidas en la librería `gensim`."
   ]
  },
  {
   "cell_type": "code",
   "execution_count": 9,
   "metadata": {},
   "outputs": [
    {
     "name": "stdout",
     "output_type": "stream",
     "text": [
      "['hereby', 'those', 'namely', 'keep', 'since', 'your', 'ourselves', 'is', 'inc', 'nothing', 'became', 'third', 'behind', 'these', 'often', 'so', 'whereupon', 'already', 'per', 'top', 'even', 'ever', 'hers', 'everywhere', 'always', 'how', 'done', 'will', 'himself', 'or', 'might', 'over', 'something', 'thereupon', 'everyone', 'not', 'get', 'becomes', 'had', 'who', 'must', 'among', 'his', 'up', 'perhaps', 'last', 'to', 'whenever', 'she', 'whoever', 'towards', 'either', 'four', 'seems', 'am', 'else', 'it', 'whither', 'when', 'find', 'for', 'thence', 'didn', 'thus', 'if', 'together', 'back', 'bill', 'where', 'ie', 'using', 'bottom', 'name', 'many', 'was', 'may', 'various', 'on', 'did', 'thin', 'full', 'they', 'almost', 'system', 'elsewhere', 'all', 'but', 'thick', 'both', 'after', 'off', 'serious', 'cry', 'from', 'than', 'show', 'nevertheless', 'while', 'although', 'please', 'hasnt', 'toward', 'ours', 'indeed', 'seemed', 'latterly', 'another', 'thru', 'fill', 'latter', 'the', 'nine', 'through', 'just', 'well', 'whence', 'really', 'kg', 'its', 'do', 'throughout', 'further', 'never', 'same', 'couldnt', 'their', 'should', 'that', 'doesn', 're', 'several', 'out', 'we', 'very', 'there', 'mine', 'quite', 'them', 'beforehand', 'our', 'were', 'amoungst', 'hereupon', 'about', 'would', 'front', 'between', 'ltd', 'own', 'describe', 'sincere', 'three', 'themselves', 'twelve', 'con', 'anywhere', 'until', 'next', 'whom', 'cant', 'someone', 'does', 'de', 'into', 'have', 'yours', 'anyone', 'rather', 'during', 'hundred', 'detail', 'this', 'with', 'whereas', 'empty', 'could', 'seeming', 'eight', 'first', 'hence', 'amongst', 'more', 'been', 'doing', 'moreover', 'etc', 'becoming', 'too', 'mill', 'forty', 'by', 'of', 'you', 'once', 'hereafter', 'put', 'fifty', 'whose', 'nor', 'one', 'in', 'her', 'upon', 'therefore', 'somewhere', 'cannot', 'yourselves', 'twenty', 'thereby', 'sixty', 'at', 'whole', 'each', 'some', 'and', 'herself', 'alone', 'whether', 'therein', 'wherever', 'computer', 'side', 'why', 'five', 'enough', 'beyond', 'part', 'across', 'beside', 'again', 'eg', 'become', 'less', 'found', 'only', 'except', 'nowhere', 'along', 'whatever', 'myself', 'call', 'he', 'say', 'be', 'however', 'then', 'are', 'former', 'least', 'via', 'neither', 'go', 'itself', 'used', 'an', 'as', 'fire', 'any', 'meanwhile', 'besides', 'much', 'whereby', 'thereafter', 'afterwards', 'move', 'i', 'such', 'also', 'whereafter', 'un', 'mostly', 'formerly', 'eleven', 'him', 'no', 'make', 'against', 'unless', 'yourself', 'onto', 'a', 'every', 'few', 'under', 'made', 'co', 'around', 'somehow', 'which', 'though', 'two', 'otherwise', 'herein', 'here', 'anyhow', 'regarding', 'nobody', 'sometimes', 'has', 'within', 'yet', 'wherein', 'other', 'sometime', 'can', 'me', 'everything', 'others', 'due', 'give', 'before', 'because', 'anything', 'six', 'above', 'amount', 'seem', 'still', 'anyway', 'fifteen', 'km', 'don', 'see', 'my', 'take', 'us', 'now', 'ten', 'what', 'without', 'most', 'none', 'interest', 'noone', 'below', 'being', 'down']\n"
     ]
    }
   ],
   "source": [
    "stop_words_g = []\n",
    "for token  in gensim.parsing.preprocessing.STOPWORDS:\n",
    "    stop_words_g.append(token)\n",
    "print(stop_words_g)"
   ]
  },
  {
   "cell_type": "markdown",
   "metadata": {},
   "source": [
    "En la librería `nltk` el diccionario de palabras vacías del inglés es actualmente:"
   ]
  },
  {
   "cell_type": "code",
   "execution_count": 10,
   "metadata": {},
   "outputs": [
    {
     "name": "stdout",
     "output_type": "stream",
     "text": [
      "{'i', \"should've\", 'such', \"doesn't\", 'all', 'those', 'but', \"needn't\", \"you'd\", \"that'll\", \"couldn't\", 'shouldn', 'needn', 'your', \"don't\", 'ourselves', 'after', 'off', 'both', 'is', 'more', 'ma', 'been', 'from', 'than', 'o', 'doing', 'him', 'no', 'while', 'against', 'these', 'yourself', 'a', 'so', \"haven't\", 'too', 'of', 'you', 'by', 'once', 'ours', \"it's\", 'few', \"mustn't\", 'hers', 'nor', 'how', 'the', \"wasn't\", 'under', 'through', 't', 'in', 'her', 'just', 'will', 'himself', 'or', \"hasn't\", 'its', \"shan't\", 'isn', 'do', 'yourselves', 'which', 'at', 'over', 'further', \"you're\", \"won't\", 'each', 'here', 'some', 'same', 'their', 'should', 'that', 'doesn', 'and', 're', \"shouldn't\", 'herself', 'out', 'weren', 'we', 'not', 'there', 'very', \"mightn't\", 's', 'had', 'them', 'ain', \"weren't\", 'why', 'who', 'wouldn', 'our', 'were', 'has', 'theirs', 'his', 'up', \"aren't\", 'aren', \"didn't\", 'again', 'other', 'about', 'to', 'can', 'she', 'me', \"you've\", 'y', 'between', 'only', 'own', 'couldn', 'haven', 'myself', 'themselves', \"she's\", 'before', 'am', 'he', 'because', 'it', 've', 'when', 'be', 'until', 'above', 'then', 'for', \"isn't\", 'hasn', 'are', 'whom', \"you'll\", 'didn', 'hadn', 'shan', 'wasn', \"wouldn't\", 'don', \"hadn't\", 'if', 'does', 'my', 'won', 'where', 'll', 'into', 'have', 'itself', 'now', 'yours', 'mustn', 'what', 'was', 'an', 'as', 'most', 'mightn', 'during', 'any', 'on', 'did', 'this', 'm', 'having', 'with', 'd', 'below', 'being', 'they', 'down'}\n"
     ]
    }
   ],
   "source": [
    "from nltk.corpus import stopwords\n",
    "\n",
    "stop_words = set(stopwords.words('english'))\n",
    "\n",
    "print(stop_words)\n"
   ]
  },
  {
   "cell_type": "markdown",
   "metadata": {},
   "source": [
    "```{admonition} Nota\n",
    "Observe que los dos conjuntos de palabara vacías son distintos.\n",
    "```"
   ]
  },
  {
   "cell_type": "markdown",
   "metadata": {},
   "source": [
    "Como ejemplo vamos quitar la palabras vacias del objeto `text` tokenizado definido arriba."
   ]
  },
  {
   "cell_type": "markdown",
   "metadata": {},
   "source": [
    "### <span style=\"color:#4CC9F0\">Palabras vacías-Español *nltk*</span>"
   ]
  },
  {
   "cell_type": "code",
   "execution_count": 11,
   "metadata": {},
   "outputs": [
    {
     "name": "stdout",
     "output_type": "stream",
     "text": [
      "{'habrías', 'tuyas', 'tú', 'seamos', 'tenido', 'nuestros', 'tendrían', 'fueses', 'sea', 'durante', 'éramos', 'eso', 'somos', 'antes', 'sentida', 'del', 'tienes', 'mí', 'hayamos', 'estarían', 'hubimos', 'quien', 'fueras', 'algunos', 'nuestro', 'tuvisteis', 'más', 'su', 'hasta', 'les', 'otros', 'mis', 'esto', 'tuviste', 'te', 'estarán', 'ya', 'muy', 'estabais', 'tuvieran', 'serías', 'tuvierais', 'seáis', 'habidos', 'míos', 'lo', 'tenidos', 'quienes', 'estados', 'esté', 'habías', 'todo', 'tus', 'ha', 'erais', 'estaríais', 'fuimos', 'tengáis', 'estuviera', 'tuyos', 'vuestro', 'sí', 'tendrán', 'estuvo', 'haya', 'hubiésemos', 'suyos', 'sus', 'estuvierais', 'tendremos', 'sería', 'habrán', 'cuando', 'estáis', 'mías', 'estén', 'hubisteis', 'estará', 'habría', 'tuviera', 'tenías', 'habrá', 'nuestras', 'hayan', 'habiendo', 'o', 'fuisteis', 'hubiéramos', 'estuvisteis', 'otras', 'nosotros', 'fue', 'las', 'tengo', 'estas', 'mi', 'seremos', 'estarías', 'fuerais', 'para', 'esos', 'tendré', 'vuestras', 'estuviesen', 'han', 'el', 'tendríais', 'era', 'estabas', 'hubieras', 'tengas', 'estoy', 'ti', 'habíamos', 'estuviésemos', 'sean', 'estaríamos', 'tenemos', 'habríamos', 'tendrá', 'yo', 'habido', 'esas', 'estuvieran', 'estuviéramos', 'y', 'habréis', 'tiene', 'cual', 'habremos', 'nuestra', 'con', 'estuvieron', 'fuese', 'hemos', 'tuya', 'fueran', 'sois', 'habéis', 'estando', 'tenéis', 'hubieses', 'de', 'teniendo', 'uno', 'fuesen', 'tuviésemos', 'suya', 'siente', 'habríais', 'muchos', 'fueseis', 'todos', 'ni', 'habíais', 'también', 'estamos', 'los', 'sintiendo', 'desde', 'fuéramos', 'e', 'la', 'este', 'sobre', 'suyas', 'hubieseis', 'seréis', 'serían', 'fuera', 'mío', 'estuvieras', 'serás', 'es', 'en', 'había', 'habré', 'hubieron', 'al', 'estuvieses', 'soy', 'tanto', 'estarás', 'eres', 'estaréis', 'nada', 'tuviese', 'estaremos', 'estaban', 'que', 'estemos', 'ante', 'sentido', 'os', 'mucho', 'vosotras', 'porque', 'sentid', 'he', 'teníais', 'hubiese', 'entre', 'poco', 'están', 'tenga', 'estábamos', 'estuvimos', 'estaría', 'ese', 'tuvieses', 'tengamos', 'pero', 'serán', 'tuvieseis', 'ella', 'estés', 'fueron', 'hube', 'tendría', 'estuvieseis', 'son', 'hubo', 'fuiste', 'hayáis', 'unos', 'estuve', 'habidas', 'estadas', 'tuvieras', 'hubieran', 'algo', 'seríais', 'hay', 'estos', 'estado', 'será', 'un', 'tuyo', 'tienen', 'vuestros', 'estaré', 'esta', 'no', 'estéis', 'hayas', 'tendríamos', 'una', 'habida', 'a', 'tendrás', 'seré', 'tuve', 'teníamos', 'suyo', 'donde', 'está', 'tuvo', 'seríamos', 'tengan', 'él', 'contra', 'tuviesen', 'fui', 'nos', 'hubiesen', 'sentidas', 'tenidas', 'tu', 'estada', 'has', 'otro', 'tuviéramos', 'vuestra', 'ellos', 'ellas', 'hubierais', 'tuvieron', 'hubiste', 'me', 'se', 'hubiera', 'tenida', 'tenían', 'estar', 'eran', 'como', 'tendrías', 'fuésemos', 'le', 'tenía', 'estás', 'algunas', 'habían', 'estad', 'tendréis', 'qué', 'mía', 'esa', 'eras', 'por', 'habrás', 'seas', 'vosotros', 'otra', 'estaba', 'sin', 'tuvimos', 'nosotras', 'tened', 'habrían', 'estuviste', 'estuviese', 'sentidos'}\n"
     ]
    }
   ],
   "source": [
    "palabras_vacias = set(stopwords.words('spanish'))\n",
    "\n",
    "print(palabras_vacias)"
   ]
  },
  {
   "cell_type": "markdown",
   "metadata": {},
   "source": [
    "### <span style=\"color:#4CC9F0\">Vamos a quitar las palabras vacías del ejemplo usando *nltk*</span>"
   ]
  },
  {
   "cell_type": "code",
   "execution_count": 12,
   "metadata": {},
   "outputs": [
    {
     "name": "stdout",
     "output_type": "stream",
     "text": [
      "['natural', 'language', 'processing', 'field', 'computer', 'science', 'artificial', 'intelligence', 'computational', 'linguistics', 'concerned', 'with', 'interactions', 'between', 'computers', 'human', 'natural', 'languages', 'particular', 'concerned', 'with', 'programming', 'computers', 'fruitfully', 'process', 'large', 'natural', 'language', 'corpora', 'challenges', 'natural', 'language', 'processing', 'frequently', 'involve', 'natural', 'language', 'understanding', 'natural', 'language', 'generation', 'frequently', 'from', 'formal', 'machine-readable', 'logical', 'forms', 'connecting', 'language', 'machine', 'perception', 'managing', 'human-computer', 'dialog', 'systems', 'some', 'combination', 'thereof', 'there', 'days', 'usually', 'this', 'year']\n"
     ]
    }
   ],
   "source": [
    "print(tokens)"
   ]
  },
  {
   "cell_type": "code",
   "execution_count": 13,
   "metadata": {},
   "outputs": [
    {
     "name": "stdout",
     "output_type": "stream",
     "text": [
      "['natural', 'language', 'processing', 'field', 'computer', 'science', 'artificial', 'intelligence', 'computational', 'linguistics', 'concerned', 'interactions', 'computers', 'human', 'natural', 'languages', 'particular', 'concerned', 'programming', 'computers', 'fruitfully', 'process', 'large', 'natural', 'language', 'corpora', 'challenges', 'natural', 'language', 'processing', 'frequently', 'involve', 'natural', 'language', 'understanding', 'natural', 'language', 'generation', 'frequently', 'formal', 'machine-readable', 'logical', 'forms', 'connecting', 'language', 'machine', 'perception', 'managing', 'human-computer', 'dialog', 'systems', 'combination', 'thereof', 'days', 'usually', 'year']\n"
     ]
    }
   ],
   "source": [
    "tokens_n_e = []\n",
    "\n",
    "for token in tokens:\n",
    "    if token not in stop_words:\n",
    "        tokens_n_e.append(token)\n",
    "\n",
    "tokens = tokens_n_e\n",
    "print(tokens)   "
   ]
  },
  {
   "cell_type": "markdown",
   "metadata": {},
   "source": [
    "### <span style=\"color:#4CC9F0\">Lematización</span>"
   ]
  },
  {
   "cell_type": "markdown",
   "metadata": {},
   "source": [
    "La lematización (*Lemmatization*) es el proceso de agrupar las diferentes formas flexionadas de una palabra para que puedan analizarse como un solo elemento. La lematización es similar a la derivación (*Stemming*), pero aporta contexto a las palabras. Por lo tanto, vincula palabras con un significado similar a una palabra.\n",
    "\n",
    "El preprocesamiento de texto incluye tanto ***Stemming*** como ***Lemmatization***.\n",
    "\n",
    "Muchas veces las personas encuentran confusos estos dos términos. Algunos tratan a estos dos como iguales. \n",
    "\n",
    "En realidad, se prefiere la lematización a la derivación porque la lematización realiza un análisis morfológico de las palabras.\n",
    "\n",
    "Las aplicaciones de la lematización son:\n",
    "\n",
    "- Se utiliza en sistemas de recuperación integrales como motores de búsqueda.\n",
    "- Utilizado en indexación compacta.\n",
    "- Ejemplos de lematización:\n",
    "    * rocas -> roca\n",
    "    * corpora -> corpus\n",
    "    * mejor -> bueno\n",
    "\n",
    "Una diferencia importante con la derivación es que lematizar toma una parte del parámetro de voz, `pos`. Si no se proporciona, el valor predeterminado es \"sustantivo\". En el siguiente ejemplo vamos a colocar `pos='a'` que significa adjetivo. Si se coloca `pos ='v'` significa verbo. Por defecto es `pos ='n'`, es decir sustantivo.\n",
    "\n",
    "A continuación se muestra la implementación de lematización de algunas palabras en inglés usando la librería `nltk`:"
   ]
  },
  {
   "cell_type": "code",
   "execution_count": 14,
   "metadata": {},
   "outputs": [
    {
     "name": "stderr",
     "output_type": "stream",
     "text": [
      "[nltk_data] Downloading package omw-1.4 to /home/kamilo44/nltk_data...\n",
      "[nltk_data]   Package omw-1.4 is already up-to-date!\n"
     ]
    },
    {
     "name": "stdout",
     "output_type": "stream",
     "text": [
      "rocks : rock\n",
      "corpora : corpus\n",
      "better : good\n"
     ]
    }
   ],
   "source": [
    "nltk.download('omw-1.4') # Data para la lematización\n",
    "\n",
    "from nltk.stem import WordNetLemmatizer \n",
    "  \n",
    "lemmatizer = WordNetLemmatizer() \n",
    "  \n",
    "print(\"rocks :\", lemmatizer.lemmatize(\"rocks\")) \n",
    "print(\"corpora :\", lemmatizer.lemmatize(\"corpora\")) \n",
    "  \n",
    "# \"a\" denota adjectivo en \"pos\" \n",
    "print(\"better :\", lemmatizer.lemmatize(\"better\", pos =\"a\")) "
   ]
  },
  {
   "cell_type": "markdown",
   "metadata": {},
   "source": [
    "Y ahora vamos a lematizar el texto de ejemplo, primero con verbos y luego con sustantivos."
   ]
  },
  {
   "cell_type": "code",
   "execution_count": 15,
   "metadata": {},
   "outputs": [
    {
     "name": "stdout",
     "output_type": "stream",
     "text": [
      "['natural', 'language', 'processing', 'field', 'computer', 'science', 'artificial', 'intelligence', 'computational', 'linguistics', 'concerned', 'interactions', 'computers', 'human', 'natural', 'languages', 'particular', 'concerned', 'programming', 'computers', 'fruitfully', 'process', 'large', 'natural', 'language', 'corpora', 'challenges', 'natural', 'language', 'processing', 'frequently', 'involve', 'natural', 'language', 'understanding', 'natural', 'language', 'generation', 'frequently', 'formal', 'machine-readable', 'logical', 'forms', 'connecting', 'language', 'machine', 'perception', 'managing', 'human-computer', 'dialog', 'systems', 'combination', 'thereof', 'days', 'usually', 'year']\n",
      "\n",
      "\n",
      "['natural', 'language', 'process', 'field', 'computer', 'science', 'artificial', 'intelligence', 'computational', 'linguistics', 'concern', 'interactions', 'computers', 'human', 'natural', 'languages', 'particular', 'concern', 'program', 'computers', 'fruitfully', 'process', 'large', 'natural', 'language', 'corpora', 'challenge', 'natural', 'language', 'process', 'frequently', 'involve', 'natural', 'language', 'understand', 'natural', 'language', 'generation', 'frequently', 'formal', 'machine-readable', 'logical', 'form', 'connect', 'language', 'machine', 'perception', 'manage', 'human-computer', 'dialog', 'systems', 'combination', 'thereof', 'days', 'usually', 'year']\n"
     ]
    }
   ],
   "source": [
    "from nltk.stem import WordNetLemmatizer\n",
    "\n",
    "# verbos\n",
    "lemma_text =[]\n",
    "for token in tokens:\n",
    "    lemma_text.append(WordNetLemmatizer().lemmatize(token, pos='v'))\n",
    "\n",
    "print(tokens)\n",
    "print('\\n')\n",
    "print(lemma_text)"
   ]
  },
  {
   "cell_type": "code",
   "execution_count": 16,
   "metadata": {},
   "outputs": [
    {
     "name": "stdout",
     "output_type": "stream",
     "text": [
      "['natural', 'language', 'process', 'field', 'computer', 'science', 'artificial', 'intelligence', 'computational', 'linguistics', 'concern', 'interaction', 'computer', 'human', 'natural', 'language', 'particular', 'concern', 'program', 'computer', 'fruitfully', 'process', 'large', 'natural', 'language', 'corpus', 'challenge', 'natural', 'language', 'process', 'frequently', 'involve', 'natural', 'language', 'understand', 'natural', 'language', 'generation', 'frequently', 'formal', 'machine-readable', 'logical', 'form', 'connect', 'language', 'machine', 'perception', 'manage', 'human-computer', 'dialog', 'system', 'combination', 'thereof', 'day', 'usually', 'year']\n"
     ]
    }
   ],
   "source": [
    "# sustantivos\n",
    "for i in range(len(lemma_text )):\n",
    "    lemma_text[i] = WordNetLemmatizer().lemmatize(lemma_text[i], pos='n')\n",
    "print(lemma_text)"
   ]
  },
  {
   "cell_type": "markdown",
   "metadata": {},
   "source": [
    "### <span style=\"color:#4CC9F0\">Stemming</span>"
   ]
  },
  {
   "cell_type": "markdown",
   "metadata": {},
   "source": [
    "\n",
    "La derivación (*stemming*) es el proceso de producir variantes morfológicas de una palabra raíz / base. Los programas de derivación se conocen comúnmente como algoritmos de stemming o derivaciones. Un algoritmo de stemming reduce las palabras como en los siguientes ejemplos:\n",
    "\n",
    "+ \"chocolates\", \"chocolates\", \"choco\" a la raíz de la palabra, \"chocolate\".\n",
    "+ \"recuperación\", \"recuperado\", \"recupera\" se reduce a la raíz \"recuperar\".\n"
   ]
  },
  {
   "cell_type": "markdown",
   "metadata": {},
   "source": [
    "### <span style=\"color:#4CC9F0\">Errores en la derivación</span>"
   ]
  },
  {
   "cell_type": "markdown",
   "metadata": {},
   "source": [
    "Hay principalmente dos errores en la derivación: la derivación excesiva (*sobrerecorte*) y la derivación insuficiente (*subrecorte*).\n",
    "\n",
    "* El sobrerecorte ocurre cuando dos palabras que se derivan de la misma raíz, tienen raíces diferentes. \n",
    "\n",
    "* El subrecorte ocurre cuando dos palabras que se derivan de la misma raíz, tienen raíces diferentes.\n",
    "\n",
    "Ejemplo:"
   ]
  },
  {
   "cell_type": "markdown",
   "metadata": {},
   "source": [
    "Tomado de: [towardsdatascience](https://towardsdatascience.com/stemming-of-words-in-natural-language-processing-what-is-it-41a33e8996e2#Over%20stemming)\n",
    "\n",
    "* Sobrerecorte: las palabras \"universidad\" y \"universo\". Algunos algoritmos de derivación pueden reducir ambas palabras a la raíz \"univers\", lo que implicaría que ambas palabras significan lo mismo, y eso es claramente incorrecto.\n",
    "\n",
    "* Subrecorte: las palabras \"dato\" y \"datos\". Algunos algoritmos pueden reducir estas palabras a \"dat\" y \"dato\" respectivamente, lo que obviamente es incorrecto. Ambos deben reducirse a la misma raíz \"dat\"."
   ]
  },
  {
   "cell_type": "code",
   "execution_count": 17,
   "metadata": {},
   "outputs": [
    {
     "name": "stdout",
     "output_type": "stream",
     "text": [
      "['natur', 'languag', 'process', 'field', 'comput', 'scienc', 'artifici', 'intellig', 'comput', 'linguist', 'concern', 'interact', 'comput', 'human', 'natur', 'languag', 'particular', 'concern', 'program', 'comput', 'fruit', 'process', 'larg', 'natur', 'languag', 'corpu', 'challeng', 'natur', 'languag', 'process', 'frequent', 'involv', 'natur', 'languag', 'understand', 'natur', 'languag', 'gener', 'frequent', 'formal', 'machine-read', 'logic', 'form', 'connect', 'languag', 'machin', 'percept', 'manag', 'human-comput', 'dialog', 'system', 'combin', 'thereof', 'day', 'usual', 'year']\n"
     ]
    }
   ],
   "source": [
    "#from nltk.stem import SnowballStemmer\n",
    "from nltk.stem import PorterStemmer\n",
    "\n",
    "# crea una instancia de PorterStemmer \n",
    "ps = PorterStemmer()\n",
    "\n",
    "for i in range(len(lemma_text)):\n",
    "    lemma_text[i] = ps.stem(lemma_text[i])\n",
    "print(lemma_text)"
   ]
  },
  {
   "cell_type": "markdown",
   "metadata": {},
   "source": [
    "## <span style=\"color:#4361EE\">TF-IDF</span>"
   ]
  },
  {
   "cell_type": "markdown",
   "metadata": {},
   "source": [
    "Tomado de [Wikipedia](https://es.wikipedia.org/wiki/Tf-idf).\n",
    "\n",
    "Tf-idf (del inglés *Term frequency – Inverse document frequency*), **frecuencia de término – frecuencia inversa de documento** (o sea, la frecuencia de ocurrencia del término en el corpus de documentos), es una medida numérica que expresa cuan relevante es una palabra para un documento en un corpus. Esta medida se utiliza a menudo como un factor de ponderación en la recuperación de información y la minería de textos. \n",
    "\n",
    "\n",
    "El valor tf-idf aumenta proporcionalmente al número de veces que una palabra aparece en el documento, pero es compensada por la frecuencia de la palabra en el corpus de documentos, lo que permite manejar el hecho de que algunas palabras son generalmente más comunes que otras.\n",
    "\n",
    "Variaciones del esquema de peso tf-idf son empleadas frecuentemente por los motores de búsqueda como herramienta fundamental para medir la relevancia de un documento dada una consulta del usuario, estableciendo así una ordenación o ranking de los mismos. \n",
    "\n",
    "\n",
    "Tf-idf puede utilizarse exitosamente para el filtrado de las palabras vacías (*stop-words*), en diferentes campos del preprocesamiento de textos.\n"
   ]
  },
  {
   "cell_type": "markdown",
   "metadata": {},
   "source": [
    "### <span style=\"color:#4CC9F0\">Detalles matemáticos</span>"
   ]
  },
  {
   "cell_type": "markdown",
   "metadata": {},
   "source": [
    "Tf-idf es el producto de dos medidas, *frecuencia de término* y *frecuencia inversa de documento*. Existen varias maneras de determinar el valor de ambas. \n",
    "\n",
    "En el caso de la frecuencia de término $\\text{tf}(t, d)$, la opción más sencilla es usar la frecuencia bruta del término $t$ en el documento $d$, o sea, el número de veces que el término $t$ ocurre en el documento $d$. Si denotamos la frecuencia bruta de $t$ por $f(t,d)$, entonces el esquema $\\text{tf}$ simple es $\\text{tf}(t, d) = f(t,d)$. \n",
    "\n",
    "\n",
    "Otras posibilidades son:\n",
    "\n",
    "- *frecuencias booleanas*: $\\text{ tf}(t, d) = 1$ si $t$ ocurre en $d$, y $\\text{tf}(t, d) = 0$ si no;\n",
    "- *frecuencia escalada logarítmicamente*: $\\text{ tf}(t, d) = 1 + \\log f(t,d)$ y $0$ si $f(t,d)=0$;\n",
    "- *frecuencia normalizada*: para evitar una predisposición hacia los documentos largos. Por ejemplo, se divide la frecuencia bruta por la frecuencia máxima de algún término en el documento:\n",
    "\n",
    "$$\n",
    "{\\displaystyle \\mathrm {tf} (t,d)={\\frac {f(t,d)}{\\max\\{f(t,d):t\\in d\\}}}}\n",
    "$$\n",
    "\n",
    "La frecuencia inversa de documento es una medida que indica si el término es común o no en el corpus de documentos. Se obtiene dividiendo el número total de documentos, por el número de documentos que contienen el término, y se toma el logaritmo de ese cociente:\n",
    "\n",
    "$$\n",
    "{\\displaystyle \\mathrm {idf} (t,D)=\\log {\\frac {|D|}{|\\{d\\in D:t\\in d\\}|}}}\n",
    "$$\n",
    "\n",
    "donde:\n",
    "\n",
    "- ${\\displaystyle |D|}$: cardinalidad de $D$, o número de documentos en el corpus.\n",
    "- ${\\displaystyle |\\{d\\in D:t\\in d\\}|}$ : número de documentos donde aparece el término $t$. Si el término no está en la colección se producirá una división por cero. Por lo tanto, es común ajustar esta fórmula a ${\\displaystyle 1+|\\{d\\in D:t\\in d\\}|}$.\n",
    "\n",
    "Matemáticamente, la base de la función logaritmo no es importante y constituye un factor constante en el resultado final.\n",
    "\n",
    "Luego, *tf-idf* se calcula como:\n",
    "\n",
    "$$\n",
    "{\\displaystyle \\text{tf-idf} (t,d,D)=\\mathrm {tf} (t,d)\\times \\mathrm {idf} (t,D)}\n",
    "$$\n",
    "\n",
    "Un peso alto en *tf-idf* se alcanza con una elevada frecuencia de término (en el documento dado) y una pequeña frecuencia de ocurrencia del término en corpus de documentos. \n",
    "\n",
    "Como el cociente dentro de la función logaritmo del *idf* es siempre mayor o igual que 1, el valor del *idf* (y del *tf-idf*) es mayor o igual que 0. \n",
    "\n",
    "Cuando un término aparece en muchos documentos, el cociente dentro del logaritmo se acerca a 1, ofreciendo un valor de *idf* y de *tf-idf* cercano a 0.\n",
    "\n"
   ]
  },
  {
   "cell_type": "markdown",
   "metadata": {},
   "source": [
    "## <span style=\"color:#4361EE\">Semántica latente</span> "
   ]
  },
  {
   "cell_type": "markdown",
   "metadata": {},
   "source": [
    "Esta técnica es quizás de las primeras aparecidas en el análisis de textos. La idea central es la construcción de análisis de componentes principales (ACP) seguida de un proceso de clasificación automática.\n",
    "\n",
    "Las componentes principales del ACP, que son construidas a partir de combinaciones lineales de las columnas de los términos se denominan las **componentes léxicas del corpus de datos**. \n",
    "\n",
    "Las herramientas habituales para la interpretación del ACP permiten determinar o mejor asignar un contenido semántico a cada componente. \n",
    "\n",
    "En consecuencia, es posible determinar las temáticas presentes en el corpus de textos, a partir de los ejes semánticos.\n",
    "\n",
    "\n",
    "Como es habitual en el ACP, una clasificación automática puede ser obtenida a partir de la representación factorial de la ***dtm***.\n",
    "\n",
    "El siguente gráfico ilustra la técnica."
   ]
  },
  {
   "cell_type": "markdown",
   "metadata": {},
   "source": [
    "\n",
    "<figure>\n",
    "<center>\n",
    "<img src=\"https://raw.githubusercontent.com/AprendizajeProfundo/Libro-Fundamentos/main/Tratamiento_de_Lenguaje_Natural/Imagenes/pca.png\" width=\"500\" height=\"400\" align=\"center\"/>\n",
    "</center>\n",
    "<figcaption>\n",
    "<p style=\"text-align:center\">Arquitectura del modelo Semática Latente</p>\n",
    "</figcaption>\n",
    "</figure>\n",
    "\n",
    "Fuente: Alvaro Montenegro"
   ]
  },
  {
   "cell_type": "markdown",
   "metadata": {},
   "source": [
    "Básicamente lo que se hace es una proyección lineal desde el espacio de vectores dispersos al espacio Euclideano. Modernamente se ha encontrado que tiene bastante error, básicamente por el tratamiento lineal. \n",
    "\n",
    "En general, se ha encontrado que estas técnicas permiten un primer acercamiento al descubrimiento de las tématicas (tópicos), pero que en general se quedan cortas."
   ]
  },
  {
   "cell_type": "markdown",
   "metadata": {},
   "source": [
    "## <span style=\"color:#4361EE\">Modelos generativos: Latent Dirichlet Allocation</span>"
   ]
  },
  {
   "cell_type": "markdown",
   "metadata": {},
   "source": [
    "La técnica Latent Dirichlet Allocation (LDA) es la más utilizada actualmente para la extracción de toṕicos de corpus de documentos y se debe a [Blei et al](https://www.jmlr.org/papers/volume3/blei03a/blei03a.pdf). "
   ]
  },
  {
   "cell_type": "markdown",
   "metadata": {},
   "source": [
    "### <span style=\"color:#4CC9F0\">Las ideas centrales detrás de LDA, Blei et al.(2003)</span>"
   ]
  },
  {
   "cell_type": "markdown",
   "metadata": {},
   "source": [
    "Las ideas centrales detrás de LDA son las siguientes. El modelo generativo supone que los documentos son generados como sigue:\n",
    "\n",
    "1. El tamaño $N$ del documento es generado por una distribución de Poisson $\\text{Poi}(\\xi)$.\n",
    "2. Los tópicos son generados a partir de una distribución multinomial con vector de probabilidades $\\mathbf{\\theta}$. \n",
    "3. A priori se asume que el vector $\\mathbf{\\theta}$ es generado por una distribución de Dirichlet con vector de parámetros $\\boldsymbol{\\alpha}$. De aquí deriva el nombre de la técnica.\n",
    "4. Cada una de las $N$ palabras en un documento son generadas según el siguiente algoritmo.\n",
    "     - Se escoge un tópico $z_n \\sim \\text{Multinomial}(\\mathbf{\\theta})$.\n",
    "     - Se escoge la palabra $w_n \\sim \\text{P}(w_n|z_n,\\mathbf{\\beta})$. En donde $\\mathbf{\\beta}$ es una matriz de probabilidades de pertenencia de las palabras a los tópicos. $P$ es una probabilidad multinomial condicionada al tópico $z_n$ y al vector de parámetros $\\mathbf{\\beta}$.\n",
    "\n",
    "\n",
    "Al lector interesado en los detalles, lo remitimos al paper original de [Blei et al.](https://www.jmlr.org/papers/volume3/blei03a/blei03a.pdf)."
   ]
  },
  {
   "cell_type": "markdown",
   "metadata": {},
   "source": [
    "La siguiente imagen intenta mostrar las ideas centrales detras  de la técnica."
   ]
  },
  {
   "cell_type": "markdown",
   "metadata": {},
   "source": [
    "\n",
    "<figure>\n",
    "<center>\n",
    "<img src=\"https://raw.githubusercontent.com/AprendizajeProfundo/Libro-Fundamentos/main/Tratamiento_de_Lenguaje_Natural/Imagenes/Diagram_Blei.png\" width=\"600\" height=\"500\" align=\"center\"/>\n",
    "</center>\n",
    "<figcaption>\n",
    "<p style=\"text-align:center\">Intuición detrás de LDA</p>\n",
    "</figcaption>\n",
    "</figure>\n",
    "\n",
    "Fuente: \n",
    "[Intuition behind LDA](https://www.cs.columbia.edu/~blei/papers/Blei2012.pdf)"
   ]
  },
  {
   "cell_type": "markdown",
   "metadata": {},
   "source": [
    "El modelado de temas (*topic modeling*) es un tipo de modelado estadístico para descubrir los “temas” abstractos que ocurren en una colección de documentos. La asignación de Dirichlet latente (LDA) es un ejemplo de modelo de tema y se utiliza para clasificar el texto de un documento en un tema en particular. \n",
    "\n",
    "Construye un modelo de tema por documento y palabras por modelo de tema, modelado como distribuciones de Dirichlet.\n",
    "\n",
    "Aquí vamos a aplicar LDA a un conjunto de documentos y dividirlos en temas. ¡Empecemos!"
   ]
  },
  {
   "cell_type": "markdown",
   "metadata": {},
   "source": [
    "### <span style=\"color:#4CC9F0\">Importar librerías</span>"
   ]
  },
  {
   "cell_type": "code",
   "execution_count": 18,
   "metadata": {},
   "outputs": [
    {
     "name": "stderr",
     "output_type": "stream",
     "text": [
      "[nltk_data] Downloading package wordnet to /home/kamilo44/nltk_data...\n",
      "[nltk_data]   Package wordnet is already up-to-date!\n"
     ]
    },
    {
     "data": {
      "text/plain": [
       "True"
      ]
     },
     "execution_count": 18,
     "metadata": {},
     "output_type": "execute_result"
    }
   ],
   "source": [
    "import gensim\n",
    "from gensim.utils import simple_preprocess\n",
    "from gensim.parsing.preprocessing import STOPWORDS\n",
    "from nltk.stem import WordNetLemmatizer, SnowballStemmer\n",
    "from nltk.stem.porter import *\n",
    "import numpy as np\n",
    "np.random.seed(2018)\n",
    "import nltk\n",
    "nltk.download('wordnet')"
   ]
  },
  {
   "cell_type": "markdown",
   "metadata": {},
   "source": [
    "Vamos a escribir una función que lematiza y hace el preprocesamiento del conjunto de datos."
   ]
  },
  {
   "cell_type": "code",
   "execution_count": 19,
   "metadata": {},
   "outputs": [],
   "source": [
    "from nltk.stem import PorterStemmer \n",
    "\n",
    "def lemmatize_stemming(text):\n",
    "    ps = PorterStemmer()\n",
    "    return ps.stem(WordNetLemmatizer().lemmatize(text, pos='v'))\n",
    "\n",
    "def preprocess(text):\n",
    "    result = []\n",
    "    for token in gensim.utils.simple_preprocess(text): #  gensim.utils.simple_preprocess tokeniza el texto\n",
    "        if token not in gensim.parsing.preprocessing.STOPWORDS and len(token) > 3:\n",
    "            result.append(lemmatize_stemming(token))\n",
    "    return result"
   ]
  },
  {
   "cell_type": "markdown",
   "metadata": {},
   "source": [
    "## <span style=\"color:#4361EE\">Ejemplo: Un millón de titulares</span>"
   ]
  },
  {
   "cell_type": "markdown",
   "metadata": {},
   "source": [
    "El conjunto de datos que usaremos es una lista de más de un millón de titulares de noticias publicadas durante un período de 15 años y se puede descargar de [Kaggle](https://www.kaggle.com/therohk/million-headlines/metadata)."
   ]
  },
  {
   "cell_type": "markdown",
   "metadata": {},
   "source": [
    "Ejemplo adaptado de [Topic Modeling and Latent Dirichlet Allocation (LDA) in Python](https://towardsdatascience.com/topic-modeling-and-latent-dirichlet-allocation-in-python-9bf156893c24)."
   ]
  },
  {
   "cell_type": "code",
   "execution_count": 20,
   "metadata": {},
   "outputs": [],
   "source": [
    "import pandas as pd\n",
    "data = pd.read_csv('../Datos/Introduccion/abcnews-date-text.csv', on_bad_lines='skip');\n",
    "data_text = data[['headline_text']]\n",
    "data_text['index'] = data_text.index\n",
    "documents = data_text"
   ]
  },
  {
   "cell_type": "markdown",
   "metadata": {},
   "source": [
    "Veamos algunos datos:"
   ]
  },
  {
   "cell_type": "code",
   "execution_count": 21,
   "metadata": {},
   "outputs": [
    {
     "name": "stdout",
     "output_type": "stream",
     "text": [
      "1244184\n",
      "                                       headline_text  index\n",
      "0  aba decides against community broadcasting lic...      0\n",
      "1     act fire witnesses must be aware of defamation      1\n",
      "2     a g calls for infrastructure protection summit      2\n",
      "3           air nz staff in aust strike for pay rise      3\n",
      "4      air nz strike to affect australian travellers      4\n"
     ]
    }
   ],
   "source": [
    "print(len(documents))\n",
    "print(documents[:5])"
   ]
  },
  {
   "cell_type": "code",
   "execution_count": 22,
   "metadata": {},
   "outputs": [
    {
     "name": "stdout",
     "output_type": "stream",
     "text": [
      "documento original: \n",
      "['ratepayers', 'group', 'wants', 'compulsory', 'local', 'govt', 'voting']\n",
      "\n",
      "\n",
      " documento tokenizado y lematizado: \n",
      "['ratepay', 'group', 'want', 'compulsori', 'local', 'govt', 'vote']\n"
     ]
    }
   ],
   "source": [
    "doc_sample = documents[documents['index'] == 4310].values[0][0]\n",
    "print('documento original: ')\n",
    "words = []\n",
    "for word in doc_sample.split(' '):\n",
    "    words.append(word)\n",
    "print(words)\n",
    "print('\\n\\n documento tokenizado y lematizado: ')\n",
    "print(preprocess(doc_sample))"
   ]
  },
  {
   "cell_type": "markdown",
   "metadata": {},
   "source": [
    "### <span style=\"color:#4CC9F0\">Preprocesamiento de textos</span>"
   ]
  },
  {
   "cell_type": "markdown",
   "metadata": {},
   "source": [
    "\n",
    "Vamos a procesar previamente los textos, guardando los resultados en el objeto `processed_docs`."
   ]
  },
  {
   "cell_type": "code",
   "execution_count": 23,
   "metadata": {},
   "outputs": [
    {
     "data": {
      "text/plain": [
       "0               [decid, commun, broadcast, licenc]\n",
       "1                               [wit, awar, defam]\n",
       "2           [call, infrastructur, protect, summit]\n",
       "3                      [staff, aust, strike, rise]\n",
       "4             [strike, affect, australian, travel]\n",
       "5               [ambiti, olsson, win, tripl, jump]\n",
       "6           [antic, delight, record, break, barca]\n",
       "7    [aussi, qualifi, stosur, wast, memphi, match]\n",
       "8            [aust, address, secur, council, iraq]\n",
       "9                         [australia, lock, timet]\n",
       "Name: headline_text, dtype: object"
      ]
     },
     "execution_count": 23,
     "metadata": {},
     "output_type": "execute_result"
    }
   ],
   "source": [
    "processed_docs = documents['headline_text'].map(preprocess)\n",
    "processed_docs[:10]"
   ]
  },
  {
   "cell_type": "markdown",
   "metadata": {},
   "source": [
    "### <span style=\"color:#4CC9F0\">Construcción del diccionario</span>"
   ]
  },
  {
   "cell_type": "markdown",
   "metadata": {},
   "source": [
    "Creamos un diccionario a partir de `processed_docs` que contenga la cantidad de veces que aparece una palabra en el conjunto de entrenamiento."
   ]
  },
  {
   "cell_type": "code",
   "execution_count": 24,
   "metadata": {},
   "outputs": [
    {
     "name": "stdout",
     "output_type": "stream",
     "text": [
      "0 broadcast\n",
      "1 commun\n",
      "2 decid\n",
      "3 licenc\n",
      "4 awar\n",
      "5 defam\n",
      "6 wit\n",
      "7 call\n",
      "8 infrastructur\n",
      "9 protect\n",
      "10 summit\n"
     ]
    }
   ],
   "source": [
    "dictionary = gensim.corpora.Dictionary(processed_docs)\n",
    "count = 0\n",
    "for k, v in dictionary.iteritems():\n",
    "    print(k, v)\n",
    "    count += 1\n",
    "    if count > 10:\n",
    "        break"
   ]
  },
  {
   "cell_type": "markdown",
   "metadata": {},
   "source": [
    "Filtra los tokens que aparecen en menos de 15 documentos (número absoluto) o más de 0,5 documentos (fracción del tamaño total del corpus, no número absoluto). Después de los dos pasos anteriores, conserve solo los primeros 100.000 tokens más frecuentes."
   ]
  },
  {
   "cell_type": "code",
   "execution_count": 25,
   "metadata": {},
   "outputs": [],
   "source": [
    "dictionary.filter_extremes(no_below=15, no_above=0.5, keep_n=100000)"
   ]
  },
  {
   "cell_type": "markdown",
   "metadata": {},
   "source": [
    "### <span style=\"color:#4CC9F0\">Gensim doc2bow</span>"
   ]
  },
  {
   "cell_type": "markdown",
   "metadata": {},
   "source": [
    "Para cada documento creamos un diccionario que informa cuantas palabras y cuantas veces aparecen esas palabras. \n",
    "\n",
    "Colocamos esto en el objeto `bow_corpus`, luego verifique nuestro documento seleccionado anteriormente."
   ]
  },
  {
   "cell_type": "code",
   "execution_count": 26,
   "metadata": {},
   "outputs": [
    {
     "data": {
      "text/plain": [
       "[(162, 1), (240, 1), (292, 1), (589, 1), (839, 1), (3579, 1), (3580, 1)]"
      ]
     },
     "execution_count": 26,
     "metadata": {},
     "output_type": "execute_result"
    }
   ],
   "source": [
    "bow_corpus = [dictionary.doc2bow(doc) for doc in processed_docs]\n",
    "bow_corpus[4310]"
   ]
  },
  {
   "cell_type": "markdown",
   "metadata": {},
   "source": [
    "Esta es una vista preliminar de la bolsa de palabras del documento preprocesado."
   ]
  },
  {
   "cell_type": "code",
   "execution_count": 27,
   "metadata": {},
   "outputs": [
    {
     "name": "stdout",
     "output_type": "stream",
     "text": [
      "Word 162 (\"govt\") appears 1 time.\n",
      "Word 240 (\"group\") appears 1 time.\n",
      "Word 292 (\"vote\") appears 1 time.\n",
      "Word 589 (\"local\") appears 1 time.\n",
      "Word 839 (\"want\") appears 1 time.\n",
      "Word 3579 (\"compulsori\") appears 1 time.\n",
      "Word 3580 (\"ratepay\") appears 1 time.\n"
     ]
    }
   ],
   "source": [
    "bow_doc_4310 = bow_corpus[4310]\n",
    "for i in range(len(bow_doc_4310)):\n",
    "    print(\"Word {} (\\\"{}\\\") appears {} time.\".format(bow_doc_4310[i][0], \n",
    "                                               dictionary[bow_doc_4310[i][0]], \n",
    "bow_doc_4310[i][1]))"
   ]
  },
  {
   "cell_type": "markdown",
   "metadata": {},
   "source": [
    "### <span style=\"color:#4CC9F0\">TF-IDF</span>"
   ]
  },
  {
   "cell_type": "markdown",
   "metadata": {},
   "source": [
    "Creamos un objeto modelo *tf-idf* usando `models.TfidfModel` a partir de `bow_corpus` y lo colocamos en `tfidf`, luego aplicamos la transformación a todo el corpus y lo llamamos `corpus_tfidf`. Finalmente, obtenemos una vista previa de las puntuaciones *TF-IDF* para nuestro primer documento."
   ]
  },
  {
   "cell_type": "code",
   "execution_count": 28,
   "metadata": {},
   "outputs": [
    {
     "name": "stdout",
     "output_type": "stream",
     "text": [
      "[(0, 0.5854395661274623),\n",
      " (1, 0.383252758688686),\n",
      " (2, 0.50230806644029),\n",
      " (3, 0.5080004367704987)]\n"
     ]
    }
   ],
   "source": [
    "from gensim import corpora, models\n",
    "tfidf = models.TfidfModel(bow_corpus)\n",
    "corpus_tfidf = tfidf[bow_corpus]\n",
    "from pprint import pprint\n",
    "for doc in corpus_tfidf:\n",
    "    pprint(doc)\n",
    "    break"
   ]
  },
  {
   "cell_type": "markdown",
   "metadata": {},
   "source": [
    "### <span style=\"color:#4CC9F0\">Corriendo LDA usando la bolsa de palabras</span>"
   ]
  },
  {
   "cell_type": "markdown",
   "metadata": {},
   "source": [
    "Vamos a entrener a nuestro modelo LDA usando `gensim.models.LdaMulticore` y guardándolo en `lda_model`."
   ]
  },
  {
   "cell_type": "code",
   "execution_count": 29,
   "metadata": {},
   "outputs": [],
   "source": [
    "lda_model = gensim.models.LdaMulticore(bow_corpus, num_topics=10, id2word=dictionary, passes=2, workers=2)"
   ]
  },
  {
   "cell_type": "markdown",
   "metadata": {},
   "source": [
    "Para cada tópico, exploraremos las palabras que ocurren en ese tema y su peso relativo."
   ]
  },
  {
   "cell_type": "code",
   "execution_count": 30,
   "metadata": {
    "scrolled": true,
    "tags": []
   },
   "outputs": [
    {
     "name": "stdout",
     "output_type": "stream",
     "text": [
      "Topic: 0 \n",
      "Words: 0.049*\"coronaviru\" + 0.037*\"covid\" + 0.025*\"news\" + 0.021*\"market\" + 0.017*\"lockdown\" + 0.017*\"hospit\" + 0.016*\"morrison\" + 0.015*\"work\" + 0.014*\"fight\" + 0.013*\"student\"\n",
      "Topic: 1 \n",
      "Words: 0.055*\"polic\" + 0.038*\"case\" + 0.027*\"charg\" + 0.027*\"court\" + 0.023*\"death\" + 0.022*\"murder\" + 0.019*\"face\" + 0.018*\"restrict\" + 0.015*\"trial\" + 0.014*\"investig\"\n",
      "Topic: 2 \n",
      "Words: 0.029*\"live\" + 0.023*\"women\" + 0.019*\"victorian\" + 0.019*\"china\" + 0.013*\"need\" + 0.012*\"deal\" + 0.012*\"budget\" + 0.012*\"rural\" + 0.011*\"drum\" + 0.011*\"citi\"\n",
      "Topic: 3 \n",
      "Words: 0.033*\"vaccin\" + 0.029*\"home\" + 0.024*\"bushfir\" + 0.020*\"test\" + 0.019*\"covid\" + 0.015*\"australia\" + 0.014*\"countri\" + 0.013*\"support\" + 0.012*\"hotel\" + 0.010*\"trade\"\n",
      "Topic: 4 \n",
      "Words: 0.037*\"trump\" + 0.036*\"queensland\" + 0.030*\"victoria\" + 0.019*\"world\" + 0.019*\"australia\" + 0.017*\"coast\" + 0.016*\"south\" + 0.015*\"peopl\" + 0.015*\"canberra\" + 0.013*\"busi\"\n",
      "Topic: 5 \n",
      "Words: 0.022*\"elect\" + 0.022*\"nation\" + 0.019*\"say\" + 0.019*\"state\" + 0.017*\"minist\" + 0.016*\"call\" + 0.014*\"miss\" + 0.013*\"speak\" + 0.012*\"labor\" + 0.012*\"care\"\n",
      "Topic: 6 \n",
      "Words: 0.022*\"kill\" + 0.020*\"crash\" + 0.019*\"attack\" + 0.018*\"die\" + 0.015*\"leav\" + 0.015*\"coronaviru\" + 0.013*\"jail\" + 0.013*\"alleg\" + 0.012*\"dead\" + 0.011*\"million\"\n",
      "Topic: 7 \n",
      "Words: 0.022*\"donald\" + 0.018*\"coronaviru\" + 0.016*\"year\" + 0.016*\"tasmania\" + 0.014*\"chang\" + 0.013*\"warn\" + 0.012*\"feder\" + 0.012*\"high\" + 0.011*\"travel\" + 0.011*\"tasmanian\"\n",
      "Topic: 8 \n",
      "Words: 0.032*\"govern\" + 0.018*\"plan\" + 0.018*\"border\" + 0.014*\"commun\" + 0.014*\"indigen\" + 0.013*\"water\" + 0.013*\"region\" + 0.012*\"concern\" + 0.011*\"council\" + 0.011*\"industri\"\n",
      "Topic: 9 \n",
      "Words: 0.044*\"australia\" + 0.021*\"open\" + 0.014*\"australian\" + 0.014*\"final\" + 0.013*\"time\" + 0.011*\"lose\" + 0.011*\"tell\" + 0.010*\"releas\" + 0.009*\"adelaid\" + 0.009*\"game\"\n"
     ]
    }
   ],
   "source": [
    "for idx, topic in lda_model.print_topics(-1):\n",
    "    print('Topic: {} \\nWords: {}'.format(idx, topic))"
   ]
  },
  {
   "cell_type": "markdown",
   "metadata": {},
   "source": [
    "¿Es posible distinguir diferentes temas usando las palabras en cada tema y sus pesos correspondientes?"
   ]
  },
  {
   "cell_type": "markdown",
   "metadata": {},
   "source": [
    "### <span style=\"color:#4CC9F0\">Corriendo LDA usando TF-IDF</span>"
   ]
  },
  {
   "cell_type": "code",
   "execution_count": 31,
   "metadata": {
    "scrolled": true
   },
   "outputs": [
    {
     "name": "stdout",
     "output_type": "stream",
     "text": [
      "Topic: 0 Word: 0.017*\"countri\" + 0.012*\"hour\" + 0.011*\"bushfir\" + 0.009*\"michael\" + 0.008*\"david\" + 0.007*\"coronaviru\" + 0.007*\"mark\" + 0.006*\"fire\" + 0.006*\"restrict\" + 0.006*\"facebook\"\n",
      "Topic: 1 Word: 0.020*\"polic\" + 0.018*\"charg\" + 0.015*\"murder\" + 0.012*\"woman\" + 0.011*\"court\" + 0.010*\"shoot\" + 0.010*\"alleg\" + 0.010*\"arrest\" + 0.010*\"jail\" + 0.009*\"death\"\n",
      "Topic: 2 Word: 0.011*\"australia\" + 0.010*\"morrison\" + 0.009*\"world\" + 0.008*\"final\" + 0.007*\"australian\" + 0.007*\"friday\" + 0.007*\"scott\" + 0.006*\"cricket\" + 0.006*\"leagu\" + 0.006*\"india\"\n",
      "Topic: 3 Word: 0.012*\"market\" + 0.008*\"coronaviru\" + 0.008*\"sport\" + 0.008*\"share\" + 0.008*\"pandem\" + 0.008*\"financ\" + 0.007*\"search\" + 0.007*\"juli\" + 0.006*\"eas\" + 0.006*\"australian\"\n",
      "Topic: 4 Word: 0.018*\"donald\" + 0.009*\"age\" + 0.009*\"monday\" + 0.008*\"wednesday\" + 0.008*\"sexual\" + 0.008*\"biden\" + 0.007*\"john\" + 0.007*\"insid\" + 0.007*\"hobart\" + 0.006*\"care\"\n",
      "Topic: 5 Word: 0.029*\"covid\" + 0.024*\"coronaviru\" + 0.016*\"news\" + 0.014*\"vaccin\" + 0.011*\"case\" + 0.009*\"lockdown\" + 0.009*\"rural\" + 0.009*\"drum\" + 0.007*\"victoria\" + 0.006*\"australia\"\n",
      "Topic: 6 Word: 0.029*\"trump\" + 0.019*\"south\" + 0.014*\"north\" + 0.014*\"coast\" + 0.011*\"queensland\" + 0.009*\"gold\" + 0.009*\"west\" + 0.009*\"weather\" + 0.007*\"australia\" + 0.007*\"east\"\n",
      "Topic: 7 Word: 0.009*\"live\" + 0.008*\"christma\" + 0.007*\"drought\" + 0.006*\"cattl\" + 0.006*\"farmer\" + 0.006*\"histori\" + 0.006*\"export\" + 0.006*\"price\" + 0.005*\"coal\" + 0.005*\"america\"\n",
      "Topic: 8 Word: 0.013*\"royal\" + 0.011*\"commiss\" + 0.011*\"stori\" + 0.009*\"extend\" + 0.008*\"mother\" + 0.007*\"octob\" + 0.007*\"rollout\" + 0.006*\"andrew\" + 0.006*\"interview\" + 0.005*\"whale\"\n",
      "Topic: 9 Word: 0.011*\"elect\" + 0.010*\"govern\" + 0.009*\"health\" + 0.007*\"labor\" + 0.006*\"state\" + 0.006*\"thursday\" + 0.006*\"liber\" + 0.006*\"mental\" + 0.006*\"say\" + 0.006*\"daniel\"\n"
     ]
    }
   ],
   "source": [
    "lda_model_tfidf = gensim.models.LdaMulticore(corpus_tfidf, num_topics=10, id2word=dictionary, passes=2, workers=4)\n",
    "for idx, topic in lda_model_tfidf.print_topics(-1):\n",
    "    print('Topic: {} Word: {}'.format(idx, topic))"
   ]
  },
  {
   "cell_type": "markdown",
   "metadata": {},
   "source": [
    "Nuevamente, ¿podemos distinguir diferentes temas usando las palabras en cada tema y sus pesos correspondientes?"
   ]
  },
  {
   "cell_type": "markdown",
   "metadata": {},
   "source": [
    "### <span style=\"color:#4CC9F0\">Evaluación del desempeño clasificando el documento de muestra usando el modelo LDA de bolsa de palabras</span>"
   ]
  },
  {
   "cell_type": "markdown",
   "metadata": {},
   "source": [
    "Comprobaremos donde se clasificaría nuestro documento de prueba."
   ]
  },
  {
   "cell_type": "code",
   "execution_count": 32,
   "metadata": {},
   "outputs": [
    {
     "data": {
      "text/plain": [
       "['ratepay', 'group', 'want', 'compulsori', 'local', 'govt', 'vote']"
      ]
     },
     "execution_count": 32,
     "metadata": {},
     "output_type": "execute_result"
    }
   ],
   "source": [
    "processed_docs[4310]"
   ]
  },
  {
   "cell_type": "code",
   "execution_count": 33,
   "metadata": {
    "scrolled": true
   },
   "outputs": [
    {
     "name": "stdout",
     "output_type": "stream",
     "text": [
      "\n",
      "Score: 0.8874779939651489\t \n",
      "Topic: 0.032*\"govern\" + 0.018*\"plan\" + 0.018*\"border\" + 0.014*\"commun\" + 0.014*\"indigen\" + 0.013*\"water\" + 0.013*\"region\" + 0.012*\"concern\" + 0.011*\"council\" + 0.011*\"industri\"\n",
      "\n",
      "Score: 0.01250430103391409\t \n",
      "Topic: 0.029*\"live\" + 0.023*\"women\" + 0.019*\"victorian\" + 0.019*\"china\" + 0.013*\"need\" + 0.012*\"deal\" + 0.012*\"budget\" + 0.012*\"rural\" + 0.011*\"drum\" + 0.011*\"citi\"\n",
      "\n",
      "Score: 0.012502862140536308\t \n",
      "Topic: 0.022*\"elect\" + 0.022*\"nation\" + 0.019*\"say\" + 0.019*\"state\" + 0.017*\"minist\" + 0.016*\"call\" + 0.014*\"miss\" + 0.013*\"speak\" + 0.012*\"labor\" + 0.012*\"care\"\n",
      "\n",
      "Score: 0.012502385303378105\t \n",
      "Topic: 0.022*\"donald\" + 0.018*\"coronaviru\" + 0.016*\"year\" + 0.016*\"tasmania\" + 0.014*\"chang\" + 0.013*\"warn\" + 0.012*\"feder\" + 0.012*\"high\" + 0.011*\"travel\" + 0.011*\"tasmanian\"\n",
      "\n",
      "Score: 0.012502186931669712\t \n",
      "Topic: 0.033*\"vaccin\" + 0.029*\"home\" + 0.024*\"bushfir\" + 0.020*\"test\" + 0.019*\"covid\" + 0.015*\"australia\" + 0.014*\"countri\" + 0.013*\"support\" + 0.012*\"hotel\" + 0.010*\"trade\"\n",
      "\n",
      "Score: 0.012502182275056839\t \n",
      "Topic: 0.055*\"polic\" + 0.038*\"case\" + 0.027*\"charg\" + 0.027*\"court\" + 0.023*\"death\" + 0.022*\"murder\" + 0.019*\"face\" + 0.018*\"restrict\" + 0.015*\"trial\" + 0.014*\"investig\"\n",
      "\n",
      "Score: 0.012502157129347324\t \n",
      "Topic: 0.049*\"coronaviru\" + 0.037*\"covid\" + 0.025*\"news\" + 0.021*\"market\" + 0.017*\"lockdown\" + 0.017*\"hospit\" + 0.016*\"morrison\" + 0.015*\"work\" + 0.014*\"fight\" + 0.013*\"student\"\n",
      "\n",
      "Score: 0.012501981109380722\t \n",
      "Topic: 0.044*\"australia\" + 0.021*\"open\" + 0.014*\"australian\" + 0.014*\"final\" + 0.013*\"time\" + 0.011*\"lose\" + 0.011*\"tell\" + 0.010*\"releas\" + 0.009*\"adelaid\" + 0.009*\"game\"\n",
      "\n",
      "Score: 0.012501969002187252\t \n",
      "Topic: 0.037*\"trump\" + 0.036*\"queensland\" + 0.030*\"victoria\" + 0.019*\"world\" + 0.019*\"australia\" + 0.017*\"coast\" + 0.016*\"south\" + 0.015*\"peopl\" + 0.015*\"canberra\" + 0.013*\"busi\"\n",
      "\n",
      "Score: 0.012501958757638931\t \n",
      "Topic: 0.022*\"kill\" + 0.020*\"crash\" + 0.019*\"attack\" + 0.018*\"die\" + 0.015*\"leav\" + 0.015*\"coronaviru\" + 0.013*\"jail\" + 0.013*\"alleg\" + 0.012*\"dead\" + 0.011*\"million\"\n"
     ]
    }
   ],
   "source": [
    "for index, score in sorted(lda_model[bow_corpus[4310]], key=lambda tup: -1*tup[1]):\n",
    "    print(\"\\nScore: {}\\t \\nTopic: {}\".format(score, lda_model.print_topic(index, 10)))"
   ]
  },
  {
   "cell_type": "markdown",
   "metadata": {},
   "source": [
    "Nuestro documento de prueba tiene la mayor probabilidad de ser parte del tema que asignó nuestro modelo, que es la clasificación precisa.\n"
   ]
  },
  {
   "cell_type": "markdown",
   "metadata": {
    "tags": []
   },
   "source": [
    "### <span style=\"color:#4CC9F0\">Evaluación del desempeño clasificando el documento de muestra usando el modelo LDA TF-IDF.</span>"
   ]
  },
  {
   "cell_type": "code",
   "execution_count": 34,
   "metadata": {
    "scrolled": true
   },
   "outputs": [
    {
     "name": "stdout",
     "output_type": "stream",
     "text": [
      "\n",
      "Score: 0.8874601721763611\t \n",
      "Topic: 0.029*\"covid\" + 0.024*\"coronaviru\" + 0.016*\"news\" + 0.014*\"vaccin\" + 0.011*\"case\" + 0.009*\"lockdown\" + 0.009*\"rural\" + 0.009*\"drum\" + 0.007*\"victoria\" + 0.006*\"australia\"\n",
      "\n",
      "Score: 0.012507980689406395\t \n",
      "Topic: 0.011*\"elect\" + 0.010*\"govern\" + 0.009*\"health\" + 0.007*\"labor\" + 0.006*\"state\" + 0.006*\"thursday\" + 0.006*\"liber\" + 0.006*\"mental\" + 0.006*\"say\" + 0.006*\"daniel\"\n",
      "\n",
      "Score: 0.012505261227488518\t \n",
      "Topic: 0.009*\"live\" + 0.008*\"christma\" + 0.007*\"drought\" + 0.006*\"cattl\" + 0.006*\"farmer\" + 0.006*\"histori\" + 0.006*\"export\" + 0.006*\"price\" + 0.005*\"coal\" + 0.005*\"america\"\n",
      "\n",
      "Score: 0.01250474900007248\t \n",
      "Topic: 0.012*\"market\" + 0.008*\"coronaviru\" + 0.008*\"sport\" + 0.008*\"share\" + 0.008*\"pandem\" + 0.008*\"financ\" + 0.007*\"search\" + 0.007*\"juli\" + 0.006*\"eas\" + 0.006*\"australian\"\n",
      "\n",
      "Score: 0.012504655867815018\t \n",
      "Topic: 0.013*\"royal\" + 0.011*\"commiss\" + 0.011*\"stori\" + 0.009*\"extend\" + 0.008*\"mother\" + 0.007*\"octob\" + 0.007*\"rollout\" + 0.006*\"andrew\" + 0.006*\"interview\" + 0.005*\"whale\"\n",
      "\n",
      "Score: 0.012504483573138714\t \n",
      "Topic: 0.017*\"countri\" + 0.012*\"hour\" + 0.011*\"bushfir\" + 0.009*\"michael\" + 0.008*\"david\" + 0.007*\"coronaviru\" + 0.007*\"mark\" + 0.006*\"fire\" + 0.006*\"restrict\" + 0.006*\"facebook\"\n",
      "\n",
      "Score: 0.01250347588211298\t \n",
      "Topic: 0.018*\"donald\" + 0.009*\"age\" + 0.009*\"monday\" + 0.008*\"wednesday\" + 0.008*\"sexual\" + 0.008*\"biden\" + 0.007*\"john\" + 0.007*\"insid\" + 0.007*\"hobart\" + 0.006*\"care\"\n",
      "\n",
      "Score: 0.012503200210630894\t \n",
      "Topic: 0.029*\"trump\" + 0.019*\"south\" + 0.014*\"north\" + 0.014*\"coast\" + 0.011*\"queensland\" + 0.009*\"gold\" + 0.009*\"west\" + 0.009*\"weather\" + 0.007*\"australia\" + 0.007*\"east\"\n",
      "\n",
      "Score: 0.012503092177212238\t \n",
      "Topic: 0.011*\"australia\" + 0.010*\"morrison\" + 0.009*\"world\" + 0.008*\"final\" + 0.007*\"australian\" + 0.007*\"friday\" + 0.007*\"scott\" + 0.006*\"cricket\" + 0.006*\"leagu\" + 0.006*\"india\"\n",
      "\n",
      "Score: 0.01250295527279377\t \n",
      "Topic: 0.020*\"polic\" + 0.018*\"charg\" + 0.015*\"murder\" + 0.012*\"woman\" + 0.011*\"court\" + 0.010*\"shoot\" + 0.010*\"alleg\" + 0.010*\"arrest\" + 0.010*\"jail\" + 0.009*\"death\"\n"
     ]
    }
   ],
   "source": [
    "for index, score in sorted(lda_model_tfidf[bow_corpus[4310]], key=lambda tup: -1*tup[1]):\n",
    "    print(\"\\nScore: {}\\t \\nTopic: {}\".format(score, lda_model_tfidf.print_topic(index, 10)))"
   ]
  },
  {
   "cell_type": "markdown",
   "metadata": {},
   "source": [
    "Nuestro documento de prueba tiene la mayor probabilidad de ser parte del tema que asignó nuestro modelo, que es la clasificación precisa."
   ]
  },
  {
   "cell_type": "markdown",
   "metadata": {},
   "source": [
    "## <span style=\"color:#4361EE\">Prueba del modelo con un documento no visto antes.</span>"
   ]
  },
  {
   "cell_type": "code",
   "execution_count": 35,
   "metadata": {
    "scrolled": true
   },
   "outputs": [
    {
     "name": "stdout",
     "output_type": "stream",
     "text": [
      "Score: 0.3499571681022644\t Topic: 0.049*\"coronaviru\" + 0.037*\"covid\" + 0.025*\"news\" + 0.021*\"market\" + 0.017*\"lockdown\"\n",
      "Score: 0.18340088427066803\t Topic: 0.029*\"live\" + 0.023*\"women\" + 0.019*\"victorian\" + 0.019*\"china\" + 0.013*\"need\"\n",
      "Score: 0.1833355724811554\t Topic: 0.044*\"australia\" + 0.021*\"open\" + 0.014*\"australian\" + 0.014*\"final\" + 0.013*\"time\"\n",
      "Score: 0.1832621544599533\t Topic: 0.022*\"kill\" + 0.020*\"crash\" + 0.019*\"attack\" + 0.018*\"die\" + 0.015*\"leav\"\n",
      "Score: 0.016674043610692024\t Topic: 0.055*\"polic\" + 0.038*\"case\" + 0.027*\"charg\" + 0.027*\"court\" + 0.023*\"death\"\n",
      "Score: 0.016674043610692024\t Topic: 0.033*\"vaccin\" + 0.029*\"home\" + 0.024*\"bushfir\" + 0.020*\"test\" + 0.019*\"covid\"\n",
      "Score: 0.016674043610692024\t Topic: 0.037*\"trump\" + 0.036*\"queensland\" + 0.030*\"victoria\" + 0.019*\"world\" + 0.019*\"australia\"\n",
      "Score: 0.016674043610692024\t Topic: 0.022*\"elect\" + 0.022*\"nation\" + 0.019*\"say\" + 0.019*\"state\" + 0.017*\"minist\"\n",
      "Score: 0.016674043610692024\t Topic: 0.022*\"donald\" + 0.018*\"coronaviru\" + 0.016*\"year\" + 0.016*\"tasmania\" + 0.014*\"chang\"\n",
      "Score: 0.016674043610692024\t Topic: 0.032*\"govern\" + 0.018*\"plan\" + 0.018*\"border\" + 0.014*\"commun\" + 0.014*\"indigen\"\n"
     ]
    }
   ],
   "source": [
    "unseen_document = 'How a Pentagon deal became an identity crisis for Google'\n",
    "bow_vector = dictionary.doc2bow(preprocess(unseen_document))\n",
    "for index, score in sorted(lda_model[bow_vector], key=lambda tup: -1*tup[1]):\n",
    "    print(\"Score: {}\\t Topic: {}\".format(score, lda_model.print_topic(index, 5)))\n"
   ]
  },
  {
   "cell_type": "markdown",
   "metadata": {},
   "source": [
    "## <span style=\"color:#4361EE\">Referencias</span> "
   ]
  },
  {
   "cell_type": "markdown",
   "metadata": {},
   "source": [
    "1. [Tf-idf](https://es.wikipedia.org/wiki/Tf-idf)\n",
    "2. [Tokenize text using NLTK in python](https://www.geeksforgeeks.org/tokenize-text-using-nltk-python/?ref=rp)\n",
    "3. [Stemming of words in Natural Language Processing, what is it?](https://towardsdatascience.com/stemming-of-words-in-natural-language-processing-what-is-it-41a33e8996e2#Over%20stemming)\n",
    "4. [Topic Modeling and Latent Dirichlet Allocation (LDA) in Python](https://towardsdatascience.com/topic-modeling-and-latent-dirichlet-allocation-in-python-9bf156893c24)\n",
    "5. [Latent Dirichlet Allocation](https://www.jmlr.org/papers/volume3/blei03a/blei03a.pdf)"
   ]
  }
 ],
 "metadata": {
  "kernelspec": {
   "display_name": "Python 3 (ipykernel)",
   "language": "python",
   "name": "python3"
  },
  "language_info": {
   "codemirror_mode": {
    "name": "ipython",
    "version": 3
   },
   "file_extension": ".py",
   "mimetype": "text/x-python",
   "name": "python",
   "nbconvert_exporter": "python",
   "pygments_lexer": "ipython3",
   "version": "3.10.4"
  },
  "toc-autonumbering": false
 },
 "nbformat": 4,
 "nbformat_minor": 4
}
