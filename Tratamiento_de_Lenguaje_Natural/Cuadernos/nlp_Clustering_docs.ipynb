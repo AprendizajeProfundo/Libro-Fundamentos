{
 "cells": [
  {
   "cell_type": "markdown",
   "metadata": {
    "tags": []
   },
   "source": [
    "# <span style=\"color:#F72585\"><center>Técnicas modernas de clasificación de documentos</center></span>"
   ]
  },
  {
   "cell_type": "markdown",
   "metadata": {},
   "source": [
    "<center>Técnicas word2vec</center>"
   ]
  },
  {
   "cell_type": "markdown",
   "metadata": {},
   "source": [
    "## <span style=\"color:#4361EE\">Introducción</span>"
   ]
  },
  {
   "cell_type": "markdown",
   "metadata": {},
   "source": [
    "Trabajar con datos de texto no estructurados es difícil, especialmente cuando se intenta construir un sistema inteligente que interprete y comprenda el lenguaje natural que fluye libremente al igual que los humanos. \n",
    "\n",
    "\n",
    "Debe poder procesar y transformar datos textuales no estructurados y ruidosos, en algunos formatos estructurados y vectorizados, que puedan ser entendidos por cualquier algoritmo de aprendizaje automático. \n",
    "\n",
    "\n",
    "Los principios del procesamiento del lenguaje natural, el aprendizaje automático o el aprendizaje profundo, todos los cuales caen bajo el amplio paraguas de la inteligencia artificial, son herramientas eficaces del oficio. \n",
    "\n",
    "\n",
    "Un punto importante a recordar aquí es que cualquier algoritmo de aprendizaje automático se basa en principios de estadística, matemáticas y optimización. \n",
    "\n",
    "Por lo tanto, no son lo suficientemente inteligentes como para comenzar a procesar texto en su forma original y sin preprocesar. \n",
    "\n",
    "En esta lección revisamos los métodos más modernos para el descubrimiento de tópicos y clasificación de documentos. Usaremos algunos modelos globales preentrados que se encuentran disponibles libremente.\n",
    "\n",
    "Más específicamente, cubriremos los modelos **Word2Vec**, **Glove** y **FasText** y usaremos las herramientas `nltk`, `gensim` y `spacy`.\n",
    "\n",
    "En esta lección no usaremos TensorFlow."
   ]
  },
  {
   "cell_type": "markdown",
   "metadata": {},
   "source": [
    "## <span style=\"color:#4361EE\">No cuente, prediga</span>"
   ]
  },
  {
   "cell_type": "markdown",
   "metadata": {},
   "source": [
    "Para superar las deficiencias de perder la semántica y la escasez de características basadas en el modelo de bolsa de palabras, necesitamos hacer uso de los modelos de espacio vectorial - **Vector Space Models** (*VSM*) de tal manera que podamos incrustar vectores de palabras en este espacio vectorial continuo basado en semánticas y similitud contextual. \n",
    "\n",
    "\n",
    "De hecho, la *hipótesis distributiva* en el campo de la *semántica distributiva* nos dice que **las palabras que ocurren y se usan en el mismo contexto, son semánticamente similares entre sí y tienen significados similares**. \n",
    "\n",
    "\n",
    "En términos simples, **una palabra se caracteriza por la compañía que mantiene**. Uno de los artículos famosos que habla en detalle sobre estos vectores de palabras semánticas y varios tipos es [Don’t count, predict! A systematic comparison of context-counting vs. context-predicting semantic vectors’](https://www.aclweb.org/anthology/P14-1023.pdf), de Baroni et al.\n",
    "\n",
    "\n",
    "No profundizaremos mucho, pero en resumen, hay dos tipos principales de métodos para los vectores de palabras contextuales. \n",
    "\n",
    "- **Los métodos basados en conteo** como el *Análisis semántico latente* (LSA) que se pueden usar para calcular algunas medidas estadísticas de la frecuencia con la que las palabras ocurren con sus palabras vecinas en un corpus y luego construir vectores de palabras densas para cada palabra a partir de estas medidas. \n",
    "- **Los métodos predictivos** como los modelos de lenguaje basados en redes neuronales, intentan predecir palabras a partir de las palabras vecinas, observando secuencias de palabras en el corpus y, en el proceso, aprende representaciones distribuidas que nos proporcionan densas incrustaciones de palabras. \n",
    "\n",
    "Nos centraremos en estos métodos predictivos en esta lección."
   ]
  },
  {
   "cell_type": "markdown",
   "metadata": {},
   "source": [
    "## <span style=\"color:#4361EE\">Sumergimiento o incrustamiento de palabras - word embeddings</span>"
   ]
  },
  {
   "cell_type": "markdown",
   "metadata": {},
   "source": [
    "Con respecto a los sistemas de reconocimiento de voz o imágenes, toda la información ya está presente en forma de vectores de características ricos y densos incrustados en conjuntos de datos de alta dimensión como espectrogramas de audio e intensidades de píxeles de imagen, como hemos estudiado en otras lecciones.\n",
    "\n",
    "\n",
    "Sin embargo, cuando se trata de datos de texto sin procesar, especialmente modelos basados en conteo como la bolsa de palabras (*bag of words*), estamos tratando con palabras individuales que pueden tener sus propios identificadores y no capturan la relación semántica entre palabras. \n",
    "\n",
    "En lecciones anteriores trabajamos con la técnica de bolsa de palabras en la tećnica *Lattent Dirichlet Allocation* (LDA). \n",
    "\n",
    "Esto conduce a enormes vectores de palabras dispersas para datos textuales y, por lo tanto, si no tenemos suficientes datos, podemos terminar obteniendo modelos deficientes o incluso sobreajustando los datos debido a la maldición de la dimensionalidad."
   ]
  },
  {
   "cell_type": "markdown",
   "metadata": {},
   "source": [
    "## <span style=\"color:#4361EE\">Modelos Word2Vec</span>"
   ]
  },
  {
   "cell_type": "markdown",
   "metadata": {},
   "source": [
    "La familia de modelos Word2Vec no es supervisada, lo que esto significa es que puede simplemente darle un corpus sin etiquetas o información adicional y puede construir incrustaciones densas de palabras a partir del corpus. \n",
    "\n",
    "Pero aún necesitará aprovechar una metodología de clasificación supervisada una vez que tenga este corpus para acceder a estas incorporaciones. \n",
    "\n",
    "Haremos esto desde el propio corpus, sin ninguna información auxiliar. Podemos modelar esta arquitectura CBOW ahora como un modelo de clasificación de aprendizaje profundo de modo que tomemos en las palabras de contexto como nuestra entrada, $X$ e intentemos predecir la palabra objetivo, $Y$. "
   ]
  },
  {
   "cell_type": "markdown",
   "metadata": {},
   "source": [
    "## <span style=\"color:#4361EE\">Modelo CBOW</span>"
   ]
  },
  {
   "cell_type": "markdown",
   "metadata": {},
   "source": [
    "\n",
    "<figure>\n",
    "<center>\n",
    "<img src=\"../Imagenes/cbow_1_palabra.png\" width=\"450\" height=\"400\" align=\"center\"/>\n",
    "</center>\n",
    "<figcaption>\n",
    "<p style=\"text-align:center\">Arquitectura del modelo CBOW con una palabra de contexto</p>\n",
    "</figcaption>\n",
    "</figure>\n",
    "\n",
    "Fuente: Alvaro Montenegro"
   ]
  },
  {
   "cell_type": "markdown",
   "metadata": {},
   "source": [
    "La siguiente imagen es la arquitectura general CBOW."
   ]
  },
  {
   "cell_type": "markdown",
   "metadata": {},
   "source": [
    "\n",
    "<figure>\n",
    "<center>\n",
    "<img src=\"../Imagenes/CBOW.png\" width=\"300\" height=\"200\" align=\"center\"/>\n",
    "</center>\n",
    "<figcaption>\n",
    "<p style=\"text-align:center\">Arquitectura general del modelo CBOW</p>\n",
    "</figcaption>\n",
    "</figure>\n",
    "\n",
    "Fuente: \n",
    "[Efficient Estimation of Word Representations in Vector space](https://arxiv.org/pdf/1301.3781.pdf)"
   ]
  },
  {
   "cell_type": "markdown",
   "metadata": {},
   "source": [
    "Veamos un ejemplo de como se hace la preparación de los datos para CBOW.\n",
    "\n",
    "Usaremos el símbolo especial *PAD* para codificar los espacios faltantes (se hizo en tensorflow con la función `sequence_pad`. ¿Recuerda?\n",
    "\n",
    "Consideremos la frase en inglés (más tarde mostraremos como usar las herramientas para español).\n",
    "\n",
    "- *the quick brown fox jumps over the lazzy dog*\n",
    "\n",
    "La construción de los contextos usando una ventana de contexto de tamaño 2 es como sigue:\n",
    "\n",
    "1. (PAD, PAD,quick, brown) -> the\n",
    "2. (PAD, the, brown, fox) -> quick\n",
    "3. (the, quick, fox,  jumps) -> brown\n",
    "4. (quick, brown,  jumps, over) -> fox\n",
    "5. (brown, fox, over, the) -> jumps\n",
    "6. (fox, jumps, the, lazzy) -> over\n",
    "7. (jumps, over,  lazzy, dog) -> the\n",
    "8. (over, the, dog, PAD) -> lazzy\n",
    "9. (the, lazzy, PAD, PAD) -> dog"
   ]
  },
  {
   "cell_type": "markdown",
   "metadata": {},
   "source": [
    "## <span style=\"color:#4361EE\">Modelo Skip-gram</span>"
   ]
  },
  {
   "cell_type": "markdown",
   "metadata": {},
   "source": [
    "La arquitectura del modelo *Skip-gram* generalmente intenta lograr lo contrario de lo que hace el modelo CBOW. \n",
    "\n",
    "\n",
    "Intenta predecir las palabras de contexto de origen (palabras circundantes) dada una palabra de destino (la palabra central). Teniendo en cuenta nuestra simple oración de antes, \"the quick brown fox jumps over the lazy dog”. \n",
    "\n",
    "Si usamos el modelo CBOW, obtenemos pares de (context_window, target_word) donde si consideramos una ventana de contexto de tamaño 2, tenemos ejemplos como ([quick, fox], brown), ([the, brown], quick) , ([the, dog], lazy) y así sucesivamente. \n",
    "\n",
    "Ahora, teniendo en cuenta que el objetivo del modelo *skip-gram* es predecir el contexto a partir de la palabra objetivo, el modelo normalmente invierte los contextos y objetivos e intenta predecir cada palabra de contexto a partir de su palabra objetivo. \n",
    "\n",
    "Por lo tanto, la tarea se convierte en predecir el contexto [quick, fox] dada la palabra objetivo *brown* o [the brown] dada la palabra objetivo *quick* y así sucesivamente. \n",
    "\n",
    "Por lo tanto, el modelo intenta predecir las palabras de la ventana context_window basándose en target_word.\n",
    "\n",
    "La figura ilustra la arquitectuta skip-gram."
   ]
  },
  {
   "cell_type": "markdown",
   "metadata": {},
   "source": [
    "\n",
    "<figure>\n",
    "<center>\n",
    "<img src=\"../Imagenes/SKIP_gram.png\" width=\"300\" height=\"200\" align=\"center\"/>\n",
    "</center>\n",
    "<figcaption>\n",
    "<p style=\"text-align:center\">Modelo Skip-gram</p>\n",
    "</figcaption>\n",
    "</figure>\n",
    "\n",
    "Fuente: [Efficient Estimation of Word Representations in Vector space](https://arxiv.org/pdf/1301.3781.pdf)"
   ]
  },
  {
   "cell_type": "markdown",
   "metadata": {},
   "source": [
    "\n",
    "\n",
    "<figure>\n",
    "<center>\n",
    "<img src=\"../Imagenes/Skip-Gram-architecture.jpg\" width=\"500\" height=\"600\" align=\"center\"/>\n",
    "</center>\n",
    "<figcaption>\n",
    "<p style=\"text-align:center\">Arquitectura Skip-gram</p>\n",
    "</figcaption>\n",
    "</figure>\n",
    "\n",
    "Fuente: \n",
    "[Exploring chemical space using natural language processing](https://www.researchgate.net/publication/339013257_Exploring_chemical_space_using_natural_language_processing_methodologies_for_drug_discovery/figures?lo=1)\n"
   ]
  },
  {
   "cell_type": "markdown",
   "metadata": {},
   "source": [
    "Para esto, alimentamos nuestros pares de modelos de skip-gram, que son $(X, Y)$ donde $X$ es nuestra entrada e $Y$ es nuestra etiqueta. \n",
    "\n",
    "Hacemos esto usando los pares [(*objetivo*, *contexto*), *1*]  como muestras de entrada positivas, donde *objetivo* es nuestra palabra de interés, *contexto* es una palabra de contexto que aparece cerca de la palabra objetivo y la etiqueta positiva *1* indica que este es un par contextualmente relevante. \n",
    "\n",
    "\n",
    "También introducimos pares [(*objetivo*, *aleatorio*), *0*] como muestras de entrada negativa donde *objetivo* es nuevamente nuestra palabra de interés, pero *aleatorio* significa que es solo una palabra seleccionada al azar de nuestro vocabulario que no tiene contexto o asociación con nuestra palabra objetivo. \n",
    "\n",
    "\n",
    "Por lo tanto, la etiqueta negativa *0* indica que este es un par contextualmente irrelevante. Hacemos esto para que el modelo pueda aprender que pares de palabras son contextualmente relevantes y cuales no y generar incrustaciones similares para palabras semánticamente similares.\n",
    "\n",
    "La construcción de los pares [(*objetivo*, *aleatorio*), *0*] se hace tomando al azar palabras objetivo y asociandole al azar palabras con  las que no haya conformado parejas de contexto. Los autores citados en las referencias proponen más de una alternativa para generar estas parejas, basados en distintos modelos de muestreo. Por lo general se sugiere que haya tantas parejas postivas como negativas."
   ]
  },
  {
   "cell_type": "markdown",
   "metadata": {},
   "source": [
    "En el mismo ejemplo anterior \n",
    "\n",
    "- *the quick brown fox jumps over the lazzy dog*\n",
    "\n",
    "se tiene que las parejas positivas son:\n",
    "\n",
    "1. the: (the, quick), (the, brown) (the, jumps), (the, over), (the, lazzy),  (the,dog)\n",
    "2. quick: (quick, the), (quick, brown), (quick, fox)\n",
    "3. brown: (brown, the) (brown, quick), (brown, jumps), (brown, over)\n",
    "4. fox: (fox, quick), (fox, brown), (fox, jumps), (fox, over)\n",
    "5. jumps: (jumps, brown), (jumps, fox), (jumps, over), (jumps, the)\n",
    "6. lazzy: (lazzy, over), (lazzy, the), (lazzy, dog)\n",
    "7. dog: (dog,the), (dog, lazzy)\n",
    "\n",
    "Una pareja negativa puede ser (quick, lazzy)."
   ]
  },
  {
   "cell_type": "markdown",
   "metadata": {},
   "source": [
    "## <span style=\"color:#4361EE\">Sobre que podemos esperar</span> "
   ]
  },
  {
   "cell_type": "markdown",
   "metadata": {},
   "source": [
    "Supongamos que se ha obtenido la siguiente codificación word2vec para personajes de comics.\n",
    "\n",
    "word2vec(‘Batman’) = [0.9, 0.8, 0.2]\n",
    "\n",
    "word2vec(‘Joker’) = [0.8, 0.3, 0.1]\n",
    "\n",
    "word2vec(‘Spiderman’) = [0.2, 0.9, 0.8]\n",
    "\n",
    "word2vec(‘Thanos’) = [0.3, 0.1, 0.9]\n",
    "\n",
    "1. Parece que la primera característica representa la pertenencia al Universo DC. Observa que \"Batman\" y \"Joker\" tienen valores más altos para su primera función porque pertenecen al Universo DC.\n",
    "2. Quizás el segundo elemento en la representación de word2vec aquí captura las características de héroe / villano. Es por eso que \"Batman\" y \"Spiderman\" tienen valores más altos y \"Joker\" y \"Thanos\" tienen valores más pequeños.\n",
    "3. Se podría decir que el tercer componente de la palabra vectores representa los poderes / habilidades sobrenaturales. Todos sabemos que \"Batman\" y \"Joker\" no tienen superpoderes y es por eso que sus vectores tienen números pequeños en la tercera posición."
   ]
  },
  {
   "cell_type": "markdown",
   "metadata": {},
   "source": [
    "\n",
    "\n",
    "\n",
    "<figure>\n",
    "<center>\n",
    "<img src=\"../Imagenes/word2vec-models.jpg\" width=\"600\" height=\"600\" align=\"center\"/>\n",
    "</center>\n",
    "<figcaption>\n",
    "<p style=\"text-align:center\">Arquitectura word2vec</p>\n",
    "</figcaption>\n",
    "</figure>\n",
    "\n",
    "Fuente: \n",
    "[word2vec arquitecture](https://figshare.com/articles/figure/_i_Word2Vec_i_architecture_The_figure_shows_two_variants_of_word2vec_architecture_CBOW_and_Skip_gram_26_for_a_sample_/11982951)\n"
   ]
  },
  {
   "cell_type": "markdown",
   "metadata": {},
   "source": [
    "## <span style=\"color:#4361EE\">Las tareas lingüisticas</span> "
   ]
  },
  {
   "cell_type": "markdown",
   "metadata": {},
   "source": [
    "En el paper de Baroni et al., 2014, [Don’t count, predict! A systematic comparison of context-counting vs. context-predicting semantic vectors](https://www.aclweb.org/anthology/P14-1023.pdf), se comparan los métodos clásicos de distribución semántica probabilística de documentos, con los modelos predictivos presentados en esta lección. Para la comparación de ello desarrollan las siguientes tareas lingüísticas:\n",
    "\n",
    "1. Relación semántica de términos.\n",
    "2. Detección de sinónimos.\n",
    "3. Categorización de conceptos.\n",
    "4. Selección de preferencias. (verbo, sustantivo). Variedad en el uso del lenguaje.\n",
    "5. Analogías sintácticas. [(brother,sister), grandson] -> granddaughter.\n",
    "\n",
    "Invitamos al lector interesado la lectura del paper."
   ]
  },
  {
   "cell_type": "markdown",
   "metadata": {},
   "source": [
    "## <span style=\"color:#4361EE\">Recursos lingüísticos</span> "
   ]
  },
  {
   "cell_type": "markdown",
   "metadata": {},
   "source": [
    "[NLTK](https://www.nltk.org/py-modindex.html) incluye una pequeña selección de textos del archivo de texto electrónico del Proyecto Gutenberg, que contiene unos 25.000 libros electrónicos gratuitos, alojados en [Gutenberg project](http://www.gutenberg.org/)\n",
    "\n",
    "Tokenizador de frases *Punkt*.\n",
    "\n",
    "Este tokenizador divide un texto en una lista de oraciones, mediante el uso de un algoritmo no supervisado para construir un modelo de abreviaturas, colocaciones y palabras que inician oraciones. Debe entrenarse en una gran colección de textos sin formato en el idioma de destino antes de que pueda usarse.\n",
    "\n",
    "El paquete de datos `nltk` incluye un tokenizador Punkt previamente entrenado para inglés."
   ]
  },
  {
   "cell_type": "markdown",
   "metadata": {},
   "source": [
    "## <span style=\"color:#4361EE\">Corpus de juguete</span>"
   ]
  },
  {
   "cell_type": "markdown",
   "metadata": {},
   "source": [
    "Para empezar usaremos el siguiente *corpus de juguete*.\n",
    "\n",
    "Nuestro corpus de juguete consta de documentos pertenecientes a varias categorías. \n",
    "\n",
    "Otro corpus que usaremos en esta lección es la versión *King James de la Biblia* disponible gratuitamente en *Project Gutenberg* a través del módulo de corpus en `nltk`.\n",
    "\n",
    "Lo cargaremos en breve, en la siguiente sección. Antes de los análisis necesitamos preprocesar y normalizar este texto."
   ]
  },
  {
   "cell_type": "markdown",
   "metadata": {},
   "source": [
    "### <span style=\"color:#4CC9F0\">Importa librerías (módulos)</span>"
   ]
  },
  {
   "cell_type": "code",
   "execution_count": 1,
   "metadata": {},
   "outputs": [],
   "source": [
    "import pandas as pd\n",
    "import numpy as np\n",
    "import re\n",
    "import nltk\n",
    "import matplotlib.pyplot as plt\n",
    "\n",
    "pd.options.display.max_colwidth = 200\n",
    "\n",
    "%matplotlib inline"
   ]
  },
  {
   "cell_type": "markdown",
   "metadata": {},
   "source": [
    "### <span style=\"color:#4CC9F0\">Corpus de juguete</span>"
   ]
  },
  {
   "cell_type": "code",
   "execution_count": 2,
   "metadata": {},
   "outputs": [
    {
     "data": {
      "text/html": [
       "<div>\n",
       "<style scoped>\n",
       "    .dataframe tbody tr th:only-of-type {\n",
       "        vertical-align: middle;\n",
       "    }\n",
       "\n",
       "    .dataframe tbody tr th {\n",
       "        vertical-align: top;\n",
       "    }\n",
       "\n",
       "    .dataframe thead th {\n",
       "        text-align: right;\n",
       "    }\n",
       "</style>\n",
       "<table border=\"1\" class=\"dataframe\">\n",
       "  <thead>\n",
       "    <tr style=\"text-align: right;\">\n",
       "      <th></th>\n",
       "      <th>Document</th>\n",
       "      <th>Category</th>\n",
       "    </tr>\n",
       "  </thead>\n",
       "  <tbody>\n",
       "    <tr>\n",
       "      <th>0</th>\n",
       "      <td>The sky is blue and beautiful.</td>\n",
       "      <td>weather</td>\n",
       "    </tr>\n",
       "    <tr>\n",
       "      <th>1</th>\n",
       "      <td>Love this blue and beautiful sky!</td>\n",
       "      <td>weather</td>\n",
       "    </tr>\n",
       "    <tr>\n",
       "      <th>2</th>\n",
       "      <td>The quick brown fox jumps over the lazy dog.</td>\n",
       "      <td>animals</td>\n",
       "    </tr>\n",
       "    <tr>\n",
       "      <th>3</th>\n",
       "      <td>A king's breakfast has sausages, ham, bacon, eggs, toast and beans</td>\n",
       "      <td>food</td>\n",
       "    </tr>\n",
       "    <tr>\n",
       "      <th>4</th>\n",
       "      <td>I love green eggs, ham, sausages and bacon!</td>\n",
       "      <td>food</td>\n",
       "    </tr>\n",
       "    <tr>\n",
       "      <th>5</th>\n",
       "      <td>The brown fox is quick and the blue dog is lazy!</td>\n",
       "      <td>animals</td>\n",
       "    </tr>\n",
       "    <tr>\n",
       "      <th>6</th>\n",
       "      <td>The sky is very blue and the sky is very beautiful today</td>\n",
       "      <td>weather</td>\n",
       "    </tr>\n",
       "    <tr>\n",
       "      <th>7</th>\n",
       "      <td>The dog is lazy but the brown fox is quick!</td>\n",
       "      <td>animals</td>\n",
       "    </tr>\n",
       "  </tbody>\n",
       "</table>\n",
       "</div>"
      ],
      "text/plain": [
       "                                                             Document Category\n",
       "0                                      The sky is blue and beautiful.  weather\n",
       "1                                   Love this blue and beautiful sky!  weather\n",
       "2                        The quick brown fox jumps over the lazy dog.  animals\n",
       "3  A king's breakfast has sausages, ham, bacon, eggs, toast and beans     food\n",
       "4                         I love green eggs, ham, sausages and bacon!     food\n",
       "5                    The brown fox is quick and the blue dog is lazy!  animals\n",
       "6            The sky is very blue and the sky is very beautiful today  weather\n",
       "7                         The dog is lazy but the brown fox is quick!  animals"
      ]
     },
     "execution_count": 2,
     "metadata": {},
     "output_type": "execute_result"
    }
   ],
   "source": [
    "corpus = ['The sky is blue and beautiful.',\n",
    "          'Love this blue and beautiful sky!',\n",
    "          'The quick brown fox jumps over the lazy dog.',\n",
    "          \"A king's breakfast has sausages, ham, bacon, eggs, toast and beans\",\n",
    "          'I love green eggs, ham, sausages and bacon!',\n",
    "          'The brown fox is quick and the blue dog is lazy!',\n",
    "          'The sky is very blue and the sky is very beautiful today',\n",
    "          'The dog is lazy but the brown fox is quick!']\n",
    "\n",
    "labels = ['weather', 'weather', 'animals', 'food', 'food', 'animals', 'weather', 'animals']\n",
    "\n",
    "corpus = np.array(corpus)\n",
    "corpus_df = pd.DataFrame({'Document': corpus, \n",
    "                          'Category': labels})\n",
    "corpus_df = corpus_df[['Document', 'Category']]\n",
    "corpus_df"
   ]
  },
  {
   "cell_type": "markdown",
   "metadata": {},
   "source": [
    "## <span style=\"color:#4361EE\">Preprocesamiento del texto</span>"
   ]
  },
  {
   "cell_type": "markdown",
   "metadata": {},
   "source": [
    "Vamos a hacer un preprocesamiento diferente para cada corpus."
   ]
  },
  {
   "cell_type": "code",
   "execution_count": 3,
   "metadata": {},
   "outputs": [],
   "source": [
    "wpt = nltk.WordPunctTokenizer()\n",
    "stop_words = nltk.corpus.stopwords.words('english')\n",
    "\n",
    "def normalize_document(doc):\n",
    "    # quitar caracteres especiales\n",
    "    doc = re.sub(r'[^a-zA-Z\\s]', '', doc, re.I|re.A)\n",
    "    # transformar en minúsculas \n",
    "    doc = doc.lower()\n",
    "    # quitar los espacios en blanco\n",
    "    doc = doc.strip()\n",
    "    # tokenizar el documento\n",
    "    tokens = wpt.tokenize(doc)\n",
    "    # filtrar palabras vacías fuera del documento\n",
    "    filtered_tokens = [token for token in tokens if token not in stop_words]\n",
    "    # volver a crear el documento a partir de tokens filtrados\n",
    "    doc = ' '.join(filtered_tokens)\n",
    "    return doc\n",
    "\n",
    "# crea una función vectorizada para que actúe sobre múltiples textos\n",
    "normalize_corpus = np.vectorize(normalize_document)\n",
    "# normalize_corpus"
   ]
  },
  {
   "cell_type": "code",
   "execution_count": 4,
   "metadata": {},
   "outputs": [
    {
     "data": {
      "text/plain": [
       "array([['sky blue beautiful', 'weather'],\n",
       "       ['love blue beautiful sky', 'weather'],\n",
       "       ['quick brown fox jumps lazy dog', 'animals'],\n",
       "       ['kings breakfast sausages ham bacon eggs toast beans', 'food'],\n",
       "       ['love green eggs ham sausages bacon', 'food'],\n",
       "       ['brown fox quick blue dog lazy', 'animals'],\n",
       "       ['sky blue sky beautiful today', 'weather'],\n",
       "       ['dog lazy brown fox quick', 'animals']], dtype='<U51')"
      ]
     },
     "execution_count": 4,
     "metadata": {},
     "output_type": "execute_result"
    }
   ],
   "source": [
    "norm_corpus_toy = normalize_corpus(corpus_df)\n",
    "norm_corpus_toy"
   ]
  },
  {
   "cell_type": "markdown",
   "metadata": {},
   "source": [
    "## <span style=\"color:#4361EE\">The King James Version of the Bible</span>"
   ]
  },
  {
   "cell_type": "code",
   "execution_count": 5,
   "metadata": {},
   "outputs": [
    {
     "name": "stdout",
     "output_type": "stream",
     "text": [
      "['!', '\"', '#', '$', '%', '&', \"'\", '(', ')', '*', '+', ',', '-', '.', '/', ':', ';', '<', '=', '>', '?', '@', '[', '\\\\', ']', '^', '_', '`', '{', '|', '}', '~', '0', '1', '2', '3', '4', '5', '6', '7', '8', '9']\n"
     ]
    },
    {
     "name": "stderr",
     "output_type": "stream",
     "text": [
      "[nltk_data] Downloading package gutenberg to\n",
      "[nltk_data]     /home/kamilo44/nltk_data...\n",
      "[nltk_data]   Package gutenberg is already up-to-date!\n"
     ]
    }
   ],
   "source": [
    "from nltk.corpus import gutenberg\n",
    "from string import punctuation\n",
    "\n",
    "nltk.download('gutenberg')\n",
    "\n",
    "bible = gutenberg.sents('bible-kjv.txt') # tokeniza por sentencias\n",
    "remove_terms = list(punctuation + '0123456789')\n",
    "print(remove_terms)"
   ]
  },
  {
   "cell_type": "code",
   "execution_count": 6,
   "metadata": {},
   "outputs": [
    {
     "name": "stdout",
     "output_type": "stream",
     "text": [
      "Total lines: 30103\n",
      "\n",
      "Sample line: ['1', ':', '6', 'And', 'God', 'said', ',', 'Let', 'there', 'be', 'a', 'firmament', 'in', 'the', 'midst', 'of', 'the', 'waters', ',', 'and', 'let', 'it', 'divide', 'the', 'waters', 'from', 'the', 'waters', '.']\n",
      "\n",
      "Processed line: god said let firmament midst waters let divide waters waters\n"
     ]
    }
   ],
   "source": [
    "norm_bible = [[word.lower() for word in sent if word not in remove_terms] for sent in bible]\n",
    "norm_bible = [' '.join(tok_sent) for tok_sent in norm_bible]\n",
    "norm_bible = filter(None, normalize_corpus(norm_bible))\n",
    "norm_bible = [tok_sent for tok_sent in norm_bible if len(tok_sent.split()) > 2]\n",
    "\n",
    "print('Total lines:', len(bible))\n",
    "print('\\nSample line:', bible[10])\n",
    "print('\\nProcessed line:', norm_bible[10])"
   ]
  },
  {
   "cell_type": "markdown",
   "metadata": {},
   "source": [
    "## <span style=\"color:#4361EE\">Modelos con Gensim</span>"
   ]
  },
  {
   "cell_type": "markdown",
   "metadata": {},
   "source": [
    "El objeto `word2vec` de `gensim` puede usar CBOW o Skip-gram. Los autores de gensim tomaron el código original escrito por Mikolov y colegas, escrito en c++, lo optimizaron y volvieron *caja negra*. Según ellos gensim es 7 veces más rápido que la implementación que hicimos manualmente en otra lección, usando `numpy`."
   ]
  },
  {
   "cell_type": "markdown",
   "metadata": {},
   "source": [
    "### <span style=\"color:#4CC9F0\">Corpus Biblia</span>"
   ]
  },
  {
   "cell_type": "code",
   "execution_count": 7,
   "metadata": {},
   "outputs": [],
   "source": [
    "from gensim.models import word2vec\n",
    "\n",
    "# tokenizar las oraciones en el corpus\n",
    "wpt = nltk.WordPunctTokenizer()\n",
    "tokenized_corpus_bible = [wpt.tokenize(document) for document in norm_bible]\n",
    "\n",
    "# Establecer valores para varios parámetros\n",
    "feature_size = 100    # Dimensionalidad del vector de palabra (incrustación tenue)\n",
    "window_context = 30   # Tamaño de la ventana de contexto\n",
    "min_word_count = 1    # Recuento mínimo de palabras\n",
    "sample = 1e-3         # Configuración de reducción de resolución para palabras frecuentes\n",
    "\n",
    "w2v_model = word2vec.Word2Vec(tokenized_corpus_bible, vector_size=feature_size, \n",
    "                          window=window_context, min_count=min_word_count,\n",
    "                          sample=sample, epochs=50)"
   ]
  },
  {
   "cell_type": "markdown",
   "metadata": {},
   "source": [
    "### <span style=\"color:#4CC9F0\">Palabras similares, corpus biblia</span>"
   ]
  },
  {
   "cell_type": "code",
   "execution_count": 8,
   "metadata": {},
   "outputs": [
    {
     "data": {
      "text/plain": [
       "{'god': ['lord', 'worldly', 'us', 'sworn', 'established'],\n",
       " 'jesus': ['peter', 'messias', 'immediately', 'synagogue', 'apostles'],\n",
       " 'noah': ['shem', 'ham', 'japheth', 'kenan', 'enosh'],\n",
       " 'egypt': ['pharaoh', 'egyptians', 'bondage', 'rod', 'flowing'],\n",
       " 'john': ['james', 'baptist', 'peter', 'galilee', 'devine'],\n",
       " 'gospel': ['christ', 'faith', 'afflictions', 'preach', 'repentance'],\n",
       " 'moses': ['congregation', 'children', 'doctor', 'aaron', 'joshua'],\n",
       " 'famine': ['pestilence', 'peril', 'blasting', 'mildew', 'noisome']}"
      ]
     },
     "execution_count": 8,
     "metadata": {},
     "output_type": "execute_result"
    }
   ],
   "source": [
    "# ver palabras similares basadas en el modelo de gensim\n",
    "similar_words = {search_term: [item[0] for item in w2v_model.wv.most_similar([search_term], topn=5)]\n",
    "                  for search_term in ['god', 'jesus', 'noah', 'egypt', 'john', 'gospel', 'moses','famine']}\n",
    "similar_words"
   ]
  },
  {
   "cell_type": "markdown",
   "metadata": {},
   "source": [
    "Traducción:\n",
    "\n",
    "{'dios': ['señor', 'mundano', 'jurado', 'salvación', 'impiedad'],  \n",
    "   'jesús': ['pedro', 'mesías', 'sinagoga', 'inmediatamente', 'arrepentimiento'],  \n",
    "   'noé': ['jafet', 'ham', 'shem', 'kenan', 'milcah'],  \n",
    "   'egipto': ['egipcios', 'faraón', 'esclavitud', 'vara', 'que fluye'],  \n",
    "   'juan': ['santiago', 'bautista', 'pedro', 'zebedeo', 'divino'],  \n",
    "   'evangelio': ['fe', 'cristo', 'arrepentimiento', 'predicación', 'esperanza'],  \n",
    "   'moisés': ['niños', 'aarón', 'congregación', 'joshua', 'vara'],  \n",
    "   'hambruna': ['pestilencia', 'peligro', 'alcanza', 'muerte', 'explosión']}"
   ]
  },
  {
   "cell_type": "code",
   "execution_count": null,
   "metadata": {},
   "outputs": [],
   "source": [
    "help(word2vec.Word2Vec)"
   ]
  },
  {
   "cell_type": "markdown",
   "metadata": {},
   "source": [
    "### <span style=\"color:#4CC9F0\">Gráfico con t-SNE</span>"
   ]
  },
  {
   "cell_type": "markdown",
   "metadata": {},
   "source": [
    "Incrustación estocástica de vecinos con distribución t-Student.\n",
    "\n",
    "[t-SNE](https://scikit-learn.org/stable/modules/generated/sklearn.manifold.TSNE.html), [Laurens van der Maaten and Geoffrey Hinton](https://www.jmlr.org/papers/volume9/vandermaaten08a/vandermaaten08a.pdf) es una herramienta para visualizar datos de alta dimensión. Convierte las similitudes entre los puntos de datos en probabilidades conjuntas y trata de minimizar la divergencia de Kullback-Leibler entre las probabilidades conjuntas de la incrustación de baja dimensión y los datos de alta dimensión. t-SNE tiene una función de costo que no es convexa, es decir, con diferentes inicializaciones podemos obtener diferentes resultados.\n",
    "\n",
    "Se recomienda fuertemente utilizar otro método de reducción de dimensionalidad (por ejemplo, PCA para datos densos o TruncatedSVD para datos escasos) para reducir el número de dimensiones a una cantidad razonable (por ejemplo, 50) si el número de características es muy alto. Esto suprimirá algo de ruido y acelerará el cálculo de distancias por pares entre muestras. Para obtener más consejos, consulte las preguntas frecuentes de [Laurens van der Maaten](https://lvdmaaten.github.io/tsne/)"
   ]
  },
  {
   "cell_type": "code",
   "execution_count": 9,
   "metadata": {},
   "outputs": [
    {
     "data": {
      "image/png": "[encoded data removed]",
      "text/plain": [
       "<Figure size 1008x576 with 1 Axes>"
      ]
     },
     "metadata": {
      "needs_background": "light"
     },
     "output_type": "display_data"
    }
   ],
   "source": [
    "from sklearn.manifold import TSNE\n",
    "\n",
    "words = sum([[k] + v for k, v in similar_words.items()], []) # una lista de palabras similares en similar_words\n",
    "wvs = w2v_model.wv[words] # coordenadas de las palabras\n",
    "\n",
    "tsne = TSNE(init='pca', n_components=2, random_state=100, n_iter=10000, perplexity=2)\n",
    "np.set_printoptions(suppress=True)\n",
    "T = tsne.fit_transform(wvs)\n",
    "labels = words\n",
    "\n",
    "plt.figure(figsize=(14, 8))\n",
    "plt.scatter(T[:, 0], T[:, 1], c='orange', edgecolors='r')\n",
    "for label, x, y in zip(labels, T[:, 0], T[:, 1]):\n",
    "    plt.annotate(label, xy=(x+1, y+1), xytext=(0, 0), textcoords='offset points')"
   ]
  },
  {
   "cell_type": "code",
   "execution_count": 10,
   "metadata": {},
   "outputs": [
    {
     "data": {
      "text/plain": [
       "array([[ 0.9082496 , -1.0410248 , -1.1031649 , ...,  0.30777955,\n",
       "        -0.20917465, -0.44398886],\n",
       "       [ 3.1628344 , -0.73358274, -1.9545411 , ...,  1.1384156 ,\n",
       "        -1.2846406 ,  0.6439004 ],\n",
       "       [ 0.1697793 , -0.43518907,  0.1986844 , ..., -0.2787078 ,\n",
       "         0.12445507, -0.30270246],\n",
       "       ...,\n",
       "       [ 0.13279472,  0.17146191, -0.72426784, ...,  0.0976205 ,\n",
       "         0.12398102,  0.2896695 ],\n",
       "       [ 0.1302054 ,  0.2335586 , -0.7392151 , ...,  0.07752872,\n",
       "         0.17340988,  0.25797892],\n",
       "       [ 0.27420732, -0.39506558, -0.91524386, ..., -0.18389931,\n",
       "         0.10716707,  0.03272934]], dtype=float32)"
      ]
     },
     "execution_count": 10,
     "metadata": {},
     "output_type": "execute_result"
    }
   ],
   "source": [
    "wvs"
   ]
  },
  {
   "cell_type": "code",
   "execution_count": 11,
   "metadata": {
    "scrolled": true
   },
   "outputs": [
    {
     "data": {
      "text/plain": [
       "['god',\n",
       " 'lord',\n",
       " 'worldly',\n",
       " 'us',\n",
       " 'sworn',\n",
       " 'established',\n",
       " 'jesus',\n",
       " 'peter',\n",
       " 'messias',\n",
       " 'immediately',\n",
       " 'synagogue',\n",
       " 'apostles',\n",
       " 'noah',\n",
       " 'shem',\n",
       " 'ham',\n",
       " 'japheth',\n",
       " 'kenan',\n",
       " 'enosh',\n",
       " 'egypt',\n",
       " 'pharaoh',\n",
       " 'egyptians',\n",
       " 'bondage',\n",
       " 'rod',\n",
       " 'flowing',\n",
       " 'john',\n",
       " 'james',\n",
       " 'baptist',\n",
       " 'peter',\n",
       " 'galilee',\n",
       " 'devine',\n",
       " 'gospel',\n",
       " 'christ',\n",
       " 'faith',\n",
       " 'afflictions',\n",
       " 'preach',\n",
       " 'repentance',\n",
       " 'moses',\n",
       " 'congregation',\n",
       " 'children',\n",
       " 'doctor',\n",
       " 'aaron',\n",
       " 'joshua',\n",
       " 'famine',\n",
       " 'pestilence',\n",
       " 'peril',\n",
       " 'blasting',\n",
       " 'mildew',\n",
       " 'noisome']"
      ]
     },
     "execution_count": 11,
     "metadata": {},
     "output_type": "execute_result"
    }
   ],
   "source": [
    "words"
   ]
  },
  {
   "cell_type": "markdown",
   "metadata": {},
   "source": [
    "## <span style=\"color:#4361EE\">Aplicación a etiquetado automático de textos</span>"
   ]
  },
  {
   "cell_type": "markdown",
   "metadata": {},
   "source": [
    "Para esta aplicación vamos a usar nuestro ejemplo de juguete."
   ]
  },
  {
   "cell_type": "code",
   "execution_count": 12,
   "metadata": {},
   "outputs": [
    {
     "data": {
      "text/plain": [
       "'brown fox quick blue dog lazy'"
      ]
     },
     "execution_count": 12,
     "metadata": {},
     "output_type": "execute_result"
    }
   ],
   "source": [
    "norm_toy = [(text) for text, category in norm_corpus_toy]\n",
    "#norm_toy = [tok_sent for tok_sent in norm_toy if len(tok_sent.split()) > 2]\n",
    "norm_toy[5]"
   ]
  },
  {
   "cell_type": "code",
   "execution_count": 13,
   "metadata": {},
   "outputs": [],
   "source": [
    "# contruimos el modelo word2vec\n",
    "wpt = nltk.WordPunctTokenizer()\n",
    "\n",
    "tokenized_corpus_toy = [wpt.tokenize(document) for document in norm_toy]\n",
    "\n",
    "# Establecer valores para varios parámetros\n",
    "feature_size = 10    # Dimensionalidad del vector de palabra (incrustación tenue)\n",
    "window_context = 10  # Tamaño de la ventana de contexto\n",
    "min_word_count = 1   # Recuento mínimo de palabras\n",
    "sample = 1e-3        # Configuración de reducción de resolución para palabras frecuentes\n",
    "\n",
    "w2v_model = word2vec.Word2Vec(tokenized_corpus_toy, vector_size=feature_size, \n",
    "                              window=window_context, min_count = min_word_count,\n",
    "                              sample=sample, epochs=100)"
   ]
  },
  {
   "cell_type": "markdown",
   "metadata": {},
   "source": [
    "## <span style=\"color:#4361EE\">Visualización de incrustaciones con TSNE</span>"
   ]
  },
  {
   "cell_type": "code",
   "execution_count": 14,
   "metadata": {},
   "outputs": [
    {
     "data": {
      "image/png": "[encoded data removed]",
      "text/plain": [
       "<Figure size 864x432 with 1 Axes>"
      ]
     },
     "metadata": {
      "needs_background": "light"
     },
     "output_type": "display_data"
    }
   ],
   "source": [
    "# visualización de los embeddings\n",
    "from sklearn.manifold import TSNE\n",
    "\n",
    "words = w2v_model.wv.index_to_key\n",
    "wvs = w2v_model.wv[words]\n",
    "\n",
    "tsne = TSNE(n_components=2, random_state=200, n_iter=5000, perplexity=2)\n",
    "np.set_printoptions(suppress=True)\n",
    "T = tsne.fit_transform(wvs)\n",
    "labels = words\n",
    "\n",
    "plt.figure(figsize=(12, 6))\n",
    "plt.scatter(T[:, 0], T[:, 1], c='orange', edgecolors='r')\n",
    "for label, x, y in zip(labels, T[:, 0], T[:, 1]):\n",
    "    plt.annotate(label, xy=(x+1, y+1), xytext=(0, 0), textcoords='offset points')"
   ]
  },
  {
   "cell_type": "markdown",
   "metadata": {},
   "source": [
    "Recuerde que nuestro corpus es extremadamente pequeño, por lo que para obtener incrustaciones de palabras significativas y para que el modelo obtenga más contexto y semántica, más datos ayudan.\n",
    "\n",
    "Ahora bien, ¿qué es una palabra incrustada en este escenario? \n",
    "\n",
    "Por lo general, es un vector denso para cada palabra, como se muestra en el siguiente ejemplo para la palabra *sky*."
   ]
  },
  {
   "cell_type": "code",
   "execution_count": 15,
   "metadata": {},
   "outputs": [
    {
     "data": {
      "text/plain": [
       "array([-0.00550217,  0.00225758,  0.05222183,  0.08953774, -0.09186712,\n",
       "       -0.07102545,  0.06703829,  0.09108812, -0.05248048, -0.03727874],\n",
       "      dtype=float32)"
      ]
     },
     "execution_count": 15,
     "metadata": {},
     "output_type": "execute_result"
    }
   ],
   "source": [
    "w2v_model.wv['sky']"
   ]
  },
  {
   "cell_type": "markdown",
   "metadata": {},
   "source": [
    "## <span style=\"color:#4361EE\">Incrustación de documentos</span>"
   ]
  },
  {
   "cell_type": "markdown",
   "metadata": {},
   "source": [
    "Ahora suponga que quisiéramos agrupar los ocho documentos de nuestro corpus de juguete, necesitaríamos obtener las incrustaciones de nivel de documento de cada una de las palabras presentes en cada documento. \n",
    "\n",
    "Una estrategia sería promediar las incrustaciones de palabras para cada palabra en un documento. \n",
    "\n",
    "Esta es una estrategia extremadamente útil y puede adoptar la misma para sus propios problemas. Apliquemos esto ahora en nuestro corpus para obtener características para cada documento."
   ]
  },
  {
   "cell_type": "code",
   "execution_count": 16,
   "metadata": {},
   "outputs": [],
   "source": [
    "def average_word_vectors(words, model, vocabulary, num_features):\n",
    "    \n",
    "    feature_vector = np.zeros((num_features,),dtype=\"float64\")\n",
    "    nwords = 0.\n",
    "    \n",
    "    for word in words:\n",
    "        if word in vocabulary: \n",
    "            nwords = nwords + 1.\n",
    "            feature_vector = np.add(feature_vector, model.wv[word])\n",
    "    \n",
    "    if nwords:\n",
    "        feature_vector = np.divide(feature_vector, nwords)\n",
    "        \n",
    "    return feature_vector\n",
    "    \n",
    "   \n",
    "def averaged_word_vectorizer(corpus, model, num_features):\n",
    "    vocabulary = set(model.wv.index_to_key)\n",
    "    features = [average_word_vectors(tokenized_sentence, model, vocabulary, num_features)\n",
    "                    for tokenized_sentence in corpus]\n",
    "    return np.array(features)\n",
    "\n",
    "\n",
    "# obtener incrustaciones a nivel de documento\n",
    "w2v_feature_array = averaged_word_vectorizer(corpus=tokenized_corpus_toy, model=w2v_model, num_features=feature_size)\n",
    "          "
   ]
  },
  {
   "cell_type": "code",
   "execution_count": 17,
   "metadata": {},
   "outputs": [
    {
     "data": {
      "text/html": [
       "<div>\n",
       "<style scoped>\n",
       "    .dataframe tbody tr th:only-of-type {\n",
       "        vertical-align: middle;\n",
       "    }\n",
       "\n",
       "    .dataframe tbody tr th {\n",
       "        vertical-align: top;\n",
       "    }\n",
       "\n",
       "    .dataframe thead th {\n",
       "        text-align: right;\n",
       "    }\n",
       "</style>\n",
       "<table border=\"1\" class=\"dataframe\">\n",
       "  <thead>\n",
       "    <tr style=\"text-align: right;\">\n",
       "      <th></th>\n",
       "      <th>0</th>\n",
       "      <th>1</th>\n",
       "      <th>2</th>\n",
       "      <th>3</th>\n",
       "      <th>4</th>\n",
       "      <th>5</th>\n",
       "      <th>6</th>\n",
       "      <th>7</th>\n",
       "      <th>8</th>\n",
       "      <th>9</th>\n",
       "    </tr>\n",
       "  </thead>\n",
       "  <tbody>\n",
       "    <tr>\n",
       "      <th>0</th>\n",
       "      <td>-0.002563</td>\n",
       "      <td>-0.007418</td>\n",
       "      <td>0.034811</td>\n",
       "      <td>0.026904</td>\n",
       "      <td>-0.053587</td>\n",
       "      <td>-0.035993</td>\n",
       "      <td>0.061499</td>\n",
       "      <td>0.014958</td>\n",
       "      <td>-0.047006</td>\n",
       "      <td>-0.059281</td>\n",
       "    </tr>\n",
       "    <tr>\n",
       "      <th>1</th>\n",
       "      <td>0.003990</td>\n",
       "      <td>-0.017028</td>\n",
       "      <td>0.047207</td>\n",
       "      <td>-0.004556</td>\n",
       "      <td>-0.022574</td>\n",
       "      <td>-0.019438</td>\n",
       "      <td>0.034795</td>\n",
       "      <td>0.022913</td>\n",
       "      <td>-0.040348</td>\n",
       "      <td>-0.027406</td>\n",
       "    </tr>\n",
       "    <tr>\n",
       "      <th>2</th>\n",
       "      <td>-0.025970</td>\n",
       "      <td>0.044765</td>\n",
       "      <td>-0.027590</td>\n",
       "      <td>-0.042492</td>\n",
       "      <td>0.038190</td>\n",
       "      <td>0.001035</td>\n",
       "      <td>0.020798</td>\n",
       "      <td>0.014793</td>\n",
       "      <td>-0.009800</td>\n",
       "      <td>0.026013</td>\n",
       "    </tr>\n",
       "    <tr>\n",
       "      <th>3</th>\n",
       "      <td>-0.004875</td>\n",
       "      <td>-0.023161</td>\n",
       "      <td>0.012324</td>\n",
       "      <td>0.017017</td>\n",
       "      <td>0.023751</td>\n",
       "      <td>0.013767</td>\n",
       "      <td>0.019178</td>\n",
       "      <td>-0.004341</td>\n",
       "      <td>0.008625</td>\n",
       "      <td>0.013524</td>\n",
       "    </tr>\n",
       "    <tr>\n",
       "      <th>4</th>\n",
       "      <td>0.002887</td>\n",
       "      <td>-0.026936</td>\n",
       "      <td>0.028622</td>\n",
       "      <td>0.022390</td>\n",
       "      <td>0.038067</td>\n",
       "      <td>0.033622</td>\n",
       "      <td>0.020794</td>\n",
       "      <td>0.024426</td>\n",
       "      <td>-0.022648</td>\n",
       "      <td>0.036913</td>\n",
       "    </tr>\n",
       "    <tr>\n",
       "      <th>5</th>\n",
       "      <td>0.000605</td>\n",
       "      <td>0.036747</td>\n",
       "      <td>-0.027230</td>\n",
       "      <td>-0.022999</td>\n",
       "      <td>0.024138</td>\n",
       "      <td>-0.010912</td>\n",
       "      <td>0.013114</td>\n",
       "      <td>0.026146</td>\n",
       "      <td>-0.036314</td>\n",
       "      <td>-0.000790</td>\n",
       "    </tr>\n",
       "    <tr>\n",
       "      <th>6</th>\n",
       "      <td>-0.000502</td>\n",
       "      <td>-0.007114</td>\n",
       "      <td>0.035939</td>\n",
       "      <td>0.018142</td>\n",
       "      <td>-0.055835</td>\n",
       "      <td>-0.030537</td>\n",
       "      <td>0.061412</td>\n",
       "      <td>0.022556</td>\n",
       "      <td>-0.058082</td>\n",
       "      <td>-0.034085</td>\n",
       "    </tr>\n",
       "    <tr>\n",
       "      <th>7</th>\n",
       "      <td>-0.013937</td>\n",
       "      <td>0.047206</td>\n",
       "      <td>-0.023748</td>\n",
       "      <td>-0.040617</td>\n",
       "      <td>0.038326</td>\n",
       "      <td>-0.009574</td>\n",
       "      <td>0.009073</td>\n",
       "      <td>0.029035</td>\n",
       "      <td>-0.026323</td>\n",
       "      <td>0.017736</td>\n",
       "    </tr>\n",
       "  </tbody>\n",
       "</table>\n",
       "</div>"
      ],
      "text/plain": [
       "          0         1         2         3         4         5         6  \\\n",
       "0 -0.002563 -0.007418  0.034811  0.026904 -0.053587 -0.035993  0.061499   \n",
       "1  0.003990 -0.017028  0.047207 -0.004556 -0.022574 -0.019438  0.034795   \n",
       "2 -0.025970  0.044765 -0.027590 -0.042492  0.038190  0.001035  0.020798   \n",
       "3 -0.004875 -0.023161  0.012324  0.017017  0.023751  0.013767  0.019178   \n",
       "4  0.002887 -0.026936  0.028622  0.022390  0.038067  0.033622  0.020794   \n",
       "5  0.000605  0.036747 -0.027230 -0.022999  0.024138 -0.010912  0.013114   \n",
       "6 -0.000502 -0.007114  0.035939  0.018142 -0.055835 -0.030537  0.061412   \n",
       "7 -0.013937  0.047206 -0.023748 -0.040617  0.038326 -0.009574  0.009073   \n",
       "\n",
       "          7         8         9  \n",
       "0  0.014958 -0.047006 -0.059281  \n",
       "1  0.022913 -0.040348 -0.027406  \n",
       "2  0.014793 -0.009800  0.026013  \n",
       "3 -0.004341  0.008625  0.013524  \n",
       "4  0.024426 -0.022648  0.036913  \n",
       "5  0.026146 -0.036314 -0.000790  \n",
       "6  0.022556 -0.058082 -0.034085  \n",
       "7  0.029035 -0.026323  0.017736  "
      ]
     },
     "execution_count": 17,
     "metadata": {},
     "output_type": "execute_result"
    }
   ],
   "source": [
    "pp = pd.DataFrame(w2v_feature_array)\n",
    "pp"
   ]
  },
  {
   "cell_type": "markdown",
   "metadata": {},
   "source": [
    "Ahora que tenemos nuestras características para cada documento, agrupemos estos documentos utilizando el **algoritmo de propagación de afinidad**, que es un algoritmo de agrupación basado en el concepto de \"paso de mensajes\" entre puntos de datos y no necesita el número de agrupaciones como una entrada explícita que a menudo es requerido por algoritmos de agrupación en clústeres basados en particiones."
   ]
  },
  {
   "cell_type": "markdown",
   "metadata": {},
   "source": [
    "### <span style=\"color:#4CC9F0\">Propagación por afinidad: Afinity propagation</span>"
   ]
  },
  {
   "cell_type": "markdown",
   "metadata": {},
   "source": [
    "Este es el resumen del artículo de [Frey y Duek](https://science.sciencemag.org/content/315/5814/972).\n",
    "\n",
    "\"La agrupación de datos mediante la identificación de un subconjunto de ejemplos representativos es importante para procesar señales sensoriales y detectar patrones en los datos. \n",
    "\n",
    "Estos \"ejemplos\" se pueden encontrar eligiendo aleatoriamente un subconjunto inicial de puntos de datos y luego refinándolo iterativamente, pero esto funciona bien solo si esa elección inicial está cerca de una buena solución.\n",
    "\n",
    "\n",
    "Diseñamos un método llamado \"propagación por afinidad\", que toma como entrada medidas de similitud entre pares de puntos de datos. Los mensajes de valor real se intercambian entre puntos de datos hasta que emerge gradualmente un conjunto de ejemplos de alta calidad y los grupos correspondientes. \n",
    "\n",
    "Utilizamos la propagación por afinidad para agrupar imágenes de rostros, detectar genes en datos de microarrays, identificar oraciones representativas en este manuscrito e identificar ciudades a las que se accede de manera eficiente mediante viajes en avión. \n",
    "\n",
    "La propagación por afinidad encontró grupos con un error mucho menor que otros métodos, y lo hizo en menos de una centésima parte del tiempo.\""
   ]
  },
  {
   "cell_type": "code",
   "execution_count": 18,
   "metadata": {},
   "outputs": [
    {
     "data": {
      "text/html": [
       "<div>\n",
       "<style scoped>\n",
       "    .dataframe tbody tr th:only-of-type {\n",
       "        vertical-align: middle;\n",
       "    }\n",
       "\n",
       "    .dataframe tbody tr th {\n",
       "        vertical-align: top;\n",
       "    }\n",
       "\n",
       "    .dataframe thead th {\n",
       "        text-align: right;\n",
       "    }\n",
       "</style>\n",
       "<table border=\"1\" class=\"dataframe\">\n",
       "  <thead>\n",
       "    <tr style=\"text-align: right;\">\n",
       "      <th></th>\n",
       "      <th>Document</th>\n",
       "      <th>Category</th>\n",
       "      <th>ClusterLabel</th>\n",
       "    </tr>\n",
       "  </thead>\n",
       "  <tbody>\n",
       "    <tr>\n",
       "      <th>0</th>\n",
       "      <td>The sky is blue and beautiful.</td>\n",
       "      <td>weather</td>\n",
       "      <td>1</td>\n",
       "    </tr>\n",
       "    <tr>\n",
       "      <th>1</th>\n",
       "      <td>Love this blue and beautiful sky!</td>\n",
       "      <td>weather</td>\n",
       "      <td>1</td>\n",
       "    </tr>\n",
       "    <tr>\n",
       "      <th>2</th>\n",
       "      <td>The quick brown fox jumps over the lazy dog.</td>\n",
       "      <td>animals</td>\n",
       "      <td>2</td>\n",
       "    </tr>\n",
       "    <tr>\n",
       "      <th>3</th>\n",
       "      <td>A king's breakfast has sausages, ham, bacon, eggs, toast and beans</td>\n",
       "      <td>food</td>\n",
       "      <td>0</td>\n",
       "    </tr>\n",
       "    <tr>\n",
       "      <th>4</th>\n",
       "      <td>I love green eggs, ham, sausages and bacon!</td>\n",
       "      <td>food</td>\n",
       "      <td>0</td>\n",
       "    </tr>\n",
       "    <tr>\n",
       "      <th>5</th>\n",
       "      <td>The brown fox is quick and the blue dog is lazy!</td>\n",
       "      <td>animals</td>\n",
       "      <td>2</td>\n",
       "    </tr>\n",
       "    <tr>\n",
       "      <th>6</th>\n",
       "      <td>The sky is very blue and the sky is very beautiful today</td>\n",
       "      <td>weather</td>\n",
       "      <td>1</td>\n",
       "    </tr>\n",
       "    <tr>\n",
       "      <th>7</th>\n",
       "      <td>The dog is lazy but the brown fox is quick!</td>\n",
       "      <td>animals</td>\n",
       "      <td>2</td>\n",
       "    </tr>\n",
       "  </tbody>\n",
       "</table>\n",
       "</div>"
      ],
      "text/plain": [
       "                                                             Document  \\\n",
       "0                                      The sky is blue and beautiful.   \n",
       "1                                   Love this blue and beautiful sky!   \n",
       "2                        The quick brown fox jumps over the lazy dog.   \n",
       "3  A king's breakfast has sausages, ham, bacon, eggs, toast and beans   \n",
       "4                         I love green eggs, ham, sausages and bacon!   \n",
       "5                    The brown fox is quick and the blue dog is lazy!   \n",
       "6            The sky is very blue and the sky is very beautiful today   \n",
       "7                         The dog is lazy but the brown fox is quick!   \n",
       "\n",
       "  Category  ClusterLabel  \n",
       "0  weather             1  \n",
       "1  weather             1  \n",
       "2  animals             2  \n",
       "3     food             0  \n",
       "4     food             0  \n",
       "5  animals             2  \n",
       "6  weather             1  \n",
       "7  animals             2  "
      ]
     },
     "execution_count": 18,
     "metadata": {},
     "output_type": "execute_result"
    }
   ],
   "source": [
    "from sklearn.cluster import AffinityPropagation\n",
    "\n",
    "ap = AffinityPropagation()\n",
    "ap.fit(w2v_feature_array)\n",
    "cluster_labels = ap.labels_\n",
    "cluster_labels = pd.DataFrame(cluster_labels, columns=['ClusterLabel'])\n",
    "pd.concat([corpus_df, cluster_labels], axis=1)"
   ]
  },
  {
   "cell_type": "markdown",
   "metadata": {},
   "source": [
    "Finalmente hagamos un plot de los documentos usando un análisis de componentes principales (ACP)."
   ]
  },
  {
   "cell_type": "code",
   "execution_count": 19,
   "metadata": {},
   "outputs": [
    {
     "data": {
      "image/png": "[encoded data removed]",
      "text/plain": [
       "<Figure size 576x432 with 1 Axes>"
      ]
     },
     "metadata": {
      "needs_background": "light"
     },
     "output_type": "display_data"
    }
   ],
   "source": [
    "from sklearn.decomposition import PCA\n",
    "\n",
    "pca = PCA(n_components=2, random_state=0)\n",
    "pcs = pca.fit_transform(w2v_feature_array)\n",
    "labels = ap.labels_\n",
    "categories = list(corpus_df['Category'])\n",
    "plt.figure(figsize=(8, 6))\n",
    "\n",
    "for i in range(len(labels)):\n",
    "    label = labels[i]\n",
    "    color = 'orange' if label == 0 else 'blue' if label == 1 else 'green'\n",
    "    annotation_label = categories[i]\n",
    "    x, y = pcs[i]\n",
    "    plt.scatter(x, y, c=color, edgecolors='k')\n",
    "    plt.annotate(annotation_label, xy=(x+1e-4, y+1e-3), xytext=(0, 0), textcoords='offset points')\n"
   ]
  },
  {
   "cell_type": "markdown",
   "metadata": {},
   "source": [
    "## <span style=\"color:#4361EE\">Modelos preentrenados. El modelo GloVe</span>"
   ]
  },
  {
   "cell_type": "markdown",
   "metadata": {},
   "source": [
    "El modelo GloVe significa Vectores Globales, que es un modelo de aprendizaje no supervisado que se puede utilizar para obtener vectores de palabras densas similares a Word2Vec. \n",
    "\n",
    "Sin embargo, la técnica es diferente y el entrenamiento se realiza en una matriz global de coocurrencia palabra-palabra, usando el contexto de las mismas, lo que nos da un espacio vectorial con subestructuras significativas. \n",
    "\n",
    "Este método fue inventado en Stanford por Pennington et al. y se recomienda leer el artículo original sobre GloVe, [GloVe: Global Vectors for Word Representation](https://nlp.stanford.edu/pubs/glove.pdf) de Pennington et al. que es una lectura excelente para tener una perspectiva de como funciona este modelo.\n",
    "\n",
    "\n",
    "\n",
    "No cubriremos la implementación del modelo desde cero con demasiado detalle aquí, pero si está interesado en el código real, puede consultar la página oficial de [GloVe](https://nlp.stanford.edu/projects/glove/). \n",
    "\n",
    "Aquí mantendremos las cosas simples e intentaremos comprender los conceptos básicos detrás del modelo GloVe. Hemos hablado de métodos de factorización matricial basados en recuento como LSA y métodos predictivos como Word2Vec. \n",
    "\n",
    "\n",
    "El paper afirma que, actualmente, ambas familias sufren importantes inconvenientes. \n",
    "\n",
    "\n",
    "1. Los métodos como LSA aprovechan de manera eficiente la información estadística, pero funcionan relativamente mal en la tarea de analogía de palabras, como la forma en que descubrimos palabras semánticamente similares. \n",
    "2. Los métodos como skip-gram pueden funcionar mejor en la tarea de analogía, pero no utilizan tan bien las estadísticas del corpus a nivel global.\n",
    "\n",
    "\n",
    "La metodología básica del modelo GloVe es crear primero una enorme matriz de coocurrencia palabra-contexto que consta de pares (palabra, contexto) de modo que cada elemento de esta matriz represente la frecuencia con la que aparece una palabra con el contexto (que puede ser una secuencia de palabras).\n",
    "\n",
    "La idea entonces es aplicar factorización matricial para aproximar esta matriz como se muestra en la siguiente figura."
   ]
  },
  {
   "cell_type": "markdown",
   "metadata": {},
   "source": [
    "<figure>\n",
    "<center>\n",
    "<img src=\"../Imagenes/glove_matrix.png\" width=\"400\" height=\"300\" align=\"center\"/>\n",
    "</center>\n",
    "<figcaption>\n",
    "<p style=\"text-align:center\">Base matemática  del modelo Glove</p>\n",
    "</figcaption>\n",
    "</figure>\n",
    "\n",
    "Fuente: [understanding-feature-engineering](https://towardsdatascience.com/understanding-feature-engineering-part-4-deep-learning-methods-for-text-data-96c44370bbfa)\n",
    "\n"
   ]
  },
  {
   "cell_type": "markdown",
   "metadata": {},
   "source": [
    "Teniendo en cuenta la matriz **Word-Context (WC)**, la matriz **Word-Feature (WF)** y la matriz **Feature-Context (FC)**, intentamos factorizar **WC = WF x FC**, de modo que nuestro objetivo es reconstruir WC a partir de WF y FC multiplicando estos. \n",
    "\n",
    "\n",
    "Para esto, normalmente inicializamos WF y FC con algunos pesos aleatorios e intentamos multiplicarlos para obtener WC$’$ (una aproximación de WC) y medir que tan cerca está de WC. Hacemos esto varias veces usando el Descenso del gradiente estocástico (SGD) para minimizar el error. \n",
    "\n",
    "Finalmente, la matriz Word-Feature (WF) nos da las incrustaciones de palabras para cada palabra donde F se puede preestablecer para un número específico de dimensiones.\n",
    "\n",
    "Un punto muy importante para recordar es que los modelos Word2Vec y GloVe son muy similares en su funcionamiento. \n",
    "\n",
    "\n",
    "Ambos tienen como objetivo construir un espacio vectorial donde la posición de cada palabra está influenciada por las palabras vecinas en función de su contexto y semántica. \n",
    "\n",
    "Word2Vec comienza con ejemplos individuales locales de pares de coocurrencia de palabras y GloVe comienza con estadísticas globales de coocurrencia agregadas en todas las palabras del corpus."
   ]
  },
  {
   "cell_type": "markdown",
   "metadata": {},
   "source": [
    "## <span style=\"color:#4361EE\">Introducción a spaCy</span>"
   ]
  },
  {
   "cell_type": "markdown",
   "metadata": {},
   "source": [
    "Intentemos aprovechar las incrustaciones basadas en GloVe para nuestra tarea de agrupación de documentos. \n",
    "\n",
    "El marco de trabajo **spaCy** es muy popular y viene con capacidades para aprovechar las incrustaciones de GloVe basadas en diferentes modelos de lenguaje. \n",
    "\n",
    "También puede obtener vectores de palabras previamente entrenados y cargarlos según sea necesario usando gensim o spacy. \n",
    "\n",
    "Primero instalaremos spacy y usaremos el modelo **en_core_web_md** un modelo intermedio del inglés. Si desea resulatdos más potentes instale **en_vectors_web_lg** que consiste en vectores de palabras de 300 dimensiones entrenados en Common Crawl con [GloVe](https://nlp.stanford.edu/projects/glove/). \n"
   ]
  },
  {
   "cell_type": "markdown",
   "metadata": {},
   "source": [
    "## <span style=\"color:#4361EE\">Modelos en español</span>"
   ]
  },
  {
   "cell_type": "markdown",
   "metadata": {},
   "source": [
    "En la página [spacy-models](https://spacy.io/usage/models) encuentra los modelos disponibles en *spaCy*, basados en GloVe, para distintos idiomas. \n",
    "\n",
    "En particular para español se tienen [modelos para Español en spacy](https://spacy.io/models/es) : \n",
    "\n",
    "1. es_core_news_sm (small): 15 MB\n",
    "2. es_core_news_md (medium):  500k keys, 20k unique vectors (300 dimensions), 45 MB\n",
    "3. es_core_news_lg (long): :  500k keys, 500k unique vectors (300 dimensions), 546 MB\n",
    "\n",
    "Para bajar e instalar por ejemplo *es_core_news_md* puede escibir:\n",
    "\n",
    "`python -m spacy download es_core_news_md`\n",
    "\n",
    "Veamos:"
   ]
  },
  {
   "cell_type": "code",
   "execution_count": 21,
   "metadata": {},
   "outputs": [
    {
     "name": "stdout",
     "output_type": "stream",
     "text": [
      "Total word vectors: 20000\n"
     ]
    }
   ],
   "source": [
    "# !conda install -c conda-forge spacy\n",
    "# !python -m spacy en_core_web_md\n",
    "\n",
    "import spacy\n",
    "\n",
    "nlp = spacy.load('en_core_web_md')\n",
    "\n",
    "\n",
    "total_vectors = len(nlp.vocab.vectors)\n",
    "print('Total word vectors:', total_vectors)"
   ]
  },
  {
   "cell_type": "markdown",
   "metadata": {},
   "source": [
    "Si todo va bien hasta aquí, podemos continuar."
   ]
  },
  {
   "cell_type": "code",
   "execution_count": 22,
   "metadata": {
    "scrolled": true
   },
   "outputs": [
    {
     "data": {
      "text/html": [
       "<div>\n",
       "<style scoped>\n",
       "    .dataframe tbody tr th:only-of-type {\n",
       "        vertical-align: middle;\n",
       "    }\n",
       "\n",
       "    .dataframe tbody tr th {\n",
       "        vertical-align: top;\n",
       "    }\n",
       "\n",
       "    .dataframe thead th {\n",
       "        text-align: right;\n",
       "    }\n",
       "</style>\n",
       "<table border=\"1\" class=\"dataframe\">\n",
       "  <thead>\n",
       "    <tr style=\"text-align: right;\">\n",
       "      <th></th>\n",
       "      <th>0</th>\n",
       "      <th>1</th>\n",
       "      <th>2</th>\n",
       "      <th>3</th>\n",
       "      <th>4</th>\n",
       "      <th>5</th>\n",
       "      <th>6</th>\n",
       "      <th>7</th>\n",
       "      <th>8</th>\n",
       "      <th>9</th>\n",
       "      <th>...</th>\n",
       "      <th>290</th>\n",
       "      <th>291</th>\n",
       "      <th>292</th>\n",
       "      <th>293</th>\n",
       "      <th>294</th>\n",
       "      <th>295</th>\n",
       "      <th>296</th>\n",
       "      <th>297</th>\n",
       "      <th>298</th>\n",
       "      <th>299</th>\n",
       "    </tr>\n",
       "  </thead>\n",
       "  <tbody>\n",
       "    <tr>\n",
       "      <th>blue</th>\n",
       "      <td>-0.60781</td>\n",
       "      <td>-0.442570</td>\n",
       "      <td>-0.188280</td>\n",
       "      <td>0.298840</td>\n",
       "      <td>0.213040</td>\n",
       "      <td>-0.251680</td>\n",
       "      <td>-0.766230</td>\n",
       "      <td>0.261160</td>\n",
       "      <td>-0.104190</td>\n",
       "      <td>1.08480</td>\n",
       "      <td>...</td>\n",
       "      <td>-0.264490</td>\n",
       "      <td>0.252610</td>\n",
       "      <td>0.322410</td>\n",
       "      <td>-0.030879</td>\n",
       "      <td>-0.186760</td>\n",
       "      <td>0.795420</td>\n",
       "      <td>-0.512570</td>\n",
       "      <td>0.124920</td>\n",
       "      <td>0.373600</td>\n",
       "      <td>0.349780</td>\n",
       "    </tr>\n",
       "    <tr>\n",
       "      <th>kings</th>\n",
       "      <td>-0.64985</td>\n",
       "      <td>-0.489260</td>\n",
       "      <td>-0.719320</td>\n",
       "      <td>-0.239570</td>\n",
       "      <td>-0.132790</td>\n",
       "      <td>-0.047248</td>\n",
       "      <td>-0.012852</td>\n",
       "      <td>0.314850</td>\n",
       "      <td>-0.129930</td>\n",
       "      <td>0.64020</td>\n",
       "      <td>...</td>\n",
       "      <td>-0.587860</td>\n",
       "      <td>-0.236660</td>\n",
       "      <td>-0.483780</td>\n",
       "      <td>0.246580</td>\n",
       "      <td>-0.110850</td>\n",
       "      <td>1.092000</td>\n",
       "      <td>0.031282</td>\n",
       "      <td>0.349100</td>\n",
       "      <td>0.770490</td>\n",
       "      <td>-0.326270</td>\n",
       "    </tr>\n",
       "    <tr>\n",
       "      <th>ham</th>\n",
       "      <td>-0.77332</td>\n",
       "      <td>-0.282540</td>\n",
       "      <td>0.580760</td>\n",
       "      <td>0.841480</td>\n",
       "      <td>0.258540</td>\n",
       "      <td>0.585210</td>\n",
       "      <td>-0.021890</td>\n",
       "      <td>-0.463680</td>\n",
       "      <td>0.139070</td>\n",
       "      <td>0.65872</td>\n",
       "      <td>...</td>\n",
       "      <td>0.464470</td>\n",
       "      <td>0.481400</td>\n",
       "      <td>-0.829200</td>\n",
       "      <td>0.354910</td>\n",
       "      <td>0.224530</td>\n",
       "      <td>-0.493920</td>\n",
       "      <td>0.456930</td>\n",
       "      <td>-0.649100</td>\n",
       "      <td>-0.131930</td>\n",
       "      <td>0.372040</td>\n",
       "    </tr>\n",
       "    <tr>\n",
       "      <th>toast</th>\n",
       "      <td>-1.07620</td>\n",
       "      <td>-0.243840</td>\n",
       "      <td>0.549990</td>\n",
       "      <td>-0.126150</td>\n",
       "      <td>0.079499</td>\n",
       "      <td>0.986130</td>\n",
       "      <td>-0.429920</td>\n",
       "      <td>-0.425440</td>\n",
       "      <td>0.970430</td>\n",
       "      <td>0.65874</td>\n",
       "      <td>...</td>\n",
       "      <td>0.433140</td>\n",
       "      <td>-0.071371</td>\n",
       "      <td>-0.113070</td>\n",
       "      <td>-0.417010</td>\n",
       "      <td>-0.177810</td>\n",
       "      <td>0.069006</td>\n",
       "      <td>-0.280090</td>\n",
       "      <td>-0.376970</td>\n",
       "      <td>-0.074838</td>\n",
       "      <td>0.159390</td>\n",
       "    </tr>\n",
       "    <tr>\n",
       "      <th>jumps</th>\n",
       "      <td>-0.60320</td>\n",
       "      <td>0.096645</td>\n",
       "      <td>-0.272320</td>\n",
       "      <td>0.150660</td>\n",
       "      <td>-0.039076</td>\n",
       "      <td>-0.131000</td>\n",
       "      <td>-0.256660</td>\n",
       "      <td>-0.025637</td>\n",
       "      <td>0.435760</td>\n",
       "      <td>1.60800</td>\n",
       "      <td>...</td>\n",
       "      <td>0.191720</td>\n",
       "      <td>-0.193110</td>\n",
       "      <td>-0.149160</td>\n",
       "      <td>-0.055604</td>\n",
       "      <td>-0.346140</td>\n",
       "      <td>0.193340</td>\n",
       "      <td>0.074380</td>\n",
       "      <td>-0.177050</td>\n",
       "      <td>0.214030</td>\n",
       "      <td>-0.193550</td>\n",
       "    </tr>\n",
       "    <tr>\n",
       "      <th>eggs</th>\n",
       "      <td>-0.61023</td>\n",
       "      <td>-0.231630</td>\n",
       "      <td>-0.233030</td>\n",
       "      <td>-0.406420</td>\n",
       "      <td>-0.003735</td>\n",
       "      <td>0.865060</td>\n",
       "      <td>-0.140390</td>\n",
       "      <td>0.009982</td>\n",
       "      <td>-0.018391</td>\n",
       "      <td>1.49490</td>\n",
       "      <td>...</td>\n",
       "      <td>0.052207</td>\n",
       "      <td>-0.581650</td>\n",
       "      <td>-0.410380</td>\n",
       "      <td>0.081747</td>\n",
       "      <td>-0.596170</td>\n",
       "      <td>0.210670</td>\n",
       "      <td>-0.064823</td>\n",
       "      <td>-0.164010</td>\n",
       "      <td>0.002626</td>\n",
       "      <td>0.417920</td>\n",
       "    </tr>\n",
       "    <tr>\n",
       "      <th>sky</th>\n",
       "      <td>-0.64985</td>\n",
       "      <td>-0.489260</td>\n",
       "      <td>-0.719320</td>\n",
       "      <td>-0.239570</td>\n",
       "      <td>-0.132790</td>\n",
       "      <td>-0.047248</td>\n",
       "      <td>-0.012852</td>\n",
       "      <td>0.314850</td>\n",
       "      <td>-0.129930</td>\n",
       "      <td>0.64020</td>\n",
       "      <td>...</td>\n",
       "      <td>-0.587860</td>\n",
       "      <td>-0.236660</td>\n",
       "      <td>-0.483780</td>\n",
       "      <td>0.246580</td>\n",
       "      <td>-0.110850</td>\n",
       "      <td>1.092000</td>\n",
       "      <td>0.031282</td>\n",
       "      <td>0.349100</td>\n",
       "      <td>0.770490</td>\n",
       "      <td>-0.326270</td>\n",
       "    </tr>\n",
       "    <tr>\n",
       "      <th>sausages</th>\n",
       "      <td>-0.95210</td>\n",
       "      <td>-0.255340</td>\n",
       "      <td>0.415710</td>\n",
       "      <td>0.035870</td>\n",
       "      <td>0.406220</td>\n",
       "      <td>1.132500</td>\n",
       "      <td>0.165020</td>\n",
       "      <td>0.047385</td>\n",
       "      <td>-0.320230</td>\n",
       "      <td>0.99047</td>\n",
       "      <td>...</td>\n",
       "      <td>0.518400</td>\n",
       "      <td>-0.157750</td>\n",
       "      <td>-1.151200</td>\n",
       "      <td>-0.018995</td>\n",
       "      <td>-0.633080</td>\n",
       "      <td>-0.195100</td>\n",
       "      <td>0.146500</td>\n",
       "      <td>-0.902380</td>\n",
       "      <td>0.418510</td>\n",
       "      <td>-0.206530</td>\n",
       "    </tr>\n",
       "    <tr>\n",
       "      <th>fox</th>\n",
       "      <td>-0.65300</td>\n",
       "      <td>0.313580</td>\n",
       "      <td>0.272250</td>\n",
       "      <td>0.168970</td>\n",
       "      <td>-0.141280</td>\n",
       "      <td>-0.082146</td>\n",
       "      <td>-0.223320</td>\n",
       "      <td>0.072920</td>\n",
       "      <td>0.116300</td>\n",
       "      <td>0.29846</td>\n",
       "      <td>...</td>\n",
       "      <td>0.459840</td>\n",
       "      <td>0.469450</td>\n",
       "      <td>-0.700100</td>\n",
       "      <td>-0.214730</td>\n",
       "      <td>0.221710</td>\n",
       "      <td>-0.898330</td>\n",
       "      <td>-0.057084</td>\n",
       "      <td>-0.562940</td>\n",
       "      <td>-0.358810</td>\n",
       "      <td>0.378860</td>\n",
       "    </tr>\n",
       "    <tr>\n",
       "      <th>love</th>\n",
       "      <td>-0.61052</td>\n",
       "      <td>0.116560</td>\n",
       "      <td>-0.506480</td>\n",
       "      <td>-0.322160</td>\n",
       "      <td>-0.099742</td>\n",
       "      <td>0.101820</td>\n",
       "      <td>0.310420</td>\n",
       "      <td>-0.181550</td>\n",
       "      <td>0.317740</td>\n",
       "      <td>2.15370</td>\n",
       "      <td>...</td>\n",
       "      <td>0.173950</td>\n",
       "      <td>-0.014566</td>\n",
       "      <td>-0.286840</td>\n",
       "      <td>-0.416030</td>\n",
       "      <td>-0.010828</td>\n",
       "      <td>0.405140</td>\n",
       "      <td>-0.341460</td>\n",
       "      <td>0.103210</td>\n",
       "      <td>-0.088201</td>\n",
       "      <td>0.675430</td>\n",
       "    </tr>\n",
       "    <tr>\n",
       "      <th>beautiful</th>\n",
       "      <td>-0.60053</td>\n",
       "      <td>0.188380</td>\n",
       "      <td>-0.409930</td>\n",
       "      <td>0.322500</td>\n",
       "      <td>0.070322</td>\n",
       "      <td>0.161760</td>\n",
       "      <td>0.369450</td>\n",
       "      <td>-0.412770</td>\n",
       "      <td>-0.039160</td>\n",
       "      <td>2.22850</td>\n",
       "      <td>...</td>\n",
       "      <td>-0.307520</td>\n",
       "      <td>0.181140</td>\n",
       "      <td>0.021235</td>\n",
       "      <td>0.127830</td>\n",
       "      <td>0.352920</td>\n",
       "      <td>0.581560</td>\n",
       "      <td>0.362820</td>\n",
       "      <td>-0.277990</td>\n",
       "      <td>0.312290</td>\n",
       "      <td>-0.283310</td>\n",
       "    </tr>\n",
       "    <tr>\n",
       "      <th>beans</th>\n",
       "      <td>-0.80159</td>\n",
       "      <td>0.290250</td>\n",
       "      <td>0.121610</td>\n",
       "      <td>-0.379560</td>\n",
       "      <td>-0.075576</td>\n",
       "      <td>0.730770</td>\n",
       "      <td>-0.509500</td>\n",
       "      <td>-0.307720</td>\n",
       "      <td>0.255680</td>\n",
       "      <td>0.93421</td>\n",
       "      <td>...</td>\n",
       "      <td>0.180750</td>\n",
       "      <td>0.069363</td>\n",
       "      <td>-0.483170</td>\n",
       "      <td>-0.555900</td>\n",
       "      <td>-0.511860</td>\n",
       "      <td>0.225720</td>\n",
       "      <td>-0.085759</td>\n",
       "      <td>-1.051800</td>\n",
       "      <td>0.270230</td>\n",
       "      <td>0.173850</td>\n",
       "    </tr>\n",
       "    <tr>\n",
       "      <th>breakfast</th>\n",
       "      <td>-0.73844</td>\n",
       "      <td>-0.357310</td>\n",
       "      <td>0.370750</td>\n",
       "      <td>-0.461310</td>\n",
       "      <td>0.577450</td>\n",
       "      <td>0.208490</td>\n",
       "      <td>0.430790</td>\n",
       "      <td>0.094962</td>\n",
       "      <td>-0.020930</td>\n",
       "      <td>1.44010</td>\n",
       "      <td>...</td>\n",
       "      <td>0.844950</td>\n",
       "      <td>0.633700</td>\n",
       "      <td>-0.355440</td>\n",
       "      <td>-0.353540</td>\n",
       "      <td>-0.591930</td>\n",
       "      <td>-0.487300</td>\n",
       "      <td>0.266430</td>\n",
       "      <td>-0.252210</td>\n",
       "      <td>0.815980</td>\n",
       "      <td>0.036831</td>\n",
       "    </tr>\n",
       "    <tr>\n",
       "      <th>brown</th>\n",
       "      <td>-0.66906</td>\n",
       "      <td>-0.351330</td>\n",
       "      <td>0.080640</td>\n",
       "      <td>0.096664</td>\n",
       "      <td>-0.148040</td>\n",
       "      <td>-0.097573</td>\n",
       "      <td>0.243160</td>\n",
       "      <td>0.094992</td>\n",
       "      <td>0.582290</td>\n",
       "      <td>0.17268</td>\n",
       "      <td>...</td>\n",
       "      <td>0.412470</td>\n",
       "      <td>0.400660</td>\n",
       "      <td>-0.324850</td>\n",
       "      <td>-0.765130</td>\n",
       "      <td>-0.232630</td>\n",
       "      <td>-0.191630</td>\n",
       "      <td>0.230500</td>\n",
       "      <td>-0.637830</td>\n",
       "      <td>0.314030</td>\n",
       "      <td>0.203840</td>\n",
       "    </tr>\n",
       "    <tr>\n",
       "      <th>green</th>\n",
       "      <td>-0.81745</td>\n",
       "      <td>0.134040</td>\n",
       "      <td>0.233550</td>\n",
       "      <td>-0.273360</td>\n",
       "      <td>-0.136910</td>\n",
       "      <td>0.943380</td>\n",
       "      <td>-0.103160</td>\n",
       "      <td>0.211570</td>\n",
       "      <td>-0.582040</td>\n",
       "      <td>0.68200</td>\n",
       "      <td>...</td>\n",
       "      <td>0.284830</td>\n",
       "      <td>0.079486</td>\n",
       "      <td>-0.163030</td>\n",
       "      <td>-0.289800</td>\n",
       "      <td>-0.751070</td>\n",
       "      <td>0.292390</td>\n",
       "      <td>0.154300</td>\n",
       "      <td>-0.857900</td>\n",
       "      <td>0.366390</td>\n",
       "      <td>0.060845</td>\n",
       "    </tr>\n",
       "    <tr>\n",
       "      <th>today</th>\n",
       "      <td>-0.86201</td>\n",
       "      <td>0.276510</td>\n",
       "      <td>-0.112090</td>\n",
       "      <td>0.299730</td>\n",
       "      <td>-0.322150</td>\n",
       "      <td>0.166620</td>\n",
       "      <td>0.323870</td>\n",
       "      <td>-0.264180</td>\n",
       "      <td>-0.094269</td>\n",
       "      <td>2.69680</td>\n",
       "      <td>...</td>\n",
       "      <td>-0.258560</td>\n",
       "      <td>0.565880</td>\n",
       "      <td>0.627370</td>\n",
       "      <td>-0.004304</td>\n",
       "      <td>0.261250</td>\n",
       "      <td>-0.637190</td>\n",
       "      <td>-0.549430</td>\n",
       "      <td>-0.029787</td>\n",
       "      <td>0.307040</td>\n",
       "      <td>-0.019168</td>\n",
       "    </tr>\n",
       "    <tr>\n",
       "      <th>bacon</th>\n",
       "      <td>-0.69840</td>\n",
       "      <td>0.312240</td>\n",
       "      <td>-0.009100</td>\n",
       "      <td>-0.009997</td>\n",
       "      <td>-0.147660</td>\n",
       "      <td>0.975770</td>\n",
       "      <td>-0.669130</td>\n",
       "      <td>-0.011655</td>\n",
       "      <td>0.121440</td>\n",
       "      <td>0.32290</td>\n",
       "      <td>...</td>\n",
       "      <td>0.389090</td>\n",
       "      <td>-0.045685</td>\n",
       "      <td>-0.607350</td>\n",
       "      <td>-0.374930</td>\n",
       "      <td>-0.903540</td>\n",
       "      <td>-0.051202</td>\n",
       "      <td>-0.157880</td>\n",
       "      <td>-1.303500</td>\n",
       "      <td>0.193060</td>\n",
       "      <td>0.172240</td>\n",
       "    </tr>\n",
       "    <tr>\n",
       "      <th>quick</th>\n",
       "      <td>-0.60053</td>\n",
       "      <td>0.188380</td>\n",
       "      <td>-0.409930</td>\n",
       "      <td>0.322500</td>\n",
       "      <td>0.070322</td>\n",
       "      <td>0.161760</td>\n",
       "      <td>0.369450</td>\n",
       "      <td>-0.412770</td>\n",
       "      <td>-0.039160</td>\n",
       "      <td>2.22850</td>\n",
       "      <td>...</td>\n",
       "      <td>-0.307520</td>\n",
       "      <td>0.181140</td>\n",
       "      <td>0.021235</td>\n",
       "      <td>0.127830</td>\n",
       "      <td>0.352920</td>\n",
       "      <td>0.581560</td>\n",
       "      <td>0.362820</td>\n",
       "      <td>-0.277990</td>\n",
       "      <td>0.312290</td>\n",
       "      <td>-0.283310</td>\n",
       "    </tr>\n",
       "    <tr>\n",
       "      <th>lazy</th>\n",
       "      <td>-0.99977</td>\n",
       "      <td>-0.194700</td>\n",
       "      <td>-0.419580</td>\n",
       "      <td>-0.057033</td>\n",
       "      <td>-0.269880</td>\n",
       "      <td>0.157750</td>\n",
       "      <td>0.262730</td>\n",
       "      <td>-0.600500</td>\n",
       "      <td>0.142440</td>\n",
       "      <td>1.90950</td>\n",
       "      <td>...</td>\n",
       "      <td>-0.004007</td>\n",
       "      <td>0.103060</td>\n",
       "      <td>-0.290390</td>\n",
       "      <td>-0.443710</td>\n",
       "      <td>0.291390</td>\n",
       "      <td>0.562800</td>\n",
       "      <td>0.007213</td>\n",
       "      <td>0.447610</td>\n",
       "      <td>0.029474</td>\n",
       "      <td>0.225460</td>\n",
       "    </tr>\n",
       "    <tr>\n",
       "      <th>dog</th>\n",
       "      <td>-0.72483</td>\n",
       "      <td>0.425380</td>\n",
       "      <td>0.025489</td>\n",
       "      <td>-0.398070</td>\n",
       "      <td>0.037463</td>\n",
       "      <td>-0.298110</td>\n",
       "      <td>-0.282790</td>\n",
       "      <td>0.293330</td>\n",
       "      <td>0.577750</td>\n",
       "      <td>1.22050</td>\n",
       "      <td>...</td>\n",
       "      <td>0.019095</td>\n",
       "      <td>-0.342830</td>\n",
       "      <td>-0.586020</td>\n",
       "      <td>0.009563</td>\n",
       "      <td>-0.085052</td>\n",
       "      <td>0.833120</td>\n",
       "      <td>0.319780</td>\n",
       "      <td>0.050317</td>\n",
       "      <td>-0.231590</td>\n",
       "      <td>0.281650</td>\n",
       "    </tr>\n",
       "  </tbody>\n",
       "</table>\n",
       "<p>20 rows × 300 columns</p>\n",
       "</div>"
      ],
      "text/plain": [
       "               0         1         2         3         4         5    \\\n",
       "blue      -0.60781 -0.442570 -0.188280  0.298840  0.213040 -0.251680   \n",
       "kings     -0.64985 -0.489260 -0.719320 -0.239570 -0.132790 -0.047248   \n",
       "ham       -0.77332 -0.282540  0.580760  0.841480  0.258540  0.585210   \n",
       "toast     -1.07620 -0.243840  0.549990 -0.126150  0.079499  0.986130   \n",
       "jumps     -0.60320  0.096645 -0.272320  0.150660 -0.039076 -0.131000   \n",
       "eggs      -0.61023 -0.231630 -0.233030 -0.406420 -0.003735  0.865060   \n",
       "sky       -0.64985 -0.489260 -0.719320 -0.239570 -0.132790 -0.047248   \n",
       "sausages  -0.95210 -0.255340  0.415710  0.035870  0.406220  1.132500   \n",
       "fox       -0.65300  0.313580  0.272250  0.168970 -0.141280 -0.082146   \n",
       "love      -0.61052  0.116560 -0.506480 -0.322160 -0.099742  0.101820   \n",
       "beautiful -0.60053  0.188380 -0.409930  0.322500  0.070322  0.161760   \n",
       "beans     -0.80159  0.290250  0.121610 -0.379560 -0.075576  0.730770   \n",
       "breakfast -0.73844 -0.357310  0.370750 -0.461310  0.577450  0.208490   \n",
       "brown     -0.66906 -0.351330  0.080640  0.096664 -0.148040 -0.097573   \n",
       "green     -0.81745  0.134040  0.233550 -0.273360 -0.136910  0.943380   \n",
       "today     -0.86201  0.276510 -0.112090  0.299730 -0.322150  0.166620   \n",
       "bacon     -0.69840  0.312240 -0.009100 -0.009997 -0.147660  0.975770   \n",
       "quick     -0.60053  0.188380 -0.409930  0.322500  0.070322  0.161760   \n",
       "lazy      -0.99977 -0.194700 -0.419580 -0.057033 -0.269880  0.157750   \n",
       "dog       -0.72483  0.425380  0.025489 -0.398070  0.037463 -0.298110   \n",
       "\n",
       "                6         7         8        9    ...       290       291  \\\n",
       "blue      -0.766230  0.261160 -0.104190  1.08480  ... -0.264490  0.252610   \n",
       "kings     -0.012852  0.314850 -0.129930  0.64020  ... -0.587860 -0.236660   \n",
       "ham       -0.021890 -0.463680  0.139070  0.65872  ...  0.464470  0.481400   \n",
       "toast     -0.429920 -0.425440  0.970430  0.65874  ...  0.433140 -0.071371   \n",
       "jumps     -0.256660 -0.025637  0.435760  1.60800  ...  0.191720 -0.193110   \n",
       "eggs      -0.140390  0.009982 -0.018391  1.49490  ...  0.052207 -0.581650   \n",
       "sky       -0.012852  0.314850 -0.129930  0.64020  ... -0.587860 -0.236660   \n",
       "sausages   0.165020  0.047385 -0.320230  0.99047  ...  0.518400 -0.157750   \n",
       "fox       -0.223320  0.072920  0.116300  0.29846  ...  0.459840  0.469450   \n",
       "love       0.310420 -0.181550  0.317740  2.15370  ...  0.173950 -0.014566   \n",
       "beautiful  0.369450 -0.412770 -0.039160  2.22850  ... -0.307520  0.181140   \n",
       "beans     -0.509500 -0.307720  0.255680  0.93421  ...  0.180750  0.069363   \n",
       "breakfast  0.430790  0.094962 -0.020930  1.44010  ...  0.844950  0.633700   \n",
       "brown      0.243160  0.094992  0.582290  0.17268  ...  0.412470  0.400660   \n",
       "green     -0.103160  0.211570 -0.582040  0.68200  ...  0.284830  0.079486   \n",
       "today      0.323870 -0.264180 -0.094269  2.69680  ... -0.258560  0.565880   \n",
       "bacon     -0.669130 -0.011655  0.121440  0.32290  ...  0.389090 -0.045685   \n",
       "quick      0.369450 -0.412770 -0.039160  2.22850  ... -0.307520  0.181140   \n",
       "lazy       0.262730 -0.600500  0.142440  1.90950  ... -0.004007  0.103060   \n",
       "dog       -0.282790  0.293330  0.577750  1.22050  ...  0.019095 -0.342830   \n",
       "\n",
       "                292       293       294       295       296       297  \\\n",
       "blue       0.322410 -0.030879 -0.186760  0.795420 -0.512570  0.124920   \n",
       "kings     -0.483780  0.246580 -0.110850  1.092000  0.031282  0.349100   \n",
       "ham       -0.829200  0.354910  0.224530 -0.493920  0.456930 -0.649100   \n",
       "toast     -0.113070 -0.417010 -0.177810  0.069006 -0.280090 -0.376970   \n",
       "jumps     -0.149160 -0.055604 -0.346140  0.193340  0.074380 -0.177050   \n",
       "eggs      -0.410380  0.081747 -0.596170  0.210670 -0.064823 -0.164010   \n",
       "sky       -0.483780  0.246580 -0.110850  1.092000  0.031282  0.349100   \n",
       "sausages  -1.151200 -0.018995 -0.633080 -0.195100  0.146500 -0.902380   \n",
       "fox       -0.700100 -0.214730  0.221710 -0.898330 -0.057084 -0.562940   \n",
       "love      -0.286840 -0.416030 -0.010828  0.405140 -0.341460  0.103210   \n",
       "beautiful  0.021235  0.127830  0.352920  0.581560  0.362820 -0.277990   \n",
       "beans     -0.483170 -0.555900 -0.511860  0.225720 -0.085759 -1.051800   \n",
       "breakfast -0.355440 -0.353540 -0.591930 -0.487300  0.266430 -0.252210   \n",
       "brown     -0.324850 -0.765130 -0.232630 -0.191630  0.230500 -0.637830   \n",
       "green     -0.163030 -0.289800 -0.751070  0.292390  0.154300 -0.857900   \n",
       "today      0.627370 -0.004304  0.261250 -0.637190 -0.549430 -0.029787   \n",
       "bacon     -0.607350 -0.374930 -0.903540 -0.051202 -0.157880 -1.303500   \n",
       "quick      0.021235  0.127830  0.352920  0.581560  0.362820 -0.277990   \n",
       "lazy      -0.290390 -0.443710  0.291390  0.562800  0.007213  0.447610   \n",
       "dog       -0.586020  0.009563 -0.085052  0.833120  0.319780  0.050317   \n",
       "\n",
       "                298       299  \n",
       "blue       0.373600  0.349780  \n",
       "kings      0.770490 -0.326270  \n",
       "ham       -0.131930  0.372040  \n",
       "toast     -0.074838  0.159390  \n",
       "jumps      0.214030 -0.193550  \n",
       "eggs       0.002626  0.417920  \n",
       "sky        0.770490 -0.326270  \n",
       "sausages   0.418510 -0.206530  \n",
       "fox       -0.358810  0.378860  \n",
       "love      -0.088201  0.675430  \n",
       "beautiful  0.312290 -0.283310  \n",
       "beans      0.270230  0.173850  \n",
       "breakfast  0.815980  0.036831  \n",
       "brown      0.314030  0.203840  \n",
       "green      0.366390  0.060845  \n",
       "today      0.307040 -0.019168  \n",
       "bacon      0.193060  0.172240  \n",
       "quick      0.312290 -0.283310  \n",
       "lazy       0.029474  0.225460  \n",
       "dog       -0.231590  0.281650  \n",
       "\n",
       "[20 rows x 300 columns]"
      ]
     },
     "execution_count": 22,
     "metadata": {},
     "output_type": "execute_result"
    }
   ],
   "source": [
    "unique_words = list(set([word for sublist in [doc[0].split() for doc in norm_corpus_toy] for word in sublist]))\n",
    "\n",
    "word_glove_vectors = np.array([nlp(word).vector for word in unique_words])\n",
    "pd.DataFrame(word_glove_vectors, index=unique_words)"
   ]
  },
  {
   "cell_type": "markdown",
   "metadata": {},
   "source": [
    "Veamos una gŕafico TSNE para este caso."
   ]
  },
  {
   "cell_type": "code",
   "execution_count": 23,
   "metadata": {},
   "outputs": [
    {
     "data": {
      "image/png": "[encoded data removed]",
      "text/plain": [
       "<Figure size 864x432 with 1 Axes>"
      ]
     },
     "metadata": {
      "needs_background": "light"
     },
     "output_type": "display_data"
    }
   ],
   "source": [
    "from sklearn.manifold import TSNE\n",
    "\n",
    "tsne = TSNE(n_components=2, random_state=0, n_iter=5000, perplexity=3)\n",
    "np.set_printoptions(suppress=True)\n",
    "T = tsne.fit_transform(word_glove_vectors)\n",
    "labels = unique_words\n",
    "\n",
    "plt.figure(figsize=(12, 6))\n",
    "plt.scatter(T[:, 0], T[:, 1], c='orange', edgecolors='r')\n",
    "for label, x, y in zip(labels, T[:, 0], T[:, 1]):\n",
    "    plt.annotate(label, xy=(x+1, y+1), xytext=(0, 0), textcoords='offset points')"
   ]
  },
  {
   "cell_type": "markdown",
   "metadata": {},
   "source": [
    "Finalmente una clasificación k-means."
   ]
  },
  {
   "cell_type": "code",
   "execution_count": 24,
   "metadata": {},
   "outputs": [
    {
     "data": {
      "text/html": [
       "<div>\n",
       "<style scoped>\n",
       "    .dataframe tbody tr th:only-of-type {\n",
       "        vertical-align: middle;\n",
       "    }\n",
       "\n",
       "    .dataframe tbody tr th {\n",
       "        vertical-align: top;\n",
       "    }\n",
       "\n",
       "    .dataframe thead th {\n",
       "        text-align: right;\n",
       "    }\n",
       "</style>\n",
       "<table border=\"1\" class=\"dataframe\">\n",
       "  <thead>\n",
       "    <tr style=\"text-align: right;\">\n",
       "      <th></th>\n",
       "      <th>Document</th>\n",
       "      <th>Category</th>\n",
       "      <th>ClusterLabel</th>\n",
       "    </tr>\n",
       "  </thead>\n",
       "  <tbody>\n",
       "    <tr>\n",
       "      <th>0</th>\n",
       "      <td>The sky is blue and beautiful.</td>\n",
       "      <td>weather</td>\n",
       "      <td>2</td>\n",
       "    </tr>\n",
       "    <tr>\n",
       "      <th>1</th>\n",
       "      <td>Love this blue and beautiful sky!</td>\n",
       "      <td>weather</td>\n",
       "      <td>2</td>\n",
       "    </tr>\n",
       "    <tr>\n",
       "      <th>2</th>\n",
       "      <td>The quick brown fox jumps over the lazy dog.</td>\n",
       "      <td>animals</td>\n",
       "      <td>1</td>\n",
       "    </tr>\n",
       "    <tr>\n",
       "      <th>3</th>\n",
       "      <td>A king's breakfast has sausages, ham, bacon, eggs, toast and beans</td>\n",
       "      <td>food</td>\n",
       "      <td>0</td>\n",
       "    </tr>\n",
       "    <tr>\n",
       "      <th>4</th>\n",
       "      <td>I love green eggs, ham, sausages and bacon!</td>\n",
       "      <td>food</td>\n",
       "      <td>0</td>\n",
       "    </tr>\n",
       "    <tr>\n",
       "      <th>5</th>\n",
       "      <td>The brown fox is quick and the blue dog is lazy!</td>\n",
       "      <td>animals</td>\n",
       "      <td>1</td>\n",
       "    </tr>\n",
       "    <tr>\n",
       "      <th>6</th>\n",
       "      <td>The sky is very blue and the sky is very beautiful today</td>\n",
       "      <td>weather</td>\n",
       "      <td>2</td>\n",
       "    </tr>\n",
       "    <tr>\n",
       "      <th>7</th>\n",
       "      <td>The dog is lazy but the brown fox is quick!</td>\n",
       "      <td>animals</td>\n",
       "      <td>1</td>\n",
       "    </tr>\n",
       "  </tbody>\n",
       "</table>\n",
       "</div>"
      ],
      "text/plain": [
       "                                                             Document  \\\n",
       "0                                      The sky is blue and beautiful.   \n",
       "1                                   Love this blue and beautiful sky!   \n",
       "2                        The quick brown fox jumps over the lazy dog.   \n",
       "3  A king's breakfast has sausages, ham, bacon, eggs, toast and beans   \n",
       "4                         I love green eggs, ham, sausages and bacon!   \n",
       "5                    The brown fox is quick and the blue dog is lazy!   \n",
       "6            The sky is very blue and the sky is very beautiful today   \n",
       "7                         The dog is lazy but the brown fox is quick!   \n",
       "\n",
       "  Category  ClusterLabel  \n",
       "0  weather             2  \n",
       "1  weather             2  \n",
       "2  animals             1  \n",
       "3     food             0  \n",
       "4     food             0  \n",
       "5  animals             1  \n",
       "6  weather             2  \n",
       "7  animals             1  "
      ]
     },
     "execution_count": 24,
     "metadata": {},
     "output_type": "execute_result"
    }
   ],
   "source": [
    "from sklearn.cluster import KMeans\n",
    "\n",
    "doc_glove_vectors = np.array([nlp(str(doc[0])).vector for doc in norm_corpus_toy])\n",
    "\n",
    "km = KMeans(n_clusters=3, random_state=0)\n",
    "km.fit_transform(doc_glove_vectors)\n",
    "cluster_labels = km.labels_\n",
    "cluster_labels = pd.DataFrame(cluster_labels, columns=['ClusterLabel'])\n",
    "pd.concat([corpus_df, cluster_labels], axis=1)"
   ]
  },
  {
   "cell_type": "markdown",
   "metadata": {},
   "source": [
    "## <span style=\"color:#4361EE\">El modelo FastText</span>"
   ]
  },
  {
   "cell_type": "markdown",
   "metadata": {},
   "source": [
    "El modelo [FastText](https://fasttext.cc/) fue introducido por primera vez por Facebook en 2016 como una extensión y supuestamente una mejora del modelo vainilla de Word2Vec. \n",
    "\n",
    "Está basado en el artículo original titulado [Enriching Word Vectors with Subword Information](https://arxiv.org/pdf/1607.04606.pdf) de Mikolov et al. que es una lectura excelente para obtener una comprensión profunda de como funciona este modelo. En general, FastText es un marco para el aprendizaje de representaciones de palabras y también para realizar una clasificación de texto sólida, rápida y precisa. \n",
    "\n",
    "El marco es de código abierto de Facebook en GitHub y afirma tener lo siguiente:\n",
    "\n",
    "1. Vectores de palabras en inglés de última generación.\n",
    "2. Vectores de palabras para 157 idiomas entrenados en Wikipedia y rastreo.\n",
    "3. Modelos para identificación de idiomas y diversas tareas supervisadas.\n",
    "\n",
    "De acuedo con los autores,  en general, los modelos predictivos como el modelo *Word2Vec* suelen considerar cada palabra como una entidad distinta (por ejemplo, dónde) y generan una incrustación densa para la palabra. \n",
    "\n",
    "Sin embargo, esto representa una seria limitación con los idiomas que tienen un vocabulario masivo y muchas palabras raras que pueden no aparecer mucho en diferentes corpus. El modelo Word2Vec normalmente ignora la estructura morfológica de cada palabra y considera una palabra como una sola entidad. \n",
    "\n",
    "El modelo **FastText** considera cada palabra como una bolsa de n-gramas de caracteres. Esto también se denomina modelo de subpalabras en el documento.\n",
    "\n",
    "\n",
    "Se agregan símbolos de límites especiales \\< y \\> al principio y al final de las palabras. Esto permite distinguir prefijos y sufijos de otras secuencias de caracteres. También incluyen la propia palabra *w* en el conjunto de sus n-gramas, para aprender una representación de cada palabra (además de su caracter n-gramas). \n",
    "    \n",
    "    \n",
    "Tomando la palabra *where* y $n = 3$ (tri-gramas) como ejemplo, estará representada por el caracter n-gramas: <wh, whe, her, ere, re> y la secuencia especial \\<where\\> que representa la palabra completa. \n",
    "    \n",
    "Tenga en cuenta, que la secuencia correspondiente a la palabra \\<her\\> (ella en inglés) es diferente del trigrama *her* de la palabra *where*.\n",
    "    \n",
    "En la práctica, el artículo recomienda extraer todos los n-gramas para $3\\le n \\le 6$. Este es un enfoque muy simple, y se podrían considerar diferentes conjuntos de n-gramas, por ejemplo, tomando todos los prefijos y sufijos. \n",
    "    \n",
    "Normalmente asociamos una representación vectorial (incrustación) a cada n-grama de una palabra. Por tanto, podemos representar una palabra mediante la suma de las representaciones vectoriales de sus n-gramas o el promedio de la incrustación de estos n-gramas. \n",
    "    \n",
    "Según los autores, debido a este efecto de aprovechar los n-gramas de palabras individuales basadas en sus caracteres, existe una mayor probabilidad de que las palabras raras obtengan una buena representación, ya que sus n-gramas basados en caracteres deben aparecer en otras palabras del corpus.\n",
    "    \n",
    "Vamos a la práctica."
   ]
  },
  {
   "cell_type": "markdown",
   "metadata": {},
   "source": [
    "### <span style=\"color:#4CC9F0\">Gráfico basado en ACP</span>"
   ]
  },
  {
   "cell_type": "code",
   "execution_count": 25,
   "metadata": {},
   "outputs": [],
   "source": [
    "# contruimos el modelo FastText\n",
    "from gensim.models.fasttext import FastText\n",
    "\n",
    "# Establecer valores para varios parámetros\n",
    "feature_size = 100    # Dimensionalidad del vector de palabra\n",
    "window_context = 50   # Tamaño de la ventana de contexto\n",
    "min_word_count = 5    # Recuento mínimo de palabras\n",
    "sample = 1e-3         # Configuración de reducción de resolución para palabras frecuentes\n",
    "\n",
    "# sg decide si usar el modelo skip-gram (1) o CBOW (0)\n",
    "ft_model = FastText(tokenized_corpus_bible, vector_size=feature_size, window=window_context, \n",
    "                    min_count=min_word_count,sample=sample, sg=1, epochs=50)"
   ]
  },
  {
   "cell_type": "code",
   "execution_count": 26,
   "metadata": {},
   "outputs": [
    {
     "data": {
      "image/png": "[encoded data removed]",
      "text/plain": [
       "<Figure size 1296x720 with 1 Axes>"
      ]
     },
     "metadata": {
      "needs_background": "light"
     },
     "output_type": "display_data"
    }
   ],
   "source": [
    "from sklearn.decomposition import PCA\n",
    "\n",
    "words = sum([[k] + v for k, v in similar_words.items()], [])\n",
    "wvs = ft_model.wv[words]\n",
    "\n",
    "pca = PCA(n_components=2)\n",
    "np.set_printoptions(suppress=True)\n",
    "P = pca.fit_transform(wvs)\n",
    "labels = words\n",
    "\n",
    "plt.figure(figsize=(18, 10))\n",
    "plt.scatter(P[:, 0], P[:, 1], c='lightgreen', edgecolors='g')\n",
    "for label, x, y in zip(labels, P[:, 0], P[:, 1]):\n",
    "    plt.annotate(label, xy=(x+0.06, y+0.03), xytext=(0, 0), textcoords='offset points')\n"
   ]
  },
  {
   "cell_type": "markdown",
   "metadata": {},
   "source": [
    "¡Podemos ver muchos patrones interesantes! Noah, su hijo Shem y su abuelo Matusalén están cerca el uno del otro! \n",
    "\n",
    "También vemos a Dios asociado con Moisés y Egipto donde soportó las plagas bíblicas, incluidas el hambre y la pestilencia. También Jesús y algunos de sus discípulos están asociados muy cerca unos de otros.\n",
    "\n",
    "Para acceder a cualquiera de las incrustaciones de palabras, puede indexar el modelo con la palabra de la siguiente manera."
   ]
  },
  {
   "cell_type": "code",
   "execution_count": 27,
   "metadata": {},
   "outputs": [
    {
     "data": {
      "text/plain": [
       "array([ 0.04299738, -0.1574481 ,  0.1410564 , -0.26152542,  0.08506715,\n",
       "        0.26367834, -0.32991287, -0.25556803,  0.0746429 , -0.3868201 ,\n",
       "       -0.42060566,  0.05665206, -0.31522396,  0.12649609,  0.4244604 ,\n",
       "       -0.7871504 ,  0.04556321,  0.21815167,  0.08689203, -0.07711775,\n",
       "        0.10152365, -0.23649499, -0.10373516,  0.06484527,  0.11936401,\n",
       "       -0.01629081,  0.20875667, -0.0079602 ,  0.34204608,  0.45391026,\n",
       "       -0.5809403 ,  0.08684482,  0.06540161, -0.08945266, -0.28082994,\n",
       "        0.31862152, -0.10304535,  0.17427708,  0.03897016,  0.3915363 ,\n",
       "        0.2257367 ,  0.09172948,  0.1490574 ,  0.10394873,  0.7691746 ,\n",
       "        0.00054858, -0.08326564, -0.3975096 ,  0.24751736, -0.29069823,\n",
       "        0.6501379 ,  0.4616961 ,  0.20160829,  0.30708867, -0.00099393,\n",
       "        0.35399458,  0.04379244, -0.10206391, -0.18427882, -0.5243477 ,\n",
       "       -0.05932013, -0.3048044 ,  0.20854148, -0.29213393, -0.08352552,\n",
       "        0.6221077 , -0.14481194,  0.28393796,  0.3347798 ,  0.25648078,\n",
       "        0.05918216,  0.06497898,  0.3357702 ,  0.01404815, -0.09214207,\n",
       "        0.00508624, -0.0860206 ,  0.1977002 , -0.19546887, -0.05216036,\n",
       "        0.12357266, -0.21141924, -0.0209746 , -0.26120207,  0.42927548,\n",
       "       -0.09007568, -0.28985247, -0.056879  ,  0.01002955,  0.04657311,\n",
       "        0.13463241,  0.01974953,  0.02021603, -0.19154352, -0.53818923,\n",
       "        0.14861412,  0.08798686,  0.16525021, -0.07024336,  0.2959183 ],\n",
       "      dtype=float32)"
      ]
     },
     "execution_count": 27,
     "metadata": {},
     "output_type": "execute_result"
    }
   ],
   "source": [
    "ft_model.wv['jesus']"
   ]
  },
  {
   "cell_type": "markdown",
   "metadata": {},
   "source": [
    "Con estas incrustaciones, podemos realizar algunas tareas interesantes en lenguaje natural. Uno de estos sería encontrar similitudes entre diferentes palabras (entidades)."
   ]
  },
  {
   "cell_type": "code",
   "execution_count": 28,
   "metadata": {},
   "outputs": [
    {
     "name": "stdout",
     "output_type": "stream",
     "text": [
      "0.30794933\n",
      "0.6660911\n"
     ]
    }
   ],
   "source": [
    "print(ft_model.wv.similarity(w1='god', w2='satan'))\n",
    "print(ft_model.wv.similarity(w1='god', w2='jesus'))"
   ]
  },
  {
   "cell_type": "markdown",
   "metadata": {},
   "source": [
    "O también:"
   ]
  },
  {
   "cell_type": "code",
   "execution_count": 29,
   "metadata": {},
   "outputs": [
    {
     "name": "stdout",
     "output_type": "stream",
     "text": [
      "Odd one out for [ god jesus satan john ]: satan\n",
      "Odd one out for [ john peter james judas ]: judas\n"
     ]
    }
   ],
   "source": [
    "st1 = \"god jesus satan john\"\n",
    "print('Odd one out for [',st1, ']:',  \n",
    "      ft_model.wv.doesnt_match(st1.split()))\n",
    "st2 = \"john peter james judas\"\n",
    "print('Odd one out for [',st2, ']:', \n",
    "      ft_model.wv.doesnt_match(st2.split()))\n"
   ]
  },
  {
   "cell_type": "markdown",
   "metadata": {},
   "source": [
    "## <span style=\"color:#4361EE\">Modelos de incrustaciones en español preentrenados</span>"
   ]
  },
  {
   "cell_type": "markdown",
   "metadata": {},
   "source": [
    "A continuación encontrará un enlace a incrustaciones de palabras en español calculadas con diferentes métodos y de diferentes corpus. Este trabajo es liderado en el Departamento de Ciencias de la Computación Universidad de Chile.\n",
    "\n",
    "Se incluye una descripción de los parámetros utilizados para calcular las incrustaciones, junto con estadísticas simples de los vectores, vocabulario y descripción del corpus a partir del cual se calcularon las incrustaciones. \n",
    "\n",
    "Se proporcionan enlaces directos a las incrustaciones, así que consulte las fuentes originales para obtener una cita adecuada (consulte también las [Referencias](#Referencias)). Un ejemplo del uso de algunas de estas incrustaciones se puede encontrar aquí o en este tutorial (ambos en español).\n",
    "\n",
    "- [dccuchile](https://github.com/dccuchile/spanish-word-embeddings/blob/master/README.md)"
   ]
  },
  {
   "cell_type": "markdown",
   "metadata": {},
   "source": [
    "## <span style=\"color:#4361EE\">Conclusión</span>"
   ]
  },
  {
   "cell_type": "markdown",
   "metadata": {},
   "source": [
    "\n",
    "Estos ejemplos deberían darle una buena idea acerca de las estrategias más nuevas y eficientes para aprovechar los modelos de lenguaje de aprendizaje profundo para extraer características de los datos de texto y también abordar problemas como la semántica de palabras, el contexto y la escasez de datos. "
   ]
  },
  {
   "cell_type": "markdown",
   "metadata": {},
   "source": [
    "## <span style=\"color:#4361EE\">Referencias</span> "
   ]
  },
  {
   "cell_type": "markdown",
   "metadata": {},
   "source": [
    "1. Adaptado de [deep-learning-methods-for-text-data]((https://towardsdatascience.com/understanding-feature-engineering-part-4-deep-learning-methods-for-text-data-96c44370bbfa))\n",
    "2. Mikolov et al. 2013a, Google, [Distributed Representations of Words and Phrases\n",
    "and their Compositionality](https://papers.nips.cc/paper/5021-distributed-representations-of-words-and-phrases-and-their-compositionality.pdf), \n",
    "3. Xin Rong, 2016, [word2vec Parameter Learning Explained](https://arxiv.org/pdf/1411.2738.pdf), \n",
    "4. Mikolov et al. 2013b, Google, [Efficient Estimation of Word Representations in Vector Space](https://arxiv.org/pdf/1301.3781.pdf).\n",
    "5. Baroni et al., 2014,[Don’t count, predict! A systematic comparison of context-counting vs. context-predicting semantic vectors](https://www.aclweb.org/anthology/P14-1023.pdf)."
   ]
  }
 ],
 "metadata": {
  "kernelspec": {
   "display_name": "Python 3 (ipykernel)",
   "language": "python",
   "name": "python3"
  },
  "language_info": {
   "codemirror_mode": {
    "name": "ipython",
    "version": 3
   },
   "file_extension": ".py",
   "mimetype": "text/x-python",
   "name": "python",
   "nbconvert_exporter": "python",
   "pygments_lexer": "ipython3",
   "version": "3.10.6"
  }
 },
 "nbformat": 4,
 "nbformat_minor": 4
}
