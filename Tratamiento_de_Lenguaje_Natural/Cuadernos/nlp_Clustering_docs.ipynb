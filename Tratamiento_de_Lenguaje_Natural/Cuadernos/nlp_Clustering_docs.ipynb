{
 "cells": [
  {
   "cell_type": "markdown",
   "metadata": {
    "tags": []
   },
   "source": [
    "# <span style=\"color:#F72585\"><center>Técnicas modernas de clasificación de documentos</center></span>"
   ]
  },
  {
   "cell_type": "markdown",
   "metadata": {},
   "source": [
    "<center>Técnicas word2vec</center>"
   ]
  },
  {
   "cell_type": "markdown",
   "metadata": {},
   "source": [
    "<figure>\n",
    "<center>\n",
    "<img src=\"https://raw.githubusercontent.com/AprendizajeProfundo/Libro-Fundamentos/main/Tratamiento_de_Lenguaje_Natural/Imagenes/dulces.jpg\" width=\"600\" height=\"600\" align=\"center\"/>\n",
    "</center>\n",
    "</figure>\n",
    "\n",
    "Fuente: [Pexels](https://www.pexels.com/es-es/foto/comida-creativo-azucar-evento-4016509/)"
   ]
  },
  {
   "cell_type": "markdown",
   "metadata": {},
   "source": [
    "## <span style=\"color:#4361EE\">Introducción</span>"
   ]
  },
  {
   "cell_type": "markdown",
   "metadata": {},
   "source": [
    "Trabajar con datos de texto no estructurados es difícil, especialmente cuando se intenta construir un sistema inteligente que interprete y comprenda el lenguaje natural que fluye libremente al igual que los humanos. \n",
    "\n",
    "\n",
    "Debe poder procesar y transformar datos textuales no estructurados y ruidosos, en algunos formatos estructurados y vectorizados, que puedan ser entendidos por cualquier algoritmo de aprendizaje automático. \n",
    "\n",
    "\n",
    "Los principios del procesamiento del lenguaje natural, el aprendizaje automático o el aprendizaje profundo, todos los cuales caen bajo el amplio paraguas de la inteligencia artificial, son herramientas eficaces del oficio. \n",
    "\n",
    "\n",
    "Un punto importante a recordar aquí es que cualquier algoritmo de aprendizaje automático se basa en principios de estadística, matemáticas y optimización. \n",
    "\n",
    "Por lo tanto, no son lo suficientemente inteligentes como para comenzar a procesar texto en su forma original y sin preprocesar. \n",
    "\n",
    "En esta lección revisamos los métodos más modernos para el descubrimiento de tópicos y clasificación de documentos. Usaremos algunos modelos globales preentrados que se encuentran disponibles libremente.\n",
    "\n",
    "Más específicamente, cubriremos los modelos **Word2Vec**, **Glove** y **FastText** y usaremos las herramientas `nltk`, `gensim` y `spacy`.\n",
    "\n",
    "En esta lección no usaremos TensorFlow."
   ]
  },
  {
   "cell_type": "markdown",
   "metadata": {},
   "source": [
    "## <span style=\"color:#4361EE\">No cuente, prediga</span>"
   ]
  },
  {
   "cell_type": "markdown",
   "metadata": {},
   "source": [
    "Para superar las deficiencias de perder la semántica y la escasez de características basadas en el modelo de bolsa de palabras, necesitamos hacer uso de los modelos de espacio vectorial - **Vector Space Models** (*VSM*) de tal manera que podamos incrustar vectores de palabras en este espacio vectorial continuo basado en semánticas y similitud contextual. \n",
    "\n",
    "\n",
    "De hecho, la *hipótesis distributiva* en el campo de la *semántica distributiva* nos dice que **las palabras que ocurren y se usan en el mismo contexto, son semánticamente similares entre sí y tienen significados similares**. \n",
    "\n",
    "\n",
    "En términos simples, **una palabra se caracteriza por la compañía que mantiene**. Uno de los artículos famosos que habla en detalle sobre estos vectores de palabras semánticas y varios tipos es [Don’t count, predict! A systematic comparison of context-counting vs. context-predicting semantic vectors’](https://www.aclweb.org/anthology/P14-1023.pdf), de Baroni et al.\n",
    "\n",
    "\n",
    "No profundizaremos mucho, pero en resumen, hay dos tipos principales de métodos para los vectores de palabras contextuales. \n",
    "\n",
    "- **Los métodos basados en conteo** como el *Análisis semántico latente* (LSA) que se pueden usar para calcular algunas medidas estadísticas de la frecuencia con la que las palabras ocurren con sus palabras vecinas en un corpus y luego construir vectores de palabras densas para cada palabra a partir de estas medidas. \n",
    "- **Los métodos predictivos** como los modelos de lenguaje basados en redes neuronales, intentan predecir palabras a partir de las palabras vecinas, observando secuencias de palabras en el corpus y, en el proceso, aprende representaciones distribuidas que nos proporcionan densas incrustaciones de palabras. \n",
    "\n",
    "Nos centraremos en estos métodos predictivos en esta lección."
   ]
  },
  {
   "cell_type": "markdown",
   "metadata": {},
   "source": [
    "## <span style=\"color:#4361EE\">Sumergimiento o incrustamiento de palabras - word embeddings</span>"
   ]
  },
  {
   "cell_type": "markdown",
   "metadata": {},
   "source": [
    "Con respecto a los sistemas de reconocimiento de voz o imágenes, toda la información ya está presente en forma de vectores de características ricos y densos incrustados en conjuntos de datos de alta dimensión como espectrogramas de audio e intensidades de píxeles de imagen, como hemos estudiado en otras lecciones.\n",
    "\n",
    "\n",
    "Sin embargo, cuando se trata de datos de texto sin procesar, especialmente modelos basados en conteo como la bolsa de palabras (*bag of words*), estamos tratando con palabras individuales que pueden tener sus propios identificadores y no capturan la relación semántica entre palabras. \n",
    "\n",
    "En lecciones anteriores trabajamos con la técnica de bolsa de palabras en la tećnica *Lattent Dirichlet Allocation* (LDA). \n",
    "\n",
    "Esto conduce a enormes vectores de palabras dispersas para datos textuales y, por lo tanto, si no tenemos suficientes datos, podemos terminar obteniendo modelos deficientes o incluso sobreajustando los datos debido a la maldición de la dimensionalidad."
   ]
  },
  {
   "cell_type": "markdown",
   "metadata": {},
   "source": [
    "## <span style=\"color:#4361EE\">Modelos Word2Vec</span>"
   ]
  },
  {
   "cell_type": "markdown",
   "metadata": {},
   "source": [
    "La familia de modelos Word2Vec no es supervisada, lo que esto significa es que puede simplemente darle un corpus sin etiquetas o información adicional y puede construir incrustaciones densas de palabras a partir del corpus. \n",
    "\n",
    "Pero aún necesitará aprovechar una metodología de clasificación supervisada una vez que tenga este corpus para acceder a estas incorporaciones. \n",
    "\n",
    "Haremos esto desde el propio corpus, sin ninguna información auxiliar. Podemos modelar esta arquitectura CBOW ahora como un modelo de clasificación de aprendizaje profundo de modo que tomemos en las palabras de contexto como nuestra entrada, $X$ e intentemos predecir la palabra objetivo, $Y$. "
   ]
  },
  {
   "cell_type": "markdown",
   "metadata": {},
   "source": [
    "## <span style=\"color:#4361EE\">Modelo CBOW</span>"
   ]
  },
  {
   "cell_type": "markdown",
   "metadata": {},
   "source": [
    "\n",
    "<figure>\n",
    "<center>\n",
    "<img src=\"https://raw.githubusercontent.com/AprendizajeProfundo/Libro-Fundamentos/main/Tratamiento_de_Lenguaje_Natural/Imagenes/cbow_1_palabra.png\" width=\"450\" height=\"400\" align=\"center\"/>\n",
    "</center>\n",
    "<figcaption>\n",
    "<p style=\"text-align:center\">Arquitectura del modelo CBOW con una palabra de contexto</p>\n",
    "</figcaption>\n",
    "</figure>\n",
    "\n",
    "Fuente: Alvaro Montenegro"
   ]
  },
  {
   "cell_type": "markdown",
   "metadata": {},
   "source": [
    "La siguiente imagen es la arquitectura general CBOW."
   ]
  },
  {
   "cell_type": "markdown",
   "metadata": {},
   "source": [
    "\n",
    "<figure>\n",
    "<center>\n",
    "<img src=\"https://raw.githubusercontent.com/AprendizajeProfundo/Libro-Fundamentos/main/Tratamiento_de_Lenguaje_Natural/Imagenes/CBOW.png\" width=\"300\" height=\"200\" align=\"center\"/>\n",
    "</center>\n",
    "<figcaption>\n",
    "<p style=\"text-align:center\">Arquitectura general del modelo CBOW</p>\n",
    "</figcaption>\n",
    "</figure>\n",
    "\n",
    "Fuente: \n",
    "[Efficient Estimation of Word Representations in Vector space](https://arxiv.org/pdf/1301.3781.pdf)"
   ]
  },
  {
   "cell_type": "markdown",
   "metadata": {},
   "source": [
    "Veamos un ejemplo de como se hace la preparación de los datos para CBOW.\n",
    "\n",
    "Usaremos el símbolo especial *PAD* para codificar los espacios faltantes (se hizo en tensorflow con la función `sequence_pad`. ¿Recuerda?\n",
    "\n",
    "Consideremos la frase en inglés (más tarde mostraremos como usar las herramientas para español).\n",
    "\n",
    "- *the quick brown fox jumps over the lazzy dog*\n",
    "\n",
    "La construción de los contextos usando una ventana de contexto de tamaño 2 es como sigue:\n",
    "\n",
    "1. (PAD, PAD,quick, brown) -> the\n",
    "2. (PAD, the, brown, fox) -> quick\n",
    "3. (the, quick, fox,  jumps) -> brown\n",
    "4. (quick, brown,  jumps, over) -> fox\n",
    "5. (brown, fox, over, the) -> jumps\n",
    "6. (fox, jumps, the, lazzy) -> over\n",
    "7. (jumps, over,  lazzy, dog) -> the\n",
    "8. (over, the, dog, PAD) -> lazzy\n",
    "9. (the, lazzy, PAD, PAD) -> dog"
   ]
  },
  {
   "cell_type": "markdown",
   "metadata": {},
   "source": [
    "## <span style=\"color:#4361EE\">Modelo Skip-gram</span>"
   ]
  },
  {
   "cell_type": "markdown",
   "metadata": {},
   "source": [
    "La arquitectura del modelo *Skip-gram* generalmente intenta lograr lo contrario de lo que hace el modelo CBOW. \n",
    "\n",
    "\n",
    "Intenta predecir las palabras de contexto de origen (palabras circundantes) dada una palabra de destino (la palabra central). Teniendo en cuenta nuestra simple oración de antes, \"the quick brown fox jumps over the lazy dog”. \n",
    "\n",
    "Si usamos el modelo CBOW, obtenemos pares de (context_window, target_word) donde si consideramos una ventana de contexto de tamaño 2, tenemos ejemplos como ([quick, fox], brown), ([the, brown], quick) , ([the, dog], lazy) y así sucesivamente. \n",
    "\n",
    "Ahora, teniendo en cuenta que el objetivo del modelo *skip-gram* es predecir el contexto a partir de la palabra objetivo, el modelo normalmente invierte los contextos y objetivos e intenta predecir cada palabra de contexto a partir de su palabra objetivo. \n",
    "\n",
    "Por lo tanto, la tarea se convierte en predecir el contexto [quick, fox] dada la palabra objetivo *brown* o [the brown] dada la palabra objetivo *quick* y así sucesivamente. \n",
    "\n",
    "Por lo tanto, el modelo intenta predecir las palabras de la ventana context_window basándose en target_word.\n",
    "\n",
    "La figura ilustra la arquitectuta skip-gram."
   ]
  },
  {
   "cell_type": "markdown",
   "metadata": {},
   "source": [
    "\n",
    "<figure>\n",
    "<center>\n",
    "<img src=\"https://raw.githubusercontent.com/AprendizajeProfundo/Libro-Fundamentos/main/Tratamiento_de_Lenguaje_Natural/Imagenes/SKIP_gram.png\" width=\"300\" height=\"200\" align=\"center\"/>\n",
    "</center>\n",
    "<figcaption>\n",
    "<p style=\"text-align:center\">Modelo Skip-gram</p>\n",
    "</figcaption>\n",
    "</figure>\n",
    "\n",
    "Fuente: [Efficient Estimation of Word Representations in Vector space](https://arxiv.org/pdf/1301.3781.pdf)"
   ]
  },
  {
   "cell_type": "markdown",
   "metadata": {},
   "source": [
    "<figure>\n",
    "<center>\n",
    "<img src=\"https://raw.githubusercontent.com/AprendizajeProfundo/Libro-Fundamentos/main/Tratamiento_de_Lenguaje_Natural/Imagenes/Skip-Gram-architecture.jpg\" width=\"500\" height=\"600\" align=\"center\"/>\n",
    "</center>\n",
    "<figcaption>\n",
    "<p style=\"text-align:center\">Arquitectura Skip-gram</p>\n",
    "</figcaption>\n",
    "</figure>\n",
    "\n",
    "Fuente: \n",
    "[Exploring chemical space using natural language processing](https://www.researchgate.net/publication/339013257_Exploring_chemical_space_using_natural_language_processing_methodologies_for_drug_discovery/figures?lo=1)"
   ]
  },
  {
   "cell_type": "markdown",
   "metadata": {},
   "source": [
    "Para esto, alimentamos nuestros pares de modelos de skip-gram, que son $(X, Y)$ donde $X$ es nuestra entrada e $Y$ es nuestra etiqueta. \n",
    "\n",
    "Hacemos esto usando los pares [(*objetivo*, *contexto*), *1*]  como muestras de entrada positivas, donde *objetivo* es nuestra palabra de interés, *contexto* es una palabra de contexto que aparece cerca de la palabra objetivo y la etiqueta positiva *1* indica que este es un par contextualmente relevante. \n",
    "\n",
    "\n",
    "También introducimos pares [(*objetivo*, *aleatorio*), *0*] como muestras de entrada negativa donde *objetivo* es nuevamente nuestra palabra de interés, pero *aleatorio* significa que es solo una palabra seleccionada al azar de nuestro vocabulario que no tiene contexto o asociación con nuestra palabra objetivo. \n",
    "\n",
    "\n",
    "Por lo tanto, la etiqueta negativa *0* indica que este es un par contextualmente irrelevante. Hacemos esto para que el modelo pueda aprender que pares de palabras son contextualmente relevantes y cuales no y generar incrustaciones similares para palabras semánticamente similares.\n",
    "\n",
    "La construcción de los pares [(*objetivo*, *aleatorio*), *0*] se hace tomando al azar palabras objetivo y asociandole al azar palabras con  las que no haya conformado parejas de contexto. Los autores citados en las referencias proponen más de una alternativa para generar estas parejas, basados en distintos modelos de muestreo. Por lo general se sugiere que haya tantas parejas postivas como negativas."
   ]
  },
  {
   "cell_type": "markdown",
   "metadata": {},
   "source": [
    "En el mismo ejemplo anterior \n",
    "\n",
    "- *the quick brown fox jumps over the lazzy dog*\n",
    "\n",
    "se tiene que las parejas positivas son:\n",
    "\n",
    "1. the: (the, quick), (the, brown) (the, jumps), (the, over), (the, lazzy),  (the,dog)\n",
    "2. quick: (quick, the), (quick, brown), (quick, fox)\n",
    "3. brown: (brown, the) (brown, quick), (brown, jumps), (brown, over)\n",
    "4. fox: (fox, quick), (fox, brown), (fox, jumps), (fox, over)\n",
    "5. jumps: (jumps, brown), (jumps, fox), (jumps, over), (jumps, the)\n",
    "6. lazzy: (lazzy, over), (lazzy, the), (lazzy, dog)\n",
    "7. dog: (dog,the), (dog, lazzy)\n",
    "\n",
    "Una pareja negativa puede ser (quick, lazzy)."
   ]
  },
  {
   "cell_type": "markdown",
   "metadata": {},
   "source": [
    "## <span style=\"color:#4361EE\">Sobre que podemos esperar</span> "
   ]
  },
  {
   "cell_type": "markdown",
   "metadata": {},
   "source": [
    "Supongamos que se ha obtenido la siguiente codificación word2vec para personajes de comics.\n",
    "\n",
    "word2vec(‘Batman’) = [0.9, 0.8, 0.2]\n",
    "\n",
    "word2vec(‘Joker’) = [0.8, 0.3, 0.1]\n",
    "\n",
    "word2vec(‘Spiderman’) = [0.2, 0.9, 0.8]\n",
    "\n",
    "word2vec(‘Thanos’) = [0.3, 0.1, 0.9]\n",
    "\n",
    "1. Parece que la primera característica representa la pertenencia al Universo DC. Observa que \"Batman\" y \"Joker\" tienen valores más altos para su primera función porque pertenecen al Universo DC.\n",
    "2. Quizás el segundo elemento en la representación de word2vec aquí captura las características de héroe / villano. Es por eso que \"Batman\" y \"Spiderman\" tienen valores más altos y \"Joker\" y \"Thanos\" tienen valores más pequeños.\n",
    "3. Se podría decir que el tercer componente de la palabra vectores representa los poderes / habilidades sobrenaturales. Todos sabemos que \"Batman\" y \"Joker\" no tienen superpoderes y es por eso que sus vectores tienen números pequeños en la tercera posición."
   ]
  },
  {
   "cell_type": "markdown",
   "metadata": {},
   "source": [
    "\n",
    "\n",
    "\n",
    "<figure>\n",
    "<center>\n",
    "<img src=\"https://raw.githubusercontent.com/AprendizajeProfundo/Libro-Fundamentos/main/Tratamiento_de_Lenguaje_Natural/Imagenes/word2vec-models.jpg\" width=\"600\" height=\"600\" align=\"center\"/>\n",
    "</center>\n",
    "<figcaption>\n",
    "<p style=\"text-align:center\">Arquitectura word2vec</p>\n",
    "</figcaption>\n",
    "</figure>\n",
    "\n",
    "Fuente: [Journals Plos](https://journals.plos.org/plosone/article?id=10.1371/journal.pone.0216636#pone-0216636-g001)"
   ]
  },
  {
   "cell_type": "markdown",
   "metadata": {},
   "source": [
    "## <span style=\"color:#4361EE\">Las tareas lingüisticas</span> "
   ]
  },
  {
   "cell_type": "markdown",
   "metadata": {},
   "source": [
    "En el paper de Baroni et al., 2014, [Don’t count, predict! A systematic comparison of context-counting vs. context-predicting semantic vectors](https://www.aclweb.org/anthology/P14-1023.pdf), se comparan los métodos clásicos de distribución semántica probabilística de documentos, con los modelos predictivos presentados en esta lección. Para la comparación de ello desarrollan las siguientes tareas lingüísticas:\n",
    "\n",
    "1. Relación semántica de términos.\n",
    "2. Detección de sinónimos.\n",
    "3. Categorización de conceptos.\n",
    "4. Selección de preferencias. (verbo, sustantivo). Variedad en el uso del lenguaje.\n",
    "5. Analogías sintácticas. [(brother,sister), grandson] -> granddaughter.\n",
    "\n",
    "Invitamos al lector interesado la lectura del paper."
   ]
  },
  {
   "cell_type": "markdown",
   "metadata": {},
   "source": [
    "## <span style=\"color:#4361EE\">Recursos lingüísticos</span> "
   ]
  },
  {
   "cell_type": "markdown",
   "metadata": {},
   "source": [
    "[NLTK](https://www.nltk.org/py-modindex.html) incluye una pequeña selección de textos del archivo de texto electrónico del Proyecto Gutenberg, que contiene unos 25.000 libros electrónicos gratuitos, alojados en [Gutenberg project](http://www.gutenberg.org/)\n",
    "\n",
    "Tokenizador de frases *Punkt*.\n",
    "\n",
    "Este tokenizador divide un texto en una lista de oraciones, mediante el uso de un algoritmo no supervisado para construir un modelo de abreviaturas, colocaciones y palabras que inician oraciones. Debe entrenarse en una gran colección de textos sin formato en el idioma de destino antes de que pueda usarse.\n",
    "\n",
    "El paquete de datos `nltk` incluye un tokenizador Punkt previamente entrenado para inglés."
   ]
  },
  {
   "cell_type": "markdown",
   "metadata": {},
   "source": [
    "## <span style=\"color:#4361EE\">Corpus de juguete</span>"
   ]
  },
  {
   "cell_type": "markdown",
   "metadata": {},
   "source": [
    "Para empezar usaremos el siguiente *corpus de juguete*.\n",
    "\n",
    "Nuestro corpus de juguete consta de documentos pertenecientes a varias categorías. \n",
    "\n",
    "Otro corpus que usaremos en esta lección es la versión *King James de la Biblia* disponible gratuitamente en *Project Gutenberg* a través del módulo de corpus en `nltk`.\n",
    "\n",
    "Lo cargaremos en breve, en la siguiente sección. Antes de los análisis necesitamos preprocesar y normalizar este texto."
   ]
  },
  {
   "cell_type": "markdown",
   "metadata": {},
   "source": [
    "### <span style=\"color:#4CC9F0\">Importa librerías (módulos)</span>"
   ]
  },
  {
   "cell_type": "code",
   "execution_count": 1,
   "metadata": {},
   "outputs": [],
   "source": [
    "import pandas as pd\n",
    "import numpy as np\n",
    "import re\n",
    "import nltk\n",
    "import matplotlib.pyplot as plt\n",
    "\n",
    "pd.options.display.max_colwidth = 200\n",
    "\n",
    "%matplotlib inline"
   ]
  },
  {
   "cell_type": "markdown",
   "metadata": {},
   "source": [
    "### <span style=\"color:#4CC9F0\">Corpus de juguete</span>"
   ]
  },
  {
   "cell_type": "code",
   "execution_count": 2,
   "metadata": {},
   "outputs": [
    {
     "data": {
      "text/html": [
       "<div>\n",
       "<style scoped>\n",
       "    .dataframe tbody tr th:only-of-type {\n",
       "        vertical-align: middle;\n",
       "    }\n",
       "\n",
       "    .dataframe tbody tr th {\n",
       "        vertical-align: top;\n",
       "    }\n",
       "\n",
       "    .dataframe thead th {\n",
       "        text-align: right;\n",
       "    }\n",
       "</style>\n",
       "<table border=\"1\" class=\"dataframe\">\n",
       "  <thead>\n",
       "    <tr style=\"text-align: right;\">\n",
       "      <th></th>\n",
       "      <th>Document</th>\n",
       "      <th>Category</th>\n",
       "    </tr>\n",
       "  </thead>\n",
       "  <tbody>\n",
       "    <tr>\n",
       "      <th>0</th>\n",
       "      <td>The sky is blue and beautiful.</td>\n",
       "      <td>weather</td>\n",
       "    </tr>\n",
       "    <tr>\n",
       "      <th>1</th>\n",
       "      <td>Love this blue and beautiful sky!</td>\n",
       "      <td>weather</td>\n",
       "    </tr>\n",
       "    <tr>\n",
       "      <th>2</th>\n",
       "      <td>The quick brown fox jumps over the lazy dog.</td>\n",
       "      <td>animals</td>\n",
       "    </tr>\n",
       "    <tr>\n",
       "      <th>3</th>\n",
       "      <td>A king's breakfast has sausages, ham, bacon, eggs, toast and beans</td>\n",
       "      <td>food</td>\n",
       "    </tr>\n",
       "    <tr>\n",
       "      <th>4</th>\n",
       "      <td>I love green eggs, ham, sausages and bacon!</td>\n",
       "      <td>food</td>\n",
       "    </tr>\n",
       "    <tr>\n",
       "      <th>5</th>\n",
       "      <td>The brown fox is quick and the blue dog is lazy!</td>\n",
       "      <td>animals</td>\n",
       "    </tr>\n",
       "    <tr>\n",
       "      <th>6</th>\n",
       "      <td>The sky is very blue and the sky is very beautiful today</td>\n",
       "      <td>weather</td>\n",
       "    </tr>\n",
       "    <tr>\n",
       "      <th>7</th>\n",
       "      <td>The dog is lazy but the brown fox is quick!</td>\n",
       "      <td>animals</td>\n",
       "    </tr>\n",
       "  </tbody>\n",
       "</table>\n",
       "</div>"
      ],
      "text/plain": [
       "                                                             Document Category\n",
       "0                                      The sky is blue and beautiful.  weather\n",
       "1                                   Love this blue and beautiful sky!  weather\n",
       "2                        The quick brown fox jumps over the lazy dog.  animals\n",
       "3  A king's breakfast has sausages, ham, bacon, eggs, toast and beans     food\n",
       "4                         I love green eggs, ham, sausages and bacon!     food\n",
       "5                    The brown fox is quick and the blue dog is lazy!  animals\n",
       "6            The sky is very blue and the sky is very beautiful today  weather\n",
       "7                         The dog is lazy but the brown fox is quick!  animals"
      ]
     },
     "execution_count": 2,
     "metadata": {},
     "output_type": "execute_result"
    }
   ],
   "source": [
    "corpus = ['The sky is blue and beautiful.',\n",
    "          'Love this blue and beautiful sky!',\n",
    "          'The quick brown fox jumps over the lazy dog.',\n",
    "          \"A king's breakfast has sausages, ham, bacon, eggs, toast and beans\",\n",
    "          'I love green eggs, ham, sausages and bacon!',\n",
    "          'The brown fox is quick and the blue dog is lazy!',\n",
    "          'The sky is very blue and the sky is very beautiful today',\n",
    "          'The dog is lazy but the brown fox is quick!']\n",
    "\n",
    "labels = ['weather', 'weather', 'animals', 'food', 'food', 'animals', 'weather', 'animals']\n",
    "\n",
    "corpus = np.array(corpus)\n",
    "corpus_df = pd.DataFrame({'Document': corpus, \n",
    "                          'Category': labels})\n",
    "corpus_df = corpus_df[['Document', 'Category']]\n",
    "corpus_df"
   ]
  },
  {
   "cell_type": "markdown",
   "metadata": {},
   "source": [
    "## <span style=\"color:#4361EE\">Preprocesamiento del texto</span>"
   ]
  },
  {
   "cell_type": "markdown",
   "metadata": {},
   "source": [
    "Vamos a hacer un preprocesamiento diferente para cada corpus."
   ]
  },
  {
   "cell_type": "code",
   "execution_count": 3,
   "metadata": {},
   "outputs": [],
   "source": [
    "wpt = nltk.WordPunctTokenizer()\n",
    "stop_words = nltk.corpus.stopwords.words('english')\n",
    "\n",
    "def normalize_document(doc):\n",
    "    # quitar caracteres especiales\n",
    "    doc = re.sub(r'[^a-zA-Z\\s]', '', doc, re.I|re.A)\n",
    "    # transformar en minúsculas \n",
    "    doc = doc.lower()\n",
    "    # quitar los espacios en blanco\n",
    "    doc = doc.strip()\n",
    "    # tokenizar el documento\n",
    "    tokens = wpt.tokenize(doc)\n",
    "    # filtrar palabras vacías fuera del documento\n",
    "    filtered_tokens = [token for token in tokens if token not in stop_words]\n",
    "    # volver a crear el documento a partir de tokens filtrados\n",
    "    doc = ' '.join(filtered_tokens)\n",
    "    return doc\n",
    "\n",
    "# crea una función vectorizada para que actúe sobre múltiples textos\n",
    "normalize_corpus = np.vectorize(normalize_document)\n",
    "# normalize_corpus"
   ]
  },
  {
   "cell_type": "code",
   "execution_count": 4,
   "metadata": {},
   "outputs": [
    {
     "data": {
      "text/plain": [
       "array([['sky blue beautiful', 'weather'],\n",
       "       ['love blue beautiful sky', 'weather'],\n",
       "       ['quick brown fox jumps lazy dog', 'animals'],\n",
       "       ['kings breakfast sausages ham bacon eggs toast beans', 'food'],\n",
       "       ['love green eggs ham sausages bacon', 'food'],\n",
       "       ['brown fox quick blue dog lazy', 'animals'],\n",
       "       ['sky blue sky beautiful today', 'weather'],\n",
       "       ['dog lazy brown fox quick', 'animals']], dtype='<U51')"
      ]
     },
     "execution_count": 4,
     "metadata": {},
     "output_type": "execute_result"
    }
   ],
   "source": [
    "norm_corpus_toy = normalize_corpus(corpus_df)\n",
    "norm_corpus_toy"
   ]
  },
  {
   "cell_type": "markdown",
   "metadata": {},
   "source": [
    "## <span style=\"color:#4361EE\">The King James Version of the Bible</span>"
   ]
  },
  {
   "cell_type": "code",
   "execution_count": 5,
   "metadata": {},
   "outputs": [
    {
     "name": "stdout",
     "output_type": "stream",
     "text": [
      "['!', '\"', '#', '$', '%', '&', \"'\", '(', ')', '*', '+', ',', '-', '.', '/', ':', ';', '<', '=', '>', '?', '@', '[', '\\\\', ']', '^', '_', '`', '{', '|', '}', '~', '0', '1', '2', '3', '4', '5', '6', '7', '8', '9']\n"
     ]
    },
    {
     "name": "stderr",
     "output_type": "stream",
     "text": [
      "[nltk_data] Downloading package gutenberg to\n",
      "[nltk_data]     /home/kamilo44/nltk_data...\n",
      "[nltk_data]   Package gutenberg is already up-to-date!\n"
     ]
    }
   ],
   "source": [
    "from nltk.corpus import gutenberg\n",
    "from string import punctuation\n",
    "\n",
    "nltk.download('gutenberg')\n",
    "\n",
    "bible = gutenberg.sents('bible-kjv.txt') # tokeniza por sentencias\n",
    "remove_terms = list(punctuation + '0123456789')\n",
    "print(remove_terms)"
   ]
  },
  {
   "cell_type": "code",
   "execution_count": 6,
   "metadata": {},
   "outputs": [
    {
     "name": "stdout",
     "output_type": "stream",
     "text": [
      "Total lines: 30103\n",
      "\n",
      "Sample line: ['1', ':', '6', 'And', 'God', 'said', ',', 'Let', 'there', 'be', 'a', 'firmament', 'in', 'the', 'midst', 'of', 'the', 'waters', ',', 'and', 'let', 'it', 'divide', 'the', 'waters', 'from', 'the', 'waters', '.']\n",
      "\n",
      "Processed line: god said let firmament midst waters let divide waters waters\n"
     ]
    }
   ],
   "source": [
    "norm_bible = [[word.lower() for word in sent if word not in remove_terms] for sent in bible]\n",
    "norm_bible = [' '.join(tok_sent) for tok_sent in norm_bible]\n",
    "norm_bible = filter(None, normalize_corpus(norm_bible))\n",
    "norm_bible = [tok_sent for tok_sent in norm_bible if len(tok_sent.split()) > 2]\n",
    "\n",
    "print('Total lines:', len(bible))\n",
    "print('\\nSample line:', bible[10])\n",
    "print('\\nProcessed line:', norm_bible[10])"
   ]
  },
  {
   "cell_type": "markdown",
   "metadata": {},
   "source": [
    "## <span style=\"color:#4361EE\">Modelos con Gensim</span>"
   ]
  },
  {
   "cell_type": "markdown",
   "metadata": {},
   "source": [
    "El objeto `word2vec` de `gensim` puede usar CBOW o Skip-gram. Los autores de gensim tomaron el código original escrito por Mikolov y colegas, escrito en c++, lo optimizaron y volvieron *caja negra*. Según ellos gensim es 7 veces más rápido que la implementación que hicimos manualmente en otra lección, usando `numpy`."
   ]
  },
  {
   "cell_type": "markdown",
   "metadata": {},
   "source": [
    "### <span style=\"color:#4CC9F0\">Corpus Biblia</span>"
   ]
  },
  {
   "cell_type": "code",
   "execution_count": 7,
   "metadata": {},
   "outputs": [],
   "source": [
    "from gensim.models import word2vec\n",
    "\n",
    "# tokenizar las oraciones en el corpus\n",
    "wpt = nltk.WordPunctTokenizer()\n",
    "tokenized_corpus_bible = [wpt.tokenize(document) for document in norm_bible]\n",
    "\n",
    "# Establecer valores para varios parámetros\n",
    "feature_size = 100    # Dimensionalidad del vector de palabra (incrustación tenue)\n",
    "window_context = 30   # Tamaño de la ventana de contexto\n",
    "min_word_count = 1    # Recuento mínimo de palabras\n",
    "sample = 1e-3         # Configuración de reducción de resolución para palabras frecuentes\n",
    "\n",
    "w2v_model = word2vec.Word2Vec(tokenized_corpus_bible, vector_size=feature_size, \n",
    "                          window=window_context, min_count=min_word_count,\n",
    "                          sample=sample, epochs=50)"
   ]
  },
  {
   "cell_type": "markdown",
   "metadata": {},
   "source": [
    "### <span style=\"color:#4CC9F0\">Palabras similares, corpus biblia</span>"
   ]
  },
  {
   "cell_type": "code",
   "execution_count": 8,
   "metadata": {},
   "outputs": [
    {
     "data": {
      "text/plain": [
       "{'god': ['lord', 'worldly', 'godly', 'us', 'glory'],\n",
       " 'jesus': ['messias', 'peter', 'apelles', 'apostles', 'nathanael'],\n",
       " 'noah': ['shem', 'japheth', 'ham', 'enosh', 'kenan'],\n",
       " 'egypt': ['egyptians', 'pharaoh', 'bondage', 'rod', 'lice'],\n",
       " 'john': ['baptist', 'james', 'peter', 'galilee', 'tetrarch'],\n",
       " 'gospel': ['christ', 'faith', 'hope', 'godly', 'preach'],\n",
       " 'moses': ['congregation', 'children', 'aaron', 'sinai', 'joshua'],\n",
       " 'famine': ['pestilence', 'peril', 'blasting', 'mildew', 'overtaketh']}"
      ]
     },
     "execution_count": 8,
     "metadata": {},
     "output_type": "execute_result"
    }
   ],
   "source": [
    "# ver palabras similares basadas en el modelo de gensim\n",
    "similar_words = {search_term: [item[0] for item in w2v_model.wv.most_similar([search_term], topn=5)]\n",
    "                  for search_term in ['god', 'jesus', 'noah', 'egypt', 'john', 'gospel', 'moses','famine']}\n",
    "similar_words"
   ]
  },
  {
   "cell_type": "markdown",
   "metadata": {},
   "source": [
    "Traducción:\n",
    "\n",
    "{'dios': ['señor', 'mundano', 'piadoso', 'nosotros', 'gloria'],\n",
    "  'jesús': ['mesías', 'pedro', 'apeles', 'apóstoles', 'natanael'],\n",
    "  'noé': ['shem', 'jafet', 'ham', 'enosh', 'kenan'],\n",
    "  'egipto': ['egipcios', 'faraón', 'esclavitud', 'vara', 'piojos'],\n",
    "  'juan': ['bautista', 'santiago', 'pedro', 'galilea', 'tetrarca'],\n",
    "  'evangelio': ['cristo', 'fe', 'esperanza', 'piadoso', 'predicación'],\n",
    "  'moisés': ['congregación', 'niños', 'aarón', 'sinaí', 'joshua'],\n",
    "  'hambruna': ['pestilencia', 'peligro', 'explosión', 'moho', 'alcanza']}"
   ]
  },
  {
   "cell_type": "code",
   "execution_count": null,
   "metadata": {},
   "outputs": [],
   "source": [
    "help(word2vec.Word2Vec)"
   ]
  },
  {
   "cell_type": "markdown",
   "metadata": {},
   "source": [
    "### <span style=\"color:#4CC9F0\">Gráfico con t-SNE</span>"
   ]
  },
  {
   "cell_type": "markdown",
   "metadata": {},
   "source": [
    "Incrustación estocástica de vecinos con distribución t-Student.\n",
    "\n",
    "[t-SNE](https://scikit-learn.org/stable/modules/generated/sklearn.manifold.TSNE.html), [Laurens van der Maaten and Geoffrey Hinton](https://www.jmlr.org/papers/volume9/vandermaaten08a/vandermaaten08a.pdf) es una herramienta para visualizar datos de alta dimensión. Convierte las similitudes entre los puntos de datos en probabilidades conjuntas y trata de minimizar la divergencia de Kullback-Leibler entre las probabilidades conjuntas de la incrustación de baja dimensión y los datos de alta dimensión. t-SNE tiene una función de costo que no es convexa, es decir, con diferentes inicializaciones podemos obtener diferentes resultados.\n",
    "\n",
    "Se recomienda fuertemente utilizar otro método de reducción de dimensionalidad (por ejemplo, PCA para datos densos o TruncatedSVD para datos escasos) para reducir el número de dimensiones a una cantidad razonable (por ejemplo, 50) si el número de características es muy alto. Esto suprimirá algo de ruido y acelerará el cálculo de distancias por pares entre muestras. Para obtener más consejos, consulte las preguntas frecuentes de [Laurens van der Maaten](https://lvdmaaten.github.io/tsne/)"
   ]
  },
  {
   "cell_type": "code",
   "execution_count": 9,
   "metadata": {},
   "outputs": [
    {
     "data": {
      "image/png": "[encoded data removed]",
      "text/plain": [
       "<Figure size 1400x800 with 1 Axes>"
      ]
     },
     "metadata": {},
     "output_type": "display_data"
    }
   ],
   "source": [
    "import warnings\n",
    "warnings.filterwarnings('ignore')\n",
    "\n",
    "from sklearn.manifold import TSNE\n",
    "\n",
    "words = sum([[k] + v for k, v in similar_words.items()], []) # una lista de palabras similares en similar_words\n",
    "wvs = w2v_model.wv[words] # coordenadas de las palabras\n",
    "\n",
    "tsne = TSNE(init='pca', n_components=2, random_state=100, n_iter=10000, perplexity=2)\n",
    "np.set_printoptions(suppress=True)\n",
    "T = tsne.fit_transform(wvs)\n",
    "labels = words\n",
    "\n",
    "plt.figure(figsize=(14, 8))\n",
    "plt.scatter(T[:, 0], T[:, 1], c='orange', edgecolors='r')\n",
    "for label, x, y in zip(labels, T[:, 0], T[:, 1]):\n",
    "    plt.annotate(label, xy=(x+1, y+1), xytext=(0, 0), textcoords='offset points')"
   ]
  },
  {
   "cell_type": "code",
   "execution_count": 10,
   "metadata": {},
   "outputs": [
    {
     "data": {
      "text/plain": [
       "array([[ 1.8235977 , -0.5768783 , -1.483142  , ..., -1.3427304 ,\n",
       "        -0.44993925, -0.29170942],\n",
       "       [ 2.311209  , -1.2199987 , -3.0255175 , ..., -0.71134955,\n",
       "        -1.7599089 ,  1.0470997 ],\n",
       "       [ 0.17701994,  0.12590887,  0.28078714, ..., -0.09425557,\n",
       "        -0.03140825, -0.16113032],\n",
       "       ...,\n",
       "       [ 0.46691337, -0.16728404, -0.64375633, ...,  0.3359138 ,\n",
       "         0.7674326 ,  0.7731937 ],\n",
       "       [ 0.6179506 , -0.20245552, -0.60446477, ...,  0.4479125 ,\n",
       "         0.73580486,  0.6961194 ],\n",
       "       [ 0.0215124 , -0.29509348, -0.1585549 , ..., -0.1101956 ,\n",
       "         0.07403464, -0.00582216]], dtype=float32)"
      ]
     },
     "execution_count": 10,
     "metadata": {},
     "output_type": "execute_result"
    }
   ],
   "source": [
    "wvs"
   ]
  },
  {
   "cell_type": "code",
   "execution_count": 11,
   "metadata": {
    "scrolled": true
   },
   "outputs": [
    {
     "data": {
      "text/plain": [
       "['god',\n",
       " 'lord',\n",
       " 'worldly',\n",
       " 'godly',\n",
       " 'us',\n",
       " 'glory',\n",
       " 'jesus',\n",
       " 'messias',\n",
       " 'peter',\n",
       " 'apelles',\n",
       " 'apostles',\n",
       " 'nathanael',\n",
       " 'noah',\n",
       " 'shem',\n",
       " 'japheth',\n",
       " 'ham',\n",
       " 'enosh',\n",
       " 'kenan',\n",
       " 'egypt',\n",
       " 'egyptians',\n",
       " 'pharaoh',\n",
       " 'bondage',\n",
       " 'rod',\n",
       " 'lice',\n",
       " 'john',\n",
       " 'baptist',\n",
       " 'james',\n",
       " 'peter',\n",
       " 'galilee',\n",
       " 'tetrarch',\n",
       " 'gospel',\n",
       " 'christ',\n",
       " 'faith',\n",
       " 'hope',\n",
       " 'godly',\n",
       " 'preach',\n",
       " 'moses',\n",
       " 'congregation',\n",
       " 'children',\n",
       " 'aaron',\n",
       " 'sinai',\n",
       " 'joshua',\n",
       " 'famine',\n",
       " 'pestilence',\n",
       " 'peril',\n",
       " 'blasting',\n",
       " 'mildew',\n",
       " 'overtaketh']"
      ]
     },
     "execution_count": 11,
     "metadata": {},
     "output_type": "execute_result"
    }
   ],
   "source": [
    "words"
   ]
  },
  {
   "cell_type": "markdown",
   "metadata": {},
   "source": [
    "## <span style=\"color:#4361EE\">Aplicación a etiquetado automático de textos</span>"
   ]
  },
  {
   "cell_type": "markdown",
   "metadata": {},
   "source": [
    "Para esta aplicación vamos a usar nuestro ejemplo de juguete."
   ]
  },
  {
   "cell_type": "code",
   "execution_count": 12,
   "metadata": {},
   "outputs": [
    {
     "data": {
      "text/plain": [
       "'brown fox quick blue dog lazy'"
      ]
     },
     "execution_count": 12,
     "metadata": {},
     "output_type": "execute_result"
    }
   ],
   "source": [
    "norm_toy = [(text) for text, category in norm_corpus_toy]\n",
    "#norm_toy = [tok_sent for tok_sent in norm_toy if len(tok_sent.split()) > 2]\n",
    "norm_toy[5]"
   ]
  },
  {
   "cell_type": "code",
   "execution_count": 13,
   "metadata": {},
   "outputs": [],
   "source": [
    "# contruimos el modelo word2vec\n",
    "wpt = nltk.WordPunctTokenizer()\n",
    "\n",
    "tokenized_corpus_toy = [wpt.tokenize(document) for document in norm_toy]\n",
    "\n",
    "# Establecer valores para varios parámetros\n",
    "feature_size = 10    # Dimensionalidad del vector de palabra (incrustación tenue)\n",
    "window_context = 10  # Tamaño de la ventana de contexto\n",
    "min_word_count = 1   # Recuento mínimo de palabras\n",
    "sample = 1e-3        # Configuración de reducción de resolución para palabras frecuentes\n",
    "\n",
    "w2v_model = word2vec.Word2Vec(tokenized_corpus_toy, vector_size=feature_size, \n",
    "                              window=window_context, min_count = min_word_count,\n",
    "                              sample=sample, epochs=100)"
   ]
  },
  {
   "cell_type": "markdown",
   "metadata": {},
   "source": [
    "## <span style=\"color:#4361EE\">Visualización de incrustaciones con TSNE</span>"
   ]
  },
  {
   "cell_type": "code",
   "execution_count": 14,
   "metadata": {},
   "outputs": [
    {
     "data": {
      "image/png": "[encoded data removed]",
      "text/plain": [
       "<Figure size 1200x600 with 1 Axes>"
      ]
     },
     "metadata": {},
     "output_type": "display_data"
    }
   ],
   "source": [
    "# visualización de los embeddings\n",
    "from sklearn.manifold import TSNE\n",
    "\n",
    "words = w2v_model.wv.index_to_key\n",
    "wvs = w2v_model.wv[words]\n",
    "\n",
    "tsne = TSNE(n_components=2, random_state=200, n_iter=5000, perplexity=2)\n",
    "np.set_printoptions(suppress=True)\n",
    "T = tsne.fit_transform(wvs)\n",
    "labels = words\n",
    "\n",
    "plt.figure(figsize=(12, 6))\n",
    "plt.scatter(T[:, 0], T[:, 1], c='orange', edgecolors='r')\n",
    "for label, x, y in zip(labels, T[:, 0], T[:, 1]):\n",
    "    plt.annotate(label, xy=(x+1, y+1), xytext=(0, 0), textcoords='offset points')"
   ]
  },
  {
   "cell_type": "markdown",
   "metadata": {},
   "source": [
    "Recuerde que nuestro corpus es extremadamente pequeño, por lo que para obtener incrustaciones de palabras significativas y para que el modelo obtenga más contexto y semántica, más datos ayudan.\n",
    "\n",
    "Ahora bien, ¿qué es una palabra incrustada en este escenario? \n",
    "\n",
    "Por lo general, es un vector denso para cada palabra, como se muestra en el siguiente ejemplo para la palabra *sky*."
   ]
  },
  {
   "cell_type": "code",
   "execution_count": 15,
   "metadata": {},
   "outputs": [
    {
     "data": {
      "text/plain": [
       "array([-0.00550217,  0.00225759,  0.05222183,  0.08953774, -0.09186712,\n",
       "       -0.07102545,  0.06703831,  0.09108812, -0.05248048, -0.03727873],\n",
       "      dtype=float32)"
      ]
     },
     "execution_count": 15,
     "metadata": {},
     "output_type": "execute_result"
    }
   ],
   "source": [
    "w2v_model.wv['sky']"
   ]
  },
  {
   "cell_type": "markdown",
   "metadata": {},
   "source": [
    "## <span style=\"color:#4361EE\">Incrustación de documentos</span>"
   ]
  },
  {
   "cell_type": "markdown",
   "metadata": {},
   "source": [
    "Ahora suponga que quisiéramos agrupar los ocho documentos de nuestro corpus de juguete, necesitaríamos obtener las incrustaciones de nivel de documento de cada una de las palabras presentes en cada documento. \n",
    "\n",
    "Una estrategia sería promediar las incrustaciones de palabras para cada palabra en un documento. \n",
    "\n",
    "Esta es una estrategia extremadamente útil y puede adoptar la misma para sus propios problemas. Apliquemos esto ahora en nuestro corpus para obtener características para cada documento."
   ]
  },
  {
   "cell_type": "code",
   "execution_count": 16,
   "metadata": {},
   "outputs": [],
   "source": [
    "def average_word_vectors(words, model, vocabulary, num_features):\n",
    "    \n",
    "    feature_vector = np.zeros((num_features,),dtype=\"float64\")\n",
    "    nwords = 0.\n",
    "    \n",
    "    for word in words:\n",
    "        if word in vocabulary: \n",
    "            nwords = nwords + 1.\n",
    "            feature_vector = np.add(feature_vector, model.wv[word])\n",
    "    \n",
    "    if nwords:\n",
    "        feature_vector = np.divide(feature_vector, nwords)\n",
    "        \n",
    "    return feature_vector\n",
    "    \n",
    "   \n",
    "def averaged_word_vectorizer(corpus, model, num_features):\n",
    "    vocabulary = set(model.wv.index_to_key)\n",
    "    features = [average_word_vectors(tokenized_sentence, model, vocabulary, num_features)\n",
    "                    for tokenized_sentence in corpus]\n",
    "    return np.array(features)\n",
    "\n",
    "\n",
    "# obtener incrustaciones a nivel de documento\n",
    "w2v_feature_array = averaged_word_vectorizer(corpus=tokenized_corpus_toy, model=w2v_model, num_features=feature_size)\n",
    "          "
   ]
  },
  {
   "cell_type": "code",
   "execution_count": 17,
   "metadata": {},
   "outputs": [
    {
     "data": {
      "text/html": [
       "<div>\n",
       "<style scoped>\n",
       "    .dataframe tbody tr th:only-of-type {\n",
       "        vertical-align: middle;\n",
       "    }\n",
       "\n",
       "    .dataframe tbody tr th {\n",
       "        vertical-align: top;\n",
       "    }\n",
       "\n",
       "    .dataframe thead th {\n",
       "        text-align: right;\n",
       "    }\n",
       "</style>\n",
       "<table border=\"1\" class=\"dataframe\">\n",
       "  <thead>\n",
       "    <tr style=\"text-align: right;\">\n",
       "      <th></th>\n",
       "      <th>0</th>\n",
       "      <th>1</th>\n",
       "      <th>2</th>\n",
       "      <th>3</th>\n",
       "      <th>4</th>\n",
       "      <th>5</th>\n",
       "      <th>6</th>\n",
       "      <th>7</th>\n",
       "      <th>8</th>\n",
       "      <th>9</th>\n",
       "    </tr>\n",
       "  </thead>\n",
       "  <tbody>\n",
       "    <tr>\n",
       "      <th>0</th>\n",
       "      <td>-0.002563</td>\n",
       "      <td>-0.007418</td>\n",
       "      <td>0.034811</td>\n",
       "      <td>0.026904</td>\n",
       "      <td>-0.053587</td>\n",
       "      <td>-0.035993</td>\n",
       "      <td>0.061499</td>\n",
       "      <td>0.014958</td>\n",
       "      <td>-0.047006</td>\n",
       "      <td>-0.059281</td>\n",
       "    </tr>\n",
       "    <tr>\n",
       "      <th>1</th>\n",
       "      <td>0.003990</td>\n",
       "      <td>-0.017028</td>\n",
       "      <td>0.047207</td>\n",
       "      <td>-0.004556</td>\n",
       "      <td>-0.022574</td>\n",
       "      <td>-0.019438</td>\n",
       "      <td>0.034795</td>\n",
       "      <td>0.022913</td>\n",
       "      <td>-0.040348</td>\n",
       "      <td>-0.027406</td>\n",
       "    </tr>\n",
       "    <tr>\n",
       "      <th>2</th>\n",
       "      <td>-0.025970</td>\n",
       "      <td>0.044765</td>\n",
       "      <td>-0.027590</td>\n",
       "      <td>-0.042492</td>\n",
       "      <td>0.038190</td>\n",
       "      <td>0.001035</td>\n",
       "      <td>0.020798</td>\n",
       "      <td>0.014793</td>\n",
       "      <td>-0.009800</td>\n",
       "      <td>0.026013</td>\n",
       "    </tr>\n",
       "    <tr>\n",
       "      <th>3</th>\n",
       "      <td>-0.004875</td>\n",
       "      <td>-0.023161</td>\n",
       "      <td>0.012324</td>\n",
       "      <td>0.017017</td>\n",
       "      <td>0.023751</td>\n",
       "      <td>0.013767</td>\n",
       "      <td>0.019178</td>\n",
       "      <td>-0.004341</td>\n",
       "      <td>0.008625</td>\n",
       "      <td>0.013524</td>\n",
       "    </tr>\n",
       "    <tr>\n",
       "      <th>4</th>\n",
       "      <td>0.002887</td>\n",
       "      <td>-0.026936</td>\n",
       "      <td>0.028622</td>\n",
       "      <td>0.022390</td>\n",
       "      <td>0.038068</td>\n",
       "      <td>0.033622</td>\n",
       "      <td>0.020794</td>\n",
       "      <td>0.024426</td>\n",
       "      <td>-0.022648</td>\n",
       "      <td>0.036913</td>\n",
       "    </tr>\n",
       "    <tr>\n",
       "      <th>5</th>\n",
       "      <td>0.000605</td>\n",
       "      <td>0.036747</td>\n",
       "      <td>-0.027230</td>\n",
       "      <td>-0.022999</td>\n",
       "      <td>0.024138</td>\n",
       "      <td>-0.010912</td>\n",
       "      <td>0.013114</td>\n",
       "      <td>0.026146</td>\n",
       "      <td>-0.036314</td>\n",
       "      <td>-0.000790</td>\n",
       "    </tr>\n",
       "    <tr>\n",
       "      <th>6</th>\n",
       "      <td>-0.000502</td>\n",
       "      <td>-0.007114</td>\n",
       "      <td>0.035939</td>\n",
       "      <td>0.018142</td>\n",
       "      <td>-0.055835</td>\n",
       "      <td>-0.030537</td>\n",
       "      <td>0.061412</td>\n",
       "      <td>0.022556</td>\n",
       "      <td>-0.058082</td>\n",
       "      <td>-0.034085</td>\n",
       "    </tr>\n",
       "    <tr>\n",
       "      <th>7</th>\n",
       "      <td>-0.013937</td>\n",
       "      <td>0.047206</td>\n",
       "      <td>-0.023748</td>\n",
       "      <td>-0.040617</td>\n",
       "      <td>0.038326</td>\n",
       "      <td>-0.009574</td>\n",
       "      <td>0.009073</td>\n",
       "      <td>0.029035</td>\n",
       "      <td>-0.026323</td>\n",
       "      <td>0.017736</td>\n",
       "    </tr>\n",
       "  </tbody>\n",
       "</table>\n",
       "</div>"
      ],
      "text/plain": [
       "          0         1         2         3         4         5         6  \\\n",
       "0 -0.002563 -0.007418  0.034811  0.026904 -0.053587 -0.035993  0.061499   \n",
       "1  0.003990 -0.017028  0.047207 -0.004556 -0.022574 -0.019438  0.034795   \n",
       "2 -0.025970  0.044765 -0.027590 -0.042492  0.038190  0.001035  0.020798   \n",
       "3 -0.004875 -0.023161  0.012324  0.017017  0.023751  0.013767  0.019178   \n",
       "4  0.002887 -0.026936  0.028622  0.022390  0.038068  0.033622  0.020794   \n",
       "5  0.000605  0.036747 -0.027230 -0.022999  0.024138 -0.010912  0.013114   \n",
       "6 -0.000502 -0.007114  0.035939  0.018142 -0.055835 -0.030537  0.061412   \n",
       "7 -0.013937  0.047206 -0.023748 -0.040617  0.038326 -0.009574  0.009073   \n",
       "\n",
       "          7         8         9  \n",
       "0  0.014958 -0.047006 -0.059281  \n",
       "1  0.022913 -0.040348 -0.027406  \n",
       "2  0.014793 -0.009800  0.026013  \n",
       "3 -0.004341  0.008625  0.013524  \n",
       "4  0.024426 -0.022648  0.036913  \n",
       "5  0.026146 -0.036314 -0.000790  \n",
       "6  0.022556 -0.058082 -0.034085  \n",
       "7  0.029035 -0.026323  0.017736  "
      ]
     },
     "execution_count": 17,
     "metadata": {},
     "output_type": "execute_result"
    }
   ],
   "source": [
    "pp = pd.DataFrame(w2v_feature_array)\n",
    "pp"
   ]
  },
  {
   "cell_type": "markdown",
   "metadata": {},
   "source": [
    "Ahora que tenemos nuestras características para cada documento, agrupemos estos documentos utilizando el **algoritmo de propagación de afinidad**, que es un algoritmo de agrupación basado en el concepto de \"paso de mensajes\" entre puntos de datos y no necesita el número de agrupaciones como una entrada explícita que a menudo es requerido por algoritmos de agrupación en clústeres basados en particiones."
   ]
  },
  {
   "cell_type": "markdown",
   "metadata": {},
   "source": [
    "### <span style=\"color:#4CC9F0\">Propagación por afinidad: Afinity propagation</span>"
   ]
  },
  {
   "cell_type": "markdown",
   "metadata": {},
   "source": [
    "Este es el resumen del artículo de [Frey y Duek](https://science.sciencemag.org/content/315/5814/972).\n",
    "\n",
    "\"La agrupación de datos mediante la identificación de un subconjunto de ejemplos representativos es importante para procesar señales sensoriales y detectar patrones en los datos. \n",
    "\n",
    "Estos \"ejemplos\" se pueden encontrar eligiendo aleatoriamente un subconjunto inicial de puntos de datos y luego refinándolo iterativamente, pero esto funciona bien solo si esa elección inicial está cerca de una buena solución.\n",
    "\n",
    "\n",
    "Diseñamos un método llamado \"propagación por afinidad\", que toma como entrada medidas de similitud entre pares de puntos de datos. Los mensajes de valor real se intercambian entre puntos de datos hasta que emerge gradualmente un conjunto de ejemplos de alta calidad y los grupos correspondientes. \n",
    "\n",
    "Utilizamos la propagación por afinidad para agrupar imágenes de rostros, detectar genes en datos de microarrays, identificar oraciones representativas en este manuscrito e identificar ciudades a las que se accede de manera eficiente mediante viajes en avión. \n",
    "\n",
    "La propagación por afinidad encontró grupos con un error mucho menor que otros métodos, y lo hizo en menos de una centésima parte del tiempo.\""
   ]
  },
  {
   "cell_type": "code",
   "execution_count": 18,
   "metadata": {},
   "outputs": [
    {
     "data": {
      "text/html": [
       "<div>\n",
       "<style scoped>\n",
       "    .dataframe tbody tr th:only-of-type {\n",
       "        vertical-align: middle;\n",
       "    }\n",
       "\n",
       "    .dataframe tbody tr th {\n",
       "        vertical-align: top;\n",
       "    }\n",
       "\n",
       "    .dataframe thead th {\n",
       "        text-align: right;\n",
       "    }\n",
       "</style>\n",
       "<table border=\"1\" class=\"dataframe\">\n",
       "  <thead>\n",
       "    <tr style=\"text-align: right;\">\n",
       "      <th></th>\n",
       "      <th>Document</th>\n",
       "      <th>Category</th>\n",
       "      <th>ClusterLabel</th>\n",
       "    </tr>\n",
       "  </thead>\n",
       "  <tbody>\n",
       "    <tr>\n",
       "      <th>0</th>\n",
       "      <td>The sky is blue and beautiful.</td>\n",
       "      <td>weather</td>\n",
       "      <td>1</td>\n",
       "    </tr>\n",
       "    <tr>\n",
       "      <th>1</th>\n",
       "      <td>Love this blue and beautiful sky!</td>\n",
       "      <td>weather</td>\n",
       "      <td>1</td>\n",
       "    </tr>\n",
       "    <tr>\n",
       "      <th>2</th>\n",
       "      <td>The quick brown fox jumps over the lazy dog.</td>\n",
       "      <td>animals</td>\n",
       "      <td>2</td>\n",
       "    </tr>\n",
       "    <tr>\n",
       "      <th>3</th>\n",
       "      <td>A king's breakfast has sausages, ham, bacon, eggs, toast and beans</td>\n",
       "      <td>food</td>\n",
       "      <td>0</td>\n",
       "    </tr>\n",
       "    <tr>\n",
       "      <th>4</th>\n",
       "      <td>I love green eggs, ham, sausages and bacon!</td>\n",
       "      <td>food</td>\n",
       "      <td>0</td>\n",
       "    </tr>\n",
       "    <tr>\n",
       "      <th>5</th>\n",
       "      <td>The brown fox is quick and the blue dog is lazy!</td>\n",
       "      <td>animals</td>\n",
       "      <td>2</td>\n",
       "    </tr>\n",
       "    <tr>\n",
       "      <th>6</th>\n",
       "      <td>The sky is very blue and the sky is very beautiful today</td>\n",
       "      <td>weather</td>\n",
       "      <td>1</td>\n",
       "    </tr>\n",
       "    <tr>\n",
       "      <th>7</th>\n",
       "      <td>The dog is lazy but the brown fox is quick!</td>\n",
       "      <td>animals</td>\n",
       "      <td>2</td>\n",
       "    </tr>\n",
       "  </tbody>\n",
       "</table>\n",
       "</div>"
      ],
      "text/plain": [
       "                                                             Document  \\\n",
       "0                                      The sky is blue and beautiful.   \n",
       "1                                   Love this blue and beautiful sky!   \n",
       "2                        The quick brown fox jumps over the lazy dog.   \n",
       "3  A king's breakfast has sausages, ham, bacon, eggs, toast and beans   \n",
       "4                         I love green eggs, ham, sausages and bacon!   \n",
       "5                    The brown fox is quick and the blue dog is lazy!   \n",
       "6            The sky is very blue and the sky is very beautiful today   \n",
       "7                         The dog is lazy but the brown fox is quick!   \n",
       "\n",
       "  Category  ClusterLabel  \n",
       "0  weather             1  \n",
       "1  weather             1  \n",
       "2  animals             2  \n",
       "3     food             0  \n",
       "4     food             0  \n",
       "5  animals             2  \n",
       "6  weather             1  \n",
       "7  animals             2  "
      ]
     },
     "execution_count": 18,
     "metadata": {},
     "output_type": "execute_result"
    }
   ],
   "source": [
    "from sklearn.cluster import AffinityPropagation\n",
    "\n",
    "ap = AffinityPropagation()\n",
    "ap.fit(w2v_feature_array)\n",
    "cluster_labels = ap.labels_\n",
    "cluster_labels = pd.DataFrame(cluster_labels, columns=['ClusterLabel'])\n",
    "pd.concat([corpus_df, cluster_labels], axis=1)"
   ]
  },
  {
   "cell_type": "markdown",
   "metadata": {},
   "source": [
    "Finalmente hagamos un plot de los documentos usando un análisis de componentes principales (ACP)."
   ]
  },
  {
   "cell_type": "code",
   "execution_count": 19,
   "metadata": {},
   "outputs": [
    {
     "data": {
      "image/png": "[encoded data removed]",
      "text/plain": [
       "<Figure size 800x600 with 1 Axes>"
      ]
     },
     "metadata": {},
     "output_type": "display_data"
    }
   ],
   "source": [
    "from sklearn.decomposition import PCA\n",
    "\n",
    "pca = PCA(n_components=2, random_state=0)\n",
    "pcs = pca.fit_transform(w2v_feature_array)\n",
    "labels = ap.labels_\n",
    "categories = list(corpus_df['Category'])\n",
    "plt.figure(figsize=(8, 6))\n",
    "\n",
    "for i in range(len(labels)):\n",
    "    label = labels[i]\n",
    "    color = 'orange' if label == 0 else 'blue' if label == 1 else 'green'\n",
    "    annotation_label = categories[i]\n",
    "    x, y = pcs[i]\n",
    "    plt.scatter(x, y, c=color, edgecolors='k')\n",
    "    plt.annotate(annotation_label, xy=(x+1e-4, y+1e-3), xytext=(0, 0), textcoords='offset points')\n"
   ]
  },
  {
   "cell_type": "markdown",
   "metadata": {},
   "source": [
    "## <span style=\"color:#4361EE\">Modelos preentrenados. El modelo GloVe</span>"
   ]
  },
  {
   "cell_type": "markdown",
   "metadata": {},
   "source": [
    "El modelo GloVe significa Vectores Globales, que es un modelo de aprendizaje no supervisado que se puede utilizar para obtener vectores de palabras densas similares a Word2Vec. \n",
    "\n",
    "Sin embargo, la técnica es diferente y el entrenamiento se realiza en una matriz global de coocurrencia palabra-palabra, usando el contexto de las mismas, lo que nos da un espacio vectorial con subestructuras significativas. \n",
    "\n",
    "Este método fue inventado en Stanford por Pennington et al. y se recomienda leer el artículo original sobre GloVe, [GloVe: Global Vectors for Word Representation](https://nlp.stanford.edu/pubs/glove.pdf) de Pennington et al. que es una lectura excelente para tener una perspectiva de como funciona este modelo.\n",
    "\n",
    "\n",
    "\n",
    "No cubriremos la implementación del modelo desde cero con demasiado detalle aquí, pero si está interesado en el código real, puede consultar la página oficial de [GloVe](https://nlp.stanford.edu/projects/glove/). \n",
    "\n",
    "Aquí mantendremos las cosas simples e intentaremos comprender los conceptos básicos detrás del modelo GloVe. Hemos hablado de métodos de factorización matricial basados en recuento como LSA y métodos predictivos como Word2Vec. \n",
    "\n",
    "\n",
    "El paper afirma que, actualmente, ambas familias sufren importantes inconvenientes. \n",
    "\n",
    "\n",
    "1. Los métodos como LSA aprovechan de manera eficiente la información estadística, pero funcionan relativamente mal en la tarea de analogía de palabras, como la forma en que descubrimos palabras semánticamente similares. \n",
    "2. Los métodos como skip-gram pueden funcionar mejor en la tarea de analogía, pero no utilizan tan bien las estadísticas del corpus a nivel global.\n",
    "\n",
    "\n",
    "La metodología básica del modelo GloVe es crear primero una enorme matriz de coocurrencia palabra-contexto que consta de pares (palabra, contexto) de modo que cada elemento de esta matriz represente la frecuencia con la que aparece una palabra con el contexto (que puede ser una secuencia de palabras).\n",
    "\n",
    "La idea entonces es aplicar factorización matricial para aproximar esta matriz como se muestra en la siguiente figura."
   ]
  },
  {
   "cell_type": "markdown",
   "metadata": {},
   "source": [
    "<figure>\n",
    "<center>\n",
    "<img src=\"https://raw.githubusercontent.com/AprendizajeProfundo/Libro-Fundamentos/main/Tratamiento_de_Lenguaje_Natural/Imagenes/glove_matrix.png\" width=\"400\" height=\"300\" align=\"center\"/>\n",
    "</center>\n",
    "<figcaption>\n",
    "<p style=\"text-align:center\">Base matemática  del modelo Glove</p>\n",
    "</figcaption>\n",
    "</figure>\n",
    "\n",
    "Fuente: [understanding-feature-engineering](https://towardsdatascience.com/understanding-feature-engineering-part-4-deep-learning-methods-for-text-data-96c44370bbfa)\n",
    "\n"
   ]
  },
  {
   "cell_type": "markdown",
   "metadata": {},
   "source": [
    "Teniendo en cuenta la matriz **Word-Context (WC)**, la matriz **Word-Feature (WF)** y la matriz **Feature-Context (FC)**, intentamos factorizar **WC = WF x FC**, de modo que nuestro objetivo es reconstruir WC a partir de WF y FC multiplicando estos. \n",
    "\n",
    "\n",
    "Para esto, normalmente inicializamos WF y FC con algunos pesos aleatorios e intentamos multiplicarlos para obtener WC$’$ (una aproximación de WC) y medir que tan cerca está de WC. Hacemos esto varias veces usando el Descenso del gradiente estocástico (SGD) para minimizar el error. \n",
    "\n",
    "Finalmente, la matriz Word-Feature (WF) nos da las incrustaciones de palabras para cada palabra donde F se puede preestablecer para un número específico de dimensiones.\n",
    "\n",
    "Un punto muy importante para recordar es que los modelos Word2Vec y GloVe son muy similares en su funcionamiento. \n",
    "\n",
    "\n",
    "Ambos tienen como objetivo construir un espacio vectorial donde la posición de cada palabra está influenciada por las palabras vecinas en función de su contexto y semántica. \n",
    "\n",
    "Word2Vec comienza con ejemplos individuales locales de pares de coocurrencia de palabras y GloVe comienza con estadísticas globales de coocurrencia agregadas en todas las palabras del corpus."
   ]
  },
  {
   "cell_type": "markdown",
   "metadata": {},
   "source": [
    "## <span style=\"color:#4361EE\">Introducción a spaCy</span>"
   ]
  },
  {
   "cell_type": "markdown",
   "metadata": {},
   "source": [
    "Intentemos aprovechar las incrustaciones basadas en GloVe para nuestra tarea de agrupación de documentos. \n",
    "\n",
    "El marco de trabajo **spaCy** es muy popular y viene con capacidades para aprovechar las incrustaciones de GloVe basadas en diferentes modelos de lenguaje. \n",
    "\n",
    "También puede obtener vectores de palabras previamente entrenados y cargarlos según sea necesario usando gensim o spacy. \n",
    "\n",
    "Primero instalaremos spacy y usaremos el modelo **en_core_web_md** un modelo intermedio del inglés. Si desea resulatdos más potentes instale **en_vectors_web_lg** que consiste en vectores de palabras de 300 dimensiones entrenados en Common Crawl con [GloVe](https://nlp.stanford.edu/projects/glove/). \n"
   ]
  },
  {
   "cell_type": "markdown",
   "metadata": {},
   "source": [
    "## <span style=\"color:#4361EE\">Modelos en español</span>"
   ]
  },
  {
   "cell_type": "markdown",
   "metadata": {},
   "source": [
    "En la página [spacy-models](https://spacy.io/usage/models) encuentra los modelos disponibles en *spaCy*, basados en GloVe, para distintos idiomas. \n",
    "\n",
    "En particular para español se tienen [modelos para Español en spacy](https://spacy.io/models/es) : \n",
    "\n",
    "1. es_core_news_sm (small): 15 MB\n",
    "2. es_core_news_md (medium):  500k keys, 20k unique vectors (300 dimensions), 45 MB\n",
    "3. es_core_news_lg (long): :  500k keys, 500k unique vectors (300 dimensions), 546 MB\n",
    "\n",
    "Para bajar e instalar por ejemplo *es_core_news_md* puede escibir:\n",
    "\n",
    "`python -m spacy download es_core_news_md`\n",
    "\n",
    "Veamos:"
   ]
  },
  {
   "cell_type": "code",
   "execution_count": 22,
   "metadata": {},
   "outputs": [
    {
     "name": "stdout",
     "output_type": "stream",
     "text": [
      "Total word vectors: 20000\n"
     ]
    }
   ],
   "source": [
    "# !conda install -c conda-forge spacy\n",
    "# !python -m spacy download en_core_web_md\n",
    "\n",
    "import spacy\n",
    "\n",
    "nlp = spacy.load('en_core_web_md')\n",
    "\n",
    "\n",
    "total_vectors = len(nlp.vocab.vectors)\n",
    "print('Total word vectors:', total_vectors)"
   ]
  },
  {
   "cell_type": "markdown",
   "metadata": {},
   "source": [
    "Si todo va bien hasta aquí, podemos continuar."
   ]
  },
  {
   "cell_type": "code",
   "execution_count": 23,
   "metadata": {
    "scrolled": true
   },
   "outputs": [
    {
     "data": {
      "text/html": [
       "<div>\n",
       "<style scoped>\n",
       "    .dataframe tbody tr th:only-of-type {\n",
       "        vertical-align: middle;\n",
       "    }\n",
       "\n",
       "    .dataframe tbody tr th {\n",
       "        vertical-align: top;\n",
       "    }\n",
       "\n",
       "    .dataframe thead th {\n",
       "        text-align: right;\n",
       "    }\n",
       "</style>\n",
       "<table border=\"1\" class=\"dataframe\">\n",
       "  <thead>\n",
       "    <tr style=\"text-align: right;\">\n",
       "      <th></th>\n",
       "      <th>0</th>\n",
       "      <th>1</th>\n",
       "      <th>2</th>\n",
       "      <th>3</th>\n",
       "      <th>4</th>\n",
       "      <th>5</th>\n",
       "      <th>6</th>\n",
       "      <th>7</th>\n",
       "      <th>8</th>\n",
       "      <th>9</th>\n",
       "      <th>...</th>\n",
       "      <th>290</th>\n",
       "      <th>291</th>\n",
       "      <th>292</th>\n",
       "      <th>293</th>\n",
       "      <th>294</th>\n",
       "      <th>295</th>\n",
       "      <th>296</th>\n",
       "      <th>297</th>\n",
       "      <th>298</th>\n",
       "      <th>299</th>\n",
       "    </tr>\n",
       "  </thead>\n",
       "  <tbody>\n",
       "    <tr>\n",
       "      <th>sky</th>\n",
       "      <td>7.15240</td>\n",
       "      <td>3.035600</td>\n",
       "      <td>-8.70400</td>\n",
       "      <td>0.937880</td>\n",
       "      <td>-3.67810</td>\n",
       "      <td>-0.035128</td>\n",
       "      <td>1.256800</td>\n",
       "      <td>0.024432</td>\n",
       "      <td>0.289240</td>\n",
       "      <td>4.505400</td>\n",
       "      <td>...</td>\n",
       "      <td>-5.771200</td>\n",
       "      <td>4.76440</td>\n",
       "      <td>4.23500</td>\n",
       "      <td>-1.84270</td>\n",
       "      <td>0.369470</td>\n",
       "      <td>1.31650</td>\n",
       "      <td>1.165000</td>\n",
       "      <td>-1.39280</td>\n",
       "      <td>-3.91250</td>\n",
       "      <td>0.48484</td>\n",
       "    </tr>\n",
       "    <tr>\n",
       "      <th>bacon</th>\n",
       "      <td>0.22776</td>\n",
       "      <td>-3.051600</td>\n",
       "      <td>0.26025</td>\n",
       "      <td>0.641570</td>\n",
       "      <td>2.04230</td>\n",
       "      <td>-3.136500</td>\n",
       "      <td>0.128790</td>\n",
       "      <td>0.181220</td>\n",
       "      <td>-1.535200</td>\n",
       "      <td>0.290250</td>\n",
       "      <td>...</td>\n",
       "      <td>3.504000</td>\n",
       "      <td>-1.27140</td>\n",
       "      <td>4.07630</td>\n",
       "      <td>-5.66470</td>\n",
       "      <td>0.247550</td>\n",
       "      <td>1.58200</td>\n",
       "      <td>3.224800</td>\n",
       "      <td>3.00600</td>\n",
       "      <td>2.78730</td>\n",
       "      <td>2.65260</td>\n",
       "    </tr>\n",
       "    <tr>\n",
       "      <th>sausages</th>\n",
       "      <td>-0.44031</td>\n",
       "      <td>-2.975000</td>\n",
       "      <td>-1.22630</td>\n",
       "      <td>1.393000</td>\n",
       "      <td>2.91210</td>\n",
       "      <td>-2.842100</td>\n",
       "      <td>-0.390080</td>\n",
       "      <td>0.122480</td>\n",
       "      <td>-2.892300</td>\n",
       "      <td>1.735200</td>\n",
       "      <td>...</td>\n",
       "      <td>3.720400</td>\n",
       "      <td>-1.21420</td>\n",
       "      <td>3.37650</td>\n",
       "      <td>-4.15160</td>\n",
       "      <td>-0.408940</td>\n",
       "      <td>-0.13075</td>\n",
       "      <td>1.939700</td>\n",
       "      <td>2.75650</td>\n",
       "      <td>1.44580</td>\n",
       "      <td>1.57040</td>\n",
       "    </tr>\n",
       "    <tr>\n",
       "      <th>lazy</th>\n",
       "      <td>-1.58880</td>\n",
       "      <td>0.733160</td>\n",
       "      <td>1.07460</td>\n",
       "      <td>-2.452100</td>\n",
       "      <td>-0.42517</td>\n",
       "      <td>3.334400</td>\n",
       "      <td>-0.179420</td>\n",
       "      <td>-1.092400</td>\n",
       "      <td>-0.093904</td>\n",
       "      <td>0.058663</td>\n",
       "      <td>...</td>\n",
       "      <td>1.125300</td>\n",
       "      <td>-2.35530</td>\n",
       "      <td>3.93600</td>\n",
       "      <td>-3.37510</td>\n",
       "      <td>-0.999340</td>\n",
       "      <td>1.26390</td>\n",
       "      <td>-2.106800</td>\n",
       "      <td>3.07430</td>\n",
       "      <td>-4.42900</td>\n",
       "      <td>3.89380</td>\n",
       "    </tr>\n",
       "    <tr>\n",
       "      <th>kings</th>\n",
       "      <td>-1.87590</td>\n",
       "      <td>-3.145100</td>\n",
       "      <td>0.26432</td>\n",
       "      <td>2.512800</td>\n",
       "      <td>5.12880</td>\n",
       "      <td>1.515500</td>\n",
       "      <td>-3.733400</td>\n",
       "      <td>3.628500</td>\n",
       "      <td>-0.975220</td>\n",
       "      <td>-1.097900</td>\n",
       "      <td>...</td>\n",
       "      <td>5.413500</td>\n",
       "      <td>0.45700</td>\n",
       "      <td>-3.24810</td>\n",
       "      <td>-1.46680</td>\n",
       "      <td>0.405470</td>\n",
       "      <td>3.04020</td>\n",
       "      <td>-1.674500</td>\n",
       "      <td>-3.53990</td>\n",
       "      <td>-4.88900</td>\n",
       "      <td>-2.04060</td>\n",
       "    </tr>\n",
       "    <tr>\n",
       "      <th>green</th>\n",
       "      <td>-1.93390</td>\n",
       "      <td>0.314870</td>\n",
       "      <td>-4.39510</td>\n",
       "      <td>1.924700</td>\n",
       "      <td>-2.04800</td>\n",
       "      <td>-5.712100</td>\n",
       "      <td>-0.956200</td>\n",
       "      <td>2.792700</td>\n",
       "      <td>-1.307100</td>\n",
       "      <td>3.660400</td>\n",
       "      <td>...</td>\n",
       "      <td>-2.795100</td>\n",
       "      <td>0.43909</td>\n",
       "      <td>2.74080</td>\n",
       "      <td>-2.18080</td>\n",
       "      <td>-0.936220</td>\n",
       "      <td>1.71610</td>\n",
       "      <td>4.210300</td>\n",
       "      <td>-0.44140</td>\n",
       "      <td>-3.99350</td>\n",
       "      <td>-0.57955</td>\n",
       "    </tr>\n",
       "    <tr>\n",
       "      <th>fox</th>\n",
       "      <td>0.56940</td>\n",
       "      <td>1.003500</td>\n",
       "      <td>-2.79580</td>\n",
       "      <td>-6.990900</td>\n",
       "      <td>-1.94450</td>\n",
       "      <td>2.147300</td>\n",
       "      <td>-4.308900</td>\n",
       "      <td>-2.577500</td>\n",
       "      <td>3.211000</td>\n",
       "      <td>0.202600</td>\n",
       "      <td>...</td>\n",
       "      <td>-0.050673</td>\n",
       "      <td>1.79860</td>\n",
       "      <td>6.77940</td>\n",
       "      <td>-2.54120</td>\n",
       "      <td>-0.408370</td>\n",
       "      <td>3.17150</td>\n",
       "      <td>0.974170</td>\n",
       "      <td>5.32660</td>\n",
       "      <td>-10.14900</td>\n",
       "      <td>-0.31148</td>\n",
       "    </tr>\n",
       "    <tr>\n",
       "      <th>breakfast</th>\n",
       "      <td>-0.68660</td>\n",
       "      <td>-1.726700</td>\n",
       "      <td>-3.00130</td>\n",
       "      <td>-1.110100</td>\n",
       "      <td>1.83890</td>\n",
       "      <td>-3.076600</td>\n",
       "      <td>-0.233690</td>\n",
       "      <td>1.013300</td>\n",
       "      <td>-2.023400</td>\n",
       "      <td>3.033700</td>\n",
       "      <td>...</td>\n",
       "      <td>1.173600</td>\n",
       "      <td>-2.72720</td>\n",
       "      <td>1.57230</td>\n",
       "      <td>-2.42900</td>\n",
       "      <td>-1.527600</td>\n",
       "      <td>0.98387</td>\n",
       "      <td>-0.098775</td>\n",
       "      <td>2.95160</td>\n",
       "      <td>-1.60790</td>\n",
       "      <td>2.54120</td>\n",
       "    </tr>\n",
       "    <tr>\n",
       "      <th>eggs</th>\n",
       "      <td>0.94699</td>\n",
       "      <td>-3.802500</td>\n",
       "      <td>-5.22820</td>\n",
       "      <td>1.638600</td>\n",
       "      <td>4.74710</td>\n",
       "      <td>-3.459600</td>\n",
       "      <td>-2.239200</td>\n",
       "      <td>0.847490</td>\n",
       "      <td>-3.645700</td>\n",
       "      <td>3.273800</td>\n",
       "      <td>...</td>\n",
       "      <td>6.575500</td>\n",
       "      <td>1.13930</td>\n",
       "      <td>-2.46300</td>\n",
       "      <td>-7.98480</td>\n",
       "      <td>-7.093400</td>\n",
       "      <td>-2.87130</td>\n",
       "      <td>3.126500</td>\n",
       "      <td>3.40870</td>\n",
       "      <td>-4.73420</td>\n",
       "      <td>-0.91956</td>\n",
       "    </tr>\n",
       "    <tr>\n",
       "      <th>jumps</th>\n",
       "      <td>2.04220</td>\n",
       "      <td>3.634600</td>\n",
       "      <td>0.49222</td>\n",
       "      <td>0.074497</td>\n",
       "      <td>1.18540</td>\n",
       "      <td>2.842600</td>\n",
       "      <td>-0.042565</td>\n",
       "      <td>5.634800</td>\n",
       "      <td>0.948340</td>\n",
       "      <td>0.402610</td>\n",
       "      <td>...</td>\n",
       "      <td>-0.538160</td>\n",
       "      <td>3.18240</td>\n",
       "      <td>1.99210</td>\n",
       "      <td>-1.43010</td>\n",
       "      <td>-0.164580</td>\n",
       "      <td>2.53300</td>\n",
       "      <td>-0.051668</td>\n",
       "      <td>1.00780</td>\n",
       "      <td>-0.29046</td>\n",
       "      <td>-1.68560</td>\n",
       "    </tr>\n",
       "    <tr>\n",
       "      <th>dog</th>\n",
       "      <td>1.23300</td>\n",
       "      <td>4.296300</td>\n",
       "      <td>-7.97380</td>\n",
       "      <td>-10.121000</td>\n",
       "      <td>1.82070</td>\n",
       "      <td>1.409800</td>\n",
       "      <td>-4.518000</td>\n",
       "      <td>-5.226100</td>\n",
       "      <td>-0.291570</td>\n",
       "      <td>0.952340</td>\n",
       "      <td>...</td>\n",
       "      <td>2.568800</td>\n",
       "      <td>-5.25470</td>\n",
       "      <td>6.98450</td>\n",
       "      <td>0.27835</td>\n",
       "      <td>-6.455400</td>\n",
       "      <td>-2.13270</td>\n",
       "      <td>-5.651500</td>\n",
       "      <td>11.17400</td>\n",
       "      <td>-8.05680</td>\n",
       "      <td>5.79850</td>\n",
       "    </tr>\n",
       "    <tr>\n",
       "      <th>toast</th>\n",
       "      <td>-1.93140</td>\n",
       "      <td>0.078516</td>\n",
       "      <td>1.47560</td>\n",
       "      <td>1.597600</td>\n",
       "      <td>1.57150</td>\n",
       "      <td>-2.340500</td>\n",
       "      <td>0.164920</td>\n",
       "      <td>0.763640</td>\n",
       "      <td>-1.061700</td>\n",
       "      <td>3.975100</td>\n",
       "      <td>...</td>\n",
       "      <td>1.873200</td>\n",
       "      <td>0.96658</td>\n",
       "      <td>-1.02720</td>\n",
       "      <td>-0.16442</td>\n",
       "      <td>-1.481600</td>\n",
       "      <td>-1.98390</td>\n",
       "      <td>1.898100</td>\n",
       "      <td>2.54110</td>\n",
       "      <td>2.28320</td>\n",
       "      <td>1.28470</td>\n",
       "    </tr>\n",
       "    <tr>\n",
       "      <th>quick</th>\n",
       "      <td>2.63220</td>\n",
       "      <td>2.707800</td>\n",
       "      <td>-1.19830</td>\n",
       "      <td>2.149000</td>\n",
       "      <td>3.34010</td>\n",
       "      <td>-2.768000</td>\n",
       "      <td>0.285130</td>\n",
       "      <td>0.959040</td>\n",
       "      <td>-3.211000</td>\n",
       "      <td>0.978550</td>\n",
       "      <td>...</td>\n",
       "      <td>1.742100</td>\n",
       "      <td>-0.82167</td>\n",
       "      <td>2.79760</td>\n",
       "      <td>0.21357</td>\n",
       "      <td>1.293800</td>\n",
       "      <td>0.10757</td>\n",
       "      <td>0.832680</td>\n",
       "      <td>-0.80778</td>\n",
       "      <td>-1.53100</td>\n",
       "      <td>-0.28953</td>\n",
       "    </tr>\n",
       "    <tr>\n",
       "      <th>today</th>\n",
       "      <td>1.53330</td>\n",
       "      <td>1.622600</td>\n",
       "      <td>1.05520</td>\n",
       "      <td>-1.361500</td>\n",
       "      <td>0.97952</td>\n",
       "      <td>-0.828060</td>\n",
       "      <td>1.485400</td>\n",
       "      <td>2.881700</td>\n",
       "      <td>-0.354000</td>\n",
       "      <td>0.344570</td>\n",
       "      <td>...</td>\n",
       "      <td>3.243400</td>\n",
       "      <td>-1.53780</td>\n",
       "      <td>2.36610</td>\n",
       "      <td>-2.51120</td>\n",
       "      <td>-1.267200</td>\n",
       "      <td>-1.48080</td>\n",
       "      <td>-1.282500</td>\n",
       "      <td>1.41430</td>\n",
       "      <td>-2.50450</td>\n",
       "      <td>2.77440</td>\n",
       "    </tr>\n",
       "    <tr>\n",
       "      <th>ham</th>\n",
       "      <td>0.44278</td>\n",
       "      <td>-4.114100</td>\n",
       "      <td>1.23560</td>\n",
       "      <td>4.187300</td>\n",
       "      <td>1.62440</td>\n",
       "      <td>-1.260100</td>\n",
       "      <td>-1.643500</td>\n",
       "      <td>-0.900330</td>\n",
       "      <td>-1.241500</td>\n",
       "      <td>0.867240</td>\n",
       "      <td>...</td>\n",
       "      <td>3.657400</td>\n",
       "      <td>-1.63910</td>\n",
       "      <td>3.90300</td>\n",
       "      <td>-6.56120</td>\n",
       "      <td>3.673700</td>\n",
       "      <td>-1.20580</td>\n",
       "      <td>3.819300</td>\n",
       "      <td>3.60500</td>\n",
       "      <td>3.63860</td>\n",
       "      <td>4.03620</td>\n",
       "    </tr>\n",
       "    <tr>\n",
       "      <th>blue</th>\n",
       "      <td>-4.31020</td>\n",
       "      <td>2.570600</td>\n",
       "      <td>-3.47220</td>\n",
       "      <td>2.520500</td>\n",
       "      <td>-1.11040</td>\n",
       "      <td>-5.101400</td>\n",
       "      <td>-1.481200</td>\n",
       "      <td>4.655900</td>\n",
       "      <td>0.383650</td>\n",
       "      <td>2.477200</td>\n",
       "      <td>...</td>\n",
       "      <td>-5.250500</td>\n",
       "      <td>4.20530</td>\n",
       "      <td>2.92490</td>\n",
       "      <td>-0.93310</td>\n",
       "      <td>0.890710</td>\n",
       "      <td>6.85240</td>\n",
       "      <td>0.075678</td>\n",
       "      <td>1.07370</td>\n",
       "      <td>-2.96000</td>\n",
       "      <td>-0.42209</td>\n",
       "    </tr>\n",
       "    <tr>\n",
       "      <th>brown</th>\n",
       "      <td>-3.84290</td>\n",
       "      <td>0.140680</td>\n",
       "      <td>-3.35840</td>\n",
       "      <td>3.267900</td>\n",
       "      <td>-2.15360</td>\n",
       "      <td>-6.508500</td>\n",
       "      <td>0.235120</td>\n",
       "      <td>6.884500</td>\n",
       "      <td>-0.543490</td>\n",
       "      <td>3.596900</td>\n",
       "      <td>...</td>\n",
       "      <td>-1.592000</td>\n",
       "      <td>1.02690</td>\n",
       "      <td>1.60640</td>\n",
       "      <td>-2.84040</td>\n",
       "      <td>-2.274700</td>\n",
       "      <td>2.10020</td>\n",
       "      <td>5.480200</td>\n",
       "      <td>0.83172</td>\n",
       "      <td>-4.30830</td>\n",
       "      <td>-1.04370</td>\n",
       "    </tr>\n",
       "    <tr>\n",
       "      <th>beautiful</th>\n",
       "      <td>-0.18931</td>\n",
       "      <td>-0.706820</td>\n",
       "      <td>-3.17310</td>\n",
       "      <td>-4.140700</td>\n",
       "      <td>0.70243</td>\n",
       "      <td>-0.692550</td>\n",
       "      <td>2.348700</td>\n",
       "      <td>1.708300</td>\n",
       "      <td>-0.927380</td>\n",
       "      <td>3.484300</td>\n",
       "      <td>...</td>\n",
       "      <td>0.594240</td>\n",
       "      <td>2.14920</td>\n",
       "      <td>3.27380</td>\n",
       "      <td>-1.28600</td>\n",
       "      <td>1.950500</td>\n",
       "      <td>-0.67481</td>\n",
       "      <td>-0.930960</td>\n",
       "      <td>3.28140</td>\n",
       "      <td>-5.52320</td>\n",
       "      <td>-0.31346</td>\n",
       "    </tr>\n",
       "    <tr>\n",
       "      <th>love</th>\n",
       "      <td>2.05650</td>\n",
       "      <td>-3.225900</td>\n",
       "      <td>-5.73640</td>\n",
       "      <td>-6.146000</td>\n",
       "      <td>0.15748</td>\n",
       "      <td>-2.428400</td>\n",
       "      <td>7.658000</td>\n",
       "      <td>2.706400</td>\n",
       "      <td>-2.211000</td>\n",
       "      <td>-0.899900</td>\n",
       "      <td>...</td>\n",
       "      <td>1.580200</td>\n",
       "      <td>1.75970</td>\n",
       "      <td>-0.60806</td>\n",
       "      <td>-6.61070</td>\n",
       "      <td>0.009383</td>\n",
       "      <td>-4.27630</td>\n",
       "      <td>-0.505070</td>\n",
       "      <td>5.00490</td>\n",
       "      <td>-8.53120</td>\n",
       "      <td>-1.49670</td>\n",
       "    </tr>\n",
       "    <tr>\n",
       "      <th>beans</th>\n",
       "      <td>0.93585</td>\n",
       "      <td>-0.450810</td>\n",
       "      <td>-4.95600</td>\n",
       "      <td>2.254800</td>\n",
       "      <td>1.21050</td>\n",
       "      <td>-1.667600</td>\n",
       "      <td>0.879590</td>\n",
       "      <td>0.004286</td>\n",
       "      <td>-4.167800</td>\n",
       "      <td>3.960000</td>\n",
       "      <td>...</td>\n",
       "      <td>3.116600</td>\n",
       "      <td>1.10070</td>\n",
       "      <td>4.04960</td>\n",
       "      <td>-0.97496</td>\n",
       "      <td>-5.127300</td>\n",
       "      <td>-0.63158</td>\n",
       "      <td>6.890100</td>\n",
       "      <td>-0.34744</td>\n",
       "      <td>2.44190</td>\n",
       "      <td>0.90073</td>\n",
       "    </tr>\n",
       "  </tbody>\n",
       "</table>\n",
       "<p>20 rows × 300 columns</p>\n",
       "</div>"
      ],
      "text/plain": [
       "               0         1        2          3        4         5         6    \\\n",
       "sky        7.15240  3.035600 -8.70400   0.937880 -3.67810 -0.035128  1.256800   \n",
       "bacon      0.22776 -3.051600  0.26025   0.641570  2.04230 -3.136500  0.128790   \n",
       "sausages  -0.44031 -2.975000 -1.22630   1.393000  2.91210 -2.842100 -0.390080   \n",
       "lazy      -1.58880  0.733160  1.07460  -2.452100 -0.42517  3.334400 -0.179420   \n",
       "kings     -1.87590 -3.145100  0.26432   2.512800  5.12880  1.515500 -3.733400   \n",
       "green     -1.93390  0.314870 -4.39510   1.924700 -2.04800 -5.712100 -0.956200   \n",
       "fox        0.56940  1.003500 -2.79580  -6.990900 -1.94450  2.147300 -4.308900   \n",
       "breakfast -0.68660 -1.726700 -3.00130  -1.110100  1.83890 -3.076600 -0.233690   \n",
       "eggs       0.94699 -3.802500 -5.22820   1.638600  4.74710 -3.459600 -2.239200   \n",
       "jumps      2.04220  3.634600  0.49222   0.074497  1.18540  2.842600 -0.042565   \n",
       "dog        1.23300  4.296300 -7.97380 -10.121000  1.82070  1.409800 -4.518000   \n",
       "toast     -1.93140  0.078516  1.47560   1.597600  1.57150 -2.340500  0.164920   \n",
       "quick      2.63220  2.707800 -1.19830   2.149000  3.34010 -2.768000  0.285130   \n",
       "today      1.53330  1.622600  1.05520  -1.361500  0.97952 -0.828060  1.485400   \n",
       "ham        0.44278 -4.114100  1.23560   4.187300  1.62440 -1.260100 -1.643500   \n",
       "blue      -4.31020  2.570600 -3.47220   2.520500 -1.11040 -5.101400 -1.481200   \n",
       "brown     -3.84290  0.140680 -3.35840   3.267900 -2.15360 -6.508500  0.235120   \n",
       "beautiful -0.18931 -0.706820 -3.17310  -4.140700  0.70243 -0.692550  2.348700   \n",
       "love       2.05650 -3.225900 -5.73640  -6.146000  0.15748 -2.428400  7.658000   \n",
       "beans      0.93585 -0.450810 -4.95600   2.254800  1.21050 -1.667600  0.879590   \n",
       "\n",
       "                7         8         9    ...       290      291      292  \\\n",
       "sky        0.024432  0.289240  4.505400  ... -5.771200  4.76440  4.23500   \n",
       "bacon      0.181220 -1.535200  0.290250  ...  3.504000 -1.27140  4.07630   \n",
       "sausages   0.122480 -2.892300  1.735200  ...  3.720400 -1.21420  3.37650   \n",
       "lazy      -1.092400 -0.093904  0.058663  ...  1.125300 -2.35530  3.93600   \n",
       "kings      3.628500 -0.975220 -1.097900  ...  5.413500  0.45700 -3.24810   \n",
       "green      2.792700 -1.307100  3.660400  ... -2.795100  0.43909  2.74080   \n",
       "fox       -2.577500  3.211000  0.202600  ... -0.050673  1.79860  6.77940   \n",
       "breakfast  1.013300 -2.023400  3.033700  ...  1.173600 -2.72720  1.57230   \n",
       "eggs       0.847490 -3.645700  3.273800  ...  6.575500  1.13930 -2.46300   \n",
       "jumps      5.634800  0.948340  0.402610  ... -0.538160  3.18240  1.99210   \n",
       "dog       -5.226100 -0.291570  0.952340  ...  2.568800 -5.25470  6.98450   \n",
       "toast      0.763640 -1.061700  3.975100  ...  1.873200  0.96658 -1.02720   \n",
       "quick      0.959040 -3.211000  0.978550  ...  1.742100 -0.82167  2.79760   \n",
       "today      2.881700 -0.354000  0.344570  ...  3.243400 -1.53780  2.36610   \n",
       "ham       -0.900330 -1.241500  0.867240  ...  3.657400 -1.63910  3.90300   \n",
       "blue       4.655900  0.383650  2.477200  ... -5.250500  4.20530  2.92490   \n",
       "brown      6.884500 -0.543490  3.596900  ... -1.592000  1.02690  1.60640   \n",
       "beautiful  1.708300 -0.927380  3.484300  ...  0.594240  2.14920  3.27380   \n",
       "love       2.706400 -2.211000 -0.899900  ...  1.580200  1.75970 -0.60806   \n",
       "beans      0.004286 -4.167800  3.960000  ...  3.116600  1.10070  4.04960   \n",
       "\n",
       "               293       294      295       296       297       298      299  \n",
       "sky       -1.84270  0.369470  1.31650  1.165000  -1.39280  -3.91250  0.48484  \n",
       "bacon     -5.66470  0.247550  1.58200  3.224800   3.00600   2.78730  2.65260  \n",
       "sausages  -4.15160 -0.408940 -0.13075  1.939700   2.75650   1.44580  1.57040  \n",
       "lazy      -3.37510 -0.999340  1.26390 -2.106800   3.07430  -4.42900  3.89380  \n",
       "kings     -1.46680  0.405470  3.04020 -1.674500  -3.53990  -4.88900 -2.04060  \n",
       "green     -2.18080 -0.936220  1.71610  4.210300  -0.44140  -3.99350 -0.57955  \n",
       "fox       -2.54120 -0.408370  3.17150  0.974170   5.32660 -10.14900 -0.31148  \n",
       "breakfast -2.42900 -1.527600  0.98387 -0.098775   2.95160  -1.60790  2.54120  \n",
       "eggs      -7.98480 -7.093400 -2.87130  3.126500   3.40870  -4.73420 -0.91956  \n",
       "jumps     -1.43010 -0.164580  2.53300 -0.051668   1.00780  -0.29046 -1.68560  \n",
       "dog        0.27835 -6.455400 -2.13270 -5.651500  11.17400  -8.05680  5.79850  \n",
       "toast     -0.16442 -1.481600 -1.98390  1.898100   2.54110   2.28320  1.28470  \n",
       "quick      0.21357  1.293800  0.10757  0.832680  -0.80778  -1.53100 -0.28953  \n",
       "today     -2.51120 -1.267200 -1.48080 -1.282500   1.41430  -2.50450  2.77440  \n",
       "ham       -6.56120  3.673700 -1.20580  3.819300   3.60500   3.63860  4.03620  \n",
       "blue      -0.93310  0.890710  6.85240  0.075678   1.07370  -2.96000 -0.42209  \n",
       "brown     -2.84040 -2.274700  2.10020  5.480200   0.83172  -4.30830 -1.04370  \n",
       "beautiful -1.28600  1.950500 -0.67481 -0.930960   3.28140  -5.52320 -0.31346  \n",
       "love      -6.61070  0.009383 -4.27630 -0.505070   5.00490  -8.53120 -1.49670  \n",
       "beans     -0.97496 -5.127300 -0.63158  6.890100  -0.34744   2.44190  0.90073  \n",
       "\n",
       "[20 rows x 300 columns]"
      ]
     },
     "execution_count": 23,
     "metadata": {},
     "output_type": "execute_result"
    }
   ],
   "source": [
    "unique_words = list(set([word for sublist in [doc[0].split() for doc in norm_corpus_toy] for word in sublist]))\n",
    "\n",
    "word_glove_vectors = np.array([nlp(word).vector for word in unique_words])\n",
    "pd.DataFrame(word_glove_vectors, index=unique_words)"
   ]
  },
  {
   "cell_type": "markdown",
   "metadata": {},
   "source": [
    "Veamos una gŕafico TSNE para este caso."
   ]
  },
  {
   "cell_type": "code",
   "execution_count": 24,
   "metadata": {},
   "outputs": [
    {
     "data": {
      "image/png": "[encoded data removed]",
      "text/plain": [
       "<Figure size 1200x600 with 1 Axes>"
      ]
     },
     "metadata": {},
     "output_type": "display_data"
    }
   ],
   "source": [
    "from sklearn.manifold import TSNE\n",
    "\n",
    "tsne = TSNE(n_components=2, random_state=0, n_iter=5000, perplexity=3)\n",
    "np.set_printoptions(suppress=True)\n",
    "T = tsne.fit_transform(word_glove_vectors)\n",
    "labels = unique_words\n",
    "\n",
    "plt.figure(figsize=(12, 6))\n",
    "plt.scatter(T[:, 0], T[:, 1], c='orange', edgecolors='r')\n",
    "for label, x, y in zip(labels, T[:, 0], T[:, 1]):\n",
    "    plt.annotate(label, xy=(x+1, y+1), xytext=(0, 0), textcoords='offset points')"
   ]
  },
  {
   "cell_type": "markdown",
   "metadata": {},
   "source": [
    "Finalmente una clasificación k-means."
   ]
  },
  {
   "cell_type": "code",
   "execution_count": 25,
   "metadata": {},
   "outputs": [
    {
     "data": {
      "text/html": [
       "<div>\n",
       "<style scoped>\n",
       "    .dataframe tbody tr th:only-of-type {\n",
       "        vertical-align: middle;\n",
       "    }\n",
       "\n",
       "    .dataframe tbody tr th {\n",
       "        vertical-align: top;\n",
       "    }\n",
       "\n",
       "    .dataframe thead th {\n",
       "        text-align: right;\n",
       "    }\n",
       "</style>\n",
       "<table border=\"1\" class=\"dataframe\">\n",
       "  <thead>\n",
       "    <tr style=\"text-align: right;\">\n",
       "      <th></th>\n",
       "      <th>Document</th>\n",
       "      <th>Category</th>\n",
       "      <th>ClusterLabel</th>\n",
       "    </tr>\n",
       "  </thead>\n",
       "  <tbody>\n",
       "    <tr>\n",
       "      <th>0</th>\n",
       "      <td>The sky is blue and beautiful.</td>\n",
       "      <td>weather</td>\n",
       "      <td>1</td>\n",
       "    </tr>\n",
       "    <tr>\n",
       "      <th>1</th>\n",
       "      <td>Love this blue and beautiful sky!</td>\n",
       "      <td>weather</td>\n",
       "      <td>1</td>\n",
       "    </tr>\n",
       "    <tr>\n",
       "      <th>2</th>\n",
       "      <td>The quick brown fox jumps over the lazy dog.</td>\n",
       "      <td>animals</td>\n",
       "      <td>2</td>\n",
       "    </tr>\n",
       "    <tr>\n",
       "      <th>3</th>\n",
       "      <td>A king's breakfast has sausages, ham, bacon, eggs, toast and beans</td>\n",
       "      <td>food</td>\n",
       "      <td>0</td>\n",
       "    </tr>\n",
       "    <tr>\n",
       "      <th>4</th>\n",
       "      <td>I love green eggs, ham, sausages and bacon!</td>\n",
       "      <td>food</td>\n",
       "      <td>0</td>\n",
       "    </tr>\n",
       "    <tr>\n",
       "      <th>5</th>\n",
       "      <td>The brown fox is quick and the blue dog is lazy!</td>\n",
       "      <td>animals</td>\n",
       "      <td>2</td>\n",
       "    </tr>\n",
       "    <tr>\n",
       "      <th>6</th>\n",
       "      <td>The sky is very blue and the sky is very beautiful today</td>\n",
       "      <td>weather</td>\n",
       "      <td>1</td>\n",
       "    </tr>\n",
       "    <tr>\n",
       "      <th>7</th>\n",
       "      <td>The dog is lazy but the brown fox is quick!</td>\n",
       "      <td>animals</td>\n",
       "      <td>2</td>\n",
       "    </tr>\n",
       "  </tbody>\n",
       "</table>\n",
       "</div>"
      ],
      "text/plain": [
       "                                                             Document  \\\n",
       "0                                      The sky is blue and beautiful.   \n",
       "1                                   Love this blue and beautiful sky!   \n",
       "2                        The quick brown fox jumps over the lazy dog.   \n",
       "3  A king's breakfast has sausages, ham, bacon, eggs, toast and beans   \n",
       "4                         I love green eggs, ham, sausages and bacon!   \n",
       "5                    The brown fox is quick and the blue dog is lazy!   \n",
       "6            The sky is very blue and the sky is very beautiful today   \n",
       "7                         The dog is lazy but the brown fox is quick!   \n",
       "\n",
       "  Category  ClusterLabel  \n",
       "0  weather             1  \n",
       "1  weather             1  \n",
       "2  animals             2  \n",
       "3     food             0  \n",
       "4     food             0  \n",
       "5  animals             2  \n",
       "6  weather             1  \n",
       "7  animals             2  "
      ]
     },
     "execution_count": 25,
     "metadata": {},
     "output_type": "execute_result"
    }
   ],
   "source": [
    "from sklearn.cluster import KMeans\n",
    "\n",
    "doc_glove_vectors = np.array([nlp(str(doc[0])).vector for doc in norm_corpus_toy])\n",
    "\n",
    "km = KMeans(n_clusters=3, random_state=0)\n",
    "km.fit_transform(doc_glove_vectors)\n",
    "cluster_labels = km.labels_\n",
    "cluster_labels = pd.DataFrame(cluster_labels, columns=['ClusterLabel'])\n",
    "pd.concat([corpus_df, cluster_labels], axis=1)"
   ]
  },
  {
   "cell_type": "markdown",
   "metadata": {},
   "source": [
    "## <span style=\"color:#4361EE\">El modelo FastText</span>"
   ]
  },
  {
   "cell_type": "markdown",
   "metadata": {},
   "source": [
    "El modelo [FastText](https://fasttext.cc/) fue introducido por primera vez por Facebook en 2016 como una extensión y supuestamente una mejora del modelo vainilla de Word2Vec. \n",
    "\n",
    "Está basado en el artículo original titulado [Enriching Word Vectors with Subword Information](https://arxiv.org/pdf/1607.04606.pdf) de Mikolov et al. que es una lectura excelente para obtener una comprensión profunda de como funciona este modelo. En general, FastText es un marco para el aprendizaje de representaciones de palabras y también para realizar una clasificación de texto sólida, rápida y precisa. \n",
    "\n",
    "El marco es de código abierto de Facebook en GitHub y afirma tener lo siguiente:\n",
    "\n",
    "1. Vectores de palabras en inglés de última generación.\n",
    "2. Vectores de palabras para 157 idiomas entrenados en Wikipedia y rastreo.\n",
    "3. Modelos para identificación de idiomas y diversas tareas supervisadas.\n",
    "\n",
    "De acuedo con los autores,  en general, los modelos predictivos como el modelo *Word2Vec* suelen considerar cada palabra como una entidad distinta (por ejemplo, dónde) y generan una incrustación densa para la palabra. \n",
    "\n",
    "Sin embargo, esto representa una seria limitación con los idiomas que tienen un vocabulario masivo y muchas palabras raras que pueden no aparecer mucho en diferentes corpus. El modelo Word2Vec normalmente ignora la estructura morfológica de cada palabra y considera una palabra como una sola entidad. \n",
    "\n",
    "El modelo **FastText** considera cada palabra como una bolsa de n-gramas de caracteres. Esto también se denomina modelo de subpalabras en el documento.\n",
    "\n",
    "\n",
    "Se agregan símbolos de límites especiales \\< y \\> al principio y al final de las palabras. Esto permite distinguir prefijos y sufijos de otras secuencias de caracteres. También incluyen la propia palabra *w* en el conjunto de sus n-gramas, para aprender una representación de cada palabra (además de su caracter n-gramas). \n",
    "    \n",
    "    \n",
    "Tomando la palabra *where* y $n = 3$ (tri-gramas) como ejemplo, estará representada por el caracter n-gramas: <wh, whe, her, ere, re> y la secuencia especial \\<where\\> que representa la palabra completa. \n",
    "    \n",
    "Tenga en cuenta, que la secuencia correspondiente a la palabra \\<her\\> (ella en inglés) es diferente del trigrama *her* de la palabra *where*.\n",
    "    \n",
    "En la práctica, el artículo recomienda extraer todos los n-gramas para $3\\le n \\le 6$. Este es un enfoque muy simple, y se podrían considerar diferentes conjuntos de n-gramas, por ejemplo, tomando todos los prefijos y sufijos. \n",
    "    \n",
    "Normalmente asociamos una representación vectorial (incrustación) a cada n-grama de una palabra. Por tanto, podemos representar una palabra mediante la suma de las representaciones vectoriales de sus n-gramas o el promedio de la incrustación de estos n-gramas. \n",
    "    \n",
    "Según los autores, debido a este efecto de aprovechar los n-gramas de palabras individuales basadas en sus caracteres, existe una mayor probabilidad de que las palabras raras obtengan una buena representación, ya que sus n-gramas basados en caracteres deben aparecer en otras palabras del corpus.\n",
    "    \n",
    "Vamos a la práctica."
   ]
  },
  {
   "cell_type": "markdown",
   "metadata": {},
   "source": [
    "### <span style=\"color:#4CC9F0\">Gráfico basado en ACP</span>"
   ]
  },
  {
   "cell_type": "code",
   "execution_count": 30,
   "metadata": {},
   "outputs": [],
   "source": [
    "# contruimos el modelo FastText\n",
    "from gensim.models.fasttext import FastText\n",
    "\n",
    "# Establecer valores para varios parámetros\n",
    "feature_size = 100    # Dimensionalidad del vector de palabra\n",
    "window_context = 50   # Tamaño de la ventana de contexto\n",
    "min_word_count = 5    # Recuento mínimo de palabras\n",
    "sample = 1e-3         # Configuración de reducción de resolución para palabras frecuentes\n",
    "\n",
    "# sg decide si usar el modelo skip-gram (1) o CBOW (0)\n",
    "ft_model = FastText(tokenized_corpus_bible, vector_size=feature_size, window=window_context, \n",
    "                    min_count=min_word_count,sample=sample, sg=1, epochs=50)"
   ]
  },
  {
   "cell_type": "code",
   "execution_count": 31,
   "metadata": {},
   "outputs": [
    {
     "data": {
      "image/png": "[encoded data removed]",
      "text/plain": [
       "<Figure size 1800x1000 with 1 Axes>"
      ]
     },
     "metadata": {},
     "output_type": "display_data"
    }
   ],
   "source": [
    "from sklearn.decomposition import PCA\n",
    "\n",
    "words = sum([[k] + v for k, v in similar_words.items()], [])\n",
    "wvs = ft_model.wv[words]\n",
    "\n",
    "pca = PCA(n_components=2)\n",
    "np.set_printoptions(suppress=True)\n",
    "P = pca.fit_transform(wvs)\n",
    "labels = words\n",
    "\n",
    "plt.figure(figsize=(18, 10))\n",
    "plt.scatter(P[:, 0], P[:, 1], c='lightgreen', edgecolors='g')\n",
    "for label, x, y in zip(labels, P[:, 0], P[:, 1]):\n",
    "    plt.annotate(label, xy=(x+0.06, y+0.03), xytext=(0, 0), textcoords='offset points')\n"
   ]
  },
  {
   "cell_type": "markdown",
   "metadata": {},
   "source": [
    "¡Podemos ver muchos patrones interesantes! Noah y su hijo Ham están cerca el uno del otro! \n",
    "\n",
    "También vemos a Dios asociado con Esperanza y Gloria. \n",
    "\n",
    "Faraón y Egipto donde soportó las plagas bíblicas, incluidas el hambre y la pestilencia. También Jesús y algunos de sus discípulos están asociados muy cerca unos de otros.\n",
    "\n",
    "Para acceder a cualquiera de las incrustaciones de palabras, puede indexar el modelo con la palabra de la siguiente manera."
   ]
  },
  {
   "cell_type": "code",
   "execution_count": 32,
   "metadata": {},
   "outputs": [
    {
     "data": {
      "text/plain": [
       "array([ 0.11593661,  0.11392299, -0.05513698, -0.553271  ,  0.03801941,\n",
       "        0.09830073, -0.21129645,  0.16130818, -0.05094244, -0.43076694,\n",
       "       -0.29184824,  0.41848335, -0.18093014,  0.33314165,  0.29356724,\n",
       "       -0.3249836 , -0.04494375, -0.35758972, -0.1368461 ,  0.26494926,\n",
       "       -0.0918102 , -0.0797848 ,  0.02897407, -0.11199597, -0.3677664 ,\n",
       "        0.16570692, -0.1180317 , -0.05341107,  0.44503725,  0.50202477,\n",
       "       -0.3040298 ,  0.26419404,  0.10596683,  0.20030035, -0.09101006,\n",
       "        0.36496025, -0.11888108, -0.29217377, -0.23516552,  0.04323632,\n",
       "        0.46380153,  0.3474131 , -0.0505174 ,  0.00246797,  0.42148083,\n",
       "        0.15335661, -0.07216596,  0.21909055,  0.4062831 , -0.03664569,\n",
       "       -0.00519158,  0.07981618,  0.3216281 ,  0.185332  ,  0.31526905,\n",
       "       -0.1107273 ,  0.39752975,  0.19452053, -0.32263932, -0.37792572,\n",
       "       -0.05665542, -0.3403454 ,  0.5151182 , -0.04734847, -0.02005448,\n",
       "        0.4428153 ,  0.07586983, -0.02878768, -0.06032847, -0.43504012,\n",
       "        0.27774528, -0.10088284,  0.10255465,  0.03265766, -0.16471244,\n",
       "        0.50071627,  0.08276079,  0.20126939,  0.21414123,  0.03995609,\n",
       "        0.44569343, -0.3602363 , -0.12306248, -0.6487513 ,  0.4390365 ,\n",
       "       -0.30493724, -0.05355183, -0.35208604,  0.2653283 , -0.07553901,\n",
       "        0.1301128 , -0.11197768, -0.14821608, -0.18708748, -0.12099614,\n",
       "        0.21934006, -0.06943616, -0.21123213, -0.1023432 ,  0.41824895],\n",
       "      dtype=float32)"
      ]
     },
     "execution_count": 32,
     "metadata": {},
     "output_type": "execute_result"
    }
   ],
   "source": [
    "ft_model.wv['jesus']"
   ]
  },
  {
   "cell_type": "markdown",
   "metadata": {},
   "source": [
    "Con estas incrustaciones, podemos realizar algunas tareas interesantes en lenguaje natural. Uno de estos sería encontrar similitudes entre diferentes palabras (entidades)."
   ]
  },
  {
   "cell_type": "code",
   "execution_count": 33,
   "metadata": {},
   "outputs": [
    {
     "name": "stdout",
     "output_type": "stream",
     "text": [
      "0.27114433\n",
      "0.6814383\n"
     ]
    }
   ],
   "source": [
    "print(ft_model.wv.similarity(w1='god', w2='satan'))\n",
    "print(ft_model.wv.similarity(w1='god', w2='jesus'))"
   ]
  },
  {
   "cell_type": "markdown",
   "metadata": {},
   "source": [
    "O también:"
   ]
  },
  {
   "cell_type": "code",
   "execution_count": 34,
   "metadata": {},
   "outputs": [
    {
     "name": "stdout",
     "output_type": "stream",
     "text": [
      "Odd one out for [ god jesus satan john ]: satan\n",
      "Odd one out for [ john peter james judas ]: judas\n"
     ]
    }
   ],
   "source": [
    "st1 = \"god jesus satan john\"\n",
    "print('Odd one out for [',st1, ']:',  \n",
    "      ft_model.wv.doesnt_match(st1.split()))\n",
    "st2 = \"john peter james judas\"\n",
    "print('Odd one out for [',st2, ']:', \n",
    "      ft_model.wv.doesnt_match(st2.split()))\n"
   ]
  },
  {
   "cell_type": "markdown",
   "metadata": {},
   "source": [
    "## <span style=\"color:#4361EE\">Modelos de incrustaciones en español preentrenados</span>"
   ]
  },
  {
   "cell_type": "markdown",
   "metadata": {},
   "source": [
    "A continuación encontrará un enlace a incrustaciones de palabras en español calculadas con diferentes métodos y de diferentes corpus. Este trabajo es liderado en el Departamento de Ciencias de la Computación Universidad de Chile.\n",
    "\n",
    "Se incluye una descripción de los parámetros utilizados para calcular las incrustaciones, junto con estadísticas simples de los vectores, vocabulario y descripción del corpus a partir del cual se calcularon las incrustaciones. \n",
    "\n",
    "Se proporcionan enlaces directos a las incrustaciones, así que consulte las fuentes originales para obtener una cita adecuada (consulte también las [Referencias](#Referencias)). Un ejemplo del uso de algunas de estas incrustaciones se puede encontrar aquí o en este tutorial (ambos en español).\n",
    "\n",
    "- [dccuchile](https://github.com/dccuchile/spanish-word-embeddings/blob/master/README.md)"
   ]
  },
  {
   "cell_type": "markdown",
   "metadata": {},
   "source": [
    "## <span style=\"color:#4361EE\">Conclusión</span>"
   ]
  },
  {
   "cell_type": "markdown",
   "metadata": {},
   "source": [
    "\n",
    "Estos ejemplos deberían darle una buena idea acerca de las estrategias más nuevas y eficientes para aprovechar los modelos de lenguaje de aprendizaje profundo para extraer características de los datos de texto y también abordar problemas como la semántica de palabras, el contexto y la escasez de datos. "
   ]
  },
  {
   "cell_type": "markdown",
   "metadata": {},
   "source": [
    "## <span style=\"color:#4361EE\">Referencias</span> "
   ]
  },
  {
   "cell_type": "markdown",
   "metadata": {},
   "source": [
    "1. Adaptado de [deep-learning-methods-for-text-data]((https://towardsdatascience.com/understanding-feature-engineering-part-4-deep-learning-methods-for-text-data-96c44370bbfa))\n",
    "2. Mikolov et al. 2013a, Google, [Distributed Representations of Words and Phrases\n",
    "and their Compositionality](https://papers.nips.cc/paper/5021-distributed-representations-of-words-and-phrases-and-their-compositionality.pdf), \n",
    "3. Xin Rong, 2016, [word2vec Parameter Learning Explained](https://arxiv.org/pdf/1411.2738.pdf), \n",
    "4. Mikolov et al. 2013b, Google, [Efficient Estimation of Word Representations in Vector Space](https://arxiv.org/pdf/1301.3781.pdf).\n",
    "5. Baroni et al., 2014,[Don’t count, predict! A systematic comparison of context-counting vs. context-predicting semantic vectors](https://www.aclweb.org/anthology/P14-1023.pdf)."
   ]
  }
 ],
 "metadata": {
  "kernelspec": {
   "display_name": "Python 3 (ipykernel)",
   "language": "python",
   "name": "python3"
  },
  "language_info": {
   "codemirror_mode": {
    "name": "ipython",
    "version": 3
   },
   "file_extension": ".py",
   "mimetype": "text/x-python",
   "name": "python",
   "nbconvert_exporter": "python",
   "pygments_lexer": "ipython3",
   "version": "3.10.4"
  }
 },
 "nbformat": 4,
 "nbformat_minor": 4
}
