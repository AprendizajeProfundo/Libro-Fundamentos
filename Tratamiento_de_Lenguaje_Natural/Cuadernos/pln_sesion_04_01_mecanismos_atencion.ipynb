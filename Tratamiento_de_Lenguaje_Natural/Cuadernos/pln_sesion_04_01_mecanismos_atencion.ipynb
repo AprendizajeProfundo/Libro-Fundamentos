{
 "cells": [
  {
   "cell_type": "markdown",
   "metadata": {},
   "source": [
    "# <span style=\"color:#F72585\"><center>Introducción a los mecanismos de atención</center></span>"
   ]
  },
  {
   "cell_type": "markdown",
   "metadata": {
    "tags": []
   },
   "source": [
    "<figure>\n",
    "<center>\n",
    "<img src=\"https://raw.githubusercontent.com/AprendizajeProfundo/Libro-Fundamentos/main/Tratamiento_de_Lenguaje_Natural/Imagenes/Dorsal_and_ventral_attention_systems.jpg\" width=\"500\" height=\"400\" align=\"center\"/>\n",
    "</center>\n",
    "</figure>\n",
    "\n",
    "Fuente: <a href=\"https://commons.wikimedia.org/wiki/File:Dorsal_and_ventral_attention_systems.jpg\">Simone Vossel, Joy J. Geng, Gereon R. Fink</a>, <a href=\"https://creativecommons.org/licenses/by/3.0\">CC BY 3.0</a>, via Wikimedia Commons"
   ]
  },
  {
   "cell_type": "markdown",
   "metadata": {
    "origin_pos": 0
   },
   "source": [
    "## <span style=\"color:#4361EE\">Introducción</span>"
   ]
  },
  {
   "cell_type": "markdown",
   "metadata": {
    "origin_pos": 0
   },
   "source": [
    "Gracias por su atención a este cuaderno. La atención es un recurso escaso:\n",
    "\n",
    "* En este momento está leyendo esta lección adaptada de [Dive into deep learning](https://d2l.ai/) e ignorando el resto. Así, similar al dinero, su atención se está brindando a un costo de oportunidad.\n",
    "\n",
    "\n",
    "**Atención es la piedra angular en el arco de la vida y  contiene la clave del excepcionalismo de cualquier trabajo.**\n",
    "\n",
    "\n",
    "En la era de la economía de la atención, donde el cuidado humano es tratado como un bien limitado, valioso y escaso que se puede intercambiar, numerosos modelos de negocio se han desarrollado para capitalizarlo.\n",
    "\n",
    "\n",
    "En servicios de transmisión de música o video, prestamos atención a sus anuncios o pagamos dinero para esconderlos. Para crecer en el mundo de los juegos on line, o prestamos atención a participar en batallas, que atraen a nuevos jugadores, o pagamos dinero para volverse poderoso instantáneamente. Nada viene gratis.\n",
    "\n",
    "Considerándolo todo, la información de nuestro entorno no es escasa, la atención lo es.\n",
    "\n",
    "Al inspeccionar una escena visual, nuestro nervio óptico recibe información del orden de $ 10^8 $ **bits por segundo**, superando con creces lo que nuestro cerebro puede procesar por completo.\n",
    "\n",
    "Por suerte, nuestros antepasados **habían aprendido de la experiencia**, es decir de los datos, que **no todas las entradas sensoriales son iguales**.\n",
    "\n",
    "A lo largo de la historia de la humanidad, la capacidad de dirigir la atención solo una fracción de la información de interés ha habilitado nuestro cerebro para asignar recursos de manera más inteligente sobrevivir, crecer y socializar, como detectar depredadores, presas y parejas."
   ]
  },
  {
   "cell_type": "markdown",
   "metadata": {
    "origin_pos": 0
   },
   "source": [
    "## <span style=\"color:#4361EE\">Señales de atención en Biología</span>"
   ]
  },
  {
   "cell_type": "markdown",
   "metadata": {
    "origin_pos": 0
   },
   "source": [
    "Para explicar como se despliega nuestra atención en el mundo visual, ha surgido un marco de dos componentes y ha sido omnipresente.\n",
    "\n",
    "Esta idea se remonta a William James en la década de 1890, quien es considerado el \"padre de la psicología estadounidense\". En este marco, los sujetos dirigen selectivamente el foco de atención\n",
    "usando tanto la *señal no volitiva* (no voluntaria) como la *señal volitiva* (voluntaria).\n",
    "\n",
    "\n",
    "La señal no volitiva se basa en la prominencia y la visibilidad de los objetos en el entorno.\n",
    "Imagina que hay cuatro objetos frente a ti: un periódico, una taza de café, un cuaderno y un libro, como en la siguiente imagen."
   ]
  },
  {
   "cell_type": "markdown",
   "metadata": {
    "origin_pos": 0
   },
   "source": [
    "### <span style=\"color:#4CC9F0\">Señales no volitivas</span>"
   ]
  },
  {
   "cell_type": "markdown",
   "metadata": {
    "origin_pos": 0
   },
   "source": [
    "<figure>\n",
    "<center>\n",
    "<img src=\"https://raw.githubusercontent.com/AprendizajeProfundo/Libro-Fundamentos/main/Tratamiento_de_Lenguaje_Natural/Imagenes/bio_atencion.png\" width=\"600\" height=\"600\" align=\"center\"/>\n",
    "</center>\n",
    "<center> <caption>Señal no volitiva</caption> </center>\n",
    "</figure>\n",
    "\n",
    "Fuente: Alvaro Montenegro"
   ]
  },
  {
   "cell_type": "markdown",
   "metadata": {
    "origin_pos": 0
   },
   "source": [
    "Si bien todos los productos de papel se imprimen en blanco y negro, la taza de café es roja. En otras palabras, este café es intrínsecamente destacado y conspicuo en este entorno visual, llama la atención de forma automática e involuntaria. Entonces, lleva la fóvea (el centro de la mácula donde la agudeza visual es más alta) sobre el café como se muestra en la imagen."
   ]
  },
  {
   "cell_type": "markdown",
   "metadata": {
    "origin_pos": 0
   },
   "source": [
    "Después de tomar café, usted está cafeinado y quiere leer un libro.\n",
    "Entonces gira la cabeza, reenfoca sus ojos y mira el libro como se muestra en la figura de abajo.\n",
    "\n",
    "Diferente del caso anterior donde el café le predispone hacia seleccionar en función de la prominencia,\n",
    "en este caso dependiente de la tarea, selecciona el libro en control cognitivo y volitivo.\n",
    "\n",
    "Usando la señal volitiva basada en criterios de selección de variables, esta forma de atención es más deliberada. También es más poderoso con el esfuerzo voluntario del sujeto."
   ]
  },
  {
   "cell_type": "markdown",
   "metadata": {
    "origin_pos": 0
   },
   "source": [
    "### <span style=\"color:#4CC9F0\">Señales volitivas</span>"
   ]
  },
  {
   "cell_type": "markdown",
   "metadata": {
    "origin_pos": 0
   },
   "source": [
    "\n",
    "<figure>\n",
    "<center>\n",
    "<img src=\"https://raw.githubusercontent.com/AprendizajeProfundo/Libro-Fundamentos/main/Tratamiento_de_Lenguaje_Natural/Imagenes/cafeinado.png\" width=\"600\" height=\"600\" align=\"center\"/>\n",
    "</center>\n",
    "<center> <caption>Señal volitiva</caption> </center>\n",
    "</figure>\n",
    "\n",
    "Fuente: Alvaro Montenegro\n"
   ]
  },
  {
   "cell_type": "markdown",
   "metadata": {
    "origin_pos": 0
   },
   "source": [
    "## <span style=\"color:#4361EE\">Consultas, claves y valores</span>"
   ]
  },
  {
   "cell_type": "markdown",
   "metadata": {
    "origin_pos": 0
   },
   "source": [
    "Inspirados por las señales de atención volitiva y no volitiva que explican el despliegue atencional, en lo que sigue describiremos un marco diseñado para mecanismos de atención, incorporando estas dos señales de atención.\n",
    "\n",
    "Para empezar, considere el caso más simple en el que solo hay señales no voluntarias, es decir no volitivas disponibles.\n",
    "\n",
    "Para sesgar la selección sobre las entradas sensoriales, simplemente podemos usar una capa parametrizada totalmente conectada o incluso no parametrizada, resumiendo por el máximo o por la media de las entradas sensoriales.\n",
    "\n",
    "Por lo tanto, lo que fija los mecanismos de atención aparte de esas capas completamente conectadas\n",
    "o capas de agrupación es la inclusión de las señales volitivas. En el contexto de los mecanismos de atención, nos referimos a las señales volitivas como *consultas* (**queries**).\n",
    "\n",
    "Dada cualquier consulta, mecanismos de atención selección sesgan la atención sobre las entradas sensoriales, como por ejemplo, representaciones de características intermedias, a través de **atención conjunta** (*pooling attention*).\n",
    "\n",
    "\n",
    "Estas entradas sensoriales se denominan **valores** (*values*) en el contexto de los mecanismos de atención. \n",
    "\n",
    "Más generalmente, cada **valor** está emparejado con una **clave**, que se puede pensar como la señal no volitiva de esa entrada sensorial.\n",
    "\n",
    "Como se muestra en la figura que sigue, podemos diseñar la atención conjunta para que la consulta dada (señal volitiva) pueda interactuar con las claves (señales no volitivas), que guía la selección del sesgo sobre los valores (entradas sensoriales)."
   ]
  },
  {
   "cell_type": "markdown",
   "metadata": {
    "origin_pos": 0
   },
   "source": [
    "<figure>\n",
    "<center>\n",
    "<img src=\"https://raw.githubusercontent.com/AprendizajeProfundo/Libro-Fundamentos/main/Tratamiento_de_Lenguaje_Natural/Imagenes/qkv.png\" width=\"700\" height=\"600\" align=\"center\"/>\n",
    "</center>\n",
    "<center> <caption>Esquema clave, consulta, valor</caption> </center>\n",
    "</figure>\n",
    "\n",
    "Fuente: Alvaro Montenegro\n"
   ]
  },
  {
   "cell_type": "markdown",
   "metadata": {
    "origin_pos": 0
   },
   "source": [
    "Nótese que existen muchas alternativas para el diseño de mecanismos de atención.\n",
    "Por ejemplo, podemos diseñar un modelo de atención no diferenciable\n",
    "que se pueden entrenar utilizando métodos de aprendizaje por refuerzo:\n",
    "Dado el dominio del marco en la figura previa,\n",
    "modelos bajo este marco será el centro de nuestra atención en este cuaderno."
   ]
  },
  {
   "cell_type": "markdown",
   "metadata": {},
   "source": [
    "## <span style=\"color:#4361EE\">Aprendizaje automático con mecanismos de atención</span>"
   ]
  },
  {
   "cell_type": "markdown",
   "metadata": {
    "origin_pos": 0
   },
   "source": [
    "Ahora que conoce los componentes principales de los mecanismos de atención bajo el marco presentado arriba recapitulemos: las interacciones entre consultas (señales volitivas) y claves (señales no volitivas) resultan en *atención conjunta* (**attention pooling**). La atención puesta en común agrega selectivamente valores (entradas sensoriales) para producir la salida."
   ]
  },
  {
   "cell_type": "markdown",
   "metadata": {
    "origin_pos": 0
   },
   "source": [
    "### <span style=\"color:#4CC9F0\">Regresión kernel de Nadaraya-Watson</span>"
   ]
  },
  {
   "cell_type": "markdown",
   "metadata": {
    "origin_pos": 0
   },
   "source": [
    "En esta sección, describimos la atención conjunta con mayor detalle. Para darle una vista de alto nivel de como funcionan los mecanismos de atención en la práctica. Específicamente, el **modelo de regresión kernel de Nadaraya-Watson** propuesto en 1964 es un ejemplo simple pero completo para demostrar el aprendizaje automático con mecanismos de atención."
   ]
  },
  {
   "cell_type": "markdown",
   "metadata": {
    "origin_pos": 3
   },
   "source": [
    "### <span style=\"color:#4CC9F0\">Generación de un conjunto de datos</span>"
   ]
  },
  {
   "cell_type": "markdown",
   "metadata": {
    "origin_pos": 3
   },
   "source": [
    "Para mantener las cosas simples consideremos el siguiente problema de regresión. \n",
    "\n",
    "* Dado un conjunto de datos de pares de entrada-salida $\\{(x_1, y_1), \\ldots, (x_n, y_n)\\}$, ¿cómo enseñarle a una máquina de aprendizaje $f$ a predecir la salida $\\hat{y} = f(x)$ para cualquier entrada nueva $x$?\n",
    "\n",
    "Aquí generamos un conjunto de datos artificial de acuerdo con la siguiente función no lineal con el término de ruido $\\epsilon$:\n",
    "\n",
    "$$y_i = 2\\sin(x_i) + x_i^{0.8} + \\epsilon,$$\n",
    "\n",
    "en donde $\\epsilon$ obedece a una distribución normal con media cero y desviación estándar de 0,5.\n",
    "50 ejemplos de entrenamiento y 50 ejemplos de prueba son generados.\n",
    "\n",
    "Para visualizar mejor el patrón de atención, se ordenan las entradas de entrenamiento. Veamos como luce el código Python para generar los datos."
   ]
  },
  {
   "cell_type": "code",
   "execution_count": 1,
   "metadata": {
    "origin_pos": 5,
    "tab": [
     "pytorch"
    ]
   },
   "outputs": [],
   "source": [
    "import numpy as np\n",
    "\n",
    "n_train = 50  # No. ejemplos de entrenamiento\n",
    "x_train = np.sort(np.random.uniform(size=n_train)*5)  # entradas para el entrenamiento"
   ]
  },
  {
   "cell_type": "code",
   "execution_count": 2,
   "metadata": {
    "origin_pos": 6,
    "tab": [
     "pytorch"
    ]
   },
   "outputs": [
    {
     "data": {
      "text/plain": [
       "50"
      ]
     },
     "execution_count": 2,
     "metadata": {},
     "output_type": "execute_result"
    }
   ],
   "source": [
    "def f(x):\n",
    "    return 2 * np.sin(x) + x**0.8\n",
    "\n",
    "y_train = f(x_train) + np.random.normal(0.0, 0.5, (n_train,))  # salidas en entrenamiento\n",
    "x_test = np.arange(0, 5, 0.1)  # Ejemplos para pruebas\n",
    "y_true = f(x_test)  # Salidas verdaderas  para los ejemplos de pruebas\n",
    "n_test = len(x_test)  # No. de ejemplos de prueba\n",
    "n_test"
   ]
  },
  {
   "cell_type": "markdown",
   "metadata": {
    "origin_pos": 7
   },
   "source": [
    "La siguiente función traza todos los ejemplos de entrenamiento (representados por círculos),\n",
    "la función de generación de datos verdaderos de `f` sin el término de ruido (etiquetada como  *Verdadero*), y la función de predicción aprendida (etiquetada como *Pred*).\n"
   ]
  },
  {
   "cell_type": "code",
   "execution_count": 3,
   "metadata": {},
   "outputs": [],
   "source": [
    "import matplotlib.pyplot as plt\n",
    "\n",
    "def plot_kernel_reg(x_test, y_true,y_hat, _x_train, y_train,title):\n",
    "    plt.plot(x_test, y_true, label='verdadero')\n",
    "    plt.plot(x_test, y_hat, label='predicho')\n",
    "    plt.plot(x_train, y_train, 'o', alpha=0.5, label='clave-valor')\n",
    "    plt.title(title)\n",
    "    plt.xlabel('x')\n",
    "    plt.ylabel('y')\n",
    "    plt.legend()"
   ]
  },
  {
   "cell_type": "markdown",
   "metadata": {
    "origin_pos": 9
   },
   "source": [
    "### <span style=\"color:#4CC9F0\">Agrupación promedio. Average Pooling</span>"
   ]
  },
  {
   "cell_type": "markdown",
   "metadata": {
    "origin_pos": 9
   },
   "source": [
    "Comenzamos con quizás el estimador más \"tonto\" del mundo para este problema de regresión:\n",
    "utilizando la agrupación promedio para promediar todos los resultados entrenamiento:\n",
    "\n",
    "$$f(x) = \\frac{1}{n}\\sum_{i=1}^n y_i,$$.\n",
    "\n",
    "Como podemos ver en la siguiente imagen, este estimador no es tan inteligente, pero será nuestra línea de base."
   ]
  },
  {
   "cell_type": "code",
   "execution_count": 4,
   "metadata": {
    "origin_pos": 11,
    "tab": [
     "pytorch"
    ]
   },
   "outputs": [
    {
     "data": {
      "image/png": "[encoded data removed]",
      "text/plain": [
       "<Figure size 640x480 with 1 Axes>"
      ]
     },
     "metadata": {},
     "output_type": "display_data"
    }
   ],
   "source": [
    "y_hat = np.repeat(y_train.mean(), n_test)\n",
    "plot_kernel_reg(x_test, y_true,y_hat, x_train, y_train, title='Atención con el promedio global')"
   ]
  },
  {
   "cell_type": "markdown",
   "metadata": {},
   "source": [
    "### <span style=\"color:#4CC9F0\">Atención agrupada no-paramétrica</span>"
   ]
  },
  {
   "cell_type": "markdown",
   "metadata": {
    "origin_pos": 12
   },
   "source": [
    "Obviamente, la agrupación promedio omite las entradas $x_i$.  Nadaraya y Watson propusieron un mejor camino para pesar las salidas $y_i$ de acuerdo con sus localizaciones de entrada, de la siguiente forma:\n",
    "\n",
    "$$f(x) = \\sum_{i=1}^n \\frac{K(x - x_i)}{\\sum_{j=1}^n K(x - x_j)} y_i,$$\n",
    "\n",
    "\n",
    "en donde  $K$ es un *kernel*. El estimador en la ecuación anterior se llama **Regresión de kernel de Nadaraya-Watson**. Aquí no profundizaremos en los detalles de los kernel.\n",
    "\n",
    "En esta propuesta, la función kernel $K(x - x_i)$ calcula la discrepancia entre una nueva entrada $x$, la consulta, con cada una de las claves $x_i$. También es posible usar en la vía contraria una función de similaridad entre la consulta $x$ y la clave $x_i$.\n",
    "\n",
    "Recuerde el marco de los mecanismos de atención presentado arriba. Desde la perspectiva de la atención, podemos reescribir esta ecuación en una forma más generalizada de atención agrupada (*attention pooling*):\n",
    "\n",
    "$$f(x) = \\sum_{i=1}^n \\alpha(x, x_i) y_i,$$\n",
    "\n",
    "\n",
    "en donde $x$ es la **consulta** y en donde $(x_i, y_i)$ es la pareja **clave-valor**. Comparando con las dos ecuaciones previas, la atención agrupada aquí  es un promedio pesado de los valores $y_i$. El *peso de atención* (*attention weight*) $\\alpha(x, x_i)$ en esta ecuación es asignado al correspondiente valor $y_i$ basado en la interacción entre la consulta $x$ y la clave $x_i$.\n",
    "\n",
    "Para cualquier consulta, sus ponderaciones de atención sobre todos los pares *clave-valor* son una distribución de probabilidad válida: no son negativas y suman uno.\n",
    "\n",
    "Para obtener intuiciones de la atención conjunta, solo considere un *kernel gaussiano* definido como\n",
    "\n",
    "$$\n",
    "K(u) = \\frac{1}{\\sqrt{2\\pi}} \\exp(-\\frac{u^2}{2}).\n",
    "$$\n",
    "\n",
    "\n",
    "\n",
    "Conectando el kernel gaussiano a las ecuaciones anteriores se obtiene\n",
    "\n",
    "$$\\begin{aligned} f(x) &=\\sum_{i=1}^n \\alpha(x, x_i) y_i\\\\ &= \\sum_{i=1}^n \\frac{\\exp\\left(-\\frac{1}{2}(x - x_i)^2\\right)}{\\sum_{j=1}^n \\exp\\left(-\\frac{1}{2}(x - x_j)^2\\right)} y_i \\\\&= \\sum_{i=1}^n \\mathrm{softmax}\\left(-\\frac{1}{2}(x - x_i)^2\\right) y_i. \\end{aligned}$$\n",
    "\n",
    "\n",
    "En esta última ecuación, una clave $x_i$ que es más cercana a la consulta y $x$ prestará *más atención* vía un *peso de atención más grande*  para el correspondiente valor $y_i$.\n",
    "\n",
    "Algo notable es que,  el kernel Nadaraya-Watson kernel es un modelo no paramétrico; entonces, es un ejemplo de *atención agrupada no paramétrica*.\n",
    "\n",
    "A continuación, trazamos la predicción basada en este modelo de atención no paramétrico. La línea predicha es suave y más cercana al valor verdadero, que la producida por la agrupación promedio mostrada arriba."
   ]
  },
  {
   "cell_type": "code",
   "execution_count": 7,
   "metadata": {
    "origin_pos": 14,
    "tab": [
     "pytorch"
    ]
   },
   "outputs": [
    {
     "data": {
      "image/png": "[encoded data removed]",
      "text/plain": [
       "<Figure size 640x480 with 1 Axes>"
      ]
     },
     "metadata": {},
     "output_type": "display_data"
    }
   ],
   "source": [
    "import tensorflow as tf\n",
    "\n",
    "# La dimensión de la 'X_repeat': ('n_test', 'n_train'), donde cada fila contiene\n",
    "# las mismas entradas de prueba (es decir, las mismas consultas)\n",
    "\n",
    "X_repeat = x_test.repeat(n_train).reshape((-1, n_train))\n",
    "\n",
    "# Tenga en cuenta que `x_train` contiene las claves. Dimensión de `attention_weights`: \n",
    "# (`n_test`, `n_train`), donde cada fila contiene pesos de atención \n",
    "# que se asignarán entre los valores (`y_train`) dados a cada consulta\n",
    "\n",
    "attention_weights = tf.nn.softmax(-(X_repeat - x_train)**2 / 2).numpy()\n",
    "\n",
    "# Cada elemento de `y_hat` es un promedio ponderado de valores, \n",
    "# donde los pesos son pesos de atención\n",
    "\n",
    "y_hat = np.matmul(attention_weights, y_train)\n",
    "plot_kernel_reg(x_test, y_true,y_hat, x_train, y_train, 'Atención con el kernel Nadaraya-Watson')"
   ]
  },
  {
   "cell_type": "markdown",
   "metadata": {},
   "source": [
    "## <span style=\"color:#4361EE\">Funciones de puntuación de atención</span>"
   ]
  },
  {
   "cell_type": "markdown",
   "metadata": {
    "origin_pos": 0
   },
   "source": [
    "En la sección anterior utilizamos un kernel gaussiano para modelar interacciones entre consultas y claves. Tratando el exponente del kernel gaussiano como una *función de puntuación de atención* (o *función de puntuación* para abreviar). \n",
    "\n",
    "Los resultados de esta función fueron esencialmente alimentados con una operación softmax.\n",
    "\n",
    "Como resultado, obtuvimos una distribución de probabilidad (ponderaciones de atención) sobre valores que están emparejados con claves. Al final, la salida de la atención puesta en común es simplemente una suma ponderada de los valores basado en estos pesos de atención.\n",
    "\n",
    "A un nivel alto, podemos usar el algoritmo anterior para instanciar el marco de los mecanismos de atención presentado previamente\n",
    "\n",
    "Denotando una **función de puntuación de atención** por $ a $, la siguiente imagen ilustra como la salida de la atención agrupada se puede calcular como una suma ponderada de valores. Dado que los pesos de atención son una distribución de probabilidad, la suma ponderada es esencialmente un promedio ponderado."
   ]
  },
  {
   "cell_type": "markdown",
   "metadata": {
    "origin_pos": 0
   },
   "source": [
    "<figure>\n",
    "<center>\n",
    "<img src=\"https://raw.githubusercontent.com/AprendizajeProfundo/Libro-Fundamentos/main/Tratamiento_de_Lenguaje_Natural/Imagenes/attention-output.png\" width=\"700\" height=\"600\" align=\"center\"/>\n",
    "</center>\n",
    "<center> <caption>Cálculo de la salida de un  modelo de atención agrupada</caption> </center>\n",
    "</figure>\n",
    "\n",
    "Fuente: Alvaro Montenegro"
   ]
  },
  {
   "cell_type": "markdown",
   "metadata": {
    "origin_pos": 0
   },
   "source": [
    "Matemáticamente, supongamos que tenemos una consulta $\\mathbf{q} \\in \\mathbb{R}^q$\n",
    "y $m$ parejas clave-valor $(\\mathbf{k}_1, \\mathbf{v}_1), \\ldots, (\\mathbf{k}_m, \\mathbf{v}_m)$, en donde cada $\\mathbf{k}_i \\in \\mathbb{R}^k$ y en donde cada $\\mathbf{v}_i \\in \\mathbb{R}^v$.\n",
    "La **atención agrupada** $f$ es instanciada como una suma pesada de los valores:\n",
    "\n",
    "$$f(\\mathbf{q}, (\\mathbf{k}_1, \\mathbf{v}_1), \\ldots, (\\mathbf{k}_m, \\mathbf{v}_m)) = \\sum_{i=1}^m \\alpha(\\mathbf{q}, \\mathbf{k}_i) \\mathbf{v}_i \\in \\mathbb{R}^v,$$\n",
    "\n",
    "\n",
    "en donde los pesos atencionales (escalares) para la consulta $\\mathbf{q}$\n",
    "y la clave $\\mathbf{k}_i$\n",
    "es calculada por la operación softmax de una función de puntaje atencional\n",
    "$a$ que mapea (transforma) dos vectores en un escalar\n",
    "\n",
    "\n",
    "$$\\alpha(\\mathbf{q}, \\mathbf{k}_i) = \\mathrm{softmax}(a(\\mathbf{q}, \\mathbf{k}_i)) = \\frac{\\exp(a(\\mathbf{q}, \\mathbf{k}_i))}{\\sum_{j=1}^m \\exp(a(\\mathbf{q}, \\mathbf{k}_j))} \\in \\mathbb{R}.$$\n",
    "\n",
    "Como podemos ver, diferentes opciones de la función de puntuación de atención $ a $\n",
    "conducen a diferentes comportamientos de concentración de la atención.\n",
    "En esta sección, presentamos dos funciones de puntuación populares que usaremos para desarrollar más mecanismos de atención sofisticados más tarde."
   ]
  },
  {
   "cell_type": "markdown",
   "metadata": {
    "origin_pos": 12
   },
   "source": [
    "## <span style=\"color:#4361EE\">Activación aditiva</span>"
   ]
  },
  {
   "cell_type": "markdown",
   "metadata": {
    "origin_pos": 12
   },
   "source": [
    "En general,\n",
    "cuando las consultas y las claves son vectores de diferentes longitudes,\n",
    "podemos usar *atención aditiva*\n",
    "como función de puntuación.\n",
    "\n",
    "Dada una consulta $\\mathbf{q} \\in \\mathbb{R}^q$\n",
    "y una clave $\\mathbf{k} \\in \\mathbb{R}^k$,\n",
    "la  función de puntaje *atención aditiva* es dada por\n",
    "\n",
    "$$a(\\mathbf q, \\mathbf k) = \\mathbf w_v^\\top \\text{tanh}(\\mathbf W_q\\mathbf q + \\mathbf W_k \\mathbf k) \\in \\mathbb{R},$$\n",
    "\n",
    "\n",
    "en donde los parámetros que deben aprenderse son\n",
    "$\\mathbf W_q\\in\\mathbb R^{h\\times q}$, $\\mathbf W_k\\in\\mathbb R^{h\\times k}$, y $\\mathbf w_v\\in\\mathbb R^{h}$.\n"
   ]
  },
  {
   "cell_type": "markdown",
   "metadata": {
    "origin_pos": 3
   },
   "source": [
    "## <span style=\"color:#4361EE\">Operación Softmax enmascarada</span>"
   ]
  },
  {
   "cell_type": "markdown",
   "metadata": {
    "origin_pos": 3
   },
   "source": [
    "Como acabamos de mencionar,\n",
    "se utiliza una operación softmax para\n",
    "generar una distribución de probabilidad como pesos de atención.\n",
    "\n",
    "Sin embargo, en algunos casos,\n",
    "no todos los valores deben incluirse en la atención conjunta.\n",
    "Por ejemplo, para un procesamiento eficiente de un mini-lote de secuencias de texto, \n",
    "algunas de estas se rellenan con\n",
    "tokens especiales que no tienen significado.\n",
    "\n",
    "Para llamar la atención solo se deben tomar tokens significativos como valores.\n",
    "Podemos especificar una longitud de secuencia válida (en número de tokens)\n",
    "para filtrar aquellos fuera de este rango especificado\n",
    "al calcular softmax.\n",
    "\n",
    "De este modo, podemos implementar tal **operación softmax enmascarada**, en la cual más allá de  un límite predefinido los tokens no son tenidos en cuenta. En tal caso el peso de atención se define como cero."
   ]
  },
  {
   "cell_type": "markdown",
   "metadata": {
    "origin_pos": 0
   },
   "source": [
    "## <span style=\"color:#4361EE\">Atención multi-cabeza</span>"
   ]
  },
  {
   "cell_type": "markdown",
   "metadata": {
    "origin_pos": 0
   },
   "source": [
    "En la práctica, dado el mismo conjunto de consultas, claves y valores es posible que queramos que nuestro modelo combine el conocimiento de diferentes comportamientos con el mismo mecanismo de atención, como capturar dependencias de varios rangos (por ejemplo, el rango más corto frente al rango más largo) dentro de una secuencia.\n",
    "\n",
    "\n",
    "Por lo tanto, puede ser beneficioso permitir a nuestro mecanismo de atención utilizar conjuntamente diferentes subespacios de representación de consultas, claves y valores.\n",
    "\n",
    "\n",
    "Para tal fin, en lugar de realizar una agrupación de atención única de consultas, claves y valores\n",
    "podemos transformar el mecanismo de atención con $ h $ proyecciones lineales aprendidas de forma independiente.\n",
    "\n",
    "Luego, estas consultas, claves y valores proyectados de $ h $ alimentan a la atención conjunta en paralelo.\n",
    "\n",
    "\n",
    "Al final, las  $ h $ salidas de agrupación de atención son concatenadas y transformadas con otra proyección lineal aprendida para producir el resultado final.\n",
    "\n",
    "Este diseño se llama *atención multicabezal*. En este diseño cada una de las $ h $ salidas de agrupación de atención es una *cabeza*. Para detalles, consulte el artículo original [Attention Is All You Need](https://arxiv.org/pdf/1706.03762.pdf).\n",
    "\n",
    "El uso de capas completamente conectadas para realizar transformaciones lineales aprendibles, describe la atención de múltiples cabezas, como se ilustra en la siguiente imagen.\n",
    "\n"
   ]
  },
  {
   "cell_type": "markdown",
   "metadata": {},
   "source": [
    "<figure>\n",
    "<center>\n",
    "<img src=\"https://raw.githubusercontent.com/AprendizajeProfundo/Libro-Fundamentos/main/Tratamiento_de_Lenguaje_Natural/Imagenes/multi-head-attention.png\" width=\"700\" height=\"600\" align=\"center\"/>\n",
    "</center>\n",
    "</figure>\n",
    "\n",
    "Fuente: Alvaro Montenegro"
   ]
  },
  {
   "cell_type": "markdown",
   "metadata": {
    "origin_pos": 0
   },
   "source": [
    "### <span style=\"color:#4CC9F0\">El modelo multicabeza</span>"
   ]
  },
  {
   "cell_type": "markdown",
   "metadata": {
    "origin_pos": 0
   },
   "source": [
    "El modelo multi-cabeza se formaliza matemáticamente como sigue.\n",
    "\n",
    "Dada una consulta $\\mathbf{q} \\in \\mathbb{R}^{d_q}$,\n",
    "una clave $\\mathbf{k} \\in \\mathbb{R}^{d_k}$,\n",
    "y un valor  $\\mathbf{v} \\in \\mathbb{R}^{d_v}$,\n",
    "cada cabeza de atención $\\mathbf{h}_i$  ($i = 1, \\ldots, h$)\n",
    "es calculada como\n",
    "\n",
    "$$\\mathbf{h}_i = f(\\mathbf W_i^{(q)}\\mathbf q, \\mathbf W_i^{(k)}\\mathbf k,\\mathbf W_i^{(v)}\\mathbf v) \\in \\mathbb R^{p_v},$$\n",
    "\n",
    "en donde los parámetros entrenables son:\n",
    "\n",
    "$$\\mathbf W_i^{(q)}\\in\\mathbb R^{p_q\\times d_q} , \\hspace{0.5cm} \\mathbf W_i^{(k)}\\in\\mathbb R^{p_k\\times d_k}, \\hspace{0.5cm}\n",
    "\\mathbf W_i^{(v)}\\in\\mathbb R^{p_v\\times d_v},$$\n",
    "\n",
    "\n",
    "en donde $f$ es una función de  atención conjunta, tal como se describe en la sección de funciones de puntaje atencionales.\n",
    "\n",
    "\n",
    "La salida de atención de múltiples cabezas\n",
    "es otra transformación lineal a través de\n",
    "parámetros aprendibles\n",
    "\n",
    "$\\mathbf W_o\\in\\mathbb R^{p_o\\times h p_v}$\n",
    "de la concatenación de  $h$ cabezas:\n",
    "\n",
    "$$\\mathbf W_o \\begin{bmatrix}\\mathbf h_1\\\\\\vdots\\\\\\mathbf h_h\\end{bmatrix} \\in \\mathbb{R}^{p_o}.$$\n",
    "\n",
    "Basado en este diseño,\n",
    "cada cabeza puede atender diferentes partes de la entrada. Funciones más sofisticadas que el promedio ponderado simple\n",
    "se puede utilizar."
   ]
  },
  {
   "cell_type": "markdown",
   "metadata": {},
   "source": [
    "## <span style=\"color:#4361EE\">Referencias</span>"
   ]
  },
  {
   "cell_type": "markdown",
   "metadata": {},
   "source": [
    "1. Ashish Vaswani et al.,  [Attention Is All You Need](https://arxiv.org/pdf/1706.03762.pdf), diciembre 2017.\n",
    "1. Dennis Rothman, [Transformers for Natural Language processing](http://libgen.rs/search.php?req=Transformers+for+Natural+Language+processing&open=0&res=25&view=simple&phrase=1&column=def), enero 2021.\n",
    "1. Varios, [Dive into deep learning](https://d2l.ai/), enero 2021"
   ]
  }
 ],
 "metadata": {
  "kernelspec": {
   "display_name": "Python 3 (ipykernel)",
   "language": "python",
   "name": "python3"
  },
  "language_info": {
   "codemirror_mode": {
    "name": "ipython",
    "version": 3
   },
   "file_extension": ".py",
   "mimetype": "text/x-python",
   "name": "python",
   "nbconvert_exporter": "python",
   "pygments_lexer": "ipython3",
   "version": "3.10.8"
  }
 },
 "nbformat": 4,
 "nbformat_minor": 4
}
