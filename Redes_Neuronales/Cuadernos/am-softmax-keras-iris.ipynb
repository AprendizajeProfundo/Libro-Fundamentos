{
 "cells": [
  {
   "cell_type": "markdown",
   "metadata": {},
   "source": [
    "# <span style=\"color:#F72585\"><center>Clasificación, Softmax, Iris</center></span>"
   ]
  },
  {
   "cell_type": "markdown",
   "metadata": {},
   "source": [
    "<center>Clasificación con múltiples categorías</center>"
   ]
  },
  {
   "cell_type": "markdown",
   "metadata": {},
   "source": [
    "<figure>\n",
    "<center>\n",
    "<img src=\"https://raw.githubusercontent.com/AprendizajeProfundo/Alejandria/main/Redes_Neuronales/Imagenes/iris.jpg\" width=\"600\" height=\"400\" align=\"center\" /> \n",
    "</center>   \n",
    "</figure>\n",
    "<center>\n",
    "\n",
    "Fuente: <a href=\"https://commons.wikimedia.org/wiki/File:Iris_versicolor_4.jpg\">No machine-readable author provided. Dlanglois assumed (based on copyright claims).</a>, <a href=\"http://creativecommons.org/licenses/by-sa/3.0/\">CC BY-SA 3.0</a>, via Wikimedia Commons\n",
    "\n",
    "</center>"
   ]
  },
  {
   "cell_type": "markdown",
   "metadata": {},
   "source": [
    "## <span style=\"color:#4361EE\">Introducción</span>"
   ]
  },
  {
   "cell_type": "markdown",
   "metadata": {},
   "source": [
    "Esta lección está dedicada a un modelo  de clasificación con múltiples categorías, que corresponde a la generalización natural del modelo logístico. \n",
    "\n",
    "* Practicaremos la codificación *one-hot* para los datos de salida.\n",
    "* También usaremos la API funcional de tf.keras, que es una forma de programación maś flexible y poderosa que el modelo Sequential\n",
    "* Usaremos las funciones *relu* para capas intermedias y entrada y la función de activación *softmax* para la salida, debido a que se tienen varias clases. "
   ]
  },
  {
   "cell_type": "markdown",
   "metadata": {},
   "source": [
    "## <span style=\"color:#4361EE\">Importa módulos</span>"
   ]
  },
  {
   "cell_type": "markdown",
   "metadata": {},
   "source": [
    "Usaremos las bibliotecas\n",
    "* *seaborn* para gráficas un poco más elegantes\n",
    "* *sklearn* para utilidades de estandarización de datos y matriz de confusión\n",
    "\n",
    "Puede usar las siguientes instrucciones para instalar desde la consola."
   ]
  },
  {
   "cell_type": "code",
   "execution_count": 1,
   "metadata": {},
   "outputs": [],
   "source": [
    "# !conda install -c anaconda seaborn\n",
    "# !conda install -c intel scikit-learn"
   ]
  },
  {
   "cell_type": "code",
   "execution_count": 2,
   "metadata": {},
   "outputs": [
    {
     "name": "stderr",
     "output_type": "stream",
     "text": [
      "c:\\Users\\User\\anaconda3\\envs\\work\\lib\\site-packages\\scipy\\__init__.py:146: UserWarning: A NumPy version >=1.16.5 and <1.23.0 is required for this version of SciPy (detected version 1.23.3\n",
      "  warnings.warn(f\"A NumPy version >={np_minversion} and <{np_maxversion}\"\n"
     ]
    },
    {
     "name": "stdout",
     "output_type": "stream",
     "text": [
      "Versión de Tensorflow: 2.9.1\n"
     ]
    }
   ],
   "source": [
    "import pandas as pd\n",
    "import numpy as np\n",
    "import matplotlib.pyplot as plt\n",
    "import seaborn as sns\n",
    "import tensorflow as tf\n",
    "#\n",
    "from tensorflow.keras.models import Model\n",
    "#\n",
    "from tensorflow.keras.layers import Dense, Input, Activation, Dropout\n",
    "#\n",
    "from tensorflow.keras.utils import to_categorical\n",
    "from tensorflow.keras.utils import plot_model\n",
    "#\n",
    "from sklearn.preprocessing import StandardScaler\n",
    "from sklearn.metrics import confusion_matrix\n",
    "#\n",
    "#from sklearn import KFold\n",
    "print(\"Versión de Tensorflow:\", tf.__version__)"
   ]
  },
  {
   "cell_type": "markdown",
   "metadata": {},
   "source": [
    "## <span style=\"color:#4361EE\">Funciones de activación</span> "
   ]
  },
  {
   "cell_type": "markdown",
   "metadata": {},
   "source": [
    "### <span style=\"color:#4CC9F0\">Relu</span>\n"
   ]
  },
  {
   "cell_type": "markdown",
   "metadata": {},
   "source": [
    "Dada la salida del sumador digamos $y=\\mathbf{w}'\\mathbf{x} +b$, la función de activación *relu* esta definida por\n",
    "\n",
    "$$\n",
    "\\text{relu}(y) = \\begin{cases} &0, \\text{ si } y\\le 0,\\\\\n",
    " &y, \\text{ en otro caso } \\end{cases}\n",
    "$$\n",
    "\n"
   ]
  },
  {
   "cell_type": "markdown",
   "metadata": {},
   "source": [
    "### <span style=\"color:#4CC9F0\">Softmax</span>\n"
   ]
  },
  {
   "cell_type": "markdown",
   "metadata": {},
   "source": [
    "\n",
    "Dados los valores $x_1,\\ldots, x_n$ la función *softmax *  es definida por\n",
    "\n",
    "$$\n",
    "\\text{softmax}(x_i) = \\frac{e^{x_i}}{\\sum_{j=1}^{n} e^{x_j}}\n",
    "$$\n",
    "\n",
    "Es decir, *softmax* transforma los valores en un función de probabilidad."
   ]
  },
  {
   "cell_type": "markdown",
   "metadata": {},
   "source": [
    "## <span style=\"color:#4361EE\">El conjunto de datos Iris</span> \n"
   ]
  },
  {
   "cell_type": "markdown",
   "metadata": {},
   "source": [
    "Este conjunto de datos fue introducido por sir [Ronald Fisher](https://es.wikipedia.org/wiki/Ronald_Fisher)"
   ]
  },
  {
   "cell_type": "markdown",
   "metadata": {},
   "source": [
    "## <span style=\"color:#4361EE\">Lectura de datos y primera vista de los datos</span>\n"
   ]
  },
  {
   "cell_type": "markdown",
   "metadata": {},
   "source": [
    "Bajamos los datos de Internet usando *tf.keras.utils* y luego los cargamos en dataframes de Python."
   ]
  },
  {
   "cell_type": "code",
   "execution_count": 3,
   "metadata": {},
   "outputs": [
    {
     "data": {
      "text/html": [
       "<div>\n",
       "<style scoped>\n",
       "    .dataframe tbody tr th:only-of-type {\n",
       "        vertical-align: middle;\n",
       "    }\n",
       "\n",
       "    .dataframe tbody tr th {\n",
       "        vertical-align: top;\n",
       "    }\n",
       "\n",
       "    .dataframe thead th {\n",
       "        text-align: right;\n",
       "    }\n",
       "</style>\n",
       "<table border=\"1\" class=\"dataframe\">\n",
       "  <thead>\n",
       "    <tr style=\"text-align: right;\">\n",
       "      <th></th>\n",
       "      <th>SepalLength</th>\n",
       "      <th>SepalWidth</th>\n",
       "      <th>PetalLength</th>\n",
       "      <th>PetalWidth</th>\n",
       "      <th>Species</th>\n",
       "    </tr>\n",
       "  </thead>\n",
       "  <tbody>\n",
       "    <tr>\n",
       "      <th>0</th>\n",
       "      <td>5.9</td>\n",
       "      <td>3.0</td>\n",
       "      <td>4.2</td>\n",
       "      <td>1.5</td>\n",
       "      <td>1</td>\n",
       "    </tr>\n",
       "    <tr>\n",
       "      <th>1</th>\n",
       "      <td>6.9</td>\n",
       "      <td>3.1</td>\n",
       "      <td>5.4</td>\n",
       "      <td>2.1</td>\n",
       "      <td>2</td>\n",
       "    </tr>\n",
       "    <tr>\n",
       "      <th>2</th>\n",
       "      <td>5.1</td>\n",
       "      <td>3.3</td>\n",
       "      <td>1.7</td>\n",
       "      <td>0.5</td>\n",
       "      <td>0</td>\n",
       "    </tr>\n",
       "    <tr>\n",
       "      <th>3</th>\n",
       "      <td>6.0</td>\n",
       "      <td>3.4</td>\n",
       "      <td>4.5</td>\n",
       "      <td>1.6</td>\n",
       "      <td>1</td>\n",
       "    </tr>\n",
       "    <tr>\n",
       "      <th>4</th>\n",
       "      <td>5.5</td>\n",
       "      <td>2.5</td>\n",
       "      <td>4.0</td>\n",
       "      <td>1.3</td>\n",
       "      <td>1</td>\n",
       "    </tr>\n",
       "  </tbody>\n",
       "</table>\n",
       "</div>"
      ],
      "text/plain": [
       "   SepalLength  SepalWidth  PetalLength  PetalWidth  Species\n",
       "0          5.9         3.0          4.2         1.5        1\n",
       "1          6.9         3.1          5.4         2.1        2\n",
       "2          5.1         3.3          1.7         0.5        0\n",
       "3          6.0         3.4          4.5         1.6        1\n",
       "4          5.5         2.5          4.0         1.3        1"
      ]
     },
     "execution_count": 3,
     "metadata": {},
     "output_type": "execute_result"
    }
   ],
   "source": [
    "# nombres de las columnas de los datos\n",
    "col_names = ['SepalLength', 'SepalWidth', 'PetalLength', 'PetalWidth', 'Species']\n",
    "target_dimensions = ['Setosa', 'Versicolor', 'Virginica']\n",
    "\n",
    "# lee los datos\n",
    "training_data_path = tf.keras.utils.get_file(\"iris_training.csv\", \"https://storage.googleapis.com/download.tensorflow.org/data/iris_training.csv\")\n",
    "test_data_path = tf.keras.utils.get_file(\"iris_test.csv\", \"https://storage.googleapis.com/download.tensorflow.org/data/iris_test.csv\")\n",
    "\n",
    "training = pd.read_csv(training_data_path, names=col_names, header=0)\n",
    "test = pd.read_csv(test_data_path, names=col_names, header=0)\n",
    "\n",
    "test.head()"
   ]
  },
  {
   "cell_type": "markdown",
   "metadata": {},
   "source": [
    "## <span style=\"color:#4361EE\">Pre-procesamiento</span> "
   ]
  },
  {
   "cell_type": "markdown",
   "metadata": {},
   "source": [
    "La variable objetivo (target) tiene tres categorías. Usaremos la codificación one-hot para transformar las codificaciones en vectores binarios."
   ]
  },
  {
   "cell_type": "markdown",
   "metadata": {},
   "source": [
    "### <span style=\"color:#4CC9F0\">Codificación one-hot</span>\n"
   ]
  },
  {
   "cell_type": "code",
   "execution_count": 4,
   "metadata": {},
   "outputs": [],
   "source": [
    "y_train= pd.DataFrame(to_categorical(training.Species))\n",
    "y_train.columns = target_dimensions\n",
    "\n",
    "y_test = pd.DataFrame(to_categorical(test.Species))\n",
    "y_test.columns = target_dimensions"
   ]
  },
  {
   "cell_type": "code",
   "execution_count": 5,
   "metadata": {},
   "outputs": [
    {
     "data": {
      "text/html": [
       "<div>\n",
       "<style scoped>\n",
       "    .dataframe tbody tr th:only-of-type {\n",
       "        vertical-align: middle;\n",
       "    }\n",
       "\n",
       "    .dataframe tbody tr th {\n",
       "        vertical-align: top;\n",
       "    }\n",
       "\n",
       "    .dataframe thead th {\n",
       "        text-align: right;\n",
       "    }\n",
       "</style>\n",
       "<table border=\"1\" class=\"dataframe\">\n",
       "  <thead>\n",
       "    <tr style=\"text-align: right;\">\n",
       "      <th></th>\n",
       "      <th>Setosa</th>\n",
       "      <th>Versicolor</th>\n",
       "      <th>Virginica</th>\n",
       "    </tr>\n",
       "  </thead>\n",
       "  <tbody>\n",
       "    <tr>\n",
       "      <th>0</th>\n",
       "      <td>0.0</td>\n",
       "      <td>1.0</td>\n",
       "      <td>0.0</td>\n",
       "    </tr>\n",
       "    <tr>\n",
       "      <th>1</th>\n",
       "      <td>0.0</td>\n",
       "      <td>0.0</td>\n",
       "      <td>1.0</td>\n",
       "    </tr>\n",
       "    <tr>\n",
       "      <th>2</th>\n",
       "      <td>1.0</td>\n",
       "      <td>0.0</td>\n",
       "      <td>0.0</td>\n",
       "    </tr>\n",
       "    <tr>\n",
       "      <th>3</th>\n",
       "      <td>0.0</td>\n",
       "      <td>1.0</td>\n",
       "      <td>0.0</td>\n",
       "    </tr>\n",
       "    <tr>\n",
       "      <th>4</th>\n",
       "      <td>0.0</td>\n",
       "      <td>1.0</td>\n",
       "      <td>0.0</td>\n",
       "    </tr>\n",
       "    <tr>\n",
       "      <th>5</th>\n",
       "      <td>0.0</td>\n",
       "      <td>1.0</td>\n",
       "      <td>0.0</td>\n",
       "    </tr>\n",
       "    <tr>\n",
       "      <th>6</th>\n",
       "      <td>1.0</td>\n",
       "      <td>0.0</td>\n",
       "      <td>0.0</td>\n",
       "    </tr>\n",
       "    <tr>\n",
       "      <th>7</th>\n",
       "      <td>0.0</td>\n",
       "      <td>0.0</td>\n",
       "      <td>1.0</td>\n",
       "    </tr>\n",
       "    <tr>\n",
       "      <th>8</th>\n",
       "      <td>0.0</td>\n",
       "      <td>1.0</td>\n",
       "      <td>0.0</td>\n",
       "    </tr>\n",
       "    <tr>\n",
       "      <th>9</th>\n",
       "      <td>0.0</td>\n",
       "      <td>0.0</td>\n",
       "      <td>1.0</td>\n",
       "    </tr>\n",
       "    <tr>\n",
       "      <th>10</th>\n",
       "      <td>0.0</td>\n",
       "      <td>0.0</td>\n",
       "      <td>1.0</td>\n",
       "    </tr>\n",
       "    <tr>\n",
       "      <th>11</th>\n",
       "      <td>1.0</td>\n",
       "      <td>0.0</td>\n",
       "      <td>0.0</td>\n",
       "    </tr>\n",
       "    <tr>\n",
       "      <th>12</th>\n",
       "      <td>0.0</td>\n",
       "      <td>0.0</td>\n",
       "      <td>1.0</td>\n",
       "    </tr>\n",
       "    <tr>\n",
       "      <th>13</th>\n",
       "      <td>0.0</td>\n",
       "      <td>1.0</td>\n",
       "      <td>0.0</td>\n",
       "    </tr>\n",
       "    <tr>\n",
       "      <th>14</th>\n",
       "      <td>0.0</td>\n",
       "      <td>1.0</td>\n",
       "      <td>0.0</td>\n",
       "    </tr>\n",
       "    <tr>\n",
       "      <th>15</th>\n",
       "      <td>1.0</td>\n",
       "      <td>0.0</td>\n",
       "      <td>0.0</td>\n",
       "    </tr>\n",
       "    <tr>\n",
       "      <th>16</th>\n",
       "      <td>0.0</td>\n",
       "      <td>1.0</td>\n",
       "      <td>0.0</td>\n",
       "    </tr>\n",
       "    <tr>\n",
       "      <th>17</th>\n",
       "      <td>1.0</td>\n",
       "      <td>0.0</td>\n",
       "      <td>0.0</td>\n",
       "    </tr>\n",
       "    <tr>\n",
       "      <th>18</th>\n",
       "      <td>1.0</td>\n",
       "      <td>0.0</td>\n",
       "      <td>0.0</td>\n",
       "    </tr>\n",
       "    <tr>\n",
       "      <th>19</th>\n",
       "      <td>0.0</td>\n",
       "      <td>0.0</td>\n",
       "      <td>1.0</td>\n",
       "    </tr>\n",
       "    <tr>\n",
       "      <th>20</th>\n",
       "      <td>1.0</td>\n",
       "      <td>0.0</td>\n",
       "      <td>0.0</td>\n",
       "    </tr>\n",
       "    <tr>\n",
       "      <th>21</th>\n",
       "      <td>0.0</td>\n",
       "      <td>1.0</td>\n",
       "      <td>0.0</td>\n",
       "    </tr>\n",
       "    <tr>\n",
       "      <th>22</th>\n",
       "      <td>0.0</td>\n",
       "      <td>0.0</td>\n",
       "      <td>1.0</td>\n",
       "    </tr>\n",
       "    <tr>\n",
       "      <th>23</th>\n",
       "      <td>0.0</td>\n",
       "      <td>1.0</td>\n",
       "      <td>0.0</td>\n",
       "    </tr>\n",
       "    <tr>\n",
       "      <th>24</th>\n",
       "      <td>0.0</td>\n",
       "      <td>1.0</td>\n",
       "      <td>0.0</td>\n",
       "    </tr>\n",
       "    <tr>\n",
       "      <th>25</th>\n",
       "      <td>0.0</td>\n",
       "      <td>1.0</td>\n",
       "      <td>0.0</td>\n",
       "    </tr>\n",
       "    <tr>\n",
       "      <th>26</th>\n",
       "      <td>1.0</td>\n",
       "      <td>0.0</td>\n",
       "      <td>0.0</td>\n",
       "    </tr>\n",
       "    <tr>\n",
       "      <th>27</th>\n",
       "      <td>0.0</td>\n",
       "      <td>1.0</td>\n",
       "      <td>0.0</td>\n",
       "    </tr>\n",
       "    <tr>\n",
       "      <th>28</th>\n",
       "      <td>0.0</td>\n",
       "      <td>0.0</td>\n",
       "      <td>1.0</td>\n",
       "    </tr>\n",
       "    <tr>\n",
       "      <th>29</th>\n",
       "      <td>0.0</td>\n",
       "      <td>1.0</td>\n",
       "      <td>0.0</td>\n",
       "    </tr>\n",
       "  </tbody>\n",
       "</table>\n",
       "</div>"
      ],
      "text/plain": [
       "    Setosa  Versicolor  Virginica\n",
       "0      0.0         1.0        0.0\n",
       "1      0.0         0.0        1.0\n",
       "2      1.0         0.0        0.0\n",
       "3      0.0         1.0        0.0\n",
       "4      0.0         1.0        0.0\n",
       "5      0.0         1.0        0.0\n",
       "6      1.0         0.0        0.0\n",
       "7      0.0         0.0        1.0\n",
       "8      0.0         1.0        0.0\n",
       "9      0.0         0.0        1.0\n",
       "10     0.0         0.0        1.0\n",
       "11     1.0         0.0        0.0\n",
       "12     0.0         0.0        1.0\n",
       "13     0.0         1.0        0.0\n",
       "14     0.0         1.0        0.0\n",
       "15     1.0         0.0        0.0\n",
       "16     0.0         1.0        0.0\n",
       "17     1.0         0.0        0.0\n",
       "18     1.0         0.0        0.0\n",
       "19     0.0         0.0        1.0\n",
       "20     1.0         0.0        0.0\n",
       "21     0.0         1.0        0.0\n",
       "22     0.0         0.0        1.0\n",
       "23     0.0         1.0        0.0\n",
       "24     0.0         1.0        0.0\n",
       "25     0.0         1.0        0.0\n",
       "26     1.0         0.0        0.0\n",
       "27     0.0         1.0        0.0\n",
       "28     0.0         0.0        1.0\n",
       "29     0.0         1.0        0.0"
      ]
     },
     "execution_count": 5,
     "metadata": {},
     "output_type": "execute_result"
    }
   ],
   "source": [
    "y_test"
   ]
  },
  {
   "cell_type": "markdown",
   "metadata": {},
   "source": [
    "### <span style=\"color:#4CC9F0\">Elimina la columna Species del dataframe</span>\n"
   ]
  },
  {
   "cell_type": "code",
   "execution_count": 6,
   "metadata": {},
   "outputs": [],
   "source": [
    "y_train_species = training.pop('Species')\n",
    "#test.drop(['Species'], axis=1, inplace=True)\n",
    "y_test_species = test.pop('Species') # extrae la columna y la coloca en y_test_species\n",
    "#\n",
    "#Si necesita subir al dataframe la recodificación use estas líneas\n",
    "#training = training.join(y_train )\n",
    "#test = test.join(y_test)"
   ]
  },
  {
   "cell_type": "markdown",
   "metadata": {},
   "source": [
    "### <span style=\"color:#4CC9F0\">Normaliza los features</span>"
   ]
  },
  {
   "cell_type": "markdown",
   "metadata": {},
   "source": [
    "#### <span style=\"color:#4CC9F0\">StandardScaler</span>\n"
   ]
  },
  {
   "cell_type": "code",
   "execution_count": 7,
   "metadata": {},
   "outputs": [
    {
     "name": "stdout",
     "output_type": "stream",
     "text": [
      "[5.845      3.065      3.73916667 1.19666667]\n"
     ]
    }
   ],
   "source": [
    "# crea el objeto StandardScaler\n",
    "scaler = StandardScaler()\n",
    "\n",
    "# Ajusta los parámetros del scaler\n",
    "scaler.fit(training)\n",
    "print (scaler.mean_)\n",
    "\n",
    "# escala training y test\n",
    "x_train = scaler.transform(training)\n",
    "x_test = scaler.transform(test)\n",
    "\n",
    "# labels ( no requieren escalación)\n"
   ]
  },
  {
   "cell_type": "markdown",
   "metadata": {},
   "source": [
    "## <span style=\"color:#4361EE\">Crea el modelo usando la API funcional</span> "
   ]
  },
  {
   "cell_type": "markdown",
   "metadata": {},
   "source": [
    "La API funcional de Keras es bastante más flexible y poderosa que el modelo Sequential"
   ]
  },
  {
   "cell_type": "code",
   "execution_count": 8,
   "metadata": {},
   "outputs": [
    {
     "name": "stdout",
     "output_type": "stream",
     "text": [
      "Model: \"model\"\n",
      "_________________________________________________________________\n",
      " Layer (type)                Output Shape              Param #   \n",
      "=================================================================\n",
      " capa_entrada (InputLayer)   [(None, 4)]               0         \n",
      "                                                                 \n",
      " activation (Activation)     (None, 4)                 0         \n",
      "                                                                 \n",
      " primera_capa_oculta (Dense)  (None, 8)                40        \n",
      "                                                                 \n",
      " dropout (Dropout)           (None, 8)                 0         \n",
      "                                                                 \n",
      " segunda_capa_oculta (Dense)  (None, 16)               144       \n",
      "                                                                 \n",
      " dropout_1 (Dropout)         (None, 16)                0         \n",
      "                                                                 \n",
      " capa_salida (Dense)         (None, 3)                 51        \n",
      "                                                                 \n",
      "=================================================================\n",
      "Total params: 235\n",
      "Trainable params: 235\n",
      "Non-trainable params: 0\n",
      "_________________________________________________________________\n",
      "You must install pydot (`pip install pydot`) and install graphviz (see instructions at https://graphviz.gitlab.io/download/) for plot_model/model_to_dot to work.\n"
     ]
    }
   ],
   "source": [
    "# Con la API funcion se requiere la capa Input que transforma la entrada \n",
    "# en un tensor de tensorflow directamente\n",
    "#\n",
    "inputs = Input(shape=(4,),name='capa_entrada')\n",
    "#\n",
    "# vamos construyendo capa por capa\n",
    "x = Activation('relu')(inputs)\n",
    "x = Dense(8, activation='relu',name='primera_capa_oculta')(x)\n",
    "x = Dropout(0.2)(x)\n",
    "x = Dense(16, activation='relu', name='segunda_capa_oculta')(x)\n",
    "x = Dropout(0.2)(x)\n",
    "outputs = Dense(3, activation='softmax', name='capa_salida')(x)\n",
    "\n",
    "# Creamos ahora el modelo\n",
    "model_iris = Model(inputs=inputs, outputs=outputs)\n",
    "\n",
    "model_iris.summary()\n",
    "plot_model(model_iris, to_file='../Imagenes/iris_model.png', \n",
    "           show_shapes=True)"
   ]
  },
  {
   "cell_type": "markdown",
   "metadata": {},
   "source": [
    "## <span style=\"color:#4361EE\">Compila</span> "
   ]
  },
  {
   "cell_type": "code",
   "execution_count": 9,
   "metadata": {},
   "outputs": [],
   "source": [
    "model_iris.compile(optimizer='adam',\n",
    "    loss='categorical_crossentropy',\n",
    "    metrics=['accuracy']\n",
    ")"
   ]
  },
  {
   "cell_type": "markdown",
   "metadata": {},
   "source": [
    "## <span style=\"color:#4361EE\">Entrena</span> "
   ]
  },
  {
   "cell_type": "code",
   "execution_count": 10,
   "metadata": {},
   "outputs": [],
   "source": [
    "class PrintDot(tf.keras.callbacks.Callback):\n",
    "    def on_epoch_end(self, epoch, logs):\n",
    "        print('.', end='')\n",
    "\n",
    "epochs = 200\n"
   ]
  },
  {
   "cell_type": "code",
   "execution_count": 11,
   "metadata": {},
   "outputs": [
    {
     "name": "stdout",
     "output_type": "stream",
     "text": [
      "........................................................................................................................................................................................................\n",
      "Hecho\n",
      "Resultados finales de pérdida y exactitud\n",
      "\n"
     ]
    },
    {
     "data": {
      "text/html": [
       "<div>\n",
       "<style scoped>\n",
       "    .dataframe tbody tr th:only-of-type {\n",
       "        vertical-align: middle;\n",
       "    }\n",
       "\n",
       "    .dataframe tbody tr th {\n",
       "        vertical-align: top;\n",
       "    }\n",
       "\n",
       "    .dataframe thead th {\n",
       "        text-align: right;\n",
       "    }\n",
       "</style>\n",
       "<table border=\"1\" class=\"dataframe\">\n",
       "  <thead>\n",
       "    <tr style=\"text-align: right;\">\n",
       "      <th></th>\n",
       "      <th>loss</th>\n",
       "      <th>accuracy</th>\n",
       "      <th>val_loss</th>\n",
       "      <th>val_accuracy</th>\n",
       "      <th>epoch</th>\n",
       "    </tr>\n",
       "  </thead>\n",
       "  <tbody>\n",
       "    <tr>\n",
       "      <th>195</th>\n",
       "      <td>0.266229</td>\n",
       "      <td>0.851852</td>\n",
       "      <td>0.330470</td>\n",
       "      <td>0.916667</td>\n",
       "      <td>195</td>\n",
       "    </tr>\n",
       "    <tr>\n",
       "      <th>196</th>\n",
       "      <td>0.328597</td>\n",
       "      <td>0.833333</td>\n",
       "      <td>0.327249</td>\n",
       "      <td>0.916667</td>\n",
       "      <td>196</td>\n",
       "    </tr>\n",
       "    <tr>\n",
       "      <th>197</th>\n",
       "      <td>0.308528</td>\n",
       "      <td>0.851852</td>\n",
       "      <td>0.326494</td>\n",
       "      <td>0.916667</td>\n",
       "      <td>197</td>\n",
       "    </tr>\n",
       "    <tr>\n",
       "      <th>198</th>\n",
       "      <td>0.223665</td>\n",
       "      <td>0.898148</td>\n",
       "      <td>0.326085</td>\n",
       "      <td>0.916667</td>\n",
       "      <td>198</td>\n",
       "    </tr>\n",
       "    <tr>\n",
       "      <th>199</th>\n",
       "      <td>0.226568</td>\n",
       "      <td>0.861111</td>\n",
       "      <td>0.325492</td>\n",
       "      <td>0.916667</td>\n",
       "      <td>199</td>\n",
       "    </tr>\n",
       "  </tbody>\n",
       "</table>\n",
       "</div>"
      ],
      "text/plain": [
       "         loss  accuracy  val_loss  val_accuracy  epoch\n",
       "195  0.266229  0.851852  0.330470      0.916667    195\n",
       "196  0.328597  0.833333  0.327249      0.916667    196\n",
       "197  0.308528  0.851852  0.326494      0.916667    197\n",
       "198  0.223665  0.898148  0.326085      0.916667    198\n",
       "199  0.226568  0.861111  0.325492      0.916667    199"
      ]
     },
     "execution_count": 11,
     "metadata": {},
     "output_type": "execute_result"
    }
   ],
   "source": [
    "history = model_iris.fit(x_train, y_train,\n",
    "                    batch_size= 16,\n",
    "                    epochs= epochs,\n",
    "                    validation_split=0.1, verbose=0,\n",
    "                    callbacks=[PrintDot()])     \n",
    "print('\\nHecho')\n",
    "print('Resultados finales de pérdida y exactitud\\n')\n",
    "# presenta la última parte de la historia\n",
    "hist = pd.DataFrame(history.history)\n",
    "hist['epoch'] = history.epoch\n",
    "hist.tail()"
   ]
  },
  {
   "cell_type": "markdown",
   "metadata": {},
   "source": [
    "## <span style=\"color:#4361EE\">Evaluación del modelo</span> "
   ]
  },
  {
   "cell_type": "code",
   "execution_count": 12,
   "metadata": {},
   "outputs": [
    {
     "data": {
      "image/png": "[encoded data removed]",
      "text/plain": [
       "<Figure size 640x480 with 1 Axes>"
      ]
     },
     "metadata": {},
     "output_type": "display_data"
    },
    {
     "data": {
      "image/png": "[encoded data removed]",
      "text/plain": [
       "<Figure size 640x480 with 1 Axes>"
      ]
     },
     "metadata": {},
     "output_type": "display_data"
    }
   ],
   "source": [
    "def plot_history(history):\n",
    "  hist = pd.DataFrame(history.history)\n",
    "  hist['epoch'] = history.epoch\n",
    "\n",
    "  plt.figure()\n",
    "  plt.xlabel('Epoch')\n",
    "  plt.ylabel('Pérdida')\n",
    "  plt.plot(hist['epoch'], hist['loss'],\n",
    "           label='Pérdida entrenamiento')\n",
    "  plt.plot(hist['epoch'], hist['val_loss'],\n",
    "           label = 'Pérdida validación')\n",
    "  plt.ylim([0,2])\n",
    "  plt.legend()\n",
    "\n",
    "  plt.figure()\n",
    "  plt.xlabel('Epoch')\n",
    "  plt.ylabel('Exactitud')\n",
    "  plt.plot(hist['epoch'], hist['accuracy'],\n",
    "           label='Exactitud entrenamiento')\n",
    "  plt.plot(hist['epoch'], hist['val_accuracy'],\n",
    "           label = 'Exactitud Validación')\n",
    "  plt.ylim([0,1])\n",
    "  plt.legend()\n",
    "  plt.show()\n",
    "\n",
    "\n",
    "plot_history(history)"
   ]
  },
  {
   "cell_type": "markdown",
   "metadata": {},
   "source": [
    "## <span style=\"color:#4361EE\">Predicciones</span> "
   ]
  },
  {
   "cell_type": "code",
   "execution_count": 13,
   "metadata": {},
   "outputs": [
    {
     "name": "stdout",
     "output_type": "stream",
     "text": [
      "1/1 [==============================] - 0s 140ms/step\n"
     ]
    }
   ],
   "source": [
    "# Predicting the Test set results\n",
    "y_pred = model_iris.predict(x_test)\n",
    "y_pred_c = np.argmax(y_pred, axis=1)"
   ]
  },
  {
   "cell_type": "markdown",
   "metadata": {},
   "source": [
    "## <span style=\"color:#4361EE\">Matriz de confusión</span> "
   ]
  },
  {
   "cell_type": "code",
   "execution_count": 14,
   "metadata": {},
   "outputs": [],
   "source": [
    "cm = confusion_matrix(y_test_species, y_pred_c)"
   ]
  },
  {
   "cell_type": "code",
   "execution_count": 15,
   "metadata": {},
   "outputs": [
    {
     "name": "stdout",
     "output_type": "stream",
     "text": [
      "Our accuracy is 93.33333333333333%\n"
     ]
    }
   ],
   "source": [
    "print(\"Our accuracy is {}%\".format(((cm[0][0] + cm[1][1]+ cm[2][2])/y_test_species.shape[0])*100))"
   ]
  },
  {
   "cell_type": "code",
   "execution_count": 16,
   "metadata": {},
   "outputs": [
    {
     "data": {
      "image/png": "[encoded data removed]",
      "text/plain": [
       "<Figure size 640x480 with 2 Axes>"
      ]
     },
     "metadata": {},
     "output_type": "display_data"
    }
   ],
   "source": [
    "sns.heatmap(cm,annot=True)\n",
    "plt.savefig('h.png')"
   ]
  },
  {
   "cell_type": "markdown",
   "metadata": {},
   "source": [
    "## <span style=\"color:#4361EE\">Exploración interna de la red</span> "
   ]
  },
  {
   "cell_type": "markdown",
   "metadata": {},
   "source": [
    "### <span style=\"color:#4CC9F0\">Cálculo de la salida de los datos de entrenamiento</span>\n"
   ]
  },
  {
   "cell_type": "code",
   "execution_count": 17,
   "metadata": {},
   "outputs": [
    {
     "data": {
      "text/plain": [
       "array([[0.  , 0.06, 0.94],\n",
       "       [0.57, 0.43, 0.  ],\n",
       "       [0.01, 0.52, 0.47],\n",
       "       [0.76, 0.24, 0.  ],\n",
       "       [1.  , 0.  , 0.  ],\n",
       "       [0.97, 0.03, 0.  ],\n",
       "       [1.  , 0.  , 0.  ],\n",
       "       [0.  , 0.06, 0.94],\n",
       "       [0.  , 0.96, 0.04],\n",
       "       [1.  , 0.  , 0.  ]], dtype=float32)"
      ]
     },
     "execution_count": 17,
     "metadata": {},
     "output_type": "execute_result"
    }
   ],
   "source": [
    "inputs = x_train\n",
    "outputs = model_iris(inputs)\n",
    "outputs.numpy().round(2)[:10]"
   ]
  },
  {
   "cell_type": "markdown",
   "metadata": {},
   "source": [
    "### <span style=\"color:#4CC9F0\">Extrae la segunda capa oculta para estos datos</span>\n"
   ]
  },
  {
   "cell_type": "code",
   "execution_count": 18,
   "metadata": {},
   "outputs": [],
   "source": [
    "# modelo Sequential\n",
    "#layer_2 = tf.keras.models.Model(\n",
    "#    inputs=model_iris.inputs,\n",
    "#    outputs=model_iris.get_layer(name='segunda_capa_oculta').output,\n",
    "#)"
   ]
  },
  {
   "cell_type": "code",
   "execution_count": 19,
   "metadata": {},
   "outputs": [
    {
     "name": "stdout",
     "output_type": "stream",
     "text": [
      "4/4 [==============================] - 0s 2ms/step\n"
     ]
    }
   ],
   "source": [
    "# API funcional\n",
    "# 1. crea un nuevo modelo\n",
    "# 2. Compila\n",
    "# 3. Predice\n",
    "\n",
    "inputs = x_train\n",
    "model = Model(model_iris.input, model_iris.get_layer(name='segunda_capa_oculta').output)\n",
    "model.compile()\n",
    "output = model.predict(inputs)"
   ]
  },
  {
   "cell_type": "code",
   "execution_count": 20,
   "metadata": {},
   "outputs": [
    {
     "data": {
      "text/plain": [
       "(120, 16)"
      ]
     },
     "execution_count": 20,
     "metadata": {},
     "output_type": "execute_result"
    }
   ],
   "source": [
    "output.shape"
   ]
  },
  {
   "cell_type": "markdown",
   "metadata": {},
   "source": [
    "### <span style=\"color:#4CC9F0\">Crea tabla de datos para hacer un gráfico tsne</span>\n"
   ]
  },
  {
   "cell_type": "code",
   "execution_count": 21,
   "metadata": {},
   "outputs": [],
   "source": [
    "plot_data = np.hstack([output, np.array(y_train_species).reshape(y_train_species.shape[0],1)])\n",
    "plot_data = pd.DataFrame(plot_data)"
   ]
  },
  {
   "cell_type": "code",
   "execution_count": 22,
   "metadata": {},
   "outputs": [
    {
     "data": {
      "text/html": [
       "<div>\n",
       "<style scoped>\n",
       "    .dataframe tbody tr th:only-of-type {\n",
       "        vertical-align: middle;\n",
       "    }\n",
       "\n",
       "    .dataframe tbody tr th {\n",
       "        vertical-align: top;\n",
       "    }\n",
       "\n",
       "    .dataframe thead th {\n",
       "        text-align: right;\n",
       "    }\n",
       "</style>\n",
       "<table border=\"1\" class=\"dataframe\">\n",
       "  <thead>\n",
       "    <tr style=\"text-align: right;\">\n",
       "      <th></th>\n",
       "      <th>0</th>\n",
       "      <th>1</th>\n",
       "      <th>2</th>\n",
       "      <th>3</th>\n",
       "      <th>4</th>\n",
       "      <th>5</th>\n",
       "      <th>6</th>\n",
       "      <th>7</th>\n",
       "      <th>8</th>\n",
       "      <th>9</th>\n",
       "      <th>10</th>\n",
       "      <th>11</th>\n",
       "      <th>12</th>\n",
       "      <th>13</th>\n",
       "      <th>14</th>\n",
       "      <th>15</th>\n",
       "      <th>16</th>\n",
       "    </tr>\n",
       "  </thead>\n",
       "  <tbody>\n",
       "    <tr>\n",
       "      <th>0</th>\n",
       "      <td>1.214596</td>\n",
       "      <td>0.0</td>\n",
       "      <td>0.014735</td>\n",
       "      <td>0.000000</td>\n",
       "      <td>2.588060</td>\n",
       "      <td>0.000000</td>\n",
       "      <td>2.057467</td>\n",
       "      <td>0.769469</td>\n",
       "      <td>2.121261</td>\n",
       "      <td>0.940094</td>\n",
       "      <td>0.000000</td>\n",
       "      <td>0.000000</td>\n",
       "      <td>0.000000</td>\n",
       "      <td>0.000000</td>\n",
       "      <td>0.000000</td>\n",
       "      <td>0.0</td>\n",
       "      <td>2.0</td>\n",
       "    </tr>\n",
       "    <tr>\n",
       "      <th>1</th>\n",
       "      <td>0.000000</td>\n",
       "      <td>0.0</td>\n",
       "      <td>1.103630</td>\n",
       "      <td>0.205203</td>\n",
       "      <td>0.210532</td>\n",
       "      <td>1.087753</td>\n",
       "      <td>0.345696</td>\n",
       "      <td>0.000000</td>\n",
       "      <td>0.361466</td>\n",
       "      <td>0.000000</td>\n",
       "      <td>1.338738</td>\n",
       "      <td>0.351171</td>\n",
       "      <td>0.606223</td>\n",
       "      <td>0.572500</td>\n",
       "      <td>0.095572</td>\n",
       "      <td>0.0</td>\n",
       "      <td>1.0</td>\n",
       "    </tr>\n",
       "    <tr>\n",
       "      <th>2</th>\n",
       "      <td>0.304049</td>\n",
       "      <td>0.0</td>\n",
       "      <td>0.139149</td>\n",
       "      <td>0.000000</td>\n",
       "      <td>0.994960</td>\n",
       "      <td>0.154550</td>\n",
       "      <td>0.916814</td>\n",
       "      <td>0.053859</td>\n",
       "      <td>0.937073</td>\n",
       "      <td>0.472700</td>\n",
       "      <td>0.201298</td>\n",
       "      <td>0.000000</td>\n",
       "      <td>0.073183</td>\n",
       "      <td>0.000000</td>\n",
       "      <td>0.000000</td>\n",
       "      <td>0.0</td>\n",
       "      <td>2.0</td>\n",
       "    </tr>\n",
       "    <tr>\n",
       "      <th>3</th>\n",
       "      <td>0.000000</td>\n",
       "      <td>0.0</td>\n",
       "      <td>1.252842</td>\n",
       "      <td>0.310630</td>\n",
       "      <td>0.154850</td>\n",
       "      <td>1.256678</td>\n",
       "      <td>0.222499</td>\n",
       "      <td>0.000000</td>\n",
       "      <td>0.248797</td>\n",
       "      <td>0.000000</td>\n",
       "      <td>1.510357</td>\n",
       "      <td>0.496300</td>\n",
       "      <td>0.732735</td>\n",
       "      <td>0.714571</td>\n",
       "      <td>0.059207</td>\n",
       "      <td>0.0</td>\n",
       "      <td>0.0</td>\n",
       "    </tr>\n",
       "    <tr>\n",
       "      <th>4</th>\n",
       "      <td>0.000000</td>\n",
       "      <td>0.0</td>\n",
       "      <td>4.171165</td>\n",
       "      <td>2.216268</td>\n",
       "      <td>0.000000</td>\n",
       "      <td>4.557969</td>\n",
       "      <td>0.000000</td>\n",
       "      <td>0.000000</td>\n",
       "      <td>0.000000</td>\n",
       "      <td>0.000000</td>\n",
       "      <td>4.863779</td>\n",
       "      <td>3.190290</td>\n",
       "      <td>3.213732</td>\n",
       "      <td>3.544414</td>\n",
       "      <td>0.000000</td>\n",
       "      <td>0.0</td>\n",
       "      <td>0.0</td>\n",
       "    </tr>\n",
       "    <tr>\n",
       "      <th>...</th>\n",
       "      <td>...</td>\n",
       "      <td>...</td>\n",
       "      <td>...</td>\n",
       "      <td>...</td>\n",
       "      <td>...</td>\n",
       "      <td>...</td>\n",
       "      <td>...</td>\n",
       "      <td>...</td>\n",
       "      <td>...</td>\n",
       "      <td>...</td>\n",
       "      <td>...</td>\n",
       "      <td>...</td>\n",
       "      <td>...</td>\n",
       "      <td>...</td>\n",
       "      <td>...</td>\n",
       "      <td>...</td>\n",
       "      <td>...</td>\n",
       "    </tr>\n",
       "    <tr>\n",
       "      <th>115</th>\n",
       "      <td>0.000000</td>\n",
       "      <td>0.0</td>\n",
       "      <td>0.781466</td>\n",
       "      <td>0.000000</td>\n",
       "      <td>0.721364</td>\n",
       "      <td>0.693218</td>\n",
       "      <td>0.696781</td>\n",
       "      <td>0.000000</td>\n",
       "      <td>0.743031</td>\n",
       "      <td>0.000000</td>\n",
       "      <td>1.004633</td>\n",
       "      <td>0.000000</td>\n",
       "      <td>0.420361</td>\n",
       "      <td>0.288629</td>\n",
       "      <td>0.049087</td>\n",
       "      <td>0.0</td>\n",
       "      <td>1.0</td>\n",
       "    </tr>\n",
       "    <tr>\n",
       "      <th>116</th>\n",
       "      <td>0.000000</td>\n",
       "      <td>0.0</td>\n",
       "      <td>0.841117</td>\n",
       "      <td>0.000000</td>\n",
       "      <td>0.562605</td>\n",
       "      <td>0.751772</td>\n",
       "      <td>0.615212</td>\n",
       "      <td>0.000000</td>\n",
       "      <td>0.647601</td>\n",
       "      <td>0.000000</td>\n",
       "      <td>1.071287</td>\n",
       "      <td>0.056251</td>\n",
       "      <td>0.434131</td>\n",
       "      <td>0.321796</td>\n",
       "      <td>0.106638</td>\n",
       "      <td>0.0</td>\n",
       "      <td>1.0</td>\n",
       "    </tr>\n",
       "    <tr>\n",
       "      <th>117</th>\n",
       "      <td>0.000000</td>\n",
       "      <td>0.0</td>\n",
       "      <td>1.103630</td>\n",
       "      <td>0.205203</td>\n",
       "      <td>0.210532</td>\n",
       "      <td>1.087753</td>\n",
       "      <td>0.345696</td>\n",
       "      <td>0.000000</td>\n",
       "      <td>0.361466</td>\n",
       "      <td>0.000000</td>\n",
       "      <td>1.338738</td>\n",
       "      <td>0.351171</td>\n",
       "      <td>0.606223</td>\n",
       "      <td>0.572500</td>\n",
       "      <td>0.095572</td>\n",
       "      <td>0.0</td>\n",
       "      <td>0.0</td>\n",
       "    </tr>\n",
       "    <tr>\n",
       "      <th>118</th>\n",
       "      <td>0.000000</td>\n",
       "      <td>0.0</td>\n",
       "      <td>1.103630</td>\n",
       "      <td>0.205203</td>\n",
       "      <td>0.210532</td>\n",
       "      <td>1.087753</td>\n",
       "      <td>0.345696</td>\n",
       "      <td>0.000000</td>\n",
       "      <td>0.361466</td>\n",
       "      <td>0.000000</td>\n",
       "      <td>1.338738</td>\n",
       "      <td>0.351171</td>\n",
       "      <td>0.606223</td>\n",
       "      <td>0.572500</td>\n",
       "      <td>0.095572</td>\n",
       "      <td>0.0</td>\n",
       "      <td>0.0</td>\n",
       "    </tr>\n",
       "    <tr>\n",
       "      <th>119</th>\n",
       "      <td>0.000000</td>\n",
       "      <td>0.0</td>\n",
       "      <td>1.103630</td>\n",
       "      <td>0.205203</td>\n",
       "      <td>0.210532</td>\n",
       "      <td>1.087753</td>\n",
       "      <td>0.345696</td>\n",
       "      <td>0.000000</td>\n",
       "      <td>0.361466</td>\n",
       "      <td>0.000000</td>\n",
       "      <td>1.338738</td>\n",
       "      <td>0.351171</td>\n",
       "      <td>0.606223</td>\n",
       "      <td>0.572500</td>\n",
       "      <td>0.095572</td>\n",
       "      <td>0.0</td>\n",
       "      <td>1.0</td>\n",
       "    </tr>\n",
       "  </tbody>\n",
       "</table>\n",
       "<p>120 rows × 17 columns</p>\n",
       "</div>"
      ],
      "text/plain": [
       "           0    1         2         3         4         5         6   \\\n",
       "0    1.214596  0.0  0.014735  0.000000  2.588060  0.000000  2.057467   \n",
       "1    0.000000  0.0  1.103630  0.205203  0.210532  1.087753  0.345696   \n",
       "2    0.304049  0.0  0.139149  0.000000  0.994960  0.154550  0.916814   \n",
       "3    0.000000  0.0  1.252842  0.310630  0.154850  1.256678  0.222499   \n",
       "4    0.000000  0.0  4.171165  2.216268  0.000000  4.557969  0.000000   \n",
       "..        ...  ...       ...       ...       ...       ...       ...   \n",
       "115  0.000000  0.0  0.781466  0.000000  0.721364  0.693218  0.696781   \n",
       "116  0.000000  0.0  0.841117  0.000000  0.562605  0.751772  0.615212   \n",
       "117  0.000000  0.0  1.103630  0.205203  0.210532  1.087753  0.345696   \n",
       "118  0.000000  0.0  1.103630  0.205203  0.210532  1.087753  0.345696   \n",
       "119  0.000000  0.0  1.103630  0.205203  0.210532  1.087753  0.345696   \n",
       "\n",
       "           7         8         9         10        11        12        13  \\\n",
       "0    0.769469  2.121261  0.940094  0.000000  0.000000  0.000000  0.000000   \n",
       "1    0.000000  0.361466  0.000000  1.338738  0.351171  0.606223  0.572500   \n",
       "2    0.053859  0.937073  0.472700  0.201298  0.000000  0.073183  0.000000   \n",
       "3    0.000000  0.248797  0.000000  1.510357  0.496300  0.732735  0.714571   \n",
       "4    0.000000  0.000000  0.000000  4.863779  3.190290  3.213732  3.544414   \n",
       "..        ...       ...       ...       ...       ...       ...       ...   \n",
       "115  0.000000  0.743031  0.000000  1.004633  0.000000  0.420361  0.288629   \n",
       "116  0.000000  0.647601  0.000000  1.071287  0.056251  0.434131  0.321796   \n",
       "117  0.000000  0.361466  0.000000  1.338738  0.351171  0.606223  0.572500   \n",
       "118  0.000000  0.361466  0.000000  1.338738  0.351171  0.606223  0.572500   \n",
       "119  0.000000  0.361466  0.000000  1.338738  0.351171  0.606223  0.572500   \n",
       "\n",
       "           14   15   16  \n",
       "0    0.000000  0.0  2.0  \n",
       "1    0.095572  0.0  1.0  \n",
       "2    0.000000  0.0  2.0  \n",
       "3    0.059207  0.0  0.0  \n",
       "4    0.000000  0.0  0.0  \n",
       "..        ...  ...  ...  \n",
       "115  0.049087  0.0  1.0  \n",
       "116  0.106638  0.0  1.0  \n",
       "117  0.095572  0.0  0.0  \n",
       "118  0.095572  0.0  0.0  \n",
       "119  0.095572  0.0  1.0  \n",
       "\n",
       "[120 rows x 17 columns]"
      ]
     },
     "execution_count": 22,
     "metadata": {},
     "output_type": "execute_result"
    }
   ],
   "source": [
    "plot_data"
   ]
  },
  {
   "cell_type": "markdown",
   "metadata": {},
   "source": [
    "### <span style=\"color:#4CC9F0\">Crea gráfico tsne</span>\n"
   ]
  },
  {
   "cell_type": "code",
   "execution_count": 23,
   "metadata": {},
   "outputs": [
    {
     "name": "stderr",
     "output_type": "stream",
     "text": [
      "c:\\Users\\User\\anaconda3\\envs\\work\\lib\\site-packages\\sklearn\\manifold\\_t_sne.py:780: FutureWarning: The default initialization in TSNE will change from 'random' to 'pca' in 1.2.\n",
      "  warnings.warn(\n"
     ]
    },
    {
     "name": "stdout",
     "output_type": "stream",
     "text": [
      "[t-SNE] Computing 119 nearest neighbors...\n",
      "[t-SNE] Indexed 120 samples in 0.001s...\n",
      "[t-SNE] Computed neighbors for 120 samples in 0.043s...\n",
      "[t-SNE] Computed conditional probabilities for sample 120 / 120\n",
      "[t-SNE] Mean sigma: 1.969876\n",
      "[t-SNE] KL divergence after 250 iterations with early exaggeration: 50.993931\n",
      "[t-SNE] KL divergence after 1000 iterations: 0.014936\n"
     ]
    }
   ],
   "source": [
    "from sklearn.manifold import TSNE\n",
    "\n",
    "# reduce dimensionalidad con t-sne\n",
    "tsne = TSNE(n_components=2, verbose=1, perplexity=50, n_iter=1000, learning_rate=200)\n",
    "tsne_results = tsne.fit_transform(output)"
   ]
  },
  {
   "cell_type": "code",
   "execution_count": 24,
   "metadata": {},
   "outputs": [],
   "source": [
    "labels = [target_dimensions[i] for i in y_train_species]\n",
    "#['Setosa', 'Versicolor', 'Virginica']"
   ]
  },
  {
   "cell_type": "code",
   "execution_count": 25,
   "metadata": {},
   "outputs": [
    {
     "data": {
      "text/plain": [
       "<seaborn.axisgrid.FacetGrid at 0x23697234e20>"
      ]
     },
     "execution_count": 25,
     "metadata": {},
     "output_type": "execute_result"
    },
    {
     "data": {
      "image/png": "[encoded data removed]",
      "text/plain": [
       "<Figure size 617.875x500 with 1 Axes>"
      ]
     },
     "metadata": {},
     "output_type": "display_data"
    }
   ],
   "source": [
    "# visualiza con seaborn\n",
    "df_tsne = pd.DataFrame(tsne_results, columns=['x', 'y'])\n",
    "df_tsne['label'] = labels\n",
    "sns.lmplot(x='x', y='y', data=df_tsne, hue='label', fit_reg=False)"
   ]
  },
  {
   "cell_type": "markdown",
   "metadata": {},
   "source": [
    "### <span style=\"color:#4CC9F0\">Ejercicio</span>\n"
   ]
  },
  {
   "cell_type": "markdown",
   "metadata": {},
   "source": [
    "1. Reescriba y reentren la red en Pytorch.\n",
    "1. Investigue como extraer la capa oculta en Pytorch\n",
    "1. Haga un gráfico TSNE para los datos originales\n",
    "1. Haga una reducción ACP y haga el correspondiente gráfico\n",
    "\n",
    "¿Cuáles son sus conclusiones?"
   ]
  }
 ],
 "metadata": {
  "kernelspec": {
   "display_name": "Python 3.9.13 ('work')",
   "language": "python",
   "name": "python3"
  },
  "language_info": {
   "codemirror_mode": {
    "name": "ipython",
    "version": 3
   },
   "file_extension": ".py",
   "mimetype": "text/x-python",
   "name": "python",
   "nbconvert_exporter": "python",
   "pygments_lexer": "ipython3",
   "version": "3.9.13"
  },
  "toc-autonumbering": false,
  "vscode": {
   "interpreter": {
    "hash": "3620b340ed2ed479d71e72c732c6d6a6eac39d8adbece51414abdea5ed84aec5"
   }
  }
 },
 "nbformat": 4,
 "nbformat_minor": 4
}
