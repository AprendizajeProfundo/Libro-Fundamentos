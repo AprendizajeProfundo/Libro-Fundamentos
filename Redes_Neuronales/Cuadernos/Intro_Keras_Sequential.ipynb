{
 "cells": [
  {
   "cell_type": "markdown",
   "id": "scenic-ghost",
   "metadata": {},
   "source": [
    "# <span style=\"color:#F72585\"><center>Introducción a la API Sequential de Keras</center></span>"
   ]
  },
  {
   "cell_type": "markdown",
   "id": "c6c31423",
   "metadata": {},
   "source": [
    "<figure>\n",
    "<center>\n",
    "<img src=\"https://raw.githubusercontent.com/AprendizajeProfundo/Alejandria/main/Redes_Neuronales/Imagenes/Secuencia.png\" width=\"600\" height=\"400\" align=\"center\" /> \n",
    "</center>   \n",
    "</figure>\n",
    "<center>\n",
    "\n",
    "Fuente: <a href=\"https://commons.wikimedia.org/wiki/File:Secuencia_parcialidad_totalidad_parcialidad.png\">Esteban J. Andrada</a>, <a href=\"https://creativecommons.org/licenses/by-sa/4.0\">CC BY-SA 4.0</a>, via Wikimedia Commons\n",
    "\n",
    "</center>"
   ]
  },
  {
   "cell_type": "markdown",
   "id": "incident-soundtrack",
   "metadata": {},
   "source": [
    "## <span style=\"color:#4361EE\">Introducción</span>"
   ]
  },
  {
   "cell_type": "markdown",
   "id": "clean-olive",
   "metadata": {},
   "source": [
    "Este es un notebook de Google Colaboratory. Los programas de Python se ejecutan directamente en tu navegador,  una gran manera de aprender y utilizar TensorFlow. "
   ]
  },
  {
   "cell_type": "code",
   "execution_count": 1,
   "id": "criminal-excuse",
   "metadata": {},
   "outputs": [
    {
     "name": "stderr",
     "output_type": "stream",
     "text": [
      "c:\\Users\\User\\anaconda3\\envs\\work\\lib\\site-packages\\scipy\\__init__.py:146: UserWarning: A NumPy version >=1.16.5 and <1.23.0 is required for this version of SciPy (detected version 1.23.3\n",
      "  warnings.warn(f\"A NumPy version >={np_minversion} and <{np_maxversion}\"\n"
     ]
    },
    {
     "name": "stdout",
     "output_type": "stream",
     "text": [
      "Version de Tensorflow =  2.9.1\n"
     ]
    }
   ],
   "source": [
    "from __future__ import absolute_import, division, print_function\n",
    "\n",
    "import tensorflow as tf\n",
    "print('Version de Tensorflow = ', tf.__version__)"
   ]
  },
  {
   "cell_type": "markdown",
   "id": "accepted-product",
   "metadata": {},
   "source": [
    "## <span style=\"color:#4361EE\">Prepara datos de MNIST</span> "
   ]
  },
  {
   "cell_type": "code",
   "execution_count": 2,
   "id": "fleet-boating",
   "metadata": {},
   "outputs": [],
   "source": [
    "mnist = tf.keras.datasets.mnist\n",
    "\n",
    "(x_train, y_train), (x_test, y_test) = mnist.load_data()\n",
    "x_train, x_test = x_train/255.0, x_test/255.0"
   ]
  },
  {
   "cell_type": "markdown",
   "id": "backed-albany",
   "metadata": {},
   "source": [
    "## <span style=\"color:#4361EE\">Modelo Sequential de Keras</span> \n"
   ]
  },
  {
   "cell_type": "code",
   "execution_count": 3,
   "id": "underlying-powell",
   "metadata": {},
   "outputs": [],
   "source": [
    "import tensorflow.keras.layers as layer\n",
    "\n",
    "model = tf.keras.models.Sequential([\n",
    "    layer.Flatten(input_shape=(28,28)), #784\n",
    "    layer.Dense(128, activation='relu'),\n",
    "    layer.Dropout(0.2),\n",
    "    layer.Dense(10, activation='softmax')\n",
    "])\n",
    "\n",
    "model.compile(optimizer='adam',\n",
    "             loss='sparse_categorical_crossentropy',\n",
    "             metrics=['accuracy'])"
   ]
  },
  {
   "cell_type": "markdown",
   "id": "loose-industry",
   "metadata": {},
   "source": [
    "## <span style=\"color:#4361EE\">Summary y Plot Model</span> "
   ]
  },
  {
   "cell_type": "code",
   "execution_count": 4,
   "id": "confirmed-martial",
   "metadata": {},
   "outputs": [
    {
     "name": "stdout",
     "output_type": "stream",
     "text": [
      "Model: \"sequential\"\n",
      "_________________________________________________________________\n",
      " Layer (type)                Output Shape              Param #   \n",
      "=================================================================\n",
      " flatten (Flatten)           (None, 784)               0         \n",
      "                                                                 \n",
      " dense (Dense)               (None, 128)               100480    \n",
      "                                                                 \n",
      " dropout (Dropout)           (None, 128)               0         \n",
      "                                                                 \n",
      " dense_1 (Dense)             (None, 10)                1290      \n",
      "                                                                 \n",
      "=================================================================\n",
      "Total params: 101,770\n",
      "Trainable params: 101,770\n",
      "Non-trainable params: 0\n",
      "_________________________________________________________________\n"
     ]
    }
   ],
   "source": [
    "model.summary()"
   ]
  },
  {
   "cell_type": "code",
   "execution_count": 5,
   "id": "urban-nation",
   "metadata": {},
   "outputs": [
    {
     "name": "stdout",
     "output_type": "stream",
     "text": [
      "You must install pydot (`pip install pydot`) and install graphviz (see instructions at https://graphviz.gitlab.io/download/) for plot_model/model_to_dot to work.\n"
     ]
    }
   ],
   "source": [
    "from tensorflow.keras.utils import plot_model\n",
    "\n",
    "plot_model(model, to_file='../Imagenes/mnist_dense.png', \n",
    "          show_shapes=True, show_dtype=False)"
   ]
  },
  {
   "cell_type": "markdown",
   "id": "emerging-europe",
   "metadata": {},
   "source": [
    "Puede necesitar instalar [graphviz](https://www.graphviz.org/)."
   ]
  },
  {
   "cell_type": "raw",
   "id": "explicit-montreal",
   "metadata": {},
   "source": [
    "pip install pydot\n",
    "pip install pydot_ng\n",
    "pip install graphviz\n",
    "#pip install plot-model"
   ]
  },
  {
   "cell_type": "code",
   "execution_count": 6,
   "id": "fantastic-subscriber",
   "metadata": {},
   "outputs": [],
   "source": [
    "#from plot_model import plot_model\n",
    "#plot_model(model)"
   ]
  },
  {
   "cell_type": "markdown",
   "id": "considerable-action",
   "metadata": {},
   "source": [
    "## <span style=\"color:#4361EE\">Entrenamiento y evaluación del modelo</span> "
   ]
  },
  {
   "cell_type": "code",
   "execution_count": 7,
   "id": "creative-college",
   "metadata": {},
   "outputs": [
    {
     "name": "stdout",
     "output_type": "stream",
     "text": [
      "Epoch 1/5\n",
      "1875/1875 [==============================] - 7s 3ms/step - loss: 0.2958 - accuracy: 0.9149\n",
      "Epoch 2/5\n",
      "1875/1875 [==============================] - 5s 3ms/step - loss: 0.1436 - accuracy: 0.9567\n",
      "Epoch 3/5\n",
      "1875/1875 [==============================] - 5s 3ms/step - loss: 0.1085 - accuracy: 0.9664\n",
      "Epoch 4/5\n",
      "1875/1875 [==============================] - 5s 3ms/step - loss: 0.0879 - accuracy: 0.9729\n",
      "Epoch 5/5\n",
      "1875/1875 [==============================] - 5s 3ms/step - loss: 0.0758 - accuracy: 0.9761\n"
     ]
    }
   ],
   "source": [
    "history = model.fit(x_train, y_train, epochs=5)"
   ]
  },
  {
   "cell_type": "code",
   "execution_count": 8,
   "id": "prompt-gates",
   "metadata": {},
   "outputs": [
    {
     "name": "stdout",
     "output_type": "stream",
     "text": [
      "313/313 - 1s - loss: 0.0764 - accuracy: 0.9751 - 915ms/epoch - 3ms/step\n"
     ]
    },
    {
     "data": {
      "text/plain": [
       "[0.07640121132135391, 0.9750999808311462]"
      ]
     },
     "execution_count": 8,
     "metadata": {},
     "output_type": "execute_result"
    }
   ],
   "source": [
    "model.evaluate(x_test, y_test, verbose=2)"
   ]
  },
  {
   "cell_type": "markdown",
   "id": "institutional-basin",
   "metadata": {},
   "source": [
    "## <span style=\"color:#4361EE\">Primeros gráficos</span> "
   ]
  },
  {
   "cell_type": "markdown",
   "id": "executed-singapore",
   "metadata": {},
   "source": [
    "### <span style=\"color:#4CC9F0\">Extrae datos</span>"
   ]
  },
  {
   "cell_type": "code",
   "execution_count": 9,
   "id": "commercial-envelope",
   "metadata": {},
   "outputs": [
    {
     "data": {
      "text/html": [
       "<div>\n",
       "<style scoped>\n",
       "    .dataframe tbody tr th:only-of-type {\n",
       "        vertical-align: middle;\n",
       "    }\n",
       "\n",
       "    .dataframe tbody tr th {\n",
       "        vertical-align: top;\n",
       "    }\n",
       "\n",
       "    .dataframe thead th {\n",
       "        text-align: right;\n",
       "    }\n",
       "</style>\n",
       "<table border=\"1\" class=\"dataframe\">\n",
       "  <thead>\n",
       "    <tr style=\"text-align: right;\">\n",
       "      <th></th>\n",
       "      <th>loss</th>\n",
       "      <th>accuracy</th>\n",
       "      <th>epoch</th>\n",
       "    </tr>\n",
       "  </thead>\n",
       "  <tbody>\n",
       "    <tr>\n",
       "      <th>0</th>\n",
       "      <td>0.295840</td>\n",
       "      <td>0.914933</td>\n",
       "      <td>0</td>\n",
       "    </tr>\n",
       "    <tr>\n",
       "      <th>1</th>\n",
       "      <td>0.143641</td>\n",
       "      <td>0.956733</td>\n",
       "      <td>1</td>\n",
       "    </tr>\n",
       "    <tr>\n",
       "      <th>2</th>\n",
       "      <td>0.108544</td>\n",
       "      <td>0.966417</td>\n",
       "      <td>2</td>\n",
       "    </tr>\n",
       "    <tr>\n",
       "      <th>3</th>\n",
       "      <td>0.087885</td>\n",
       "      <td>0.972900</td>\n",
       "      <td>3</td>\n",
       "    </tr>\n",
       "    <tr>\n",
       "      <th>4</th>\n",
       "      <td>0.075800</td>\n",
       "      <td>0.976050</td>\n",
       "      <td>4</td>\n",
       "    </tr>\n",
       "  </tbody>\n",
       "</table>\n",
       "</div>"
      ],
      "text/plain": [
       "       loss  accuracy  epoch\n",
       "0  0.295840  0.914933      0\n",
       "1  0.143641  0.956733      1\n",
       "2  0.108544  0.966417      2\n",
       "3  0.087885  0.972900      3\n",
       "4  0.075800  0.976050      4"
      ]
     },
     "execution_count": 9,
     "metadata": {},
     "output_type": "execute_result"
    }
   ],
   "source": [
    "import matplotlib.pyplot as plt\n",
    "import pandas as pd\n",
    "hist = pd.DataFrame(history.history)\n",
    "hist['epoch'] = history.epoch \n",
    "hist"
   ]
  },
  {
   "cell_type": "markdown",
   "id": "flying-jewelry",
   "metadata": {},
   "source": [
    "### <span style=\"color:#4CC9F0\">Pérdida</span>"
   ]
  },
  {
   "cell_type": "code",
   "execution_count": 10,
   "id": "parliamentary-cancellation",
   "metadata": {},
   "outputs": [
    {
     "data": {
      "image/png": "[encoded data removed]",
      "text/plain": [
       "<Figure size 640x480 with 1 Axes>"
      ]
     },
     "metadata": {},
     "output_type": "display_data"
    }
   ],
   "source": [
    "\n",
    "plt.figure()\n",
    "plt.xlabel('Epoca')\n",
    "plt.ylabel('Loss: Entropía cruzada')\n",
    "plt.plot(hist['epoch'], hist['loss'],\n",
    "           label='Error en entrenamiento')\n",
    "plt.ylim([0,0.5])\n",
    "plt.legend()\n",
    "plt.show()"
   ]
  },
  {
   "cell_type": "markdown",
   "id": "pediatric-increase",
   "metadata": {},
   "source": [
    "### <span style=\"color:#4CC9F0\">Exactitud</span>"
   ]
  },
  {
   "cell_type": "code",
   "execution_count": 11,
   "id": "processed-accreditation",
   "metadata": {},
   "outputs": [
    {
     "data": {
      "image/png": "[encoded data removed]",
      "text/plain": [
       "<Figure size 640x480 with 1 Axes>"
      ]
     },
     "metadata": {},
     "output_type": "display_data"
    }
   ],
   "source": [
    "\n",
    "plt.figure()\n",
    "plt.xlabel('Epoca')\n",
    "plt.ylabel('Exactitud')\n",
    "plt.plot(hist['epoch'], hist['accuracy'],\n",
    "           label='Exactitud en entrenamiento')\n",
    "plt.ylim([0.9,1])\n",
    "plt.legend()\n",
    "plt.show()"
   ]
  }
 ],
 "metadata": {
  "kernelspec": {
   "display_name": "Python 3.9.13 ('work')",
   "language": "python",
   "name": "python3"
  },
  "language_info": {
   "codemirror_mode": {
    "name": "ipython",
    "version": 3
   },
   "file_extension": ".py",
   "mimetype": "text/x-python",
   "name": "python",
   "nbconvert_exporter": "python",
   "pygments_lexer": "ipython3",
   "version": "3.9.13"
  },
  "vscode": {
   "interpreter": {
    "hash": "3620b340ed2ed479d71e72c732c6d6a6eac39d8adbece51414abdea5ed84aec5"
   }
  }
 },
 "nbformat": 4,
 "nbformat_minor": 5
}
