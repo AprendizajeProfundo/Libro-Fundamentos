{
 "cells": [
  {
   "cell_type": "markdown",
   "metadata": {},
   "source": [
    "# <span style=\"color:#F72585\"><center>Modelo de clasificación para detección de fraude en tarjetas de crédito</center></span>"
   ]
  },
  {
   "cell_type": "markdown",
   "metadata": {},
   "source": [
    "<figure>\n",
    "<center>\n",
    "<img src=\"https://raw.githubusercontent.com/AprendizajeProfundo/Alejandria/main/Redes_Neuronales/Imagenes/Credit-cards.jpg\" width=\"600\" height=\"400\" align=\"center\" /> \n",
    "</center>   \n",
    "</figure>\n",
    "<center>\n",
    "\n",
    "Fuente: <a href=\"https://commons.wikimedia.org/wiki/File:Credit-cards.jpg\">Lotus Head from Johannesburg, Gauteng, South Africa</a>, <a href=\"http://creativecommons.org/licenses/by-sa/3.0/\">CC BY-SA 3.0</a>, via Wikimedia Commons\n",
    "\n",
    "</center>"
   ]
  },
  {
   "cell_type": "markdown",
   "metadata": {},
   "source": [
    "## <span style=\"color:#4361EE\">Introducción</span> "
   ]
  },
  {
   "cell_type": "markdown",
   "metadata": {},
   "source": [
    "En esta lección hacemos ejemplo de clasificación para detectar fraude en el uso de tarjeta de crédito. El ejemplo es adaptado de  [fchollet](https://github.com/keras-team/keras-io/blob/master/examples/structured_data/imbalanced_classification.py). Los datos están disponible en [Kaggle Credit Card Fraud Detection](https://www.kaggle.com/mlg-ulb/creditcardfraud/).\n",
    "\n",
    "El propósito del ejemplo es ilustrar el caso de datos categóricos altamente desbalanceados. Un  problema muy común en la práctica. Usaremos varias métricas para evaluar el modelo.\n",
    "\n",
    "La técnica se puede extender a la detección de datos anómalos en grades conjuntos de datos."
   ]
  },
  {
   "cell_type": "markdown",
   "metadata": {},
   "source": [
    "## <span style=\"color:#4361EE\">Importa módulos</span> "
   ]
  },
  {
   "cell_type": "code",
   "execution_count": 39,
   "metadata": {},
   "outputs": [
    {
     "name": "stdout",
     "output_type": "stream",
     "text": [
      "2.9.1\n"
     ]
    }
   ],
   "source": [
    "from __future__ import absolute_import, division, print_function, unicode_literals\n",
    "#\n",
    "#import csv\n",
    "import pandas as pd\n",
    "import numpy as np\n",
    "import matplotlib.pyplot as plt\n",
    "import seaborn as sns\n",
    "import tensorflow as tf\n",
    "#\n",
    "\n",
    "from tensorflow.keras.models import Model\n",
    "#\n",
    "from tensorflow.keras.layers import Dense, Input, Activation, Dropout\n",
    "#\n",
    "from tensorflow.keras.utils import plot_model\n",
    "#\n",
    "from sklearn.preprocessing import StandardScaler\n",
    "from sklearn.metrics import confusion_matrix\n",
    "\n",
    "#\n",
    "from tensorflow.keras. metrics import FalseNegatives, FalsePositives, TrueNegatives\n",
    "from tensorflow.keras. metrics import TruePositives, Precision, Recall\n",
    "#\n",
    "from tensorflow.keras.optimizers import Adam\n",
    "#\n",
    "from tensorflow.keras import callbacks\n",
    "#\n",
    "from sklearn.metrics import roc_curve, auc\n",
    "from sklearn.metrics import roc_auc_score\n",
    "print(tf.__version__)"
   ]
  },
  {
   "cell_type": "markdown",
   "metadata": {},
   "source": [
    "## <span style=\"color:#4361EE\">Los datos</span> "
   ]
  },
  {
   "cell_type": "markdown",
   "metadata": {},
   "source": [
    "Excepto por la transacción y el monto, no sabemos cuáles son las otras columnas (por razones de privacidad). Lo único que sabemos es que esas columnas que se desconocen ya se han escalado. Son 284.807 registros y 31 variables.\n",
    "\n",
    "- *El monto de la transacción* es relativamente pequeño. La media de todas las transacciones realizadas es de aproximadamente USD 88.\n",
    "\n",
    "- *No hay valores faltantes*\n",
    "\n",
    "- *La mayoría de las transacciones fueron no fraudulentas* (99,82%) del tiempo, mientras que las transacciones fraudulentas ocurren (018%) del tiempo en el marco de datos.\n",
    "\n",
    "- *Transformación PCA*: La descripción de los datos dice que todas las características pasaron por una transformación PCA (técnica de reducción de dimensionalidad) (excepto por tiempo y cantidad).\n",
    "\n",
    "- *Escalado*: tenga en cuenta que para implementar una transformación de PCA es necesario escalar previamente las variables (features). (En este caso, todas las variables del grupo  V se han escalado o al menos eso es lo que suponemos que hicieron las personas que desarrollan el conjunto de datos)."
   ]
  },
  {
   "cell_type": "markdown",
   "metadata": {},
   "source": [
    "## <span style=\"color:#4361EE\">Lee los datos</span> "
   ]
  },
  {
   "cell_type": "code",
   "execution_count": 40,
   "metadata": {},
   "outputs": [
    {
     "data": {
      "text/html": [
       "<div>\n",
       "<style scoped>\n",
       "    .dataframe tbody tr th:only-of-type {\n",
       "        vertical-align: middle;\n",
       "    }\n",
       "\n",
       "    .dataframe tbody tr th {\n",
       "        vertical-align: top;\n",
       "    }\n",
       "\n",
       "    .dataframe thead th {\n",
       "        text-align: right;\n",
       "    }\n",
       "</style>\n",
       "<table border=\"1\" class=\"dataframe\">\n",
       "  <thead>\n",
       "    <tr style=\"text-align: right;\">\n",
       "      <th></th>\n",
       "      <th>Time</th>\n",
       "      <th>V1</th>\n",
       "      <th>V2</th>\n",
       "      <th>V3</th>\n",
       "      <th>V4</th>\n",
       "      <th>V5</th>\n",
       "      <th>V6</th>\n",
       "      <th>V7</th>\n",
       "      <th>V8</th>\n",
       "      <th>V9</th>\n",
       "      <th>...</th>\n",
       "      <th>V21</th>\n",
       "      <th>V22</th>\n",
       "      <th>V23</th>\n",
       "      <th>V24</th>\n",
       "      <th>V25</th>\n",
       "      <th>V26</th>\n",
       "      <th>V27</th>\n",
       "      <th>V28</th>\n",
       "      <th>Amount</th>\n",
       "      <th>Class</th>\n",
       "    </tr>\n",
       "  </thead>\n",
       "  <tbody>\n",
       "    <tr>\n",
       "      <th>0</th>\n",
       "      <td>0.0</td>\n",
       "      <td>-1.359807</td>\n",
       "      <td>-0.072781</td>\n",
       "      <td>2.536347</td>\n",
       "      <td>1.378155</td>\n",
       "      <td>-0.338321</td>\n",
       "      <td>0.462388</td>\n",
       "      <td>0.239599</td>\n",
       "      <td>0.098698</td>\n",
       "      <td>0.363787</td>\n",
       "      <td>...</td>\n",
       "      <td>-0.018307</td>\n",
       "      <td>0.277838</td>\n",
       "      <td>-0.110474</td>\n",
       "      <td>0.066928</td>\n",
       "      <td>0.128539</td>\n",
       "      <td>-0.189115</td>\n",
       "      <td>0.133558</td>\n",
       "      <td>-0.021053</td>\n",
       "      <td>149.62</td>\n",
       "      <td>0</td>\n",
       "    </tr>\n",
       "    <tr>\n",
       "      <th>1</th>\n",
       "      <td>0.0</td>\n",
       "      <td>1.191857</td>\n",
       "      <td>0.266151</td>\n",
       "      <td>0.166480</td>\n",
       "      <td>0.448154</td>\n",
       "      <td>0.060018</td>\n",
       "      <td>-0.082361</td>\n",
       "      <td>-0.078803</td>\n",
       "      <td>0.085102</td>\n",
       "      <td>-0.255425</td>\n",
       "      <td>...</td>\n",
       "      <td>-0.225775</td>\n",
       "      <td>-0.638672</td>\n",
       "      <td>0.101288</td>\n",
       "      <td>-0.339846</td>\n",
       "      <td>0.167170</td>\n",
       "      <td>0.125895</td>\n",
       "      <td>-0.008983</td>\n",
       "      <td>0.014724</td>\n",
       "      <td>2.69</td>\n",
       "      <td>0</td>\n",
       "    </tr>\n",
       "    <tr>\n",
       "      <th>2</th>\n",
       "      <td>1.0</td>\n",
       "      <td>-1.358354</td>\n",
       "      <td>-1.340163</td>\n",
       "      <td>1.773209</td>\n",
       "      <td>0.379780</td>\n",
       "      <td>-0.503198</td>\n",
       "      <td>1.800499</td>\n",
       "      <td>0.791461</td>\n",
       "      <td>0.247676</td>\n",
       "      <td>-1.514654</td>\n",
       "      <td>...</td>\n",
       "      <td>0.247998</td>\n",
       "      <td>0.771679</td>\n",
       "      <td>0.909412</td>\n",
       "      <td>-0.689281</td>\n",
       "      <td>-0.327642</td>\n",
       "      <td>-0.139097</td>\n",
       "      <td>-0.055353</td>\n",
       "      <td>-0.059752</td>\n",
       "      <td>378.66</td>\n",
       "      <td>0</td>\n",
       "    </tr>\n",
       "    <tr>\n",
       "      <th>3</th>\n",
       "      <td>1.0</td>\n",
       "      <td>-0.966272</td>\n",
       "      <td>-0.185226</td>\n",
       "      <td>1.792993</td>\n",
       "      <td>-0.863291</td>\n",
       "      <td>-0.010309</td>\n",
       "      <td>1.247203</td>\n",
       "      <td>0.237609</td>\n",
       "      <td>0.377436</td>\n",
       "      <td>-1.387024</td>\n",
       "      <td>...</td>\n",
       "      <td>-0.108300</td>\n",
       "      <td>0.005274</td>\n",
       "      <td>-0.190321</td>\n",
       "      <td>-1.175575</td>\n",
       "      <td>0.647376</td>\n",
       "      <td>-0.221929</td>\n",
       "      <td>0.062723</td>\n",
       "      <td>0.061458</td>\n",
       "      <td>123.50</td>\n",
       "      <td>0</td>\n",
       "    </tr>\n",
       "    <tr>\n",
       "      <th>4</th>\n",
       "      <td>2.0</td>\n",
       "      <td>-1.158233</td>\n",
       "      <td>0.877737</td>\n",
       "      <td>1.548718</td>\n",
       "      <td>0.403034</td>\n",
       "      <td>-0.407193</td>\n",
       "      <td>0.095921</td>\n",
       "      <td>0.592941</td>\n",
       "      <td>-0.270533</td>\n",
       "      <td>0.817739</td>\n",
       "      <td>...</td>\n",
       "      <td>-0.009431</td>\n",
       "      <td>0.798278</td>\n",
       "      <td>-0.137458</td>\n",
       "      <td>0.141267</td>\n",
       "      <td>-0.206010</td>\n",
       "      <td>0.502292</td>\n",
       "      <td>0.219422</td>\n",
       "      <td>0.215153</td>\n",
       "      <td>69.99</td>\n",
       "      <td>0</td>\n",
       "    </tr>\n",
       "    <tr>\n",
       "      <th>...</th>\n",
       "      <td>...</td>\n",
       "      <td>...</td>\n",
       "      <td>...</td>\n",
       "      <td>...</td>\n",
       "      <td>...</td>\n",
       "      <td>...</td>\n",
       "      <td>...</td>\n",
       "      <td>...</td>\n",
       "      <td>...</td>\n",
       "      <td>...</td>\n",
       "      <td>...</td>\n",
       "      <td>...</td>\n",
       "      <td>...</td>\n",
       "      <td>...</td>\n",
       "      <td>...</td>\n",
       "      <td>...</td>\n",
       "      <td>...</td>\n",
       "      <td>...</td>\n",
       "      <td>...</td>\n",
       "      <td>...</td>\n",
       "      <td>...</td>\n",
       "    </tr>\n",
       "    <tr>\n",
       "      <th>284802</th>\n",
       "      <td>172786.0</td>\n",
       "      <td>-11.881118</td>\n",
       "      <td>10.071785</td>\n",
       "      <td>-9.834783</td>\n",
       "      <td>-2.066656</td>\n",
       "      <td>-5.364473</td>\n",
       "      <td>-2.606837</td>\n",
       "      <td>-4.918215</td>\n",
       "      <td>7.305334</td>\n",
       "      <td>1.914428</td>\n",
       "      <td>...</td>\n",
       "      <td>0.213454</td>\n",
       "      <td>0.111864</td>\n",
       "      <td>1.014480</td>\n",
       "      <td>-0.509348</td>\n",
       "      <td>1.436807</td>\n",
       "      <td>0.250034</td>\n",
       "      <td>0.943651</td>\n",
       "      <td>0.823731</td>\n",
       "      <td>0.77</td>\n",
       "      <td>0</td>\n",
       "    </tr>\n",
       "    <tr>\n",
       "      <th>284803</th>\n",
       "      <td>172787.0</td>\n",
       "      <td>-0.732789</td>\n",
       "      <td>-0.055080</td>\n",
       "      <td>2.035030</td>\n",
       "      <td>-0.738589</td>\n",
       "      <td>0.868229</td>\n",
       "      <td>1.058415</td>\n",
       "      <td>0.024330</td>\n",
       "      <td>0.294869</td>\n",
       "      <td>0.584800</td>\n",
       "      <td>...</td>\n",
       "      <td>0.214205</td>\n",
       "      <td>0.924384</td>\n",
       "      <td>0.012463</td>\n",
       "      <td>-1.016226</td>\n",
       "      <td>-0.606624</td>\n",
       "      <td>-0.395255</td>\n",
       "      <td>0.068472</td>\n",
       "      <td>-0.053527</td>\n",
       "      <td>24.79</td>\n",
       "      <td>0</td>\n",
       "    </tr>\n",
       "    <tr>\n",
       "      <th>284804</th>\n",
       "      <td>172788.0</td>\n",
       "      <td>1.919565</td>\n",
       "      <td>-0.301254</td>\n",
       "      <td>-3.249640</td>\n",
       "      <td>-0.557828</td>\n",
       "      <td>2.630515</td>\n",
       "      <td>3.031260</td>\n",
       "      <td>-0.296827</td>\n",
       "      <td>0.708417</td>\n",
       "      <td>0.432454</td>\n",
       "      <td>...</td>\n",
       "      <td>0.232045</td>\n",
       "      <td>0.578229</td>\n",
       "      <td>-0.037501</td>\n",
       "      <td>0.640134</td>\n",
       "      <td>0.265745</td>\n",
       "      <td>-0.087371</td>\n",
       "      <td>0.004455</td>\n",
       "      <td>-0.026561</td>\n",
       "      <td>67.88</td>\n",
       "      <td>0</td>\n",
       "    </tr>\n",
       "    <tr>\n",
       "      <th>284805</th>\n",
       "      <td>172788.0</td>\n",
       "      <td>-0.240440</td>\n",
       "      <td>0.530483</td>\n",
       "      <td>0.702510</td>\n",
       "      <td>0.689799</td>\n",
       "      <td>-0.377961</td>\n",
       "      <td>0.623708</td>\n",
       "      <td>-0.686180</td>\n",
       "      <td>0.679145</td>\n",
       "      <td>0.392087</td>\n",
       "      <td>...</td>\n",
       "      <td>0.265245</td>\n",
       "      <td>0.800049</td>\n",
       "      <td>-0.163298</td>\n",
       "      <td>0.123205</td>\n",
       "      <td>-0.569159</td>\n",
       "      <td>0.546668</td>\n",
       "      <td>0.108821</td>\n",
       "      <td>0.104533</td>\n",
       "      <td>10.00</td>\n",
       "      <td>0</td>\n",
       "    </tr>\n",
       "    <tr>\n",
       "      <th>284806</th>\n",
       "      <td>172792.0</td>\n",
       "      <td>-0.533413</td>\n",
       "      <td>-0.189733</td>\n",
       "      <td>0.703337</td>\n",
       "      <td>-0.506271</td>\n",
       "      <td>-0.012546</td>\n",
       "      <td>-0.649617</td>\n",
       "      <td>1.577006</td>\n",
       "      <td>-0.414650</td>\n",
       "      <td>0.486180</td>\n",
       "      <td>...</td>\n",
       "      <td>0.261057</td>\n",
       "      <td>0.643078</td>\n",
       "      <td>0.376777</td>\n",
       "      <td>0.008797</td>\n",
       "      <td>-0.473649</td>\n",
       "      <td>-0.818267</td>\n",
       "      <td>-0.002415</td>\n",
       "      <td>0.013649</td>\n",
       "      <td>217.00</td>\n",
       "      <td>0</td>\n",
       "    </tr>\n",
       "  </tbody>\n",
       "</table>\n",
       "<p>284807 rows × 31 columns</p>\n",
       "</div>"
      ],
      "text/plain": [
       "            Time         V1         V2        V3        V4        V5  \\\n",
       "0            0.0  -1.359807  -0.072781  2.536347  1.378155 -0.338321   \n",
       "1            0.0   1.191857   0.266151  0.166480  0.448154  0.060018   \n",
       "2            1.0  -1.358354  -1.340163  1.773209  0.379780 -0.503198   \n",
       "3            1.0  -0.966272  -0.185226  1.792993 -0.863291 -0.010309   \n",
       "4            2.0  -1.158233   0.877737  1.548718  0.403034 -0.407193   \n",
       "...          ...        ...        ...       ...       ...       ...   \n",
       "284802  172786.0 -11.881118  10.071785 -9.834783 -2.066656 -5.364473   \n",
       "284803  172787.0  -0.732789  -0.055080  2.035030 -0.738589  0.868229   \n",
       "284804  172788.0   1.919565  -0.301254 -3.249640 -0.557828  2.630515   \n",
       "284805  172788.0  -0.240440   0.530483  0.702510  0.689799 -0.377961   \n",
       "284806  172792.0  -0.533413  -0.189733  0.703337 -0.506271 -0.012546   \n",
       "\n",
       "              V6        V7        V8        V9  ...       V21       V22  \\\n",
       "0       0.462388  0.239599  0.098698  0.363787  ... -0.018307  0.277838   \n",
       "1      -0.082361 -0.078803  0.085102 -0.255425  ... -0.225775 -0.638672   \n",
       "2       1.800499  0.791461  0.247676 -1.514654  ...  0.247998  0.771679   \n",
       "3       1.247203  0.237609  0.377436 -1.387024  ... -0.108300  0.005274   \n",
       "4       0.095921  0.592941 -0.270533  0.817739  ... -0.009431  0.798278   \n",
       "...          ...       ...       ...       ...  ...       ...       ...   \n",
       "284802 -2.606837 -4.918215  7.305334  1.914428  ...  0.213454  0.111864   \n",
       "284803  1.058415  0.024330  0.294869  0.584800  ...  0.214205  0.924384   \n",
       "284804  3.031260 -0.296827  0.708417  0.432454  ...  0.232045  0.578229   \n",
       "284805  0.623708 -0.686180  0.679145  0.392087  ...  0.265245  0.800049   \n",
       "284806 -0.649617  1.577006 -0.414650  0.486180  ...  0.261057  0.643078   \n",
       "\n",
       "             V23       V24       V25       V26       V27       V28  Amount  \\\n",
       "0      -0.110474  0.066928  0.128539 -0.189115  0.133558 -0.021053  149.62   \n",
       "1       0.101288 -0.339846  0.167170  0.125895 -0.008983  0.014724    2.69   \n",
       "2       0.909412 -0.689281 -0.327642 -0.139097 -0.055353 -0.059752  378.66   \n",
       "3      -0.190321 -1.175575  0.647376 -0.221929  0.062723  0.061458  123.50   \n",
       "4      -0.137458  0.141267 -0.206010  0.502292  0.219422  0.215153   69.99   \n",
       "...          ...       ...       ...       ...       ...       ...     ...   \n",
       "284802  1.014480 -0.509348  1.436807  0.250034  0.943651  0.823731    0.77   \n",
       "284803  0.012463 -1.016226 -0.606624 -0.395255  0.068472 -0.053527   24.79   \n",
       "284804 -0.037501  0.640134  0.265745 -0.087371  0.004455 -0.026561   67.88   \n",
       "284805 -0.163298  0.123205 -0.569159  0.546668  0.108821  0.104533   10.00   \n",
       "284806  0.376777  0.008797 -0.473649 -0.818267 -0.002415  0.013649  217.00   \n",
       "\n",
       "        Class  \n",
       "0           0  \n",
       "1           0  \n",
       "2           0  \n",
       "3           0  \n",
       "4           0  \n",
       "...       ...  \n",
       "284802      0  \n",
       "284803      0  \n",
       "284804      0  \n",
       "284805      0  \n",
       "284806      0  \n",
       "\n",
       "[284807 rows x 31 columns]"
      ]
     },
     "execution_count": 40,
     "metadata": {},
     "output_type": "execute_result"
    }
   ],
   "source": [
    "fname = 'https://media.githubusercontent.com/media/AprendizajeProfundo/Alejandria/main/Redes_Neuronales/Datos/creditcard.csv'\n",
    "training = pd.read_csv(fname)\n",
    "training"
   ]
  },
  {
   "cell_type": "markdown",
   "metadata": {},
   "source": [
    "## <span style=\"color:#4361EE\">Preprocesamiento</span> "
   ]
  },
  {
   "cell_type": "markdown",
   "metadata": {},
   "source": [
    "### <span style=\"color:#4CC9F0\">Construye tensores para entrada y salida</span>\n"
   ]
  },
  {
   "cell_type": "code",
   "execution_count": 41,
   "metadata": {},
   "outputs": [
    {
     "name": "stdout",
     "output_type": "stream",
     "text": [
      "tamaño de los targets:  (284807,)\n",
      "tamaño de los features:  (284807, 30)\n"
     ]
    }
   ],
   "source": [
    "# Separa features y targest\n",
    "targets = training.pop('Class')\n",
    "targets = np.array(targets, dtype = 'uint8')\n",
    "targets.reshape((targets.shape[0],1))\n",
    "#\n",
    "features = np.array(training,dtype = 'float32' )\n",
    "#\n",
    "print(\"tamaño de los targets: \",targets.shape)\n",
    "print(\"tamaño de los features: \",features.shape)"
   ]
  },
  {
   "cell_type": "markdown",
   "metadata": {},
   "source": [
    "### <span style=\"color:#4CC9F0\">Prepara datos de entrenamiento y validación</span>"
   ]
  },
  {
   "cell_type": "code",
   "execution_count": 42,
   "metadata": {},
   "outputs": [
    {
     "name": "stdout",
     "output_type": "stream",
     "text": [
      "Number of training samples: 227846\n",
      "Number of validation samples: 56961\n"
     ]
    }
   ],
   "source": [
    "#\n",
    "num_val_samples = int(len(features) * 0.2)\n",
    "train_features = features[:-num_val_samples]\n",
    "train_targets = targets[:-num_val_samples]\n",
    "val_features = features[-num_val_samples:]\n",
    "val_targets = targets[-num_val_samples:]\n",
    "\n",
    "print(\"Number of training samples:\", len(train_features))\n",
    "print(\"Number of validation samples:\", len(val_features))"
   ]
  },
  {
   "cell_type": "markdown",
   "metadata": {},
   "source": [
    "### <span style=\"color:#4CC9F0\">Normaliza los datos</span>\n"
   ]
  },
  {
   "cell_type": "code",
   "execution_count": 43,
   "metadata": {},
   "outputs": [],
   "source": [
    "# crea el objeto StandardScaler\n",
    "scaler = StandardScaler()\n",
    "\n",
    "# Ajusta los parámetros del scaler\n",
    "scaler.fit(train_features)\n",
    "\n",
    "# escala training y test\n",
    "train_features = scaler.transform(train_features)\n",
    "val_features = scaler.transform(val_features )\n"
   ]
  },
  {
   "cell_type": "markdown",
   "metadata": {},
   "source": [
    "## <span style=\"color:#4361EE\">Analiza el desbalance en los targets</span>\n"
   ]
  },
  {
   "cell_type": "code",
   "execution_count": 44,
   "metadata": {},
   "outputs": [
    {
     "name": "stdout",
     "output_type": "stream",
     "text": [
      "Number of positive samples in training data: 417 (0.18% of total)\n"
     ]
    }
   ],
   "source": [
    "# Cuenta las frecuencias de los datos\n",
    "counts = np.bincount(train_targets)\n",
    "print(\n",
    "    \"Number of positive samples in training data: {} ({:.2f}% of total)\".format(\n",
    "        counts[1], 100 * float(counts[1]) / len(train_targets)\n",
    "    )\n",
    ")\n",
    "\n",
    "# Crea los pesos para el entrenamiento. Más peso a los menos frecuentes (1)\n",
    "weight_for_0 = 1.0 / counts[0]\n",
    "weight_for_1 = 1.0 / counts[1]"
   ]
  },
  {
   "cell_type": "code",
   "execution_count": 45,
   "metadata": {},
   "outputs": [
    {
     "name": "stdout",
     "output_type": "stream",
     "text": [
      "0.002398081534772182\n",
      "4.396976638863118e-06\n"
     ]
    }
   ],
   "source": [
    "print(weight_for_1)\n",
    "print(weight_for_0)"
   ]
  },
  {
   "cell_type": "markdown",
   "metadata": {},
   "source": [
    "## <span style=\"color:#4361EE\">Crea el modelo</span> "
   ]
  },
  {
   "cell_type": "code",
   "execution_count": 46,
   "metadata": {},
   "outputs": [],
   "source": [
    "inputs = Input(shape=(train_features.shape[1],),name='capa_entrada')\n",
    "\n",
    "# vamos construyendo capa por capa\n",
    "x = Activation('relu')(inputs)\n",
    "x = Dense(256, activation='relu',name='primera_capa_oculta')(x)\n",
    "x = Dropout(0.3)(x)\n",
    "x = Dense(256, activation='relu',name='segunda_capa_oculta')(x)\n",
    "x = Dropout(0.3)(x)\n",
    "outputs = Dense(1, activation='sigmoid', name='capa_salida')(x)\n",
    "\n",
    "# Creamos ahora el modelo\n",
    "model = Model(inputs=inputs, outputs=outputs)\n"
   ]
  },
  {
   "cell_type": "markdown",
   "metadata": {},
   "source": [
    "### <span style=\"color:#4CC9F0\">Summary</span>"
   ]
  },
  {
   "cell_type": "code",
   "execution_count": 47,
   "metadata": {},
   "outputs": [
    {
     "name": "stdout",
     "output_type": "stream",
     "text": [
      "Model: \"model_3\"\n",
      "_________________________________________________________________\n",
      " Layer (type)                Output Shape              Param #   \n",
      "=================================================================\n",
      " capa_entrada (InputLayer)   [(None, 30)]              0         \n",
      "                                                                 \n",
      " activation_3 (Activation)   (None, 30)                0         \n",
      "                                                                 \n",
      " primera_capa_oculta (Dense)  (None, 256)              7936      \n",
      "                                                                 \n",
      " dropout_6 (Dropout)         (None, 256)               0         \n",
      "                                                                 \n",
      " segunda_capa_oculta (Dense)  (None, 256)              65792     \n",
      "                                                                 \n",
      " dropout_7 (Dropout)         (None, 256)               0         \n",
      "                                                                 \n",
      " capa_salida (Dense)         (None, 1)                 257       \n",
      "                                                                 \n",
      "=================================================================\n",
      "Total params: 73,985\n",
      "Trainable params: 73,985\n",
      "Non-trainable params: 0\n",
      "_________________________________________________________________\n"
     ]
    },
    {
     "data": {
      "image/png": "[encoded data removed]",
      "text/plain": [
       "<IPython.core.display.Image object>"
      ]
     },
     "execution_count": 47,
     "metadata": {},
     "output_type": "execute_result"
    }
   ],
   "source": [
    "model.summary()\n",
    "plot_model(model, show_shapes=True) # de manera local correr plot_model(model, to_file='../Imagenes/fraude_model.png', show_shapes=True) para guargar el modelo"
   ]
  },
  {
   "cell_type": "markdown",
   "metadata": {},
   "source": [
    "## <span style=\"color:#4361EE\">Define métricas y compila</span> "
   ]
  },
  {
   "cell_type": "markdown",
   "metadata": {},
   "source": [
    "- **accuracy_score**: En la clasificación con múltiples etiquetas, esta función calcula la exactitud del subconjunto: el conjunto de etiquetas predichas para una muestra que coincide exactamente con el conjunto de etiquetas correspondiente en y_true.\n",
    "- **precision_score**: es la razón $\\frac{tp }{tp + fp}$ en donde $tp$ es el número de positivos verdadero y $fp$ el número de falsos positivos. El mejor valor es 1 y el peor valor es 0.\n",
    "- **recall_score**:  es la relación $\\frac{tp }{tp + fn}$ donde $tp$ es el número de verdaderos positivos y $fn$ el número de falsos negativos. El recuerdo es intuitivamente la capacidad del clasificador para encontrar todas las muestras positivas. El mejor valor es 1 y el peor valor es 0."
   ]
  },
  {
   "cell_type": "code",
   "execution_count": 48,
   "metadata": {},
   "outputs": [],
   "source": [
    "# métricas\n",
    "metrics = [\n",
    "    FalseNegatives(name=\"fn\"),\n",
    "    FalsePositives(name=\"fp\"),\n",
    "    TrueNegatives(name=\"tn\"),\n",
    "    TruePositives(name=\"tp\"),\n",
    "    Precision(name=\"precision\"),\n",
    "    Recall(name=\"recall\"),\n",
    "]\n",
    "\n",
    "model.compile(optimizer=Adam(1e-2), loss=\"binary_crossentropy\", metrics=metrics)"
   ]
  },
  {
   "cell_type": "markdown",
   "metadata": {},
   "source": [
    "## <span style=\"color:#4361EE\">Entrena</span>  "
   ]
  },
  {
   "cell_type": "markdown",
   "metadata": {},
   "source": [
    "Tiene en cuenta los pesos de las transacciones"
   ]
  },
  {
   "cell_type": "code",
   "execution_count": 49,
   "metadata": {},
   "outputs": [
    {
     "name": "stdout",
     "output_type": "stream",
     "text": [
      "Epoch 1/30\n",
      "112/112 - 7s - loss: 2.5541e-06 - fn: 51.0000 - fp: 29977.0000 - tn: 197452.0000 - tp: 366.0000 - precision: 0.0121 - recall: 0.8777 - val_loss: 0.0955 - val_fn: 11.0000 - val_fp: 946.0000 - val_tn: 55940.0000 - val_tp: 64.0000 - val_precision: 0.0634 - val_recall: 0.8533 - 7s/epoch - 60ms/step\n",
      "Epoch 2/30\n",
      "112/112 - 3s - loss: 1.6553e-06 - fn: 41.0000 - fp: 8089.0000 - tn: 219340.0000 - tp: 376.0000 - precision: 0.0444 - recall: 0.9017 - val_loss: 0.1670 - val_fn: 8.0000 - val_fp: 2619.0000 - val_tn: 54267.0000 - val_tp: 67.0000 - val_precision: 0.0249 - val_recall: 0.8933 - 3s/epoch - 26ms/step\n",
      "Epoch 3/30\n",
      "112/112 - 3s - loss: 1.5577e-06 - fn: 36.0000 - fp: 8208.0000 - tn: 219221.0000 - tp: 381.0000 - precision: 0.0444 - recall: 0.9137 - val_loss: 0.1892 - val_fn: 7.0000 - val_fp: 2225.0000 - val_tn: 54661.0000 - val_tp: 68.0000 - val_precision: 0.0297 - val_recall: 0.9067 - 3s/epoch - 23ms/step\n",
      "Epoch 4/30\n",
      "112/112 - 3s - loss: 1.4653e-06 - fn: 36.0000 - fp: 7981.0000 - tn: 219448.0000 - tp: 381.0000 - precision: 0.0456 - recall: 0.9137 - val_loss: 0.0552 - val_fn: 11.0000 - val_fp: 563.0000 - val_tn: 56323.0000 - val_tp: 64.0000 - val_precision: 0.1021 - val_recall: 0.8533 - 3s/epoch - 23ms/step\n",
      "Epoch 5/30\n",
      "112/112 - 3s - loss: 1.4634e-06 - fn: 35.0000 - fp: 7463.0000 - tn: 219966.0000 - tp: 382.0000 - precision: 0.0487 - recall: 0.9161 - val_loss: 0.0578 - val_fn: 12.0000 - val_fp: 577.0000 - val_tn: 56309.0000 - val_tp: 63.0000 - val_precision: 0.0984 - val_recall: 0.8400 - 3s/epoch - 23ms/step\n",
      "Epoch 6/30\n",
      "112/112 - 3s - loss: 1.2314e-06 - fn: 33.0000 - fp: 6277.0000 - tn: 221152.0000 - tp: 384.0000 - precision: 0.0576 - recall: 0.9209 - val_loss: 0.0390 - val_fn: 13.0000 - val_fp: 314.0000 - val_tn: 56572.0000 - val_tp: 62.0000 - val_precision: 0.1649 - val_recall: 0.8267 - 3s/epoch - 23ms/step\n",
      "Epoch 7/30\n",
      "112/112 - 3s - loss: 1.3070e-06 - fn: 35.0000 - fp: 6972.0000 - tn: 220457.0000 - tp: 382.0000 - precision: 0.0519 - recall: 0.9161 - val_loss: 0.0619 - val_fn: 11.0000 - val_fp: 769.0000 - val_tn: 56117.0000 - val_tp: 64.0000 - val_precision: 0.0768 - val_recall: 0.8533 - 3s/epoch - 24ms/step\n",
      "Epoch 8/30\n",
      "112/112 - 3s - loss: 1.2338e-06 - fn: 26.0000 - fp: 7421.0000 - tn: 220008.0000 - tp: 391.0000 - precision: 0.0501 - recall: 0.9376 - val_loss: 0.0302 - val_fn: 12.0000 - val_fp: 406.0000 - val_tn: 56480.0000 - val_tp: 63.0000 - val_precision: 0.1343 - val_recall: 0.8400 - 3s/epoch - 23ms/step\n",
      "Epoch 9/30\n",
      "112/112 - 3s - loss: 1.0523e-06 - fn: 29.0000 - fp: 6304.0000 - tn: 221125.0000 - tp: 388.0000 - precision: 0.0580 - recall: 0.9305 - val_loss: 0.0637 - val_fn: 9.0000 - val_fp: 1258.0000 - val_tn: 55628.0000 - val_tp: 66.0000 - val_precision: 0.0498 - val_recall: 0.8800 - 3s/epoch - 26ms/step\n",
      "Epoch 10/30\n",
      "112/112 - 3s - loss: 1.0304e-06 - fn: 26.0000 - fp: 6352.0000 - tn: 221077.0000 - tp: 391.0000 - precision: 0.0580 - recall: 0.9376 - val_loss: 0.0185 - val_fn: 12.0000 - val_fp: 250.0000 - val_tn: 56636.0000 - val_tp: 63.0000 - val_precision: 0.2013 - val_recall: 0.8400 - 3s/epoch - 25ms/step\n",
      "Epoch 11/30\n",
      "112/112 - 3s - loss: 9.6130e-07 - fn: 26.0000 - fp: 6456.0000 - tn: 220973.0000 - tp: 391.0000 - precision: 0.0571 - recall: 0.9376 - val_loss: 0.0316 - val_fn: 11.0000 - val_fp: 568.0000 - val_tn: 56318.0000 - val_tp: 64.0000 - val_precision: 0.1013 - val_recall: 0.8533 - 3s/epoch - 24ms/step\n",
      "Epoch 12/30\n",
      "112/112 - 3s - loss: 9.0055e-07 - fn: 20.0000 - fp: 6982.0000 - tn: 220447.0000 - tp: 397.0000 - precision: 0.0538 - recall: 0.9520 - val_loss: 0.0412 - val_fn: 11.0000 - val_fp: 885.0000 - val_tn: 56001.0000 - val_tp: 64.0000 - val_precision: 0.0674 - val_recall: 0.8533 - 3s/epoch - 24ms/step\n",
      "Epoch 13/30\n",
      "112/112 - 3s - loss: 7.6544e-07 - fn: 19.0000 - fp: 6132.0000 - tn: 221297.0000 - tp: 398.0000 - precision: 0.0609 - recall: 0.9544 - val_loss: 0.0227 - val_fn: 13.0000 - val_fp: 393.0000 - val_tn: 56493.0000 - val_tp: 62.0000 - val_precision: 0.1363 - val_recall: 0.8267 - 3s/epoch - 25ms/step\n",
      "Epoch 14/30\n",
      "112/112 - 3s - loss: 1.2361e-06 - fn: 25.0000 - fp: 8357.0000 - tn: 219072.0000 - tp: 392.0000 - precision: 0.0448 - recall: 0.9400 - val_loss: 0.0589 - val_fn: 10.0000 - val_fp: 1065.0000 - val_tn: 55821.0000 - val_tp: 65.0000 - val_precision: 0.0575 - val_recall: 0.8667 - 3s/epoch - 25ms/step\n",
      "Epoch 15/30\n",
      "112/112 - 3s - loss: 8.1801e-07 - fn: 21.0000 - fp: 7074.0000 - tn: 220355.0000 - tp: 396.0000 - precision: 0.0530 - recall: 0.9496 - val_loss: 0.0117 - val_fn: 13.0000 - val_fp: 189.0000 - val_tn: 56697.0000 - val_tp: 62.0000 - val_precision: 0.2470 - val_recall: 0.8267 - 3s/epoch - 24ms/step\n",
      "Epoch 16/30\n",
      "112/112 - 3s - loss: 7.7956e-07 - fn: 16.0000 - fp: 6113.0000 - tn: 221316.0000 - tp: 401.0000 - precision: 0.0616 - recall: 0.9616 - val_loss: 0.0336 - val_fn: 12.0000 - val_fp: 637.0000 - val_tn: 56249.0000 - val_tp: 63.0000 - val_precision: 0.0900 - val_recall: 0.8400 - 3s/epoch - 24ms/step\n",
      "Epoch 17/30\n",
      "112/112 - 3s - loss: 7.0684e-07 - fn: 17.0000 - fp: 6486.0000 - tn: 220943.0000 - tp: 400.0000 - precision: 0.0581 - recall: 0.9592 - val_loss: 0.0526 - val_fn: 10.0000 - val_fp: 1040.0000 - val_tn: 55846.0000 - val_tp: 65.0000 - val_precision: 0.0588 - val_recall: 0.8667 - 3s/epoch - 24ms/step\n",
      "Epoch 18/30\n",
      "112/112 - 3s - loss: 7.2948e-07 - fn: 13.0000 - fp: 6951.0000 - tn: 220478.0000 - tp: 404.0000 - precision: 0.0549 - recall: 0.9688 - val_loss: 0.1569 - val_fn: 10.0000 - val_fp: 3166.0000 - val_tn: 53720.0000 - val_tp: 65.0000 - val_precision: 0.0201 - val_recall: 0.8667 - 3s/epoch - 25ms/step\n",
      "Epoch 19/30\n",
      "112/112 - 3s - loss: 7.8295e-07 - fn: 15.0000 - fp: 8138.0000 - tn: 219291.0000 - tp: 402.0000 - precision: 0.0471 - recall: 0.9640 - val_loss: 0.0425 - val_fn: 10.0000 - val_fp: 980.0000 - val_tn: 55906.0000 - val_tp: 65.0000 - val_precision: 0.0622 - val_recall: 0.8667 - 3s/epoch - 26ms/step\n",
      "Epoch 20/30\n",
      "112/112 - 3s - loss: 6.0770e-07 - fn: 15.0000 - fp: 5949.0000 - tn: 221480.0000 - tp: 402.0000 - precision: 0.0633 - recall: 0.9640 - val_loss: 0.0470 - val_fn: 10.0000 - val_fp: 1030.0000 - val_tn: 55856.0000 - val_tp: 65.0000 - val_precision: 0.0594 - val_recall: 0.8667 - 3s/epoch - 26ms/step\n",
      "Epoch 21/30\n",
      "112/112 - 3s - loss: 7.9160e-07 - fn: 13.0000 - fp: 8099.0000 - tn: 219330.0000 - tp: 404.0000 - precision: 0.0475 - recall: 0.9688 - val_loss: 0.0493 - val_fn: 10.0000 - val_fp: 1259.0000 - val_tn: 55627.0000 - val_tp: 65.0000 - val_precision: 0.0491 - val_recall: 0.8667 - 3s/epoch - 26ms/step\n",
      "Epoch 22/30\n",
      "112/112 - 3s - loss: 6.7883e-07 - fn: 13.0000 - fp: 6543.0000 - tn: 220886.0000 - tp: 404.0000 - precision: 0.0582 - recall: 0.9688 - val_loss: 0.0334 - val_fn: 11.0000 - val_fp: 823.0000 - val_tn: 56063.0000 - val_tp: 64.0000 - val_precision: 0.0722 - val_recall: 0.8533 - 3s/epoch - 28ms/step\n",
      "Epoch 23/30\n",
      "112/112 - 3s - loss: 6.1441e-07 - fn: 13.0000 - fp: 6603.0000 - tn: 220826.0000 - tp: 404.0000 - precision: 0.0577 - recall: 0.9688 - val_loss: 0.0232 - val_fn: 12.0000 - val_fp: 439.0000 - val_tn: 56447.0000 - val_tp: 63.0000 - val_precision: 0.1255 - val_recall: 0.8400 - 3s/epoch - 28ms/step\n",
      "Epoch 24/30\n",
      "112/112 - 3s - loss: 6.6177e-07 - fn: 13.0000 - fp: 6868.0000 - tn: 220561.0000 - tp: 404.0000 - precision: 0.0556 - recall: 0.9688 - val_loss: 0.0263 - val_fn: 12.0000 - val_fp: 650.0000 - val_tn: 56236.0000 - val_tp: 63.0000 - val_precision: 0.0884 - val_recall: 0.8400 - 3s/epoch - 28ms/step\n",
      "Epoch 25/30\n",
      "112/112 - 3s - loss: 4.3401e-07 - fn: 7.0000 - fp: 5074.0000 - tn: 222355.0000 - tp: 410.0000 - precision: 0.0748 - recall: 0.9832 - val_loss: 0.0213 - val_fn: 12.0000 - val_fp: 490.0000 - val_tn: 56396.0000 - val_tp: 63.0000 - val_precision: 0.1139 - val_recall: 0.8400 - 3s/epoch - 29ms/step\n",
      "Epoch 26/30\n",
      "112/112 - 3s - loss: 4.8077e-07 - fn: 6.0000 - fp: 5581.0000 - tn: 221848.0000 - tp: 411.0000 - precision: 0.0686 - recall: 0.9856 - val_loss: 0.0269 - val_fn: 11.0000 - val_fp: 542.0000 - val_tn: 56344.0000 - val_tp: 64.0000 - val_precision: 0.1056 - val_recall: 0.8533 - 3s/epoch - 29ms/step\n",
      "Epoch 27/30\n",
      "112/112 - 3s - loss: 5.6617e-07 - fn: 7.0000 - fp: 6253.0000 - tn: 221176.0000 - tp: 410.0000 - precision: 0.0615 - recall: 0.9832 - val_loss: 0.0271 - val_fn: 11.0000 - val_fp: 564.0000 - val_tn: 56322.0000 - val_tp: 64.0000 - val_precision: 0.1019 - val_recall: 0.8533 - 3s/epoch - 29ms/step\n",
      "Epoch 28/30\n",
      "112/112 - 3s - loss: 5.9852e-07 - fn: 10.0000 - fp: 6512.0000 - tn: 220917.0000 - tp: 407.0000 - precision: 0.0588 - recall: 0.9760 - val_loss: 0.0588 - val_fn: 10.0000 - val_fp: 1398.0000 - val_tn: 55488.0000 - val_tp: 65.0000 - val_precision: 0.0444 - val_recall: 0.8667 - 3s/epoch - 29ms/step\n",
      "Epoch 29/30\n",
      "112/112 - 3s - loss: 5.4537e-07 - fn: 9.0000 - fp: 6136.0000 - tn: 221293.0000 - tp: 408.0000 - precision: 0.0623 - recall: 0.9784 - val_loss: 0.0213 - val_fn: 12.0000 - val_fp: 487.0000 - val_tn: 56399.0000 - val_tp: 63.0000 - val_precision: 0.1145 - val_recall: 0.8400 - 3s/epoch - 30ms/step\n",
      "Epoch 30/30\n",
      "112/112 - 3s - loss: 4.6289e-07 - fn: 7.0000 - fp: 5269.0000 - tn: 222160.0000 - tp: 410.0000 - precision: 0.0722 - recall: 0.9832 - val_loss: 0.0263 - val_fn: 11.0000 - val_fp: 569.0000 - val_tn: 56317.0000 - val_tp: 64.0000 - val_precision: 0.1011 - val_recall: 0.8533 - 3s/epoch - 30ms/step\n"
     ]
    }
   ],
   "source": [
    "#callbacks = [callbacks.ModelCheckpoint(\"../Datos/fraude/fraud_model_at_epoch_{epoch}.h5\")] #Correr desde local\n",
    "class_weight = {0: weight_for_0, 1: weight_for_1}\n",
    "\n",
    "history = model.fit(\n",
    "    train_features,\n",
    "    train_targets,\n",
    "    batch_size=2048,\n",
    "    epochs=30,\n",
    "    verbose=2,\n",
    "    #callbacks=callbacks.ModelCheckpoint(), #Correr desde local\n",
    "    validation_data=(val_features, val_targets),\n",
    "    class_weight=class_weight,\n",
    ")"
   ]
  },
  {
   "cell_type": "markdown",
   "metadata": {},
   "source": [
    "## <span style=\"color:#4361EE\">Predicciones</span>  "
   ]
  },
  {
   "cell_type": "code",
   "execution_count": 50,
   "metadata": {},
   "outputs": [
    {
     "name": "stdout",
     "output_type": "stream",
     "text": [
      "1781/1781 [==============================] - 4s 2ms/step\n",
      "7121/7121 [==============================] - 17s 2ms/step\n"
     ]
    },
    {
     "data": {
      "text/plain": [
       "array([0., 0., 0., ..., 0., 0., 0.], dtype=float32)"
      ]
     },
     "execution_count": 50,
     "metadata": {},
     "output_type": "execute_result"
    }
   ],
   "source": [
    "# Predicting the Test set results\n",
    "y_pred_val = model.predict(val_features)\n",
    "y_pred_val[y_pred_val > 0.5] = 1\n",
    "y_pred_val[y_pred_val <=0.5] = 0\n",
    "y_pred_val.reshape((y_pred_val.shape[0]))\n",
    "# predict the training set\n",
    "y_pred_train = model.predict(train_features)\n",
    "y_pred_train[y_pred_train > 0.5] = 1\n",
    "y_pred_train[y_pred_train <=0.5] = 0\n",
    "y_pred_train.reshape((y_pred_train.shape[0]))\n"
   ]
  },
  {
   "cell_type": "markdown",
   "metadata": {},
   "source": [
    "## <span style=\"color:#4361EE\">Resultados</span>  "
   ]
  },
  {
   "cell_type": "markdown",
   "metadata": {},
   "source": [
    "Calcula métricas"
   ]
  },
  {
   "cell_type": "markdown",
   "metadata": {},
   "source": [
    "</span>  "
   ]
  },
  {
   "cell_type": "code",
   "execution_count": 51,
   "metadata": {},
   "outputs": [],
   "source": [
    "#\n",
    "# elimina dimensiones sobrantes\n",
    "val_targets = np.squeeze(val_targets)\n",
    "y_pred_val = np.squeeze(y_pred_val)\n",
    "train_targets = np.squeeze(train_targets)\n",
    "y_pred_train = np.squeeze(y_pred_train)\n",
    "#\n",
    "# falsos negativos validación\n",
    "fn_val = FalseNegatives()\n",
    "fn_val.update_state(val_targets, y_pred_val)\n",
    "fn_val = fn_val.result().numpy()\n",
    "#\n",
    "# falsos negativos entrenamiento\n",
    "fn_train = FalseNegatives()\n",
    "fn_train.update_state(train_targets, y_pred_train)\n",
    "fn_train = fn_train.result().numpy()\n",
    "# \n",
    "# falsos positivos validación\n",
    "fp_val = FalsePositives()\n",
    "fp_val.update_state(val_targets, y_pred_val)\n",
    "fp_val = fp_val.result().numpy()\n",
    "#\n",
    "# falsos positivos entrenamiento\n",
    "fp_train = FalsePositives()\n",
    "fp_train.update_state(train_targets, y_pred_train)\n",
    "fp_train = fp_train.result().numpy()\n",
    "# \n",
    "# Precision validación\n",
    "pre_val = Precision()\n",
    "pre_val.update_state(val_targets, y_pred_val)\n",
    "pre_val = pre_val.result().numpy()\n",
    "#\n",
    "# falsos negativos entrenamiento\n",
    "pre_train = Precision()\n",
    "pre_train.update_state(train_targets, y_pred_train)\n",
    "pre_train = pre_train.result().numpy()\n",
    "# \n",
    "# recall validación\n",
    "re_val = Recall()\n",
    "re_val.update_state(val_targets, y_pred_val)\n",
    "re_val = re_val.result().numpy()\n",
    "#\n",
    "# recall entrenamiento\n",
    "re_train = Recall()\n",
    "re_train.update_state(train_targets, y_pred_train)\n",
    "re_train = re_train.result().numpy()\n",
    "# \n",
    "\n",
    "# diccionario\n",
    "metricas = {'Falsos_positivos_train':fp_train, 'Falsos_positivos_val':fp_val,\n",
    "           '%Falsos_positivos': np.round((fp_train+fp_val)/ len(training)*100,4),\n",
    "           'Falsos_negativos_train':fn_train, 'Falsos_negativos_val':fn_val,\n",
    "           '%Falsos_negativos': np.round((fn_train+fn_val)/ len(training)*100,4),\n",
    "           'Precision_train': pre_train, 'Precision_val': pre_val,\n",
    "           'Recall_train': re_train, 'Recall_val':re_val }"
   ]
  },
  {
   "cell_type": "code",
   "execution_count": 52,
   "metadata": {},
   "outputs": [
    {
     "data": {
      "text/plain": [
       "{'Falsos_positivos_train': 3746.0,\n",
       " 'Falsos_positivos_val': 569.0,\n",
       " '%Falsos_positivos': 1.5151,\n",
       " 'Falsos_negativos_train': 2.0,\n",
       " 'Falsos_negativos_val': 11.0,\n",
       " '%Falsos_negativos': 0.0046,\n",
       " 'Precision_train': 0.09973564,\n",
       " 'Precision_val': 0.10110585,\n",
       " 'Recall_train': 0.99520385,\n",
       " 'Recall_val': 0.85333335}"
      ]
     },
     "execution_count": 52,
     "metadata": {},
     "output_type": "execute_result"
    }
   ],
   "source": [
    "metricas"
   ]
  },
  {
   "cell_type": "markdown",
   "metadata": {},
   "source": [
    "## <span style=\"color:#4361EE\">Evaluación del modelo</span>  "
   ]
  },
  {
   "cell_type": "code",
   "execution_count": 53,
   "metadata": {},
   "outputs": [],
   "source": [
    "\n",
    "def plot_metric(history, metric):\n",
    "    train_metrics = history.history[metric]\n",
    "    val_metrics = history.history['val_'+metric]\n",
    "    epochs = range(1, len(train_metrics) + 1)\n",
    "    plt.plot(epochs, train_metrics, 'bo--')\n",
    "    plt.plot(epochs, val_metrics, 'ro-')\n",
    "    plt.title('Entrenamiento y validación '+ metric)\n",
    "    plt.xlabel(\"Epochs\")\n",
    "    plt.ylabel(metric)\n",
    "    plt.legend([\"train_\"+metric, 'val_'+metric])\n",
    "    plt.show()"
   ]
  },
  {
   "cell_type": "code",
   "execution_count": 54,
   "metadata": {},
   "outputs": [
    {
     "data": {
      "image/png": "[encoded data removed]",
      "text/plain": [
       "<Figure size 640x480 with 1 Axes>"
      ]
     },
     "metadata": {},
     "output_type": "display_data"
    }
   ],
   "source": [
    "plot_metric(history, 'loss')"
   ]
  },
  {
   "cell_type": "code",
   "execution_count": 55,
   "metadata": {},
   "outputs": [
    {
     "data": {
      "image/png": "[encoded data removed]",
      "text/plain": [
       "<Figure size 640x480 with 1 Axes>"
      ]
     },
     "metadata": {},
     "output_type": "display_data"
    }
   ],
   "source": [
    "plot_metric(history, 'recall')"
   ]
  },
  {
   "cell_type": "markdown",
   "metadata": {},
   "source": [
    "## <span style=\"color:#4361EE\">Conclusiones</span>  "
   ]
  },
  {
   "cell_type": "markdown",
   "metadata": {},
   "source": [
    "Al final del entrenamiento, de 56,961 transacciones de validación, se obtuvo:\n",
    "\n",
    "- Identificar correctamente a 66 de ellos como fraudulentos\n",
    "- Faltan 9 transacciones fraudulentas\n",
    "- A costa de marcar incorrectamente 441 transacciones legítimas\n",
    "\n",
    "En el mundo real, se le daría un peso aún mayor a la clase 1,\n",
    "para reflejar que los falsos negativos son más costosos que los falsos positivos.\n",
    "\n",
    "**La próxima vez que su tarjeta de crédito sea rechazada en una compra en línea, esta es la razón.**"
   ]
  }
 ],
 "metadata": {
  "kernelspec": {
   "display_name": "Python 3.9.13 ('work')",
   "language": "python",
   "name": "python3"
  },
  "language_info": {
   "codemirror_mode": {
    "name": "ipython",
    "version": 3
   },
   "file_extension": ".py",
   "mimetype": "text/x-python",
   "name": "python",
   "nbconvert_exporter": "python",
   "pygments_lexer": "ipython3",
   "version": "3.9.13"
  },
  "vscode": {
   "interpreter": {
    "hash": "3620b340ed2ed479d71e72c732c6d6a6eac39d8adbece51414abdea5ed84aec5"
   }
  }
 },
 "nbformat": 4,
 "nbformat_minor": 4
}
