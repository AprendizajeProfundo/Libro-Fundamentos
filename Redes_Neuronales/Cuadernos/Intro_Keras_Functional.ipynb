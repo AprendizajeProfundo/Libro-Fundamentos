{
 "cells": [
  {
   "cell_type": "markdown",
   "id": "spiritual-safety",
   "metadata": {},
   "source": [
    "# <span style=\"color:#F72585\"><center>Introducción a la API funcional de Keras</center></span>"
   ]
  },
  {
   "cell_type": "markdown",
   "id": "86449a07",
   "metadata": {},
   "source": [
    "<figure>\n",
    "<center>\n",
    "<img src=\"https://raw.githubusercontent.com/AprendizajeProfundo/Alejandria/main/Redes_Neuronales/Imagenes/Funcional.JPG\" width=\"700\" height=\"400\" align=\"center\" /> \n",
    "</center>   \n",
    "</figure>\n",
    "<center>\n",
    "\n",
    "Fuente: <a href=\"https://commons.wikimedia.org/wiki/File:Functional_group_with_sulfur_compounds_sulfone_sulfonic_acid_sulfonamide_2.JPG\">Bin im Garten</a>, <a href=\"https://creativecommons.org/licenses/by-sa/3.0\">CC BY-SA 3.0</a>, via Wikimedia Commons\n",
    "\n",
    "</center>"
   ]
  },
  {
   "cell_type": "markdown",
   "id": "pediatric-obligation",
   "metadata": {},
   "source": [
    "## <span style=\"color:#4361EE\">Introducción</span>"
   ]
  },
  {
   "cell_type": "markdown",
   "id": "innovative-prophet",
   "metadata": {},
   "source": [
    "Este es un notebook de Google Colaboratory. Los programas de Python se ejecutan directamente en tu navegador,  una gran manera de aprender y utilizar TensorFlow. Para poder seguir este tutorial, ejecuta este notebook en Google Colab. Basado en [Tensorflow- quick start expertos](https://www.tensorflow.org/tutorials/quickstart/advanced)\n"
   ]
  },
  {
   "cell_type": "code",
   "execution_count": 1,
   "id": "valid-checkout",
   "metadata": {},
   "outputs": [
    {
     "name": "stderr",
     "output_type": "stream",
     "text": [
      "c:\\Users\\User\\anaconda3\\envs\\work\\lib\\site-packages\\scipy\\__init__.py:146: UserWarning: A NumPy version >=1.16.5 and <1.23.0 is required for this version of SciPy (detected version 1.23.3\n",
      "  warnings.warn(f\"A NumPy version >={np_minversion} and <{np_maxversion}\"\n"
     ]
    },
    {
     "name": "stdout",
     "output_type": "stream",
     "text": [
      "Version de Tensorflow =  2.9.1\n"
     ]
    }
   ],
   "source": [
    "from __future__ import absolute_import, division, print_function\n",
    "\n",
    "import tensorflow as tf\n",
    "print('Version de Tensorflow = ', tf.__version__)\n",
    "\n",
    "# Objetos de la API de Keras\n",
    "from tensorflow.keras.layers import Dense, Flatten, Conv2D\n",
    "from tensorflow.keras import Model\n",
    "from tensorflow.keras.losses import SparseCategoricalCrossentropy\n",
    "from tensorflow.keras.optimizers import Adam\n",
    "from tensorflow.keras.utils import plot_model\n",
    "\n",
    "# datos mnist\n",
    "from tensorflow.keras.datasets import mnist\n",
    "\n",
    "# Manejo de datasets como tensores de tf\n",
    "dataset = tf.data.Dataset.from_tensor_slices\n",
    "\n",
    "# Métricas para medir pérdida y precisión\n",
    "loss_metric     = tf.keras.metrics.Mean\n",
    "accuracy_metric = tf.keras.metrics.SparseCategoricalAccuracy"
   ]
  },
  {
   "cell_type": "markdown",
   "id": "billion-porcelain",
   "metadata": {},
   "source": [
    "## <span style=\"color:#4361EE\">Prepara datos de MNIST</span> "
   ]
  },
  {
   "cell_type": "code",
   "execution_count": 2,
   "id": "included-columbia",
   "metadata": {},
   "outputs": [],
   "source": [
    "\n",
    "(x_train, y_train), (x_test, y_test) = mnist.load_data()\n",
    "x_train, x_test = x_train/255.0, x_test/255.0\n",
    "\n",
    "# Agrega una dimensión para manejo de canales de imágenes en tensorflow\n",
    "x_train = x_train[...,tf.newaxis]\n",
    "x_test = x_test[...,tf.newaxis]"
   ]
  },
  {
   "cell_type": "code",
   "execution_count": 3,
   "id": "personalized-concrete",
   "metadata": {},
   "outputs": [
    {
     "data": {
      "text/plain": [
       "(10000, 28, 28, 1)"
      ]
     },
     "execution_count": 3,
     "metadata": {},
     "output_type": "execute_result"
    }
   ],
   "source": [
    "x_test.shape"
   ]
  },
  {
   "cell_type": "markdown",
   "id": "recent-narrow",
   "metadata": {},
   "source": [
    "## <span style=\"color:#4361EE\">Separa lotes de datos  y mezclar el conjunto de datos</span>"
   ]
  },
  {
   "cell_type": "markdown",
   "id": "reliable-syracuse",
   "metadata": {},
   "source": [
    "Usamos *tf.data*.  Revise cuidadosamente el tutorial  [tf.data: compila canalizaciones de entrada de TensorFlow](https://www.tensorflow.org/guide/data)"
   ]
  },
  {
   "cell_type": "code",
   "execution_count": 4,
   "id": "indonesian-toner",
   "metadata": {},
   "outputs": [],
   "source": [
    "train_ds = dataset((x_train, y_train)).shuffle(10000).batch(32)\n",
    "\n",
    "test_ds  = dataset((x_test, y_test)).shuffle(10000).batch(32)"
   ]
  },
  {
   "cell_type": "code",
   "execution_count": 5,
   "id": "italic-power",
   "metadata": {},
   "outputs": [
    {
     "data": {
      "text/plain": [
       "<BatchDataset element_spec=(TensorSpec(shape=(None, 28, 28, 1), dtype=tf.float64, name=None), TensorSpec(shape=(None,), dtype=tf.uint8, name=None))>"
      ]
     },
     "execution_count": 5,
     "metadata": {},
     "output_type": "execute_result"
    }
   ],
   "source": [
    "test_ds"
   ]
  },
  {
   "cell_type": "markdown",
   "id": "integrated-amino",
   "metadata": {},
   "source": [
    "## <span style=\"color:#4361EE\">API Funcional de Keras. Sub-clases</span>"
   ]
  },
  {
   "cell_type": "markdown",
   "id": "economic-writer",
   "metadata": {},
   "source": [
    "Vamos a derivar nuestro model de la clase Model de la API funcional de Keras."
   ]
  },
  {
   "cell_type": "code",
   "execution_count": 6,
   "id": "consolidated-affect",
   "metadata": {},
   "outputs": [],
   "source": [
    "class MyModel(Model):\n",
    "    def __init__(self):\n",
    "        super(MyModel,self).__init__()\n",
    "        self.conv1 = Conv2D(32, 3, activation='relu')\n",
    "        self.flatten= Flatten()\n",
    "        self.d1 = Dense(128, activation='relu')\n",
    "        self.d2 = Dense(10, activation='softmax')\n",
    "    \n",
    "    def call(self,x):\n",
    "        x = self.conv1(x)\n",
    "        x = self.flatten(x)\n",
    "        x = self.d1(x)\n",
    "        return self.d2(x)\n",
    "\n",
    "# crea una instancia del modelo\n",
    "model = MyModel()"
   ]
  },
  {
   "cell_type": "markdown",
   "id": "graphic-background",
   "metadata": {},
   "source": [
    "## <span style=\"color:#4361EE\">Optimizador y función de pérdida</span>"
   ]
  },
  {
   "cell_type": "markdown",
   "id": "fundamental-width",
   "metadata": {},
   "source": [
    "Usaremos la entropía cruzada con varias clases (10 en este caso) y el optimizador Adam. La función *SparseCategoricalCrossentropy* recibe como entrada enteros y construye internamente la [codificación one-hot](https://en.wikipedia.org/wiki/One-hot). Puede usar la función *CategoricalCrossentropy* si desea integrar directamente las etiquetas en codificación one-hot.\n",
    "\n",
    "Asegúrese de entender la *entropía cruzada* y su relación con la *codificación one-hot*. \n",
    "\n",
    "En caso de duda, consulte al instructor."
   ]
  },
  {
   "cell_type": "code",
   "execution_count": 7,
   "id": "polar-nelson",
   "metadata": {},
   "outputs": [],
   "source": [
    "loss_object = SparseCategoricalCrossentropy()\n",
    "\n",
    "optimizer = Adam()"
   ]
  },
  {
   "cell_type": "markdown",
   "id": "excess-colleague",
   "metadata": {},
   "source": [
    "Suponga por ejemplo que tiene tres categorías: 1,2,3. Discuta el siguiente fragmento (snippet) de código.\n",
    "    "
   ]
  },
  {
   "cell_type": "code",
   "execution_count": 8,
   "id": "amateur-array",
   "metadata": {},
   "outputs": [
    {
     "data": {
      "text/plain": [
       "1.1769392"
      ]
     },
     "execution_count": 8,
     "metadata": {},
     "output_type": "execute_result"
    }
   ],
   "source": [
    "y_true = [1, 2]\n",
    "y_pred = [[0.05, 0.95, 0], [0.1, 0.8, 0.1]]\n",
    "\n",
    "loss_object(y_true, y_pred).numpy()"
   ]
  },
  {
   "cell_type": "markdown",
   "id": "extensive-thursday",
   "metadata": {},
   "source": [
    "Puede verificar que en este caso el resultado se obtiene de la siguiente forma. Explique por favor."
   ]
  },
  {
   "cell_type": "code",
   "execution_count": 9,
   "id": "breathing-frederick",
   "metadata": {},
   "outputs": [
    {
     "data": {
      "text/plain": [
       "1.176939193690798"
      ]
     },
     "execution_count": 9,
     "metadata": {},
     "output_type": "execute_result"
    }
   ],
   "source": [
    "import numpy as np\n",
    "\n",
    "-(np.log(0.95) + np.log(0.1))/2"
   ]
  },
  {
   "cell_type": "markdown",
   "id": "convenient-sperm",
   "metadata": {},
   "source": [
    "O lo que es lo mismo"
   ]
  },
  {
   "cell_type": "code",
   "execution_count": 10,
   "id": "ranking-spank",
   "metadata": {},
   "outputs": [
    {
     "data": {
      "text/plain": [
       "1.176939193690798"
      ]
     },
     "execution_count": 10,
     "metadata": {},
     "output_type": "execute_result"
    }
   ],
   "source": [
    "-(np.log(y_pred[0][y_true[0]]) + np.log(y_pred[1][y_true[1]]))/len(y_pred)"
   ]
  },
  {
   "cell_type": "markdown",
   "id": "thermal-north",
   "metadata": {},
   "source": [
    "## <span style=\"color:#4361EE\">Métricas para medir pérdida y precisión</span>"
   ]
  },
  {
   "cell_type": "markdown",
   "id": "express-hunger",
   "metadata": {},
   "source": [
    "Escoge métricas para medir la perdida y exactitud del modelo. Estas métricas acumulan los valores cada epoch y después imprimen el resultado total.\n"
   ]
  },
  {
   "cell_type": "code",
   "execution_count": 11,
   "id": "opened-galaxy",
   "metadata": {},
   "outputs": [],
   "source": [
    "train_loss = loss_metric(name='train_loss')\n",
    "train_accuracy = accuracy_metric(name='train_accuracy')\n",
    "\n",
    "test_loss = loss_metric(name='test_loss')\n",
    "test_accuracy = accuracy_metric(name='loss_accuracy')\n"
   ]
  },
  {
   "cell_type": "markdown",
   "id": "later-disabled",
   "metadata": {},
   "source": [
    "## <span style=\"color:#4361EE\">Función de entrenamiento: diferenciación automática con tf.GradientTape</span>"
   ]
  },
  {
   "cell_type": "markdown",
   "id": "signed-sierra",
   "metadata": {},
   "source": [
    "La función de entrenamiento es decorada con el decorador *@tf.function*  Este decorado compila la función como un grafo de TensorFlow invocable."
   ]
  },
  {
   "cell_type": "code",
   "execution_count": 12,
   "id": "multiple-ultimate",
   "metadata": {},
   "outputs": [],
   "source": [
    "@tf.function\n",
    "def train_step(images, labels):\n",
    "    with tf.GradientTape() as tape:\n",
    "        predictions = model(images)\n",
    "        loss = loss_object(labels, predictions)\n",
    "    gradients = tape.gradient(loss, model.trainable_variables)\n",
    "    optimizer.apply_gradients(zip(gradients, model.trainable_variables))\n",
    "    \n",
    "    train_loss(loss)\n",
    "    train_accuracy(labels, predictions)\n",
    "    "
   ]
  },
  {
   "cell_type": "markdown",
   "id": "square-cologne",
   "metadata": {},
   "source": [
    "## <span style=\"color:#4361EE\">Función de prueba (test)</span>"
   ]
  },
  {
   "cell_type": "code",
   "execution_count": 13,
   "id": "developing-watts",
   "metadata": {},
   "outputs": [],
   "source": [
    "@tf.function\n",
    "def test_step(images, labels):\n",
    "    predictions = model(images)\n",
    "    t_loss = loss_object(labels, predictions)\n",
    "\n",
    "    test_loss(t_loss)\n",
    "    test_accuracy(labels, predictions)"
   ]
  },
  {
   "cell_type": "markdown",
   "id": "uniform-sentence",
   "metadata": {},
   "source": [
    "## <span style=\"color:#4361EE\">Entrena el modelo</span>"
   ]
  },
  {
   "cell_type": "code",
   "execution_count": 14,
   "id": "amended-definition",
   "metadata": {},
   "outputs": [],
   "source": [
    "def fit(train_dataset, test_dataset, epochs):\n",
    "    for epoch in range(epochs):\n",
    "        for images, labels in train_dataset:\n",
    "            train_step(images, labels)\n",
    "        \n",
    "        for images, labels in test_dataset:\n",
    "            test_step(images, labels)\n",
    "        \n",
    "        template = 'Epoch {}, Pérdida: {}, Exactitud: {}, Pérdida de prueba: {}, Exactitud de prueba {}'\n",
    "        print(template.format(epoch+1,\n",
    "                              train_loss.result(),\n",
    "                              train_accuracy.result(),\n",
    "                              test_loss.result(),\n",
    "                              test_accuracy.result()))\n",
    "        \n",
    "        # Reinicia las métricas para el siguiente paso\n",
    "        train_loss.reset_states()\n",
    "        train_accuracy.reset_states()\n",
    "        test_loss.reset_states()\n",
    "        test_accuracy.reset_states()"
   ]
  },
  {
   "cell_type": "code",
   "execution_count": 15,
   "id": "adult-saying",
   "metadata": {},
   "outputs": [
    {
     "name": "stdout",
     "output_type": "stream",
     "text": [
      "Epoch 1, Pérdida: 0.13836877048015594, Exactitud: 0.9588500261306763, Pérdida de prueba: 0.06696019321680069, Exactitud de prueba 0.9782000184059143\n",
      "Epoch 2, Pérdida: 0.042073335498571396, Exactitud: 0.9869499802589417, Pérdida de prueba: 0.049123987555503845, Exactitud de prueba 0.9832000136375427\n",
      "Epoch 3, Pérdida: 0.020745323970913887, Exactitud: 0.9932833313941956, Pérdida de prueba: 0.05571064352989197, Exactitud de prueba 0.9828000068664551\n",
      "Epoch 4, Pérdida: 0.012428789399564266, Exactitud: 0.9957666397094727, Pérdida de prueba: 0.062411025166511536, Exactitud de prueba 0.9830999970436096\n",
      "Epoch 5, Pérdida: 0.008782007731497288, Exactitud: 0.9970999956130981, Pérdida de prueba: 0.07019472122192383, Exactitud de prueba 0.9803000092506409\n"
     ]
    }
   ],
   "source": [
    "fit(train_ds, test_ds, epochs = 5)"
   ]
  }
 ],
 "metadata": {
  "kernelspec": {
   "display_name": "Python 3.9.13 ('work')",
   "language": "python",
   "name": "python3"
  },
  "language_info": {
   "codemirror_mode": {
    "name": "ipython",
    "version": 3
   },
   "file_extension": ".py",
   "mimetype": "text/x-python",
   "name": "python",
   "nbconvert_exporter": "python",
   "pygments_lexer": "ipython3",
   "version": "3.9.13"
  },
  "vscode": {
   "interpreter": {
    "hash": "3620b340ed2ed479d71e72c732c6d6a6eac39d8adbece51414abdea5ed84aec5"
   }
  }
 },
 "nbformat": 4,
 "nbformat_minor": 5
}
